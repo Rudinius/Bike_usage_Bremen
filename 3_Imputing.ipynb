{
 "cells": [
  {
   "cell_type": "markdown",
   "id": "kfNXlORSt6Xd",
   "metadata": {
    "id": "kfNXlORSt6Xd"
   },
   "source": [
    "# Notebook"
   ]
  },
  {
   "cell_type": "markdown",
   "id": "ggM4yocbt47x",
   "metadata": {
    "id": "ggM4yocbt47x"
   },
   "source": [
    "In this notebook, the prepared datasets from [1_Data_Prep](https://github.com/Rudinius/Bike_usage_Bremen/blob/4f39d66836e0585770c37d1cf261b0c0dd95101f/1_Data_Prep.ipynb) are loaded for imputing and preparing for ML models."
   ]
  },
  {
   "cell_type": "markdown",
   "id": "0c910711",
   "metadata": {
    "id": "0c910711"
   },
   "source": [
    "<a name=\"content\"></a>\n",
    "# Content\n",
    "\n",
    "* [1. Import libraries](#1.)\n",
    "* [2. Import processed datasets](#2.)\n",
    "* [3. Adding time features](#3.)\n",
    "* [4. Imputing missing and non-plausible values](#4.)\n",
    "* [5. Sin and cosine transformation](#5.)\n",
    "* [6. Transforming categorical features](#6.)\n",
    "* [7. Export imputed dataset](#7.)\n",
    "* [8. Pipeline (Optional)](#8.)\n"
   ]
  },
  {
   "cell_type": "markdown",
   "id": "85f76996",
   "metadata": {
    "id": "85f76996"
   },
   "source": [
    "<a name=\"1.\"></a>\n",
    "# 1.&nbsp;Import libraries\n",
    "\n",
    "[Content](#content)"
   ]
  },
  {
   "cell_type": "code",
   "execution_count": 40,
   "id": "3731ea33",
   "metadata": {
    "colab": {
     "base_uri": "https://localhost:8080/"
    },
    "id": "3731ea33",
    "outputId": "c1cee9b1-49cc-4bd8-8966-863b4effd992"
   },
   "outputs": [],
   "source": [
    "# Import libraries\n",
    "import datetime\n",
    "import numpy as np\n",
    "import pandas as pd\n",
    "from sklearn.preprocessing import OneHotEncoder\n",
    "import plotly.express as px\n",
    "from ipywidgets import interact, widgets"
   ]
  },
  {
   "cell_type": "code",
   "execution_count": 41,
   "id": "QBo4Ye_uuvZ8",
   "metadata": {
    "colab": {
     "base_uri": "https://localhost:8080/"
    },
    "id": "QBo4Ye_uuvZ8",
    "outputId": "aa637589-f4bf-4775-d7f1-febabdb4a156"
   },
   "outputs": [
    {
     "ename": "ImportError",
     "evalue": "cannot import name 'ABCPandasArray' from 'pandas.core.dtypes.generic' (c:\\projects\\bike_usage_bremen\\venv\\lib\\site-packages\\pandas\\core\\dtypes\\generic.py)",
     "output_type": "error",
     "traceback": [
      "\u001b[1;31m---------------------------------------------------------------------------\u001b[0m",
      "\u001b[1;31mImportError\u001b[0m                               Traceback (most recent call last)",
      "Cell \u001b[1;32mIn[41], line 8\u001b[0m\n\u001b[0;32m      1\u001b[0m \u001b[38;5;66;03m# Following code only relevant when running on Google Colab\u001b[39;00m\n\u001b[0;32m      2\u001b[0m \u001b[38;5;66;03m# Install package ipyleaflet since it is not part of the standard packages\u001b[39;00m\n\u001b[0;32m      3\u001b[0m \u001b[38;5;66;03m# of Google Colab\u001b[39;00m\n\u001b[0;32m      4\u001b[0m \n\u001b[0;32m      5\u001b[0m \u001b[38;5;66;03m# Uncomment in Google Colab environment\u001b[39;00m\n\u001b[0;32m      6\u001b[0m \u001b[38;5;66;03m#!pip install pyjanitor\u001b[39;00m\n\u001b[1;32m----> 8\u001b[0m \u001b[38;5;28;01mimport\u001b[39;00m \u001b[38;5;21;01mjanitor\u001b[39;00m\n",
      "File \u001b[1;32mc:\\projects\\bike_usage_bremen\\venv\\lib\\site-packages\\janitor\\__init__.py:5\u001b[0m\n\u001b[0;32m      2\u001b[0m \u001b[38;5;28;01mimport\u001b[39;00m \u001b[38;5;21;01mpandas_flavor\u001b[39;00m \u001b[38;5;28;01mas\u001b[39;00m \u001b[38;5;21;01mpf\u001b[39;00m  \u001b[38;5;66;03m# noqa: F401\u001b[39;00m\n\u001b[0;32m      4\u001b[0m \u001b[38;5;28;01mfrom\u001b[39;00m \u001b[38;5;21;01m.\u001b[39;00m\u001b[38;5;21;01maccessors\u001b[39;00m \u001b[38;5;28;01mimport\u001b[39;00m \u001b[38;5;241m*\u001b[39m  \u001b[38;5;66;03m# noqa: F403, F401\u001b[39;00m\n\u001b[1;32m----> 5\u001b[0m \u001b[38;5;28;01mfrom\u001b[39;00m \u001b[38;5;21;01m.\u001b[39;00m\u001b[38;5;21;01mfunctions\u001b[39;00m \u001b[38;5;28;01mimport\u001b[39;00m \u001b[38;5;241m*\u001b[39m  \u001b[38;5;66;03m# noqa: F403, F401\u001b[39;00m\n\u001b[0;32m      6\u001b[0m \u001b[38;5;28;01mfrom\u001b[39;00m \u001b[38;5;21;01m.\u001b[39;00m\u001b[38;5;21;01mio\u001b[39;00m \u001b[38;5;28;01mimport\u001b[39;00m \u001b[38;5;241m*\u001b[39m  \u001b[38;5;66;03m# noqa: F403, F401\u001b[39;00m\n\u001b[0;32m      7\u001b[0m \u001b[38;5;28;01mfrom\u001b[39;00m \u001b[38;5;21;01m.\u001b[39;00m\u001b[38;5;21;01mmath\u001b[39;00m \u001b[38;5;28;01mimport\u001b[39;00m \u001b[38;5;241m*\u001b[39m  \u001b[38;5;66;03m# noqa: F403, F401\u001b[39;00m\n",
      "File \u001b[1;32mc:\\projects\\bike_usage_bremen\\venv\\lib\\site-packages\\janitor\\functions\\__init__.py:25\u001b[0m\n\u001b[0;32m     23\u001b[0m \u001b[38;5;28;01mfrom\u001b[39;00m \u001b[38;5;21;01m.\u001b[39;00m\u001b[38;5;21;01mchange_type\u001b[39;00m \u001b[38;5;28;01mimport\u001b[39;00m change_type\n\u001b[0;32m     24\u001b[0m \u001b[38;5;28;01mfrom\u001b[39;00m \u001b[38;5;21;01m.\u001b[39;00m\u001b[38;5;21;01mclean_names\u001b[39;00m \u001b[38;5;28;01mimport\u001b[39;00m clean_names\n\u001b[1;32m---> 25\u001b[0m \u001b[38;5;28;01mfrom\u001b[39;00m \u001b[38;5;21;01m.\u001b[39;00m\u001b[38;5;21;01mcoalesce\u001b[39;00m \u001b[38;5;28;01mimport\u001b[39;00m coalesce\n\u001b[0;32m     26\u001b[0m \u001b[38;5;28;01mfrom\u001b[39;00m \u001b[38;5;21;01m.\u001b[39;00m\u001b[38;5;21;01mcollapse_levels\u001b[39;00m \u001b[38;5;28;01mimport\u001b[39;00m collapse_levels\n\u001b[0;32m     27\u001b[0m \u001b[38;5;28;01mfrom\u001b[39;00m \u001b[38;5;21;01m.\u001b[39;00m\u001b[38;5;21;01mcomplete\u001b[39;00m \u001b[38;5;28;01mimport\u001b[39;00m complete\n",
      "File \u001b[1;32mc:\\projects\\bike_usage_bremen\\venv\\lib\\site-packages\\janitor\\functions\\coalesce.py:7\u001b[0m\n\u001b[0;32m      4\u001b[0m \u001b[38;5;28;01mimport\u001b[39;00m \u001b[38;5;21;01mpandas_flavor\u001b[39;00m \u001b[38;5;28;01mas\u001b[39;00m \u001b[38;5;21;01mpf\u001b[39;00m\n\u001b[0;32m      6\u001b[0m \u001b[38;5;28;01mfrom\u001b[39;00m \u001b[38;5;21;01mjanitor\u001b[39;00m\u001b[38;5;21;01m.\u001b[39;00m\u001b[38;5;21;01mutils\u001b[39;00m \u001b[38;5;28;01mimport\u001b[39;00m check, deprecated_alias\n\u001b[1;32m----> 7\u001b[0m \u001b[38;5;28;01mfrom\u001b[39;00m \u001b[38;5;21;01mjanitor\u001b[39;00m\u001b[38;5;21;01m.\u001b[39;00m\u001b[38;5;21;01mfunctions\u001b[39;00m\u001b[38;5;21;01m.\u001b[39;00m\u001b[38;5;21;01mutils\u001b[39;00m \u001b[38;5;28;01mimport\u001b[39;00m get_index_labels\n\u001b[0;32m     10\u001b[0m \u001b[38;5;129m@pf\u001b[39m\u001b[38;5;241m.\u001b[39mregister_dataframe_method\n\u001b[0;32m     11\u001b[0m \u001b[38;5;129m@deprecated_alias\u001b[39m(columns\u001b[38;5;241m=\u001b[39m\u001b[38;5;124m\"\u001b[39m\u001b[38;5;124mcolumn_names\u001b[39m\u001b[38;5;124m\"\u001b[39m, new_column_name\u001b[38;5;241m=\u001b[39m\u001b[38;5;124m\"\u001b[39m\u001b[38;5;124mtarget_column_name\u001b[39m\u001b[38;5;124m\"\u001b[39m)\n\u001b[0;32m     12\u001b[0m \u001b[38;5;28;01mdef\u001b[39;00m \u001b[38;5;21mcoalesce\u001b[39m(\n\u001b[1;32m   (...)\u001b[0m\n\u001b[0;32m     16\u001b[0m     default_value: Optional[Union[\u001b[38;5;28mint\u001b[39m, \u001b[38;5;28mfloat\u001b[39m, \u001b[38;5;28mstr\u001b[39m]] \u001b[38;5;241m=\u001b[39m \u001b[38;5;28;01mNone\u001b[39;00m,\n\u001b[0;32m     17\u001b[0m ) \u001b[38;5;241m-\u001b[39m\u001b[38;5;241m>\u001b[39m pd\u001b[38;5;241m.\u001b[39mDataFrame:\n\u001b[0;32m     18\u001b[0m \u001b[38;5;250m    \u001b[39m\u001b[38;5;124;03m\"\"\"Coalesce two or more columns of data in order of column names provided.\u001b[39;00m\n\u001b[0;32m     19\u001b[0m \n\u001b[0;32m     20\u001b[0m \u001b[38;5;124;03m    Given the variable arguments of column names,\u001b[39;00m\n\u001b[1;32m   (...)\u001b[0m\n\u001b[0;32m     93\u001b[0m \u001b[38;5;124;03m        A pandas DataFrame with coalesced columns.\u001b[39;00m\n\u001b[0;32m     94\u001b[0m \u001b[38;5;124;03m    \"\"\"\u001b[39;00m\n",
      "File \u001b[1;32mc:\\projects\\bike_usage_bremen\\venv\\lib\\site-packages\\janitor\\functions\\utils.py:19\u001b[0m\n\u001b[0;32m      7\u001b[0m \u001b[38;5;28;01mimport\u001b[39;00m \u001b[38;5;21;01mre\u001b[39;00m\n\u001b[0;32m      8\u001b[0m \u001b[38;5;28;01mfrom\u001b[39;00m \u001b[38;5;21;01mtyping\u001b[39;00m \u001b[38;5;28;01mimport\u001b[39;00m (\n\u001b[0;32m      9\u001b[0m     Hashable,\n\u001b[0;32m     10\u001b[0m     Iterable,\n\u001b[1;32m   (...)\u001b[0m\n\u001b[0;32m     17\u001b[0m     Any,\n\u001b[0;32m     18\u001b[0m )\n\u001b[1;32m---> 19\u001b[0m \u001b[38;5;28;01mfrom\u001b[39;00m \u001b[38;5;21;01mpandas\u001b[39;00m\u001b[38;5;21;01m.\u001b[39;00m\u001b[38;5;21;01mcore\u001b[39;00m\u001b[38;5;21;01m.\u001b[39;00m\u001b[38;5;21;01mdtypes\u001b[39;00m\u001b[38;5;21;01m.\u001b[39;00m\u001b[38;5;21;01mgeneric\u001b[39;00m \u001b[38;5;28;01mimport\u001b[39;00m ABCPandasArray, ABCExtensionArray\n\u001b[0;32m     20\u001b[0m \u001b[38;5;28;01mfrom\u001b[39;00m \u001b[38;5;21;01mpandas\u001b[39;00m\u001b[38;5;21;01m.\u001b[39;00m\u001b[38;5;21;01mcore\u001b[39;00m\u001b[38;5;21;01m.\u001b[39;00m\u001b[38;5;21;01mgroupby\u001b[39;00m\u001b[38;5;21;01m.\u001b[39;00m\u001b[38;5;21;01mgeneric\u001b[39;00m \u001b[38;5;28;01mimport\u001b[39;00m DataFrameGroupBy, SeriesGroupBy\n\u001b[0;32m     21\u001b[0m \u001b[38;5;28;01mfrom\u001b[39;00m \u001b[38;5;21;01mpandas\u001b[39;00m\u001b[38;5;21;01m.\u001b[39;00m\u001b[38;5;21;01mcore\u001b[39;00m\u001b[38;5;21;01m.\u001b[39;00m\u001b[38;5;21;01mcommon\u001b[39;00m \u001b[38;5;28;01mimport\u001b[39;00m is_bool_indexer\n",
      "\u001b[1;31mImportError\u001b[0m: cannot import name 'ABCPandasArray' from 'pandas.core.dtypes.generic' (c:\\projects\\bike_usage_bremen\\venv\\lib\\site-packages\\pandas\\core\\dtypes\\generic.py)"
     ]
    }
   ],
   "source": [
    "# Following code only relevant when running on Google Colab\n",
    "# Install package ipyleaflet since it is not part of the standard packages\n",
    "# of Google Colab\n",
    "\n",
    "# Uncomment in Google Colab environment\n",
    "#!pip install pyjanitor\n",
    "\n",
    "import janitor"
   ]
  },
  {
   "cell_type": "markdown",
   "id": "3edf4064",
   "metadata": {
    "id": "3edf4064"
   },
   "source": [
    "<a name=\"2.\"></a>\n",
    "# 2.&nbsp;Import processed datasets\n",
    "\n",
    "[Content](#content)\n",
    "\n",
    "Next, we will import the processed dataset from [1_Data_Prep](../Bike_usage_Bremen/1_Data_Prep.ipynb)."
   ]
  },
  {
   "cell_type": "code",
   "execution_count": 42,
   "id": "efb7ffca",
   "metadata": {
    "colab": {
     "base_uri": "https://localhost:8080/"
    },
    "id": "efb7ffca",
    "outputId": "2cee3b11-e547-4652-fea4-e691c2d95625"
   },
   "outputs": [],
   "source": [
    "# Set base url\n",
    "url = \"https://raw.githubusercontent.com/Rudinius/Bike_usage_Bremen/main/data/processed/\""
   ]
  },
  {
   "cell_type": "code",
   "execution_count": 347,
   "id": "5ec2cfdf-6dfa-4293-9138-8dd9db87ae9d",
   "metadata": {
    "colab": {
     "base_uri": "https://localhost:8080/",
     "height": 447
    },
    "id": "b591b41f",
    "outputId": "8a8f87c9-effd-4cfc-8294-23cb60c0b64f"
   },
   "outputs": [
    {
     "data": {
      "text/html": [
       "<div>\n",
       "<style scoped>\n",
       "    .dataframe tbody tr th:only-of-type {\n",
       "        vertical-align: middle;\n",
       "    }\n",
       "\n",
       "    .dataframe tbody tr th {\n",
       "        vertical-align: top;\n",
       "    }\n",
       "\n",
       "    .dataframe thead th {\n",
       "        text-align: right;\n",
       "    }\n",
       "</style>\n",
       "<table border=\"1\" class=\"dataframe\">\n",
       "  <thead>\n",
       "    <tr style=\"text-align: right;\">\n",
       "      <th></th>\n",
       "      <th>graf_moltke_straße_ostseite</th>\n",
       "      <th>graf_moltke_straße_westseite</th>\n",
       "      <th>hastedter_bruckenstraße</th>\n",
       "      <th>langemarckstraße_ostseite</th>\n",
       "      <th>langemarckstraße_westseite</th>\n",
       "      <th>osterdeich</th>\n",
       "      <th>radweg_kleine_weser</th>\n",
       "      <th>schwachhauser_ring</th>\n",
       "      <th>wachmannstraße_auswarts_sud</th>\n",
       "      <th>wachmannstraße_einwarts_nord</th>\n",
       "      <th>...</th>\n",
       "      <th>tmax</th>\n",
       "      <th>prcp</th>\n",
       "      <th>snow</th>\n",
       "      <th>wdir</th>\n",
       "      <th>wspd</th>\n",
       "      <th>wpgt</th>\n",
       "      <th>pres</th>\n",
       "      <th>tsun</th>\n",
       "      <th>vacation</th>\n",
       "      <th>holiday</th>\n",
       "    </tr>\n",
       "    <tr>\n",
       "      <th>date</th>\n",
       "      <th></th>\n",
       "      <th></th>\n",
       "      <th></th>\n",
       "      <th></th>\n",
       "      <th></th>\n",
       "      <th></th>\n",
       "      <th></th>\n",
       "      <th></th>\n",
       "      <th></th>\n",
       "      <th></th>\n",
       "      <th></th>\n",
       "      <th></th>\n",
       "      <th></th>\n",
       "      <th></th>\n",
       "      <th></th>\n",
       "      <th></th>\n",
       "      <th></th>\n",
       "      <th></th>\n",
       "      <th></th>\n",
       "      <th></th>\n",
       "      <th></th>\n",
       "    </tr>\n",
       "  </thead>\n",
       "  <tbody>\n",
       "    <tr>\n",
       "      <th>2013-01-01</th>\n",
       "      <td>261.0</td>\n",
       "      <td>290.0</td>\n",
       "      <td>381.0</td>\n",
       "      <td>312.0</td>\n",
       "      <td>308.0</td>\n",
       "      <td>870.0</td>\n",
       "      <td>410.0</td>\n",
       "      <td>391</td>\n",
       "      <td>514.0</td>\n",
       "      <td>267.0</td>\n",
       "      <td>...</td>\n",
       "      <td>9.1</td>\n",
       "      <td>6.9</td>\n",
       "      <td>0.0</td>\n",
       "      <td>233.0</td>\n",
       "      <td>19.4</td>\n",
       "      <td>50.4</td>\n",
       "      <td>1001.8</td>\n",
       "      <td>0</td>\n",
       "      <td>Weihnachtsferien</td>\n",
       "      <td>Neujahr</td>\n",
       "    </tr>\n",
       "    <tr>\n",
       "      <th>2013-01-02</th>\n",
       "      <td>750.0</td>\n",
       "      <td>876.0</td>\n",
       "      <td>1109.0</td>\n",
       "      <td>1258.0</td>\n",
       "      <td>1120.0</td>\n",
       "      <td>2169.0</td>\n",
       "      <td>1762.0</td>\n",
       "      <td>829</td>\n",
       "      <td>1786.0</td>\n",
       "      <td>1456.0</td>\n",
       "      <td>...</td>\n",
       "      <td>7.1</td>\n",
       "      <td>1.8</td>\n",
       "      <td>0.0</td>\n",
       "      <td>246.0</td>\n",
       "      <td>20.2</td>\n",
       "      <td>40.0</td>\n",
       "      <td>1017.5</td>\n",
       "      <td>30</td>\n",
       "      <td>Weihnachtsferien</td>\n",
       "      <td>NaN</td>\n",
       "    </tr>\n",
       "    <tr>\n",
       "      <th>2013-01-03</th>\n",
       "      <td>931.0</td>\n",
       "      <td>1015.0</td>\n",
       "      <td>1603.0</td>\n",
       "      <td>1556.0</td>\n",
       "      <td>1480.0</td>\n",
       "      <td>2295.0</td>\n",
       "      <td>2287.0</td>\n",
       "      <td>1196</td>\n",
       "      <td>2412.0</td>\n",
       "      <td>2035.0</td>\n",
       "      <td>...</td>\n",
       "      <td>10.6</td>\n",
       "      <td>0.9</td>\n",
       "      <td>0.0</td>\n",
       "      <td>257.0</td>\n",
       "      <td>23.8</td>\n",
       "      <td>45.7</td>\n",
       "      <td>1024.5</td>\n",
       "      <td>0</td>\n",
       "      <td>Weihnachtsferien</td>\n",
       "      <td>NaN</td>\n",
       "    </tr>\n",
       "    <tr>\n",
       "      <th>2013-01-04</th>\n",
       "      <td>500.0</td>\n",
       "      <td>587.0</td>\n",
       "      <td>1284.0</td>\n",
       "      <td>703.0</td>\n",
       "      <td>626.0</td>\n",
       "      <td>1640.0</td>\n",
       "      <td>1548.0</td>\n",
       "      <td>1418</td>\n",
       "      <td>964.0</td>\n",
       "      <td>702.0</td>\n",
       "      <td>...</td>\n",
       "      <td>9.7</td>\n",
       "      <td>0.0</td>\n",
       "      <td>0.0</td>\n",
       "      <td>276.0</td>\n",
       "      <td>25.2</td>\n",
       "      <td>48.2</td>\n",
       "      <td>1029.5</td>\n",
       "      <td>0</td>\n",
       "      <td>Weihnachtsferien</td>\n",
       "      <td>NaN</td>\n",
       "    </tr>\n",
       "    <tr>\n",
       "      <th>2013-01-05</th>\n",
       "      <td>1013.0</td>\n",
       "      <td>1011.0</td>\n",
       "      <td>0.0</td>\n",
       "      <td>1856.0</td>\n",
       "      <td>1621.0</td>\n",
       "      <td>4128.0</td>\n",
       "      <td>4256.0</td>\n",
       "      <td>3075</td>\n",
       "      <td>2065.0</td>\n",
       "      <td>1377.0</td>\n",
       "      <td>...</td>\n",
       "      <td>8.6</td>\n",
       "      <td>0.1</td>\n",
       "      <td>0.0</td>\n",
       "      <td>293.0</td>\n",
       "      <td>20.2</td>\n",
       "      <td>41.0</td>\n",
       "      <td>1029.9</td>\n",
       "      <td>0</td>\n",
       "      <td>Weihnachtsferien</td>\n",
       "      <td>NaN</td>\n",
       "    </tr>\n",
       "  </tbody>\n",
       "</table>\n",
       "<p>5 rows × 24 columns</p>\n",
       "</div>"
      ],
      "text/plain": [
       "            graf_moltke_straße_ostseite  graf_moltke_straße_westseite  \\\n",
       "date                                                                    \n",
       "2013-01-01                        261.0                         290.0   \n",
       "2013-01-02                        750.0                         876.0   \n",
       "2013-01-03                        931.0                        1015.0   \n",
       "2013-01-04                        500.0                         587.0   \n",
       "2013-01-05                       1013.0                        1011.0   \n",
       "\n",
       "            hastedter_bruckenstraße  langemarckstraße_ostseite  \\\n",
       "date                                                             \n",
       "2013-01-01                    381.0                      312.0   \n",
       "2013-01-02                   1109.0                     1258.0   \n",
       "2013-01-03                   1603.0                     1556.0   \n",
       "2013-01-04                   1284.0                      703.0   \n",
       "2013-01-05                      0.0                     1856.0   \n",
       "\n",
       "            langemarckstraße_westseite  osterdeich  radweg_kleine_weser  \\\n",
       "date                                                                      \n",
       "2013-01-01                       308.0       870.0                410.0   \n",
       "2013-01-02                      1120.0      2169.0               1762.0   \n",
       "2013-01-03                      1480.0      2295.0               2287.0   \n",
       "2013-01-04                       626.0      1640.0               1548.0   \n",
       "2013-01-05                      1621.0      4128.0               4256.0   \n",
       "\n",
       "            schwachhauser_ring  wachmannstraße_auswarts_sud  \\\n",
       "date                                                          \n",
       "2013-01-01                 391                        514.0   \n",
       "2013-01-02                 829                       1786.0   \n",
       "2013-01-03                1196                       2412.0   \n",
       "2013-01-04                1418                        964.0   \n",
       "2013-01-05                3075                       2065.0   \n",
       "\n",
       "            wachmannstraße_einwarts_nord  ...  tmax  prcp  snow   wdir  wspd  \\\n",
       "date                                      ...                                  \n",
       "2013-01-01                         267.0  ...   9.1   6.9   0.0  233.0  19.4   \n",
       "2013-01-02                        1456.0  ...   7.1   1.8   0.0  246.0  20.2   \n",
       "2013-01-03                        2035.0  ...  10.6   0.9   0.0  257.0  23.8   \n",
       "2013-01-04                         702.0  ...   9.7   0.0   0.0  276.0  25.2   \n",
       "2013-01-05                        1377.0  ...   8.6   0.1   0.0  293.0  20.2   \n",
       "\n",
       "            wpgt    pres  tsun          vacation  holiday  \n",
       "date                                                       \n",
       "2013-01-01  50.4  1001.8     0  Weihnachtsferien  Neujahr  \n",
       "2013-01-02  40.0  1017.5    30  Weihnachtsferien      NaN  \n",
       "2013-01-03  45.7  1024.5     0  Weihnachtsferien      NaN  \n",
       "2013-01-04  48.2  1029.5     0  Weihnachtsferien      NaN  \n",
       "2013-01-05  41.0  1029.9     0  Weihnachtsferien      NaN  \n",
       "\n",
       "[5 rows x 24 columns]"
      ]
     },
     "execution_count": 347,
     "metadata": {},
     "output_type": "execute_result"
    }
   ],
   "source": [
    "# Import full dataset\n",
    "\n",
    "# We will also parse the date column as datetime64 and set it to the index column\n",
    "df_full = pd.read_csv(url + \"2023-08-11_processed_full.csv\",\n",
    "                         parse_dates=[0], index_col=[0])\n",
    "\n",
    "# Check the correct loading of dataset\n",
    "df_full.head()"
   ]
  },
  {
   "cell_type": "markdown",
   "id": "a066f3ec-2246-4d75-9e4f-85e0f6cb9f0a",
   "metadata": {},
   "source": [
    "We create some constants that will help later with the imputing."
   ]
  },
  {
   "cell_type": "code",
   "execution_count": 348,
   "id": "93113f2e-5597-4bd1-9e52-60d807482ad7",
   "metadata": {},
   "outputs": [],
   "source": [
    "STATION_NAMES = df_full.columns[:12]"
   ]
  },
  {
   "cell_type": "markdown",
   "id": "gtO3haiVbb1b",
   "metadata": {
    "id": "gtO3haiVbb1b"
   },
   "source": [
    "<a name=\"3.\"></a>\n",
    "# 3.&nbsp;Adding time features\n",
    "\n",
    "[Content](#content)"
   ]
  },
  {
   "cell_type": "markdown",
   "id": "m2irJqG-bt8s",
   "metadata": {
    "id": "m2irJqG-bt8s"
   },
   "source": [
    "We will first create a copy of the original dataset and create year, month, day and weekday columns."
   ]
  },
  {
   "cell_type": "code",
   "execution_count": 378,
   "id": "MAS8XRA1P8Qz",
   "metadata": {
    "colab": {
     "base_uri": "https://localhost:8080/"
    },
    "id": "MAS8XRA1P8Qz",
    "outputId": "30df3799-a686-4afb-ce1d-16e3dedad0f0"
   },
   "outputs": [],
   "source": [
    "def add_time_features(df):\n",
    "    \"\"\"\n",
    "        Function that takes as input a DataFrame and returns a changed DataFrame\n",
    "    \"\"\"\n",
    "    \n",
    "    # Create copy of DataFrame\n",
    "    df_new = df.copy()\n",
    "    \n",
    "    df_new[\"year\"] = df.index.year\n",
    "    df_new[\"month\"] = df.index.month\n",
    "    df_new[\"day\"] = df.index.day\n",
    "    df_new[\"weekday\"] = df.index.dayofweek\n",
    "\n",
    "    print(\"Time features added\")\n",
    "\n",
    "    return df_new\n"
   ]
  },
  {
   "cell_type": "code",
   "execution_count": 350,
   "id": "ca21b07d-0afc-4c9a-b2cd-4c71debdb55e",
   "metadata": {},
   "outputs": [
    {
     "data": {
      "text/html": [
       "<div>\n",
       "<style scoped>\n",
       "    .dataframe tbody tr th:only-of-type {\n",
       "        vertical-align: middle;\n",
       "    }\n",
       "\n",
       "    .dataframe tbody tr th {\n",
       "        vertical-align: top;\n",
       "    }\n",
       "\n",
       "    .dataframe thead th {\n",
       "        text-align: right;\n",
       "    }\n",
       "</style>\n",
       "<table border=\"1\" class=\"dataframe\">\n",
       "  <thead>\n",
       "    <tr style=\"text-align: right;\">\n",
       "      <th></th>\n",
       "      <th>graf_moltke_straße_ostseite</th>\n",
       "      <th>graf_moltke_straße_westseite</th>\n",
       "      <th>hastedter_bruckenstraße</th>\n",
       "      <th>langemarckstraße_ostseite</th>\n",
       "      <th>langemarckstraße_westseite</th>\n",
       "      <th>osterdeich</th>\n",
       "      <th>radweg_kleine_weser</th>\n",
       "      <th>schwachhauser_ring</th>\n",
       "      <th>wachmannstraße_auswarts_sud</th>\n",
       "      <th>wachmannstraße_einwarts_nord</th>\n",
       "      <th>...</th>\n",
       "      <th>wspd</th>\n",
       "      <th>wpgt</th>\n",
       "      <th>pres</th>\n",
       "      <th>tsun</th>\n",
       "      <th>vacation</th>\n",
       "      <th>holiday</th>\n",
       "      <th>year</th>\n",
       "      <th>month</th>\n",
       "      <th>day</th>\n",
       "      <th>weekday</th>\n",
       "    </tr>\n",
       "    <tr>\n",
       "      <th>date</th>\n",
       "      <th></th>\n",
       "      <th></th>\n",
       "      <th></th>\n",
       "      <th></th>\n",
       "      <th></th>\n",
       "      <th></th>\n",
       "      <th></th>\n",
       "      <th></th>\n",
       "      <th></th>\n",
       "      <th></th>\n",
       "      <th></th>\n",
       "      <th></th>\n",
       "      <th></th>\n",
       "      <th></th>\n",
       "      <th></th>\n",
       "      <th></th>\n",
       "      <th></th>\n",
       "      <th></th>\n",
       "      <th></th>\n",
       "      <th></th>\n",
       "      <th></th>\n",
       "    </tr>\n",
       "  </thead>\n",
       "  <tbody>\n",
       "    <tr>\n",
       "      <th>2013-01-01</th>\n",
       "      <td>261.0</td>\n",
       "      <td>290.0</td>\n",
       "      <td>381.0</td>\n",
       "      <td>312.0</td>\n",
       "      <td>308.0</td>\n",
       "      <td>870.0</td>\n",
       "      <td>410.0</td>\n",
       "      <td>391</td>\n",
       "      <td>514.0</td>\n",
       "      <td>267.0</td>\n",
       "      <td>...</td>\n",
       "      <td>19.4</td>\n",
       "      <td>50.4</td>\n",
       "      <td>1001.8</td>\n",
       "      <td>0</td>\n",
       "      <td>Weihnachtsferien</td>\n",
       "      <td>Neujahr</td>\n",
       "      <td>2013</td>\n",
       "      <td>1</td>\n",
       "      <td>1</td>\n",
       "      <td>1</td>\n",
       "    </tr>\n",
       "    <tr>\n",
       "      <th>2013-01-02</th>\n",
       "      <td>750.0</td>\n",
       "      <td>876.0</td>\n",
       "      <td>1109.0</td>\n",
       "      <td>1258.0</td>\n",
       "      <td>1120.0</td>\n",
       "      <td>2169.0</td>\n",
       "      <td>1762.0</td>\n",
       "      <td>829</td>\n",
       "      <td>1786.0</td>\n",
       "      <td>1456.0</td>\n",
       "      <td>...</td>\n",
       "      <td>20.2</td>\n",
       "      <td>40.0</td>\n",
       "      <td>1017.5</td>\n",
       "      <td>30</td>\n",
       "      <td>Weihnachtsferien</td>\n",
       "      <td>NaN</td>\n",
       "      <td>2013</td>\n",
       "      <td>1</td>\n",
       "      <td>2</td>\n",
       "      <td>2</td>\n",
       "    </tr>\n",
       "    <tr>\n",
       "      <th>2013-01-03</th>\n",
       "      <td>931.0</td>\n",
       "      <td>1015.0</td>\n",
       "      <td>1603.0</td>\n",
       "      <td>1556.0</td>\n",
       "      <td>1480.0</td>\n",
       "      <td>2295.0</td>\n",
       "      <td>2287.0</td>\n",
       "      <td>1196</td>\n",
       "      <td>2412.0</td>\n",
       "      <td>2035.0</td>\n",
       "      <td>...</td>\n",
       "      <td>23.8</td>\n",
       "      <td>45.7</td>\n",
       "      <td>1024.5</td>\n",
       "      <td>0</td>\n",
       "      <td>Weihnachtsferien</td>\n",
       "      <td>NaN</td>\n",
       "      <td>2013</td>\n",
       "      <td>1</td>\n",
       "      <td>3</td>\n",
       "      <td>3</td>\n",
       "    </tr>\n",
       "    <tr>\n",
       "      <th>2013-01-04</th>\n",
       "      <td>500.0</td>\n",
       "      <td>587.0</td>\n",
       "      <td>1284.0</td>\n",
       "      <td>703.0</td>\n",
       "      <td>626.0</td>\n",
       "      <td>1640.0</td>\n",
       "      <td>1548.0</td>\n",
       "      <td>1418</td>\n",
       "      <td>964.0</td>\n",
       "      <td>702.0</td>\n",
       "      <td>...</td>\n",
       "      <td>25.2</td>\n",
       "      <td>48.2</td>\n",
       "      <td>1029.5</td>\n",
       "      <td>0</td>\n",
       "      <td>Weihnachtsferien</td>\n",
       "      <td>NaN</td>\n",
       "      <td>2013</td>\n",
       "      <td>1</td>\n",
       "      <td>4</td>\n",
       "      <td>4</td>\n",
       "    </tr>\n",
       "    <tr>\n",
       "      <th>2013-01-05</th>\n",
       "      <td>1013.0</td>\n",
       "      <td>1011.0</td>\n",
       "      <td>0.0</td>\n",
       "      <td>1856.0</td>\n",
       "      <td>1621.0</td>\n",
       "      <td>4128.0</td>\n",
       "      <td>4256.0</td>\n",
       "      <td>3075</td>\n",
       "      <td>2065.0</td>\n",
       "      <td>1377.0</td>\n",
       "      <td>...</td>\n",
       "      <td>20.2</td>\n",
       "      <td>41.0</td>\n",
       "      <td>1029.9</td>\n",
       "      <td>0</td>\n",
       "      <td>Weihnachtsferien</td>\n",
       "      <td>NaN</td>\n",
       "      <td>2013</td>\n",
       "      <td>1</td>\n",
       "      <td>5</td>\n",
       "      <td>5</td>\n",
       "    </tr>\n",
       "  </tbody>\n",
       "</table>\n",
       "<p>5 rows × 28 columns</p>\n",
       "</div>"
      ],
      "text/plain": [
       "            graf_moltke_straße_ostseite  graf_moltke_straße_westseite  \\\n",
       "date                                                                    \n",
       "2013-01-01                        261.0                         290.0   \n",
       "2013-01-02                        750.0                         876.0   \n",
       "2013-01-03                        931.0                        1015.0   \n",
       "2013-01-04                        500.0                         587.0   \n",
       "2013-01-05                       1013.0                        1011.0   \n",
       "\n",
       "            hastedter_bruckenstraße  langemarckstraße_ostseite  \\\n",
       "date                                                             \n",
       "2013-01-01                    381.0                      312.0   \n",
       "2013-01-02                   1109.0                     1258.0   \n",
       "2013-01-03                   1603.0                     1556.0   \n",
       "2013-01-04                   1284.0                      703.0   \n",
       "2013-01-05                      0.0                     1856.0   \n",
       "\n",
       "            langemarckstraße_westseite  osterdeich  radweg_kleine_weser  \\\n",
       "date                                                                      \n",
       "2013-01-01                       308.0       870.0                410.0   \n",
       "2013-01-02                      1120.0      2169.0               1762.0   \n",
       "2013-01-03                      1480.0      2295.0               2287.0   \n",
       "2013-01-04                       626.0      1640.0               1548.0   \n",
       "2013-01-05                      1621.0      4128.0               4256.0   \n",
       "\n",
       "            schwachhauser_ring  wachmannstraße_auswarts_sud  \\\n",
       "date                                                          \n",
       "2013-01-01                 391                        514.0   \n",
       "2013-01-02                 829                       1786.0   \n",
       "2013-01-03                1196                       2412.0   \n",
       "2013-01-04                1418                        964.0   \n",
       "2013-01-05                3075                       2065.0   \n",
       "\n",
       "            wachmannstraße_einwarts_nord  ...  wspd  wpgt    pres  tsun  \\\n",
       "date                                      ...                             \n",
       "2013-01-01                         267.0  ...  19.4  50.4  1001.8     0   \n",
       "2013-01-02                        1456.0  ...  20.2  40.0  1017.5    30   \n",
       "2013-01-03                        2035.0  ...  23.8  45.7  1024.5     0   \n",
       "2013-01-04                         702.0  ...  25.2  48.2  1029.5     0   \n",
       "2013-01-05                        1377.0  ...  20.2  41.0  1029.9     0   \n",
       "\n",
       "                    vacation  holiday  year  month  day  weekday  \n",
       "date                                                              \n",
       "2013-01-01  Weihnachtsferien  Neujahr  2013      1    1        1  \n",
       "2013-01-02  Weihnachtsferien      NaN  2013      1    2        2  \n",
       "2013-01-03  Weihnachtsferien      NaN  2013      1    3        3  \n",
       "2013-01-04  Weihnachtsferien      NaN  2013      1    4        4  \n",
       "2013-01-05  Weihnachtsferien      NaN  2013      1    5        5  \n",
       "\n",
       "[5 rows x 28 columns]"
      ]
     },
     "execution_count": 350,
     "metadata": {},
     "output_type": "execute_result"
    }
   ],
   "source": [
    "\n",
    "df_full_fixed = add_time_features(df_full)\n",
    "\n",
    "# Check dataframe\n",
    "df_full_fixed.head()"
   ]
  },
  {
   "cell_type": "markdown",
   "id": "jK-QNVk8yCLS",
   "metadata": {
    "id": "jK-QNVk8yCLS"
   },
   "source": [
    "<a name=\"4.\"></a>\n",
    "# 4.&nbsp;Imputing missing and non-plausible values\n",
    "[Content](#content)"
   ]
  },
  {
   "cell_type": "markdown",
   "id": "F665rFA5ySfc",
   "metadata": {
    "id": "F665rFA5ySfc"
   },
   "source": [
    "In the analyis so far, we have seen that many 0 values of counting stations seem to be erroneous, as they appear e.g., frequently only for a day always on the same day of month:\n",
    "\n",
    "![alternatvie text](https://raw.githubusercontent.com/Rudinius/Bike_usage_Bremen/main/images/langemark_ost.png)\n",
    "\n",
    "We have also seen, that sometimes the timespan is longer than just a day:\n",
    "\n",
    "![alternatvie text](https://raw.githubusercontent.com/Rudinius/Bike_usage_Bremen/main/images/langemark_west.png)\n",
    "\n",
    "Also there are times, where the value is not 0, but is completely missing like in the following image:\n",
    "\n",
    "![alternatvie text](https://raw.githubusercontent.com/Rudinius/Bike_usage_Bremen/main/images/langemark_ost_2.png)\n",
    "\n",
    "The simplest solution would be to deal with all three cases the same way and to simply use the last valid value and fill forward all missing values. This is what we will do first and then analyze the result.\n",
    "\n",
    "We will forward fill as below:\n",
    "* values between $10.0$ (inclusive)\n",
    "* values greater 3 times the standard deviation above mean\n",
    "* NaN values\n",
    "\n",
    "The value $10.0$ for minimum was chosen arbitrarily. It has been shown that the $0$ values are erroneous. However it is difficult to say where the limit is which is also different for each station. As observed from the actual time series data in the last notebook, the limit value of $10$ can be seen as conservative and could probably be set even higher.\n",
    "\n"
   ]
  },
  {
   "cell_type": "code",
   "execution_count": 379,
   "id": "ef902c31-7be7-4729-b152-442b32da15c4",
   "metadata": {},
   "outputs": [],
   "source": [
    "# Create a mask that selects all rows with values of zeros and values greater 3 stds (less than 99,7% of values)\n",
    "\n",
    "def impute_stations(df, cols):\n",
    "    \"\"\"\n",
    "        Function takes in a dataframe and a list of column names (station names) and adds imputed columns\n",
    "        to the dataframe\n",
    "    \n",
    "        Args:\n",
    "            df (pandas.dataFrame): DataFrame\n",
    "            cols list):list of column names\n",
    "    \n",
    "    \"\"\"\n",
    "\n",
    "    # Create copy of DataFrame\n",
    "    df_new = df.copy()\n",
    "\n",
    "    def impute_station(station, method=\"ffill\", suffix=\"imputed_\"):\n",
    "        \"\"\"\n",
    "            Creates new column with selected suffix and imputes values of selected\n",
    "            station that are below 10 (inclusive), nan, or greate 3 std\n",
    "            with selected method\n",
    "    \n",
    "            Args:\n",
    "                station (str): name of station\n",
    "                method: one of ffil, bfill or pad\n",
    "    \n",
    "        \"\"\"\n",
    "        name_of_imputed_column = suffix + station\n",
    "\n",
    "        # Calculate mean and standard diviation\n",
    "        mean = np.mean(df_new[station])\n",
    "        std = np.std(df_new[station])\n",
    "    \n",
    "        # Create new column for imputed values\n",
    "        df_new[name_of_imputed_column] = df_new[station]\n",
    "    \n",
    "        # Create mask to fitler aus values greater than 3 std\n",
    "        mask = (df_new[name_of_imputed_column] > (mean+3*std))\n",
    "    \n",
    "        # Set the masked values to np.nan and forward fill all np.nan and zero values\n",
    "        df_new.loc[mask, name_of_imputed_column] = np.nan\n",
    "    \n",
    "        # Create the range of values to be replaced\n",
    "        # all nan values as well as values below 10 (inclusive)\n",
    "        values_to_replace = np.arange(-1.0, 11.0)\n",
    "        values_to_replace[0] = np.nan\n",
    "    \n",
    "        # FeatureWarning: `method` needs to be replaced\n",
    "        df_new[name_of_imputed_column].replace(values_to_replace, method=method, inplace=True)\n",
    "\n",
    "\n",
    "    # Imputing every station in the in the dataframe\n",
    "    for station in cols:\n",
    "    \n",
    "        impute_station(station)\n",
    "\n",
    "    print(\"Stations imputed\")\n",
    "    \n",
    "    # Return new DataFrame\n",
    "    return df_new"
   ]
  },
  {
   "cell_type": "code",
   "execution_count": 352,
   "id": "025b75e3-32a6-4aa1-a193-62053d91aaa9",
   "metadata": {},
   "outputs": [],
   "source": [
    "%%capture\n",
    "# Suppress output\n",
    "\n",
    "df_full_fixed = impute_stations(df_full_fixed, STATION_NAMES);"
   ]
  },
  {
   "cell_type": "markdown",
   "id": "LGDIsLjQFrTc",
   "metadata": {
    "id": "LGDIsLjQFrTc"
   },
   "source": [
    "Next, we impute the missing weather data. As shown in the EDA step, `wdir` and `wpgt` have neglectable missing values and the values for `snow` are likely to be $0$. Therefore we will impute with forward fill strategy for `wdir` and `wpgt` and set missing `snow` values to $0$."
   ]
  },
  {
   "cell_type": "code",
   "execution_count": 380,
   "id": "UY_LMTbGGt68",
   "metadata": {
    "colab": {
     "base_uri": "https://localhost:8080/"
    },
    "id": "UY_LMTbGGt68",
    "outputId": "3858fce2-622b-4feb-9f07-83f98a4e8d69"
   },
   "outputs": [],
   "source": [
    "# This function is very simple and only accounts for the current dataset. \n",
    "# For a broader/universial implementation all weather features need to be taken into account\n",
    "def impute_weather(df):\n",
    "    \"\"\"\n",
    "        Function that takes in a DataFrame, creates a copy and returns a transformed DataFrame\n",
    "    \"\"\"\n",
    "\n",
    "    df_new = df.copy()\n",
    "\n",
    "    df_new[\"imputed_wdir\"] = df_new[\"wdir\"].ffill(inplace=False)\n",
    "    df_new[\"imputed_wpgt\"] = df_new[\"wpgt\"].ffill(inplace=False)\n",
    "    df_new[\"imputed_snow\"] = df_new[\"snow\"].replace(np.nan, 0.0, inplace=False)\n",
    "\n",
    "    print(\"Weather features imputed\")\n",
    "\n",
    "    return df_new"
   ]
  },
  {
   "cell_type": "code",
   "execution_count": 354,
   "id": "4e6283ad-1e4e-4b5e-baed-bcb5797d45f5",
   "metadata": {},
   "outputs": [],
   "source": [
    "%%capture\n",
    "# Suppress output\n",
    "\n",
    "df_full_fixed = impute_weather(df_full_fixed);"
   ]
  },
  {
   "cell_type": "markdown",
   "id": "L4Rm-XGCYZ3T",
   "metadata": {
    "id": "L4Rm-XGCYZ3T"
   },
   "source": [
    "The output shows, that all new columns have been created and that all missing values have been imputed.\n",
    "\n",
    "In the following we can check how this imputing strategy looks in detail for different features and also for the non missing values like values below $10.0$ (inclusive) and big outliers."
   ]
  },
  {
   "cell_type": "code",
   "execution_count": 355,
   "id": "9f8Z6Pg6UZZm",
   "metadata": {
    "colab": {
     "base_uri": "https://localhost:8080/",
     "height": 1000,
     "referenced_widgets": [
      "11140ad540a444d4ab22b2ffd9c7e4b3",
      "2d507e1221094f07ba019423b9e7ef84",
      "71a58b7172f44dee8aa9458862dc7f75",
      "02081b2c3c1049ef85047c25650e42a3",
      "a27afc5efb9645a094562338d01b5862",
      "f571e8f5c8514b1287f7dcd24e990b5e",
      "a4df9325618a4e44ab3f25bc823d7655"
     ]
    },
    "id": "9f8Z6Pg6UZZm",
    "outputId": "1f931591-c712-45f8-def6-72b984071f24"
   },
   "outputs": [
    {
     "data": {
      "application/vnd.jupyter.widget-view+json": {
       "model_id": "d3029d5924d84547aaabe6ee5101b25d",
       "version_major": 2,
       "version_minor": 0
      },
      "text/plain": [
       "interactive(children=(Dropdown(description='Station:', layout=Layout(width='550px'), options=('graf_moltke_str…"
      ]
     },
     "metadata": {},
     "output_type": "display_data"
    }
   ],
   "source": [
    "def plot_time_series_pair_imputed(df):\n",
    "    \"\"\"\n",
    "    Funtion plots a feature of the dataset with imputed values as overlay\n",
    "\n",
    "    Args:\n",
    "        df (pandas.DataFrame): the dataset\n",
    "    \"\"\"\n",
    "\n",
    "    def plot_time_series_pair_imputed(feature):\n",
    "\n",
    "        feature = feature\n",
    "        imputed_feature = \"imputed_\" + feature\n",
    "\n",
    "        # Calculate difference between original and imputed feature for plotting\n",
    "        diff = (df[feature] != df[imputed_feature])\n",
    "\n",
    "        fig = px.line()\n",
    "\n",
    "        fig.add_scatter(\n",
    "            x=df.index,\n",
    "            y=df[feature],\n",
    "            mode=\"lines\",\n",
    "            line=dict(color=\"blue\"),\n",
    "            name=\"original\"\n",
    "            )\n",
    "\n",
    "        fig.add_scatter(\n",
    "            x=df.loc[diff, imputed_feature].index,\n",
    "            y=df.loc[diff, imputed_feature],\n",
    "            mode=\"markers\",\n",
    "            line=dict(color=\"red\"),\n",
    "            name=\"imputed\"\n",
    "            )\n",
    "\n",
    "        # Set layout\n",
    "        fig.update_layout(\n",
    "            title=f\"Plotting imputed values for '{feature}'\",\n",
    "            width=1500,\n",
    "            xaxis=dict(\n",
    "                title=\"Date\"\n",
    "                ),\n",
    "            legend=dict(\n",
    "                yanchor=\"top\",\n",
    "                y=0.99,\n",
    "                xanchor=\"right\",\n",
    "                x=0.99\n",
    "                ),\n",
    "            )\n",
    "        fig.show()\n",
    "\n",
    "    # Only imputed values are selectable\n",
    "    options = np.append(df.columns[:12].values, [\"wdir\", \"wpgt\", \"snow\"])\n",
    "\n",
    "    select_feature = widgets.Dropdown(\n",
    "            options=options,\n",
    "            description='Station:',\n",
    "            layout={\"width\": \"550px\"},\n",
    "            disabled=False,\n",
    "            )\n",
    "\n",
    "    #plot_time_series_pair_imputed(\"wpgt\")\n",
    "    interact(plot_time_series_pair_imputed, feature=select_feature)\n",
    "\n",
    "plot_time_series_pair_imputed(df_full_fixed)"
   ]
  },
  {
   "cell_type": "markdown",
   "id": "3u17lglzg9r2",
   "metadata": {
    "id": "3u17lglzg9r2"
   },
   "source": [
    "The values have all been imputed correctly according to the aforementioned criteria."
   ]
  },
  {
   "cell_type": "markdown",
   "id": "b-4PnBrOVUDO",
   "metadata": {
    "id": "b-4PnBrOVUDO"
   },
   "source": [
    "<a name=\"5.\"></a>\n",
    "# 5.&nbsp;Sin and cosine transformation\n",
    "[Content](#content)"
   ]
  },
  {
   "cell_type": "markdown",
   "id": "4hz4r6OCbmJQ",
   "metadata": {
    "id": "4hz4r6OCbmJQ"
   },
   "source": [
    "As shown in the last notebook, the data has periodic elements e.g., for week, month and year. Therefore we will add sin and cosine encoded date columns, now that all missing values or outliers have been taken care off.\n",
    "\n",
    "Additionally we encode `wdir` the same way, since it is an measurement of wind angle (in °)."
   ]
  },
  {
   "cell_type": "code",
   "execution_count": 381,
   "id": "q67CwJ78b9IG",
   "metadata": {
    "colab": {
     "base_uri": "https://localhost:8080/"
    },
    "id": "q67CwJ78b9IG",
    "outputId": "ea12da37-2fe3-401d-e240-a613a7904c2f"
   },
   "outputs": [],
   "source": [
    "def sin_cos_transform(df):\n",
    "    \"\"\"\n",
    "        Function that transform the cyclical features day of week, day of month, day of year and wind direction into cos and sin.\n",
    "    \"\"\"\n",
    "\n",
    "    df_new = df.copy()\n",
    "\n",
    "    df_new['week_sin'] = np.sin(2 * np.pi * df_new.index.dayofweek / 7)\n",
    "    df_new['week_cos'] = np.cos(2 * np.pi * df_new.index.dayofweek / 7)\n",
    "    \n",
    "    df_new['month_sin'] = np.sin(2 * np.pi * df_new.index.day / 31)\n",
    "    df_new['month_cos'] = np.cos(2 * np.pi * df_new.index.day / 31)\n",
    "    \n",
    "    df_new['year_sin'] = np.sin(2 * np.pi * df_new.index.dayofyear / 365)\n",
    "    df_new['year_cos'] = np.cos(2 * np.pi * df_new.index.dayofyear / 365)\n",
    "    \n",
    "    df_new['wdir_sin'] = np.sin(2 * np.pi * df_new[\"wdir\"] / 359) # wind direction ranging from 0 - 359°\n",
    "    df_new['wdir_cos'] = np.cos(2 * np.pi * df_new[\"wdir\"] / 359) # wind direction ranging from 0 - 359°\n",
    "\n",
    "    print(\"Sin and cos transformation done\")\n",
    "    \n",
    "    return df_new\n",
    "\n",
    "#df_full_fixed"
   ]
  },
  {
   "cell_type": "code",
   "execution_count": 357,
   "id": "156e4009-dbb2-4185-9325-4304d2bd9e2b",
   "metadata": {},
   "outputs": [],
   "source": [
    "df_full_fixed = sin_cos_transform(df_full_fixed)"
   ]
  },
  {
   "cell_type": "code",
   "execution_count": 358,
   "id": "jYzhKneUiNiA",
   "metadata": {
    "colab": {
     "base_uri": "https://localhost:8080/",
     "height": 128
    },
    "id": "jYzhKneUiNiA",
    "outputId": "e5390610-7a86-4f3f-a085-83468fdf43de"
   },
   "outputs": [
    {
     "data": {
      "text/plain": [
       "'\\nplt.plot(np.array(df_full_fixed[\\'week_sin\\'])[:8], linestyle=\\'-\\', marker=\\'o\\')\\nplt.plot(np.array(df_full_fixed[\\'week_cos\\'])[:8], linestyle=\\'-\\', marker=\\'o\\')\\nplt.xlabel(\\'Time [day]\\')\\n\\ndf_full_fixed[0:8].plot.scatter(\\'week_sin\\', \"week_cos\").set_aspect(\\'equal\\')\\n'"
      ]
     },
     "execution_count": 358,
     "metadata": {},
     "output_type": "execute_result"
    }
   ],
   "source": [
    "# Uncomment for plotting transformed features\n",
    "\"\"\"\n",
    "plt.plot(np.array(df_full_fixed['week_sin'])[:8], linestyle='-', marker='o')\n",
    "plt.plot(np.array(df_full_fixed['week_cos'])[:8], linestyle='-', marker='o')\n",
    "plt.xlabel('Time [day]')\n",
    "\n",
    "df_full_fixed[0:8].plot.scatter('week_sin', \"week_cos\").set_aspect('equal')\n",
    "\"\"\""
   ]
  },
  {
   "cell_type": "code",
   "execution_count": 359,
   "id": "_1hDMOAxr5hC",
   "metadata": {
    "colab": {
     "base_uri": "https://localhost:8080/",
     "height": 128
    },
    "id": "_1hDMOAxr5hC",
    "outputId": "60a5af9d-5e36-4ac0-cbef-3d2f537567a7"
   },
   "outputs": [
    {
     "data": {
      "text/plain": [
       "'\\nplt.plot(np.array(df_full_fixed[\\'month_sin\\'])[:32], linestyle=\\'-\\', marker=\\'o\\')\\nplt.plot(np.array(df_full_fixed[\\'month_cos\\'])[:32], linestyle=\\'-\\', marker=\\'o\\')\\nplt.xlabel(\\'Time [day]\\')\\n\\ndf_full_fixed[0:31].plot.scatter(\\'month_sin\\', \"month_cos\").set_aspect(\\'equal\\')\\n'"
      ]
     },
     "execution_count": 359,
     "metadata": {},
     "output_type": "execute_result"
    }
   ],
   "source": [
    "# Uncomment for plotting transformed features\n",
    "\"\"\"\n",
    "plt.plot(np.array(df_full_fixed['month_sin'])[:32], linestyle='-', marker='o')\n",
    "plt.plot(np.array(df_full_fixed['month_cos'])[:32], linestyle='-', marker='o')\n",
    "plt.xlabel('Time [day]')\n",
    "\n",
    "df_full_fixed[0:31].plot.scatter('month_sin', \"month_cos\").set_aspect('equal')\n",
    "\"\"\""
   ]
  },
  {
   "cell_type": "code",
   "execution_count": 360,
   "id": "lXDv7aBLgNPg",
   "metadata": {
    "colab": {
     "base_uri": "https://localhost:8080/",
     "height": 110
    },
    "id": "lXDv7aBLgNPg",
    "outputId": "d046702b-fa48-4298-a620-254ad148e1a2"
   },
   "outputs": [
    {
     "data": {
      "text/plain": [
       "'\\nplt.plot(np.array(df_full_fixed[\\'year_sin\\'])[:366])\\nplt.plot(np.array(df_full_fixed[\\'year_cos\\'])[:366])\\nplt.xlabel(\\'Time [day]\\')\\n\\ndf_full_fixed[0:366].plot.scatter(\\'year_sin\\', \"year_cos\").set_aspect(\\'equal\\')\\n'"
      ]
     },
     "execution_count": 360,
     "metadata": {},
     "output_type": "execute_result"
    }
   ],
   "source": [
    "# Uncomment for plotting transformed features\n",
    "\"\"\"\n",
    "plt.plot(np.array(df_full_fixed['year_sin'])[:366])\n",
    "plt.plot(np.array(df_full_fixed['year_cos'])[:366])\n",
    "plt.xlabel('Time [day]')\n",
    "\n",
    "df_full_fixed[0:366].plot.scatter('year_sin', \"year_cos\").set_aspect('equal')\n",
    "\"\"\""
   ]
  },
  {
   "cell_type": "code",
   "execution_count": 361,
   "id": "i-qokj-hK1IA",
   "metadata": {
    "colab": {
     "base_uri": "https://localhost:8080/",
     "height": 524
    },
    "id": "i-qokj-hK1IA",
    "outputId": "cfbb5fe1-b176-4cd3-9e11-535ff737606c"
   },
   "outputs": [
    {
     "data": {
      "image/png": "[encoded data removed]",
      "text/plain": [
       "<Figure size 640x480 with 1 Axes>"
      ]
     },
     "metadata": {},
     "output_type": "display_data"
    }
   ],
   "source": [
    "df_full_fixed[0:360].plot.scatter('wdir_sin', \"wdir_cos\").set_aspect('equal')"
   ]
  },
  {
   "cell_type": "code",
   "execution_count": 362,
   "id": "HgCK7q_ThAem",
   "metadata": {
    "colab": {
     "base_uri": "https://localhost:8080/"
    },
    "id": "HgCK7q_ThAem",
    "outputId": "1cc7f2f9-9ff1-43af-a1b5-66cd86cc7deb"
   },
   "outputs": [],
   "source": [
    "# utils function\n",
    "def decode_sin_cos(sin, cos):\n",
    "    \"\"\"\n",
    "    Function to decode prior sin and consine encoded values\n",
    "\n",
    "    Args:\n",
    "        sin: encoded sin value\n",
    "        cos: encoded cos value\n",
    "\n",
    "    Return:\n",
    "        degree: value in degrees (0 - 360)\n",
    "    \"\"\"\n",
    "\n",
    "    angle = np.arctan2(sin, cos)\n",
    "    if angle > 0:\n",
    "        angle = angle * 360 / (2*np.pi)\n",
    "    else:\n",
    "        angle = (2*np.pi + angle) * 360 / (2*np.pi)\n",
    "\n",
    "    return angle\n"
   ]
  },
  {
   "cell_type": "markdown",
   "id": "ifAt2OMEdgHv",
   "metadata": {
    "id": "ifAt2OMEdgHv"
   },
   "source": [
    "Apart from making `wdir` easier to interpret for a ML model, the transformation also shows the distribution of values. Here the main wind directions are around 90° and between 180° and 270°."
   ]
  },
  {
   "cell_type": "markdown",
   "id": "3XztsZ4opZuG",
   "metadata": {
    "id": "3XztsZ4opZuG"
   },
   "source": [
    "<a name=\"6.\"></a>\n",
    "# 6.&nbsp;Transforming categorical features\n",
    "[Content](#content)"
   ]
  },
  {
   "cell_type": "markdown",
   "id": "QYknuYKApv1B",
   "metadata": {
    "id": "QYknuYKApv1B"
   },
   "source": [
    "We need to transform the columns `holiday` and `vacation` using `One-Hot-Encoding` and masking to change the categorical columns to numerical columns.\n",
    "\n",
    "We will use `One-Hot-Encoding` for the `holiday` feature. We will use masking (replacing) for the `vacation` feature and thus only having one column for `vacation` with 1 for vacation and 0 for no vcation.\n",
    "\n",
    "The reason for keeping only this reduced information on `vacation` has been discussed in the EDA step and is due to the similarity of the different vacations to each other and therefore distinguishing between different vacations might not add additional benefits (but could be tested nevertheless)."
   ]
  },
  {
   "cell_type": "code",
   "execution_count": 363,
   "id": "c31aa622-1264-43bc-8eee-36b558fed74b",
   "metadata": {},
   "outputs": [
    {
     "data": {
      "text/plain": [
       "date\n",
       "2013-01-01    Neujahr\n",
       "2013-01-02        NaN\n",
       "2013-01-03        NaN\n",
       "2013-01-04        NaN\n",
       "2013-01-05        NaN\n",
       "               ...   \n",
       "2022-12-27        NaN\n",
       "2022-12-28        NaN\n",
       "2022-12-29        NaN\n",
       "2022-12-30        NaN\n",
       "2022-12-31        NaN\n",
       "Name: holiday, Length: 3652, dtype: object"
      ]
     },
     "execution_count": 363,
     "metadata": {},
     "output_type": "execute_result"
    }
   ],
   "source": [
    "df_full_fixed[\"holiday\"]"
   ]
  },
  {
   "cell_type": "code",
   "execution_count": 382,
   "id": "227b68f8-95ba-4785-b01a-1196ed04e1a4",
   "metadata": {},
   "outputs": [],
   "source": [
    "def ohe_encoding(df, col):\n",
    "\n",
    "    df_new = df.copy()\n",
    "\n",
    "    # Remove NaN values, otherwise OHE encoder creates a new column for those values\n",
    "    df_new[col] = df_new[col].replace(to_replace=pd.NA, value=\"\")\n",
    "    \n",
    "    # Use One Hot Encoder only for encoding holiday feature\n",
    "    OH_encoder = OneHotEncoder(sparse_output=False)\n",
    "    \n",
    "    # Create OHencoding\n",
    "    transformed_array = OH_encoder.fit_transform(df_new[[col]])\n",
    "    \n",
    "    # Create temporary dataframe and concat with existing dataframe\n",
    "    #df_temp = pd.DataFrame(transformed_array, index=df_new.index, columns=OH_encoder.get_feature_names_out()).drop([\"holiday_nan\"], axis=1).clean_names(strip_underscores=\"both\")\n",
    "\n",
    "    df_temp = pd.DataFrame(transformed_array, index=df_new.index, columns=OH_encoder.get_feature_names_out()).clean_names(strip_underscores=\"both\")\n",
    "    df_new = pd.concat([df_new, df_temp], axis=1)\n",
    "\n",
    "    print(\"Categorical features OHE encoded\")\n",
    "\n",
    "    return df_new"
   ]
  },
  {
   "cell_type": "code",
   "execution_count": 365,
   "id": "d80c6f90-fbeb-4abb-962d-677560055e30",
   "metadata": {},
   "outputs": [],
   "source": [
    "df_full_fixed = ohe_encoding(df_full_fixed, \"holiday\")"
   ]
  },
  {
   "cell_type": "code",
   "execution_count": 383,
   "id": "4Gamu6Jvp5qi",
   "metadata": {
    "colab": {
     "base_uri": "https://localhost:8080/"
    },
    "id": "4Gamu6Jvp5qi",
    "outputId": "1da36ec2-0075-4675-df5c-affa1be0020a"
   },
   "outputs": [],
   "source": [
    "def binary_transform_column(df, col):\n",
    "\n",
    "    df_new = df.copy()\n",
    "\n",
    "    # Transform `vacation` feature\n",
    "    # Set the values to `0` or `1` according to mask\n",
    "    df_new[\"transformed_vacation\"] = df_new[\"vacation\"]\n",
    "    \n",
    "    # Create a mask for vacation or no vacation\n",
    "    mask = df_new[\"transformed_vacation\"].isna()\n",
    "    \n",
    "    df_new.loc[mask, \"transformed_vacation\"] = 0\n",
    "    df_new.loc[np.invert(mask), \"transformed_vacation\"] = 1\n",
    "    \n",
    "    df_new[\"transformed_vacation\"] = df_new[\"transformed_vacation\"].astype('int32')\n",
    "\n",
    "    print(\"Categorical feature binary encoded\")\n",
    "\n",
    "    return df_new"
   ]
  },
  {
   "cell_type": "code",
   "execution_count": 367,
   "id": "b71cbb9e-fa0b-4ad5-aece-92b345120d82",
   "metadata": {},
   "outputs": [],
   "source": [
    "df_full_fixed = binary_transform_column(df_full_fixed, \"vacation\")"
   ]
  },
  {
   "cell_type": "markdown",
   "id": "ah1jA9m-RuBv",
   "metadata": {
    "id": "ah1jA9m-RuBv"
   },
   "source": [
    "<a name=\"7.\"></a>\n",
    "# 7.&nbsp;Export imputed dataset\n",
    "[Content](#content)"
   ]
  },
  {
   "cell_type": "markdown",
   "id": "0ZarS6FPRznj",
   "metadata": {
    "id": "0ZarS6FPRznj"
   },
   "source": [
    "In this final step, we export the created dataset `df_full_fixed` to train a model in the next notebook."
   ]
  },
  {
   "cell_type": "code",
   "execution_count": 368,
   "id": "suSb-BQ6LdJ2",
   "metadata": {
    "colab": {
     "base_uri": "https://localhost:8080/",
     "height": 1000
    },
    "id": "suSb-BQ6LdJ2",
    "outputId": "f4bbe419-dea9-4740-b017-56b6822cf8ab"
   },
   "outputs": [
    {
     "data": {
      "text/html": [
       "<div>\n",
       "<style scoped>\n",
       "    .dataframe tbody tr th:only-of-type {\n",
       "        vertical-align: middle;\n",
       "    }\n",
       "\n",
       "    .dataframe tbody tr th {\n",
       "        vertical-align: top;\n",
       "    }\n",
       "\n",
       "    .dataframe thead th {\n",
       "        text-align: right;\n",
       "    }\n",
       "</style>\n",
       "<table border=\"1\" class=\"dataframe\">\n",
       "  <thead>\n",
       "    <tr style=\"text-align: right;\">\n",
       "      <th></th>\n",
       "      <th>count</th>\n",
       "      <th>mean</th>\n",
       "      <th>std</th>\n",
       "      <th>min</th>\n",
       "      <th>25%</th>\n",
       "      <th>50%</th>\n",
       "      <th>75%</th>\n",
       "      <th>max</th>\n",
       "    </tr>\n",
       "  </thead>\n",
       "  <tbody>\n",
       "    <tr>\n",
       "      <th>graf_moltke_straße_ostseite</th>\n",
       "      <td>3622.0</td>\n",
       "      <td>1092.194644</td>\n",
       "      <td>344.420497</td>\n",
       "      <td>13.0</td>\n",
       "      <td>853.00</td>\n",
       "      <td>1125.5</td>\n",
       "      <td>1344.75</td>\n",
       "      <td>1918.0</td>\n",
       "    </tr>\n",
       "    <tr>\n",
       "      <th>graf_moltke_straße_westseite</th>\n",
       "      <td>3576.0</td>\n",
       "      <td>1192.361857</td>\n",
       "      <td>400.569407</td>\n",
       "      <td>0.0</td>\n",
       "      <td>916.00</td>\n",
       "      <td>1224.0</td>\n",
       "      <td>1479.00</td>\n",
       "      <td>2136.0</td>\n",
       "    </tr>\n",
       "    <tr>\n",
       "      <th>hastedter_bruckenstraße</th>\n",
       "      <td>3636.0</td>\n",
       "      <td>2658.326458</td>\n",
       "      <td>1351.346180</td>\n",
       "      <td>0.0</td>\n",
       "      <td>1683.75</td>\n",
       "      <td>2534.0</td>\n",
       "      <td>3548.50</td>\n",
       "      <td>8284.0</td>\n",
       "    </tr>\n",
       "    <tr>\n",
       "      <th>langemarckstraße_ostseite</th>\n",
       "      <td>3639.0</td>\n",
       "      <td>2060.682056</td>\n",
       "      <td>852.346342</td>\n",
       "      <td>0.0</td>\n",
       "      <td>1438.50</td>\n",
       "      <td>2074.0</td>\n",
       "      <td>2683.00</td>\n",
       "      <td>5906.0</td>\n",
       "    </tr>\n",
       "    <tr>\n",
       "      <th>langemarckstraße_westseite</th>\n",
       "      <td>3651.0</td>\n",
       "      <td>1921.012051</td>\n",
       "      <td>1020.229339</td>\n",
       "      <td>0.0</td>\n",
       "      <td>1305.00</td>\n",
       "      <td>1921.0</td>\n",
       "      <td>2477.50</td>\n",
       "      <td>22263.0</td>\n",
       "    </tr>\n",
       "    <tr>\n",
       "      <th>...</th>\n",
       "      <td>...</td>\n",
       "      <td>...</td>\n",
       "      <td>...</td>\n",
       "      <td>...</td>\n",
       "      <td>...</td>\n",
       "      <td>...</td>\n",
       "      <td>...</td>\n",
       "      <td>...</td>\n",
       "    </tr>\n",
       "    <tr>\n",
       "      <th>holiday_pfingstmontag</th>\n",
       "      <td>3652.0</td>\n",
       "      <td>0.002738</td>\n",
       "      <td>0.052264</td>\n",
       "      <td>0.0</td>\n",
       "      <td>0.00</td>\n",
       "      <td>0.0</td>\n",
       "      <td>0.00</td>\n",
       "      <td>1.0</td>\n",
       "    </tr>\n",
       "    <tr>\n",
       "      <th>holiday_reformationstag</th>\n",
       "      <td>3652.0</td>\n",
       "      <td>0.001643</td>\n",
       "      <td>0.040505</td>\n",
       "      <td>0.0</td>\n",
       "      <td>0.00</td>\n",
       "      <td>0.0</td>\n",
       "      <td>0.00</td>\n",
       "      <td>1.0</td>\n",
       "    </tr>\n",
       "    <tr>\n",
       "      <th>holiday_tag_der_arbeit</th>\n",
       "      <td>3652.0</td>\n",
       "      <td>0.002738</td>\n",
       "      <td>0.052264</td>\n",
       "      <td>0.0</td>\n",
       "      <td>0.00</td>\n",
       "      <td>0.0</td>\n",
       "      <td>0.00</td>\n",
       "      <td>1.0</td>\n",
       "    </tr>\n",
       "    <tr>\n",
       "      <th>holiday_tag_der_deutschen_einheit</th>\n",
       "      <td>3652.0</td>\n",
       "      <td>0.002738</td>\n",
       "      <td>0.052264</td>\n",
       "      <td>0.0</td>\n",
       "      <td>0.00</td>\n",
       "      <td>0.0</td>\n",
       "      <td>0.00</td>\n",
       "      <td>1.0</td>\n",
       "    </tr>\n",
       "    <tr>\n",
       "      <th>transformed_vacation</th>\n",
       "      <td>3652.0</td>\n",
       "      <td>0.250548</td>\n",
       "      <td>0.433388</td>\n",
       "      <td>0.0</td>\n",
       "      <td>0.00</td>\n",
       "      <td>0.0</td>\n",
       "      <td>1.00</td>\n",
       "      <td>1.0</td>\n",
       "    </tr>\n",
       "  </tbody>\n",
       "</table>\n",
       "<p>61 rows × 8 columns</p>\n",
       "</div>"
      ],
      "text/plain": [
       "                                    count         mean          std   min  \\\n",
       "graf_moltke_straße_ostseite        3622.0  1092.194644   344.420497  13.0   \n",
       "graf_moltke_straße_westseite       3576.0  1192.361857   400.569407   0.0   \n",
       "hastedter_bruckenstraße            3636.0  2658.326458  1351.346180   0.0   \n",
       "langemarckstraße_ostseite          3639.0  2060.682056   852.346342   0.0   \n",
       "langemarckstraße_westseite         3651.0  1921.012051  1020.229339   0.0   \n",
       "...                                   ...          ...          ...   ...   \n",
       "holiday_pfingstmontag              3652.0     0.002738     0.052264   0.0   \n",
       "holiday_reformationstag            3652.0     0.001643     0.040505   0.0   \n",
       "holiday_tag_der_arbeit             3652.0     0.002738     0.052264   0.0   \n",
       "holiday_tag_der_deutschen_einheit  3652.0     0.002738     0.052264   0.0   \n",
       "transformed_vacation               3652.0     0.250548     0.433388   0.0   \n",
       "\n",
       "                                       25%     50%      75%      max  \n",
       "graf_moltke_straße_ostseite         853.00  1125.5  1344.75   1918.0  \n",
       "graf_moltke_straße_westseite        916.00  1224.0  1479.00   2136.0  \n",
       "hastedter_bruckenstraße            1683.75  2534.0  3548.50   8284.0  \n",
       "langemarckstraße_ostseite          1438.50  2074.0  2683.00   5906.0  \n",
       "langemarckstraße_westseite         1305.00  1921.0  2477.50  22263.0  \n",
       "...                                    ...     ...      ...      ...  \n",
       "holiday_pfingstmontag                 0.00     0.0     0.00      1.0  \n",
       "holiday_reformationstag               0.00     0.0     0.00      1.0  \n",
       "holiday_tag_der_arbeit                0.00     0.0     0.00      1.0  \n",
       "holiday_tag_der_deutschen_einheit     0.00     0.0     0.00      1.0  \n",
       "transformed_vacation                  0.00     0.0     1.00      1.0  \n",
       "\n",
       "[61 rows x 8 columns]"
      ]
     },
     "execution_count": 368,
     "metadata": {},
     "output_type": "execute_result"
    }
   ],
   "source": [
    "df_full_fixed.describe().transpose()"
   ]
  },
  {
   "cell_type": "code",
   "execution_count": 19,
   "id": "aQR6pnrFgzdu",
   "metadata": {
    "colab": {
     "base_uri": "https://localhost:8080/",
     "height": 91
    },
    "id": "aQR6pnrFgzdu",
    "outputId": "9490f903-8e94-4f34-848c-a7d6f1d45639"
   },
   "outputs": [],
   "source": [
    "date = datetime.date.today()\n",
    "\n",
    "# Save the new dataset to csv and download the file\n",
    "file_name = f\"{date}\" + \"_processed_\" + \"df.csv\"\n",
    "df_full.to_csv(file_name)"
   ]
  },
  {
   "cell_type": "markdown",
   "id": "a0876392-40bc-480b-a518-abd6a7881677",
   "metadata": {},
   "source": [
    "<a name=\"8.\"></a>\n",
    "# 8. Pipeline (Optional)\n",
    "\n",
    "[Content](#content)"
   ]
  },
  {
   "cell_type": "markdown",
   "id": "2aa5cebf-e728-40c7-ab37-5221c50a86a7",
   "metadata": {},
   "source": [
    "All the preprocessing steps can be chained togehter and combined into just one step. This has the benefit, that the code is musch cleaner and shorter, that no steps get missed and that all datasets have the same preprocessing steps. Additionally, it is easier to deploy a model to produciton, if all the steps are combined in a pipeline.\n",
    "\n",
    "The below code chains all previous preprocessing functions together. "
   ]
  },
  {
   "cell_type": "code",
   "execution_count": 384,
   "id": "3da88232-e6d0-4250-8278-b8725c82f4db",
   "metadata": {},
   "outputs": [],
   "source": [
    "from tensorflow import keras\n",
    "from tensorflow.keras import layers\n",
    "\n",
    "preprocessing = keras.Sequential(\n",
    "    [\n",
    "        layers.Lambda(add_time_features),\n",
    "        layers.Lambda(impute_stations, arguments={\"cols\":STATION_NAMES}),\n",
    "        layers.Lambda(impute_weather),\n",
    "        layers.Lambda(sin_cos_transform),\n",
    "        layers.Lambda(ohe_encoding, arguments={\"col\":\"holiday\"}),\n",
    "        layers.Lambda(binary_transform_column, arguments={\"col\":\"vacation\"}),\n",
    "    ]\n",
    ")\n"
   ]
  },
  {
   "cell_type": "markdown",
   "id": "7ad1a860-3738-4cea-9be1-2418faa99fce",
   "metadata": {},
   "source": [
    "To demonstrate the same resuls, we create a new DataFrame `df_full_fixed_2`, transform it with our pipeline, and compare it to our previous dataset `df_full_fixed`."
   ]
  },
  {
   "cell_type": "code",
   "execution_count": 385,
   "id": "e0874318-3d53-47e8-a483-929b86f8dbe9",
   "metadata": {},
   "outputs": [
    {
     "name": "stdout",
     "output_type": "stream",
     "text": [
      "Time features added\n",
      "Stations imputed\n",
      "Weather features imputed\n",
      "Sin and cos transformation done\n",
      "Categorical features OHE encoded\n"
     ]
    },
    {
     "name": "stderr",
     "output_type": "stream",
     "text": [
      "C:\\Users\\Mirco Rudolph\\AppData\\Local\\Temp\\ipykernel_12220\\933967630.py:49: FutureWarning:\n",
      "\n",
      "The 'method' keyword in Series.replace is deprecated and will be removed in a future version.\n",
      "\n",
      "C:\\Users\\Mirco Rudolph\\AppData\\Local\\Temp\\ipykernel_12220\\933967630.py:49: FutureWarning:\n",
      "\n",
      "The 'method' keyword in Series.replace is deprecated and will be removed in a future version.\n",
      "\n",
      "C:\\Users\\Mirco Rudolph\\AppData\\Local\\Temp\\ipykernel_12220\\933967630.py:49: FutureWarning:\n",
      "\n",
      "The 'method' keyword in Series.replace is deprecated and will be removed in a future version.\n",
      "\n",
      "C:\\Users\\Mirco Rudolph\\AppData\\Local\\Temp\\ipykernel_12220\\933967630.py:49: FutureWarning:\n",
      "\n",
      "The 'method' keyword in Series.replace is deprecated and will be removed in a future version.\n",
      "\n",
      "C:\\Users\\Mirco Rudolph\\AppData\\Local\\Temp\\ipykernel_12220\\933967630.py:49: FutureWarning:\n",
      "\n",
      "The 'method' keyword in Series.replace is deprecated and will be removed in a future version.\n",
      "\n",
      "C:\\Users\\Mirco Rudolph\\AppData\\Local\\Temp\\ipykernel_12220\\933967630.py:49: FutureWarning:\n",
      "\n",
      "The 'method' keyword in Series.replace is deprecated and will be removed in a future version.\n",
      "\n",
      "C:\\Users\\Mirco Rudolph\\AppData\\Local\\Temp\\ipykernel_12220\\933967630.py:49: FutureWarning:\n",
      "\n",
      "The 'method' keyword in Series.replace is deprecated and will be removed in a future version.\n",
      "\n",
      "C:\\Users\\Mirco Rudolph\\AppData\\Local\\Temp\\ipykernel_12220\\933967630.py:49: FutureWarning:\n",
      "\n",
      "The 'method' keyword in Series.replace is deprecated and will be removed in a future version.\n",
      "\n",
      "C:\\Users\\Mirco Rudolph\\AppData\\Local\\Temp\\ipykernel_12220\\933967630.py:49: FutureWarning:\n",
      "\n",
      "The 'method' keyword in Series.replace is deprecated and will be removed in a future version.\n",
      "\n",
      "C:\\Users\\Mirco Rudolph\\AppData\\Local\\Temp\\ipykernel_12220\\933967630.py:49: FutureWarning:\n",
      "\n",
      "The 'method' keyword in Series.replace is deprecated and will be removed in a future version.\n",
      "\n",
      "C:\\Users\\Mirco Rudolph\\AppData\\Local\\Temp\\ipykernel_12220\\933967630.py:49: FutureWarning:\n",
      "\n",
      "The 'method' keyword in Series.replace is deprecated and will be removed in a future version.\n",
      "\n",
      "C:\\Users\\Mirco Rudolph\\AppData\\Local\\Temp\\ipykernel_12220\\933967630.py:49: FutureWarning:\n",
      "\n",
      "The 'method' keyword in Series.replace is deprecated and will be removed in a future version.\n",
      "\n"
     ]
    },
    {
     "name": "stdout",
     "output_type": "stream",
     "text": [
      "Categorical feature binary encoded\n"
     ]
    }
   ],
   "source": [
    "df_full_fixed_2 = df_full.copy()\n",
    "\n",
    "# Apply preprocessing pipeline\n",
    "df_full_fixed_2 = preprocessing(df_full_fixed_2)"
   ]
  },
  {
   "cell_type": "code",
   "execution_count": 386,
   "id": "514651d2-c6a2-457c-bf70-6ae2ffa41560",
   "metadata": {},
   "outputs": [
    {
     "data": {
      "text/html": [
       "<div>\n",
       "<style scoped>\n",
       "    .dataframe tbody tr th:only-of-type {\n",
       "        vertical-align: middle;\n",
       "    }\n",
       "\n",
       "    .dataframe tbody tr th {\n",
       "        vertical-align: top;\n",
       "    }\n",
       "\n",
       "    .dataframe thead tr th {\n",
       "        text-align: left;\n",
       "    }\n",
       "\n",
       "    .dataframe thead tr:last-of-type th {\n",
       "        text-align: right;\n",
       "    }\n",
       "</style>\n",
       "<table border=\"1\" class=\"dataframe\">\n",
       "  <thead>\n",
       "    <tr>\n",
       "      <th>date</th>\n",
       "    </tr>\n",
       "  </thead>\n",
       "  <tbody>\n",
       "  </tbody>\n",
       "</table>\n",
       "</div>"
      ],
      "text/plain": [
       "Empty DataFrame\n",
       "Columns: []\n",
       "Index: []"
      ]
     },
     "execution_count": 386,
     "metadata": {},
     "output_type": "execute_result"
    }
   ],
   "source": [
    "# This line of code compares to DataFrames and returns differences. An empty DataFrame returned means both DataFrames are equall.\n",
    "df_full_fixed.compare(df_full_fixed_2)"
   ]
  }
 ],
 "metadata": {
  "colab": {
   "provenance": []
  },
  "kernelspec": {
   "display_name": "Python 3 (ipykernel)",
   "language": "python",
   "name": "python3"
  },
  "language_info": {
   "codemirror_mode": {
    "name": "ipython",
    "version": 3
   },
   "file_extension": ".py",
   "mimetype": "text/x-python",
   "name": "python",
   "nbconvert_exporter": "python",
   "pygments_lexer": "ipython3",
   "version": "3.9.2"
  },
  "widgets": {
   "application/vnd.jupyter.widget-state+json": {
    "02081b2c3c1049ef85047c25650e42a3": {
     "model_module": "@jupyter-widgets/base",
     "model_module_version": "1.2.0",
     "model_name": "LayoutModel",
     "state": {
      "_model_module": "@jupyter-widgets/base",
      "_model_module_version": "1.2.0",
      "_model_name": "LayoutModel",
      "_view_count": null,
      "_view_module": "@jupyter-widgets/base",
      "_view_module_version": "1.2.0",
      "_view_name": "LayoutView",
      "align_content": null,
      "align_items": null,
      "align_self": null,
      "border": null,
      "bottom": null,
      "display": null,
      "flex": null,
      "flex_flow": null,
      "grid_area": null,
      "grid_auto_columns": null,
      "grid_auto_flow": null,
      "grid_auto_rows": null,
      "grid_column": null,
      "grid_gap": null,
      "grid_row": null,
      "grid_template_areas": null,
      "grid_template_columns": null,
      "grid_template_rows": null,
      "height": null,
      "justify_content": null,
      "justify_items": null,
      "left": null,
      "margin": null,
      "max_height": null,
      "max_width": null,
      "min_height": null,
      "min_width": null,
      "object_fit": null,
      "object_position": null,
      "order": null,
      "overflow": null,
      "overflow_x": null,
      "overflow_y": null,
      "padding": null,
      "right": null,
      "top": null,
      "visibility": null,
      "width": null
     }
    },
    "11140ad540a444d4ab22b2ffd9c7e4b3": {
     "model_module": "@jupyter-widgets/controls",
     "model_module_version": "1.5.0",
     "model_name": "VBoxModel",
     "state": {
      "_dom_classes": [
       "widget-interact"
      ],
      "_model_module": "@jupyter-widgets/controls",
      "_model_module_version": "1.5.0",
      "_model_name": "VBoxModel",
      "_view_count": null,
      "_view_module": "@jupyter-widgets/controls",
      "_view_module_version": "1.5.0",
      "_view_name": "VBoxView",
      "box_style": "",
      "children": [
       "IPY_MODEL_2d507e1221094f07ba019423b9e7ef84",
       "IPY_MODEL_71a58b7172f44dee8aa9458862dc7f75"
      ],
      "layout": "IPY_MODEL_02081b2c3c1049ef85047c25650e42a3"
     }
    },
    "2d507e1221094f07ba019423b9e7ef84": {
     "model_module": "@jupyter-widgets/controls",
     "model_module_version": "1.5.0",
     "model_name": "DropdownModel",
     "state": {
      "_dom_classes": [],
      "_model_module": "@jupyter-widgets/controls",
      "_model_module_version": "1.5.0",
      "_model_name": "DropdownModel",
      "_options_labels": [
       "graf_moltke_straße_ostseite",
       "graf_moltke_straße_westseite",
       "hastedter_bruckenstraße",
       "langemarckstraße_ostseite",
       "langemarckstraße_westseite",
       "osterdeich",
       "radweg_kleine_weser",
       "schwachhauser_ring",
       "wachmannstraße_auswarts_sud",
       "wachmannstraße_einwarts_nord",
       "wilhelm_kaisen_brucke_ost",
       "wilhelm_kaisen_brucke_west",
       "wdir",
       "wpgt",
       "snow"
      ],
      "_view_count": null,
      "_view_module": "@jupyter-widgets/controls",
      "_view_module_version": "1.5.0",
      "_view_name": "DropdownView",
      "description": "Station:",
      "description_tooltip": null,
      "disabled": false,
      "index": 9,
      "layout": "IPY_MODEL_a27afc5efb9645a094562338d01b5862",
      "style": "IPY_MODEL_f571e8f5c8514b1287f7dcd24e990b5e"
     }
    },
    "71a58b7172f44dee8aa9458862dc7f75": {
     "model_module": "@jupyter-widgets/output",
     "model_module_version": "1.0.0",
     "model_name": "OutputModel",
     "state": {
      "_dom_classes": [],
      "_model_module": "@jupyter-widgets/output",
      "_model_module_version": "1.0.0",
      "_model_name": "OutputModel",
      "_view_count": null,
      "_view_module": "@jupyter-widgets/output",
      "_view_module_version": "1.0.0",
      "_view_name": "OutputView",
      "layout": "IPY_MODEL_a4df9325618a4e44ab3f25bc823d7655",
      "msg_id": "",
      "outputs": [
       {
        "data": {
         "text/html": "<html>\n<head><meta charset=\"utf-8\" /></head>\n<body>\n    <div>            <script src=\"https://cdnjs.cloudflare.com/ajax/libs/mathjax/2.7.5/MathJax.js?config=TeX-AMS-MML_SVG\"></script><script type=\"text/javascript\">if (window.MathJax && window.MathJax.Hub && window.MathJax.Hub.Config) {window.MathJax.Hub.Config({SVG: {font: \"STIX-Web\"}});}</script>                <script type=\"text/javascript\">window.PlotlyConfig = {MathJaxConfig: 'local'};</script>\n        <script charset=\"utf-8\" src=\"https://cdn.plot.ly/plotly-2.24.1.min.js\"></script>                <div id=\"3540028c-8ac8-4582-a4ca-3cf67cf6959e\" class=\"plotly-graph-div\" style=\"height:525px; width:1500px;\"></div>            <script type=\"text/javascript\">                                    window.PLOTLYENV=window.PLOTLYENV || {};                                    if (document.getElementById(\"3540028c-8ac8-4582-a4ca-3cf67cf6959e\")) {                    Plotly.newPlot(                        \"3540028c-8ac8-4582-a4ca-3cf67cf6959e\",                        [{\"hovertemplate\":\"\\u003cextra\\u003e\\u003c\\u002fextra\\u003e\",\"legendgroup\":\"\",\"line\":{\"color\":\"#636efa\",\"dash\":\"solid\"},\"marker\":{\"symbol\":\"circle\"},\"mode\":\"lines\",\"name\":\"\",\"orientation\":\"v\",\"showlegend\":false,\"xaxis\":\"x\",\"yaxis\":\"y\",\"type\":\"scatter\"},{\"line\":{\"color\":\"blue\"},\"mode\":\"lines\",\"name\":\"original\",\"x\":[\"2013-01-01T00:00:00\",\"2013-01-02T00:00:00\",\"2013-01-03T00:00:00\",\"2013-01-04T00:00:00\",\"2013-01-05T00:00:00\",\"2013-01-06T00:00:00\",\"2013-01-07T00:00:00\",\"2013-01-08T00:00:00\",\"2013-01-09T00:00:00\",\"2013-01-10T00:00:00\",\"2013-01-11T00:00:00\",\"2013-01-12T00:00:00\",\"2013-01-13T00:00:00\",\"2013-01-14T00:00:00\",\"2013-01-15T00:00:00\",\"2013-01-16T00:00:00\",\"2013-01-17T00:00:00\",\"2013-01-18T00:00:00\",\"2013-01-19T00:00:00\",\"2013-01-20T00:00:00\",\"2013-01-21T00:00:00\",\"2013-01-22T00:00:00\",\"2013-01-23T00:00:00\",\"2013-01-24T00:00:00\",\"2013-01-25T00:00:00\",\"2013-01-26T00:00:00\",\"2013-01-27T00:00:00\",\"2013-01-28T00:00:00\",\"2013-01-29T00:00:00\",\"2013-01-30T00:00:00\",\"2013-01-31T00:00:00\",\"2013-02-01T00:00:00\",\"2013-02-02T00:00:00\",\"2013-02-03T00:00:00\",\"2013-02-04T00:00:00\",\"2013-02-05T00:00:00\",\"2013-02-06T00:00:00\",\"2013-02-07T00:00:00\",\"2013-02-08T00:00:00\",\"2013-02-09T00:00:00\",\"2013-02-10T00:00:00\",\"2013-02-11T00:00:00\",\"2013-02-12T00:00:00\",\"2013-02-13T00:00:00\",\"2013-02-14T00:00:00\",\"2013-02-15T00:00:00\",\"2013-02-16T00:00:00\",\"2013-02-17T00:00:00\",\"2013-02-18T00:00:00\",\"2013-02-19T00:00:00\",\"2013-02-20T00:00:00\",\"2013-02-21T00:00:00\",\"2013-02-22T00:00:00\",\"2013-02-23T00:00:00\",\"2013-02-24T00:00:00\",\"2013-02-25T00:00:00\",\"2013-02-26T00:00:00\",\"2013-02-27T00:00:00\",\"2013-02-28T00:00:00\",\"2013-03-01T00:00:00\",\"2013-03-02T00:00:00\",\"2013-03-03T00:00:00\",\"2013-03-04T00:00:00\",\"2013-03-05T00:00:00\",\"2013-03-06T00:00:00\",\"2013-03-07T00:00:00\",\"2013-03-08T00:00:00\",\"2013-03-09T00:00:00\",\"2013-03-10T00:00:00\",\"2013-03-11T00:00:00\",\"2013-03-12T00:00:00\",\"2013-03-13T00:00:00\",\"2013-03-14T00:00:00\",\"2013-03-15T00:00:00\",\"2013-03-16T00:00:00\",\"2013-03-17T00:00:00\",\"2013-03-18T00:00:00\",\"2013-03-19T00:00:00\",\"2013-03-20T00:00:00\",\"2013-03-21T00:00:00\",\"2013-03-22T00:00:00\",\"2013-03-23T00:00:00\",\"2013-03-24T00:00:00\",\"2013-03-25T00:00:00\",\"2013-03-26T00:00:00\",\"2013-03-27T00:00:00\",\"2013-03-28T00:00:00\",\"2013-03-29T00:00:00\",\"2013-03-30T00:00:00\",\"2013-03-31T00:00:00\",\"2013-04-01T00:00:00\",\"2013-04-02T00:00:00\",\"2013-04-03T00:00:00\",\"2013-04-04T00:00:00\",\"2013-04-05T00:00:00\",\"2013-04-06T00:00:00\",\"2013-04-07T00:00:00\",\"2013-04-08T00:00:00\",\"2013-04-09T00:00:00\",\"2013-04-10T00:00:00\",\"2013-04-11T00:00:00\",\"2013-04-12T00:00:00\",\"2013-04-13T00:00:00\",\"2013-04-14T00:00:00\",\"2013-04-15T00:00:00\",\"2013-04-16T00:00:00\",\"2013-04-17T00:00:00\",\"2013-04-18T00:00:00\",\"2013-04-19T00:00:00\",\"2013-04-20T00:00:00\",\"2013-04-21T00:00:00\",\"2013-04-22T00:00:00\",\"2013-04-23T00:00:00\",\"2013-04-24T00:00:00\",\"2013-04-25T00:00:00\",\"2013-04-26T00:00:00\",\"2013-04-27T00:00:00\",\"2013-04-28T00:00:00\",\"2013-04-29T00:00:00\",\"2013-04-30T00:00:00\",\"2013-05-01T00:00:00\",\"2013-05-02T00:00:00\",\"2013-05-03T00:00:00\",\"2013-05-04T00:00:00\",\"2013-05-05T00:00:00\",\"2013-05-06T00:00:00\",\"2013-05-07T00:00:00\",\"2013-05-08T00:00:00\",\"2013-05-09T00:00:00\",\"2013-05-10T00:00:00\",\"2013-05-11T00:00:00\",\"2013-05-12T00:00:00\",\"2013-05-13T00:00:00\",\"2013-05-14T00:00:00\",\"2013-05-15T00:00:00\",\"2013-05-16T00:00:00\",\"2013-05-17T00:00:00\",\"2013-05-18T00:00:00\",\"2013-05-19T00:00:00\",\"2013-05-20T00:00:00\",\"2013-05-21T00:00:00\",\"2013-05-22T00:00:00\",\"2013-05-23T00:00:00\",\"2013-05-24T00:00:00\",\"2013-05-25T00:00:00\",\"2013-05-26T00:00:00\",\"2013-05-27T00:00:00\",\"2013-05-28T00:00:00\",\"2013-05-29T00:00:00\",\"2013-05-30T00:00:00\",\"2013-05-31T00:00:00\",\"2013-06-01T00:00:00\",\"2013-06-02T00:00:00\",\"2013-06-03T00:00:00\",\"2013-06-04T00:00:00\",\"2013-06-05T00:00:00\",\"2013-06-06T00:00:00\",\"2013-06-07T00:00:00\",\"2013-06-08T00:00:00\",\"2013-06-09T00:00:00\",\"2013-06-10T00:00:00\",\"2013-06-11T00:00:00\",\"2013-06-12T00:00:00\",\"2013-06-13T00:00:00\",\"2013-06-14T00:00:00\",\"2013-06-15T00:00:00\",\"2013-06-16T00:00:00\",\"2013-06-17T00:00:00\",\"2013-06-18T00:00:00\",\"2013-06-19T00:00:00\",\"2013-06-20T00:00:00\",\"2013-06-21T00:00:00\",\"2013-06-22T00:00:00\",\"2013-06-23T00:00:00\",\"2013-06-24T00:00:00\",\"2013-06-25T00:00:00\",\"2013-06-26T00:00:00\",\"2013-06-27T00:00:00\",\"2013-06-28T00:00:00\",\"2013-06-29T00:00:00\",\"2013-06-30T00:00:00\",\"2013-07-01T00:00:00\",\"2013-07-02T00:00:00\",\"2013-07-03T00:00:00\",\"2013-07-04T00:00:00\",\"2013-07-05T00:00:00\",\"2013-07-06T00:00:00\",\"2013-07-07T00:00:00\",\"2013-07-08T00:00:00\",\"2013-07-09T00:00:00\",\"2013-07-10T00:00:00\",\"2013-07-11T00:00:00\",\"2013-07-12T00:00:00\",\"2013-07-13T00:00:00\",\"2013-07-14T00:00:00\",\"2013-07-15T00:00:00\",\"2013-07-16T00:00:00\",\"2013-07-17T00:00:00\",\"2013-07-18T00:00:00\",\"2013-07-19T00:00:00\",\"2013-07-20T00:00:00\",\"2013-07-21T00:00:00\",\"2013-07-22T00:00:00\",\"2013-07-23T00:00:00\",\"2013-07-24T00:00:00\",\"2013-07-25T00:00:00\",\"2013-07-26T00:00:00\",\"2013-07-27T00:00:00\",\"2013-07-28T00:00:00\",\"2013-07-29T00:00:00\",\"2013-07-30T00:00:00\",\"2013-07-31T00:00:00\",\"2013-08-01T00:00:00\",\"2013-08-02T00:00:00\",\"2013-08-03T00:00:00\",\"2013-08-04T00:00:00\",\"2013-08-05T00:00:00\",\"2013-08-06T00:00:00\",\"2013-08-07T00:00:00\",\"2013-08-08T00:00:00\",\"2013-08-09T00:00:00\",\"2013-08-10T00:00:00\",\"2013-08-11T00:00:00\",\"2013-08-12T00:00:00\",\"2013-08-13T00:00:00\",\"2013-08-14T00:00:00\",\"2013-08-15T00:00:00\",\"2013-08-16T00:00:00\",\"2013-08-17T00:00:00\",\"2013-08-18T00:00:00\",\"2013-08-19T00:00:00\",\"2013-08-20T00:00:00\",\"2013-08-21T00:00:00\",\"2013-08-22T00:00:00\",\"2013-08-23T00:00:00\",\"2013-08-24T00:00:00\",\"2013-08-25T00:00:00\",\"2013-08-26T00:00:00\",\"2013-08-27T00:00:00\",\"2013-08-28T00:00:00\",\"2013-08-29T00:00:00\",\"2013-08-30T00:00:00\",\"2013-08-31T00:00:00\",\"2013-09-01T00:00:00\",\"2013-09-02T00:00:00\",\"2013-09-03T00:00:00\",\"2013-09-04T00:00:00\",\"2013-09-05T00:00:00\",\"2013-09-06T00:00:00\",\"2013-09-07T00:00:00\",\"2013-09-08T00:00:00\",\"2013-09-09T00:00:00\",\"2013-09-10T00:00:00\",\"2013-09-11T00:00:00\",\"2013-09-12T00:00:00\",\"2013-09-13T00:00:00\",\"2013-09-14T00:00:00\",\"2013-09-15T00:00:00\",\"2013-09-16T00:00:00\",\"2013-09-17T00:00:00\",\"2013-09-18T00:00:00\",\"2013-09-19T00:00:00\",\"2013-09-20T00:00:00\",\"2013-09-21T00:00:00\",\"2013-09-22T00:00:00\",\"2013-09-23T00:00:00\",\"2013-09-24T00:00:00\",\"2013-09-25T00:00:00\",\"2013-09-26T00:00:00\",\"2013-09-27T00:00:00\",\"2013-09-28T00:00:00\",\"2013-09-29T00:00:00\",\"2013-09-30T00:00:00\",\"2013-10-01T00:00:00\",\"2013-10-02T00:00:00\",\"2013-10-03T00:00:00\",\"2013-10-04T00:00:00\",\"2013-10-05T00:00:00\",\"2013-10-06T00:00:00\",\"2013-10-07T00:00:00\",\"2013-10-08T00:00:00\",\"2013-10-09T00:00:00\",\"2013-10-10T00:00:00\",\"2013-10-11T00:00:00\",\"2013-10-12T00:00:00\",\"2013-10-13T00:00:00\",\"2013-10-14T00:00:00\",\"2013-10-15T00:00:00\",\"2013-10-16T00:00:00\",\"2013-10-17T00:00:00\",\"2013-10-18T00:00:00\",\"2013-10-19T00:00:00\",\"2013-10-20T00:00:00\",\"2013-10-21T00:00:00\",\"2013-10-22T00:00:00\",\"2013-10-23T00:00:00\",\"2013-10-24T00:00:00\",\"2013-10-25T00:00:00\",\"2013-10-26T00:00:00\",\"2013-10-27T00:00:00\",\"2013-10-28T00:00:00\",\"2013-10-29T00:00:00\",\"2013-10-30T00:00:00\",\"2013-10-31T00:00:00\",\"2013-11-01T00:00:00\",\"2013-11-02T00:00:00\",\"2013-11-03T00:00:00\",\"2013-11-04T00:00:00\",\"2013-11-05T00:00:00\",\"2013-11-06T00:00:00\",\"2013-11-07T00:00:00\",\"2013-11-08T00:00:00\",\"2013-11-09T00:00:00\",\"2013-11-10T00:00:00\",\"2013-11-11T00:00:00\",\"2013-11-12T00:00:00\",\"2013-11-13T00:00:00\",\"2013-11-14T00:00:00\",\"2013-11-15T00:00:00\",\"2013-11-16T00:00:00\",\"2013-11-17T00:00:00\",\"2013-11-18T00:00:00\",\"2013-11-19T00:00:00\",\"2013-11-20T00:00:00\",\"2013-11-21T00:00:00\",\"2013-11-22T00:00:00\",\"2013-11-23T00:00:00\",\"2013-11-24T00:00:00\",\"2013-11-25T00:00:00\",\"2013-11-26T00:00:00\",\"2013-11-27T00:00:00\",\"2013-11-28T00:00:00\",\"2013-11-29T00:00:00\",\"2013-11-30T00:00:00\",\"2013-12-01T00:00:00\",\"2013-12-02T00:00:00\",\"2013-12-03T00:00:00\",\"2013-12-04T00:00:00\",\"2013-12-05T00:00:00\",\"2013-12-06T00:00:00\",\"2013-12-07T00:00:00\",\"2013-12-08T00:00:00\",\"2013-12-09T00:00:00\",\"2013-12-10T00:00:00\",\"2013-12-11T00:00:00\",\"2013-12-12T00:00:00\",\"2013-12-13T00:00:00\",\"2013-12-14T00:00:00\",\"2013-12-15T00:00:00\",\"2013-12-16T00:00:00\",\"2013-12-17T00:00:00\",\"2013-12-18T00:00:00\",\"2013-12-19T00:00:00\",\"2013-12-20T00:00:00\",\"2013-12-21T00:00:00\",\"2013-12-22T00:00:00\",\"2013-12-23T00:00:00\",\"2013-12-24T00:00:00\",\"2013-12-25T00:00:00\",\"2013-12-26T00:00:00\",\"2013-12-27T00:00:00\",\"2013-12-28T00:00:00\",\"2013-12-29T00:00:00\",\"2013-12-30T00:00:00\",\"2013-12-31T00:00:00\",\"2014-01-01T00:00:00\",\"2014-01-02T00:00:00\",\"2014-01-03T00:00:00\",\"2014-01-04T00:00:00\",\"2014-01-05T00:00:00\",\"2014-01-06T00:00:00\",\"2014-01-07T00:00:00\",\"2014-01-08T00:00:00\",\"2014-01-09T00:00:00\",\"2014-01-10T00:00:00\",\"2014-01-11T00:00:00\",\"2014-01-12T00:00:00\",\"2014-01-13T00:00:00\",\"2014-01-14T00:00:00\",\"2014-01-15T00:00:00\",\"2014-01-16T00:00:00\",\"2014-01-17T00:00:00\",\"2014-01-18T00:00:00\",\"2014-01-19T00:00:00\",\"2014-01-20T00:00:00\",\"2014-01-21T00:00:00\",\"2014-01-22T00:00:00\",\"2014-01-23T00:00:00\",\"2014-01-24T00:00:00\",\"2014-01-25T00:00:00\",\"2014-01-26T00:00:00\",\"2014-01-27T00:00:00\",\"2014-01-28T00:00:00\",\"2014-01-29T00:00:00\",\"2014-01-30T00:00:00\",\"2014-01-31T00:00:00\",\"2014-02-01T00:00:00\",\"2014-02-02T00:00:00\",\"2014-02-03T00:00:00\",\"2014-02-04T00:00:00\",\"2014-02-05T00:00:00\",\"2014-02-06T00:00:00\",\"2014-02-07T00:00:00\",\"2014-02-08T00:00:00\",\"2014-02-09T00:00:00\",\"2014-02-10T00:00:00\",\"2014-02-11T00:00:00\",\"2014-02-12T00:00:00\",\"2014-02-13T00:00:00\",\"2014-02-14T00:00:00\",\"2014-02-15T00:00:00\",\"2014-02-16T00:00:00\",\"2014-02-17T00:00:00\",\"2014-02-18T00:00:00\",\"2014-02-19T00:00:00\",\"2014-02-20T00:00:00\",\"2014-02-21T00:00:00\",\"2014-02-22T00:00:00\",\"2014-02-23T00:00:00\",\"2014-02-24T00:00:00\",\"2014-02-25T00:00:00\",\"2014-02-26T00:00:00\",\"2014-02-27T00:00:00\",\"2014-02-28T00:00:00\",\"2014-03-01T00:00:00\",\"2014-03-02T00:00:00\",\"2014-03-03T00:00:00\",\"2014-03-04T00:00:00\",\"2014-03-05T00:00:00\",\"2014-03-06T00:00:00\",\"2014-03-07T00:00:00\",\"2014-03-08T00:00:00\",\"2014-03-09T00:00:00\",\"2014-03-10T00:00:00\",\"2014-03-11T00:00:00\",\"2014-03-12T00:00:00\",\"2014-03-13T00:00:00\",\"2014-03-14T00:00:00\",\"2014-03-15T00:00:00\",\"2014-03-16T00:00:00\",\"2014-03-17T00:00:00\",\"2014-03-18T00:00:00\",\"2014-03-19T00:00:00\",\"2014-03-20T00:00:00\",\"2014-03-21T00:00:00\",\"2014-03-22T00:00:00\",\"2014-03-23T00:00:00\",\"2014-03-24T00:00:00\",\"2014-03-25T00:00:00\",\"2014-03-26T00:00:00\",\"2014-03-27T00:00:00\",\"2014-03-28T00:00:00\",\"2014-03-29T00:00:00\",\"2014-03-30T00:00:00\",\"2014-03-31T00:00:00\",\"2014-04-01T00:00:00\",\"2014-04-02T00:00:00\",\"2014-04-03T00:00:00\",\"2014-04-04T00:00:00\",\"2014-04-05T00:00:00\",\"2014-04-06T00:00:00\",\"2014-04-07T00:00:00\",\"2014-04-08T00:00:00\",\"2014-04-09T00:00:00\",\"2014-04-10T00:00:00\",\"2014-04-11T00:00:00\",\"2014-04-12T00:00:00\",\"2014-04-13T00:00:00\",\"2014-04-14T00:00:00\",\"2014-04-15T00:00:00\",\"2014-04-16T00:00:00\",\"2014-04-17T00:00:00\",\"2014-04-18T00:00:00\",\"2014-04-19T00:00:00\",\"2014-04-20T00:00:00\",\"2014-04-21T00:00:00\",\"2014-04-22T00:00:00\",\"2014-04-23T00:00:00\",\"2014-04-24T00:00:00\",\"2014-04-25T00:00:00\",\"2014-04-26T00:00:00\",\"2014-04-27T00:00:00\",\"2014-04-28T00:00:00\",\"2014-04-29T00:00:00\",\"2014-04-30T00:00:00\",\"2014-05-01T00:00:00\",\"2014-05-02T00:00:00\",\"2014-05-03T00:00:00\",\"2014-05-04T00:00:00\",\"2014-05-05T00:00:00\",\"2014-05-06T00:00:00\",\"2014-05-07T00:00:00\",\"2014-05-08T00:00:00\",\"2014-05-09T00:00:00\",\"2014-05-10T00:00:00\",\"2014-05-11T00:00:00\",\"2014-05-12T00:00:00\",\"2014-05-13T00:00:00\",\"2014-05-14T00:00:00\",\"2014-05-15T00:00:00\",\"2014-05-16T00:00:00\",\"2014-05-17T00:00:00\",\"2014-05-18T00:00:00\",\"2014-05-19T00:00:00\",\"2014-05-20T00:00:00\",\"2014-05-21T00:00:00\",\"2014-05-22T00:00:00\",\"2014-05-23T00:00:00\",\"2014-05-24T00:00:00\",\"2014-05-25T00:00:00\",\"2014-05-26T00:00:00\",\"2014-05-27T00:00:00\",\"2014-05-28T00:00:00\",\"2014-05-29T00:00:00\",\"2014-05-30T00:00:00\",\"2014-05-31T00:00:00\",\"2014-06-01T00:00:00\",\"2014-06-02T00:00:00\",\"2014-06-03T00:00:00\",\"2014-06-04T00:00:00\",\"2014-06-05T00:00:00\",\"2014-06-06T00:00:00\",\"2014-06-07T00:00:00\",\"2014-06-08T00:00:00\",\"2014-06-09T00:00:00\",\"2014-06-10T00:00:00\",\"2014-06-11T00:00:00\",\"2014-06-12T00:00:00\",\"2014-06-13T00:00:00\",\"2014-06-14T00:00:00\",\"2014-06-15T00:00:00\",\"2014-06-16T00:00:00\",\"2014-06-17T00:00:00\",\"2014-06-18T00:00:00\",\"2014-06-19T00:00:00\",\"2014-06-20T00:00:00\",\"2014-06-21T00:00:00\",\"2014-06-22T00:00:00\",\"2014-06-23T00:00:00\",\"2014-06-24T00:00:00\",\"2014-06-25T00:00:00\",\"2014-06-26T00:00:00\",\"2014-06-27T00:00:00\",\"2014-06-28T00:00:00\",\"2014-06-29T00:00:00\",\"2014-06-30T00:00:00\",\"2014-07-01T00:00:00\",\"2014-07-02T00:00:00\",\"2014-07-03T00:00:00\",\"2014-07-04T00:00:00\",\"2014-07-05T00:00:00\",\"2014-07-06T00:00:00\",\"2014-07-07T00:00:00\",\"2014-07-08T00:00:00\",\"2014-07-09T00:00:00\",\"2014-07-10T00:00:00\",\"2014-07-11T00:00:00\",\"2014-07-12T00:00:00\",\"2014-07-13T00:00:00\",\"2014-07-14T00:00:00\",\"2014-07-15T00:00:00\",\"2014-07-16T00:00:00\",\"2014-07-17T00:00:00\",\"2014-07-18T00:00:00\",\"2014-07-19T00:00:00\",\"2014-07-20T00:00:00\",\"2014-07-21T00:00:00\",\"2014-07-22T00:00:00\",\"2014-07-23T00:00:00\",\"2014-07-24T00:00:00\",\"2014-07-25T00:00:00\",\"2014-07-26T00:00:00\",\"2014-07-27T00:00:00\",\"2014-07-28T00:00:00\",\"2014-07-29T00:00:00\",\"2014-07-30T00:00:00\",\"2014-07-31T00:00:00\",\"2014-08-01T00:00:00\",\"2014-08-02T00:00:00\",\"2014-08-03T00:00:00\",\"2014-08-04T00:00:00\",\"2014-08-05T00:00:00\",\"2014-08-06T00:00:00\",\"2014-08-07T00:00:00\",\"2014-08-08T00:00:00\",\"2014-08-09T00:00:00\",\"2014-08-10T00:00:00\",\"2014-08-11T00:00:00\",\"2014-08-12T00:00:00\",\"2014-08-13T00:00:00\",\"2014-08-14T00:00:00\",\"2014-08-15T00:00:00\",\"2014-08-16T00:00:00\",\"2014-08-17T00:00:00\",\"2014-08-18T00:00:00\",\"2014-08-19T00:00:00\",\"2014-08-20T00:00:00\",\"2014-08-21T00:00:00\",\"2014-08-22T00:00:00\",\"2014-08-23T00:00:00\",\"2014-08-24T00:00:00\",\"2014-08-25T00:00:00\",\"2014-08-26T00:00:00\",\"2014-08-27T00:00:00\",\"2014-08-28T00:00:00\",\"2014-08-29T00:00:00\",\"2014-08-30T00:00:00\",\"2014-08-31T00:00:00\",\"2014-09-01T00:00:00\",\"2014-09-02T00:00:00\",\"2014-09-03T00:00:00\",\"2014-09-04T00:00:00\",\"2014-09-05T00:00:00\",\"2014-09-06T00:00:00\",\"2014-09-07T00:00:00\",\"2014-09-08T00:00:00\",\"2014-09-09T00:00:00\",\"2014-09-10T00:00:00\",\"2014-09-11T00:00:00\",\"2014-09-12T00:00:00\",\"2014-09-13T00:00:00\",\"2014-09-14T00:00:00\",\"2014-09-15T00:00:00\",\"2014-09-16T00:00:00\",\"2014-09-17T00:00:00\",\"2014-09-18T00:00:00\",\"2014-09-19T00:00:00\",\"2014-09-20T00:00:00\",\"2014-09-21T00:00:00\",\"2014-09-22T00:00:00\",\"2014-09-23T00:00:00\",\"2014-09-24T00:00:00\",\"2014-09-25T00:00:00\",\"2014-09-26T00:00:00\",\"2014-09-27T00:00:00\",\"2014-09-28T00:00:00\",\"2014-09-29T00:00:00\",\"2014-09-30T00:00:00\",\"2014-10-01T00:00:00\",\"2014-10-02T00:00:00\",\"2014-10-03T00:00:00\",\"2014-10-04T00:00:00\",\"2014-10-05T00:00:00\",\"2014-10-06T00:00:00\",\"2014-10-07T00:00:00\",\"2014-10-08T00:00:00\",\"2014-10-09T00:00:00\",\"2014-10-10T00:00:00\",\"2014-10-11T00:00:00\",\"2014-10-12T00:00:00\",\"2014-10-13T00:00:00\",\"2014-10-14T00:00:00\",\"2014-10-15T00:00:00\",\"2014-10-16T00:00:00\",\"2014-10-17T00:00:00\",\"2014-10-18T00:00:00\",\"2014-10-19T00:00:00\",\"2014-10-20T00:00:00\",\"2014-10-21T00:00:00\",\"2014-10-22T00:00:00\",\"2014-10-23T00:00:00\",\"2014-10-24T00:00:00\",\"2014-10-25T00:00:00\",\"2014-10-26T00:00:00\",\"2014-10-27T00:00:00\",\"2014-10-28T00:00:00\",\"2014-10-29T00:00:00\",\"2014-10-30T00:00:00\",\"2014-10-31T00:00:00\",\"2014-11-01T00:00:00\",\"2014-11-02T00:00:00\",\"2014-11-03T00:00:00\",\"2014-11-04T00:00:00\",\"2014-11-05T00:00:00\",\"2014-11-06T00:00:00\",\"2014-11-07T00:00:00\",\"2014-11-08T00:00:00\",\"2014-11-09T00:00:00\",\"2014-11-10T00:00:00\",\"2014-11-11T00:00:00\",\"2014-11-12T00:00:00\",\"2014-11-13T00:00:00\",\"2014-11-14T00:00:00\",\"2014-11-15T00:00:00\",\"2014-11-16T00:00:00\",\"2014-11-17T00:00:00\",\"2014-11-18T00:00:00\",\"2014-11-19T00:00:00\",\"2014-11-20T00:00:00\",\"2014-11-21T00:00:00\",\"2014-11-22T00:00:00\",\"2014-11-23T00:00:00\",\"2014-11-24T00:00:00\",\"2014-11-25T00:00:00\",\"2014-11-26T00:00:00\",\"2014-11-27T00:00:00\",\"2014-11-28T00:00:00\",\"2014-11-29T00:00:00\",\"2014-11-30T00:00:00\",\"2014-12-01T00:00:00\",\"2014-12-02T00:00:00\",\"2014-12-03T00:00:00\",\"2014-12-04T00:00:00\",\"2014-12-05T00:00:00\",\"2014-12-06T00:00:00\",\"2014-12-07T00:00:00\",\"2014-12-08T00:00:00\",\"2014-12-09T00:00:00\",\"2014-12-10T00:00:00\",\"2014-12-11T00:00:00\",\"2014-12-12T00:00:00\",\"2014-12-13T00:00:00\",\"2014-12-14T00:00:00\",\"2014-12-15T00:00:00\",\"2014-12-16T00:00:00\",\"2014-12-17T00:00:00\",\"2014-12-18T00:00:00\",\"2014-12-19T00:00:00\",\"2014-12-20T00:00:00\",\"2014-12-21T00:00:00\",\"2014-12-22T00:00:00\",\"2014-12-23T00:00:00\",\"2014-12-24T00:00:00\",\"2014-12-25T00:00:00\",\"2014-12-26T00:00:00\",\"2014-12-27T00:00:00\",\"2014-12-28T00:00:00\",\"2014-12-29T00:00:00\",\"2014-12-30T00:00:00\",\"2014-12-31T00:00:00\",\"2015-01-01T00:00:00\",\"2015-01-02T00:00:00\",\"2015-01-03T00:00:00\",\"2015-01-04T00:00:00\",\"2015-01-05T00:00:00\",\"2015-01-06T00:00:00\",\"2015-01-07T00:00:00\",\"2015-01-08T00:00:00\",\"2015-01-09T00:00:00\",\"2015-01-10T00:00:00\",\"2015-01-11T00:00:00\",\"2015-01-12T00:00:00\",\"2015-01-13T00:00:00\",\"2015-01-14T00:00:00\",\"2015-01-15T00:00:00\",\"2015-01-16T00:00:00\",\"2015-01-17T00:00:00\",\"2015-01-18T00:00:00\",\"2015-01-19T00:00:00\",\"2015-01-20T00:00:00\",\"2015-01-21T00:00:00\",\"2015-01-22T00:00:00\",\"2015-01-23T00:00:00\",\"2015-01-24T00:00:00\",\"2015-01-25T00:00:00\",\"2015-01-26T00:00:00\",\"2015-01-27T00:00:00\",\"2015-01-28T00:00:00\",\"2015-01-29T00:00:00\",\"2015-01-30T00:00:00\",\"2015-01-31T00:00:00\",\"2015-02-01T00:00:00\",\"2015-02-02T00:00:00\",\"2015-02-03T00:00:00\",\"2015-02-04T00:00:00\",\"2015-02-05T00:00:00\",\"2015-02-06T00:00:00\",\"2015-02-07T00:00:00\",\"2015-02-08T00:00:00\",\"2015-02-09T00:00:00\",\"2015-02-10T00:00:00\",\"2015-02-11T00:00:00\",\"2015-02-12T00:00:00\",\"2015-02-13T00:00:00\",\"2015-02-14T00:00:00\",\"2015-02-15T00:00:00\",\"2015-02-16T00:00:00\",\"2015-02-17T00:00:00\",\"2015-02-18T00:00:00\",\"2015-02-19T00:00:00\",\"2015-02-20T00:00:00\",\"2015-02-21T00:00:00\",\"2015-02-22T00:00:00\",\"2015-02-23T00:00:00\",\"2015-02-24T00:00:00\",\"2015-02-25T00:00:00\",\"2015-02-26T00:00:00\",\"2015-02-27T00:00:00\",\"2015-02-28T00:00:00\",\"2015-03-01T00:00:00\",\"2015-03-02T00:00:00\",\"2015-03-03T00:00:00\",\"2015-03-04T00:00:00\",\"2015-03-05T00:00:00\",\"2015-03-06T00:00:00\",\"2015-03-07T00:00:00\",\"2015-03-08T00:00:00\",\"2015-03-09T00:00:00\",\"2015-03-10T00:00:00\",\"2015-03-11T00:00:00\",\"2015-03-12T00:00:00\",\"2015-03-13T00:00:00\",\"2015-03-14T00:00:00\",\"2015-03-15T00:00:00\",\"2015-03-16T00:00:00\",\"2015-03-17T00:00:00\",\"2015-03-18T00:00:00\",\"2015-03-19T00:00:00\",\"2015-03-20T00:00:00\",\"2015-03-21T00:00:00\",\"2015-03-22T00:00:00\",\"2015-03-23T00:00:00\",\"2015-03-24T00:00:00\",\"2015-03-25T00:00:00\",\"2015-03-26T00:00:00\",\"2015-03-27T00:00:00\",\"2015-03-28T00:00:00\",\"2015-03-29T00:00:00\",\"2015-03-30T00:00:00\",\"2015-03-31T00:00:00\",\"2015-04-01T00:00:00\",\"2015-04-02T00:00:00\",\"2015-04-03T00:00:00\",\"2015-04-04T00:00:00\",\"2015-04-05T00:00:00\",\"2015-04-06T00:00:00\",\"2015-04-07T00:00:00\",\"2015-04-08T00:00:00\",\"2015-04-09T00:00:00\",\"2015-04-10T00:00:00\",\"2015-04-11T00:00:00\",\"2015-04-12T00:00:00\",\"2015-04-13T00:00:00\",\"2015-04-14T00:00:00\",\"2015-04-15T00:00:00\",\"2015-04-16T00:00:00\",\"2015-04-17T00:00:00\",\"2015-04-18T00:00:00\",\"2015-04-19T00:00:00\",\"2015-04-20T00:00:00\",\"2015-04-21T00:00:00\",\"2015-04-22T00:00:00\",\"2015-04-23T00:00:00\",\"2015-04-24T00:00:00\",\"2015-04-25T00:00:00\",\"2015-04-26T00:00:00\",\"2015-04-27T00:00:00\",\"2015-04-28T00:00:00\",\"2015-04-29T00:00:00\",\"2015-04-30T00:00:00\",\"2015-05-01T00:00:00\",\"2015-05-02T00:00:00\",\"2015-05-03T00:00:00\",\"2015-05-04T00:00:00\",\"2015-05-05T00:00:00\",\"2015-05-06T00:00:00\",\"2015-05-07T00:00:00\",\"2015-05-08T00:00:00\",\"2015-05-09T00:00:00\",\"2015-05-10T00:00:00\",\"2015-05-11T00:00:00\",\"2015-05-12T00:00:00\",\"2015-05-13T00:00:00\",\"2015-05-14T00:00:00\",\"2015-05-15T00:00:00\",\"2015-05-16T00:00:00\",\"2015-05-17T00:00:00\",\"2015-05-18T00:00:00\",\"2015-05-19T00:00:00\",\"2015-05-20T00:00:00\",\"2015-05-21T00:00:00\",\"2015-05-22T00:00:00\",\"2015-05-23T00:00:00\",\"2015-05-24T00:00:00\",\"2015-05-25T00:00:00\",\"2015-05-26T00:00:00\",\"2015-05-27T00:00:00\",\"2015-05-28T00:00:00\",\"2015-05-29T00:00:00\",\"2015-05-30T00:00:00\",\"2015-05-31T00:00:00\",\"2015-06-01T00:00:00\",\"2015-06-02T00:00:00\",\"2015-06-03T00:00:00\",\"2015-06-04T00:00:00\",\"2015-06-05T00:00:00\",\"2015-06-06T00:00:00\",\"2015-06-07T00:00:00\",\"2015-06-08T00:00:00\",\"2015-06-09T00:00:00\",\"2015-06-10T00:00:00\",\"2015-06-11T00:00:00\",\"2015-06-12T00:00:00\",\"2015-06-13T00:00:00\",\"2015-06-14T00:00:00\",\"2015-06-15T00:00:00\",\"2015-06-16T00:00:00\",\"2015-06-17T00:00:00\",\"2015-06-18T00:00:00\",\"2015-06-19T00:00:00\",\"2015-06-20T00:00:00\",\"2015-06-21T00:00:00\",\"2015-06-22T00:00:00\",\"2015-06-23T00:00:00\",\"2015-06-24T00:00:00\",\"2015-06-25T00:00:00\",\"2015-06-26T00:00:00\",\"2015-06-27T00:00:00\",\"2015-06-28T00:00:00\",\"2015-06-29T00:00:00\",\"2015-06-30T00:00:00\",\"2015-07-01T00:00:00\",\"2015-07-02T00:00:00\",\"2015-07-03T00:00:00\",\"2015-07-04T00:00:00\",\"2015-07-05T00:00:00\",\"2015-07-06T00:00:00\",\"2015-07-07T00:00:00\",\"2015-07-08T00:00:00\",\"2015-07-09T00:00:00\",\"2015-07-10T00:00:00\",\"2015-07-11T00:00:00\",\"2015-07-12T00:00:00\",\"2015-07-13T00:00:00\",\"2015-07-14T00:00:00\",\"2015-07-15T00:00:00\",\"2015-07-16T00:00:00\",\"2015-07-17T00:00:00\",\"2015-07-18T00:00:00\",\"2015-07-19T00:00:00\",\"2015-07-20T00:00:00\",\"2015-07-21T00:00:00\",\"2015-07-22T00:00:00\",\"2015-07-23T00:00:00\",\"2015-07-24T00:00:00\",\"2015-07-25T00:00:00\",\"2015-07-26T00:00:00\",\"2015-07-27T00:00:00\",\"2015-07-28T00:00:00\",\"2015-07-29T00:00:00\",\"2015-07-30T00:00:00\",\"2015-07-31T00:00:00\",\"2015-08-01T00:00:00\",\"2015-08-02T00:00:00\",\"2015-08-03T00:00:00\",\"2015-08-04T00:00:00\",\"2015-08-05T00:00:00\",\"2015-08-06T00:00:00\",\"2015-08-07T00:00:00\",\"2015-08-08T00:00:00\",\"2015-08-09T00:00:00\",\"2015-08-10T00:00:00\",\"2015-08-11T00:00:00\",\"2015-08-12T00:00:00\",\"2015-08-13T00:00:00\",\"2015-08-14T00:00:00\",\"2015-08-15T00:00:00\",\"2015-08-16T00:00:00\",\"2015-08-17T00:00:00\",\"2015-08-18T00:00:00\",\"2015-08-19T00:00:00\",\"2015-08-20T00:00:00\",\"2015-08-21T00:00:00\",\"2015-08-22T00:00:00\",\"2015-08-23T00:00:00\",\"2015-08-24T00:00:00\",\"2015-08-25T00:00:00\",\"2015-08-26T00:00:00\",\"2015-08-27T00:00:00\",\"2015-08-28T00:00:00\",\"2015-08-29T00:00:00\",\"2015-08-30T00:00:00\",\"2015-08-31T00:00:00\",\"2015-09-01T00:00:00\",\"2015-09-02T00:00:00\",\"2015-09-03T00:00:00\",\"2015-09-04T00:00:00\",\"2015-09-05T00:00:00\",\"2015-09-06T00:00:00\",\"2015-09-07T00:00:00\",\"2015-09-08T00:00:00\",\"2015-09-09T00:00:00\",\"2015-09-10T00:00:00\",\"2015-09-11T00:00:00\",\"2015-09-12T00:00:00\",\"2015-09-13T00:00:00\",\"2015-09-14T00:00:00\",\"2015-09-15T00:00:00\",\"2015-09-16T00:00:00\",\"2015-09-17T00:00:00\",\"2015-09-18T00:00:00\",\"2015-09-19T00:00:00\",\"2015-09-20T00:00:00\",\"2015-09-21T00:00:00\",\"2015-09-22T00:00:00\",\"2015-09-23T00:00:00\",\"2015-09-24T00:00:00\",\"2015-09-25T00:00:00\",\"2015-09-26T00:00:00\",\"2015-09-27T00:00:00\",\"2015-09-28T00:00:00\",\"2015-09-29T00:00:00\",\"2015-09-30T00:00:00\",\"2015-10-01T00:00:00\",\"2015-10-02T00:00:00\",\"2015-10-03T00:00:00\",\"2015-10-04T00:00:00\",\"2015-10-05T00:00:00\",\"2015-10-06T00:00:00\",\"2015-10-07T00:00:00\",\"2015-10-08T00:00:00\",\"2015-10-09T00:00:00\",\"2015-10-10T00:00:00\",\"2015-10-11T00:00:00\",\"2015-10-12T00:00:00\",\"2015-10-13T00:00:00\",\"2015-10-14T00:00:00\",\"2015-10-15T00:00:00\",\"2015-10-16T00:00:00\",\"2015-10-17T00:00:00\",\"2015-10-18T00:00:00\",\"2015-10-19T00:00:00\",\"2015-10-20T00:00:00\",\"2015-10-21T00:00:00\",\"2015-10-22T00:00:00\",\"2015-10-23T00:00:00\",\"2015-10-24T00:00:00\",\"2015-10-25T00:00:00\",\"2015-10-26T00:00:00\",\"2015-10-27T00:00:00\",\"2015-10-28T00:00:00\",\"2015-10-29T00:00:00\",\"2015-10-30T00:00:00\",\"2015-10-31T00:00:00\",\"2015-11-01T00:00:00\",\"2015-11-02T00:00:00\",\"2015-11-03T00:00:00\",\"2015-11-04T00:00:00\",\"2015-11-05T00:00:00\",\"2015-11-06T00:00:00\",\"2015-11-07T00:00:00\",\"2015-11-08T00:00:00\",\"2015-11-09T00:00:00\",\"2015-11-10T00:00:00\",\"2015-11-11T00:00:00\",\"2015-11-12T00:00:00\",\"2015-11-13T00:00:00\",\"2015-11-14T00:00:00\",\"2015-11-15T00:00:00\",\"2015-11-16T00:00:00\",\"2015-11-17T00:00:00\",\"2015-11-18T00:00:00\",\"2015-11-19T00:00:00\",\"2015-11-20T00:00:00\",\"2015-11-21T00:00:00\",\"2015-11-22T00:00:00\",\"2015-11-23T00:00:00\",\"2015-11-24T00:00:00\",\"2015-11-25T00:00:00\",\"2015-11-26T00:00:00\",\"2015-11-27T00:00:00\",\"2015-11-28T00:00:00\",\"2015-11-29T00:00:00\",\"2015-11-30T00:00:00\",\"2015-12-01T00:00:00\",\"2015-12-02T00:00:00\",\"2015-12-03T00:00:00\",\"2015-12-04T00:00:00\",\"2015-12-05T00:00:00\",\"2015-12-06T00:00:00\",\"2015-12-07T00:00:00\",\"2015-12-08T00:00:00\",\"2015-12-09T00:00:00\",\"2015-12-10T00:00:00\",\"2015-12-11T00:00:00\",\"2015-12-12T00:00:00\",\"2015-12-13T00:00:00\",\"2015-12-14T00:00:00\",\"2015-12-15T00:00:00\",\"2015-12-16T00:00:00\",\"2015-12-17T00:00:00\",\"2015-12-18T00:00:00\",\"2015-12-19T00:00:00\",\"2015-12-20T00:00:00\",\"2015-12-21T00:00:00\",\"2015-12-22T00:00:00\",\"2015-12-23T00:00:00\",\"2015-12-24T00:00:00\",\"2015-12-25T00:00:00\",\"2015-12-26T00:00:00\",\"2015-12-27T00:00:00\",\"2015-12-28T00:00:00\",\"2015-12-29T00:00:00\",\"2015-12-30T00:00:00\",\"2015-12-31T00:00:00\",\"2016-01-01T00:00:00\",\"2016-01-02T00:00:00\",\"2016-01-03T00:00:00\",\"2016-01-04T00:00:00\",\"2016-01-05T00:00:00\",\"2016-01-06T00:00:00\",\"2016-01-07T00:00:00\",\"2016-01-08T00:00:00\",\"2016-01-09T00:00:00\",\"2016-01-10T00:00:00\",\"2016-01-11T00:00:00\",\"2016-01-12T00:00:00\",\"2016-01-13T00:00:00\",\"2016-01-14T00:00:00\",\"2016-01-15T00:00:00\",\"2016-01-16T00:00:00\",\"2016-01-17T00:00:00\",\"2016-01-18T00:00:00\",\"2016-01-19T00:00:00\",\"2016-01-20T00:00:00\",\"2016-01-21T00:00:00\",\"2016-01-22T00:00:00\",\"2016-01-23T00:00:00\",\"2016-01-24T00:00:00\",\"2016-01-25T00:00:00\",\"2016-01-26T00:00:00\",\"2016-01-27T00:00:00\",\"2016-01-28T00:00:00\",\"2016-01-29T00:00:00\",\"2016-01-30T00:00:00\",\"2016-01-31T00:00:00\",\"2016-02-01T00:00:00\",\"2016-02-02T00:00:00\",\"2016-02-03T00:00:00\",\"2016-02-04T00:00:00\",\"2016-02-05T00:00:00\",\"2016-02-06T00:00:00\",\"2016-02-07T00:00:00\",\"2016-02-08T00:00:00\",\"2016-02-09T00:00:00\",\"2016-02-10T00:00:00\",\"2016-02-11T00:00:00\",\"2016-02-12T00:00:00\",\"2016-02-13T00:00:00\",\"2016-02-14T00:00:00\",\"2016-02-15T00:00:00\",\"2016-02-16T00:00:00\",\"2016-02-17T00:00:00\",\"2016-02-18T00:00:00\",\"2016-02-19T00:00:00\",\"2016-02-20T00:00:00\",\"2016-02-21T00:00:00\",\"2016-02-22T00:00:00\",\"2016-02-23T00:00:00\",\"2016-02-24T00:00:00\",\"2016-02-25T00:00:00\",\"2016-02-26T00:00:00\",\"2016-02-27T00:00:00\",\"2016-02-28T00:00:00\",\"2016-02-29T00:00:00\",\"2016-03-01T00:00:00\",\"2016-03-02T00:00:00\",\"2016-03-03T00:00:00\",\"2016-03-04T00:00:00\",\"2016-03-05T00:00:00\",\"2016-03-06T00:00:00\",\"2016-03-07T00:00:00\",\"2016-03-08T00:00:00\",\"2016-03-09T00:00:00\",\"2016-03-10T00:00:00\",\"2016-03-11T00:00:00\",\"2016-03-12T00:00:00\",\"2016-03-13T00:00:00\",\"2016-03-14T00:00:00\",\"2016-03-15T00:00:00\",\"2016-03-16T00:00:00\",\"2016-03-17T00:00:00\",\"2016-03-18T00:00:00\",\"2016-03-19T00:00:00\",\"2016-03-20T00:00:00\",\"2016-03-21T00:00:00\",\"2016-03-22T00:00:00\",\"2016-03-23T00:00:00\",\"2016-03-24T00:00:00\",\"2016-03-25T00:00:00\",\"2016-03-26T00:00:00\",\"2016-03-27T00:00:00\",\"2016-03-28T00:00:00\",\"2016-03-29T00:00:00\",\"2016-03-30T00:00:00\",\"2016-03-31T00:00:00\",\"2016-04-01T00:00:00\",\"2016-04-02T00:00:00\",\"2016-04-03T00:00:00\",\"2016-04-04T00:00:00\",\"2016-04-05T00:00:00\",\"2016-04-06T00:00:00\",\"2016-04-07T00:00:00\",\"2016-04-08T00:00:00\",\"2016-04-09T00:00:00\",\"2016-04-10T00:00:00\",\"2016-04-11T00:00:00\",\"2016-04-12T00:00:00\",\"2016-04-13T00:00:00\",\"2016-04-14T00:00:00\",\"2016-04-15T00:00:00\",\"2016-04-16T00:00:00\",\"2016-04-17T00:00:00\",\"2016-04-18T00:00:00\",\"2016-04-19T00:00:00\",\"2016-04-20T00:00:00\",\"2016-04-21T00:00:00\",\"2016-04-22T00:00:00\",\"2016-04-23T00:00:00\",\"2016-04-24T00:00:00\",\"2016-04-25T00:00:00\",\"2016-04-26T00:00:00\",\"2016-04-27T00:00:00\",\"2016-04-28T00:00:00\",\"2016-04-29T00:00:00\",\"2016-04-30T00:00:00\",\"2016-05-01T00:00:00\",\"2016-05-02T00:00:00\",\"2016-05-03T00:00:00\",\"2016-05-04T00:00:00\",\"2016-05-05T00:00:00\",\"2016-05-06T00:00:00\",\"2016-05-07T00:00:00\",\"2016-05-08T00:00:00\",\"2016-05-09T00:00:00\",\"2016-05-10T00:00:00\",\"2016-05-11T00:00:00\",\"2016-05-12T00:00:00\",\"2016-05-13T00:00:00\",\"2016-05-14T00:00:00\",\"2016-05-15T00:00:00\",\"2016-05-16T00:00:00\",\"2016-05-17T00:00:00\",\"2016-05-18T00:00:00\",\"2016-05-19T00:00:00\",\"2016-05-20T00:00:00\",\"2016-05-21T00:00:00\",\"2016-05-22T00:00:00\",\"2016-05-23T00:00:00\",\"2016-05-24T00:00:00\",\"2016-05-25T00:00:00\",\"2016-05-26T00:00:00\",\"2016-05-27T00:00:00\",\"2016-05-28T00:00:00\",\"2016-05-29T00:00:00\",\"2016-05-30T00:00:00\",\"2016-05-31T00:00:00\",\"2016-06-01T00:00:00\",\"2016-06-02T00:00:00\",\"2016-06-03T00:00:00\",\"2016-06-04T00:00:00\",\"2016-06-05T00:00:00\",\"2016-06-06T00:00:00\",\"2016-06-07T00:00:00\",\"2016-06-08T00:00:00\",\"2016-06-09T00:00:00\",\"2016-06-10T00:00:00\",\"2016-06-11T00:00:00\",\"2016-06-12T00:00:00\",\"2016-06-13T00:00:00\",\"2016-06-14T00:00:00\",\"2016-06-15T00:00:00\",\"2016-06-16T00:00:00\",\"2016-06-17T00:00:00\",\"2016-06-18T00:00:00\",\"2016-06-19T00:00:00\",\"2016-06-20T00:00:00\",\"2016-06-21T00:00:00\",\"2016-06-22T00:00:00\",\"2016-06-23T00:00:00\",\"2016-06-24T00:00:00\",\"2016-06-25T00:00:00\",\"2016-06-26T00:00:00\",\"2016-06-27T00:00:00\",\"2016-06-28T00:00:00\",\"2016-06-29T00:00:00\",\"2016-06-30T00:00:00\",\"2016-07-01T00:00:00\",\"2016-07-02T00:00:00\",\"2016-07-03T00:00:00\",\"2016-07-04T00:00:00\",\"2016-07-05T00:00:00\",\"2016-07-06T00:00:00\",\"2016-07-07T00:00:00\",\"2016-07-08T00:00:00\",\"2016-07-09T00:00:00\",\"2016-07-10T00:00:00\",\"2016-07-11T00:00:00\",\"2016-07-12T00:00:00\",\"2016-07-13T00:00:00\",\"2016-07-14T00:00:00\",\"2016-07-15T00:00:00\",\"2016-07-16T00:00:00\",\"2016-07-17T00:00:00\",\"2016-07-18T00:00:00\",\"2016-07-19T00:00:00\",\"2016-07-20T00:00:00\",\"2016-07-21T00:00:00\",\"2016-07-22T00:00:00\",\"2016-07-23T00:00:00\",\"2016-07-24T00:00:00\",\"2016-07-25T00:00:00\",\"2016-07-26T00:00:00\",\"2016-07-27T00:00:00\",\"2016-07-28T00:00:00\",\"2016-07-29T00:00:00\",\"2016-07-30T00:00:00\",\"2016-07-31T00:00:00\",\"2016-08-01T00:00:00\",\"2016-08-02T00:00:00\",\"2016-08-03T00:00:00\",\"2016-08-04T00:00:00\",\"2016-08-05T00:00:00\",\"2016-08-06T00:00:00\",\"2016-08-07T00:00:00\",\"2016-08-08T00:00:00\",\"2016-08-09T00:00:00\",\"2016-08-10T00:00:00\",\"2016-08-11T00:00:00\",\"2016-08-12T00:00:00\",\"2016-08-13T00:00:00\",\"2016-08-14T00:00:00\",\"2016-08-15T00:00:00\",\"2016-08-16T00:00:00\",\"2016-08-17T00:00:00\",\"2016-08-18T00:00:00\",\"2016-08-19T00:00:00\",\"2016-08-20T00:00:00\",\"2016-08-21T00:00:00\",\"2016-08-22T00:00:00\",\"2016-08-23T00:00:00\",\"2016-08-24T00:00:00\",\"2016-08-25T00:00:00\",\"2016-08-26T00:00:00\",\"2016-08-27T00:00:00\",\"2016-08-28T00:00:00\",\"2016-08-29T00:00:00\",\"2016-08-30T00:00:00\",\"2016-08-31T00:00:00\",\"2016-09-01T00:00:00\",\"2016-09-02T00:00:00\",\"2016-09-03T00:00:00\",\"2016-09-04T00:00:00\",\"2016-09-05T00:00:00\",\"2016-09-06T00:00:00\",\"2016-09-07T00:00:00\",\"2016-09-08T00:00:00\",\"2016-09-09T00:00:00\",\"2016-09-10T00:00:00\",\"2016-09-11T00:00:00\",\"2016-09-12T00:00:00\",\"2016-09-13T00:00:00\",\"2016-09-14T00:00:00\",\"2016-09-15T00:00:00\",\"2016-09-16T00:00:00\",\"2016-09-17T00:00:00\",\"2016-09-18T00:00:00\",\"2016-09-19T00:00:00\",\"2016-09-20T00:00:00\",\"2016-09-21T00:00:00\",\"2016-09-22T00:00:00\",\"2016-09-23T00:00:00\",\"2016-09-24T00:00:00\",\"2016-09-25T00:00:00\",\"2016-09-26T00:00:00\",\"2016-09-27T00:00:00\",\"2016-09-28T00:00:00\",\"2016-09-29T00:00:00\",\"2016-09-30T00:00:00\",\"2016-10-01T00:00:00\",\"2016-10-02T00:00:00\",\"2016-10-03T00:00:00\",\"2016-10-04T00:00:00\",\"2016-10-05T00:00:00\",\"2016-10-06T00:00:00\",\"2016-10-07T00:00:00\",\"2016-10-08T00:00:00\",\"2016-10-09T00:00:00\",\"2016-10-10T00:00:00\",\"2016-10-11T00:00:00\",\"2016-10-12T00:00:00\",\"2016-10-13T00:00:00\",\"2016-10-14T00:00:00\",\"2016-10-15T00:00:00\",\"2016-10-16T00:00:00\",\"2016-10-17T00:00:00\",\"2016-10-18T00:00:00\",\"2016-10-19T00:00:00\",\"2016-10-20T00:00:00\",\"2016-10-21T00:00:00\",\"2016-10-22T00:00:00\",\"2016-10-23T00:00:00\",\"2016-10-24T00:00:00\",\"2016-10-25T00:00:00\",\"2016-10-26T00:00:00\",\"2016-10-27T00:00:00\",\"2016-10-28T00:00:00\",\"2016-10-29T00:00:00\",\"2016-10-30T00:00:00\",\"2016-10-31T00:00:00\",\"2016-11-01T00:00:00\",\"2016-11-02T00:00:00\",\"2016-11-03T00:00:00\",\"2016-11-04T00:00:00\",\"2016-11-05T00:00:00\",\"2016-11-06T00:00:00\",\"2016-11-07T00:00:00\",\"2016-11-08T00:00:00\",\"2016-11-09T00:00:00\",\"2016-11-10T00:00:00\",\"2016-11-11T00:00:00\",\"2016-11-12T00:00:00\",\"2016-11-13T00:00:00\",\"2016-11-14T00:00:00\",\"2016-11-15T00:00:00\",\"2016-11-16T00:00:00\",\"2016-11-17T00:00:00\",\"2016-11-18T00:00:00\",\"2016-11-19T00:00:00\",\"2016-11-20T00:00:00\",\"2016-11-21T00:00:00\",\"2016-11-22T00:00:00\",\"2016-11-23T00:00:00\",\"2016-11-24T00:00:00\",\"2016-11-25T00:00:00\",\"2016-11-26T00:00:00\",\"2016-11-27T00:00:00\",\"2016-11-28T00:00:00\",\"2016-11-29T00:00:00\",\"2016-11-30T00:00:00\",\"2016-12-01T00:00:00\",\"2016-12-02T00:00:00\",\"2016-12-03T00:00:00\",\"2016-12-04T00:00:00\",\"2016-12-05T00:00:00\",\"2016-12-06T00:00:00\",\"2016-12-07T00:00:00\",\"2016-12-08T00:00:00\",\"2016-12-09T00:00:00\",\"2016-12-10T00:00:00\",\"2016-12-11T00:00:00\",\"2016-12-12T00:00:00\",\"2016-12-13T00:00:00\",\"2016-12-14T00:00:00\",\"2016-12-15T00:00:00\",\"2016-12-16T00:00:00\",\"2016-12-17T00:00:00\",\"2016-12-18T00:00:00\",\"2016-12-19T00:00:00\",\"2016-12-20T00:00:00\",\"2016-12-21T00:00:00\",\"2016-12-22T00:00:00\",\"2016-12-23T00:00:00\",\"2016-12-24T00:00:00\",\"2016-12-25T00:00:00\",\"2016-12-26T00:00:00\",\"2016-12-27T00:00:00\",\"2016-12-28T00:00:00\",\"2016-12-29T00:00:00\",\"2016-12-30T00:00:00\",\"2016-12-31T00:00:00\",\"2017-01-01T00:00:00\",\"2017-01-02T00:00:00\",\"2017-01-03T00:00:00\",\"2017-01-04T00:00:00\",\"2017-01-05T00:00:00\",\"2017-01-06T00:00:00\",\"2017-01-07T00:00:00\",\"2017-01-08T00:00:00\",\"2017-01-09T00:00:00\",\"2017-01-10T00:00:00\",\"2017-01-11T00:00:00\",\"2017-01-12T00:00:00\",\"2017-01-13T00:00:00\",\"2017-01-14T00:00:00\",\"2017-01-15T00:00:00\",\"2017-01-16T00:00:00\",\"2017-01-17T00:00:00\",\"2017-01-18T00:00:00\",\"2017-01-19T00:00:00\",\"2017-01-20T00:00:00\",\"2017-01-21T00:00:00\",\"2017-01-22T00:00:00\",\"2017-01-23T00:00:00\",\"2017-01-24T00:00:00\",\"2017-01-25T00:00:00\",\"2017-01-26T00:00:00\",\"2017-01-27T00:00:00\",\"2017-01-28T00:00:00\",\"2017-01-29T00:00:00\",\"2017-01-30T00:00:00\",\"2017-01-31T00:00:00\",\"2017-02-01T00:00:00\",\"2017-02-02T00:00:00\",\"2017-02-03T00:00:00\",\"2017-02-04T00:00:00\",\"2017-02-05T00:00:00\",\"2017-02-06T00:00:00\",\"2017-02-07T00:00:00\",\"2017-02-08T00:00:00\",\"2017-02-09T00:00:00\",\"2017-02-10T00:00:00\",\"2017-02-11T00:00:00\",\"2017-02-12T00:00:00\",\"2017-02-13T00:00:00\",\"2017-02-14T00:00:00\",\"2017-02-15T00:00:00\",\"2017-02-16T00:00:00\",\"2017-02-17T00:00:00\",\"2017-02-18T00:00:00\",\"2017-02-19T00:00:00\",\"2017-02-20T00:00:00\",\"2017-02-21T00:00:00\",\"2017-02-22T00:00:00\",\"2017-02-23T00:00:00\",\"2017-02-24T00:00:00\",\"2017-02-25T00:00:00\",\"2017-02-26T00:00:00\",\"2017-02-27T00:00:00\",\"2017-02-28T00:00:00\",\"2017-03-01T00:00:00\",\"2017-03-02T00:00:00\",\"2017-03-03T00:00:00\",\"2017-03-04T00:00:00\",\"2017-03-05T00:00:00\",\"2017-03-06T00:00:00\",\"2017-03-07T00:00:00\",\"2017-03-08T00:00:00\",\"2017-03-09T00:00:00\",\"2017-03-10T00:00:00\",\"2017-03-11T00:00:00\",\"2017-03-12T00:00:00\",\"2017-03-13T00:00:00\",\"2017-03-14T00:00:00\",\"2017-03-15T00:00:00\",\"2017-03-16T00:00:00\",\"2017-03-17T00:00:00\",\"2017-03-18T00:00:00\",\"2017-03-19T00:00:00\",\"2017-03-20T00:00:00\",\"2017-03-21T00:00:00\",\"2017-03-22T00:00:00\",\"2017-03-23T00:00:00\",\"2017-03-24T00:00:00\",\"2017-03-25T00:00:00\",\"2017-03-26T00:00:00\",\"2017-03-27T00:00:00\",\"2017-03-28T00:00:00\",\"2017-03-29T00:00:00\",\"2017-03-30T00:00:00\",\"2017-03-31T00:00:00\",\"2017-04-01T00:00:00\",\"2017-04-02T00:00:00\",\"2017-04-03T00:00:00\",\"2017-04-04T00:00:00\",\"2017-04-05T00:00:00\",\"2017-04-06T00:00:00\",\"2017-04-07T00:00:00\",\"2017-04-08T00:00:00\",\"2017-04-09T00:00:00\",\"2017-04-10T00:00:00\",\"2017-04-11T00:00:00\",\"2017-04-12T00:00:00\",\"2017-04-13T00:00:00\",\"2017-04-14T00:00:00\",\"2017-04-15T00:00:00\",\"2017-04-16T00:00:00\",\"2017-04-17T00:00:00\",\"2017-04-18T00:00:00\",\"2017-04-19T00:00:00\",\"2017-04-20T00:00:00\",\"2017-04-21T00:00:00\",\"2017-04-22T00:00:00\",\"2017-04-23T00:00:00\",\"2017-04-24T00:00:00\",\"2017-04-25T00:00:00\",\"2017-04-26T00:00:00\",\"2017-04-27T00:00:00\",\"2017-04-28T00:00:00\",\"2017-04-29T00:00:00\",\"2017-04-30T00:00:00\",\"2017-05-01T00:00:00\",\"2017-05-02T00:00:00\",\"2017-05-03T00:00:00\",\"2017-05-04T00:00:00\",\"2017-05-05T00:00:00\",\"2017-05-06T00:00:00\",\"2017-05-07T00:00:00\",\"2017-05-08T00:00:00\",\"2017-05-09T00:00:00\",\"2017-05-10T00:00:00\",\"2017-05-11T00:00:00\",\"2017-05-12T00:00:00\",\"2017-05-13T00:00:00\",\"2017-05-14T00:00:00\",\"2017-05-15T00:00:00\",\"2017-05-16T00:00:00\",\"2017-05-17T00:00:00\",\"2017-05-18T00:00:00\",\"2017-05-19T00:00:00\",\"2017-05-20T00:00:00\",\"2017-05-21T00:00:00\",\"2017-05-22T00:00:00\",\"2017-05-23T00:00:00\",\"2017-05-24T00:00:00\",\"2017-05-25T00:00:00\",\"2017-05-26T00:00:00\",\"2017-05-27T00:00:00\",\"2017-05-28T00:00:00\",\"2017-05-29T00:00:00\",\"2017-05-30T00:00:00\",\"2017-05-31T00:00:00\",\"2017-06-01T00:00:00\",\"2017-06-02T00:00:00\",\"2017-06-03T00:00:00\",\"2017-06-04T00:00:00\",\"2017-06-05T00:00:00\",\"2017-06-06T00:00:00\",\"2017-06-07T00:00:00\",\"2017-06-08T00:00:00\",\"2017-06-09T00:00:00\",\"2017-06-10T00:00:00\",\"2017-06-11T00:00:00\",\"2017-06-12T00:00:00\",\"2017-06-13T00:00:00\",\"2017-06-14T00:00:00\",\"2017-06-15T00:00:00\",\"2017-06-16T00:00:00\",\"2017-06-17T00:00:00\",\"2017-06-18T00:00:00\",\"2017-06-19T00:00:00\",\"2017-06-20T00:00:00\",\"2017-06-21T00:00:00\",\"2017-06-22T00:00:00\",\"2017-06-23T00:00:00\",\"2017-06-24T00:00:00\",\"2017-06-25T00:00:00\",\"2017-06-26T00:00:00\",\"2017-06-27T00:00:00\",\"2017-06-28T00:00:00\",\"2017-06-29T00:00:00\",\"2017-06-30T00:00:00\",\"2017-07-01T00:00:00\",\"2017-07-02T00:00:00\",\"2017-07-03T00:00:00\",\"2017-07-04T00:00:00\",\"2017-07-05T00:00:00\",\"2017-07-06T00:00:00\",\"2017-07-07T00:00:00\",\"2017-07-08T00:00:00\",\"2017-07-09T00:00:00\",\"2017-07-10T00:00:00\",\"2017-07-11T00:00:00\",\"2017-07-12T00:00:00\",\"2017-07-13T00:00:00\",\"2017-07-14T00:00:00\",\"2017-07-15T00:00:00\",\"2017-07-16T00:00:00\",\"2017-07-17T00:00:00\",\"2017-07-18T00:00:00\",\"2017-07-19T00:00:00\",\"2017-07-20T00:00:00\",\"2017-07-21T00:00:00\",\"2017-07-22T00:00:00\",\"2017-07-23T00:00:00\",\"2017-07-24T00:00:00\",\"2017-07-25T00:00:00\",\"2017-07-26T00:00:00\",\"2017-07-27T00:00:00\",\"2017-07-28T00:00:00\",\"2017-07-29T00:00:00\",\"2017-07-30T00:00:00\",\"2017-07-31T00:00:00\",\"2017-08-01T00:00:00\",\"2017-08-02T00:00:00\",\"2017-08-03T00:00:00\",\"2017-08-04T00:00:00\",\"2017-08-05T00:00:00\",\"2017-08-06T00:00:00\",\"2017-08-07T00:00:00\",\"2017-08-08T00:00:00\",\"2017-08-09T00:00:00\",\"2017-08-10T00:00:00\",\"2017-08-11T00:00:00\",\"2017-08-12T00:00:00\",\"2017-08-13T00:00:00\",\"2017-08-14T00:00:00\",\"2017-08-15T00:00:00\",\"2017-08-16T00:00:00\",\"2017-08-17T00:00:00\",\"2017-08-18T00:00:00\",\"2017-08-19T00:00:00\",\"2017-08-20T00:00:00\",\"2017-08-21T00:00:00\",\"2017-08-22T00:00:00\",\"2017-08-23T00:00:00\",\"2017-08-24T00:00:00\",\"2017-08-25T00:00:00\",\"2017-08-26T00:00:00\",\"2017-08-27T00:00:00\",\"2017-08-28T00:00:00\",\"2017-08-29T00:00:00\",\"2017-08-30T00:00:00\",\"2017-08-31T00:00:00\",\"2017-09-01T00:00:00\",\"2017-09-02T00:00:00\",\"2017-09-03T00:00:00\",\"2017-09-04T00:00:00\",\"2017-09-05T00:00:00\",\"2017-09-06T00:00:00\",\"2017-09-07T00:00:00\",\"2017-09-08T00:00:00\",\"2017-09-09T00:00:00\",\"2017-09-10T00:00:00\",\"2017-09-11T00:00:00\",\"2017-09-12T00:00:00\",\"2017-09-13T00:00:00\",\"2017-09-14T00:00:00\",\"2017-09-15T00:00:00\",\"2017-09-16T00:00:00\",\"2017-09-17T00:00:00\",\"2017-09-18T00:00:00\",\"2017-09-19T00:00:00\",\"2017-09-20T00:00:00\",\"2017-09-21T00:00:00\",\"2017-09-22T00:00:00\",\"2017-09-23T00:00:00\",\"2017-09-24T00:00:00\",\"2017-09-25T00:00:00\",\"2017-09-26T00:00:00\",\"2017-09-27T00:00:00\",\"2017-09-28T00:00:00\",\"2017-09-29T00:00:00\",\"2017-09-30T00:00:00\",\"2017-10-01T00:00:00\",\"2017-10-02T00:00:00\",\"2017-10-03T00:00:00\",\"2017-10-04T00:00:00\",\"2017-10-05T00:00:00\",\"2017-10-06T00:00:00\",\"2017-10-07T00:00:00\",\"2017-10-08T00:00:00\",\"2017-10-09T00:00:00\",\"2017-10-10T00:00:00\",\"2017-10-11T00:00:00\",\"2017-10-12T00:00:00\",\"2017-10-13T00:00:00\",\"2017-10-14T00:00:00\",\"2017-10-15T00:00:00\",\"2017-10-16T00:00:00\",\"2017-10-17T00:00:00\",\"2017-10-18T00:00:00\",\"2017-10-19T00:00:00\",\"2017-10-20T00:00:00\",\"2017-10-21T00:00:00\",\"2017-10-22T00:00:00\",\"2017-10-23T00:00:00\",\"2017-10-24T00:00:00\",\"2017-10-25T00:00:00\",\"2017-10-26T00:00:00\",\"2017-10-27T00:00:00\",\"2017-10-28T00:00:00\",\"2017-10-29T00:00:00\",\"2017-10-30T00:00:00\",\"2017-10-31T00:00:00\",\"2017-11-01T00:00:00\",\"2017-11-02T00:00:00\",\"2017-11-03T00:00:00\",\"2017-11-04T00:00:00\",\"2017-11-05T00:00:00\",\"2017-11-06T00:00:00\",\"2017-11-07T00:00:00\",\"2017-11-08T00:00:00\",\"2017-11-09T00:00:00\",\"2017-11-10T00:00:00\",\"2017-11-11T00:00:00\",\"2017-11-12T00:00:00\",\"2017-11-13T00:00:00\",\"2017-11-14T00:00:00\",\"2017-11-15T00:00:00\",\"2017-11-16T00:00:00\",\"2017-11-17T00:00:00\",\"2017-11-18T00:00:00\",\"2017-11-19T00:00:00\",\"2017-11-20T00:00:00\",\"2017-11-21T00:00:00\",\"2017-11-22T00:00:00\",\"2017-11-23T00:00:00\",\"2017-11-24T00:00:00\",\"2017-11-25T00:00:00\",\"2017-11-26T00:00:00\",\"2017-11-27T00:00:00\",\"2017-11-28T00:00:00\",\"2017-11-29T00:00:00\",\"2017-11-30T00:00:00\",\"2017-12-01T00:00:00\",\"2017-12-02T00:00:00\",\"2017-12-03T00:00:00\",\"2017-12-04T00:00:00\",\"2017-12-05T00:00:00\",\"2017-12-06T00:00:00\",\"2017-12-07T00:00:00\",\"2017-12-08T00:00:00\",\"2017-12-09T00:00:00\",\"2017-12-10T00:00:00\",\"2017-12-11T00:00:00\",\"2017-12-12T00:00:00\",\"2017-12-13T00:00:00\",\"2017-12-14T00:00:00\",\"2017-12-15T00:00:00\",\"2017-12-16T00:00:00\",\"2017-12-17T00:00:00\",\"2017-12-18T00:00:00\",\"2017-12-19T00:00:00\",\"2017-12-20T00:00:00\",\"2017-12-21T00:00:00\",\"2017-12-22T00:00:00\",\"2017-12-23T00:00:00\",\"2017-12-24T00:00:00\",\"2017-12-25T00:00:00\",\"2017-12-26T00:00:00\",\"2017-12-27T00:00:00\",\"2017-12-28T00:00:00\",\"2017-12-29T00:00:00\",\"2017-12-30T00:00:00\",\"2017-12-31T00:00:00\",\"2018-01-01T00:00:00\",\"2018-01-02T00:00:00\",\"2018-01-03T00:00:00\",\"2018-01-04T00:00:00\",\"2018-01-05T00:00:00\",\"2018-01-06T00:00:00\",\"2018-01-07T00:00:00\",\"2018-01-08T00:00:00\",\"2018-01-09T00:00:00\",\"2018-01-10T00:00:00\",\"2018-01-11T00:00:00\",\"2018-01-12T00:00:00\",\"2018-01-13T00:00:00\",\"2018-01-14T00:00:00\",\"2018-01-15T00:00:00\",\"2018-01-16T00:00:00\",\"2018-01-17T00:00:00\",\"2018-01-18T00:00:00\",\"2018-01-19T00:00:00\",\"2018-01-20T00:00:00\",\"2018-01-21T00:00:00\",\"2018-01-22T00:00:00\",\"2018-01-23T00:00:00\",\"2018-01-24T00:00:00\",\"2018-01-25T00:00:00\",\"2018-01-26T00:00:00\",\"2018-01-27T00:00:00\",\"2018-01-28T00:00:00\",\"2018-01-29T00:00:00\",\"2018-01-30T00:00:00\",\"2018-01-31T00:00:00\",\"2018-02-01T00:00:00\",\"2018-02-02T00:00:00\",\"2018-02-03T00:00:00\",\"2018-02-04T00:00:00\",\"2018-02-05T00:00:00\",\"2018-02-06T00:00:00\",\"2018-02-07T00:00:00\",\"2018-02-08T00:00:00\",\"2018-02-09T00:00:00\",\"2018-02-10T00:00:00\",\"2018-02-11T00:00:00\",\"2018-02-12T00:00:00\",\"2018-02-13T00:00:00\",\"2018-02-14T00:00:00\",\"2018-02-15T00:00:00\",\"2018-02-16T00:00:00\",\"2018-02-17T00:00:00\",\"2018-02-18T00:00:00\",\"2018-02-19T00:00:00\",\"2018-02-20T00:00:00\",\"2018-02-21T00:00:00\",\"2018-02-22T00:00:00\",\"2018-02-23T00:00:00\",\"2018-02-24T00:00:00\",\"2018-02-25T00:00:00\",\"2018-02-26T00:00:00\",\"2018-02-27T00:00:00\",\"2018-02-28T00:00:00\",\"2018-03-01T00:00:00\",\"2018-03-02T00:00:00\",\"2018-03-03T00:00:00\",\"2018-03-04T00:00:00\",\"2018-03-05T00:00:00\",\"2018-03-06T00:00:00\",\"2018-03-07T00:00:00\",\"2018-03-08T00:00:00\",\"2018-03-09T00:00:00\",\"2018-03-10T00:00:00\",\"2018-03-11T00:00:00\",\"2018-03-12T00:00:00\",\"2018-03-13T00:00:00\",\"2018-03-14T00:00:00\",\"2018-03-15T00:00:00\",\"2018-03-16T00:00:00\",\"2018-03-17T00:00:00\",\"2018-03-18T00:00:00\",\"2018-03-19T00:00:00\",\"2018-03-20T00:00:00\",\"2018-03-21T00:00:00\",\"2018-03-22T00:00:00\",\"2018-03-23T00:00:00\",\"2018-03-24T00:00:00\",\"2018-03-25T00:00:00\",\"2018-03-26T00:00:00\",\"2018-03-27T00:00:00\",\"2018-03-28T00:00:00\",\"2018-03-29T00:00:00\",\"2018-03-30T00:00:00\",\"2018-03-31T00:00:00\",\"2018-04-01T00:00:00\",\"2018-04-02T00:00:00\",\"2018-04-03T00:00:00\",\"2018-04-04T00:00:00\",\"2018-04-05T00:00:00\",\"2018-04-06T00:00:00\",\"2018-04-07T00:00:00\",\"2018-04-08T00:00:00\",\"2018-04-09T00:00:00\",\"2018-04-10T00:00:00\",\"2018-04-11T00:00:00\",\"2018-04-12T00:00:00\",\"2018-04-13T00:00:00\",\"2018-04-14T00:00:00\",\"2018-04-15T00:00:00\",\"2018-04-16T00:00:00\",\"2018-04-17T00:00:00\",\"2018-04-18T00:00:00\",\"2018-04-19T00:00:00\",\"2018-04-20T00:00:00\",\"2018-04-21T00:00:00\",\"2018-04-22T00:00:00\",\"2018-04-23T00:00:00\",\"2018-04-24T00:00:00\",\"2018-04-25T00:00:00\",\"2018-04-26T00:00:00\",\"2018-04-27T00:00:00\",\"2018-04-28T00:00:00\",\"2018-04-29T00:00:00\",\"2018-04-30T00:00:00\",\"2018-05-01T00:00:00\",\"2018-05-02T00:00:00\",\"2018-05-03T00:00:00\",\"2018-05-04T00:00:00\",\"2018-05-05T00:00:00\",\"2018-05-06T00:00:00\",\"2018-05-07T00:00:00\",\"2018-05-08T00:00:00\",\"2018-05-09T00:00:00\",\"2018-05-10T00:00:00\",\"2018-05-11T00:00:00\",\"2018-05-12T00:00:00\",\"2018-05-13T00:00:00\",\"2018-05-14T00:00:00\",\"2018-05-15T00:00:00\",\"2018-05-16T00:00:00\",\"2018-05-17T00:00:00\",\"2018-05-18T00:00:00\",\"2018-05-19T00:00:00\",\"2018-05-20T00:00:00\",\"2018-05-21T00:00:00\",\"2018-05-22T00:00:00\",\"2018-05-23T00:00:00\",\"2018-05-24T00:00:00\",\"2018-05-25T00:00:00\",\"2018-05-26T00:00:00\",\"2018-05-27T00:00:00\",\"2018-05-28T00:00:00\",\"2018-05-29T00:00:00\",\"2018-05-30T00:00:00\",\"2018-05-31T00:00:00\",\"2018-06-01T00:00:00\",\"2018-06-02T00:00:00\",\"2018-06-03T00:00:00\",\"2018-06-04T00:00:00\",\"2018-06-05T00:00:00\",\"2018-06-06T00:00:00\",\"2018-06-07T00:00:00\",\"2018-06-08T00:00:00\",\"2018-06-09T00:00:00\",\"2018-06-10T00:00:00\",\"2018-06-11T00:00:00\",\"2018-06-12T00:00:00\",\"2018-06-13T00:00:00\",\"2018-06-14T00:00:00\",\"2018-06-15T00:00:00\",\"2018-06-16T00:00:00\",\"2018-06-17T00:00:00\",\"2018-06-18T00:00:00\",\"2018-06-19T00:00:00\",\"2018-06-20T00:00:00\",\"2018-06-21T00:00:00\",\"2018-06-22T00:00:00\",\"2018-06-23T00:00:00\",\"2018-06-24T00:00:00\",\"2018-06-25T00:00:00\",\"2018-06-26T00:00:00\",\"2018-06-27T00:00:00\",\"2018-06-28T00:00:00\",\"2018-06-29T00:00:00\",\"2018-06-30T00:00:00\",\"2018-07-01T00:00:00\",\"2018-07-02T00:00:00\",\"2018-07-03T00:00:00\",\"2018-07-04T00:00:00\",\"2018-07-05T00:00:00\",\"2018-07-06T00:00:00\",\"2018-07-07T00:00:00\",\"2018-07-08T00:00:00\",\"2018-07-09T00:00:00\",\"2018-07-10T00:00:00\",\"2018-07-11T00:00:00\",\"2018-07-12T00:00:00\",\"2018-07-13T00:00:00\",\"2018-07-14T00:00:00\",\"2018-07-15T00:00:00\",\"2018-07-16T00:00:00\",\"2018-07-17T00:00:00\",\"2018-07-18T00:00:00\",\"2018-07-19T00:00:00\",\"2018-07-20T00:00:00\",\"2018-07-21T00:00:00\",\"2018-07-22T00:00:00\",\"2018-07-23T00:00:00\",\"2018-07-24T00:00:00\",\"2018-07-25T00:00:00\",\"2018-07-26T00:00:00\",\"2018-07-27T00:00:00\",\"2018-07-28T00:00:00\",\"2018-07-29T00:00:00\",\"2018-07-30T00:00:00\",\"2018-07-31T00:00:00\",\"2018-08-01T00:00:00\",\"2018-08-02T00:00:00\",\"2018-08-03T00:00:00\",\"2018-08-04T00:00:00\",\"2018-08-05T00:00:00\",\"2018-08-06T00:00:00\",\"2018-08-07T00:00:00\",\"2018-08-08T00:00:00\",\"2018-08-09T00:00:00\",\"2018-08-10T00:00:00\",\"2018-08-11T00:00:00\",\"2018-08-12T00:00:00\",\"2018-08-13T00:00:00\",\"2018-08-14T00:00:00\",\"2018-08-15T00:00:00\",\"2018-08-16T00:00:00\",\"2018-08-17T00:00:00\",\"2018-08-18T00:00:00\",\"2018-08-19T00:00:00\",\"2018-08-20T00:00:00\",\"2018-08-21T00:00:00\",\"2018-08-22T00:00:00\",\"2018-08-23T00:00:00\",\"2018-08-24T00:00:00\",\"2018-08-25T00:00:00\",\"2018-08-26T00:00:00\",\"2018-08-27T00:00:00\",\"2018-08-28T00:00:00\",\"2018-08-29T00:00:00\",\"2018-08-30T00:00:00\",\"2018-08-31T00:00:00\",\"2018-09-01T00:00:00\",\"2018-09-02T00:00:00\",\"2018-09-03T00:00:00\",\"2018-09-04T00:00:00\",\"2018-09-05T00:00:00\",\"2018-09-06T00:00:00\",\"2018-09-07T00:00:00\",\"2018-09-08T00:00:00\",\"2018-09-09T00:00:00\",\"2018-09-10T00:00:00\",\"2018-09-11T00:00:00\",\"2018-09-12T00:00:00\",\"2018-09-13T00:00:00\",\"2018-09-14T00:00:00\",\"2018-09-15T00:00:00\",\"2018-09-16T00:00:00\",\"2018-09-17T00:00:00\",\"2018-09-18T00:00:00\",\"2018-09-19T00:00:00\",\"2018-09-20T00:00:00\",\"2018-09-21T00:00:00\",\"2018-09-22T00:00:00\",\"2018-09-23T00:00:00\",\"2018-09-24T00:00:00\",\"2018-09-25T00:00:00\",\"2018-09-26T00:00:00\",\"2018-09-27T00:00:00\",\"2018-09-28T00:00:00\",\"2018-09-29T00:00:00\",\"2018-09-30T00:00:00\",\"2018-10-01T00:00:00\",\"2018-10-02T00:00:00\",\"2018-10-03T00:00:00\",\"2018-10-04T00:00:00\",\"2018-10-05T00:00:00\",\"2018-10-06T00:00:00\",\"2018-10-07T00:00:00\",\"2018-10-08T00:00:00\",\"2018-10-09T00:00:00\",\"2018-10-10T00:00:00\",\"2018-10-11T00:00:00\",\"2018-10-12T00:00:00\",\"2018-10-13T00:00:00\",\"2018-10-14T00:00:00\",\"2018-10-15T00:00:00\",\"2018-10-16T00:00:00\",\"2018-10-17T00:00:00\",\"2018-10-18T00:00:00\",\"2018-10-19T00:00:00\",\"2018-10-20T00:00:00\",\"2018-10-21T00:00:00\",\"2018-10-22T00:00:00\",\"2018-10-23T00:00:00\",\"2018-10-24T00:00:00\",\"2018-10-25T00:00:00\",\"2018-10-26T00:00:00\",\"2018-10-27T00:00:00\",\"2018-10-28T00:00:00\",\"2018-10-29T00:00:00\",\"2018-10-30T00:00:00\",\"2018-10-31T00:00:00\",\"2018-11-01T00:00:00\",\"2018-11-02T00:00:00\",\"2018-11-03T00:00:00\",\"2018-11-04T00:00:00\",\"2018-11-05T00:00:00\",\"2018-11-06T00:00:00\",\"2018-11-07T00:00:00\",\"2018-11-08T00:00:00\",\"2018-11-09T00:00:00\",\"2018-11-10T00:00:00\",\"2018-11-11T00:00:00\",\"2018-11-12T00:00:00\",\"2018-11-13T00:00:00\",\"2018-11-14T00:00:00\",\"2018-11-15T00:00:00\",\"2018-11-16T00:00:00\",\"2018-11-17T00:00:00\",\"2018-11-18T00:00:00\",\"2018-11-19T00:00:00\",\"2018-11-20T00:00:00\",\"2018-11-21T00:00:00\",\"2018-11-22T00:00:00\",\"2018-11-23T00:00:00\",\"2018-11-24T00:00:00\",\"2018-11-25T00:00:00\",\"2018-11-26T00:00:00\",\"2018-11-27T00:00:00\",\"2018-11-28T00:00:00\",\"2018-11-29T00:00:00\",\"2018-11-30T00:00:00\",\"2018-12-01T00:00:00\",\"2018-12-02T00:00:00\",\"2018-12-03T00:00:00\",\"2018-12-04T00:00:00\",\"2018-12-05T00:00:00\",\"2018-12-06T00:00:00\",\"2018-12-07T00:00:00\",\"2018-12-08T00:00:00\",\"2018-12-09T00:00:00\",\"2018-12-10T00:00:00\",\"2018-12-11T00:00:00\",\"2018-12-12T00:00:00\",\"2018-12-13T00:00:00\",\"2018-12-14T00:00:00\",\"2018-12-15T00:00:00\",\"2018-12-16T00:00:00\",\"2018-12-17T00:00:00\",\"2018-12-18T00:00:00\",\"2018-12-19T00:00:00\",\"2018-12-20T00:00:00\",\"2018-12-21T00:00:00\",\"2018-12-22T00:00:00\",\"2018-12-23T00:00:00\",\"2018-12-24T00:00:00\",\"2018-12-25T00:00:00\",\"2018-12-26T00:00:00\",\"2018-12-27T00:00:00\",\"2018-12-28T00:00:00\",\"2018-12-29T00:00:00\",\"2018-12-30T00:00:00\",\"2018-12-31T00:00:00\",\"2019-01-01T00:00:00\",\"2019-01-02T00:00:00\",\"2019-01-03T00:00:00\",\"2019-01-04T00:00:00\",\"2019-01-05T00:00:00\",\"2019-01-06T00:00:00\",\"2019-01-07T00:00:00\",\"2019-01-08T00:00:00\",\"2019-01-09T00:00:00\",\"2019-01-10T00:00:00\",\"2019-01-11T00:00:00\",\"2019-01-12T00:00:00\",\"2019-01-13T00:00:00\",\"2019-01-14T00:00:00\",\"2019-01-15T00:00:00\",\"2019-01-16T00:00:00\",\"2019-01-17T00:00:00\",\"2019-01-18T00:00:00\",\"2019-01-19T00:00:00\",\"2019-01-20T00:00:00\",\"2019-01-21T00:00:00\",\"2019-01-22T00:00:00\",\"2019-01-23T00:00:00\",\"2019-01-24T00:00:00\",\"2019-01-25T00:00:00\",\"2019-01-26T00:00:00\",\"2019-01-27T00:00:00\",\"2019-01-28T00:00:00\",\"2019-01-29T00:00:00\",\"2019-01-30T00:00:00\",\"2019-01-31T00:00:00\",\"2019-02-01T00:00:00\",\"2019-02-02T00:00:00\",\"2019-02-03T00:00:00\",\"2019-02-04T00:00:00\",\"2019-02-05T00:00:00\",\"2019-02-06T00:00:00\",\"2019-02-07T00:00:00\",\"2019-02-08T00:00:00\",\"2019-02-09T00:00:00\",\"2019-02-10T00:00:00\",\"2019-02-11T00:00:00\",\"2019-02-12T00:00:00\",\"2019-02-13T00:00:00\",\"2019-02-14T00:00:00\",\"2019-02-15T00:00:00\",\"2019-02-16T00:00:00\",\"2019-02-17T00:00:00\",\"2019-02-18T00:00:00\",\"2019-02-19T00:00:00\",\"2019-02-20T00:00:00\",\"2019-02-21T00:00:00\",\"2019-02-22T00:00:00\",\"2019-02-23T00:00:00\",\"2019-02-24T00:00:00\",\"2019-02-25T00:00:00\",\"2019-02-26T00:00:00\",\"2019-02-27T00:00:00\",\"2019-02-28T00:00:00\",\"2019-03-01T00:00:00\",\"2019-03-02T00:00:00\",\"2019-03-03T00:00:00\",\"2019-03-04T00:00:00\",\"2019-03-05T00:00:00\",\"2019-03-06T00:00:00\",\"2019-03-07T00:00:00\",\"2019-03-08T00:00:00\",\"2019-03-09T00:00:00\",\"2019-03-10T00:00:00\",\"2019-03-11T00:00:00\",\"2019-03-12T00:00:00\",\"2019-03-13T00:00:00\",\"2019-03-14T00:00:00\",\"2019-03-15T00:00:00\",\"2019-03-16T00:00:00\",\"2019-03-17T00:00:00\",\"2019-03-18T00:00:00\",\"2019-03-19T00:00:00\",\"2019-03-20T00:00:00\",\"2019-03-21T00:00:00\",\"2019-03-22T00:00:00\",\"2019-03-23T00:00:00\",\"2019-03-24T00:00:00\",\"2019-03-25T00:00:00\",\"2019-03-26T00:00:00\",\"2019-03-27T00:00:00\",\"2019-03-28T00:00:00\",\"2019-03-29T00:00:00\",\"2019-03-30T00:00:00\",\"2019-03-31T00:00:00\",\"2019-04-01T00:00:00\",\"2019-04-02T00:00:00\",\"2019-04-03T00:00:00\",\"2019-04-04T00:00:00\",\"2019-04-05T00:00:00\",\"2019-04-06T00:00:00\",\"2019-04-07T00:00:00\",\"2019-04-08T00:00:00\",\"2019-04-09T00:00:00\",\"2019-04-10T00:00:00\",\"2019-04-11T00:00:00\",\"2019-04-12T00:00:00\",\"2019-04-13T00:00:00\",\"2019-04-14T00:00:00\",\"2019-04-15T00:00:00\",\"2019-04-16T00:00:00\",\"2019-04-17T00:00:00\",\"2019-04-18T00:00:00\",\"2019-04-19T00:00:00\",\"2019-04-20T00:00:00\",\"2019-04-21T00:00:00\",\"2019-04-22T00:00:00\",\"2019-04-23T00:00:00\",\"2019-04-24T00:00:00\",\"2019-04-25T00:00:00\",\"2019-04-26T00:00:00\",\"2019-04-27T00:00:00\",\"2019-04-28T00:00:00\",\"2019-04-29T00:00:00\",\"2019-04-30T00:00:00\",\"2019-05-01T00:00:00\",\"2019-05-02T00:00:00\",\"2019-05-03T00:00:00\",\"2019-05-04T00:00:00\",\"2019-05-05T00:00:00\",\"2019-05-06T00:00:00\",\"2019-05-07T00:00:00\",\"2019-05-08T00:00:00\",\"2019-05-09T00:00:00\",\"2019-05-10T00:00:00\",\"2019-05-11T00:00:00\",\"2019-05-12T00:00:00\",\"2019-05-13T00:00:00\",\"2019-05-14T00:00:00\",\"2019-05-15T00:00:00\",\"2019-05-16T00:00:00\",\"2019-05-17T00:00:00\",\"2019-05-18T00:00:00\",\"2019-05-19T00:00:00\",\"2019-05-20T00:00:00\",\"2019-05-21T00:00:00\",\"2019-05-22T00:00:00\",\"2019-05-23T00:00:00\",\"2019-05-24T00:00:00\",\"2019-05-25T00:00:00\",\"2019-05-26T00:00:00\",\"2019-05-27T00:00:00\",\"2019-05-28T00:00:00\",\"2019-05-29T00:00:00\",\"2019-05-30T00:00:00\",\"2019-05-31T00:00:00\",\"2019-06-01T00:00:00\",\"2019-06-02T00:00:00\",\"2019-06-03T00:00:00\",\"2019-06-04T00:00:00\",\"2019-06-05T00:00:00\",\"2019-06-06T00:00:00\",\"2019-06-07T00:00:00\",\"2019-06-08T00:00:00\",\"2019-06-09T00:00:00\",\"2019-06-10T00:00:00\",\"2019-06-11T00:00:00\",\"2019-06-12T00:00:00\",\"2019-06-13T00:00:00\",\"2019-06-14T00:00:00\",\"2019-06-15T00:00:00\",\"2019-06-16T00:00:00\",\"2019-06-17T00:00:00\",\"2019-06-18T00:00:00\",\"2019-06-19T00:00:00\",\"2019-06-20T00:00:00\",\"2019-06-21T00:00:00\",\"2019-06-22T00:00:00\",\"2019-06-23T00:00:00\",\"2019-06-24T00:00:00\",\"2019-06-25T00:00:00\",\"2019-06-26T00:00:00\",\"2019-06-27T00:00:00\",\"2019-06-28T00:00:00\",\"2019-06-29T00:00:00\",\"2019-06-30T00:00:00\",\"2019-07-01T00:00:00\",\"2019-07-02T00:00:00\",\"2019-07-03T00:00:00\",\"2019-07-04T00:00:00\",\"2019-07-05T00:00:00\",\"2019-07-06T00:00:00\",\"2019-07-07T00:00:00\",\"2019-07-08T00:00:00\",\"2019-07-09T00:00:00\",\"2019-07-10T00:00:00\",\"2019-07-11T00:00:00\",\"2019-07-12T00:00:00\",\"2019-07-13T00:00:00\",\"2019-07-14T00:00:00\",\"2019-07-15T00:00:00\",\"2019-07-16T00:00:00\",\"2019-07-17T00:00:00\",\"2019-07-18T00:00:00\",\"2019-07-19T00:00:00\",\"2019-07-20T00:00:00\",\"2019-07-21T00:00:00\",\"2019-07-22T00:00:00\",\"2019-07-23T00:00:00\",\"2019-07-24T00:00:00\",\"2019-07-25T00:00:00\",\"2019-07-26T00:00:00\",\"2019-07-27T00:00:00\",\"2019-07-28T00:00:00\",\"2019-07-29T00:00:00\",\"2019-07-30T00:00:00\",\"2019-07-31T00:00:00\",\"2019-08-01T00:00:00\",\"2019-08-02T00:00:00\",\"2019-08-03T00:00:00\",\"2019-08-04T00:00:00\",\"2019-08-05T00:00:00\",\"2019-08-06T00:00:00\",\"2019-08-07T00:00:00\",\"2019-08-08T00:00:00\",\"2019-08-09T00:00:00\",\"2019-08-10T00:00:00\",\"2019-08-11T00:00:00\",\"2019-08-12T00:00:00\",\"2019-08-13T00:00:00\",\"2019-08-14T00:00:00\",\"2019-08-15T00:00:00\",\"2019-08-16T00:00:00\",\"2019-08-17T00:00:00\",\"2019-08-18T00:00:00\",\"2019-08-19T00:00:00\",\"2019-08-20T00:00:00\",\"2019-08-21T00:00:00\",\"2019-08-22T00:00:00\",\"2019-08-23T00:00:00\",\"2019-08-24T00:00:00\",\"2019-08-25T00:00:00\",\"2019-08-26T00:00:00\",\"2019-08-27T00:00:00\",\"2019-08-28T00:00:00\",\"2019-08-29T00:00:00\",\"2019-08-30T00:00:00\",\"2019-08-31T00:00:00\",\"2019-09-01T00:00:00\",\"2019-09-02T00:00:00\",\"2019-09-03T00:00:00\",\"2019-09-04T00:00:00\",\"2019-09-05T00:00:00\",\"2019-09-06T00:00:00\",\"2019-09-07T00:00:00\",\"2019-09-08T00:00:00\",\"2019-09-09T00:00:00\",\"2019-09-10T00:00:00\",\"2019-09-11T00:00:00\",\"2019-09-12T00:00:00\",\"2019-09-13T00:00:00\",\"2019-09-14T00:00:00\",\"2019-09-15T00:00:00\",\"2019-09-16T00:00:00\",\"2019-09-17T00:00:00\",\"2019-09-18T00:00:00\",\"2019-09-19T00:00:00\",\"2019-09-20T00:00:00\",\"2019-09-21T00:00:00\",\"2019-09-22T00:00:00\",\"2019-09-23T00:00:00\",\"2019-09-24T00:00:00\",\"2019-09-25T00:00:00\",\"2019-09-26T00:00:00\",\"2019-09-27T00:00:00\",\"2019-09-28T00:00:00\",\"2019-09-29T00:00:00\",\"2019-09-30T00:00:00\",\"2019-10-01T00:00:00\",\"2019-10-02T00:00:00\",\"2019-10-03T00:00:00\",\"2019-10-04T00:00:00\",\"2019-10-05T00:00:00\",\"2019-10-06T00:00:00\",\"2019-10-07T00:00:00\",\"2019-10-08T00:00:00\",\"2019-10-09T00:00:00\",\"2019-10-10T00:00:00\",\"2019-10-11T00:00:00\",\"2019-10-12T00:00:00\",\"2019-10-13T00:00:00\",\"2019-10-14T00:00:00\",\"2019-10-15T00:00:00\",\"2019-10-16T00:00:00\",\"2019-10-17T00:00:00\",\"2019-10-18T00:00:00\",\"2019-10-19T00:00:00\",\"2019-10-20T00:00:00\",\"2019-10-21T00:00:00\",\"2019-10-22T00:00:00\",\"2019-10-23T00:00:00\",\"2019-10-24T00:00:00\",\"2019-10-25T00:00:00\",\"2019-10-26T00:00:00\",\"2019-10-27T00:00:00\",\"2019-10-28T00:00:00\",\"2019-10-29T00:00:00\",\"2019-10-30T00:00:00\",\"2019-10-31T00:00:00\",\"2019-11-01T00:00:00\",\"2019-11-02T00:00:00\",\"2019-11-03T00:00:00\",\"2019-11-04T00:00:00\",\"2019-11-05T00:00:00\",\"2019-11-06T00:00:00\",\"2019-11-07T00:00:00\",\"2019-11-08T00:00:00\",\"2019-11-09T00:00:00\",\"2019-11-10T00:00:00\",\"2019-11-11T00:00:00\",\"2019-11-12T00:00:00\",\"2019-11-13T00:00:00\",\"2019-11-14T00:00:00\",\"2019-11-15T00:00:00\",\"2019-11-16T00:00:00\",\"2019-11-17T00:00:00\",\"2019-11-18T00:00:00\",\"2019-11-19T00:00:00\",\"2019-11-20T00:00:00\",\"2019-11-21T00:00:00\",\"2019-11-22T00:00:00\",\"2019-11-23T00:00:00\",\"2019-11-24T00:00:00\",\"2019-11-25T00:00:00\",\"2019-11-26T00:00:00\",\"2019-11-27T00:00:00\",\"2019-11-28T00:00:00\",\"2019-11-29T00:00:00\",\"2019-11-30T00:00:00\",\"2019-12-01T00:00:00\",\"2019-12-02T00:00:00\",\"2019-12-03T00:00:00\",\"2019-12-04T00:00:00\",\"2019-12-05T00:00:00\",\"2019-12-06T00:00:00\",\"2019-12-07T00:00:00\",\"2019-12-08T00:00:00\",\"2019-12-09T00:00:00\",\"2019-12-10T00:00:00\",\"2019-12-11T00:00:00\",\"2019-12-12T00:00:00\",\"2019-12-13T00:00:00\",\"2019-12-14T00:00:00\",\"2019-12-15T00:00:00\",\"2019-12-16T00:00:00\",\"2019-12-17T00:00:00\",\"2019-12-18T00:00:00\",\"2019-12-19T00:00:00\",\"2019-12-20T00:00:00\",\"2019-12-21T00:00:00\",\"2019-12-22T00:00:00\",\"2019-12-23T00:00:00\",\"2019-12-24T00:00:00\",\"2019-12-25T00:00:00\",\"2019-12-26T00:00:00\",\"2019-12-27T00:00:00\",\"2019-12-28T00:00:00\",\"2019-12-29T00:00:00\",\"2019-12-30T00:00:00\",\"2019-12-31T00:00:00\",\"2020-01-01T00:00:00\",\"2020-01-02T00:00:00\",\"2020-01-03T00:00:00\",\"2020-01-04T00:00:00\",\"2020-01-05T00:00:00\",\"2020-01-06T00:00:00\",\"2020-01-07T00:00:00\",\"2020-01-08T00:00:00\",\"2020-01-09T00:00:00\",\"2020-01-10T00:00:00\",\"2020-01-11T00:00:00\",\"2020-01-12T00:00:00\",\"2020-01-13T00:00:00\",\"2020-01-14T00:00:00\",\"2020-01-15T00:00:00\",\"2020-01-16T00:00:00\",\"2020-01-17T00:00:00\",\"2020-01-18T00:00:00\",\"2020-01-19T00:00:00\",\"2020-01-20T00:00:00\",\"2020-01-21T00:00:00\",\"2020-01-22T00:00:00\",\"2020-01-23T00:00:00\",\"2020-01-24T00:00:00\",\"2020-01-25T00:00:00\",\"2020-01-26T00:00:00\",\"2020-01-27T00:00:00\",\"2020-01-28T00:00:00\",\"2020-01-29T00:00:00\",\"2020-01-30T00:00:00\",\"2020-01-31T00:00:00\",\"2020-02-01T00:00:00\",\"2020-02-02T00:00:00\",\"2020-02-03T00:00:00\",\"2020-02-04T00:00:00\",\"2020-02-05T00:00:00\",\"2020-02-06T00:00:00\",\"2020-02-07T00:00:00\",\"2020-02-08T00:00:00\",\"2020-02-09T00:00:00\",\"2020-02-10T00:00:00\",\"2020-02-11T00:00:00\",\"2020-02-12T00:00:00\",\"2020-02-13T00:00:00\",\"2020-02-14T00:00:00\",\"2020-02-15T00:00:00\",\"2020-02-16T00:00:00\",\"2020-02-17T00:00:00\",\"2020-02-18T00:00:00\",\"2020-02-19T00:00:00\",\"2020-02-20T00:00:00\",\"2020-02-21T00:00:00\",\"2020-02-22T00:00:00\",\"2020-02-23T00:00:00\",\"2020-02-24T00:00:00\",\"2020-02-25T00:00:00\",\"2020-02-26T00:00:00\",\"2020-02-27T00:00:00\",\"2020-02-28T00:00:00\",\"2020-02-29T00:00:00\",\"2020-03-01T00:00:00\",\"2020-03-02T00:00:00\",\"2020-03-03T00:00:00\",\"2020-03-04T00:00:00\",\"2020-03-05T00:00:00\",\"2020-03-06T00:00:00\",\"2020-03-07T00:00:00\",\"2020-03-08T00:00:00\",\"2020-03-09T00:00:00\",\"2020-03-10T00:00:00\",\"2020-03-11T00:00:00\",\"2020-03-12T00:00:00\",\"2020-03-13T00:00:00\",\"2020-03-14T00:00:00\",\"2020-03-15T00:00:00\",\"2020-03-16T00:00:00\",\"2020-03-17T00:00:00\",\"2020-03-18T00:00:00\",\"2020-03-19T00:00:00\",\"2020-03-20T00:00:00\",\"2020-03-21T00:00:00\",\"2020-03-22T00:00:00\",\"2020-03-23T00:00:00\",\"2020-03-24T00:00:00\",\"2020-03-25T00:00:00\",\"2020-03-26T00:00:00\",\"2020-03-27T00:00:00\",\"2020-03-28T00:00:00\",\"2020-03-29T00:00:00\",\"2020-03-30T00:00:00\",\"2020-03-31T00:00:00\",\"2020-04-01T00:00:00\",\"2020-04-02T00:00:00\",\"2020-04-03T00:00:00\",\"2020-04-04T00:00:00\",\"2020-04-05T00:00:00\",\"2020-04-06T00:00:00\",\"2020-04-07T00:00:00\",\"2020-04-08T00:00:00\",\"2020-04-09T00:00:00\",\"2020-04-10T00:00:00\",\"2020-04-11T00:00:00\",\"2020-04-12T00:00:00\",\"2020-04-13T00:00:00\",\"2020-04-14T00:00:00\",\"2020-04-15T00:00:00\",\"2020-04-16T00:00:00\",\"2020-04-17T00:00:00\",\"2020-04-18T00:00:00\",\"2020-04-19T00:00:00\",\"2020-04-20T00:00:00\",\"2020-04-21T00:00:00\",\"2020-04-22T00:00:00\",\"2020-04-23T00:00:00\",\"2020-04-24T00:00:00\",\"2020-04-25T00:00:00\",\"2020-04-26T00:00:00\",\"2020-04-27T00:00:00\",\"2020-04-28T00:00:00\",\"2020-04-29T00:00:00\",\"2020-04-30T00:00:00\",\"2020-05-01T00:00:00\",\"2020-05-02T00:00:00\",\"2020-05-03T00:00:00\",\"2020-05-04T00:00:00\",\"2020-05-05T00:00:00\",\"2020-05-06T00:00:00\",\"2020-05-07T00:00:00\",\"2020-05-08T00:00:00\",\"2020-05-09T00:00:00\",\"2020-05-10T00:00:00\",\"2020-05-11T00:00:00\",\"2020-05-12T00:00:00\",\"2020-05-13T00:00:00\",\"2020-05-14T00:00:00\",\"2020-05-15T00:00:00\",\"2020-05-16T00:00:00\",\"2020-05-17T00:00:00\",\"2020-05-18T00:00:00\",\"2020-05-19T00:00:00\",\"2020-05-20T00:00:00\",\"2020-05-21T00:00:00\",\"2020-05-22T00:00:00\",\"2020-05-23T00:00:00\",\"2020-05-24T00:00:00\",\"2020-05-25T00:00:00\",\"2020-05-26T00:00:00\",\"2020-05-27T00:00:00\",\"2020-05-28T00:00:00\",\"2020-05-29T00:00:00\",\"2020-05-30T00:00:00\",\"2020-05-31T00:00:00\",\"2020-06-01T00:00:00\",\"2020-06-02T00:00:00\",\"2020-06-03T00:00:00\",\"2020-06-04T00:00:00\",\"2020-06-05T00:00:00\",\"2020-06-06T00:00:00\",\"2020-06-07T00:00:00\",\"2020-06-08T00:00:00\",\"2020-06-09T00:00:00\",\"2020-06-10T00:00:00\",\"2020-06-11T00:00:00\",\"2020-06-12T00:00:00\",\"2020-06-13T00:00:00\",\"2020-06-14T00:00:00\",\"2020-06-15T00:00:00\",\"2020-06-16T00:00:00\",\"2020-06-17T00:00:00\",\"2020-06-18T00:00:00\",\"2020-06-19T00:00:00\",\"2020-06-20T00:00:00\",\"2020-06-21T00:00:00\",\"2020-06-22T00:00:00\",\"2020-06-23T00:00:00\",\"2020-06-24T00:00:00\",\"2020-06-25T00:00:00\",\"2020-06-26T00:00:00\",\"2020-06-27T00:00:00\",\"2020-06-28T00:00:00\",\"2020-06-29T00:00:00\",\"2020-06-30T00:00:00\",\"2020-07-01T00:00:00\",\"2020-07-02T00:00:00\",\"2020-07-03T00:00:00\",\"2020-07-04T00:00:00\",\"2020-07-05T00:00:00\",\"2020-07-06T00:00:00\",\"2020-07-07T00:00:00\",\"2020-07-08T00:00:00\",\"2020-07-09T00:00:00\",\"2020-07-10T00:00:00\",\"2020-07-11T00:00:00\",\"2020-07-12T00:00:00\",\"2020-07-13T00:00:00\",\"2020-07-14T00:00:00\",\"2020-07-15T00:00:00\",\"2020-07-16T00:00:00\",\"2020-07-17T00:00:00\",\"2020-07-18T00:00:00\",\"2020-07-19T00:00:00\",\"2020-07-20T00:00:00\",\"2020-07-21T00:00:00\",\"2020-07-22T00:00:00\",\"2020-07-23T00:00:00\",\"2020-07-24T00:00:00\",\"2020-07-25T00:00:00\",\"2020-07-26T00:00:00\",\"2020-07-27T00:00:00\",\"2020-07-28T00:00:00\",\"2020-07-29T00:00:00\",\"2020-07-30T00:00:00\",\"2020-07-31T00:00:00\",\"2020-08-01T00:00:00\",\"2020-08-02T00:00:00\",\"2020-08-03T00:00:00\",\"2020-08-04T00:00:00\",\"2020-08-05T00:00:00\",\"2020-08-06T00:00:00\",\"2020-08-07T00:00:00\",\"2020-08-08T00:00:00\",\"2020-08-09T00:00:00\",\"2020-08-10T00:00:00\",\"2020-08-11T00:00:00\",\"2020-08-12T00:00:00\",\"2020-08-13T00:00:00\",\"2020-08-14T00:00:00\",\"2020-08-15T00:00:00\",\"2020-08-16T00:00:00\",\"2020-08-17T00:00:00\",\"2020-08-18T00:00:00\",\"2020-08-19T00:00:00\",\"2020-08-20T00:00:00\",\"2020-08-21T00:00:00\",\"2020-08-22T00:00:00\",\"2020-08-23T00:00:00\",\"2020-08-24T00:00:00\",\"2020-08-25T00:00:00\",\"2020-08-26T00:00:00\",\"2020-08-27T00:00:00\",\"2020-08-28T00:00:00\",\"2020-08-29T00:00:00\",\"2020-08-30T00:00:00\",\"2020-08-31T00:00:00\",\"2020-09-01T00:00:00\",\"2020-09-02T00:00:00\",\"2020-09-03T00:00:00\",\"2020-09-04T00:00:00\",\"2020-09-05T00:00:00\",\"2020-09-06T00:00:00\",\"2020-09-07T00:00:00\",\"2020-09-08T00:00:00\",\"2020-09-09T00:00:00\",\"2020-09-10T00:00:00\",\"2020-09-11T00:00:00\",\"2020-09-12T00:00:00\",\"2020-09-13T00:00:00\",\"2020-09-14T00:00:00\",\"2020-09-15T00:00:00\",\"2020-09-16T00:00:00\",\"2020-09-17T00:00:00\",\"2020-09-18T00:00:00\",\"2020-09-19T00:00:00\",\"2020-09-20T00:00:00\",\"2020-09-21T00:00:00\",\"2020-09-22T00:00:00\",\"2020-09-23T00:00:00\",\"2020-09-24T00:00:00\",\"2020-09-25T00:00:00\",\"2020-09-26T00:00:00\",\"2020-09-27T00:00:00\",\"2020-09-28T00:00:00\",\"2020-09-29T00:00:00\",\"2020-09-30T00:00:00\",\"2020-10-01T00:00:00\",\"2020-10-02T00:00:00\",\"2020-10-03T00:00:00\",\"2020-10-04T00:00:00\",\"2020-10-05T00:00:00\",\"2020-10-06T00:00:00\",\"2020-10-07T00:00:00\",\"2020-10-08T00:00:00\",\"2020-10-09T00:00:00\",\"2020-10-10T00:00:00\",\"2020-10-11T00:00:00\",\"2020-10-12T00:00:00\",\"2020-10-13T00:00:00\",\"2020-10-14T00:00:00\",\"2020-10-15T00:00:00\",\"2020-10-16T00:00:00\",\"2020-10-17T00:00:00\",\"2020-10-18T00:00:00\",\"2020-10-19T00:00:00\",\"2020-10-20T00:00:00\",\"2020-10-21T00:00:00\",\"2020-10-22T00:00:00\",\"2020-10-23T00:00:00\",\"2020-10-24T00:00:00\",\"2020-10-25T00:00:00\",\"2020-10-26T00:00:00\",\"2020-10-27T00:00:00\",\"2020-10-28T00:00:00\",\"2020-10-29T00:00:00\",\"2020-10-30T00:00:00\",\"2020-10-31T00:00:00\",\"2020-11-01T00:00:00\",\"2020-11-02T00:00:00\",\"2020-11-03T00:00:00\",\"2020-11-04T00:00:00\",\"2020-11-05T00:00:00\",\"2020-11-06T00:00:00\",\"2020-11-07T00:00:00\",\"2020-11-08T00:00:00\",\"2020-11-09T00:00:00\",\"2020-11-10T00:00:00\",\"2020-11-11T00:00:00\",\"2020-11-12T00:00:00\",\"2020-11-13T00:00:00\",\"2020-11-14T00:00:00\",\"2020-11-15T00:00:00\",\"2020-11-16T00:00:00\",\"2020-11-17T00:00:00\",\"2020-11-18T00:00:00\",\"2020-11-19T00:00:00\",\"2020-11-20T00:00:00\",\"2020-11-21T00:00:00\",\"2020-11-22T00:00:00\",\"2020-11-23T00:00:00\",\"2020-11-24T00:00:00\",\"2020-11-25T00:00:00\",\"2020-11-26T00:00:00\",\"2020-11-27T00:00:00\",\"2020-11-28T00:00:00\",\"2020-11-29T00:00:00\",\"2020-11-30T00:00:00\",\"2020-12-01T00:00:00\",\"2020-12-02T00:00:00\",\"2020-12-03T00:00:00\",\"2020-12-04T00:00:00\",\"2020-12-05T00:00:00\",\"2020-12-06T00:00:00\",\"2020-12-07T00:00:00\",\"2020-12-08T00:00:00\",\"2020-12-09T00:00:00\",\"2020-12-10T00:00:00\",\"2020-12-11T00:00:00\",\"2020-12-12T00:00:00\",\"2020-12-13T00:00:00\",\"2020-12-14T00:00:00\",\"2020-12-15T00:00:00\",\"2020-12-16T00:00:00\",\"2020-12-17T00:00:00\",\"2020-12-18T00:00:00\",\"2020-12-19T00:00:00\",\"2020-12-20T00:00:00\",\"2020-12-21T00:00:00\",\"2020-12-22T00:00:00\",\"2020-12-23T00:00:00\",\"2020-12-24T00:00:00\",\"2020-12-25T00:00:00\",\"2020-12-26T00:00:00\",\"2020-12-27T00:00:00\",\"2020-12-28T00:00:00\",\"2020-12-29T00:00:00\",\"2020-12-30T00:00:00\",\"2020-12-31T00:00:00\",\"2021-01-01T00:00:00\",\"2021-01-02T00:00:00\",\"2021-01-03T00:00:00\",\"2021-01-04T00:00:00\",\"2021-01-05T00:00:00\",\"2021-01-06T00:00:00\",\"2021-01-07T00:00:00\",\"2021-01-08T00:00:00\",\"2021-01-09T00:00:00\",\"2021-01-10T00:00:00\",\"2021-01-11T00:00:00\",\"2021-01-12T00:00:00\",\"2021-01-13T00:00:00\",\"2021-01-14T00:00:00\",\"2021-01-15T00:00:00\",\"2021-01-16T00:00:00\",\"2021-01-17T00:00:00\",\"2021-01-18T00:00:00\",\"2021-01-19T00:00:00\",\"2021-01-20T00:00:00\",\"2021-01-21T00:00:00\",\"2021-01-22T00:00:00\",\"2021-01-23T00:00:00\",\"2021-01-24T00:00:00\",\"2021-01-25T00:00:00\",\"2021-01-26T00:00:00\",\"2021-01-27T00:00:00\",\"2021-01-28T00:00:00\",\"2021-01-29T00:00:00\",\"2021-01-30T00:00:00\",\"2021-01-31T00:00:00\",\"2021-02-01T00:00:00\",\"2021-02-02T00:00:00\",\"2021-02-03T00:00:00\",\"2021-02-04T00:00:00\",\"2021-02-05T00:00:00\",\"2021-02-06T00:00:00\",\"2021-02-07T00:00:00\",\"2021-02-08T00:00:00\",\"2021-02-09T00:00:00\",\"2021-02-10T00:00:00\",\"2021-02-11T00:00:00\",\"2021-02-12T00:00:00\",\"2021-02-13T00:00:00\",\"2021-02-14T00:00:00\",\"2021-02-15T00:00:00\",\"2021-02-16T00:00:00\",\"2021-02-17T00:00:00\",\"2021-02-18T00:00:00\",\"2021-02-19T00:00:00\",\"2021-02-20T00:00:00\",\"2021-02-21T00:00:00\",\"2021-02-22T00:00:00\",\"2021-02-23T00:00:00\",\"2021-02-24T00:00:00\",\"2021-02-25T00:00:00\",\"2021-02-26T00:00:00\",\"2021-02-27T00:00:00\",\"2021-02-28T00:00:00\",\"2021-03-01T00:00:00\",\"2021-03-02T00:00:00\",\"2021-03-03T00:00:00\",\"2021-03-04T00:00:00\",\"2021-03-05T00:00:00\",\"2021-03-06T00:00:00\",\"2021-03-07T00:00:00\",\"2021-03-08T00:00:00\",\"2021-03-09T00:00:00\",\"2021-03-10T00:00:00\",\"2021-03-11T00:00:00\",\"2021-03-12T00:00:00\",\"2021-03-13T00:00:00\",\"2021-03-14T00:00:00\",\"2021-03-15T00:00:00\",\"2021-03-16T00:00:00\",\"2021-03-17T00:00:00\",\"2021-03-18T00:00:00\",\"2021-03-19T00:00:00\",\"2021-03-20T00:00:00\",\"2021-03-21T00:00:00\",\"2021-03-22T00:00:00\",\"2021-03-23T00:00:00\",\"2021-03-24T00:00:00\",\"2021-03-25T00:00:00\",\"2021-03-26T00:00:00\",\"2021-03-27T00:00:00\",\"2021-03-28T00:00:00\",\"2021-03-29T00:00:00\",\"2021-03-30T00:00:00\",\"2021-03-31T00:00:00\",\"2021-04-01T00:00:00\",\"2021-04-02T00:00:00\",\"2021-04-03T00:00:00\",\"2021-04-04T00:00:00\",\"2021-04-05T00:00:00\",\"2021-04-06T00:00:00\",\"2021-04-07T00:00:00\",\"2021-04-08T00:00:00\",\"2021-04-09T00:00:00\",\"2021-04-10T00:00:00\",\"2021-04-11T00:00:00\",\"2021-04-12T00:00:00\",\"2021-04-13T00:00:00\",\"2021-04-14T00:00:00\",\"2021-04-15T00:00:00\",\"2021-04-16T00:00:00\",\"2021-04-17T00:00:00\",\"2021-04-18T00:00:00\",\"2021-04-19T00:00:00\",\"2021-04-20T00:00:00\",\"2021-04-21T00:00:00\",\"2021-04-22T00:00:00\",\"2021-04-23T00:00:00\",\"2021-04-24T00:00:00\",\"2021-04-25T00:00:00\",\"2021-04-26T00:00:00\",\"2021-04-27T00:00:00\",\"2021-04-28T00:00:00\",\"2021-04-29T00:00:00\",\"2021-04-30T00:00:00\",\"2021-05-01T00:00:00\",\"2021-05-02T00:00:00\",\"2021-05-03T00:00:00\",\"2021-05-04T00:00:00\",\"2021-05-05T00:00:00\",\"2021-05-06T00:00:00\",\"2021-05-07T00:00:00\",\"2021-05-08T00:00:00\",\"2021-05-09T00:00:00\",\"2021-05-10T00:00:00\",\"2021-05-11T00:00:00\",\"2021-05-12T00:00:00\",\"2021-05-13T00:00:00\",\"2021-05-14T00:00:00\",\"2021-05-15T00:00:00\",\"2021-05-16T00:00:00\",\"2021-05-17T00:00:00\",\"2021-05-18T00:00:00\",\"2021-05-19T00:00:00\",\"2021-05-20T00:00:00\",\"2021-05-21T00:00:00\",\"2021-05-22T00:00:00\",\"2021-05-23T00:00:00\",\"2021-05-24T00:00:00\",\"2021-05-25T00:00:00\",\"2021-05-26T00:00:00\",\"2021-05-27T00:00:00\",\"2021-05-28T00:00:00\",\"2021-05-29T00:00:00\",\"2021-05-30T00:00:00\",\"2021-05-31T00:00:00\",\"2021-06-01T00:00:00\",\"2021-06-02T00:00:00\",\"2021-06-03T00:00:00\",\"2021-06-04T00:00:00\",\"2021-06-05T00:00:00\",\"2021-06-06T00:00:00\",\"2021-06-07T00:00:00\",\"2021-06-08T00:00:00\",\"2021-06-09T00:00:00\",\"2021-06-10T00:00:00\",\"2021-06-11T00:00:00\",\"2021-06-12T00:00:00\",\"2021-06-13T00:00:00\",\"2021-06-14T00:00:00\",\"2021-06-15T00:00:00\",\"2021-06-16T00:00:00\",\"2021-06-17T00:00:00\",\"2021-06-18T00:00:00\",\"2021-06-19T00:00:00\",\"2021-06-20T00:00:00\",\"2021-06-21T00:00:00\",\"2021-06-22T00:00:00\",\"2021-06-23T00:00:00\",\"2021-06-24T00:00:00\",\"2021-06-25T00:00:00\",\"2021-06-26T00:00:00\",\"2021-06-27T00:00:00\",\"2021-06-28T00:00:00\",\"2021-06-29T00:00:00\",\"2021-06-30T00:00:00\",\"2021-07-01T00:00:00\",\"2021-07-02T00:00:00\",\"2021-07-03T00:00:00\",\"2021-07-04T00:00:00\",\"2021-07-05T00:00:00\",\"2021-07-06T00:00:00\",\"2021-07-07T00:00:00\",\"2021-07-08T00:00:00\",\"2021-07-09T00:00:00\",\"2021-07-10T00:00:00\",\"2021-07-11T00:00:00\",\"2021-07-12T00:00:00\",\"2021-07-13T00:00:00\",\"2021-07-14T00:00:00\",\"2021-07-15T00:00:00\",\"2021-07-16T00:00:00\",\"2021-07-17T00:00:00\",\"2021-07-18T00:00:00\",\"2021-07-19T00:00:00\",\"2021-07-20T00:00:00\",\"2021-07-21T00:00:00\",\"2021-07-22T00:00:00\",\"2021-07-23T00:00:00\",\"2021-07-24T00:00:00\",\"2021-07-25T00:00:00\",\"2021-07-26T00:00:00\",\"2021-07-27T00:00:00\",\"2021-07-28T00:00:00\",\"2021-07-29T00:00:00\",\"2021-07-30T00:00:00\",\"2021-07-31T00:00:00\",\"2021-08-01T00:00:00\",\"2021-08-02T00:00:00\",\"2021-08-03T00:00:00\",\"2021-08-04T00:00:00\",\"2021-08-05T00:00:00\",\"2021-08-06T00:00:00\",\"2021-08-07T00:00:00\",\"2021-08-08T00:00:00\",\"2021-08-09T00:00:00\",\"2021-08-10T00:00:00\",\"2021-08-11T00:00:00\",\"2021-08-12T00:00:00\",\"2021-08-13T00:00:00\",\"2021-08-14T00:00:00\",\"2021-08-15T00:00:00\",\"2021-08-16T00:00:00\",\"2021-08-17T00:00:00\",\"2021-08-18T00:00:00\",\"2021-08-19T00:00:00\",\"2021-08-20T00:00:00\",\"2021-08-21T00:00:00\",\"2021-08-22T00:00:00\",\"2021-08-23T00:00:00\",\"2021-08-24T00:00:00\",\"2021-08-25T00:00:00\",\"2021-08-26T00:00:00\",\"2021-08-27T00:00:00\",\"2021-08-28T00:00:00\",\"2021-08-29T00:00:00\",\"2021-08-30T00:00:00\",\"2021-08-31T00:00:00\",\"2021-09-01T00:00:00\",\"2021-09-02T00:00:00\",\"2021-09-03T00:00:00\",\"2021-09-04T00:00:00\",\"2021-09-05T00:00:00\",\"2021-09-06T00:00:00\",\"2021-09-07T00:00:00\",\"2021-09-08T00:00:00\",\"2021-09-09T00:00:00\",\"2021-09-10T00:00:00\",\"2021-09-11T00:00:00\",\"2021-09-12T00:00:00\",\"2021-09-13T00:00:00\",\"2021-09-14T00:00:00\",\"2021-09-15T00:00:00\",\"2021-09-16T00:00:00\",\"2021-09-17T00:00:00\",\"2021-09-18T00:00:00\",\"2021-09-19T00:00:00\",\"2021-09-20T00:00:00\",\"2021-09-21T00:00:00\",\"2021-09-22T00:00:00\",\"2021-09-23T00:00:00\",\"2021-09-24T00:00:00\",\"2021-09-25T00:00:00\",\"2021-09-26T00:00:00\",\"2021-09-27T00:00:00\",\"2021-09-28T00:00:00\",\"2021-09-29T00:00:00\",\"2021-09-30T00:00:00\",\"2021-10-01T00:00:00\",\"2021-10-02T00:00:00\",\"2021-10-03T00:00:00\",\"2021-10-04T00:00:00\",\"2021-10-05T00:00:00\",\"2021-10-06T00:00:00\",\"2021-10-07T00:00:00\",\"2021-10-08T00:00:00\",\"2021-10-09T00:00:00\",\"2021-10-10T00:00:00\",\"2021-10-11T00:00:00\",\"2021-10-12T00:00:00\",\"2021-10-13T00:00:00\",\"2021-10-14T00:00:00\",\"2021-10-15T00:00:00\",\"2021-10-16T00:00:00\",\"2021-10-17T00:00:00\",\"2021-10-18T00:00:00\",\"2021-10-19T00:00:00\",\"2021-10-20T00:00:00\",\"2021-10-21T00:00:00\",\"2021-10-22T00:00:00\",\"2021-10-23T00:00:00\",\"2021-10-24T00:00:00\",\"2021-10-25T00:00:00\",\"2021-10-26T00:00:00\",\"2021-10-27T00:00:00\",\"2021-10-28T00:00:00\",\"2021-10-29T00:00:00\",\"2021-10-30T00:00:00\",\"2021-10-31T00:00:00\",\"2021-11-01T00:00:00\",\"2021-11-02T00:00:00\",\"2021-11-03T00:00:00\",\"2021-11-04T00:00:00\",\"2021-11-05T00:00:00\",\"2021-11-06T00:00:00\",\"2021-11-07T00:00:00\",\"2021-11-08T00:00:00\",\"2021-11-09T00:00:00\",\"2021-11-10T00:00:00\",\"2021-11-11T00:00:00\",\"2021-11-12T00:00:00\",\"2021-11-13T00:00:00\",\"2021-11-14T00:00:00\",\"2021-11-15T00:00:00\",\"2021-11-16T00:00:00\",\"2021-11-17T00:00:00\",\"2021-11-18T00:00:00\",\"2021-11-19T00:00:00\",\"2021-11-20T00:00:00\",\"2021-11-21T00:00:00\",\"2021-11-22T00:00:00\",\"2021-11-23T00:00:00\",\"2021-11-24T00:00:00\",\"2021-11-25T00:00:00\",\"2021-11-26T00:00:00\",\"2021-11-27T00:00:00\",\"2021-11-28T00:00:00\",\"2021-11-29T00:00:00\",\"2021-11-30T00:00:00\",\"2021-12-01T00:00:00\",\"2021-12-02T00:00:00\",\"2021-12-03T00:00:00\",\"2021-12-04T00:00:00\",\"2021-12-05T00:00:00\",\"2021-12-06T00:00:00\",\"2021-12-07T00:00:00\",\"2021-12-08T00:00:00\",\"2021-12-09T00:00:00\",\"2021-12-10T00:00:00\",\"2021-12-11T00:00:00\",\"2021-12-12T00:00:00\",\"2021-12-13T00:00:00\",\"2021-12-14T00:00:00\",\"2021-12-15T00:00:00\",\"2021-12-16T00:00:00\",\"2021-12-17T00:00:00\",\"2021-12-18T00:00:00\",\"2021-12-19T00:00:00\",\"2021-12-20T00:00:00\",\"2021-12-21T00:00:00\",\"2021-12-22T00:00:00\",\"2021-12-23T00:00:00\",\"2021-12-24T00:00:00\",\"2021-12-25T00:00:00\",\"2021-12-26T00:00:00\",\"2021-12-27T00:00:00\",\"2021-12-28T00:00:00\",\"2021-12-29T00:00:00\",\"2021-12-30T00:00:00\",\"2021-12-31T00:00:00\",\"2022-01-01T00:00:00\",\"2022-01-02T00:00:00\",\"2022-01-03T00:00:00\",\"2022-01-04T00:00:00\",\"2022-01-05T00:00:00\",\"2022-01-06T00:00:00\",\"2022-01-07T00:00:00\",\"2022-01-08T00:00:00\",\"2022-01-09T00:00:00\",\"2022-01-10T00:00:00\",\"2022-01-11T00:00:00\",\"2022-01-12T00:00:00\",\"2022-01-13T00:00:00\",\"2022-01-14T00:00:00\",\"2022-01-15T00:00:00\",\"2022-01-16T00:00:00\",\"2022-01-17T00:00:00\",\"2022-01-18T00:00:00\",\"2022-01-19T00:00:00\",\"2022-01-20T00:00:00\",\"2022-01-21T00:00:00\",\"2022-01-22T00:00:00\",\"2022-01-23T00:00:00\",\"2022-01-24T00:00:00\",\"2022-01-25T00:00:00\",\"2022-01-26T00:00:00\",\"2022-01-27T00:00:00\",\"2022-01-28T00:00:00\",\"2022-01-29T00:00:00\",\"2022-01-30T00:00:00\",\"2022-01-31T00:00:00\",\"2022-02-01T00:00:00\",\"2022-02-02T00:00:00\",\"2022-02-03T00:00:00\",\"2022-02-04T00:00:00\",\"2022-02-05T00:00:00\",\"2022-02-06T00:00:00\",\"2022-02-07T00:00:00\",\"2022-02-08T00:00:00\",\"2022-02-09T00:00:00\",\"2022-02-10T00:00:00\",\"2022-02-11T00:00:00\",\"2022-02-12T00:00:00\",\"2022-02-13T00:00:00\",\"2022-02-14T00:00:00\",\"2022-02-15T00:00:00\",\"2022-02-16T00:00:00\",\"2022-02-17T00:00:00\",\"2022-02-18T00:00:00\",\"2022-02-19T00:00:00\",\"2022-02-20T00:00:00\",\"2022-02-21T00:00:00\",\"2022-02-22T00:00:00\",\"2022-02-23T00:00:00\",\"2022-02-24T00:00:00\",\"2022-02-25T00:00:00\",\"2022-02-26T00:00:00\",\"2022-02-27T00:00:00\",\"2022-02-28T00:00:00\",\"2022-03-01T00:00:00\",\"2022-03-02T00:00:00\",\"2022-03-03T00:00:00\",\"2022-03-04T00:00:00\",\"2022-03-05T00:00:00\",\"2022-03-06T00:00:00\",\"2022-03-07T00:00:00\",\"2022-03-08T00:00:00\",\"2022-03-09T00:00:00\",\"2022-03-10T00:00:00\",\"2022-03-11T00:00:00\",\"2022-03-12T00:00:00\",\"2022-03-13T00:00:00\",\"2022-03-14T00:00:00\",\"2022-03-15T00:00:00\",\"2022-03-16T00:00:00\",\"2022-03-17T00:00:00\",\"2022-03-18T00:00:00\",\"2022-03-19T00:00:00\",\"2022-03-20T00:00:00\",\"2022-03-21T00:00:00\",\"2022-03-22T00:00:00\",\"2022-03-23T00:00:00\",\"2022-03-24T00:00:00\",\"2022-03-25T00:00:00\",\"2022-03-26T00:00:00\",\"2022-03-27T00:00:00\",\"2022-03-28T00:00:00\",\"2022-03-29T00:00:00\",\"2022-03-30T00:00:00\",\"2022-03-31T00:00:00\",\"2022-04-01T00:00:00\",\"2022-04-02T00:00:00\",\"2022-04-03T00:00:00\",\"2022-04-04T00:00:00\",\"2022-04-05T00:00:00\",\"2022-04-06T00:00:00\",\"2022-04-07T00:00:00\",\"2022-04-08T00:00:00\",\"2022-04-09T00:00:00\",\"2022-04-10T00:00:00\",\"2022-04-11T00:00:00\",\"2022-04-12T00:00:00\",\"2022-04-13T00:00:00\",\"2022-04-14T00:00:00\",\"2022-04-15T00:00:00\",\"2022-04-16T00:00:00\",\"2022-04-17T00:00:00\",\"2022-04-18T00:00:00\",\"2022-04-19T00:00:00\",\"2022-04-20T00:00:00\",\"2022-04-21T00:00:00\",\"2022-04-22T00:00:00\",\"2022-04-23T00:00:00\",\"2022-04-24T00:00:00\",\"2022-04-25T00:00:00\",\"2022-04-26T00:00:00\",\"2022-04-27T00:00:00\",\"2022-04-28T00:00:00\",\"2022-04-29T00:00:00\",\"2022-04-30T00:00:00\",\"2022-05-01T00:00:00\",\"2022-05-02T00:00:00\",\"2022-05-03T00:00:00\",\"2022-05-04T00:00:00\",\"2022-05-05T00:00:00\",\"2022-05-06T00:00:00\",\"2022-05-07T00:00:00\",\"2022-05-08T00:00:00\",\"2022-05-09T00:00:00\",\"2022-05-10T00:00:00\",\"2022-05-11T00:00:00\",\"2022-05-12T00:00:00\",\"2022-05-13T00:00:00\",\"2022-05-14T00:00:00\",\"2022-05-15T00:00:00\",\"2022-05-16T00:00:00\",\"2022-05-17T00:00:00\",\"2022-05-18T00:00:00\",\"2022-05-19T00:00:00\",\"2022-05-20T00:00:00\",\"2022-05-21T00:00:00\",\"2022-05-22T00:00:00\",\"2022-05-23T00:00:00\",\"2022-05-24T00:00:00\",\"2022-05-25T00:00:00\",\"2022-05-26T00:00:00\",\"2022-05-27T00:00:00\",\"2022-05-28T00:00:00\",\"2022-05-29T00:00:00\",\"2022-05-30T00:00:00\",\"2022-05-31T00:00:00\",\"2022-06-01T00:00:00\",\"2022-06-02T00:00:00\",\"2022-06-03T00:00:00\",\"2022-06-04T00:00:00\",\"2022-06-05T00:00:00\",\"2022-06-06T00:00:00\",\"2022-06-07T00:00:00\",\"2022-06-08T00:00:00\",\"2022-06-09T00:00:00\",\"2022-06-10T00:00:00\",\"2022-06-11T00:00:00\",\"2022-06-12T00:00:00\",\"2022-06-13T00:00:00\",\"2022-06-14T00:00:00\",\"2022-06-15T00:00:00\",\"2022-06-16T00:00:00\",\"2022-06-17T00:00:00\",\"2022-06-18T00:00:00\",\"2022-06-19T00:00:00\",\"2022-06-20T00:00:00\",\"2022-06-21T00:00:00\",\"2022-06-22T00:00:00\",\"2022-06-23T00:00:00\",\"2022-06-24T00:00:00\",\"2022-06-25T00:00:00\",\"2022-06-26T00:00:00\",\"2022-06-27T00:00:00\",\"2022-06-28T00:00:00\",\"2022-06-29T00:00:00\",\"2022-06-30T00:00:00\",\"2022-07-01T00:00:00\",\"2022-07-02T00:00:00\",\"2022-07-03T00:00:00\",\"2022-07-04T00:00:00\",\"2022-07-05T00:00:00\",\"2022-07-06T00:00:00\",\"2022-07-07T00:00:00\",\"2022-07-08T00:00:00\",\"2022-07-09T00:00:00\",\"2022-07-10T00:00:00\",\"2022-07-11T00:00:00\",\"2022-07-12T00:00:00\",\"2022-07-13T00:00:00\",\"2022-07-14T00:00:00\",\"2022-07-15T00:00:00\",\"2022-07-16T00:00:00\",\"2022-07-17T00:00:00\",\"2022-07-18T00:00:00\",\"2022-07-19T00:00:00\",\"2022-07-20T00:00:00\",\"2022-07-21T00:00:00\",\"2022-07-22T00:00:00\",\"2022-07-23T00:00:00\",\"2022-07-24T00:00:00\",\"2022-07-25T00:00:00\",\"2022-07-26T00:00:00\",\"2022-07-27T00:00:00\",\"2022-07-28T00:00:00\",\"2022-07-29T00:00:00\",\"2022-07-30T00:00:00\",\"2022-07-31T00:00:00\",\"2022-08-01T00:00:00\",\"2022-08-02T00:00:00\",\"2022-08-03T00:00:00\",\"2022-08-04T00:00:00\",\"2022-08-05T00:00:00\",\"2022-08-06T00:00:00\",\"2022-08-07T00:00:00\",\"2022-08-08T00:00:00\",\"2022-08-09T00:00:00\",\"2022-08-10T00:00:00\",\"2022-08-11T00:00:00\",\"2022-08-12T00:00:00\",\"2022-08-13T00:00:00\",\"2022-08-14T00:00:00\",\"2022-08-15T00:00:00\",\"2022-08-16T00:00:00\",\"2022-08-17T00:00:00\",\"2022-08-18T00:00:00\",\"2022-08-19T00:00:00\",\"2022-08-20T00:00:00\",\"2022-08-21T00:00:00\",\"2022-08-22T00:00:00\",\"2022-08-23T00:00:00\",\"2022-08-24T00:00:00\",\"2022-08-25T00:00:00\",\"2022-08-26T00:00:00\",\"2022-08-27T00:00:00\",\"2022-08-28T00:00:00\",\"2022-08-29T00:00:00\",\"2022-08-30T00:00:00\",\"2022-08-31T00:00:00\",\"2022-09-01T00:00:00\",\"2022-09-02T00:00:00\",\"2022-09-03T00:00:00\",\"2022-09-04T00:00:00\",\"2022-09-05T00:00:00\",\"2022-09-06T00:00:00\",\"2022-09-07T00:00:00\",\"2022-09-08T00:00:00\",\"2022-09-09T00:00:00\",\"2022-09-10T00:00:00\",\"2022-09-11T00:00:00\",\"2022-09-12T00:00:00\",\"2022-09-13T00:00:00\",\"2022-09-14T00:00:00\",\"2022-09-15T00:00:00\",\"2022-09-16T00:00:00\",\"2022-09-17T00:00:00\",\"2022-09-18T00:00:00\",\"2022-09-19T00:00:00\",\"2022-09-20T00:00:00\",\"2022-09-21T00:00:00\",\"2022-09-22T00:00:00\",\"2022-09-23T00:00:00\",\"2022-09-24T00:00:00\",\"2022-09-25T00:00:00\",\"2022-09-26T00:00:00\",\"2022-09-27T00:00:00\",\"2022-09-28T00:00:00\",\"2022-09-29T00:00:00\",\"2022-09-30T00:00:00\",\"2022-10-01T00:00:00\",\"2022-10-02T00:00:00\",\"2022-10-03T00:00:00\",\"2022-10-04T00:00:00\",\"2022-10-05T00:00:00\",\"2022-10-06T00:00:00\",\"2022-10-07T00:00:00\",\"2022-10-08T00:00:00\",\"2022-10-09T00:00:00\",\"2022-10-10T00:00:00\",\"2022-10-11T00:00:00\",\"2022-10-12T00:00:00\",\"2022-10-13T00:00:00\",\"2022-10-14T00:00:00\",\"2022-10-15T00:00:00\",\"2022-10-16T00:00:00\",\"2022-10-17T00:00:00\",\"2022-10-18T00:00:00\",\"2022-10-19T00:00:00\",\"2022-10-20T00:00:00\",\"2022-10-21T00:00:00\",\"2022-10-22T00:00:00\",\"2022-10-23T00:00:00\",\"2022-10-24T00:00:00\",\"2022-10-25T00:00:00\",\"2022-10-26T00:00:00\",\"2022-10-27T00:00:00\",\"2022-10-28T00:00:00\",\"2022-10-29T00:00:00\",\"2022-10-30T00:00:00\",\"2022-10-31T00:00:00\",\"2022-11-01T00:00:00\",\"2022-11-02T00:00:00\",\"2022-11-03T00:00:00\",\"2022-11-04T00:00:00\",\"2022-11-05T00:00:00\",\"2022-11-06T00:00:00\",\"2022-11-07T00:00:00\",\"2022-11-08T00:00:00\",\"2022-11-09T00:00:00\",\"2022-11-10T00:00:00\",\"2022-11-11T00:00:00\",\"2022-11-12T00:00:00\",\"2022-11-13T00:00:00\",\"2022-11-14T00:00:00\",\"2022-11-15T00:00:00\",\"2022-11-16T00:00:00\",\"2022-11-17T00:00:00\",\"2022-11-18T00:00:00\",\"2022-11-19T00:00:00\",\"2022-11-20T00:00:00\",\"2022-11-21T00:00:00\",\"2022-11-22T00:00:00\",\"2022-11-23T00:00:00\",\"2022-11-24T00:00:00\",\"2022-11-25T00:00:00\",\"2022-11-26T00:00:00\",\"2022-11-27T00:00:00\",\"2022-11-28T00:00:00\",\"2022-11-29T00:00:00\",\"2022-11-30T00:00:00\",\"2022-12-01T00:00:00\",\"2022-12-02T00:00:00\",\"2022-12-03T00:00:00\",\"2022-12-04T00:00:00\",\"2022-12-05T00:00:00\",\"2022-12-06T00:00:00\",\"2022-12-07T00:00:00\",\"2022-12-08T00:00:00\",\"2022-12-09T00:00:00\",\"2022-12-10T00:00:00\",\"2022-12-11T00:00:00\",\"2022-12-12T00:00:00\",\"2022-12-13T00:00:00\",\"2022-12-14T00:00:00\",\"2022-12-15T00:00:00\",\"2022-12-16T00:00:00\",\"2022-12-17T00:00:00\",\"2022-12-18T00:00:00\",\"2022-12-19T00:00:00\",\"2022-12-20T00:00:00\",\"2022-12-21T00:00:00\",\"2022-12-22T00:00:00\",\"2022-12-23T00:00:00\",\"2022-12-24T00:00:00\",\"2022-12-25T00:00:00\",\"2022-12-26T00:00:00\",\"2022-12-27T00:00:00\",\"2022-12-28T00:00:00\",\"2022-12-29T00:00:00\",\"2022-12-30T00:00:00\",\"2022-12-31T00:00:00\"],\"y\":[267.0,1456.0,2035.0,702.0,1377.0,1601.0,2727.0,3177.0,1199.0,3172.0,2997.0,739.0,511.0,1207.0,1251.0,1361.0,1652.0,1508.0,818.0,440.0,1075.0,728.0,939.0,1163.0,1097.0,553.0,250.0,1472.0,1896.0,1477.0,1503.0,1474.0,1154.0,1131.0,2279.0,3057.0,1176.0,3343.0,2878.0,2343.0,3048.0,1522.0,2575.0,1855.0,1946.0,1326.0,966.0,634.0,2127.0,1811.0,1911.0,1975.0,1475.0,877.0,396.0,1929.0,2082.0,2063.0,2019.0,1351.0,524.0,761.0,2489.0,3008.0,3232.0,2597.0,1940.0,3366.0,1033.0,1173.0,2494.0,1578.0,1748.0,1723.0,804.0,335.0,1394.0,1603.0,1614.0,1539.0,1524.0,806.0,465.0,1600.0,1769.0,1728.0,1483.0,442.0,867.0,441.0,1585.0,1568.0,2300.0,2448.0,2261.0,3617.0,2948.0,1508.0,3717.0,1944.0,1376.0,2179.0,1302.0,998.0,2990.0,3203.0,3245.0,3086.0,2617.0,1636.0,1205.0,3090.0,2925.0,3169.0,3275.0,1865.0,1591.0,1109.0,2730.0,3325.0,1095.0,1185.0,2670.0,2189.0,1487.0,3644.0,2786.0,3442.0,3865.0,1553.0,2766.0,1230.0,2428.0,3010.0,3007.0,3188.0,2704.0,762.0,1139.0,774.0,2232.0,1988.0,2154.0,2598.0,1113.0,606.0,1651.0,3162.0,2694.0,3155.0,3344.0,646.0,1686.0,2670.0,1618.0,3462.0,3836.0,2028.0,3593.0,3598.0,1154.0,2447.0,966.0,2505.0,3144.0,2491.0,1751.0,3774.0,3864.0,3473.0,2936.0,1790.0,2064.0,1277.0,2912.0,3198.0,3163.0,2436.0,1904.0,1257.0,1057.0,2304.0,1844.0,2549.0,1232.0,3123.0,3599.0,1437.0,2979.0,2161.0,2646.0,2690.0,952.0,2252.0,1230.0,3016.0,3008.0,3019.0,3010.0,2767.0,1945.0,1340.0,2865.0,2916.0,2694.0,2847.0,2307.0,1855.0,1090.0,2755.0,2822.0,2670.0,1850.0,1735.0,1545.0,2729.0,3100.0,2446.0,2977.0,2833.0,1210.0,2582.0,2764.0,665.0,3140.0,3375.0,3445.0,3537.0,1990.0,929.0,2213.0,3518.0,3815.0,3799.0,3512.0,2877.0,1542.0,3807.0,3721.0,3875.0,3824.0,3544.0,1900.0,1818.0,934.0,571.0,2637.0,1221.0,1325.0,3110.0,3605.0,2294.0,2089.0,1257.0,1507.0,2975.0,918.0,1276.0,2596.0,2839.0,2815.0,2783.0,2692.0,1927.0,1303.0,3020.0,3053.0,2652.0,2914.0,2916.0,1963.0,1249.0,2927.0,1905.0,581.0,290.0,2166.0,2216.0,3507.0,2822.0,2164.0,1725.0,2463.0,885.0,2564.0,954.0,2634.0,2167.0,2540.0,2122.0,2621.0,1765.0,1255.0,3069.0,3697.0,3288.0,3564.0,3030.0,2448.0,1040.0,1874.0,2691.0,3142.0,3188.0,2028.0,1868.0,1151.0,1761.0,1539.0,3815.0,3181.0,1463.0,2320.0,1464.0,2804.0,2642.0,2987.0,2797.0,2562.0,1626.0,797.0,2571.0,2270.0,2753.0,2619.0,2263.0,1482.0,871.0,2525.0,2656.0,2351.0,2664.0,1899.0,1376.0,1176.0,1910.0,1652.0,2290.0,765.0,3494.0,3038.0,3459.0,3056.0,798.0,2434.0,2504.0,2428.0,1248.0,811.0,2682.0,2665.0,2810.0,2113.0,2481.0,1450.0,829.0,2091.0,645.0,404.0,442.0,1160.0,900.0,646.0,1451.0,972.0,439.0,634.0,1390.0,3481.0,1035.0,1214.0,3269.0,3474.0,2732.0,3464.0,2100.0,2465.0,2343.0,2721.0,2413.0,2139.0,2343.0,1508.0,681.0,2259.0,2095.0,2074.0,2059.0,1196.0,601.0,237.0,1156.0,1640.0,1680.0,1476.0,1411.0,1520.0,668.0,802.0,3578.0,2129.0,3565.0,3560.0,2089.0,2865.0,3119.0,1656.0,2571.0,2294.0,2266.0,1232.0,690.0,2447.0,2641.0,2283.0,2406.0,2165.0,1558.0,905.0,2672.0,2857.0,2697.0,2714.0,2319.0,1587.0,2072.0,2670.0,3511.0,1778.0,3990.0,3830.0,1207.0,3220.0,1534.0,2531.0,2389.0,3167.0,2730.0,1228.0,712.0,2744.0,2662.0,2744.0,3271.0,1885.0,1363.0,937.0,2631.0,2925.0,2868.0,3012.0,2750.0,2135.0,1443.0,3266.0,1316.0,2360.0,2915.0,2305.0,940.0,3401.0,3812.0,2667.0,3174.0,2199.0,2310.0,2418.0,1186.0,1568.0,2215.0,2617.0,2456.0,608.0,1850.0,1026.0,573.0,2979.0,3113.0,3351.0,3557.0,2208.0,1118.0,3413.0,3899.0,3853.0,701.0,2314.0,2951.0,1413.0,3446.0,2751.0,2060.0,3049.0,2886.0,1642.0,2421.0,2555.0,2980.0,3011.0,3202.0,3377.0,2056.0,1653.0,3598.0,4228.0,4180.0,3884.0,3131.0,2045.0,1721.0,3792.0,2984.0,1806.0,1304.0,2654.0,2109.0,2014.0,2463.0,3083.0,807.0,3278.0,3708.0,2101.0,3203.0,1722.0,3437.0,2800.0,1500.0,3427.0,2022.0,1704.0,3261.0,3747.0,3419.0,3067.0,2647.0,1688.0,1310.0,3581.0,3455.0,3402.0,3378.0,3273.0,1916.0,968.0,2939.0,2585.0,1420.0,2817.0,2609.0,2814.0,2262.0,3647.0,2528.0,1141.0,2216.0,2506.0,693.0,1396.0,3048.0,3801.0,3957.0,3975.0,3851.0,2510.0,1422.0,3462.0,3827.0,4118.0,4101.0,2313.0,2713.0,1826.0,3816.0,3797.0,3827.0,3654.0,2108.0,1032.0,2206.0,1771.0,2541.0,943.0,2513.0,2919.0,3127.0,2861.0,1706.0,2467.0,2791.0,2461.0,2275.0,1394.0,741.0,1790.0,2003.0,2028.0,2327.0,2006.0,1388.0,921.0,2430.0,2706.0,2749.0,2973.0,2304.0,1581.0,920.0,2011.0,601.0,1557.0,2085.0,2161.0,1206.0,2586.0,1488.0,3019.0,3241.0,1044.0,2637.0,2077.0,1441.0,3240.0,3771.0,3734.0,3818.0,3612.0,2347.0,1521.0,2373.0,3495.0,2908.0,3064.0,2887.0,2132.0,1359.0,3413.0,3097.0,2162.0,2415.0,3246.0,2221.0,1152.0,2886.0,3635.0,1079.0,2806.0,3282.0,2603.0,2054.0,2934.0,3590.0,3104.0,2755.0,3404.0,2333.0,1440.0,2862.0,2397.0,1703.0,3194.0,3110.0,1970.0,1470.0,3000.0,3099.0,2258.0,2623.0,2798.0,1135.0,2376.0,3392.0,2269.0,662.0,2997.0,3830.0,2543.0,3381.0,2143.0,3155.0,2001.0,3069.0,2990.0,1691.0,612.0,3039.0,2973.0,3099.0,3025.0,2683.0,1490.0,1054.0,2675.0,3002.0,2944.0,2848.0,2482.0,1379.0,761.0,912.0,2491.0,3152.0,1640.0,1668.0,4037.0,2469.0,2588.0,3286.0,1217.0,2999.0,1372.0,1495.0,870.0,1944.0,2660.0,1862.0,2207.0,1639.0,846.0,719.0,1064.0,1416.0,609.0,293.0,442.0,931.0,490.0,1033.0,1209.0,792.0,412.0,597.0,609.0,1176.0,1053.0,3590.0,4299.0,1971.0,2800.0,3691.0,1634.0,2509.0,1707.0,2022.0,1746.0,2427.0,1502.0,543.0,2135.0,2201.0,2102.0,2233.0,2083.0,522.0,436.0,1612.0,2230.0,1788.0,1685.0,1834.0,809.0,1087.0,1656.0,2151.0,1434.0,1918.0,3140.0,4257.0,1285.0,3273.0,3340.0,3150.0,2816.0,2354.0,1465.0,756.0,2339.0,2368.0,2430.0,2475.0,1934.0,958.0,819.0,1899.0,2235.0,2265.0,2528.0,1710.0,1468.0,918.0,1572.0,1863.0,678.0,947.0,3634.0,3338.0,2909.0,3445.0,1569.0,3278.0,2931.0,2600.0,1293.0,759.0,2962.0,3249.0,3228.0,3254.0,2613.0,983.0,1008.0,2901.0,2963.0,2480.0,2376.0,1681.0,1262.0,317.0,1133.0,875.0,763.0,2165.0,2063.0,1327.0,3251.0,4075.0,2081.0,2480.0,2908.0,1777.0,3319.0,2420.0,3230.0,3414.0,3847.0,3537.0,3186.0,2111.0,1440.0,3693.0,3825.0,3349.0,3309.0,3574.0,1288.0,804.0,2597.0,3157.0,3367.0,2864.0,2118.0,1886.0,2616.0,789.0,2909.0,3986.0,1036.0,3037.0,1173.0,3690.0,3300.0,1523.0,3705.0,1349.0,2405.0,1191.0,1026.0,3015.0,2802.0,3126.0,3262.0,3362.0,1432.0,1333.0,1107.0,2983.0,3383.0,2917.0,3287.0,1510.0,1176.0,2538.0,2112.0,2454.0,917.0,3288.0,2325.0,3930.0,3055.0,843.0,2662.0,2743.0,811.0,2270.0,2189.0,3712.0,3647.0,3679.0,3241.0,2498.0,1726.0,1328.0,2274.0,2888.0,3160.0,3593.0,3459.0,2111.0,1588.0,3874.0,4407.0,2535.0,1063.0,1733.0,2288.0,2909.0,1580.0,3727.0,1790.0,3285.0,3223.0,1692.0,2692.0,2626.0,2579.0,3681.0,4098.0,3865.0,2828.0,886.0,3888.0,3885.0,4063.0,3393.0,3155.0,1018.0,1074.0,1735.0,2251.0,2050.0,2269.0,2759.0,1814.0,827.0,1482.0,2424.0,3617.0,3676.0,2892.0,1699.0,3618.0,3207.0,1298.0,3111.0,2969.0,2057.0,1387.0,981.0,1803.0,1066.0,2557.0,2820.0,2891.0,1929.0,1276.0,2140.0,2382.0,2971.0,1759.0,2896.0,2519.0,1085.0,2996.0,1464.0,2009.0,2813.0,2787.0,1654.0,3747.0,3276.0,1426.0,3743.0,3101.0,3125.0,3033.0,1292.0,2131.0,3014.0,2802.0,2819.0,3294.0,1393.0,998.0,3029.0,2906.0,3127.0,3342.0,3220.0,1897.0,1169.0,3363.0,3692.0,3639.0,648.0,2304.0,2832.0,2877.0,1384.0,4028.0,3601.0,2700.0,3356.0,2071.0,2902.0,2897.0,3276.0,2741.0,2356.0,1877.0,1484.0,812.0,2660.0,2835.0,2870.0,2445.0,2792.0,2110.0,1290.0,2995.0,3022.0,2848.0,2947.0,2944.0,2024.0,478.0,2398.0,3072.0,1556.0,3758.0,4276.0,2456.0,2751.0,2941.0,1070.0,2797.0,2066.0,2589.0,1449.0,309.0,2479.0,2310.0,2136.0,2444.0,2444.0,1251.0,563.0,2491.0,2079.0,2345.0,2839.0,2501.0,1242.0,576.0,1962.0,1904.0,2391.0,2955.0,1211.0,3492.0,4200.0,908.0,2788.0,1880.0,3236.0,3274.0,1447.0,891.0,2683.0,2937.0,2667.0,2809.0,2862.0,1915.0,1104.0,2696.0,2232.0,2077.0,882.0,390.0,555.0,603.0,1501.0,1524.0,1571.0,791.0,429.0,1967.0,2255.0,2591.0,1145.0,7.0,null,null,null,null,2744.0,2485.0,2249.0,1844.0,2001.0,834.0,339.0,1611.0,1526.0,912.0,1019.0,1029.0,739.0,555.0,2315.0,2574.0,2070.0,2290.0,1848.0,643.0,663.0,932.0,2235.0,2050.0,1890.0,3608.0,2.0,null,null,null,null,2445.0,2729.0,1262.0,351.0,1766.0,2254.0,2206.0,2191.0,1945.0,686.0,369.0,1761.0,2322.0,2239.0,2217.0,2184.0,1339.0,868.0,2505.0,153.0,2281.0,1933.0,1218.0,2706.0,2.0,null,null,null,null,2690.0,1461.0,976.0,2544.0,2719.0,2911.0,2904.0,2200.0,1304.0,1017.0,1891.0,1983.0,2078.0,2066.0,397.0,1501.0,449.0,495.0,1755.0,2019.0,2395.0,482.0,1946.0,2050.0,3105.0,3548.0,0.0,null,null,null,null,2691.0,647.0,3124.0,3244.0,2137.0,1501.0,1120.0,2952.0,3305.0,3175.0,3449.0,3143.0,1469.0,766.0,2050.0,1979.0,2074.0,2202.0,2345.0,1253.0,257.0,1825.0,981.0,2392.0,1576.0,0.0,null,null,null,null,1285.0,2256.0,3417.0,1233.0,564.0,859.0,2755.0,3601.0,3702.0,3233.0,2081.0,1414.0,2730.0,3054.0,3406.0,3506.0,3640.0,2214.0,766.0,3144.0,252.0,238.0,1352.0,825.0,2872.0,2618.0,36.0,null,null,null,null,739.0,2317.0,null,null,null,null,null,null,null,null,null,null,null,null,null,null,null,null,null,null,374.0,777.0,2426.0,2901.0,2108.0,17.0,null,null,null,null,2459.0,2533.0,null,null,null,null,null,null,null,null,null,null,null,null,null,null,null,null,null,null,null,739.0,1769.0,2402.0,2673.0,1492.0,null,null,null,null,null,2321.0,2812.0,null,null,null,null,null,null,null,null,null,null,null,null,null,null,null,null,null,null,null,811.0,1963.0,2723.0,1824.0,3826.0,null,null,null,null,null,1884.0,2522.0,null,null,null,null,null,null,null,null,null,null,null,null,null,null,null,null,null,null,506.0,1963.0,2522.0,1140.0,4082.0,null,null,null,null,null,2449.0,1260.0,null,null,null,null,null,null,null,null,null,null,null,null,null,null,null,null,null,null,null,2194.0,2472.0,2378.0,3434.0,3934.0,null,null,null,null,null,2499.0,794.0,753.0,2456.0,2121.0,2539.0,2755.0,2237.0,1265.0,775.0,2672.0,3029.0,3089.0,3087.0,2396.0,1301.0,945.0,2654.0,2611.0,2541.0,2331.0,2195.0,1519.0,3366.0,3994.0,null,null,null,null,null,1109.0,2745.0,2715.0,2735.0,2773.0,2522.0,1478.0,830.0,2825.0,2847.0,2474.0,1877.0,2003.0,729.0,305.0,330.0,1287.0,1485.0,1553.0,1338.0,759.0,381.0,2401.0,2521.0,1876.0,1207.0,115.0,120.0,2829.0,3491.0,1478.0,2375.0,2291.0,1014.0,743.0,299.0,1441.0,1454.0,1501.0,1779.0,1706.0,1051.0,592.0,2106.0,2228.0,2353.0,2326.0,2094.0,1117.0,591.0,1096.0,1920.0,1569.0,2420.0,1504.0,1304.0,2716.0,114.0,80.0,2926.0,1827.0,1341.0,2785.0,1154.0,2247.0,2442.0,2499.0,2597.0,1667.0,1420.0,530.0,2067.0,2453.0,1614.0,1428.0,2064.0,869.0,597.0,2552.0,2351.0,1295.0,2092.0,2476.0,3500.0,3064.0,14.0,5.0,2703.0,1384.0,796.0,2663.0,434.0,2981.0,3023.0,3111.0,3332.0,2489.0,1085.0,362.0,2168.0,2749.0,3255.0,3077.0,3011.0,1756.0,1034.0,3182.0,3517.0,2451.0,3114.0,3433.0,1411.0,1277.0,1618.0,3659.0,1731.0,0.0,4.0,2858.0,3670.0,2275.0,1509.0,2044.0,2111.0,765.0,964.0,612.0,625.0,2059.0,2452.0,2583.0,2142.0,1144.0,914.0,2668.0,2624.0,3085.0,3033.0,2744.0,1660.0,1395.0,1824.0,547.0,980.0,3148.0,12.0,0.0,6.0,1617.0,3656.0,1417.0,777.0,2401.0,29.0,28.0,10.0,16.0,17.0,16.0,194.0,3.0,0.0,33.0,55.0,37.0,1.0,52.0,7.0,0.0,66.0,66.0,148.0,1473.0,2272.0,2583.0,3281.0,28.0,24.0,1.0,1312.0,3010.0,1456.0,2690.0,2420.0,6.0,6.0,64.0,82.0,16.0,35.0,17.0,19.0,103.0,40.0,5.0,0.0,24.0,142.0,0.0,20.0,30.0,122.0,268.0,2267.0,2642.0,3127.0,0.0,56.0,1.0,3324.0,3116.0,678.0,2576.0,2068.0,101.0,6.0,36.0,27.0,1583.0,2667.0,2464.0,2158.0,2501.0,1180.0,924.0,1889.0,1471.0,2402.0,2509.0,2178.0,1166.0,1055.0,2978.0,432.0,2040.0,2222.0,1733.0,7.0,9.0,3.0,2910.0,1893.0,939.0,2602.0,1676.0,1113.0,3372.0,2959.0,3444.0,3172.0,2849.0,1666.0,912.0,3434.0,3815.0,3824.0,3573.0,3435.0,2018.0,1470.0,3746.0,3916.0,3724.0,2842.0,2402.0,2108.0,2432.0,1795.0,1.0,26.0,0.0,3138.0,1118.0,2239.0,2714.0,739.0,1792.0,2783.0,3022.0,1356.0,1125.0,3021.0,3279.0,2765.0,3390.0,3255.0,1944.0,1119.0,2989.0,3108.0,3059.0,3034.0,3030.0,1081.0,1840.0,1825.0,2540.0,2540.0,8.0,316.0,1.0,3080.0,1745.0,2127.0,2049.0,404.0,2840.0,1862.0,1479.0,3468.0,3577.0,3392.0,3470.0,2562.0,1505.0,864.0,2147.0,2505.0,2844.0,3033.0,2773.0,1133.0,779.0,1930.0,840.0,1862.0,748.0,1636.0,2519.0,106.0,0.0,132.0,1813.0,3050.0,2078.0,1137.0,882.0,2602.0,2484.0,2372.0,2501.0,2587.0,950.0,438.0,1803.0,1728.0,2267.0,2428.0,1757.0,1270.0,683.0,1896.0,2387.0,2337.0,2280.0,2142.0,572.0,1161.0,1864.0,38.0,294.0,7.0,1016.0,3041.0,2447.0,732.0,1277.0,1509.0,1972.0,2088.0,1168.0,626.0,2124.0,2357.0,2198.0,2210.0,2086.0,1119.0,425.0,348.0,362.0,1220.0,1304.0,1356.0,551.0,395.0,384.0,2093.0,1501.0,556.0,497.0,3657.0,1410.0,2856.0,2290.0,2229.0,3450.0,1555.0,1270.0,750.0,2346.0,1756.0,1876.0,1135.0,1750.0,985.0,583.0,1882.0,2278.0,2291.0,2407.0,2230.0,1190.0,611.0,1753.0,2545.0,1840.0,1716.0,1780.0,1378.0,696.0,3443.0,1851.0,2999.0,2882.0,1645.0,1620.0,3218.0,558.0,2363.0,2423.0,1926.0,2083.0,1133.0,765.0,2388.0,2520.0,2368.0,2245.0,2217.0,1065.0,486.0,1298.0,1362.0,1442.0,1050.0,1145.0,730.0,2389.0,3386.0,1366.0,3137.0,2671.0,4266.0,1080.0,2021.0,2670.0,2069.0,2318.0,2260.0,1694.0,692.0,419.0,1696.0,1767.0,1735.0,1428.0,1497.0,1138.0,859.0,1758.0,1898.0,1297.0,1405.0,711.0,758.0,1560.0,488.0,511.0,3024.0,3315.0,3637.0,3067.0,1965.0,4277.0,2530.0,1105.0,3119.0,2308.0,935.0,809.0,3422.0,3857.0,4033.0,4165.0,3971.0,2404.0,1456.0,3522.0,2898.0,2617.0,2398.0,3186.0,1680.0,1352.0,2171.0,1798.0,2219.0,2254.0,2528.0,2146.0,3795.0,3022.0,1261.0,4156.0,2700.0,3198.0,3025.0,1122.0,3768.0,3761.0,3212.0,3219.0,2954.0,1551.0,1256.0,1232.0,3237.0,3657.0,4228.0,4005.0,2404.0,1542.0,4064.0,4089.0,3707.0,4119.0,1086.0,2411.0,2602.0,3127.0,1560.0,3834.0,2384.0,3239.0,3475.0,1838.0,3592.0,2784.0,3271.0,3345.0,3316.0,2292.0,1647.0,3215.0,3234.0,3584.0,2221.0,2258.0,1571.0,830.0,3196.0,3244.0,3610.0,3523.0,3102.0,1906.0,708.0,2121.0,2404.0,2081.0,3729.0,3846.0,1567.0,3093.0,3182.0,1395.0,3480.0,2136.0,2446.0,1557.0,1182.0,2544.0,2659.0,2660.0,2709.0,2374.0,1461.0,1105.0,2571.0,2572.0,2778.0,2673.0,2557.0,1363.0,1325.0,2750.0,2797.0,2363.0,2056.0,1946.0,1561.0,3684.0,3464.0,1148.0,3070.0,2378.0,2928.0,3594.0,999.0,3823.0,3289.0,4101.0,4917.0,3399.0,3010.0,1867.0,4121.0,4403.0,4309.0,4201.0,3540.0,1162.0,1367.0,3188.0,4043.0,4386.0,3262.0,3590.0,2421.0,1835.0,2271.0,3197.0,3633.0,2331.0,2458.0,3233.0,1425.0,3046.0,2411.0,724.0,3660.0,3915.0,1930.0,1900.0,4012.0,4083.0,4151.0,4040.0,2904.0,1701.0,733.0,2365.0,3252.0,3547.0,3689.0,3219.0,1789.0,1234.0,2487.0,872.0,1118.0,2587.0,1103.0,1211.0,1888.0,3574.0,4119.0,3086.0,1387.0,2541.0,2151.0,1337.0,3819.0,3869.0,3960.0,3541.0,3904.0,2088.0,1476.0,3448.0,2590.0,2889.0,3261.0,2735.0,2058.0,1329.0,3074.0,3055.0,1504.0,2690.0,428.0,822.0,3352.0,2237.0,3609.0,1505.0,1764.0,3930.0,3224.0,824.0,2997.0,3257.0,3488.0,3255.0,3002.0,1483.0,818.0,2705.0,2471.0,2556.0,2570.0,2588.0,1297.0,778.0,2782.0,2769.0,2619.0,2207.0,2819.0,2310.0,2038.0,2306.0,3320.0,1699.0,3448.0,2687.0,1690.0,2674.0,3185.0,2562.0,2915.0,3051.0,2733.0,1447.0,636.0,2664.0,3059.0,2903.0,2819.0,1643.0,1155.0,706.0,912.0,383.0,436.0,1414.0,1440.0,874.0,637.0,1097.0,399.0,1750.0,2882.0,3300.0,1429.0,2223.0,3832.0,2838.0,1155.0,2029.0,2021.0,973.0,406.0,2277.0,2420.0,2644.0,2456.0,1943.0,1135.0,700.0,2272.0,2474.0,2204.0,2201.0,1939.0,503.0,568.0,2264.0,2306.0,2251.0,1945.0,1857.0,946.0,1445.0,3238.0,3171.0,1515.0,3712.0,2445.0,3248.0,2713.0,1403.0,2696.0,2727.0,3059.0,2853.0,1624.0,1037.0,3207.0,2811.0,2968.0,2878.0,2753.0,1819.0,1224.0,3146.0,3405.0,3427.0,3091.0,2043.0,659.0,485.0,2849.0,3001.0,2633.0,4038.0,1619.0,2784.0,687.0,1276.0,2971.0,2167.0,2028.0,2376.0,748.0,725.0,2549.0,2932.0,2918.0,3081.0,3236.0,1628.0,1079.0,2259.0,2709.0,2718.0,3000.0,3500.0,2048.0,1129.0,1720.0,2311.0,2133.0,3065.0,1405.0,3477.0,3884.0,1027.0,2826.0,1255.0,3002.0,3141.0,1126.0,930.0,2661.0,2972.0,3030.0,3017.0,1342.0,1980.0,1120.0,1347.0,3418.0,3888.0,4119.0,3100.0,1652.0,947.0,2888.0,4010.0,900.0,2542.0,2676.0,2825.0,1036.0,3984.0,3317.0,2585.0,2804.0,1357.0,2928.0,3065.0,3702.0,3868.0,4007.0,2945.0,3215.0,2239.0,1334.0,3684.0,2400.0,3469.0,4004.0,3819.0,2007.0,1260.0,3584.0,3827.0,3747.0,1158.0,2552.0,652.0,2325.0,2488.0,2067.0,2868.0,3501.0,1393.0,3047.0,2900.0,981.0,2892.0,1948.0,4188.0,4234.0,2361.0,2300.0,4018.0,3962.0,3786.0,3475.0,3641.0,2430.0,1568.0,3840.0,3827.0,3834.0,3746.0,3655.0,2284.0,1342.0,2586.0,2311.0,2640.0,1375.0,3542.0,3682.0,1238.0,2675.0,1654.0,2292.0,2984.0,1581.0,1284.0,913.0,2518.0,2447.0,2992.0,2834.0,2569.0,1321.0,1081.0,2533.0,2676.0,2498.0,2355.0,2492.0,1646.0,1112.0,2703.0,2921.0,2822.0,1870.0,2275.0,2345.0,3228.0,3348.0,1306.0,2745.0,2834.0,1288.0,1864.0,2929.0,666.0,2287.0,3185.0,2670.0,3043.0,1368.0,742.0,3271.0,3450.0,3459.0,3370.0,3217.0,2066.0,1309.0,3287.0,3414.0,3081.0,2622.0,3392.0,1988.0,2673.0,999.0,1070.0,2939.0,3465.0,1363.0,2978.0,2568.0,3049.0,2205.0,1500.0,2833.0,2831.0,1816.0,1244.0,2884.0,2858.0,2955.0,3047.0,3640.0,1852.0,1343.0,2772.0,3160.0,2265.0,2527.0,2810.0,1412.0,378.0,1998.0,2758.0,437.0,493.0,2756.0,2676.0,1167.0,3072.0,1639.0,3158.0,2136.0,1006.0,3265.0,858.0,2785.0,3042.0,2238.0,2537.0,2668.0,1429.0,731.0,3065.0,3472.0,3459.0,3609.0,3408.0,2201.0,1262.0,3366.0,3470.0,3443.0,1432.0,2402.0,2472.0,2086.0,2592.0,2012.0,2626.0,2448.0,1313.0,2839.0,1731.0,2878.0,2410.0,2860.0,3180.0,2634.0,805.0,759.0,2344.0,2883.0,2842.0,2835.0,2782.0,1451.0,829.0,3008.0,3091.0,2834.0,2196.0,2877.0,1560.0,979.0,2724.0,2425.0,2326.0,1295.0,3342.0,2373.0,2999.0,2967.0,806.0,2934.0,3332.0,2737.0,1375.0,890.0,3096.0,3611.0,3433.0,3546.0,3074.0,2033.0,1043.0,2218.0,746.0,442.0,557.0,1565.0,1104.0,729.0,1709.0,1075.0,436.0,1305.0,764.0,1473.0,687.0,1399.0,2964.0,1886.0,3908.0,3343.0,926.0,2383.0,3161.0,2508.0,3195.0,3443.0,3273.0,1399.0,1072.0,3224.0,3260.0,3111.0,3217.0,2795.0,1348.0,854.0,2587.0,2561.0,2463.0,2782.0,2767.0,1544.0,556.0,2814.0,1556.0,1294.0,3400.0,3064.0,1187.0,3806.0,3218.0,2592.0,2678.0,2217.0,2512.0,1686.0,563.0,2529.0,2703.0,2684.0,2417.0,2324.0,819.0,383.0,2103.0,2551.0,2456.0,2636.0,2543.0,1269.0,1306.0,2091.0,2881.0,1649.0,1016.0,3393.0,3233.0,3175.0,2745.0,1092.0,2989.0,2602.0,1931.0,1487.0,758.0,2664.0,2413.0,2205.0,1672.0,1694.0,782.0,517.0,1619.0,1664.0,1655.0,1761.0,1700.0,1061.0,313.0,1133.0,1545.0,897.0,2379.0,2760.0,1152.0,2950.0,2625.0,1466.0,3261.0,3235.0,1020.0,3041.0,2492.0,623.0,1857.0,2306.0,2391.0,2298.0,1608.0,1184.0,2685.0,2653.0,2796.0,2839.0,2659.0,1476.0,1061.0,2831.0,2525.0,2170.0,2325.0,744.0,3055.0,2827.0,1102.0,2851.0,2624.0,876.0,3262.0,1794.0,3214.0,3019.0,1263.0,2432.0,2815.0,2539.0,1656.0,1129.0,2969.0,3019.0,3149.0,1483.0,1654.0,1523.0,762.0,2823.0,3337.0,3330.0,3271.0,3178.0,2001.0,1188.0,2748.0,3080.0,1502.0,2170.0,2965.0,1620.0,2986.0,3345.0,1095.0,2624.0,2753.0,571.0,1665.0,773.0,3419.0,3579.0,3555.0,2800.0,2990.0,2009.0,1413.0,3492.0,3882.0,4118.0,3865.0,3667.0,1672.0,1160.0,3532.0,3052.0,3228.0,2905.0,1508.0,2130.0,2927.0,911.0,3194.0,2952.0,3435.0,3613.0,1465.0,2313.0,3667.0,2716.0,3554.0,3374.0,3264.0,1896.0,1216.0,2855.0,3087.0,3066.0,3053.0,2570.0,1643.0,999.0,2728.0,2736.0,2898.0,3089.0,3003.0,2830.0,1477.0,716.0,2266.0,2843.0,3127.0,3278.0,1673.0,3395.0,2144.0,927.0,2778.0,3187.0,2720.0,1928.0,1206.0,1738.0,3252.0,3199.0,3028.0,2128.0,1850.0,1049.0,2760.0,2954.0,1751.0,3411.0,3085.0,1968.0,1304.0,3978.0,2738.0,509.0,2796.0,2226.0,2065.0,3574.0,1880.0,1175.0,3111.0,3024.0,2676.0,2737.0,1231.0,3505.0,3512.0,3501.0,3396.0,3180.0,1984.0,1434.0,3290.0,3430.0,3376.0,3224.0,2935.0,1467.0,839.0,2916.0,3946.0,3415.0,2757.0,1556.0,1983.0,973.0,1120.0,3351.0,2378.0,2905.0,3546.0,1392.0,2775.0,2545.0,2746.0,2534.0,2506.0,2345.0,1373.0,724.0,2430.0,2101.0,1707.0,2580.0,2432.0,1294.0,659.0,2913.0,2894.0,2730.0,2746.0,2039.0,1101.0,1485.0,1899.0,3074.0,1527.0,2505.0,2323.0,1909.0,3151.0,3347.0,808.0,2714.0,2628.0,2757.0,1245.0,940.0,2618.0,2377.0,2902.0,2508.0,2304.0,1092.0,824.0,2772.0,2842.0,2890.0,2467.0,2596.0,1452.0,734.0,2542.0,671.0,2292.0,2342.0,1057.0,2345.0,3208.0,1341.0,3119.0,1849.0,2445.0,2698.0,1319.0,666.0,2714.0,2384.0,2211.0,2022.0,2192.0,1132.0,765.0,1860.0,1635.0,1171.0,652.0,431.0,430.0,340.0,1181.0,1125.0,1212.0,798.0,514.0,564.0,2460.0,2721.0,1069.0,3575.0,2670.0,729.0,3021.0,null,3471.0,2020.0,1790.0,1935.0,1801.0,797.0,525.0,1812.0,1369.0,2102.0,1932.0,1999.0,953.0,676.0,2091.0,2026.0,1909.0,2080.0,1060.0,221.0,155.0,861.0,741.0,2495.0,721.0,733.0,3412.0,3197.0,2425.0,2701.0,null,3641.0,2199.0,449.0,329.0,836.0,1008.0,1641.0,2027.0,1968.0,1136.0,1128.0,2442.0,2454.0,2571.0,2614.0,2345.0,1047.0,747.0,618.0,928.0,2531.0,1397.0,1822.0,2931.0,2241.0,2834.0,3034.0,null,3478.0,1820.0,615.0,515.0,1921.0,2428.0,2362.0,2338.0,2312.0,1150.0,722.0,2398.0,2634.0,2681.0,2711.0,2739.0,931.0,643.0,2316.0,2697.0,3174.0,1613.0,1315.0,2334.0,610.0,1640.0,3181.0,1123.0,2318.0,1657.0,null,3303.0,1170.0,2368.0,2409.0,2777.0,2595.0,1484.0,1148.0,2647.0,2951.0,2638.0,2476.0,2588.0,1379.0,997.0,2486.0,2583.0,2845.0,1858.0,2600.0,1636.0,1581.0,2303.0,422.0,1675.0,961.0,2914.0,2592.0,921.0,null,3077.0,457.0,1240.0,1980.0,1132.0,798.0,2335.0,2552.0,2507.0,2873.0,2153.0,884.0,969.0,1067.0,2064.0,2272.0,2574.0,2821.0,1704.0,1561.0,3377.0,1524.0,632.0,933.0,1306.0,2434.0,1274.0,3038.0,2144.0,2965.0,null,1825.0,2395.0,1507.0,3486.0,3590.0,3639.0,3343.0,3254.0,1959.0,1219.0,1611.0,3356.0,3447.0,3367.0,3294.0,2119.0,1483.0,3251.0,2283.0,3012.0,1252.0,98.0,732.0,1425.0,2195.0,2789.0,3615.0,1582.0,3496.0,null,866.0,2417.0,3399.0,2682.0,3492.0,3479.0,2242.0,1448.0,3303.0,3493.0,3575.0,3325.0,2725.0,1965.0,1242.0,2644.0,2852.0,2733.0,2656.0,2738.0,1172.0,1561.0,358.0,2442.0,1815.0,1354.0,3444.0,3318.0,1060.0,3606.0,null,3135.0,2520.0,2545.0,1763.0,1173.0,1740.0,2050.0,2194.0,2165.0,2284.0,1675.0,604.0,2700.0,2956.0,2580.0,2677.0,2199.0,1217.0,821.0,2915.0,3446.0,920.0,433.0,1458.0,1923.0,1328.0,3528.0,3273.0,2281.0,3592.0,null,3430.0,2565.0,3261.0,3623.0,2256.0,2898.0,2247.0,1478.0,null,null,null,null,null,null,null,null,null,null,null,null,677.0,728.0,2364.0,1173.0,2754.0,3550.0,2171.0,2103.0,1925.0,null,3293.0,2549.0,null,null,null,null,null,null,null,null,830.0,1821.0,1707.0,1399.0,2553.0,2822.0,2802.0,3300.0,3234.0,1714.0,1338.0,1765.0,958.0,1543.0,629.0,1959.0,3450.0,1233.0,2729.0,1791.0,null,3237.0,1461.0,1422.0,1013.0,3038.0,3174.0,2984.0,2961.0,2868.0,1491.0,877.0,3087.0,2957.0,3060.0,2786.0,2401.0,1131.0,781.0,2738.0,2459.0,1828.0,941.0,1810.0,2336.0,2713.0,1851.0,3262.0,2744.0,1320.0,null,2968.0,548.0,2470.0,2616.0,2743.0,2831.0,2672.0,1618.0,912.0,2653.0,2495.0,2083.0,1309.0,411.0,313.0,315.0,1027.0,1202.0,1249.0,1051.0,870.0,463.0,1763.0,2918.0,2209.0,1253.0,2763.0,2804.0,2317.0,3768.0,1124.0,3415.0,2755.0,2394.0,2244.0,1263.0,692.0,2147.0,2648.0,2415.0,2052.0,1964.0,1031.0,846.0,2613.0,2517.0,2527.0,2145.0,2390.0,924.0,639.0,1572.0,512.0,2493.0,2978.0,1449.0,3623.0,3647.0,2455.0,2725.0,3350.0,1119.0,3212.0,2386.0,895.0,2615.0,2642.0,1853.0,1052.0,1476.0,923.0,390.0,1726.0,2371.0,2883.0,2323.0,2068.0,1569.0,1145.0,2897.0,1715.0,2188.0,3083.0,729.0,3642.0,3316.0,1464.0,2585.0,2229.0,931.0,3287.0,1353.0,1171.0,2254.0,2862.0,3118.0,2613.0,3063.0,1838.0,1086.0,3127.0,3340.0,3459.0,3392.0,3372.0,1907.0,1158.0,2934.0,3001.0,2480.0,1939.0,1742.0,2162.0,2644.0,1511.0,3705.0,1809.0,3635.0,2268.0,1336.0,3347.0,2989.0,758.0,2651.0,2594.0,980.0,1867.0,1047.0,1320.0,3270.0,3543.0,3548.0,3384.0,2189.0,1181.0,3035.0,3747.0,3722.0,3657.0,3338.0,1826.0,1480.0,1297.0,1560.0,1993.0,3810.0,1135.0,3658.0,1719.0,3458.0,3215.0,1801.0,1948.0,3331.0,2175.0,1928.0,3423.0,3825.0,4030.0,3260.0,3010.0,1825.0,1552.0,3577.0,3310.0,3591.0,1319.0,1967.0,1271.0,791.0,3255.0,3670.0,1827.0,388.0,1105.0,1965.0,3653.0,872.0,3394.0,1595.0,3399.0,3128.0,1041.0,2721.0,3159.0,3724.0,3793.0,3760.0,3327.0,2113.0,1065.0,3287.0,3785.0,3866.0,3678.0,2904.0,1938.0,1287.0,2621.0,3811.0,3619.0,3592.0,1485.0,2293.0,2763.0,1551.0,1944.0,2830.0,2420.0,1208.0,2976.0,3038.0,3053.0,2430.0,3743.0,3272.0,2688.0,1946.0,1550.0,2880.0,2760.0,2673.0,1810.0,2656.0,1578.0,1140.0,2288.0,2302.0,2740.0,2612.0,2347.0,1626.0,866.0,1069.0,2369.0,3056.0,1846.0,1618.0,3312.0,2985.0,2607.0,2502.0,1531.0,3498.0,2685.0,1591.0,1101.0,2446.0,2855.0,2704.0,2742.0,2623.0,2043.0,1274.0,3048.0,3358.0,3307.0,3519.0,2793.0,2252.0,1326.0,3228.0,3442.0,3582.0,526.0,2455.0,3118.0,991.0,3728.0,3438.0,1996.0,2746.0,2634.0,1156.0,3201.0,2264.0,3184.0,3364.0,2920.0,2311.0,823.0,529.0,2621.0,2919.0,3264.0,3046.0,2965.0,1000.0,1071.0,2202.0,2398.0,2578.0,3066.0,2856.0,2437.0,2256.0,3255.0,864.0,3662.0,3409.0,1222.0,2713.0,1839.0,2931.0,3227.0,1350.0,2962.0,3027.0,1657.0,1256.0,2308.0,2945.0,2843.0,2564.0,2325.0,1903.0,1177.0,2641.0,2835.0,2913.0,3031.0,2785.0,2047.0,1872.0,1107.0,2329.0,2146.0,2837.0,2397.0,3719.0,2622.0,2844.0,2606.0,1523.0,3260.0,2943.0,688.0,995.0,3016.0,3270.0,2177.0,1871.0,2141.0,1312.0,655.0,2335.0,2526.0,2762.0,2953.0,2459.0,1524.0,785.0,1858.0,2264.0,2739.0,2341.0,1421.0,1877.0,2712.0,3759.0,2086.0,3574.0,2387.0,3277.0,3359.0,1800.0,2235.0,2313.0,2155.0,2147.0,2036.0,1058.0,588.0,914.0,2193.0,2557.0,2482.0,1777.0,636.0,297.0,426.0,1386.0,1008.0,1194.0,1304.0,482.0],\"type\":\"scatter\"},{\"line\":{\"color\":\"red\"},\"mode\":\"markers\",\"name\":\"imputed\",\"x\":[\"2016-01-06T00:00:00\",\"2016-01-07T00:00:00\",\"2016-01-08T00:00:00\",\"2016-01-09T00:00:00\",\"2016-01-10T00:00:00\",\"2016-02-06T00:00:00\",\"2016-02-07T00:00:00\",\"2016-02-08T00:00:00\",\"2016-02-09T00:00:00\",\"2016-02-10T00:00:00\",\"2016-03-06T00:00:00\",\"2016-03-07T00:00:00\",\"2016-03-08T00:00:00\",\"2016-03-09T00:00:00\",\"2016-03-10T00:00:00\",\"2016-04-06T00:00:00\",\"2016-04-07T00:00:00\",\"2016-04-08T00:00:00\",\"2016-04-09T00:00:00\",\"2016-04-10T00:00:00\",\"2016-05-06T00:00:00\",\"2016-05-07T00:00:00\",\"2016-05-08T00:00:00\",\"2016-05-09T00:00:00\",\"2016-05-10T00:00:00\",\"2016-06-07T00:00:00\",\"2016-06-08T00:00:00\",\"2016-06-09T00:00:00\",\"2016-06-10T00:00:00\",\"2016-06-13T00:00:00\",\"2016-06-14T00:00:00\",\"2016-06-15T00:00:00\",\"2016-06-16T00:00:00\",\"2016-06-17T00:00:00\",\"2016-06-18T00:00:00\",\"2016-06-19T00:00:00\",\"2016-06-20T00:00:00\",\"2016-06-21T00:00:00\",\"2016-06-22T00:00:00\",\"2016-06-23T00:00:00\",\"2016-06-24T00:00:00\",\"2016-06-25T00:00:00\",\"2016-06-26T00:00:00\",\"2016-06-27T00:00:00\",\"2016-06-28T00:00:00\",\"2016-06-29T00:00:00\",\"2016-06-30T00:00:00\",\"2016-07-07T00:00:00\",\"2016-07-08T00:00:00\",\"2016-07-09T00:00:00\",\"2016-07-10T00:00:00\",\"2016-07-13T00:00:00\",\"2016-07-14T00:00:00\",\"2016-07-15T00:00:00\",\"2016-07-16T00:00:00\",\"2016-07-17T00:00:00\",\"2016-07-18T00:00:00\",\"2016-07-19T00:00:00\",\"2016-07-20T00:00:00\",\"2016-07-21T00:00:00\",\"2016-07-22T00:00:00\",\"2016-07-23T00:00:00\",\"2016-07-24T00:00:00\",\"2016-07-25T00:00:00\",\"2016-07-26T00:00:00\",\"2016-07-27T00:00:00\",\"2016-07-28T00:00:00\",\"2016-07-29T00:00:00\",\"2016-07-30T00:00:00\",\"2016-07-31T00:00:00\",\"2016-08-06T00:00:00\",\"2016-08-07T00:00:00\",\"2016-08-08T00:00:00\",\"2016-08-09T00:00:00\",\"2016-08-10T00:00:00\",\"2016-08-13T00:00:00\",\"2016-08-14T00:00:00\",\"2016-08-15T00:00:00\",\"2016-08-16T00:00:00\",\"2016-08-17T00:00:00\",\"2016-08-18T00:00:00\",\"2016-08-19T00:00:00\",\"2016-08-20T00:00:00\",\"2016-08-21T00:00:00\",\"2016-08-22T00:00:00\",\"2016-08-23T00:00:00\",\"2016-08-24T00:00:00\",\"2016-08-25T00:00:00\",\"2016-08-26T00:00:00\",\"2016-08-27T00:00:00\",\"2016-08-28T00:00:00\",\"2016-08-29T00:00:00\",\"2016-08-30T00:00:00\",\"2016-08-31T00:00:00\",\"2016-09-06T00:00:00\",\"2016-09-07T00:00:00\",\"2016-09-08T00:00:00\",\"2016-09-09T00:00:00\",\"2016-09-10T00:00:00\",\"2016-09-13T00:00:00\",\"2016-09-14T00:00:00\",\"2016-09-15T00:00:00\",\"2016-09-16T00:00:00\",\"2016-09-17T00:00:00\",\"2016-09-18T00:00:00\",\"2016-09-19T00:00:00\",\"2016-09-20T00:00:00\",\"2016-09-21T00:00:00\",\"2016-09-22T00:00:00\",\"2016-09-23T00:00:00\",\"2016-09-24T00:00:00\",\"2016-09-25T00:00:00\",\"2016-09-26T00:00:00\",\"2016-09-27T00:00:00\",\"2016-09-28T00:00:00\",\"2016-09-29T00:00:00\",\"2016-09-30T00:00:00\",\"2016-10-06T00:00:00\",\"2016-10-07T00:00:00\",\"2016-10-08T00:00:00\",\"2016-10-09T00:00:00\",\"2016-10-10T00:00:00\",\"2016-10-13T00:00:00\",\"2016-10-14T00:00:00\",\"2016-10-15T00:00:00\",\"2016-10-16T00:00:00\",\"2016-10-17T00:00:00\",\"2016-10-18T00:00:00\",\"2016-10-19T00:00:00\",\"2016-10-20T00:00:00\",\"2016-10-21T00:00:00\",\"2016-10-22T00:00:00\",\"2016-10-23T00:00:00\",\"2016-10-24T00:00:00\",\"2016-10-25T00:00:00\",\"2016-10-26T00:00:00\",\"2016-10-27T00:00:00\",\"2016-10-28T00:00:00\",\"2016-10-29T00:00:00\",\"2016-10-30T00:00:00\",\"2016-10-31T00:00:00\",\"2016-11-06T00:00:00\",\"2016-11-07T00:00:00\",\"2016-11-08T00:00:00\",\"2016-11-09T00:00:00\",\"2016-11-10T00:00:00\",\"2016-12-06T00:00:00\",\"2016-12-07T00:00:00\",\"2016-12-08T00:00:00\",\"2016-12-09T00:00:00\",\"2016-12-10T00:00:00\",\"2017-03-07T00:00:00\",\"2017-04-06T00:00:00\",\"2017-04-07T00:00:00\",\"2017-05-06T00:00:00\",\"2017-05-07T00:00:00\",\"2017-05-15T00:00:00\",\"2017-05-20T00:00:00\",\"2017-05-21T00:00:00\",\"2017-05-25T00:00:00\",\"2017-05-27T00:00:00\",\"2017-05-28T00:00:00\",\"2017-06-07T00:00:00\",\"2017-06-13T00:00:00\",\"2017-06-14T00:00:00\",\"2017-06-23T00:00:00\",\"2017-06-24T00:00:00\",\"2017-06-27T00:00:00\",\"2017-07-05T00:00:00\",\"2017-07-07T00:00:00\",\"2017-07-14T00:00:00\",\"2017-08-05T00:00:00\",\"2017-08-06T00:00:00\",\"2017-08-07T00:00:00\",\"2017-09-05T00:00:00\",\"2017-09-07T00:00:00\",\"2017-10-05T00:00:00\",\"2017-10-07T00:00:00\",\"2017-11-06T00:00:00\",\"2017-12-07T00:00:00\",\"2021-01-10T00:00:00\",\"2021-02-10T00:00:00\",\"2021-03-10T00:00:00\",\"2021-04-10T00:00:00\",\"2021-05-10T00:00:00\",\"2021-06-10T00:00:00\",\"2021-07-10T00:00:00\",\"2021-08-10T00:00:00\",\"2021-09-10T00:00:00\",\"2021-09-19T00:00:00\",\"2021-09-20T00:00:00\",\"2021-09-21T00:00:00\",\"2021-09-22T00:00:00\",\"2021-09-23T00:00:00\",\"2021-09-24T00:00:00\",\"2021-09-25T00:00:00\",\"2021-09-26T00:00:00\",\"2021-09-27T00:00:00\",\"2021-09-28T00:00:00\",\"2021-09-29T00:00:00\",\"2021-09-30T00:00:00\",\"2021-10-10T00:00:00\",\"2021-10-13T00:00:00\",\"2021-10-14T00:00:00\",\"2021-10-15T00:00:00\",\"2021-10-16T00:00:00\",\"2021-10-17T00:00:00\",\"2021-10-18T00:00:00\",\"2021-10-19T00:00:00\",\"2021-10-20T00:00:00\",\"2021-11-10T00:00:00\",\"2021-12-10T00:00:00\"],\"y\":[1145.0,1145.0,1145.0,1145.0,1145.0,3608.0,3608.0,3608.0,3608.0,3608.0,2706.0,2706.0,2706.0,2706.0,2706.0,3548.0,3548.0,3548.0,3548.0,3548.0,1576.0,1576.0,1576.0,1576.0,1576.0,36.0,36.0,36.0,36.0,2317.0,2317.0,2317.0,2317.0,2317.0,2317.0,2317.0,2317.0,2317.0,2317.0,2317.0,2317.0,2317.0,2317.0,2317.0,2317.0,2317.0,2317.0,17.0,17.0,17.0,17.0,2533.0,2533.0,2533.0,2533.0,2533.0,2533.0,2533.0,2533.0,2533.0,2533.0,2533.0,2533.0,2533.0,2533.0,2533.0,2533.0,2533.0,2533.0,2533.0,1492.0,1492.0,1492.0,1492.0,1492.0,2812.0,2812.0,2812.0,2812.0,2812.0,2812.0,2812.0,2812.0,2812.0,2812.0,2812.0,2812.0,2812.0,2812.0,2812.0,2812.0,2812.0,2812.0,2812.0,3826.0,3826.0,3826.0,3826.0,3826.0,2522.0,2522.0,2522.0,2522.0,2522.0,2522.0,2522.0,2522.0,2522.0,2522.0,2522.0,2522.0,2522.0,2522.0,2522.0,2522.0,2522.0,2522.0,4082.0,4082.0,4082.0,4082.0,4082.0,1260.0,1260.0,1260.0,1260.0,1260.0,1260.0,1260.0,1260.0,1260.0,1260.0,1260.0,1260.0,1260.0,1260.0,1260.0,1260.0,1260.0,1260.0,1260.0,3934.0,3934.0,3934.0,3934.0,3934.0,3994.0,3994.0,3994.0,3994.0,3994.0,14.0,1731.0,1731.0,12.0,12.0,28.0,194.0,194.0,37.0,52.0,52.0,24.0,2420.0,2420.0,40.0,40.0,142.0,3127.0,56.0,101.0,1733.0,1733.0,1733.0,1795.0,26.0,2540.0,316.0,106.0,294.0,3021.0,2701.0,3034.0,1657.0,921.0,2965.0,3496.0,3606.0,3592.0,1478.0,1478.0,1478.0,1478.0,1478.0,1478.0,1478.0,1478.0,1478.0,1478.0,1478.0,1478.0,1925.0,2549.0,2549.0,2549.0,2549.0,2549.0,2549.0,2549.0,2549.0,1791.0,1320.0],\"type\":\"scatter\"}],                        {\"template\":{\"data\":{\"histogram2dcontour\":[{\"type\":\"histogram2dcontour\",\"colorbar\":{\"outlinewidth\":0,\"ticks\":\"\"},\"colorscale\":[[0.0,\"#0d0887\"],[0.1111111111111111,\"#46039f\"],[0.2222222222222222,\"#7201a8\"],[0.3333333333333333,\"#9c179e\"],[0.4444444444444444,\"#bd3786\"],[0.5555555555555556,\"#d8576b\"],[0.6666666666666666,\"#ed7953\"],[0.7777777777777778,\"#fb9f3a\"],[0.8888888888888888,\"#fdca26\"],[1.0,\"#f0f921\"]]}],\"choropleth\":[{\"type\":\"choropleth\",\"colorbar\":{\"outlinewidth\":0,\"ticks\":\"\"}}],\"histogram2d\":[{\"type\":\"histogram2d\",\"colorbar\":{\"outlinewidth\":0,\"ticks\":\"\"},\"colorscale\":[[0.0,\"#0d0887\"],[0.1111111111111111,\"#46039f\"],[0.2222222222222222,\"#7201a8\"],[0.3333333333333333,\"#9c179e\"],[0.4444444444444444,\"#bd3786\"],[0.5555555555555556,\"#d8576b\"],[0.6666666666666666,\"#ed7953\"],[0.7777777777777778,\"#fb9f3a\"],[0.8888888888888888,\"#fdca26\"],[1.0,\"#f0f921\"]]}],\"heatmap\":[{\"type\":\"heatmap\",\"colorbar\":{\"outlinewidth\":0,\"ticks\":\"\"},\"colorscale\":[[0.0,\"#0d0887\"],[0.1111111111111111,\"#46039f\"],[0.2222222222222222,\"#7201a8\"],[0.3333333333333333,\"#9c179e\"],[0.4444444444444444,\"#bd3786\"],[0.5555555555555556,\"#d8576b\"],[0.6666666666666666,\"#ed7953\"],[0.7777777777777778,\"#fb9f3a\"],[0.8888888888888888,\"#fdca26\"],[1.0,\"#f0f921\"]]}],\"heatmapgl\":[{\"type\":\"heatmapgl\",\"colorbar\":{\"outlinewidth\":0,\"ticks\":\"\"},\"colorscale\":[[0.0,\"#0d0887\"],[0.1111111111111111,\"#46039f\"],[0.2222222222222222,\"#7201a8\"],[0.3333333333333333,\"#9c179e\"],[0.4444444444444444,\"#bd3786\"],[0.5555555555555556,\"#d8576b\"],[0.6666666666666666,\"#ed7953\"],[0.7777777777777778,\"#fb9f3a\"],[0.8888888888888888,\"#fdca26\"],[1.0,\"#f0f921\"]]}],\"contourcarpet\":[{\"type\":\"contourcarpet\",\"colorbar\":{\"outlinewidth\":0,\"ticks\":\"\"}}],\"contour\":[{\"type\":\"contour\",\"colorbar\":{\"outlinewidth\":0,\"ticks\":\"\"},\"colorscale\":[[0.0,\"#0d0887\"],[0.1111111111111111,\"#46039f\"],[0.2222222222222222,\"#7201a8\"],[0.3333333333333333,\"#9c179e\"],[0.4444444444444444,\"#bd3786\"],[0.5555555555555556,\"#d8576b\"],[0.6666666666666666,\"#ed7953\"],[0.7777777777777778,\"#fb9f3a\"],[0.8888888888888888,\"#fdca26\"],[1.0,\"#f0f921\"]]}],\"surface\":[{\"type\":\"surface\",\"colorbar\":{\"outlinewidth\":0,\"ticks\":\"\"},\"colorscale\":[[0.0,\"#0d0887\"],[0.1111111111111111,\"#46039f\"],[0.2222222222222222,\"#7201a8\"],[0.3333333333333333,\"#9c179e\"],[0.4444444444444444,\"#bd3786\"],[0.5555555555555556,\"#d8576b\"],[0.6666666666666666,\"#ed7953\"],[0.7777777777777778,\"#fb9f3a\"],[0.8888888888888888,\"#fdca26\"],[1.0,\"#f0f921\"]]}],\"mesh3d\":[{\"type\":\"mesh3d\",\"colorbar\":{\"outlinewidth\":0,\"ticks\":\"\"}}],\"scatter\":[{\"fillpattern\":{\"fillmode\":\"overlay\",\"size\":10,\"solidity\":0.2},\"type\":\"scatter\"}],\"parcoords\":[{\"type\":\"parcoords\",\"line\":{\"colorbar\":{\"outlinewidth\":0,\"ticks\":\"\"}}}],\"scatterpolargl\":[{\"type\":\"scatterpolargl\",\"marker\":{\"colorbar\":{\"outlinewidth\":0,\"ticks\":\"\"}}}],\"bar\":[{\"error_x\":{\"color\":\"#2a3f5f\"},\"error_y\":{\"color\":\"#2a3f5f\"},\"marker\":{\"line\":{\"color\":\"#E5ECF6\",\"width\":0.5},\"pattern\":{\"fillmode\":\"overlay\",\"size\":10,\"solidity\":0.2}},\"type\":\"bar\"}],\"scattergeo\":[{\"type\":\"scattergeo\",\"marker\":{\"colorbar\":{\"outlinewidth\":0,\"ticks\":\"\"}}}],\"scatterpolar\":[{\"type\":\"scatterpolar\",\"marker\":{\"colorbar\":{\"outlinewidth\":0,\"ticks\":\"\"}}}],\"histogram\":[{\"marker\":{\"pattern\":{\"fillmode\":\"overlay\",\"size\":10,\"solidity\":0.2}},\"type\":\"histogram\"}],\"scattergl\":[{\"type\":\"scattergl\",\"marker\":{\"colorbar\":{\"outlinewidth\":0,\"ticks\":\"\"}}}],\"scatter3d\":[{\"type\":\"scatter3d\",\"line\":{\"colorbar\":{\"outlinewidth\":0,\"ticks\":\"\"}},\"marker\":{\"colorbar\":{\"outlinewidth\":0,\"ticks\":\"\"}}}],\"scattermapbox\":[{\"type\":\"scattermapbox\",\"marker\":{\"colorbar\":{\"outlinewidth\":0,\"ticks\":\"\"}}}],\"scatterternary\":[{\"type\":\"scatterternary\",\"marker\":{\"colorbar\":{\"outlinewidth\":0,\"ticks\":\"\"}}}],\"scattercarpet\":[{\"type\":\"scattercarpet\",\"marker\":{\"colorbar\":{\"outlinewidth\":0,\"ticks\":\"\"}}}],\"carpet\":[{\"aaxis\":{\"endlinecolor\":\"#2a3f5f\",\"gridcolor\":\"white\",\"linecolor\":\"white\",\"minorgridcolor\":\"white\",\"startlinecolor\":\"#2a3f5f\"},\"baxis\":{\"endlinecolor\":\"#2a3f5f\",\"gridcolor\":\"white\",\"linecolor\":\"white\",\"minorgridcolor\":\"white\",\"startlinecolor\":\"#2a3f5f\"},\"type\":\"carpet\"}],\"table\":[{\"cells\":{\"fill\":{\"color\":\"#EBF0F8\"},\"line\":{\"color\":\"white\"}},\"header\":{\"fill\":{\"color\":\"#C8D4E3\"},\"line\":{\"color\":\"white\"}},\"type\":\"table\"}],\"barpolar\":[{\"marker\":{\"line\":{\"color\":\"#E5ECF6\",\"width\":0.5},\"pattern\":{\"fillmode\":\"overlay\",\"size\":10,\"solidity\":0.2}},\"type\":\"barpolar\"}],\"pie\":[{\"automargin\":true,\"type\":\"pie\"}]},\"layout\":{\"autotypenumbers\":\"strict\",\"colorway\":[\"#636efa\",\"#EF553B\",\"#00cc96\",\"#ab63fa\",\"#FFA15A\",\"#19d3f3\",\"#FF6692\",\"#B6E880\",\"#FF97FF\",\"#FECB52\"],\"font\":{\"color\":\"#2a3f5f\"},\"hovermode\":\"closest\",\"hoverlabel\":{\"align\":\"left\"},\"paper_bgcolor\":\"white\",\"plot_bgcolor\":\"#E5ECF6\",\"polar\":{\"bgcolor\":\"#E5ECF6\",\"angularaxis\":{\"gridcolor\":\"white\",\"linecolor\":\"white\",\"ticks\":\"\"},\"radialaxis\":{\"gridcolor\":\"white\",\"linecolor\":\"white\",\"ticks\":\"\"}},\"ternary\":{\"bgcolor\":\"#E5ECF6\",\"aaxis\":{\"gridcolor\":\"white\",\"linecolor\":\"white\",\"ticks\":\"\"},\"baxis\":{\"gridcolor\":\"white\",\"linecolor\":\"white\",\"ticks\":\"\"},\"caxis\":{\"gridcolor\":\"white\",\"linecolor\":\"white\",\"ticks\":\"\"}},\"coloraxis\":{\"colorbar\":{\"outlinewidth\":0,\"ticks\":\"\"}},\"colorscale\":{\"sequential\":[[0.0,\"#0d0887\"],[0.1111111111111111,\"#46039f\"],[0.2222222222222222,\"#7201a8\"],[0.3333333333333333,\"#9c179e\"],[0.4444444444444444,\"#bd3786\"],[0.5555555555555556,\"#d8576b\"],[0.6666666666666666,\"#ed7953\"],[0.7777777777777778,\"#fb9f3a\"],[0.8888888888888888,\"#fdca26\"],[1.0,\"#f0f921\"]],\"sequentialminus\":[[0.0,\"#0d0887\"],[0.1111111111111111,\"#46039f\"],[0.2222222222222222,\"#7201a8\"],[0.3333333333333333,\"#9c179e\"],[0.4444444444444444,\"#bd3786\"],[0.5555555555555556,\"#d8576b\"],[0.6666666666666666,\"#ed7953\"],[0.7777777777777778,\"#fb9f3a\"],[0.8888888888888888,\"#fdca26\"],[1.0,\"#f0f921\"]],\"diverging\":[[0,\"#8e0152\"],[0.1,\"#c51b7d\"],[0.2,\"#de77ae\"],[0.3,\"#f1b6da\"],[0.4,\"#fde0ef\"],[0.5,\"#f7f7f7\"],[0.6,\"#e6f5d0\"],[0.7,\"#b8e186\"],[0.8,\"#7fbc41\"],[0.9,\"#4d9221\"],[1,\"#276419\"]]},\"xaxis\":{\"gridcolor\":\"white\",\"linecolor\":\"white\",\"ticks\":\"\",\"title\":{\"standoff\":15},\"zerolinecolor\":\"white\",\"automargin\":true,\"zerolinewidth\":2},\"yaxis\":{\"gridcolor\":\"white\",\"linecolor\":\"white\",\"ticks\":\"\",\"title\":{\"standoff\":15},\"zerolinecolor\":\"white\",\"automargin\":true,\"zerolinewidth\":2},\"scene\":{\"xaxis\":{\"backgroundcolor\":\"#E5ECF6\",\"gridcolor\":\"white\",\"linecolor\":\"white\",\"showbackground\":true,\"ticks\":\"\",\"zerolinecolor\":\"white\",\"gridwidth\":2},\"yaxis\":{\"backgroundcolor\":\"#E5ECF6\",\"gridcolor\":\"white\",\"linecolor\":\"white\",\"showbackground\":true,\"ticks\":\"\",\"zerolinecolor\":\"white\",\"gridwidth\":2},\"zaxis\":{\"backgroundcolor\":\"#E5ECF6\",\"gridcolor\":\"white\",\"linecolor\":\"white\",\"showbackground\":true,\"ticks\":\"\",\"zerolinecolor\":\"white\",\"gridwidth\":2}},\"shapedefaults\":{\"line\":{\"color\":\"#2a3f5f\"}},\"annotationdefaults\":{\"arrowcolor\":\"#2a3f5f\",\"arrowhead\":0,\"arrowwidth\":1},\"geo\":{\"bgcolor\":\"white\",\"landcolor\":\"#E5ECF6\",\"subunitcolor\":\"white\",\"showland\":true,\"showlakes\":true,\"lakecolor\":\"white\"},\"title\":{\"x\":0.05},\"mapbox\":{\"style\":\"light\"}}},\"xaxis\":{\"anchor\":\"y\",\"domain\":[0.0,1.0],\"title\":{\"text\":\"Date\"}},\"yaxis\":{\"anchor\":\"x\",\"domain\":[0.0,1.0]},\"legend\":{\"tracegroupgap\":0,\"yanchor\":\"top\",\"y\":0.99,\"xanchor\":\"right\",\"x\":0.99},\"margin\":{\"t\":60},\"title\":{\"text\":\"Plotting imputed values for 'wachmannstra\\u00dfe_einwarts_nord'\"},\"width\":1500},                        {\"responsive\": true}                    ).then(function(){\n                            \nvar gd = document.getElementById('3540028c-8ac8-4582-a4ca-3cf67cf6959e');\nvar x = new MutationObserver(function (mutations, observer) {{\n        var display = window.getComputedStyle(gd).display;\n        if (!display || display === 'none') {{\n            console.log([gd, 'removed!']);\n            Plotly.purge(gd);\n            observer.disconnect();\n        }}\n}});\n\n// Listen for the removal of the full notebook cells\nvar notebookContainer = gd.closest('#notebook-container');\nif (notebookContainer) {{\n    x.observe(notebookContainer, {childList: true});\n}}\n\n// Listen for the clearing of the current output cell\nvar outputEl = gd.closest('.output');\nif (outputEl) {{\n    x.observe(outputEl, {childList: true});\n}}\n\n                        })                };                            </script>        </div>\n</body>\n</html>"
        },
        "metadata": {},
        "output_type": "display_data"
       }
      ]
     }
    },
    "a27afc5efb9645a094562338d01b5862": {
     "model_module": "@jupyter-widgets/base",
     "model_module_version": "1.2.0",
     "model_name": "LayoutModel",
     "state": {
      "_model_module": "@jupyter-widgets/base",
      "_model_module_version": "1.2.0",
      "_model_name": "LayoutModel",
      "_view_count": null,
      "_view_module": "@jupyter-widgets/base",
      "_view_module_version": "1.2.0",
      "_view_name": "LayoutView",
      "align_content": null,
      "align_items": null,
      "align_self": null,
      "border": null,
      "bottom": null,
      "display": null,
      "flex": null,
      "flex_flow": null,
      "grid_area": null,
      "grid_auto_columns": null,
      "grid_auto_flow": null,
      "grid_auto_rows": null,
      "grid_column": null,
      "grid_gap": null,
      "grid_row": null,
      "grid_template_areas": null,
      "grid_template_columns": null,
      "grid_template_rows": null,
      "height": null,
      "justify_content": null,
      "justify_items": null,
      "left": null,
      "margin": null,
      "max_height": null,
      "max_width": null,
      "min_height": null,
      "min_width": null,
      "object_fit": null,
      "object_position": null,
      "order": null,
      "overflow": null,
      "overflow_x": null,
      "overflow_y": null,
      "padding": null,
      "right": null,
      "top": null,
      "visibility": null,
      "width": "550px"
     }
    },
    "a4df9325618a4e44ab3f25bc823d7655": {
     "model_module": "@jupyter-widgets/base",
     "model_module_version": "1.2.0",
     "model_name": "LayoutModel",
     "state": {
      "_model_module": "@jupyter-widgets/base",
      "_model_module_version": "1.2.0",
      "_model_name": "LayoutModel",
      "_view_count": null,
      "_view_module": "@jupyter-widgets/base",
      "_view_module_version": "1.2.0",
      "_view_name": "LayoutView",
      "align_content": null,
      "align_items": null,
      "align_self": null,
      "border": null,
      "bottom": null,
      "display": null,
      "flex": null,
      "flex_flow": null,
      "grid_area": null,
      "grid_auto_columns": null,
      "grid_auto_flow": null,
      "grid_auto_rows": null,
      "grid_column": null,
      "grid_gap": null,
      "grid_row": null,
      "grid_template_areas": null,
      "grid_template_columns": null,
      "grid_template_rows": null,
      "height": null,
      "justify_content": null,
      "justify_items": null,
      "left": null,
      "margin": null,
      "max_height": null,
      "max_width": null,
      "min_height": null,
      "min_width": null,
      "object_fit": null,
      "object_position": null,
      "order": null,
      "overflow": null,
      "overflow_x": null,
      "overflow_y": null,
      "padding": null,
      "right": null,
      "top": null,
      "visibility": null,
      "width": null
     }
    },
    "f571e8f5c8514b1287f7dcd24e990b5e": {
     "model_module": "@jupyter-widgets/controls",
     "model_module_version": "1.5.0",
     "model_name": "DescriptionStyleModel",
     "state": {
      "_model_module": "@jupyter-widgets/controls",
      "_model_module_version": "1.5.0",
      "_model_name": "DescriptionStyleModel",
      "_view_count": null,
      "_view_module": "@jupyter-widgets/base",
      "_view_module_version": "1.2.0",
      "_view_name": "StyleView",
      "description_width": ""
     }
    }
   }
  }
 },
 "nbformat": 4,
 "nbformat_minor": 5
}
