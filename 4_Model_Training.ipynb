{
  "cells": [
    {
      "cell_type": "markdown",
      "id": "CBLnLwZIZpWJ",
      "metadata": {
        "id": "CBLnLwZIZpWJ"
      },
      "source": [
        "# Notebook"
      ]
    },
    {
      "cell_type": "markdown",
      "id": "lZXvJFJqZuRE",
      "metadata": {
        "id": "lZXvJFJqZuRE"
      },
      "source": [
        "In the Model learning step, the prepared dataset from [3_Imputing](https://raw.githubusercontent.com/Rudinius/Bike_usage_Bremen/main/3_Imputing.ipynb) is loaded. Then different machine learning algorithms are trained and compared to each other.\n",
        "\n",
        "We will test\n",
        "* XGBoost\n",
        "* Multilayer perceptron (MLP)\n",
        "* Recurrent Neural Network (RNN)"
      ]
    },
    {
      "cell_type": "markdown",
      "id": "0c910711",
      "metadata": {
        "id": "0c910711"
      },
      "source": [
        "<a name=\"content\"></a>\n",
        "# Content\n",
        "\n",
        "* [1. Import libraries](#1.)\n",
        "* [2. Import datasets](#2.)\n",
        "* [3. Select a target station](#3.)\n",
        "* [4. Establish baseline benchmark](#4.)\n",
        "* [5. Selecting features, splitting the data, standardizing](#5.)\n",
        "* [6. Training machine learning algorithms](#6.)\n",
        "    * [6.1. Consideration reagarding sequential data](#6.1.)\n",
        "    * [6.2. XGBoost](#6.2.)\n",
        "        * [6.2.1 Using GridSeachCV to select the optimal parameters](#6.2.1.)\n",
        "        * [6.2.2. Train the model and evaluate](#6.2.2.)\n",
        "        * [6.2.3. Results](#6.2.3.)\n",
        "    * [6.3. Multilayer perceptron](#6.3.)\n",
        "        * [6.3.1. Train the model and evaluate](#6.3.1.)\n",
        "        * [6.3.2. Results](#6.3.2.)\n",
        "    * [6.4. Recurrent Neural Network](#6.4.)\n",
        "        * [6.4.1. Create dataset with sequence](#6.4.1.)\n",
        "        * [6.4.2. Train the model and evaluate](#6.4.2.)\n",
        "        * [6.4.3. Results](#6.4.3.)\n",
        "* [7. Summary and conclusion](#7.)"
      ]
    },
    {
      "cell_type": "markdown",
      "id": "85f76996",
      "metadata": {
        "id": "85f76996"
      },
      "source": [
        "<a name=\"1.\"></a>\n",
        "# 1.&nbsp;Import libraries\n",
        "[Content](#content)"
      ]
    },
    {
      "cell_type": "code",
      "source": [
        "# Only used for suppressing warning due to google colab environment\n",
        "import warnings\n",
        "warnings.filterwarnings(\"ignore\", category=DeprecationWarning)"
      ],
      "metadata": {
        "id": "xSJzvaLrNPlR"
      },
      "id": "xSJzvaLrNPlR",
      "execution_count": null,
      "outputs": []
    },
    {
      "cell_type": "code",
      "execution_count": null,
      "id": "3731ea33",
      "metadata": {
        "id": "3731ea33"
      },
      "outputs": [],
      "source": [
        "# Import libraries\n",
        "import datetime\n",
        "import numpy as np\n",
        "import pandas as pd\n",
        "import plotly.express as px\n",
        "from sklearn.metrics import make_scorer, mean_squared_error\n",
        "from sklearn.model_selection import GridSearchCV, train_test_split, TimeSeriesSplit\n",
        "from sklearn.preprocessing import StandardScaler\n",
        "import xgboost as xgb\n",
        "import tensorflow as tf\n",
        "from tensorflow import keras\n",
        "from keras.models import Sequential\n",
        "from keras.layers import Dense, Input, Dropout, BatchNormalization, LSTM, Bidirectional, Reshape\n",
        "from keras.optimizers import Adam\n",
        "from keras.metrics import RootMeanSquaredError\n",
        "from keras.utils import timeseries_dataset_from_array"
      ]
    },
    {
      "cell_type": "code",
      "execution_count": null,
      "id": "LcKvjPd27cDu",
      "metadata": {
        "colab": {
          "base_uri": "https://localhost:8080/"
        },
        "id": "LcKvjPd27cDu",
        "outputId": "2f3b9c3a-c00d-4c7e-8ee8-0072f8eb17ca"
      },
      "outputs": [
        {
          "output_type": "stream",
          "name": "stdout",
          "text": [
            "shap is already installed\n"
          ]
        }
      ],
      "source": [
        "# Install package shap since it is not part of the standard packages\n",
        "# of Google Colab\n",
        "\n",
        "import importlib\n",
        "\n",
        "# Check if package is installed\n",
        "package_name = [\"shap\"]\n",
        "\n",
        "for package in package_name:\n",
        "    spec = importlib.util.find_spec(package)\n",
        "    if spec is None:\n",
        "        # Package is not installed, install it via pip\n",
        "        !pip install {package}\n",
        "    else:\n",
        "        print(f\"{package} is already installed\")\n",
        "\n",
        "    shap = importlib.import_module(package)"
      ]
    },
    {
      "cell_type": "code",
      "source": [
        "keras.utils.set_random_seed(1)"
      ],
      "metadata": {
        "id": "FBMlPVNJzgfz"
      },
      "id": "FBMlPVNJzgfz",
      "execution_count": null,
      "outputs": []
    },
    {
      "cell_type": "markdown",
      "id": "2516jhMiVxrJ",
      "metadata": {
        "id": "2516jhMiVxrJ"
      },
      "source": [
        "<a name=\"2.\"></a>\n",
        "#2.&nbsp;Import dataset\n",
        "[Content](#content)"
      ]
    },
    {
      "cell_type": "markdown",
      "id": "IF9lS_3ok1tO",
      "metadata": {
        "id": "IF9lS_3ok1tO"
      },
      "source": [
        "Import the processed dataset."
      ]
    },
    {
      "cell_type": "code",
      "execution_count": null,
      "id": "Xu3OXfHqVxfa",
      "metadata": {
        "id": "Xu3OXfHqVxfa"
      },
      "outputs": [],
      "source": [
        "# Set base url\n",
        "url = \"https://raw.githubusercontent.com/Rudinius/Bike_usage_Bremen/main/data/\""
      ]
    },
    {
      "cell_type": "code",
      "execution_count": null,
      "id": "2etHV6ODVsUV",
      "metadata": {
        "colab": {
          "base_uri": "https://localhost:8080/",
          "height": 373
        },
        "id": "2etHV6ODVsUV",
        "outputId": "57b1ce91-62fd-4ba6-98be-94cdfb2f9897"
      },
      "outputs": [
        {
          "output_type": "execute_result",
          "data": {
            "text/plain": [
              "            graf_moltke_straße_ostseite  graf_moltke_straße_westseite  \\\n",
              "date                                                                    \n",
              "2013-01-01                        261.0                         290.0   \n",
              "2013-01-02                        750.0                         876.0   \n",
              "2013-01-03                        931.0                        1015.0   \n",
              "2013-01-04                        500.0                         587.0   \n",
              "2013-01-05                       1013.0                        1011.0   \n",
              "\n",
              "            hastedter_bruckenstraße  langemarckstraße_ostseite  \\\n",
              "date                                                             \n",
              "2013-01-01                    381.0                      312.0   \n",
              "2013-01-02                   1109.0                     1258.0   \n",
              "2013-01-03                   1603.0                     1556.0   \n",
              "2013-01-04                   1284.0                      703.0   \n",
              "2013-01-05                      0.0                     1856.0   \n",
              "\n",
              "            langemarckstraße_westseite  osterdeich  radweg_kleine_weser  \\\n",
              "date                                                                      \n",
              "2013-01-01                       308.0       870.0                410.0   \n",
              "2013-01-02                      1120.0      2169.0               1762.0   \n",
              "2013-01-03                      1480.0      2295.0               2287.0   \n",
              "2013-01-04                       626.0      1640.0               1548.0   \n",
              "2013-01-05                      1621.0      4128.0               4256.0   \n",
              "\n",
              "            schwachhauser_ring  wachmannstraße_auswarts_sud  \\\n",
              "date                                                          \n",
              "2013-01-01                 391                        514.0   \n",
              "2013-01-02                 829                       1786.0   \n",
              "2013-01-03                1196                       2412.0   \n",
              "2013-01-04                1418                        964.0   \n",
              "2013-01-05                3075                       2065.0   \n",
              "\n",
              "            wachmannstraße_einwarts_nord  ...  holiday_2_weihnachtsfeiertag  \\\n",
              "date                                      ...                                 \n",
              "2013-01-01                         267.0  ...                           0.0   \n",
              "2013-01-02                        1456.0  ...                           0.0   \n",
              "2013-01-03                        2035.0  ...                           0.0   \n",
              "2013-01-04                         702.0  ...                           0.0   \n",
              "2013-01-05                        1377.0  ...                           0.0   \n",
              "\n",
              "            holiday_christi_himmelfahrt  holiday_karfreitag  holiday_neujahr  \\\n",
              "date                                                                           \n",
              "2013-01-01                          0.0                 0.0              1.0   \n",
              "2013-01-02                          0.0                 0.0              0.0   \n",
              "2013-01-03                          0.0                 0.0              0.0   \n",
              "2013-01-04                          0.0                 0.0              0.0   \n",
              "2013-01-05                          0.0                 0.0              0.0   \n",
              "\n",
              "            holiday_ostermontag  holiday_pfingstmontag  \\\n",
              "date                                                     \n",
              "2013-01-01                  0.0                    0.0   \n",
              "2013-01-02                  0.0                    0.0   \n",
              "2013-01-03                  0.0                    0.0   \n",
              "2013-01-04                  0.0                    0.0   \n",
              "2013-01-05                  0.0                    0.0   \n",
              "\n",
              "            holiday_reformationstag  holiday_tag_der_arbeit  \\\n",
              "date                                                          \n",
              "2013-01-01                      0.0                     0.0   \n",
              "2013-01-02                      0.0                     0.0   \n",
              "2013-01-03                      0.0                     0.0   \n",
              "2013-01-04                      0.0                     0.0   \n",
              "2013-01-05                      0.0                     0.0   \n",
              "\n",
              "            holiday_tag_der_deutschen_einheit  transformed_vacation  \n",
              "date                                                                 \n",
              "2013-01-01                                0.0                     1  \n",
              "2013-01-02                                0.0                     1  \n",
              "2013-01-03                                0.0                     1  \n",
              "2013-01-04                                0.0                     1  \n",
              "2013-01-05                                0.0                     1  \n",
              "\n",
              "[5 rows x 62 columns]"
            ],
            "text/html": [
              "\n",
              "  <div id=\"df-71876674-5efc-461d-91cc-2c15289faa06\" class=\"colab-df-container\">\n",
              "    <div>\n",
              "<style scoped>\n",
              "    .dataframe tbody tr th:only-of-type {\n",
              "        vertical-align: middle;\n",
              "    }\n",
              "\n",
              "    .dataframe tbody tr th {\n",
              "        vertical-align: top;\n",
              "    }\n",
              "\n",
              "    .dataframe thead th {\n",
              "        text-align: right;\n",
              "    }\n",
              "</style>\n",
              "<table border=\"1\" class=\"dataframe\">\n",
              "  <thead>\n",
              "    <tr style=\"text-align: right;\">\n",
              "      <th></th>\n",
              "      <th>graf_moltke_straße_ostseite</th>\n",
              "      <th>graf_moltke_straße_westseite</th>\n",
              "      <th>hastedter_bruckenstraße</th>\n",
              "      <th>langemarckstraße_ostseite</th>\n",
              "      <th>langemarckstraße_westseite</th>\n",
              "      <th>osterdeich</th>\n",
              "      <th>radweg_kleine_weser</th>\n",
              "      <th>schwachhauser_ring</th>\n",
              "      <th>wachmannstraße_auswarts_sud</th>\n",
              "      <th>wachmannstraße_einwarts_nord</th>\n",
              "      <th>...</th>\n",
              "      <th>holiday_2_weihnachtsfeiertag</th>\n",
              "      <th>holiday_christi_himmelfahrt</th>\n",
              "      <th>holiday_karfreitag</th>\n",
              "      <th>holiday_neujahr</th>\n",
              "      <th>holiday_ostermontag</th>\n",
              "      <th>holiday_pfingstmontag</th>\n",
              "      <th>holiday_reformationstag</th>\n",
              "      <th>holiday_tag_der_arbeit</th>\n",
              "      <th>holiday_tag_der_deutschen_einheit</th>\n",
              "      <th>transformed_vacation</th>\n",
              "    </tr>\n",
              "    <tr>\n",
              "      <th>date</th>\n",
              "      <th></th>\n",
              "      <th></th>\n",
              "      <th></th>\n",
              "      <th></th>\n",
              "      <th></th>\n",
              "      <th></th>\n",
              "      <th></th>\n",
              "      <th></th>\n",
              "      <th></th>\n",
              "      <th></th>\n",
              "      <th></th>\n",
              "      <th></th>\n",
              "      <th></th>\n",
              "      <th></th>\n",
              "      <th></th>\n",
              "      <th></th>\n",
              "      <th></th>\n",
              "      <th></th>\n",
              "      <th></th>\n",
              "      <th></th>\n",
              "      <th></th>\n",
              "    </tr>\n",
              "  </thead>\n",
              "  <tbody>\n",
              "    <tr>\n",
              "      <th>2013-01-01</th>\n",
              "      <td>261.0</td>\n",
              "      <td>290.0</td>\n",
              "      <td>381.0</td>\n",
              "      <td>312.0</td>\n",
              "      <td>308.0</td>\n",
              "      <td>870.0</td>\n",
              "      <td>410.0</td>\n",
              "      <td>391</td>\n",
              "      <td>514.0</td>\n",
              "      <td>267.0</td>\n",
              "      <td>...</td>\n",
              "      <td>0.0</td>\n",
              "      <td>0.0</td>\n",
              "      <td>0.0</td>\n",
              "      <td>1.0</td>\n",
              "      <td>0.0</td>\n",
              "      <td>0.0</td>\n",
              "      <td>0.0</td>\n",
              "      <td>0.0</td>\n",
              "      <td>0.0</td>\n",
              "      <td>1</td>\n",
              "    </tr>\n",
              "    <tr>\n",
              "      <th>2013-01-02</th>\n",
              "      <td>750.0</td>\n",
              "      <td>876.0</td>\n",
              "      <td>1109.0</td>\n",
              "      <td>1258.0</td>\n",
              "      <td>1120.0</td>\n",
              "      <td>2169.0</td>\n",
              "      <td>1762.0</td>\n",
              "      <td>829</td>\n",
              "      <td>1786.0</td>\n",
              "      <td>1456.0</td>\n",
              "      <td>...</td>\n",
              "      <td>0.0</td>\n",
              "      <td>0.0</td>\n",
              "      <td>0.0</td>\n",
              "      <td>0.0</td>\n",
              "      <td>0.0</td>\n",
              "      <td>0.0</td>\n",
              "      <td>0.0</td>\n",
              "      <td>0.0</td>\n",
              "      <td>0.0</td>\n",
              "      <td>1</td>\n",
              "    </tr>\n",
              "    <tr>\n",
              "      <th>2013-01-03</th>\n",
              "      <td>931.0</td>\n",
              "      <td>1015.0</td>\n",
              "      <td>1603.0</td>\n",
              "      <td>1556.0</td>\n",
              "      <td>1480.0</td>\n",
              "      <td>2295.0</td>\n",
              "      <td>2287.0</td>\n",
              "      <td>1196</td>\n",
              "      <td>2412.0</td>\n",
              "      <td>2035.0</td>\n",
              "      <td>...</td>\n",
              "      <td>0.0</td>\n",
              "      <td>0.0</td>\n",
              "      <td>0.0</td>\n",
              "      <td>0.0</td>\n",
              "      <td>0.0</td>\n",
              "      <td>0.0</td>\n",
              "      <td>0.0</td>\n",
              "      <td>0.0</td>\n",
              "      <td>0.0</td>\n",
              "      <td>1</td>\n",
              "    </tr>\n",
              "    <tr>\n",
              "      <th>2013-01-04</th>\n",
              "      <td>500.0</td>\n",
              "      <td>587.0</td>\n",
              "      <td>1284.0</td>\n",
              "      <td>703.0</td>\n",
              "      <td>626.0</td>\n",
              "      <td>1640.0</td>\n",
              "      <td>1548.0</td>\n",
              "      <td>1418</td>\n",
              "      <td>964.0</td>\n",
              "      <td>702.0</td>\n",
              "      <td>...</td>\n",
              "      <td>0.0</td>\n",
              "      <td>0.0</td>\n",
              "      <td>0.0</td>\n",
              "      <td>0.0</td>\n",
              "      <td>0.0</td>\n",
              "      <td>0.0</td>\n",
              "      <td>0.0</td>\n",
              "      <td>0.0</td>\n",
              "      <td>0.0</td>\n",
              "      <td>1</td>\n",
              "    </tr>\n",
              "    <tr>\n",
              "      <th>2013-01-05</th>\n",
              "      <td>1013.0</td>\n",
              "      <td>1011.0</td>\n",
              "      <td>0.0</td>\n",
              "      <td>1856.0</td>\n",
              "      <td>1621.0</td>\n",
              "      <td>4128.0</td>\n",
              "      <td>4256.0</td>\n",
              "      <td>3075</td>\n",
              "      <td>2065.0</td>\n",
              "      <td>1377.0</td>\n",
              "      <td>...</td>\n",
              "      <td>0.0</td>\n",
              "      <td>0.0</td>\n",
              "      <td>0.0</td>\n",
              "      <td>0.0</td>\n",
              "      <td>0.0</td>\n",
              "      <td>0.0</td>\n",
              "      <td>0.0</td>\n",
              "      <td>0.0</td>\n",
              "      <td>0.0</td>\n",
              "      <td>1</td>\n",
              "    </tr>\n",
              "  </tbody>\n",
              "</table>\n",
              "<p>5 rows × 62 columns</p>\n",
              "</div>\n",
              "    <div class=\"colab-df-buttons\">\n",
              "\n",
              "  <div class=\"colab-df-container\">\n",
              "    <button class=\"colab-df-convert\" onclick=\"convertToInteractive('df-71876674-5efc-461d-91cc-2c15289faa06')\"\n",
              "            title=\"Convert this dataframe to an interactive table.\"\n",
              "            style=\"display:none;\">\n",
              "\n",
              "  <svg xmlns=\"http://www.w3.org/2000/svg\" height=\"24px\" viewBox=\"0 -960 960 960\">\n",
              "    <path d=\"M120-120v-720h720v720H120Zm60-500h600v-160H180v160Zm220 220h160v-160H400v160Zm0 220h160v-160H400v160ZM180-400h160v-160H180v160Zm440 0h160v-160H620v160ZM180-180h160v-160H180v160Zm440 0h160v-160H620v160Z\"/>\n",
              "  </svg>\n",
              "    </button>\n",
              "\n",
              "  <style>\n",
              "    .colab-df-container {\n",
              "      display:flex;\n",
              "      gap: 12px;\n",
              "    }\n",
              "\n",
              "    .colab-df-convert {\n",
              "      background-color: #E8F0FE;\n",
              "      border: none;\n",
              "      border-radius: 50%;\n",
              "      cursor: pointer;\n",
              "      display: none;\n",
              "      fill: #1967D2;\n",
              "      height: 32px;\n",
              "      padding: 0 0 0 0;\n",
              "      width: 32px;\n",
              "    }\n",
              "\n",
              "    .colab-df-convert:hover {\n",
              "      background-color: #E2EBFA;\n",
              "      box-shadow: 0px 1px 2px rgba(60, 64, 67, 0.3), 0px 1px 3px 1px rgba(60, 64, 67, 0.15);\n",
              "      fill: #174EA6;\n",
              "    }\n",
              "\n",
              "    .colab-df-buttons div {\n",
              "      margin-bottom: 4px;\n",
              "    }\n",
              "\n",
              "    [theme=dark] .colab-df-convert {\n",
              "      background-color: #3B4455;\n",
              "      fill: #D2E3FC;\n",
              "    }\n",
              "\n",
              "    [theme=dark] .colab-df-convert:hover {\n",
              "      background-color: #434B5C;\n",
              "      box-shadow: 0px 1px 3px 1px rgba(0, 0, 0, 0.15);\n",
              "      filter: drop-shadow(0px 1px 2px rgba(0, 0, 0, 0.3));\n",
              "      fill: #FFFFFF;\n",
              "    }\n",
              "  </style>\n",
              "\n",
              "    <script>\n",
              "      const buttonEl =\n",
              "        document.querySelector('#df-71876674-5efc-461d-91cc-2c15289faa06 button.colab-df-convert');\n",
              "      buttonEl.style.display =\n",
              "        google.colab.kernel.accessAllowed ? 'block' : 'none';\n",
              "\n",
              "      async function convertToInteractive(key) {\n",
              "        const element = document.querySelector('#df-71876674-5efc-461d-91cc-2c15289faa06');\n",
              "        const dataTable =\n",
              "          await google.colab.kernel.invokeFunction('convertToInteractive',\n",
              "                                                    [key], {});\n",
              "        if (!dataTable) return;\n",
              "\n",
              "        const docLinkHtml = 'Like what you see? Visit the ' +\n",
              "          '<a target=\"_blank\" href=https://colab.research.google.com/notebooks/data_table.ipynb>data table notebook</a>'\n",
              "          + ' to learn more about interactive tables.';\n",
              "        element.innerHTML = '';\n",
              "        dataTable['output_type'] = 'display_data';\n",
              "        await google.colab.output.renderOutput(dataTable, element);\n",
              "        const docLink = document.createElement('div');\n",
              "        docLink.innerHTML = docLinkHtml;\n",
              "        element.appendChild(docLink);\n",
              "      }\n",
              "    </script>\n",
              "  </div>\n",
              "\n",
              "\n",
              "<div id=\"df-ee80ae5a-4951-40bb-b0b5-bf24d5e54211\">\n",
              "  <button class=\"colab-df-quickchart\" onclick=\"quickchart('df-ee80ae5a-4951-40bb-b0b5-bf24d5e54211')\"\n",
              "            title=\"Suggest charts.\"\n",
              "            style=\"display:none;\">\n",
              "\n",
              "<svg xmlns=\"http://www.w3.org/2000/svg\" height=\"24px\"viewBox=\"0 0 24 24\"\n",
              "     width=\"24px\">\n",
              "    <g>\n",
              "        <path d=\"M19 3H5c-1.1 0-2 .9-2 2v14c0 1.1.9 2 2 2h14c1.1 0 2-.9 2-2V5c0-1.1-.9-2-2-2zM9 17H7v-7h2v7zm4 0h-2V7h2v10zm4 0h-2v-4h2v4z\"/>\n",
              "    </g>\n",
              "</svg>\n",
              "  </button>\n",
              "\n",
              "<style>\n",
              "  .colab-df-quickchart {\n",
              "    background-color: #E8F0FE;\n",
              "    border: none;\n",
              "    border-radius: 50%;\n",
              "    cursor: pointer;\n",
              "    display: none;\n",
              "    fill: #1967D2;\n",
              "    height: 32px;\n",
              "    padding: 0 0 0 0;\n",
              "    width: 32px;\n",
              "  }\n",
              "\n",
              "  .colab-df-quickchart:hover {\n",
              "    background-color: #E2EBFA;\n",
              "    box-shadow: 0px 1px 2px rgba(60, 64, 67, 0.3), 0px 1px 3px 1px rgba(60, 64, 67, 0.15);\n",
              "    fill: #174EA6;\n",
              "  }\n",
              "\n",
              "  [theme=dark] .colab-df-quickchart {\n",
              "    background-color: #3B4455;\n",
              "    fill: #D2E3FC;\n",
              "  }\n",
              "\n",
              "  [theme=dark] .colab-df-quickchart:hover {\n",
              "    background-color: #434B5C;\n",
              "    box-shadow: 0px 1px 3px 1px rgba(0, 0, 0, 0.15);\n",
              "    filter: drop-shadow(0px 1px 2px rgba(0, 0, 0, 0.3));\n",
              "    fill: #FFFFFF;\n",
              "  }\n",
              "</style>\n",
              "\n",
              "  <script>\n",
              "    async function quickchart(key) {\n",
              "      const charts = await google.colab.kernel.invokeFunction(\n",
              "          'suggestCharts', [key], {});\n",
              "    }\n",
              "    (() => {\n",
              "      let quickchartButtonEl =\n",
              "        document.querySelector('#df-ee80ae5a-4951-40bb-b0b5-bf24d5e54211 button');\n",
              "      quickchartButtonEl.style.display =\n",
              "        google.colab.kernel.accessAllowed ? 'block' : 'none';\n",
              "    })();\n",
              "  </script>\n",
              "</div>\n",
              "    </div>\n",
              "  </div>\n"
            ]
          },
          "metadata": {},
          "execution_count": 41
        }
      ],
      "source": [
        "# Import dataset\n",
        "\n",
        "# We will also parse the date column as datetime64 and set it to the index column\n",
        "df = pd.read_csv(url + \"03_training_data/\" + \"2023-08-24_processed_df.csv\",\n",
        "                         parse_dates=[0], index_col=[0])\n",
        "\n",
        "# Check the correct loading of dataset\n",
        "df.head()"
      ]
    },
    {
      "cell_type": "markdown",
      "metadata": {
        "id": "jv96sN3croOJ"
      },
      "source": [
        "<a name=\"3.\"></a>\n",
        "# 3.&nbsp;Select a target station\n",
        "[Content](#content)\n"
      ],
      "id": "jv96sN3croOJ"
    },
    {
      "cell_type": "markdown",
      "source": [
        "There are many stations that we could train our model on. Also we could add up all stations to a column `total` and try to predict the overall number in the city per day. However this approach would average many values which would lead on side to less noisy data as single outliers would be less impactful. On the other side it would also average over indivdual patterns.\n",
        "\n",
        "For this reason, we choose a single station to train our model on. For real-life purposes better results could be expected with one model per station.\n",
        "\n",
        "For the further process, we will work with the station: `wilhelm_kaisen_brucke_ost`\n"
      ],
      "metadata": {
        "id": "OG06qWVLrl_R"
      },
      "id": "OG06qWVLrl_R"
    },
    {
      "cell_type": "code",
      "source": [
        "target = \"imputed_wilhelm_kaisen_brucke_ost\""
      ],
      "metadata": {
        "id": "cdukN1mWtqr5"
      },
      "id": "cdukN1mWtqr5",
      "execution_count": null,
      "outputs": []
    },
    {
      "cell_type": "markdown",
      "id": "gBM3I6LFOHL9",
      "metadata": {
        "id": "gBM3I6LFOHL9"
      },
      "source": [
        "<a name=\"4.\"></a>\n",
        "# 4.&nbsp;Establish baseline benchmark\n",
        "[Content](#content)\n"
      ]
    },
    {
      "cell_type": "markdown",
      "id": "VgkVXhdAx6zB",
      "metadata": {
        "id": "VgkVXhdAx6zB"
      },
      "source": [
        "For our current task of creating model a to predict the amount of cyclers for a given day, we do not have any baseline metric score to measure our model against.\n",
        "For this reason, we will create a naive baseline model. For this, we will simply predict the amount of a day based on the value of previous day."
      ]
    },
    {
      "cell_type": "code",
      "source": [
        "# Calculate RMSE between two columns shifted by one day\n",
        "rmse = np.sqrt(mean_squared_error(df[target].iloc[:-1], df[target].shift(-1).iloc[:-1]))\n",
        "print(\"RMSE: %f\" % (rmse))"
      ],
      "metadata": {
        "colab": {
          "base_uri": "https://localhost:8080/"
        },
        "id": "hPxJANalKxpN",
        "outputId": "33180275-ab60-4aaa-f613-731b223b76e0"
      },
      "id": "hPxJANalKxpN",
      "execution_count": null,
      "outputs": [
        {
          "output_type": "stream",
          "name": "stdout",
          "text": [
            "RMSE: 2346.990813\n"
          ]
        }
      ]
    },
    {
      "cell_type": "markdown",
      "id": "f6O5OFAwW9Pm",
      "metadata": {
        "id": "f6O5OFAwW9Pm"
      },
      "source": [
        "If we were naivly predicting the current value with the last value, we get an error over the entire dataset of approximately $2.347$. This is our naive benchmark to compare our model against."
      ]
    },
    {
      "cell_type": "markdown",
      "id": "YHm0GDHUmczY",
      "metadata": {
        "id": "YHm0GDHUmczY"
      },
      "source": [
        "Another method would be to predict the value of a given day by the average of all the other equal days in the dataset (e.g., to predict 18.08.2017, we take the average of all other 18.08. days in the dataset)."
      ]
    },
    {
      "cell_type": "code",
      "execution_count": null,
      "id": "kOSNaRxAdoCA",
      "metadata": {
        "colab": {
          "base_uri": "https://localhost:8080/"
        },
        "id": "kOSNaRxAdoCA",
        "outputId": "8af68032-f3a6-4ca4-d61e-dfdc7b351fdb"
      },
      "outputs": [
        {
          "output_type": "stream",
          "name": "stdout",
          "text": [
            "RMSE: 2033.3351259991568\n"
          ]
        }
      ],
      "source": [
        "# Initialize squared error\n",
        "se = 0\n",
        "\n",
        "# Get the total number of examples\n",
        "m = df.shape[0]\n",
        "\n",
        "for i in df.index:\n",
        "    day = i.day\n",
        "    month = i.month\n",
        "    year = i.year\n",
        "\n",
        "    # create a mask for given day but exclude the day we want to predict\n",
        "    mask = (df.index.day == day) & (df.index.month == month) & (df.index.year != year)\n",
        "\n",
        "    # Get value for current day and mean values of all the other same days in the dataset\n",
        "    y = df.loc[i, target]\n",
        "    y_hat = df.loc[mask, target].mean()\n",
        "\n",
        "    # Calculate the squared error\n",
        "    se += (y - y_hat)**2\n",
        "\n",
        "# Calculate mean squared error\n",
        "mse = se / m\n",
        "\n",
        "# Calcualte root mean squared error\n",
        "rmse = np.sqrt(mse)\n",
        "\n",
        "print(f\"RMSE: {rmse}\")"
      ]
    },
    {
      "cell_type": "markdown",
      "id": "SQ-iEzyHoc8M",
      "metadata": {
        "id": "SQ-iEzyHoc8M"
      },
      "source": [
        "With this second approach, of average all our previous values for the given day and using this as our forecast, we get an error over the entire dataset of approximately $2,033$.\n",
        "\n",
        "The error of this second naive approach is close to the first approach.\n",
        "Both approaches could be seen as human-level as this would be a typical approach of a human, to predict the value of any given day. A domain expert, who also looks at more data and e.g., compares also the temperatures, could come up with better estimates. However humans are typically not very good in accurately predicting complex time-series data. The expected Bayes error (least possible error) should therefore be much lower."
      ]
    },
    {
      "cell_type": "markdown",
      "id": "mO2Xt87cykEf",
      "metadata": {
        "id": "mO2Xt87cykEf"
      },
      "source": [
        "<a name=\"5.\"></a>\n",
        "# 5.&nbsp;Selecting features, splitting the data, standardizing\n",
        "[Content](#content)"
      ]
    },
    {
      "cell_type": "markdown",
      "source": [
        "First we select all the features we want to use for our training. During the EDA step, we already decided to exclude some features. However it can always be checked, if some of the features might not add a benefit."
      ],
      "metadata": {
        "id": "rryDm2ZBotqN"
      },
      "id": "rryDm2ZBotqN"
    },
    {
      "cell_type": "code",
      "source": [
        "# Higly correlated features have been removed (tavg, tmin, imputed_wpgt)\n",
        "# Features with no correlation have been removed (imputed_wdir, wdir_sin, wdir_cos)\n",
        "# Only all single couting stations are being removed\n",
        "\n",
        "features_date = [\n",
        "    'year',\n",
        "    'month',\n",
        "    'day',\n",
        "    'weekday',\n",
        "]\n",
        "\n",
        "features_sin_cos_transformation = [\n",
        "    'week_sin', 'week_cos',\n",
        "    'month_sin', 'month_cos',\n",
        "    'year_sin', 'year_cos',\n",
        "]\n",
        "\n",
        "features_weather = [\n",
        "    'tmax',\n",
        "    'prcp',\n",
        "    'imputed_snow',\n",
        "    'wspd',\n",
        "    'pres',\n",
        "    'tsun',\n",
        "    ]\n",
        "\n",
        "features_holidays_vacation = [\n",
        "    'holiday_1_weihnachtsfeiertag', 'holiday_2_weihnachtsfeiertag',\n",
        "    'holiday_christi_himmelfahrt', 'holiday_karfreitag', 'holiday_neujahr',\n",
        "    'holiday_ostermontag', 'holiday_pfingstmontag',\n",
        "    'holiday_reformationstag', 'holiday_tag_der_arbeit',\n",
        "    'holiday_tag_der_deutschen_einheit', 'transformed_vacation'\n",
        "    ]\n",
        "\n",
        "# Target is 'imputed_wilhelm_kaisen_brucke_ost'\n",
        "target = target"
      ],
      "metadata": {
        "id": "vZyJeABHuthG"
      },
      "id": "vZyJeABHuthG",
      "execution_count": null,
      "outputs": []
    },
    {
      "cell_type": "code",
      "source": [
        "# Put the features togehter and check if feature vector is correct\n",
        "features = features_sin_cos_transformation + features_weather + features_holidays_vacation\n",
        "features"
      ],
      "metadata": {
        "id": "BiakefxsxJ7e",
        "outputId": "20fa8efa-ed0e-43cf-fdba-d89d038c8b59",
        "colab": {
          "base_uri": "https://localhost:8080/"
        }
      },
      "id": "BiakefxsxJ7e",
      "execution_count": null,
      "outputs": [
        {
          "output_type": "execute_result",
          "data": {
            "text/plain": [
              "['week_sin',\n",
              " 'week_cos',\n",
              " 'month_sin',\n",
              " 'month_cos',\n",
              " 'year_sin',\n",
              " 'year_cos',\n",
              " 'tmax',\n",
              " 'prcp',\n",
              " 'imputed_snow',\n",
              " 'wspd',\n",
              " 'pres',\n",
              " 'tsun',\n",
              " 'holiday_1_weihnachtsfeiertag',\n",
              " 'holiday_2_weihnachtsfeiertag',\n",
              " 'holiday_christi_himmelfahrt',\n",
              " 'holiday_karfreitag',\n",
              " 'holiday_neujahr',\n",
              " 'holiday_ostermontag',\n",
              " 'holiday_pfingstmontag',\n",
              " 'holiday_reformationstag',\n",
              " 'holiday_tag_der_arbeit',\n",
              " 'holiday_tag_der_deutschen_einheit',\n",
              " 'transformed_vacation']"
            ]
          },
          "metadata": {},
          "execution_count": 46
        }
      ]
    },
    {
      "cell_type": "markdown",
      "source": [
        "Now, we will split the data into a training set, a dev set and a test set.\n",
        "\n",
        "When splitting into train, dev and test set, we will not shuffle the data. This ensures that the validation results are more realistic since they are being evaluated on the data collected after the model was trained. Otherwise we would introduce a \"leakage error\" into our data."
      ],
      "metadata": {
        "id": "XH_6MbWERL_5"
      },
      "id": "XH_6MbWERL_5"
    },
    {
      "cell_type": "code",
      "execution_count": null,
      "id": "nxeQ39ojh2Y-",
      "metadata": {
        "colab": {
          "base_uri": "https://localhost:8080/"
        },
        "id": "nxeQ39ojh2Y-",
        "outputId": "9ada71e4-1592-482d-89f1-92ca23573ede"
      },
      "outputs": [
        {
          "output_type": "stream",
          "name": "stdout",
          "text": [
            "X_train:  (2921, 23) y_train:  (2921,)\n",
            "X_train first day:  2013-01-01 and last day:  2020-12-30\n",
            "y_train first day:  2013-01-01 and last day:  2020-12-30\n",
            "X_dev:  (365, 23) y_dev:  (365,)\n",
            "X_dev first day:  2020-12-31 and last day:  2021-12-30\n",
            "y_dev first day:  2020-12-31 and last day:  2021-12-30\n",
            "X_test:  (366, 23) y_test:  (366,)\n",
            "X_test first day:  2021-12-31 and last day:  2022-12-31\n",
            "y_test first day:  2021-12-31 and last day:  2022-12-31\n"
          ]
        }
      ],
      "source": [
        "# Split the data into training and dev sets\n",
        "# We set shuffle to False\n",
        "\n",
        "# Split full dataset 80/20 (~8 years to 2 years)\n",
        "X_train, X_temp, y_train, y_temp = train_test_split(df[features], df[target],\n",
        "                                                    test_size=0.2, shuffle=False, random_state=0)\n",
        "# Split smaller dataset again 50/50 (~1 year each)\n",
        "X_dev, X_test, y_dev, y_test = train_test_split(X_temp, y_temp,\n",
        "                                                    test_size=0.5, shuffle=False, random_state=0)\n",
        "\n",
        "# Check the beginning end of each dataset\n",
        "print(\"X_train: \", X_train[features].shape, \"y_train: \", y_train.shape)\n",
        "print(\"X_train first day: \", X_train.index.date[0], \"and last day: \", X_train.index.date[-1])\n",
        "print(\"y_train first day: \", y_train.index.date[0], \"and last day: \", y_train.index.date[-1])\n",
        "print(\"X_dev: \", X_dev[features].shape, \"y_dev: \", y_dev.shape)\n",
        "print(\"X_dev first day: \", X_dev.index.date[0], \"and last day: \", X_dev.index.date[-1])\n",
        "print(\"y_dev first day: \", y_dev.index.date[0], \"and last day: \", y_dev.index.date[-1])\n",
        "print(\"X_test: \", X_test[features].shape, \"y_test: \", y_test.shape)\n",
        "print(\"X_test first day: \", X_test.index.date[0], \"and last day: \", X_test.index.date[-1])\n",
        "print(\"y_test first day: \", y_test.index.date[0], \"and last day: \", y_test.index.date[-1])"
      ]
    },
    {
      "cell_type": "markdown",
      "id": "a1GVZoPCdit-",
      "metadata": {
        "id": "a1GVZoPCdit-"
      },
      "source": [
        "Finally, we will standardize our dataset. Standarization will generally improve learning speed of the models and can help to improve the accuarcy of the model."
      ]
    },
    {
      "cell_type": "code",
      "execution_count": null,
      "metadata": {
        "id": "ZwsuKeAWsUr8"
      },
      "outputs": [],
      "source": [
        "# Standardize and fit to the training set only\n",
        "scaler = StandardScaler()\n",
        "X_train_scaled = scaler.fit_transform(X_train)\n",
        "\n",
        "# Apply the same standardization to the dev set\n",
        "X_dev_scaled = scaler.transform(X_dev)\n",
        "\n",
        "# Apply the same standardization to the test set\n",
        "X_test_scaled = scaler.transform(X_test)"
      ],
      "id": "ZwsuKeAWsUr8"
    },
    {
      "cell_type": "markdown",
      "id": "5HqwjOgkxauH",
      "metadata": {
        "id": "5HqwjOgkxauH"
      },
      "source": [
        "<a name=\"6.\"></a>\n",
        "# 6.&nbsp;Training machine learning algorithms\n",
        "[Content](#content)\n",
        "\n",
        "We are going to train 1 shallow machine learning algorithm and 2 deep machine learning algorithms to be able to compare performances. Those are:\n",
        "\n",
        "* XGBoost\n",
        "* Multilayer Perceptron (MLP -- standard NN)\n",
        "* Recurrent Neural Network (RNN)\n",
        "\n",
        "We will not train \"state-of-the-art\" models but rather compare three simple model architectures with each other."
      ]
    },
    {
      "cell_type": "markdown",
      "id": "9b154c25",
      "metadata": {
        "id": "9b154c25"
      },
      "source": [
        "<a name=\"6.1.\"></a>\n",
        "## 6.1. Consideration regarding sequential data\n",
        "\n",
        "[Content](#content)\n",
        "\n",
        "In contrast to RNNs where the algorithm takes the datapoints of previous timesteps into account, XGBoost and MLPs do not have direct access to the sequential data of previous time steps.\n",
        "Those algorithms have only indirect knowledge via the learned model parameters. RNNs however directly include the previous timestep for learning the parameters of the current timestep.\n",
        "\n",
        "Therefore in step of feature engineering, we could add features (e.g., the amount of cyclers of the previous three days) to the dataset. This was tested but only had marginal improvements.\n",
        "\n",
        "The dataset consists of timeseries data but it does not appear to be overly depended on the previous datapoints. This means, that the amount of cyclers on a previous day, has no direct impact on today. E.g., if the previous day was a sunny and warm Sunday which caused many people to go outside and ride bicycle, it has no huge impact on today. Much more relevant would be that today is a Monday following the Sunday (which is already encoded in the features) and what the weather is like today and not what is was yesterday.  \n",
        "\n",
        "Therefore we will not include those features. The function to create those features can be found below nevertheless and can be tested."
      ]
    },
    {
      "cell_type": "code",
      "execution_count": null,
      "id": "a03f3499",
      "metadata": {
        "id": "a03f3499"
      },
      "outputs": [],
      "source": [
        "# utils\n",
        "def create_lag_features(df, feature, num_lag=3):\n",
        "    \"\"\"\n",
        "        Function that takes a dataframe, feature and num_lag and return the\n",
        "        the dataframe with n=num_lag new columns and values shifted by num_lag\n",
        "\n",
        "        Args:\n",
        "            df (pandas.DataFrame): datafrane to be changed\n",
        "            feature (str): name of the feature to be changed\n",
        "            num_lag (int): number of timesteps (lags)\n",
        "\n",
        "    \"\"\"\n",
        "\n",
        "    num_lag = num_lag\n",
        "\n",
        "    for i in range(1, num_lag+1):\n",
        "\n",
        "        name_lag_feature = f\"{i}_lag_{feature}\"\n",
        "        df[name_lag_feature] = df[feature].shift(i)\n",
        "\n",
        "#create_lag_features(df, target, num_lag=3)\n",
        "#df[[target, f\"1_lag_{target}\", f\"2_lag_{target}\", f\"3_lag_{target}\"]].head()"
      ]
    },
    {
      "cell_type": "markdown",
      "metadata": {
        "id": "foy0LFufoDlk"
      },
      "source": [
        "<a name=\"6.2.\"></a>\n",
        "## 6.2. XGBoost\n",
        "[Content](#content)"
      ],
      "id": "foy0LFufoDlk"
    },
    {
      "cell_type": "markdown",
      "id": "amR72D-bg9Ea",
      "metadata": {
        "id": "amR72D-bg9Ea"
      },
      "source": [
        "<a name=\"6.2.1.\"></a>\n",
        "### 6.2.1 Using GridSeachCV to select the optimal parameters\n",
        "[Content](#content)"
      ]
    },
    {
      "cell_type": "markdown",
      "source": [
        "We will use `GridSearchCV` to select optimal parameters among the preselected ranges for the training data. Furthermore we will create our own scoring metric, to evaluate the performance of the parameters found with `GridSearchCV`.\n",
        "\n",
        "`GridSearchCV` is using `KFold` for regression problems as default. However `KFold` would split the training data in such a way, that later data will be evaluated against earlier data, introducing `leackage error`.\n",
        "Therefore we do not use the default, but create splits with `TimeSeriesSplit` and pass this to `GridSearchCV`."
      ],
      "metadata": {
        "id": "BOk23hijr6Rb"
      },
      "id": "BOk23hijr6Rb"
    },
    {
      "cell_type": "code",
      "source": [
        "# Create custom function for evaluating GridSearchCV\n",
        "def custom_rmse(y, y_hat):\n",
        "    return np.sqrt(mean_squared_error(y, y_hat))\n",
        "\n",
        "# Create the scoring object using the custom scoring function\n",
        "custom_scorer_rmse = make_scorer(custom_rmse)"
      ],
      "metadata": {
        "id": "TB-c62B8Je2b"
      },
      "id": "TB-c62B8Je2b",
      "execution_count": null,
      "outputs": []
    },
    {
      "cell_type": "code",
      "execution_count": null,
      "metadata": {
        "id": "dU0g5nDdCaX4"
      },
      "outputs": [],
      "source": [
        "params = {\n",
        "    'n_estimators': [100],\n",
        "    'learning_rate': [0.1, 0.05],\n",
        "    'max_depth': [4, 6, 8],                 # max. depth of tree\n",
        "    'reg_alpha': [1.0, 5.0, 10.0, 15.0],    # L1 regularization\n",
        "    'reg_lambda': [1.0, 5.0, 10.0, 15.0],   # L2 regularization#\n",
        "    'colsample_bytree': [0.8, 0.9],         # subsample ratio of columns\n",
        "}\n",
        "\n",
        "#utils\n",
        "def xgb_parameter_grid_search(X, y, params, custom_scorer):\n",
        "    \"\"\"\n",
        "        Function that uses GridCV Search to search for the best paramters\n",
        "        for fitting a XGB regressor model using TimeSeriesSplit\n",
        "        Args:\n",
        "            X (ndarray): features to be split\n",
        "            y (ndarray): targets to be split\n",
        "            params (dict): searchable parameter\n",
        "            custom_scorer (sklearn.metrics.make_scorer): custom scorer\n",
        "\n",
        "        Return:\n",
        "            model, score, params (tupel): best found model, with best score and\n",
        "                                            params\n",
        "    \"\"\"\n",
        "\n",
        "    def creating_splits(X ,num_splits=4):\n",
        "        \"\"\"\n",
        "            Function creates n consecutive split with TimeSeriesSplit\n",
        "            Args:\n",
        "                X (ndarray): data to be split\n",
        "                num_splits (int): amount of splits\n",
        "\n",
        "            Return:\n",
        "                splits (ndarray): array of tuples with index for train and test\n",
        "        \"\"\"\n",
        "        # Getting time series splits using TimeSeriesSplit\n",
        "        tscv = TimeSeriesSplit(n_splits = num_splits)\n",
        "        splits = []\n",
        "\n",
        "        for i, (train_index, test_index) in enumerate(tscv.split(X)):\n",
        "            splits.append((train_index, test_index))\n",
        "\n",
        "        return splits\n",
        "\n",
        "    # Create consecutive splits\n",
        "    splits = creating_splits(X_train_scaled ,num_splits=4)\n",
        "\n",
        "    # Define the estimator\n",
        "    xg_reg = xgb.XGBRegressor(objective='reg:squarederror', random_state=0)\n",
        "\n",
        "    # Define GridSearch and fit GridSearch on the training data with the custom scorer and custom splits\n",
        "    grid_search = GridSearchCV(xg_reg, param_grid=params, cv=splits, scoring=custom_scorer_rmse, n_jobs=-1, verbose=2)\n",
        "    grid_search.fit(X, y)\n",
        "\n",
        "    return (grid_search.best_estimator_, grid_search.best_score_, grid_search.best_params_)\n",
        "\n",
        "#model, score, params = xgb_parameter_grid_search(X_train_scaled, y_train, params, custom_scorer_rmse)\n",
        "#print(model, score, params)"
      ],
      "id": "dU0g5nDdCaX4"
    },
    {
      "cell_type": "markdown",
      "metadata": {
        "id": "XgkmuNZ0sCn1"
      },
      "source": [
        "<a name=\"6.2.2.\"></a>\n",
        "### 6.2.2. Train the model and evaluate\n",
        "[Content](#content)"
      ],
      "id": "XgkmuNZ0sCn1"
    },
    {
      "cell_type": "code",
      "execution_count": null,
      "id": "u9DKLFqkmIRm",
      "metadata": {
        "colab": {
          "base_uri": "https://localhost:8080/"
        },
        "id": "u9DKLFqkmIRm",
        "outputId": "ed396439-eece-4a01-d91e-ff1e73f03b86"
      },
      "outputs": [
        {
          "output_type": "stream",
          "name": "stdout",
          "text": [
            "Train RMSE: 820.721704\n",
            "Dev RMSE: 1544.159983\n",
            "Test RMSE: 1400.010241\n"
          ]
        }
      ],
      "source": [
        "# Build the XGBoost regressor model with selected hyper parameters\n",
        "xg_reg = xgb.XGBRegressor(objective ='reg:squarederror', reg_alpha = 10.0, reg_lambda = 1.0, learning_rate = 0.1)\n",
        "\n",
        "xg_reg.fit(X_train_scaled, y_train, eval_set=[(X_train_scaled, y_train), (X_dev_scaled, y_dev)], verbose=False)\n",
        "\n",
        "# Evaluate the model's performance using RMSE\n",
        "\n",
        "# Training set\n",
        "# Predict on the train set\n",
        "y_train_hat = xg_reg.predict(X_train_scaled)\n",
        "rmse_train = custom_rmse(y_train, y_train_hat)\n",
        "print(\"Train RMSE: %f\" % (rmse_train))\n",
        "\n",
        "# Dev set\n",
        "# Predict on the dev set\n",
        "y_dev_hat = xg_reg.predict(X_dev_scaled)\n",
        "rmse_dev = custom_rmse(y_dev, y_dev_hat)\n",
        "print(\"Dev RMSE: %f\" % (rmse_dev))\n",
        "\n",
        "# Test set\n",
        "# Predict on the test set\n",
        "y_test_hat = xg_reg.predict(X_test_scaled)\n",
        "rmse_test = custom_rmse(y_test, y_test_hat)\n",
        "print(\"Test RMSE: %f\" % (rmse_test))"
      ]
    },
    {
      "cell_type": "code",
      "source": [
        "# Retrieve performance metrics\n",
        "results = xg_reg.evals_result()\n",
        "\n",
        "# Create the array for the x axis, starting from 1\n",
        "n_trees = np.arange(0, len(results[\"validation_0\"][\"rmse\"]))\n",
        "train_rmse = results[\"validation_0\"][\"rmse\"]\n",
        "dev_rmse = results[\"validation_1\"][\"rmse\"]\n",
        "\n",
        "# Create a line chart with two lines using Plotly Express\n",
        "fig = px.line(title='train RMSE vs. dev RMSE')\n",
        "fig.add_scatter(x=n_trees, y=train_rmse, mode='lines+markers', name='Train RMSE', line=dict(color='red'))\n",
        "fig.add_scatter(x=n_trees, y=dev_rmse, mode='lines+markers', name='Dev RMSE', line=dict(color='blue'))\n",
        "\n",
        "\n",
        "# Set chart title and axis labels\n",
        "fig.update_layout(\n",
        "    xaxis_title='Number of trees',\n",
        "    yaxis_title='RMSE'\n",
        ")\n",
        "\n",
        "# Show the chart\n",
        "fig.show()"
      ],
      "metadata": {
        "colab": {
          "base_uri": "https://localhost:8080/",
          "height": 542
        },
        "id": "0aU9pLkkWTWj",
        "outputId": "6a6beeff-7edb-4ca8-80a7-86dda6645ae4"
      },
      "id": "0aU9pLkkWTWj",
      "execution_count": null,
      "outputs": [
        {
          "output_type": "display_data",
          "data": {
            "text/html": [
              "<html>\n",
              "<head><meta charset=\"utf-8\" /></head>\n",
              "<body>\n",
              "    <div>            <script src=\"https://cdnjs.cloudflare.com/ajax/libs/mathjax/2.7.5/MathJax.js?config=TeX-AMS-MML_SVG\"></script><script type=\"text/javascript\">if (window.MathJax && window.MathJax.Hub && window.MathJax.Hub.Config) {window.MathJax.Hub.Config({SVG: {font: \"STIX-Web\"}});}</script>                <script type=\"text/javascript\">window.PlotlyConfig = {MathJaxConfig: 'local'};</script>\n",
              "        <script charset=\"utf-8\" src=\"https://cdn.plot.ly/plotly-2.24.1.min.js\"></script>                <div id=\"3ac78274-5724-4f38-88fc-aadf69ee58e9\" class=\"plotly-graph-div\" style=\"height:525px; width:100%;\"></div>            <script type=\"text/javascript\">                                    window.PLOTLYENV=window.PLOTLYENV || {};                                    if (document.getElementById(\"3ac78274-5724-4f38-88fc-aadf69ee58e9\")) {                    Plotly.newPlot(                        \"3ac78274-5724-4f38-88fc-aadf69ee58e9\",                        [{\"hovertemplate\":\"\\u003cextra\\u003e\\u003c\\u002fextra\\u003e\",\"legendgroup\":\"\",\"line\":{\"color\":\"#636efa\",\"dash\":\"solid\"},\"marker\":{\"symbol\":\"circle\"},\"mode\":\"lines\",\"name\":\"\",\"orientation\":\"v\",\"showlegend\":false,\"xaxis\":\"x\",\"yaxis\":\"y\",\"type\":\"scatter\"},{\"line\":{\"color\":\"red\"},\"mode\":\"lines+markers\",\"name\":\"Train RMSE\",\"x\":[0,1,2,3,4,5,6,7,8,9,10,11,12,13,14,15,16,17,18,19,20,21,22,23,24,25,26,27,28,29,30,31,32,33,34,35,36,37,38,39,40,41,42,43,44,45,46,47,48,49,50,51,52,53,54,55,56,57,58,59,60,61,62,63,64,65,66,67,68,69,70,71,72,73,74,75,76,77,78,79,80,81,82,83,84,85,86,87,88,89,90,91,92,93,94,95,96,97,98,99],\"y\":[5973.515457938867,5414.6464857656365,4913.413021175366,4464.678431920842,4064.116681668575,3705.0556864104824,3384.672781764972,3099.6700397623663,2845.4207926280274,2619.5727890423937,2419.549240591201,2241.6915258126837,2084.7792272575275,1947.3402355797039,1826.1604773153422,1718.8401539398585,1626.3985763717683,1544.721808931656,1473.0186008824328,1413.4072456123422,1361.471178667137,1315.4048009569767,1275.483590039619,1241.3536879178143,1208.0899535156764,1181.4868769684886,1159.3498839689075,1140.7678073395844,1124.24716079651,1105.0410586474254,1093.0643006101031,1076.613711931029,1067.4620865361674,1054.1783422193982,1048.602068201958,1037.88842003808,1030.4282863501617,1027.018200731072,1018.9460805977656,1007.4827546279596,1002.6258998896666,1000.8210226448298,997.8132305879063,988.496763740472,987.1579489564862,984.8945705383708,984.0041557417002,974.7976510286117,971.5367477959708,970.0213249319704,965.8863108606314,963.9286061153015,962.5888740605086,961.4414003729859,954.1145900571138,949.9142326317915,946.405282803201,945.5281947169609,944.6465178106013,942.4155812512396,941.9878591359405,940.7382824861681,938.0854048944093,936.7955880802168,928.552704081504,927.5591553319063,925.5408427464683,924.0351884887228,923.1894646379192,914.8708098470738,909.695031003212,902.7703159550907,902.172427010031,901.6986004522913,900.6894175976533,898.2791569698022,892.537648574987,890.7096073833039,890.4894315517294,888.9364880459065,880.9702885477249,874.3691955149366,868.928312543048,865.7113131609646,863.85248108831,862.3382804625817,856.433585350577,855.580673714603,853.2109541473519,850.6436491060834,849.580304690615,846.4730675209084,844.9755991052332,839.268952202741,835.2345424343924,830.7187543908502,828.0280222807255,823.7058996302873,822.4987756928447,820.7217041052818],\"type\":\"scatter\"},{\"line\":{\"color\":\"blue\"},\"mode\":\"lines+markers\",\"name\":\"Dev RMSE\",\"x\":[0,1,2,3,4,5,6,7,8,9,10,11,12,13,14,15,16,17,18,19,20,21,22,23,24,25,26,27,28,29,30,31,32,33,34,35,36,37,38,39,40,41,42,43,44,45,46,47,48,49,50,51,52,53,54,55,56,57,58,59,60,61,62,63,64,65,66,67,68,69,70,71,72,73,74,75,76,77,78,79,80,81,82,83,84,85,86,87,88,89,90,91,92,93,94,95,96,97,98,99],\"y\":[6037.996223335982,5498.922972059475,5009.828651113332,4581.826390413586,4198.974391742651,3856.346653425691,3550.8478311390777,3283.530097837161,3047.4349788527247,2839.8828160915095,2655.8798305512382,2494.8845300942994,2359.2314558609914,2246.113338827326,2144.5899543403957,2057.192769763158,1984.390327765118,1920.304026297061,1859.9788305411162,1813.8644727446592,1774.9688915765714,1738.547456288323,1709.7162701352688,1683.2379908612133,1656.9431853513279,1640.306849497739,1626.6233365503867,1615.09407833391,1603.7824562690332,1594.2259510613521,1587.06084830035,1581.4967329796323,1574.6043439930527,1571.1102364993094,1568.5433752804104,1565.6272468865661,1563.0694648521962,1560.1424190162609,1559.10077278975,1556.5852902240958,1554.8724527870086,1554.4074259727988,1552.9209523033844,1556.601602785349,1555.7774314738044,1555.6097049795844,1555.0876444288442,1551.4221675465167,1551.3471327518087,1551.0584586780483,1552.5587950042252,1552.9519055210033,1550.7635552771224,1550.0300571507066,1545.5408195449845,1547.6560119111296,1547.7931185413156,1548.1101431219015,1547.384030236583,1548.2285673988908,1547.8558235587602,1549.2296273416687,1547.986693102172,1547.7873459151801,1546.4023473357756,1546.4008008794333,1546.6198583245236,1547.5920010325422,1547.5680986092234,1550.2299224357528,1550.190049116026,1550.1821173335425,1550.6451501663273,1550.5326131393756,1550.8275376296374,1551.2176159290816,1552.8651054801946,1552.4738457742249,1552.4015874156182,1551.450305814691,1550.083792260067,1548.0473792593505,1548.913321568037,1548.606648608181,1547.789328783759,1546.4064030890502,1545.5447426633448,1545.3438139353452,1544.9429035752644,1545.3858505279165,1545.7946105294814,1545.4728607195855,1545.1708977470928,1543.7070095234556,1542.6702813117238,1543.2538373396021,1542.7472492842403,1542.7684580316338,1543.9409528453434,1544.159980384066],\"type\":\"scatter\"}],                        {\"template\":{\"data\":{\"histogram2dcontour\":[{\"type\":\"histogram2dcontour\",\"colorbar\":{\"outlinewidth\":0,\"ticks\":\"\"},\"colorscale\":[[0.0,\"#0d0887\"],[0.1111111111111111,\"#46039f\"],[0.2222222222222222,\"#7201a8\"],[0.3333333333333333,\"#9c179e\"],[0.4444444444444444,\"#bd3786\"],[0.5555555555555556,\"#d8576b\"],[0.6666666666666666,\"#ed7953\"],[0.7777777777777778,\"#fb9f3a\"],[0.8888888888888888,\"#fdca26\"],[1.0,\"#f0f921\"]]}],\"choropleth\":[{\"type\":\"choropleth\",\"colorbar\":{\"outlinewidth\":0,\"ticks\":\"\"}}],\"histogram2d\":[{\"type\":\"histogram2d\",\"colorbar\":{\"outlinewidth\":0,\"ticks\":\"\"},\"colorscale\":[[0.0,\"#0d0887\"],[0.1111111111111111,\"#46039f\"],[0.2222222222222222,\"#7201a8\"],[0.3333333333333333,\"#9c179e\"],[0.4444444444444444,\"#bd3786\"],[0.5555555555555556,\"#d8576b\"],[0.6666666666666666,\"#ed7953\"],[0.7777777777777778,\"#fb9f3a\"],[0.8888888888888888,\"#fdca26\"],[1.0,\"#f0f921\"]]}],\"heatmap\":[{\"type\":\"heatmap\",\"colorbar\":{\"outlinewidth\":0,\"ticks\":\"\"},\"colorscale\":[[0.0,\"#0d0887\"],[0.1111111111111111,\"#46039f\"],[0.2222222222222222,\"#7201a8\"],[0.3333333333333333,\"#9c179e\"],[0.4444444444444444,\"#bd3786\"],[0.5555555555555556,\"#d8576b\"],[0.6666666666666666,\"#ed7953\"],[0.7777777777777778,\"#fb9f3a\"],[0.8888888888888888,\"#fdca26\"],[1.0,\"#f0f921\"]]}],\"heatmapgl\":[{\"type\":\"heatmapgl\",\"colorbar\":{\"outlinewidth\":0,\"ticks\":\"\"},\"colorscale\":[[0.0,\"#0d0887\"],[0.1111111111111111,\"#46039f\"],[0.2222222222222222,\"#7201a8\"],[0.3333333333333333,\"#9c179e\"],[0.4444444444444444,\"#bd3786\"],[0.5555555555555556,\"#d8576b\"],[0.6666666666666666,\"#ed7953\"],[0.7777777777777778,\"#fb9f3a\"],[0.8888888888888888,\"#fdca26\"],[1.0,\"#f0f921\"]]}],\"contourcarpet\":[{\"type\":\"contourcarpet\",\"colorbar\":{\"outlinewidth\":0,\"ticks\":\"\"}}],\"contour\":[{\"type\":\"contour\",\"colorbar\":{\"outlinewidth\":0,\"ticks\":\"\"},\"colorscale\":[[0.0,\"#0d0887\"],[0.1111111111111111,\"#46039f\"],[0.2222222222222222,\"#7201a8\"],[0.3333333333333333,\"#9c179e\"],[0.4444444444444444,\"#bd3786\"],[0.5555555555555556,\"#d8576b\"],[0.6666666666666666,\"#ed7953\"],[0.7777777777777778,\"#fb9f3a\"],[0.8888888888888888,\"#fdca26\"],[1.0,\"#f0f921\"]]}],\"surface\":[{\"type\":\"surface\",\"colorbar\":{\"outlinewidth\":0,\"ticks\":\"\"},\"colorscale\":[[0.0,\"#0d0887\"],[0.1111111111111111,\"#46039f\"],[0.2222222222222222,\"#7201a8\"],[0.3333333333333333,\"#9c179e\"],[0.4444444444444444,\"#bd3786\"],[0.5555555555555556,\"#d8576b\"],[0.6666666666666666,\"#ed7953\"],[0.7777777777777778,\"#fb9f3a\"],[0.8888888888888888,\"#fdca26\"],[1.0,\"#f0f921\"]]}],\"mesh3d\":[{\"type\":\"mesh3d\",\"colorbar\":{\"outlinewidth\":0,\"ticks\":\"\"}}],\"scatter\":[{\"fillpattern\":{\"fillmode\":\"overlay\",\"size\":10,\"solidity\":0.2},\"type\":\"scatter\"}],\"parcoords\":[{\"type\":\"parcoords\",\"line\":{\"colorbar\":{\"outlinewidth\":0,\"ticks\":\"\"}}}],\"scatterpolargl\":[{\"type\":\"scatterpolargl\",\"marker\":{\"colorbar\":{\"outlinewidth\":0,\"ticks\":\"\"}}}],\"bar\":[{\"error_x\":{\"color\":\"#2a3f5f\"},\"error_y\":{\"color\":\"#2a3f5f\"},\"marker\":{\"line\":{\"color\":\"#E5ECF6\",\"width\":0.5},\"pattern\":{\"fillmode\":\"overlay\",\"size\":10,\"solidity\":0.2}},\"type\":\"bar\"}],\"scattergeo\":[{\"type\":\"scattergeo\",\"marker\":{\"colorbar\":{\"outlinewidth\":0,\"ticks\":\"\"}}}],\"scatterpolar\":[{\"type\":\"scatterpolar\",\"marker\":{\"colorbar\":{\"outlinewidth\":0,\"ticks\":\"\"}}}],\"histogram\":[{\"marker\":{\"pattern\":{\"fillmode\":\"overlay\",\"size\":10,\"solidity\":0.2}},\"type\":\"histogram\"}],\"scattergl\":[{\"type\":\"scattergl\",\"marker\":{\"colorbar\":{\"outlinewidth\":0,\"ticks\":\"\"}}}],\"scatter3d\":[{\"type\":\"scatter3d\",\"line\":{\"colorbar\":{\"outlinewidth\":0,\"ticks\":\"\"}},\"marker\":{\"colorbar\":{\"outlinewidth\":0,\"ticks\":\"\"}}}],\"scattermapbox\":[{\"type\":\"scattermapbox\",\"marker\":{\"colorbar\":{\"outlinewidth\":0,\"ticks\":\"\"}}}],\"scatterternary\":[{\"type\":\"scatterternary\",\"marker\":{\"colorbar\":{\"outlinewidth\":0,\"ticks\":\"\"}}}],\"scattercarpet\":[{\"type\":\"scattercarpet\",\"marker\":{\"colorbar\":{\"outlinewidth\":0,\"ticks\":\"\"}}}],\"carpet\":[{\"aaxis\":{\"endlinecolor\":\"#2a3f5f\",\"gridcolor\":\"white\",\"linecolor\":\"white\",\"minorgridcolor\":\"white\",\"startlinecolor\":\"#2a3f5f\"},\"baxis\":{\"endlinecolor\":\"#2a3f5f\",\"gridcolor\":\"white\",\"linecolor\":\"white\",\"minorgridcolor\":\"white\",\"startlinecolor\":\"#2a3f5f\"},\"type\":\"carpet\"}],\"table\":[{\"cells\":{\"fill\":{\"color\":\"#EBF0F8\"},\"line\":{\"color\":\"white\"}},\"header\":{\"fill\":{\"color\":\"#C8D4E3\"},\"line\":{\"color\":\"white\"}},\"type\":\"table\"}],\"barpolar\":[{\"marker\":{\"line\":{\"color\":\"#E5ECF6\",\"width\":0.5},\"pattern\":{\"fillmode\":\"overlay\",\"size\":10,\"solidity\":0.2}},\"type\":\"barpolar\"}],\"pie\":[{\"automargin\":true,\"type\":\"pie\"}]},\"layout\":{\"autotypenumbers\":\"strict\",\"colorway\":[\"#636efa\",\"#EF553B\",\"#00cc96\",\"#ab63fa\",\"#FFA15A\",\"#19d3f3\",\"#FF6692\",\"#B6E880\",\"#FF97FF\",\"#FECB52\"],\"font\":{\"color\":\"#2a3f5f\"},\"hovermode\":\"closest\",\"hoverlabel\":{\"align\":\"left\"},\"paper_bgcolor\":\"white\",\"plot_bgcolor\":\"#E5ECF6\",\"polar\":{\"bgcolor\":\"#E5ECF6\",\"angularaxis\":{\"gridcolor\":\"white\",\"linecolor\":\"white\",\"ticks\":\"\"},\"radialaxis\":{\"gridcolor\":\"white\",\"linecolor\":\"white\",\"ticks\":\"\"}},\"ternary\":{\"bgcolor\":\"#E5ECF6\",\"aaxis\":{\"gridcolor\":\"white\",\"linecolor\":\"white\",\"ticks\":\"\"},\"baxis\":{\"gridcolor\":\"white\",\"linecolor\":\"white\",\"ticks\":\"\"},\"caxis\":{\"gridcolor\":\"white\",\"linecolor\":\"white\",\"ticks\":\"\"}},\"coloraxis\":{\"colorbar\":{\"outlinewidth\":0,\"ticks\":\"\"}},\"colorscale\":{\"sequential\":[[0.0,\"#0d0887\"],[0.1111111111111111,\"#46039f\"],[0.2222222222222222,\"#7201a8\"],[0.3333333333333333,\"#9c179e\"],[0.4444444444444444,\"#bd3786\"],[0.5555555555555556,\"#d8576b\"],[0.6666666666666666,\"#ed7953\"],[0.7777777777777778,\"#fb9f3a\"],[0.8888888888888888,\"#fdca26\"],[1.0,\"#f0f921\"]],\"sequentialminus\":[[0.0,\"#0d0887\"],[0.1111111111111111,\"#46039f\"],[0.2222222222222222,\"#7201a8\"],[0.3333333333333333,\"#9c179e\"],[0.4444444444444444,\"#bd3786\"],[0.5555555555555556,\"#d8576b\"],[0.6666666666666666,\"#ed7953\"],[0.7777777777777778,\"#fb9f3a\"],[0.8888888888888888,\"#fdca26\"],[1.0,\"#f0f921\"]],\"diverging\":[[0,\"#8e0152\"],[0.1,\"#c51b7d\"],[0.2,\"#de77ae\"],[0.3,\"#f1b6da\"],[0.4,\"#fde0ef\"],[0.5,\"#f7f7f7\"],[0.6,\"#e6f5d0\"],[0.7,\"#b8e186\"],[0.8,\"#7fbc41\"],[0.9,\"#4d9221\"],[1,\"#276419\"]]},\"xaxis\":{\"gridcolor\":\"white\",\"linecolor\":\"white\",\"ticks\":\"\",\"title\":{\"standoff\":15},\"zerolinecolor\":\"white\",\"automargin\":true,\"zerolinewidth\":2},\"yaxis\":{\"gridcolor\":\"white\",\"linecolor\":\"white\",\"ticks\":\"\",\"title\":{\"standoff\":15},\"zerolinecolor\":\"white\",\"automargin\":true,\"zerolinewidth\":2},\"scene\":{\"xaxis\":{\"backgroundcolor\":\"#E5ECF6\",\"gridcolor\":\"white\",\"linecolor\":\"white\",\"showbackground\":true,\"ticks\":\"\",\"zerolinecolor\":\"white\",\"gridwidth\":2},\"yaxis\":{\"backgroundcolor\":\"#E5ECF6\",\"gridcolor\":\"white\",\"linecolor\":\"white\",\"showbackground\":true,\"ticks\":\"\",\"zerolinecolor\":\"white\",\"gridwidth\":2},\"zaxis\":{\"backgroundcolor\":\"#E5ECF6\",\"gridcolor\":\"white\",\"linecolor\":\"white\",\"showbackground\":true,\"ticks\":\"\",\"zerolinecolor\":\"white\",\"gridwidth\":2}},\"shapedefaults\":{\"line\":{\"color\":\"#2a3f5f\"}},\"annotationdefaults\":{\"arrowcolor\":\"#2a3f5f\",\"arrowhead\":0,\"arrowwidth\":1},\"geo\":{\"bgcolor\":\"white\",\"landcolor\":\"#E5ECF6\",\"subunitcolor\":\"white\",\"showland\":true,\"showlakes\":true,\"lakecolor\":\"white\"},\"title\":{\"x\":0.05},\"mapbox\":{\"style\":\"light\"}}},\"xaxis\":{\"anchor\":\"y\",\"domain\":[0.0,1.0],\"title\":{\"text\":\"Number of trees\"}},\"yaxis\":{\"anchor\":\"x\",\"domain\":[0.0,1.0],\"title\":{\"text\":\"RMSE\"}},\"legend\":{\"tracegroupgap\":0},\"title\":{\"text\":\"train RMSE vs. dev RMSE\"}},                        {\"responsive\": true}                    ).then(function(){\n",
              "                            \n",
              "var gd = document.getElementById('3ac78274-5724-4f38-88fc-aadf69ee58e9');\n",
              "var x = new MutationObserver(function (mutations, observer) {{\n",
              "        var display = window.getComputedStyle(gd).display;\n",
              "        if (!display || display === 'none') {{\n",
              "            console.log([gd, 'removed!']);\n",
              "            Plotly.purge(gd);\n",
              "            observer.disconnect();\n",
              "        }}\n",
              "}});\n",
              "\n",
              "// Listen for the removal of the full notebook cells\n",
              "var notebookContainer = gd.closest('#notebook-container');\n",
              "if (notebookContainer) {{\n",
              "    x.observe(notebookContainer, {childList: true});\n",
              "}}\n",
              "\n",
              "// Listen for the clearing of the current output cell\n",
              "var outputEl = gd.closest('.output');\n",
              "if (outputEl) {{\n",
              "    x.observe(outputEl, {childList: true});\n",
              "}}\n",
              "\n",
              "                        })                };                            </script>        </div>\n",
              "</body>\n",
              "</html>"
            ]
          },
          "metadata": {}
        }
      ]
    },
    {
      "cell_type": "markdown",
      "source": [
        "To get an understanding of our model and also to check for plausibility (e.g., did the model pick up correct patterns) we plot the feature importance with the `shap` library."
      ],
      "metadata": {
        "id": "3DncApmZuA7q"
      },
      "id": "3DncApmZuA7q"
    },
    {
      "cell_type": "code",
      "source": [
        "# Explain model predictions using shap library:\n",
        "explainer = shap.TreeExplainer(xg_reg)\n",
        "shap_values = explainer.shap_values(X_train_scaled)\n",
        "\n",
        "# Plot summary_plot as barplot:\n",
        "shap.summary_plot(shap_values, X_train_scaled, feature_names=features, plot_type='bar', plot_size=[15,5])"
      ],
      "metadata": {
        "id": "5Z6rHfVAuAUr",
        "outputId": "17da9893-c7cd-4375-f49a-757dbb1970fa",
        "colab": {
          "base_uri": "https://localhost:8080/",
          "height": 398
        }
      },
      "id": "5Z6rHfVAuAUr",
      "execution_count": null,
      "outputs": [
        {
          "output_type": "display_data",
          "data": {
            "text/plain": [
              "<Figure size 1500x500 with 1 Axes>"
            ],
            "image/png": "[encoded data removed]"
          },
          "metadata": {}
        }
      ]
    },
    {
      "cell_type": "markdown",
      "source": [
        "This plot tells us, that the most important features for the model output are `week_sin`, `tmax`, `month_sin`, and `transformed_vacation`. This seems reasonable since we have seen a weekly periodicity and `tmax` having the highest correlation."
      ],
      "metadata": {
        "id": "ugcPJDRyx7QG"
      },
      "id": "ugcPJDRyx7QG"
    },
    {
      "cell_type": "markdown",
      "metadata": {
        "id": "3OdgdY9AaZSh"
      },
      "source": [
        "<a name=\"6.2.3.\"></a>\n",
        "### 6.2.3. Results\n",
        "[Content](#content)"
      ],
      "id": "3OdgdY9AaZSh"
    },
    {
      "cell_type": "markdown",
      "source": [
        "The best RMSE score of our baseline models is $2.033$. With the simple XGBoost model we were able to get a RMSE score of $1.544$ for the dev set and even a RMSE score of $1.400$ for the test set. The better performance for the test set, could be due to a greater similarity of the year 2022 to the training period compared to the year 2021.\n",
        "\n",
        "Our model performs therefore $31\\%$ better than our best baseline model. The most important features for this are the weekly and monthly periodicity and the maximum temperature forecast as well as the label vacation."
      ],
      "metadata": {
        "id": "oKJz5Ao0afU1"
      },
      "id": "oKJz5Ao0afU1"
    },
    {
      "cell_type": "markdown",
      "id": "fOFZ5oXgTT7V",
      "metadata": {
        "id": "fOFZ5oXgTT7V"
      },
      "source": [
        "<a name=\"6.3.\"></a>\n",
        "## 6.3. Multilayer Perceptron\n",
        "[Content](#content)"
      ]
    },
    {
      "cell_type": "markdown",
      "source": [
        "First we create the model."
      ],
      "metadata": {
        "id": "M1AusF3lXH7Z"
      },
      "id": "M1AusF3lXH7Z"
    },
    {
      "cell_type": "markdown",
      "metadata": {
        "id": "vkE4V2ZgQgzV"
      },
      "source": [
        "<a name=\"6.3.1.\"></a>\n",
        "### 6.3.1. Train the model and evaluate\n",
        "[Content](#content)"
      ],
      "id": "vkE4V2ZgQgzV"
    },
    {
      "cell_type": "code",
      "execution_count": null,
      "id": "CFbCaX6sKhZF",
      "metadata": {
        "id": "CFbCaX6sKhZF",
        "colab": {
          "base_uri": "https://localhost:8080/"
        },
        "outputId": "8e0da1b2-c1b8-43af-aff5-a865ad121896"
      },
      "outputs": [
        {
          "output_type": "stream",
          "name": "stdout",
          "text": [
            "Model: \"sequential_5\"\n",
            "_________________________________________________________________\n",
            " Layer (type)                Output Shape              Param #   \n",
            "=================================================================\n",
            " dense_8 (Dense)             (None, 128)               3072      \n",
            "                                                                 \n",
            " dropout (Dropout)           (None, 128)               0         \n",
            "                                                                 \n",
            " dense_9 (Dense)             (None, 64)                8256      \n",
            "                                                                 \n",
            " dropout_1 (Dropout)         (None, 64)                0         \n",
            "                                                                 \n",
            " dense_10 (Dense)            (None, 1)                 65        \n",
            "                                                                 \n",
            "=================================================================\n",
            "Total params: 11,393\n",
            "Trainable params: 11,393\n",
            "Non-trainable params: 0\n",
            "_________________________________________________________________\n",
            "None\n"
          ]
        }
      ],
      "source": [
        "dropout = 0.2 # 0.2 best\n",
        "\n",
        "# Define the architecture of the MLP\n",
        "model_mlp = Sequential()\n",
        "\n",
        "model_mlp.add(Input(shape=(len(features),)))\n",
        "model_mlp.add(Dense(units=128, activation='relu'))\n",
        "model_mlp.add(Dropout(dropout))\n",
        "model_mlp.add(Dense(units=64, activation='relu'))\n",
        "model_mlp.add(Dropout(dropout))\n",
        "model_mlp.add(Dense(units=1, activation='linear'))\n",
        "\n",
        "# Compile the model with mean squared error (MSE) loss, and root mean square error (RMSE) as metric\n",
        "# Use Adam optimizer with learning rate\n",
        "optimizer = Adam(learning_rate=0.001)\n",
        "model_mlp.compile(optimizer=optimizer, loss='mse', metrics=[RootMeanSquaredError()])\n",
        "\n",
        "print(model_mlp.summary())"
      ]
    },
    {
      "cell_type": "markdown",
      "source": [
        "Next we train the model and save the weights into a file. That way we can later use the weights without retraining and/or can continue training. We only save the weights, which means the model architecture is not allowed to change."
      ],
      "metadata": {
        "id": "X5o8dJEsXMHp"
      },
      "id": "X5o8dJEsXMHp"
    },
    {
      "cell_type": "code",
      "source": [
        "# Uncomment for loading the weights\n",
        "\n",
        "# Select the weights to be loaded\n",
        "#file_name = \"2023-08-27_weights_model_mlp\"\n",
        "\n",
        "#model_mlp.load_weights(file_name)\n",
        "\n",
        "\n",
        "# Train the model and save the learning history, use x_dev and y_dev for validation\n",
        "history = model_mlp.fit(X_train_scaled, y_train, epochs=100, batch_size=32, validation_data=(X_dev_scaled, y_dev))\n",
        "\n",
        "# Save the weights\n",
        "date = datetime.date.today()\n",
        "file_name = f\"{date}\" + \"_weights_model_mlp\"\n",
        "model_mlp.save_weights(file_name, save_format=\"h5\")"
      ],
      "metadata": {
        "id": "niYuivy2WCss",
        "outputId": "53e1fba6-efa0-4cf4-a2bc-4f45f9c66012",
        "colab": {
          "base_uri": "https://localhost:8080/"
        }
      },
      "id": "niYuivy2WCss",
      "execution_count": null,
      "outputs": [
        {
          "output_type": "stream",
          "name": "stdout",
          "text": [
            "Epoch 1/100\n",
            "92/92 [==============================] - 0s 4ms/step - loss: 2182612.0000 - root_mean_squared_error: 1477.3666 - val_loss: 2571597.2500 - val_root_mean_squared_error: 1603.6200\n",
            "Epoch 2/100\n",
            "92/92 [==============================] - 0s 5ms/step - loss: 2191726.2500 - root_mean_squared_error: 1480.4480 - val_loss: 2604707.7500 - val_root_mean_squared_error: 1613.9106\n",
            "Epoch 3/100\n",
            "92/92 [==============================] - 0s 4ms/step - loss: 2135774.2500 - root_mean_squared_error: 1461.4288 - val_loss: 2579542.7500 - val_root_mean_squared_error: 1606.0955\n",
            "Epoch 4/100\n",
            "92/92 [==============================] - 0s 3ms/step - loss: 2272547.0000 - root_mean_squared_error: 1507.4969 - val_loss: 2586348.7500 - val_root_mean_squared_error: 1608.2129\n",
            "Epoch 5/100\n",
            "92/92 [==============================] - 0s 3ms/step - loss: 2104870.5000 - root_mean_squared_error: 1450.8171 - val_loss: 2587111.5000 - val_root_mean_squared_error: 1608.4501\n",
            "Epoch 6/100\n",
            "92/92 [==============================] - 0s 3ms/step - loss: 2138141.7500 - root_mean_squared_error: 1462.2386 - val_loss: 2604111.0000 - val_root_mean_squared_error: 1613.7258\n",
            "Epoch 7/100\n",
            "92/92 [==============================] - 0s 4ms/step - loss: 2211177.2500 - root_mean_squared_error: 1487.0028 - val_loss: 2594127.7500 - val_root_mean_squared_error: 1610.6296\n",
            "Epoch 8/100\n",
            "92/92 [==============================] - 0s 3ms/step - loss: 2240489.7500 - root_mean_squared_error: 1496.8265 - val_loss: 2575935.5000 - val_root_mean_squared_error: 1604.9722\n",
            "Epoch 9/100\n",
            "92/92 [==============================] - 0s 3ms/step - loss: 2288675.2500 - root_mean_squared_error: 1512.8368 - val_loss: 2601452.2500 - val_root_mean_squared_error: 1612.9019\n",
            "Epoch 10/100\n",
            "92/92 [==============================] - 0s 3ms/step - loss: 2225377.0000 - root_mean_squared_error: 1491.7698 - val_loss: 2591663.5000 - val_root_mean_squared_error: 1609.8644\n",
            "Epoch 11/100\n",
            "92/92 [==============================] - 0s 3ms/step - loss: 2164117.5000 - root_mean_squared_error: 1471.0940 - val_loss: 2592606.7500 - val_root_mean_squared_error: 1610.1573\n",
            "Epoch 12/100\n",
            "92/92 [==============================] - 0s 3ms/step - loss: 2127244.0000 - root_mean_squared_error: 1458.5074 - val_loss: 2595409.0000 - val_root_mean_squared_error: 1611.0273\n",
            "Epoch 13/100\n",
            "92/92 [==============================] - 0s 3ms/step - loss: 2145553.0000 - root_mean_squared_error: 1464.7706 - val_loss: 2597037.5000 - val_root_mean_squared_error: 1611.5327\n",
            "Epoch 14/100\n",
            "92/92 [==============================] - 0s 3ms/step - loss: 2218486.2500 - root_mean_squared_error: 1489.4584 - val_loss: 2574947.7500 - val_root_mean_squared_error: 1604.6644\n",
            "Epoch 15/100\n",
            "92/92 [==============================] - 0s 3ms/step - loss: 2187403.5000 - root_mean_squared_error: 1478.9873 - val_loss: 2585826.2500 - val_root_mean_squared_error: 1608.0504\n",
            "Epoch 16/100\n",
            "92/92 [==============================] - 0s 3ms/step - loss: 2171985.0000 - root_mean_squared_error: 1473.7656 - val_loss: 2578346.7500 - val_root_mean_squared_error: 1605.7231\n",
            "Epoch 17/100\n",
            "92/92 [==============================] - 0s 3ms/step - loss: 2150478.7500 - root_mean_squared_error: 1466.4510 - val_loss: 2612442.7500 - val_root_mean_squared_error: 1616.3053\n",
            "Epoch 18/100\n",
            "92/92 [==============================] - 0s 3ms/step - loss: 2152912.2500 - root_mean_squared_error: 1467.2805 - val_loss: 2590780.2500 - val_root_mean_squared_error: 1609.5901\n",
            "Epoch 19/100\n",
            "92/92 [==============================] - 0s 3ms/step - loss: 2142494.0000 - root_mean_squared_error: 1463.7261 - val_loss: 2606550.0000 - val_root_mean_squared_error: 1614.4813\n",
            "Epoch 20/100\n",
            "92/92 [==============================] - 0s 3ms/step - loss: 2213373.7500 - root_mean_squared_error: 1487.7412 - val_loss: 2579410.5000 - val_root_mean_squared_error: 1606.0543\n",
            "Epoch 21/100\n",
            "92/92 [==============================] - 0s 3ms/step - loss: 2238483.5000 - root_mean_squared_error: 1496.1562 - val_loss: 2587470.5000 - val_root_mean_squared_error: 1608.5616\n",
            "Epoch 22/100\n",
            "92/92 [==============================] - 0s 3ms/step - loss: 2171170.5000 - root_mean_squared_error: 1473.4893 - val_loss: 2604733.0000 - val_root_mean_squared_error: 1613.9186\n",
            "Epoch 23/100\n",
            "92/92 [==============================] - 0s 3ms/step - loss: 2155908.5000 - root_mean_squared_error: 1468.3013 - val_loss: 2595899.5000 - val_root_mean_squared_error: 1611.1796\n",
            "Epoch 24/100\n",
            "92/92 [==============================] - 0s 3ms/step - loss: 2158695.2500 - root_mean_squared_error: 1469.2499 - val_loss: 2575056.2500 - val_root_mean_squared_error: 1604.6981\n",
            "Epoch 25/100\n",
            "92/92 [==============================] - 0s 3ms/step - loss: 2198052.5000 - root_mean_squared_error: 1482.5830 - val_loss: 2596955.0000 - val_root_mean_squared_error: 1611.5071\n",
            "Epoch 26/100\n",
            "92/92 [==============================] - 0s 3ms/step - loss: 2145541.2500 - root_mean_squared_error: 1464.7666 - val_loss: 2579282.0000 - val_root_mean_squared_error: 1606.0143\n",
            "Epoch 27/100\n",
            "92/92 [==============================] - 1s 5ms/step - loss: 2198501.2500 - root_mean_squared_error: 1482.7344 - val_loss: 2597086.2500 - val_root_mean_squared_error: 1611.5477\n",
            "Epoch 28/100\n",
            "92/92 [==============================] - 0s 5ms/step - loss: 2163934.2500 - root_mean_squared_error: 1471.0317 - val_loss: 2574113.7500 - val_root_mean_squared_error: 1604.4045\n",
            "Epoch 29/100\n",
            "92/92 [==============================] - 1s 6ms/step - loss: 2156980.0000 - root_mean_squared_error: 1468.6660 - val_loss: 2587944.0000 - val_root_mean_squared_error: 1608.7087\n",
            "Epoch 30/100\n",
            "92/92 [==============================] - 1s 6ms/step - loss: 2164543.2500 - root_mean_squared_error: 1471.2386 - val_loss: 2581134.7500 - val_root_mean_squared_error: 1606.5911\n",
            "Epoch 31/100\n",
            "92/92 [==============================] - 1s 6ms/step - loss: 2158317.7500 - root_mean_squared_error: 1469.1215 - val_loss: 2584042.2500 - val_root_mean_squared_error: 1607.4956\n",
            "Epoch 32/100\n",
            "92/92 [==============================] - 0s 5ms/step - loss: 2124448.0000 - root_mean_squared_error: 1457.5486 - val_loss: 2582197.7500 - val_root_mean_squared_error: 1606.9219\n",
            "Epoch 33/100\n",
            "92/92 [==============================] - 0s 3ms/step - loss: 2193373.5000 - root_mean_squared_error: 1481.0043 - val_loss: 2593939.0000 - val_root_mean_squared_error: 1610.5710\n",
            "Epoch 34/100\n",
            "92/92 [==============================] - 0s 3ms/step - loss: 2103103.0000 - root_mean_squared_error: 1450.2079 - val_loss: 2587094.7500 - val_root_mean_squared_error: 1608.4448\n",
            "Epoch 35/100\n",
            "92/92 [==============================] - 0s 3ms/step - loss: 2195777.2500 - root_mean_squared_error: 1481.8156 - val_loss: 2569725.5000 - val_root_mean_squared_error: 1603.0364\n",
            "Epoch 36/100\n",
            "92/92 [==============================] - 0s 4ms/step - loss: 2125182.2500 - root_mean_squared_error: 1457.8005 - val_loss: 2580330.5000 - val_root_mean_squared_error: 1606.3407\n",
            "Epoch 37/100\n",
            "92/92 [==============================] - 0s 3ms/step - loss: 2182451.5000 - root_mean_squared_error: 1477.3123 - val_loss: 2569699.0000 - val_root_mean_squared_error: 1603.0281\n",
            "Epoch 38/100\n",
            "92/92 [==============================] - 0s 3ms/step - loss: 2154821.5000 - root_mean_squared_error: 1467.9310 - val_loss: 2604122.7500 - val_root_mean_squared_error: 1613.7295\n",
            "Epoch 39/100\n",
            "92/92 [==============================] - 0s 3ms/step - loss: 2186291.5000 - root_mean_squared_error: 1478.6113 - val_loss: 2575231.5000 - val_root_mean_squared_error: 1604.7528\n",
            "Epoch 40/100\n",
            "92/92 [==============================] - 0s 3ms/step - loss: 2169817.5000 - root_mean_squared_error: 1473.0300 - val_loss: 2594716.7500 - val_root_mean_squared_error: 1610.8125\n",
            "Epoch 41/100\n",
            "92/92 [==============================] - 0s 3ms/step - loss: 2216930.5000 - root_mean_squared_error: 1488.9360 - val_loss: 2585517.2500 - val_root_mean_squared_error: 1607.9543\n",
            "Epoch 42/100\n",
            "92/92 [==============================] - 0s 4ms/step - loss: 2195483.7500 - root_mean_squared_error: 1481.7164 - val_loss: 2580757.7500 - val_root_mean_squared_error: 1606.4738\n",
            "Epoch 43/100\n",
            "92/92 [==============================] - 0s 3ms/step - loss: 2146774.0000 - root_mean_squared_error: 1465.1874 - val_loss: 2567475.0000 - val_root_mean_squared_error: 1602.3342\n",
            "Epoch 44/100\n",
            "92/92 [==============================] - 0s 3ms/step - loss: 2228524.7500 - root_mean_squared_error: 1492.8245 - val_loss: 2593409.7500 - val_root_mean_squared_error: 1610.4067\n",
            "Epoch 45/100\n",
            "92/92 [==============================] - 0s 3ms/step - loss: 2127694.0000 - root_mean_squared_error: 1458.6617 - val_loss: 2571723.5000 - val_root_mean_squared_error: 1603.6594\n",
            "Epoch 46/100\n",
            "92/92 [==============================] - 0s 3ms/step - loss: 2134733.0000 - root_mean_squared_error: 1461.0725 - val_loss: 2564155.0000 - val_root_mean_squared_error: 1601.2979\n",
            "Epoch 47/100\n",
            "92/92 [==============================] - 0s 3ms/step - loss: 2163367.5000 - root_mean_squared_error: 1470.8390 - val_loss: 2554618.2500 - val_root_mean_squared_error: 1598.3173\n",
            "Epoch 48/100\n",
            "92/92 [==============================] - 0s 4ms/step - loss: 2123228.5000 - root_mean_squared_error: 1457.1302 - val_loss: 2601787.5000 - val_root_mean_squared_error: 1613.0057\n",
            "Epoch 49/100\n",
            "92/92 [==============================] - 0s 3ms/step - loss: 2228117.2500 - root_mean_squared_error: 1492.6880 - val_loss: 2564536.5000 - val_root_mean_squared_error: 1601.4170\n",
            "Epoch 50/100\n",
            "92/92 [==============================] - 0s 4ms/step - loss: 2136586.5000 - root_mean_squared_error: 1461.7067 - val_loss: 2561416.0000 - val_root_mean_squared_error: 1600.4424\n",
            "Epoch 51/100\n",
            "92/92 [==============================] - 0s 3ms/step - loss: 2187688.5000 - root_mean_squared_error: 1479.0836 - val_loss: 2565468.5000 - val_root_mean_squared_error: 1601.7080\n",
            "Epoch 52/100\n",
            "92/92 [==============================] - 0s 3ms/step - loss: 2207526.7500 - root_mean_squared_error: 1485.7748 - val_loss: 2574853.5000 - val_root_mean_squared_error: 1604.6350\n",
            "Epoch 53/100\n",
            "92/92 [==============================] - 0s 4ms/step - loss: 2149528.5000 - root_mean_squared_error: 1466.1271 - val_loss: 2593199.0000 - val_root_mean_squared_error: 1610.3413\n",
            "Epoch 54/100\n",
            "92/92 [==============================] - 0s 3ms/step - loss: 2161295.2500 - root_mean_squared_error: 1470.1344 - val_loss: 2589497.2500 - val_root_mean_squared_error: 1609.1915\n",
            "Epoch 55/100\n",
            "92/92 [==============================] - 0s 3ms/step - loss: 2127746.7500 - root_mean_squared_error: 1458.6798 - val_loss: 2581778.2500 - val_root_mean_squared_error: 1606.7913\n",
            "Epoch 56/100\n",
            "92/92 [==============================] - 0s 4ms/step - loss: 2174346.0000 - root_mean_squared_error: 1474.5664 - val_loss: 2580248.7500 - val_root_mean_squared_error: 1606.3153\n",
            "Epoch 57/100\n",
            "92/92 [==============================] - 0s 4ms/step - loss: 2161192.7500 - root_mean_squared_error: 1470.0996 - val_loss: 2579432.7500 - val_root_mean_squared_error: 1606.0613\n",
            "Epoch 58/100\n",
            "92/92 [==============================] - 0s 3ms/step - loss: 2138167.7500 - root_mean_squared_error: 1462.2476 - val_loss: 2607666.0000 - val_root_mean_squared_error: 1614.8269\n",
            "Epoch 59/100\n",
            "92/92 [==============================] - 0s 3ms/step - loss: 2146768.7500 - root_mean_squared_error: 1465.1855 - val_loss: 2564717.5000 - val_root_mean_squared_error: 1601.4735\n",
            "Epoch 60/100\n",
            "92/92 [==============================] - 0s 4ms/step - loss: 2100131.5000 - root_mean_squared_error: 1449.1831 - val_loss: 2571224.7500 - val_root_mean_squared_error: 1603.5039\n",
            "Epoch 61/100\n",
            "92/92 [==============================] - 0s 3ms/step - loss: 2148833.2500 - root_mean_squared_error: 1465.8899 - val_loss: 2580743.2500 - val_root_mean_squared_error: 1606.4692\n",
            "Epoch 62/100\n",
            "92/92 [==============================] - 0s 3ms/step - loss: 2197769.5000 - root_mean_squared_error: 1482.4875 - val_loss: 2548551.5000 - val_root_mean_squared_error: 1596.4183\n",
            "Epoch 63/100\n",
            "92/92 [==============================] - 0s 4ms/step - loss: 2160955.7500 - root_mean_squared_error: 1470.0189 - val_loss: 2552306.2500 - val_root_mean_squared_error: 1597.5939\n",
            "Epoch 64/100\n",
            "92/92 [==============================] - 0s 5ms/step - loss: 2120969.2500 - root_mean_squared_error: 1456.3547 - val_loss: 2539886.7500 - val_root_mean_squared_error: 1593.7023\n",
            "Epoch 65/100\n",
            "92/92 [==============================] - 1s 5ms/step - loss: 2279871.2500 - root_mean_squared_error: 1509.9242 - val_loss: 2552710.0000 - val_root_mean_squared_error: 1597.7202\n",
            "Epoch 66/100\n",
            "92/92 [==============================] - 0s 5ms/step - loss: 2146272.0000 - root_mean_squared_error: 1465.0160 - val_loss: 2561963.5000 - val_root_mean_squared_error: 1600.6135\n",
            "Epoch 67/100\n",
            "92/92 [==============================] - 1s 6ms/step - loss: 2193114.7500 - root_mean_squared_error: 1480.9169 - val_loss: 2553914.5000 - val_root_mean_squared_error: 1598.0972\n",
            "Epoch 68/100\n",
            "92/92 [==============================] - 1s 6ms/step - loss: 2149861.2500 - root_mean_squared_error: 1466.2405 - val_loss: 2560127.2500 - val_root_mean_squared_error: 1600.0398\n",
            "Epoch 69/100\n",
            "92/92 [==============================] - 0s 5ms/step - loss: 2142026.0000 - root_mean_squared_error: 1463.5662 - val_loss: 2585764.5000 - val_root_mean_squared_error: 1608.0312\n",
            "Epoch 70/100\n",
            "92/92 [==============================] - 0s 3ms/step - loss: 2084757.3750 - root_mean_squared_error: 1443.8689 - val_loss: 2550579.2500 - val_root_mean_squared_error: 1597.0533\n",
            "Epoch 71/100\n",
            "92/92 [==============================] - 0s 3ms/step - loss: 2108062.5000 - root_mean_squared_error: 1451.9169 - val_loss: 2550676.2500 - val_root_mean_squared_error: 1597.0836\n",
            "Epoch 72/100\n",
            "92/92 [==============================] - 0s 4ms/step - loss: 2123738.0000 - root_mean_squared_error: 1457.3051 - val_loss: 2539771.7500 - val_root_mean_squared_error: 1593.6661\n",
            "Epoch 73/100\n",
            "92/92 [==============================] - 0s 4ms/step - loss: 2183564.2500 - root_mean_squared_error: 1477.6888 - val_loss: 2535239.2500 - val_root_mean_squared_error: 1592.2434\n",
            "Epoch 74/100\n",
            "92/92 [==============================] - 0s 3ms/step - loss: 2154133.7500 - root_mean_squared_error: 1467.6968 - val_loss: 2585202.7500 - val_root_mean_squared_error: 1607.8566\n",
            "Epoch 75/100\n",
            "92/92 [==============================] - 0s 4ms/step - loss: 2156194.2500 - root_mean_squared_error: 1468.3986 - val_loss: 2557653.2500 - val_root_mean_squared_error: 1599.2665\n",
            "Epoch 76/100\n",
            "92/92 [==============================] - 0s 3ms/step - loss: 2171272.7500 - root_mean_squared_error: 1473.5239 - val_loss: 2567557.2500 - val_root_mean_squared_error: 1602.3599\n",
            "Epoch 77/100\n",
            "92/92 [==============================] - 0s 3ms/step - loss: 2162507.0000 - root_mean_squared_error: 1470.5465 - val_loss: 2552484.0000 - val_root_mean_squared_error: 1597.6495\n",
            "Epoch 78/100\n",
            "92/92 [==============================] - 0s 4ms/step - loss: 2092222.0000 - root_mean_squared_error: 1446.4515 - val_loss: 2548446.0000 - val_root_mean_squared_error: 1596.3853\n",
            "Epoch 79/100\n",
            "92/92 [==============================] - 0s 3ms/step - loss: 2175599.2500 - root_mean_squared_error: 1474.9912 - val_loss: 2552424.2500 - val_root_mean_squared_error: 1597.6309\n",
            "Epoch 80/100\n",
            "92/92 [==============================] - 0s 3ms/step - loss: 2179488.5000 - root_mean_squared_error: 1476.3091 - val_loss: 2562304.5000 - val_root_mean_squared_error: 1600.7200\n",
            "Epoch 81/100\n",
            "92/92 [==============================] - 0s 3ms/step - loss: 2034879.8750 - root_mean_squared_error: 1426.4922 - val_loss: 2552116.2500 - val_root_mean_squared_error: 1597.5344\n",
            "Epoch 82/100\n",
            "92/92 [==============================] - 0s 3ms/step - loss: 2199626.7500 - root_mean_squared_error: 1483.1139 - val_loss: 2558497.2500 - val_root_mean_squared_error: 1599.5303\n",
            "Epoch 83/100\n",
            "92/92 [==============================] - 0s 3ms/step - loss: 2176930.7500 - root_mean_squared_error: 1475.4425 - val_loss: 2548499.0000 - val_root_mean_squared_error: 1596.4019\n",
            "Epoch 84/100\n",
            "92/92 [==============================] - 0s 3ms/step - loss: 2124417.2500 - root_mean_squared_error: 1457.5381 - val_loss: 2551521.7500 - val_root_mean_squared_error: 1597.3484\n",
            "Epoch 85/100\n",
            "92/92 [==============================] - 0s 3ms/step - loss: 2086811.2500 - root_mean_squared_error: 1444.5800 - val_loss: 2558161.0000 - val_root_mean_squared_error: 1599.4252\n",
            "Epoch 86/100\n",
            "92/92 [==============================] - 0s 3ms/step - loss: 2137214.0000 - root_mean_squared_error: 1461.9214 - val_loss: 2553153.5000 - val_root_mean_squared_error: 1597.8590\n",
            "Epoch 87/100\n",
            "92/92 [==============================] - 0s 3ms/step - loss: 2175045.0000 - root_mean_squared_error: 1474.8033 - val_loss: 2567035.0000 - val_root_mean_squared_error: 1602.1969\n",
            "Epoch 88/100\n",
            "92/92 [==============================] - 0s 3ms/step - loss: 2158477.0000 - root_mean_squared_error: 1469.1757 - val_loss: 2575265.2500 - val_root_mean_squared_error: 1604.7633\n",
            "Epoch 89/100\n",
            "92/92 [==============================] - 0s 3ms/step - loss: 2158562.2500 - root_mean_squared_error: 1469.2046 - val_loss: 2579400.0000 - val_root_mean_squared_error: 1606.0510\n",
            "Epoch 90/100\n",
            "92/92 [==============================] - 0s 3ms/step - loss: 2111388.5000 - root_mean_squared_error: 1453.0618 - val_loss: 2576412.2500 - val_root_mean_squared_error: 1605.1206\n",
            "Epoch 91/100\n",
            "92/92 [==============================] - 0s 4ms/step - loss: 2152778.5000 - root_mean_squared_error: 1467.2350 - val_loss: 2578265.2500 - val_root_mean_squared_error: 1605.6978\n",
            "Epoch 92/100\n",
            "92/92 [==============================] - 0s 3ms/step - loss: 2175069.0000 - root_mean_squared_error: 1474.8115 - val_loss: 2597590.7500 - val_root_mean_squared_error: 1611.7043\n",
            "Epoch 93/100\n",
            "92/92 [==============================] - 0s 3ms/step - loss: 2089021.5000 - root_mean_squared_error: 1445.3447 - val_loss: 2578166.5000 - val_root_mean_squared_error: 1605.6670\n",
            "Epoch 94/100\n",
            "92/92 [==============================] - 0s 4ms/step - loss: 2204331.0000 - root_mean_squared_error: 1484.6990 - val_loss: 2595883.0000 - val_root_mean_squared_error: 1611.1744\n",
            "Epoch 95/100\n",
            "92/92 [==============================] - 0s 3ms/step - loss: 2133288.7500 - root_mean_squared_error: 1460.5782 - val_loss: 2591263.7500 - val_root_mean_squared_error: 1609.7402\n",
            "Epoch 96/100\n",
            "92/92 [==============================] - 0s 3ms/step - loss: 2107427.0000 - root_mean_squared_error: 1451.6980 - val_loss: 2570986.5000 - val_root_mean_squared_error: 1603.4296\n",
            "Epoch 97/100\n",
            "92/92 [==============================] - 0s 4ms/step - loss: 2121349.0000 - root_mean_squared_error: 1456.4851 - val_loss: 2561191.7500 - val_root_mean_squared_error: 1600.3724\n",
            "Epoch 98/100\n",
            "92/92 [==============================] - 0s 3ms/step - loss: 2119884.0000 - root_mean_squared_error: 1455.9822 - val_loss: 2541974.7500 - val_root_mean_squared_error: 1594.3572\n",
            "Epoch 99/100\n",
            "92/92 [==============================] - 0s 3ms/step - loss: 2129767.2500 - root_mean_squared_error: 1459.3722 - val_loss: 2552567.5000 - val_root_mean_squared_error: 1597.6757\n",
            "Epoch 100/100\n",
            "92/92 [==============================] - 0s 3ms/step - loss: 2132342.0000 - root_mean_squared_error: 1460.2540 - val_loss: 2542757.7500 - val_root_mean_squared_error: 1594.6027\n"
          ]
        }
      ]
    },
    {
      "cell_type": "code",
      "execution_count": null,
      "id": "RhbEPgSPsXCy",
      "metadata": {
        "id": "RhbEPgSPsXCy",
        "colab": {
          "base_uri": "https://localhost:8080/",
          "height": 542
        },
        "outputId": "57676791-d5cb-4c14-8fd7-c60b8fb07083"
      },
      "outputs": [
        {
          "output_type": "display_data",
          "data": {
            "text/html": [
              "<html>\n",
              "<head><meta charset=\"utf-8\" /></head>\n",
              "<body>\n",
              "    <div>            <script src=\"https://cdnjs.cloudflare.com/ajax/libs/mathjax/2.7.5/MathJax.js?config=TeX-AMS-MML_SVG\"></script><script type=\"text/javascript\">if (window.MathJax && window.MathJax.Hub && window.MathJax.Hub.Config) {window.MathJax.Hub.Config({SVG: {font: \"STIX-Web\"}});}</script>                <script type=\"text/javascript\">window.PlotlyConfig = {MathJaxConfig: 'local'};</script>\n",
              "        <script charset=\"utf-8\" src=\"https://cdn.plot.ly/plotly-2.24.1.min.js\"></script>                <div id=\"1f3c1c51-1df0-4e6b-8c0d-2185317b5e85\" class=\"plotly-graph-div\" style=\"height:525px; width:100%;\"></div>            <script type=\"text/javascript\">                                    window.PLOTLYENV=window.PLOTLYENV || {};                                    if (document.getElementById(\"1f3c1c51-1df0-4e6b-8c0d-2185317b5e85\")) {                    Plotly.newPlot(                        \"1f3c1c51-1df0-4e6b-8c0d-2185317b5e85\",                        [{\"hovertemplate\":\"\\u003cextra\\u003e\\u003c\\u002fextra\\u003e\",\"legendgroup\":\"\",\"line\":{\"color\":\"#636efa\",\"dash\":\"solid\"},\"marker\":{\"symbol\":\"circle\"},\"mode\":\"lines\",\"name\":\"\",\"orientation\":\"v\",\"showlegend\":false,\"xaxis\":\"x\",\"yaxis\":\"y\",\"type\":\"scatter\"},{\"line\":{\"color\":\"red\"},\"mode\":\"lines+markers\",\"name\":\"Train RMSE\",\"x\":[1,2,3,4,5,6,7,8,9,10,11,12,13,14,15,16,17,18,19,20,21,22,23,24,25,26,27,28,29,30,31,32,33,34,35,36,37,38,39,40,41,42,43,44,45,46,47,48,49,50,51,52,53,54,55,56,57,58,59,60,61,62,63,64,65,66,67,68,69,70,71,72,73,74,75,76,77,78,79,80,81,82,83,84,85,86,87,88,89,90,91,92,93,94,95,96,97,98,99,100],\"y\":[1477.3665771484375,1480.447998046875,1461.4288330078125,1507.4969482421875,1450.817138671875,1462.2386474609375,1487.0028076171875,1496.8265380859375,1512.8367919921875,1491.769775390625,1471.093994140625,1458.5074462890625,1464.7706298828125,1489.4583740234375,1478.9873046875,1473.765625,1466.4510498046875,1467.280517578125,1463.72607421875,1487.7412109375,1496.15625,1473.4892578125,1468.30126953125,1469.2498779296875,1482.5830078125,1464.7666015625,1482.734375,1471.03173828125,1468.666015625,1471.2386474609375,1469.1214599609375,1457.548583984375,1481.0042724609375,1450.2078857421875,1481.8155517578125,1457.800537109375,1477.312255859375,1467.9310302734375,1478.611328125,1473.030029296875,1488.93603515625,1481.7164306640625,1465.1873779296875,1492.824462890625,1458.6617431640625,1461.072509765625,1470.8389892578125,1457.1302490234375,1492.68798828125,1461.7066650390625,1479.0836181640625,1485.7747802734375,1466.1270751953125,1470.1343994140625,1458.6798095703125,1474.56640625,1470.099609375,1462.24755859375,1465.185546875,1449.18310546875,1465.889892578125,1482.487548828125,1470.0189208984375,1456.354736328125,1509.9241943359375,1465.0159912109375,1480.9168701171875,1466.240478515625,1463.566162109375,1443.868896484375,1451.9168701171875,1457.3050537109375,1477.6888427734375,1467.69677734375,1468.3985595703125,1473.52392578125,1470.5465087890625,1446.4515380859375,1474.9912109375,1476.30908203125,1426.4921875,1483.1138916015625,1475.4425048828125,1457.5380859375,1444.5799560546875,1461.92138671875,1474.8033447265625,1469.1756591796875,1469.20458984375,1453.061767578125,1467.2349853515625,1474.8115234375,1445.3447265625,1484.698974609375,1460.5782470703125,1451.697998046875,1456.485107421875,1455.982177734375,1459.3721923828125,1460.2540283203125],\"type\":\"scatter\"},{\"line\":{\"color\":\"blue\"},\"mode\":\"lines+markers\",\"name\":\"Dev RMSE\",\"x\":[1,2,3,4,5,6,7,8,9,10,11,12,13,14,15,16,17,18,19,20,21,22,23,24,25,26,27,28,29,30,31,32,33,34,35,36,37,38,39,40,41,42,43,44,45,46,47,48,49,50,51,52,53,54,55,56,57,58,59,60,61,62,63,64,65,66,67,68,69,70,71,72,73,74,75,76,77,78,79,80,81,82,83,84,85,86,87,88,89,90,91,92,93,94,95,96,97,98,99,100],\"y\":[1603.6199951171875,1613.91064453125,1606.095458984375,1608.212890625,1608.4500732421875,1613.725830078125,1610.629638671875,1604.97216796875,1612.90185546875,1609.8643798828125,1610.1573486328125,1611.02734375,1611.53271484375,1604.6644287109375,1608.0504150390625,1605.72314453125,1616.3052978515625,1609.590087890625,1614.4813232421875,1606.0543212890625,1608.5616455078125,1613.9185791015625,1611.1795654296875,1604.6981201171875,1611.507080078125,1606.0142822265625,1611.5477294921875,1604.404541015625,1608.708740234375,1606.591064453125,1607.49560546875,1606.921875,1610.571044921875,1608.44482421875,1603.036376953125,1606.3406982421875,1603.028076171875,1613.7294921875,1604.7528076171875,1610.8125,1607.954345703125,1606.4737548828125,1602.334228515625,1610.40673828125,1603.659423828125,1601.2978515625,1598.3172607421875,1613.0057373046875,1601.4169921875,1600.4423828125,1601.7080078125,1604.635009765625,1610.34130859375,1609.1915283203125,1606.791259765625,1606.3153076171875,1606.061279296875,1614.826904296875,1601.4735107421875,1603.50390625,1606.46923828125,1596.4183349609375,1597.5938720703125,1593.7022705078125,1597.72021484375,1600.613525390625,1598.09716796875,1600.039794921875,1608.03125,1597.0533447265625,1597.0836181640625,1593.6661376953125,1592.243408203125,1607.8565673828125,1599.2664794921875,1602.35986328125,1597.6495361328125,1596.38525390625,1597.630859375,1600.719970703125,1597.534423828125,1599.5302734375,1596.40185546875,1597.348388671875,1599.4251708984375,1597.8590087890625,1602.1968994140625,1604.7633056640625,1606.051025390625,1605.12060546875,1605.69775390625,1611.704345703125,1605.6669921875,1611.1744384765625,1609.740234375,1603.4295654296875,1600.3724365234375,1594.357177734375,1597.6756591796875,1594.6026611328125],\"type\":\"scatter\"}],                        {\"template\":{\"data\":{\"histogram2dcontour\":[{\"type\":\"histogram2dcontour\",\"colorbar\":{\"outlinewidth\":0,\"ticks\":\"\"},\"colorscale\":[[0.0,\"#0d0887\"],[0.1111111111111111,\"#46039f\"],[0.2222222222222222,\"#7201a8\"],[0.3333333333333333,\"#9c179e\"],[0.4444444444444444,\"#bd3786\"],[0.5555555555555556,\"#d8576b\"],[0.6666666666666666,\"#ed7953\"],[0.7777777777777778,\"#fb9f3a\"],[0.8888888888888888,\"#fdca26\"],[1.0,\"#f0f921\"]]}],\"choropleth\":[{\"type\":\"choropleth\",\"colorbar\":{\"outlinewidth\":0,\"ticks\":\"\"}}],\"histogram2d\":[{\"type\":\"histogram2d\",\"colorbar\":{\"outlinewidth\":0,\"ticks\":\"\"},\"colorscale\":[[0.0,\"#0d0887\"],[0.1111111111111111,\"#46039f\"],[0.2222222222222222,\"#7201a8\"],[0.3333333333333333,\"#9c179e\"],[0.4444444444444444,\"#bd3786\"],[0.5555555555555556,\"#d8576b\"],[0.6666666666666666,\"#ed7953\"],[0.7777777777777778,\"#fb9f3a\"],[0.8888888888888888,\"#fdca26\"],[1.0,\"#f0f921\"]]}],\"heatmap\":[{\"type\":\"heatmap\",\"colorbar\":{\"outlinewidth\":0,\"ticks\":\"\"},\"colorscale\":[[0.0,\"#0d0887\"],[0.1111111111111111,\"#46039f\"],[0.2222222222222222,\"#7201a8\"],[0.3333333333333333,\"#9c179e\"],[0.4444444444444444,\"#bd3786\"],[0.5555555555555556,\"#d8576b\"],[0.6666666666666666,\"#ed7953\"],[0.7777777777777778,\"#fb9f3a\"],[0.8888888888888888,\"#fdca26\"],[1.0,\"#f0f921\"]]}],\"heatmapgl\":[{\"type\":\"heatmapgl\",\"colorbar\":{\"outlinewidth\":0,\"ticks\":\"\"},\"colorscale\":[[0.0,\"#0d0887\"],[0.1111111111111111,\"#46039f\"],[0.2222222222222222,\"#7201a8\"],[0.3333333333333333,\"#9c179e\"],[0.4444444444444444,\"#bd3786\"],[0.5555555555555556,\"#d8576b\"],[0.6666666666666666,\"#ed7953\"],[0.7777777777777778,\"#fb9f3a\"],[0.8888888888888888,\"#fdca26\"],[1.0,\"#f0f921\"]]}],\"contourcarpet\":[{\"type\":\"contourcarpet\",\"colorbar\":{\"outlinewidth\":0,\"ticks\":\"\"}}],\"contour\":[{\"type\":\"contour\",\"colorbar\":{\"outlinewidth\":0,\"ticks\":\"\"},\"colorscale\":[[0.0,\"#0d0887\"],[0.1111111111111111,\"#46039f\"],[0.2222222222222222,\"#7201a8\"],[0.3333333333333333,\"#9c179e\"],[0.4444444444444444,\"#bd3786\"],[0.5555555555555556,\"#d8576b\"],[0.6666666666666666,\"#ed7953\"],[0.7777777777777778,\"#fb9f3a\"],[0.8888888888888888,\"#fdca26\"],[1.0,\"#f0f921\"]]}],\"surface\":[{\"type\":\"surface\",\"colorbar\":{\"outlinewidth\":0,\"ticks\":\"\"},\"colorscale\":[[0.0,\"#0d0887\"],[0.1111111111111111,\"#46039f\"],[0.2222222222222222,\"#7201a8\"],[0.3333333333333333,\"#9c179e\"],[0.4444444444444444,\"#bd3786\"],[0.5555555555555556,\"#d8576b\"],[0.6666666666666666,\"#ed7953\"],[0.7777777777777778,\"#fb9f3a\"],[0.8888888888888888,\"#fdca26\"],[1.0,\"#f0f921\"]]}],\"mesh3d\":[{\"type\":\"mesh3d\",\"colorbar\":{\"outlinewidth\":0,\"ticks\":\"\"}}],\"scatter\":[{\"fillpattern\":{\"fillmode\":\"overlay\",\"size\":10,\"solidity\":0.2},\"type\":\"scatter\"}],\"parcoords\":[{\"type\":\"parcoords\",\"line\":{\"colorbar\":{\"outlinewidth\":0,\"ticks\":\"\"}}}],\"scatterpolargl\":[{\"type\":\"scatterpolargl\",\"marker\":{\"colorbar\":{\"outlinewidth\":0,\"ticks\":\"\"}}}],\"bar\":[{\"error_x\":{\"color\":\"#2a3f5f\"},\"error_y\":{\"color\":\"#2a3f5f\"},\"marker\":{\"line\":{\"color\":\"#E5ECF6\",\"width\":0.5},\"pattern\":{\"fillmode\":\"overlay\",\"size\":10,\"solidity\":0.2}},\"type\":\"bar\"}],\"scattergeo\":[{\"type\":\"scattergeo\",\"marker\":{\"colorbar\":{\"outlinewidth\":0,\"ticks\":\"\"}}}],\"scatterpolar\":[{\"type\":\"scatterpolar\",\"marker\":{\"colorbar\":{\"outlinewidth\":0,\"ticks\":\"\"}}}],\"histogram\":[{\"marker\":{\"pattern\":{\"fillmode\":\"overlay\",\"size\":10,\"solidity\":0.2}},\"type\":\"histogram\"}],\"scattergl\":[{\"type\":\"scattergl\",\"marker\":{\"colorbar\":{\"outlinewidth\":0,\"ticks\":\"\"}}}],\"scatter3d\":[{\"type\":\"scatter3d\",\"line\":{\"colorbar\":{\"outlinewidth\":0,\"ticks\":\"\"}},\"marker\":{\"colorbar\":{\"outlinewidth\":0,\"ticks\":\"\"}}}],\"scattermapbox\":[{\"type\":\"scattermapbox\",\"marker\":{\"colorbar\":{\"outlinewidth\":0,\"ticks\":\"\"}}}],\"scatterternary\":[{\"type\":\"scatterternary\",\"marker\":{\"colorbar\":{\"outlinewidth\":0,\"ticks\":\"\"}}}],\"scattercarpet\":[{\"type\":\"scattercarpet\",\"marker\":{\"colorbar\":{\"outlinewidth\":0,\"ticks\":\"\"}}}],\"carpet\":[{\"aaxis\":{\"endlinecolor\":\"#2a3f5f\",\"gridcolor\":\"white\",\"linecolor\":\"white\",\"minorgridcolor\":\"white\",\"startlinecolor\":\"#2a3f5f\"},\"baxis\":{\"endlinecolor\":\"#2a3f5f\",\"gridcolor\":\"white\",\"linecolor\":\"white\",\"minorgridcolor\":\"white\",\"startlinecolor\":\"#2a3f5f\"},\"type\":\"carpet\"}],\"table\":[{\"cells\":{\"fill\":{\"color\":\"#EBF0F8\"},\"line\":{\"color\":\"white\"}},\"header\":{\"fill\":{\"color\":\"#C8D4E3\"},\"line\":{\"color\":\"white\"}},\"type\":\"table\"}],\"barpolar\":[{\"marker\":{\"line\":{\"color\":\"#E5ECF6\",\"width\":0.5},\"pattern\":{\"fillmode\":\"overlay\",\"size\":10,\"solidity\":0.2}},\"type\":\"barpolar\"}],\"pie\":[{\"automargin\":true,\"type\":\"pie\"}]},\"layout\":{\"autotypenumbers\":\"strict\",\"colorway\":[\"#636efa\",\"#EF553B\",\"#00cc96\",\"#ab63fa\",\"#FFA15A\",\"#19d3f3\",\"#FF6692\",\"#B6E880\",\"#FF97FF\",\"#FECB52\"],\"font\":{\"color\":\"#2a3f5f\"},\"hovermode\":\"closest\",\"hoverlabel\":{\"align\":\"left\"},\"paper_bgcolor\":\"white\",\"plot_bgcolor\":\"#E5ECF6\",\"polar\":{\"bgcolor\":\"#E5ECF6\",\"angularaxis\":{\"gridcolor\":\"white\",\"linecolor\":\"white\",\"ticks\":\"\"},\"radialaxis\":{\"gridcolor\":\"white\",\"linecolor\":\"white\",\"ticks\":\"\"}},\"ternary\":{\"bgcolor\":\"#E5ECF6\",\"aaxis\":{\"gridcolor\":\"white\",\"linecolor\":\"white\",\"ticks\":\"\"},\"baxis\":{\"gridcolor\":\"white\",\"linecolor\":\"white\",\"ticks\":\"\"},\"caxis\":{\"gridcolor\":\"white\",\"linecolor\":\"white\",\"ticks\":\"\"}},\"coloraxis\":{\"colorbar\":{\"outlinewidth\":0,\"ticks\":\"\"}},\"colorscale\":{\"sequential\":[[0.0,\"#0d0887\"],[0.1111111111111111,\"#46039f\"],[0.2222222222222222,\"#7201a8\"],[0.3333333333333333,\"#9c179e\"],[0.4444444444444444,\"#bd3786\"],[0.5555555555555556,\"#d8576b\"],[0.6666666666666666,\"#ed7953\"],[0.7777777777777778,\"#fb9f3a\"],[0.8888888888888888,\"#fdca26\"],[1.0,\"#f0f921\"]],\"sequentialminus\":[[0.0,\"#0d0887\"],[0.1111111111111111,\"#46039f\"],[0.2222222222222222,\"#7201a8\"],[0.3333333333333333,\"#9c179e\"],[0.4444444444444444,\"#bd3786\"],[0.5555555555555556,\"#d8576b\"],[0.6666666666666666,\"#ed7953\"],[0.7777777777777778,\"#fb9f3a\"],[0.8888888888888888,\"#fdca26\"],[1.0,\"#f0f921\"]],\"diverging\":[[0,\"#8e0152\"],[0.1,\"#c51b7d\"],[0.2,\"#de77ae\"],[0.3,\"#f1b6da\"],[0.4,\"#fde0ef\"],[0.5,\"#f7f7f7\"],[0.6,\"#e6f5d0\"],[0.7,\"#b8e186\"],[0.8,\"#7fbc41\"],[0.9,\"#4d9221\"],[1,\"#276419\"]]},\"xaxis\":{\"gridcolor\":\"white\",\"linecolor\":\"white\",\"ticks\":\"\",\"title\":{\"standoff\":15},\"zerolinecolor\":\"white\",\"automargin\":true,\"zerolinewidth\":2},\"yaxis\":{\"gridcolor\":\"white\",\"linecolor\":\"white\",\"ticks\":\"\",\"title\":{\"standoff\":15},\"zerolinecolor\":\"white\",\"automargin\":true,\"zerolinewidth\":2},\"scene\":{\"xaxis\":{\"backgroundcolor\":\"#E5ECF6\",\"gridcolor\":\"white\",\"linecolor\":\"white\",\"showbackground\":true,\"ticks\":\"\",\"zerolinecolor\":\"white\",\"gridwidth\":2},\"yaxis\":{\"backgroundcolor\":\"#E5ECF6\",\"gridcolor\":\"white\",\"linecolor\":\"white\",\"showbackground\":true,\"ticks\":\"\",\"zerolinecolor\":\"white\",\"gridwidth\":2},\"zaxis\":{\"backgroundcolor\":\"#E5ECF6\",\"gridcolor\":\"white\",\"linecolor\":\"white\",\"showbackground\":true,\"ticks\":\"\",\"zerolinecolor\":\"white\",\"gridwidth\":2}},\"shapedefaults\":{\"line\":{\"color\":\"#2a3f5f\"}},\"annotationdefaults\":{\"arrowcolor\":\"#2a3f5f\",\"arrowhead\":0,\"arrowwidth\":1},\"geo\":{\"bgcolor\":\"white\",\"landcolor\":\"#E5ECF6\",\"subunitcolor\":\"white\",\"showland\":true,\"showlakes\":true,\"lakecolor\":\"white\"},\"title\":{\"x\":0.05},\"mapbox\":{\"style\":\"light\"}}},\"xaxis\":{\"anchor\":\"y\",\"domain\":[0.0,1.0],\"title\":{\"text\":\"Epochs\"}},\"yaxis\":{\"anchor\":\"x\",\"domain\":[0.0,1.0],\"title\":{\"text\":\"RMSE\"}},\"legend\":{\"tracegroupgap\":0},\"title\":{\"text\":\"train RMSE vs. dev RMSE\"}},                        {\"responsive\": true}                    ).then(function(){\n",
              "                            \n",
              "var gd = document.getElementById('1f3c1c51-1df0-4e6b-8c0d-2185317b5e85');\n",
              "var x = new MutationObserver(function (mutations, observer) {{\n",
              "        var display = window.getComputedStyle(gd).display;\n",
              "        if (!display || display === 'none') {{\n",
              "            console.log([gd, 'removed!']);\n",
              "            Plotly.purge(gd);\n",
              "            observer.disconnect();\n",
              "        }}\n",
              "}});\n",
              "\n",
              "// Listen for the removal of the full notebook cells\n",
              "var notebookContainer = gd.closest('#notebook-container');\n",
              "if (notebookContainer) {{\n",
              "    x.observe(notebookContainer, {childList: true});\n",
              "}}\n",
              "\n",
              "// Listen for the clearing of the current output cell\n",
              "var outputEl = gd.closest('.output');\n",
              "if (outputEl) {{\n",
              "    x.observe(outputEl, {childList: true});\n",
              "}}\n",
              "\n",
              "                        })                };                            </script>        </div>\n",
              "</body>\n",
              "</html>"
            ]
          },
          "metadata": {}
        }
      ],
      "source": [
        "# Create the array for the x axis, starting from 1\n",
        "epochs = np.arange(1, len(history.history[\"root_mean_squared_error\"])+1)\n",
        "train_rmse = history.history[\"root_mean_squared_error\"]\n",
        "dev_rmse = history.history[\"val_root_mean_squared_error\"]\n",
        "\n",
        "# Create a line chart with two lines using Plotly Express\n",
        "fig = px.line(title='train RMSE vs. dev RMSE')\n",
        "fig.add_scatter(x=epochs, y=train_rmse, mode='lines+markers', name='Train RMSE', line=dict(color='red'))\n",
        "fig.add_scatter(x=epochs, y=dev_rmse, mode='lines+markers', name='Dev RMSE', line=dict(color='blue'))\n",
        "\n",
        "\n",
        "# Set chart title and axis labels\n",
        "fig.update_layout(\n",
        "    xaxis_title='Epochs',\n",
        "    yaxis_title='RMSE'\n",
        ")\n",
        "\n",
        "# Show the chart\n",
        "fig.show()"
      ]
    },
    {
      "cell_type": "code",
      "source": [
        "# Explain model predictions using shap library:\n",
        "explainer = shap.DeepExplainer(model_mlp, X_train_scaled)\n",
        "shap_values = explainer.shap_values(X_train_scaled)\n",
        "\n",
        "# Plot summary_plot as barplot:\n",
        "shap.summary_plot(shap_values, X_train_scaled, feature_names=features, plot_type='bar', plot_size=[15,5])"
      ],
      "metadata": {
        "id": "bamMyHTGoTl1",
        "colab": {
          "base_uri": "https://localhost:8080/",
          "height": 557
        },
        "outputId": "55305c2d-b413-4ead-aeea-0f9702ce0c13"
      },
      "id": "bamMyHTGoTl1",
      "execution_count": null,
      "outputs": [
        {
          "output_type": "stream",
          "name": "stderr",
          "text": [
            "/usr/local/lib/python3.10/dist-packages/shap/explainers/_deep/deep_tf.py:107: UserWarning:\n",
            "\n",
            "Your TensorFlow version is newer than 2.4.0 and so graph support has been removed in eager mode and some static graphs may not be supported. See PR #1483 for discussion.\n",
            "\n",
            "/usr/local/lib/python3.10/dist-packages/keras/backend.py:452: UserWarning:\n",
            "\n",
            "`tf.keras.backend.set_learning_phase` is deprecated and will be removed after 2020-10-11. To update it, simply pass a True/False value to the `training` argument of the `__call__` method of your layer or model.\n",
            "\n"
          ]
        },
        {
          "output_type": "display_data",
          "data": {
            "text/plain": [
              "<Figure size 1500x500 with 1 Axes>"
            ],
            "image/png": "[encoded data removed]"
          },
          "metadata": {}
        }
      ]
    },
    {
      "cell_type": "code",
      "execution_count": null,
      "id": "qg2TMtxJUzVm",
      "metadata": {
        "id": "qg2TMtxJUzVm",
        "colab": {
          "base_uri": "https://localhost:8080/"
        },
        "outputId": "6032d889-f419-4229-e905-ceb49165d2b9"
      },
      "outputs": [
        {
          "output_type": "stream",
          "name": "stdout",
          "text": [
            "92/92 [==============================] - 0s 2ms/step - loss: 1597946.8750 - root_mean_squared_error: 1264.0992\n",
            "Train RMSE: 1264.099243\n",
            "12/12 [==============================] - 0s 2ms/step - loss: 2542757.7500 - root_mean_squared_error: 1594.6027\n",
            "Dev RMSE: 1594.602661\n",
            "12/12 [==============================] - 0s 2ms/step - loss: 2043730.0000 - root_mean_squared_error: 1429.5908\n",
            "Test RMSE: 1429.590820\n"
          ]
        }
      ],
      "source": [
        "rmse_train = model_mlp.evaluate(X_train_scaled, y_train)[1]\n",
        "print(\"Train RMSE: %f\" % (rmse_train))\n",
        "\n",
        "rmse_dev = model_mlp.evaluate(X_dev_scaled, y_dev)[1]\n",
        "print(\"Dev RMSE: %f\" % (rmse_dev))\n",
        "\n",
        "rmse_test = model_mlp.evaluate(X_test_scaled, y_test)[1]\n",
        "print(\"Test RMSE: %f\" % (rmse_test))"
      ]
    },
    {
      "cell_type": "markdown",
      "metadata": {
        "id": "Fte_pNj3YP1S"
      },
      "source": [
        "<a name=\"6.3.2.\"></a>\n",
        "### 6.3.2. Results\n",
        "[Content](#content)"
      ],
      "id": "Fte_pNj3YP1S"
    },
    {
      "cell_type": "markdown",
      "source": [
        "The best RMSE score of our baseline models is $2.033$. With the MLP model we were able to get a RMSE score of $1.608$ for the dev set and a RMSE score of $1.426$ for the test set. Same as before, the better performance for the test set, could be due to a greater similarity of the year 2022 to the training period compared to the year 2021.\n",
        "\n",
        "Our model performs therefore $29.9\\%$ better than our best baseline model and a litle worse than the XGBoost model.\n",
        "\n",
        "The most important features according to `shap`-values are the weekly and monthly periodicity and the maximum temperature forecast as well as the label vacation and therefore overall the same as for XGBoost, but with some minor differences."
      ],
      "metadata": {
        "id": "6fVur7T-YP1T"
      },
      "id": "6fVur7T-YP1T"
    },
    {
      "cell_type": "markdown",
      "id": "35YvxR1B1tcY",
      "metadata": {
        "id": "35YvxR1B1tcY"
      },
      "source": [
        "<a name=\"6.4.\"></a>\n",
        "## 6.4. Recurrent Neural Network\n",
        "[Content](#content)"
      ]
    },
    {
      "cell_type": "markdown",
      "source": [
        "Lastly, we train an RNN to compare to the previous two models. A RNN can take in multiple timesteps, to make a prediction (Many-to-One). Specifically, we will feed in a number of timesteps (days) at a time and output the prediction of the last day in that sequence.\n",
        "\n",
        "Our input shape is therefore (None, seq_length, 23), where `None` represents a variable amount of training days (in our case the length of the dataset), `seq_length` is the total amount of days we feed into the RNN at a time and 23 is the number of features (same as before)."
      ],
      "metadata": {
        "id": "sfs0s3ZGC9Wp"
      },
      "id": "sfs0s3ZGC9Wp"
    },
    {
      "cell_type": "markdown",
      "metadata": {
        "id": "Gc3KB_CgRhHJ"
      },
      "source": [
        "<a name=\"6.4.1.\"></a>\n",
        "### 6.4.1. Create dataset with sequence\n",
        "[Content](#content)"
      ],
      "id": "Gc3KB_CgRhHJ"
    },
    {
      "cell_type": "markdown",
      "source": [
        "So far, the training data consists only of indivdual datapoints with mapping `(features, target)`. For a sequential model we need to restructure the data into `([seq_length, features], target)`."
      ],
      "metadata": {
        "id": "Qk3_ea4ERmRz"
      },
      "id": "Qk3_ea4ERmRz"
    },
    {
      "cell_type": "code",
      "source": [
        "# Create datasets with seq_length and batch_size\n",
        "\n",
        "seq_length = 4\n",
        "batch_size = 32\n",
        "\n",
        "dataset_X_train = tf.keras.utils.timeseries_dataset_from_array(\n",
        "    data=X_train_scaled, targets=None, sequence_length=seq_length, batch_size=batch_size, shuffle=False)\n",
        "dataset_y_train = tf.keras.utils.timeseries_dataset_from_array(\n",
        "    data=y_train, targets=None, sequence_length=1, batch_size=batch_size, start_index=seq_length-1, shuffle=False)\n",
        "dataset_train = tf.data.Dataset.zip((dataset_X_train, dataset_y_train))\n",
        "\n",
        "dataset_X_dev = tf.keras.utils.timeseries_dataset_from_array(\n",
        "    data=X_dev_scaled, targets=None, sequence_length=seq_length, batch_size=batch_size, shuffle=False)\n",
        "dataset_y_dev = tf.keras.utils.timeseries_dataset_from_array(\n",
        "    data=y_dev, targets=None, sequence_length=1, batch_size=batch_size, start_index=seq_length-1, shuffle=False)\n",
        "dataset_dev = tf.data.Dataset.zip((dataset_X_dev, dataset_y_dev))\n",
        "\n",
        "dataset_X_test = tf.keras.utils.timeseries_dataset_from_array(\n",
        "    data=X_test_scaled, targets=None, sequence_length=seq_length, batch_size=batch_size, shuffle=False)\n",
        "dataset_y_test = tf.keras.utils.timeseries_dataset_from_array(\n",
        "    data=y_test, targets=None, sequence_length=1, batch_size=batch_size, start_index=seq_length-1, shuffle=False)\n",
        "dataset_test = tf.data.Dataset.zip((dataset_X_test, dataset_y_test))\n",
        "\n",
        "#for feature, target in dataset_train.take(1):\n",
        "#    print(feature, target)"
      ],
      "metadata": {
        "id": "uVM6gef_m5M1"
      },
      "execution_count": null,
      "outputs": [],
      "id": "uVM6gef_m5M1"
    },
    {
      "cell_type": "markdown",
      "metadata": {
        "id": "6pR4dcweRHVy"
      },
      "source": [
        "<a name=\"6.4.2.\"></a>\n",
        "### 6.4.2. Train the model and evaluate\n",
        "[Content](#content)"
      ],
      "id": "6pR4dcweRHVy"
    },
    {
      "cell_type": "code",
      "execution_count": null,
      "metadata": {
        "colab": {
          "base_uri": "https://localhost:8080/"
        },
        "outputId": "67c467d1-f466-4813-ecd0-8f3e3f9e4fac",
        "id": "d8miFlg-oRpQ"
      },
      "outputs": [
        {
          "output_type": "stream",
          "name": "stdout",
          "text": [
            "Model: \"model_5\"\n",
            "_________________________________________________________________\n",
            " Layer (type)                Output Shape              Param #   \n",
            "=================================================================\n",
            " input_12 (InputLayer)       [(None, 4, 23)]           0         \n",
            "                                                                 \n",
            " bidirectional_20 (Bidirecti  (None, 4, 128)           45056     \n",
            " onal)                                                           \n",
            "                                                                 \n",
            " bidirectional_21 (Bidirecti  (None, 64)               41216     \n",
            " onal)                                                           \n",
            "                                                                 \n",
            " dense_13 (Dense)            (None, 1)                 65        \n",
            "                                                                 \n",
            "=================================================================\n",
            "Total params: 86,337\n",
            "Trainable params: 86,337\n",
            "Non-trainable params: 0\n",
            "_________________________________________________________________\n"
          ]
        }
      ],
      "source": [
        "\"\"\"\n",
        "Simple bidrectional LSTM model\n",
        "Many-to-one\n",
        "\n",
        "\"\"\"\n",
        "\n",
        "dropout = 0.3\n",
        "rec_dropout = 0.0\n",
        "\n",
        "# model wiht functional API\n",
        "inputs = Input(shape=(seq_length, len(features)))\n",
        "x = Bidirectional(LSTM(64, activation='relu', dropout=dropout, recurrent_dropout=rec_dropout, return_sequences=True))(inputs)\n",
        "x = Bidirectional(LSTM(32, activation='relu', dropout=dropout, recurrent_dropout=rec_dropout, return_sequences=False))(x)\n",
        "outputs = Dense(1, activation='linear')(x)\n",
        "\n",
        "model_seq = tf.keras.Model(inputs=inputs, outputs=outputs)\n",
        "\n",
        "optimizer = Adam(learning_rate=0.001)\n",
        "model_seq.compile(optimizer=optimizer, loss='mse', metrics=[RootMeanSquaredError()])\n",
        "\n",
        "model_seq.summary()"
      ],
      "id": "d8miFlg-oRpQ"
    },
    {
      "cell_type": "code",
      "source": [
        "# Uncomment for loading the weights\n",
        "# Select the weights to be loaded\n",
        "#file_name = \"2023-08-27_weights_model_seq\"\n",
        "\n",
        "#model_mlp.load_weights(file_name)\n",
        "\n",
        "history = model_seq.fit(dataset_train, epochs=150, batch_size=32, validation_data=(dataset_dev))\n",
        "\n",
        "# Save the weights\n",
        "date = datetime.date.today()\n",
        "file_name = f\"{date}\" + \"_weights_model_seq\"\n",
        "model_seq.save_weights(file_name, save_format=\"h5\")"
      ],
      "metadata": {
        "id": "XAfSeuLgoRA_",
        "outputId": "46cc201d-a336-4dd8-db1e-e850dd43b9e9",
        "colab": {
          "base_uri": "https://localhost:8080/"
        }
      },
      "id": "XAfSeuLgoRA_",
      "execution_count": null,
      "outputs": [
        {
          "output_type": "stream",
          "name": "stdout",
          "text": [
            "Epoch 1/150\n",
            "92/92 [==============================] - 10s 31ms/step - loss: 29992170.0000 - root_mean_squared_error: 5476.5107 - val_loss: 8648248.0000 - val_root_mean_squared_error: 2940.7903\n",
            "Epoch 2/150\n",
            "92/92 [==============================] - 2s 23ms/step - loss: 5748690.5000 - root_mean_squared_error: 2397.6426 - val_loss: 6705353.0000 - val_root_mean_squared_error: 2589.4697\n",
            "Epoch 3/150\n",
            "92/92 [==============================] - 2s 23ms/step - loss: 4246432.5000 - root_mean_squared_error: 2060.6875 - val_loss: 6148324.5000 - val_root_mean_squared_error: 2479.5815\n",
            "Epoch 4/150\n",
            "92/92 [==============================] - 3s 33ms/step - loss: 3972092.5000 - root_mean_squared_error: 1993.0109 - val_loss: 4984144.5000 - val_root_mean_squared_error: 2232.5198\n",
            "Epoch 5/150\n",
            "92/92 [==============================] - 2s 22ms/step - loss: 3820259.0000 - root_mean_squared_error: 1954.5483 - val_loss: 4611764.5000 - val_root_mean_squared_error: 2147.5020\n",
            "Epoch 6/150\n",
            "92/92 [==============================] - 2s 22ms/step - loss: 3636045.7500 - root_mean_squared_error: 1906.8418 - val_loss: 4219367.0000 - val_root_mean_squared_error: 2054.1099\n",
            "Epoch 7/150\n",
            "92/92 [==============================] - 2s 23ms/step - loss: 3613030.2500 - root_mean_squared_error: 1900.7972 - val_loss: 4120397.0000 - val_root_mean_squared_error: 2029.8761\n",
            "Epoch 8/150\n",
            "92/92 [==============================] - 2s 21ms/step - loss: 3426219.0000 - root_mean_squared_error: 1851.0049 - val_loss: 4032301.0000 - val_root_mean_squared_error: 2008.0590\n",
            "Epoch 9/150\n",
            "92/92 [==============================] - 3s 35ms/step - loss: 3330115.0000 - root_mean_squared_error: 1824.8602 - val_loss: 4216589.0000 - val_root_mean_squared_error: 2053.4333\n",
            "Epoch 10/150\n",
            "92/92 [==============================] - 2s 23ms/step - loss: 3257128.2500 - root_mean_squared_error: 1804.7516 - val_loss: 3703284.7500 - val_root_mean_squared_error: 1924.3921\n",
            "Epoch 11/150\n",
            "92/92 [==============================] - 2s 23ms/step - loss: 3369719.7500 - root_mean_squared_error: 1835.6797 - val_loss: 3559837.7500 - val_root_mean_squared_error: 1886.7532\n",
            "Epoch 12/150\n",
            "92/92 [==============================] - 2s 23ms/step - loss: 3288471.5000 - root_mean_squared_error: 1813.4143 - val_loss: 3835799.0000 - val_root_mean_squared_error: 1958.5197\n",
            "Epoch 13/150\n",
            "92/92 [==============================] - 3s 34ms/step - loss: 3250382.0000 - root_mean_squared_error: 1802.8816 - val_loss: 3508258.2500 - val_root_mean_squared_error: 1873.0345\n",
            "Epoch 14/150\n",
            "92/92 [==============================] - 2s 23ms/step - loss: 3058323.7500 - root_mean_squared_error: 1748.8064 - val_loss: 3668132.5000 - val_root_mean_squared_error: 1915.2369\n",
            "Epoch 15/150\n",
            "92/92 [==============================] - 2s 23ms/step - loss: 3083040.5000 - root_mean_squared_error: 1755.8589 - val_loss: 3330122.5000 - val_root_mean_squared_error: 1824.8623\n",
            "Epoch 16/150\n",
            "92/92 [==============================] - 2s 23ms/step - loss: 3195215.2500 - root_mean_squared_error: 1787.5165 - val_loss: 3404865.0000 - val_root_mean_squared_error: 1845.2277\n",
            "Epoch 17/150\n",
            "92/92 [==============================] - 3s 28ms/step - loss: 3011540.5000 - root_mean_squared_error: 1735.3790 - val_loss: 3167373.5000 - val_root_mean_squared_error: 1779.7117\n",
            "Epoch 18/150\n",
            "92/92 [==============================] - 3s 33ms/step - loss: 3122245.7500 - root_mean_squared_error: 1766.9878 - val_loss: 3465469.2500 - val_root_mean_squared_error: 1861.5770\n",
            "Epoch 19/150\n",
            "92/92 [==============================] - 2s 22ms/step - loss: 3013250.2500 - root_mean_squared_error: 1735.8716 - val_loss: 3462840.5000 - val_root_mean_squared_error: 1860.8708\n",
            "Epoch 20/150\n",
            "92/92 [==============================] - 2s 23ms/step - loss: 3018916.5000 - root_mean_squared_error: 1737.5029 - val_loss: 3350851.2500 - val_root_mean_squared_error: 1830.5331\n",
            "Epoch 21/150\n",
            "92/92 [==============================] - 2s 23ms/step - loss: 3033627.7500 - root_mean_squared_error: 1741.7312 - val_loss: 3159459.0000 - val_root_mean_squared_error: 1777.4867\n",
            "Epoch 22/150\n",
            "92/92 [==============================] - 2s 25ms/step - loss: 3015441.0000 - root_mean_squared_error: 1736.5026 - val_loss: 3272398.7500 - val_root_mean_squared_error: 1808.9773\n",
            "Epoch 23/150\n",
            "92/92 [==============================] - 3s 35ms/step - loss: 2801060.5000 - root_mean_squared_error: 1673.6370 - val_loss: 3277285.7500 - val_root_mean_squared_error: 1810.3275\n",
            "Epoch 24/150\n",
            "92/92 [==============================] - 2s 23ms/step - loss: 2936802.2500 - root_mean_squared_error: 1713.7101 - val_loss: 3191604.2500 - val_root_mean_squared_error: 1786.5063\n",
            "Epoch 25/150\n",
            "92/92 [==============================] - 2s 23ms/step - loss: 2835137.5000 - root_mean_squared_error: 1683.7866 - val_loss: 3218141.7500 - val_root_mean_squared_error: 1793.9180\n",
            "Epoch 26/150\n",
            "92/92 [==============================] - 2s 23ms/step - loss: 2877806.2500 - root_mean_squared_error: 1696.4098 - val_loss: 3307882.5000 - val_root_mean_squared_error: 1818.7585\n",
            "Epoch 27/150\n",
            "92/92 [==============================] - 2s 22ms/step - loss: 2803933.2500 - root_mean_squared_error: 1674.4949 - val_loss: 3206621.2500 - val_root_mean_squared_error: 1790.7041\n",
            "Epoch 28/150\n",
            "92/92 [==============================] - 3s 37ms/step - loss: 2815976.7500 - root_mean_squared_error: 1678.0873 - val_loss: 3261119.0000 - val_root_mean_squared_error: 1805.8568\n",
            "Epoch 29/150\n",
            "92/92 [==============================] - 2s 23ms/step - loss: 2897341.0000 - root_mean_squared_error: 1702.1577 - val_loss: 3030522.7500 - val_root_mean_squared_error: 1740.8397\n",
            "Epoch 30/150\n",
            "92/92 [==============================] - 2s 23ms/step - loss: 2851503.0000 - root_mean_squared_error: 1688.6394 - val_loss: 3022367.5000 - val_root_mean_squared_error: 1738.4957\n",
            "Epoch 31/150\n",
            "92/92 [==============================] - 2s 22ms/step - loss: 2825056.5000 - root_mean_squared_error: 1680.7904 - val_loss: 3199375.2500 - val_root_mean_squared_error: 1788.6798\n",
            "Epoch 32/150\n",
            "92/92 [==============================] - 2s 22ms/step - loss: 2813190.7500 - root_mean_squared_error: 1677.2570 - val_loss: 3032389.0000 - val_root_mean_squared_error: 1741.3756\n",
            "Epoch 33/150\n",
            "92/92 [==============================] - 3s 34ms/step - loss: 2674999.7500 - root_mean_squared_error: 1635.5426 - val_loss: 3207893.2500 - val_root_mean_squared_error: 1791.0592\n",
            "Epoch 34/150\n",
            "92/92 [==============================] - 2s 23ms/step - loss: 2696243.0000 - root_mean_squared_error: 1642.0240 - val_loss: 3013322.5000 - val_root_mean_squared_error: 1735.8925\n",
            "Epoch 35/150\n",
            "92/92 [==============================] - 2s 23ms/step - loss: 2682388.7500 - root_mean_squared_error: 1637.7999 - val_loss: 2909119.0000 - val_root_mean_squared_error: 1705.6140\n",
            "Epoch 36/150\n",
            "92/92 [==============================] - 2s 23ms/step - loss: 2726339.7500 - root_mean_squared_error: 1651.1632 - val_loss: 3026626.0000 - val_root_mean_squared_error: 1739.7201\n",
            "Epoch 37/150\n",
            "92/92 [==============================] - 2s 22ms/step - loss: 2554226.5000 - root_mean_squared_error: 1598.1947 - val_loss: 3035813.7500 - val_root_mean_squared_error: 1742.3586\n",
            "Epoch 38/150\n",
            "92/92 [==============================] - 3s 32ms/step - loss: 2591549.0000 - root_mean_squared_error: 1609.8289 - val_loss: 2942169.7500 - val_root_mean_squared_error: 1715.2754\n",
            "Epoch 39/150\n",
            "92/92 [==============================] - 3s 27ms/step - loss: 2679685.0000 - root_mean_squared_error: 1636.9744 - val_loss: 2936710.7500 - val_root_mean_squared_error: 1713.6833\n",
            "Epoch 40/150\n",
            "92/92 [==============================] - 2s 22ms/step - loss: 2649216.0000 - root_mean_squared_error: 1627.6412 - val_loss: 2973602.2500 - val_root_mean_squared_error: 1724.4136\n",
            "Epoch 41/150\n",
            "92/92 [==============================] - 2s 22ms/step - loss: 2511913.2500 - root_mean_squared_error: 1584.9016 - val_loss: 2923623.2500 - val_root_mean_squared_error: 1709.8606\n",
            "Epoch 42/150\n",
            "92/92 [==============================] - 2s 23ms/step - loss: 2685126.0000 - root_mean_squared_error: 1638.6354 - val_loss: 2925020.5000 - val_root_mean_squared_error: 1710.2692\n",
            "Epoch 43/150\n",
            "92/92 [==============================] - 2s 25ms/step - loss: 2605852.7500 - root_mean_squared_error: 1614.2654 - val_loss: 2878555.5000 - val_root_mean_squared_error: 1696.6306\n",
            "Epoch 44/150\n",
            "92/92 [==============================] - 3s 32ms/step - loss: 2550645.2500 - root_mean_squared_error: 1597.0740 - val_loss: 2842988.0000 - val_root_mean_squared_error: 1686.1162\n",
            "Epoch 45/150\n",
            "92/92 [==============================] - 2s 22ms/step - loss: 2565889.7500 - root_mean_squared_error: 1601.8395 - val_loss: 2873046.5000 - val_root_mean_squared_error: 1695.0063\n",
            "Epoch 46/150\n",
            "92/92 [==============================] - 2s 22ms/step - loss: 2549034.7500 - root_mean_squared_error: 1596.5697 - val_loss: 2959185.2500 - val_root_mean_squared_error: 1720.2283\n",
            "Epoch 47/150\n",
            "92/92 [==============================] - 2s 22ms/step - loss: 2518561.7500 - root_mean_squared_error: 1586.9977 - val_loss: 2781421.7500 - val_root_mean_squared_error: 1667.7595\n",
            "Epoch 48/150\n",
            "92/92 [==============================] - 2s 27ms/step - loss: 2489007.7500 - root_mean_squared_error: 1577.6589 - val_loss: 2837948.0000 - val_root_mean_squared_error: 1684.6210\n",
            "Epoch 49/150\n",
            "92/92 [==============================] - 3s 32ms/step - loss: 2498251.2500 - root_mean_squared_error: 1580.5857 - val_loss: 2814096.0000 - val_root_mean_squared_error: 1677.5267\n",
            "Epoch 50/150\n",
            "92/92 [==============================] - 2s 22ms/step - loss: 2458758.0000 - root_mean_squared_error: 1568.0427 - val_loss: 2796743.0000 - val_root_mean_squared_error: 1672.3466\n",
            "Epoch 51/150\n",
            "92/92 [==============================] - 2s 22ms/step - loss: 2493170.5000 - root_mean_squared_error: 1578.9777 - val_loss: 2777247.7500 - val_root_mean_squared_error: 1666.5077\n",
            "Epoch 52/150\n",
            "92/92 [==============================] - 2s 22ms/step - loss: 2381178.5000 - root_mean_squared_error: 1543.1068 - val_loss: 2848372.2500 - val_root_mean_squared_error: 1687.7122\n",
            "Epoch 53/150\n",
            "92/92 [==============================] - 3s 31ms/step - loss: 2409484.2500 - root_mean_squared_error: 1552.2513 - val_loss: 2817028.0000 - val_root_mean_squared_error: 1678.4004\n",
            "Epoch 54/150\n",
            "92/92 [==============================] - 2s 27ms/step - loss: 2277741.0000 - root_mean_squared_error: 1509.2186 - val_loss: 2757781.7500 - val_root_mean_squared_error: 1660.6570\n",
            "Epoch 55/150\n",
            "92/92 [==============================] - 2s 22ms/step - loss: 2405214.0000 - root_mean_squared_error: 1550.8752 - val_loss: 2774879.7500 - val_root_mean_squared_error: 1665.7970\n",
            "Epoch 56/150\n",
            "92/92 [==============================] - 2s 22ms/step - loss: 2416838.7500 - root_mean_squared_error: 1554.6185 - val_loss: 2807139.5000 - val_root_mean_squared_error: 1675.4520\n",
            "Epoch 57/150\n",
            "92/92 [==============================] - 2s 22ms/step - loss: 2395117.2500 - root_mean_squared_error: 1547.6166 - val_loss: 2690128.5000 - val_root_mean_squared_error: 1640.1611\n",
            "Epoch 58/150\n",
            "92/92 [==============================] - 2s 23ms/step - loss: 2307719.0000 - root_mean_squared_error: 1519.1178 - val_loss: 2730882.5000 - val_root_mean_squared_error: 1652.5382\n",
            "Epoch 59/150\n",
            "92/92 [==============================] - 3s 37ms/step - loss: 2378994.7500 - root_mean_squared_error: 1542.3990 - val_loss: 2720080.5000 - val_root_mean_squared_error: 1649.2666\n",
            "Epoch 60/150\n",
            "92/92 [==============================] - 2s 22ms/step - loss: 2408728.0000 - root_mean_squared_error: 1552.0077 - val_loss: 2734608.0000 - val_root_mean_squared_error: 1653.6650\n",
            "Epoch 61/150\n",
            "92/92 [==============================] - 2s 21ms/step - loss: 2398097.7500 - root_mean_squared_error: 1548.5792 - val_loss: 2751740.5000 - val_root_mean_squared_error: 1658.8370\n",
            "Epoch 62/150\n",
            "92/92 [==============================] - 2s 22ms/step - loss: 2349710.0000 - root_mean_squared_error: 1532.8763 - val_loss: 2670775.2500 - val_root_mean_squared_error: 1634.2506\n",
            "Epoch 63/150\n",
            "92/92 [==============================] - 2s 21ms/step - loss: 2364056.7500 - root_mean_squared_error: 1537.5490 - val_loss: 2738650.2500 - val_root_mean_squared_error: 1654.8867\n",
            "Epoch 64/150\n",
            "92/92 [==============================] - 3s 31ms/step - loss: 2209140.5000 - root_mean_squared_error: 1486.3177 - val_loss: 2962034.7500 - val_root_mean_squared_error: 1721.0563\n",
            "Epoch 65/150\n",
            "92/92 [==============================] - 3s 28ms/step - loss: 2286115.5000 - root_mean_squared_error: 1511.9906 - val_loss: 2893869.2500 - val_root_mean_squared_error: 1701.1376\n",
            "Epoch 66/150\n",
            "92/92 [==============================] - 2s 22ms/step - loss: 2350218.0000 - root_mean_squared_error: 1533.0421 - val_loss: 2647096.2500 - val_root_mean_squared_error: 1626.9900\n",
            "Epoch 67/150\n",
            "92/92 [==============================] - 2s 22ms/step - loss: 2304989.0000 - root_mean_squared_error: 1518.2190 - val_loss: 2678278.2500 - val_root_mean_squared_error: 1636.5446\n",
            "Epoch 68/150\n",
            "92/92 [==============================] - 3s 27ms/step - loss: 2194426.0000 - root_mean_squared_error: 1481.3595 - val_loss: 2776041.2500 - val_root_mean_squared_error: 1666.1456\n",
            "Epoch 69/150\n",
            "92/92 [==============================] - 3s 33ms/step - loss: 2226657.5000 - root_mean_squared_error: 1492.1989 - val_loss: 2670457.7500 - val_root_mean_squared_error: 1634.1536\n",
            "Epoch 70/150\n",
            "92/92 [==============================] - 2s 22ms/step - loss: 2241770.7500 - root_mean_squared_error: 1497.2544 - val_loss: 2690718.2500 - val_root_mean_squared_error: 1640.3409\n",
            "Epoch 71/150\n",
            "92/92 [==============================] - 2s 22ms/step - loss: 2177175.5000 - root_mean_squared_error: 1475.5255 - val_loss: 2630787.2500 - val_root_mean_squared_error: 1621.9702\n",
            "Epoch 72/150\n",
            "92/92 [==============================] - 2s 22ms/step - loss: 2289921.0000 - root_mean_squared_error: 1513.2485 - val_loss: 2632400.5000 - val_root_mean_squared_error: 1622.4674\n",
            "Epoch 73/150\n",
            "92/92 [==============================] - 3s 35ms/step - loss: 2192771.0000 - root_mean_squared_error: 1480.8008 - val_loss: 2708891.5000 - val_root_mean_squared_error: 1645.8711\n",
            "Epoch 74/150\n",
            "92/92 [==============================] - 2s 22ms/step - loss: 2166819.5000 - root_mean_squared_error: 1472.0121 - val_loss: 2674437.5000 - val_root_mean_squared_error: 1635.3707\n",
            "Epoch 75/150\n",
            "92/92 [==============================] - 2s 23ms/step - loss: 2337085.5000 - root_mean_squared_error: 1528.7529 - val_loss: 2659503.5000 - val_root_mean_squared_error: 1630.7985\n",
            "Epoch 76/150\n",
            "92/92 [==============================] - 2s 22ms/step - loss: 2242317.7500 - root_mean_squared_error: 1497.4370 - val_loss: 2674229.5000 - val_root_mean_squared_error: 1635.3071\n",
            "Epoch 77/150\n",
            "92/92 [==============================] - 2s 22ms/step - loss: 2290559.5000 - root_mean_squared_error: 1513.4595 - val_loss: 2663496.7500 - val_root_mean_squared_error: 1632.0223\n",
            "Epoch 78/150\n",
            "92/92 [==============================] - 3s 33ms/step - loss: 2211080.2500 - root_mean_squared_error: 1486.9702 - val_loss: 2675505.7500 - val_root_mean_squared_error: 1635.6974\n",
            "Epoch 79/150\n",
            "92/92 [==============================] - 2s 23ms/step - loss: 2195926.2500 - root_mean_squared_error: 1481.8658 - val_loss: 2628141.7500 - val_root_mean_squared_error: 1621.1544\n",
            "Epoch 80/150\n",
            "92/92 [==============================] - 2s 22ms/step - loss: 2112187.5000 - root_mean_squared_error: 1453.3367 - val_loss: 2653808.5000 - val_root_mean_squared_error: 1629.0514\n",
            "Epoch 81/150\n",
            "92/92 [==============================] - 2s 22ms/step - loss: 2171132.5000 - root_mean_squared_error: 1473.4763 - val_loss: 2617852.7500 - val_root_mean_squared_error: 1617.9780\n",
            "Epoch 82/150\n",
            "92/92 [==============================] - 2s 26ms/step - loss: 2155681.5000 - root_mean_squared_error: 1468.2239 - val_loss: 2635263.2500 - val_root_mean_squared_error: 1623.3494\n",
            "Epoch 83/150\n",
            "92/92 [==============================] - 3s 31ms/step - loss: 2133922.7500 - root_mean_squared_error: 1460.7953 - val_loss: 2652103.0000 - val_root_mean_squared_error: 1628.5278\n",
            "Epoch 84/150\n",
            "92/92 [==============================] - 2s 23ms/step - loss: 2099404.5000 - root_mean_squared_error: 1448.9323 - val_loss: 2673124.2500 - val_root_mean_squared_error: 1634.9692\n",
            "Epoch 85/150\n",
            "92/92 [==============================] - 2s 22ms/step - loss: 2051546.1250 - root_mean_squared_error: 1432.3219 - val_loss: 2635925.5000 - val_root_mean_squared_error: 1623.5533\n",
            "Epoch 86/150\n",
            "92/92 [==============================] - 2s 22ms/step - loss: 2118864.2500 - root_mean_squared_error: 1455.6320 - val_loss: 2640531.0000 - val_root_mean_squared_error: 1624.9711\n",
            "Epoch 87/150\n",
            "92/92 [==============================] - 2s 21ms/step - loss: 2073722.6250 - root_mean_squared_error: 1440.0426 - val_loss: 2580894.7500 - val_root_mean_squared_error: 1606.5164\n",
            "Epoch 88/150\n",
            "92/92 [==============================] - 3s 35ms/step - loss: 2092230.6250 - root_mean_squared_error: 1446.4545 - val_loss: 2632208.5000 - val_root_mean_squared_error: 1622.4082\n",
            "Epoch 89/150\n",
            "92/92 [==============================] - 2s 24ms/step - loss: 2078676.1250 - root_mean_squared_error: 1441.7615 - val_loss: 2640412.7500 - val_root_mean_squared_error: 1624.9347\n",
            "Epoch 90/150\n",
            "92/92 [==============================] - 2s 22ms/step - loss: 2119622.5000 - root_mean_squared_error: 1455.8923 - val_loss: 2601497.2500 - val_root_mean_squared_error: 1612.9158\n",
            "Epoch 91/150\n",
            "92/92 [==============================] - 2s 21ms/step - loss: 2117550.5000 - root_mean_squared_error: 1455.1805 - val_loss: 2715548.5000 - val_root_mean_squared_error: 1647.8921\n",
            "Epoch 92/150\n",
            "92/92 [==============================] - 2s 22ms/step - loss: 2022408.3750 - root_mean_squared_error: 1422.1140 - val_loss: 2802216.2500 - val_root_mean_squared_error: 1673.9822\n",
            "Epoch 93/150\n",
            "92/92 [==============================] - 3s 31ms/step - loss: 1966675.1250 - root_mean_squared_error: 1402.3820 - val_loss: 2617630.5000 - val_root_mean_squared_error: 1617.9093\n",
            "Epoch 94/150\n",
            "92/92 [==============================] - 2s 27ms/step - loss: 2090670.7500 - root_mean_squared_error: 1445.9152 - val_loss: 2632008.0000 - val_root_mean_squared_error: 1622.3464\n",
            "Epoch 95/150\n",
            "92/92 [==============================] - 2s 22ms/step - loss: 2153056.0000 - root_mean_squared_error: 1467.3296 - val_loss: 2582679.0000 - val_root_mean_squared_error: 1607.0715\n",
            "Epoch 96/150\n",
            "92/92 [==============================] - 2s 22ms/step - loss: 2072247.1250 - root_mean_squared_error: 1439.5302 - val_loss: 2767866.7500 - val_root_mean_squared_error: 1663.6907\n",
            "Epoch 97/150\n",
            "92/92 [==============================] - 2s 21ms/step - loss: 2017009.1250 - root_mean_squared_error: 1420.2145 - val_loss: 2615685.5000 - val_root_mean_squared_error: 1617.3081\n",
            "Epoch 98/150\n",
            "92/92 [==============================] - 2s 27ms/step - loss: 2038711.1250 - root_mean_squared_error: 1427.8345 - val_loss: 2785404.2500 - val_root_mean_squared_error: 1668.9530\n",
            "Epoch 99/150\n",
            "92/92 [==============================] - 3s 32ms/step - loss: 1986707.3750 - root_mean_squared_error: 1409.5061 - val_loss: 2866336.2500 - val_root_mean_squared_error: 1693.0258\n",
            "Epoch 100/150\n",
            "92/92 [==============================] - 2s 23ms/step - loss: 1972652.2500 - root_mean_squared_error: 1404.5114 - val_loss: 2594683.5000 - val_root_mean_squared_error: 1610.8021\n",
            "Epoch 101/150\n",
            "92/92 [==============================] - 2s 23ms/step - loss: 2077988.5000 - root_mean_squared_error: 1441.5229 - val_loss: 2598187.2500 - val_root_mean_squared_error: 1611.8893\n",
            "Epoch 102/150\n",
            "92/92 [==============================] - 2s 22ms/step - loss: 2044844.0000 - root_mean_squared_error: 1429.9805 - val_loss: 2647328.2500 - val_root_mean_squared_error: 1627.0613\n",
            "Epoch 103/150\n",
            "92/92 [==============================] - 2s 22ms/step - loss: 2031510.7500 - root_mean_squared_error: 1425.3108 - val_loss: 2673201.5000 - val_root_mean_squared_error: 1634.9928\n",
            "Epoch 104/150\n",
            "92/92 [==============================] - 3s 32ms/step - loss: 1975148.3750 - root_mean_squared_error: 1405.3998 - val_loss: 2668680.2500 - val_root_mean_squared_error: 1633.6096\n",
            "Epoch 105/150\n",
            "92/92 [==============================] - 2s 22ms/step - loss: 2072730.6250 - root_mean_squared_error: 1439.6981 - val_loss: 2641706.7500 - val_root_mean_squared_error: 1625.3328\n",
            "Epoch 106/150\n",
            "92/92 [==============================] - 2s 23ms/step - loss: 1968416.7500 - root_mean_squared_error: 1403.0028 - val_loss: 2624374.7500 - val_root_mean_squared_error: 1619.9922\n",
            "Epoch 107/150\n",
            "92/92 [==============================] - 2s 22ms/step - loss: 1976695.3750 - root_mean_squared_error: 1405.9500 - val_loss: 2622798.5000 - val_root_mean_squared_error: 1619.5056\n",
            "Epoch 108/150\n",
            "92/92 [==============================] - 3s 35ms/step - loss: 2003396.5000 - root_mean_squared_error: 1415.4139 - val_loss: 2674273.0000 - val_root_mean_squared_error: 1635.3204\n",
            "Epoch 109/150\n",
            "92/92 [==============================] - 2s 24ms/step - loss: 1995584.6250 - root_mean_squared_error: 1412.6516 - val_loss: 2745764.0000 - val_root_mean_squared_error: 1657.0347\n",
            "Epoch 110/150\n",
            "92/92 [==============================] - 2s 22ms/step - loss: 2003265.6250 - root_mean_squared_error: 1415.3677 - val_loss: 2688659.5000 - val_root_mean_squared_error: 1639.7133\n",
            "Epoch 111/150\n",
            "92/92 [==============================] - 2s 21ms/step - loss: 1967510.2500 - root_mean_squared_error: 1402.6797 - val_loss: 2586806.5000 - val_root_mean_squared_error: 1608.3552\n",
            "Epoch 112/150\n",
            "92/92 [==============================] - 2s 22ms/step - loss: 1946647.5000 - root_mean_squared_error: 1395.2231 - val_loss: 2694066.7500 - val_root_mean_squared_error: 1641.3612\n",
            "Epoch 113/150\n",
            "92/92 [==============================] - 2s 26ms/step - loss: 1958433.0000 - root_mean_squared_error: 1399.4402 - val_loss: 2611316.7500 - val_root_mean_squared_error: 1615.9569\n",
            "Epoch 114/150\n",
            "92/92 [==============================] - 3s 33ms/step - loss: 1880230.1250 - root_mean_squared_error: 1371.2148 - val_loss: 2676288.2500 - val_root_mean_squared_error: 1635.9365\n",
            "Epoch 115/150\n",
            "92/92 [==============================] - 2s 22ms/step - loss: 2009323.6250 - root_mean_squared_error: 1417.5061 - val_loss: 2682232.7500 - val_root_mean_squared_error: 1637.7523\n",
            "Epoch 116/150\n",
            "92/92 [==============================] - 2s 22ms/step - loss: 1939370.2500 - root_mean_squared_error: 1392.6128 - val_loss: 2714554.0000 - val_root_mean_squared_error: 1647.5903\n",
            "Epoch 117/150\n",
            "92/92 [==============================] - 2s 22ms/step - loss: 1915487.5000 - root_mean_squared_error: 1384.0114 - val_loss: 2641598.5000 - val_root_mean_squared_error: 1625.2996\n",
            "Epoch 118/150\n",
            "92/92 [==============================] - 3s 31ms/step - loss: 1834273.7500 - root_mean_squared_error: 1354.3536 - val_loss: 2571240.5000 - val_root_mean_squared_error: 1603.5088\n",
            "Epoch 119/150\n",
            "92/92 [==============================] - 2s 23ms/step - loss: 1982203.6250 - root_mean_squared_error: 1407.9076 - val_loss: 2701123.2500 - val_root_mean_squared_error: 1643.5094\n",
            "Epoch 120/150\n",
            "92/92 [==============================] - 2s 22ms/step - loss: 1916669.5000 - root_mean_squared_error: 1384.4384 - val_loss: 2613361.7500 - val_root_mean_squared_error: 1616.5896\n",
            "Epoch 121/150\n",
            "92/92 [==============================] - 2s 22ms/step - loss: 1918606.2500 - root_mean_squared_error: 1385.1376 - val_loss: 2613489.7500 - val_root_mean_squared_error: 1616.6292\n",
            "Epoch 122/150\n",
            "92/92 [==============================] - 3s 29ms/step - loss: 1936299.3750 - root_mean_squared_error: 1391.5098 - val_loss: 2620072.5000 - val_root_mean_squared_error: 1618.6638\n",
            "Epoch 123/150\n",
            "92/92 [==============================] - 2s 22ms/step - loss: 1889934.8750 - root_mean_squared_error: 1374.7490 - val_loss: 2730847.0000 - val_root_mean_squared_error: 1652.5275\n",
            "Epoch 124/150\n",
            "92/92 [==============================] - 2s 22ms/step - loss: 1954150.8750 - root_mean_squared_error: 1397.9094 - val_loss: 2658636.7500 - val_root_mean_squared_error: 1630.5327\n",
            "Epoch 125/150\n",
            "92/92 [==============================] - 2s 22ms/step - loss: 1956618.5000 - root_mean_squared_error: 1398.7917 - val_loss: 2732395.0000 - val_root_mean_squared_error: 1652.9957\n",
            "Epoch 126/150\n",
            "92/92 [==============================] - 3s 30ms/step - loss: 1851720.2500 - root_mean_squared_error: 1360.7793 - val_loss: 2710776.5000 - val_root_mean_squared_error: 1646.4436\n",
            "Epoch 127/150\n",
            "92/92 [==============================] - 3s 30ms/step - loss: 1935016.1250 - root_mean_squared_error: 1391.0486 - val_loss: 2730287.2500 - val_root_mean_squared_error: 1652.3580\n",
            "Epoch 128/150\n",
            "92/92 [==============================] - 2s 22ms/step - loss: 1903467.2500 - root_mean_squared_error: 1379.6620 - val_loss: 2598539.5000 - val_root_mean_squared_error: 1611.9987\n",
            "Epoch 129/150\n",
            "92/92 [==============================] - 2s 22ms/step - loss: 1936477.0000 - root_mean_squared_error: 1391.5736 - val_loss: 2689666.7500 - val_root_mean_squared_error: 1640.0204\n",
            "Epoch 130/150\n",
            "92/92 [==============================] - 2s 22ms/step - loss: 1869604.3750 - root_mean_squared_error: 1367.3347 - val_loss: 2684869.2500 - val_root_mean_squared_error: 1638.5570\n",
            "Epoch 131/150\n",
            "92/92 [==============================] - 3s 36ms/step - loss: 1969617.1250 - root_mean_squared_error: 1403.4305 - val_loss: 2650282.5000 - val_root_mean_squared_error: 1627.9689\n",
            "Epoch 132/150\n",
            "92/92 [==============================] - 2s 22ms/step - loss: 1947370.2500 - root_mean_squared_error: 1395.4821 - val_loss: 2674500.0000 - val_root_mean_squared_error: 1635.3899\n",
            "Epoch 133/150\n",
            "92/92 [==============================] - 2s 23ms/step - loss: 1937716.2500 - root_mean_squared_error: 1392.0188 - val_loss: 2650950.2500 - val_root_mean_squared_error: 1628.1740\n",
            "Epoch 134/150\n",
            "92/92 [==============================] - 2s 22ms/step - loss: 1897084.7500 - root_mean_squared_error: 1377.3470 - val_loss: 2730607.5000 - val_root_mean_squared_error: 1652.4550\n",
            "Epoch 135/150\n",
            "92/92 [==============================] - 3s 29ms/step - loss: 1797786.8750 - root_mean_squared_error: 1340.8158 - val_loss: 2722633.2500 - val_root_mean_squared_error: 1650.0404\n",
            "Epoch 136/150\n",
            "92/92 [==============================] - 2s 23ms/step - loss: 1916840.6250 - root_mean_squared_error: 1384.5001 - val_loss: 2617288.7500 - val_root_mean_squared_error: 1617.8037\n",
            "Epoch 137/150\n",
            "92/92 [==============================] - 2s 23ms/step - loss: 1912791.2500 - root_mean_squared_error: 1383.0370 - val_loss: 2593039.5000 - val_root_mean_squared_error: 1610.2917\n",
            "Epoch 138/150\n",
            "92/92 [==============================] - 2s 22ms/step - loss: 1815321.2500 - root_mean_squared_error: 1347.3386 - val_loss: 2795786.0000 - val_root_mean_squared_error: 1672.0604\n",
            "Epoch 139/150\n",
            "92/92 [==============================] - 2s 22ms/step - loss: 1905671.7500 - root_mean_squared_error: 1380.4607 - val_loss: 2787395.2500 - val_root_mean_squared_error: 1669.5494\n",
            "Epoch 140/150\n",
            "92/92 [==============================] - 3s 32ms/step - loss: 1862411.7500 - root_mean_squared_error: 1364.7020 - val_loss: 2767459.5000 - val_root_mean_squared_error: 1663.5684\n",
            "Epoch 141/150\n",
            "92/92 [==============================] - 2s 22ms/step - loss: 1842620.6250 - root_mean_squared_error: 1357.4316 - val_loss: 2646671.2500 - val_root_mean_squared_error: 1626.8594\n",
            "Epoch 142/150\n",
            "92/92 [==============================] - 2s 22ms/step - loss: 1932983.8750 - root_mean_squared_error: 1390.3179 - val_loss: 2818819.7500 - val_root_mean_squared_error: 1678.9341\n",
            "Epoch 143/150\n",
            "92/92 [==============================] - 2s 22ms/step - loss: 1821924.5000 - root_mean_squared_error: 1349.7869 - val_loss: 2633278.5000 - val_root_mean_squared_error: 1622.7379\n",
            "Epoch 144/150\n",
            "92/92 [==============================] - 2s 22ms/step - loss: 1946405.7500 - root_mean_squared_error: 1395.1365 - val_loss: 2643219.7500 - val_root_mean_squared_error: 1625.7982\n",
            "Epoch 145/150\n",
            "92/92 [==============================] - 3s 33ms/step - loss: 1894699.5000 - root_mean_squared_error: 1376.4808 - val_loss: 2629119.0000 - val_root_mean_squared_error: 1621.4558\n",
            "Epoch 146/150\n",
            "92/92 [==============================] - 2s 25ms/step - loss: 1882201.5000 - root_mean_squared_error: 1371.9335 - val_loss: 2778086.2500 - val_root_mean_squared_error: 1666.7592\n",
            "Epoch 147/150\n",
            "92/92 [==============================] - 2s 22ms/step - loss: 1833665.1250 - root_mean_squared_error: 1354.1289 - val_loss: 2716715.7500 - val_root_mean_squared_error: 1648.2462\n",
            "Epoch 148/150\n",
            "92/92 [==============================] - 2s 23ms/step - loss: 1910137.2500 - root_mean_squared_error: 1382.0771 - val_loss: 2729581.2500 - val_root_mean_squared_error: 1652.1444\n",
            "Epoch 149/150\n",
            "92/92 [==============================] - 2s 22ms/step - loss: 1847541.0000 - root_mean_squared_error: 1359.2428 - val_loss: 2723146.2500 - val_root_mean_squared_error: 1650.1958\n",
            "Epoch 150/150\n",
            "92/92 [==============================] - 3s 30ms/step - loss: 1795471.1250 - root_mean_squared_error: 1339.9519 - val_loss: 2696262.2500 - val_root_mean_squared_error: 1642.0299\n"
          ]
        }
      ]
    },
    {
      "cell_type": "code",
      "source": [
        "# Create the array for the x axis, starting from 1\n",
        "epochs = np.arange(1, len(history.history[\"root_mean_squared_error\"])+1)\n",
        "train_rmse = history.history[\"root_mean_squared_error\"]\n",
        "dev_rmse = history.history[\"val_root_mean_squared_error\"]\n",
        "\n",
        "# Create a line chart with two lines using Plotly Express\n",
        "fig = px.line(title='train RMSE vs. dev RMSE')\n",
        "fig.add_scatter(x=epochs, y=train_rmse, mode='lines+markers', name='Train RMSE', line=dict(color='red'))\n",
        "fig.add_scatter(x=epochs, y=dev_rmse, mode='lines+markers', name='Dev RMSE', line=dict(color='blue'))\n",
        "\n",
        "\n",
        "# Set chart title and axis labels\n",
        "fig.update_layout(\n",
        "    xaxis_title='Epochs',\n",
        "    yaxis_title='RMSE'\n",
        ")\n",
        "\n",
        "# Show the chart\n",
        "fig.show()"
      ],
      "metadata": {
        "id": "7i6bKNcPps07"
      },
      "id": "7i6bKNcPps07",
      "execution_count": null,
      "outputs": []
    },
    {
      "cell_type": "code",
      "source": [
        "\"\"\"\n",
        "# Explain model predictions using shap library:\n",
        "explainer = shap.DeepExplainer(model_seq, X_train_scaled_3d)\n",
        "shap_values = explainer.shap_values(X_train_scaled_3d)\n",
        "\n",
        "# Plot summary_plot as barplot:\n",
        "shap.summary_plot(shap_values, X_train_scaled, feature_names=features, plot_type='bar', plot_size=[15,5])\n",
        "\"\"\""
      ],
      "metadata": {
        "id": "de-Brsyzo-9-"
      },
      "id": "de-Brsyzo-9-",
      "execution_count": null,
      "outputs": []
    },
    {
      "cell_type": "code",
      "source": [
        "rmse_train = model_seq.evaluate(dataset_train)[1]\n",
        "print(\"Train RMSE: %f\" % (rmse_train))\n",
        "\n",
        "rmse_dev = model_seq.evaluate(dataset_dev)[1]\n",
        "print(\"Dev RMSE: %f\" % (rmse_dev))\n",
        "\n",
        "rmse_test = model_seq.evaluate(dataset_test)[1]\n",
        "print(\"Test RMSE: %f\" % (rmse_test))"
      ],
      "metadata": {
        "id": "huPaO6jSzdsC",
        "outputId": "b95b9a32-07a7-4f34-fd2d-b5f33743fd11",
        "colab": {
          "base_uri": "https://localhost:8080/"
        }
      },
      "id": "huPaO6jSzdsC",
      "execution_count": null,
      "outputs": [
        {
          "output_type": "stream",
          "name": "stdout",
          "text": [
            "92/92 [==============================] - 2s 12ms/step - loss: 43536748.0000 - root_mean_squared_error: 6598.2383\n",
            "Train RMSE: 6598.238281\n",
            "12/12 [==============================] - 0s 13ms/step - loss: 44404240.0000 - root_mean_squared_error: 6663.6509\n",
            "Dev RMSE: 6663.650879\n",
            "12/12 [==============================] - 0s 11ms/step - loss: 48341416.0000 - root_mean_squared_error: 6952.7993\n",
            "Test RMSE: 6952.799316\n"
          ]
        }
      ]
    },
    {
      "cell_type": "markdown",
      "metadata": {
        "id": "Kggn8mzVQ9AJ"
      },
      "source": [
        "<a name=\"6.4.3.\"></a>\n",
        "### 6.4.3. Results\n",
        "[Content](#content)"
      ],
      "id": "Kggn8mzVQ9AJ"
    },
    {
      "cell_type": "markdown",
      "source": [
        "The best RMSE score of our baseline models is $2.033$. With the MLP model we were able to get a RMSE score of $1.608$ for the dev set and a RMSE score of $1.426$ for the test set. Same as before, the better performance for the test set, could be due to a greater similarity of the year 2022 to the training period compared to the year 2021.\n",
        "\n",
        "Our model performs therefore $29.9\\%$ better than our best baseline model and a litle worse than the XGBoost model.\n",
        "\n",
        "The most important features according to `shap`-values are the weekly and monthly periodicity and the maximum temperature forecast as well as the label vacation and therefore overall the same as for XGBoost, but with some minor differences."
      ],
      "metadata": {
        "id": "KjROzhHtQ9AK"
      },
      "id": "KjROzhHtQ9AK"
    },
    {
      "cell_type": "markdown",
      "metadata": {
        "id": "v3FCqONIDCU2"
      },
      "source": [
        "<a name=\"7.\"></a>\n",
        "# 7.&nbsp;Summary and conclusion\n",
        "[Content](#content)"
      ],
      "id": "v3FCqONIDCU2"
    },
    {
      "cell_type": "markdown",
      "source": [
        "We have trained three different models with increasing complexity. For the problem at hand it can be said that the more complex MLP model or LSTM model did not perform better, than the simpler XGBoost model. In fact, the LSTM model performt worse than the two previous ones.\n",
        "\n",
        "While the XGBoost model already did well with standard parameters, it was more difficult to find a good architecture with the more complex model MLP and LSTM which was especially true for the last model.\n",
        "\n",
        "A possible reason, why the LSTM model performed worse could be, that the problem at hand has not a strong sequential nature. The dataset is clearly time series data, but the different data points are not very dependent on the previous data points. An easy ilustration to this is, that the people taking a bycicle today, do not care about the weather of yesterday or how many people took the bicyle one day ago. Much more relevant is the current day of the week (cyclical patterns) and the weather of today. Therefore the sequential LSTM model mostly added complexity without adding much of value for the problem. A remedy to this added complexity of the RNN while still incorporating relevant sequential data could be the discussed procedure in [chapter 6.1.](#6.1.) by adding only the target values of the previous days as features."
      ],
      "metadata": {
        "id": "urK_A--4Duuj"
      },
      "id": "urK_A--4Duuj"
    }
  ],
  "metadata": {
    "colab": {
      "provenance": []
    },
    "kernelspec": {
      "display_name": "Python 3 (ipykernel)",
      "language": "python",
      "name": "python3"
    },
    "language_info": {
      "codemirror_mode": {
        "name": "ipython",
        "version": 3
      },
      "file_extension": ".py",
      "mimetype": "text/x-python",
      "name": "python",
      "nbconvert_exporter": "python",
      "pygments_lexer": "ipython3",
      "version": "3.9.2"
    }
  },
  "nbformat": 4,
  "nbformat_minor": 5
}