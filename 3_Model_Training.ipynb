{
  "cells": [
    {
      "cell_type": "markdown",
      "source": [
        "# Notebook"
      ],
      "metadata": {
        "id": "CBLnLwZIZpWJ"
      },
      "id": "CBLnLwZIZpWJ"
    },
    {
      "cell_type": "markdown",
      "source": [
        "In the Model learning step, the prepared dataset from [2_EDA](https://github.com/Rudinius/Bike_usage_Bremen/blob/57e21c8dd687aadc1498f82241cf662840c8b871/2_EDA.ipynb) is loaded. Then different machine learning algorithms are trained and compared to each other."
      ],
      "metadata": {
        "id": "lZXvJFJqZuRE"
      },
      "id": "lZXvJFJqZuRE"
    },
    {
      "cell_type": "markdown",
      "metadata": {
        "id": "0c910711"
      },
      "source": [
        "<a name=\"content\"></a>\n",
        "# Content \n",
        "\n",
        "* [1. Import libraries and mount drive](#1)\n",
        "* [2. Import datasets](#2)\n",
        "* [3. Transform columns](#3)\n",
        "* [4. Establish baseline benchmark](#4)\n",
        "* [5. Training machine learning algorithms](#5)\n",
        "    * [5.2. XGBoost](#5.2.)\n",
        "    * [5.3. Multilayer perceptron](#5.3.)\n",
        "    * [5.4. Recurrent Neural Network](#5.4.)"
      ],
      "id": "0c910711"
    },
    {
      "cell_type": "markdown",
      "metadata": {
        "id": "85f76996"
      },
      "source": [
        "<a name=\"1\"></a>\n",
        "# 1.&nbsp;Import libraries\n",
        "[Content](#content)"
      ],
      "id": "85f76996"
    },
    {
      "cell_type": "code",
      "execution_count": 44,
      "metadata": {
        "id": "3731ea33",
        "colab": {
          "base_uri": "https://localhost:8080/"
        },
        "outputId": "1342b3c9-7e3b-40f9-a825-a25407f412a9"
      },
      "outputs": [
        {
          "output_type": "stream",
          "name": "stderr",
          "text": [
            "/usr/local/lib/python3.9/dist-packages/ipykernel/ipkernel.py:283: DeprecationWarning:\n",
            "\n",
            "`should_run_async` will not call `transform_cell` automatically in the future. Please pass the result to `transformed_cell` argument and any exception that happen during thetransform in `preprocessing_exc_tuple` in IPython 7.17 and above.\n",
            "\n"
          ]
        }
      ],
      "source": [
        "# Import libraries\n",
        "import numpy as np\n",
        "import pandas as pd\n",
        "import plotly.express as px\n",
        "import plotly.graph_objs as go\n",
        "from plotly.subplots import make_subplots\n",
        "import random\n",
        "from sklearn.metrics import mean_squared_error\n",
        "from sklearn.model_selection import cross_val_score, GridSearchCV, train_test_split, TimeSeriesSplit\n",
        "from sklearn.preprocessing import OneHotEncoder\n",
        "from sklearn.preprocessing import StandardScaler\n",
        "import xgboost as xgb\n",
        "from keras.models import Sequential\n",
        "from keras.layers import Dense\n",
        "from keras.layers import Input\n",
        "from tensorflow.keras.optimizers import Adam\n",
        "from tensorflow.keras.metrics import RootMeanSquaredError"
      ],
      "id": "3731ea33"
    },
    {
      "cell_type": "code",
      "source": [
        "# Install package pyjanitor since it is not part of the standard packages\n",
        "# of Google Colab\n",
        "\n",
        "import importlib\n",
        "\n",
        "# Check if package is installed\n",
        "package_name = \"pyjanitor\"\n",
        "spec = importlib.util.find_spec(package_name)\n",
        "if spec is None:\n",
        "    # Package is not installed, install it via pip\n",
        "    !pip install pyjanitor\n",
        "else:\n",
        "    print(f\"{package_name} is already installed\")\n",
        "\n",
        "import janitor"
      ],
      "metadata": {
        "id": "LcKvjPd27cDu",
        "outputId": "647f0753-46fa-4e85-91b4-ce378c263838",
        "colab": {
          "base_uri": "https://localhost:8080/"
        }
      },
      "id": "LcKvjPd27cDu",
      "execution_count": 2,
      "outputs": [
        {
          "output_type": "stream",
          "name": "stdout",
          "text": [
            "Looking in indexes: https://pypi.org/simple, https://us-python.pkg.dev/colab-wheels/public/simple/\n",
            "Collecting pyjanitor\n",
            "  Downloading pyjanitor-0.24.0-py3-none-any.whl (158 kB)\n",
            "\u001b[2K     \u001b[90m━━━━━━━━━━━━━━━━━━━━━━━━━━━━━━━━━━━━━━━\u001b[0m \u001b[32m158.4/158.4 kB\u001b[0m \u001b[31m3.2 MB/s\u001b[0m eta \u001b[36m0:00:00\u001b[0m\n",
            "\u001b[?25hRequirement already satisfied: multipledispatch in /usr/local/lib/python3.9/dist-packages (from pyjanitor) (0.6.0)\n",
            "Requirement already satisfied: natsort in /usr/local/lib/python3.9/dist-packages (from pyjanitor) (8.3.1)\n",
            "Collecting pandas-flavor\n",
            "  Downloading pandas_flavor-0.5.0-py3-none-any.whl (7.1 kB)\n",
            "Requirement already satisfied: scipy in /usr/local/lib/python3.9/dist-packages (from pyjanitor) (1.10.1)\n",
            "Requirement already satisfied: lazy-loader in /usr/local/lib/python3.9/dist-packages (from pyjanitor) (0.2)\n",
            "Requirement already satisfied: six in /usr/local/lib/python3.9/dist-packages (from multipledispatch->pyjanitor) (1.16.0)\n",
            "Requirement already satisfied: xarray in /usr/local/lib/python3.9/dist-packages (from pandas-flavor->pyjanitor) (2022.12.0)\n",
            "Requirement already satisfied: pandas>=0.23 in /usr/local/lib/python3.9/dist-packages (from pandas-flavor->pyjanitor) (1.5.3)\n",
            "Requirement already satisfied: numpy<1.27.0,>=1.19.5 in /usr/local/lib/python3.9/dist-packages (from scipy->pyjanitor) (1.22.4)\n",
            "Requirement already satisfied: pytz>=2020.1 in /usr/local/lib/python3.9/dist-packages (from pandas>=0.23->pandas-flavor->pyjanitor) (2022.7.1)\n",
            "Requirement already satisfied: python-dateutil>=2.8.1 in /usr/local/lib/python3.9/dist-packages (from pandas>=0.23->pandas-flavor->pyjanitor) (2.8.2)\n",
            "Requirement already satisfied: packaging>=21.3 in /usr/local/lib/python3.9/dist-packages (from xarray->pandas-flavor->pyjanitor) (23.1)\n",
            "Installing collected packages: pandas-flavor, pyjanitor\n",
            "Successfully installed pandas-flavor-0.5.0 pyjanitor-0.24.0\n"
          ]
        }
      ]
    },
    {
      "cell_type": "markdown",
      "metadata": {
        "id": "2516jhMiVxrJ"
      },
      "source": [
        "<a name=\"2\"></a>\n",
        "#2.&nbsp;Import dataset\n",
        "[Content](#content)"
      ],
      "id": "2516jhMiVxrJ"
    },
    {
      "cell_type": "markdown",
      "source": [
        "Next, we will import the processed dataset from [2_EDA](../Bike_usage_Bremen/2_EDA.ipynb)."
      ],
      "metadata": {
        "id": "IF9lS_3ok1tO"
      },
      "id": "IF9lS_3ok1tO"
    },
    {
      "cell_type": "code",
      "execution_count": 3,
      "metadata": {
        "id": "Xu3OXfHqVxfa",
        "outputId": "9c0ace69-97b4-4e4b-92d9-68be05c84dbc",
        "colab": {
          "base_uri": "https://localhost:8080/"
        }
      },
      "outputs": [
        {
          "output_type": "stream",
          "name": "stderr",
          "text": [
            "/usr/local/lib/python3.9/dist-packages/ipykernel/ipkernel.py:283: DeprecationWarning: `should_run_async` will not call `transform_cell` automatically in the future. Please pass the result to `transformed_cell` argument and any exception that happen during thetransform in `preprocessing_exc_tuple` in IPython 7.17 and above.\n",
            "  and should_run_async(code)\n"
          ]
        }
      ],
      "source": [
        "# Set base url\n",
        "url = \"https://raw.githubusercontent.com/Rudinius/Bike_usage_Bremen/main/data/\""
      ],
      "id": "Xu3OXfHqVxfa"
    },
    {
      "cell_type": "code",
      "execution_count": 4,
      "metadata": {
        "colab": {
          "base_uri": "https://localhost:8080/",
          "height": 452
        },
        "id": "2etHV6ODVsUV",
        "outputId": "8774dd2b-8f45-44a9-e198-5e0a21b7b7ba"
      },
      "outputs": [
        {
          "output_type": "stream",
          "name": "stderr",
          "text": [
            "/usr/local/lib/python3.9/dist-packages/ipykernel/ipkernel.py:283: DeprecationWarning: `should_run_async` will not call `transform_cell` automatically in the future. Please pass the result to `transformed_cell` argument and any exception that happen during thetransform in `preprocessing_exc_tuple` in IPython 7.17 and above.\n",
            "  and should_run_async(code)\n"
          ]
        },
        {
          "output_type": "execute_result",
          "data": {
            "text/plain": [
              "            weekday  graf_moltke_straße_ostseite  \\\n",
              "date                                               \n",
              "2013-01-01        1                        261.0   \n",
              "2013-01-02        2                        750.0   \n",
              "2013-01-03        3                        931.0   \n",
              "2013-01-04        4                        500.0   \n",
              "2013-01-05        5                       1013.0   \n",
              "\n",
              "            graf_moltke_straße_westseite  hastedter_bruckenstraße  \\\n",
              "date                                                                \n",
              "2013-01-01                         290.0                    381.0   \n",
              "2013-01-02                         876.0                   1109.0   \n",
              "2013-01-03                        1015.0                   1603.0   \n",
              "2013-01-04                         587.0                   1284.0   \n",
              "2013-01-05                        1011.0                   1284.0   \n",
              "\n",
              "            langemarckstraße_ostseite  langemarckstraße_westseite  osterdeich  \\\n",
              "date                                                                            \n",
              "2013-01-01                      312.0                       308.0       870.0   \n",
              "2013-01-02                     1258.0                      1120.0      2169.0   \n",
              "2013-01-03                     1556.0                      1480.0      2295.0   \n",
              "2013-01-04                      703.0                       626.0      1640.0   \n",
              "2013-01-05                     1856.0                      1621.0      4128.0   \n",
              "\n",
              "            radweg_kleine_weser  schwachhauser_ring  \\\n",
              "date                                                  \n",
              "2013-01-01                410.0               391.0   \n",
              "2013-01-02               1762.0               829.0   \n",
              "2013-01-03               2287.0              1196.0   \n",
              "2013-01-04               1548.0              1418.0   \n",
              "2013-01-05               4256.0              3075.0   \n",
              "\n",
              "            wachmannstraße_auswarts_sud  ...  tmax  prcp  snow   wdir  wspd  \\\n",
              "date                                     ...                                  \n",
              "2013-01-01                        514.0  ...   9.1   6.9   0.0  233.0  19.4   \n",
              "2013-01-02                       1786.0  ...   7.1   1.8   0.0  246.0  20.2   \n",
              "2013-01-03                       2412.0  ...  10.6   0.9   0.0  257.0  23.8   \n",
              "2013-01-04                        964.0  ...   9.7   0.0   0.0  276.0  25.2   \n",
              "2013-01-05                       2065.0  ...   8.6   0.1   0.0  293.0  20.2   \n",
              "\n",
              "            wpgt    pres  tsun  holiday          vacation  \n",
              "date                                                       \n",
              "2013-01-01  50.4  1001.8     0  Neujahr  Weihnachtsferien  \n",
              "2013-01-02  40.0  1017.5    30      NaN  Weihnachtsferien  \n",
              "2013-01-03  45.7  1024.5     0      NaN  Weihnachtsferien  \n",
              "2013-01-04  48.2  1029.5     0      NaN  Weihnachtsferien  \n",
              "2013-01-05  41.0  1029.9     0      NaN  Weihnachtsferien  \n",
              "\n",
              "[5 rows x 26 columns]"
            ],
            "text/html": [
              "\n",
              "  <div id=\"df-75abf23d-c7b5-4746-a78a-89574c60761b\">\n",
              "    <div class=\"colab-df-container\">\n",
              "      <div>\n",
              "<style scoped>\n",
              "    .dataframe tbody tr th:only-of-type {\n",
              "        vertical-align: middle;\n",
              "    }\n",
              "\n",
              "    .dataframe tbody tr th {\n",
              "        vertical-align: top;\n",
              "    }\n",
              "\n",
              "    .dataframe thead th {\n",
              "        text-align: right;\n",
              "    }\n",
              "</style>\n",
              "<table border=\"1\" class=\"dataframe\">\n",
              "  <thead>\n",
              "    <tr style=\"text-align: right;\">\n",
              "      <th></th>\n",
              "      <th>weekday</th>\n",
              "      <th>graf_moltke_straße_ostseite</th>\n",
              "      <th>graf_moltke_straße_westseite</th>\n",
              "      <th>hastedter_bruckenstraße</th>\n",
              "      <th>langemarckstraße_ostseite</th>\n",
              "      <th>langemarckstraße_westseite</th>\n",
              "      <th>osterdeich</th>\n",
              "      <th>radweg_kleine_weser</th>\n",
              "      <th>schwachhauser_ring</th>\n",
              "      <th>wachmannstraße_auswarts_sud</th>\n",
              "      <th>...</th>\n",
              "      <th>tmax</th>\n",
              "      <th>prcp</th>\n",
              "      <th>snow</th>\n",
              "      <th>wdir</th>\n",
              "      <th>wspd</th>\n",
              "      <th>wpgt</th>\n",
              "      <th>pres</th>\n",
              "      <th>tsun</th>\n",
              "      <th>holiday</th>\n",
              "      <th>vacation</th>\n",
              "    </tr>\n",
              "    <tr>\n",
              "      <th>date</th>\n",
              "      <th></th>\n",
              "      <th></th>\n",
              "      <th></th>\n",
              "      <th></th>\n",
              "      <th></th>\n",
              "      <th></th>\n",
              "      <th></th>\n",
              "      <th></th>\n",
              "      <th></th>\n",
              "      <th></th>\n",
              "      <th></th>\n",
              "      <th></th>\n",
              "      <th></th>\n",
              "      <th></th>\n",
              "      <th></th>\n",
              "      <th></th>\n",
              "      <th></th>\n",
              "      <th></th>\n",
              "      <th></th>\n",
              "      <th></th>\n",
              "      <th></th>\n",
              "    </tr>\n",
              "  </thead>\n",
              "  <tbody>\n",
              "    <tr>\n",
              "      <th>2013-01-01</th>\n",
              "      <td>1</td>\n",
              "      <td>261.0</td>\n",
              "      <td>290.0</td>\n",
              "      <td>381.0</td>\n",
              "      <td>312.0</td>\n",
              "      <td>308.0</td>\n",
              "      <td>870.0</td>\n",
              "      <td>410.0</td>\n",
              "      <td>391.0</td>\n",
              "      <td>514.0</td>\n",
              "      <td>...</td>\n",
              "      <td>9.1</td>\n",
              "      <td>6.9</td>\n",
              "      <td>0.0</td>\n",
              "      <td>233.0</td>\n",
              "      <td>19.4</td>\n",
              "      <td>50.4</td>\n",
              "      <td>1001.8</td>\n",
              "      <td>0</td>\n",
              "      <td>Neujahr</td>\n",
              "      <td>Weihnachtsferien</td>\n",
              "    </tr>\n",
              "    <tr>\n",
              "      <th>2013-01-02</th>\n",
              "      <td>2</td>\n",
              "      <td>750.0</td>\n",
              "      <td>876.0</td>\n",
              "      <td>1109.0</td>\n",
              "      <td>1258.0</td>\n",
              "      <td>1120.0</td>\n",
              "      <td>2169.0</td>\n",
              "      <td>1762.0</td>\n",
              "      <td>829.0</td>\n",
              "      <td>1786.0</td>\n",
              "      <td>...</td>\n",
              "      <td>7.1</td>\n",
              "      <td>1.8</td>\n",
              "      <td>0.0</td>\n",
              "      <td>246.0</td>\n",
              "      <td>20.2</td>\n",
              "      <td>40.0</td>\n",
              "      <td>1017.5</td>\n",
              "      <td>30</td>\n",
              "      <td>NaN</td>\n",
              "      <td>Weihnachtsferien</td>\n",
              "    </tr>\n",
              "    <tr>\n",
              "      <th>2013-01-03</th>\n",
              "      <td>3</td>\n",
              "      <td>931.0</td>\n",
              "      <td>1015.0</td>\n",
              "      <td>1603.0</td>\n",
              "      <td>1556.0</td>\n",
              "      <td>1480.0</td>\n",
              "      <td>2295.0</td>\n",
              "      <td>2287.0</td>\n",
              "      <td>1196.0</td>\n",
              "      <td>2412.0</td>\n",
              "      <td>...</td>\n",
              "      <td>10.6</td>\n",
              "      <td>0.9</td>\n",
              "      <td>0.0</td>\n",
              "      <td>257.0</td>\n",
              "      <td>23.8</td>\n",
              "      <td>45.7</td>\n",
              "      <td>1024.5</td>\n",
              "      <td>0</td>\n",
              "      <td>NaN</td>\n",
              "      <td>Weihnachtsferien</td>\n",
              "    </tr>\n",
              "    <tr>\n",
              "      <th>2013-01-04</th>\n",
              "      <td>4</td>\n",
              "      <td>500.0</td>\n",
              "      <td>587.0</td>\n",
              "      <td>1284.0</td>\n",
              "      <td>703.0</td>\n",
              "      <td>626.0</td>\n",
              "      <td>1640.0</td>\n",
              "      <td>1548.0</td>\n",
              "      <td>1418.0</td>\n",
              "      <td>964.0</td>\n",
              "      <td>...</td>\n",
              "      <td>9.7</td>\n",
              "      <td>0.0</td>\n",
              "      <td>0.0</td>\n",
              "      <td>276.0</td>\n",
              "      <td>25.2</td>\n",
              "      <td>48.2</td>\n",
              "      <td>1029.5</td>\n",
              "      <td>0</td>\n",
              "      <td>NaN</td>\n",
              "      <td>Weihnachtsferien</td>\n",
              "    </tr>\n",
              "    <tr>\n",
              "      <th>2013-01-05</th>\n",
              "      <td>5</td>\n",
              "      <td>1013.0</td>\n",
              "      <td>1011.0</td>\n",
              "      <td>1284.0</td>\n",
              "      <td>1856.0</td>\n",
              "      <td>1621.0</td>\n",
              "      <td>4128.0</td>\n",
              "      <td>4256.0</td>\n",
              "      <td>3075.0</td>\n",
              "      <td>2065.0</td>\n",
              "      <td>...</td>\n",
              "      <td>8.6</td>\n",
              "      <td>0.1</td>\n",
              "      <td>0.0</td>\n",
              "      <td>293.0</td>\n",
              "      <td>20.2</td>\n",
              "      <td>41.0</td>\n",
              "      <td>1029.9</td>\n",
              "      <td>0</td>\n",
              "      <td>NaN</td>\n",
              "      <td>Weihnachtsferien</td>\n",
              "    </tr>\n",
              "  </tbody>\n",
              "</table>\n",
              "<p>5 rows × 26 columns</p>\n",
              "</div>\n",
              "      <button class=\"colab-df-convert\" onclick=\"convertToInteractive('df-75abf23d-c7b5-4746-a78a-89574c60761b')\"\n",
              "              title=\"Convert this dataframe to an interactive table.\"\n",
              "              style=\"display:none;\">\n",
              "        \n",
              "  <svg xmlns=\"http://www.w3.org/2000/svg\" height=\"24px\"viewBox=\"0 0 24 24\"\n",
              "       width=\"24px\">\n",
              "    <path d=\"M0 0h24v24H0V0z\" fill=\"none\"/>\n",
              "    <path d=\"M18.56 5.44l.94 2.06.94-2.06 2.06-.94-2.06-.94-.94-2.06-.94 2.06-2.06.94zm-11 1L8.5 8.5l.94-2.06 2.06-.94-2.06-.94L8.5 2.5l-.94 2.06-2.06.94zm10 10l.94 2.06.94-2.06 2.06-.94-2.06-.94-.94-2.06-.94 2.06-2.06.94z\"/><path d=\"M17.41 7.96l-1.37-1.37c-.4-.4-.92-.59-1.43-.59-.52 0-1.04.2-1.43.59L10.3 9.45l-7.72 7.72c-.78.78-.78 2.05 0 2.83L4 21.41c.39.39.9.59 1.41.59.51 0 1.02-.2 1.41-.59l7.78-7.78 2.81-2.81c.8-.78.8-2.07 0-2.86zM5.41 20L4 18.59l7.72-7.72 1.47 1.35L5.41 20z\"/>\n",
              "  </svg>\n",
              "      </button>\n",
              "      \n",
              "  <style>\n",
              "    .colab-df-container {\n",
              "      display:flex;\n",
              "      flex-wrap:wrap;\n",
              "      gap: 12px;\n",
              "    }\n",
              "\n",
              "    .colab-df-convert {\n",
              "      background-color: #E8F0FE;\n",
              "      border: none;\n",
              "      border-radius: 50%;\n",
              "      cursor: pointer;\n",
              "      display: none;\n",
              "      fill: #1967D2;\n",
              "      height: 32px;\n",
              "      padding: 0 0 0 0;\n",
              "      width: 32px;\n",
              "    }\n",
              "\n",
              "    .colab-df-convert:hover {\n",
              "      background-color: #E2EBFA;\n",
              "      box-shadow: 0px 1px 2px rgba(60, 64, 67, 0.3), 0px 1px 3px 1px rgba(60, 64, 67, 0.15);\n",
              "      fill: #174EA6;\n",
              "    }\n",
              "\n",
              "    [theme=dark] .colab-df-convert {\n",
              "      background-color: #3B4455;\n",
              "      fill: #D2E3FC;\n",
              "    }\n",
              "\n",
              "    [theme=dark] .colab-df-convert:hover {\n",
              "      background-color: #434B5C;\n",
              "      box-shadow: 0px 1px 3px 1px rgba(0, 0, 0, 0.15);\n",
              "      filter: drop-shadow(0px 1px 2px rgba(0, 0, 0, 0.3));\n",
              "      fill: #FFFFFF;\n",
              "    }\n",
              "  </style>\n",
              "\n",
              "      <script>\n",
              "        const buttonEl =\n",
              "          document.querySelector('#df-75abf23d-c7b5-4746-a78a-89574c60761b button.colab-df-convert');\n",
              "        buttonEl.style.display =\n",
              "          google.colab.kernel.accessAllowed ? 'block' : 'none';\n",
              "\n",
              "        async function convertToInteractive(key) {\n",
              "          const element = document.querySelector('#df-75abf23d-c7b5-4746-a78a-89574c60761b');\n",
              "          const dataTable =\n",
              "            await google.colab.kernel.invokeFunction('convertToInteractive',\n",
              "                                                     [key], {});\n",
              "          if (!dataTable) return;\n",
              "\n",
              "          const docLinkHtml = 'Like what you see? Visit the ' +\n",
              "            '<a target=\"_blank\" href=https://colab.research.google.com/notebooks/data_table.ipynb>data table notebook</a>'\n",
              "            + ' to learn more about interactive tables.';\n",
              "          element.innerHTML = '';\n",
              "          dataTable['output_type'] = 'display_data';\n",
              "          await google.colab.output.renderOutput(dataTable, element);\n",
              "          const docLink = document.createElement('div');\n",
              "          docLink.innerHTML = docLinkHtml;\n",
              "          element.appendChild(docLink);\n",
              "        }\n",
              "      </script>\n",
              "    </div>\n",
              "  </div>\n",
              "  "
            ]
          },
          "metadata": {},
          "execution_count": 4
        }
      ],
      "source": [
        "# Import dataset\n",
        "\n",
        "# We will also parse the date column as datetime64 and set it to the index column\n",
        "df = pd.read_csv(url + \"03_training_data/\" + \"2023-04-21_df_full.csv\", \n",
        "                         parse_dates=[0], index_col=[0])\n",
        "\n",
        "# Check the correct loading of dataset\n",
        "df.head()"
      ],
      "id": "2etHV6ODVsUV"
    },
    {
      "cell_type": "markdown",
      "source": [
        "<a name=\"3\"></a>\n",
        "# 3. Transform columns\n",
        "[Content](#content)"
      ],
      "metadata": {
        "id": "LIog4gAun3Gh"
      },
      "id": "LIog4gAun3Gh"
    },
    {
      "cell_type": "markdown",
      "source": [
        "We need to transform the columns `Holiday` and `Vacation` using `One-Hot-Encoding` to change the categorical columns to numerical columns. Then we need to drop the original columns."
      ],
      "metadata": {
        "id": "1KinSwc3oDMj"
      },
      "id": "1KinSwc3oDMj"
    },
    {
      "cell_type": "code",
      "execution_count": 5,
      "metadata": {
        "id": "zZnhFuQN-QT2",
        "outputId": "b2f06ade-6656-4f31-fbc0-07f89aa66776",
        "colab": {
          "base_uri": "https://localhost:8080/"
        }
      },
      "outputs": [
        {
          "output_type": "stream",
          "name": "stderr",
          "text": [
            "/usr/local/lib/python3.9/dist-packages/ipykernel/ipkernel.py:283: DeprecationWarning: `should_run_async` will not call `transform_cell` automatically in the future. Please pass the result to `transformed_cell` argument and any exception that happen during thetransform in `preprocessing_exc_tuple` in IPython 7.17 and above.\n",
            "  and should_run_async(code)\n"
          ]
        }
      ],
      "source": [
        "# Use One Hot Encoder\n",
        "OH_encoder = OneHotEncoder()\n",
        "transformed_array = OH_encoder.fit_transform(df.loc[:,\"holiday\": \"vacation\"]).toarray()\n",
        "df_holiday_vacation_transformed = pd.DataFrame(transformed_array, \n",
        "                              columns=OH_encoder.get_feature_names_out(), \n",
        "                              index = df.index)              \n",
        "# Drop the columns with Holiday_nan and Vacation_nan as those hold no additional value          \n",
        "df_holiday_vacation_transformed = df_holiday_vacation_transformed.drop([\"holiday_nan\", \"vacation_nan\"], axis=1)\n",
        "\n",
        "# Drop the old categorical columns Holiday and Vacation\n",
        "df_transformed = df.drop([\"holiday\", \"vacation\"], axis=1)\n",
        "\n",
        "# Add the new columns from OHE\n",
        "df_transformed = pd.concat([df_transformed, df_holiday_vacation_transformed], axis=1)"
      ],
      "id": "zZnhFuQN-QT2"
    },
    {
      "cell_type": "markdown",
      "source": [
        "We will add the year, month and day as seperate columns to give the algorithm the chance to pick up more granular and seasonal patterns."
      ],
      "metadata": {
        "id": "Ex0TAxa6xPK6"
      },
      "id": "Ex0TAxa6xPK6"
    },
    {
      "cell_type": "code",
      "execution_count": 6,
      "metadata": {
        "id": "ZFMh5fPazIDm",
        "outputId": "90e4db67-be90-44a4-954b-497b61e42cf4",
        "colab": {
          "base_uri": "https://localhost:8080/",
          "height": 421
        }
      },
      "outputs": [
        {
          "output_type": "stream",
          "name": "stderr",
          "text": [
            "/usr/local/lib/python3.9/dist-packages/ipykernel/ipkernel.py:283: DeprecationWarning: `should_run_async` will not call `transform_cell` automatically in the future. Please pass the result to `transformed_cell` argument and any exception that happen during thetransform in `preprocessing_exc_tuple` in IPython 7.17 and above.\n",
            "  and should_run_async(code)\n"
          ]
        },
        {
          "output_type": "execute_result",
          "data": {
            "text/plain": [
              "            year  month  day  weekday  graf_moltke_straße_ostseite  \\\n",
              "2013-01-01  2013      1    1        1                        261.0   \n",
              "2013-01-02  2013      1    2        2                        750.0   \n",
              "2013-01-03  2013      1    3        3                        931.0   \n",
              "2013-01-04  2013      1    4        4                        500.0   \n",
              "2013-01-05  2013      1    5        5                       1013.0   \n",
              "\n",
              "            graf_moltke_straße_westseite  hastedter_bruckenstraße  \\\n",
              "2013-01-01                         290.0                    381.0   \n",
              "2013-01-02                         876.0                   1109.0   \n",
              "2013-01-03                        1015.0                   1603.0   \n",
              "2013-01-04                         587.0                   1284.0   \n",
              "2013-01-05                        1011.0                   1284.0   \n",
              "\n",
              "            langemarckstraße_ostseite  langemarckstraße_westseite  osterdeich  \\\n",
              "2013-01-01                      312.0                       308.0       870.0   \n",
              "2013-01-02                     1258.0                      1120.0      2169.0   \n",
              "2013-01-03                     1556.0                      1480.0      2295.0   \n",
              "2013-01-04                      703.0                       626.0      1640.0   \n",
              "2013-01-05                     1856.0                      1621.0      4128.0   \n",
              "\n",
              "            ...  holiday_pfingstmontag  holiday_reformationstag  \\\n",
              "2013-01-01  ...                    0.0                      0.0   \n",
              "2013-01-02  ...                    0.0                      0.0   \n",
              "2013-01-03  ...                    0.0                      0.0   \n",
              "2013-01-04  ...                    0.0                      0.0   \n",
              "2013-01-05  ...                    0.0                      0.0   \n",
              "\n",
              "            holiday_tag_der_arbeit  holiday_tag_der_deutschen_einheit  \\\n",
              "2013-01-01                     0.0                                0.0   \n",
              "2013-01-02                     0.0                                0.0   \n",
              "2013-01-03                     0.0                                0.0   \n",
              "2013-01-04                     0.0                                0.0   \n",
              "2013-01-05                     0.0                                0.0   \n",
              "\n",
              "            vacation_herbstferien  vacation_osterferien  \\\n",
              "2013-01-01                    0.0                   0.0   \n",
              "2013-01-02                    0.0                   0.0   \n",
              "2013-01-03                    0.0                   0.0   \n",
              "2013-01-04                    0.0                   0.0   \n",
              "2013-01-05                    0.0                   0.0   \n",
              "\n",
              "            vacation_pfingstferien  vacation_sommerferien  \\\n",
              "2013-01-01                     0.0                    0.0   \n",
              "2013-01-02                     0.0                    0.0   \n",
              "2013-01-03                     0.0                    0.0   \n",
              "2013-01-04                     0.0                    0.0   \n",
              "2013-01-05                     0.0                    0.0   \n",
              "\n",
              "            vacation_weihnachtsferien  vacation_winterferien  \n",
              "2013-01-01                        1.0                    0.0  \n",
              "2013-01-02                        1.0                    0.0  \n",
              "2013-01-03                        1.0                    0.0  \n",
              "2013-01-04                        1.0                    0.0  \n",
              "2013-01-05                        1.0                    0.0  \n",
              "\n",
              "[5 rows x 43 columns]"
            ],
            "text/html": [
              "\n",
              "  <div id=\"df-804f9c69-07ee-4ec3-88a8-ec96fd7f2b92\">\n",
              "    <div class=\"colab-df-container\">\n",
              "      <div>\n",
              "<style scoped>\n",
              "    .dataframe tbody tr th:only-of-type {\n",
              "        vertical-align: middle;\n",
              "    }\n",
              "\n",
              "    .dataframe tbody tr th {\n",
              "        vertical-align: top;\n",
              "    }\n",
              "\n",
              "    .dataframe thead th {\n",
              "        text-align: right;\n",
              "    }\n",
              "</style>\n",
              "<table border=\"1\" class=\"dataframe\">\n",
              "  <thead>\n",
              "    <tr style=\"text-align: right;\">\n",
              "      <th></th>\n",
              "      <th>year</th>\n",
              "      <th>month</th>\n",
              "      <th>day</th>\n",
              "      <th>weekday</th>\n",
              "      <th>graf_moltke_straße_ostseite</th>\n",
              "      <th>graf_moltke_straße_westseite</th>\n",
              "      <th>hastedter_bruckenstraße</th>\n",
              "      <th>langemarckstraße_ostseite</th>\n",
              "      <th>langemarckstraße_westseite</th>\n",
              "      <th>osterdeich</th>\n",
              "      <th>...</th>\n",
              "      <th>holiday_pfingstmontag</th>\n",
              "      <th>holiday_reformationstag</th>\n",
              "      <th>holiday_tag_der_arbeit</th>\n",
              "      <th>holiday_tag_der_deutschen_einheit</th>\n",
              "      <th>vacation_herbstferien</th>\n",
              "      <th>vacation_osterferien</th>\n",
              "      <th>vacation_pfingstferien</th>\n",
              "      <th>vacation_sommerferien</th>\n",
              "      <th>vacation_weihnachtsferien</th>\n",
              "      <th>vacation_winterferien</th>\n",
              "    </tr>\n",
              "  </thead>\n",
              "  <tbody>\n",
              "    <tr>\n",
              "      <th>2013-01-01</th>\n",
              "      <td>2013</td>\n",
              "      <td>1</td>\n",
              "      <td>1</td>\n",
              "      <td>1</td>\n",
              "      <td>261.0</td>\n",
              "      <td>290.0</td>\n",
              "      <td>381.0</td>\n",
              "      <td>312.0</td>\n",
              "      <td>308.0</td>\n",
              "      <td>870.0</td>\n",
              "      <td>...</td>\n",
              "      <td>0.0</td>\n",
              "      <td>0.0</td>\n",
              "      <td>0.0</td>\n",
              "      <td>0.0</td>\n",
              "      <td>0.0</td>\n",
              "      <td>0.0</td>\n",
              "      <td>0.0</td>\n",
              "      <td>0.0</td>\n",
              "      <td>1.0</td>\n",
              "      <td>0.0</td>\n",
              "    </tr>\n",
              "    <tr>\n",
              "      <th>2013-01-02</th>\n",
              "      <td>2013</td>\n",
              "      <td>1</td>\n",
              "      <td>2</td>\n",
              "      <td>2</td>\n",
              "      <td>750.0</td>\n",
              "      <td>876.0</td>\n",
              "      <td>1109.0</td>\n",
              "      <td>1258.0</td>\n",
              "      <td>1120.0</td>\n",
              "      <td>2169.0</td>\n",
              "      <td>...</td>\n",
              "      <td>0.0</td>\n",
              "      <td>0.0</td>\n",
              "      <td>0.0</td>\n",
              "      <td>0.0</td>\n",
              "      <td>0.0</td>\n",
              "      <td>0.0</td>\n",
              "      <td>0.0</td>\n",
              "      <td>0.0</td>\n",
              "      <td>1.0</td>\n",
              "      <td>0.0</td>\n",
              "    </tr>\n",
              "    <tr>\n",
              "      <th>2013-01-03</th>\n",
              "      <td>2013</td>\n",
              "      <td>1</td>\n",
              "      <td>3</td>\n",
              "      <td>3</td>\n",
              "      <td>931.0</td>\n",
              "      <td>1015.0</td>\n",
              "      <td>1603.0</td>\n",
              "      <td>1556.0</td>\n",
              "      <td>1480.0</td>\n",
              "      <td>2295.0</td>\n",
              "      <td>...</td>\n",
              "      <td>0.0</td>\n",
              "      <td>0.0</td>\n",
              "      <td>0.0</td>\n",
              "      <td>0.0</td>\n",
              "      <td>0.0</td>\n",
              "      <td>0.0</td>\n",
              "      <td>0.0</td>\n",
              "      <td>0.0</td>\n",
              "      <td>1.0</td>\n",
              "      <td>0.0</td>\n",
              "    </tr>\n",
              "    <tr>\n",
              "      <th>2013-01-04</th>\n",
              "      <td>2013</td>\n",
              "      <td>1</td>\n",
              "      <td>4</td>\n",
              "      <td>4</td>\n",
              "      <td>500.0</td>\n",
              "      <td>587.0</td>\n",
              "      <td>1284.0</td>\n",
              "      <td>703.0</td>\n",
              "      <td>626.0</td>\n",
              "      <td>1640.0</td>\n",
              "      <td>...</td>\n",
              "      <td>0.0</td>\n",
              "      <td>0.0</td>\n",
              "      <td>0.0</td>\n",
              "      <td>0.0</td>\n",
              "      <td>0.0</td>\n",
              "      <td>0.0</td>\n",
              "      <td>0.0</td>\n",
              "      <td>0.0</td>\n",
              "      <td>1.0</td>\n",
              "      <td>0.0</td>\n",
              "    </tr>\n",
              "    <tr>\n",
              "      <th>2013-01-05</th>\n",
              "      <td>2013</td>\n",
              "      <td>1</td>\n",
              "      <td>5</td>\n",
              "      <td>5</td>\n",
              "      <td>1013.0</td>\n",
              "      <td>1011.0</td>\n",
              "      <td>1284.0</td>\n",
              "      <td>1856.0</td>\n",
              "      <td>1621.0</td>\n",
              "      <td>4128.0</td>\n",
              "      <td>...</td>\n",
              "      <td>0.0</td>\n",
              "      <td>0.0</td>\n",
              "      <td>0.0</td>\n",
              "      <td>0.0</td>\n",
              "      <td>0.0</td>\n",
              "      <td>0.0</td>\n",
              "      <td>0.0</td>\n",
              "      <td>0.0</td>\n",
              "      <td>1.0</td>\n",
              "      <td>0.0</td>\n",
              "    </tr>\n",
              "  </tbody>\n",
              "</table>\n",
              "<p>5 rows × 43 columns</p>\n",
              "</div>\n",
              "      <button class=\"colab-df-convert\" onclick=\"convertToInteractive('df-804f9c69-07ee-4ec3-88a8-ec96fd7f2b92')\"\n",
              "              title=\"Convert this dataframe to an interactive table.\"\n",
              "              style=\"display:none;\">\n",
              "        \n",
              "  <svg xmlns=\"http://www.w3.org/2000/svg\" height=\"24px\"viewBox=\"0 0 24 24\"\n",
              "       width=\"24px\">\n",
              "    <path d=\"M0 0h24v24H0V0z\" fill=\"none\"/>\n",
              "    <path d=\"M18.56 5.44l.94 2.06.94-2.06 2.06-.94-2.06-.94-.94-2.06-.94 2.06-2.06.94zm-11 1L8.5 8.5l.94-2.06 2.06-.94-2.06-.94L8.5 2.5l-.94 2.06-2.06.94zm10 10l.94 2.06.94-2.06 2.06-.94-2.06-.94-.94-2.06-.94 2.06-2.06.94z\"/><path d=\"M17.41 7.96l-1.37-1.37c-.4-.4-.92-.59-1.43-.59-.52 0-1.04.2-1.43.59L10.3 9.45l-7.72 7.72c-.78.78-.78 2.05 0 2.83L4 21.41c.39.39.9.59 1.41.59.51 0 1.02-.2 1.41-.59l7.78-7.78 2.81-2.81c.8-.78.8-2.07 0-2.86zM5.41 20L4 18.59l7.72-7.72 1.47 1.35L5.41 20z\"/>\n",
              "  </svg>\n",
              "      </button>\n",
              "      \n",
              "  <style>\n",
              "    .colab-df-container {\n",
              "      display:flex;\n",
              "      flex-wrap:wrap;\n",
              "      gap: 12px;\n",
              "    }\n",
              "\n",
              "    .colab-df-convert {\n",
              "      background-color: #E8F0FE;\n",
              "      border: none;\n",
              "      border-radius: 50%;\n",
              "      cursor: pointer;\n",
              "      display: none;\n",
              "      fill: #1967D2;\n",
              "      height: 32px;\n",
              "      padding: 0 0 0 0;\n",
              "      width: 32px;\n",
              "    }\n",
              "\n",
              "    .colab-df-convert:hover {\n",
              "      background-color: #E2EBFA;\n",
              "      box-shadow: 0px 1px 2px rgba(60, 64, 67, 0.3), 0px 1px 3px 1px rgba(60, 64, 67, 0.15);\n",
              "      fill: #174EA6;\n",
              "    }\n",
              "\n",
              "    [theme=dark] .colab-df-convert {\n",
              "      background-color: #3B4455;\n",
              "      fill: #D2E3FC;\n",
              "    }\n",
              "\n",
              "    [theme=dark] .colab-df-convert:hover {\n",
              "      background-color: #434B5C;\n",
              "      box-shadow: 0px 1px 3px 1px rgba(0, 0, 0, 0.15);\n",
              "      filter: drop-shadow(0px 1px 2px rgba(0, 0, 0, 0.3));\n",
              "      fill: #FFFFFF;\n",
              "    }\n",
              "  </style>\n",
              "\n",
              "      <script>\n",
              "        const buttonEl =\n",
              "          document.querySelector('#df-804f9c69-07ee-4ec3-88a8-ec96fd7f2b92 button.colab-df-convert');\n",
              "        buttonEl.style.display =\n",
              "          google.colab.kernel.accessAllowed ? 'block' : 'none';\n",
              "\n",
              "        async function convertToInteractive(key) {\n",
              "          const element = document.querySelector('#df-804f9c69-07ee-4ec3-88a8-ec96fd7f2b92');\n",
              "          const dataTable =\n",
              "            await google.colab.kernel.invokeFunction('convertToInteractive',\n",
              "                                                     [key], {});\n",
              "          if (!dataTable) return;\n",
              "\n",
              "          const docLinkHtml = 'Like what you see? Visit the ' +\n",
              "            '<a target=\"_blank\" href=https://colab.research.google.com/notebooks/data_table.ipynb>data table notebook</a>'\n",
              "            + ' to learn more about interactive tables.';\n",
              "          element.innerHTML = '';\n",
              "          dataTable['output_type'] = 'display_data';\n",
              "          await google.colab.output.renderOutput(dataTable, element);\n",
              "          const docLink = document.createElement('div');\n",
              "          docLink.innerHTML = docLinkHtml;\n",
              "          element.appendChild(docLink);\n",
              "        }\n",
              "      </script>\n",
              "    </div>\n",
              "  </div>\n",
              "  "
            ]
          },
          "metadata": {},
          "execution_count": 6
        }
      ],
      "source": [
        "df_date = pd.DataFrame(data = {\n",
        "    \"year\": df.index.year,\n",
        "    \"month\": df.index.month,\n",
        "    \"day\": df.index.day\n",
        "}, index=pd.to_datetime(df.index.values))\n",
        "    \n",
        "df_transformed_date = (pd.concat([df_date, df_transformed], axis=1)\n",
        "                        .clean_names(strip_underscores=\"both\"))\n",
        "\n",
        "# Check dataframe\n",
        "df_transformed_date.head()"
      ],
      "id": "ZFMh5fPazIDm"
    },
    {
      "cell_type": "markdown",
      "source": [
        "Now, after all those transformations, we have out final dataset, to train our machine learning algorithms on."
      ],
      "metadata": {
        "id": "cYhxv0nmxmEp"
      },
      "id": "cYhxv0nmxmEp"
    },
    {
      "cell_type": "markdown",
      "metadata": {
        "id": "gBM3I6LFOHL9"
      },
      "source": [
        "<a name=\"4\"></a>\n",
        "# 4. Establish baseline benchmark\n",
        "[Content](#content)\n"
      ],
      "id": "gBM3I6LFOHL9"
    },
    {
      "cell_type": "markdown",
      "source": [
        "For our current task of creating model to predict the amount of cyclers for a given day, we do not have any baseline accuracy to predict the value that we could use, to measure our model against. \n",
        "For this reason, we will create a naive baseline model. For this, we will simply predict the amount of a day based on the value of previous day."
      ],
      "metadata": {
        "id": "VgkVXhdAx6zB"
      },
      "id": "VgkVXhdAx6zB"
    },
    {
      "cell_type": "code",
      "execution_count": 7,
      "metadata": {
        "colab": {
          "base_uri": "https://localhost:8080/"
        },
        "id": "6mu5aaMpO42j",
        "outputId": "546f935b-cc69-4609-bb35-8c9bcae9913a"
      },
      "outputs": [
        {
          "output_type": "stream",
          "name": "stderr",
          "text": [
            "/usr/local/lib/python3.9/dist-packages/ipykernel/ipkernel.py:283: DeprecationWarning: `should_run_async` will not call `transform_cell` automatically in the future. Please pass the result to `transformed_cell` argument and any exception that happen during thetransform in `preprocessing_exc_tuple` in IPython 7.17 and above.\n",
            "  and should_run_async(code)\n"
          ]
        },
        {
          "output_type": "stream",
          "name": "stdout",
          "text": [
            "RMSE: 9083.225418\n"
          ]
        }
      ],
      "source": [
        "# Evaluate the model's performance using RMSE\n",
        "\n",
        "# Select the `Total` column as our y_test and preds arrays\n",
        "y_test = preds = df.loc[:,\"total\"]\n",
        "\n",
        "rmse = 0\n",
        "length = y_test.shape[0]\n",
        "\n",
        "# Loop from 0 to second last entry, as we can only use seconds last entry to\n",
        "# predict the last entry of series\n",
        "for i in range(length-1):\n",
        "    # The mean_sqared_error function expects an array as input, therfore we \n",
        "    # concatenate the range from current value to current value + 1 (excluding)\n",
        "    rmse += np.sqrt(mean_squared_error(y_test[i+1:i+2], preds[i:i+1]))\n",
        "\n",
        "# Divide rmse value by number of pairs\n",
        "rmse = rmse / (length-1)\n",
        "print(\"RMSE: %f\" % (rmse))"
      ],
      "id": "6mu5aaMpO42j"
    },
    {
      "cell_type": "markdown",
      "metadata": {
        "id": "f6O5OFAwW9Pm"
      },
      "source": [
        "If we were naivly predicting the current value with the last value, we get an error over the entire dataset of approximately $9,111$. \n",
        "\n",
        "This is our naive benchmark to compare our model against. "
      ],
      "id": "f6O5OFAwW9Pm"
    },
    {
      "cell_type": "markdown",
      "metadata": {
        "id": "5HqwjOgkxauH"
      },
      "source": [
        "<a name=\"5\"></a>\n",
        "# 5. Training machine learning algorithms\n",
        "[Content](#content)"
      ],
      "id": "5HqwjOgkxauH"
    },
    {
      "cell_type": "code",
      "source": [
        "import numpy as np\n",
        "import pandas as pd\n",
        "from statsmodels.tsa.statespace.sarimax import SARIMAX\n",
        "from sklearn.metrics import mean_squared_error\n",
        "\n",
        "p = 2\n",
        "d = 1\n",
        "q = 2\n",
        "P = 2\n",
        "D = 1\n",
        "Q = 2\n",
        "m = 365\n",
        "\n",
        "# Define the SARIMA model\n",
        "model = SARIMAX(endog=y_train, order=(p, d, q)) #, seasonal_order=(P, D, Q, m)\n",
        "\n",
        "# Fit the model to the training data\n",
        "fit_model = model.fit()\n",
        "\n",
        "# Use the fitted model to make predictions on the test data\n",
        "#y_pred = fit_model.predict(start=len(X_train[\"total\"]), end=len(X_train)+len(X_test)-1)\n",
        "y_pred = fit_model.predict(start=len(X_train), end=len(X_train)+len(X_test)-1)\n",
        "\n",
        "# Calculate the RMSE between the predicted and actual values\n",
        "rmse = np.sqrt(mean_squared_error(y_test, y_pred))\n",
        "\n",
        "# Print the RMSE\n",
        "print(f\"RMSE: {rmse}\")"
      ],
      "metadata": {
        "colab": {
          "base_uri": "https://localhost:8080/"
        },
        "id": "qsmohNZ2UIN5",
        "outputId": "ac953c1a-5c00-47e6-e370-8ccec28a96ca"
      },
      "id": "qsmohNZ2UIN5",
      "execution_count": 16,
      "outputs": [
        {
          "output_type": "stream",
          "name": "stderr",
          "text": [
            "/usr/local/lib/python3.9/dist-packages/ipykernel/ipkernel.py:283: DeprecationWarning: `should_run_async` will not call `transform_cell` automatically in the future. Please pass the result to `transformed_cell` argument and any exception that happen during thetransform in `preprocessing_exc_tuple` in IPython 7.17 and above.\n",
            "  and should_run_async(code)\n",
            "/usr/local/lib/python3.9/dist-packages/statsmodels/tsa/base/tsa_model.py:471: ValueWarning: A date index has been provided, but it has no associated frequency information and so will be ignored when e.g. forecasting.\n",
            "  self._init_dates(dates, freq)\n",
            "/usr/local/lib/python3.9/dist-packages/statsmodels/tsa/base/tsa_model.py:471: ValueWarning: A date index has been provided, but it is not monotonic and so will be ignored when e.g. forecasting.\n",
            "  self._init_dates(dates, freq)\n",
            "/usr/local/lib/python3.9/dist-packages/statsmodels/tsa/base/tsa_model.py:471: ValueWarning: A date index has been provided, but it has no associated frequency information and so will be ignored when e.g. forecasting.\n",
            "  self._init_dates(dates, freq)\n",
            "/usr/local/lib/python3.9/dist-packages/statsmodels/tsa/base/tsa_model.py:471: ValueWarning: A date index has been provided, but it is not monotonic and so will be ignored when e.g. forecasting.\n",
            "  self._init_dates(dates, freq)\n"
          ]
        },
        {
          "output_type": "stream",
          "name": "stdout",
          "text": [
            "RMSE: 11347.07742223852\n"
          ]
        },
        {
          "output_type": "stream",
          "name": "stderr",
          "text": [
            "/usr/local/lib/python3.9/dist-packages/statsmodels/tsa/base/tsa_model.py:834: ValueWarning: No supported index is available. Prediction results will be given with an integer index beginning at `start`.\n",
            "  return get_prediction_index(\n",
            "/usr/local/lib/python3.9/dist-packages/statsmodels/tsa/base/tsa_model.py:834: DeprecationWarning: No supported index is available. In the next version, calling this method in a model without a supported index will result in an exception.\n",
            "  return get_prediction_index(\n"
          ]
        }
      ]
    },
    {
      "cell_type": "markdown",
      "source": [
        "<a name=\"5.2.\"></a>\n",
        "## 5.2. XGBoost\n",
        "[Content](#content)"
      ],
      "metadata": {
        "id": "mO2Xt87cykEf"
      },
      "id": "mO2Xt87cykEf"
    },
    {
      "cell_type": "markdown",
      "source": [
        "Specifically for XGBoost algorithm, we will add the data points of the previous time steps as features to feature vector. For RNNs, this will probably not be necessary, as RNNs have built-in memory units that allow them to store information from previous steps.\n",
        "\n",
        "In this case, we will only add the last 3 values, as the observed improvement of accuracy (RMSE score) is drastically decressing with each further time step added after 3 steps.\n",
        "\n",
        "Improvements:\n",
        "* 1 day 6291 2,8%\n",
        "* 2 day 6157 2,1%\n",
        "* 3 day 6120 0,6%"
      ],
      "metadata": {
        "id": "ZgSdeq3fOxaQ"
      },
      "id": "ZgSdeq3fOxaQ"
    },
    {
      "cell_type": "code",
      "source": [
        "# Create empty new dataframe\n",
        "df_lagged_days = pd.DataFrame({})\n",
        "\n",
        "# Select the number of lagged days\n",
        "go_back_x_days = 3\n",
        "\n",
        "for i in range(go_back_x_days):\n",
        "    # Shift the values in \"Total\" by i and assign to new column prev_Total_i+1\n",
        "    df_lagged_days[f'prev_total_{i+1}'] = df_transformed_date['total'].shift(i+1)\n",
        "\n",
        "\n",
        "# Concat new dataframe with old dataframe\n",
        "# Using bfill strategy on dataset since the first few days will have NaN values\n",
        "# Using pyjanitor to clean up names\n",
        "df_transformed_date_lagged = (pd.concat([df_transformed_date, df_lagged_days], axis=1)\n",
        "                              .fillna(method=\"bfill\")\n",
        "                              .clean_names(strip_underscores=\"both\"))\n",
        "\n",
        "# Check output\n",
        "df_transformed_date_lagged"
      ],
      "metadata": {
        "id": "MwRs_MUJdcTj"
      },
      "id": "MwRs_MUJdcTj",
      "execution_count": null,
      "outputs": []
    },
    {
      "cell_type": "code",
      "source": [
        "# Load the data into a pandas dataframe\n",
        "data = df_transformed_date_lagged\n",
        "# Define the features and target\n",
        "# Higly correlated features have been removed (tavg, tmin, wpgt)\n",
        "# `wdir` has been removed due to no correlation\n",
        "\n",
        "features = ['year', 'month', 'day', 'weekday', 'tmax', 'prcp', \n",
        "            'snow', 'wspd', 'pres', 'tsun', \n",
        "            'holiday_1_weihnachtsfeiertag', 'holiday_2_weihnachtsfeiertag', \n",
        "            'holiday_christi_himmelfahrt', 'holiday_karfreitag', 'holiday_neujahr', \n",
        "            'holiday_ostermontag', 'holiday_pfingstmontag', 'holiday_reformationstag', \n",
        "            'holiday_tag_der_arbeit', 'holiday_tag_der_deutschen_einheit', \n",
        "            'vacation_herbstferien', 'vacation_osterferien', 'vacation_pfingstferien', \n",
        "            'vacation_sommerferien', 'vacation_weihnachtsferien', 'vacation_winterferien',\n",
        "            'prev_total_1', 'prev_total_2', 'prev_total_3']\n",
        "\n",
        "target = 'total'\n",
        "\n",
        "# Split the data into training and test sets\n",
        "X_train, X_test, y_train, y_test = train_test_split(data[features], data[target], \n",
        "                                                    test_size=0.2, shuffle=True, random_state=0)"
      ],
      "metadata": {
        "id": "nxeQ39ojh2Y-",
        "outputId": "c20f533b-3919-40a6-9368-21e5fd39b247",
        "colab": {
          "base_uri": "https://localhost:8080/"
        }
      },
      "id": "nxeQ39ojh2Y-",
      "execution_count": 63,
      "outputs": [
        {
          "output_type": "stream",
          "name": "stderr",
          "text": [
            "/usr/local/lib/python3.9/dist-packages/ipykernel/ipkernel.py:283: DeprecationWarning:\n",
            "\n",
            "`should_run_async` will not call `transform_cell` automatically in the future. Please pass the result to `transformed_cell` argument and any exception that happen during thetransform in `preprocessing_exc_tuple` in IPython 7.17 and above.\n",
            "\n"
          ]
        }
      ]
    },
    {
      "cell_type": "markdown",
      "source": [
        "Finally, we will standardize our dataset. Standarization will generally improve learning speed of the models and can help to improve the accuarcy of the model."
      ],
      "metadata": {
        "id": "a1GVZoPCdit-"
      },
      "id": "a1GVZoPCdit-"
    },
    {
      "cell_type": "code",
      "source": [
        "# Standardize the training set only\n",
        "scaler = StandardScaler()\n",
        "X_train_scaled = scaler.fit_transform(X_train)\n",
        "\n",
        "# Apply the same standardization to the test set\n",
        "X_test_scaled = scaler.transform(X_test)\n",
        "X_test_scaled"
      ],
      "metadata": {
        "id": "P-j9YB3seGR7",
        "outputId": "37163683-68c7-4479-e949-a9e423f5a2c2",
        "colab": {
          "base_uri": "https://localhost:8080/"
        }
      },
      "id": "P-j9YB3seGR7",
      "execution_count": 85,
      "outputs": [
        {
          "output_type": "stream",
          "name": "stderr",
          "text": [
            "/usr/local/lib/python3.9/dist-packages/ipykernel/ipkernel.py:283: DeprecationWarning:\n",
            "\n",
            "`should_run_async` will not call `transform_cell` automatically in the future. Please pass the result to `transformed_cell` argument and any exception that happen during thetransform in `preprocessing_exc_tuple` in IPython 7.17 and above.\n",
            "\n"
          ]
        },
        {
          "output_type": "execute_result",
          "data": {
            "text/plain": [
              "array([[ 0.17249988, -1.0129591 , -0.53907811, ..., -1.24677988,\n",
              "         1.70613028,  0.90188202],\n",
              "       [-1.23791901,  0.14771699,  1.28040298, ...,  0.45218785,\n",
              "        -0.25798867,  1.75226925],\n",
              "       [-0.53270957,  0.72805504,  1.62155568, ...,  0.85554361,\n",
              "         1.11572268,  1.51076956],\n",
              "       ...,\n",
              "       [ 0.87770933, -0.14245203,  1.28040298, ...,  2.19577269,\n",
              "         2.27891633,  2.25496543],\n",
              "       [-0.53270957,  0.43788602,  1.73527325, ...,  1.30111401,\n",
              "         0.66705738, -0.13451136],\n",
              "       [ 1.58291877, -1.59329715,  0.02950973, ..., -0.99709572,\n",
              "        -0.10093443,  0.03393896]])"
            ]
          },
          "metadata": {},
          "execution_count": 85
        }
      ]
    },
    {
      "cell_type": "code",
      "source": [
        "\n",
        "scaler.inverse_transform(X_test_scaled)"
      ],
      "metadata": {
        "id": "HyhBXA_beqI7",
        "outputId": "96262413-2529-47de-e151-c28075a15995",
        "colab": {
          "base_uri": "https://localhost:8080/"
        }
      },
      "id": "HyhBXA_beqI7",
      "execution_count": 65,
      "outputs": [
        {
          "output_type": "stream",
          "name": "stderr",
          "text": [
            "/usr/local/lib/python3.9/dist-packages/ipykernel/ipkernel.py:283: DeprecationWarning:\n",
            "\n",
            "`should_run_async` will not call `transform_cell` automatically in the future. Please pass the result to `transformed_cell` argument and any exception that happen during thetransform in `preprocessing_exc_tuple` in IPython 7.17 and above.\n",
            "\n"
          ]
        },
        {
          "output_type": "execute_result",
          "data": {
            "text/plain": [
              "array([[2.0180e+03, 3.0000e+00, 1.1000e+01, ..., 1.7567e+04, 5.2185e+04,\n",
              "        4.2640e+04],\n",
              "       [2.0140e+03, 7.0000e+00, 2.7000e+01, ..., 3.7368e+04, 2.9224e+04,\n",
              "        5.2570e+04],\n",
              "       [2.0160e+03, 9.0000e+00, 3.0000e+01, ..., 4.2069e+04, 4.5283e+04,\n",
              "        4.9750e+04],\n",
              "       ...,\n",
              "       [2.0200e+03, 6.0000e+00, 2.7000e+01, ..., 5.7689e+04, 5.8881e+04,\n",
              "        5.8440e+04],\n",
              "       [2.0160e+03, 8.0000e+00, 3.1000e+01, ..., 4.7262e+04, 4.0038e+04,\n",
              "        3.0538e+04],\n",
              "       [2.0220e+03, 1.0000e+00, 1.6000e+01, ..., 2.0477e+04, 3.1060e+04,\n",
              "        3.2505e+04]])"
            ]
          },
          "metadata": {},
          "execution_count": 65
        }
      ]
    },
    {
      "cell_type": "markdown",
      "source": [
        "Using `GridSearchCV` to select optimal parameters."
      ],
      "metadata": {
        "id": "amR72D-bg9Ea"
      },
      "id": "amR72D-bg9Ea"
    },
    {
      "cell_type": "code",
      "execution_count": null,
      "metadata": {
        "id": "AaSMrh3bLqsm"
      },
      "outputs": [],
      "source": [
        "params = {\n",
        "    'learning_rate': [0.01, 0.05, 0.1],\n",
        "    'max_depth': [3, 5, 7],\n",
        "    'n_estimators': [700, 1000, 1200],\n",
        "    'subsample': [0.5, 0.8, 1.0],\n",
        "    'colsample_bytree': [0.5, 0.8, 1.0],\n",
        "    'reg_alpha': [0.0, 0.5, 1.0],\n",
        "    'reg_lambda': [0.8, 1.0, 2.0],\n",
        "    'min_child_weight': [1, 5, 10]\n",
        "}\n",
        "\n",
        "xg_reg = xgb.XGBRegressor(objective='reg:squarederror')\n",
        "\n",
        "grid_search = GridSearchCV(xg_reg, param_grid=params, cv=5, n_jobs=-1, verbose=2)\n",
        "\n",
        "grid_search.fit(X_train, y_train)\n",
        "\n",
        "print(grid_search.best_params_)"
      ],
      "id": "AaSMrh3bLqsm"
    },
    {
      "cell_type": "code",
      "source": [
        "### SCALED ###\n",
        "# Build the XGBoost regressor model with selected hyper parameters\n",
        "xg_reg = xgb.XGBRegressor(objective ='reg:squarederror', colsample_bytree = 1.0, learning_rate = 0.01, \n",
        "                          max_depth = 12, n_estimators = 1, reg_alpha = 0.5, reg_lambda = 5.0, \n",
        "                          subsample = 1.0, min_child_weight=5)\n",
        "print(X_train_scaled.shape)\n",
        "print(y_train.shape)\n",
        "xg_reg.fit(X_train_scaled, y_train)\n",
        "\n",
        "\n",
        "\n",
        "# Evaluate the model's performance using RMSE\n",
        "# Predict on the train set\n",
        "y_preds_train_scaled = xg_reg.predict(X_train_scaled)\n",
        "#print(\"y preds train scaled: \"+str(y_preds_train_scaled.shape))\n",
        "#print(y_preds_train_scaled.reshape(-1, 1).shape)\n",
        "#y_preds_train = scaler.inverse_transform(y_preds_train_scaled.reshape(-1, 1))\n",
        "y_preds_train = scaler.inverse_transform(y_preds_train_scaled.reshape(-1, 1))\n",
        "# Training set\n",
        "rmse_train = np.sqrt(mean_squared_error(y_train, y_preds_train))\n",
        "print(\"Train RMSE: %f\" % (rmse_train))\n",
        "\n",
        "# Predict on the test set\n",
        "preds_test_scaled = xg_reg.predict(X_test_scaled)\n",
        "preds_test = scaler.inverse_transform(preds_test_scaled.reshape(-1, 1))\n",
        "# Test set\n",
        "rmse_test = np.sqrt(mean_squared_error(y_test, preds_test))\n",
        "print(\"Test RMSE: %f\" % (rmse_test))"
      ],
      "metadata": {
        "id": "u9DKLFqkmIRm",
        "outputId": "072f6c14-c337-4f25-b3e7-bec0ef34323a",
        "colab": {
          "base_uri": "https://localhost:8080/",
          "height": 481
        }
      },
      "id": "u9DKLFqkmIRm",
      "execution_count": 83,
      "outputs": [
        {
          "output_type": "stream",
          "name": "stdout",
          "text": [
            "(2921, 29)\n",
            "(2921,)\n"
          ]
        },
        {
          "output_type": "stream",
          "name": "stderr",
          "text": [
            "/usr/local/lib/python3.9/dist-packages/ipykernel/ipkernel.py:283: DeprecationWarning:\n",
            "\n",
            "`should_run_async` will not call `transform_cell` automatically in the future. Please pass the result to `transformed_cell` argument and any exception that happen during thetransform in `preprocessing_exc_tuple` in IPython 7.17 and above.\n",
            "\n"
          ]
        },
        {
          "output_type": "error",
          "ename": "ValueError",
          "evalue": "ignored",
          "traceback": [
            "\u001b[0;31m---------------------------------------------------------------------------\u001b[0m",
            "\u001b[0;31mValueError\u001b[0m                                Traceback (most recent call last)",
            "\u001b[0;32m<ipython-input-83-2448cda4144d>\u001b[0m in \u001b[0;36m<cell line: 18>\u001b[0;34m()\u001b[0m\n\u001b[1;32m     16\u001b[0m \u001b[0;31m#print(y_preds_train_scaled.reshape(-1, 1).shape)\u001b[0m\u001b[0;34m\u001b[0m\u001b[0;34m\u001b[0m\u001b[0m\n\u001b[1;32m     17\u001b[0m \u001b[0;31m#y_preds_train = scaler.inverse_transform(y_preds_train_scaled.reshape(-1, 1))\u001b[0m\u001b[0;34m\u001b[0m\u001b[0;34m\u001b[0m\u001b[0m\n\u001b[0;32m---> 18\u001b[0;31m \u001b[0my_preds_train\u001b[0m \u001b[0;34m=\u001b[0m \u001b[0mscaler\u001b[0m\u001b[0;34m.\u001b[0m\u001b[0minverse_transform\u001b[0m\u001b[0;34m(\u001b[0m\u001b[0my_preds_train_scaled\u001b[0m\u001b[0;34m.\u001b[0m\u001b[0mreshape\u001b[0m\u001b[0;34m(\u001b[0m\u001b[0;34m-\u001b[0m\u001b[0;36m1\u001b[0m\u001b[0;34m,\u001b[0m \u001b[0;36m1\u001b[0m\u001b[0;34m)\u001b[0m\u001b[0;34m)\u001b[0m\u001b[0;34m.\u001b[0m\u001b[0msqueeze\u001b[0m\u001b[0;34m(\u001b[0m\u001b[0;34m)\u001b[0m\u001b[0;34m\u001b[0m\u001b[0;34m\u001b[0m\u001b[0m\n\u001b[0m\u001b[1;32m     19\u001b[0m \u001b[0;31m# Training set\u001b[0m\u001b[0;34m\u001b[0m\u001b[0;34m\u001b[0m\u001b[0m\n\u001b[1;32m     20\u001b[0m \u001b[0mrmse_train\u001b[0m \u001b[0;34m=\u001b[0m \u001b[0mnp\u001b[0m\u001b[0;34m.\u001b[0m\u001b[0msqrt\u001b[0m\u001b[0;34m(\u001b[0m\u001b[0mmean_squared_error\u001b[0m\u001b[0;34m(\u001b[0m\u001b[0my_train\u001b[0m\u001b[0;34m,\u001b[0m \u001b[0my_preds_train\u001b[0m\u001b[0;34m)\u001b[0m\u001b[0;34m)\u001b[0m\u001b[0;34m\u001b[0m\u001b[0;34m\u001b[0m\u001b[0m\n",
            "\u001b[0;32m/usr/local/lib/python3.9/dist-packages/sklearn/preprocessing/_data.py\u001b[0m in \u001b[0;36minverse_transform\u001b[0;34m(self, X, copy)\u001b[0m\n\u001b[1;32m   1050\u001b[0m         \u001b[0;32melse\u001b[0m\u001b[0;34m:\u001b[0m\u001b[0;34m\u001b[0m\u001b[0;34m\u001b[0m\u001b[0m\n\u001b[1;32m   1051\u001b[0m             \u001b[0;32mif\u001b[0m \u001b[0mself\u001b[0m\u001b[0;34m.\u001b[0m\u001b[0mwith_std\u001b[0m\u001b[0;34m:\u001b[0m\u001b[0;34m\u001b[0m\u001b[0;34m\u001b[0m\u001b[0m\n\u001b[0;32m-> 1052\u001b[0;31m                 \u001b[0mX\u001b[0m \u001b[0;34m*=\u001b[0m \u001b[0mself\u001b[0m\u001b[0;34m.\u001b[0m\u001b[0mscale_\u001b[0m\u001b[0;34m\u001b[0m\u001b[0;34m\u001b[0m\u001b[0m\n\u001b[0m\u001b[1;32m   1053\u001b[0m             \u001b[0;32mif\u001b[0m \u001b[0mself\u001b[0m\u001b[0;34m.\u001b[0m\u001b[0mwith_mean\u001b[0m\u001b[0;34m:\u001b[0m\u001b[0;34m\u001b[0m\u001b[0;34m\u001b[0m\u001b[0m\n\u001b[1;32m   1054\u001b[0m                 \u001b[0mX\u001b[0m \u001b[0;34m+=\u001b[0m \u001b[0mself\u001b[0m\u001b[0;34m.\u001b[0m\u001b[0mmean_\u001b[0m\u001b[0;34m\u001b[0m\u001b[0;34m\u001b[0m\u001b[0m\n",
            "\u001b[0;31mValueError\u001b[0m: non-broadcastable output operand with shape (2921,1) doesn't match the broadcast shape (2921,29)"
          ]
        }
      ]
    },
    {
      "cell_type": "code",
      "execution_count": 66,
      "metadata": {
        "id": "RwfBOBjpXNfw",
        "outputId": "e713cd72-0a35-4e65-9260-65de1097aa6c",
        "colab": {
          "base_uri": "https://localhost:8080/"
        }
      },
      "outputs": [
        {
          "output_type": "stream",
          "name": "stderr",
          "text": [
            "/usr/local/lib/python3.9/dist-packages/ipykernel/ipkernel.py:283: DeprecationWarning:\n",
            "\n",
            "`should_run_async` will not call `transform_cell` automatically in the future. Please pass the result to `transformed_cell` argument and any exception that happen during thetransform in `preprocessing_exc_tuple` in IPython 7.17 and above.\n",
            "\n"
          ]
        },
        {
          "output_type": "stream",
          "name": "stdout",
          "text": [
            "Train RMSE: 1216.824632\n",
            "Test RMSE: 6054.719014\n"
          ]
        }
      ],
      "source": [
        "# Build the XGBoost regressor model with selected hyper parameters\n",
        "xg_reg = xgb.XGBRegressor(objective ='reg:squarederror', colsample_bytree = 1.0, learning_rate = 0.01, \n",
        "                          max_depth = 12, n_estimators = 1000, reg_alpha = 0.5, reg_lambda = 5.0, \n",
        "                          subsample = 1.0, min_child_weight=5)\n",
        "\n",
        "xg_reg.fit(X_train, y_train)\n",
        "\n",
        "\n",
        "\n",
        "# Evaluate the model's performance using RMSE\n",
        "# Predict on the train set\n",
        "preds_train = xg_reg.predict(X_train)\n",
        "\n",
        "# Training set\n",
        "rmse_train = np.sqrt(mean_squared_error(y_train, preds_train))\n",
        "print(\"Train RMSE: %f\" % (rmse_train))\n",
        "\n",
        "# Predict on the test set\n",
        "preds_test = xg_reg.predict(X_test)\n",
        "\n",
        "# Test set\n",
        "rmse_test = np.sqrt(mean_squared_error(y_test, preds_test))\n",
        "print(\"Test RMSE: %f\" % (rmse_test))"
      ],
      "id": "RwfBOBjpXNfw"
    },
    {
      "cell_type": "markdown",
      "metadata": {
        "id": "RKSA0rEBGRNB"
      },
      "source": [
        "* 02.04.23: 6468\n",
        "* 10.04.23: 6120"
      ],
      "id": "RKSA0rEBGRNB"
    },
    {
      "cell_type": "markdown",
      "source": [
        "As an alternative, instead of `train_test_split`, we try `TimeSeriesSplit` and compare the performance."
      ],
      "metadata": {
        "id": "Y9ZfwhxDkTUL"
      },
      "id": "Y9ZfwhxDkTUL"
    },
    {
      "cell_type": "code",
      "source": [
        "# Split the data into training and test sets\n",
        "tscv = TimeSeriesSplit(n_splits=5)\n",
        "for train_index, test_index in tscv.split(data):\n",
        "    X_train, X_test = data.iloc[train_index][features], data.iloc[test_index][features]\n",
        "    y_train, y_test = data.iloc[train_index][target], data.iloc[test_index][target]\n",
        "\n",
        "    xg_reg = xgb.XGBRegressor(objective='reg:squarederror', colsample_bytree=1.0, learning_rate=0.01,\n",
        "                              max_depth=12, n_estimators=1000, reg_alpha=0.1, reg_lambda=1.0,\n",
        "                              subsample=0.8, min_child_weight=5)\n",
        "\n",
        "    xg_reg.fit(X_train, y_train)\n",
        "\n",
        "    # Predict on the test set\n",
        "    preds = xg_reg.predict(X_test)\n",
        "\n",
        "    # Evaluate the model's performance using RMSE\n",
        "    rmse = np.sqrt(mean_squared_error(y_test, preds))\n",
        "    print(\"RMSE: %f\" % (rmse))\n"
      ],
      "metadata": {
        "id": "qvsBo8m7cZXf",
        "outputId": "500ad362-b704-404e-c3e4-aaedc358876c",
        "colab": {
          "base_uri": "https://localhost:8080/"
        }
      },
      "id": "qvsBo8m7cZXf",
      "execution_count": null,
      "outputs": [
        {
          "output_type": "stream",
          "name": "stdout",
          "text": [
            "RMSE: 7127.157045\n",
            "RMSE: 6843.915770\n",
            "RMSE: 6808.748428\n",
            "RMSE: 7121.689867\n",
            "RMSE: 6898.040513\n"
          ]
        }
      ]
    },
    {
      "cell_type": "markdown",
      "source": [
        "`train_test_split` has a better performance on the accuracy of the model than `TimeSeriesSplit`."
      ],
      "metadata": {
        "id": "A0-dFnLfnHkG"
      },
      "id": "A0-dFnLfnHkG"
    },
    {
      "cell_type": "markdown",
      "source": [
        "Plot random different data points to analyze big differences between prediction and actual value in more detail."
      ],
      "metadata": {
        "id": "2BZuW_UOgc1Q"
      },
      "id": "2BZuW_UOgc1Q"
    },
    {
      "cell_type": "code",
      "source": [
        "# Select 100 random datapoints from y_test\n",
        "random_indices = random.sample(range(len(y_test)), 100)\n",
        "y_test_sample = y_test[random_indices]\n",
        "preds_sample = preds[random_indices]\n",
        "\n",
        "# Create plot using plotly express\n",
        "fig = px.scatter()\n",
        "fig.add_scatter(x=y_test_sample.index, y=y_test_sample, mode='markers', name='y_test', marker=dict(color='blue'))\n",
        "fig.add_scatter(x=y_test_sample.index, y=preds_sample, mode='markers', name='preds', marker=dict(color='red'))\n",
        "fig.update_layout(title='y_test vs. preds, random values', xaxis_title='Date', yaxis_title='Values')\n",
        "fig.show()"
      ],
      "metadata": {
        "id": "pXPOd1x_ufBG",
        "outputId": "a2a486b6-5ed3-4c0e-a24f-0c087dc911da",
        "colab": {
          "base_uri": "https://localhost:8080/",
          "height": 599
        }
      },
      "id": "pXPOd1x_ufBG",
      "execution_count": null,
      "outputs": [
        {
          "output_type": "stream",
          "name": "stderr",
          "text": [
            "/usr/local/lib/python3.9/dist-packages/ipykernel/ipkernel.py:283: DeprecationWarning: `should_run_async` will not call `transform_cell` automatically in the future. Please pass the result to `transformed_cell` argument and any exception that happen during thetransform in `preprocessing_exc_tuple` in IPython 7.17 and above.\n",
            "  and should_run_async(code)\n"
          ]
        },
        {
          "output_type": "display_data",
          "data": {
            "text/html": [
              "<html>\n",
              "<head><meta charset=\"utf-8\" /></head>\n",
              "<body>\n",
              "    <div>            <script src=\"https://cdnjs.cloudflare.com/ajax/libs/mathjax/2.7.5/MathJax.js?config=TeX-AMS-MML_SVG\"></script><script type=\"text/javascript\">if (window.MathJax && window.MathJax.Hub && window.MathJax.Hub.Config) {window.MathJax.Hub.Config({SVG: {font: \"STIX-Web\"}});}</script>                <script type=\"text/javascript\">window.PlotlyConfig = {MathJaxConfig: 'local'};</script>\n",
              "        <script src=\"https://cdn.plot.ly/plotly-2.18.2.min.js\"></script>                <div id=\"338b2689-5f94-4edf-9751-e741310dd585\" class=\"plotly-graph-div\" style=\"height:525px; width:100%;\"></div>            <script type=\"text/javascript\">                                    window.PLOTLYENV=window.PLOTLYENV || {};                                    if (document.getElementById(\"338b2689-5f94-4edf-9751-e741310dd585\")) {                    Plotly.newPlot(                        \"338b2689-5f94-4edf-9751-e741310dd585\",                        [{\"hovertemplate\":\"<extra></extra>\",\"legendgroup\":\"\",\"marker\":{\"color\":\"#636efa\",\"symbol\":\"circle\"},\"mode\":\"markers\",\"name\":\"\",\"orientation\":\"v\",\"showlegend\":false,\"xaxis\":\"x\",\"yaxis\":\"y\",\"type\":\"scatter\"},{\"marker\":{\"color\":\"blue\"},\"mode\":\"markers\",\"name\":\"y_test\",\"x\":[\"2013-09-11T00:00:00\",\"2022-10-14T00:00:00\",\"2016-10-12T00:00:00\",\"2013-11-30T00:00:00\",\"2016-01-06T00:00:00\",\"2015-12-02T00:00:00\",\"2015-11-14T00:00:00\",\"2021-04-08T00:00:00\",\"2014-12-15T00:00:00\",\"2019-04-26T00:00:00\",\"2022-01-29T00:00:00\",\"2014-04-09T00:00:00\",\"2022-04-10T00:00:00\",\"2022-12-23T00:00:00\",\"2014-10-17T00:00:00\",\"2015-09-19T00:00:00\",\"2020-09-08T00:00:00\",\"2019-11-29T00:00:00\",\"2019-01-02T00:00:00\",\"2014-02-03T00:00:00\",\"2015-02-04T00:00:00\",\"2019-03-05T00:00:00\",\"2020-05-06T00:00:00\",\"2020-01-04T00:00:00\",\"2019-09-16T00:00:00\",\"2015-04-21T00:00:00\",\"2015-12-05T00:00:00\",\"2017-05-23T00:00:00\",\"2013-01-18T00:00:00\",\"2015-10-21T00:00:00\",\"2017-10-02T00:00:00\",\"2022-11-18T00:00:00\",\"2020-04-21T00:00:00\",\"2019-05-19T00:00:00\",\"2020-10-16T00:00:00\",\"2022-01-01T00:00:00\",\"2015-08-12T00:00:00\",\"2016-01-07T00:00:00\",\"2013-01-02T00:00:00\",\"2019-06-28T00:00:00\",\"2014-07-24T00:00:00\",\"2021-06-28T00:00:00\",\"2019-10-15T00:00:00\",\"2015-11-04T00:00:00\",\"2022-06-21T00:00:00\",\"2022-04-12T00:00:00\",\"2020-12-19T00:00:00\",\"2013-05-19T00:00:00\",\"2014-11-20T00:00:00\",\"2015-09-10T00:00:00\",\"2013-03-30T00:00:00\",\"2020-08-01T00:00:00\",\"2022-12-06T00:00:00\",\"2017-10-31T00:00:00\",\"2022-07-28T00:00:00\",\"2019-07-28T00:00:00\",\"2021-05-01T00:00:00\",\"2022-02-01T00:00:00\",\"2020-02-04T00:00:00\",\"2016-10-20T00:00:00\",\"2016-08-19T00:00:00\",\"2018-09-20T00:00:00\",\"2017-01-07T00:00:00\",\"2019-08-18T00:00:00\",\"2022-11-28T00:00:00\",\"2018-10-02T00:00:00\",\"2014-04-27T00:00:00\",\"2021-06-03T00:00:00\",\"2016-08-06T00:00:00\",\"2022-10-02T00:00:00\",\"2015-01-19T00:00:00\",\"2015-03-06T00:00:00\",\"2021-06-24T00:00:00\",\"2014-10-01T00:00:00\",\"2019-03-21T00:00:00\",\"2020-06-12T00:00:00\",\"2014-06-26T00:00:00\",\"2015-12-15T00:00:00\",\"2018-08-12T00:00:00\",\"2013-01-24T00:00:00\",\"2021-09-13T00:00:00\",\"2013-02-03T00:00:00\",\"2014-08-23T00:00:00\",\"2013-08-08T00:00:00\",\"2021-01-26T00:00:00\",\"2022-01-16T00:00:00\",\"2019-11-06T00:00:00\",\"2021-03-18T00:00:00\",\"2014-07-01T00:00:00\",\"2013-11-23T00:00:00\",\"2021-11-21T00:00:00\",\"2013-08-15T00:00:00\",\"2013-06-19T00:00:00\",\"2018-12-29T00:00:00\",\"2014-06-02T00:00:00\",\"2014-06-05T00:00:00\",\"2021-02-19T00:00:00\",\"2018-07-19T00:00:00\",\"2022-02-04T00:00:00\",\"2020-06-22T00:00:00\"],\"y\":[17215.0,37452.0,17990.0,18635.0,40584.0,29986.0,19665.0,32963.0,24896.0,38379.0,13381.0,44981.0,43057.0,23133.0,39611.0,24740.0,29922.0,36255.0,22794.0,14636.0,18440.0,35698.0,36211.0,21576.0,42289.0,49340.0,43828.0,47145.0,19973.0,33572.0,23522.0,30186.0,36451.0,30461.0,35476.0,11269.0,39579.0,31114.0,19494.0,44819.0,52570.0,50819.0,41265.0,23190.0,52227.0,15453.0,20306.0,19736.0,38228.0,38045.0,11420.0,35569.0,33205.0,15780.0,38119.0,27677.0,22639.0,9468.0,24059.0,36268.0,50807.0,52313.0,17238.0,16713.0,27446.0,14210.0,21889.0,14016.0,46212.0,30196.0,28120.0,43499.0,48415.0,28509.0,38820.0,11494.0,44509.0,36334.0,14855.0,15499.0,45893.0,17244.0,21758.0,40233.0,29611.0,12165.0,34019.0,31513.0,32943.0,19207.0,18462.0,46903.0,47815.0,12692.0,29996.0,41639.0,29607.0,42628.0,19915.0,53078.0],\"type\":\"scatter\"},{\"marker\":{\"color\":\"red\"},\"mode\":\"markers\",\"name\":\"preds\",\"x\":[\"2013-09-11T00:00:00\",\"2022-10-14T00:00:00\",\"2016-10-12T00:00:00\",\"2013-11-30T00:00:00\",\"2016-01-06T00:00:00\",\"2015-12-02T00:00:00\",\"2015-11-14T00:00:00\",\"2021-04-08T00:00:00\",\"2014-12-15T00:00:00\",\"2019-04-26T00:00:00\",\"2022-01-29T00:00:00\",\"2014-04-09T00:00:00\",\"2022-04-10T00:00:00\",\"2022-12-23T00:00:00\",\"2014-10-17T00:00:00\",\"2015-09-19T00:00:00\",\"2020-09-08T00:00:00\",\"2019-11-29T00:00:00\",\"2019-01-02T00:00:00\",\"2014-02-03T00:00:00\",\"2015-02-04T00:00:00\",\"2019-03-05T00:00:00\",\"2020-05-06T00:00:00\",\"2020-01-04T00:00:00\",\"2019-09-16T00:00:00\",\"2015-04-21T00:00:00\",\"2015-12-05T00:00:00\",\"2017-05-23T00:00:00\",\"2013-01-18T00:00:00\",\"2015-10-21T00:00:00\",\"2017-10-02T00:00:00\",\"2022-11-18T00:00:00\",\"2020-04-21T00:00:00\",\"2019-05-19T00:00:00\",\"2020-10-16T00:00:00\",\"2022-01-01T00:00:00\",\"2015-08-12T00:00:00\",\"2016-01-07T00:00:00\",\"2013-01-02T00:00:00\",\"2019-06-28T00:00:00\",\"2014-07-24T00:00:00\",\"2021-06-28T00:00:00\",\"2019-10-15T00:00:00\",\"2015-11-04T00:00:00\",\"2022-06-21T00:00:00\",\"2022-04-12T00:00:00\",\"2020-12-19T00:00:00\",\"2013-05-19T00:00:00\",\"2014-11-20T00:00:00\",\"2015-09-10T00:00:00\",\"2013-03-30T00:00:00\",\"2020-08-01T00:00:00\",\"2022-12-06T00:00:00\",\"2017-10-31T00:00:00\",\"2022-07-28T00:00:00\",\"2019-07-28T00:00:00\",\"2021-05-01T00:00:00\",\"2022-02-01T00:00:00\",\"2020-02-04T00:00:00\",\"2016-10-20T00:00:00\",\"2016-08-19T00:00:00\",\"2018-09-20T00:00:00\",\"2017-01-07T00:00:00\",\"2019-08-18T00:00:00\",\"2022-11-28T00:00:00\",\"2018-10-02T00:00:00\",\"2014-04-27T00:00:00\",\"2021-06-03T00:00:00\",\"2016-08-06T00:00:00\",\"2022-10-02T00:00:00\",\"2015-01-19T00:00:00\",\"2015-03-06T00:00:00\",\"2021-06-24T00:00:00\",\"2014-10-01T00:00:00\",\"2019-03-21T00:00:00\",\"2020-06-12T00:00:00\",\"2014-06-26T00:00:00\",\"2015-12-15T00:00:00\",\"2018-08-12T00:00:00\",\"2013-01-24T00:00:00\",\"2021-09-13T00:00:00\",\"2013-02-03T00:00:00\",\"2014-08-23T00:00:00\",\"2013-08-08T00:00:00\",\"2021-01-26T00:00:00\",\"2022-01-16T00:00:00\",\"2019-11-06T00:00:00\",\"2021-03-18T00:00:00\",\"2014-07-01T00:00:00\",\"2013-11-23T00:00:00\",\"2021-11-21T00:00:00\",\"2013-08-15T00:00:00\",\"2013-06-19T00:00:00\",\"2018-12-29T00:00:00\",\"2014-06-02T00:00:00\",\"2014-06-05T00:00:00\",\"2021-02-19T00:00:00\",\"2018-07-19T00:00:00\",\"2022-02-04T00:00:00\",\"2020-06-22T00:00:00\"],\"y\":[47208.0,33417.0,36093.0,39059.0,20683.0,19649.0,23821.0,13998.0,28896.0,31846.0,23385.0,23454.0,40132.0,38205.0,20215.0,25365.0,19855.0,7812.0,22789.0,52315.0,15726.0,35036.0,14833.0,31477.0,34579.0,35732.0,33185.0,31785.0,34397.0,21241.0,27319.0,37584.0,52262.0,34989.0,32229.0,23317.0,37647.0,17244.0,37211.0,10382.0,8799.0,27369.0,33701.0,31003.0,45202.0,40153.0,44859.0,42499.0,36882.0,17128.0,32372.0,45684.0,32972.0,44800.0,42236.0,17423.0,46482.0,8460.0,19854.0,30247.0,38786.0,11389.0,29683.0,46002.0,46398.0,36008.0,45988.0,22238.0,42465.0,49315.0,19850.0,32457.0,9941.0,10844.0,30920.0,42997.0,32885.0,50446.0,32410.0,18396.0,31816.0,45834.0,46903.0,29796.0,43025.0,8660.0,31609.0,39817.0,56823.0,23582.0,21206.0,39483.0,44509.0,33037.0,45966.0,37734.0,17090.0,50857.0,43663.0,28676.0],\"type\":\"scatter\"}],                        {\"template\":{\"data\":{\"histogram2dcontour\":[{\"type\":\"histogram2dcontour\",\"colorbar\":{\"outlinewidth\":0,\"ticks\":\"\"},\"colorscale\":[[0.0,\"#0d0887\"],[0.1111111111111111,\"#46039f\"],[0.2222222222222222,\"#7201a8\"],[0.3333333333333333,\"#9c179e\"],[0.4444444444444444,\"#bd3786\"],[0.5555555555555556,\"#d8576b\"],[0.6666666666666666,\"#ed7953\"],[0.7777777777777778,\"#fb9f3a\"],[0.8888888888888888,\"#fdca26\"],[1.0,\"#f0f921\"]]}],\"choropleth\":[{\"type\":\"choropleth\",\"colorbar\":{\"outlinewidth\":0,\"ticks\":\"\"}}],\"histogram2d\":[{\"type\":\"histogram2d\",\"colorbar\":{\"outlinewidth\":0,\"ticks\":\"\"},\"colorscale\":[[0.0,\"#0d0887\"],[0.1111111111111111,\"#46039f\"],[0.2222222222222222,\"#7201a8\"],[0.3333333333333333,\"#9c179e\"],[0.4444444444444444,\"#bd3786\"],[0.5555555555555556,\"#d8576b\"],[0.6666666666666666,\"#ed7953\"],[0.7777777777777778,\"#fb9f3a\"],[0.8888888888888888,\"#fdca26\"],[1.0,\"#f0f921\"]]}],\"heatmap\":[{\"type\":\"heatmap\",\"colorbar\":{\"outlinewidth\":0,\"ticks\":\"\"},\"colorscale\":[[0.0,\"#0d0887\"],[0.1111111111111111,\"#46039f\"],[0.2222222222222222,\"#7201a8\"],[0.3333333333333333,\"#9c179e\"],[0.4444444444444444,\"#bd3786\"],[0.5555555555555556,\"#d8576b\"],[0.6666666666666666,\"#ed7953\"],[0.7777777777777778,\"#fb9f3a\"],[0.8888888888888888,\"#fdca26\"],[1.0,\"#f0f921\"]]}],\"heatmapgl\":[{\"type\":\"heatmapgl\",\"colorbar\":{\"outlinewidth\":0,\"ticks\":\"\"},\"colorscale\":[[0.0,\"#0d0887\"],[0.1111111111111111,\"#46039f\"],[0.2222222222222222,\"#7201a8\"],[0.3333333333333333,\"#9c179e\"],[0.4444444444444444,\"#bd3786\"],[0.5555555555555556,\"#d8576b\"],[0.6666666666666666,\"#ed7953\"],[0.7777777777777778,\"#fb9f3a\"],[0.8888888888888888,\"#fdca26\"],[1.0,\"#f0f921\"]]}],\"contourcarpet\":[{\"type\":\"contourcarpet\",\"colorbar\":{\"outlinewidth\":0,\"ticks\":\"\"}}],\"contour\":[{\"type\":\"contour\",\"colorbar\":{\"outlinewidth\":0,\"ticks\":\"\"},\"colorscale\":[[0.0,\"#0d0887\"],[0.1111111111111111,\"#46039f\"],[0.2222222222222222,\"#7201a8\"],[0.3333333333333333,\"#9c179e\"],[0.4444444444444444,\"#bd3786\"],[0.5555555555555556,\"#d8576b\"],[0.6666666666666666,\"#ed7953\"],[0.7777777777777778,\"#fb9f3a\"],[0.8888888888888888,\"#fdca26\"],[1.0,\"#f0f921\"]]}],\"surface\":[{\"type\":\"surface\",\"colorbar\":{\"outlinewidth\":0,\"ticks\":\"\"},\"colorscale\":[[0.0,\"#0d0887\"],[0.1111111111111111,\"#46039f\"],[0.2222222222222222,\"#7201a8\"],[0.3333333333333333,\"#9c179e\"],[0.4444444444444444,\"#bd3786\"],[0.5555555555555556,\"#d8576b\"],[0.6666666666666666,\"#ed7953\"],[0.7777777777777778,\"#fb9f3a\"],[0.8888888888888888,\"#fdca26\"],[1.0,\"#f0f921\"]]}],\"mesh3d\":[{\"type\":\"mesh3d\",\"colorbar\":{\"outlinewidth\":0,\"ticks\":\"\"}}],\"scatter\":[{\"fillpattern\":{\"fillmode\":\"overlay\",\"size\":10,\"solidity\":0.2},\"type\":\"scatter\"}],\"parcoords\":[{\"type\":\"parcoords\",\"line\":{\"colorbar\":{\"outlinewidth\":0,\"ticks\":\"\"}}}],\"scatterpolargl\":[{\"type\":\"scatterpolargl\",\"marker\":{\"colorbar\":{\"outlinewidth\":0,\"ticks\":\"\"}}}],\"bar\":[{\"error_x\":{\"color\":\"#2a3f5f\"},\"error_y\":{\"color\":\"#2a3f5f\"},\"marker\":{\"line\":{\"color\":\"#E5ECF6\",\"width\":0.5},\"pattern\":{\"fillmode\":\"overlay\",\"size\":10,\"solidity\":0.2}},\"type\":\"bar\"}],\"scattergeo\":[{\"type\":\"scattergeo\",\"marker\":{\"colorbar\":{\"outlinewidth\":0,\"ticks\":\"\"}}}],\"scatterpolar\":[{\"type\":\"scatterpolar\",\"marker\":{\"colorbar\":{\"outlinewidth\":0,\"ticks\":\"\"}}}],\"histogram\":[{\"marker\":{\"pattern\":{\"fillmode\":\"overlay\",\"size\":10,\"solidity\":0.2}},\"type\":\"histogram\"}],\"scattergl\":[{\"type\":\"scattergl\",\"marker\":{\"colorbar\":{\"outlinewidth\":0,\"ticks\":\"\"}}}],\"scatter3d\":[{\"type\":\"scatter3d\",\"line\":{\"colorbar\":{\"outlinewidth\":0,\"ticks\":\"\"}},\"marker\":{\"colorbar\":{\"outlinewidth\":0,\"ticks\":\"\"}}}],\"scattermapbox\":[{\"type\":\"scattermapbox\",\"marker\":{\"colorbar\":{\"outlinewidth\":0,\"ticks\":\"\"}}}],\"scatterternary\":[{\"type\":\"scatterternary\",\"marker\":{\"colorbar\":{\"outlinewidth\":0,\"ticks\":\"\"}}}],\"scattercarpet\":[{\"type\":\"scattercarpet\",\"marker\":{\"colorbar\":{\"outlinewidth\":0,\"ticks\":\"\"}}}],\"carpet\":[{\"aaxis\":{\"endlinecolor\":\"#2a3f5f\",\"gridcolor\":\"white\",\"linecolor\":\"white\",\"minorgridcolor\":\"white\",\"startlinecolor\":\"#2a3f5f\"},\"baxis\":{\"endlinecolor\":\"#2a3f5f\",\"gridcolor\":\"white\",\"linecolor\":\"white\",\"minorgridcolor\":\"white\",\"startlinecolor\":\"#2a3f5f\"},\"type\":\"carpet\"}],\"table\":[{\"cells\":{\"fill\":{\"color\":\"#EBF0F8\"},\"line\":{\"color\":\"white\"}},\"header\":{\"fill\":{\"color\":\"#C8D4E3\"},\"line\":{\"color\":\"white\"}},\"type\":\"table\"}],\"barpolar\":[{\"marker\":{\"line\":{\"color\":\"#E5ECF6\",\"width\":0.5},\"pattern\":{\"fillmode\":\"overlay\",\"size\":10,\"solidity\":0.2}},\"type\":\"barpolar\"}],\"pie\":[{\"automargin\":true,\"type\":\"pie\"}]},\"layout\":{\"autotypenumbers\":\"strict\",\"colorway\":[\"#636efa\",\"#EF553B\",\"#00cc96\",\"#ab63fa\",\"#FFA15A\",\"#19d3f3\",\"#FF6692\",\"#B6E880\",\"#FF97FF\",\"#FECB52\"],\"font\":{\"color\":\"#2a3f5f\"},\"hovermode\":\"closest\",\"hoverlabel\":{\"align\":\"left\"},\"paper_bgcolor\":\"white\",\"plot_bgcolor\":\"#E5ECF6\",\"polar\":{\"bgcolor\":\"#E5ECF6\",\"angularaxis\":{\"gridcolor\":\"white\",\"linecolor\":\"white\",\"ticks\":\"\"},\"radialaxis\":{\"gridcolor\":\"white\",\"linecolor\":\"white\",\"ticks\":\"\"}},\"ternary\":{\"bgcolor\":\"#E5ECF6\",\"aaxis\":{\"gridcolor\":\"white\",\"linecolor\":\"white\",\"ticks\":\"\"},\"baxis\":{\"gridcolor\":\"white\",\"linecolor\":\"white\",\"ticks\":\"\"},\"caxis\":{\"gridcolor\":\"white\",\"linecolor\":\"white\",\"ticks\":\"\"}},\"coloraxis\":{\"colorbar\":{\"outlinewidth\":0,\"ticks\":\"\"}},\"colorscale\":{\"sequential\":[[0.0,\"#0d0887\"],[0.1111111111111111,\"#46039f\"],[0.2222222222222222,\"#7201a8\"],[0.3333333333333333,\"#9c179e\"],[0.4444444444444444,\"#bd3786\"],[0.5555555555555556,\"#d8576b\"],[0.6666666666666666,\"#ed7953\"],[0.7777777777777778,\"#fb9f3a\"],[0.8888888888888888,\"#fdca26\"],[1.0,\"#f0f921\"]],\"sequentialminus\":[[0.0,\"#0d0887\"],[0.1111111111111111,\"#46039f\"],[0.2222222222222222,\"#7201a8\"],[0.3333333333333333,\"#9c179e\"],[0.4444444444444444,\"#bd3786\"],[0.5555555555555556,\"#d8576b\"],[0.6666666666666666,\"#ed7953\"],[0.7777777777777778,\"#fb9f3a\"],[0.8888888888888888,\"#fdca26\"],[1.0,\"#f0f921\"]],\"diverging\":[[0,\"#8e0152\"],[0.1,\"#c51b7d\"],[0.2,\"#de77ae\"],[0.3,\"#f1b6da\"],[0.4,\"#fde0ef\"],[0.5,\"#f7f7f7\"],[0.6,\"#e6f5d0\"],[0.7,\"#b8e186\"],[0.8,\"#7fbc41\"],[0.9,\"#4d9221\"],[1,\"#276419\"]]},\"xaxis\":{\"gridcolor\":\"white\",\"linecolor\":\"white\",\"ticks\":\"\",\"title\":{\"standoff\":15},\"zerolinecolor\":\"white\",\"automargin\":true,\"zerolinewidth\":2},\"yaxis\":{\"gridcolor\":\"white\",\"linecolor\":\"white\",\"ticks\":\"\",\"title\":{\"standoff\":15},\"zerolinecolor\":\"white\",\"automargin\":true,\"zerolinewidth\":2},\"scene\":{\"xaxis\":{\"backgroundcolor\":\"#E5ECF6\",\"gridcolor\":\"white\",\"linecolor\":\"white\",\"showbackground\":true,\"ticks\":\"\",\"zerolinecolor\":\"white\",\"gridwidth\":2},\"yaxis\":{\"backgroundcolor\":\"#E5ECF6\",\"gridcolor\":\"white\",\"linecolor\":\"white\",\"showbackground\":true,\"ticks\":\"\",\"zerolinecolor\":\"white\",\"gridwidth\":2},\"zaxis\":{\"backgroundcolor\":\"#E5ECF6\",\"gridcolor\":\"white\",\"linecolor\":\"white\",\"showbackground\":true,\"ticks\":\"\",\"zerolinecolor\":\"white\",\"gridwidth\":2}},\"shapedefaults\":{\"line\":{\"color\":\"#2a3f5f\"}},\"annotationdefaults\":{\"arrowcolor\":\"#2a3f5f\",\"arrowhead\":0,\"arrowwidth\":1},\"geo\":{\"bgcolor\":\"white\",\"landcolor\":\"#E5ECF6\",\"subunitcolor\":\"white\",\"showland\":true,\"showlakes\":true,\"lakecolor\":\"white\"},\"title\":{\"x\":0.05},\"mapbox\":{\"style\":\"light\"}}},\"xaxis\":{\"anchor\":\"y\",\"domain\":[0.0,1.0],\"title\":{\"text\":\"Date\"}},\"yaxis\":{\"anchor\":\"x\",\"domain\":[0.0,1.0],\"title\":{\"text\":\"Values\"}},\"legend\":{\"tracegroupgap\":0},\"margin\":{\"t\":60},\"title\":{\"text\":\"y_test vs. preds, random values\"}},                        {\"responsive\": true}                    ).then(function(){\n",
              "                            \n",
              "var gd = document.getElementById('338b2689-5f94-4edf-9751-e741310dd585');\n",
              "var x = new MutationObserver(function (mutations, observer) {{\n",
              "        var display = window.getComputedStyle(gd).display;\n",
              "        if (!display || display === 'none') {{\n",
              "            console.log([gd, 'removed!']);\n",
              "            Plotly.purge(gd);\n",
              "            observer.disconnect();\n",
              "        }}\n",
              "}});\n",
              "\n",
              "// Listen for the removal of the full notebook cells\n",
              "var notebookContainer = gd.closest('#notebook-container');\n",
              "if (notebookContainer) {{\n",
              "    x.observe(notebookContainer, {childList: true});\n",
              "}}\n",
              "\n",
              "// Listen for the clearing of the current output cell\n",
              "var outputEl = gd.closest('.output');\n",
              "if (outputEl) {{\n",
              "    x.observe(outputEl, {childList: true});\n",
              "}}\n",
              "\n",
              "                        })                };                            </script>        </div>\n",
              "</body>\n",
              "</html>"
            ]
          },
          "metadata": {}
        }
      ]
    },
    {
      "cell_type": "markdown",
      "source": [
        "<a name=\"5.3.\"></a>\n",
        "## 5.3. Multilayer Perceptron\n",
        "[Content](#content)"
      ],
      "metadata": {
        "id": "fOFZ5oXgTT7V"
      },
      "id": "fOFZ5oXgTT7V"
    },
    {
      "cell_type": "markdown",
      "source": [
        "TO CHECK: Performance when standardizing/normalizing dataset\n",
        "TO CHECK: When adding the prev_total values, the accuracy becomes less. Check later with optimized MLP again"
      ],
      "metadata": {
        "id": "pWGJlB8pNl7m"
      },
      "id": "pWGJlB8pNl7m"
    },
    {
      "cell_type": "code",
      "source": [
        "# Define the architecture of the MLP\n",
        "model = Sequential()\n",
        "model.add(Input(shape=(29,)))\n",
        "model.add(Dense(units=512, activation='relu'))  # Input layer with 20 features\n",
        "model.add(Dense(units=512, activation='relu'))  # Hidden layer with 32 neurons\n",
        "model.add(Dense(units=512, activation='relu'))  # Hidden layer with 32 neurons\n",
        "model.add(Dense(units=512, activation='relu'))  # Hidden layer with 32 neurons\n",
        "model.add(Dense(units=512, activation='relu'))  # Hidden layer with 32 neurons\n",
        "model.add(Dense(units=512, activation='relu'))  # Hidden layer with 32 neurons\n",
        "model.add(Dense(units=512, activation='relu'))  # Hidden layer with 32 neurons\n",
        "model.add(Dense(units=512, activation='relu'))  # Hidden layer with 32 neurons\n",
        "model.add(Dense(units=512, activation='relu'))  # Hidden layer with 32 neurons\n",
        "model.add(Dense(units=512, activation='relu'))  # Hidden layer with 32 neurons\n",
        "model.add(Dense(units=1, activation='linear'))  # Output layer with 1 neuron for regression\n",
        "\n",
        "# Compile the model with mean squared error (MSE) loss, and root mean square error (RMSE) as metric\n",
        "# Use Adam optimizer with learning rate\n",
        "optimizer = Adam(learning_rate=0.001)\n",
        "model.compile(optimizer=optimizer, loss='mse', metrics=[RootMeanSquaredError()])  \n",
        "\n",
        "# Train the model and save the learning history, use X_test and y_test for validation\n",
        "history = model.fit(X_train, y_train, epochs=100, batch_size=64, validation_data=(X_test, y_test))"
      ],
      "metadata": {
        "id": "CFbCaX6sKhZF",
        "outputId": "69cda5d7-b5fd-426b-b6e8-b75c5069c484",
        "colab": {
          "base_uri": "https://localhost:8080/",
          "height": 1000
        }
      },
      "id": "CFbCaX6sKhZF",
      "execution_count": 20,
      "outputs": [
        {
          "output_type": "stream",
          "name": "stderr",
          "text": [
            "/usr/local/lib/python3.9/dist-packages/ipykernel/ipkernel.py:283: DeprecationWarning:\n",
            "\n",
            "`should_run_async` will not call `transform_cell` automatically in the future. Please pass the result to `transformed_cell` argument and any exception that happen during thetransform in `preprocessing_exc_tuple` in IPython 7.17 and above.\n",
            "\n"
          ]
        },
        {
          "output_type": "stream",
          "name": "stdout",
          "text": [
            "Epoch 1/100\n",
            "46/46 [==============================] - 9s 77ms/step - loss: 70481671618560.0000 - root_mean_squared_error: 8395336.0000 - val_loss: 139844672.0000 - val_root_mean_squared_error: 11825.5938\n",
            "Epoch 2/100\n",
            "46/46 [==============================] - 2s 49ms/step - loss: 121298096.0000 - root_mean_squared_error: 11013.5410 - val_loss: 122100776.0000 - val_root_mean_squared_error: 11049.9219\n",
            "Epoch 3/100\n",
            "46/46 [==============================] - 2s 46ms/step - loss: 114674608.0000 - root_mean_squared_error: 10708.6230 - val_loss: 117390968.0000 - val_root_mean_squared_error: 10834.7109\n",
            "Epoch 4/100\n",
            "46/46 [==============================] - 2s 50ms/step - loss: 114641056.0000 - root_mean_squared_error: 10707.0566 - val_loss: 95914064.0000 - val_root_mean_squared_error: 9793.5723\n",
            "Epoch 5/100\n",
            "46/46 [==============================] - 3s 72ms/step - loss: 106757568.0000 - root_mean_squared_error: 10332.3555 - val_loss: 113641360.0000 - val_root_mean_squared_error: 10660.2705\n",
            "Epoch 6/100\n",
            "46/46 [==============================] - 2s 44ms/step - loss: 109530176.0000 - root_mean_squared_error: 10465.6670 - val_loss: 96007144.0000 - val_root_mean_squared_error: 9798.3232\n",
            "Epoch 7/100\n",
            "46/46 [==============================] - 2s 45ms/step - loss: 102769016.0000 - root_mean_squared_error: 10137.5059 - val_loss: 105937248.0000 - val_root_mean_squared_error: 10292.5820\n",
            "Epoch 8/100\n",
            "46/46 [==============================] - 2s 48ms/step - loss: 99811432.0000 - root_mean_squared_error: 9990.5674 - val_loss: 99057968.0000 - val_root_mean_squared_error: 9952.7871\n",
            "Epoch 9/100\n",
            "46/46 [==============================] - 2s 45ms/step - loss: 102429552.0000 - root_mean_squared_error: 10120.7490 - val_loss: 84954824.0000 - val_root_mean_squared_error: 9217.0938\n",
            "Epoch 10/100\n",
            "46/46 [==============================] - 3s 60ms/step - loss: 101610136.0000 - root_mean_squared_error: 10080.1855 - val_loss: 84961664.0000 - val_root_mean_squared_error: 9217.4648\n",
            "Epoch 11/100\n",
            "46/46 [==============================] - 3s 60ms/step - loss: 101493320.0000 - root_mean_squared_error: 10074.3896 - val_loss: 87021288.0000 - val_root_mean_squared_error: 9328.5205\n",
            "Epoch 12/100\n",
            "46/46 [==============================] - 2s 45ms/step - loss: 102069088.0000 - root_mean_squared_error: 10102.9248 - val_loss: 94278368.0000 - val_root_mean_squared_error: 9709.7051\n",
            "Epoch 13/100\n",
            "46/46 [==============================] - 2s 46ms/step - loss: 103443192.0000 - root_mean_squared_error: 10170.7021 - val_loss: 88532688.0000 - val_root_mean_squared_error: 9409.1807\n",
            "Epoch 14/100\n",
            "46/46 [==============================] - 2s 49ms/step - loss: 118810264.0000 - root_mean_squared_error: 10900.0117 - val_loss: 89450760.0000 - val_root_mean_squared_error: 9457.8408\n",
            "Epoch 15/100\n",
            "46/46 [==============================] - 2s 50ms/step - loss: 105235952.0000 - root_mean_squared_error: 10258.4580 - val_loss: 88170408.0000 - val_root_mean_squared_error: 9389.9102\n",
            "Epoch 16/100\n",
            "46/46 [==============================] - 4s 78ms/step - loss: 101334160.0000 - root_mean_squared_error: 10066.4873 - val_loss: 85464232.0000 - val_root_mean_squared_error: 9244.6865\n",
            "Epoch 17/100\n",
            "46/46 [==============================] - 2s 47ms/step - loss: 103473224.0000 - root_mean_squared_error: 10172.1787 - val_loss: 101297512.0000 - val_root_mean_squared_error: 10064.6670\n",
            "Epoch 18/100\n",
            "46/46 [==============================] - 2s 50ms/step - loss: 98966408.0000 - root_mean_squared_error: 9948.1865 - val_loss: 85800328.0000 - val_root_mean_squared_error: 9262.8467\n",
            "Epoch 19/100\n",
            "46/46 [==============================] - 2s 49ms/step - loss: 102651152.0000 - root_mean_squared_error: 10131.6904 - val_loss: 95311744.0000 - val_root_mean_squared_error: 9762.7734\n",
            "Epoch 20/100\n",
            "46/46 [==============================] - 2s 47ms/step - loss: 102382800.0000 - root_mean_squared_error: 10118.4385 - val_loss: 87096080.0000 - val_root_mean_squared_error: 9332.5283\n",
            "Epoch 21/100\n",
            "46/46 [==============================] - 3s 67ms/step - loss: 97637240.0000 - root_mean_squared_error: 9881.1562 - val_loss: 83713664.0000 - val_root_mean_squared_error: 9149.5176\n",
            "Epoch 22/100\n",
            "46/46 [==============================] - 3s 59ms/step - loss: 101481064.0000 - root_mean_squared_error: 10073.7812 - val_loss: 84388936.0000 - val_root_mean_squared_error: 9186.3447\n",
            "Epoch 23/100\n",
            "46/46 [==============================] - 2s 49ms/step - loss: 97465336.0000 - root_mean_squared_error: 9872.4531 - val_loss: 98310440.0000 - val_root_mean_squared_error: 9915.1621\n",
            "Epoch 24/100\n",
            "46/46 [==============================] - 2s 54ms/step - loss: 97337688.0000 - root_mean_squared_error: 9865.9863 - val_loss: 83596464.0000 - val_root_mean_squared_error: 9143.1104\n",
            "Epoch 25/100\n",
            "46/46 [==============================] - 2s 47ms/step - loss: 97530304.0000 - root_mean_squared_error: 9875.7432 - val_loss: 82884048.0000 - val_root_mean_squared_error: 9104.0674\n",
            "Epoch 26/100\n",
            "46/46 [==============================] - 3s 60ms/step - loss: 98634552.0000 - root_mean_squared_error: 9931.4932 - val_loss: 125194680.0000 - val_root_mean_squared_error: 11189.0430\n",
            "Epoch 27/100\n",
            "46/46 [==============================] - 3s 64ms/step - loss: 100255736.0000 - root_mean_squared_error: 10012.7783 - val_loss: 83280632.0000 - val_root_mean_squared_error: 9125.8223\n",
            "Epoch 28/100\n",
            "46/46 [==============================] - 2s 48ms/step - loss: 105285584.0000 - root_mean_squared_error: 10260.8760 - val_loss: 114944328.0000 - val_root_mean_squared_error: 10721.2090\n",
            "Epoch 29/100\n",
            "46/46 [==============================] - 2s 52ms/step - loss: 102418400.0000 - root_mean_squared_error: 10120.1973 - val_loss: 84841320.0000 - val_root_mean_squared_error: 9210.9346\n",
            "Epoch 30/100\n",
            "46/46 [==============================] - 2s 53ms/step - loss: 96040840.0000 - root_mean_squared_error: 9800.0430 - val_loss: 91120808.0000 - val_root_mean_squared_error: 9545.7217\n",
            "Epoch 31/100\n",
            "46/46 [==============================] - 4s 80ms/step - loss: 96470768.0000 - root_mean_squared_error: 9821.9531 - val_loss: 83317328.0000 - val_root_mean_squared_error: 9127.8330\n",
            "Epoch 32/100\n",
            "46/46 [==============================] - 3s 63ms/step - loss: 96797120.0000 - root_mean_squared_error: 9838.5527 - val_loss: 101580120.0000 - val_root_mean_squared_error: 10078.6963\n",
            "Epoch 33/100\n",
            "46/46 [==============================] - 2s 52ms/step - loss: 97295000.0000 - root_mean_squared_error: 9863.8232 - val_loss: 109052048.0000 - val_root_mean_squared_error: 10442.7988\n",
            "Epoch 34/100\n",
            "46/46 [==============================] - 2s 50ms/step - loss: 104852088.0000 - root_mean_squared_error: 10239.7305 - val_loss: 87660728.0000 - val_root_mean_squared_error: 9362.7305\n",
            "Epoch 35/100\n",
            "46/46 [==============================] - 2s 51ms/step - loss: 103936144.0000 - root_mean_squared_error: 10194.9082 - val_loss: 85166056.0000 - val_root_mean_squared_error: 9228.5459\n",
            "Epoch 36/100\n",
            "46/46 [==============================] - 5s 114ms/step - loss: 97265328.0000 - root_mean_squared_error: 9862.3184 - val_loss: 83756376.0000 - val_root_mean_squared_error: 9151.8506\n",
            "Epoch 37/100\n",
            "46/46 [==============================] - 2s 48ms/step - loss: 96368032.0000 - root_mean_squared_error: 9816.7217 - val_loss: 82071496.0000 - val_root_mean_squared_error: 9059.3320\n",
            "Epoch 38/100\n",
            "46/46 [==============================] - 2s 50ms/step - loss: 98551664.0000 - root_mean_squared_error: 9927.3193 - val_loss: 82646928.0000 - val_root_mean_squared_error: 9091.0352\n",
            "Epoch 39/100\n",
            "46/46 [==============================] - 2s 46ms/step - loss: 95078816.0000 - root_mean_squared_error: 9750.8369 - val_loss: 88433688.0000 - val_root_mean_squared_error: 9403.9189\n",
            "Epoch 40/100\n",
            "46/46 [==============================] - 2s 46ms/step - loss: 99380264.0000 - root_mean_squared_error: 9968.9648 - val_loss: 82553376.0000 - val_root_mean_squared_error: 9085.8887\n",
            "Epoch 41/100\n",
            "46/46 [==============================] - 4s 97ms/step - loss: 99180208.0000 - root_mean_squared_error: 9958.9258 - val_loss: 84293576.0000 - val_root_mean_squared_error: 9181.1533\n",
            "Epoch 42/100\n",
            "46/46 [==============================] - 5s 98ms/step - loss: 96979504.0000 - root_mean_squared_error: 9847.8174 - val_loss: 90947816.0000 - val_root_mean_squared_error: 9536.6562\n",
            "Epoch 43/100\n",
            "46/46 [==============================] - 3s 67ms/step - loss: 101767432.0000 - root_mean_squared_error: 10087.9844 - val_loss: 122635080.0000 - val_root_mean_squared_error: 11074.0723\n",
            "Epoch 44/100\n",
            "46/46 [==============================] - 3s 55ms/step - loss: 99237448.0000 - root_mean_squared_error: 9961.7998 - val_loss: 82435784.0000 - val_root_mean_squared_error: 9079.4150\n",
            "Epoch 45/100\n",
            "46/46 [==============================] - 3s 71ms/step - loss: 105069136.0000 - root_mean_squared_error: 10250.3232 - val_loss: 84137688.0000 - val_root_mean_squared_error: 9172.6602\n",
            "Epoch 46/100\n",
            "46/46 [==============================] - 2s 47ms/step - loss: 93832584.0000 - root_mean_squared_error: 9686.7217 - val_loss: 83516560.0000 - val_root_mean_squared_error: 9138.7393\n",
            "Epoch 47/100\n",
            "46/46 [==============================] - 2s 52ms/step - loss: 95644832.0000 - root_mean_squared_error: 9779.8174 - val_loss: 83925680.0000 - val_root_mean_squared_error: 9161.0957\n",
            "Epoch 48/100\n",
            "46/46 [==============================] - 2s 51ms/step - loss: 97691696.0000 - root_mean_squared_error: 9883.9111 - val_loss: 83262432.0000 - val_root_mean_squared_error: 9124.8252\n",
            "Epoch 49/100\n",
            "46/46 [==============================] - 2s 47ms/step - loss: 94977592.0000 - root_mean_squared_error: 9745.6445 - val_loss: 82299896.0000 - val_root_mean_squared_error: 9071.9287\n",
            "Epoch 50/100\n",
            "46/46 [==============================] - 4s 77ms/step - loss: 100053624.0000 - root_mean_squared_error: 10002.6807 - val_loss: 93911560.0000 - val_root_mean_squared_error: 9690.7979\n",
            "Epoch 51/100\n",
            "46/46 [==============================] - 2s 52ms/step - loss: 97075544.0000 - root_mean_squared_error: 9852.6924 - val_loss: 83587304.0000 - val_root_mean_squared_error: 9142.6094\n",
            "Epoch 52/100\n",
            "46/46 [==============================] - 3s 55ms/step - loss: 98027656.0000 - root_mean_squared_error: 9900.8916 - val_loss: 84440960.0000 - val_root_mean_squared_error: 9189.1758\n",
            "Epoch 53/100\n",
            "46/46 [==============================] - 3s 65ms/step - loss: 97206376.0000 - root_mean_squared_error: 9859.3291 - val_loss: 90184720.0000 - val_root_mean_squared_error: 9496.5635\n",
            "Epoch 54/100\n",
            "46/46 [==============================] - 6s 122ms/step - loss: 95816336.0000 - root_mean_squared_error: 9788.5820 - val_loss: 82917608.0000 - val_root_mean_squared_error: 9105.9102\n",
            "Epoch 55/100\n",
            "46/46 [==============================] - 5s 98ms/step - loss: 96426240.0000 - root_mean_squared_error: 9819.6865 - val_loss: 82503904.0000 - val_root_mean_squared_error: 9083.1660\n",
            "Epoch 56/100\n",
            "46/46 [==============================] - 5s 102ms/step - loss: 92852760.0000 - root_mean_squared_error: 9636.0137 - val_loss: 82344272.0000 - val_root_mean_squared_error: 9074.3740\n",
            "Epoch 57/100\n",
            "46/46 [==============================] - 5s 110ms/step - loss: 94310720.0000 - root_mean_squared_error: 9711.3711 - val_loss: 88745688.0000 - val_root_mean_squared_error: 9420.4932\n",
            "Epoch 58/100\n",
            "46/46 [==============================] - 5s 112ms/step - loss: 99887440.0000 - root_mean_squared_error: 9994.3701 - val_loss: 129443272.0000 - val_root_mean_squared_error: 11377.3135\n",
            "Epoch 59/100\n",
            "46/46 [==============================] - 5s 115ms/step - loss: 100637704.0000 - root_mean_squared_error: 10031.8350 - val_loss: 81979056.0000 - val_root_mean_squared_error: 9054.2285\n",
            "Epoch 60/100\n",
            "46/46 [==============================] - 6s 126ms/step - loss: 94634264.0000 - root_mean_squared_error: 9728.0146 - val_loss: 92484008.0000 - val_root_mean_squared_error: 9616.8604\n",
            "Epoch 61/100\n",
            "46/46 [==============================] - 4s 83ms/step - loss: 94197120.0000 - root_mean_squared_error: 9705.5205 - val_loss: 88493656.0000 - val_root_mean_squared_error: 9407.1064\n",
            "Epoch 62/100\n",
            "46/46 [==============================] - 3s 57ms/step - loss: 97567600.0000 - root_mean_squared_error: 9877.6309 - val_loss: 83655272.0000 - val_root_mean_squared_error: 9146.3252\n",
            "Epoch 63/100\n",
            "38/46 [=======================>......] - ETA: 0s - loss: 94766704.0000 - root_mean_squared_error: 9734.8193"
          ]
        },
        {
          "output_type": "error",
          "ename": "KeyboardInterrupt",
          "evalue": "ignored",
          "traceback": [
            "\u001b[0;31m---------------------------------------------------------------------------\u001b[0m",
            "\u001b[0;31mKeyboardInterrupt\u001b[0m                         Traceback (most recent call last)",
            "\u001b[0;32m<ipython-input-20-484aa6a4c292>\u001b[0m in \u001b[0;36m<cell line: 22>\u001b[0;34m()\u001b[0m\n\u001b[1;32m     20\u001b[0m \u001b[0;34m\u001b[0m\u001b[0m\n\u001b[1;32m     21\u001b[0m \u001b[0;31m# Train the model and save the learning history, use X_test and y_test for validation\u001b[0m\u001b[0;34m\u001b[0m\u001b[0;34m\u001b[0m\u001b[0m\n\u001b[0;32m---> 22\u001b[0;31m \u001b[0mhistory\u001b[0m \u001b[0;34m=\u001b[0m \u001b[0mmodel\u001b[0m\u001b[0;34m.\u001b[0m\u001b[0mfit\u001b[0m\u001b[0;34m(\u001b[0m\u001b[0mX_train\u001b[0m\u001b[0;34m,\u001b[0m \u001b[0my_train\u001b[0m\u001b[0;34m,\u001b[0m \u001b[0mepochs\u001b[0m\u001b[0;34m=\u001b[0m\u001b[0;36m100\u001b[0m\u001b[0;34m,\u001b[0m \u001b[0mbatch_size\u001b[0m\u001b[0;34m=\u001b[0m\u001b[0;36m64\u001b[0m\u001b[0;34m,\u001b[0m \u001b[0mvalidation_data\u001b[0m\u001b[0;34m=\u001b[0m\u001b[0;34m(\u001b[0m\u001b[0mX_test\u001b[0m\u001b[0;34m,\u001b[0m \u001b[0my_test\u001b[0m\u001b[0;34m)\u001b[0m\u001b[0;34m)\u001b[0m\u001b[0;34m\u001b[0m\u001b[0;34m\u001b[0m\u001b[0m\n\u001b[0m",
            "\u001b[0;32m/usr/local/lib/python3.9/dist-packages/keras/utils/traceback_utils.py\u001b[0m in \u001b[0;36merror_handler\u001b[0;34m(*args, **kwargs)\u001b[0m\n\u001b[1;32m     63\u001b[0m         \u001b[0mfiltered_tb\u001b[0m \u001b[0;34m=\u001b[0m \u001b[0;32mNone\u001b[0m\u001b[0;34m\u001b[0m\u001b[0;34m\u001b[0m\u001b[0m\n\u001b[1;32m     64\u001b[0m         \u001b[0;32mtry\u001b[0m\u001b[0;34m:\u001b[0m\u001b[0;34m\u001b[0m\u001b[0;34m\u001b[0m\u001b[0m\n\u001b[0;32m---> 65\u001b[0;31m             \u001b[0;32mreturn\u001b[0m \u001b[0mfn\u001b[0m\u001b[0;34m(\u001b[0m\u001b[0;34m*\u001b[0m\u001b[0margs\u001b[0m\u001b[0;34m,\u001b[0m \u001b[0;34m**\u001b[0m\u001b[0mkwargs\u001b[0m\u001b[0;34m)\u001b[0m\u001b[0;34m\u001b[0m\u001b[0;34m\u001b[0m\u001b[0m\n\u001b[0m\u001b[1;32m     66\u001b[0m         \u001b[0;32mexcept\u001b[0m \u001b[0mException\u001b[0m \u001b[0;32mas\u001b[0m \u001b[0me\u001b[0m\u001b[0;34m:\u001b[0m\u001b[0;34m\u001b[0m\u001b[0;34m\u001b[0m\u001b[0m\n\u001b[1;32m     67\u001b[0m             \u001b[0mfiltered_tb\u001b[0m \u001b[0;34m=\u001b[0m \u001b[0m_process_traceback_frames\u001b[0m\u001b[0;34m(\u001b[0m\u001b[0me\u001b[0m\u001b[0;34m.\u001b[0m\u001b[0m__traceback__\u001b[0m\u001b[0;34m)\u001b[0m\u001b[0;34m\u001b[0m\u001b[0;34m\u001b[0m\u001b[0m\n",
            "\u001b[0;32m/usr/local/lib/python3.9/dist-packages/keras/engine/training.py\u001b[0m in \u001b[0;36mfit\u001b[0;34m(self, x, y, batch_size, epochs, verbose, callbacks, validation_split, validation_data, shuffle, class_weight, sample_weight, initial_epoch, steps_per_epoch, validation_steps, validation_batch_size, validation_freq, max_queue_size, workers, use_multiprocessing)\u001b[0m\n\u001b[1;32m   1683\u001b[0m                         ):\n\u001b[1;32m   1684\u001b[0m                             \u001b[0mcallbacks\u001b[0m\u001b[0;34m.\u001b[0m\u001b[0mon_train_batch_begin\u001b[0m\u001b[0;34m(\u001b[0m\u001b[0mstep\u001b[0m\u001b[0;34m)\u001b[0m\u001b[0;34m\u001b[0m\u001b[0;34m\u001b[0m\u001b[0m\n\u001b[0;32m-> 1685\u001b[0;31m                             \u001b[0mtmp_logs\u001b[0m \u001b[0;34m=\u001b[0m \u001b[0mself\u001b[0m\u001b[0;34m.\u001b[0m\u001b[0mtrain_function\u001b[0m\u001b[0;34m(\u001b[0m\u001b[0miterator\u001b[0m\u001b[0;34m)\u001b[0m\u001b[0;34m\u001b[0m\u001b[0;34m\u001b[0m\u001b[0m\n\u001b[0m\u001b[1;32m   1686\u001b[0m                             \u001b[0;32mif\u001b[0m \u001b[0mdata_handler\u001b[0m\u001b[0;34m.\u001b[0m\u001b[0mshould_sync\u001b[0m\u001b[0;34m:\u001b[0m\u001b[0;34m\u001b[0m\u001b[0;34m\u001b[0m\u001b[0m\n\u001b[1;32m   1687\u001b[0m                                 \u001b[0mcontext\u001b[0m\u001b[0;34m.\u001b[0m\u001b[0masync_wait\u001b[0m\u001b[0;34m(\u001b[0m\u001b[0;34m)\u001b[0m\u001b[0;34m\u001b[0m\u001b[0;34m\u001b[0m\u001b[0m\n",
            "\u001b[0;32m/usr/local/lib/python3.9/dist-packages/tensorflow/python/util/traceback_utils.py\u001b[0m in \u001b[0;36merror_handler\u001b[0;34m(*args, **kwargs)\u001b[0m\n\u001b[1;32m    148\u001b[0m     \u001b[0mfiltered_tb\u001b[0m \u001b[0;34m=\u001b[0m \u001b[0;32mNone\u001b[0m\u001b[0;34m\u001b[0m\u001b[0;34m\u001b[0m\u001b[0m\n\u001b[1;32m    149\u001b[0m     \u001b[0;32mtry\u001b[0m\u001b[0;34m:\u001b[0m\u001b[0;34m\u001b[0m\u001b[0;34m\u001b[0m\u001b[0m\n\u001b[0;32m--> 150\u001b[0;31m       \u001b[0;32mreturn\u001b[0m \u001b[0mfn\u001b[0m\u001b[0;34m(\u001b[0m\u001b[0;34m*\u001b[0m\u001b[0margs\u001b[0m\u001b[0;34m,\u001b[0m \u001b[0;34m**\u001b[0m\u001b[0mkwargs\u001b[0m\u001b[0;34m)\u001b[0m\u001b[0;34m\u001b[0m\u001b[0;34m\u001b[0m\u001b[0m\n\u001b[0m\u001b[1;32m    151\u001b[0m     \u001b[0;32mexcept\u001b[0m \u001b[0mException\u001b[0m \u001b[0;32mas\u001b[0m \u001b[0me\u001b[0m\u001b[0;34m:\u001b[0m\u001b[0;34m\u001b[0m\u001b[0;34m\u001b[0m\u001b[0m\n\u001b[1;32m    152\u001b[0m       \u001b[0mfiltered_tb\u001b[0m \u001b[0;34m=\u001b[0m \u001b[0m_process_traceback_frames\u001b[0m\u001b[0;34m(\u001b[0m\u001b[0me\u001b[0m\u001b[0;34m.\u001b[0m\u001b[0m__traceback__\u001b[0m\u001b[0;34m)\u001b[0m\u001b[0;34m\u001b[0m\u001b[0;34m\u001b[0m\u001b[0m\n",
            "\u001b[0;32m/usr/local/lib/python3.9/dist-packages/tensorflow/python/eager/polymorphic_function/polymorphic_function.py\u001b[0m in \u001b[0;36m__call__\u001b[0;34m(self, *args, **kwds)\u001b[0m\n\u001b[1;32m    892\u001b[0m \u001b[0;34m\u001b[0m\u001b[0m\n\u001b[1;32m    893\u001b[0m       \u001b[0;32mwith\u001b[0m \u001b[0mOptionalXlaContext\u001b[0m\u001b[0;34m(\u001b[0m\u001b[0mself\u001b[0m\u001b[0;34m.\u001b[0m\u001b[0m_jit_compile\u001b[0m\u001b[0;34m)\u001b[0m\u001b[0;34m:\u001b[0m\u001b[0;34m\u001b[0m\u001b[0;34m\u001b[0m\u001b[0m\n\u001b[0;32m--> 894\u001b[0;31m         \u001b[0mresult\u001b[0m \u001b[0;34m=\u001b[0m \u001b[0mself\u001b[0m\u001b[0;34m.\u001b[0m\u001b[0m_call\u001b[0m\u001b[0;34m(\u001b[0m\u001b[0;34m*\u001b[0m\u001b[0margs\u001b[0m\u001b[0;34m,\u001b[0m \u001b[0;34m**\u001b[0m\u001b[0mkwds\u001b[0m\u001b[0;34m)\u001b[0m\u001b[0;34m\u001b[0m\u001b[0;34m\u001b[0m\u001b[0m\n\u001b[0m\u001b[1;32m    895\u001b[0m \u001b[0;34m\u001b[0m\u001b[0m\n\u001b[1;32m    896\u001b[0m       \u001b[0mnew_tracing_count\u001b[0m \u001b[0;34m=\u001b[0m \u001b[0mself\u001b[0m\u001b[0;34m.\u001b[0m\u001b[0mexperimental_get_tracing_count\u001b[0m\u001b[0;34m(\u001b[0m\u001b[0;34m)\u001b[0m\u001b[0;34m\u001b[0m\u001b[0;34m\u001b[0m\u001b[0m\n",
            "\u001b[0;32m/usr/local/lib/python3.9/dist-packages/tensorflow/python/eager/polymorphic_function/polymorphic_function.py\u001b[0m in \u001b[0;36m_call\u001b[0;34m(self, *args, **kwds)\u001b[0m\n\u001b[1;32m    924\u001b[0m       \u001b[0;31m# In this case we have created variables on the first call, so we run the\u001b[0m\u001b[0;34m\u001b[0m\u001b[0;34m\u001b[0m\u001b[0m\n\u001b[1;32m    925\u001b[0m       \u001b[0;31m# defunned version which is guaranteed to never create variables.\u001b[0m\u001b[0;34m\u001b[0m\u001b[0;34m\u001b[0m\u001b[0m\n\u001b[0;32m--> 926\u001b[0;31m       \u001b[0;32mreturn\u001b[0m \u001b[0mself\u001b[0m\u001b[0;34m.\u001b[0m\u001b[0m_no_variable_creation_fn\u001b[0m\u001b[0;34m(\u001b[0m\u001b[0;34m*\u001b[0m\u001b[0margs\u001b[0m\u001b[0;34m,\u001b[0m \u001b[0;34m**\u001b[0m\u001b[0mkwds\u001b[0m\u001b[0;34m)\u001b[0m  \u001b[0;31m# pylint: disable=not-callable\u001b[0m\u001b[0;34m\u001b[0m\u001b[0;34m\u001b[0m\u001b[0m\n\u001b[0m\u001b[1;32m    927\u001b[0m     \u001b[0;32melif\u001b[0m \u001b[0mself\u001b[0m\u001b[0;34m.\u001b[0m\u001b[0m_variable_creation_fn\u001b[0m \u001b[0;32mis\u001b[0m \u001b[0;32mnot\u001b[0m \u001b[0;32mNone\u001b[0m\u001b[0;34m:\u001b[0m\u001b[0;34m\u001b[0m\u001b[0;34m\u001b[0m\u001b[0m\n\u001b[1;32m    928\u001b[0m       \u001b[0;31m# Release the lock early so that multiple threads can perform the call\u001b[0m\u001b[0;34m\u001b[0m\u001b[0;34m\u001b[0m\u001b[0m\n",
            "\u001b[0;32m/usr/local/lib/python3.9/dist-packages/tensorflow/python/eager/polymorphic_function/tracing_compiler.py\u001b[0m in \u001b[0;36m__call__\u001b[0;34m(self, *args, **kwargs)\u001b[0m\n\u001b[1;32m    141\u001b[0m       (concrete_function,\n\u001b[1;32m    142\u001b[0m        filtered_flat_args) = self._maybe_define_function(args, kwargs)\n\u001b[0;32m--> 143\u001b[0;31m     return concrete_function._call_flat(\n\u001b[0m\u001b[1;32m    144\u001b[0m         filtered_flat_args, captured_inputs=concrete_function.captured_inputs)  # pylint: disable=protected-access\n\u001b[1;32m    145\u001b[0m \u001b[0;34m\u001b[0m\u001b[0m\n",
            "\u001b[0;32m/usr/local/lib/python3.9/dist-packages/tensorflow/python/eager/polymorphic_function/monomorphic_function.py\u001b[0m in \u001b[0;36m_call_flat\u001b[0;34m(self, args, captured_inputs, cancellation_manager)\u001b[0m\n\u001b[1;32m   1755\u001b[0m         and executing_eagerly):\n\u001b[1;32m   1756\u001b[0m       \u001b[0;31m# No tape is watching; skip to running the function.\u001b[0m\u001b[0;34m\u001b[0m\u001b[0;34m\u001b[0m\u001b[0m\n\u001b[0;32m-> 1757\u001b[0;31m       return self._build_call_outputs(self._inference_function.call(\n\u001b[0m\u001b[1;32m   1758\u001b[0m           ctx, args, cancellation_manager=cancellation_manager))\n\u001b[1;32m   1759\u001b[0m     forward_backward = self._select_forward_and_backward_functions(\n",
            "\u001b[0;32m/usr/local/lib/python3.9/dist-packages/tensorflow/python/eager/polymorphic_function/monomorphic_function.py\u001b[0m in \u001b[0;36mcall\u001b[0;34m(self, ctx, args, cancellation_manager)\u001b[0m\n\u001b[1;32m    379\u001b[0m       \u001b[0;32mwith\u001b[0m \u001b[0m_InterpolateFunctionError\u001b[0m\u001b[0;34m(\u001b[0m\u001b[0mself\u001b[0m\u001b[0;34m)\u001b[0m\u001b[0;34m:\u001b[0m\u001b[0;34m\u001b[0m\u001b[0;34m\u001b[0m\u001b[0m\n\u001b[1;32m    380\u001b[0m         \u001b[0;32mif\u001b[0m \u001b[0mcancellation_manager\u001b[0m \u001b[0;32mis\u001b[0m \u001b[0;32mNone\u001b[0m\u001b[0;34m:\u001b[0m\u001b[0;34m\u001b[0m\u001b[0;34m\u001b[0m\u001b[0m\n\u001b[0;32m--> 381\u001b[0;31m           outputs = execute.execute(\n\u001b[0m\u001b[1;32m    382\u001b[0m               \u001b[0mstr\u001b[0m\u001b[0;34m(\u001b[0m\u001b[0mself\u001b[0m\u001b[0;34m.\u001b[0m\u001b[0msignature\u001b[0m\u001b[0;34m.\u001b[0m\u001b[0mname\u001b[0m\u001b[0;34m)\u001b[0m\u001b[0;34m,\u001b[0m\u001b[0;34m\u001b[0m\u001b[0;34m\u001b[0m\u001b[0m\n\u001b[1;32m    383\u001b[0m               \u001b[0mnum_outputs\u001b[0m\u001b[0;34m=\u001b[0m\u001b[0mself\u001b[0m\u001b[0;34m.\u001b[0m\u001b[0m_num_outputs\u001b[0m\u001b[0;34m,\u001b[0m\u001b[0;34m\u001b[0m\u001b[0;34m\u001b[0m\u001b[0m\n",
            "\u001b[0;32m/usr/local/lib/python3.9/dist-packages/tensorflow/python/eager/execute.py\u001b[0m in \u001b[0;36mquick_execute\u001b[0;34m(op_name, num_outputs, inputs, attrs, ctx, name)\u001b[0m\n\u001b[1;32m     50\u001b[0m   \u001b[0;32mtry\u001b[0m\u001b[0;34m:\u001b[0m\u001b[0;34m\u001b[0m\u001b[0;34m\u001b[0m\u001b[0m\n\u001b[1;32m     51\u001b[0m     \u001b[0mctx\u001b[0m\u001b[0;34m.\u001b[0m\u001b[0mensure_initialized\u001b[0m\u001b[0;34m(\u001b[0m\u001b[0;34m)\u001b[0m\u001b[0;34m\u001b[0m\u001b[0;34m\u001b[0m\u001b[0m\n\u001b[0;32m---> 52\u001b[0;31m     tensors = pywrap_tfe.TFE_Py_Execute(ctx._handle, device_name, op_name,\n\u001b[0m\u001b[1;32m     53\u001b[0m                                         inputs, attrs, num_outputs)\n\u001b[1;32m     54\u001b[0m   \u001b[0;32mexcept\u001b[0m \u001b[0mcore\u001b[0m\u001b[0;34m.\u001b[0m\u001b[0m_NotOkStatusException\u001b[0m \u001b[0;32mas\u001b[0m \u001b[0me\u001b[0m\u001b[0;34m:\u001b[0m\u001b[0;34m\u001b[0m\u001b[0;34m\u001b[0m\u001b[0m\n",
            "\u001b[0;31mKeyboardInterrupt\u001b[0m: "
          ]
        }
      ]
    },
    {
      "cell_type": "code",
      "source": [
        "hist_train_rmse = np.array(history.history[\"root_mean_squared_error\"])\n",
        "hist_test_rmse = np.array(history.history[\"val_root_mean_squared_error\"])\n",
        "\n",
        "# Create the array for the x axis, starting from 1\n",
        "x = np.arange(1, len(history.history[\"root_mean_squared_error\"])+1)\n",
        "\n",
        "# Create a line chart with two lines using Plotly Express\n",
        "fig = px.line(title='train RMSE vs test RMSE')\n",
        "fig.add_scatter(x=x, y=hist_train_rmse, mode='lines+markers', name='Train', line=dict(color='red'))\n",
        "fig.add_scatter(x=x, y=hist_test_rmse, mode='lines+markers', name='Test', line=dict(color='blue'))\n",
        "\n",
        "# Set chart title and axis labels\n",
        "fig.update_layout(\n",
        "    xaxis_title='Epochs',\n",
        "    yaxis_title='RMSE'\n",
        ")\n",
        "\n",
        "# Show the chart\n",
        "fig.show()"
      ],
      "metadata": {
        "id": "RhbEPgSPsXCy",
        "outputId": "887a1ed7-7766-4bb3-f71a-9801ff3d7ca6",
        "colab": {
          "base_uri": "https://localhost:8080/",
          "height": 597
        }
      },
      "id": "RhbEPgSPsXCy",
      "execution_count": 19,
      "outputs": [
        {
          "output_type": "stream",
          "name": "stderr",
          "text": [
            "/usr/local/lib/python3.9/dist-packages/ipykernel/ipkernel.py:283: DeprecationWarning: `should_run_async` will not call `transform_cell` automatically in the future. Please pass the result to `transformed_cell` argument and any exception that happen during thetransform in `preprocessing_exc_tuple` in IPython 7.17 and above.\n",
            "  and should_run_async(code)\n"
          ]
        },
        {
          "output_type": "display_data",
          "data": {
            "text/html": [
              "<html>\n",
              "<head><meta charset=\"utf-8\" /></head>\n",
              "<body>\n",
              "    <div>            <script src=\"https://cdnjs.cloudflare.com/ajax/libs/mathjax/2.7.5/MathJax.js?config=TeX-AMS-MML_SVG\"></script><script type=\"text/javascript\">if (window.MathJax && window.MathJax.Hub && window.MathJax.Hub.Config) {window.MathJax.Hub.Config({SVG: {font: \"STIX-Web\"}});}</script>                <script type=\"text/javascript\">window.PlotlyConfig = {MathJaxConfig: 'local'};</script>\n",
              "        <script src=\"https://cdn.plot.ly/plotly-2.18.2.min.js\"></script>                <div id=\"e3df7e35-00f0-4e8b-81ec-b6cebb87d7e4\" class=\"plotly-graph-div\" style=\"height:525px; width:100%;\"></div>            <script type=\"text/javascript\">                                    window.PLOTLYENV=window.PLOTLYENV || {};                                    if (document.getElementById(\"e3df7e35-00f0-4e8b-81ec-b6cebb87d7e4\")) {                    Plotly.newPlot(                        \"e3df7e35-00f0-4e8b-81ec-b6cebb87d7e4\",                        [{\"hovertemplate\":\"<extra></extra>\",\"legendgroup\":\"\",\"line\":{\"color\":\"#636efa\",\"dash\":\"solid\"},\"marker\":{\"symbol\":\"circle\"},\"mode\":\"lines\",\"name\":\"\",\"orientation\":\"v\",\"showlegend\":false,\"xaxis\":\"x\",\"yaxis\":\"y\",\"type\":\"scatter\"},{\"line\":{\"color\":\"red\"},\"mode\":\"lines+markers\",\"name\":\"Train\",\"x\":[1,2,3,4,5,6,7,8,9,10,11,12,13,14,15,16,17,18,19,20,21,22,23,24,25,26,27,28,29,30,31,32,33,34,35,36,37,38,39,40,41,42,43,44,45,46,47,48,49,50,51,52,53,54,55,56,57,58,59,60,61,62,63,64,65,66,67,68,69,70,71,72,73,74,75,76,77,78,79,80,81,82,83,84,85,86,87,88,89,90,91,92,93,94,95,96,97,98,99,100],\"y\":[23485.162109375,10625.66796875,10558.63671875,10404.248046875,10512.54296875,10402.9306640625,10381.359375,11141.109375,10170.7470703125,10132.5078125,10389.234375,9995.7392578125,9952.474609375,9951.681640625,10185.5712890625,10515.990234375,10020.431640625,10258.333984375,10023.3271484375,9916.58203125,9981.625,10202.86328125,9969.873046875,10528.8779296875,9990.92578125,10185.9130859375,10002.1748046875,10000.408203125,9990.208984375,9867.7177734375,10022.8056640625,9957.044921875,10257.43359375,11352.271484375,10077.939453125,9995.3408203125,10149.25,9913.0693359375,10100.6484375,9798.3046875,9736.7119140625,9760.7861328125,9794.52734375,9833.392578125,9960.0068359375,9981.0908203125,9824.7197265625,10090.9580078125,9849.2724609375,9763.599609375,10093.1806640625,10089.32421875,9677.5283203125,9865.7265625,10042.837890625,9860.0029296875,9953.0224609375,9967.736328125,9852.8671875,9927.9091796875,10327.2890625,9754.3154296875,9698.3173828125,9766.83984375,9846.7861328125,9955.625,9941.8779296875,9856.3486328125,9845.9296875,9791.02734375,9737.0107421875,9811.103515625,9829.3134765625,9716.431640625,9939.849609375,9747.951171875,9878.0263671875,9954.1474609375,10297.3955078125,10029.552734375,10070.658203125,9726.4677734375,9705.6279296875,10108.033203125,9569.0166015625,9588.2548828125,9761.7890625,9763.921875,9830.3076171875,9939.60546875,9607.7412109375,9634.4736328125,9856.951171875,9722.6376953125,9624.2939453125,9871.5439453125,9803.482421875,9630.3193359375,9596.427734375,9565.009765625],\"type\":\"scatter\"},{\"line\":{\"color\":\"blue\"},\"mode\":\"lines+markers\",\"name\":\"Test\",\"x\":[1,2,3,4,5,6,7,8,9,10,11,12,13,14,15,16,17,18,19,20,21,22,23,24,25,26,27,28,29,30,31,32,33,34,35,36,37,38,39,40,41,42,43,44,45,46,47,48,49,50,51,52,53,54,55,56,57,58,59,60,61,62,63,64,65,66,67,68,69,70,71,72,73,74,75,76,77,78,79,80,81,82,83,84,85,86,87,88,89,90,91,92,93,94,95,96,97,98,99,100],\"y\":[11020.794921875,10043.34375,9894.83203125,10316.849609375,9748.228515625,9919.193359375,11364.412109375,9724.5185546875,9468.603515625,9467.5341796875,9500.8359375,9317.990234375,9131.310546875,9487.419921875,10316.0888671875,9671.2265625,9191.17578125,9308.7236328125,10081.07421875,9075.4423828125,10866.9404296875,9610.1953125,10018.623046875,9145.5029296875,9256.3515625,9048.7998046875,9238.9794921875,9609.875,9026.8095703125,9209.734375,9037.4482421875,9882.4990234375,10118.0546875,9113.55078125,8990.9296875,8983.767578125,9057.4384765625,9770.42578125,9731.46484375,9019.455078125,8946.623046875,9398.1845703125,9032.6884765625,9596.9931640625,9144.75390625,9926.001953125,9067.154296875,10216.4306640625,9111.982421875,9130.201171875,9485.9345703125,8984.7529296875,8937.9658203125,8917.3955078125,9868.8828125,9102.8642578125,9260.041015625,9254.85546875,9129.6630859375,9138.9365234375,9149.765625,9112.6650390625,9045.728515625,9518.783203125,9515.44921875,9431.365234375,9765.845703125,8915.751953125,9022.796875,9255.0732421875,9185.3564453125,10095.3466796875,9023.68359375,9153.2578125,10023.2041015625,9349.75,9091.966796875,9337.5205078125,9653.232421875,9298.00390625,8991.240234375,9790.3515625,8969.9892578125,9166.84375,9043.39453125,8942.3310546875,9121.2529296875,10139.1982421875,8991.0673828125,9145.88671875,9350.7724609375,9020.6435546875,9645.283203125,8878.6904296875,9467.3740234375,9135.4365234375,9119.7431640625,9421.8974609375,9163.84375,9048.943359375],\"type\":\"scatter\"}],                        {\"template\":{\"data\":{\"histogram2dcontour\":[{\"type\":\"histogram2dcontour\",\"colorbar\":{\"outlinewidth\":0,\"ticks\":\"\"},\"colorscale\":[[0.0,\"#0d0887\"],[0.1111111111111111,\"#46039f\"],[0.2222222222222222,\"#7201a8\"],[0.3333333333333333,\"#9c179e\"],[0.4444444444444444,\"#bd3786\"],[0.5555555555555556,\"#d8576b\"],[0.6666666666666666,\"#ed7953\"],[0.7777777777777778,\"#fb9f3a\"],[0.8888888888888888,\"#fdca26\"],[1.0,\"#f0f921\"]]}],\"choropleth\":[{\"type\":\"choropleth\",\"colorbar\":{\"outlinewidth\":0,\"ticks\":\"\"}}],\"histogram2d\":[{\"type\":\"histogram2d\",\"colorbar\":{\"outlinewidth\":0,\"ticks\":\"\"},\"colorscale\":[[0.0,\"#0d0887\"],[0.1111111111111111,\"#46039f\"],[0.2222222222222222,\"#7201a8\"],[0.3333333333333333,\"#9c179e\"],[0.4444444444444444,\"#bd3786\"],[0.5555555555555556,\"#d8576b\"],[0.6666666666666666,\"#ed7953\"],[0.7777777777777778,\"#fb9f3a\"],[0.8888888888888888,\"#fdca26\"],[1.0,\"#f0f921\"]]}],\"heatmap\":[{\"type\":\"heatmap\",\"colorbar\":{\"outlinewidth\":0,\"ticks\":\"\"},\"colorscale\":[[0.0,\"#0d0887\"],[0.1111111111111111,\"#46039f\"],[0.2222222222222222,\"#7201a8\"],[0.3333333333333333,\"#9c179e\"],[0.4444444444444444,\"#bd3786\"],[0.5555555555555556,\"#d8576b\"],[0.6666666666666666,\"#ed7953\"],[0.7777777777777778,\"#fb9f3a\"],[0.8888888888888888,\"#fdca26\"],[1.0,\"#f0f921\"]]}],\"heatmapgl\":[{\"type\":\"heatmapgl\",\"colorbar\":{\"outlinewidth\":0,\"ticks\":\"\"},\"colorscale\":[[0.0,\"#0d0887\"],[0.1111111111111111,\"#46039f\"],[0.2222222222222222,\"#7201a8\"],[0.3333333333333333,\"#9c179e\"],[0.4444444444444444,\"#bd3786\"],[0.5555555555555556,\"#d8576b\"],[0.6666666666666666,\"#ed7953\"],[0.7777777777777778,\"#fb9f3a\"],[0.8888888888888888,\"#fdca26\"],[1.0,\"#f0f921\"]]}],\"contourcarpet\":[{\"type\":\"contourcarpet\",\"colorbar\":{\"outlinewidth\":0,\"ticks\":\"\"}}],\"contour\":[{\"type\":\"contour\",\"colorbar\":{\"outlinewidth\":0,\"ticks\":\"\"},\"colorscale\":[[0.0,\"#0d0887\"],[0.1111111111111111,\"#46039f\"],[0.2222222222222222,\"#7201a8\"],[0.3333333333333333,\"#9c179e\"],[0.4444444444444444,\"#bd3786\"],[0.5555555555555556,\"#d8576b\"],[0.6666666666666666,\"#ed7953\"],[0.7777777777777778,\"#fb9f3a\"],[0.8888888888888888,\"#fdca26\"],[1.0,\"#f0f921\"]]}],\"surface\":[{\"type\":\"surface\",\"colorbar\":{\"outlinewidth\":0,\"ticks\":\"\"},\"colorscale\":[[0.0,\"#0d0887\"],[0.1111111111111111,\"#46039f\"],[0.2222222222222222,\"#7201a8\"],[0.3333333333333333,\"#9c179e\"],[0.4444444444444444,\"#bd3786\"],[0.5555555555555556,\"#d8576b\"],[0.6666666666666666,\"#ed7953\"],[0.7777777777777778,\"#fb9f3a\"],[0.8888888888888888,\"#fdca26\"],[1.0,\"#f0f921\"]]}],\"mesh3d\":[{\"type\":\"mesh3d\",\"colorbar\":{\"outlinewidth\":0,\"ticks\":\"\"}}],\"scatter\":[{\"fillpattern\":{\"fillmode\":\"overlay\",\"size\":10,\"solidity\":0.2},\"type\":\"scatter\"}],\"parcoords\":[{\"type\":\"parcoords\",\"line\":{\"colorbar\":{\"outlinewidth\":0,\"ticks\":\"\"}}}],\"scatterpolargl\":[{\"type\":\"scatterpolargl\",\"marker\":{\"colorbar\":{\"outlinewidth\":0,\"ticks\":\"\"}}}],\"bar\":[{\"error_x\":{\"color\":\"#2a3f5f\"},\"error_y\":{\"color\":\"#2a3f5f\"},\"marker\":{\"line\":{\"color\":\"#E5ECF6\",\"width\":0.5},\"pattern\":{\"fillmode\":\"overlay\",\"size\":10,\"solidity\":0.2}},\"type\":\"bar\"}],\"scattergeo\":[{\"type\":\"scattergeo\",\"marker\":{\"colorbar\":{\"outlinewidth\":0,\"ticks\":\"\"}}}],\"scatterpolar\":[{\"type\":\"scatterpolar\",\"marker\":{\"colorbar\":{\"outlinewidth\":0,\"ticks\":\"\"}}}],\"histogram\":[{\"marker\":{\"pattern\":{\"fillmode\":\"overlay\",\"size\":10,\"solidity\":0.2}},\"type\":\"histogram\"}],\"scattergl\":[{\"type\":\"scattergl\",\"marker\":{\"colorbar\":{\"outlinewidth\":0,\"ticks\":\"\"}}}],\"scatter3d\":[{\"type\":\"scatter3d\",\"line\":{\"colorbar\":{\"outlinewidth\":0,\"ticks\":\"\"}},\"marker\":{\"colorbar\":{\"outlinewidth\":0,\"ticks\":\"\"}}}],\"scattermapbox\":[{\"type\":\"scattermapbox\",\"marker\":{\"colorbar\":{\"outlinewidth\":0,\"ticks\":\"\"}}}],\"scatterternary\":[{\"type\":\"scatterternary\",\"marker\":{\"colorbar\":{\"outlinewidth\":0,\"ticks\":\"\"}}}],\"scattercarpet\":[{\"type\":\"scattercarpet\",\"marker\":{\"colorbar\":{\"outlinewidth\":0,\"ticks\":\"\"}}}],\"carpet\":[{\"aaxis\":{\"endlinecolor\":\"#2a3f5f\",\"gridcolor\":\"white\",\"linecolor\":\"white\",\"minorgridcolor\":\"white\",\"startlinecolor\":\"#2a3f5f\"},\"baxis\":{\"endlinecolor\":\"#2a3f5f\",\"gridcolor\":\"white\",\"linecolor\":\"white\",\"minorgridcolor\":\"white\",\"startlinecolor\":\"#2a3f5f\"},\"type\":\"carpet\"}],\"table\":[{\"cells\":{\"fill\":{\"color\":\"#EBF0F8\"},\"line\":{\"color\":\"white\"}},\"header\":{\"fill\":{\"color\":\"#C8D4E3\"},\"line\":{\"color\":\"white\"}},\"type\":\"table\"}],\"barpolar\":[{\"marker\":{\"line\":{\"color\":\"#E5ECF6\",\"width\":0.5},\"pattern\":{\"fillmode\":\"overlay\",\"size\":10,\"solidity\":0.2}},\"type\":\"barpolar\"}],\"pie\":[{\"automargin\":true,\"type\":\"pie\"}]},\"layout\":{\"autotypenumbers\":\"strict\",\"colorway\":[\"#636efa\",\"#EF553B\",\"#00cc96\",\"#ab63fa\",\"#FFA15A\",\"#19d3f3\",\"#FF6692\",\"#B6E880\",\"#FF97FF\",\"#FECB52\"],\"font\":{\"color\":\"#2a3f5f\"},\"hovermode\":\"closest\",\"hoverlabel\":{\"align\":\"left\"},\"paper_bgcolor\":\"white\",\"plot_bgcolor\":\"#E5ECF6\",\"polar\":{\"bgcolor\":\"#E5ECF6\",\"angularaxis\":{\"gridcolor\":\"white\",\"linecolor\":\"white\",\"ticks\":\"\"},\"radialaxis\":{\"gridcolor\":\"white\",\"linecolor\":\"white\",\"ticks\":\"\"}},\"ternary\":{\"bgcolor\":\"#E5ECF6\",\"aaxis\":{\"gridcolor\":\"white\",\"linecolor\":\"white\",\"ticks\":\"\"},\"baxis\":{\"gridcolor\":\"white\",\"linecolor\":\"white\",\"ticks\":\"\"},\"caxis\":{\"gridcolor\":\"white\",\"linecolor\":\"white\",\"ticks\":\"\"}},\"coloraxis\":{\"colorbar\":{\"outlinewidth\":0,\"ticks\":\"\"}},\"colorscale\":{\"sequential\":[[0.0,\"#0d0887\"],[0.1111111111111111,\"#46039f\"],[0.2222222222222222,\"#7201a8\"],[0.3333333333333333,\"#9c179e\"],[0.4444444444444444,\"#bd3786\"],[0.5555555555555556,\"#d8576b\"],[0.6666666666666666,\"#ed7953\"],[0.7777777777777778,\"#fb9f3a\"],[0.8888888888888888,\"#fdca26\"],[1.0,\"#f0f921\"]],\"sequentialminus\":[[0.0,\"#0d0887\"],[0.1111111111111111,\"#46039f\"],[0.2222222222222222,\"#7201a8\"],[0.3333333333333333,\"#9c179e\"],[0.4444444444444444,\"#bd3786\"],[0.5555555555555556,\"#d8576b\"],[0.6666666666666666,\"#ed7953\"],[0.7777777777777778,\"#fb9f3a\"],[0.8888888888888888,\"#fdca26\"],[1.0,\"#f0f921\"]],\"diverging\":[[0,\"#8e0152\"],[0.1,\"#c51b7d\"],[0.2,\"#de77ae\"],[0.3,\"#f1b6da\"],[0.4,\"#fde0ef\"],[0.5,\"#f7f7f7\"],[0.6,\"#e6f5d0\"],[0.7,\"#b8e186\"],[0.8,\"#7fbc41\"],[0.9,\"#4d9221\"],[1,\"#276419\"]]},\"xaxis\":{\"gridcolor\":\"white\",\"linecolor\":\"white\",\"ticks\":\"\",\"title\":{\"standoff\":15},\"zerolinecolor\":\"white\",\"automargin\":true,\"zerolinewidth\":2},\"yaxis\":{\"gridcolor\":\"white\",\"linecolor\":\"white\",\"ticks\":\"\",\"title\":{\"standoff\":15},\"zerolinecolor\":\"white\",\"automargin\":true,\"zerolinewidth\":2},\"scene\":{\"xaxis\":{\"backgroundcolor\":\"#E5ECF6\",\"gridcolor\":\"white\",\"linecolor\":\"white\",\"showbackground\":true,\"ticks\":\"\",\"zerolinecolor\":\"white\",\"gridwidth\":2},\"yaxis\":{\"backgroundcolor\":\"#E5ECF6\",\"gridcolor\":\"white\",\"linecolor\":\"white\",\"showbackground\":true,\"ticks\":\"\",\"zerolinecolor\":\"white\",\"gridwidth\":2},\"zaxis\":{\"backgroundcolor\":\"#E5ECF6\",\"gridcolor\":\"white\",\"linecolor\":\"white\",\"showbackground\":true,\"ticks\":\"\",\"zerolinecolor\":\"white\",\"gridwidth\":2}},\"shapedefaults\":{\"line\":{\"color\":\"#2a3f5f\"}},\"annotationdefaults\":{\"arrowcolor\":\"#2a3f5f\",\"arrowhead\":0,\"arrowwidth\":1},\"geo\":{\"bgcolor\":\"white\",\"landcolor\":\"#E5ECF6\",\"subunitcolor\":\"white\",\"showland\":true,\"showlakes\":true,\"lakecolor\":\"white\"},\"title\":{\"x\":0.05},\"mapbox\":{\"style\":\"light\"}}},\"xaxis\":{\"anchor\":\"y\",\"domain\":[0.0,1.0],\"title\":{\"text\":\"Epochs\"}},\"yaxis\":{\"anchor\":\"x\",\"domain\":[0.0,1.0],\"title\":{\"text\":\"RMSE\"}},\"legend\":{\"tracegroupgap\":0},\"title\":{\"text\":\"train RMSE vs test RMSE\"}},                        {\"responsive\": true}                    ).then(function(){\n",
              "                            \n",
              "var gd = document.getElementById('e3df7e35-00f0-4e8b-81ec-b6cebb87d7e4');\n",
              "var x = new MutationObserver(function (mutations, observer) {{\n",
              "        var display = window.getComputedStyle(gd).display;\n",
              "        if (!display || display === 'none') {{\n",
              "            console.log([gd, 'removed!']);\n",
              "            Plotly.purge(gd);\n",
              "            observer.disconnect();\n",
              "        }}\n",
              "}});\n",
              "\n",
              "// Listen for the removal of the full notebook cells\n",
              "var notebookContainer = gd.closest('#notebook-container');\n",
              "if (notebookContainer) {{\n",
              "    x.observe(notebookContainer, {childList: true});\n",
              "}}\n",
              "\n",
              "// Listen for the clearing of the current output cell\n",
              "var outputEl = gd.closest('.output');\n",
              "if (outputEl) {{\n",
              "    x.observe(outputEl, {childList: true});\n",
              "}}\n",
              "\n",
              "                        })                };                            </script>        </div>\n",
              "</body>\n",
              "</html>"
            ]
          },
          "metadata": {}
        }
      ]
    },
    {
      "cell_type": "code",
      "source": [
        "preds_train = model.predict(X_train)\n",
        "\n",
        "# Evaluate the model's performance using RMSE\n",
        "rmse_train = np.sqrt(mean_squared_error(y_train, preds_train))\n",
        "print(\"Trai RMSE: %f\" % (rmse_train))\n",
        "\n",
        "preds_test = model.predict(X_test)\n",
        "\n",
        "# Evaluate the model's performance using RMSE\n",
        "rmse_test = np.sqrt(mean_squared_error(y_test, preds_test))\n",
        "print(\"Test RMSE: %f\" % (rmse_test))"
      ],
      "metadata": {
        "id": "qg2TMtxJUzVm",
        "outputId": "71f59a4b-61c1-49ff-a295-b9f46a13c13c",
        "colab": {
          "base_uri": "https://localhost:8080/"
        }
      },
      "id": "qg2TMtxJUzVm",
      "execution_count": null,
      "outputs": [
        {
          "output_type": "stream",
          "name": "stderr",
          "text": [
            "/usr/local/lib/python3.9/dist-packages/ipykernel/ipkernel.py:283: DeprecationWarning:\n",
            "\n",
            "`should_run_async` will not call `transform_cell` automatically in the future. Please pass the result to `transformed_cell` argument and any exception that happen during thetransform in `preprocessing_exc_tuple` in IPython 7.17 and above.\n",
            "\n"
          ]
        },
        {
          "output_type": "stream",
          "name": "stdout",
          "text": [
            "92/92 [==============================] - 1s 4ms/step\n",
            "Trai RMSE: 8892.720546\n",
            "23/23 [==============================] - 0s 4ms/step\n",
            "Test RMSE: 8572.132531\n"
          ]
        }
      ]
    },
    {
      "cell_type": "markdown",
      "source": [
        "<a name=\"5.4.\"></a>\n",
        "## 5.4. Recurrent Neural Network\n",
        "[Content](#content)"
      ],
      "metadata": {
        "id": "35YvxR1B1tcY"
      },
      "id": "35YvxR1B1tcY"
    },
    {
      "cell_type": "code",
      "source": [
        "# Load the data into a pandas dataframe\n",
        "data = df_transformed_date\n",
        "\n",
        "# Define the features and target\n",
        "# Higly correlated features have been removed (tavg, tmax, wpgt)\n",
        "features = ['year', 'month', 'day', 'weekday', 'tmax', 'prcp', \n",
        "            'snow', 'wspd', 'pres', 'tsun', \n",
        "            'holiday_1_weihnachtsfeiertag', 'holiday_2_weihnachtsfeiertag', \n",
        "            'holiday_christi_himmelfahrt', 'holiday_karfreitag', 'holiday_neujahr', \n",
        "            'holiday_ostermontag', 'holiday_pfingstmontag', 'holiday_reformationstag', \n",
        "            'holiday_tag_der_arbeit', 'holiday_tag_der_deutschen_einheit', \n",
        "            'vacation_herbstferien', 'vacation_osterferien', 'vacation_pfingstferien', \n",
        "            'vacation_sommerferien', 'vacation_weihnachtsferien', 'vacation_winterferien'] \n",
        "\n",
        "target = 'Total'\n",
        "\n",
        "# Split the data into training and test sets\n",
        "X_train, X_test, y_train, y_test = train_test_split(data[features], data[target], \n",
        "                                                    test_size=0.2, shuffle=True, random_state=0)"
      ],
      "metadata": {
        "id": "J7cPlQdTzEmQ"
      },
      "id": "J7cPlQdTzEmQ",
      "execution_count": null,
      "outputs": []
    },
    {
      "cell_type": "code",
      "source": [
        "\n",
        "import tensorflow as tf\n",
        "import numpy as np\n",
        "from keras.models import Sequential\n",
        "from keras.layers import LSTM, Dense\n",
        "from sklearn.metrics import mean_squared_error\n",
        "from sklearn.model_selection import train_test_split\n",
        "from keras.optimizers import Adam\n",
        "\n",
        "# Assuming X_train, X_test, y_train, y_test are already defined and contain the appropriate data\n",
        "\n",
        "\n",
        "\n",
        "\n",
        "num_samples = X_train.shape[0]\n",
        "# Build the LSTM model\n",
        "\"\"\"\n",
        "model = Sequential()\n",
        "model.add(LSTM(units=256, input_shape=(1, X_train.shape[1]), activation='relu'))\n",
        "# Add a dense output layer with a single unit (for regression) and no activation function\n",
        "model.add(Dense(units=1))\n",
        "\"\"\"\n",
        "\"\"\"\n",
        "model = tf.keras.models.Sequential([\n",
        "    # Shape [batch, time, features] => [batch, time, lstm_units]\n",
        "    tf.keras.layers.LSTM(64),\n",
        "    # Shape => [batch, time, features]\n",
        "    tf.keras.layers.Dense(units=1)\n",
        "])\n",
        "\"\"\"\n",
        "\n",
        "\n",
        "# Build the LSTM model\n",
        "model = tf.keras.models.Sequential([\n",
        "    tf.keras.layers.LSTM(256, activation='relu'),\n",
        "    # Shape [batch, time, features] => [batch, time, lstm_units]\n",
        "    tf.keras.layers.LSTM(128, activation='relu'),\n",
        "    # Add another LSTM layer with 128 units and ReLU activation\n",
        "    tf.keras.layers.LSTM(64, activation='relu'),\n",
        "    # Shape => [batch, time, features]\n",
        "    tf.keras.layers.Dense(units=1)\n",
        "])\n",
        "\n",
        "X_train_3d = np.reshape(X_train.to_numpy(), (num_samples, 1, X_train.shape[1]))  # Fix variable name\n",
        "model.compile(loss=tf.keras.losses.MeanSquaredError(),\n",
        "              optimizer=Adam(learning_rate=0.001),\n",
        "              metrics=[tf.keras.metrics.MeanAbsoluteError()])\n",
        "\n",
        "# Train the model\n",
        "model.fit(X_train_3d, y_train, epochs=100, batch_size=64, verbose=1)"
      ],
      "metadata": {
        "id": "sOTf5esj1181",
        "outputId": "b4fb66de-f2dc-4de2-d814-7438f4eb5ebc",
        "colab": {
          "base_uri": "https://localhost:8080/",
          "height": 860
        }
      },
      "id": "sOTf5esj1181",
      "execution_count": null,
      "outputs": [
        {
          "output_type": "stream",
          "name": "stdout",
          "text": [
            "Epoch 1/100\n"
          ]
        },
        {
          "output_type": "stream",
          "name": "stderr",
          "text": [
            "/usr/local/lib/python3.9/dist-packages/ipykernel/ipkernel.py:283: DeprecationWarning:\n",
            "\n",
            "`should_run_async` will not call `transform_cell` automatically in the future. Please pass the result to `transformed_cell` argument and any exception that happen during thetransform in `preprocessing_exc_tuple` in IPython 7.17 and above.\n",
            "\n"
          ]
        },
        {
          "output_type": "error",
          "ename": "ValueError",
          "evalue": "ignored",
          "traceback": [
            "\u001b[0;31m---------------------------------------------------------------------------\u001b[0m",
            "\u001b[0;31mValueError\u001b[0m                                Traceback (most recent call last)",
            "\u001b[0;32m<ipython-input-23-fb3438d48593>\u001b[0m in \u001b[0;36m<cell line: 49>\u001b[0;34m()\u001b[0m\n\u001b[1;32m     47\u001b[0m \u001b[0;34m\u001b[0m\u001b[0m\n\u001b[1;32m     48\u001b[0m \u001b[0;31m# Train the model\u001b[0m\u001b[0;34m\u001b[0m\u001b[0;34m\u001b[0m\u001b[0m\n\u001b[0;32m---> 49\u001b[0;31m \u001b[0mmodel\u001b[0m\u001b[0;34m.\u001b[0m\u001b[0mfit\u001b[0m\u001b[0;34m(\u001b[0m\u001b[0mX_train_3d\u001b[0m\u001b[0;34m,\u001b[0m \u001b[0my_train\u001b[0m\u001b[0;34m,\u001b[0m \u001b[0mepochs\u001b[0m\u001b[0;34m=\u001b[0m\u001b[0;36m100\u001b[0m\u001b[0;34m,\u001b[0m \u001b[0mbatch_size\u001b[0m\u001b[0;34m=\u001b[0m\u001b[0;36m64\u001b[0m\u001b[0;34m,\u001b[0m \u001b[0mverbose\u001b[0m\u001b[0;34m=\u001b[0m\u001b[0;36m1\u001b[0m\u001b[0;34m)\u001b[0m\u001b[0;34m\u001b[0m\u001b[0;34m\u001b[0m\u001b[0m\n\u001b[0m",
            "\u001b[0;32m/usr/local/lib/python3.9/dist-packages/keras/utils/traceback_utils.py\u001b[0m in \u001b[0;36merror_handler\u001b[0;34m(*args, **kwargs)\u001b[0m\n\u001b[1;32m     68\u001b[0m             \u001b[0;31m# To get the full stack trace, call:\u001b[0m\u001b[0;34m\u001b[0m\u001b[0;34m\u001b[0m\u001b[0m\n\u001b[1;32m     69\u001b[0m             \u001b[0;31m# `tf.debugging.disable_traceback_filtering()`\u001b[0m\u001b[0;34m\u001b[0m\u001b[0;34m\u001b[0m\u001b[0m\n\u001b[0;32m---> 70\u001b[0;31m             \u001b[0;32mraise\u001b[0m \u001b[0me\u001b[0m\u001b[0;34m.\u001b[0m\u001b[0mwith_traceback\u001b[0m\u001b[0;34m(\u001b[0m\u001b[0mfiltered_tb\u001b[0m\u001b[0;34m)\u001b[0m \u001b[0;32mfrom\u001b[0m \u001b[0;32mNone\u001b[0m\u001b[0;34m\u001b[0m\u001b[0;34m\u001b[0m\u001b[0m\n\u001b[0m\u001b[1;32m     71\u001b[0m         \u001b[0;32mfinally\u001b[0m\u001b[0;34m:\u001b[0m\u001b[0;34m\u001b[0m\u001b[0;34m\u001b[0m\u001b[0m\n\u001b[1;32m     72\u001b[0m             \u001b[0;32mdel\u001b[0m \u001b[0mfiltered_tb\u001b[0m\u001b[0;34m\u001b[0m\u001b[0;34m\u001b[0m\u001b[0m\n",
            "\u001b[0;32m/usr/local/lib/python3.9/dist-packages/keras/engine/training.py\u001b[0m in \u001b[0;36mtf__train_function\u001b[0;34m(iterator)\u001b[0m\n\u001b[1;32m     13\u001b[0m                 \u001b[0;32mtry\u001b[0m\u001b[0;34m:\u001b[0m\u001b[0;34m\u001b[0m\u001b[0;34m\u001b[0m\u001b[0m\n\u001b[1;32m     14\u001b[0m                     \u001b[0mdo_return\u001b[0m \u001b[0;34m=\u001b[0m \u001b[0;32mTrue\u001b[0m\u001b[0;34m\u001b[0m\u001b[0;34m\u001b[0m\u001b[0m\n\u001b[0;32m---> 15\u001b[0;31m                     \u001b[0mretval_\u001b[0m \u001b[0;34m=\u001b[0m \u001b[0mag__\u001b[0m\u001b[0;34m.\u001b[0m\u001b[0mconverted_call\u001b[0m\u001b[0;34m(\u001b[0m\u001b[0mag__\u001b[0m\u001b[0;34m.\u001b[0m\u001b[0mld\u001b[0m\u001b[0;34m(\u001b[0m\u001b[0mstep_function\u001b[0m\u001b[0;34m)\u001b[0m\u001b[0;34m,\u001b[0m \u001b[0;34m(\u001b[0m\u001b[0mag__\u001b[0m\u001b[0;34m.\u001b[0m\u001b[0mld\u001b[0m\u001b[0;34m(\u001b[0m\u001b[0mself\u001b[0m\u001b[0;34m)\u001b[0m\u001b[0;34m,\u001b[0m \u001b[0mag__\u001b[0m\u001b[0;34m.\u001b[0m\u001b[0mld\u001b[0m\u001b[0;34m(\u001b[0m\u001b[0miterator\u001b[0m\u001b[0;34m)\u001b[0m\u001b[0;34m)\u001b[0m\u001b[0;34m,\u001b[0m \u001b[0;32mNone\u001b[0m\u001b[0;34m,\u001b[0m \u001b[0mfscope\u001b[0m\u001b[0;34m)\u001b[0m\u001b[0;34m\u001b[0m\u001b[0;34m\u001b[0m\u001b[0m\n\u001b[0m\u001b[1;32m     16\u001b[0m                 \u001b[0;32mexcept\u001b[0m\u001b[0;34m:\u001b[0m\u001b[0;34m\u001b[0m\u001b[0;34m\u001b[0m\u001b[0m\n\u001b[1;32m     17\u001b[0m                     \u001b[0mdo_return\u001b[0m \u001b[0;34m=\u001b[0m \u001b[0;32mFalse\u001b[0m\u001b[0;34m\u001b[0m\u001b[0;34m\u001b[0m\u001b[0m\n",
            "\u001b[0;31mValueError\u001b[0m: in user code:\n\n    File \"/usr/local/lib/python3.9/dist-packages/keras/engine/training.py\", line 1284, in train_function  *\n        return step_function(self, iterator)\n    File \"/usr/local/lib/python3.9/dist-packages/keras/engine/training.py\", line 1268, in step_function  **\n        outputs = model.distribute_strategy.run(run_step, args=(data,))\n    File \"/usr/local/lib/python3.9/dist-packages/keras/engine/training.py\", line 1249, in run_step  **\n        outputs = model.train_step(data)\n    File \"/usr/local/lib/python3.9/dist-packages/keras/engine/training.py\", line 1050, in train_step\n        y_pred = self(x, training=True)\n    File \"/usr/local/lib/python3.9/dist-packages/keras/utils/traceback_utils.py\", line 70, in error_handler\n        raise e.with_traceback(filtered_tb) from None\n    File \"/usr/local/lib/python3.9/dist-packages/keras/engine/input_spec.py\", line 235, in assert_input_compatibility\n        raise ValueError(\n\n    ValueError: Exception encountered when calling layer 'sequential_3' (type Sequential).\n    \n    Input 0 of layer \"lstm_1\" is incompatible with the layer: expected ndim=3, found ndim=2. Full shape received: (None, 256)\n    \n    Call arguments received by layer 'sequential_3' (type Sequential):\n      • inputs=tf.Tensor(shape=(None, 1, 26), dtype=float32)\n      • training=True\n      • mask=None\n"
          ]
        }
      ]
    },
    {
      "cell_type": "code",
      "source": [
        "# Predict on the test set\n",
        "#X_test_3d = np.reshape(X_test.to_numpy(), (X_test.shape[0], 1, X_test.shape[1]))  # Reshape X_test\n",
        "\n",
        "num_samples = X_test.shape[0]\n",
        "X_test_3d = np.reshape(X_test.to_numpy(), (num_samples, 1, X_test.shape[1]))  # Fix variable name\n",
        "preds = model.predict(X_test_3d)\n",
        "\n",
        "# Evaluate the model's performance using RMSE\n",
        "rmse = np.sqrt(mean_squared_error(y_test, np.reshape(preds, (y_test.shape[0]))))\n",
        "print(\"RMSE: %f\" % (rmse))\n"
      ],
      "metadata": {
        "id": "VKXsUKtg3Hf7",
        "outputId": "9e164cf5-c57d-4099-f96c-fc87a762796c",
        "colab": {
          "base_uri": "https://localhost:8080/"
        }
      },
      "id": "VKXsUKtg3Hf7",
      "execution_count": null,
      "outputs": [
        {
          "output_type": "stream",
          "name": "stdout",
          "text": [
            "23/23 [==============================] - 0s 6ms/step\n",
            "2018-03-11    26957.0\n",
            "2014-07-27    37410.0\n",
            "2016-09-30    39593.0\n",
            "2022-06-05    50288.0\n",
            "2017-09-29    41285.0\n",
            "               ...   \n",
            "2013-08-06    37690.0\n",
            "2014-11-02    29683.0\n",
            "2020-06-27    33080.0\n",
            "2016-08-31    53149.0\n",
            "2022-01-16    12165.0\n",
            "Name: Total, Length: 731, dtype: float64\n",
            "[30535.756 37923.53  32049.592 36079.492 31525.645 28276.818 31182.781\n",
            " 28032.14  26946.822 35099.41  40275.06  31049.348 38569.285 31857.996\n",
            " 30947.023 28566.012 28895.145 29982.74  36054.23  28999.047 29830.938\n",
            " 30775.758 27452.115 31243.29  27236.404 27673.469 29084.553 30560.8\n",
            " 30556.438 34519.117 30605.236 31264.998 33066.836 20967.12  37602.754\n",
            " 32578.305 39709.023 29811.994 28410.668 33195.67  27754.33  31554.383\n",
            " 27051.059 28399.223 35825.227 27933.12  39415.55  35235.44  35060.434\n",
            " 32877.6   31883.713 31583.65  28782.07  34868.4   32103.193 28370.572\n",
            " 26299.674 29966.117 36611.188 40976.992 27086.205 35797.164 28439.223\n",
            " 33622.242 28705.676 38175.42  34417.445 28957.5   36308.617 28908.55\n",
            " 37213.16  36347.03  34534.062 34639.863 35874.066 27784.098 35697.617\n",
            " 34003.117 28966.828 29811.201 39181.43  37208.74  29791.184 34617.906\n",
            " 42703.395 30691.934 30614.492 40071.594 31881.691 27934.062 28284.287\n",
            " 28051.7   36985.902 29192.484 27608.682 28789.975 26355.484 27787.441\n",
            " 29981.924 31186.365 28301.477 28304.15  38885.28  36011.42  31960.99\n",
            " 38749.53  38430.297 29760.828 30432.652 30257.871 32469.188 34066.39\n",
            " 30997.773 31536.41  28273.12  32349.531 30816.842 33717.098 33554.9\n",
            " 34276.82  39291.336 33380.445 32863.555 30041.027 32035.176 36708.824\n",
            " 30301.84  34444.28  30674.49  29149.008 31354.275 30204.746 31686.18\n",
            " 29207.268 33989.16  31325.043 39509.79  36273.504 31471.459 40020.6\n",
            " 41277.42  32089.291 24329.695 27392.574 36653.62  34557.67  30227.469\n",
            " 33615.58  34608.184 29098.312 32880.23  28926.908 32157.129 37616.05\n",
            " 27961.137 26307.066 30602.525 30377.96  27462.43  32323.93  31711.664\n",
            " 33492.402 28600.62  27415.158 36909.266 29957.19  32680.48  27420.258\n",
            " 34235.63  38565.977 29908.133 37271.406 28105.71  30903.229 33011.914\n",
            " 36409.562 28768.932 29186.928 39983.547 33785.54  40970.984 36229.52\n",
            " 28698.73  26572.406 31259.195 38083.176 37181.785 36186.29  32611.484\n",
            " 28891.117 41074.977 29592.809 30956.902 29925.838 30389.666 35291.543\n",
            " 27262.867 34318.945 31685.656 33198.883 40358.77  30349.998 28376.86\n",
            " 31006.66  27133.348 29969.465 41086.305 35752.65  33420.82  40327.094\n",
            " 29608.707 32939.836 29481.06  33391.74  31294.055 29367.46  29798.877\n",
            " 37192.773 27496.613 31836.113 29794.701 36261.11  27693.982 36049.74\n",
            " 25118.715 26600.906 34175.516 33649.445 31414.486 30539.434 38395.35\n",
            " 30772.27  41311.33  35912.914 32895.617 30533.494 33835.945 36771.33\n",
            " 34480.727 38675.96  30103.457 33579.766 40636.58  29061.283 27798.26\n",
            " 31739.969 33766.81  33735.445 28814.553 31208.902 32801.484 31415.56\n",
            " 27165.734 28664.709 32880.25  31479.459 34949.44  36264.184 35625.934\n",
            " 29230.758 32458.545 38007.55  29021.336 28242.297 37848.254 37525.438\n",
            " 42074.062 26553.861 39471.312 27804.781 29231.63  27608.887 40036.418\n",
            " 28594.725 32269.191 28240.336 32681.455 33789.19  41092.42  28425.816\n",
            " 28671.113 31419.41  37302.883 36711.89  30868.258 32372.223 30138.152\n",
            " 32457.68  38424.273 34162.3   30955.832 42433.414 25662.822 37814.1\n",
            " 28679.096 32276.273 33771.04  30551.535 28284.578 34561.97  33974.203\n",
            " 27989.67  28785.055 28310.746 41729.945 30032.605 27059.402 35783.43\n",
            " 27916.266 33571.117 29198.871 26820.531 36082.766 36386.96  33544.926\n",
            " 32334.777 30095.615 29765.154 40148.85  29122.496 37977.645 37172.023\n",
            " 35709.605 28241.94  29983.469 39158.055 28481.176 34435.723 31850.875\n",
            " 30427.188 27808.861 35191.312 30108.621 36841.12  33792.17  27250.586\n",
            " 30393.146 41835.01  37661.984 32244.77  34861.438 29055.027 35179.688\n",
            " 28529.32  37502.93  35146.977 29809.055 35348.03  35349.242 35044.953\n",
            " 28649.373 25464.87  26799.586 33202.547 38547.367 29964.395 29271.268\n",
            " 32412.566 34028.418 30448.314 36658.008 37616.61  38865.184 26837.984\n",
            " 30493.35  31135.135 34944.273 29059.062 32612.664 33182.508 36021.21\n",
            " 37659.92  29174.68  27425.734 24425.39  40619.695 29851.543 27222.896\n",
            " 32389.945 32818.61  40478.37  28538.848 32621.975 38760.734 29865.791\n",
            " 29118.438 22734.77  35608.195 39240.777 28204.57  37494.45  27795.809\n",
            " 31124.29  28125.379 30668.83  36780.88  35092.24  27257.584 32762.92\n",
            " 29191.695 30332.67  34698.664 28657.197 32730.62  29361.957 30036.146\n",
            " 36334.027 33118.71  33675.35  34061.305 38280.633 36038.43  32569.033\n",
            " 30402.904 26906.602 30097.39  30153.75  30081.236 36243.273 27097.748\n",
            " 26627.457 41145.016 29065.584 32892.89  27543.842 33744.742 27837.824\n",
            " 29577.424 34806.492 28676.033 29073.951 31024.906 35550.844 26740.033\n",
            " 28744.7   28681.209 31693.246 34573.293 28904.94  29304.68  24170.795\n",
            " 32939.53  30251.47  30783.781 35420.594 38562.535 28807.996 31215.178\n",
            " 34828.586 33485.7   32388.658 25743.254 36113.957 32207.105 37512.91\n",
            " 41754.27  38940.645 30649.145 28809.062 32093.82  29181.783 35446.85\n",
            " 29480.178 31390.502 29172.719 29525.453 33838.9   28600.994 26913.957\n",
            " 30962.293 35262.926 27974.543 29188.564 29932.682 28751.998 36425.914\n",
            " 27765.738 34579.836 31114.379 35488.043 32468.658 37091.543 31804.445\n",
            " 28156.662 28739.523 27238.691 29269.959 29122.938 30934.553 30105.598\n",
            " 27763.31  32968.617 39271.58  34228.047 32043.846 31021.697 36324.773\n",
            " 29090.5   28005.98  35347.39  27314.217 33510.863 34383.508 31989.314\n",
            " 33463.023 26554.512 35642.41  29382.18  37303.53  34534.277 32841.11\n",
            " 27859.672 29799.521 36312.027 39016.92  27766.727 29873.291 29425.498\n",
            " 28755.35  37039.78  28871.238 37739.527 27454.805 32537.203 40147.04\n",
            " 26762.992 29567.355 29248.854 40344.89  28812.508 26026.979 29730.186\n",
            " 27668.277 38192.625 33323.67  32599.21  35461.97  28219.246 37233.184\n",
            " 35047.914 26165.969 32694.93  38129.945 30735.66  32898.11  36779.96\n",
            " 27590.143 37194.258 37617.527 31590.418 35008.133 28993.033 28986.658\n",
            " 29339.412 28805.234 33672.43  40084.5   32237.555 30849.951 33604.5\n",
            " 27592.473 27767.77  29264.3   30782.688 34078.98  40917.883 40331.53\n",
            " 38562.22  27253.578 42213.414 30222.191 29297.605 28220.545 36777.656\n",
            " 37803.168 30457.24  29461.035 35844.703 26979.201 35235.31  28317.184\n",
            " 28099.363 35160.797 17938.512 31606.816 31306.428 27698.33  33872.336\n",
            " 36222.793 31134.57  27105.273 29003.256 29067.514 28795.828 28361.59\n",
            " 29271.955 31125.57  30169.227 36174.95  27300.453 32128.818 42471.688\n",
            " 29884.555 33774.57  40088.14  31469.32  28652.695 37584.008 40613.94\n",
            " 39088.273 28776.893 30917.832 28132.102 33867.203 29434.54  33241.953\n",
            " 27689.957 34596.754 31480.986 33311.766 31321.633 32374.02  28735.398\n",
            " 30912.723 30306.855 30024.146 34695.168 33773.234 27155.594 28942.36\n",
            " 28549.752 32962.67  30988.277 31669.574 32731.906 26505.414 36714.867\n",
            " 32027.564 28014.104 27388.172 29059.31  38950.465 28223.016 36537.156\n",
            " 34646.85  33619.633 27253.11  33640.105 27835.066 28865.283 31741.336\n",
            " 29607.709 31793.18  29821.254 30169.857 29155.113 33091.344 28840.87\n",
            " 30701.451 38699.695 34778.492 30873.91  31753.938 39074.254 29108.562\n",
            " 29054.666 31255.793 27622.195 23942.727 33822.457 26732.242 31384.193\n",
            " 30383.117 33887.848 38108.47  31001.605 30316.656 36109.17  37142.344\n",
            " 37251.527 29568.79  28523.484 30068.816 27156.57  31139.52  32650.121\n",
            " 29119.219 28425.162 29143.188 40756.152 19575.227 32356.07  38374.184\n",
            " 29971.729 34045.992 32953.43  32909.984 28691.13  32954.438 35330.203\n",
            " 25878.568 34547.816 30182.648 35726.12  32246.543 38518.086 28400.176\n",
            " 30923.803 29469.703 33898.254 21382.246 29780.531 35541.96  30789.947\n",
            " 32486.113 33500.625 36360.832 26822.582 37836.04  34492.055 30334.977\n",
            " 36625.    36443.164 27525.09  31452.646 29998.045 35628.61  31696.156\n",
            " 36801.215 40152.914 27091.5  ]\n",
            "RMSE: 10052.370818\n"
          ]
        }
      ]
    }
  ],
  "metadata": {
    "colab": {
      "provenance": []
    },
    "gpuClass": "standard",
    "kernelspec": {
      "display_name": "Python 3 (ipykernel)",
      "language": "python",
      "name": "python3"
    },
    "language_info": {
      "codemirror_mode": {
        "name": "ipython",
        "version": 3
      },
      "file_extension": ".py",
      "mimetype": "text/x-python",
      "name": "python",
      "nbconvert_exporter": "python",
      "pygments_lexer": "ipython3",
      "version": "3.9.2"
    }
  },
  "nbformat": 4,
  "nbformat_minor": 5
}