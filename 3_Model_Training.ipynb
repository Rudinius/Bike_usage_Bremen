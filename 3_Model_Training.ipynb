{
  "cells": [
    {
      "cell_type": "markdown",
      "source": [
        "# Notebook"
      ],
      "metadata": {
        "id": "CBLnLwZIZpWJ"
      },
      "id": "CBLnLwZIZpWJ"
    },
    {
      "cell_type": "markdown",
      "source": [
        "In the Model learning step, the prepared dataset from [2_EDA](https://github.com/Rudinius/Bike_usage_Bremen/blob/57e21c8dd687aadc1498f82241cf662840c8b871/2_EDA.ipynb) is loaded. Then different machine learning algorithms are trained and compared to each other."
      ],
      "metadata": {
        "id": "lZXvJFJqZuRE"
      },
      "id": "lZXvJFJqZuRE"
    },
    {
      "cell_type": "markdown",
      "metadata": {
        "id": "0c910711"
      },
      "source": [
        "<a name=\"content\"></a>\n",
        "# Content \n",
        "\n",
        "* [1. Import libraries and mount drive](#1)\n",
        "* [2. Import datasets](#2)\n",
        "* [3. Transform columns](#3)\n",
        "* [4. Establish baseline benchmark](#4)\n",
        "* [5. Training machine learning algorithms](#5)\n",
        "    * [5.2. XGBoost](#5.2.)\n",
        "    * [5.3. Multilayer perceptron](#5.3.)\n",
        "    * [5.4. Recurrent Neural Network](#5.4.)"
      ],
      "id": "0c910711"
    },
    {
      "cell_type": "markdown",
      "metadata": {
        "id": "85f76996"
      },
      "source": [
        "<a name=\"1\"></a>\n",
        "# 1.&nbsp;Import libraries\n",
        "[Content](#content)"
      ],
      "id": "85f76996"
    },
    {
      "cell_type": "code",
      "execution_count": null,
      "metadata": {
        "id": "3731ea33"
      },
      "outputs": [],
      "source": [
        "# Import libraries\n",
        "import numpy as np\n",
        "import pandas as pd\n",
        "import plotly.express as px\n",
        "import random\n",
        "from sklearn.metrics import accuracy_score, mean_squared_error\n",
        "from sklearn.model_selection import cross_val_score, GridSearchCV, train_test_split, TimeSeriesSplit\n",
        "from sklearn.preprocessing import OneHotEncoder\n",
        "import xgboost as xgb"
      ],
      "id": "3731ea33"
    },
    {
      "cell_type": "markdown",
      "metadata": {
        "id": "2516jhMiVxrJ"
      },
      "source": [
        "<a name=\"2\"></a>\n",
        "#2.&nbsp;Import dataset\n",
        "[Content](#content)"
      ],
      "id": "2516jhMiVxrJ"
    },
    {
      "cell_type": "markdown",
      "source": [
        "Next, we will import the processed dataset from [2_EDA](../Bike_usage_Bremen/2_EDA.ipynb)."
      ],
      "metadata": {
        "id": "IF9lS_3ok1tO"
      },
      "id": "IF9lS_3ok1tO"
    },
    {
      "cell_type": "code",
      "execution_count": null,
      "metadata": {
        "id": "Xu3OXfHqVxfa"
      },
      "outputs": [],
      "source": [
        "# Set base url\n",
        "url = \"https://raw.githubusercontent.com/Rudinius/Bike_usage_Bremen/main/data/\""
      ],
      "id": "Xu3OXfHqVxfa"
    },
    {
      "cell_type": "code",
      "execution_count": null,
      "metadata": {
        "colab": {
          "base_uri": "https://localhost:8080/",
          "height": 417
        },
        "id": "2etHV6ODVsUV",
        "outputId": "a58c192b-2e2c-4d47-d633-3c3739d4a7c9"
      },
      "outputs": [
        {
          "output_type": "execute_result",
          "data": {
            "text/plain": [
              "            Weekday  GrafMoltkeStrEast  GrafMoltkeStrWest  HastedterBrStr  \\\n",
              "date                                                                        \n",
              "2013-01-01        1              261.0              290.0           381.0   \n",
              "2013-01-02        2              750.0              876.0          1109.0   \n",
              "2013-01-03        3              931.0             1015.0          1603.0   \n",
              "2013-01-04        4              500.0              587.0          1284.0   \n",
              "2013-01-05        5             1013.0             1011.0          1284.0   \n",
              "\n",
              "            LangemarckStrEast  LangemarckStrWest  Osterdeich  \\\n",
              "date                                                           \n",
              "2013-01-01              312.0              308.0       870.0   \n",
              "2013-01-02             1258.0             1120.0      2169.0   \n",
              "2013-01-03             1556.0             1480.0      2295.0   \n",
              "2013-01-04              703.0              626.0      1640.0   \n",
              "2013-01-05             1856.0             1621.0      4128.0   \n",
              "\n",
              "            RadwegKleineWeser  SchwachhauserRing  WachmannStrAusSouth  ...  \\\n",
              "date                                                                   ...   \n",
              "2013-01-01              410.0              391.0                514.0  ...   \n",
              "2013-01-02             1762.0              829.0               1786.0  ...   \n",
              "2013-01-03             2287.0             1196.0               2412.0  ...   \n",
              "2013-01-04             1548.0             1418.0                964.0  ...   \n",
              "2013-01-05             4256.0             3075.0               2065.0  ...   \n",
              "\n",
              "            tmax  prcp  snow   wdir  wspd  wpgt    pres  tsun  Holiday  \\\n",
              "date                                                                     \n",
              "2013-01-01   9.1   6.9   0.0  233.0  19.4  50.4  1001.8     0  Neujahr   \n",
              "2013-01-02   7.1   1.8   0.0  246.0  20.2  40.0  1017.5    30      NaN   \n",
              "2013-01-03  10.6   0.9   0.0  257.0  23.8  45.7  1024.5     0      NaN   \n",
              "2013-01-04   9.7   0.0   0.0  276.0  25.2  48.2  1029.5     0      NaN   \n",
              "2013-01-05   8.6   0.1   0.0  293.0  20.2  41.0  1029.9     0      NaN   \n",
              "\n",
              "                    Vacation  \n",
              "date                          \n",
              "2013-01-01  Weihnachtsferien  \n",
              "2013-01-02  Weihnachtsferien  \n",
              "2013-01-03  Weihnachtsferien  \n",
              "2013-01-04  Weihnachtsferien  \n",
              "2013-01-05  Weihnachtsferien  \n",
              "\n",
              "[5 rows x 26 columns]"
            ],
            "text/html": [
              "\n",
              "  <div id=\"df-00e77326-ccdb-47d8-85f0-eab5b9ce7245\">\n",
              "    <div class=\"colab-df-container\">\n",
              "      <div>\n",
              "<style scoped>\n",
              "    .dataframe tbody tr th:only-of-type {\n",
              "        vertical-align: middle;\n",
              "    }\n",
              "\n",
              "    .dataframe tbody tr th {\n",
              "        vertical-align: top;\n",
              "    }\n",
              "\n",
              "    .dataframe thead th {\n",
              "        text-align: right;\n",
              "    }\n",
              "</style>\n",
              "<table border=\"1\" class=\"dataframe\">\n",
              "  <thead>\n",
              "    <tr style=\"text-align: right;\">\n",
              "      <th></th>\n",
              "      <th>Weekday</th>\n",
              "      <th>GrafMoltkeStrEast</th>\n",
              "      <th>GrafMoltkeStrWest</th>\n",
              "      <th>HastedterBrStr</th>\n",
              "      <th>LangemarckStrEast</th>\n",
              "      <th>LangemarckStrWest</th>\n",
              "      <th>Osterdeich</th>\n",
              "      <th>RadwegKleineWeser</th>\n",
              "      <th>SchwachhauserRing</th>\n",
              "      <th>WachmannStrAusSouth</th>\n",
              "      <th>...</th>\n",
              "      <th>tmax</th>\n",
              "      <th>prcp</th>\n",
              "      <th>snow</th>\n",
              "      <th>wdir</th>\n",
              "      <th>wspd</th>\n",
              "      <th>wpgt</th>\n",
              "      <th>pres</th>\n",
              "      <th>tsun</th>\n",
              "      <th>Holiday</th>\n",
              "      <th>Vacation</th>\n",
              "    </tr>\n",
              "    <tr>\n",
              "      <th>date</th>\n",
              "      <th></th>\n",
              "      <th></th>\n",
              "      <th></th>\n",
              "      <th></th>\n",
              "      <th></th>\n",
              "      <th></th>\n",
              "      <th></th>\n",
              "      <th></th>\n",
              "      <th></th>\n",
              "      <th></th>\n",
              "      <th></th>\n",
              "      <th></th>\n",
              "      <th></th>\n",
              "      <th></th>\n",
              "      <th></th>\n",
              "      <th></th>\n",
              "      <th></th>\n",
              "      <th></th>\n",
              "      <th></th>\n",
              "      <th></th>\n",
              "      <th></th>\n",
              "    </tr>\n",
              "  </thead>\n",
              "  <tbody>\n",
              "    <tr>\n",
              "      <th>2013-01-01</th>\n",
              "      <td>1</td>\n",
              "      <td>261.0</td>\n",
              "      <td>290.0</td>\n",
              "      <td>381.0</td>\n",
              "      <td>312.0</td>\n",
              "      <td>308.0</td>\n",
              "      <td>870.0</td>\n",
              "      <td>410.0</td>\n",
              "      <td>391.0</td>\n",
              "      <td>514.0</td>\n",
              "      <td>...</td>\n",
              "      <td>9.1</td>\n",
              "      <td>6.9</td>\n",
              "      <td>0.0</td>\n",
              "      <td>233.0</td>\n",
              "      <td>19.4</td>\n",
              "      <td>50.4</td>\n",
              "      <td>1001.8</td>\n",
              "      <td>0</td>\n",
              "      <td>Neujahr</td>\n",
              "      <td>Weihnachtsferien</td>\n",
              "    </tr>\n",
              "    <tr>\n",
              "      <th>2013-01-02</th>\n",
              "      <td>2</td>\n",
              "      <td>750.0</td>\n",
              "      <td>876.0</td>\n",
              "      <td>1109.0</td>\n",
              "      <td>1258.0</td>\n",
              "      <td>1120.0</td>\n",
              "      <td>2169.0</td>\n",
              "      <td>1762.0</td>\n",
              "      <td>829.0</td>\n",
              "      <td>1786.0</td>\n",
              "      <td>...</td>\n",
              "      <td>7.1</td>\n",
              "      <td>1.8</td>\n",
              "      <td>0.0</td>\n",
              "      <td>246.0</td>\n",
              "      <td>20.2</td>\n",
              "      <td>40.0</td>\n",
              "      <td>1017.5</td>\n",
              "      <td>30</td>\n",
              "      <td>NaN</td>\n",
              "      <td>Weihnachtsferien</td>\n",
              "    </tr>\n",
              "    <tr>\n",
              "      <th>2013-01-03</th>\n",
              "      <td>3</td>\n",
              "      <td>931.0</td>\n",
              "      <td>1015.0</td>\n",
              "      <td>1603.0</td>\n",
              "      <td>1556.0</td>\n",
              "      <td>1480.0</td>\n",
              "      <td>2295.0</td>\n",
              "      <td>2287.0</td>\n",
              "      <td>1196.0</td>\n",
              "      <td>2412.0</td>\n",
              "      <td>...</td>\n",
              "      <td>10.6</td>\n",
              "      <td>0.9</td>\n",
              "      <td>0.0</td>\n",
              "      <td>257.0</td>\n",
              "      <td>23.8</td>\n",
              "      <td>45.7</td>\n",
              "      <td>1024.5</td>\n",
              "      <td>0</td>\n",
              "      <td>NaN</td>\n",
              "      <td>Weihnachtsferien</td>\n",
              "    </tr>\n",
              "    <tr>\n",
              "      <th>2013-01-04</th>\n",
              "      <td>4</td>\n",
              "      <td>500.0</td>\n",
              "      <td>587.0</td>\n",
              "      <td>1284.0</td>\n",
              "      <td>703.0</td>\n",
              "      <td>626.0</td>\n",
              "      <td>1640.0</td>\n",
              "      <td>1548.0</td>\n",
              "      <td>1418.0</td>\n",
              "      <td>964.0</td>\n",
              "      <td>...</td>\n",
              "      <td>9.7</td>\n",
              "      <td>0.0</td>\n",
              "      <td>0.0</td>\n",
              "      <td>276.0</td>\n",
              "      <td>25.2</td>\n",
              "      <td>48.2</td>\n",
              "      <td>1029.5</td>\n",
              "      <td>0</td>\n",
              "      <td>NaN</td>\n",
              "      <td>Weihnachtsferien</td>\n",
              "    </tr>\n",
              "    <tr>\n",
              "      <th>2013-01-05</th>\n",
              "      <td>5</td>\n",
              "      <td>1013.0</td>\n",
              "      <td>1011.0</td>\n",
              "      <td>1284.0</td>\n",
              "      <td>1856.0</td>\n",
              "      <td>1621.0</td>\n",
              "      <td>4128.0</td>\n",
              "      <td>4256.0</td>\n",
              "      <td>3075.0</td>\n",
              "      <td>2065.0</td>\n",
              "      <td>...</td>\n",
              "      <td>8.6</td>\n",
              "      <td>0.1</td>\n",
              "      <td>0.0</td>\n",
              "      <td>293.0</td>\n",
              "      <td>20.2</td>\n",
              "      <td>41.0</td>\n",
              "      <td>1029.9</td>\n",
              "      <td>0</td>\n",
              "      <td>NaN</td>\n",
              "      <td>Weihnachtsferien</td>\n",
              "    </tr>\n",
              "  </tbody>\n",
              "</table>\n",
              "<p>5 rows × 26 columns</p>\n",
              "</div>\n",
              "      <button class=\"colab-df-convert\" onclick=\"convertToInteractive('df-00e77326-ccdb-47d8-85f0-eab5b9ce7245')\"\n",
              "              title=\"Convert this dataframe to an interactive table.\"\n",
              "              style=\"display:none;\">\n",
              "        \n",
              "  <svg xmlns=\"http://www.w3.org/2000/svg\" height=\"24px\"viewBox=\"0 0 24 24\"\n",
              "       width=\"24px\">\n",
              "    <path d=\"M0 0h24v24H0V0z\" fill=\"none\"/>\n",
              "    <path d=\"M18.56 5.44l.94 2.06.94-2.06 2.06-.94-2.06-.94-.94-2.06-.94 2.06-2.06.94zm-11 1L8.5 8.5l.94-2.06 2.06-.94-2.06-.94L8.5 2.5l-.94 2.06-2.06.94zm10 10l.94 2.06.94-2.06 2.06-.94-2.06-.94-.94-2.06-.94 2.06-2.06.94z\"/><path d=\"M17.41 7.96l-1.37-1.37c-.4-.4-.92-.59-1.43-.59-.52 0-1.04.2-1.43.59L10.3 9.45l-7.72 7.72c-.78.78-.78 2.05 0 2.83L4 21.41c.39.39.9.59 1.41.59.51 0 1.02-.2 1.41-.59l7.78-7.78 2.81-2.81c.8-.78.8-2.07 0-2.86zM5.41 20L4 18.59l7.72-7.72 1.47 1.35L5.41 20z\"/>\n",
              "  </svg>\n",
              "      </button>\n",
              "      \n",
              "  <style>\n",
              "    .colab-df-container {\n",
              "      display:flex;\n",
              "      flex-wrap:wrap;\n",
              "      gap: 12px;\n",
              "    }\n",
              "\n",
              "    .colab-df-convert {\n",
              "      background-color: #E8F0FE;\n",
              "      border: none;\n",
              "      border-radius: 50%;\n",
              "      cursor: pointer;\n",
              "      display: none;\n",
              "      fill: #1967D2;\n",
              "      height: 32px;\n",
              "      padding: 0 0 0 0;\n",
              "      width: 32px;\n",
              "    }\n",
              "\n",
              "    .colab-df-convert:hover {\n",
              "      background-color: #E2EBFA;\n",
              "      box-shadow: 0px 1px 2px rgba(60, 64, 67, 0.3), 0px 1px 3px 1px rgba(60, 64, 67, 0.15);\n",
              "      fill: #174EA6;\n",
              "    }\n",
              "\n",
              "    [theme=dark] .colab-df-convert {\n",
              "      background-color: #3B4455;\n",
              "      fill: #D2E3FC;\n",
              "    }\n",
              "\n",
              "    [theme=dark] .colab-df-convert:hover {\n",
              "      background-color: #434B5C;\n",
              "      box-shadow: 0px 1px 3px 1px rgba(0, 0, 0, 0.15);\n",
              "      filter: drop-shadow(0px 1px 2px rgba(0, 0, 0, 0.3));\n",
              "      fill: #FFFFFF;\n",
              "    }\n",
              "  </style>\n",
              "\n",
              "      <script>\n",
              "        const buttonEl =\n",
              "          document.querySelector('#df-00e77326-ccdb-47d8-85f0-eab5b9ce7245 button.colab-df-convert');\n",
              "        buttonEl.style.display =\n",
              "          google.colab.kernel.accessAllowed ? 'block' : 'none';\n",
              "\n",
              "        async function convertToInteractive(key) {\n",
              "          const element = document.querySelector('#df-00e77326-ccdb-47d8-85f0-eab5b9ce7245');\n",
              "          const dataTable =\n",
              "            await google.colab.kernel.invokeFunction('convertToInteractive',\n",
              "                                                     [key], {});\n",
              "          if (!dataTable) return;\n",
              "\n",
              "          const docLinkHtml = 'Like what you see? Visit the ' +\n",
              "            '<a target=\"_blank\" href=https://colab.research.google.com/notebooks/data_table.ipynb>data table notebook</a>'\n",
              "            + ' to learn more about interactive tables.';\n",
              "          element.innerHTML = '';\n",
              "          dataTable['output_type'] = 'display_data';\n",
              "          await google.colab.output.renderOutput(dataTable, element);\n",
              "          const docLink = document.createElement('div');\n",
              "          docLink.innerHTML = docLinkHtml;\n",
              "          element.appendChild(docLink);\n",
              "        }\n",
              "      </script>\n",
              "    </div>\n",
              "  </div>\n",
              "  "
            ]
          },
          "metadata": {},
          "execution_count": 3
        }
      ],
      "source": [
        "# Import dataset\n",
        "\n",
        "# We will also parse the date column as datetime64 and set it to the index column\n",
        "df = pd.read_csv(url + \"03_training_data/\" + \"2023-04-02_df_full.csv\", \n",
        "                         parse_dates=[0], index_col=[0])\n",
        "\n",
        "# Check the correct loading of dataset\n",
        "df.head()"
      ],
      "id": "2etHV6ODVsUV"
    },
    {
      "cell_type": "markdown",
      "source": [
        "<a name=\"3\"></a>\n",
        "# 3. Transform columns\n",
        "[Content](#content)"
      ],
      "metadata": {
        "id": "LIog4gAun3Gh"
      },
      "id": "LIog4gAun3Gh"
    },
    {
      "cell_type": "markdown",
      "source": [
        "We need to transform the columns `Holiday` and `Vacation` using `One-Hot-Encoding` to change the categorical columns to numerical columns. Then we need to drop the original columns."
      ],
      "metadata": {
        "id": "1KinSwc3oDMj"
      },
      "id": "1KinSwc3oDMj"
    },
    {
      "cell_type": "code",
      "execution_count": null,
      "metadata": {
        "id": "zZnhFuQN-QT2"
      },
      "outputs": [],
      "source": [
        "# Use One Hot Encoder\n",
        "OH_encoder = OneHotEncoder()\n",
        "transformed_array = OH_encoder.fit_transform(df.loc[:,\"Holiday\": \"Vacation\"]).toarray()\n",
        "df_holiday_vacation_transformed = pd.DataFrame(transformed_array, \n",
        "                              columns=OH_encoder.get_feature_names_out(), \n",
        "                              index = df.index)              \n",
        "# Drop the columns with Holiday_nan and Vacation_nan as those hold no additional value          \n",
        "df_holiday_vacation_transformed = df_holiday_vacation_transformed.drop([\"Holiday_nan\", \"Vacation_nan\"], axis=1)\n",
        "\n",
        "# Drop the old categorical columns Holiday and Vacation\n",
        "df_transformed = df.drop([\"Holiday\", \"Vacation\"], axis=1)\n",
        "\n",
        "# Add the new columns from OHE\n",
        "df_transformed = pd.concat([df_transformed, df_holiday_vacation_transformed], axis=1)"
      ],
      "id": "zZnhFuQN-QT2"
    },
    {
      "cell_type": "markdown",
      "source": [
        "We will add the year, month and day as seperate columns to give the algorithm the chance to pick up more granular and seasonal patterns."
      ],
      "metadata": {
        "id": "Ex0TAxa6xPK6"
      },
      "id": "Ex0TAxa6xPK6"
    },
    {
      "cell_type": "code",
      "execution_count": null,
      "metadata": {
        "id": "ZFMh5fPazIDm"
      },
      "outputs": [],
      "source": [
        "df_date = pd.DataFrame(data = {\n",
        "    \"Year\": df.index.year,\n",
        "    \"Month\": df.index.month,\n",
        "    \"Day\": df.index.day\n",
        "}, index=pd.to_datetime(df.index.values))\n",
        "    \n",
        "df_transformed_date = pd.concat([df_date, df_transformed], axis=1)\n",
        "\n",
        "# Check dataframe\n",
        "#df_transformed_date.head()"
      ],
      "id": "ZFMh5fPazIDm"
    },
    {
      "cell_type": "markdown",
      "source": [
        "Now, after all those transformations, we have out final dataset, to train our machine learning algorithms on."
      ],
      "metadata": {
        "id": "cYhxv0nmxmEp"
      },
      "id": "cYhxv0nmxmEp"
    },
    {
      "cell_type": "markdown",
      "metadata": {
        "id": "gBM3I6LFOHL9"
      },
      "source": [
        "<a name=\"4\"></a>\n",
        "# 4. Establish baseline benchmark\n",
        "[Content](#content)\n"
      ],
      "id": "gBM3I6LFOHL9"
    },
    {
      "cell_type": "markdown",
      "source": [
        "For our current task of creating model to predict the amount of cyclers for a given day, we do not have any baseline accuracy to predict the value that we could use, to measure our model against. \n",
        "For this reason, we will create a naive baseline model. For this, we will simply predict the amount of a day based on the value of previous day."
      ],
      "metadata": {
        "id": "VgkVXhdAx6zB"
      },
      "id": "VgkVXhdAx6zB"
    },
    {
      "cell_type": "code",
      "execution_count": null,
      "metadata": {
        "colab": {
          "base_uri": "https://localhost:8080/"
        },
        "id": "6mu5aaMpO42j",
        "outputId": "addbc482-a533-41ef-ad3f-0bf9ed0f36e9"
      },
      "outputs": [
        {
          "output_type": "stream",
          "name": "stdout",
          "text": [
            "RMSE: 9083.225418\n"
          ]
        }
      ],
      "source": [
        "# Evaluate the model's performance using RMSE\n",
        "\n",
        "# Select the `Total` column as our y_test and preds arrays\n",
        "y_test = preds = df.loc[:,\"Total\"]\n",
        "\n",
        "rmse = 0\n",
        "length = y_test.shape[0]\n",
        "\n",
        "# Loop from 0 to second last entry, as we can only use seconds last entry to\n",
        "# predict the last entry of series\n",
        "for i in range(length-1):\n",
        "    # The mean_sqared_error function expects an array as input, therfore we \n",
        "    # concatenate the range from current value to current value + 1 (excluding)\n",
        "    rmse += np.sqrt(mean_squared_error(y_test[i+1:i+2], preds[i:i+1]))\n",
        "\n",
        "# Divide rmse value by number of pairs\n",
        "rmse = rmse / (length-1)\n",
        "print(\"RMSE: %f\" % (rmse))"
      ],
      "id": "6mu5aaMpO42j"
    },
    {
      "cell_type": "markdown",
      "metadata": {
        "id": "f6O5OFAwW9Pm"
      },
      "source": [
        "If we were naivly predicting the current value with the last value, we get an error over the entire dataset of approximately $9,111$. \n",
        "\n",
        "This is our naive benchmark to compare our model against. "
      ],
      "id": "f6O5OFAwW9Pm"
    },
    {
      "cell_type": "markdown",
      "metadata": {
        "id": "5HqwjOgkxauH"
      },
      "source": [
        "<a name=\"5\"></a>\n",
        "# 5. Training machine learning algorithms\n",
        "[Content](#content)"
      ],
      "id": "5HqwjOgkxauH"
    },
    {
      "cell_type": "markdown",
      "source": [
        "<a name=\"5.2.\"></a>\n",
        "## 5.2. XGBoost\n",
        "[Content](#content)"
      ],
      "metadata": {
        "id": "mO2Xt87cykEf"
      },
      "id": "mO2Xt87cykEf"
    },
    {
      "cell_type": "markdown",
      "source": [
        "Specifically for XGBoost algorithm, we will add the data points of the previous time steps as features to feature vector. For RNNs, this will probably not be necessary, as RNNs have built-in memory units that allow them to store information from previous steps.\n",
        "\n",
        "In this case, we will only add the last 3 values, as the observed improvement of accuracy (RMSE score) is drastically decressing with each further time step added after 3 steps.\n",
        "\n",
        "Improvements:\n",
        "* 1 day 6291 2,8%\n",
        "* 2 day 6157 2,1%\n",
        "* 3 day 6120 0,6%"
      ],
      "metadata": {
        "id": "ZgSdeq3fOxaQ"
      },
      "id": "ZgSdeq3fOxaQ"
    },
    {
      "cell_type": "code",
      "source": [
        "# Create empty new dataframe\n",
        "df_lagged_days = pd.DataFrame({})\n",
        "\n",
        "# Select the number of lagged days\n",
        "go_back_x_days = 3\n",
        "\n",
        "for i in range(go_back_x_days):\n",
        "    # Shift the values in \"Total\" by i and assign to new column prev_Total_i+1\n",
        "    df_lagged_days[f'prev_Total_{i+1}'] = df_transformed_date['Total'].shift(i+1)\n",
        "\n",
        "# Concat new dataframe with old dataframe\n",
        "df_transformed_date_lagged = pd.concat([df_transformed_date, df_lagged_days], axis=1)\n",
        "\n",
        "# Check output\n",
        "#df_transformed_date_lagged.loc[:,[\"prev_Total_1\", \"prev_Total_2\", \"prev_Total_3\",\"Total\"]]"
      ],
      "metadata": {
        "id": "MwRs_MUJdcTj"
      },
      "id": "MwRs_MUJdcTj",
      "execution_count": null,
      "outputs": []
    },
    {
      "cell_type": "code",
      "source": [
        "# Load the data into a pandas dataframe\n",
        "data = df_transformed_date_lagged\n",
        "\n",
        "# Define the features and target\n",
        "# Higly correlated features have been removed (tavg, tmax, wpgt)\n",
        "features = ['Year', 'Month', 'Day', 'Weekday',\n",
        "       'tmax', 'prcp', 'snow', 'wspd', 'pres', 'tsun',\n",
        "       'Holiday_1. Weihnachtsfeiertag', 'Holiday_2. Weihnachtsfeiertag',\n",
        "       'Holiday_Christi Himmelfahrt', 'Holiday_Karfreitag', 'Holiday_Neujahr',\n",
        "       'Holiday_Ostermontag', 'Holiday_Pfingstmontag',\n",
        "       'Holiday_Reformationstag', 'Holiday_Tag der Arbeit',\n",
        "       'Holiday_Tag der Deutschen Einheit', 'Vacation_Herbstferien',\n",
        "       'Vacation_Osterferien', 'Vacation_Pfingstferien',\n",
        "       'Vacation_Sommerferien', 'Vacation_Weihnachtsferien',\n",
        "       'Vacation_Winterferien', \"prev_Total_1\", \"prev_Total_2\", \"prev_Total_3\"]\n",
        "\n",
        "target = 'Total'\n",
        "\n",
        "# Split the data into training and test sets\n",
        "X_train, X_test, y_train, y_test = train_test_split(data[features], data[target], \n",
        "                                                    test_size=0.2, shuffle=True, random_state=0)"
      ],
      "metadata": {
        "id": "nxeQ39ojh2Y-"
      },
      "id": "nxeQ39ojh2Y-",
      "execution_count": null,
      "outputs": []
    },
    {
      "cell_type": "markdown",
      "source": [
        "Using `GridSearchCV` to select optimal parameters."
      ],
      "metadata": {
        "id": "amR72D-bg9Ea"
      },
      "id": "amR72D-bg9Ea"
    },
    {
      "cell_type": "code",
      "execution_count": null,
      "metadata": {
        "id": "AaSMrh3bLqsm"
      },
      "outputs": [],
      "source": [
        "params = {\n",
        "    'learning_rate': [0.01, 0.05, 0.1],\n",
        "    'max_depth': [3, 5, 7],\n",
        "    'n_estimators': [700, 1000, 1200],\n",
        "    'subsample': [0.5, 0.8, 1.0],\n",
        "    'colsample_bytree': [0.5, 0.8, 1.0],\n",
        "    'reg_alpha': [0.1, 0.5, 1.0],\n",
        "    'reg_lambda': [0.1, 0.5, 1.0],\n",
        "    'min_child_weight': [1, 5, 10]\n",
        "}\n",
        "\n",
        "xg_reg = xgb.XGBRegressor(objective='reg:squarederror')\n",
        "\n",
        "grid_search = GridSearchCV(xg_reg, param_grid=params, cv=5, n_jobs=-1, verbose=2)\n",
        "\n",
        "grid_search.fit(X_train, y_train)\n",
        "\n",
        "print(grid_search.best_params_)"
      ],
      "id": "AaSMrh3bLqsm"
    },
    {
      "cell_type": "code",
      "execution_count": null,
      "metadata": {
        "id": "RwfBOBjpXNfw"
      },
      "outputs": [],
      "source": [
        "# Build the XGBoost regressor model with selected hyper parameters\n",
        "xg_reg = xgb.XGBRegressor(objective ='reg:squarederror', colsample_bytree = 1.0, learning_rate = 0.01, \n",
        "                          max_depth = 12, n_estimators = 1000, reg_alpha = 0.1, reg_lambda = 1.0, \n",
        "                          subsample = 0.8, min_child_weight=5)\n",
        "\n",
        "xg_reg.fit(X_train, y_train)\n",
        "\n",
        "# Predict on the test set\n",
        "preds = xg_reg.predict(X_test)\n",
        "\n",
        "# Evaluate the model's performance using RMSE\n",
        "rmse = np.sqrt(mean_squared_error(y_test, preds))\n",
        "print(\"RMSE: %f\" % (rmse))"
      ],
      "id": "RwfBOBjpXNfw"
    },
    {
      "cell_type": "markdown",
      "metadata": {
        "id": "RKSA0rEBGRNB"
      },
      "source": [
        "* 02.04.23: 6468\n",
        "* 10.04.23: 6120"
      ],
      "id": "RKSA0rEBGRNB"
    },
    {
      "cell_type": "markdown",
      "source": [
        "As an alternative, instead of `train_test_split`, we try `TimeSeriesSplit` and compare the performance."
      ],
      "metadata": {
        "id": "Y9ZfwhxDkTUL"
      },
      "id": "Y9ZfwhxDkTUL"
    },
    {
      "cell_type": "code",
      "source": [
        "# Split the data into training and test sets\n",
        "tscv = TimeSeriesSplit(n_splits=5)\n",
        "for train_index, test_index in tscv.split(data):\n",
        "    X_train, X_test = data.iloc[train_index][features], data.iloc[test_index][features]\n",
        "    y_train, y_test = data.iloc[train_index][target], data.iloc[test_index][target]\n",
        "\n",
        "    xg_reg = xgb.XGBRegressor(objective='reg:squarederror', colsample_bytree=1.0, learning_rate=0.01,\n",
        "                              max_depth=12, n_estimators=1000, reg_alpha=0.1, reg_lambda=1.0,\n",
        "                              subsample=0.8, min_child_weight=5)\n",
        "\n",
        "    xg_reg.fit(X_train, y_train)\n",
        "\n",
        "    # Predict on the test set\n",
        "    preds = xg_reg.predict(X_test)\n",
        "\n",
        "    # Evaluate the model's performance using RMSE\n",
        "    rmse = np.sqrt(mean_squared_error(y_test, preds))\n",
        "    print(\"RMSE: %f\" % (rmse))\n"
      ],
      "metadata": {
        "id": "qvsBo8m7cZXf"
      },
      "id": "qvsBo8m7cZXf",
      "execution_count": null,
      "outputs": []
    },
    {
      "cell_type": "markdown",
      "source": [
        "`train_test_split` has a better performance on the accuracy of the model than `TimeSeriesSplit`."
      ],
      "metadata": {
        "id": "A0-dFnLfnHkG"
      },
      "id": "A0-dFnLfnHkG"
    },
    {
      "cell_type": "markdown",
      "source": [
        "Plot random different data points to analyze big differences between prediction and actual value in more detail."
      ],
      "metadata": {
        "id": "2BZuW_UOgc1Q"
      },
      "id": "2BZuW_UOgc1Q"
    },
    {
      "cell_type": "code",
      "source": [
        "# Select 100 random datapoints from y_test\n",
        "random_indices = random.sample(range(len(y_test)), 100)\n",
        "y_test_sample = y_test[random_indices]\n",
        "preds_sample = preds[random_indices]\n",
        "\n",
        "# Create plot using plotly express\n",
        "fig = px.scatter()\n",
        "fig.add_scatter(x=y_test_sample.index, y=y_test_sample, mode='markers', name='y_test', marker=dict(color='blue'))\n",
        "fig.add_scatter(x=y_test_sample.index, y=preds_sample, mode='markers', name='preds', marker=dict(color='red'))\n",
        "fig.update_layout(title='y_test vs. preds, random values', xaxis_title='Date', yaxis_title='Values')\n",
        "fig.show()"
      ],
      "metadata": {
        "id": "pXPOd1x_ufBG",
        "outputId": "0ec24e4c-0b46-4442-a2fd-defcc68e6e6b",
        "colab": {
          "base_uri": "https://localhost:8080/",
          "height": 542
        }
      },
      "id": "pXPOd1x_ufBG",
      "execution_count": null,
      "outputs": [
        {
          "output_type": "display_data",
          "data": {
            "text/html": [
              "<html>\n",
              "<head><meta charset=\"utf-8\" /></head>\n",
              "<body>\n",
              "    <div>            <script src=\"https://cdnjs.cloudflare.com/ajax/libs/mathjax/2.7.5/MathJax.js?config=TeX-AMS-MML_SVG\"></script><script type=\"text/javascript\">if (window.MathJax && window.MathJax.Hub && window.MathJax.Hub.Config) {window.MathJax.Hub.Config({SVG: {font: \"STIX-Web\"}});}</script>                <script type=\"text/javascript\">window.PlotlyConfig = {MathJaxConfig: 'local'};</script>\n",
              "        <script src=\"https://cdn.plot.ly/plotly-2.18.2.min.js\"></script>                <div id=\"72946cab-2750-4189-9586-af116db80ed0\" class=\"plotly-graph-div\" style=\"height:525px; width:100%;\"></div>            <script type=\"text/javascript\">                                    window.PLOTLYENV=window.PLOTLYENV || {};                                    if (document.getElementById(\"72946cab-2750-4189-9586-af116db80ed0\")) {                    Plotly.newPlot(                        \"72946cab-2750-4189-9586-af116db80ed0\",                        [{\"hovertemplate\":\"<extra></extra>\",\"legendgroup\":\"\",\"marker\":{\"color\":\"#636efa\",\"symbol\":\"circle\"},\"mode\":\"markers\",\"name\":\"\",\"orientation\":\"v\",\"showlegend\":false,\"xaxis\":\"x\",\"yaxis\":\"y\",\"type\":\"scatter\"},{\"marker\":{\"color\":\"blue\"},\"mode\":\"markers\",\"name\":\"y_test\",\"x\":[\"2013-01-05T00:00:00\",\"2015-06-02T00:00:00\",\"2018-11-22T00:00:00\",\"2013-06-06T00:00:00\",\"2021-09-28T00:00:00\",\"2018-04-16T00:00:00\",\"2021-06-29T00:00:00\",\"2017-11-29T00:00:00\",\"2022-10-15T00:00:00\",\"2014-12-14T00:00:00\",\"2018-05-17T00:00:00\",\"2015-08-30T00:00:00\",\"2021-01-10T00:00:00\",\"2020-08-09T00:00:00\",\"2016-02-15T00:00:00\",\"2013-12-13T00:00:00\",\"2017-02-05T00:00:00\",\"2016-12-03T00:00:00\",\"2022-06-03T00:00:00\",\"2016-11-24T00:00:00\",\"2022-04-10T00:00:00\",\"2020-04-24T00:00:00\",\"2020-11-17T00:00:00\",\"2019-04-07T00:00:00\",\"2014-07-03T00:00:00\",\"2019-08-27T00:00:00\",\"2021-10-03T00:00:00\",\"2015-04-06T00:00:00\",\"2014-02-07T00:00:00\",\"2019-04-14T00:00:00\",\"2021-05-18T00:00:00\",\"2022-01-27T00:00:00\",\"2016-03-20T00:00:00\",\"2017-05-03T00:00:00\",\"2015-11-04T00:00:00\",\"2022-11-28T00:00:00\",\"2017-10-31T00:00:00\",\"2022-01-16T00:00:00\",\"2018-02-11T00:00:00\",\"2013-02-09T00:00:00\",\"2019-06-01T00:00:00\",\"2019-05-06T00:00:00\",\"2019-06-07T00:00:00\",\"2016-08-29T00:00:00\",\"2016-02-14T00:00:00\",\"2020-05-01T00:00:00\",\"2017-03-11T00:00:00\",\"2021-12-05T00:00:00\",\"2022-07-21T00:00:00\",\"2017-12-17T00:00:00\",\"2017-04-09T00:00:00\",\"2015-08-10T00:00:00\",\"2016-10-09T00:00:00\",\"2022-12-06T00:00:00\",\"2016-01-26T00:00:00\",\"2014-12-21T00:00:00\",\"2013-02-27T00:00:00\",\"2018-10-26T00:00:00\",\"2017-04-04T00:00:00\",\"2017-10-29T00:00:00\",\"2017-07-29T00:00:00\",\"2014-06-02T00:00:00\",\"2017-05-06T00:00:00\",\"2019-10-22T00:00:00\",\"2015-07-08T00:00:00\",\"2013-04-15T00:00:00\",\"2016-09-30T00:00:00\",\"2017-10-16T00:00:00\",\"2022-02-04T00:00:00\",\"2022-08-17T00:00:00\",\"2021-01-29T00:00:00\",\"2021-11-21T00:00:00\",\"2018-03-11T00:00:00\",\"2014-07-17T00:00:00\",\"2020-12-05T00:00:00\",\"2014-03-04T00:00:00\",\"2015-04-07T00:00:00\",\"2013-08-23T00:00:00\",\"2016-08-10T00:00:00\",\"2017-05-23T00:00:00\",\"2020-06-22T00:00:00\",\"2017-05-12T00:00:00\",\"2014-04-11T00:00:00\",\"2015-03-05T00:00:00\",\"2014-03-20T00:00:00\",\"2014-07-01T00:00:00\",\"2018-08-21T00:00:00\",\"2015-10-30T00:00:00\",\"2013-11-08T00:00:00\",\"2015-11-19T00:00:00\",\"2022-03-06T00:00:00\",\"2019-12-25T00:00:00\",\"2019-10-07T00:00:00\",\"2016-02-23T00:00:00\",\"2013-10-17T00:00:00\",\"2015-06-25T00:00:00\",\"2022-05-08T00:00:00\",\"2013-09-11T00:00:00\",\"2020-08-08T00:00:00\",\"2015-06-20T00:00:00\"],\"y\":[30643.0,26553.0,33426.0,50191.0,46770.0,43364.0,33378.0,33537.0,26313.0,15074.0,45200.0,25169.0,45148.0,47796.0,23435.0,30203.0,35463.0,22081.0,21103.0,37972.0,43057.0,38306.0,34197.0,53584.0,36592.0,55075.0,29903.0,51798.0,46398.0,17280.0,36491.0,28465.0,16106.0,17235.0,23190.0,27446.0,15780.0,12165.0,40225.0,32885.0,11880.0,50738.0,25250.0,40038.0,6729.0,13332.0,38856.0,36675.0,27391.0,12359.0,48946.0,40092.0,41406.0,33205.0,32915.0,11003.0,26363.0,34764.0,53618.0,15248.0,20074.0,29996.0,31355.0,45471.0,27901.0,36195.0,39593.0,50244.0,19915.0,39278.0,15473.0,18462.0,26957.0,55546.0,31045.0,46002.0,44020.0,48086.0,21765.0,47145.0,53078.0,34708.0,32329.0,19083.0,46482.0,32943.0,52242.0,34043.0,27447.0,30816.0,46220.0,7443.0,40401.0,29748.0,28164.0,46478.0,26516.0,17215.0,37929.0,24926.0],\"type\":\"scatter\"},{\"marker\":{\"color\":\"red\"},\"mode\":\"markers\",\"name\":\"preds\",\"x\":[\"2013-01-05T00:00:00\",\"2015-06-02T00:00:00\",\"2018-11-22T00:00:00\",\"2013-06-06T00:00:00\",\"2021-09-28T00:00:00\",\"2018-04-16T00:00:00\",\"2021-06-29T00:00:00\",\"2017-11-29T00:00:00\",\"2022-10-15T00:00:00\",\"2014-12-14T00:00:00\",\"2018-05-17T00:00:00\",\"2015-08-30T00:00:00\",\"2021-01-10T00:00:00\",\"2020-08-09T00:00:00\",\"2016-02-15T00:00:00\",\"2013-12-13T00:00:00\",\"2017-02-05T00:00:00\",\"2016-12-03T00:00:00\",\"2022-06-03T00:00:00\",\"2016-11-24T00:00:00\",\"2022-04-10T00:00:00\",\"2020-04-24T00:00:00\",\"2020-11-17T00:00:00\",\"2019-04-07T00:00:00\",\"2014-07-03T00:00:00\",\"2019-08-27T00:00:00\",\"2021-10-03T00:00:00\",\"2015-04-06T00:00:00\",\"2014-02-07T00:00:00\",\"2019-04-14T00:00:00\",\"2021-05-18T00:00:00\",\"2022-01-27T00:00:00\",\"2016-03-20T00:00:00\",\"2017-05-03T00:00:00\",\"2015-11-04T00:00:00\",\"2022-11-28T00:00:00\",\"2017-10-31T00:00:00\",\"2022-01-16T00:00:00\",\"2018-02-11T00:00:00\",\"2013-02-09T00:00:00\",\"2019-06-01T00:00:00\",\"2019-05-06T00:00:00\",\"2019-06-07T00:00:00\",\"2016-08-29T00:00:00\",\"2016-02-14T00:00:00\",\"2020-05-01T00:00:00\",\"2017-03-11T00:00:00\",\"2021-12-05T00:00:00\",\"2022-07-21T00:00:00\",\"2017-12-17T00:00:00\",\"2017-04-09T00:00:00\",\"2015-08-10T00:00:00\",\"2016-10-09T00:00:00\",\"2022-12-06T00:00:00\",\"2016-01-26T00:00:00\",\"2014-12-21T00:00:00\",\"2013-02-27T00:00:00\",\"2018-10-26T00:00:00\",\"2017-04-04T00:00:00\",\"2017-10-29T00:00:00\",\"2017-07-29T00:00:00\",\"2014-06-02T00:00:00\",\"2017-05-06T00:00:00\",\"2019-10-22T00:00:00\",\"2015-07-08T00:00:00\",\"2013-04-15T00:00:00\",\"2016-09-30T00:00:00\",\"2017-10-16T00:00:00\",\"2022-02-04T00:00:00\",\"2022-08-17T00:00:00\",\"2021-01-29T00:00:00\",\"2021-11-21T00:00:00\",\"2018-03-11T00:00:00\",\"2014-07-17T00:00:00\",\"2020-12-05T00:00:00\",\"2014-03-04T00:00:00\",\"2015-04-07T00:00:00\",\"2013-08-23T00:00:00\",\"2016-08-10T00:00:00\",\"2017-05-23T00:00:00\",\"2020-06-22T00:00:00\",\"2017-05-12T00:00:00\",\"2014-04-11T00:00:00\",\"2015-03-05T00:00:00\",\"2014-03-20T00:00:00\",\"2014-07-01T00:00:00\",\"2018-08-21T00:00:00\",\"2015-10-30T00:00:00\",\"2013-11-08T00:00:00\",\"2015-11-19T00:00:00\",\"2022-03-06T00:00:00\",\"2019-12-25T00:00:00\",\"2019-10-07T00:00:00\",\"2016-02-23T00:00:00\",\"2013-10-17T00:00:00\",\"2015-06-25T00:00:00\",\"2022-05-08T00:00:00\",\"2013-09-11T00:00:00\",\"2020-08-08T00:00:00\",\"2015-06-20T00:00:00\"],\"y\":[29531.0,30443.0,28509.0,30013.0,29507.0,46826.0,44027.0,46368.0,7750.0,41606.0,53533.0,25863.0,38786.0,28164.0,21577.0,37801.0,34848.0,39739.0,14591.0,30338.0,40132.0,30761.0,37368.0,30954.0,22359.0,28032.0,33224.0,17959.0,28505.0,47177.0,12411.0,14712.0,50977.0,19973.0,31003.0,46398.0,44800.0,8660.0,5832.0,48810.0,22765.0,39728.0,10898.0,31042.0,33981.0,42660.0,30044.0,30061.0,36195.0,44389.0,5188.0,38534.0,38204.0,32972.0,32717.0,37629.0,24112.0,38673.0,36592.0,20094.0,36711.0,45966.0,24222.0,27914.0,25641.0,28551.0,24851.0,14844.0,43663.0,11935.0,42673.0,21206.0,5795.0,42954.0,34174.0,11003.0,46399.0,28881.0,35357.0,31785.0,28676.0,27149.0,42575.0,27195.0,20926.0,56823.0,19700.0,30670.0,39399.0,26168.0,32624.0,19004.0,17313.0,34151.0,37849.0,30972.0,37703.0,47208.0,34033.0,20438.0],\"type\":\"scatter\"}],                        {\"template\":{\"data\":{\"histogram2dcontour\":[{\"type\":\"histogram2dcontour\",\"colorbar\":{\"outlinewidth\":0,\"ticks\":\"\"},\"colorscale\":[[0.0,\"#0d0887\"],[0.1111111111111111,\"#46039f\"],[0.2222222222222222,\"#7201a8\"],[0.3333333333333333,\"#9c179e\"],[0.4444444444444444,\"#bd3786\"],[0.5555555555555556,\"#d8576b\"],[0.6666666666666666,\"#ed7953\"],[0.7777777777777778,\"#fb9f3a\"],[0.8888888888888888,\"#fdca26\"],[1.0,\"#f0f921\"]]}],\"choropleth\":[{\"type\":\"choropleth\",\"colorbar\":{\"outlinewidth\":0,\"ticks\":\"\"}}],\"histogram2d\":[{\"type\":\"histogram2d\",\"colorbar\":{\"outlinewidth\":0,\"ticks\":\"\"},\"colorscale\":[[0.0,\"#0d0887\"],[0.1111111111111111,\"#46039f\"],[0.2222222222222222,\"#7201a8\"],[0.3333333333333333,\"#9c179e\"],[0.4444444444444444,\"#bd3786\"],[0.5555555555555556,\"#d8576b\"],[0.6666666666666666,\"#ed7953\"],[0.7777777777777778,\"#fb9f3a\"],[0.8888888888888888,\"#fdca26\"],[1.0,\"#f0f921\"]]}],\"heatmap\":[{\"type\":\"heatmap\",\"colorbar\":{\"outlinewidth\":0,\"ticks\":\"\"},\"colorscale\":[[0.0,\"#0d0887\"],[0.1111111111111111,\"#46039f\"],[0.2222222222222222,\"#7201a8\"],[0.3333333333333333,\"#9c179e\"],[0.4444444444444444,\"#bd3786\"],[0.5555555555555556,\"#d8576b\"],[0.6666666666666666,\"#ed7953\"],[0.7777777777777778,\"#fb9f3a\"],[0.8888888888888888,\"#fdca26\"],[1.0,\"#f0f921\"]]}],\"heatmapgl\":[{\"type\":\"heatmapgl\",\"colorbar\":{\"outlinewidth\":0,\"ticks\":\"\"},\"colorscale\":[[0.0,\"#0d0887\"],[0.1111111111111111,\"#46039f\"],[0.2222222222222222,\"#7201a8\"],[0.3333333333333333,\"#9c179e\"],[0.4444444444444444,\"#bd3786\"],[0.5555555555555556,\"#d8576b\"],[0.6666666666666666,\"#ed7953\"],[0.7777777777777778,\"#fb9f3a\"],[0.8888888888888888,\"#fdca26\"],[1.0,\"#f0f921\"]]}],\"contourcarpet\":[{\"type\":\"contourcarpet\",\"colorbar\":{\"outlinewidth\":0,\"ticks\":\"\"}}],\"contour\":[{\"type\":\"contour\",\"colorbar\":{\"outlinewidth\":0,\"ticks\":\"\"},\"colorscale\":[[0.0,\"#0d0887\"],[0.1111111111111111,\"#46039f\"],[0.2222222222222222,\"#7201a8\"],[0.3333333333333333,\"#9c179e\"],[0.4444444444444444,\"#bd3786\"],[0.5555555555555556,\"#d8576b\"],[0.6666666666666666,\"#ed7953\"],[0.7777777777777778,\"#fb9f3a\"],[0.8888888888888888,\"#fdca26\"],[1.0,\"#f0f921\"]]}],\"surface\":[{\"type\":\"surface\",\"colorbar\":{\"outlinewidth\":0,\"ticks\":\"\"},\"colorscale\":[[0.0,\"#0d0887\"],[0.1111111111111111,\"#46039f\"],[0.2222222222222222,\"#7201a8\"],[0.3333333333333333,\"#9c179e\"],[0.4444444444444444,\"#bd3786\"],[0.5555555555555556,\"#d8576b\"],[0.6666666666666666,\"#ed7953\"],[0.7777777777777778,\"#fb9f3a\"],[0.8888888888888888,\"#fdca26\"],[1.0,\"#f0f921\"]]}],\"mesh3d\":[{\"type\":\"mesh3d\",\"colorbar\":{\"outlinewidth\":0,\"ticks\":\"\"}}],\"scatter\":[{\"fillpattern\":{\"fillmode\":\"overlay\",\"size\":10,\"solidity\":0.2},\"type\":\"scatter\"}],\"parcoords\":[{\"type\":\"parcoords\",\"line\":{\"colorbar\":{\"outlinewidth\":0,\"ticks\":\"\"}}}],\"scatterpolargl\":[{\"type\":\"scatterpolargl\",\"marker\":{\"colorbar\":{\"outlinewidth\":0,\"ticks\":\"\"}}}],\"bar\":[{\"error_x\":{\"color\":\"#2a3f5f\"},\"error_y\":{\"color\":\"#2a3f5f\"},\"marker\":{\"line\":{\"color\":\"#E5ECF6\",\"width\":0.5},\"pattern\":{\"fillmode\":\"overlay\",\"size\":10,\"solidity\":0.2}},\"type\":\"bar\"}],\"scattergeo\":[{\"type\":\"scattergeo\",\"marker\":{\"colorbar\":{\"outlinewidth\":0,\"ticks\":\"\"}}}],\"scatterpolar\":[{\"type\":\"scatterpolar\",\"marker\":{\"colorbar\":{\"outlinewidth\":0,\"ticks\":\"\"}}}],\"histogram\":[{\"marker\":{\"pattern\":{\"fillmode\":\"overlay\",\"size\":10,\"solidity\":0.2}},\"type\":\"histogram\"}],\"scattergl\":[{\"type\":\"scattergl\",\"marker\":{\"colorbar\":{\"outlinewidth\":0,\"ticks\":\"\"}}}],\"scatter3d\":[{\"type\":\"scatter3d\",\"line\":{\"colorbar\":{\"outlinewidth\":0,\"ticks\":\"\"}},\"marker\":{\"colorbar\":{\"outlinewidth\":0,\"ticks\":\"\"}}}],\"scattermapbox\":[{\"type\":\"scattermapbox\",\"marker\":{\"colorbar\":{\"outlinewidth\":0,\"ticks\":\"\"}}}],\"scatterternary\":[{\"type\":\"scatterternary\",\"marker\":{\"colorbar\":{\"outlinewidth\":0,\"ticks\":\"\"}}}],\"scattercarpet\":[{\"type\":\"scattercarpet\",\"marker\":{\"colorbar\":{\"outlinewidth\":0,\"ticks\":\"\"}}}],\"carpet\":[{\"aaxis\":{\"endlinecolor\":\"#2a3f5f\",\"gridcolor\":\"white\",\"linecolor\":\"white\",\"minorgridcolor\":\"white\",\"startlinecolor\":\"#2a3f5f\"},\"baxis\":{\"endlinecolor\":\"#2a3f5f\",\"gridcolor\":\"white\",\"linecolor\":\"white\",\"minorgridcolor\":\"white\",\"startlinecolor\":\"#2a3f5f\"},\"type\":\"carpet\"}],\"table\":[{\"cells\":{\"fill\":{\"color\":\"#EBF0F8\"},\"line\":{\"color\":\"white\"}},\"header\":{\"fill\":{\"color\":\"#C8D4E3\"},\"line\":{\"color\":\"white\"}},\"type\":\"table\"}],\"barpolar\":[{\"marker\":{\"line\":{\"color\":\"#E5ECF6\",\"width\":0.5},\"pattern\":{\"fillmode\":\"overlay\",\"size\":10,\"solidity\":0.2}},\"type\":\"barpolar\"}],\"pie\":[{\"automargin\":true,\"type\":\"pie\"}]},\"layout\":{\"autotypenumbers\":\"strict\",\"colorway\":[\"#636efa\",\"#EF553B\",\"#00cc96\",\"#ab63fa\",\"#FFA15A\",\"#19d3f3\",\"#FF6692\",\"#B6E880\",\"#FF97FF\",\"#FECB52\"],\"font\":{\"color\":\"#2a3f5f\"},\"hovermode\":\"closest\",\"hoverlabel\":{\"align\":\"left\"},\"paper_bgcolor\":\"white\",\"plot_bgcolor\":\"#E5ECF6\",\"polar\":{\"bgcolor\":\"#E5ECF6\",\"angularaxis\":{\"gridcolor\":\"white\",\"linecolor\":\"white\",\"ticks\":\"\"},\"radialaxis\":{\"gridcolor\":\"white\",\"linecolor\":\"white\",\"ticks\":\"\"}},\"ternary\":{\"bgcolor\":\"#E5ECF6\",\"aaxis\":{\"gridcolor\":\"white\",\"linecolor\":\"white\",\"ticks\":\"\"},\"baxis\":{\"gridcolor\":\"white\",\"linecolor\":\"white\",\"ticks\":\"\"},\"caxis\":{\"gridcolor\":\"white\",\"linecolor\":\"white\",\"ticks\":\"\"}},\"coloraxis\":{\"colorbar\":{\"outlinewidth\":0,\"ticks\":\"\"}},\"colorscale\":{\"sequential\":[[0.0,\"#0d0887\"],[0.1111111111111111,\"#46039f\"],[0.2222222222222222,\"#7201a8\"],[0.3333333333333333,\"#9c179e\"],[0.4444444444444444,\"#bd3786\"],[0.5555555555555556,\"#d8576b\"],[0.6666666666666666,\"#ed7953\"],[0.7777777777777778,\"#fb9f3a\"],[0.8888888888888888,\"#fdca26\"],[1.0,\"#f0f921\"]],\"sequentialminus\":[[0.0,\"#0d0887\"],[0.1111111111111111,\"#46039f\"],[0.2222222222222222,\"#7201a8\"],[0.3333333333333333,\"#9c179e\"],[0.4444444444444444,\"#bd3786\"],[0.5555555555555556,\"#d8576b\"],[0.6666666666666666,\"#ed7953\"],[0.7777777777777778,\"#fb9f3a\"],[0.8888888888888888,\"#fdca26\"],[1.0,\"#f0f921\"]],\"diverging\":[[0,\"#8e0152\"],[0.1,\"#c51b7d\"],[0.2,\"#de77ae\"],[0.3,\"#f1b6da\"],[0.4,\"#fde0ef\"],[0.5,\"#f7f7f7\"],[0.6,\"#e6f5d0\"],[0.7,\"#b8e186\"],[0.8,\"#7fbc41\"],[0.9,\"#4d9221\"],[1,\"#276419\"]]},\"xaxis\":{\"gridcolor\":\"white\",\"linecolor\":\"white\",\"ticks\":\"\",\"title\":{\"standoff\":15},\"zerolinecolor\":\"white\",\"automargin\":true,\"zerolinewidth\":2},\"yaxis\":{\"gridcolor\":\"white\",\"linecolor\":\"white\",\"ticks\":\"\",\"title\":{\"standoff\":15},\"zerolinecolor\":\"white\",\"automargin\":true,\"zerolinewidth\":2},\"scene\":{\"xaxis\":{\"backgroundcolor\":\"#E5ECF6\",\"gridcolor\":\"white\",\"linecolor\":\"white\",\"showbackground\":true,\"ticks\":\"\",\"zerolinecolor\":\"white\",\"gridwidth\":2},\"yaxis\":{\"backgroundcolor\":\"#E5ECF6\",\"gridcolor\":\"white\",\"linecolor\":\"white\",\"showbackground\":true,\"ticks\":\"\",\"zerolinecolor\":\"white\",\"gridwidth\":2},\"zaxis\":{\"backgroundcolor\":\"#E5ECF6\",\"gridcolor\":\"white\",\"linecolor\":\"white\",\"showbackground\":true,\"ticks\":\"\",\"zerolinecolor\":\"white\",\"gridwidth\":2}},\"shapedefaults\":{\"line\":{\"color\":\"#2a3f5f\"}},\"annotationdefaults\":{\"arrowcolor\":\"#2a3f5f\",\"arrowhead\":0,\"arrowwidth\":1},\"geo\":{\"bgcolor\":\"white\",\"landcolor\":\"#E5ECF6\",\"subunitcolor\":\"white\",\"showland\":true,\"showlakes\":true,\"lakecolor\":\"white\"},\"title\":{\"x\":0.05},\"mapbox\":{\"style\":\"light\"}}},\"xaxis\":{\"anchor\":\"y\",\"domain\":[0.0,1.0],\"title\":{\"text\":\"Date\"}},\"yaxis\":{\"anchor\":\"x\",\"domain\":[0.0,1.0],\"title\":{\"text\":\"Values\"}},\"legend\":{\"tracegroupgap\":0},\"margin\":{\"t\":60},\"title\":{\"text\":\"y_test vs. preds, random values\"}},                        {\"responsive\": true}                    ).then(function(){\n",
              "                            \n",
              "var gd = document.getElementById('72946cab-2750-4189-9586-af116db80ed0');\n",
              "var x = new MutationObserver(function (mutations, observer) {{\n",
              "        var display = window.getComputedStyle(gd).display;\n",
              "        if (!display || display === 'none') {{\n",
              "            console.log([gd, 'removed!']);\n",
              "            Plotly.purge(gd);\n",
              "            observer.disconnect();\n",
              "        }}\n",
              "}});\n",
              "\n",
              "// Listen for the removal of the full notebook cells\n",
              "var notebookContainer = gd.closest('#notebook-container');\n",
              "if (notebookContainer) {{\n",
              "    x.observe(notebookContainer, {childList: true});\n",
              "}}\n",
              "\n",
              "// Listen for the clearing of the current output cell\n",
              "var outputEl = gd.closest('.output');\n",
              "if (outputEl) {{\n",
              "    x.observe(outputEl, {childList: true});\n",
              "}}\n",
              "\n",
              "                        })                };                            </script>        </div>\n",
              "</body>\n",
              "</html>"
            ]
          },
          "metadata": {}
        }
      ]
    },
    {
      "cell_type": "markdown",
      "source": [
        "<a name=\"5.3.\"></a>\n",
        "## 5.3. Multilayer Perceptron\n",
        "[Content](#content)"
      ],
      "metadata": {
        "id": "fOFZ5oXgTT7V"
      },
      "id": "fOFZ5oXgTT7V"
    },
    {
      "cell_type": "markdown",
      "source": [
        "<a name=\"5.4.\"></a>\n",
        "## 5.4. Recurrent Neural Network\n",
        "[Content](#content)"
      ],
      "metadata": {
        "id": "35YvxR1B1tcY"
      },
      "id": "35YvxR1B1tcY"
    },
    {
      "cell_type": "code",
      "source": [
        "print(df_transformed_date_lagged.isna().sum())\n",
        "#print(X_train.shape[0], X_train.shape[1])\n",
        "#print(type(X_train))"
      ],
      "metadata": {
        "id": "lroAAmcsll9_",
        "outputId": "deb0b430-5a0d-49fc-9801-2411151e14d4",
        "colab": {
          "base_uri": "https://localhost:8080/"
        }
      },
      "id": "lroAAmcsll9_",
      "execution_count": null,
      "outputs": [
        {
          "output_type": "stream",
          "name": "stdout",
          "text": [
            "Year                                 0\n",
            "Month                                0\n",
            "Day                                  0\n",
            "Weekday                              0\n",
            "GrafMoltkeStrEast                    0\n",
            "GrafMoltkeStrWest                    0\n",
            "HastedterBrStr                       0\n",
            "LangemarckStrEast                    0\n",
            "LangemarckStrWest                    0\n",
            "Osterdeich                           0\n",
            "RadwegKleineWeser                    0\n",
            "SchwachhauserRing                    0\n",
            "WachmannStrAusSouth                  0\n",
            "WachmannStrEinNorth                  0\n",
            "WilhelmKaisenBrEast                  0\n",
            "WilhelmKaisenBrWest                  0\n",
            "Total                                0\n",
            "tavg                                 0\n",
            "tmin                                 0\n",
            "tmax                                 0\n",
            "prcp                                 0\n",
            "snow                                 0\n",
            "wdir                                 0\n",
            "wspd                                 0\n",
            "wpgt                                 0\n",
            "pres                                 0\n",
            "tsun                                 0\n",
            "Holiday_1. Weihnachtsfeiertag        0\n",
            "Holiday_2. Weihnachtsfeiertag        0\n",
            "Holiday_Christi Himmelfahrt          0\n",
            "Holiday_Karfreitag                   0\n",
            "Holiday_Neujahr                      0\n",
            "Holiday_Ostermontag                  0\n",
            "Holiday_Pfingstmontag                0\n",
            "Holiday_Reformationstag              0\n",
            "Holiday_Tag der Arbeit               0\n",
            "Holiday_Tag der Deutschen Einheit    0\n",
            "Vacation_Herbstferien                0\n",
            "Vacation_Osterferien                 0\n",
            "Vacation_Pfingstferien               0\n",
            "Vacation_Sommerferien                0\n",
            "Vacation_Weihnachtsferien            0\n",
            "Vacation_Winterferien                0\n",
            "prev_Total_1                         1\n",
            "prev_Total_2                         2\n",
            "prev_Total_3                         3\n",
            "dtype: int64\n"
          ]
        }
      ]
    },
    {
      "cell_type": "code",
      "source": [
        "# Load the data into a pandas dataframe\n",
        "data = df_transformed_date\n",
        "\n",
        "# Define the features and target\n",
        "# Higly correlated features have been removed (tavg, tmax, wpgt)\n",
        "features = ['Year', 'Month', 'Day', 'Weekday',\n",
        "       'tmax', 'prcp', 'snow', 'wspd', 'pres', 'tsun',\n",
        "       'Holiday_1. Weihnachtsfeiertag', 'Holiday_2. Weihnachtsfeiertag',\n",
        "       'Holiday_Christi Himmelfahrt', 'Holiday_Karfreitag', 'Holiday_Neujahr',\n",
        "       'Holiday_Ostermontag', 'Holiday_Pfingstmontag',\n",
        "       'Holiday_Reformationstag', 'Holiday_Tag der Arbeit',\n",
        "       'Holiday_Tag der Deutschen Einheit', 'Vacation_Herbstferien',\n",
        "       'Vacation_Osterferien', 'Vacation_Pfingstferien',\n",
        "       'Vacation_Sommerferien', 'Vacation_Weihnachtsferien',\n",
        "       'Vacation_Winterferien']\n",
        "\n",
        "target = 'Total'\n",
        "\n",
        "# Split the data into training and test sets\n",
        "X_train, X_test, y_train, y_test = train_test_split(data[features], data[target], \n",
        "                                                    test_size=0.2, shuffle=True, random_state=0)"
      ],
      "metadata": {
        "id": "J7cPlQdTzEmQ"
      },
      "id": "J7cPlQdTzEmQ",
      "execution_count": null,
      "outputs": []
    },
    {
      "cell_type": "code",
      "source": [
        "\n",
        "import tensorflow as tf\n",
        "import numpy as np\n",
        "from keras.models import Sequential\n",
        "from keras.layers import LSTM, Dense\n",
        "from sklearn.metrics import mean_squared_error\n",
        "from sklearn.model_selection import train_test_split\n",
        "from keras.optimizers import Adam\n",
        "\n",
        "# Assuming X_train, X_test, y_train, y_test are already defined and contain the appropriate data\n",
        "\n",
        "\n",
        "\n",
        "\n",
        "num_samples = X_train.shape[0]\n",
        "# Build the LSTM model\n",
        "\"\"\"\n",
        "model = Sequential()\n",
        "model.add(LSTM(units=256, input_shape=(1, X_train.shape[1]), activation='relu'))\n",
        "# Add a dense output layer with a single unit (for regression) and no activation function\n",
        "model.add(Dense(units=1))\n",
        "\"\"\"\n",
        "\"\"\"\n",
        "model = tf.keras.models.Sequential([\n",
        "    # Shape [batch, time, features] => [batch, time, lstm_units]\n",
        "    tf.keras.layers.LSTM(64),\n",
        "    # Shape => [batch, time, features]\n",
        "    tf.keras.layers.Dense(units=1)\n",
        "])\n",
        "\"\"\"\n",
        "\n",
        "\n",
        "# Build the LSTM model\n",
        "model = tf.keras.models.Sequential([\n",
        "    tf.keras.layers.LSTM(256, activation='relu'),\n",
        "    # Shape [batch, time, features] => [batch, time, lstm_units]\n",
        "    tf.keras.layers.LSTM(128, activation='relu'),\n",
        "    # Add another LSTM layer with 128 units and ReLU activation\n",
        "    tf.keras.layers.LSTM(64, activation='relu'),\n",
        "    # Shape => [batch, time, features]\n",
        "    tf.keras.layers.Dense(units=1)\n",
        "])\n",
        "\n",
        "X_train_3d = np.reshape(X_train.to_numpy(), (num_samples, 1, X_train.shape[1]))  # Fix variable name\n",
        "model.compile(loss=tf.keras.losses.MeanSquaredError(),\n",
        "              optimizer=Adam(learning_rate=0.001),\n",
        "              metrics=[tf.keras.metrics.MeanAbsoluteError()])\n",
        "\n",
        "# Train the model\n",
        "model.fit(X_train_3d, y_train, epochs=100, batch_size=64, verbose=1)"
      ],
      "metadata": {
        "id": "sOTf5esj1181",
        "outputId": "81b0f9a1-eb48-4888-a3e9-f53c33c2d6e9",
        "colab": {
          "base_uri": "https://localhost:8080/",
          "height": 773
        }
      },
      "id": "sOTf5esj1181",
      "execution_count": null,
      "outputs": [
        {
          "output_type": "stream",
          "name": "stdout",
          "text": [
            "Epoch 1/100\n"
          ]
        },
        {
          "output_type": "error",
          "ename": "ValueError",
          "evalue": "ignored",
          "traceback": [
            "\u001b[0;31m---------------------------------------------------------------------------\u001b[0m",
            "\u001b[0;31mValueError\u001b[0m                                Traceback (most recent call last)",
            "\u001b[0;32m<ipython-input-73-fb3438d48593>\u001b[0m in \u001b[0;36m<cell line: 49>\u001b[0;34m()\u001b[0m\n\u001b[1;32m     47\u001b[0m \u001b[0;34m\u001b[0m\u001b[0m\n\u001b[1;32m     48\u001b[0m \u001b[0;31m# Train the model\u001b[0m\u001b[0;34m\u001b[0m\u001b[0;34m\u001b[0m\u001b[0m\n\u001b[0;32m---> 49\u001b[0;31m \u001b[0mmodel\u001b[0m\u001b[0;34m.\u001b[0m\u001b[0mfit\u001b[0m\u001b[0;34m(\u001b[0m\u001b[0mX_train_3d\u001b[0m\u001b[0;34m,\u001b[0m \u001b[0my_train\u001b[0m\u001b[0;34m,\u001b[0m \u001b[0mepochs\u001b[0m\u001b[0;34m=\u001b[0m\u001b[0;36m100\u001b[0m\u001b[0;34m,\u001b[0m \u001b[0mbatch_size\u001b[0m\u001b[0;34m=\u001b[0m\u001b[0;36m64\u001b[0m\u001b[0;34m,\u001b[0m \u001b[0mverbose\u001b[0m\u001b[0;34m=\u001b[0m\u001b[0;36m1\u001b[0m\u001b[0;34m)\u001b[0m\u001b[0;34m\u001b[0m\u001b[0;34m\u001b[0m\u001b[0m\n\u001b[0m",
            "\u001b[0;32m/usr/local/lib/python3.9/dist-packages/keras/utils/traceback_utils.py\u001b[0m in \u001b[0;36merror_handler\u001b[0;34m(*args, **kwargs)\u001b[0m\n\u001b[1;32m     68\u001b[0m             \u001b[0;31m# To get the full stack trace, call:\u001b[0m\u001b[0;34m\u001b[0m\u001b[0;34m\u001b[0m\u001b[0m\n\u001b[1;32m     69\u001b[0m             \u001b[0;31m# `tf.debugging.disable_traceback_filtering()`\u001b[0m\u001b[0;34m\u001b[0m\u001b[0;34m\u001b[0m\u001b[0m\n\u001b[0;32m---> 70\u001b[0;31m             \u001b[0;32mraise\u001b[0m \u001b[0me\u001b[0m\u001b[0;34m.\u001b[0m\u001b[0mwith_traceback\u001b[0m\u001b[0;34m(\u001b[0m\u001b[0mfiltered_tb\u001b[0m\u001b[0;34m)\u001b[0m \u001b[0;32mfrom\u001b[0m \u001b[0;32mNone\u001b[0m\u001b[0;34m\u001b[0m\u001b[0;34m\u001b[0m\u001b[0m\n\u001b[0m\u001b[1;32m     71\u001b[0m         \u001b[0;32mfinally\u001b[0m\u001b[0;34m:\u001b[0m\u001b[0;34m\u001b[0m\u001b[0;34m\u001b[0m\u001b[0m\n\u001b[1;32m     72\u001b[0m             \u001b[0;32mdel\u001b[0m \u001b[0mfiltered_tb\u001b[0m\u001b[0;34m\u001b[0m\u001b[0;34m\u001b[0m\u001b[0m\n",
            "\u001b[0;32m/usr/local/lib/python3.9/dist-packages/keras/engine/training.py\u001b[0m in \u001b[0;36mtf__train_function\u001b[0;34m(iterator)\u001b[0m\n\u001b[1;32m     13\u001b[0m                 \u001b[0;32mtry\u001b[0m\u001b[0;34m:\u001b[0m\u001b[0;34m\u001b[0m\u001b[0;34m\u001b[0m\u001b[0m\n\u001b[1;32m     14\u001b[0m                     \u001b[0mdo_return\u001b[0m \u001b[0;34m=\u001b[0m \u001b[0;32mTrue\u001b[0m\u001b[0;34m\u001b[0m\u001b[0;34m\u001b[0m\u001b[0m\n\u001b[0;32m---> 15\u001b[0;31m                     \u001b[0mretval_\u001b[0m \u001b[0;34m=\u001b[0m \u001b[0mag__\u001b[0m\u001b[0;34m.\u001b[0m\u001b[0mconverted_call\u001b[0m\u001b[0;34m(\u001b[0m\u001b[0mag__\u001b[0m\u001b[0;34m.\u001b[0m\u001b[0mld\u001b[0m\u001b[0;34m(\u001b[0m\u001b[0mstep_function\u001b[0m\u001b[0;34m)\u001b[0m\u001b[0;34m,\u001b[0m \u001b[0;34m(\u001b[0m\u001b[0mag__\u001b[0m\u001b[0;34m.\u001b[0m\u001b[0mld\u001b[0m\u001b[0;34m(\u001b[0m\u001b[0mself\u001b[0m\u001b[0;34m)\u001b[0m\u001b[0;34m,\u001b[0m \u001b[0mag__\u001b[0m\u001b[0;34m.\u001b[0m\u001b[0mld\u001b[0m\u001b[0;34m(\u001b[0m\u001b[0miterator\u001b[0m\u001b[0;34m)\u001b[0m\u001b[0;34m)\u001b[0m\u001b[0;34m,\u001b[0m \u001b[0;32mNone\u001b[0m\u001b[0;34m,\u001b[0m \u001b[0mfscope\u001b[0m\u001b[0;34m)\u001b[0m\u001b[0;34m\u001b[0m\u001b[0;34m\u001b[0m\u001b[0m\n\u001b[0m\u001b[1;32m     16\u001b[0m                 \u001b[0;32mexcept\u001b[0m\u001b[0;34m:\u001b[0m\u001b[0;34m\u001b[0m\u001b[0;34m\u001b[0m\u001b[0m\n\u001b[1;32m     17\u001b[0m                     \u001b[0mdo_return\u001b[0m \u001b[0;34m=\u001b[0m \u001b[0;32mFalse\u001b[0m\u001b[0;34m\u001b[0m\u001b[0;34m\u001b[0m\u001b[0m\n",
            "\u001b[0;31mValueError\u001b[0m: in user code:\n\n    File \"/usr/local/lib/python3.9/dist-packages/keras/engine/training.py\", line 1284, in train_function  *\n        return step_function(self, iterator)\n    File \"/usr/local/lib/python3.9/dist-packages/keras/engine/training.py\", line 1268, in step_function  **\n        outputs = model.distribute_strategy.run(run_step, args=(data,))\n    File \"/usr/local/lib/python3.9/dist-packages/keras/engine/training.py\", line 1249, in run_step  **\n        outputs = model.train_step(data)\n    File \"/usr/local/lib/python3.9/dist-packages/keras/engine/training.py\", line 1050, in train_step\n        y_pred = self(x, training=True)\n    File \"/usr/local/lib/python3.9/dist-packages/keras/utils/traceback_utils.py\", line 70, in error_handler\n        raise e.with_traceback(filtered_tb) from None\n    File \"/usr/local/lib/python3.9/dist-packages/keras/engine/input_spec.py\", line 235, in assert_input_compatibility\n        raise ValueError(\n\n    ValueError: Exception encountered when calling layer 'sequential_38' (type Sequential).\n    \n    Input 0 of layer \"lstm_50\" is incompatible with the layer: expected ndim=3, found ndim=2. Full shape received: (None, 256)\n    \n    Call arguments received by layer 'sequential_38' (type Sequential):\n      • inputs=tf.Tensor(shape=(None, 1, 26), dtype=float32)\n      • training=True\n      • mask=None\n"
          ]
        }
      ]
    },
    {
      "cell_type": "code",
      "source": [
        "# Predict on the test set\n",
        "#X_test_3d = np.reshape(X_test.to_numpy(), (X_test.shape[0], 1, X_test.shape[1]))  # Reshape X_test\n",
        "\n",
        "num_samples = X_test.shape[0]\n",
        "X_test_3d = np.reshape(X_test.to_numpy(), (num_samples, 1, X_test.shape[1]))  # Fix variable name\n",
        "preds = model.predict(X_test_3d)\n",
        "\n",
        "# Evaluate the model's performance using RMSE\n",
        "rmse = np.sqrt(mean_squared_error(y_test, np.reshape(preds, (y_test.shape[0]))))\n",
        "print(\"RMSE: %f\" % (rmse))\n"
      ],
      "metadata": {
        "id": "VKXsUKtg3Hf7",
        "outputId": "9e164cf5-c57d-4099-f96c-fc87a762796c",
        "colab": {
          "base_uri": "https://localhost:8080/"
        }
      },
      "id": "VKXsUKtg3Hf7",
      "execution_count": null,
      "outputs": [
        {
          "output_type": "stream",
          "name": "stdout",
          "text": [
            "23/23 [==============================] - 0s 6ms/step\n",
            "2018-03-11    26957.0\n",
            "2014-07-27    37410.0\n",
            "2016-09-30    39593.0\n",
            "2022-06-05    50288.0\n",
            "2017-09-29    41285.0\n",
            "               ...   \n",
            "2013-08-06    37690.0\n",
            "2014-11-02    29683.0\n",
            "2020-06-27    33080.0\n",
            "2016-08-31    53149.0\n",
            "2022-01-16    12165.0\n",
            "Name: Total, Length: 731, dtype: float64\n",
            "[30535.756 37923.53  32049.592 36079.492 31525.645 28276.818 31182.781\n",
            " 28032.14  26946.822 35099.41  40275.06  31049.348 38569.285 31857.996\n",
            " 30947.023 28566.012 28895.145 29982.74  36054.23  28999.047 29830.938\n",
            " 30775.758 27452.115 31243.29  27236.404 27673.469 29084.553 30560.8\n",
            " 30556.438 34519.117 30605.236 31264.998 33066.836 20967.12  37602.754\n",
            " 32578.305 39709.023 29811.994 28410.668 33195.67  27754.33  31554.383\n",
            " 27051.059 28399.223 35825.227 27933.12  39415.55  35235.44  35060.434\n",
            " 32877.6   31883.713 31583.65  28782.07  34868.4   32103.193 28370.572\n",
            " 26299.674 29966.117 36611.188 40976.992 27086.205 35797.164 28439.223\n",
            " 33622.242 28705.676 38175.42  34417.445 28957.5   36308.617 28908.55\n",
            " 37213.16  36347.03  34534.062 34639.863 35874.066 27784.098 35697.617\n",
            " 34003.117 28966.828 29811.201 39181.43  37208.74  29791.184 34617.906\n",
            " 42703.395 30691.934 30614.492 40071.594 31881.691 27934.062 28284.287\n",
            " 28051.7   36985.902 29192.484 27608.682 28789.975 26355.484 27787.441\n",
            " 29981.924 31186.365 28301.477 28304.15  38885.28  36011.42  31960.99\n",
            " 38749.53  38430.297 29760.828 30432.652 30257.871 32469.188 34066.39\n",
            " 30997.773 31536.41  28273.12  32349.531 30816.842 33717.098 33554.9\n",
            " 34276.82  39291.336 33380.445 32863.555 30041.027 32035.176 36708.824\n",
            " 30301.84  34444.28  30674.49  29149.008 31354.275 30204.746 31686.18\n",
            " 29207.268 33989.16  31325.043 39509.79  36273.504 31471.459 40020.6\n",
            " 41277.42  32089.291 24329.695 27392.574 36653.62  34557.67  30227.469\n",
            " 33615.58  34608.184 29098.312 32880.23  28926.908 32157.129 37616.05\n",
            " 27961.137 26307.066 30602.525 30377.96  27462.43  32323.93  31711.664\n",
            " 33492.402 28600.62  27415.158 36909.266 29957.19  32680.48  27420.258\n",
            " 34235.63  38565.977 29908.133 37271.406 28105.71  30903.229 33011.914\n",
            " 36409.562 28768.932 29186.928 39983.547 33785.54  40970.984 36229.52\n",
            " 28698.73  26572.406 31259.195 38083.176 37181.785 36186.29  32611.484\n",
            " 28891.117 41074.977 29592.809 30956.902 29925.838 30389.666 35291.543\n",
            " 27262.867 34318.945 31685.656 33198.883 40358.77  30349.998 28376.86\n",
            " 31006.66  27133.348 29969.465 41086.305 35752.65  33420.82  40327.094\n",
            " 29608.707 32939.836 29481.06  33391.74  31294.055 29367.46  29798.877\n",
            " 37192.773 27496.613 31836.113 29794.701 36261.11  27693.982 36049.74\n",
            " 25118.715 26600.906 34175.516 33649.445 31414.486 30539.434 38395.35\n",
            " 30772.27  41311.33  35912.914 32895.617 30533.494 33835.945 36771.33\n",
            " 34480.727 38675.96  30103.457 33579.766 40636.58  29061.283 27798.26\n",
            " 31739.969 33766.81  33735.445 28814.553 31208.902 32801.484 31415.56\n",
            " 27165.734 28664.709 32880.25  31479.459 34949.44  36264.184 35625.934\n",
            " 29230.758 32458.545 38007.55  29021.336 28242.297 37848.254 37525.438\n",
            " 42074.062 26553.861 39471.312 27804.781 29231.63  27608.887 40036.418\n",
            " 28594.725 32269.191 28240.336 32681.455 33789.19  41092.42  28425.816\n",
            " 28671.113 31419.41  37302.883 36711.89  30868.258 32372.223 30138.152\n",
            " 32457.68  38424.273 34162.3   30955.832 42433.414 25662.822 37814.1\n",
            " 28679.096 32276.273 33771.04  30551.535 28284.578 34561.97  33974.203\n",
            " 27989.67  28785.055 28310.746 41729.945 30032.605 27059.402 35783.43\n",
            " 27916.266 33571.117 29198.871 26820.531 36082.766 36386.96  33544.926\n",
            " 32334.777 30095.615 29765.154 40148.85  29122.496 37977.645 37172.023\n",
            " 35709.605 28241.94  29983.469 39158.055 28481.176 34435.723 31850.875\n",
            " 30427.188 27808.861 35191.312 30108.621 36841.12  33792.17  27250.586\n",
            " 30393.146 41835.01  37661.984 32244.77  34861.438 29055.027 35179.688\n",
            " 28529.32  37502.93  35146.977 29809.055 35348.03  35349.242 35044.953\n",
            " 28649.373 25464.87  26799.586 33202.547 38547.367 29964.395 29271.268\n",
            " 32412.566 34028.418 30448.314 36658.008 37616.61  38865.184 26837.984\n",
            " 30493.35  31135.135 34944.273 29059.062 32612.664 33182.508 36021.21\n",
            " 37659.92  29174.68  27425.734 24425.39  40619.695 29851.543 27222.896\n",
            " 32389.945 32818.61  40478.37  28538.848 32621.975 38760.734 29865.791\n",
            " 29118.438 22734.77  35608.195 39240.777 28204.57  37494.45  27795.809\n",
            " 31124.29  28125.379 30668.83  36780.88  35092.24  27257.584 32762.92\n",
            " 29191.695 30332.67  34698.664 28657.197 32730.62  29361.957 30036.146\n",
            " 36334.027 33118.71  33675.35  34061.305 38280.633 36038.43  32569.033\n",
            " 30402.904 26906.602 30097.39  30153.75  30081.236 36243.273 27097.748\n",
            " 26627.457 41145.016 29065.584 32892.89  27543.842 33744.742 27837.824\n",
            " 29577.424 34806.492 28676.033 29073.951 31024.906 35550.844 26740.033\n",
            " 28744.7   28681.209 31693.246 34573.293 28904.94  29304.68  24170.795\n",
            " 32939.53  30251.47  30783.781 35420.594 38562.535 28807.996 31215.178\n",
            " 34828.586 33485.7   32388.658 25743.254 36113.957 32207.105 37512.91\n",
            " 41754.27  38940.645 30649.145 28809.062 32093.82  29181.783 35446.85\n",
            " 29480.178 31390.502 29172.719 29525.453 33838.9   28600.994 26913.957\n",
            " 30962.293 35262.926 27974.543 29188.564 29932.682 28751.998 36425.914\n",
            " 27765.738 34579.836 31114.379 35488.043 32468.658 37091.543 31804.445\n",
            " 28156.662 28739.523 27238.691 29269.959 29122.938 30934.553 30105.598\n",
            " 27763.31  32968.617 39271.58  34228.047 32043.846 31021.697 36324.773\n",
            " 29090.5   28005.98  35347.39  27314.217 33510.863 34383.508 31989.314\n",
            " 33463.023 26554.512 35642.41  29382.18  37303.53  34534.277 32841.11\n",
            " 27859.672 29799.521 36312.027 39016.92  27766.727 29873.291 29425.498\n",
            " 28755.35  37039.78  28871.238 37739.527 27454.805 32537.203 40147.04\n",
            " 26762.992 29567.355 29248.854 40344.89  28812.508 26026.979 29730.186\n",
            " 27668.277 38192.625 33323.67  32599.21  35461.97  28219.246 37233.184\n",
            " 35047.914 26165.969 32694.93  38129.945 30735.66  32898.11  36779.96\n",
            " 27590.143 37194.258 37617.527 31590.418 35008.133 28993.033 28986.658\n",
            " 29339.412 28805.234 33672.43  40084.5   32237.555 30849.951 33604.5\n",
            " 27592.473 27767.77  29264.3   30782.688 34078.98  40917.883 40331.53\n",
            " 38562.22  27253.578 42213.414 30222.191 29297.605 28220.545 36777.656\n",
            " 37803.168 30457.24  29461.035 35844.703 26979.201 35235.31  28317.184\n",
            " 28099.363 35160.797 17938.512 31606.816 31306.428 27698.33  33872.336\n",
            " 36222.793 31134.57  27105.273 29003.256 29067.514 28795.828 28361.59\n",
            " 29271.955 31125.57  30169.227 36174.95  27300.453 32128.818 42471.688\n",
            " 29884.555 33774.57  40088.14  31469.32  28652.695 37584.008 40613.94\n",
            " 39088.273 28776.893 30917.832 28132.102 33867.203 29434.54  33241.953\n",
            " 27689.957 34596.754 31480.986 33311.766 31321.633 32374.02  28735.398\n",
            " 30912.723 30306.855 30024.146 34695.168 33773.234 27155.594 28942.36\n",
            " 28549.752 32962.67  30988.277 31669.574 32731.906 26505.414 36714.867\n",
            " 32027.564 28014.104 27388.172 29059.31  38950.465 28223.016 36537.156\n",
            " 34646.85  33619.633 27253.11  33640.105 27835.066 28865.283 31741.336\n",
            " 29607.709 31793.18  29821.254 30169.857 29155.113 33091.344 28840.87\n",
            " 30701.451 38699.695 34778.492 30873.91  31753.938 39074.254 29108.562\n",
            " 29054.666 31255.793 27622.195 23942.727 33822.457 26732.242 31384.193\n",
            " 30383.117 33887.848 38108.47  31001.605 30316.656 36109.17  37142.344\n",
            " 37251.527 29568.79  28523.484 30068.816 27156.57  31139.52  32650.121\n",
            " 29119.219 28425.162 29143.188 40756.152 19575.227 32356.07  38374.184\n",
            " 29971.729 34045.992 32953.43  32909.984 28691.13  32954.438 35330.203\n",
            " 25878.568 34547.816 30182.648 35726.12  32246.543 38518.086 28400.176\n",
            " 30923.803 29469.703 33898.254 21382.246 29780.531 35541.96  30789.947\n",
            " 32486.113 33500.625 36360.832 26822.582 37836.04  34492.055 30334.977\n",
            " 36625.    36443.164 27525.09  31452.646 29998.045 35628.61  31696.156\n",
            " 36801.215 40152.914 27091.5  ]\n",
            "RMSE: 10052.370818\n"
          ]
        }
      ]
    }
  ],
  "metadata": {
    "colab": {
      "provenance": []
    },
    "gpuClass": "standard",
    "kernelspec": {
      "display_name": "Python 3 (ipykernel)",
      "language": "python",
      "name": "python3"
    },
    "language_info": {
      "codemirror_mode": {
        "name": "ipython",
        "version": 3
      },
      "file_extension": ".py",
      "mimetype": "text/x-python",
      "name": "python",
      "nbconvert_exporter": "python",
      "pygments_lexer": "ipython3",
      "version": "3.9.2"
    }
  },
  "nbformat": 4,
  "nbformat_minor": 5
}