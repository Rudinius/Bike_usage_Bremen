{
  "cells": [
    {
      "cell_type": "markdown",
      "id": "CBLnLwZIZpWJ",
      "metadata": {
        "id": "CBLnLwZIZpWJ"
      },
      "source": [
        "# Notebook"
      ]
    },
    {
      "cell_type": "markdown",
      "id": "lZXvJFJqZuRE",
      "metadata": {
        "id": "lZXvJFJqZuRE"
      },
      "source": [
        "In the Model learning step, the prepared dataset from [3_Imputing](https://raw.githubusercontent.com/Rudinius/Bike_usage_Bremen/main/3_Imputing.ipynb) is loaded. Then different machine learning algorithms are trained and compared to each other.\n",
        "\n",
        "We will test\n",
        "* XGBoost\n",
        "* Multilayer perceptron (MLP)\n",
        "* Recurrent Neural Network (RNN)"
      ]
    },
    {
      "cell_type": "markdown",
      "id": "0c910711",
      "metadata": {
        "id": "0c910711"
      },
      "source": [
        "<a name=\"content\"></a>\n",
        "# Content\n",
        "\n",
        "* [1. Import libraries](#1.)\n",
        "* [2. Import datasets](#2.)\n",
        "* [3. Select a target station](#3.)\n",
        "* [4. Establish baseline benchmark](#4.)\n",
        "* [5. Selecting features, splitting the data, standardizing](#5.)\n",
        "* [6. Training machine learning algorithms](#6.)\n",
        "    * [6.1. Consideration reagarding sequential data](#6.1.)\n",
        "    * [6.2. XGBoost](#6.2.)\n",
        "    * [6.3. Multilayer perceptron](#6.3.)\n",
        "    * [6.4. Recurrent Neural Network](#6.4.)\n",
        "* [7. Summary and conclusion](#7.)"
      ]
    },
    {
      "cell_type": "markdown",
      "id": "85f76996",
      "metadata": {
        "id": "85f76996"
      },
      "source": [
        "<a name=\"1.\"></a>\n",
        "# 1.&nbsp;Import libraries\n",
        "[Content](#content)"
      ]
    },
    {
      "cell_type": "code",
      "source": [
        "# Only used for suppressing warning due to google colab environment\n",
        "import warnings\n",
        "warnings.filterwarnings(\"ignore\", category=DeprecationWarning)"
      ],
      "metadata": {
        "id": "xSJzvaLrNPlR"
      },
      "id": "xSJzvaLrNPlR",
      "execution_count": 1,
      "outputs": []
    },
    {
      "cell_type": "code",
      "execution_count": 2,
      "id": "3731ea33",
      "metadata": {
        "id": "3731ea33"
      },
      "outputs": [],
      "source": [
        "# Import libraries\n",
        "import numpy as np\n",
        "import pandas as pd\n",
        "import plotly.express as px\n",
        "from sklearn.metrics import make_scorer, mean_squared_error\n",
        "from sklearn.model_selection import GridSearchCV, train_test_split, TimeSeriesSplit#, #cross_val_score,\n",
        "from sklearn.preprocessing import StandardScaler\n",
        "import xgboost as xgb\n",
        "import tensorflow as tf\n",
        "from tensorflow import keras\n",
        "from keras.models import Sequential\n",
        "from keras.layers import Dense, Input, Dropout, BatchNormalization, LSTM, Bidirectional, Reshape\n",
        "from keras.optimizers import Adam\n",
        "from keras.metrics import RootMeanSquaredError"
      ]
    },
    {
      "cell_type": "code",
      "execution_count": 4,
      "id": "LcKvjPd27cDu",
      "metadata": {
        "colab": {
          "base_uri": "https://localhost:8080/"
        },
        "id": "LcKvjPd27cDu",
        "outputId": "7cc43ff8-fd04-4916-ce38-9d05efd6d180"
      },
      "outputs": [
        {
          "output_type": "stream",
          "name": "stdout",
          "text": [
            "shap is already installed\n"
          ]
        }
      ],
      "source": [
        "# Install package shap since it is not part of the standard packages\n",
        "# of Google Colab\n",
        "\n",
        "import importlib\n",
        "\n",
        "# Check if package is installed\n",
        "package_name = [\"shap\"]\n",
        "\n",
        "for package in package_name:\n",
        "    spec = importlib.util.find_spec(package)\n",
        "    if spec is None:\n",
        "        # Package is not installed, install it via pip\n",
        "        !pip install {package}\n",
        "    else:\n",
        "        print(f\"{package} is already installed\")\n",
        "\n",
        "    shap = importlib.import_module(package)"
      ]
    },
    {
      "cell_type": "code",
      "source": [
        "keras.utils.set_random_seed(1)"
      ],
      "metadata": {
        "id": "FBMlPVNJzgfz"
      },
      "id": "FBMlPVNJzgfz",
      "execution_count": 5,
      "outputs": []
    },
    {
      "cell_type": "markdown",
      "id": "2516jhMiVxrJ",
      "metadata": {
        "id": "2516jhMiVxrJ"
      },
      "source": [
        "<a name=\"2.\"></a>\n",
        "#2.&nbsp;Import dataset\n",
        "[Content](#content)"
      ]
    },
    {
      "cell_type": "markdown",
      "id": "IF9lS_3ok1tO",
      "metadata": {
        "id": "IF9lS_3ok1tO"
      },
      "source": [
        "Import the processed dataset."
      ]
    },
    {
      "cell_type": "code",
      "execution_count": 6,
      "id": "Xu3OXfHqVxfa",
      "metadata": {
        "id": "Xu3OXfHqVxfa"
      },
      "outputs": [],
      "source": [
        "# Set base url\n",
        "url = \"https://raw.githubusercontent.com/Rudinius/Bike_usage_Bremen/main/data/\""
      ]
    },
    {
      "cell_type": "code",
      "execution_count": 7,
      "id": "2etHV6ODVsUV",
      "metadata": {
        "colab": {
          "base_uri": "https://localhost:8080/",
          "height": 373
        },
        "id": "2etHV6ODVsUV",
        "outputId": "438c9300-dc9e-443e-e961-c46de95335f7"
      },
      "outputs": [
        {
          "output_type": "execute_result",
          "data": {
            "text/plain": [
              "            graf_moltke_straße_ostseite  graf_moltke_straße_westseite  \\\n",
              "date                                                                    \n",
              "2013-01-01                        261.0                         290.0   \n",
              "2013-01-02                        750.0                         876.0   \n",
              "2013-01-03                        931.0                        1015.0   \n",
              "2013-01-04                        500.0                         587.0   \n",
              "2013-01-05                       1013.0                        1011.0   \n",
              "\n",
              "            hastedter_bruckenstraße  langemarckstraße_ostseite  \\\n",
              "date                                                             \n",
              "2013-01-01                    381.0                      312.0   \n",
              "2013-01-02                   1109.0                     1258.0   \n",
              "2013-01-03                   1603.0                     1556.0   \n",
              "2013-01-04                   1284.0                      703.0   \n",
              "2013-01-05                      0.0                     1856.0   \n",
              "\n",
              "            langemarckstraße_westseite  osterdeich  radweg_kleine_weser  \\\n",
              "date                                                                      \n",
              "2013-01-01                       308.0       870.0                410.0   \n",
              "2013-01-02                      1120.0      2169.0               1762.0   \n",
              "2013-01-03                      1480.0      2295.0               2287.0   \n",
              "2013-01-04                       626.0      1640.0               1548.0   \n",
              "2013-01-05                      1621.0      4128.0               4256.0   \n",
              "\n",
              "            schwachhauser_ring  wachmannstraße_auswarts_sud  \\\n",
              "date                                                          \n",
              "2013-01-01                 391                        514.0   \n",
              "2013-01-02                 829                       1786.0   \n",
              "2013-01-03                1196                       2412.0   \n",
              "2013-01-04                1418                        964.0   \n",
              "2013-01-05                3075                       2065.0   \n",
              "\n",
              "            wachmannstraße_einwarts_nord  ...  holiday_2_weihnachtsfeiertag  \\\n",
              "date                                      ...                                 \n",
              "2013-01-01                         267.0  ...                           0.0   \n",
              "2013-01-02                        1456.0  ...                           0.0   \n",
              "2013-01-03                        2035.0  ...                           0.0   \n",
              "2013-01-04                         702.0  ...                           0.0   \n",
              "2013-01-05                        1377.0  ...                           0.0   \n",
              "\n",
              "            holiday_christi_himmelfahrt  holiday_karfreitag  holiday_neujahr  \\\n",
              "date                                                                           \n",
              "2013-01-01                          0.0                 0.0              1.0   \n",
              "2013-01-02                          0.0                 0.0              0.0   \n",
              "2013-01-03                          0.0                 0.0              0.0   \n",
              "2013-01-04                          0.0                 0.0              0.0   \n",
              "2013-01-05                          0.0                 0.0              0.0   \n",
              "\n",
              "            holiday_ostermontag  holiday_pfingstmontag  \\\n",
              "date                                                     \n",
              "2013-01-01                  0.0                    0.0   \n",
              "2013-01-02                  0.0                    0.0   \n",
              "2013-01-03                  0.0                    0.0   \n",
              "2013-01-04                  0.0                    0.0   \n",
              "2013-01-05                  0.0                    0.0   \n",
              "\n",
              "            holiday_reformationstag  holiday_tag_der_arbeit  \\\n",
              "date                                                          \n",
              "2013-01-01                      0.0                     0.0   \n",
              "2013-01-02                      0.0                     0.0   \n",
              "2013-01-03                      0.0                     0.0   \n",
              "2013-01-04                      0.0                     0.0   \n",
              "2013-01-05                      0.0                     0.0   \n",
              "\n",
              "            holiday_tag_der_deutschen_einheit  transformed_vacation  \n",
              "date                                                                 \n",
              "2013-01-01                                0.0                     1  \n",
              "2013-01-02                                0.0                     1  \n",
              "2013-01-03                                0.0                     1  \n",
              "2013-01-04                                0.0                     1  \n",
              "2013-01-05                                0.0                     1  \n",
              "\n",
              "[5 rows x 62 columns]"
            ],
            "text/html": [
              "\n",
              "  <div id=\"df-46a00bdd-f1f7-4e8e-b98a-1518f84d2ab4\" class=\"colab-df-container\">\n",
              "    <div>\n",
              "<style scoped>\n",
              "    .dataframe tbody tr th:only-of-type {\n",
              "        vertical-align: middle;\n",
              "    }\n",
              "\n",
              "    .dataframe tbody tr th {\n",
              "        vertical-align: top;\n",
              "    }\n",
              "\n",
              "    .dataframe thead th {\n",
              "        text-align: right;\n",
              "    }\n",
              "</style>\n",
              "<table border=\"1\" class=\"dataframe\">\n",
              "  <thead>\n",
              "    <tr style=\"text-align: right;\">\n",
              "      <th></th>\n",
              "      <th>graf_moltke_straße_ostseite</th>\n",
              "      <th>graf_moltke_straße_westseite</th>\n",
              "      <th>hastedter_bruckenstraße</th>\n",
              "      <th>langemarckstraße_ostseite</th>\n",
              "      <th>langemarckstraße_westseite</th>\n",
              "      <th>osterdeich</th>\n",
              "      <th>radweg_kleine_weser</th>\n",
              "      <th>schwachhauser_ring</th>\n",
              "      <th>wachmannstraße_auswarts_sud</th>\n",
              "      <th>wachmannstraße_einwarts_nord</th>\n",
              "      <th>...</th>\n",
              "      <th>holiday_2_weihnachtsfeiertag</th>\n",
              "      <th>holiday_christi_himmelfahrt</th>\n",
              "      <th>holiday_karfreitag</th>\n",
              "      <th>holiday_neujahr</th>\n",
              "      <th>holiday_ostermontag</th>\n",
              "      <th>holiday_pfingstmontag</th>\n",
              "      <th>holiday_reformationstag</th>\n",
              "      <th>holiday_tag_der_arbeit</th>\n",
              "      <th>holiday_tag_der_deutschen_einheit</th>\n",
              "      <th>transformed_vacation</th>\n",
              "    </tr>\n",
              "    <tr>\n",
              "      <th>date</th>\n",
              "      <th></th>\n",
              "      <th></th>\n",
              "      <th></th>\n",
              "      <th></th>\n",
              "      <th></th>\n",
              "      <th></th>\n",
              "      <th></th>\n",
              "      <th></th>\n",
              "      <th></th>\n",
              "      <th></th>\n",
              "      <th></th>\n",
              "      <th></th>\n",
              "      <th></th>\n",
              "      <th></th>\n",
              "      <th></th>\n",
              "      <th></th>\n",
              "      <th></th>\n",
              "      <th></th>\n",
              "      <th></th>\n",
              "      <th></th>\n",
              "      <th></th>\n",
              "    </tr>\n",
              "  </thead>\n",
              "  <tbody>\n",
              "    <tr>\n",
              "      <th>2013-01-01</th>\n",
              "      <td>261.0</td>\n",
              "      <td>290.0</td>\n",
              "      <td>381.0</td>\n",
              "      <td>312.0</td>\n",
              "      <td>308.0</td>\n",
              "      <td>870.0</td>\n",
              "      <td>410.0</td>\n",
              "      <td>391</td>\n",
              "      <td>514.0</td>\n",
              "      <td>267.0</td>\n",
              "      <td>...</td>\n",
              "      <td>0.0</td>\n",
              "      <td>0.0</td>\n",
              "      <td>0.0</td>\n",
              "      <td>1.0</td>\n",
              "      <td>0.0</td>\n",
              "      <td>0.0</td>\n",
              "      <td>0.0</td>\n",
              "      <td>0.0</td>\n",
              "      <td>0.0</td>\n",
              "      <td>1</td>\n",
              "    </tr>\n",
              "    <tr>\n",
              "      <th>2013-01-02</th>\n",
              "      <td>750.0</td>\n",
              "      <td>876.0</td>\n",
              "      <td>1109.0</td>\n",
              "      <td>1258.0</td>\n",
              "      <td>1120.0</td>\n",
              "      <td>2169.0</td>\n",
              "      <td>1762.0</td>\n",
              "      <td>829</td>\n",
              "      <td>1786.0</td>\n",
              "      <td>1456.0</td>\n",
              "      <td>...</td>\n",
              "      <td>0.0</td>\n",
              "      <td>0.0</td>\n",
              "      <td>0.0</td>\n",
              "      <td>0.0</td>\n",
              "      <td>0.0</td>\n",
              "      <td>0.0</td>\n",
              "      <td>0.0</td>\n",
              "      <td>0.0</td>\n",
              "      <td>0.0</td>\n",
              "      <td>1</td>\n",
              "    </tr>\n",
              "    <tr>\n",
              "      <th>2013-01-03</th>\n",
              "      <td>931.0</td>\n",
              "      <td>1015.0</td>\n",
              "      <td>1603.0</td>\n",
              "      <td>1556.0</td>\n",
              "      <td>1480.0</td>\n",
              "      <td>2295.0</td>\n",
              "      <td>2287.0</td>\n",
              "      <td>1196</td>\n",
              "      <td>2412.0</td>\n",
              "      <td>2035.0</td>\n",
              "      <td>...</td>\n",
              "      <td>0.0</td>\n",
              "      <td>0.0</td>\n",
              "      <td>0.0</td>\n",
              "      <td>0.0</td>\n",
              "      <td>0.0</td>\n",
              "      <td>0.0</td>\n",
              "      <td>0.0</td>\n",
              "      <td>0.0</td>\n",
              "      <td>0.0</td>\n",
              "      <td>1</td>\n",
              "    </tr>\n",
              "    <tr>\n",
              "      <th>2013-01-04</th>\n",
              "      <td>500.0</td>\n",
              "      <td>587.0</td>\n",
              "      <td>1284.0</td>\n",
              "      <td>703.0</td>\n",
              "      <td>626.0</td>\n",
              "      <td>1640.0</td>\n",
              "      <td>1548.0</td>\n",
              "      <td>1418</td>\n",
              "      <td>964.0</td>\n",
              "      <td>702.0</td>\n",
              "      <td>...</td>\n",
              "      <td>0.0</td>\n",
              "      <td>0.0</td>\n",
              "      <td>0.0</td>\n",
              "      <td>0.0</td>\n",
              "      <td>0.0</td>\n",
              "      <td>0.0</td>\n",
              "      <td>0.0</td>\n",
              "      <td>0.0</td>\n",
              "      <td>0.0</td>\n",
              "      <td>1</td>\n",
              "    </tr>\n",
              "    <tr>\n",
              "      <th>2013-01-05</th>\n",
              "      <td>1013.0</td>\n",
              "      <td>1011.0</td>\n",
              "      <td>0.0</td>\n",
              "      <td>1856.0</td>\n",
              "      <td>1621.0</td>\n",
              "      <td>4128.0</td>\n",
              "      <td>4256.0</td>\n",
              "      <td>3075</td>\n",
              "      <td>2065.0</td>\n",
              "      <td>1377.0</td>\n",
              "      <td>...</td>\n",
              "      <td>0.0</td>\n",
              "      <td>0.0</td>\n",
              "      <td>0.0</td>\n",
              "      <td>0.0</td>\n",
              "      <td>0.0</td>\n",
              "      <td>0.0</td>\n",
              "      <td>0.0</td>\n",
              "      <td>0.0</td>\n",
              "      <td>0.0</td>\n",
              "      <td>1</td>\n",
              "    </tr>\n",
              "  </tbody>\n",
              "</table>\n",
              "<p>5 rows × 62 columns</p>\n",
              "</div>\n",
              "    <div class=\"colab-df-buttons\">\n",
              "\n",
              "  <div class=\"colab-df-container\">\n",
              "    <button class=\"colab-df-convert\" onclick=\"convertToInteractive('df-46a00bdd-f1f7-4e8e-b98a-1518f84d2ab4')\"\n",
              "            title=\"Convert this dataframe to an interactive table.\"\n",
              "            style=\"display:none;\">\n",
              "\n",
              "  <svg xmlns=\"http://www.w3.org/2000/svg\" height=\"24px\" viewBox=\"0 -960 960 960\">\n",
              "    <path d=\"M120-120v-720h720v720H120Zm60-500h600v-160H180v160Zm220 220h160v-160H400v160Zm0 220h160v-160H400v160ZM180-400h160v-160H180v160Zm440 0h160v-160H620v160ZM180-180h160v-160H180v160Zm440 0h160v-160H620v160Z\"/>\n",
              "  </svg>\n",
              "    </button>\n",
              "\n",
              "  <style>\n",
              "    .colab-df-container {\n",
              "      display:flex;\n",
              "      gap: 12px;\n",
              "    }\n",
              "\n",
              "    .colab-df-convert {\n",
              "      background-color: #E8F0FE;\n",
              "      border: none;\n",
              "      border-radius: 50%;\n",
              "      cursor: pointer;\n",
              "      display: none;\n",
              "      fill: #1967D2;\n",
              "      height: 32px;\n",
              "      padding: 0 0 0 0;\n",
              "      width: 32px;\n",
              "    }\n",
              "\n",
              "    .colab-df-convert:hover {\n",
              "      background-color: #E2EBFA;\n",
              "      box-shadow: 0px 1px 2px rgba(60, 64, 67, 0.3), 0px 1px 3px 1px rgba(60, 64, 67, 0.15);\n",
              "      fill: #174EA6;\n",
              "    }\n",
              "\n",
              "    .colab-df-buttons div {\n",
              "      margin-bottom: 4px;\n",
              "    }\n",
              "\n",
              "    [theme=dark] .colab-df-convert {\n",
              "      background-color: #3B4455;\n",
              "      fill: #D2E3FC;\n",
              "    }\n",
              "\n",
              "    [theme=dark] .colab-df-convert:hover {\n",
              "      background-color: #434B5C;\n",
              "      box-shadow: 0px 1px 3px 1px rgba(0, 0, 0, 0.15);\n",
              "      filter: drop-shadow(0px 1px 2px rgba(0, 0, 0, 0.3));\n",
              "      fill: #FFFFFF;\n",
              "    }\n",
              "  </style>\n",
              "\n",
              "    <script>\n",
              "      const buttonEl =\n",
              "        document.querySelector('#df-46a00bdd-f1f7-4e8e-b98a-1518f84d2ab4 button.colab-df-convert');\n",
              "      buttonEl.style.display =\n",
              "        google.colab.kernel.accessAllowed ? 'block' : 'none';\n",
              "\n",
              "      async function convertToInteractive(key) {\n",
              "        const element = document.querySelector('#df-46a00bdd-f1f7-4e8e-b98a-1518f84d2ab4');\n",
              "        const dataTable =\n",
              "          await google.colab.kernel.invokeFunction('convertToInteractive',\n",
              "                                                    [key], {});\n",
              "        if (!dataTable) return;\n",
              "\n",
              "        const docLinkHtml = 'Like what you see? Visit the ' +\n",
              "          '<a target=\"_blank\" href=https://colab.research.google.com/notebooks/data_table.ipynb>data table notebook</a>'\n",
              "          + ' to learn more about interactive tables.';\n",
              "        element.innerHTML = '';\n",
              "        dataTable['output_type'] = 'display_data';\n",
              "        await google.colab.output.renderOutput(dataTable, element);\n",
              "        const docLink = document.createElement('div');\n",
              "        docLink.innerHTML = docLinkHtml;\n",
              "        element.appendChild(docLink);\n",
              "      }\n",
              "    </script>\n",
              "  </div>\n",
              "\n",
              "\n",
              "<div id=\"df-1c3b45ed-6f25-4b32-8de8-3e41e4a80b04\">\n",
              "  <button class=\"colab-df-quickchart\" onclick=\"quickchart('df-1c3b45ed-6f25-4b32-8de8-3e41e4a80b04')\"\n",
              "            title=\"Suggest charts.\"\n",
              "            style=\"display:none;\">\n",
              "\n",
              "<svg xmlns=\"http://www.w3.org/2000/svg\" height=\"24px\"viewBox=\"0 0 24 24\"\n",
              "     width=\"24px\">\n",
              "    <g>\n",
              "        <path d=\"M19 3H5c-1.1 0-2 .9-2 2v14c0 1.1.9 2 2 2h14c1.1 0 2-.9 2-2V5c0-1.1-.9-2-2-2zM9 17H7v-7h2v7zm4 0h-2V7h2v10zm4 0h-2v-4h2v4z\"/>\n",
              "    </g>\n",
              "</svg>\n",
              "  </button>\n",
              "\n",
              "<style>\n",
              "  .colab-df-quickchart {\n",
              "    background-color: #E8F0FE;\n",
              "    border: none;\n",
              "    border-radius: 50%;\n",
              "    cursor: pointer;\n",
              "    display: none;\n",
              "    fill: #1967D2;\n",
              "    height: 32px;\n",
              "    padding: 0 0 0 0;\n",
              "    width: 32px;\n",
              "  }\n",
              "\n",
              "  .colab-df-quickchart:hover {\n",
              "    background-color: #E2EBFA;\n",
              "    box-shadow: 0px 1px 2px rgba(60, 64, 67, 0.3), 0px 1px 3px 1px rgba(60, 64, 67, 0.15);\n",
              "    fill: #174EA6;\n",
              "  }\n",
              "\n",
              "  [theme=dark] .colab-df-quickchart {\n",
              "    background-color: #3B4455;\n",
              "    fill: #D2E3FC;\n",
              "  }\n",
              "\n",
              "  [theme=dark] .colab-df-quickchart:hover {\n",
              "    background-color: #434B5C;\n",
              "    box-shadow: 0px 1px 3px 1px rgba(0, 0, 0, 0.15);\n",
              "    filter: drop-shadow(0px 1px 2px rgba(0, 0, 0, 0.3));\n",
              "    fill: #FFFFFF;\n",
              "  }\n",
              "</style>\n",
              "\n",
              "  <script>\n",
              "    async function quickchart(key) {\n",
              "      const charts = await google.colab.kernel.invokeFunction(\n",
              "          'suggestCharts', [key], {});\n",
              "    }\n",
              "    (() => {\n",
              "      let quickchartButtonEl =\n",
              "        document.querySelector('#df-1c3b45ed-6f25-4b32-8de8-3e41e4a80b04 button');\n",
              "      quickchartButtonEl.style.display =\n",
              "        google.colab.kernel.accessAllowed ? 'block' : 'none';\n",
              "    })();\n",
              "  </script>\n",
              "</div>\n",
              "    </div>\n",
              "  </div>\n"
            ]
          },
          "metadata": {},
          "execution_count": 7
        }
      ],
      "source": [
        "# Import dataset\n",
        "\n",
        "# We will also parse the date column as datetime64 and set it to the index column\n",
        "df = pd.read_csv(url + \"03_training_data/\" + \"2023-08-24_processed_df.csv\",\n",
        "                         parse_dates=[0], index_col=[0])\n",
        "\n",
        "# Check the correct loading of dataset\n",
        "df.head()"
      ]
    },
    {
      "cell_type": "markdown",
      "metadata": {
        "id": "jv96sN3croOJ"
      },
      "source": [
        "<a name=\"3.\"></a>\n",
        "# 3.&nbsp;Select a target station\n",
        "[Content](#content)\n"
      ],
      "id": "jv96sN3croOJ"
    },
    {
      "cell_type": "markdown",
      "source": [
        "There are many stations that we could train our model on. Also we could add up all stations to a column `total` and try to predict the overall number in the city per day. However this approach would average many values which would lead on side to less noisy data as single outliers would be less impactful. On the other side it would also average over indivdual patterns.\n",
        "\n",
        "For this reason, we choose a single station to train our model on. For real-life purposes better results could be expected with one model per station.\n",
        "\n",
        "For the further process, we will work with the station: `wilhelm_kaisen_brucke_ost`\n"
      ],
      "metadata": {
        "id": "OG06qWVLrl_R"
      },
      "id": "OG06qWVLrl_R"
    },
    {
      "cell_type": "code",
      "source": [
        "target = \"imputed_wilhelm_kaisen_brucke_ost\""
      ],
      "metadata": {
        "id": "cdukN1mWtqr5"
      },
      "id": "cdukN1mWtqr5",
      "execution_count": 8,
      "outputs": []
    },
    {
      "cell_type": "markdown",
      "id": "gBM3I6LFOHL9",
      "metadata": {
        "id": "gBM3I6LFOHL9"
      },
      "source": [
        "<a name=\"4.\"></a>\n",
        "# 4.&nbsp;Establish baseline benchmark\n",
        "[Content](#content)\n"
      ]
    },
    {
      "cell_type": "markdown",
      "id": "VgkVXhdAx6zB",
      "metadata": {
        "id": "VgkVXhdAx6zB"
      },
      "source": [
        "For our current task of creating model a to predict the amount of cyclers for a given day, we do not have any baseline metric score to measure our model against.\n",
        "For this reason, we will create a naive baseline model. For this, we will simply predict the amount of a day based on the value of previous day."
      ]
    },
    {
      "cell_type": "code",
      "source": [
        "# Calculate RMSE between two columns shifted by one day\n",
        "rmse = np.sqrt(mean_squared_error(df[target].iloc[:-1], df[target].shift(-1).iloc[:-1]))\n",
        "print(\"RMSE: %f\" % (rmse))"
      ],
      "metadata": {
        "colab": {
          "base_uri": "https://localhost:8080/"
        },
        "id": "hPxJANalKxpN",
        "outputId": "059db97f-9d66-4db6-e774-9ec05467e5d9"
      },
      "id": "hPxJANalKxpN",
      "execution_count": 9,
      "outputs": [
        {
          "output_type": "stream",
          "name": "stdout",
          "text": [
            "RMSE: 2346.990813\n"
          ]
        }
      ]
    },
    {
      "cell_type": "markdown",
      "id": "f6O5OFAwW9Pm",
      "metadata": {
        "id": "f6O5OFAwW9Pm"
      },
      "source": [
        "If we were naivly predicting the current value with the last value, we get an error over the entire dataset of approximately $2.347$. This is our naive benchmark to compare our model against."
      ]
    },
    {
      "cell_type": "markdown",
      "id": "YHm0GDHUmczY",
      "metadata": {
        "id": "YHm0GDHUmczY"
      },
      "source": [
        "Another method would be to predict the value of a given day by the average of all the other equal days in the dataset (e.g., to predict 18.08.2017, we take the average of all other 18.08. days in the dataset)."
      ]
    },
    {
      "cell_type": "code",
      "execution_count": 10,
      "id": "kOSNaRxAdoCA",
      "metadata": {
        "colab": {
          "base_uri": "https://localhost:8080/"
        },
        "id": "kOSNaRxAdoCA",
        "outputId": "5f68630a-fe88-4934-c25f-e620ea55f8bc"
      },
      "outputs": [
        {
          "output_type": "stream",
          "name": "stdout",
          "text": [
            "RMSE: 2033.3351259991568\n"
          ]
        }
      ],
      "source": [
        "# Initialize squared error\n",
        "se = 0\n",
        "\n",
        "# Get the total number of examples\n",
        "m = df.shape[0]\n",
        "\n",
        "for i in df.index:\n",
        "    day = i.day\n",
        "    month = i.month\n",
        "    year = i.year\n",
        "\n",
        "    # create a mask for given day but exclude the day we want to predict\n",
        "    mask = (df.index.day == day) & (df.index.month == month) & (df.index.year != year)\n",
        "\n",
        "    # Get value for current day and mean values of all the other same days in the dataset\n",
        "    y = df.loc[i, target]\n",
        "    y_hat = df.loc[mask, target].mean()\n",
        "\n",
        "    # Calculate the squared error\n",
        "    se += (y - y_hat)**2\n",
        "\n",
        "# Calculate mean squared error\n",
        "mse = se / m\n",
        "\n",
        "# Calcualte root mean squared error\n",
        "rmse = np.sqrt(mse)\n",
        "\n",
        "print(f\"RMSE: {rmse}\")"
      ]
    },
    {
      "cell_type": "markdown",
      "id": "SQ-iEzyHoc8M",
      "metadata": {
        "id": "SQ-iEzyHoc8M"
      },
      "source": [
        "With this second approach, of average all our previous values for the given day and using this as our forecast, we get an error over the entire dataset of approximately $2,033$.\n",
        "\n",
        "The error of this second naive approach is close to the first approach.\n",
        "Both approaches could be seen as human-level as this would be a typical approach of a human, to predict the value of any given day. A domain expert, who also looks at more data and e.g., compares also the temperatures, could come up with better estimates. However humans are typically not very good in accurately predicting complex time-series data. The expected Bayes error (least possible error) should therefore be much lower."
      ]
    },
    {
      "cell_type": "markdown",
      "id": "mO2Xt87cykEf",
      "metadata": {
        "id": "mO2Xt87cykEf"
      },
      "source": [
        "<a name=\"5.\"></a>\n",
        "# 5.&nbsp;Selecting features, splitting the data, standardizing\n",
        "[Content](#content)"
      ]
    },
    {
      "cell_type": "markdown",
      "source": [
        "First we select all the features we want to use for our training. During the EDA step, we already decided to exclude some features. However it can always be checked, if some of the features might not add a benefit."
      ],
      "metadata": {
        "id": "rryDm2ZBotqN"
      },
      "id": "rryDm2ZBotqN"
    },
    {
      "cell_type": "code",
      "source": [
        "# Higly correlated features have been removed (tavg, tmin, imputed_wpgt)\n",
        "# Features with no correlation have been removed (imputed_wdir, wdir_sin, wdir_cos)\n",
        "# Only all single couting stations are being removed\n",
        "\n",
        "features_date = [\n",
        "    'year',\n",
        "    'month',\n",
        "    'day',\n",
        "    'weekday',\n",
        "]\n",
        "\n",
        "features_sin_cos_transformation = [\n",
        "    'week_sin', 'week_cos',\n",
        "    'month_sin', 'month_cos',\n",
        "    'year_sin', 'year_cos',\n",
        "]\n",
        "\n",
        "features_weather = [\n",
        "    'tmax',\n",
        "    'prcp',\n",
        "    'imputed_snow',\n",
        "    'wspd',\n",
        "    'pres',\n",
        "    'tsun',\n",
        "    ]\n",
        "\n",
        "features_holidays_vacation = [\n",
        "    'holiday_1_weihnachtsfeiertag', 'holiday_2_weihnachtsfeiertag',\n",
        "    'holiday_christi_himmelfahrt', 'holiday_karfreitag', 'holiday_neujahr',\n",
        "    'holiday_ostermontag', 'holiday_pfingstmontag',\n",
        "    'holiday_reformationstag', 'holiday_tag_der_arbeit',\n",
        "    'holiday_tag_der_deutschen_einheit', 'transformed_vacation'\n",
        "    ]\n",
        "\n",
        "# Target is 'imputed_wilhelm_kaisen_brucke_ost'\n",
        "target = target"
      ],
      "metadata": {
        "id": "vZyJeABHuthG"
      },
      "id": "vZyJeABHuthG",
      "execution_count": 11,
      "outputs": []
    },
    {
      "cell_type": "code",
      "source": [
        "# Put the features togehter and check if feature vector is correct\n",
        "features = features_sin_cos_transformation + features_weather + features_holidays_vacation\n",
        "features"
      ],
      "metadata": {
        "id": "BiakefxsxJ7e",
        "outputId": "0c315ca5-844c-45b9-ab32-cc4986c20b78",
        "colab": {
          "base_uri": "https://localhost:8080/"
        }
      },
      "id": "BiakefxsxJ7e",
      "execution_count": 12,
      "outputs": [
        {
          "output_type": "execute_result",
          "data": {
            "text/plain": [
              "['week_sin',\n",
              " 'week_cos',\n",
              " 'month_sin',\n",
              " 'month_cos',\n",
              " 'year_sin',\n",
              " 'year_cos',\n",
              " 'tmax',\n",
              " 'prcp',\n",
              " 'imputed_snow',\n",
              " 'wspd',\n",
              " 'pres',\n",
              " 'tsun',\n",
              " 'holiday_1_weihnachtsfeiertag',\n",
              " 'holiday_2_weihnachtsfeiertag',\n",
              " 'holiday_christi_himmelfahrt',\n",
              " 'holiday_karfreitag',\n",
              " 'holiday_neujahr',\n",
              " 'holiday_ostermontag',\n",
              " 'holiday_pfingstmontag',\n",
              " 'holiday_reformationstag',\n",
              " 'holiday_tag_der_arbeit',\n",
              " 'holiday_tag_der_deutschen_einheit',\n",
              " 'transformed_vacation']"
            ]
          },
          "metadata": {},
          "execution_count": 12
        }
      ]
    },
    {
      "cell_type": "markdown",
      "source": [
        "Now, we will split the data into a training set, a dev set and a test set.\n",
        "\n",
        "When splitting into train, dev and test set, we will not shuffle the data. This ensures that the validation results are more realistic since they are being evaluated on the data collected after the model was trained. Otherwise we would introduce a \"leakage error\" into our data."
      ],
      "metadata": {
        "id": "XH_6MbWERL_5"
      },
      "id": "XH_6MbWERL_5"
    },
    {
      "cell_type": "code",
      "execution_count": 13,
      "id": "nxeQ39ojh2Y-",
      "metadata": {
        "colab": {
          "base_uri": "https://localhost:8080/"
        },
        "id": "nxeQ39ojh2Y-",
        "outputId": "46dd2077-7de2-4297-e641-f0f519dc9b8a"
      },
      "outputs": [
        {
          "output_type": "stream",
          "name": "stdout",
          "text": [
            "X_train:  (2921, 23) y_train:  (2921,)\n",
            "X_train first day:  2013-01-01 and last day:  2020-12-30\n",
            "y_train first day:  2013-01-01 and last day:  2020-12-30\n",
            "X_dev:  (365, 23) y_dev:  (365,)\n",
            "X_dev first day:  2020-12-31 and last day:  2021-12-30\n",
            "y_dev first day:  2020-12-31 and last day:  2021-12-30\n",
            "X_test:  (366, 23) y_test:  (366,)\n",
            "X_test first day:  2021-12-31 and last day:  2022-12-31\n",
            "y_test first day:  2021-12-31 and last day:  2022-12-31\n"
          ]
        }
      ],
      "source": [
        "# Split the data into training and dev sets\n",
        "# We set shuffle to False\n",
        "\n",
        "# Split full dataset 80/20 (~8 years to 2 years)\n",
        "X_train, X_temp, y_train, y_temp = train_test_split(df[features], df[target],\n",
        "                                                    test_size=0.2, shuffle=False, random_state=0)\n",
        "# Split smaller dataset again 50/50 (~1 year each)\n",
        "X_dev, X_test, y_dev, y_test = train_test_split(X_temp, y_temp,\n",
        "                                                    test_size=0.5, shuffle=False, random_state=0)\n",
        "\n",
        "# Check the beginning end of each dataset\n",
        "print(\"X_train: \", X_train[features].shape, \"y_train: \", y_train.shape)\n",
        "print(\"X_train first day: \", X_train.index.date[0], \"and last day: \", X_train.index.date[-1])\n",
        "print(\"y_train first day: \", y_train.index.date[0], \"and last day: \", y_train.index.date[-1])\n",
        "print(\"X_dev: \", X_dev[features].shape, \"y_dev: \", y_dev.shape)\n",
        "print(\"X_dev first day: \", X_dev.index.date[0], \"and last day: \", X_dev.index.date[-1])\n",
        "print(\"y_dev first day: \", y_dev.index.date[0], \"and last day: \", y_dev.index.date[-1])\n",
        "print(\"X_test: \", X_test[features].shape, \"y_test: \", y_test.shape)\n",
        "print(\"X_test first day: \", X_test.index.date[0], \"and last day: \", X_test.index.date[-1])\n",
        "print(\"y_test first day: \", y_test.index.date[0], \"and last day: \", y_test.index.date[-1])"
      ]
    },
    {
      "cell_type": "markdown",
      "id": "a1GVZoPCdit-",
      "metadata": {
        "id": "a1GVZoPCdit-"
      },
      "source": [
        "Finally, we will standardize our dataset. Standarization will generally improve learning speed of the models and can help to improve the accuarcy of the model."
      ]
    },
    {
      "cell_type": "code",
      "execution_count": 14,
      "metadata": {
        "id": "ZwsuKeAWsUr8"
      },
      "outputs": [],
      "source": [
        "# Standardize and fit to the training set only\n",
        "scaler = StandardScaler()\n",
        "X_train_scaled = scaler.fit_transform(X_train)\n",
        "\n",
        "# Apply the same standardization to the dev set\n",
        "X_dev_scaled = scaler.transform(X_dev)\n",
        "\n",
        "# Apply the same standardization to the test set\n",
        "X_test_scaled = scaler.transform(X_test)"
      ],
      "id": "ZwsuKeAWsUr8"
    },
    {
      "cell_type": "markdown",
      "id": "5HqwjOgkxauH",
      "metadata": {
        "id": "5HqwjOgkxauH"
      },
      "source": [
        "<a name=\"6.\"></a>\n",
        "# 6.&nbsp;Training machine learning algorithms\n",
        "[Content](#content)\n",
        "\n",
        "We are going to train 1 shallow machine learning algorithm and 2 deep machine learning algorithms to be able to compare performances. Those are:\n",
        "\n",
        "* XGBoost\n",
        "* Multilayer Perceptron (MLP -- standard NN)\n",
        "* Recurrent Neural Network (RNN)"
      ]
    },
    {
      "cell_type": "markdown",
      "id": "9b154c25",
      "metadata": {
        "id": "9b154c25"
      },
      "source": [
        "<a name=\"6.1.\"></a>\n",
        "## 6.1. Consideration regarding sequential data\n",
        "\n",
        "[Content](#content)\n",
        "\n",
        "In contrast to RNNs where the algorithm takes the datapoints of previous timesteps into account, XGBoost and MLPs do not have direct access to the sequential data of previous time steps.\n",
        "Those algorithms have only indirect knowledge via the learned model parameters. RNNs however directly include the previous timestep for learning the parameters of the current timestep.\n",
        "\n",
        "Therefore in step of feature engineering, we could add features (e.g., the amount of cyclers of the previous three days) to the dataset. This was tested but only had marginal improvements.\n",
        "\n",
        "The dataset consists of timeseries data but it does not appear to be overly depended on the previous datapoints. This means, that the amount of cyclers on a previous day, has no direct impact on today. E.g., if the previous day was a sunny and warm Sunday which caused many people to go outside and ride bicycle, it has no huge impact on today. Much more relevant would be that today is a Monday following the Sunday (which is already encoded in the features) and what the weather is like today and not what is was yesterday.  \n",
        "\n",
        "Therefore we will not include those features. The function to create those features can be found below nevertheless and can be tested."
      ]
    },
    {
      "cell_type": "code",
      "execution_count": null,
      "id": "a03f3499",
      "metadata": {
        "id": "a03f3499"
      },
      "outputs": [],
      "source": [
        "# utils\n",
        "def create_lag_features(df, feature, num_lag=3):\n",
        "    \"\"\"\n",
        "        Function that takes a dataframe, feature and num_lag and return the\n",
        "        the dataframe with n=num_lag new columns and values shifted by num_lag\n",
        "\n",
        "        Args:\n",
        "            df (pandas.DataFrame): datafrane to be changed\n",
        "            feature (str): name of the feature to be changed\n",
        "            num_lag (int): number of timesteps (lags)\n",
        "\n",
        "    \"\"\"\n",
        "\n",
        "    num_lag = num_lag\n",
        "\n",
        "    for i in range(1, num_lag+1):\n",
        "\n",
        "        name_lag_feature = f\"{i}_lag_{feature}\"\n",
        "        df[name_lag_feature] = df[feature].shift(i)\n",
        "\n",
        "#create_lag_features(df, target, num_lag=3)\n",
        "#df[[target, f\"1_lag_{target}\", f\"2_lag_{target}\", f\"3_lag_{target}\"]].head()"
      ]
    },
    {
      "cell_type": "markdown",
      "metadata": {
        "id": "foy0LFufoDlk"
      },
      "source": [
        "<a name=\"6.2.\"></a>\n",
        "## 6.2. XGBoost\n",
        "[Content](#content)"
      ],
      "id": "foy0LFufoDlk"
    },
    {
      "cell_type": "markdown",
      "id": "amR72D-bg9Ea",
      "metadata": {
        "id": "amR72D-bg9Ea"
      },
      "source": [
        "<a name=\"6.2.1\"></a>\n",
        "### 6.2.1 Using GridSeachCV to select the optimal parameters\n",
        "[Content](#content)"
      ]
    },
    {
      "cell_type": "markdown",
      "source": [
        "We will use `GridSearchCV` to select optimal parameters among the preselected ranges for the training data. Furthermore we will create our own scoring metric, to evaluate the performance of the parameters found with `GridSearchCV`.\n",
        "\n",
        "`GridSearchCV` is using `KFold` for regression problems as default. However `KFold` would split the training data in such a way, that later data will be evaluated against earlier data, introducing `leackage error`.\n",
        "Therefore we do not use the default, but create splits with `TimeSeriesSplit` and pass this to `GridSearchCV`."
      ],
      "metadata": {
        "id": "BOk23hijr6Rb"
      },
      "id": "BOk23hijr6Rb"
    },
    {
      "cell_type": "code",
      "source": [
        "# Create custom function for evaluating GridSearchCV\n",
        "def custom_rmse(y, y_hat):\n",
        "    return np.sqrt(mean_squared_error(y, y_hat))\n",
        "\n",
        "# Create the scoring object using the custom scoring function\n",
        "custom_scorer_rmse = make_scorer(custom_rmse)"
      ],
      "metadata": {
        "id": "TB-c62B8Je2b"
      },
      "id": "TB-c62B8Je2b",
      "execution_count": 15,
      "outputs": []
    },
    {
      "cell_type": "code",
      "execution_count": null,
      "metadata": {
        "id": "dU0g5nDdCaX4"
      },
      "outputs": [],
      "source": [
        "params = {\n",
        "    'n_estimators': [100],\n",
        "    'learning_rate': [0.1, 0.05],\n",
        "    'max_depth': [4, 6, 8],                 # max. depth of tree\n",
        "    'reg_alpha': [1.0, 5.0, 10.0, 15.0],    # L1 regularization\n",
        "    'reg_lambda': [1.0, 5.0, 10.0, 15.0],   # L2 regularization#\n",
        "    'colsample_bytree': [0.8, 0.9],         # subsample ratio of columns\n",
        "}\n",
        "\"\"\"\n",
        "'min_child_weight': [3, 6, 12],     # min. weight for splitting into new node\n",
        "    'colsample_bytree': [0.7, 0.8],     # subsample ratio of columns\n",
        "\"\"\"\n",
        "\n",
        "#utils\n",
        "def xgb_parameter_grid_search(X, y, params, custom_scorer):\n",
        "    \"\"\"\n",
        "        Function that uses GridCV Search to search for the best paramters\n",
        "        for fitting a XGB regressor model using TimeSeriesSplit\n",
        "        Args:\n",
        "            X (ndarray): features to be split\n",
        "            y (ndarray): targets to be split\n",
        "            params (dict): searchable parameter\n",
        "            custom_scorer (sklearn.metrics.make_scorer): custom scorer\n",
        "\n",
        "        Return:\n",
        "            model, score, params (tupel): best found model, with best score and\n",
        "                                            params\n",
        "    \"\"\"\n",
        "\n",
        "    def creating_splits(X ,num_splits=4):\n",
        "        \"\"\"\n",
        "            Function creates n consecutive split with TimeSeriesSplit\n",
        "            Args:\n",
        "                X (ndarray): data to be split\n",
        "                num_splits (int): amount of splits\n",
        "\n",
        "            Return:\n",
        "                splits (ndarray): array of tuples with index for train and test\n",
        "        \"\"\"\n",
        "        # Getting time series splits using TimeSeriesSplit\n",
        "        tscv = TimeSeriesSplit(n_splits = num_splits)\n",
        "        splits = []\n",
        "\n",
        "        for i, (train_index, test_index) in enumerate(tscv.split(X)):\n",
        "            splits.append((train_index, test_index))\n",
        "\n",
        "        return splits\n",
        "\n",
        "    # Create consecutive splits\n",
        "    splits = creating_splits(X_train_scaled ,num_splits=4)\n",
        "\n",
        "    # Define the estimator\n",
        "    xg_reg = xgb.XGBRegressor(objective='reg:squarederror', random_state=0)\n",
        "\n",
        "    # Define GridSearch and fit GridSearch on the training data with the custom scorer and custom splits\n",
        "    grid_search = GridSearchCV(xg_reg, param_grid=params, cv=splits, scoring=custom_scorer_rmse, n_jobs=-1, verbose=2)\n",
        "    grid_search.fit(X, y)\n",
        "\n",
        "    return (grid_search.best_estimator_, grid_search.best_score_, grid_search.best_params_)\n",
        "\n",
        "#model, score, params = xgb_parameter_grid_search(X_train_scaled, y_train, params, custom_scorer_rmse)\n",
        "#print(model, score, params)"
      ],
      "id": "dU0g5nDdCaX4"
    },
    {
      "cell_type": "markdown",
      "metadata": {
        "id": "XgkmuNZ0sCn1"
      },
      "source": [
        "<a name=\"6.2.2\"></a>\n",
        "### 6.2.2 Train the model and evaluate\n",
        "[Content](#content)"
      ],
      "id": "XgkmuNZ0sCn1"
    },
    {
      "cell_type": "code",
      "execution_count": 32,
      "id": "u9DKLFqkmIRm",
      "metadata": {
        "colab": {
          "base_uri": "https://localhost:8080/"
        },
        "id": "u9DKLFqkmIRm",
        "outputId": "feeb1a2a-4b0f-4a2d-f4a8-b67733381ed2"
      },
      "outputs": [
        {
          "output_type": "stream",
          "name": "stdout",
          "text": [
            "Train RMSE: 820.721704\n",
            "Dev RMSE: 1544.159983\n",
            "Test RMSE: 1400.010241\n"
          ]
        }
      ],
      "source": [
        "# Build the XGBoost regressor model with selected hyper parameters\n",
        "xg_reg = xgb.XGBRegressor(objective ='reg:squarederror', reg_alpha = 10.0, reg_lambda = 1.0, learning_rate = 0.1)\n",
        "\n",
        "\"\"\", colsample_bytree = 0.5, learning_rate = 0.05,\n",
        "                          max_depth = 8, n_estimators = 1000, reg_alpha = 10.0, reg_lambda = 40.0,\n",
        "                          subsample = 0.8, min_child_weight=5\"\"\"\n",
        "\n",
        "#{'learning_rate': 0.05, 'max_depth': 7, 'n_estimators': 1000, 'reg_alpha': 5.0, 'reg_lambda': 10.0}\n",
        "# best reg_alpha = 10.0, reg_lambda = 1.0, learning_rate = 0.1)\n",
        "#'colsample_bytree': 0.9, 'learning_rate': 0.05, 'max_depth': 8, 'n_estimators': 1000, 'reg_alpha': 1.0, 'reg_lambda': 15.0\n",
        "xg_reg.fit(X_train_scaled, y_train, eval_set=[(X_train_scaled, y_train), (X_dev_scaled, y_dev)], verbose=False)\n",
        "\n",
        "# Evaluate the model's performance using RMSE\n",
        "\n",
        "# Training set\n",
        "# Predict on the train set\n",
        "y_train_hat = xg_reg.predict(X_train_scaled)\n",
        "rmse_train = custom_rmse(y_train, y_train_hat)\n",
        "print(\"Train RMSE: %f\" % (rmse_train))\n",
        "\n",
        "# Dev set\n",
        "# Predict on the dev set\n",
        "y_dev_hat = xg_reg.predict(X_dev_scaled)\n",
        "rmse_dev = custom_rmse(y_dev, y_dev_hat)\n",
        "print(\"Dev RMSE: %f\" % (rmse_dev))\n",
        "\n",
        "# Test set\n",
        "# Predict on the test set\n",
        "y_test_hat = xg_reg.predict(X_test_scaled)\n",
        "rmse_test = custom_rmse(y_test, y_test_hat)\n",
        "print(\"Test RMSE: %f\" % (rmse_test))"
      ]
    },
    {
      "cell_type": "code",
      "source": [
        "# Retrieve performance metrics\n",
        "results = xg_reg.evals_result()\n",
        "\n",
        "# Create the array for the x axis, starting from 1\n",
        "n_trees = np.arange(0, len(results[\"validation_0\"][\"rmse\"]))\n",
        "train_rmse = results[\"validation_0\"][\"rmse\"]\n",
        "dev_rmse = results[\"validation_1\"][\"rmse\"]\n",
        "\n",
        "# Create a line chart with two lines using Plotly Express\n",
        "fig = px.line(title='train RMSE vs. dev RMSE')\n",
        "fig.add_scatter(x=n_trees, y=train_rmse, mode='lines+markers', name='Train RMSE', line=dict(color='red'))\n",
        "fig.add_scatter(x=n_trees, y=dev_rmse, mode='lines+markers', name='Dev RMSE', line=dict(color='blue'))\n",
        "\n",
        "\n",
        "# Set chart title and axis labels\n",
        "fig.update_layout(\n",
        "    xaxis_title='Number of trees',\n",
        "    yaxis_title='RMSE'\n",
        ")\n",
        "\n",
        "# Show the chart\n",
        "fig.show()"
      ],
      "metadata": {
        "id": "0aU9pLkkWTWj",
        "outputId": "22043640-c9a9-4876-ee72-ce0e38f2c4df",
        "colab": {
          "base_uri": "https://localhost:8080/",
          "height": 542
        }
      },
      "id": "0aU9pLkkWTWj",
      "execution_count": 33,
      "outputs": [
        {
          "output_type": "display_data",
          "data": {
            "text/html": [
              "<html>\n",
              "<head><meta charset=\"utf-8\" /></head>\n",
              "<body>\n",
              "    <div>            <script src=\"https://cdnjs.cloudflare.com/ajax/libs/mathjax/2.7.5/MathJax.js?config=TeX-AMS-MML_SVG\"></script><script type=\"text/javascript\">if (window.MathJax && window.MathJax.Hub && window.MathJax.Hub.Config) {window.MathJax.Hub.Config({SVG: {font: \"STIX-Web\"}});}</script>                <script type=\"text/javascript\">window.PlotlyConfig = {MathJaxConfig: 'local'};</script>\n",
              "        <script charset=\"utf-8\" src=\"https://cdn.plot.ly/plotly-2.24.1.min.js\"></script>                <div id=\"bffae965-db02-46ad-a832-fe54e988a422\" class=\"plotly-graph-div\" style=\"height:525px; width:100%;\"></div>            <script type=\"text/javascript\">                                    window.PLOTLYENV=window.PLOTLYENV || {};                                    if (document.getElementById(\"bffae965-db02-46ad-a832-fe54e988a422\")) {                    Plotly.newPlot(                        \"bffae965-db02-46ad-a832-fe54e988a422\",                        [{\"hovertemplate\":\"\\u003cextra\\u003e\\u003c\\u002fextra\\u003e\",\"legendgroup\":\"\",\"line\":{\"color\":\"#636efa\",\"dash\":\"solid\"},\"marker\":{\"symbol\":\"circle\"},\"mode\":\"lines\",\"name\":\"\",\"orientation\":\"v\",\"showlegend\":false,\"xaxis\":\"x\",\"yaxis\":\"y\",\"type\":\"scatter\"},{\"line\":{\"color\":\"red\"},\"mode\":\"lines+markers\",\"name\":\"Train RMSE\",\"x\":[0,1,2,3,4,5,6,7,8,9,10,11,12,13,14,15,16,17,18,19,20,21,22,23,24,25,26,27,28,29,30,31,32,33,34,35,36,37,38,39,40,41,42,43,44,45,46,47,48,49,50,51,52,53,54,55,56,57,58,59,60,61,62,63,64,65,66,67,68,69,70,71,72,73,74,75,76,77,78,79,80,81,82,83,84,85,86,87,88,89,90,91,92,93,94,95,96,97,98,99],\"y\":[5973.515457938867,5414.6464857656365,4913.413021175366,4464.678431920842,4064.116681668575,3705.0556864104824,3384.672781764972,3099.6700397623663,2845.4207926280274,2619.5727890423937,2419.549240591201,2241.6915258126837,2084.7792272575275,1947.3402355797039,1826.1604773153422,1718.8401539398585,1626.3985763717683,1544.721808931656,1473.0186008824328,1413.4072456123422,1361.471178667137,1315.4048009569767,1275.483590039619,1241.3536879178143,1208.0899535156764,1181.4868769684886,1159.3498839689075,1140.7678073395844,1124.24716079651,1105.0410586474254,1093.0643006101031,1076.613711931029,1067.4620865361674,1054.1783422193982,1048.602068201958,1037.88842003808,1030.4282863501617,1027.018200731072,1018.9460805977656,1007.4827546279596,1002.6258998896666,1000.8210226448298,997.8132305879063,988.496763740472,987.1579489564862,984.8945705383708,984.0041557417002,974.7976510286117,971.5367477959708,970.0213249319704,965.8863108606314,963.9286061153015,962.5888740605086,961.4414003729859,954.1145900571138,949.9142326317915,946.405282803201,945.5281947169609,944.6465178106013,942.4155812512396,941.9878591359405,940.7382824861681,938.0854048944093,936.7955880802168,928.552704081504,927.5591553319063,925.5408427464683,924.0351884887228,923.1894646379192,914.8708098470738,909.695031003212,902.7703159550907,902.172427010031,901.6986004522913,900.6894175976533,898.2791569698022,892.537648574987,890.7096073833039,890.4894315517294,888.9364880459065,880.9702885477249,874.3691955149366,868.928312543048,865.7113131609646,863.85248108831,862.3382804625817,856.433585350577,855.580673714603,853.2109541473519,850.6436491060834,849.580304690615,846.4730675209084,844.9755991052332,839.268952202741,835.2345424343924,830.7187543908502,828.0280222807255,823.7058996302873,822.4987756928447,820.7217041052818],\"type\":\"scatter\"},{\"line\":{\"color\":\"blue\"},\"mode\":\"lines+markers\",\"name\":\"Dev RMSE\",\"x\":[0,1,2,3,4,5,6,7,8,9,10,11,12,13,14,15,16,17,18,19,20,21,22,23,24,25,26,27,28,29,30,31,32,33,34,35,36,37,38,39,40,41,42,43,44,45,46,47,48,49,50,51,52,53,54,55,56,57,58,59,60,61,62,63,64,65,66,67,68,69,70,71,72,73,74,75,76,77,78,79,80,81,82,83,84,85,86,87,88,89,90,91,92,93,94,95,96,97,98,99],\"y\":[6037.996223335982,5498.922972059475,5009.828651113332,4581.826390413586,4198.974391742651,3856.346653425691,3550.8478311390777,3283.530097837161,3047.4349788527247,2839.8828160915095,2655.8798305512382,2494.8845300942994,2359.2314558609914,2246.113338827326,2144.5899543403957,2057.192769763158,1984.390327765118,1920.304026297061,1859.9788305411162,1813.8644727446592,1774.9688915765714,1738.547456288323,1709.7162701352688,1683.2379908612133,1656.9431853513279,1640.306849497739,1626.6233365503867,1615.09407833391,1603.7824562690332,1594.2259510613521,1587.06084830035,1581.4967329796323,1574.6043439930527,1571.1102364993094,1568.5433752804104,1565.6272468865661,1563.0694648521962,1560.1424190162609,1559.10077278975,1556.5852902240958,1554.8724527870086,1554.4074259727988,1552.9209523033844,1556.601602785349,1555.7774314738044,1555.6097049795844,1555.0876444288442,1551.4221675465167,1551.3471327518087,1551.0584586780483,1552.5587950042252,1552.9519055210033,1550.7635552771224,1550.0300571507066,1545.5408195449845,1547.6560119111296,1547.7931185413156,1548.1101431219015,1547.384030236583,1548.2285673988908,1547.8558235587602,1549.2296273416687,1547.986693102172,1547.7873459151801,1546.4023473357756,1546.4008008794333,1546.6198583245236,1547.5920010325422,1547.5680986092234,1550.2299224357528,1550.190049116026,1550.1821173335425,1550.6451501663273,1550.5326131393756,1550.8275376296374,1551.2176159290816,1552.8651054801946,1552.4738457742249,1552.4015874156182,1551.450305814691,1550.083792260067,1548.0473792593505,1548.913321568037,1548.606648608181,1547.789328783759,1546.4064030890502,1545.5447426633448,1545.3438139353452,1544.9429035752644,1545.3858505279165,1545.7946105294814,1545.4728607195855,1545.1708977470928,1543.7070095234556,1542.6702813117238,1543.2538373396021,1542.7472492842403,1542.7684580316338,1543.9409528453434,1544.159980384066],\"type\":\"scatter\"}],                        {\"template\":{\"data\":{\"histogram2dcontour\":[{\"type\":\"histogram2dcontour\",\"colorbar\":{\"outlinewidth\":0,\"ticks\":\"\"},\"colorscale\":[[0.0,\"#0d0887\"],[0.1111111111111111,\"#46039f\"],[0.2222222222222222,\"#7201a8\"],[0.3333333333333333,\"#9c179e\"],[0.4444444444444444,\"#bd3786\"],[0.5555555555555556,\"#d8576b\"],[0.6666666666666666,\"#ed7953\"],[0.7777777777777778,\"#fb9f3a\"],[0.8888888888888888,\"#fdca26\"],[1.0,\"#f0f921\"]]}],\"choropleth\":[{\"type\":\"choropleth\",\"colorbar\":{\"outlinewidth\":0,\"ticks\":\"\"}}],\"histogram2d\":[{\"type\":\"histogram2d\",\"colorbar\":{\"outlinewidth\":0,\"ticks\":\"\"},\"colorscale\":[[0.0,\"#0d0887\"],[0.1111111111111111,\"#46039f\"],[0.2222222222222222,\"#7201a8\"],[0.3333333333333333,\"#9c179e\"],[0.4444444444444444,\"#bd3786\"],[0.5555555555555556,\"#d8576b\"],[0.6666666666666666,\"#ed7953\"],[0.7777777777777778,\"#fb9f3a\"],[0.8888888888888888,\"#fdca26\"],[1.0,\"#f0f921\"]]}],\"heatmap\":[{\"type\":\"heatmap\",\"colorbar\":{\"outlinewidth\":0,\"ticks\":\"\"},\"colorscale\":[[0.0,\"#0d0887\"],[0.1111111111111111,\"#46039f\"],[0.2222222222222222,\"#7201a8\"],[0.3333333333333333,\"#9c179e\"],[0.4444444444444444,\"#bd3786\"],[0.5555555555555556,\"#d8576b\"],[0.6666666666666666,\"#ed7953\"],[0.7777777777777778,\"#fb9f3a\"],[0.8888888888888888,\"#fdca26\"],[1.0,\"#f0f921\"]]}],\"heatmapgl\":[{\"type\":\"heatmapgl\",\"colorbar\":{\"outlinewidth\":0,\"ticks\":\"\"},\"colorscale\":[[0.0,\"#0d0887\"],[0.1111111111111111,\"#46039f\"],[0.2222222222222222,\"#7201a8\"],[0.3333333333333333,\"#9c179e\"],[0.4444444444444444,\"#bd3786\"],[0.5555555555555556,\"#d8576b\"],[0.6666666666666666,\"#ed7953\"],[0.7777777777777778,\"#fb9f3a\"],[0.8888888888888888,\"#fdca26\"],[1.0,\"#f0f921\"]]}],\"contourcarpet\":[{\"type\":\"contourcarpet\",\"colorbar\":{\"outlinewidth\":0,\"ticks\":\"\"}}],\"contour\":[{\"type\":\"contour\",\"colorbar\":{\"outlinewidth\":0,\"ticks\":\"\"},\"colorscale\":[[0.0,\"#0d0887\"],[0.1111111111111111,\"#46039f\"],[0.2222222222222222,\"#7201a8\"],[0.3333333333333333,\"#9c179e\"],[0.4444444444444444,\"#bd3786\"],[0.5555555555555556,\"#d8576b\"],[0.6666666666666666,\"#ed7953\"],[0.7777777777777778,\"#fb9f3a\"],[0.8888888888888888,\"#fdca26\"],[1.0,\"#f0f921\"]]}],\"surface\":[{\"type\":\"surface\",\"colorbar\":{\"outlinewidth\":0,\"ticks\":\"\"},\"colorscale\":[[0.0,\"#0d0887\"],[0.1111111111111111,\"#46039f\"],[0.2222222222222222,\"#7201a8\"],[0.3333333333333333,\"#9c179e\"],[0.4444444444444444,\"#bd3786\"],[0.5555555555555556,\"#d8576b\"],[0.6666666666666666,\"#ed7953\"],[0.7777777777777778,\"#fb9f3a\"],[0.8888888888888888,\"#fdca26\"],[1.0,\"#f0f921\"]]}],\"mesh3d\":[{\"type\":\"mesh3d\",\"colorbar\":{\"outlinewidth\":0,\"ticks\":\"\"}}],\"scatter\":[{\"fillpattern\":{\"fillmode\":\"overlay\",\"size\":10,\"solidity\":0.2},\"type\":\"scatter\"}],\"parcoords\":[{\"type\":\"parcoords\",\"line\":{\"colorbar\":{\"outlinewidth\":0,\"ticks\":\"\"}}}],\"scatterpolargl\":[{\"type\":\"scatterpolargl\",\"marker\":{\"colorbar\":{\"outlinewidth\":0,\"ticks\":\"\"}}}],\"bar\":[{\"error_x\":{\"color\":\"#2a3f5f\"},\"error_y\":{\"color\":\"#2a3f5f\"},\"marker\":{\"line\":{\"color\":\"#E5ECF6\",\"width\":0.5},\"pattern\":{\"fillmode\":\"overlay\",\"size\":10,\"solidity\":0.2}},\"type\":\"bar\"}],\"scattergeo\":[{\"type\":\"scattergeo\",\"marker\":{\"colorbar\":{\"outlinewidth\":0,\"ticks\":\"\"}}}],\"scatterpolar\":[{\"type\":\"scatterpolar\",\"marker\":{\"colorbar\":{\"outlinewidth\":0,\"ticks\":\"\"}}}],\"histogram\":[{\"marker\":{\"pattern\":{\"fillmode\":\"overlay\",\"size\":10,\"solidity\":0.2}},\"type\":\"histogram\"}],\"scattergl\":[{\"type\":\"scattergl\",\"marker\":{\"colorbar\":{\"outlinewidth\":0,\"ticks\":\"\"}}}],\"scatter3d\":[{\"type\":\"scatter3d\",\"line\":{\"colorbar\":{\"outlinewidth\":0,\"ticks\":\"\"}},\"marker\":{\"colorbar\":{\"outlinewidth\":0,\"ticks\":\"\"}}}],\"scattermapbox\":[{\"type\":\"scattermapbox\",\"marker\":{\"colorbar\":{\"outlinewidth\":0,\"ticks\":\"\"}}}],\"scatterternary\":[{\"type\":\"scatterternary\",\"marker\":{\"colorbar\":{\"outlinewidth\":0,\"ticks\":\"\"}}}],\"scattercarpet\":[{\"type\":\"scattercarpet\",\"marker\":{\"colorbar\":{\"outlinewidth\":0,\"ticks\":\"\"}}}],\"carpet\":[{\"aaxis\":{\"endlinecolor\":\"#2a3f5f\",\"gridcolor\":\"white\",\"linecolor\":\"white\",\"minorgridcolor\":\"white\",\"startlinecolor\":\"#2a3f5f\"},\"baxis\":{\"endlinecolor\":\"#2a3f5f\",\"gridcolor\":\"white\",\"linecolor\":\"white\",\"minorgridcolor\":\"white\",\"startlinecolor\":\"#2a3f5f\"},\"type\":\"carpet\"}],\"table\":[{\"cells\":{\"fill\":{\"color\":\"#EBF0F8\"},\"line\":{\"color\":\"white\"}},\"header\":{\"fill\":{\"color\":\"#C8D4E3\"},\"line\":{\"color\":\"white\"}},\"type\":\"table\"}],\"barpolar\":[{\"marker\":{\"line\":{\"color\":\"#E5ECF6\",\"width\":0.5},\"pattern\":{\"fillmode\":\"overlay\",\"size\":10,\"solidity\":0.2}},\"type\":\"barpolar\"}],\"pie\":[{\"automargin\":true,\"type\":\"pie\"}]},\"layout\":{\"autotypenumbers\":\"strict\",\"colorway\":[\"#636efa\",\"#EF553B\",\"#00cc96\",\"#ab63fa\",\"#FFA15A\",\"#19d3f3\",\"#FF6692\",\"#B6E880\",\"#FF97FF\",\"#FECB52\"],\"font\":{\"color\":\"#2a3f5f\"},\"hovermode\":\"closest\",\"hoverlabel\":{\"align\":\"left\"},\"paper_bgcolor\":\"white\",\"plot_bgcolor\":\"#E5ECF6\",\"polar\":{\"bgcolor\":\"#E5ECF6\",\"angularaxis\":{\"gridcolor\":\"white\",\"linecolor\":\"white\",\"ticks\":\"\"},\"radialaxis\":{\"gridcolor\":\"white\",\"linecolor\":\"white\",\"ticks\":\"\"}},\"ternary\":{\"bgcolor\":\"#E5ECF6\",\"aaxis\":{\"gridcolor\":\"white\",\"linecolor\":\"white\",\"ticks\":\"\"},\"baxis\":{\"gridcolor\":\"white\",\"linecolor\":\"white\",\"ticks\":\"\"},\"caxis\":{\"gridcolor\":\"white\",\"linecolor\":\"white\",\"ticks\":\"\"}},\"coloraxis\":{\"colorbar\":{\"outlinewidth\":0,\"ticks\":\"\"}},\"colorscale\":{\"sequential\":[[0.0,\"#0d0887\"],[0.1111111111111111,\"#46039f\"],[0.2222222222222222,\"#7201a8\"],[0.3333333333333333,\"#9c179e\"],[0.4444444444444444,\"#bd3786\"],[0.5555555555555556,\"#d8576b\"],[0.6666666666666666,\"#ed7953\"],[0.7777777777777778,\"#fb9f3a\"],[0.8888888888888888,\"#fdca26\"],[1.0,\"#f0f921\"]],\"sequentialminus\":[[0.0,\"#0d0887\"],[0.1111111111111111,\"#46039f\"],[0.2222222222222222,\"#7201a8\"],[0.3333333333333333,\"#9c179e\"],[0.4444444444444444,\"#bd3786\"],[0.5555555555555556,\"#d8576b\"],[0.6666666666666666,\"#ed7953\"],[0.7777777777777778,\"#fb9f3a\"],[0.8888888888888888,\"#fdca26\"],[1.0,\"#f0f921\"]],\"diverging\":[[0,\"#8e0152\"],[0.1,\"#c51b7d\"],[0.2,\"#de77ae\"],[0.3,\"#f1b6da\"],[0.4,\"#fde0ef\"],[0.5,\"#f7f7f7\"],[0.6,\"#e6f5d0\"],[0.7,\"#b8e186\"],[0.8,\"#7fbc41\"],[0.9,\"#4d9221\"],[1,\"#276419\"]]},\"xaxis\":{\"gridcolor\":\"white\",\"linecolor\":\"white\",\"ticks\":\"\",\"title\":{\"standoff\":15},\"zerolinecolor\":\"white\",\"automargin\":true,\"zerolinewidth\":2},\"yaxis\":{\"gridcolor\":\"white\",\"linecolor\":\"white\",\"ticks\":\"\",\"title\":{\"standoff\":15},\"zerolinecolor\":\"white\",\"automargin\":true,\"zerolinewidth\":2},\"scene\":{\"xaxis\":{\"backgroundcolor\":\"#E5ECF6\",\"gridcolor\":\"white\",\"linecolor\":\"white\",\"showbackground\":true,\"ticks\":\"\",\"zerolinecolor\":\"white\",\"gridwidth\":2},\"yaxis\":{\"backgroundcolor\":\"#E5ECF6\",\"gridcolor\":\"white\",\"linecolor\":\"white\",\"showbackground\":true,\"ticks\":\"\",\"zerolinecolor\":\"white\",\"gridwidth\":2},\"zaxis\":{\"backgroundcolor\":\"#E5ECF6\",\"gridcolor\":\"white\",\"linecolor\":\"white\",\"showbackground\":true,\"ticks\":\"\",\"zerolinecolor\":\"white\",\"gridwidth\":2}},\"shapedefaults\":{\"line\":{\"color\":\"#2a3f5f\"}},\"annotationdefaults\":{\"arrowcolor\":\"#2a3f5f\",\"arrowhead\":0,\"arrowwidth\":1},\"geo\":{\"bgcolor\":\"white\",\"landcolor\":\"#E5ECF6\",\"subunitcolor\":\"white\",\"showland\":true,\"showlakes\":true,\"lakecolor\":\"white\"},\"title\":{\"x\":0.05},\"mapbox\":{\"style\":\"light\"}}},\"xaxis\":{\"anchor\":\"y\",\"domain\":[0.0,1.0],\"title\":{\"text\":\"Number of trees\"}},\"yaxis\":{\"anchor\":\"x\",\"domain\":[0.0,1.0],\"title\":{\"text\":\"RMSE\"}},\"legend\":{\"tracegroupgap\":0},\"title\":{\"text\":\"train RMSE vs. dev RMSE\"}},                        {\"responsive\": true}                    ).then(function(){\n",
              "                            \n",
              "var gd = document.getElementById('bffae965-db02-46ad-a832-fe54e988a422');\n",
              "var x = new MutationObserver(function (mutations, observer) {{\n",
              "        var display = window.getComputedStyle(gd).display;\n",
              "        if (!display || display === 'none') {{\n",
              "            console.log([gd, 'removed!']);\n",
              "            Plotly.purge(gd);\n",
              "            observer.disconnect();\n",
              "        }}\n",
              "}});\n",
              "\n",
              "// Listen for the removal of the full notebook cells\n",
              "var notebookContainer = gd.closest('#notebook-container');\n",
              "if (notebookContainer) {{\n",
              "    x.observe(notebookContainer, {childList: true});\n",
              "}}\n",
              "\n",
              "// Listen for the clearing of the current output cell\n",
              "var outputEl = gd.closest('.output');\n",
              "if (outputEl) {{\n",
              "    x.observe(outputEl, {childList: true});\n",
              "}}\n",
              "\n",
              "                        })                };                            </script>        </div>\n",
              "</body>\n",
              "</html>"
            ]
          },
          "metadata": {}
        }
      ]
    },
    {
      "cell_type": "markdown",
      "source": [
        "To get an understanding of our model and also to check for plausibility (e.g., did the model pick up correct patterns) we plot the feature importance with the `shap` library."
      ],
      "metadata": {
        "id": "3DncApmZuA7q"
      },
      "id": "3DncApmZuA7q"
    },
    {
      "cell_type": "code",
      "source": [
        "# Explain model predictions using shap library:\n",
        "explainer = shap.TreeExplainer(xg_reg)\n",
        "shap_values = explainer.shap_values(X_train_scaled)\n",
        "\n",
        "# Plot summary_plot as barplot:\n",
        "shap.summary_plot(shap_values, X_train_scaled, feature_names=features, plot_type='bar', plot_size=[15,5])"
      ],
      "metadata": {
        "id": "5Z6rHfVAuAUr",
        "outputId": "aaf43a1d-b59c-4543-db41-6b5e9574ba38",
        "colab": {
          "base_uri": "https://localhost:8080/",
          "height": 398
        }
      },
      "id": "5Z6rHfVAuAUr",
      "execution_count": 191,
      "outputs": [
        {
          "output_type": "display_data",
          "data": {
            "text/plain": [
              "<Figure size 1500x500 with 1 Axes>"
            ],
            "image/png": "[encoded data removed]"
          },
          "metadata": {}
        }
      ]
    },
    {
      "cell_type": "markdown",
      "source": [
        "This plot tells us, that the most important features for the model output are `week_sin`, `tmax`, `month_sin`, and `transformed_vacation`. This seems reasonable since we have seen a weekly periodicity and `tmax` having the highest correlation."
      ],
      "metadata": {
        "id": "ugcPJDRyx7QG"
      },
      "id": "ugcPJDRyx7QG"
    },
    {
      "cell_type": "markdown",
      "metadata": {
        "id": "3OdgdY9AaZSh"
      },
      "source": [
        "<a name=\"6.2.3\"></a>\n",
        "### 6.2.3 Results\n",
        "[Content](#content)"
      ],
      "id": "3OdgdY9AaZSh"
    },
    {
      "cell_type": "markdown",
      "source": [
        "The best RMSE score of our baseline models is $2.033$. With the simple XGBoost model we were able to get a RMSE score of $1.544$ for the dev set and even a RMSE score of $1.400$ for the test set. The better performance for the test set, could be due to a greater similarity of the year 2022 to the training period compared to the year 2021.\n",
        "\n",
        "Our model performs therefore $31\\%$ better than our best baseline model. The most important features for this are the weekly and monthly periodicity and the maximum temperature forecast as well as the label vacation."
      ],
      "metadata": {
        "id": "oKJz5Ao0afU1"
      },
      "id": "oKJz5Ao0afU1"
    },
    {
      "cell_type": "markdown",
      "id": "fOFZ5oXgTT7V",
      "metadata": {
        "id": "fOFZ5oXgTT7V"
      },
      "source": [
        "<a name=\"6.3.\"></a>\n",
        "## 6.3. Multilayer Perceptron\n",
        "[Content](#content)"
      ]
    },
    {
      "cell_type": "code",
      "execution_count": null,
      "id": "CFbCaX6sKhZF",
      "metadata": {
        "id": "CFbCaX6sKhZF"
      },
      "outputs": [],
      "source": [
        "dropout = 0.2 # 0.2 best\n",
        "\n",
        "# Define the architecture of the MLP with L2 regularization\n",
        "model_mlp = Sequential()\n",
        "\n",
        "model_mlp.add(Input(shape=(len(features),)))\n",
        "model_mlp.add(Dense(units=128, activation='relu'))\n",
        "model_mlp.add(Dropout(dropout))\n",
        "model_mlp.add(Dense(units=64, activation='relu'))\n",
        "model_mlp.add(Dropout(dropout))\n",
        "model_mlp.add(Dense(units=1, activation='linear'))  # Output layer with 1 neuron for regression\n",
        "\n",
        "# Compile the model with mean squared error (MSE) loss, and root mean square error (RMSE) as metric\n",
        "# Use Adam optimizer with learning rate\n",
        "optimizer = Adam(learning_rate=0.01)\n",
        "model_mlp.compile(optimizer=optimizer, loss='mse', metrics=[RootMeanSquaredError()])\n",
        "\n",
        "print(model_mlp.summary())\n",
        "\n",
        "# Train the model and save the learning history, use x_dev and y_dev for validation\n",
        "history = model_mlp.fit(X_train_scaled, y_train, epochs=100, batch_size=32, validation_data=(X_dev_scaled, y_dev))"
      ]
    },
    {
      "cell_type": "markdown",
      "source": [
        "all features with cos and sin\n",
        "Epoch 100/100\n",
        "92/92 [==============================] - 0s 3ms/step - loss: 2264314.0000 - root_mean_squared_error: 1504.7638 - val_loss: 2452808.2500 - val_root_mean_squared_error: 1566.1444"
      ],
      "metadata": {
        "id": "60pDB98PVm1I"
      },
      "id": "60pDB98PVm1I"
    },
    {
      "cell_type": "code",
      "execution_count": null,
      "id": "RhbEPgSPsXCy",
      "metadata": {
        "id": "RhbEPgSPsXCy"
      },
      "outputs": [],
      "source": [
        "# Create the array for the x axis, starting from 1\n",
        "epochs = np.arange(1, len(history.history[\"root_mean_squared_error\"])+1)\n",
        "train_rmse = history.history[\"root_mean_squared_error\"]\n",
        "dev_rmse = history.history[\"val_root_mean_squared_error\"]\n",
        "\n",
        "# Create a line chart with two lines using Plotly Express\n",
        "fig = px.line(title='train RMSE vs. dev RMSE')\n",
        "fig.add_scatter(x=epochs, y=train_rmse, mode='lines+markers', name='Train RMSE', line=dict(color='red'))\n",
        "fig.add_scatter(x=epochs, y=dev_rmse, mode='lines+markers', name='Dev RMSE', line=dict(color='blue'))\n",
        "\n",
        "\n",
        "# Set chart title and axis labels\n",
        "fig.update_layout(\n",
        "    xaxis_title='Epochs',\n",
        "    yaxis_title='RMSE'\n",
        ")\n",
        "\n",
        "# Show the chart\n",
        "fig.show()"
      ]
    },
    {
      "cell_type": "code",
      "source": [
        "# Explain model predictions using shap library:\n",
        "explainer = shap.DeepExplainer(model_mlp, X_train_scaled)\n",
        "shap_values = explainer.shap_values(X_train_scaled)\n",
        "\n",
        "# Plot summary_plot as barplot:\n",
        "shap.summary_plot(shap_values, X_train_scaled, feature_names=features, plot_type='bar', plot_size=[15,5])"
      ],
      "metadata": {
        "id": "bamMyHTGoTl1"
      },
      "id": "bamMyHTGoTl1",
      "execution_count": null,
      "outputs": []
    },
    {
      "cell_type": "code",
      "execution_count": null,
      "id": "qg2TMtxJUzVm",
      "metadata": {
        "id": "qg2TMtxJUzVm"
      },
      "outputs": [],
      "source": [
        "# Evaluate the model's performance using RMSE on train\n",
        "y_train_hat = model_mlp.predict(X_train_scaled)\n",
        "rmse_train = np.sqrt(mean_squared_error(y_train, y_train_hat))\n",
        "print(\"Train RMSE: %f\" % (rmse_train))\n",
        "\n",
        "# Evaluate the model's performance using RMSE on dev\n",
        "y_dev_hat = model_mlp.predict(X_dev_scaled)\n",
        "rmse_dev = np.sqrt(mean_squared_error(y_dev, y_dev_hat))\n",
        "print(\"Dev RMSE: %f\" % (rmse_dev))\n",
        "\n",
        "# Evaluate the model's performance using RMSE on test\n",
        "y_test_hat = model_mlp.predict(X_test_scaled)\n",
        "rmse_test = np.sqrt(mean_squared_error(y_test, y_test_hat))\n",
        "print(\"Test RMSE: %f\" % (rmse_test))"
      ]
    },
    {
      "cell_type": "markdown",
      "id": "35YvxR1B1tcY",
      "metadata": {
        "id": "35YvxR1B1tcY"
      },
      "source": [
        "<a name=\"6.4.\"></a>\n",
        "## 6.4. Recurrent Neural Network\n",
        "[Content](#content)"
      ]
    },
    {
      "cell_type": "markdown",
      "source": [
        "Lastly, we train an RNN to compare to the previous two models. A RNN can take in multiple timesteps, to make a prediction (Many-to-One). Specifically, we will feed in 4 timesteps at a time (current day and the 3 previous days) and output the prediction of the current day.\n",
        "\n",
        "Out input shape is therefore (none, 4, 21), where none represents a variable amount of training days (in our case the length of X_train)."
      ],
      "metadata": {
        "id": "sfs0s3ZGC9Wp"
      },
      "id": "sfs0s3ZGC9Wp"
    },
    {
      "cell_type": "code",
      "source": [
        "y_dev[:10]\n",
        "#X_train[:10]"
      ],
      "metadata": {
        "colab": {
          "base_uri": "https://localhost:8080/"
        },
        "id": "prk6dSfED3WF",
        "outputId": "cd4f07fa-fc3e-42ce-bbea-d85fb4596bcd"
      },
      "id": "prk6dSfED3WF",
      "execution_count": 34,
      "outputs": [
        {
          "output_type": "execute_result",
          "data": {
            "text/plain": [
              "date\n",
              "2020-12-31     2676.0\n",
              "2021-01-01     2175.0\n",
              "2021-01-02     2168.0\n",
              "2021-01-03     6828.0\n",
              "2021-01-04     6305.0\n",
              "2021-01-05     3872.0\n",
              "2021-01-06    10398.0\n",
              "2021-01-07     7953.0\n",
              "2021-01-08     2765.0\n",
              "2021-01-09     9202.0\n",
              "Name: imputed_wilhelm_kaisen_brucke_ost, dtype: float64"
            ]
          },
          "metadata": {},
          "execution_count": 34
        }
      ]
    },
    {
      "cell_type": "code",
      "source": [
        "from keras.utils import timeseries_dataset_from_array\n",
        "\n",
        "seq_length = 4\n",
        "\n",
        "#input_data = X_train_scaled\n",
        "#targets = y_train[3:]\n",
        "#targets = y_train\n",
        "\"\"\"\n",
        "a_X_train = X_train_scaled[:-seq_length]\n",
        "a_y_train = y_train[seq_length-1:]\n",
        "\n",
        "a_X_dev = X_dev_scaled[:-seq_length]\n",
        "a_y_dev = y_dev[seq_length-1:]\n",
        "\n",
        "a_X_test = X_test_scaled[:-seq_length]\n",
        "a_y_test = y_test[seq_length-1:]\"\"\"\n",
        "\n",
        "dataset_X_train = tf.keras.utils.timeseries_dataset_from_array(\n",
        "    data=X_train_scaled, targets=None, sequence_length=seq_length, batch_size=32, shuffle=False)\n",
        "\n",
        "dataset_y_train = tf.keras.utils.timeseries_dataset_from_array(\n",
        "    data=y_train, targets=None, sequence_length=seq_length, batch_size=32, shuffle=False)\n",
        "\n",
        "dataset_train = tf.data.Dataset.zip((dataset_X_train, dataset_y_train))\n",
        "\n",
        "dataset_X_dev = tf.keras.utils.timeseries_dataset_from_array(\n",
        "    data=X_dev_scaled, targets=None, sequence_length=seq_length, batch_size=32, shuffle=False)\n",
        "\n",
        "dataset_y_dev = tf.keras.utils.timeseries_dataset_from_array(\n",
        "    data=y_dev, targets=None, sequence_length=seq_length, batch_size=32, shuffle=False)\n",
        "\n",
        "dataset_dev = tf.data.Dataset.zip((dataset_X_dev, dataset_y_dev))\n",
        "#print(dataset.take(10))\n",
        "\n",
        "for x,y in dataset_dev.take(1):\n",
        "    print(x, y)\n",
        "\"\"\"\n",
        "\n",
        "#for x, y in dataset.take(10):\n",
        "#    print(x, y)\n",
        "\n",
        "y_trainnnn = tf.keras.utils.timeseries_dataset_from_array(\n",
        "    data=targets, targets=None, sequence_length=4, batch_size=None, shuffle=False)\n",
        "\n",
        "\n",
        "for y in y_trainnnn.take(10):\n",
        "    print(y)\n",
        "\n",
        "x_trainnnn.to_numpy()\"\"\"\n"
      ],
      "metadata": {
        "id": "vzzhZEanaiIt",
        "outputId": "5e89663e-9375-4844-f175-da11b928c672",
        "colab": {
          "base_uri": "https://localhost:8080/",
          "height": 1000
        }
      },
      "id": "vzzhZEanaiIt",
      "execution_count": 39,
      "outputs": [
        {
          "output_type": "stream",
          "name": "stdout",
          "text": [
            "tf.Tensor(\n",
            "[[[ 6.12636142e-01 -1.27460169e+00 -1.90818567e-03 ... -5.24052445e-02\n",
            "   -5.24052445e-02  1.73086569e+00]\n",
            "  [-6.14336899e-01 -1.27460169e+00  2.80247781e-01 ... -5.24052445e-02\n",
            "   -5.24052445e-02  1.73086569e+00]\n",
            "  [-1.37934208e+00 -3.14946833e-01  5.50852250e-01 ... -5.24052445e-02\n",
            "   -5.24052445e-02  1.73086569e+00]\n",
            "  [-1.10631489e+00  8.81723202e-01  7.98826641e-01 ... -5.24052445e-02\n",
            "   -5.24052445e-02  1.73086569e+00]]\n",
            "\n",
            " [[-6.14336899e-01 -1.27460169e+00  2.80247781e-01 ... -5.24052445e-02\n",
            "   -5.24052445e-02  1.73086569e+00]\n",
            "  [-1.37934208e+00 -3.14946833e-01  5.50852250e-01 ... -5.24052445e-02\n",
            "   -5.24052445e-02  1.73086569e+00]\n",
            "  [-1.10631489e+00  8.81723202e-01  7.98826641e-01 ... -5.24052445e-02\n",
            "   -5.24052445e-02  1.73086569e+00]\n",
            "  [-8.50378709e-04  1.41429147e+00  1.01401885e+00 ... -5.24052445e-02\n",
            "   -5.24052445e-02  1.73086569e+00]]\n",
            "\n",
            " [[-1.37934208e+00 -3.14946833e-01  5.50852250e-01 ... -5.24052445e-02\n",
            "   -5.24052445e-02  1.73086569e+00]\n",
            "  [-1.10631489e+00  8.81723202e-01  7.98826641e-01 ... -5.24052445e-02\n",
            "   -5.24052445e-02  1.73086569e+00]\n",
            "  [-8.50378709e-04  1.41429147e+00  1.01401885e+00 ... -5.24052445e-02\n",
            "   -5.24052445e-02  1.73086569e+00]\n",
            "  [ 1.10461413e+00  8.81723202e-01  1.18761890e+00 ... -5.24052445e-02\n",
            "   -5.24052445e-02  1.73086569e+00]]\n",
            "\n",
            " ...\n",
            "\n",
            " [[-6.14336899e-01 -1.27460169e+00 -5.54668621e-01 ... -5.24052445e-02\n",
            "   -5.24052445e-02 -5.77745579e-01]\n",
            "  [-1.37934208e+00 -3.14946833e-01 -2.84064153e-01 ... -5.24052445e-02\n",
            "   -5.24052445e-02 -5.77745579e-01]\n",
            "  [-1.10631489e+00  8.81723202e-01 -1.90818567e-03 ... -5.24052445e-02\n",
            "   -5.24052445e-02 -5.77745579e-01]\n",
            "  [-8.50378709e-04  1.41429147e+00  2.80247781e-01 ... -5.24052445e-02\n",
            "   -5.24052445e-02  1.73086569e+00]]\n",
            "\n",
            " [[-1.37934208e+00 -3.14946833e-01 -2.84064153e-01 ... -5.24052445e-02\n",
            "   -5.24052445e-02 -5.77745579e-01]\n",
            "  [-1.10631489e+00  8.81723202e-01 -1.90818567e-03 ... -5.24052445e-02\n",
            "   -5.24052445e-02 -5.77745579e-01]\n",
            "  [-8.50378709e-04  1.41429147e+00  2.80247781e-01 ... -5.24052445e-02\n",
            "   -5.24052445e-02  1.73086569e+00]\n",
            "  [ 1.10461413e+00  8.81723202e-01  5.50852250e-01 ... -5.24052445e-02\n",
            "   -5.24052445e-02  1.73086569e+00]]\n",
            "\n",
            " [[-1.10631489e+00  8.81723202e-01 -1.90818567e-03 ... -5.24052445e-02\n",
            "   -5.24052445e-02 -5.77745579e-01]\n",
            "  [-8.50378709e-04  1.41429147e+00  2.80247781e-01 ... -5.24052445e-02\n",
            "   -5.24052445e-02  1.73086569e+00]\n",
            "  [ 1.10461413e+00  8.81723202e-01  5.50852250e-01 ... -5.24052445e-02\n",
            "   -5.24052445e-02  1.73086569e+00]\n",
            "  [ 1.37764132e+00 -3.14946833e-01  7.98826641e-01 ... -5.24052445e-02\n",
            "   -5.24052445e-02 -5.77745579e-01]]], shape=(32, 4, 23), dtype=float64) tf.Tensor(\n",
            "[[ 2676.  2175.  2168.  6828.]\n",
            " [ 2175.  2168.  6828.  6305.]\n",
            " [ 2168.  6828.  6305.  3872.]\n",
            " [ 6828.  6305.  3872. 10398.]\n",
            " [ 6305.  3872. 10398.  7953.]\n",
            " [ 3872. 10398.  7953.  2765.]\n",
            " [10398.  7953.  2765.  9202.]\n",
            " [ 7953.  2765.  9202.  9158.]\n",
            " [ 2765.  9202.  9158.  8688.]\n",
            " [ 9202.  9158.  8688.  6215.]\n",
            " [ 9158.  8688.  6215.  5269.]\n",
            " [ 8688.  6215.  5269.  5688.]\n",
            " [ 6215.  5269.  5688.  5573.]\n",
            " [ 5269.  5688.  5573.  3031.]\n",
            " [ 5688.  5573.  3031.  2221.]\n",
            " [ 5573.  3031.  2221.  5422.]\n",
            " [ 3031.  2221.  5422.  4669.]\n",
            " [ 2221.  5422.  4669.  6263.]\n",
            " [ 5422.  4669.  6263.  5994.]\n",
            " [ 4669.  6263.  5994.  5985.]\n",
            " [ 6263.  5994.  5985.  3360.]\n",
            " [ 5994.  5985.  3360.  2695.]\n",
            " [ 5985.  3360.  2695.  5988.]\n",
            " [ 3360.  2695.  5988.  5944.]\n",
            " [ 2695.  5988.  5944.  5569.]\n",
            " [ 5988.  5944.  5569.  5983.]\n",
            " [ 5944.  5569.  5983.  3377.]\n",
            " [ 5569.  5983.  3377.   986.]\n",
            " [ 5983.  3377.   986.   963.]\n",
            " [ 3377.   986.   963.  2554.]\n",
            " [  986.   963.  2554.  2457.]\n",
            " [  963.  2554.  2457.  7184.]], shape=(32, 4), dtype=float64)\n"
          ]
        },
        {
          "output_type": "execute_result",
          "data": {
            "text/plain": [
              "'\\n\\n#for x, y in dataset.take(10):\\n#    print(x, y)\\n\\ny_trainnnn = tf.keras.utils.timeseries_dataset_from_array(\\n    data=targets, targets=None, sequence_length=4, batch_size=None, shuffle=False)\\n\\n\\nfor y in y_trainnnn.take(10):\\n    print(y)\\n\\nx_trainnnn.to_numpy()'"
            ],
            "application/vnd.google.colaboratory.intrinsic+json": {
              "type": "string"
            }
          },
          "metadata": {},
          "execution_count": 39
        }
      ]
    },
    {
      "cell_type": "code",
      "source": [
        "\"\"\"\n",
        "# Define the number of timesteps\n",
        "seq_length = 4\n",
        "\n",
        "# Create sequences of length 4\n",
        "X_train_scaled_3d, X_dev_scaled_3d = [], []\n",
        "y_train_3d, y_dev_3d = [], []\n",
        "\n",
        "for i in range(len(X_train_scaled) - seq_length + 1):\n",
        "    X_train_scaled_3d.append(X_train_scaled[i : i + seq_length])\n",
        "    y_train_3d.append(y_train[i : i + seq_length])\n",
        "\n",
        "X_train_scaled_3d = np.array(X_train_scaled_3d)\n",
        "y_train_3d = np.array(y_train_3d)\n",
        "\n",
        "\n",
        "for i in range(len(X_dev_scaled) - seq_length + 1):\n",
        "    X_dev_scaled_3d.append(X_dev_scaled[i : i + seq_length])\n",
        "    y_dev_3d.append(y_dev[i : i + seq_length])\n",
        "\n",
        "X_dev_scaled_3d = np.array(X_dev_scaled_3d)\n",
        "y_dev_3d = np.array(y_dev_3d)\n",
        "\n",
        "# Check result\n",
        "print(X_train_scaled_3d.shape)\n",
        "print(y_train_3d.shape)\n",
        "\n",
        "print(X_dev_scaled_3d.shape)\n",
        "print(y_dev_3d.shape)\"\"\""
      ],
      "metadata": {
        "colab": {
          "base_uri": "https://localhost:8080/"
        },
        "id": "jG3uW6OfVD4n",
        "outputId": "e64f9e38-8d4a-44b5-8dff-1dba2dabd63b"
      },
      "id": "jG3uW6OfVD4n",
      "execution_count": null,
      "outputs": [
        {
          "output_type": "stream",
          "name": "stdout",
          "text": [
            "(2918, 4, 13)\n",
            "(2918, 4)\n",
            "(362, 4, 13)\n",
            "(362, 4)\n"
          ]
        },
        {
          "output_type": "stream",
          "name": "stderr",
          "text": [
            "/usr/local/lib/python3.10/dist-packages/ipykernel/ipkernel.py:283: DeprecationWarning:\n",
            "\n",
            "`should_run_async` will not call `transform_cell` automatically in the future. Please pass the result to `transformed_cell` argument and any exception that happen during thetransform in `preprocessing_exc_tuple` in IPython 7.17 and above.\n",
            "\n"
          ]
        }
      ]
    },
    {
      "cell_type": "code",
      "execution_count": 44,
      "id": "sOTf5esj1181",
      "metadata": {
        "id": "sOTf5esj1181",
        "colab": {
          "base_uri": "https://localhost:8080/"
        },
        "outputId": "adb24839-b77a-465e-f374-8683091c6065"
      },
      "outputs": [
        {
          "output_type": "stream",
          "name": "stdout",
          "text": [
            "Model: \"model_5\"\n",
            "_________________________________________________________________\n",
            " Layer (type)                Output Shape              Param #   \n",
            "=================================================================\n",
            " input_6 (InputLayer)        [(None, 4, 23)]           0         \n",
            "                                                                 \n",
            " bidirectional_10 (Bidirecti  (None, 4, 128)           45056     \n",
            " onal)                                                           \n",
            "                                                                 \n",
            " bidirectional_11 (Bidirecti  (None, 4, 64)            41216     \n",
            " onal)                                                           \n",
            "                                                                 \n",
            " dense_5 (Dense)             (None, 4, 1)              65        \n",
            "                                                                 \n",
            "=================================================================\n",
            "Total params: 86,337\n",
            "Trainable params: 86,337\n",
            "Non-trainable params: 0\n",
            "_________________________________________________________________\n",
            "None\n",
            "Epoch 1/100\n",
            "92/92 [==============================] - 10s 28ms/step - loss: 34806936.0000 - root_mean_squared_error: 5899.7402 - val_loss: 15649460.0000 - val_root_mean_squared_error: 3955.9399\n",
            "Epoch 2/100\n",
            "92/92 [==============================] - 2s 20ms/step - loss: 10011604.0000 - root_mean_squared_error: 3164.1121 - val_loss: 9281685.0000 - val_root_mean_squared_error: 3046.5857\n",
            "Epoch 3/100\n",
            "92/92 [==============================] - 3s 32ms/step - loss: 6323661.0000 - root_mean_squared_error: 2514.6890 - val_loss: 6444990.0000 - val_root_mean_squared_error: 2538.6982\n",
            "Epoch 4/100\n",
            "92/92 [==============================] - 2s 19ms/step - loss: 4496389.5000 - root_mean_squared_error: 2120.4692 - val_loss: 4939782.0000 - val_root_mean_squared_error: 2222.5620\n",
            "Epoch 5/100\n",
            "92/92 [==============================] - 2s 21ms/step - loss: 4051583.5000 - root_mean_squared_error: 2012.8546 - val_loss: 4576508.0000 - val_root_mean_squared_error: 2139.2773\n",
            "Epoch 6/100\n",
            "92/92 [==============================] - 2s 20ms/step - loss: 3822385.0000 - root_mean_squared_error: 1955.0922 - val_loss: 4843656.5000 - val_root_mean_squared_error: 2200.8308\n",
            "Epoch 7/100\n",
            "92/92 [==============================] - 2s 23ms/step - loss: 3746551.0000 - root_mean_squared_error: 1935.6010 - val_loss: 4519504.5000 - val_root_mean_squared_error: 2125.9126\n",
            "Epoch 8/100\n",
            "92/92 [==============================] - 3s 30ms/step - loss: 3605963.0000 - root_mean_squared_error: 1898.9374 - val_loss: 4557141.5000 - val_root_mean_squared_error: 2134.7463\n",
            "Epoch 9/100\n",
            "92/92 [==============================] - 2s 20ms/step - loss: 3566277.5000 - root_mean_squared_error: 1888.4591 - val_loss: 4198821.0000 - val_root_mean_squared_error: 2049.1025\n",
            "Epoch 10/100\n",
            "92/92 [==============================] - 2s 20ms/step - loss: 3637017.7500 - root_mean_squared_error: 1907.0966 - val_loss: 4017758.0000 - val_root_mean_squared_error: 2004.4346\n",
            "Epoch 11/100\n",
            "92/92 [==============================] - 2s 21ms/step - loss: 3634941.0000 - root_mean_squared_error: 1906.5522 - val_loss: 4044391.5000 - val_root_mean_squared_error: 2011.0673\n",
            "Epoch 12/100\n",
            "92/92 [==============================] - 2s 22ms/step - loss: 3546491.7500 - root_mean_squared_error: 1883.2131 - val_loss: 4170460.2500 - val_root_mean_squared_error: 2042.1704\n",
            "Epoch 13/100\n",
            "92/92 [==============================] - 3s 31ms/step - loss: 3541043.2500 - root_mean_squared_error: 1881.7660 - val_loss: 3804198.5000 - val_root_mean_squared_error: 1950.4354\n",
            "Epoch 14/100\n",
            "92/92 [==============================] - 2s 21ms/step - loss: 3447414.5000 - root_mean_squared_error: 1856.7214 - val_loss: 3964282.7500 - val_root_mean_squared_error: 1991.0507\n",
            "Epoch 15/100\n",
            "92/92 [==============================] - 2s 21ms/step - loss: 3577949.7500 - root_mean_squared_error: 1891.5469 - val_loss: 3803998.5000 - val_root_mean_squared_error: 1950.3842\n",
            "Epoch 16/100\n",
            "92/92 [==============================] - 5s 52ms/step - loss: 3527355.7500 - root_mean_squared_error: 1878.1256 - val_loss: 3918867.0000 - val_root_mean_squared_error: 1979.6129\n",
            "Epoch 17/100\n",
            "92/92 [==============================] - 5s 53ms/step - loss: 3448338.0000 - root_mean_squared_error: 1856.9701 - val_loss: 3793214.5000 - val_root_mean_squared_error: 1947.6177\n",
            "Epoch 18/100\n",
            "92/92 [==============================] - 2s 21ms/step - loss: 3467273.7500 - root_mean_squared_error: 1862.0618 - val_loss: 3895552.2500 - val_root_mean_squared_error: 1973.7153\n",
            "Epoch 19/100\n",
            "92/92 [==============================] - 3s 34ms/step - loss: 3441779.0000 - root_mean_squared_error: 1855.2032 - val_loss: 3841012.2500 - val_root_mean_squared_error: 1959.8501\n",
            "Epoch 20/100\n",
            "92/92 [==============================] - 3s 38ms/step - loss: 3392827.7500 - root_mean_squared_error: 1841.9630 - val_loss: 3676753.0000 - val_root_mean_squared_error: 1917.4861\n",
            "Epoch 21/100\n",
            "92/92 [==============================] - 3s 38ms/step - loss: 3442972.2500 - root_mean_squared_error: 1855.5248 - val_loss: 3643065.7500 - val_root_mean_squared_error: 1908.6816\n",
            "Epoch 22/100\n",
            "92/92 [==============================] - 2s 20ms/step - loss: 3373761.2500 - root_mean_squared_error: 1836.7802 - val_loss: 3739140.2500 - val_root_mean_squared_error: 1933.6857\n",
            "Epoch 23/100\n",
            "92/92 [==============================] - 2s 21ms/step - loss: 3237887.2500 - root_mean_squared_error: 1799.4131 - val_loss: 3704961.7500 - val_root_mean_squared_error: 1924.8278\n",
            "Epoch 24/100\n",
            "92/92 [==============================] - 2s 21ms/step - loss: 3272118.2500 - root_mean_squared_error: 1808.8998 - val_loss: 3615249.7500 - val_root_mean_squared_error: 1901.3810\n",
            "Epoch 25/100\n",
            "92/92 [==============================] - 2s 21ms/step - loss: 3269985.0000 - root_mean_squared_error: 1808.3099 - val_loss: 3626264.5000 - val_root_mean_squared_error: 1904.2753\n",
            "Epoch 26/100\n",
            "92/92 [==============================] - 3s 31ms/step - loss: 3236072.7500 - root_mean_squared_error: 1798.9088 - val_loss: 3708206.2500 - val_root_mean_squared_error: 1925.6703\n",
            "Epoch 27/100\n",
            "92/92 [==============================] - 2s 26ms/step - loss: 3325184.2500 - root_mean_squared_error: 1823.5088 - val_loss: 3563203.2500 - val_root_mean_squared_error: 1887.6448\n",
            "Epoch 28/100\n",
            "92/92 [==============================] - 3s 30ms/step - loss: 3198298.7500 - root_mean_squared_error: 1788.3787 - val_loss: 3913856.0000 - val_root_mean_squared_error: 1978.3467\n",
            "Epoch 29/100\n",
            "92/92 [==============================] - 3s 28ms/step - loss: 3241201.0000 - root_mean_squared_error: 1800.3336 - val_loss: 3526054.5000 - val_root_mean_squared_error: 1877.7792\n",
            "Epoch 30/100\n",
            "92/92 [==============================] - 2s 21ms/step - loss: 3354162.5000 - root_mean_squared_error: 1831.4373 - val_loss: 3587937.5000 - val_root_mean_squared_error: 1894.1852\n",
            "Epoch 31/100\n",
            "92/92 [==============================] - 2s 20ms/step - loss: 3178474.2500 - root_mean_squared_error: 1782.8276 - val_loss: 3584019.5000 - val_root_mean_squared_error: 1893.1506\n",
            "Epoch 32/100\n",
            "92/92 [==============================] - 2s 20ms/step - loss: 3288172.0000 - root_mean_squared_error: 1813.3318 - val_loss: 3530730.7500 - val_root_mean_squared_error: 1879.0239\n",
            "Epoch 33/100\n",
            "92/92 [==============================] - 2s 26ms/step - loss: 3215857.2500 - root_mean_squared_error: 1793.2811 - val_loss: 3569858.0000 - val_root_mean_squared_error: 1889.4067\n",
            "Epoch 34/100\n",
            "92/92 [==============================] - 3s 30ms/step - loss: 3256646.0000 - root_mean_squared_error: 1804.6179 - val_loss: 3552041.2500 - val_root_mean_squared_error: 1884.6859\n",
            "Epoch 35/100\n",
            "92/92 [==============================] - 2s 21ms/step - loss: 3205747.7500 - root_mean_squared_error: 1790.4602 - val_loss: 3537678.2500 - val_root_mean_squared_error: 1880.8717\n",
            "Epoch 36/100\n",
            "92/92 [==============================] - 2s 20ms/step - loss: 3207568.7500 - root_mean_squared_error: 1790.9686 - val_loss: 3538103.2500 - val_root_mean_squared_error: 1880.9846\n",
            "Epoch 37/100\n",
            "92/92 [==============================] - 2s 21ms/step - loss: 3243277.5000 - root_mean_squared_error: 1800.9102 - val_loss: 3551872.2500 - val_root_mean_squared_error: 1884.6411\n",
            "Epoch 38/100\n",
            "92/92 [==============================] - 3s 29ms/step - loss: 3192253.7500 - root_mean_squared_error: 1786.6880 - val_loss: 3545239.7500 - val_root_mean_squared_error: 1882.8806\n",
            "Epoch 39/100\n",
            "92/92 [==============================] - 3s 27ms/step - loss: 3179463.5000 - root_mean_squared_error: 1783.1050 - val_loss: 3574093.0000 - val_root_mean_squared_error: 1890.5272\n",
            "Epoch 40/100\n",
            "92/92 [==============================] - 2s 20ms/step - loss: 3129060.0000 - root_mean_squared_error: 1768.9148 - val_loss: 3462871.7500 - val_root_mean_squared_error: 1860.8793\n",
            "Epoch 41/100\n",
            "92/92 [==============================] - 2s 21ms/step - loss: 3119564.0000 - root_mean_squared_error: 1766.2289 - val_loss: 3452818.0000 - val_root_mean_squared_error: 1858.1760\n",
            "Epoch 42/100\n",
            "92/92 [==============================] - 2s 20ms/step - loss: 3102907.7500 - root_mean_squared_error: 1761.5072 - val_loss: 3515820.5000 - val_root_mean_squared_error: 1875.0521\n",
            "Epoch 43/100\n",
            "92/92 [==============================] - 2s 21ms/step - loss: 3184332.0000 - root_mean_squared_error: 1784.4697 - val_loss: 3461383.7500 - val_root_mean_squared_error: 1860.4795\n",
            "Epoch 44/100\n",
            "92/92 [==============================] - 3s 35ms/step - loss: 3089900.0000 - root_mean_squared_error: 1757.8112 - val_loss: 3434137.5000 - val_root_mean_squared_error: 1853.1427\n",
            "Epoch 45/100\n",
            "92/92 [==============================] - 2s 22ms/step - loss: 3085879.7500 - root_mean_squared_error: 1756.6672 - val_loss: 3390399.0000 - val_root_mean_squared_error: 1841.3036\n",
            "Epoch 46/100\n",
            "92/92 [==============================] - 2s 22ms/step - loss: 3056615.0000 - root_mean_squared_error: 1748.3177 - val_loss: 3451811.0000 - val_root_mean_squared_error: 1857.9050\n",
            "Epoch 47/100\n",
            "92/92 [==============================] - 2s 21ms/step - loss: 3083041.7500 - root_mean_squared_error: 1755.8593 - val_loss: 3457271.2500 - val_root_mean_squared_error: 1859.3739\n",
            "Epoch 48/100\n",
            "92/92 [==============================] - 2s 24ms/step - loss: 3060272.0000 - root_mean_squared_error: 1749.3633 - val_loss: 3436014.2500 - val_root_mean_squared_error: 1853.6490\n",
            "Epoch 49/100\n",
            "92/92 [==============================] - 3s 37ms/step - loss: 3107816.7500 - root_mean_squared_error: 1762.9003 - val_loss: 3424671.5000 - val_root_mean_squared_error: 1850.5868\n",
            "Epoch 50/100\n",
            "92/92 [==============================] - 2s 24ms/step - loss: 3084949.7500 - root_mean_squared_error: 1756.4025 - val_loss: 3471290.2500 - val_root_mean_squared_error: 1863.1398\n",
            "Epoch 51/100\n",
            "92/92 [==============================] - 2s 23ms/step - loss: 3128491.2500 - root_mean_squared_error: 1768.7542 - val_loss: 3412483.2500 - val_root_mean_squared_error: 1847.2908\n",
            "Epoch 52/100\n",
            "92/92 [==============================] - 2s 22ms/step - loss: 2926130.2500 - root_mean_squared_error: 1710.5935 - val_loss: 3404543.2500 - val_root_mean_squared_error: 1845.1404\n",
            "Epoch 53/100\n",
            "92/92 [==============================] - 2s 22ms/step - loss: 3110878.7500 - root_mean_squared_error: 1763.7683 - val_loss: 3393323.5000 - val_root_mean_squared_error: 1842.0975\n",
            "Epoch 54/100\n",
            "92/92 [==============================] - 3s 37ms/step - loss: 2995156.5000 - root_mean_squared_error: 1730.6521 - val_loss: 3385756.2500 - val_root_mean_squared_error: 1840.0425\n",
            "Epoch 55/100\n",
            "92/92 [==============================] - 4s 45ms/step - loss: 3093583.2500 - root_mean_squared_error: 1758.8585 - val_loss: 3425839.7500 - val_root_mean_squared_error: 1850.9025\n",
            "Epoch 56/100\n",
            "92/92 [==============================] - 4s 45ms/step - loss: 2918569.2500 - root_mean_squared_error: 1708.3821 - val_loss: 3438088.2500 - val_root_mean_squared_error: 1854.2083\n",
            "Epoch 57/100\n",
            "92/92 [==============================] - 3s 35ms/step - loss: 3052522.0000 - root_mean_squared_error: 1747.1469 - val_loss: 3427422.7500 - val_root_mean_squared_error: 1851.3300\n",
            "Epoch 58/100\n",
            "92/92 [==============================] - 2s 26ms/step - loss: 3069202.7500 - root_mean_squared_error: 1751.9141 - val_loss: 3379035.2500 - val_root_mean_squared_error: 1838.2153\n",
            "Epoch 59/100\n",
            "92/92 [==============================] - 2s 25ms/step - loss: 3011418.0000 - root_mean_squared_error: 1735.3438 - val_loss: 3399810.7500 - val_root_mean_squared_error: 1843.8575\n",
            "Epoch 60/100\n",
            "92/92 [==============================] - 2s 23ms/step - loss: 3068707.0000 - root_mean_squared_error: 1751.7726 - val_loss: 3352502.7500 - val_root_mean_squared_error: 1830.9841\n",
            "Epoch 61/100\n",
            "92/92 [==============================] - 2s 24ms/step - loss: 2952080.5000 - root_mean_squared_error: 1718.1620 - val_loss: 3392406.2500 - val_root_mean_squared_error: 1841.8486\n",
            "Epoch 62/100\n",
            "92/92 [==============================] - 3s 35ms/step - loss: 3008035.0000 - root_mean_squared_error: 1734.3688 - val_loss: 3403096.5000 - val_root_mean_squared_error: 1844.7482\n",
            "Epoch 63/100\n",
            "92/92 [==============================] - 3s 28ms/step - loss: 2950287.2500 - root_mean_squared_error: 1717.6400 - val_loss: 3381360.7500 - val_root_mean_squared_error: 1838.8477\n",
            "Epoch 64/100\n",
            "92/92 [==============================] - 2s 23ms/step - loss: 2943223.5000 - root_mean_squared_error: 1715.5826 - val_loss: 3373940.7500 - val_root_mean_squared_error: 1836.8290\n",
            "Epoch 65/100\n",
            "92/92 [==============================] - 2s 25ms/step - loss: 2931336.5000 - root_mean_squared_error: 1712.1146 - val_loss: 3415035.5000 - val_root_mean_squared_error: 1847.9814\n",
            "Epoch 66/100\n",
            "92/92 [==============================] - 2s 24ms/step - loss: 2918153.0000 - root_mean_squared_error: 1708.2603 - val_loss: 3385524.7500 - val_root_mean_squared_error: 1839.9795\n",
            "Epoch 67/100\n",
            "92/92 [==============================] - 4s 38ms/step - loss: 2909632.5000 - root_mean_squared_error: 1705.7645 - val_loss: 3356263.5000 - val_root_mean_squared_error: 1832.0107\n",
            "Epoch 68/100\n",
            "92/92 [==============================] - 3s 29ms/step - loss: 2956341.0000 - root_mean_squared_error: 1719.4014 - val_loss: 3309290.5000 - val_root_mean_squared_error: 1819.1455\n",
            "Epoch 69/100\n",
            "92/92 [==============================] - 2s 23ms/step - loss: 2978875.7500 - root_mean_squared_error: 1725.9420 - val_loss: 3387582.2500 - val_root_mean_squared_error: 1840.5385\n",
            "Epoch 70/100\n",
            "92/92 [==============================] - 2s 24ms/step - loss: 2916220.2500 - root_mean_squared_error: 1707.6945 - val_loss: 3406765.5000 - val_root_mean_squared_error: 1845.7426\n",
            "Epoch 71/100\n",
            "92/92 [==============================] - 3s 38ms/step - loss: 2896453.7500 - root_mean_squared_error: 1701.8971 - val_loss: 3314151.5000 - val_root_mean_squared_error: 1820.4812\n",
            "Epoch 72/100\n",
            "92/92 [==============================] - 2s 25ms/step - loss: 2932427.2500 - root_mean_squared_error: 1712.4330 - val_loss: 3287944.5000 - val_root_mean_squared_error: 1813.2690\n",
            "Epoch 73/100\n",
            "92/92 [==============================] - 2s 22ms/step - loss: 2903051.5000 - root_mean_squared_error: 1703.8342 - val_loss: 3380881.0000 - val_root_mean_squared_error: 1838.7172\n",
            "Epoch 74/100\n",
            "92/92 [==============================] - 2s 22ms/step - loss: 2910899.7500 - root_mean_squared_error: 1706.1359 - val_loss: 3401732.5000 - val_root_mean_squared_error: 1844.3787\n",
            "Epoch 75/100\n",
            "92/92 [==============================] - 2s 22ms/step - loss: 2977030.2500 - root_mean_squared_error: 1725.4072 - val_loss: 3341209.5000 - val_root_mean_squared_error: 1827.8975\n",
            "Epoch 76/100\n",
            "92/92 [==============================] - 3s 34ms/step - loss: 2959695.5000 - root_mean_squared_error: 1720.3766 - val_loss: 3394500.5000 - val_root_mean_squared_error: 1842.4170\n",
            "Epoch 77/100\n",
            "92/92 [==============================] - 3s 27ms/step - loss: 2968740.5000 - root_mean_squared_error: 1723.0033 - val_loss: 3336461.7500 - val_root_mean_squared_error: 1826.5984\n",
            "Epoch 78/100\n",
            "92/92 [==============================] - 2s 22ms/step - loss: 2952774.2500 - root_mean_squared_error: 1718.3638 - val_loss: 3369612.5000 - val_root_mean_squared_error: 1835.6504\n",
            "Epoch 79/100\n",
            "92/92 [==============================] - 2s 20ms/step - loss: 2901150.5000 - root_mean_squared_error: 1703.2764 - val_loss: 3307933.0000 - val_root_mean_squared_error: 1818.7723\n",
            "Epoch 80/100\n",
            "92/92 [==============================] - 2s 23ms/step - loss: 2871367.5000 - root_mean_squared_error: 1694.5111 - val_loss: 3308766.5000 - val_root_mean_squared_error: 1819.0015\n",
            "Epoch 81/100\n",
            "92/92 [==============================] - 3s 30ms/step - loss: 2855436.7500 - root_mean_squared_error: 1689.8037 - val_loss: 3371660.5000 - val_root_mean_squared_error: 1836.2083\n",
            "Epoch 82/100\n",
            "92/92 [==============================] - 3s 32ms/step - loss: 2870098.7500 - root_mean_squared_error: 1694.1366 - val_loss: 3288176.5000 - val_root_mean_squared_error: 1813.3330\n",
            "Epoch 83/100\n",
            "92/92 [==============================] - 2s 23ms/step - loss: 2920705.2500 - root_mean_squared_error: 1709.0071 - val_loss: 3296966.0000 - val_root_mean_squared_error: 1815.7549\n",
            "Epoch 84/100\n",
            "92/92 [==============================] - 2s 21ms/step - loss: 2838961.5000 - root_mean_squared_error: 1684.9218 - val_loss: 3344148.2500 - val_root_mean_squared_error: 1828.7013\n",
            "Epoch 85/100\n",
            "92/92 [==============================] - 2s 24ms/step - loss: 2787613.7500 - root_mean_squared_error: 1669.6149 - val_loss: 3266872.2500 - val_root_mean_squared_error: 1807.4491\n",
            "Epoch 86/100\n",
            "92/92 [==============================] - 2s 22ms/step - loss: 2794756.7500 - root_mean_squared_error: 1671.7526 - val_loss: 3310301.7500 - val_root_mean_squared_error: 1819.4235\n",
            "Epoch 87/100\n",
            "92/92 [==============================] - 3s 38ms/step - loss: 2858155.5000 - root_mean_squared_error: 1690.6080 - val_loss: 3318886.2500 - val_root_mean_squared_error: 1821.7810\n",
            "Epoch 88/100\n",
            "92/92 [==============================] - 2s 22ms/step - loss: 2842101.7500 - root_mean_squared_error: 1685.8534 - val_loss: 3309253.7500 - val_root_mean_squared_error: 1819.1355\n",
            "Epoch 89/100\n",
            "92/92 [==============================] - 2s 22ms/step - loss: 2833498.7500 - root_mean_squared_error: 1683.2999 - val_loss: 3331055.0000 - val_root_mean_squared_error: 1825.1178\n",
            "Epoch 90/100\n",
            "92/92 [==============================] - 2s 23ms/step - loss: 2876894.7500 - root_mean_squared_error: 1696.1412 - val_loss: 3334706.2500 - val_root_mean_squared_error: 1826.1178\n",
            "Epoch 91/100\n",
            "92/92 [==============================] - 2s 27ms/step - loss: 2794349.2500 - root_mean_squared_error: 1671.6307 - val_loss: 3311927.7500 - val_root_mean_squared_error: 1819.8702\n",
            "Epoch 92/100\n",
            "92/92 [==============================] - 3s 32ms/step - loss: 2752266.7500 - root_mean_squared_error: 1658.9957 - val_loss: 3253001.2500 - val_root_mean_squared_error: 1803.6079\n",
            "Epoch 93/100\n",
            "92/92 [==============================] - 2s 23ms/step - loss: 2809545.0000 - root_mean_squared_error: 1676.1698 - val_loss: 3309128.7500 - val_root_mean_squared_error: 1819.1013\n",
            "Epoch 94/100\n",
            "92/92 [==============================] - 2s 23ms/step - loss: 2820024.0000 - root_mean_squared_error: 1679.2927 - val_loss: 3316599.7500 - val_root_mean_squared_error: 1821.1534\n",
            "Epoch 95/100\n",
            "92/92 [==============================] - 2s 22ms/step - loss: 2833165.2500 - root_mean_squared_error: 1683.2009 - val_loss: 3267095.2500 - val_root_mean_squared_error: 1807.5107\n",
            "Epoch 96/100\n",
            "92/92 [==============================] - 2s 21ms/step - loss: 2822435.5000 - root_mean_squared_error: 1680.0106 - val_loss: 3292667.0000 - val_root_mean_squared_error: 1814.5708\n",
            "Epoch 97/100\n",
            "92/92 [==============================] - 3s 34ms/step - loss: 2839043.2500 - root_mean_squared_error: 1684.9460 - val_loss: 3214360.5000 - val_root_mean_squared_error: 1792.8638\n",
            "Epoch 98/100\n",
            "92/92 [==============================] - 2s 26ms/step - loss: 2772847.5000 - root_mean_squared_error: 1665.1869 - val_loss: 3271976.2500 - val_root_mean_squared_error: 1808.8605\n",
            "Epoch 99/100\n",
            "92/92 [==============================] - 2s 24ms/step - loss: 2750841.5000 - root_mean_squared_error: 1658.5660 - val_loss: 3323936.2500 - val_root_mean_squared_error: 1823.1665\n",
            "Epoch 100/100\n",
            "92/92 [==============================] - 2s 23ms/step - loss: 2794848.5000 - root_mean_squared_error: 1671.7799 - val_loss: 3273158.7500 - val_root_mean_squared_error: 1809.1874\n"
          ]
        }
      ],
      "source": [
        "\"\"\"\n",
        "Simple bidrectional LSTM model\n",
        "\n",
        "\"\"\"\n",
        "\n",
        "# model wiht functional API\n",
        "inputs = Input(shape=(seq_length, len(features)))\n",
        "x = Bidirectional(LSTM(64, activation='relu', dropout=0.25, return_sequences=True))(inputs)\n",
        "#x = Bidirectional(LSTM(32, activation='relu', dropout=0.25, return_sequences=True))(x)\n",
        "x = Bidirectional(LSTM(32, activation='relu', dropout=0.25, return_sequences=True))(x)\n",
        "outputs = Dense(1, activation='linear')(x)\n",
        "\n",
        "model_seq = tf.keras.Model(inputs=inputs, outputs=outputs)\n",
        "\n",
        "optimizer = Adam(learning_rate=0.001)\n",
        "model_seq.compile(optimizer=optimizer, loss='mse', metrics=[RootMeanSquaredError()])\n",
        "\n",
        "print(model_seq.summary())\n",
        "\"\"\"\n",
        "num_epochs = 10\n",
        "for epoch in range(num_epochs):\n",
        "    for batch in dataset:\n",
        "        # Assuming batch is a tuple of input data and labels\n",
        "        loss = model_seq.train_on_batch(batch[0], batch[1])\n",
        "    print(f\"Epoch {epoch+1}, Loss: {loss}\")\"\"\"\n",
        "\n",
        "history = model_seq.fit(dataset_train, epochs=100, batch_size=32, validation_data=(dataset_dev))\n",
        "#history = model_seq.fit(X_train_scaled_3d, y_train_3d, epochs=100, batch_size=32, validation_data=(X_dev_scaled_3d, y_dev_3d))\n",
        "#history = model_seq.fit(dataset_train, epochs=100, batch_size=32, validation_data=(X_dev_scaled_3d, y_dev_3d))"
      ]
    },
    {
      "cell_type": "code",
      "source": [
        "# Create the array for the x axis, starting from 1\n",
        "epochs = np.arange(1, len(history.history[\"root_mean_squared_error\"])+1)\n",
        "train_rmse = history.history[\"root_mean_squared_error\"]\n",
        "dev_rmse = history.history[\"val_root_mean_squared_error\"]\n",
        "\n",
        "# Create a line chart with two lines using Plotly Express\n",
        "fig = px.line(title='train RMSE vs. dev RMSE')\n",
        "fig.add_scatter(x=epochs, y=train_rmse, mode='lines+markers', name='Train RMSE', line=dict(color='red'))\n",
        "fig.add_scatter(x=epochs, y=dev_rmse, mode='lines+markers', name='Dev RMSE', line=dict(color='blue'))\n",
        "\n",
        "\n",
        "# Set chart title and axis labels\n",
        "fig.update_layout(\n",
        "    xaxis_title='Epochs',\n",
        "    yaxis_title='RMSE'\n",
        ")\n",
        "\n",
        "# Show the chart\n",
        "fig.show()"
      ],
      "metadata": {
        "id": "7i6bKNcPps07",
        "outputId": "df7d4f5d-2477-43a5-c7c9-6d97e0e1c257",
        "colab": {
          "base_uri": "https://localhost:8080/",
          "height": 579
        }
      },
      "id": "7i6bKNcPps07",
      "execution_count": null,
      "outputs": [
        {
          "output_type": "stream",
          "name": "stderr",
          "text": [
            "`should_run_async` will not call `transform_cell` automatically in the future. Please pass the result to `transformed_cell` argument and any exception that happen during thetransform in `preprocessing_exc_tuple` in IPython 7.17 and above.\n"
          ]
        },
        {
          "output_type": "display_data",
          "data": {
            "text/html": [
              "<html>\n",
              "<head><meta charset=\"utf-8\" /></head>\n",
              "<body>\n",
              "    <div>            <script src=\"https://cdnjs.cloudflare.com/ajax/libs/mathjax/2.7.5/MathJax.js?config=TeX-AMS-MML_SVG\"></script><script type=\"text/javascript\">if (window.MathJax && window.MathJax.Hub && window.MathJax.Hub.Config) {window.MathJax.Hub.Config({SVG: {font: \"STIX-Web\"}});}</script>                <script type=\"text/javascript\">window.PlotlyConfig = {MathJaxConfig: 'local'};</script>\n",
              "        <script charset=\"utf-8\" src=\"https://cdn.plot.ly/plotly-2.24.1.min.js\"></script>                <div id=\"a9382565-9c2b-48b0-bd10-346bfb78f0eb\" class=\"plotly-graph-div\" style=\"height:525px; width:100%;\"></div>            <script type=\"text/javascript\">                                    window.PLOTLYENV=window.PLOTLYENV || {};                                    if (document.getElementById(\"a9382565-9c2b-48b0-bd10-346bfb78f0eb\")) {                    Plotly.newPlot(                        \"a9382565-9c2b-48b0-bd10-346bfb78f0eb\",                        [{\"hovertemplate\":\"\\u003cextra\\u003e\\u003c\\u002fextra\\u003e\",\"legendgroup\":\"\",\"line\":{\"color\":\"#636efa\",\"dash\":\"solid\"},\"marker\":{\"symbol\":\"circle\"},\"mode\":\"lines\",\"name\":\"\",\"orientation\":\"v\",\"showlegend\":false,\"xaxis\":\"x\",\"yaxis\":\"y\",\"type\":\"scatter\"},{\"line\":{\"color\":\"red\"},\"mode\":\"lines+markers\",\"name\":\"Train RMSE\",\"x\":[1,2,3,4,5,6,7,8,9,10,11,12,13,14,15,16,17,18,19,20,21,22,23,24,25,26,27,28,29,30,31,32,33,34,35,36,37,38,39,40,41,42,43,44,45,46,47,48,49,50,51,52,53,54,55,56,57,58,59,60,61,62,63,64,65,66,67,68,69,70,71,72,73,74,75,76,77,78,79,80,81,82,83,84,85,86,87,88,89,90,91,92,93,94,95,96,97,98,99,100],\"y\":[5844.79736328125,2811.19287109375,2139.4658203125,2005.2056884765625,1971.40576171875,1933.7227783203125,1921.346435546875,1897.8109130859375,1889.396240234375,1873.2935791015625,1862.311767578125,1867.1474609375,1835.841796875,1824.3731689453125,1838.57666015625,1816.7703857421875,1819.5989990234375,1798.9195556640625,1794.6011962890625,1778.123779296875,1793.43017578125,1795.4339599609375,1775.146728515625,1783.93359375,1773.703857421875,1765.8145751953125,1767.8494873046875,1751.096923828125,1736.259765625,1746.5279541015625,1731.9635009765625,1735.5994873046875,1729.939697265625,1717.61328125,1727.5689697265625,1726.1142578125,1707.7099609375,1704.53369140625,1721.1837158203125,1707.50927734375,1700.3382568359375,1689.1781005859375,1699.6636962890625,1696.35302734375,1683.5811767578125,1701.5330810546875,1706.7144775390625,1688.5450439453125,1691.2899169921875,1689.24169921875,1680.4317626953125,1673.7208251953125,1684.343994140625,1675.3099365234375,1669.219482421875,1679.2633056640625,1675.7591552734375,1669.41064453125,1679.7440185546875,1669.932861328125,1662.59130859375,1660.156005859375,1657.9981689453125,1658.2222900390625,1664.1353759765625,1667.984375,1666.926513671875,1653.279296875,1658.9449462890625,1655.8721923828125,1665.5821533203125,1653.8084716796875,1643.3294677734375,1649.1746826171875,1661.3863525390625,1648.37353515625,1652.5726318359375,1641.1309814453125,1632.325439453125,1632.7001953125,1631.6224365234375,1640.638671875,1617.3507080078125,1631.31689453125,1616.38330078125,1621.5146484375,1626.770751953125,1623.71923828125,1624.1822509765625,1625.8155517578125,1599.7403564453125,1613.8953857421875,1612.2872314453125,1614.9844970703125,1600.4066162109375,1611.338623046875,1594.5439453125,1590.426513671875,1581.3043212890625,1592.87548828125],\"type\":\"scatter\"},{\"line\":{\"color\":\"blue\"},\"mode\":\"lines+markers\",\"name\":\"Dev RMSE\",\"x\":[1,2,3,4,5,6,7,8,9,10,11,12,13,14,15,16,17,18,19,20,21,22,23,24,25,26,27,28,29,30,31,32,33,34,35,36,37,38,39,40,41,42,43,44,45,46,47,48,49,50,51,52,53,54,55,56,57,58,59,60,61,62,63,64,65,66,67,68,69,70,71,72,73,74,75,76,77,78,79,80,81,82,83,84,85,86,87,88,89,90,91,92,93,94,95,96,97,98,99,100],\"y\":[3454.544921875,2612.613525390625,2288.38720703125,2258.964599609375,2245.35498046875,2159.83251953125,2139.91796875,2146.829833984375,2132.541748046875,2150.048828125,2128.000732421875,2054.94140625,2061.717041015625,2057.067626953125,2045.1226806640625,1901.3955078125,2055.313232421875,1942.6201171875,1969.79052734375,1966.2220458984375,1916.8980712890625,1980.9395751953125,1970.7703857421875,1994.222412109375,1948.4365234375,1884.2474365234375,1964.135009765625,1920.8323974609375,1910.8380126953125,1907.2122802734375,1854.0452880859375,1883.7021484375,1950.8223876953125,1862.0430908203125,1852.6728515625,1857.3665771484375,1879.6868896484375,1822.453369140625,1914.237060546875,1825.32470703125,1850.1265869140625,1840.9986572265625,1818.3330078125,1890.5281982421875,1855.685302734375,1819.1787109375,1847.68603515625,1818.0426025390625,1825.4788818359375,1863.083984375,1819.0958251953125,1876.3675537109375,1842.4232177734375,1832.788330078125,1807.4488525390625,1844.6082763671875,1839.7012939453125,1836.1678466796875,1856.9224853515625,1847.7967529296875,1841.8201904296875,1826.0513916015625,1851.4254150390625,1894.2803955078125,1891.8199462890625,1831.058837890625,1790.5450439453125,1833.8995361328125,1844.6392822265625,1853.2938232421875,1794.359619140625,1815.272216796875,1863.9453125,1786.1060791015625,1795.976318359375,1844.755859375,1789.1796875,1797.2344970703125,1772.40380859375,1890.8997802734375,1798.0792236328125,1784.1290283203125,1823.151123046875,1781.21533203125,1808.3839111328125,1781.872802734375,1829.4398193359375,1808.5955810546875,1752.2633056640625,1778.1468505859375,1867.0723876953125,1780.94140625,1806.708984375,1816.25146484375,1778.953857421875,1794.172119140625,1780.97021484375,1798.9761962890625,1829.4212646484375,1757.5758056640625],\"type\":\"scatter\"}],                        {\"template\":{\"data\":{\"histogram2dcontour\":[{\"type\":\"histogram2dcontour\",\"colorbar\":{\"outlinewidth\":0,\"ticks\":\"\"},\"colorscale\":[[0.0,\"#0d0887\"],[0.1111111111111111,\"#46039f\"],[0.2222222222222222,\"#7201a8\"],[0.3333333333333333,\"#9c179e\"],[0.4444444444444444,\"#bd3786\"],[0.5555555555555556,\"#d8576b\"],[0.6666666666666666,\"#ed7953\"],[0.7777777777777778,\"#fb9f3a\"],[0.8888888888888888,\"#fdca26\"],[1.0,\"#f0f921\"]]}],\"choropleth\":[{\"type\":\"choropleth\",\"colorbar\":{\"outlinewidth\":0,\"ticks\":\"\"}}],\"histogram2d\":[{\"type\":\"histogram2d\",\"colorbar\":{\"outlinewidth\":0,\"ticks\":\"\"},\"colorscale\":[[0.0,\"#0d0887\"],[0.1111111111111111,\"#46039f\"],[0.2222222222222222,\"#7201a8\"],[0.3333333333333333,\"#9c179e\"],[0.4444444444444444,\"#bd3786\"],[0.5555555555555556,\"#d8576b\"],[0.6666666666666666,\"#ed7953\"],[0.7777777777777778,\"#fb9f3a\"],[0.8888888888888888,\"#fdca26\"],[1.0,\"#f0f921\"]]}],\"heatmap\":[{\"type\":\"heatmap\",\"colorbar\":{\"outlinewidth\":0,\"ticks\":\"\"},\"colorscale\":[[0.0,\"#0d0887\"],[0.1111111111111111,\"#46039f\"],[0.2222222222222222,\"#7201a8\"],[0.3333333333333333,\"#9c179e\"],[0.4444444444444444,\"#bd3786\"],[0.5555555555555556,\"#d8576b\"],[0.6666666666666666,\"#ed7953\"],[0.7777777777777778,\"#fb9f3a\"],[0.8888888888888888,\"#fdca26\"],[1.0,\"#f0f921\"]]}],\"heatmapgl\":[{\"type\":\"heatmapgl\",\"colorbar\":{\"outlinewidth\":0,\"ticks\":\"\"},\"colorscale\":[[0.0,\"#0d0887\"],[0.1111111111111111,\"#46039f\"],[0.2222222222222222,\"#7201a8\"],[0.3333333333333333,\"#9c179e\"],[0.4444444444444444,\"#bd3786\"],[0.5555555555555556,\"#d8576b\"],[0.6666666666666666,\"#ed7953\"],[0.7777777777777778,\"#fb9f3a\"],[0.8888888888888888,\"#fdca26\"],[1.0,\"#f0f921\"]]}],\"contourcarpet\":[{\"type\":\"contourcarpet\",\"colorbar\":{\"outlinewidth\":0,\"ticks\":\"\"}}],\"contour\":[{\"type\":\"contour\",\"colorbar\":{\"outlinewidth\":0,\"ticks\":\"\"},\"colorscale\":[[0.0,\"#0d0887\"],[0.1111111111111111,\"#46039f\"],[0.2222222222222222,\"#7201a8\"],[0.3333333333333333,\"#9c179e\"],[0.4444444444444444,\"#bd3786\"],[0.5555555555555556,\"#d8576b\"],[0.6666666666666666,\"#ed7953\"],[0.7777777777777778,\"#fb9f3a\"],[0.8888888888888888,\"#fdca26\"],[1.0,\"#f0f921\"]]}],\"surface\":[{\"type\":\"surface\",\"colorbar\":{\"outlinewidth\":0,\"ticks\":\"\"},\"colorscale\":[[0.0,\"#0d0887\"],[0.1111111111111111,\"#46039f\"],[0.2222222222222222,\"#7201a8\"],[0.3333333333333333,\"#9c179e\"],[0.4444444444444444,\"#bd3786\"],[0.5555555555555556,\"#d8576b\"],[0.6666666666666666,\"#ed7953\"],[0.7777777777777778,\"#fb9f3a\"],[0.8888888888888888,\"#fdca26\"],[1.0,\"#f0f921\"]]}],\"mesh3d\":[{\"type\":\"mesh3d\",\"colorbar\":{\"outlinewidth\":0,\"ticks\":\"\"}}],\"scatter\":[{\"fillpattern\":{\"fillmode\":\"overlay\",\"size\":10,\"solidity\":0.2},\"type\":\"scatter\"}],\"parcoords\":[{\"type\":\"parcoords\",\"line\":{\"colorbar\":{\"outlinewidth\":0,\"ticks\":\"\"}}}],\"scatterpolargl\":[{\"type\":\"scatterpolargl\",\"marker\":{\"colorbar\":{\"outlinewidth\":0,\"ticks\":\"\"}}}],\"bar\":[{\"error_x\":{\"color\":\"#2a3f5f\"},\"error_y\":{\"color\":\"#2a3f5f\"},\"marker\":{\"line\":{\"color\":\"#E5ECF6\",\"width\":0.5},\"pattern\":{\"fillmode\":\"overlay\",\"size\":10,\"solidity\":0.2}},\"type\":\"bar\"}],\"scattergeo\":[{\"type\":\"scattergeo\",\"marker\":{\"colorbar\":{\"outlinewidth\":0,\"ticks\":\"\"}}}],\"scatterpolar\":[{\"type\":\"scatterpolar\",\"marker\":{\"colorbar\":{\"outlinewidth\":0,\"ticks\":\"\"}}}],\"histogram\":[{\"marker\":{\"pattern\":{\"fillmode\":\"overlay\",\"size\":10,\"solidity\":0.2}},\"type\":\"histogram\"}],\"scattergl\":[{\"type\":\"scattergl\",\"marker\":{\"colorbar\":{\"outlinewidth\":0,\"ticks\":\"\"}}}],\"scatter3d\":[{\"type\":\"scatter3d\",\"line\":{\"colorbar\":{\"outlinewidth\":0,\"ticks\":\"\"}},\"marker\":{\"colorbar\":{\"outlinewidth\":0,\"ticks\":\"\"}}}],\"scattermapbox\":[{\"type\":\"scattermapbox\",\"marker\":{\"colorbar\":{\"outlinewidth\":0,\"ticks\":\"\"}}}],\"scatterternary\":[{\"type\":\"scatterternary\",\"marker\":{\"colorbar\":{\"outlinewidth\":0,\"ticks\":\"\"}}}],\"scattercarpet\":[{\"type\":\"scattercarpet\",\"marker\":{\"colorbar\":{\"outlinewidth\":0,\"ticks\":\"\"}}}],\"carpet\":[{\"aaxis\":{\"endlinecolor\":\"#2a3f5f\",\"gridcolor\":\"white\",\"linecolor\":\"white\",\"minorgridcolor\":\"white\",\"startlinecolor\":\"#2a3f5f\"},\"baxis\":{\"endlinecolor\":\"#2a3f5f\",\"gridcolor\":\"white\",\"linecolor\":\"white\",\"minorgridcolor\":\"white\",\"startlinecolor\":\"#2a3f5f\"},\"type\":\"carpet\"}],\"table\":[{\"cells\":{\"fill\":{\"color\":\"#EBF0F8\"},\"line\":{\"color\":\"white\"}},\"header\":{\"fill\":{\"color\":\"#C8D4E3\"},\"line\":{\"color\":\"white\"}},\"type\":\"table\"}],\"barpolar\":[{\"marker\":{\"line\":{\"color\":\"#E5ECF6\",\"width\":0.5},\"pattern\":{\"fillmode\":\"overlay\",\"size\":10,\"solidity\":0.2}},\"type\":\"barpolar\"}],\"pie\":[{\"automargin\":true,\"type\":\"pie\"}]},\"layout\":{\"autotypenumbers\":\"strict\",\"colorway\":[\"#636efa\",\"#EF553B\",\"#00cc96\",\"#ab63fa\",\"#FFA15A\",\"#19d3f3\",\"#FF6692\",\"#B6E880\",\"#FF97FF\",\"#FECB52\"],\"font\":{\"color\":\"#2a3f5f\"},\"hovermode\":\"closest\",\"hoverlabel\":{\"align\":\"left\"},\"paper_bgcolor\":\"white\",\"plot_bgcolor\":\"#E5ECF6\",\"polar\":{\"bgcolor\":\"#E5ECF6\",\"angularaxis\":{\"gridcolor\":\"white\",\"linecolor\":\"white\",\"ticks\":\"\"},\"radialaxis\":{\"gridcolor\":\"white\",\"linecolor\":\"white\",\"ticks\":\"\"}},\"ternary\":{\"bgcolor\":\"#E5ECF6\",\"aaxis\":{\"gridcolor\":\"white\",\"linecolor\":\"white\",\"ticks\":\"\"},\"baxis\":{\"gridcolor\":\"white\",\"linecolor\":\"white\",\"ticks\":\"\"},\"caxis\":{\"gridcolor\":\"white\",\"linecolor\":\"white\",\"ticks\":\"\"}},\"coloraxis\":{\"colorbar\":{\"outlinewidth\":0,\"ticks\":\"\"}},\"colorscale\":{\"sequential\":[[0.0,\"#0d0887\"],[0.1111111111111111,\"#46039f\"],[0.2222222222222222,\"#7201a8\"],[0.3333333333333333,\"#9c179e\"],[0.4444444444444444,\"#bd3786\"],[0.5555555555555556,\"#d8576b\"],[0.6666666666666666,\"#ed7953\"],[0.7777777777777778,\"#fb9f3a\"],[0.8888888888888888,\"#fdca26\"],[1.0,\"#f0f921\"]],\"sequentialminus\":[[0.0,\"#0d0887\"],[0.1111111111111111,\"#46039f\"],[0.2222222222222222,\"#7201a8\"],[0.3333333333333333,\"#9c179e\"],[0.4444444444444444,\"#bd3786\"],[0.5555555555555556,\"#d8576b\"],[0.6666666666666666,\"#ed7953\"],[0.7777777777777778,\"#fb9f3a\"],[0.8888888888888888,\"#fdca26\"],[1.0,\"#f0f921\"]],\"diverging\":[[0,\"#8e0152\"],[0.1,\"#c51b7d\"],[0.2,\"#de77ae\"],[0.3,\"#f1b6da\"],[0.4,\"#fde0ef\"],[0.5,\"#f7f7f7\"],[0.6,\"#e6f5d0\"],[0.7,\"#b8e186\"],[0.8,\"#7fbc41\"],[0.9,\"#4d9221\"],[1,\"#276419\"]]},\"xaxis\":{\"gridcolor\":\"white\",\"linecolor\":\"white\",\"ticks\":\"\",\"title\":{\"standoff\":15},\"zerolinecolor\":\"white\",\"automargin\":true,\"zerolinewidth\":2},\"yaxis\":{\"gridcolor\":\"white\",\"linecolor\":\"white\",\"ticks\":\"\",\"title\":{\"standoff\":15},\"zerolinecolor\":\"white\",\"automargin\":true,\"zerolinewidth\":2},\"scene\":{\"xaxis\":{\"backgroundcolor\":\"#E5ECF6\",\"gridcolor\":\"white\",\"linecolor\":\"white\",\"showbackground\":true,\"ticks\":\"\",\"zerolinecolor\":\"white\",\"gridwidth\":2},\"yaxis\":{\"backgroundcolor\":\"#E5ECF6\",\"gridcolor\":\"white\",\"linecolor\":\"white\",\"showbackground\":true,\"ticks\":\"\",\"zerolinecolor\":\"white\",\"gridwidth\":2},\"zaxis\":{\"backgroundcolor\":\"#E5ECF6\",\"gridcolor\":\"white\",\"linecolor\":\"white\",\"showbackground\":true,\"ticks\":\"\",\"zerolinecolor\":\"white\",\"gridwidth\":2}},\"shapedefaults\":{\"line\":{\"color\":\"#2a3f5f\"}},\"annotationdefaults\":{\"arrowcolor\":\"#2a3f5f\",\"arrowhead\":0,\"arrowwidth\":1},\"geo\":{\"bgcolor\":\"white\",\"landcolor\":\"#E5ECF6\",\"subunitcolor\":\"white\",\"showland\":true,\"showlakes\":true,\"lakecolor\":\"white\"},\"title\":{\"x\":0.05},\"mapbox\":{\"style\":\"light\"}}},\"xaxis\":{\"anchor\":\"y\",\"domain\":[0.0,1.0],\"title\":{\"text\":\"Epochs\"}},\"yaxis\":{\"anchor\":\"x\",\"domain\":[0.0,1.0],\"title\":{\"text\":\"RMSE\"}},\"legend\":{\"tracegroupgap\":0},\"title\":{\"text\":\"train RMSE vs. dev RMSE\"}},                        {\"responsive\": true}                    ).then(function(){\n",
              "                            \n",
              "var gd = document.getElementById('a9382565-9c2b-48b0-bd10-346bfb78f0eb');\n",
              "var x = new MutationObserver(function (mutations, observer) {{\n",
              "        var display = window.getComputedStyle(gd).display;\n",
              "        if (!display || display === 'none') {{\n",
              "            console.log([gd, 'removed!']);\n",
              "            Plotly.purge(gd);\n",
              "            observer.disconnect();\n",
              "        }}\n",
              "}});\n",
              "\n",
              "// Listen for the removal of the full notebook cells\n",
              "var notebookContainer = gd.closest('#notebook-container');\n",
              "if (notebookContainer) {{\n",
              "    x.observe(notebookContainer, {childList: true});\n",
              "}}\n",
              "\n",
              "// Listen for the clearing of the current output cell\n",
              "var outputEl = gd.closest('.output');\n",
              "if (outputEl) {{\n",
              "    x.observe(outputEl, {childList: true});\n",
              "}}\n",
              "\n",
              "                        })                };                            </script>        </div>\n",
              "</body>\n",
              "</html>"
            ]
          },
          "metadata": {}
        }
      ]
    },
    {
      "cell_type": "code",
      "source": [
        "# Explain model predictions using shap library:\n",
        "explainer = shap.DeepExplainer(model_seq, X_train_scaled_3d)\n",
        "shap_values = explainer.shap_values(X_train_scaled_3d)\n",
        "\n",
        "# Plot summary_plot as barplot:\n",
        "shap.summary_plot(shap_values, X_train_scaled, feature_names=features, plot_type='bar', plot_size=[15,5])"
      ],
      "metadata": {
        "id": "de-Brsyzo-9-",
        "outputId": "a0b00bf8-f9aa-4866-d1d5-b8b43306b32f",
        "colab": {
          "base_uri": "https://localhost:8080/",
          "height": 460
        }
      },
      "id": "de-Brsyzo-9-",
      "execution_count": null,
      "outputs": [
        {
          "output_type": "stream",
          "name": "stderr",
          "text": [
            "/usr/local/lib/python3.10/dist-packages/shap/explainers/_deep/deep_tf.py:107: UserWarning:\n",
            "\n",
            "Your TensorFlow version is newer than 2.4.0 and so graph support has been removed in eager mode and some static graphs may not be supported. See PR #1483 for discussion.\n",
            "\n"
          ]
        },
        {
          "output_type": "error",
          "ename": "AttributeError",
          "evalue": "ignored",
          "traceback": [
            "\u001b[0;31m---------------------------------------------------------------------------\u001b[0m",
            "\u001b[0;31mAttributeError\u001b[0m                            Traceback (most recent call last)",
            "\u001b[0;32m<ipython-input-108-55215e9fd474>\u001b[0m in \u001b[0;36m<cell line: 3>\u001b[0;34m()\u001b[0m\n\u001b[1;32m      1\u001b[0m \u001b[0;31m# Explain model predictions using shap library:\u001b[0m\u001b[0;34m\u001b[0m\u001b[0;34m\u001b[0m\u001b[0m\n\u001b[1;32m      2\u001b[0m \u001b[0mexplainer\u001b[0m \u001b[0;34m=\u001b[0m \u001b[0mshap\u001b[0m\u001b[0;34m.\u001b[0m\u001b[0mDeepExplainer\u001b[0m\u001b[0;34m(\u001b[0m\u001b[0mmodel_seq\u001b[0m\u001b[0;34m,\u001b[0m \u001b[0mX_train_scaled_3d\u001b[0m\u001b[0;34m)\u001b[0m\u001b[0;34m\u001b[0m\u001b[0;34m\u001b[0m\u001b[0m\n\u001b[0;32m----> 3\u001b[0;31m \u001b[0mshap_values\u001b[0m \u001b[0;34m=\u001b[0m \u001b[0mexplainer\u001b[0m\u001b[0;34m.\u001b[0m\u001b[0mshap_values\u001b[0m\u001b[0;34m(\u001b[0m\u001b[0mdataset\u001b[0m\u001b[0;34m)\u001b[0m\u001b[0;34m\u001b[0m\u001b[0;34m\u001b[0m\u001b[0m\n\u001b[0m\u001b[1;32m      4\u001b[0m \u001b[0;34m\u001b[0m\u001b[0m\n\u001b[1;32m      5\u001b[0m \u001b[0;31m# Plot summary_plot as barplot:\u001b[0m\u001b[0;34m\u001b[0m\u001b[0;34m\u001b[0m\u001b[0m\n",
            "\u001b[0;32m/usr/local/lib/python3.10/dist-packages/shap/explainers/_deep/__init__.py\u001b[0m in \u001b[0;36mshap_values\u001b[0;34m(self, X, ranked_outputs, output_rank_order, check_additivity)\u001b[0m\n\u001b[1;32m    122\u001b[0m             \u001b[0mwere\u001b[0m \u001b[0mchosen\u001b[0m \u001b[0;32mas\u001b[0m \u001b[0;34m\"top\"\u001b[0m\u001b[0;34m.\u001b[0m\u001b[0;34m\u001b[0m\u001b[0;34m\u001b[0m\u001b[0m\n\u001b[1;32m    123\u001b[0m         \"\"\"\n\u001b[0;32m--> 124\u001b[0;31m         \u001b[0;32mreturn\u001b[0m \u001b[0mself\u001b[0m\u001b[0;34m.\u001b[0m\u001b[0mexplainer\u001b[0m\u001b[0;34m.\u001b[0m\u001b[0mshap_values\u001b[0m\u001b[0;34m(\u001b[0m\u001b[0mX\u001b[0m\u001b[0;34m,\u001b[0m \u001b[0mranked_outputs\u001b[0m\u001b[0;34m,\u001b[0m \u001b[0moutput_rank_order\u001b[0m\u001b[0;34m,\u001b[0m \u001b[0mcheck_additivity\u001b[0m\u001b[0;34m=\u001b[0m\u001b[0mcheck_additivity\u001b[0m\u001b[0;34m)\u001b[0m\u001b[0;34m\u001b[0m\u001b[0;34m\u001b[0m\u001b[0m\n\u001b[0m",
            "\u001b[0;32m/usr/local/lib/python3.10/dist-packages/shap/explainers/_deep/deep_tf.py\u001b[0m in \u001b[0;36mshap_values\u001b[0;34m(self, X, ranked_outputs, output_rank_order, check_additivity)\u001b[0m\n\u001b[1;32m    293\u001b[0m             \u001b[0mmodel_output_ranks\u001b[0m \u001b[0;34m=\u001b[0m \u001b[0mmodel_output_ranks\u001b[0m\u001b[0;34m[\u001b[0m\u001b[0;34m:\u001b[0m\u001b[0;34m,\u001b[0m\u001b[0;34m:\u001b[0m\u001b[0mranked_outputs\u001b[0m\u001b[0;34m]\u001b[0m\u001b[0;34m\u001b[0m\u001b[0;34m\u001b[0m\u001b[0m\n\u001b[1;32m    294\u001b[0m         \u001b[0;32melse\u001b[0m\u001b[0;34m:\u001b[0m\u001b[0;34m\u001b[0m\u001b[0;34m\u001b[0m\u001b[0m\n\u001b[0;32m--> 295\u001b[0;31m             \u001b[0mmodel_output_ranks\u001b[0m \u001b[0;34m=\u001b[0m \u001b[0mnp\u001b[0m\u001b[0;34m.\u001b[0m\u001b[0mtile\u001b[0m\u001b[0;34m(\u001b[0m\u001b[0mnp\u001b[0m\u001b[0;34m.\u001b[0m\u001b[0marange\u001b[0m\u001b[0;34m(\u001b[0m\u001b[0mlen\u001b[0m\u001b[0;34m(\u001b[0m\u001b[0mself\u001b[0m\u001b[0;34m.\u001b[0m\u001b[0mphi_symbolics\u001b[0m\u001b[0;34m)\u001b[0m\u001b[0;34m)\u001b[0m\u001b[0;34m,\u001b[0m \u001b[0;34m(\u001b[0m\u001b[0mX\u001b[0m\u001b[0;34m[\u001b[0m\u001b[0;36m0\u001b[0m\u001b[0;34m]\u001b[0m\u001b[0;34m.\u001b[0m\u001b[0mshape\u001b[0m\u001b[0;34m[\u001b[0m\u001b[0;36m0\u001b[0m\u001b[0;34m]\u001b[0m\u001b[0;34m,\u001b[0m \u001b[0;36m1\u001b[0m\u001b[0;34m)\u001b[0m\u001b[0;34m)\u001b[0m\u001b[0;34m\u001b[0m\u001b[0;34m\u001b[0m\u001b[0m\n\u001b[0m\u001b[1;32m    296\u001b[0m \u001b[0;34m\u001b[0m\u001b[0m\n\u001b[1;32m    297\u001b[0m         \u001b[0;31m# compute the attributions\u001b[0m\u001b[0;34m\u001b[0m\u001b[0;34m\u001b[0m\u001b[0m\n",
            "\u001b[0;31mAttributeError\u001b[0m: '_BatchDataset' object has no attribute 'shape'"
          ]
        }
      ]
    },
    {
      "cell_type": "code",
      "source": [
        "# utils\n",
        "def get_error_sequential(model, X, y, seq_length):\n",
        "    # Evaluate the model's performance using RMSE on dataset X, y\n",
        "    y_hat = model.predict(X)\n",
        "\n",
        "    # Reshaping array for calculating RMSE\n",
        "    y_flattened = y.reshape(len(y), seq_length)\n",
        "    y_hat_flattened = y_hat.reshape(len(y_hat), seq_length)\n",
        "\n",
        "    rmse = np.sqrt(mean_squared_error(y_flattened, y_hat_flattened))\n",
        "    return rmse\n",
        "\n",
        "print(\"Train RMSE: %f\" % (get_error_sequential(model_seq, X_train_scaled_3d, y_train_3d, 4)))\n",
        "print(\"Dev RMSE: %f\" % (get_error_sequential(model_seq, X_dev_scaled_3d, y_dev_3d, 4)))"
      ],
      "metadata": {
        "id": "yTUneZ4s-7jP",
        "outputId": "2fe76791-094b-4702-86d4-d9fadb4268b9",
        "colab": {
          "base_uri": "https://localhost:8080/"
        }
      },
      "id": "yTUneZ4s-7jP",
      "execution_count": null,
      "outputs": [
        {
          "output_type": "stream",
          "name": "stderr",
          "text": [
            "/usr/local/lib/python3.10/dist-packages/ipykernel/ipkernel.py:283: DeprecationWarning:\n",
            "\n",
            "`should_run_async` will not call `transform_cell` automatically in the future. Please pass the result to `transformed_cell` argument and any exception that happen during thetransform in `preprocessing_exc_tuple` in IPython 7.17 and above.\n",
            "\n"
          ]
        },
        {
          "output_type": "stream",
          "name": "stdout",
          "text": [
            "92/92 [==============================] - 1s 9ms/step\n",
            "Train RMSE: 1516.949516\n",
            "12/12 [==============================] - 0s 5ms/step\n",
            "Dev RMSE: 1757.575771\n"
          ]
        }
      ]
    },
    {
      "cell_type": "code",
      "execution_count": null,
      "metadata": {
        "id": "t-QSP6ba9x2S"
      },
      "outputs": [],
      "source": [
        "\"\"\"\n",
        "Complex model takes very long and val score is not much better. It overfitted\n",
        "Epoch 50/50\n",
        "92/92 [==============================] - 25s 273ms/step - loss: 1557592.7500 - root_mean_squared_error: 1248.0355 - val_loss: 2976063.0000 - val_root_mean_squared_error: 1725.1270\n",
        "\"\"\"\n",
        "\n",
        "\n",
        "#num_samples = len(X_train_scaled_3d)\n",
        "num_sequence = 4\n",
        "# Build the LSTM model\n",
        "\n",
        "CONV_WIDTH = 3\n",
        "\n",
        "model = tf.keras.Sequential(\n",
        "        [\n",
        "            tf.keras.layers.ConvLSTM2D(filters=512, kernel_size=(1,2), activation='relu', dropout=0.2, input_shape=(2, 1, 2, 23)),\n",
        "            tf.keras.layers.Dense(\n",
        "                num_sequence, kernel_initializer=tf.initializers.zeros()\n",
        "            ),\n",
        "            tf.keras.layers.Reshape([num_sequence, 1]),\n",
        "        ]\n",
        "    )\n",
        "\n",
        "optimizer = Adam(learning_rate=0.01)\n",
        "model.compile(optimizer=optimizer, loss='mse', metrics=[RootMeanSquaredError()])\n",
        "\n",
        "print(model.summary())\n",
        "\n",
        "X = X_train_scaled_3d.reshape((X_train_scaled_3d.shape[0], 2, 1, 2, 23))\n",
        "Xdev = X_dev_scaled_3d.reshape((X_dev_scaled_3d.shape[0], 2, 1, 2, 23))\n",
        "\n",
        "history = model.fit(X, y_train_3d, epochs=50, batch_size=32, validation_data=(Xdev, y_dev_3d))"
      ],
      "id": "t-QSP6ba9x2S"
    },
    {
      "cell_type": "markdown",
      "metadata": {
        "id": "v3FCqONIDCU2"
      },
      "source": [
        "<a name=\"7.\"></a>\n",
        "# 7.&nbsp;Summary and conclusion\n",
        "[Content](#content)"
      ],
      "id": "v3FCqONIDCU2"
    },
    {
      "cell_type": "markdown",
      "source": [
        "We have trained three different models with increasing complexity. For the problem at hand it can be said that the more complex MLP model or LSTM model did not perform better, than the simpler XGBoost model. In fact, the LSTM model performt worse than the two previous ones.\n",
        "\n",
        "While the XGBoost model already did well with standard parameters, it was more difficult to find a good architecture with the more complex model MLP and LSTM which was especially true for the last model.\n",
        "\n",
        "A possible reason, why the LSTM model performed worse could be, that the problem at hand has not a strong sequential nature. The dataset is clearly time series data, but the different data points or not very dependent on the previous data points. An easy ilustration to this is, that the people taking a bycicle today, do not care about the weather of yesterday or how many people took the bicyle one day ago. Much more relevant is the current day of the week and the weather of today. Therefore the sequential LSTM model mostly added complexity without adding much of value."
      ],
      "metadata": {
        "id": "urK_A--4Duuj"
      },
      "id": "urK_A--4Duuj"
    },
    {
      "cell_type": "code",
      "execution_count": null,
      "metadata": {
        "colab": {
          "base_uri": "https://localhost:8080/"
        },
        "outputId": "d8b1665a-51e2-4abd-89d0-301a25a32e84",
        "id": "Pi51ZxlXqxlA"
      },
      "outputs": [
        {
          "output_type": "stream",
          "name": "stdout",
          "text": [
            "Model: \"model_5\"\n",
            "_________________________________________________________________\n",
            " Layer (type)                Output Shape              Param #   \n",
            "=================================================================\n",
            " input_7 (InputLayer)        [(None, 4, 13)]           0         \n",
            "                                                                 \n",
            " bidirectional_10 (Bidirecti  (None, 4, 128)           39936     \n",
            " onal)                                                           \n",
            "                                                                 \n",
            " bidirectional_11 (Bidirecti  (None, 4, 64)            41216     \n",
            " onal)                                                           \n",
            "                                                                 \n",
            " dense_8 (Dense)             (None, 4, 1)              65        \n",
            "                                                                 \n",
            "=================================================================\n",
            "Total params: 81,217\n",
            "Trainable params: 81,217\n",
            "Non-trainable params: 0\n",
            "_________________________________________________________________\n",
            "None\n",
            "Epoch 1/10\n",
            "92/92 [==============================] - 9s 42ms/step - loss: 34699160.0000 - root_mean_squared_error: 5890.5991 - val_loss: 11886261.0000 - val_root_mean_squared_error: 3447.6460\n",
            "Epoch 2/10\n",
            "92/92 [==============================] - 3s 36ms/step - loss: 7404714.0000 - root_mean_squared_error: 2721.1602 - val_loss: 6774370.0000 - val_root_mean_squared_error: 2602.7617\n",
            "Epoch 3/10\n",
            "92/92 [==============================] - 2s 18ms/step - loss: 4837188.5000 - root_mean_squared_error: 2199.3608 - val_loss: 5235229.0000 - val_root_mean_squared_error: 2288.0623\n",
            "Epoch 4/10\n",
            "92/92 [==============================] - 2s 24ms/step - loss: 4083634.5000 - root_mean_squared_error: 2020.8004 - val_loss: 4775735.0000 - val_root_mean_squared_error: 2185.3455\n",
            "Epoch 5/10\n",
            "92/92 [==============================] - 3s 27ms/step - loss: 3849119.5000 - root_mean_squared_error: 1961.9171 - val_loss: 5005984.0000 - val_root_mean_squared_error: 2237.4058\n",
            "Epoch 6/10\n",
            "92/92 [==============================] - 1s 16ms/step - loss: 3771984.0000 - root_mean_squared_error: 1942.1597 - val_loss: 4629778.0000 - val_root_mean_squared_error: 2151.6919\n",
            "Epoch 7/10\n",
            "92/92 [==============================] - 3s 32ms/step - loss: 3710187.5000 - root_mean_squared_error: 1926.1847 - val_loss: 4636717.5000 - val_root_mean_squared_error: 2153.3040\n",
            "Epoch 8/10\n",
            "92/92 [==============================] - 4s 43ms/step - loss: 3649427.5000 - root_mean_squared_error: 1910.3475 - val_loss: 4388221.0000 - val_root_mean_squared_error: 2094.8081\n",
            "Epoch 9/10\n",
            "92/92 [==============================] - 1s 16ms/step - loss: 3592765.5000 - root_mean_squared_error: 1895.4592 - val_loss: 3887623.5000 - val_root_mean_squared_error: 1971.7057\n",
            "Epoch 10/10\n",
            "92/92 [==============================] - 1s 15ms/step - loss: 3509326.5000 - root_mean_squared_error: 1873.3197 - val_loss: 4403028.0000 - val_root_mean_squared_error: 2098.3394\n"
          ]
        }
      ],
      "source": [
        "\"\"\"\n",
        "Simple bidrectional LSTM model\n",
        "\n",
        "\"\"\"\n",
        "\n",
        "\n",
        "num_sequence = 4\n",
        "# Build the LSTM model\n",
        "\"\"\"\n",
        "model = Sequential()\n",
        "model.add(LSTM(units=256, input_shape=(1, X_train.shape[1]), activation='relu'))\n",
        "# Add a dense output layer with a single unit (for regression) and no activation function\n",
        "model.add(Dense(units=1))\n",
        "\"\"\"\n",
        "\"\"\"\n",
        "model = tf.keras.models.Sequential([\n",
        "    # Shape [batch, time, features] => [batch, time, lstm_units]\n",
        "    tf.keras.layers.LSTM(64),\n",
        "    # Shape => [batch, time, features]\n",
        "    tf.keras.layers.Dense(units=1)\n",
        "])\n",
        "\"\"\"\n",
        "# Build the LSTM model\n",
        "\"\"\"\n",
        "model = Sequential()\n",
        "model.add(Input(shape=(num_sequence, 21)))\n",
        "model.add(LSTM(units=32, activation='relu', dropout=0.1))\n",
        "model.add(Dense(units=1, activation='linear'))\n",
        "\n",
        "model = Sequential([\n",
        "    #Input(shape=(num_sequence, 21)),\n",
        "    # Shape [batch, time, features] => [batch, time, lstm_units]\n",
        "    LSTM(32, activation='relu', dropout=0.1, return_sequences=True),\n",
        "    # Shape => [batch, time, features]\n",
        "    Dense(units=1, activation='linear')\n",
        "])\"\"\"\n",
        "\n",
        "CONV_WIDTH = 3\n",
        "\n",
        "\n",
        "\"\"\"OUT_STEPS = 4\n",
        "model = tf.keras.Sequential(\n",
        "    [\n",
        "        Input(shape=(num_sequence, 23)),\n",
        "        tf.keras.layers.Lambda(lambda x: x[:, -CONV_WIDTH:, :]),\n",
        "        tf.keras.layers.Conv1D(256, activation=\"relu\", kernel_size=(CONV_WIDTH)),\n",
        "        tf.keras.layers.Bidirectional(\n",
        "            tf.keras.layers.LSTM(32, return_sequences=True)\n",
        "        ),\n",
        "        tf.keras.layers.Bidirectional(\n",
        "            tf.keras.layers.LSTM(32, return_sequences=False)\n",
        "        ),\n",
        "        tf.keras.layers.Dense(\n",
        "            OUT_STEPS * 1, kernel_initializer=tf.initializers.zeros()\n",
        "        ),\n",
        "        tf.keras.layers.Reshape([OUT_STEPS, 1]),\n",
        "    ]\n",
        ")\n",
        "\"\"\"\n",
        "\n",
        "inputs = Input(shape=(num_sequence, len(features))\n",
        "#x = tf.keras.layers.Lambda(lambda x: x[:, -CONV_WIDTH:, :])(inputs)\n",
        "#x = tf.keras.layers.Conv1D(256, activation=\"relu\", kernel_size=(CONV_WIDTH))(x)\n",
        "x = Bidirectional(LSTM(64, activation='relu', dropout=0.25, return_sequences=True))(inputs)\n",
        "x = Bidirectional(LSTM(32, activation='relu', dropout=0.25, return_sequences=True))(x)\n",
        "#x = LSTM(64, activation='relu', dropout=0.2, return_sequences=True)(inputs)\n",
        "#x = LSTM(32, activation='relu', dropout=0.2, return_sequences=True)(x)\n",
        "#x = LSTM(32, activation='relu', dropout=0.0, return_sequences=True)(x)\n",
        "outputs = Dense(1, activation='linear')(x)\n",
        "#outputs = Reshape([num_sequence, 1])(x)\n",
        "\n",
        "\"\"\"\n",
        "inputs = Input(shape=(num_sequence, 21))\n",
        "x = LSTM(64, activation='relu', dropout=0.1, return_sequences=True)(inputs)\n",
        "outputs = Dense(1, activation='linear', name=\"custom_output\")(x)\n",
        "\"\"\"\n",
        "\n",
        "model_seq = tf.keras.Model(inputs=inputs, outputs=outputs)\n",
        "\n",
        "optimizer = Adam(learning_rate=0.001)\n",
        "model_seq.compile(optimizer=optimizer, loss='mse', metrics=[RootMeanSquaredError()])\n",
        "\n",
        "print(model_seq.summary())\n",
        "\n",
        "\n",
        "\n",
        "\n",
        "#X_train_scaled_3d = np.reshape(X_train_scaled, (num_samples, num_sequence, X_train_scaled.shape[1]))  # Fix variable name\n",
        "\n",
        "#num_samples = X_dev_scaled.shape[0]\n",
        "#X_dev_scaled_3d = np.reshape(X_dev_scaled, (num_samples, num_sequence, X_dev_scaled.shape[1]))\n",
        "\n",
        "# Train the model\n",
        "#X_train_scaled_3d = np.expand_dims(X_train_scaled_3d[0], axis=0)\n",
        "#y_train_3d = np.expand_dims(y_train_3d[0], axis=0)\n",
        "#print(X_train_scaled_3d)\n",
        "#print(y_train_3d)\n",
        "#print(testing_y.shape)\n",
        "\n",
        "#X = X_train_scaled_3d.reshape((X_train_scaled_3d.shape[0], 2, 1, 2, 23))\n",
        "#Xdev = X_dev_scaled_3d.reshape((X_dev_scaled_3d.shape[0], 2, 1, 2, 23))\n",
        "\n",
        "\n",
        "#history = model.fit(X_train_scaled_3d, testing_y, epochs=10, batch_size=32, verbose=2, validation_data=(X_dev_scaled_3d, y_dev_3d))\n",
        "#history = model.fit(X, y_train_3d, epochs=50, batch_size=32, validation_data=(Xdev, y_dev_3d))\n",
        "\n",
        "history = model_seq.fit(X_train_scaled_3d, y_train_3d, epochs=10, batch_size=32, validation_data=(X_dev_scaled_3d, y_dev_3d))\n",
        "#history = model.fit(dataset, epochs=10, batch_size=32, verbose=2, validation_data=(X_dev_scaled_3d, y_dev_3d))\n",
        "#history = model.fit(x_trainnnn, y_trainnnn, epochs=10, batch_size=32, verbose=2)\n",
        "\n",
        "#validation_data=(X_dev_scaled, y_dev)\n",
        "\n",
        "#output = model.predict(X_train_scaled_3d)\n",
        "#output = model.predict(X_train_scaled_3d)\n",
        "#intermediate_model = tf.keras.Model(inputs=model.input, outputs=model.get_layer(\"custom_output\").output)\n",
        "#intermediate_model.predict(X_train_scaled_3d)\n",
        "\n",
        "\n"
      ],
      "id": "Pi51ZxlXqxlA"
    }
  ],
  "metadata": {
    "colab": {
      "provenance": []
    },
    "kernelspec": {
      "display_name": "Python 3 (ipykernel)",
      "language": "python",
      "name": "python3"
    },
    "language_info": {
      "codemirror_mode": {
        "name": "ipython",
        "version": 3
      },
      "file_extension": ".py",
      "mimetype": "text/x-python",
      "name": "python",
      "nbconvert_exporter": "python",
      "pygments_lexer": "ipython3",
      "version": "3.9.2"
    }
  },
  "nbformat": 4,
  "nbformat_minor": 5
}