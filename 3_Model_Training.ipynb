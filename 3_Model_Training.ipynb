{
  "cells": [
    {
      "cell_type": "markdown",
      "metadata": {
        "id": "f73c7815"
      },
      "source": [
        "# Project"
      ],
      "id": "f73c7815"
    },
    {
      "cell_type": "markdown",
      "source": [
        "In this project the values of different bicylce counting stations in the city of Bremen, Germany are analyzed. The goals are: \n",
        "\n",
        "* Visualize datasets and get a deeper understanding of the presented data\n",
        "* Answer general questions about the data like:\n",
        "    * Is the bike traffic increasing/decreasing or approximately constant over time?\n",
        "    * Did the COVID pandemic have an influence on the bike usage?\n",
        "    * What are the most used bike ways and why?\n",
        "* Train a machine learning model, to accurately forecast the bike traffic for a given day.\n",
        "\n",
        "The data ranges from 01.01.2013 to 31.12.2022. \n",
        "In addtition to the data of the bicycle counting stations, further data (weather data, geo-locations, national holidays, school vacations) are added."
      ],
      "metadata": {
        "id": "3EAc2MugZhxt"
      },
      "id": "3EAc2MugZhxt"
    },
    {
      "cell_type": "markdown",
      "source": [
        "# Notebook"
      ],
      "metadata": {
        "id": "CBLnLwZIZpWJ"
      },
      "id": "CBLnLwZIZpWJ"
    },
    {
      "cell_type": "markdown",
      "source": [
        "In the Model learning step, the prepared dataset from [2_EDA](https://github.com/Rudinius/Bike_usage_Bremen/blob/57e21c8dd687aadc1498f82241cf662840c8b871/2_EDA.ipynb) is loaded. Then different machine learning algorithms are trained and compared to each other."
      ],
      "metadata": {
        "id": "lZXvJFJqZuRE"
      },
      "id": "lZXvJFJqZuRE"
    },
    {
      "cell_type": "markdown",
      "metadata": {
        "id": "0c910711"
      },
      "source": [
        "<a name=\"content\"></a>\n",
        "# Content \n",
        "\n",
        "* [1. Import libraries and mount drive](#1)\n",
        "* [2. Import datasets](#2)\n",
        "* [3. Transform columns](#3)\n",
        "* [4. Establish baseline benchmark](#4)\n",
        "* [5. Training machine learning algorithms](#5)\n",
        "    * [5.2. XGBoost](#5.2.)\n",
        "    * [5.3. Recurrent Neural Network](#5.3.)"
      ],
      "id": "0c910711"
    },
    {
      "cell_type": "markdown",
      "metadata": {
        "id": "85f76996"
      },
      "source": [
        "<a name=\"1\"></a>\n",
        "# 1.&nbsp;Import libraries and mount drive\n",
        "[Content](#content)"
      ],
      "id": "85f76996"
    },
    {
      "cell_type": "markdown",
      "source": [
        "The following libraries will be used:\n",
        "\n",
        "* numpy\n",
        "* pandas\n",
        "* sklearn\n",
        "* xgboost\n",
        "* plotly"
      ],
      "metadata": {
        "id": "T_3IJ4G2kmYX"
      },
      "id": "T_3IJ4G2kmYX"
    },
    {
      "cell_type": "code",
      "execution_count": 76,
      "metadata": {
        "id": "3731ea33"
      },
      "outputs": [],
      "source": [
        "# Import libraries\n",
        "import numpy as np\n",
        "import pandas as pd\n",
        "import plotly.express as px\n",
        "import random\n",
        "from sklearn.metrics import accuracy_score, mean_squared_error\n",
        "from sklearn.model_selection import cross_val_score, GridSearchCV, train_test_split, TimeSeriesSplit\n",
        "from sklearn.preprocessing import OneHotEncoder\n",
        "import xgboost as xgb"
      ],
      "id": "3731ea33"
    },
    {
      "cell_type": "markdown",
      "metadata": {
        "id": "2516jhMiVxrJ"
      },
      "source": [
        "<a name=\"2\"></a>\n",
        "#2.&nbsp;Import dataset\n",
        "[Content](#content)"
      ],
      "id": "2516jhMiVxrJ"
    },
    {
      "cell_type": "markdown",
      "source": [
        "Next, we will import the processed dataset from [2_EDA](../Bike_usage_Bremen/2_EDA.ipynb)."
      ],
      "metadata": {
        "id": "IF9lS_3ok1tO"
      },
      "id": "IF9lS_3ok1tO"
    },
    {
      "cell_type": "code",
      "execution_count": 40,
      "metadata": {
        "id": "Xu3OXfHqVxfa"
      },
      "outputs": [],
      "source": [
        "# Set base url\n",
        "url = \"https://raw.githubusercontent.com/Rudinius/Bike_usage_Bremen/main/data/\""
      ],
      "id": "Xu3OXfHqVxfa"
    },
    {
      "cell_type": "code",
      "execution_count": 41,
      "metadata": {
        "colab": {
          "base_uri": "https://localhost:8080/",
          "height": 417
        },
        "id": "2etHV6ODVsUV",
        "outputId": "dbc1fc46-dffc-40ab-c8c5-9d18b6c9be1e"
      },
      "outputs": [
        {
          "output_type": "execute_result",
          "data": {
            "text/plain": [
              "            Weekday  GrafMoltkeStrEast  GrafMoltkeStrWest  HastedterBrStr  \\\n",
              "date                                                                        \n",
              "2013-01-01        1              261.0              290.0           381.0   \n",
              "2013-01-02        2              750.0              876.0          1109.0   \n",
              "2013-01-03        3              931.0             1015.0          1603.0   \n",
              "2013-01-04        4              500.0              587.0          1284.0   \n",
              "2013-01-05        5             1013.0             1011.0          1284.0   \n",
              "\n",
              "            LangemarckStrEast  LangemarckStrWest  Osterdeich  \\\n",
              "date                                                           \n",
              "2013-01-01              312.0              308.0       870.0   \n",
              "2013-01-02             1258.0             1120.0      2169.0   \n",
              "2013-01-03             1556.0             1480.0      2295.0   \n",
              "2013-01-04              703.0              626.0      1640.0   \n",
              "2013-01-05             1856.0             1621.0      4128.0   \n",
              "\n",
              "            RadwegKleineWeser  SchwachhauserRing  WachmannStrAusSouth  ...  \\\n",
              "date                                                                   ...   \n",
              "2013-01-01              410.0              391.0                514.0  ...   \n",
              "2013-01-02             1762.0              829.0               1786.0  ...   \n",
              "2013-01-03             2287.0             1196.0               2412.0  ...   \n",
              "2013-01-04             1548.0             1418.0                964.0  ...   \n",
              "2013-01-05             4256.0             3075.0               2065.0  ...   \n",
              "\n",
              "            tmax  prcp  snow   wdir  wspd  wpgt    pres  tsun  Holiday  \\\n",
              "date                                                                     \n",
              "2013-01-01   9.1   6.9   0.0  233.0  19.4  50.4  1001.8     0  Neujahr   \n",
              "2013-01-02   7.1   1.8   0.0  246.0  20.2  40.0  1017.5    30      NaN   \n",
              "2013-01-03  10.6   0.9   0.0  257.0  23.8  45.7  1024.5     0      NaN   \n",
              "2013-01-04   9.7   0.0   0.0  276.0  25.2  48.2  1029.5     0      NaN   \n",
              "2013-01-05   8.6   0.1   0.0  293.0  20.2  41.0  1029.9     0      NaN   \n",
              "\n",
              "                    Vacation  \n",
              "date                          \n",
              "2013-01-01  Weihnachtsferien  \n",
              "2013-01-02  Weihnachtsferien  \n",
              "2013-01-03  Weihnachtsferien  \n",
              "2013-01-04  Weihnachtsferien  \n",
              "2013-01-05  Weihnachtsferien  \n",
              "\n",
              "[5 rows x 26 columns]"
            ],
            "text/html": [
              "\n",
              "  <div id=\"df-c6d71980-6146-4da8-8481-9309d96338c0\">\n",
              "    <div class=\"colab-df-container\">\n",
              "      <div>\n",
              "<style scoped>\n",
              "    .dataframe tbody tr th:only-of-type {\n",
              "        vertical-align: middle;\n",
              "    }\n",
              "\n",
              "    .dataframe tbody tr th {\n",
              "        vertical-align: top;\n",
              "    }\n",
              "\n",
              "    .dataframe thead th {\n",
              "        text-align: right;\n",
              "    }\n",
              "</style>\n",
              "<table border=\"1\" class=\"dataframe\">\n",
              "  <thead>\n",
              "    <tr style=\"text-align: right;\">\n",
              "      <th></th>\n",
              "      <th>Weekday</th>\n",
              "      <th>GrafMoltkeStrEast</th>\n",
              "      <th>GrafMoltkeStrWest</th>\n",
              "      <th>HastedterBrStr</th>\n",
              "      <th>LangemarckStrEast</th>\n",
              "      <th>LangemarckStrWest</th>\n",
              "      <th>Osterdeich</th>\n",
              "      <th>RadwegKleineWeser</th>\n",
              "      <th>SchwachhauserRing</th>\n",
              "      <th>WachmannStrAusSouth</th>\n",
              "      <th>...</th>\n",
              "      <th>tmax</th>\n",
              "      <th>prcp</th>\n",
              "      <th>snow</th>\n",
              "      <th>wdir</th>\n",
              "      <th>wspd</th>\n",
              "      <th>wpgt</th>\n",
              "      <th>pres</th>\n",
              "      <th>tsun</th>\n",
              "      <th>Holiday</th>\n",
              "      <th>Vacation</th>\n",
              "    </tr>\n",
              "    <tr>\n",
              "      <th>date</th>\n",
              "      <th></th>\n",
              "      <th></th>\n",
              "      <th></th>\n",
              "      <th></th>\n",
              "      <th></th>\n",
              "      <th></th>\n",
              "      <th></th>\n",
              "      <th></th>\n",
              "      <th></th>\n",
              "      <th></th>\n",
              "      <th></th>\n",
              "      <th></th>\n",
              "      <th></th>\n",
              "      <th></th>\n",
              "      <th></th>\n",
              "      <th></th>\n",
              "      <th></th>\n",
              "      <th></th>\n",
              "      <th></th>\n",
              "      <th></th>\n",
              "      <th></th>\n",
              "    </tr>\n",
              "  </thead>\n",
              "  <tbody>\n",
              "    <tr>\n",
              "      <th>2013-01-01</th>\n",
              "      <td>1</td>\n",
              "      <td>261.0</td>\n",
              "      <td>290.0</td>\n",
              "      <td>381.0</td>\n",
              "      <td>312.0</td>\n",
              "      <td>308.0</td>\n",
              "      <td>870.0</td>\n",
              "      <td>410.0</td>\n",
              "      <td>391.0</td>\n",
              "      <td>514.0</td>\n",
              "      <td>...</td>\n",
              "      <td>9.1</td>\n",
              "      <td>6.9</td>\n",
              "      <td>0.0</td>\n",
              "      <td>233.0</td>\n",
              "      <td>19.4</td>\n",
              "      <td>50.4</td>\n",
              "      <td>1001.8</td>\n",
              "      <td>0</td>\n",
              "      <td>Neujahr</td>\n",
              "      <td>Weihnachtsferien</td>\n",
              "    </tr>\n",
              "    <tr>\n",
              "      <th>2013-01-02</th>\n",
              "      <td>2</td>\n",
              "      <td>750.0</td>\n",
              "      <td>876.0</td>\n",
              "      <td>1109.0</td>\n",
              "      <td>1258.0</td>\n",
              "      <td>1120.0</td>\n",
              "      <td>2169.0</td>\n",
              "      <td>1762.0</td>\n",
              "      <td>829.0</td>\n",
              "      <td>1786.0</td>\n",
              "      <td>...</td>\n",
              "      <td>7.1</td>\n",
              "      <td>1.8</td>\n",
              "      <td>0.0</td>\n",
              "      <td>246.0</td>\n",
              "      <td>20.2</td>\n",
              "      <td>40.0</td>\n",
              "      <td>1017.5</td>\n",
              "      <td>30</td>\n",
              "      <td>NaN</td>\n",
              "      <td>Weihnachtsferien</td>\n",
              "    </tr>\n",
              "    <tr>\n",
              "      <th>2013-01-03</th>\n",
              "      <td>3</td>\n",
              "      <td>931.0</td>\n",
              "      <td>1015.0</td>\n",
              "      <td>1603.0</td>\n",
              "      <td>1556.0</td>\n",
              "      <td>1480.0</td>\n",
              "      <td>2295.0</td>\n",
              "      <td>2287.0</td>\n",
              "      <td>1196.0</td>\n",
              "      <td>2412.0</td>\n",
              "      <td>...</td>\n",
              "      <td>10.6</td>\n",
              "      <td>0.9</td>\n",
              "      <td>0.0</td>\n",
              "      <td>257.0</td>\n",
              "      <td>23.8</td>\n",
              "      <td>45.7</td>\n",
              "      <td>1024.5</td>\n",
              "      <td>0</td>\n",
              "      <td>NaN</td>\n",
              "      <td>Weihnachtsferien</td>\n",
              "    </tr>\n",
              "    <tr>\n",
              "      <th>2013-01-04</th>\n",
              "      <td>4</td>\n",
              "      <td>500.0</td>\n",
              "      <td>587.0</td>\n",
              "      <td>1284.0</td>\n",
              "      <td>703.0</td>\n",
              "      <td>626.0</td>\n",
              "      <td>1640.0</td>\n",
              "      <td>1548.0</td>\n",
              "      <td>1418.0</td>\n",
              "      <td>964.0</td>\n",
              "      <td>...</td>\n",
              "      <td>9.7</td>\n",
              "      <td>0.0</td>\n",
              "      <td>0.0</td>\n",
              "      <td>276.0</td>\n",
              "      <td>25.2</td>\n",
              "      <td>48.2</td>\n",
              "      <td>1029.5</td>\n",
              "      <td>0</td>\n",
              "      <td>NaN</td>\n",
              "      <td>Weihnachtsferien</td>\n",
              "    </tr>\n",
              "    <tr>\n",
              "      <th>2013-01-05</th>\n",
              "      <td>5</td>\n",
              "      <td>1013.0</td>\n",
              "      <td>1011.0</td>\n",
              "      <td>1284.0</td>\n",
              "      <td>1856.0</td>\n",
              "      <td>1621.0</td>\n",
              "      <td>4128.0</td>\n",
              "      <td>4256.0</td>\n",
              "      <td>3075.0</td>\n",
              "      <td>2065.0</td>\n",
              "      <td>...</td>\n",
              "      <td>8.6</td>\n",
              "      <td>0.1</td>\n",
              "      <td>0.0</td>\n",
              "      <td>293.0</td>\n",
              "      <td>20.2</td>\n",
              "      <td>41.0</td>\n",
              "      <td>1029.9</td>\n",
              "      <td>0</td>\n",
              "      <td>NaN</td>\n",
              "      <td>Weihnachtsferien</td>\n",
              "    </tr>\n",
              "  </tbody>\n",
              "</table>\n",
              "<p>5 rows × 26 columns</p>\n",
              "</div>\n",
              "      <button class=\"colab-df-convert\" onclick=\"convertToInteractive('df-c6d71980-6146-4da8-8481-9309d96338c0')\"\n",
              "              title=\"Convert this dataframe to an interactive table.\"\n",
              "              style=\"display:none;\">\n",
              "        \n",
              "  <svg xmlns=\"http://www.w3.org/2000/svg\" height=\"24px\"viewBox=\"0 0 24 24\"\n",
              "       width=\"24px\">\n",
              "    <path d=\"M0 0h24v24H0V0z\" fill=\"none\"/>\n",
              "    <path d=\"M18.56 5.44l.94 2.06.94-2.06 2.06-.94-2.06-.94-.94-2.06-.94 2.06-2.06.94zm-11 1L8.5 8.5l.94-2.06 2.06-.94-2.06-.94L8.5 2.5l-.94 2.06-2.06.94zm10 10l.94 2.06.94-2.06 2.06-.94-2.06-.94-.94-2.06-.94 2.06-2.06.94z\"/><path d=\"M17.41 7.96l-1.37-1.37c-.4-.4-.92-.59-1.43-.59-.52 0-1.04.2-1.43.59L10.3 9.45l-7.72 7.72c-.78.78-.78 2.05 0 2.83L4 21.41c.39.39.9.59 1.41.59.51 0 1.02-.2 1.41-.59l7.78-7.78 2.81-2.81c.8-.78.8-2.07 0-2.86zM5.41 20L4 18.59l7.72-7.72 1.47 1.35L5.41 20z\"/>\n",
              "  </svg>\n",
              "      </button>\n",
              "      \n",
              "  <style>\n",
              "    .colab-df-container {\n",
              "      display:flex;\n",
              "      flex-wrap:wrap;\n",
              "      gap: 12px;\n",
              "    }\n",
              "\n",
              "    .colab-df-convert {\n",
              "      background-color: #E8F0FE;\n",
              "      border: none;\n",
              "      border-radius: 50%;\n",
              "      cursor: pointer;\n",
              "      display: none;\n",
              "      fill: #1967D2;\n",
              "      height: 32px;\n",
              "      padding: 0 0 0 0;\n",
              "      width: 32px;\n",
              "    }\n",
              "\n",
              "    .colab-df-convert:hover {\n",
              "      background-color: #E2EBFA;\n",
              "      box-shadow: 0px 1px 2px rgba(60, 64, 67, 0.3), 0px 1px 3px 1px rgba(60, 64, 67, 0.15);\n",
              "      fill: #174EA6;\n",
              "    }\n",
              "\n",
              "    [theme=dark] .colab-df-convert {\n",
              "      background-color: #3B4455;\n",
              "      fill: #D2E3FC;\n",
              "    }\n",
              "\n",
              "    [theme=dark] .colab-df-convert:hover {\n",
              "      background-color: #434B5C;\n",
              "      box-shadow: 0px 1px 3px 1px rgba(0, 0, 0, 0.15);\n",
              "      filter: drop-shadow(0px 1px 2px rgba(0, 0, 0, 0.3));\n",
              "      fill: #FFFFFF;\n",
              "    }\n",
              "  </style>\n",
              "\n",
              "      <script>\n",
              "        const buttonEl =\n",
              "          document.querySelector('#df-c6d71980-6146-4da8-8481-9309d96338c0 button.colab-df-convert');\n",
              "        buttonEl.style.display =\n",
              "          google.colab.kernel.accessAllowed ? 'block' : 'none';\n",
              "\n",
              "        async function convertToInteractive(key) {\n",
              "          const element = document.querySelector('#df-c6d71980-6146-4da8-8481-9309d96338c0');\n",
              "          const dataTable =\n",
              "            await google.colab.kernel.invokeFunction('convertToInteractive',\n",
              "                                                     [key], {});\n",
              "          if (!dataTable) return;\n",
              "\n",
              "          const docLinkHtml = 'Like what you see? Visit the ' +\n",
              "            '<a target=\"_blank\" href=https://colab.research.google.com/notebooks/data_table.ipynb>data table notebook</a>'\n",
              "            + ' to learn more about interactive tables.';\n",
              "          element.innerHTML = '';\n",
              "          dataTable['output_type'] = 'display_data';\n",
              "          await google.colab.output.renderOutput(dataTable, element);\n",
              "          const docLink = document.createElement('div');\n",
              "          docLink.innerHTML = docLinkHtml;\n",
              "          element.appendChild(docLink);\n",
              "        }\n",
              "      </script>\n",
              "    </div>\n",
              "  </div>\n",
              "  "
            ]
          },
          "metadata": {},
          "execution_count": 41
        }
      ],
      "source": [
        "# Import dataset\n",
        "\n",
        "# We will also parse the date column as datetime64 and set it to the index column\n",
        "df = pd.read_csv(url + \"03_training_data/\" + \"2023-04-02_df_full.csv\", \n",
        "                         parse_dates=[0], index_col=[0])\n",
        "\n",
        "# Check the correct loading of dataset\n",
        "df.head()"
      ],
      "id": "2etHV6ODVsUV"
    },
    {
      "cell_type": "markdown",
      "source": [
        "<a name=\"3\"></a>\n",
        "# 3. Transform columns\n",
        "[Content](#content)"
      ],
      "metadata": {
        "id": "LIog4gAun3Gh"
      },
      "id": "LIog4gAun3Gh"
    },
    {
      "cell_type": "markdown",
      "source": [
        "We need to transform the columns `Holiday` and `Vacation` using `One-Hot-Encoding` to change the categorical columns to numerical columns. Then we need to drop the original columns."
      ],
      "metadata": {
        "id": "1KinSwc3oDMj"
      },
      "id": "1KinSwc3oDMj"
    },
    {
      "cell_type": "code",
      "execution_count": 42,
      "metadata": {
        "id": "zZnhFuQN-QT2"
      },
      "outputs": [],
      "source": [
        "# Use One Hot Encoder\n",
        "OH_encoder = OneHotEncoder()\n",
        "transformed_array = OH_encoder.fit_transform(df.loc[:,\"Holiday\": \"Vacation\"]).toarray()\n",
        "df_holiday_vacation_transformed = pd.DataFrame(transformed_array, \n",
        "                              columns=OH_encoder.get_feature_names_out(), \n",
        "                              index = df.index)              \n",
        "# Drop the columns with Holiday_nan and Vacation_nan as those hold no additional value          \n",
        "df_holiday_vacation_transformed = df_holiday_vacation_transformed.drop([\"Holiday_nan\", \"Vacation_nan\"], axis=1)\n",
        "\n",
        "# Drop the old categorical columns Holiday and Vacation\n",
        "df_transformed = df.drop([\"Holiday\", \"Vacation\"], axis=1)\n",
        "\n",
        "# Add the new columns from OHE\n",
        "df_transformed = pd.concat([df_transformed, df_holiday_vacation_transformed], axis=1)"
      ],
      "id": "zZnhFuQN-QT2"
    },
    {
      "cell_type": "markdown",
      "source": [
        "We will add the year, month and day as seperate columns to give the algorithm the chance to pick up more granular and seasonal patterns."
      ],
      "metadata": {
        "id": "Ex0TAxa6xPK6"
      },
      "id": "Ex0TAxa6xPK6"
    },
    {
      "cell_type": "code",
      "execution_count": 43,
      "metadata": {
        "colab": {
          "base_uri": "https://localhost:8080/",
          "height": 438
        },
        "id": "ZFMh5fPazIDm",
        "outputId": "03d0eca7-80ab-4764-ef17-82b3128db81f"
      },
      "outputs": [
        {
          "output_type": "execute_result",
          "data": {
            "text/plain": [
              "            Year  Month  Day  Weekday  GrafMoltkeStrEast  GrafMoltkeStrWest  \\\n",
              "2013-01-01  2013      1    1        1              261.0              290.0   \n",
              "2013-01-02  2013      1    2        2              750.0              876.0   \n",
              "2013-01-03  2013      1    3        3              931.0             1015.0   \n",
              "2013-01-04  2013      1    4        4              500.0              587.0   \n",
              "2013-01-05  2013      1    5        5             1013.0             1011.0   \n",
              "\n",
              "            HastedterBrStr  LangemarckStrEast  LangemarckStrWest  Osterdeich  \\\n",
              "2013-01-01           381.0              312.0              308.0       870.0   \n",
              "2013-01-02          1109.0             1258.0             1120.0      2169.0   \n",
              "2013-01-03          1603.0             1556.0             1480.0      2295.0   \n",
              "2013-01-04          1284.0              703.0              626.0      1640.0   \n",
              "2013-01-05          1284.0             1856.0             1621.0      4128.0   \n",
              "\n",
              "            ...  Holiday_Pfingstmontag  Holiday_Reformationstag  \\\n",
              "2013-01-01  ...                    0.0                      0.0   \n",
              "2013-01-02  ...                    0.0                      0.0   \n",
              "2013-01-03  ...                    0.0                      0.0   \n",
              "2013-01-04  ...                    0.0                      0.0   \n",
              "2013-01-05  ...                    0.0                      0.0   \n",
              "\n",
              "            Holiday_Tag der Arbeit  Holiday_Tag der Deutschen Einheit  \\\n",
              "2013-01-01                     0.0                                0.0   \n",
              "2013-01-02                     0.0                                0.0   \n",
              "2013-01-03                     0.0                                0.0   \n",
              "2013-01-04                     0.0                                0.0   \n",
              "2013-01-05                     0.0                                0.0   \n",
              "\n",
              "            Vacation_Herbstferien  Vacation_Osterferien  \\\n",
              "2013-01-01                    0.0                   0.0   \n",
              "2013-01-02                    0.0                   0.0   \n",
              "2013-01-03                    0.0                   0.0   \n",
              "2013-01-04                    0.0                   0.0   \n",
              "2013-01-05                    0.0                   0.0   \n",
              "\n",
              "            Vacation_Pfingstferien  Vacation_Sommerferien  \\\n",
              "2013-01-01                     0.0                    0.0   \n",
              "2013-01-02                     0.0                    0.0   \n",
              "2013-01-03                     0.0                    0.0   \n",
              "2013-01-04                     0.0                    0.0   \n",
              "2013-01-05                     0.0                    0.0   \n",
              "\n",
              "            Vacation_Weihnachtsferien  Vacation_Winterferien  \n",
              "2013-01-01                        1.0                    0.0  \n",
              "2013-01-02                        1.0                    0.0  \n",
              "2013-01-03                        1.0                    0.0  \n",
              "2013-01-04                        1.0                    0.0  \n",
              "2013-01-05                        1.0                    0.0  \n",
              "\n",
              "[5 rows x 43 columns]"
            ],
            "text/html": [
              "\n",
              "  <div id=\"df-15b84ba3-c12e-442f-ad2b-a1beee447051\">\n",
              "    <div class=\"colab-df-container\">\n",
              "      <div>\n",
              "<style scoped>\n",
              "    .dataframe tbody tr th:only-of-type {\n",
              "        vertical-align: middle;\n",
              "    }\n",
              "\n",
              "    .dataframe tbody tr th {\n",
              "        vertical-align: top;\n",
              "    }\n",
              "\n",
              "    .dataframe thead th {\n",
              "        text-align: right;\n",
              "    }\n",
              "</style>\n",
              "<table border=\"1\" class=\"dataframe\">\n",
              "  <thead>\n",
              "    <tr style=\"text-align: right;\">\n",
              "      <th></th>\n",
              "      <th>Year</th>\n",
              "      <th>Month</th>\n",
              "      <th>Day</th>\n",
              "      <th>Weekday</th>\n",
              "      <th>GrafMoltkeStrEast</th>\n",
              "      <th>GrafMoltkeStrWest</th>\n",
              "      <th>HastedterBrStr</th>\n",
              "      <th>LangemarckStrEast</th>\n",
              "      <th>LangemarckStrWest</th>\n",
              "      <th>Osterdeich</th>\n",
              "      <th>...</th>\n",
              "      <th>Holiday_Pfingstmontag</th>\n",
              "      <th>Holiday_Reformationstag</th>\n",
              "      <th>Holiday_Tag der Arbeit</th>\n",
              "      <th>Holiday_Tag der Deutschen Einheit</th>\n",
              "      <th>Vacation_Herbstferien</th>\n",
              "      <th>Vacation_Osterferien</th>\n",
              "      <th>Vacation_Pfingstferien</th>\n",
              "      <th>Vacation_Sommerferien</th>\n",
              "      <th>Vacation_Weihnachtsferien</th>\n",
              "      <th>Vacation_Winterferien</th>\n",
              "    </tr>\n",
              "  </thead>\n",
              "  <tbody>\n",
              "    <tr>\n",
              "      <th>2013-01-01</th>\n",
              "      <td>2013</td>\n",
              "      <td>1</td>\n",
              "      <td>1</td>\n",
              "      <td>1</td>\n",
              "      <td>261.0</td>\n",
              "      <td>290.0</td>\n",
              "      <td>381.0</td>\n",
              "      <td>312.0</td>\n",
              "      <td>308.0</td>\n",
              "      <td>870.0</td>\n",
              "      <td>...</td>\n",
              "      <td>0.0</td>\n",
              "      <td>0.0</td>\n",
              "      <td>0.0</td>\n",
              "      <td>0.0</td>\n",
              "      <td>0.0</td>\n",
              "      <td>0.0</td>\n",
              "      <td>0.0</td>\n",
              "      <td>0.0</td>\n",
              "      <td>1.0</td>\n",
              "      <td>0.0</td>\n",
              "    </tr>\n",
              "    <tr>\n",
              "      <th>2013-01-02</th>\n",
              "      <td>2013</td>\n",
              "      <td>1</td>\n",
              "      <td>2</td>\n",
              "      <td>2</td>\n",
              "      <td>750.0</td>\n",
              "      <td>876.0</td>\n",
              "      <td>1109.0</td>\n",
              "      <td>1258.0</td>\n",
              "      <td>1120.0</td>\n",
              "      <td>2169.0</td>\n",
              "      <td>...</td>\n",
              "      <td>0.0</td>\n",
              "      <td>0.0</td>\n",
              "      <td>0.0</td>\n",
              "      <td>0.0</td>\n",
              "      <td>0.0</td>\n",
              "      <td>0.0</td>\n",
              "      <td>0.0</td>\n",
              "      <td>0.0</td>\n",
              "      <td>1.0</td>\n",
              "      <td>0.0</td>\n",
              "    </tr>\n",
              "    <tr>\n",
              "      <th>2013-01-03</th>\n",
              "      <td>2013</td>\n",
              "      <td>1</td>\n",
              "      <td>3</td>\n",
              "      <td>3</td>\n",
              "      <td>931.0</td>\n",
              "      <td>1015.0</td>\n",
              "      <td>1603.0</td>\n",
              "      <td>1556.0</td>\n",
              "      <td>1480.0</td>\n",
              "      <td>2295.0</td>\n",
              "      <td>...</td>\n",
              "      <td>0.0</td>\n",
              "      <td>0.0</td>\n",
              "      <td>0.0</td>\n",
              "      <td>0.0</td>\n",
              "      <td>0.0</td>\n",
              "      <td>0.0</td>\n",
              "      <td>0.0</td>\n",
              "      <td>0.0</td>\n",
              "      <td>1.0</td>\n",
              "      <td>0.0</td>\n",
              "    </tr>\n",
              "    <tr>\n",
              "      <th>2013-01-04</th>\n",
              "      <td>2013</td>\n",
              "      <td>1</td>\n",
              "      <td>4</td>\n",
              "      <td>4</td>\n",
              "      <td>500.0</td>\n",
              "      <td>587.0</td>\n",
              "      <td>1284.0</td>\n",
              "      <td>703.0</td>\n",
              "      <td>626.0</td>\n",
              "      <td>1640.0</td>\n",
              "      <td>...</td>\n",
              "      <td>0.0</td>\n",
              "      <td>0.0</td>\n",
              "      <td>0.0</td>\n",
              "      <td>0.0</td>\n",
              "      <td>0.0</td>\n",
              "      <td>0.0</td>\n",
              "      <td>0.0</td>\n",
              "      <td>0.0</td>\n",
              "      <td>1.0</td>\n",
              "      <td>0.0</td>\n",
              "    </tr>\n",
              "    <tr>\n",
              "      <th>2013-01-05</th>\n",
              "      <td>2013</td>\n",
              "      <td>1</td>\n",
              "      <td>5</td>\n",
              "      <td>5</td>\n",
              "      <td>1013.0</td>\n",
              "      <td>1011.0</td>\n",
              "      <td>1284.0</td>\n",
              "      <td>1856.0</td>\n",
              "      <td>1621.0</td>\n",
              "      <td>4128.0</td>\n",
              "      <td>...</td>\n",
              "      <td>0.0</td>\n",
              "      <td>0.0</td>\n",
              "      <td>0.0</td>\n",
              "      <td>0.0</td>\n",
              "      <td>0.0</td>\n",
              "      <td>0.0</td>\n",
              "      <td>0.0</td>\n",
              "      <td>0.0</td>\n",
              "      <td>1.0</td>\n",
              "      <td>0.0</td>\n",
              "    </tr>\n",
              "  </tbody>\n",
              "</table>\n",
              "<p>5 rows × 43 columns</p>\n",
              "</div>\n",
              "      <button class=\"colab-df-convert\" onclick=\"convertToInteractive('df-15b84ba3-c12e-442f-ad2b-a1beee447051')\"\n",
              "              title=\"Convert this dataframe to an interactive table.\"\n",
              "              style=\"display:none;\">\n",
              "        \n",
              "  <svg xmlns=\"http://www.w3.org/2000/svg\" height=\"24px\"viewBox=\"0 0 24 24\"\n",
              "       width=\"24px\">\n",
              "    <path d=\"M0 0h24v24H0V0z\" fill=\"none\"/>\n",
              "    <path d=\"M18.56 5.44l.94 2.06.94-2.06 2.06-.94-2.06-.94-.94-2.06-.94 2.06-2.06.94zm-11 1L8.5 8.5l.94-2.06 2.06-.94-2.06-.94L8.5 2.5l-.94 2.06-2.06.94zm10 10l.94 2.06.94-2.06 2.06-.94-2.06-.94-.94-2.06-.94 2.06-2.06.94z\"/><path d=\"M17.41 7.96l-1.37-1.37c-.4-.4-.92-.59-1.43-.59-.52 0-1.04.2-1.43.59L10.3 9.45l-7.72 7.72c-.78.78-.78 2.05 0 2.83L4 21.41c.39.39.9.59 1.41.59.51 0 1.02-.2 1.41-.59l7.78-7.78 2.81-2.81c.8-.78.8-2.07 0-2.86zM5.41 20L4 18.59l7.72-7.72 1.47 1.35L5.41 20z\"/>\n",
              "  </svg>\n",
              "      </button>\n",
              "      \n",
              "  <style>\n",
              "    .colab-df-container {\n",
              "      display:flex;\n",
              "      flex-wrap:wrap;\n",
              "      gap: 12px;\n",
              "    }\n",
              "\n",
              "    .colab-df-convert {\n",
              "      background-color: #E8F0FE;\n",
              "      border: none;\n",
              "      border-radius: 50%;\n",
              "      cursor: pointer;\n",
              "      display: none;\n",
              "      fill: #1967D2;\n",
              "      height: 32px;\n",
              "      padding: 0 0 0 0;\n",
              "      width: 32px;\n",
              "    }\n",
              "\n",
              "    .colab-df-convert:hover {\n",
              "      background-color: #E2EBFA;\n",
              "      box-shadow: 0px 1px 2px rgba(60, 64, 67, 0.3), 0px 1px 3px 1px rgba(60, 64, 67, 0.15);\n",
              "      fill: #174EA6;\n",
              "    }\n",
              "\n",
              "    [theme=dark] .colab-df-convert {\n",
              "      background-color: #3B4455;\n",
              "      fill: #D2E3FC;\n",
              "    }\n",
              "\n",
              "    [theme=dark] .colab-df-convert:hover {\n",
              "      background-color: #434B5C;\n",
              "      box-shadow: 0px 1px 3px 1px rgba(0, 0, 0, 0.15);\n",
              "      filter: drop-shadow(0px 1px 2px rgba(0, 0, 0, 0.3));\n",
              "      fill: #FFFFFF;\n",
              "    }\n",
              "  </style>\n",
              "\n",
              "      <script>\n",
              "        const buttonEl =\n",
              "          document.querySelector('#df-15b84ba3-c12e-442f-ad2b-a1beee447051 button.colab-df-convert');\n",
              "        buttonEl.style.display =\n",
              "          google.colab.kernel.accessAllowed ? 'block' : 'none';\n",
              "\n",
              "        async function convertToInteractive(key) {\n",
              "          const element = document.querySelector('#df-15b84ba3-c12e-442f-ad2b-a1beee447051');\n",
              "          const dataTable =\n",
              "            await google.colab.kernel.invokeFunction('convertToInteractive',\n",
              "                                                     [key], {});\n",
              "          if (!dataTable) return;\n",
              "\n",
              "          const docLinkHtml = 'Like what you see? Visit the ' +\n",
              "            '<a target=\"_blank\" href=https://colab.research.google.com/notebooks/data_table.ipynb>data table notebook</a>'\n",
              "            + ' to learn more about interactive tables.';\n",
              "          element.innerHTML = '';\n",
              "          dataTable['output_type'] = 'display_data';\n",
              "          await google.colab.output.renderOutput(dataTable, element);\n",
              "          const docLink = document.createElement('div');\n",
              "          docLink.innerHTML = docLinkHtml;\n",
              "          element.appendChild(docLink);\n",
              "        }\n",
              "      </script>\n",
              "    </div>\n",
              "  </div>\n",
              "  "
            ]
          },
          "metadata": {},
          "execution_count": 43
        }
      ],
      "source": [
        "df_date = pd.DataFrame(data = {\n",
        "    \"Year\": df.index.year,\n",
        "    \"Month\": df.index.month,\n",
        "    \"Day\": df.index.day\n",
        "}, index=pd.to_datetime(df.index.values))\n",
        "    \n",
        "df_transformed_date = pd.concat([df_date, df_transformed], axis=1)\n",
        "\n",
        "# Check dataframe\n",
        "#df_transformed_date.head()"
      ],
      "id": "ZFMh5fPazIDm"
    },
    {
      "cell_type": "markdown",
      "source": [
        "Now, after all those transformations, we have out final dataset, to train our machine learning algorithms on."
      ],
      "metadata": {
        "id": "cYhxv0nmxmEp"
      },
      "id": "cYhxv0nmxmEp"
    },
    {
      "cell_type": "markdown",
      "metadata": {
        "id": "gBM3I6LFOHL9"
      },
      "source": [
        "<a name=\"4\"></a>\n",
        "# 4. Establish baseline benchmark\n",
        "[Content](#content)\n"
      ],
      "id": "gBM3I6LFOHL9"
    },
    {
      "cell_type": "markdown",
      "source": [
        "For our current task of creating model to predict the amount of cyclers for a given day, we do not have any baseline accuracy to predict the value that we could use, to measure our model against. \n",
        "For this reason, we will create a naive baseline model. For this, we will simply predict the amount of a day based on the value of previous day."
      ],
      "metadata": {
        "id": "VgkVXhdAx6zB"
      },
      "id": "VgkVXhdAx6zB"
    },
    {
      "cell_type": "code",
      "execution_count": 44,
      "metadata": {
        "colab": {
          "base_uri": "https://localhost:8080/"
        },
        "id": "6mu5aaMpO42j",
        "outputId": "230c10ca-8fea-418d-afdf-658f695b6fcf"
      },
      "outputs": [
        {
          "output_type": "stream",
          "name": "stdout",
          "text": [
            "RMSE: 9083.225418\n"
          ]
        }
      ],
      "source": [
        "# Evaluate the model's performance using RMSE\n",
        "\n",
        "# Select the `Total` column as our y_test and preds arrays\n",
        "y_test = preds = df.loc[:,\"Total\"]\n",
        "\n",
        "rmse = 0\n",
        "length = y_test.shape[0]\n",
        "\n",
        "# Loop from 0 to second last entry, as we can only use seconds last entry to\n",
        "# predict the last entry of series\n",
        "for i in range(length-1):\n",
        "    # The mean_sqared_error function expects an array as input, therfore we \n",
        "    # concatenate the range from current value to current value + 1 (excluding)\n",
        "    rmse += np.sqrt(mean_squared_error(y_test[i+1:i+2], preds[i:i+1]))\n",
        "\n",
        "# Divide rmse value by number of pairs\n",
        "rmse = rmse / (length-1)\n",
        "print(\"RMSE: %f\" % (rmse))"
      ],
      "id": "6mu5aaMpO42j"
    },
    {
      "cell_type": "markdown",
      "metadata": {
        "id": "f6O5OFAwW9Pm"
      },
      "source": [
        "If we were naivly predicting the current value with the last value, we get an error over the entire dataset of approximately $9,111$. \n",
        "\n",
        "This is our naive benchmark to compare our model against. "
      ],
      "id": "f6O5OFAwW9Pm"
    },
    {
      "cell_type": "markdown",
      "metadata": {
        "id": "5HqwjOgkxauH"
      },
      "source": [
        "<a name=\"5\"></a>\n",
        "# 5. Training machine learning algorithms\n",
        "[Content](#content)"
      ],
      "id": "5HqwjOgkxauH"
    },
    {
      "cell_type": "markdown",
      "source": [
        "<a name=\"5.2.\"></a>\n",
        "## 5.2. XGBoost\n",
        "[Content](#content)"
      ],
      "metadata": {
        "id": "mO2Xt87cykEf"
      },
      "id": "mO2Xt87cykEf"
    },
    {
      "cell_type": "markdown",
      "source": [
        "Specifically for XGBoost algorithm, we will add the data points of the previous time steps as features to feature vector. For RNNs, this will probably not be necessary, as RNNs have built-in memory units that allow them to store information from previous steps.\n",
        "\n",
        "In this case, we will only add the last 3 values, as the observed improvement of accuracy (RMSE score) is drastically decressing with each further time step added after 3 steps.\n",
        "\n",
        "Improvements:\n",
        "* 1 day 6291 2,8%\n",
        "* 2 day 6157 2,1%\n",
        "* 3 day 6120 0,6%"
      ],
      "metadata": {
        "id": "ZgSdeq3fOxaQ"
      },
      "id": "ZgSdeq3fOxaQ"
    },
    {
      "cell_type": "code",
      "source": [
        "# Create empty new dataframe\n",
        "df_lagged_days = pd.DataFrame({})\n",
        "\n",
        "# Select the number of lagged days\n",
        "go_back_x_days = 3\n",
        "\n",
        "for i in range(go_back_x_days):\n",
        "    # Shift the values in \"Total\" by i and assign to new column prev_Total_i+1\n",
        "    df_lagged_days[f'prev_Total_{i+1}'] = df_transformed_date['Total'].shift(i+1)\n",
        "\n",
        "# Concat new dataframe with old dataframe\n",
        "df_transformed_date_lagged = pd.concat([df_transformed_date, df_lagged_days], axis=1)\n",
        "\n",
        "# Check output\n",
        "#df_transformed_date_lagged.loc[:,[\"prev_Total_1\", \"prev_Total_2\", \"prev_Total_3\",\"Total\"]]"
      ],
      "metadata": {
        "id": "MwRs_MUJdcTj"
      },
      "id": "MwRs_MUJdcTj",
      "execution_count": 58,
      "outputs": []
    },
    {
      "cell_type": "code",
      "source": [
        "# Load the data into a pandas dataframe\n",
        "data = df_transformed_date_lagged\n",
        "\n",
        "# Define the features and target\n",
        "# Higly correlated features have been removed (tavg, tmax, wpgt)\n",
        "features = ['Year', 'Month', 'Day', 'Weekday',\n",
        "       'tmax', 'prcp', 'snow', 'wspd', 'pres', 'tsun',\n",
        "       'Holiday_1. Weihnachtsfeiertag', 'Holiday_2. Weihnachtsfeiertag',\n",
        "       'Holiday_Christi Himmelfahrt', 'Holiday_Karfreitag', 'Holiday_Neujahr',\n",
        "       'Holiday_Ostermontag', 'Holiday_Pfingstmontag',\n",
        "       'Holiday_Reformationstag', 'Holiday_Tag der Arbeit',\n",
        "       'Holiday_Tag der Deutschen Einheit', 'Vacation_Herbstferien',\n",
        "       'Vacation_Osterferien', 'Vacation_Pfingstferien',\n",
        "       'Vacation_Sommerferien', 'Vacation_Weihnachtsferien',\n",
        "       'Vacation_Winterferien', \"prev_Total_1\", \"prev_Total_2\", \"prev_Total_3\"]\n",
        "\n",
        "target = 'Total'\n",
        "\n",
        "# Split the data into training and test sets\n",
        "X_train, X_test, y_train, y_test = train_test_split(data[features], data[target], \n",
        "                                                    test_size=0.2, shuffle=True, random_state=0)"
      ],
      "metadata": {
        "id": "nxeQ39ojh2Y-"
      },
      "id": "nxeQ39ojh2Y-",
      "execution_count": 59,
      "outputs": []
    },
    {
      "cell_type": "markdown",
      "source": [
        "Using `GridSearchCV` to select optimal parameters."
      ],
      "metadata": {
        "id": "amR72D-bg9Ea"
      },
      "id": "amR72D-bg9Ea"
    },
    {
      "cell_type": "code",
      "execution_count": null,
      "metadata": {
        "id": "AaSMrh3bLqsm"
      },
      "outputs": [],
      "source": [
        "params = {\n",
        "    'learning_rate': [0.01, 0.05, 0.1],\n",
        "    'max_depth': [3, 5, 7],\n",
        "    'n_estimators': [700, 1000, 1200],\n",
        "    'subsample': [0.5, 0.8, 1.0],\n",
        "    'colsample_bytree': [0.5, 0.8, 1.0],\n",
        "    'reg_alpha': [0.1, 0.5, 1.0],\n",
        "    'reg_lambda': [0.1, 0.5, 1.0],\n",
        "    'min_child_weight': [1, 5, 10]\n",
        "}\n",
        "\n",
        "xg_reg = xgb.XGBRegressor(objective='reg:squarederror')\n",
        "\n",
        "grid_search = GridSearchCV(xg_reg, param_grid=params, cv=5, n_jobs=-1, verbose=2)\n",
        "\n",
        "grid_search.fit(X_train, y_train)\n",
        "\n",
        "print(grid_search.best_params_)"
      ],
      "id": "AaSMrh3bLqsm"
    },
    {
      "cell_type": "code",
      "execution_count": 60,
      "metadata": {
        "colab": {
          "base_uri": "https://localhost:8080/"
        },
        "id": "RwfBOBjpXNfw",
        "outputId": "90673473-8105-4d36-a750-86e71959457f"
      },
      "outputs": [
        {
          "output_type": "stream",
          "name": "stdout",
          "text": [
            "RMSE: 6120.667363\n"
          ]
        }
      ],
      "source": [
        "# Build the XGBoost regressor model with selected hyper parameters\n",
        "xg_reg = xgb.XGBRegressor(objective ='reg:squarederror', colsample_bytree = 1.0, learning_rate = 0.01, \n",
        "                          max_depth = 12, n_estimators = 1000, reg_alpha = 0.1, reg_lambda = 1.0, \n",
        "                          subsample = 0.8, min_child_weight=5)\n",
        "\n",
        "xg_reg.fit(X_train, y_train)\n",
        "\n",
        "# Predict on the test set\n",
        "preds = xg_reg.predict(X_test)\n",
        "\n",
        "# Evaluate the model's performance using RMSE\n",
        "rmse = np.sqrt(mean_squared_error(y_test, preds))\n",
        "print(\"RMSE: %f\" % (rmse))"
      ],
      "id": "RwfBOBjpXNfw"
    },
    {
      "cell_type": "markdown",
      "metadata": {
        "id": "RKSA0rEBGRNB"
      },
      "source": [
        "* 02.04.23: 6468\n",
        "* 10.04.23: 6120"
      ],
      "id": "RKSA0rEBGRNB"
    },
    {
      "cell_type": "markdown",
      "source": [
        "As an alternative, instead of `train_test_split`, we try `TimeSeriesSplit` and compare the performance."
      ],
      "metadata": {
        "id": "Y9ZfwhxDkTUL"
      },
      "id": "Y9ZfwhxDkTUL"
    },
    {
      "cell_type": "code",
      "source": [
        "# Split the data into training and test sets\n",
        "tscv = TimeSeriesSplit(n_splits=5)\n",
        "for train_index, test_index in tscv.split(data):\n",
        "    X_train, X_test = data.iloc[train_index][features], data.iloc[test_index][features]\n",
        "    y_train, y_test = data.iloc[train_index][target], data.iloc[test_index][target]\n",
        "\n",
        "    xg_reg = xgb.XGBRegressor(objective='reg:squarederror', colsample_bytree=1.0, learning_rate=0.01,\n",
        "                              max_depth=12, n_estimators=1000, reg_alpha=0.1, reg_lambda=1.0,\n",
        "                              subsample=0.8, min_child_weight=5)\n",
        "\n",
        "    xg_reg.fit(X_train, y_train)\n",
        "\n",
        "    # Predict on the test set\n",
        "    preds = xg_reg.predict(X_test)\n",
        "\n",
        "    # Evaluate the model's performance using RMSE\n",
        "    rmse = np.sqrt(mean_squared_error(y_test, preds))\n",
        "    print(\"RMSE: %f\" % (rmse))\n"
      ],
      "metadata": {
        "colab": {
          "base_uri": "https://localhost:8080/"
        },
        "id": "qvsBo8m7cZXf",
        "outputId": "bcf66dc2-a86a-4645-89f2-a3e2b95474a7"
      },
      "id": "qvsBo8m7cZXf",
      "execution_count": 15,
      "outputs": [
        {
          "output_type": "stream",
          "name": "stdout",
          "text": [
            "RMSE: 7127.157045\n",
            "RMSE: 6843.915770\n",
            "RMSE: 6808.748428\n",
            "RMSE: 7121.689867\n",
            "RMSE: 6898.040513\n"
          ]
        }
      ]
    },
    {
      "cell_type": "markdown",
      "source": [
        "`train_test_split` has a better performance on the accuracy of the model than `TimeSeriesSplit`."
      ],
      "metadata": {
        "id": "A0-dFnLfnHkG"
      },
      "id": "A0-dFnLfnHkG"
    },
    {
      "cell_type": "markdown",
      "source": [
        "Plot random different data points to analyze big differences between prediction and actual value in more detail."
      ],
      "metadata": {
        "id": "2BZuW_UOgc1Q"
      },
      "id": "2BZuW_UOgc1Q"
    },
    {
      "cell_type": "code",
      "source": [
        "# Select 100 random datapoints from y_test\n",
        "random_indices = random.sample(range(len(y_test)), 100)\n",
        "y_test_sample = y_test[random_indices]\n",
        "preds_sample = preds[random_indices]\n",
        "\n",
        "# Create plot using plotly express\n",
        "fig = px.scatter()\n",
        "fig.add_scatter(x=y_test_sample.index, y=y_test_sample, mode='markers', name='y_test', marker=dict(color='blue'))\n",
        "fig.add_scatter(x=y_test_sample.index, y=preds_sample, mode='markers', name='preds', marker=dict(color='red'))\n",
        "fig.update_layout(title='y_test vs. preds, random values', xaxis_title='Date', yaxis_title='Values')\n",
        "fig.show()"
      ],
      "metadata": {
        "id": "pXPOd1x_ufBG",
        "outputId": "f836eedc-6298-4773-9767-6920467044b8",
        "colab": {
          "base_uri": "https://localhost:8080/",
          "height": 542
        }
      },
      "id": "pXPOd1x_ufBG",
      "execution_count": 74,
      "outputs": [
        {
          "output_type": "display_data",
          "data": {
            "text/html": [
              "<html>\n",
              "<head><meta charset=\"utf-8\" /></head>\n",
              "<body>\n",
              "    <div>            <script src=\"https://cdnjs.cloudflare.com/ajax/libs/mathjax/2.7.5/MathJax.js?config=TeX-AMS-MML_SVG\"></script><script type=\"text/javascript\">if (window.MathJax && window.MathJax.Hub && window.MathJax.Hub.Config) {window.MathJax.Hub.Config({SVG: {font: \"STIX-Web\"}});}</script>                <script type=\"text/javascript\">window.PlotlyConfig = {MathJaxConfig: 'local'};</script>\n",
              "        <script src=\"https://cdn.plot.ly/plotly-2.18.2.min.js\"></script>                <div id=\"af273272-6feb-4a7d-9f35-ebbe2acb6ca5\" class=\"plotly-graph-div\" style=\"height:525px; width:100%;\"></div>            <script type=\"text/javascript\">                                    window.PLOTLYENV=window.PLOTLYENV || {};                                    if (document.getElementById(\"af273272-6feb-4a7d-9f35-ebbe2acb6ca5\")) {                    Plotly.newPlot(                        \"af273272-6feb-4a7d-9f35-ebbe2acb6ca5\",                        [{\"hovertemplate\":\"<extra></extra>\",\"legendgroup\":\"\",\"marker\":{\"color\":\"#636efa\",\"symbol\":\"circle\"},\"mode\":\"markers\",\"name\":\"\",\"orientation\":\"v\",\"showlegend\":false,\"xaxis\":\"x\",\"yaxis\":\"y\",\"type\":\"scatter\"},{\"marker\":{\"color\":\"blue\"},\"mode\":\"markers\",\"name\":\"y_test\",\"x\":[\"2019-11-25T00:00:00\",\"2013-05-29T00:00:00\",\"2020-10-26T00:00:00\",\"2018-08-25T00:00:00\",\"2014-06-11T00:00:00\",\"2013-11-23T00:00:00\",\"2014-10-06T00:00:00\",\"2015-11-19T00:00:00\",\"2015-06-25T00:00:00\",\"2013-07-05T00:00:00\",\"2014-06-28T00:00:00\",\"2022-12-06T00:00:00\",\"2022-04-17T00:00:00\",\"2014-08-23T00:00:00\",\"2016-06-25T00:00:00\",\"2018-01-01T00:00:00\",\"2014-04-07T00:00:00\",\"2022-12-16T00:00:00\",\"2020-11-13T00:00:00\",\"2014-07-30T00:00:00\",\"2017-02-04T00:00:00\",\"2018-12-16T00:00:00\",\"2015-05-12T00:00:00\",\"2022-11-24T00:00:00\",\"2022-01-27T00:00:00\",\"2022-07-20T00:00:00\",\"2014-02-07T00:00:00\",\"2017-01-02T00:00:00\",\"2014-09-14T00:00:00\",\"2022-06-26T00:00:00\",\"2017-11-08T00:00:00\",\"2015-07-25T00:00:00\",\"2016-12-02T00:00:00\",\"2016-08-17T00:00:00\",\"2019-03-26T00:00:00\",\"2017-12-19T00:00:00\",\"2015-05-18T00:00:00\",\"2013-02-27T00:00:00\",\"2013-08-15T00:00:00\",\"2018-05-13T00:00:00\",\"2016-01-06T00:00:00\",\"2021-08-01T00:00:00\",\"2022-11-22T00:00:00\",\"2013-08-07T00:00:00\",\"2014-04-27T00:00:00\",\"2018-06-28T00:00:00\",\"2014-02-13T00:00:00\",\"2013-11-02T00:00:00\",\"2013-04-29T00:00:00\",\"2018-06-03T00:00:00\",\"2018-08-12T00:00:00\",\"2020-05-06T00:00:00\",\"2015-03-08T00:00:00\",\"2021-05-09T00:00:00\",\"2016-01-04T00:00:00\",\"2014-12-15T00:00:00\",\"2014-05-09T00:00:00\",\"2014-05-07T00:00:00\",\"2022-05-13T00:00:00\",\"2021-07-09T00:00:00\",\"2017-03-29T00:00:00\",\"2018-07-04T00:00:00\",\"2020-01-28T00:00:00\",\"2016-08-06T00:00:00\",\"2017-01-30T00:00:00\",\"2015-03-29T00:00:00\",\"2015-04-21T00:00:00\",\"2014-01-16T00:00:00\",\"2021-11-28T00:00:00\",\"2018-05-17T00:00:00\",\"2017-08-22T00:00:00\",\"2018-02-25T00:00:00\",\"2014-08-05T00:00:00\",\"2016-01-24T00:00:00\",\"2021-02-14T00:00:00\",\"2022-07-28T00:00:00\",\"2022-01-08T00:00:00\",\"2014-05-18T00:00:00\",\"2013-04-15T00:00:00\",\"2016-12-28T00:00:00\",\"2017-10-27T00:00:00\",\"2022-08-17T00:00:00\",\"2015-03-06T00:00:00\",\"2017-11-25T00:00:00\",\"2019-11-10T00:00:00\",\"2016-05-17T00:00:00\",\"2020-09-08T00:00:00\",\"2017-07-10T00:00:00\",\"2021-02-19T00:00:00\",\"2017-09-25T00:00:00\",\"2017-11-29T00:00:00\",\"2017-09-10T00:00:00\",\"2020-10-30T00:00:00\",\"2019-07-19T00:00:00\",\"2022-12-17T00:00:00\",\"2019-08-10T00:00:00\",\"2016-07-23T00:00:00\",\"2015-08-10T00:00:00\",\"2021-09-25T00:00:00\",\"2015-02-15T00:00:00\"],\"y\":[37311.0,30734.0,41608.0,26104.0,32735.0,19207.0,38452.0,30816.0,46478.0,40605.0,27861.0,33205.0,23240.0,21758.0,15479.0,7876.0,53653.0,28339.0,38104.0,50977.0,27218.0,10940.0,20485.0,40123.0,28465.0,44007.0,46398.0,28974.0,25863.0,28328.0,28810.0,18211.0,28975.0,53105.0,33566.0,29758.0,38090.0,26363.0,46903.0,27267.0,40584.0,22322.0,34815.0,42630.0,21889.0,52699.0,28879.0,23454.0,32859.0,32781.0,14855.0,36211.0,46302.0,30290.0,34304.0,24896.0,40416.0,31042.0,44589.0,51241.0,31641.0,32662.0,32931.0,46212.0,15202.0,6491.0,49340.0,28032.0,14672.0,45200.0,50811.0,9185.0,32457.0,10299.0,6648.0,38119.0,32380.0,33701.0,36195.0,21310.0,38195.0,39278.0,43499.0,21353.0,24498.0,36215.0,29922.0,12244.0,29607.0,39628.0,33537.0,31489.0,32481.0,36198.0,16749.0,28940.0,37261.0,40092.0,29971.0,13495.0],\"type\":\"scatter\"},{\"marker\":{\"color\":\"red\"},\"mode\":\"markers\",\"name\":\"preds\",\"x\":[\"2019-11-25T00:00:00\",\"2013-05-29T00:00:00\",\"2020-10-26T00:00:00\",\"2018-08-25T00:00:00\",\"2014-06-11T00:00:00\",\"2013-11-23T00:00:00\",\"2014-10-06T00:00:00\",\"2015-11-19T00:00:00\",\"2015-06-25T00:00:00\",\"2013-07-05T00:00:00\",\"2014-06-28T00:00:00\",\"2022-12-06T00:00:00\",\"2022-04-17T00:00:00\",\"2014-08-23T00:00:00\",\"2016-06-25T00:00:00\",\"2018-01-01T00:00:00\",\"2014-04-07T00:00:00\",\"2022-12-16T00:00:00\",\"2020-11-13T00:00:00\",\"2014-07-30T00:00:00\",\"2017-02-04T00:00:00\",\"2018-12-16T00:00:00\",\"2015-05-12T00:00:00\",\"2022-11-24T00:00:00\",\"2022-01-27T00:00:00\",\"2022-07-20T00:00:00\",\"2014-02-07T00:00:00\",\"2017-01-02T00:00:00\",\"2014-09-14T00:00:00\",\"2022-06-26T00:00:00\",\"2017-11-08T00:00:00\",\"2015-07-25T00:00:00\",\"2016-12-02T00:00:00\",\"2016-08-17T00:00:00\",\"2019-03-26T00:00:00\",\"2017-12-19T00:00:00\",\"2015-05-18T00:00:00\",\"2013-02-27T00:00:00\",\"2013-08-15T00:00:00\",\"2018-05-13T00:00:00\",\"2016-01-06T00:00:00\",\"2021-08-01T00:00:00\",\"2022-11-22T00:00:00\",\"2013-08-07T00:00:00\",\"2014-04-27T00:00:00\",\"2018-06-28T00:00:00\",\"2014-02-13T00:00:00\",\"2013-11-02T00:00:00\",\"2013-04-29T00:00:00\",\"2018-06-03T00:00:00\",\"2018-08-12T00:00:00\",\"2020-05-06T00:00:00\",\"2015-03-08T00:00:00\",\"2021-05-09T00:00:00\",\"2016-01-04T00:00:00\",\"2014-12-15T00:00:00\",\"2014-05-09T00:00:00\",\"2014-05-07T00:00:00\",\"2022-05-13T00:00:00\",\"2021-07-09T00:00:00\",\"2017-03-29T00:00:00\",\"2018-07-04T00:00:00\",\"2020-01-28T00:00:00\",\"2016-08-06T00:00:00\",\"2017-01-30T00:00:00\",\"2015-03-29T00:00:00\",\"2015-04-21T00:00:00\",\"2014-01-16T00:00:00\",\"2021-11-28T00:00:00\",\"2018-05-17T00:00:00\",\"2017-08-22T00:00:00\",\"2018-02-25T00:00:00\",\"2014-08-05T00:00:00\",\"2016-01-24T00:00:00\",\"2021-02-14T00:00:00\",\"2022-07-28T00:00:00\",\"2022-01-08T00:00:00\",\"2014-05-18T00:00:00\",\"2013-04-15T00:00:00\",\"2016-12-28T00:00:00\",\"2017-10-27T00:00:00\",\"2022-08-17T00:00:00\",\"2015-03-06T00:00:00\",\"2017-11-25T00:00:00\",\"2019-11-10T00:00:00\",\"2016-05-17T00:00:00\",\"2020-09-08T00:00:00\",\"2017-07-10T00:00:00\",\"2021-02-19T00:00:00\",\"2017-09-25T00:00:00\",\"2017-11-29T00:00:00\",\"2017-09-10T00:00:00\",\"2020-10-30T00:00:00\",\"2019-07-19T00:00:00\",\"2022-12-17T00:00:00\",\"2019-08-10T00:00:00\",\"2016-07-23T00:00:00\",\"2015-08-10T00:00:00\",\"2021-09-25T00:00:00\",\"2015-02-15T00:00:00\"],\"y\":[36927.21875,35458.95703125,36057.80859375,25615.927734375,37333.390625,19647.4609375,43056.42578125,27606.580078125,45421.55078125,34881.56640625,28167.96875,30542.919921875,24385.962890625,24083.123046875,19541.349609375,14017.65625,40824.15625,28230.3515625,34150.94140625,48684.0078125,28335.45703125,11862.5107421875,23755.064453125,36978.52734375,28537.318359375,43871.19921875,41022.265625,17420.083984375,28160.849609375,28289.412109375,39278.69921875,28103.578125,22618.53515625,53366.58203125,33482.83203125,30261.087890625,34697.8203125,25868.69140625,46651.05859375,32252.05859375,35982.9140625,12993.6708984375,36956.0390625,38328.87890625,24971.65625,51288.8203125,26792.16796875,17989.509765625,31372.98828125,35452.640625,27034.44140625,45498.71484375,34243.90625,35575.7421875,27826.4609375,27269.68359375,36201.27734375,36233.6875,36065.265625,39299.20703125,33520.5,37589.55078125,30880.83984375,42657.13671875,23120.93359375,6952.91064453125,48377.546875,29416.095703125,13896.5791015625,38502.48046875,48732.6796875,11398.927734375,37676.74609375,9626.75390625,7397.67041015625,41322.703125,36156.65625,29067.16015625,37044.4609375,20110.474609375,37590.4296875,42501.94140625,44944.99609375,21422.1875,26960.8671875,34310.0625,41262.69140625,31530.9609375,28685.6328125,40484.1328125,31987.697265625,35362.21875,35064.02734375,39158.5859375,14556.8232421875,38205.64453125,33510.359375,35576.828125,29764.37890625,14672.1220703125],\"type\":\"scatter\"}],                        {\"template\":{\"data\":{\"histogram2dcontour\":[{\"type\":\"histogram2dcontour\",\"colorbar\":{\"outlinewidth\":0,\"ticks\":\"\"},\"colorscale\":[[0.0,\"#0d0887\"],[0.1111111111111111,\"#46039f\"],[0.2222222222222222,\"#7201a8\"],[0.3333333333333333,\"#9c179e\"],[0.4444444444444444,\"#bd3786\"],[0.5555555555555556,\"#d8576b\"],[0.6666666666666666,\"#ed7953\"],[0.7777777777777778,\"#fb9f3a\"],[0.8888888888888888,\"#fdca26\"],[1.0,\"#f0f921\"]]}],\"choropleth\":[{\"type\":\"choropleth\",\"colorbar\":{\"outlinewidth\":0,\"ticks\":\"\"}}],\"histogram2d\":[{\"type\":\"histogram2d\",\"colorbar\":{\"outlinewidth\":0,\"ticks\":\"\"},\"colorscale\":[[0.0,\"#0d0887\"],[0.1111111111111111,\"#46039f\"],[0.2222222222222222,\"#7201a8\"],[0.3333333333333333,\"#9c179e\"],[0.4444444444444444,\"#bd3786\"],[0.5555555555555556,\"#d8576b\"],[0.6666666666666666,\"#ed7953\"],[0.7777777777777778,\"#fb9f3a\"],[0.8888888888888888,\"#fdca26\"],[1.0,\"#f0f921\"]]}],\"heatmap\":[{\"type\":\"heatmap\",\"colorbar\":{\"outlinewidth\":0,\"ticks\":\"\"},\"colorscale\":[[0.0,\"#0d0887\"],[0.1111111111111111,\"#46039f\"],[0.2222222222222222,\"#7201a8\"],[0.3333333333333333,\"#9c179e\"],[0.4444444444444444,\"#bd3786\"],[0.5555555555555556,\"#d8576b\"],[0.6666666666666666,\"#ed7953\"],[0.7777777777777778,\"#fb9f3a\"],[0.8888888888888888,\"#fdca26\"],[1.0,\"#f0f921\"]]}],\"heatmapgl\":[{\"type\":\"heatmapgl\",\"colorbar\":{\"outlinewidth\":0,\"ticks\":\"\"},\"colorscale\":[[0.0,\"#0d0887\"],[0.1111111111111111,\"#46039f\"],[0.2222222222222222,\"#7201a8\"],[0.3333333333333333,\"#9c179e\"],[0.4444444444444444,\"#bd3786\"],[0.5555555555555556,\"#d8576b\"],[0.6666666666666666,\"#ed7953\"],[0.7777777777777778,\"#fb9f3a\"],[0.8888888888888888,\"#fdca26\"],[1.0,\"#f0f921\"]]}],\"contourcarpet\":[{\"type\":\"contourcarpet\",\"colorbar\":{\"outlinewidth\":0,\"ticks\":\"\"}}],\"contour\":[{\"type\":\"contour\",\"colorbar\":{\"outlinewidth\":0,\"ticks\":\"\"},\"colorscale\":[[0.0,\"#0d0887\"],[0.1111111111111111,\"#46039f\"],[0.2222222222222222,\"#7201a8\"],[0.3333333333333333,\"#9c179e\"],[0.4444444444444444,\"#bd3786\"],[0.5555555555555556,\"#d8576b\"],[0.6666666666666666,\"#ed7953\"],[0.7777777777777778,\"#fb9f3a\"],[0.8888888888888888,\"#fdca26\"],[1.0,\"#f0f921\"]]}],\"surface\":[{\"type\":\"surface\",\"colorbar\":{\"outlinewidth\":0,\"ticks\":\"\"},\"colorscale\":[[0.0,\"#0d0887\"],[0.1111111111111111,\"#46039f\"],[0.2222222222222222,\"#7201a8\"],[0.3333333333333333,\"#9c179e\"],[0.4444444444444444,\"#bd3786\"],[0.5555555555555556,\"#d8576b\"],[0.6666666666666666,\"#ed7953\"],[0.7777777777777778,\"#fb9f3a\"],[0.8888888888888888,\"#fdca26\"],[1.0,\"#f0f921\"]]}],\"mesh3d\":[{\"type\":\"mesh3d\",\"colorbar\":{\"outlinewidth\":0,\"ticks\":\"\"}}],\"scatter\":[{\"fillpattern\":{\"fillmode\":\"overlay\",\"size\":10,\"solidity\":0.2},\"type\":\"scatter\"}],\"parcoords\":[{\"type\":\"parcoords\",\"line\":{\"colorbar\":{\"outlinewidth\":0,\"ticks\":\"\"}}}],\"scatterpolargl\":[{\"type\":\"scatterpolargl\",\"marker\":{\"colorbar\":{\"outlinewidth\":0,\"ticks\":\"\"}}}],\"bar\":[{\"error_x\":{\"color\":\"#2a3f5f\"},\"error_y\":{\"color\":\"#2a3f5f\"},\"marker\":{\"line\":{\"color\":\"#E5ECF6\",\"width\":0.5},\"pattern\":{\"fillmode\":\"overlay\",\"size\":10,\"solidity\":0.2}},\"type\":\"bar\"}],\"scattergeo\":[{\"type\":\"scattergeo\",\"marker\":{\"colorbar\":{\"outlinewidth\":0,\"ticks\":\"\"}}}],\"scatterpolar\":[{\"type\":\"scatterpolar\",\"marker\":{\"colorbar\":{\"outlinewidth\":0,\"ticks\":\"\"}}}],\"histogram\":[{\"marker\":{\"pattern\":{\"fillmode\":\"overlay\",\"size\":10,\"solidity\":0.2}},\"type\":\"histogram\"}],\"scattergl\":[{\"type\":\"scattergl\",\"marker\":{\"colorbar\":{\"outlinewidth\":0,\"ticks\":\"\"}}}],\"scatter3d\":[{\"type\":\"scatter3d\",\"line\":{\"colorbar\":{\"outlinewidth\":0,\"ticks\":\"\"}},\"marker\":{\"colorbar\":{\"outlinewidth\":0,\"ticks\":\"\"}}}],\"scattermapbox\":[{\"type\":\"scattermapbox\",\"marker\":{\"colorbar\":{\"outlinewidth\":0,\"ticks\":\"\"}}}],\"scatterternary\":[{\"type\":\"scatterternary\",\"marker\":{\"colorbar\":{\"outlinewidth\":0,\"ticks\":\"\"}}}],\"scattercarpet\":[{\"type\":\"scattercarpet\",\"marker\":{\"colorbar\":{\"outlinewidth\":0,\"ticks\":\"\"}}}],\"carpet\":[{\"aaxis\":{\"endlinecolor\":\"#2a3f5f\",\"gridcolor\":\"white\",\"linecolor\":\"white\",\"minorgridcolor\":\"white\",\"startlinecolor\":\"#2a3f5f\"},\"baxis\":{\"endlinecolor\":\"#2a3f5f\",\"gridcolor\":\"white\",\"linecolor\":\"white\",\"minorgridcolor\":\"white\",\"startlinecolor\":\"#2a3f5f\"},\"type\":\"carpet\"}],\"table\":[{\"cells\":{\"fill\":{\"color\":\"#EBF0F8\"},\"line\":{\"color\":\"white\"}},\"header\":{\"fill\":{\"color\":\"#C8D4E3\"},\"line\":{\"color\":\"white\"}},\"type\":\"table\"}],\"barpolar\":[{\"marker\":{\"line\":{\"color\":\"#E5ECF6\",\"width\":0.5},\"pattern\":{\"fillmode\":\"overlay\",\"size\":10,\"solidity\":0.2}},\"type\":\"barpolar\"}],\"pie\":[{\"automargin\":true,\"type\":\"pie\"}]},\"layout\":{\"autotypenumbers\":\"strict\",\"colorway\":[\"#636efa\",\"#EF553B\",\"#00cc96\",\"#ab63fa\",\"#FFA15A\",\"#19d3f3\",\"#FF6692\",\"#B6E880\",\"#FF97FF\",\"#FECB52\"],\"font\":{\"color\":\"#2a3f5f\"},\"hovermode\":\"closest\",\"hoverlabel\":{\"align\":\"left\"},\"paper_bgcolor\":\"white\",\"plot_bgcolor\":\"#E5ECF6\",\"polar\":{\"bgcolor\":\"#E5ECF6\",\"angularaxis\":{\"gridcolor\":\"white\",\"linecolor\":\"white\",\"ticks\":\"\"},\"radialaxis\":{\"gridcolor\":\"white\",\"linecolor\":\"white\",\"ticks\":\"\"}},\"ternary\":{\"bgcolor\":\"#E5ECF6\",\"aaxis\":{\"gridcolor\":\"white\",\"linecolor\":\"white\",\"ticks\":\"\"},\"baxis\":{\"gridcolor\":\"white\",\"linecolor\":\"white\",\"ticks\":\"\"},\"caxis\":{\"gridcolor\":\"white\",\"linecolor\":\"white\",\"ticks\":\"\"}},\"coloraxis\":{\"colorbar\":{\"outlinewidth\":0,\"ticks\":\"\"}},\"colorscale\":{\"sequential\":[[0.0,\"#0d0887\"],[0.1111111111111111,\"#46039f\"],[0.2222222222222222,\"#7201a8\"],[0.3333333333333333,\"#9c179e\"],[0.4444444444444444,\"#bd3786\"],[0.5555555555555556,\"#d8576b\"],[0.6666666666666666,\"#ed7953\"],[0.7777777777777778,\"#fb9f3a\"],[0.8888888888888888,\"#fdca26\"],[1.0,\"#f0f921\"]],\"sequentialminus\":[[0.0,\"#0d0887\"],[0.1111111111111111,\"#46039f\"],[0.2222222222222222,\"#7201a8\"],[0.3333333333333333,\"#9c179e\"],[0.4444444444444444,\"#bd3786\"],[0.5555555555555556,\"#d8576b\"],[0.6666666666666666,\"#ed7953\"],[0.7777777777777778,\"#fb9f3a\"],[0.8888888888888888,\"#fdca26\"],[1.0,\"#f0f921\"]],\"diverging\":[[0,\"#8e0152\"],[0.1,\"#c51b7d\"],[0.2,\"#de77ae\"],[0.3,\"#f1b6da\"],[0.4,\"#fde0ef\"],[0.5,\"#f7f7f7\"],[0.6,\"#e6f5d0\"],[0.7,\"#b8e186\"],[0.8,\"#7fbc41\"],[0.9,\"#4d9221\"],[1,\"#276419\"]]},\"xaxis\":{\"gridcolor\":\"white\",\"linecolor\":\"white\",\"ticks\":\"\",\"title\":{\"standoff\":15},\"zerolinecolor\":\"white\",\"automargin\":true,\"zerolinewidth\":2},\"yaxis\":{\"gridcolor\":\"white\",\"linecolor\":\"white\",\"ticks\":\"\",\"title\":{\"standoff\":15},\"zerolinecolor\":\"white\",\"automargin\":true,\"zerolinewidth\":2},\"scene\":{\"xaxis\":{\"backgroundcolor\":\"#E5ECF6\",\"gridcolor\":\"white\",\"linecolor\":\"white\",\"showbackground\":true,\"ticks\":\"\",\"zerolinecolor\":\"white\",\"gridwidth\":2},\"yaxis\":{\"backgroundcolor\":\"#E5ECF6\",\"gridcolor\":\"white\",\"linecolor\":\"white\",\"showbackground\":true,\"ticks\":\"\",\"zerolinecolor\":\"white\",\"gridwidth\":2},\"zaxis\":{\"backgroundcolor\":\"#E5ECF6\",\"gridcolor\":\"white\",\"linecolor\":\"white\",\"showbackground\":true,\"ticks\":\"\",\"zerolinecolor\":\"white\",\"gridwidth\":2}},\"shapedefaults\":{\"line\":{\"color\":\"#2a3f5f\"}},\"annotationdefaults\":{\"arrowcolor\":\"#2a3f5f\",\"arrowhead\":0,\"arrowwidth\":1},\"geo\":{\"bgcolor\":\"white\",\"landcolor\":\"#E5ECF6\",\"subunitcolor\":\"white\",\"showland\":true,\"showlakes\":true,\"lakecolor\":\"white\"},\"title\":{\"x\":0.05},\"mapbox\":{\"style\":\"light\"}}},\"xaxis\":{\"anchor\":\"y\",\"domain\":[0.0,1.0],\"title\":{\"text\":\"Date\"}},\"yaxis\":{\"anchor\":\"x\",\"domain\":[0.0,1.0],\"title\":{\"text\":\"Values\"}},\"legend\":{\"tracegroupgap\":0},\"margin\":{\"t\":60},\"title\":{\"text\":\"y_test vs. preds, random values\"}},                        {\"responsive\": true}                    ).then(function(){\n",
              "                            \n",
              "var gd = document.getElementById('af273272-6feb-4a7d-9f35-ebbe2acb6ca5');\n",
              "var x = new MutationObserver(function (mutations, observer) {{\n",
              "        var display = window.getComputedStyle(gd).display;\n",
              "        if (!display || display === 'none') {{\n",
              "            console.log([gd, 'removed!']);\n",
              "            Plotly.purge(gd);\n",
              "            observer.disconnect();\n",
              "        }}\n",
              "}});\n",
              "\n",
              "// Listen for the removal of the full notebook cells\n",
              "var notebookContainer = gd.closest('#notebook-container');\n",
              "if (notebookContainer) {{\n",
              "    x.observe(notebookContainer, {childList: true});\n",
              "}}\n",
              "\n",
              "// Listen for the clearing of the current output cell\n",
              "var outputEl = gd.closest('.output');\n",
              "if (outputEl) {{\n",
              "    x.observe(outputEl, {childList: true});\n",
              "}}\n",
              "\n",
              "                        })                };                            </script>        </div>\n",
              "</body>\n",
              "</html>"
            ]
          },
          "metadata": {}
        }
      ]
    },
    {
      "cell_type": "markdown",
      "source": [
        "<a name=\"5.3.\"></a>\n",
        "## 5.3. Recurrent Neural Network\n",
        "[Content](#content)"
      ],
      "metadata": {
        "id": "35YvxR1B1tcY"
      },
      "id": "35YvxR1B1tcY"
    },
    {
      "cell_type": "code",
      "source": [
        "print(X_train.shape[0], X_train.shape[1])\n",
        "import numpy as np\n",
        "from keras.models import Sequential\n",
        "from keras.layers import LSTM, Dense\n",
        "from sklearn.metrics import mean_squared_error\n",
        "from sklearn.model_selection import train_test_split\n",
        "from keras.optimizers import Adam\n",
        "\n",
        "# Split the data into training and test sets\n",
        "#X_train, X_test, y_train, y_test = train_test_split(X, y, test_size=0.2, random_state=42)\n",
        "\n",
        "# Build the LSTM model\n",
        "model = Sequential()\n",
        "model.add(LSTM(units=256, input_shape=(X_train_test.shape[1], X_train_test.shape[2]), activation='relu'))\n",
        "#model.add(LSTM(units=64, input_shape=(timesteps, input_dim), activation='relu'))\n",
        "model.add(Dense(units=1))\n",
        "optimizer = Adam(learning_rate=0.001)  # Optimizer with learning rate 0.001\n",
        "model.compile(loss='mean_squared_error', optimizer=optimizer)\n",
        "\n",
        "# Train the model\n",
        "model.fit(X_train_test, y_train, epochs=100, batch_size=64, verbose=1)  # You can fine-tune hyperparameters like epochs and batch_size\n",
        "\n",
        "# Predict on the test set\n",
        "preds = model.predict(X_test)\n",
        "\n",
        "# Evaluate the model's performance using RMSE\n",
        "rmse = np.sqrt(mean_squared_error(y_test, preds))\n",
        "print(\"RMSE: %f\" % (rmse))"
      ],
      "metadata": {
        "id": "sOTf5esj1181",
        "outputId": "4c3a9fff-be47-48fd-8fa3-718ce2778c58",
        "colab": {
          "base_uri": "https://localhost:8080/",
          "height": 387
        }
      },
      "id": "sOTf5esj1181",
      "execution_count": 95,
      "outputs": [
        {
          "output_type": "stream",
          "name": "stdout",
          "text": [
            "2921 29\n"
          ]
        },
        {
          "output_type": "error",
          "ename": "IndexError",
          "evalue": "ignored",
          "traceback": [
            "\u001b[0;31m---------------------------------------------------------------------------\u001b[0m",
            "\u001b[0;31mIndexError\u001b[0m                                Traceback (most recent call last)",
            "\u001b[0;32m<ipython-input-95-c5a09fc86234>\u001b[0m in \u001b[0;36m<cell line: 14>\u001b[0;34m()\u001b[0m\n\u001b[1;32m     12\u001b[0m \u001b[0;31m# Build the LSTM model\u001b[0m\u001b[0;34m\u001b[0m\u001b[0;34m\u001b[0m\u001b[0m\n\u001b[1;32m     13\u001b[0m \u001b[0mmodel\u001b[0m \u001b[0;34m=\u001b[0m \u001b[0mSequential\u001b[0m\u001b[0;34m(\u001b[0m\u001b[0;34m)\u001b[0m\u001b[0;34m\u001b[0m\u001b[0;34m\u001b[0m\u001b[0m\n\u001b[0;32m---> 14\u001b[0;31m \u001b[0mmodel\u001b[0m\u001b[0;34m.\u001b[0m\u001b[0madd\u001b[0m\u001b[0;34m(\u001b[0m\u001b[0mLSTM\u001b[0m\u001b[0;34m(\u001b[0m\u001b[0munits\u001b[0m\u001b[0;34m=\u001b[0m\u001b[0;36m256\u001b[0m\u001b[0;34m,\u001b[0m \u001b[0minput_shape\u001b[0m\u001b[0;34m=\u001b[0m\u001b[0;34m(\u001b[0m\u001b[0mX_train_test\u001b[0m\u001b[0;34m.\u001b[0m\u001b[0mshape\u001b[0m\u001b[0;34m[\u001b[0m\u001b[0;36m1\u001b[0m\u001b[0;34m]\u001b[0m\u001b[0;34m,\u001b[0m \u001b[0mX_train_test\u001b[0m\u001b[0;34m.\u001b[0m\u001b[0mshape\u001b[0m\u001b[0;34m[\u001b[0m\u001b[0;36m2\u001b[0m\u001b[0;34m]\u001b[0m\u001b[0;34m)\u001b[0m\u001b[0;34m,\u001b[0m \u001b[0mactivation\u001b[0m\u001b[0;34m=\u001b[0m\u001b[0;34m'relu'\u001b[0m\u001b[0;34m)\u001b[0m\u001b[0;34m)\u001b[0m\u001b[0;34m\u001b[0m\u001b[0;34m\u001b[0m\u001b[0m\n\u001b[0m\u001b[1;32m     15\u001b[0m \u001b[0;31m#model.add(LSTM(units=64, input_shape=(timesteps, input_dim), activation='relu'))\u001b[0m\u001b[0;34m\u001b[0m\u001b[0;34m\u001b[0m\u001b[0m\n\u001b[1;32m     16\u001b[0m \u001b[0mmodel\u001b[0m\u001b[0;34m.\u001b[0m\u001b[0madd\u001b[0m\u001b[0;34m(\u001b[0m\u001b[0mDense\u001b[0m\u001b[0;34m(\u001b[0m\u001b[0munits\u001b[0m\u001b[0;34m=\u001b[0m\u001b[0;36m1\u001b[0m\u001b[0;34m)\u001b[0m\u001b[0;34m)\u001b[0m\u001b[0;34m\u001b[0m\u001b[0;34m\u001b[0m\u001b[0m\n",
            "\u001b[0;32m/usr/local/lib/python3.9/dist-packages/tensorflow/python/framework/tensor_shape.py\u001b[0m in \u001b[0;36m__getitem__\u001b[0;34m(self, key)\u001b[0m\n\u001b[1;32m    955\u001b[0m       \u001b[0;32melse\u001b[0m\u001b[0;34m:\u001b[0m\u001b[0;34m\u001b[0m\u001b[0;34m\u001b[0m\u001b[0m\n\u001b[1;32m    956\u001b[0m         \u001b[0;32mif\u001b[0m \u001b[0mself\u001b[0m\u001b[0;34m.\u001b[0m\u001b[0m_v2_behavior\u001b[0m\u001b[0;34m:\u001b[0m\u001b[0;34m\u001b[0m\u001b[0;34m\u001b[0m\u001b[0m\n\u001b[0;32m--> 957\u001b[0;31m           \u001b[0;32mreturn\u001b[0m \u001b[0mself\u001b[0m\u001b[0;34m.\u001b[0m\u001b[0m_dims\u001b[0m\u001b[0;34m[\u001b[0m\u001b[0mkey\u001b[0m\u001b[0;34m]\u001b[0m\u001b[0;34m\u001b[0m\u001b[0;34m\u001b[0m\u001b[0m\n\u001b[0m\u001b[1;32m    958\u001b[0m         \u001b[0;32melse\u001b[0m\u001b[0;34m:\u001b[0m\u001b[0;34m\u001b[0m\u001b[0;34m\u001b[0m\u001b[0m\n\u001b[1;32m    959\u001b[0m           \u001b[0;32mreturn\u001b[0m \u001b[0mself\u001b[0m\u001b[0;34m.\u001b[0m\u001b[0mdims\u001b[0m\u001b[0;34m[\u001b[0m\u001b[0mkey\u001b[0m\u001b[0;34m]\u001b[0m\u001b[0;34m\u001b[0m\u001b[0;34m\u001b[0m\u001b[0m\n",
            "\u001b[0;31mIndexError\u001b[0m: tuple index out of range"
          ]
        }
      ]
    }
  ],
  "metadata": {
    "colab": {
      "provenance": []
    },
    "gpuClass": "standard",
    "kernelspec": {
      "display_name": "Python 3 (ipykernel)",
      "language": "python",
      "name": "python3"
    },
    "language_info": {
      "codemirror_mode": {
        "name": "ipython",
        "version": 3
      },
      "file_extension": ".py",
      "mimetype": "text/x-python",
      "name": "python",
      "nbconvert_exporter": "python",
      "pygments_lexer": "ipython3",
      "version": "3.9.2"
    }
  },
  "nbformat": 4,
  "nbformat_minor": 5
}