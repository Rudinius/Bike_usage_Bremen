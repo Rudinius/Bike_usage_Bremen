{
  "cells": [
    {
      "cell_type": "code",
      "source": [
        "import warnings\n",
        "warnings.filterwarnings(\"ignore\", category=DeprecationWarning)"
      ],
      "metadata": {
        "id": "y9LfcFe3a_nP"
      },
      "id": "y9LfcFe3a_nP",
      "execution_count": 9,
      "outputs": []
    },
    {
      "cell_type": "markdown",
      "id": "CBLnLwZIZpWJ",
      "metadata": {
        "id": "CBLnLwZIZpWJ"
      },
      "source": [
        "# Notebook"
      ]
    },
    {
      "cell_type": "markdown",
      "id": "lZXvJFJqZuRE",
      "metadata": {
        "id": "lZXvJFJqZuRE"
      },
      "source": [
        "In the Model learning step, the prepared dataset from [3_Imputing](https://raw.githubusercontent.com/Rudinius/Bike_usage_Bremen/main/3_Imputing.ipynb) is loaded. Then different machine learning algorithms are trained and compared to each other.\n",
        "\n",
        "We will test\n",
        "* XGBoost\n",
        "* Multilayer perceptron (MLP)\n",
        "* Recurrent Neural Network (RNN)"
      ]
    },
    {
      "cell_type": "markdown",
      "id": "0c910711",
      "metadata": {
        "id": "0c910711"
      },
      "source": [
        "<a name=\"content\"></a>\n",
        "# Content\n",
        "\n",
        "* [1. Import libraries and mount drive](#1.)\n",
        "* [2. Import datasets](#2.)\n",
        "* [3. Select a target station](#3.)\n",
        "* [4. Establish baseline benchmark](#4.)\n",
        "* [5. Training machine learning algorithms](#5)\n",
        "    * [5.2. XGBoost](#5.2.)\n",
        "    * [5.3. Multilayer perceptron](#5.3.)\n",
        "    * [5.4. Recurrent Neural Network](#5.4.)"
      ]
    },
    {
      "cell_type": "markdown",
      "id": "85f76996",
      "metadata": {
        "id": "85f76996"
      },
      "source": [
        "<a name=\"1.\"></a>\n",
        "# 1.&nbsp;Import libraries\n",
        "[Content](#content)"
      ]
    },
    {
      "cell_type": "code",
      "execution_count": 10,
      "id": "3731ea33",
      "metadata": {
        "id": "3731ea33"
      },
      "outputs": [],
      "source": [
        "# Import libraries\n",
        "import numpy as np\n",
        "import pandas as pd\n",
        "import plotly.express as px\n",
        "#from plotly.subplots import make_subplots\n",
        "#import random\n",
        "from tensorflow import keras\n",
        "from sklearn.metrics import make_scorer, mean_squared_error\n",
        "from sklearn.model_selection import cross_val_score, GridSearchCV, train_test_split, TimeSeriesSplit\n",
        "#from sklearn.preprocessing import OneHotEncoder\n",
        "from sklearn.preprocessing import StandardScaler\n",
        "import xgboost as xgb\n",
        "import tensorflow as tf\n",
        "from keras.models import Sequential\n",
        "from keras.layers import Dense, Input, Dropout, BatchNormalization, LSTM, Bidirectional, Reshape\n",
        "from keras.optimizers import Adam\n",
        "from keras.metrics import RootMeanSquaredError"
      ]
    },
    {
      "cell_type": "code",
      "execution_count": 11,
      "id": "LcKvjPd27cDu",
      "metadata": {
        "colab": {
          "base_uri": "https://localhost:8080/",
          "height": 87
        },
        "id": "LcKvjPd27cDu",
        "outputId": "9d70d1a9-0e8f-40d5-9b92-f24654919843"
      },
      "outputs": [
        {
          "output_type": "execute_result",
          "data": {
            "text/plain": [
              "'\\nimport importlib\\n\\n# Check if package is installed\\npackage_name =[\"pyjanitor\", \"shap\"]\\n\\nfor package in package_name:\\n    print(package)\\n    spec = importlib.util.find_spec(package)\\n    if spec is None:\\n        # Package is not installed, install it via pip\\n        !pip install package\\n    else:\\n        print(f\"{package} is already installed\")\\n        import package\\n'"
            ],
            "application/vnd.google.colaboratory.intrinsic+json": {
              "type": "string"
            }
          },
          "metadata": {},
          "execution_count": 11
        }
      ],
      "source": [
        "# Install package pyjanitor since it is not part of the standard packages\n",
        "# of Google Colab\n",
        "\"\"\"\n",
        "import importlib\n",
        "\n",
        "# Check if package is installed\n",
        "package_name =[\"pyjanitor\", \"shap\"]\n",
        "\n",
        "for package in package_name:\n",
        "    print(package)\n",
        "    spec = importlib.util.find_spec(package)\n",
        "    if spec is None:\n",
        "        # Package is not installed, install it via pip\n",
        "        !pip install package\n",
        "    else:\n",
        "        print(f\"{package} is already installed\")\n",
        "        import package\n",
        "\"\"\"\n"
      ]
    },
    {
      "cell_type": "code",
      "source": [
        "!pip install shap"
      ],
      "metadata": {
        "id": "FxG4oXwctkw4",
        "outputId": "6b3b123b-6aab-4ca1-f727-7f95b91db989",
        "colab": {
          "base_uri": "https://localhost:8080/"
        }
      },
      "id": "FxG4oXwctkw4",
      "execution_count": 12,
      "outputs": [
        {
          "output_type": "stream",
          "name": "stdout",
          "text": [
            "Requirement already satisfied: shap in /usr/local/lib/python3.10/dist-packages (0.42.1)\n",
            "Requirement already satisfied: numpy in /usr/local/lib/python3.10/dist-packages (from shap) (1.23.5)\n",
            "Requirement already satisfied: scipy in /usr/local/lib/python3.10/dist-packages (from shap) (1.10.1)\n",
            "Requirement already satisfied: scikit-learn in /usr/local/lib/python3.10/dist-packages (from shap) (1.2.2)\n",
            "Requirement already satisfied: pandas in /usr/local/lib/python3.10/dist-packages (from shap) (1.5.3)\n",
            "Requirement already satisfied: tqdm>=4.27.0 in /usr/local/lib/python3.10/dist-packages (from shap) (4.66.1)\n",
            "Requirement already satisfied: packaging>20.9 in /usr/local/lib/python3.10/dist-packages (from shap) (23.1)\n",
            "Requirement already satisfied: slicer==0.0.7 in /usr/local/lib/python3.10/dist-packages (from shap) (0.0.7)\n",
            "Requirement already satisfied: numba in /usr/local/lib/python3.10/dist-packages (from shap) (0.56.4)\n",
            "Requirement already satisfied: cloudpickle in /usr/local/lib/python3.10/dist-packages (from shap) (2.2.1)\n",
            "Requirement already satisfied: llvmlite<0.40,>=0.39.0dev0 in /usr/local/lib/python3.10/dist-packages (from numba->shap) (0.39.1)\n",
            "Requirement already satisfied: setuptools in /usr/local/lib/python3.10/dist-packages (from numba->shap) (67.7.2)\n",
            "Requirement already satisfied: python-dateutil>=2.8.1 in /usr/local/lib/python3.10/dist-packages (from pandas->shap) (2.8.2)\n",
            "Requirement already satisfied: pytz>=2020.1 in /usr/local/lib/python3.10/dist-packages (from pandas->shap) (2023.3)\n",
            "Requirement already satisfied: joblib>=1.1.1 in /usr/local/lib/python3.10/dist-packages (from scikit-learn->shap) (1.3.2)\n",
            "Requirement already satisfied: threadpoolctl>=2.0.0 in /usr/local/lib/python3.10/dist-packages (from scikit-learn->shap) (3.2.0)\n",
            "Requirement already satisfied: six>=1.5 in /usr/local/lib/python3.10/dist-packages (from python-dateutil>=2.8.1->pandas->shap) (1.16.0)\n"
          ]
        }
      ]
    },
    {
      "cell_type": "code",
      "source": [
        "import shap"
      ],
      "metadata": {
        "id": "rctW5-HLukig",
        "outputId": "f1ed7922-3811-4a55-ebac-4836595c1726",
        "colab": {
          "base_uri": "https://localhost:8080/"
        }
      },
      "id": "rctW5-HLukig",
      "execution_count": 27,
      "outputs": [
        {
          "output_type": "stream",
          "name": "stderr",
          "text": [
            "Using `tqdm.autonotebook.tqdm` in notebook mode. Use `tqdm.tqdm` instead to force console mode (e.g. in jupyter console)\n"
          ]
        }
      ]
    },
    {
      "cell_type": "code",
      "source": [
        "keras.utils.set_random_seed(1)"
      ],
      "metadata": {
        "id": "FBMlPVNJzgfz"
      },
      "id": "FBMlPVNJzgfz",
      "execution_count": 13,
      "outputs": []
    },
    {
      "cell_type": "markdown",
      "id": "2516jhMiVxrJ",
      "metadata": {
        "id": "2516jhMiVxrJ"
      },
      "source": [
        "<a name=\"2.\"></a>\n",
        "#2.&nbsp;Import dataset\n",
        "[Content](#content)"
      ]
    },
    {
      "cell_type": "markdown",
      "id": "IF9lS_3ok1tO",
      "metadata": {
        "id": "IF9lS_3ok1tO"
      },
      "source": [
        "Import the processed dataset."
      ]
    },
    {
      "cell_type": "code",
      "execution_count": 14,
      "id": "Xu3OXfHqVxfa",
      "metadata": {
        "id": "Xu3OXfHqVxfa"
      },
      "outputs": [],
      "source": [
        "# Set base url\n",
        "url = \"https://raw.githubusercontent.com/Rudinius/Bike_usage_Bremen/main/data/\""
      ]
    },
    {
      "cell_type": "code",
      "execution_count": 15,
      "id": "2etHV6ODVsUV",
      "metadata": {
        "colab": {
          "base_uri": "https://localhost:8080/",
          "height": 373
        },
        "id": "2etHV6ODVsUV",
        "outputId": "f6b4493e-c846-482b-b1dc-b05b75e2c513"
      },
      "outputs": [
        {
          "output_type": "execute_result",
          "data": {
            "text/plain": [
              "            graf_moltke_straße_ostseite  graf_moltke_straße_westseite  \\\n",
              "date                                                                    \n",
              "2013-01-01                        261.0                         290.0   \n",
              "2013-01-02                        750.0                         876.0   \n",
              "2013-01-03                        931.0                        1015.0   \n",
              "2013-01-04                        500.0                         587.0   \n",
              "2013-01-05                       1013.0                        1011.0   \n",
              "\n",
              "            hastedter_bruckenstraße  langemarckstraße_ostseite  \\\n",
              "date                                                             \n",
              "2013-01-01                    381.0                      312.0   \n",
              "2013-01-02                   1109.0                     1258.0   \n",
              "2013-01-03                   1603.0                     1556.0   \n",
              "2013-01-04                   1284.0                      703.0   \n",
              "2013-01-05                      0.0                     1856.0   \n",
              "\n",
              "            langemarckstraße_westseite  osterdeich  radweg_kleine_weser  \\\n",
              "date                                                                      \n",
              "2013-01-01                       308.0       870.0                410.0   \n",
              "2013-01-02                      1120.0      2169.0               1762.0   \n",
              "2013-01-03                      1480.0      2295.0               2287.0   \n",
              "2013-01-04                       626.0      1640.0               1548.0   \n",
              "2013-01-05                      1621.0      4128.0               4256.0   \n",
              "\n",
              "            schwachhauser_ring  wachmannstraße_auswarts_sud  \\\n",
              "date                                                          \n",
              "2013-01-01                 391                        514.0   \n",
              "2013-01-02                 829                       1786.0   \n",
              "2013-01-03                1196                       2412.0   \n",
              "2013-01-04                1418                        964.0   \n",
              "2013-01-05                3075                       2065.0   \n",
              "\n",
              "            wachmannstraße_einwarts_nord  ...  holiday_2_weihnachtsfeiertag  \\\n",
              "date                                      ...                                 \n",
              "2013-01-01                         267.0  ...                           0.0   \n",
              "2013-01-02                        1456.0  ...                           0.0   \n",
              "2013-01-03                        2035.0  ...                           0.0   \n",
              "2013-01-04                         702.0  ...                           0.0   \n",
              "2013-01-05                        1377.0  ...                           0.0   \n",
              "\n",
              "            holiday_christi_himmelfahrt  holiday_karfreitag  holiday_neujahr  \\\n",
              "date                                                                           \n",
              "2013-01-01                          0.0                 0.0              1.0   \n",
              "2013-01-02                          0.0                 0.0              0.0   \n",
              "2013-01-03                          0.0                 0.0              0.0   \n",
              "2013-01-04                          0.0                 0.0              0.0   \n",
              "2013-01-05                          0.0                 0.0              0.0   \n",
              "\n",
              "            holiday_ostermontag  holiday_pfingstmontag  \\\n",
              "date                                                     \n",
              "2013-01-01                  0.0                    0.0   \n",
              "2013-01-02                  0.0                    0.0   \n",
              "2013-01-03                  0.0                    0.0   \n",
              "2013-01-04                  0.0                    0.0   \n",
              "2013-01-05                  0.0                    0.0   \n",
              "\n",
              "            holiday_reformationstag  holiday_tag_der_arbeit  \\\n",
              "date                                                          \n",
              "2013-01-01                      0.0                     0.0   \n",
              "2013-01-02                      0.0                     0.0   \n",
              "2013-01-03                      0.0                     0.0   \n",
              "2013-01-04                      0.0                     0.0   \n",
              "2013-01-05                      0.0                     0.0   \n",
              "\n",
              "            holiday_tag_der_deutschen_einheit  transformed_vacation  \n",
              "date                                                                 \n",
              "2013-01-01                                0.0                     1  \n",
              "2013-01-02                                0.0                     1  \n",
              "2013-01-03                                0.0                     1  \n",
              "2013-01-04                                0.0                     1  \n",
              "2013-01-05                                0.0                     1  \n",
              "\n",
              "[5 rows x 62 columns]"
            ],
            "text/html": [
              "\n",
              "  <div id=\"df-2ebf83e0-3925-4532-b5cd-fe4cf28708a6\" class=\"colab-df-container\">\n",
              "    <div>\n",
              "<style scoped>\n",
              "    .dataframe tbody tr th:only-of-type {\n",
              "        vertical-align: middle;\n",
              "    }\n",
              "\n",
              "    .dataframe tbody tr th {\n",
              "        vertical-align: top;\n",
              "    }\n",
              "\n",
              "    .dataframe thead th {\n",
              "        text-align: right;\n",
              "    }\n",
              "</style>\n",
              "<table border=\"1\" class=\"dataframe\">\n",
              "  <thead>\n",
              "    <tr style=\"text-align: right;\">\n",
              "      <th></th>\n",
              "      <th>graf_moltke_straße_ostseite</th>\n",
              "      <th>graf_moltke_straße_westseite</th>\n",
              "      <th>hastedter_bruckenstraße</th>\n",
              "      <th>langemarckstraße_ostseite</th>\n",
              "      <th>langemarckstraße_westseite</th>\n",
              "      <th>osterdeich</th>\n",
              "      <th>radweg_kleine_weser</th>\n",
              "      <th>schwachhauser_ring</th>\n",
              "      <th>wachmannstraße_auswarts_sud</th>\n",
              "      <th>wachmannstraße_einwarts_nord</th>\n",
              "      <th>...</th>\n",
              "      <th>holiday_2_weihnachtsfeiertag</th>\n",
              "      <th>holiday_christi_himmelfahrt</th>\n",
              "      <th>holiday_karfreitag</th>\n",
              "      <th>holiday_neujahr</th>\n",
              "      <th>holiday_ostermontag</th>\n",
              "      <th>holiday_pfingstmontag</th>\n",
              "      <th>holiday_reformationstag</th>\n",
              "      <th>holiday_tag_der_arbeit</th>\n",
              "      <th>holiday_tag_der_deutschen_einheit</th>\n",
              "      <th>transformed_vacation</th>\n",
              "    </tr>\n",
              "    <tr>\n",
              "      <th>date</th>\n",
              "      <th></th>\n",
              "      <th></th>\n",
              "      <th></th>\n",
              "      <th></th>\n",
              "      <th></th>\n",
              "      <th></th>\n",
              "      <th></th>\n",
              "      <th></th>\n",
              "      <th></th>\n",
              "      <th></th>\n",
              "      <th></th>\n",
              "      <th></th>\n",
              "      <th></th>\n",
              "      <th></th>\n",
              "      <th></th>\n",
              "      <th></th>\n",
              "      <th></th>\n",
              "      <th></th>\n",
              "      <th></th>\n",
              "      <th></th>\n",
              "      <th></th>\n",
              "    </tr>\n",
              "  </thead>\n",
              "  <tbody>\n",
              "    <tr>\n",
              "      <th>2013-01-01</th>\n",
              "      <td>261.0</td>\n",
              "      <td>290.0</td>\n",
              "      <td>381.0</td>\n",
              "      <td>312.0</td>\n",
              "      <td>308.0</td>\n",
              "      <td>870.0</td>\n",
              "      <td>410.0</td>\n",
              "      <td>391</td>\n",
              "      <td>514.0</td>\n",
              "      <td>267.0</td>\n",
              "      <td>...</td>\n",
              "      <td>0.0</td>\n",
              "      <td>0.0</td>\n",
              "      <td>0.0</td>\n",
              "      <td>1.0</td>\n",
              "      <td>0.0</td>\n",
              "      <td>0.0</td>\n",
              "      <td>0.0</td>\n",
              "      <td>0.0</td>\n",
              "      <td>0.0</td>\n",
              "      <td>1</td>\n",
              "    </tr>\n",
              "    <tr>\n",
              "      <th>2013-01-02</th>\n",
              "      <td>750.0</td>\n",
              "      <td>876.0</td>\n",
              "      <td>1109.0</td>\n",
              "      <td>1258.0</td>\n",
              "      <td>1120.0</td>\n",
              "      <td>2169.0</td>\n",
              "      <td>1762.0</td>\n",
              "      <td>829</td>\n",
              "      <td>1786.0</td>\n",
              "      <td>1456.0</td>\n",
              "      <td>...</td>\n",
              "      <td>0.0</td>\n",
              "      <td>0.0</td>\n",
              "      <td>0.0</td>\n",
              "      <td>0.0</td>\n",
              "      <td>0.0</td>\n",
              "      <td>0.0</td>\n",
              "      <td>0.0</td>\n",
              "      <td>0.0</td>\n",
              "      <td>0.0</td>\n",
              "      <td>1</td>\n",
              "    </tr>\n",
              "    <tr>\n",
              "      <th>2013-01-03</th>\n",
              "      <td>931.0</td>\n",
              "      <td>1015.0</td>\n",
              "      <td>1603.0</td>\n",
              "      <td>1556.0</td>\n",
              "      <td>1480.0</td>\n",
              "      <td>2295.0</td>\n",
              "      <td>2287.0</td>\n",
              "      <td>1196</td>\n",
              "      <td>2412.0</td>\n",
              "      <td>2035.0</td>\n",
              "      <td>...</td>\n",
              "      <td>0.0</td>\n",
              "      <td>0.0</td>\n",
              "      <td>0.0</td>\n",
              "      <td>0.0</td>\n",
              "      <td>0.0</td>\n",
              "      <td>0.0</td>\n",
              "      <td>0.0</td>\n",
              "      <td>0.0</td>\n",
              "      <td>0.0</td>\n",
              "      <td>1</td>\n",
              "    </tr>\n",
              "    <tr>\n",
              "      <th>2013-01-04</th>\n",
              "      <td>500.0</td>\n",
              "      <td>587.0</td>\n",
              "      <td>1284.0</td>\n",
              "      <td>703.0</td>\n",
              "      <td>626.0</td>\n",
              "      <td>1640.0</td>\n",
              "      <td>1548.0</td>\n",
              "      <td>1418</td>\n",
              "      <td>964.0</td>\n",
              "      <td>702.0</td>\n",
              "      <td>...</td>\n",
              "      <td>0.0</td>\n",
              "      <td>0.0</td>\n",
              "      <td>0.0</td>\n",
              "      <td>0.0</td>\n",
              "      <td>0.0</td>\n",
              "      <td>0.0</td>\n",
              "      <td>0.0</td>\n",
              "      <td>0.0</td>\n",
              "      <td>0.0</td>\n",
              "      <td>1</td>\n",
              "    </tr>\n",
              "    <tr>\n",
              "      <th>2013-01-05</th>\n",
              "      <td>1013.0</td>\n",
              "      <td>1011.0</td>\n",
              "      <td>0.0</td>\n",
              "      <td>1856.0</td>\n",
              "      <td>1621.0</td>\n",
              "      <td>4128.0</td>\n",
              "      <td>4256.0</td>\n",
              "      <td>3075</td>\n",
              "      <td>2065.0</td>\n",
              "      <td>1377.0</td>\n",
              "      <td>...</td>\n",
              "      <td>0.0</td>\n",
              "      <td>0.0</td>\n",
              "      <td>0.0</td>\n",
              "      <td>0.0</td>\n",
              "      <td>0.0</td>\n",
              "      <td>0.0</td>\n",
              "      <td>0.0</td>\n",
              "      <td>0.0</td>\n",
              "      <td>0.0</td>\n",
              "      <td>1</td>\n",
              "    </tr>\n",
              "  </tbody>\n",
              "</table>\n",
              "<p>5 rows × 62 columns</p>\n",
              "</div>\n",
              "    <div class=\"colab-df-buttons\">\n",
              "\n",
              "  <div class=\"colab-df-container\">\n",
              "    <button class=\"colab-df-convert\" onclick=\"convertToInteractive('df-2ebf83e0-3925-4532-b5cd-fe4cf28708a6')\"\n",
              "            title=\"Convert this dataframe to an interactive table.\"\n",
              "            style=\"display:none;\">\n",
              "\n",
              "  <svg xmlns=\"http://www.w3.org/2000/svg\" height=\"24px\" viewBox=\"0 -960 960 960\">\n",
              "    <path d=\"M120-120v-720h720v720H120Zm60-500h600v-160H180v160Zm220 220h160v-160H400v160Zm0 220h160v-160H400v160ZM180-400h160v-160H180v160Zm440 0h160v-160H620v160ZM180-180h160v-160H180v160Zm440 0h160v-160H620v160Z\"/>\n",
              "  </svg>\n",
              "    </button>\n",
              "\n",
              "  <style>\n",
              "    .colab-df-container {\n",
              "      display:flex;\n",
              "      gap: 12px;\n",
              "    }\n",
              "\n",
              "    .colab-df-convert {\n",
              "      background-color: #E8F0FE;\n",
              "      border: none;\n",
              "      border-radius: 50%;\n",
              "      cursor: pointer;\n",
              "      display: none;\n",
              "      fill: #1967D2;\n",
              "      height: 32px;\n",
              "      padding: 0 0 0 0;\n",
              "      width: 32px;\n",
              "    }\n",
              "\n",
              "    .colab-df-convert:hover {\n",
              "      background-color: #E2EBFA;\n",
              "      box-shadow: 0px 1px 2px rgba(60, 64, 67, 0.3), 0px 1px 3px 1px rgba(60, 64, 67, 0.15);\n",
              "      fill: #174EA6;\n",
              "    }\n",
              "\n",
              "    .colab-df-buttons div {\n",
              "      margin-bottom: 4px;\n",
              "    }\n",
              "\n",
              "    [theme=dark] .colab-df-convert {\n",
              "      background-color: #3B4455;\n",
              "      fill: #D2E3FC;\n",
              "    }\n",
              "\n",
              "    [theme=dark] .colab-df-convert:hover {\n",
              "      background-color: #434B5C;\n",
              "      box-shadow: 0px 1px 3px 1px rgba(0, 0, 0, 0.15);\n",
              "      filter: drop-shadow(0px 1px 2px rgba(0, 0, 0, 0.3));\n",
              "      fill: #FFFFFF;\n",
              "    }\n",
              "  </style>\n",
              "\n",
              "    <script>\n",
              "      const buttonEl =\n",
              "        document.querySelector('#df-2ebf83e0-3925-4532-b5cd-fe4cf28708a6 button.colab-df-convert');\n",
              "      buttonEl.style.display =\n",
              "        google.colab.kernel.accessAllowed ? 'block' : 'none';\n",
              "\n",
              "      async function convertToInteractive(key) {\n",
              "        const element = document.querySelector('#df-2ebf83e0-3925-4532-b5cd-fe4cf28708a6');\n",
              "        const dataTable =\n",
              "          await google.colab.kernel.invokeFunction('convertToInteractive',\n",
              "                                                    [key], {});\n",
              "        if (!dataTable) return;\n",
              "\n",
              "        const docLinkHtml = 'Like what you see? Visit the ' +\n",
              "          '<a target=\"_blank\" href=https://colab.research.google.com/notebooks/data_table.ipynb>data table notebook</a>'\n",
              "          + ' to learn more about interactive tables.';\n",
              "        element.innerHTML = '';\n",
              "        dataTable['output_type'] = 'display_data';\n",
              "        await google.colab.output.renderOutput(dataTable, element);\n",
              "        const docLink = document.createElement('div');\n",
              "        docLink.innerHTML = docLinkHtml;\n",
              "        element.appendChild(docLink);\n",
              "      }\n",
              "    </script>\n",
              "  </div>\n",
              "\n",
              "\n",
              "<div id=\"df-86fe5832-a3b0-438f-9e45-f944d91ebc2a\">\n",
              "  <button class=\"colab-df-quickchart\" onclick=\"quickchart('df-86fe5832-a3b0-438f-9e45-f944d91ebc2a')\"\n",
              "            title=\"Suggest charts.\"\n",
              "            style=\"display:none;\">\n",
              "\n",
              "<svg xmlns=\"http://www.w3.org/2000/svg\" height=\"24px\"viewBox=\"0 0 24 24\"\n",
              "     width=\"24px\">\n",
              "    <g>\n",
              "        <path d=\"M19 3H5c-1.1 0-2 .9-2 2v14c0 1.1.9 2 2 2h14c1.1 0 2-.9 2-2V5c0-1.1-.9-2-2-2zM9 17H7v-7h2v7zm4 0h-2V7h2v10zm4 0h-2v-4h2v4z\"/>\n",
              "    </g>\n",
              "</svg>\n",
              "  </button>\n",
              "\n",
              "<style>\n",
              "  .colab-df-quickchart {\n",
              "    background-color: #E8F0FE;\n",
              "    border: none;\n",
              "    border-radius: 50%;\n",
              "    cursor: pointer;\n",
              "    display: none;\n",
              "    fill: #1967D2;\n",
              "    height: 32px;\n",
              "    padding: 0 0 0 0;\n",
              "    width: 32px;\n",
              "  }\n",
              "\n",
              "  .colab-df-quickchart:hover {\n",
              "    background-color: #E2EBFA;\n",
              "    box-shadow: 0px 1px 2px rgba(60, 64, 67, 0.3), 0px 1px 3px 1px rgba(60, 64, 67, 0.15);\n",
              "    fill: #174EA6;\n",
              "  }\n",
              "\n",
              "  [theme=dark] .colab-df-quickchart {\n",
              "    background-color: #3B4455;\n",
              "    fill: #D2E3FC;\n",
              "  }\n",
              "\n",
              "  [theme=dark] .colab-df-quickchart:hover {\n",
              "    background-color: #434B5C;\n",
              "    box-shadow: 0px 1px 3px 1px rgba(0, 0, 0, 0.15);\n",
              "    filter: drop-shadow(0px 1px 2px rgba(0, 0, 0, 0.3));\n",
              "    fill: #FFFFFF;\n",
              "  }\n",
              "</style>\n",
              "\n",
              "  <script>\n",
              "    async function quickchart(key) {\n",
              "      const charts = await google.colab.kernel.invokeFunction(\n",
              "          'suggestCharts', [key], {});\n",
              "    }\n",
              "    (() => {\n",
              "      let quickchartButtonEl =\n",
              "        document.querySelector('#df-86fe5832-a3b0-438f-9e45-f944d91ebc2a button');\n",
              "      quickchartButtonEl.style.display =\n",
              "        google.colab.kernel.accessAllowed ? 'block' : 'none';\n",
              "    })();\n",
              "  </script>\n",
              "</div>\n",
              "    </div>\n",
              "  </div>\n"
            ]
          },
          "metadata": {},
          "execution_count": 15
        }
      ],
      "source": [
        "# Import dataset\n",
        "\n",
        "# We will also parse the date column as datetime64 and set it to the index column\n",
        "df = pd.read_csv(url + \"03_training_data/\" + \"2023-08-24_processed_df.csv\",\n",
        "                         parse_dates=[0], index_col=[0])\n",
        "\n",
        "# Check the correct loading of dataset\n",
        "df.head()"
      ]
    },
    {
      "cell_type": "markdown",
      "metadata": {
        "id": "jv96sN3croOJ"
      },
      "source": [
        "<a name=\"3.\"></a>\n",
        "# 3.&nbsp;Select a target station\n",
        "[Content](#content)\n"
      ],
      "id": "jv96sN3croOJ"
    },
    {
      "cell_type": "markdown",
      "source": [
        "There are many stations that we could train our model on. Also we could add up all stations to a column `total` and try to predict the overall number in the city per day. However this approach would average many values which would lead on side to less noisy data as single outliers would be less impactful. On the other side it would also average over indivdual patterns.\n",
        "\n",
        "For this reason, we choose a single station to train our model on. For real-life purposes better results could be expected with one model per station.\n",
        "\n",
        "For the further process, we will work with the station: `wilhelm_kaisen_brucke_ost`\n"
      ],
      "metadata": {
        "id": "OG06qWVLrl_R"
      },
      "id": "OG06qWVLrl_R"
    },
    {
      "cell_type": "code",
      "source": [
        "target = \"imputed_wilhelm_kaisen_brucke_ost\""
      ],
      "metadata": {
        "id": "cdukN1mWtqr5"
      },
      "id": "cdukN1mWtqr5",
      "execution_count": 16,
      "outputs": []
    },
    {
      "cell_type": "markdown",
      "id": "gBM3I6LFOHL9",
      "metadata": {
        "id": "gBM3I6LFOHL9"
      },
      "source": [
        "<a name=\"4.\"></a>\n",
        "# 4.&nbsp;Establish baseline benchmark\n",
        "[Content](#content)\n"
      ]
    },
    {
      "cell_type": "markdown",
      "id": "VgkVXhdAx6zB",
      "metadata": {
        "id": "VgkVXhdAx6zB"
      },
      "source": [
        "For our current task of creating model a to predict the amount of cyclers for a given day, we do not have any baseline metric score to measure our model against.\n",
        "For this reason, we will create a naive baseline model. For this, we will simply predict the amount of a day based on the value of previous day."
      ]
    },
    {
      "cell_type": "code",
      "execution_count": 17,
      "id": "6mu5aaMpO42j",
      "metadata": {
        "colab": {
          "base_uri": "https://localhost:8080/"
        },
        "id": "6mu5aaMpO42j",
        "outputId": "af943052-2ad3-4ecb-b88a-9aa5fe94c854"
      },
      "outputs": [
        {
          "output_type": "stream",
          "name": "stdout",
          "text": [
            "RMSE: 1791.993974\n"
          ]
        }
      ],
      "source": [
        "# Evaluate the model's performance using RMSE\n",
        "\n",
        "# Select the `wilhelm_kaisen_brucke_ost` column as our target and preds arrays\n",
        "y = y_hat = df.loc[:,target]\n",
        "\n",
        "rmse = 0\n",
        "length = y.shape[0]\n",
        "\n",
        "# Loop from 0 to second last entry, as we can only use seconds last entry to\n",
        "# predict the last entry of series\n",
        "for i in range(length-1):\n",
        "    # The mean_sqared_error function expects an array as input, therfore we\n",
        "    # concatenate the range from current value to current value + 1 (excluding)\n",
        "    rmse += np.sqrt(mean_squared_error(y[i+1:i+2], y_hat[i:i+1]))\n",
        "\n",
        "# Divide rmse value by number of pairs\n",
        "rmse = rmse / (length-1)\n",
        "print(\"RMSE: %f\" % (rmse))"
      ]
    },
    {
      "cell_type": "markdown",
      "id": "f6O5OFAwW9Pm",
      "metadata": {
        "id": "f6O5OFAwW9Pm"
      },
      "source": [
        "If we were naivly predicting the current value with the last value, we get an error over the entire dataset of approximately $1,792$.\n",
        "\n",
        "This is our naive benchmark to compare our model against."
      ]
    },
    {
      "cell_type": "markdown",
      "id": "YHm0GDHUmczY",
      "metadata": {
        "id": "YHm0GDHUmczY"
      },
      "source": [
        "Another method would be to predict the value of a given day by the average of all the other equal days in the dataset (e.g., to predict 18.08.2017, we take the average of all other 18.08. days in the dataset)."
      ]
    },
    {
      "cell_type": "code",
      "execution_count": 18,
      "id": "kOSNaRxAdoCA",
      "metadata": {
        "colab": {
          "base_uri": "https://localhost:8080/"
        },
        "id": "kOSNaRxAdoCA",
        "outputId": "531615c1-d584-41bf-f322-50ee615329fb"
      },
      "outputs": [
        {
          "output_type": "stream",
          "name": "stdout",
          "text": [
            "RMSE: 2033.3351259991568\n"
          ]
        }
      ],
      "source": [
        "# Initialize squared error\n",
        "se = 0\n",
        "\n",
        "# Get the total number of examples\n",
        "m = df.shape[0]\n",
        "\n",
        "for i in df.index:\n",
        "    day = i.day\n",
        "    month = i.month\n",
        "    year = i.year\n",
        "\n",
        "    # create a mask for given day but exclude the day we want to predict\n",
        "    mask = (df.index.day == day) & (df.index.month == month) & (df.index.year != year)\n",
        "\n",
        "    # Get value for current day and mean values of all the other same days in the dataset\n",
        "    y = df.loc[i, target]\n",
        "    y_hat = df.loc[mask, target].mean()\n",
        "\n",
        "    # Calculate the squared error\n",
        "    se += (y - y_hat)**2\n",
        "\n",
        "# Calculate mean squared error\n",
        "mse = se / m\n",
        "\n",
        "# Calcualte root mean squared error\n",
        "rmse = np.sqrt(mse)\n",
        "\n",
        "print(f\"RMSE: {rmse}\")"
      ]
    },
    {
      "cell_type": "markdown",
      "id": "SQ-iEzyHoc8M",
      "metadata": {
        "id": "SQ-iEzyHoc8M"
      },
      "source": [
        "With this second approach, of average all our previous values for the given day and using this as our forecast, we get an error over the entire dataset of approximately $2,033$.\n",
        "\n",
        "The error of this second naive approach is close to the first approach.\n",
        "Both approaches could be seen as human-level as this would be a typical approach of a human, to predict the value of any given day. A domain expert, who also looks at more data and e.g., compares also the temperatures, could come up with better estimates. However humans are typically not very good in accurately predicting complex time-series data. The expected Bayes error (least possible error) should therefore be much lower."
      ]
    },
    {
      "cell_type": "markdown",
      "id": "5HqwjOgkxauH",
      "metadata": {
        "id": "5HqwjOgkxauH"
      },
      "source": [
        "<a name=\"5\"></a>\n",
        "# 5.&nbsp;Training machine learning algorithms\n",
        "[Content](#content)\n",
        "\n",
        "We are going to train 1 shallow machine learning algorithm and 2 deep machine learning algorithms to be able to compare performances. Those are:\n",
        "\n",
        "* XGBoost\n",
        "* Multilayer Perceptron (MLP -- standard NN)\n",
        "* Recurrent Neural Network (RNN)"
      ]
    },
    {
      "cell_type": "markdown",
      "id": "9b154c25",
      "metadata": {
        "id": "9b154c25"
      },
      "source": [
        "<a name=\"5.1.\"></a>\n",
        "## 5.1. Adding sequential data to our model\n",
        "\n",
        "[Content](#content)\n",
        "\n",
        "In contrast to RNNs where the algorithm takes automically the datapoints of previous timesteps into account, XGBoost and MLPs do not have direct access to the sequential data of previous time steps.\n",
        "Those algorithms have only indirect knowledge via the learned model parameters. RNNs however directly include the previous timestep for learning the parameters of the current timestep.\n",
        "\n",
        "We will add the data points of the previous time steps as features to the feature vector.\n",
        "\n",
        "In this case, we will only add the last 3 values, as the observed improvement of accuracy (RMSE score) is drastically decressing with each further time step added after 3 steps.\n",
        "\n",
        "Improvements:\n",
        "* 1 day 6291 2,8%\n",
        "* 2 day 6157 2,1%\n",
        "* 3 day 6120 0,6%"
      ]
    },
    {
      "cell_type": "markdown",
      "id": "842f23eb",
      "metadata": {
        "id": "842f23eb"
      },
      "source": [
        "The following code creates a dataframe with a variable amount of time:"
      ]
    },
    {
      "cell_type": "code",
      "execution_count": 19,
      "id": "a03f3499",
      "metadata": {
        "id": "a03f3499",
        "outputId": "6ef6f639-4a40-4f2b-bf3d-c2dbc378ebd0",
        "colab": {
          "base_uri": "https://localhost:8080/",
          "height": 70
        }
      },
      "outputs": [
        {
          "output_type": "execute_result",
          "data": {
            "text/plain": [
              "'\\n# Create empty new dataframe\\ndf_lagged_days = pd.DataFrame({})\\n\\n# Select the number of lagged days\\ngo_back_x_days = 3\\n\\nfor i in range(go_back_x_days):\\n    # Shift the values in \"Total\" by i and assign to new column prev_Total_i+1\\n    df_lagged_days[f\\'prev_total_{i+1}\\'] = df_transformed_date[\\'total\\'].shift(i+1)\\n'"
            ],
            "application/vnd.google.colaboratory.intrinsic+json": {
              "type": "string"
            }
          },
          "metadata": {},
          "execution_count": 19
        }
      ],
      "source": [
        "\"\"\"\n",
        "# Create empty new dataframe\n",
        "df_lagged_days = pd.DataFrame({})\n",
        "\n",
        "# Select the number of lagged days\n",
        "go_back_x_days = 3\n",
        "\n",
        "for i in range(go_back_x_days):\n",
        "    # Shift the values in \"Total\" by i and assign to new column prev_Total_i+1\n",
        "    df_lagged_days[f'prev_total_{i+1}'] = df_transformed_date['total'].shift(i+1)\n",
        "\"\"\""
      ]
    },
    {
      "cell_type": "markdown",
      "id": "mO2Xt87cykEf",
      "metadata": {
        "id": "mO2Xt87cykEf"
      },
      "source": [
        "<a name=\"5.2.\"></a>\n",
        "## 5.2. XGBoost\n",
        "[Content](#content)"
      ]
    },
    {
      "cell_type": "markdown",
      "id": "ZgSdeq3fOxaQ",
      "metadata": {
        "id": "ZgSdeq3fOxaQ"
      },
      "source": [
        "For XGBoost, we will add the dataframe `df_lagged_days` to our dataset. Because we do not have all the information about the previous days for the first `go_back_x_days`, we drop the rows with `na` values. The parameter on how far to go back in time, has therefore an impact on the length of our dataset."
      ]
    },
    {
      "cell_type": "code",
      "execution_count": 20,
      "metadata": {
        "outputId": "e2f7424b-116f-40eb-be3e-2bc1a4cec51d",
        "colab": {
          "base_uri": "https://localhost:8080/",
          "height": 87
        },
        "id": "p8e0WfWKj6Gn"
      },
      "outputs": [
        {
          "output_type": "execute_result",
          "data": {
            "text/plain": [
              "'\\n# Concat new dataframe with old dataframe\\n# Using bfill strategy on dataset since the first few days will have NaN values\\n# Using pyjanitor to clean up names\\ndf_transformed_date_lagged = (pd.concat([df_transformed_date, df_lagged_days], axis=1)\\n                              .dropna(axis=0)\\n                              .clean_names(strip_underscores=\"both\"))\\n\\n# Check output\\ndf_transformed_date_lagged\\n'"
            ],
            "application/vnd.google.colaboratory.intrinsic+json": {
              "type": "string"
            }
          },
          "metadata": {},
          "execution_count": 20
        }
      ],
      "source": [
        "\"\"\"\n",
        "# Concat new dataframe with old dataframe\n",
        "# Using bfill strategy on dataset since the first few days will have NaN values\n",
        "# Using pyjanitor to clean up names\n",
        "df_transformed_date_lagged = (pd.concat([df_transformed_date, df_lagged_days], axis=1)\n",
        "                              .dropna(axis=0)\n",
        "                              .clean_names(strip_underscores=\"both\"))\n",
        "\n",
        "# Check output\n",
        "df_transformed_date_lagged\n",
        "\"\"\""
      ],
      "id": "p8e0WfWKj6Gn"
    },
    {
      "cell_type": "markdown",
      "source": [
        "<a name=\"5.2.1\"></a>\n",
        "### 5.2.1 Split data into train and dev set and standardize training data\n",
        "[Content](#content)\n",
        "\n",
        "Now, we will split the data into a training set and into a dev set. Also here we select the final futures, which we want to use to train our model.\n",
        "\n",
        "Highly correlated features `tavg`, `tmin`, `wpgt` will be removed and features with no correlation to our target value will be also removed (`wdir`).\n",
        "\n",
        "When splitting into train and dev set, we will not shuffle the data. This ensures that the validation results are more realistic since they are being evaluated on the data collected after the model was trained. Otherwise we would introduce a \"leakage error\" into our data."
      ],
      "metadata": {
        "id": "XH_6MbWERL_5"
      },
      "id": "XH_6MbWERL_5"
    },
    {
      "cell_type": "code",
      "source": [
        "features_date = [\n",
        "    'year',\n",
        "    'month',\n",
        "    'day',\n",
        "    'weekday',\n",
        "]\n",
        "\n",
        "features_sin_cos_transformation = [\n",
        "    'week_sin', 'week_cos',\n",
        "    'month_sin', 'month_cos',\n",
        "    'year_sin', 'year_cos',\n",
        "]\n",
        "\n",
        "features_weather = [\n",
        "    'tmax',\n",
        "    'prcp',\n",
        "    'imputed_snow',\n",
        "    'wspd',\n",
        "    'pres',\n",
        "    'tsun',\n",
        "    ]\n",
        "\n",
        "features_holidays_vacation = [\n",
        "    'holiday_1_weihnachtsfeiertag', 'holiday_2_weihnachtsfeiertag',\n",
        "    'holiday_christi_himmelfahrt', 'holiday_karfreitag', 'holiday_neujahr',\n",
        "    'holiday_ostermontag', 'holiday_pfingstmontag',\n",
        "    'holiday_reformationstag', 'holiday_tag_der_arbeit',\n",
        "    'holiday_tag_der_deutschen_einheit', 'transformed_vacation'\n",
        "    ]\n",
        "\n",
        "# Target is 'imputed_wilhelm_kaisen_brucke_ost'\n",
        "target = target\n",
        "\n",
        "# Higly correlated features have been removed (tavg, tmin, imputed_wpgt)\n",
        "# Features with no correlation have been removed (imputed_wdir, wdir_sin, wdir_cos)\n",
        "# Only all single couting stations are being removed"
      ],
      "metadata": {
        "id": "vZyJeABHuthG"
      },
      "id": "vZyJeABHuthG",
      "execution_count": 21,
      "outputs": []
    },
    {
      "cell_type": "code",
      "source": [
        "features = features_sin_cos_transformation + features_weather + features_holidays_vacation\n",
        "features"
      ],
      "metadata": {
        "id": "BiakefxsxJ7e",
        "outputId": "6d4ab8fb-aad0-42ce-a9d9-3427dc60183d",
        "colab": {
          "base_uri": "https://localhost:8080/"
        }
      },
      "id": "BiakefxsxJ7e",
      "execution_count": 22,
      "outputs": [
        {
          "output_type": "execute_result",
          "data": {
            "text/plain": [
              "['week_sin',\n",
              " 'week_cos',\n",
              " 'month_sin',\n",
              " 'month_cos',\n",
              " 'year_sin',\n",
              " 'year_cos',\n",
              " 'tmax',\n",
              " 'prcp',\n",
              " 'imputed_snow',\n",
              " 'wspd',\n",
              " 'pres',\n",
              " 'tsun',\n",
              " 'holiday_1_weihnachtsfeiertag',\n",
              " 'holiday_2_weihnachtsfeiertag',\n",
              " 'holiday_christi_himmelfahrt',\n",
              " 'holiday_karfreitag',\n",
              " 'holiday_neujahr',\n",
              " 'holiday_ostermontag',\n",
              " 'holiday_pfingstmontag',\n",
              " 'holiday_reformationstag',\n",
              " 'holiday_tag_der_arbeit',\n",
              " 'holiday_tag_der_deutschen_einheit',\n",
              " 'transformed_vacation']"
            ]
          },
          "metadata": {},
          "execution_count": 22
        }
      ]
    },
    {
      "cell_type": "code",
      "execution_count": 23,
      "id": "nxeQ39ojh2Y-",
      "metadata": {
        "colab": {
          "base_uri": "https://localhost:8080/"
        },
        "id": "nxeQ39ojh2Y-",
        "outputId": "0ad8629e-3aae-4764-882d-4317de99e180"
      },
      "outputs": [
        {
          "output_type": "stream",
          "name": "stdout",
          "text": [
            "X_train:  (2921, 23) y_train:  (2921,)\n",
            "X_dev:  (731, 23) y_dev:  (731,)\n"
          ]
        }
      ],
      "source": [
        "# Split the data into training and dev sets\n",
        "# We set shuffle to False\n",
        "X_train, X_dev, y_train, y_dev = train_test_split(df[features], df[target],\n",
        "                                                    test_size=0.2, shuffle=False, random_state=0)\n",
        "\n",
        "print(\"X_train: \", X_train[features].shape, \"y_train: \", y_train.shape)\n",
        "print(\"X_dev: \", X_dev[features].shape, \"y_dev: \", y_dev.shape)"
      ]
    },
    {
      "cell_type": "markdown",
      "id": "a1GVZoPCdit-",
      "metadata": {
        "id": "a1GVZoPCdit-"
      },
      "source": [
        "Finally, we will standardize our dataset. Standarization will generally improve learning speed of the models and can help to improve the accuarcy of the model."
      ]
    },
    {
      "cell_type": "code",
      "execution_count": 24,
      "metadata": {
        "id": "ZwsuKeAWsUr8"
      },
      "outputs": [],
      "source": [
        "# Standardize and fit to the training set only\n",
        "scaler = StandardScaler()\n",
        "X_train_scaled = scaler.fit_transform(X_train)\n",
        "\n",
        "# Apply the same standardization to the dev set\n",
        "X_dev_scaled = scaler.transform(X_dev)\n",
        "\n",
        "#X_train_scaled = X_train\n",
        "#X_dev_scaled = X_dev"
      ],
      "id": "ZwsuKeAWsUr8"
    },
    {
      "cell_type": "markdown",
      "id": "amR72D-bg9Ea",
      "metadata": {
        "id": "amR72D-bg9Ea"
      },
      "source": [
        "<a name=\"5.2.2\"></a>\n",
        "### 5.2.2 Using GridSeachCV to select the optimal parameters\n",
        "[Content](#content)\n",
        "\n",
        "We will use `GridSearchCV` to select optimal parameters among the preselected ranges for the training data. Furthermore we will create our own scoring metric, to evaluate the performance of the parameters found with `GridSearchCV`.\n",
        "\n",
        "`GridSearchCV` is using `KFold` for regression problems as default. However `KFold` would split the training data in such a way, that later data will be evaluated against earlier data, introducing `leackage error`.\n",
        "Therefore we do not use the default, but create splits with `TimeSeriesSplit` and pass this to `GridSearchCV`."
      ]
    },
    {
      "cell_type": "code",
      "source": [
        "# Create custom function for evaluating GridSearchCV\n",
        "def custom_rmse(y, y_hat):\n",
        "    return np.sqrt(mean_squared_error(y, y_hat))\n",
        "\n",
        "# Create the scoring object using the custom scoring function\n",
        "custom_scorer_rmse = make_scorer(custom_rmse)"
      ],
      "metadata": {
        "id": "TB-c62B8Je2b"
      },
      "id": "TB-c62B8Je2b",
      "execution_count": 25,
      "outputs": []
    },
    {
      "cell_type": "code",
      "execution_count": null,
      "metadata": {
        "outputId": "248a44d8-1fc5-4bf2-d5f2-428c3e60df94",
        "colab": {
          "base_uri": "https://localhost:8080/"
        },
        "id": "dU0g5nDdCaX4"
      },
      "outputs": [
        {
          "output_type": "stream",
          "name": "stdout",
          "text": [
            "Fitting 4 folds for each of 162 candidates, totalling 648 fits\n"
          ]
        },
        {
          "output_type": "stream",
          "name": "stderr",
          "text": [
            "/usr/local/lib/python3.10/dist-packages/ipykernel/ipkernel.py:283: DeprecationWarning: `should_run_async` will not call `transform_cell` automatically in the future. Please pass the result to `transformed_cell` argument and any exception that happen during thetransform in `preprocessing_exc_tuple` in IPython 7.17 and above.\n",
            "  and should_run_async(code)\n"
          ]
        },
        {
          "output_type": "stream",
          "name": "stdout",
          "text": [
            "{'colsample_bytree': 0.8, 'learning_rate': 0.05, 'max_depth': 5, 'min_child_weight': 12, 'n_estimators': 1000, 'reg_alpha': 8.0, 'reg_lambda': 8.0}\n",
            "7136.89129076001\n",
            "XGBRegressor(base_score=None, booster=None, callbacks=None,\n",
            "             colsample_bylevel=None, colsample_bynode=None,\n",
            "             colsample_bytree=0.8, early_stopping_rounds=None,\n",
            "             enable_categorical=False, eval_metric=None, feature_types=None,\n",
            "             gamma=None, gpu_id=None, grow_policy=None, importance_type=None,\n",
            "             interaction_constraints=None, learning_rate=0.05, max_bin=None,\n",
            "             max_cat_threshold=None, max_cat_to_onehot=None,\n",
            "             max_delta_step=None, max_depth=5, max_leaves=None,\n",
            "             min_child_weight=12, missing=nan, monotone_constraints=None,\n",
            "             n_estimators=1000, n_jobs=None, num_parallel_tree=None,\n",
            "             predictor=None, random_state=0, ...)\n"
          ]
        }
      ],
      "source": [
        "params = {\n",
        "    'n_estimators': [1000],\n",
        "    'learning_rate': [0.05],\n",
        "    'max_depth': [5, 10, 20],           # max. depth of tree\n",
        "    'min_child_weight': [3, 6, 12],     # min. weight for splitting into new node\n",
        "    'colsample_bytree': [0.7, 0.8],     # subsample ratio of columns\n",
        "    'reg_alpha': [2.0, 4.0, 8.0],       # L1 regularization\n",
        "    'reg_lambda': [4.0, 8.0, 16.0],    # L2 regularization\n",
        "}\n",
        "\n",
        "# Getting time series splits using TimeSeriesSplit\n",
        "n = 4\n",
        "tscv = TimeSeriesSplit(n_splits=n)\n",
        "splits = []\n",
        "\n",
        "for i, (train_index, test_index) in enumerate(tscv.split(X_train)):\n",
        "    splits.append((train_index, test_index))\n",
        "\n",
        "# Define the estimator\n",
        "xg_reg = xgb.XGBRegressor(objective='reg:squarederror', random_state=0)\n",
        "\n",
        "# Define GridSearch and fit GridSearch on the training data with the custom scorer and custom splits\n",
        "grid_search = GridSearchCV(xg_reg, param_grid=params, cv=splits, scoring=custom_scorer_rmse, n_jobs=-1, verbose=2)\n",
        "grid_search.fit(X_train_scaled, y_train)\n",
        "\n",
        "# Print the best parameters and score as well as the best model to that score\n",
        "print(grid_search.best_params_)\n",
        "print(grid_search.best_score_)\n",
        "\n",
        "best_model = grid_search.best_estimator_\n",
        "print(best_model)"
      ],
      "id": "dU0g5nDdCaX4"
    },
    {
      "cell_type": "markdown",
      "source": [
        "{'colsample_bytree': 0.8, 'learning_rate': 0.05, 'max_depth': 10, 'min_child_weight': 7, 'n_estimators': 1000, 'reg_alpha': 1.0, 'reg_lambda': 2.0, 'subsample': 1.0}\n"
      ],
      "metadata": {
        "id": "b8nRHJ0YVnGd"
      },
      "id": "b8nRHJ0YVnGd"
    },
    {
      "cell_type": "markdown",
      "source": [
        "{'colsample_bytree': 0.8, 'learning_rate': 0.1, 'max_depth': 13, 'min_child_weight': 5, 'n_estimators': 1000, 'reg_alpha': 7.0, 'reg_lambda': 4.0, 'subsample': 1.0}\n"
      ],
      "metadata": {
        "id": "XLWBhuPRf01z"
      },
      "id": "XLWBhuPRf01z"
    },
    {
      "cell_type": "markdown",
      "source": [
        "{'colsample_bytree': 0.8, 'learning_rate': 0.05, 'max_depth': 5, 'min_child_weight': 12, 'n_estimators': 1000, 'reg_alpha': 8.0, 'reg_lambda': 8.0}\n"
      ],
      "metadata": {
        "id": "PTRgEhqMF0p9"
      },
      "id": "PTRgEhqMF0p9"
    },
    {
      "cell_type": "code",
      "execution_count": 29,
      "id": "u9DKLFqkmIRm",
      "metadata": {
        "colab": {
          "base_uri": "https://localhost:8080/"
        },
        "id": "u9DKLFqkmIRm",
        "outputId": "94b6bf3e-feb7-442f-d6d0-c32782485246"
      },
      "outputs": [
        {
          "output_type": "stream",
          "name": "stdout",
          "text": [
            "Train RMSE: 820.721704\n",
            "Dev RMSE: 1473.750005\n"
          ]
        }
      ],
      "source": [
        "# Build the XGBoost regressor model with selected hyper parameters\n",
        "xg_reg = xgb.XGBRegressor(objective ='reg:squarederror',  reg_alpha = 10.0, reg_lambda = 1.0, learning_rate = 0.1)\n",
        "\n",
        "\"\"\", colsample_bytree = 0.5, learning_rate = 0.05,\n",
        "                          max_depth = 8, n_estimators = 1000, reg_alpha = 10.0, reg_lambda = 40.0,\n",
        "                          subsample = 0.8, min_child_weight=5\"\"\"\n",
        "\n",
        "xg_reg.fit(X_train_scaled, y_train)\n",
        "\n",
        "# Predict on the train set\n",
        "y_train_hat = xg_reg.predict(X_train_scaled)\n",
        "\n",
        "# Predict on the dev set\n",
        "y_dev_hat = xg_reg.predict(X_dev_scaled)\n",
        "\n",
        "# Evaluate the model's performance using RMSE\n",
        "# Training set\n",
        "rmse_train = custom_rmse(y_train, y_train_hat)\n",
        "print(\"Train RMSE: %f\" % (rmse_train))\n",
        "\n",
        "# Dev set\n",
        "rmse_dev = custom_rmse(y_dev, y_dev_hat)\n",
        "print(\"Dev RMSE: %f\" % (rmse_dev))"
      ]
    },
    {
      "cell_type": "markdown",
      "source": [
        "sin and cos\n",
        "Train RMSE: 1019.252085\n",
        "Dev RMSE: 1709.549721\n",
        "\n",
        "date\n",
        "Train RMSE: 1184.215359\n",
        "Dev RMSE: 1761.530727"
      ],
      "metadata": {
        "id": "RH9n4j1XTNFh"
      },
      "id": "RH9n4j1XTNFh"
    },
    {
      "cell_type": "markdown",
      "source": [
        "To get an understanding of our model and also to check for plausibility (e.g., did the model pick up correct patterns) we plot the feature importance with the `shap` library."
      ],
      "metadata": {
        "id": "3DncApmZuA7q"
      },
      "id": "3DncApmZuA7q"
    },
    {
      "cell_type": "code",
      "source": [
        "def plot_shap(model, features, explainer_method, df=None):\n",
        "    # DF, based on which importance is checked\n",
        "    X_importance = X_train_scaled\n",
        "\n",
        "    # Explain model predictions using shap library:\n",
        "    explainer = explainer_method(model, df)\n",
        "    shap_values = explainer.shap_values(X_importance)\n",
        "\n",
        "    # Plot summary_plot as barplot:\n",
        "    shap.summary_plot(shap_values, X_importance, feature_names=features, plot_type='bar')\n",
        "\n",
        "plot_shap(xg_reg, features, shap.TreeExplainer)"
      ],
      "metadata": {
        "id": "5Z6rHfVAuAUr",
        "outputId": "ce7eb8d6-59e0-40a2-ddf8-07c329e4284a",
        "colab": {
          "base_uri": "https://localhost:8080/",
          "height": 957
        }
      },
      "id": "5Z6rHfVAuAUr",
      "execution_count": 56,
      "outputs": [
        {
          "output_type": "display_data",
          "data": {
            "text/plain": [
              "<Figure size 800x950 with 1 Axes>"
            ],
            "image/png": "[encoded data removed]"
          },
          "metadata": {}
        }
      ]
    },
    {
      "cell_type": "markdown",
      "source": [
        "This plot tells us, that the most important features for the model output are `week_sin`, `tmax`, `month_sin`, and `transformed_vacation`. This seems reasonable since we have seen a weekly periodicity and `tmax` having the highest correlation."
      ],
      "metadata": {
        "id": "ugcPJDRyx7QG"
      },
      "id": "ugcPJDRyx7QG"
    },
    {
      "cell_type": "markdown",
      "id": "fOFZ5oXgTT7V",
      "metadata": {
        "id": "fOFZ5oXgTT7V"
      },
      "source": [
        "<a name=\"5.3.\"></a>\n",
        "## 5.3. Multilayer Perceptron\n",
        "[Content](#content)"
      ]
    },
    {
      "cell_type": "code",
      "execution_count": 52,
      "id": "CFbCaX6sKhZF",
      "metadata": {
        "id": "CFbCaX6sKhZF",
        "outputId": "330dfa05-bf66-4701-cc6e-c9244b31c133",
        "colab": {
          "base_uri": "https://localhost:8080/"
        }
      },
      "outputs": [
        {
          "output_type": "stream",
          "name": "stdout",
          "text": [
            "Model: \"sequential_2\"\n",
            "_________________________________________________________________\n",
            " Layer (type)                Output Shape              Param #   \n",
            "=================================================================\n",
            " dense_7 (Dense)             (None, 128)               3072      \n",
            "                                                                 \n",
            " dropout_4 (Dropout)         (None, 128)               0         \n",
            "                                                                 \n",
            " dense_8 (Dense)             (None, 64)                8256      \n",
            "                                                                 \n",
            " dropout_5 (Dropout)         (None, 64)                0         \n",
            "                                                                 \n",
            " dense_9 (Dense)             (None, 1)                 65        \n",
            "                                                                 \n",
            "=================================================================\n",
            "Total params: 11,393\n",
            "Trainable params: 11,393\n",
            "Non-trainable params: 0\n",
            "_________________________________________________________________\n",
            "None\n",
            "Epoch 1/100\n",
            "92/92 [==============================] - 1s 5ms/step - loss: 23902832.0000 - root_mean_squared_error: 4889.0522 - val_loss: 4703937.5000 - val_root_mean_squared_error: 2168.8562\n",
            "Epoch 2/100\n",
            "92/92 [==============================] - 0s 4ms/step - loss: 3705087.5000 - root_mean_squared_error: 1924.8604 - val_loss: 3691533.0000 - val_root_mean_squared_error: 1921.3363\n",
            "Epoch 3/100\n",
            "92/92 [==============================] - 0s 3ms/step - loss: 3280860.0000 - root_mean_squared_error: 1811.3145 - val_loss: 3317660.5000 - val_root_mean_squared_error: 1821.4446\n",
            "Epoch 4/100\n",
            "92/92 [==============================] - 0s 3ms/step - loss: 3029965.7500 - root_mean_squared_error: 1740.6797 - val_loss: 3186163.7500 - val_root_mean_squared_error: 1784.9828\n",
            "Epoch 5/100\n",
            "92/92 [==============================] - 0s 3ms/step - loss: 2937234.7500 - root_mean_squared_error: 1713.8363 - val_loss: 3136127.7500 - val_root_mean_squared_error: 1770.9115\n",
            "Epoch 6/100\n",
            "92/92 [==============================] - 0s 3ms/step - loss: 2794087.2500 - root_mean_squared_error: 1671.5524 - val_loss: 2964024.0000 - val_root_mean_squared_error: 1721.6342\n",
            "Epoch 7/100\n",
            "92/92 [==============================] - 0s 4ms/step - loss: 2878880.7500 - root_mean_squared_error: 1696.7264 - val_loss: 2907799.2500 - val_root_mean_squared_error: 1705.2271\n",
            "Epoch 8/100\n",
            "92/92 [==============================] - 0s 4ms/step - loss: 2758623.0000 - root_mean_squared_error: 1660.9103 - val_loss: 2934982.5000 - val_root_mean_squared_error: 1713.1791\n",
            "Epoch 9/100\n",
            "92/92 [==============================] - 0s 5ms/step - loss: 2773210.7500 - root_mean_squared_error: 1665.2960 - val_loss: 2808487.5000 - val_root_mean_squared_error: 1675.8542\n",
            "Epoch 10/100\n",
            "92/92 [==============================] - 0s 5ms/step - loss: 2723087.7500 - root_mean_squared_error: 1650.1781 - val_loss: 2870976.7500 - val_root_mean_squared_error: 1694.3956\n",
            "Epoch 11/100\n",
            "92/92 [==============================] - 0s 5ms/step - loss: 2710967.2500 - root_mean_squared_error: 1646.5015 - val_loss: 2901893.0000 - val_root_mean_squared_error: 1703.4944\n",
            "Epoch 12/100\n",
            "92/92 [==============================] - 0s 4ms/step - loss: 2667817.7500 - root_mean_squared_error: 1633.3456 - val_loss: 2660282.5000 - val_root_mean_squared_error: 1631.0372\n",
            "Epoch 13/100\n",
            "92/92 [==============================] - 1s 6ms/step - loss: 2715432.5000 - root_mean_squared_error: 1647.8569 - val_loss: 2701321.2500 - val_root_mean_squared_error: 1643.5697\n",
            "Epoch 14/100\n",
            "92/92 [==============================] - 1s 7ms/step - loss: 2676948.2500 - root_mean_squared_error: 1636.1382 - val_loss: 2797493.0000 - val_root_mean_squared_error: 1672.5708\n",
            "Epoch 15/100\n",
            "92/92 [==============================] - 1s 7ms/step - loss: 2589017.7500 - root_mean_squared_error: 1609.0425 - val_loss: 2669433.5000 - val_root_mean_squared_error: 1633.8401\n",
            "Epoch 16/100\n",
            "92/92 [==============================] - 0s 5ms/step - loss: 2670146.2500 - root_mean_squared_error: 1634.0582 - val_loss: 2718005.5000 - val_root_mean_squared_error: 1648.6375\n",
            "Epoch 17/100\n",
            "92/92 [==============================] - 1s 6ms/step - loss: 2596793.0000 - root_mean_squared_error: 1611.4568 - val_loss: 2769907.0000 - val_root_mean_squared_error: 1664.3037\n",
            "Epoch 18/100\n",
            "92/92 [==============================] - 0s 5ms/step - loss: 2569496.7500 - root_mean_squared_error: 1602.9650 - val_loss: 2616431.0000 - val_root_mean_squared_error: 1617.5386\n",
            "Epoch 19/100\n",
            "92/92 [==============================] - 0s 3ms/step - loss: 2560040.7500 - root_mean_squared_error: 1600.0127 - val_loss: 2624873.7500 - val_root_mean_squared_error: 1620.1462\n",
            "Epoch 20/100\n",
            "92/92 [==============================] - 0s 3ms/step - loss: 2627437.0000 - root_mean_squared_error: 1620.9371 - val_loss: 2715678.2500 - val_root_mean_squared_error: 1647.9315\n",
            "Epoch 21/100\n",
            "92/92 [==============================] - 0s 3ms/step - loss: 2574016.7500 - root_mean_squared_error: 1604.3743 - val_loss: 2720113.0000 - val_root_mean_squared_error: 1649.2765\n",
            "Epoch 22/100\n",
            "92/92 [==============================] - 0s 3ms/step - loss: 2592056.0000 - root_mean_squared_error: 1609.9863 - val_loss: 2713953.2500 - val_root_mean_squared_error: 1647.4081\n",
            "Epoch 23/100\n",
            "92/92 [==============================] - 0s 3ms/step - loss: 2599648.2500 - root_mean_squared_error: 1612.3425 - val_loss: 2575598.2500 - val_root_mean_squared_error: 1604.8671\n",
            "Epoch 24/100\n",
            "92/92 [==============================] - 0s 3ms/step - loss: 2537550.2500 - root_mean_squared_error: 1592.9690 - val_loss: 2825928.7500 - val_root_mean_squared_error: 1681.0499\n",
            "Epoch 25/100\n",
            "92/92 [==============================] - 0s 3ms/step - loss: 2580813.5000 - root_mean_squared_error: 1606.4911 - val_loss: 2569252.5000 - val_root_mean_squared_error: 1602.8888\n",
            "Epoch 26/100\n",
            "92/92 [==============================] - 0s 3ms/step - loss: 2543354.2500 - root_mean_squared_error: 1594.7897 - val_loss: 2555550.7500 - val_root_mean_squared_error: 1598.6090\n",
            "Epoch 27/100\n",
            "92/92 [==============================] - 0s 3ms/step - loss: 2482181.2500 - root_mean_squared_error: 1575.4940 - val_loss: 2635127.0000 - val_root_mean_squared_error: 1623.3074\n",
            "Epoch 28/100\n",
            "92/92 [==============================] - 1s 6ms/step - loss: 2563294.7500 - root_mean_squared_error: 1601.0293 - val_loss: 2649485.7500 - val_root_mean_squared_error: 1627.7241\n",
            "Epoch 29/100\n",
            "92/92 [==============================] - 0s 5ms/step - loss: 2645145.2500 - root_mean_squared_error: 1626.3903 - val_loss: 2622750.0000 - val_root_mean_squared_error: 1619.4906\n",
            "Epoch 30/100\n",
            "92/92 [==============================] - 1s 5ms/step - loss: 2565293.2500 - root_mean_squared_error: 1601.6533 - val_loss: 2668736.0000 - val_root_mean_squared_error: 1633.6266\n",
            "Epoch 31/100\n",
            "92/92 [==============================] - 0s 5ms/step - loss: 2546276.0000 - root_mean_squared_error: 1595.7054 - val_loss: 2625205.0000 - val_root_mean_squared_error: 1620.2484\n",
            "Epoch 32/100\n",
            "92/92 [==============================] - 0s 5ms/step - loss: 2530103.5000 - root_mean_squared_error: 1590.6299 - val_loss: 2676999.2500 - val_root_mean_squared_error: 1636.1538\n",
            "Epoch 33/100\n",
            "92/92 [==============================] - 0s 5ms/step - loss: 2478416.2500 - root_mean_squared_error: 1574.2987 - val_loss: 2639010.0000 - val_root_mean_squared_error: 1624.5031\n",
            "Epoch 34/100\n",
            "92/92 [==============================] - 1s 7ms/step - loss: 2579183.2500 - root_mean_squared_error: 1605.9835 - val_loss: 2606664.7500 - val_root_mean_squared_error: 1614.5168\n",
            "Epoch 35/100\n",
            "92/92 [==============================] - 1s 8ms/step - loss: 2466212.2500 - root_mean_squared_error: 1570.4178 - val_loss: 2642513.0000 - val_root_mean_squared_error: 1625.5808\n",
            "Epoch 36/100\n",
            "92/92 [==============================] - 0s 3ms/step - loss: 2516785.2500 - root_mean_squared_error: 1586.4379 - val_loss: 2547194.5000 - val_root_mean_squared_error: 1595.9933\n",
            "Epoch 37/100\n",
            "92/92 [==============================] - 0s 4ms/step - loss: 2577438.2500 - root_mean_squared_error: 1605.4402 - val_loss: 2488215.5000 - val_root_mean_squared_error: 1577.4078\n",
            "Epoch 38/100\n",
            "92/92 [==============================] - 0s 5ms/step - loss: 2535239.5000 - root_mean_squared_error: 1592.2435 - val_loss: 2591794.7500 - val_root_mean_squared_error: 1609.9052\n",
            "Epoch 39/100\n",
            "92/92 [==============================] - 0s 5ms/step - loss: 2439000.0000 - root_mean_squared_error: 1561.7299 - val_loss: 2624144.7500 - val_root_mean_squared_error: 1619.9213\n",
            "Epoch 40/100\n",
            "92/92 [==============================] - 0s 5ms/step - loss: 2460814.0000 - root_mean_squared_error: 1568.6982 - val_loss: 2618736.0000 - val_root_mean_squared_error: 1618.2509\n",
            "Epoch 41/100\n",
            "92/92 [==============================] - 0s 4ms/step - loss: 2464191.7500 - root_mean_squared_error: 1569.7744 - val_loss: 2563454.0000 - val_root_mean_squared_error: 1601.0790\n",
            "Epoch 42/100\n",
            "92/92 [==============================] - 0s 5ms/step - loss: 2493891.7500 - root_mean_squared_error: 1579.2061 - val_loss: 2572018.5000 - val_root_mean_squared_error: 1603.7513\n",
            "Epoch 43/100\n",
            "92/92 [==============================] - 1s 10ms/step - loss: 2475851.5000 - root_mean_squared_error: 1573.4839 - val_loss: 2550351.7500 - val_root_mean_squared_error: 1596.9821\n",
            "Epoch 44/100\n",
            "92/92 [==============================] - 1s 7ms/step - loss: 2515531.7500 - root_mean_squared_error: 1586.0428 - val_loss: 2593984.0000 - val_root_mean_squared_error: 1610.5850\n",
            "Epoch 45/100\n",
            "92/92 [==============================] - 1s 6ms/step - loss: 2534061.7500 - root_mean_squared_error: 1591.8737 - val_loss: 2579245.2500 - val_root_mean_squared_error: 1606.0029\n",
            "Epoch 46/100\n",
            "92/92 [==============================] - 1s 6ms/step - loss: 2482521.0000 - root_mean_squared_error: 1575.6018 - val_loss: 2732880.0000 - val_root_mean_squared_error: 1653.1425\n",
            "Epoch 47/100\n",
            "92/92 [==============================] - 0s 5ms/step - loss: 2479730.0000 - root_mean_squared_error: 1574.7158 - val_loss: 2587319.2500 - val_root_mean_squared_error: 1608.5146\n",
            "Epoch 48/100\n",
            "92/92 [==============================] - 1s 7ms/step - loss: 2493243.0000 - root_mean_squared_error: 1579.0006 - val_loss: 2723433.0000 - val_root_mean_squared_error: 1650.2827\n",
            "Epoch 49/100\n",
            "92/92 [==============================] - 1s 6ms/step - loss: 2452351.0000 - root_mean_squared_error: 1565.9984 - val_loss: 2661943.2500 - val_root_mean_squared_error: 1631.5463\n",
            "Epoch 50/100\n",
            "92/92 [==============================] - 1s 6ms/step - loss: 2403266.7500 - root_mean_squared_error: 1550.2473 - val_loss: 2677561.0000 - val_root_mean_squared_error: 1636.3254\n",
            "Epoch 51/100\n",
            "92/92 [==============================] - 1s 6ms/step - loss: 2567606.0000 - root_mean_squared_error: 1602.3751 - val_loss: 2541241.5000 - val_root_mean_squared_error: 1594.1272\n",
            "Epoch 52/100\n",
            "92/92 [==============================] - 1s 6ms/step - loss: 2504320.2500 - root_mean_squared_error: 1582.5044 - val_loss: 2615648.7500 - val_root_mean_squared_error: 1617.2968\n",
            "Epoch 53/100\n",
            "92/92 [==============================] - 0s 5ms/step - loss: 2421845.7500 - root_mean_squared_error: 1556.2280 - val_loss: 2574017.5000 - val_root_mean_squared_error: 1604.3745\n",
            "Epoch 54/100\n",
            "92/92 [==============================] - 0s 5ms/step - loss: 2525431.2500 - root_mean_squared_error: 1589.1605 - val_loss: 2751214.7500 - val_root_mean_squared_error: 1658.6786\n",
            "Epoch 55/100\n",
            "92/92 [==============================] - 0s 4ms/step - loss: 2442952.2500 - root_mean_squared_error: 1562.9946 - val_loss: 2516621.0000 - val_root_mean_squared_error: 1586.3861\n",
            "Epoch 56/100\n",
            "92/92 [==============================] - 1s 7ms/step - loss: 2503242.2500 - root_mean_squared_error: 1582.1638 - val_loss: 2608228.5000 - val_root_mean_squared_error: 1615.0011\n",
            "Epoch 57/100\n",
            "92/92 [==============================] - 1s 9ms/step - loss: 2525299.7500 - root_mean_squared_error: 1589.1191 - val_loss: 2559273.2500 - val_root_mean_squared_error: 1599.7728\n",
            "Epoch 58/100\n",
            "92/92 [==============================] - 1s 8ms/step - loss: 2449473.0000 - root_mean_squared_error: 1565.0792 - val_loss: 2663358.5000 - val_root_mean_squared_error: 1631.9800\n",
            "Epoch 59/100\n",
            "92/92 [==============================] - 1s 8ms/step - loss: 2405964.5000 - root_mean_squared_error: 1551.1172 - val_loss: 2611868.2500 - val_root_mean_squared_error: 1616.1276\n",
            "Epoch 60/100\n",
            "92/92 [==============================] - 1s 11ms/step - loss: 2433384.5000 - root_mean_squared_error: 1559.9309 - val_loss: 2630080.0000 - val_root_mean_squared_error: 1621.7522\n",
            "Epoch 61/100\n",
            "92/92 [==============================] - 1s 12ms/step - loss: 2382651.0000 - root_mean_squared_error: 1543.5839 - val_loss: 2640318.5000 - val_root_mean_squared_error: 1624.9056\n",
            "Epoch 62/100\n",
            "92/92 [==============================] - 1s 11ms/step - loss: 2477722.7500 - root_mean_squared_error: 1574.0784 - val_loss: 2604668.2500 - val_root_mean_squared_error: 1613.8984\n",
            "Epoch 63/100\n",
            "92/92 [==============================] - 1s 10ms/step - loss: 2361500.2500 - root_mean_squared_error: 1536.7174 - val_loss: 2577989.7500 - val_root_mean_squared_error: 1605.6119\n",
            "Epoch 64/100\n",
            "92/92 [==============================] - 0s 5ms/step - loss: 2542998.0000 - root_mean_squared_error: 1594.6780 - val_loss: 2573233.5000 - val_root_mean_squared_error: 1604.1301\n",
            "Epoch 65/100\n",
            "92/92 [==============================] - 0s 5ms/step - loss: 2454984.5000 - root_mean_squared_error: 1566.8390 - val_loss: 2512707.0000 - val_root_mean_squared_error: 1585.1521\n",
            "Epoch 66/100\n",
            "92/92 [==============================] - 0s 5ms/step - loss: 2455562.2500 - root_mean_squared_error: 1567.0233 - val_loss: 2503874.7500 - val_root_mean_squared_error: 1582.3636\n",
            "Epoch 67/100\n",
            "92/92 [==============================] - 1s 6ms/step - loss: 2441029.7500 - root_mean_squared_error: 1562.3795 - val_loss: 2594040.0000 - val_root_mean_squared_error: 1610.6024\n",
            "Epoch 68/100\n",
            "92/92 [==============================] - 0s 5ms/step - loss: 2343674.7500 - root_mean_squared_error: 1530.9065 - val_loss: 2526169.7500 - val_root_mean_squared_error: 1589.3929\n",
            "Epoch 69/100\n",
            "92/92 [==============================] - 1s 7ms/step - loss: 2415850.2500 - root_mean_squared_error: 1554.3005 - val_loss: 2527152.5000 - val_root_mean_squared_error: 1589.7020\n",
            "Epoch 70/100\n",
            "92/92 [==============================] - 1s 7ms/step - loss: 2363139.5000 - root_mean_squared_error: 1537.2506 - val_loss: 2595611.0000 - val_root_mean_squared_error: 1611.0900\n",
            "Epoch 71/100\n",
            "92/92 [==============================] - 0s 5ms/step - loss: 2349312.5000 - root_mean_squared_error: 1532.7467 - val_loss: 2510806.0000 - val_root_mean_squared_error: 1584.5522\n",
            "Epoch 72/100\n",
            "92/92 [==============================] - 0s 3ms/step - loss: 2388062.7500 - root_mean_squared_error: 1545.3358 - val_loss: 2462067.5000 - val_root_mean_squared_error: 1569.0977\n",
            "Epoch 73/100\n",
            "92/92 [==============================] - 0s 3ms/step - loss: 2503902.5000 - root_mean_squared_error: 1582.3724 - val_loss: 2598039.0000 - val_root_mean_squared_error: 1611.8434\n",
            "Epoch 74/100\n",
            "92/92 [==============================] - 0s 3ms/step - loss: 2442024.0000 - root_mean_squared_error: 1562.6976 - val_loss: 2502036.7500 - val_root_mean_squared_error: 1581.7827\n",
            "Epoch 75/100\n",
            "92/92 [==============================] - 0s 3ms/step - loss: 2367247.7500 - root_mean_squared_error: 1538.5863 - val_loss: 2654127.7500 - val_root_mean_squared_error: 1629.1494\n",
            "Epoch 76/100\n",
            "92/92 [==============================] - 0s 3ms/step - loss: 2290918.2500 - root_mean_squared_error: 1513.5780 - val_loss: 2436343.0000 - val_root_mean_squared_error: 1560.8789\n",
            "Epoch 77/100\n",
            "92/92 [==============================] - 0s 3ms/step - loss: 2413262.0000 - root_mean_squared_error: 1553.4678 - val_loss: 2581751.0000 - val_root_mean_squared_error: 1606.7828\n",
            "Epoch 78/100\n",
            "92/92 [==============================] - 0s 3ms/step - loss: 2376395.7500 - root_mean_squared_error: 1541.5563 - val_loss: 2443361.0000 - val_root_mean_squared_error: 1563.1254\n",
            "Epoch 79/100\n",
            "92/92 [==============================] - 0s 3ms/step - loss: 2435471.2500 - root_mean_squared_error: 1560.5996 - val_loss: 2485932.0000 - val_root_mean_squared_error: 1576.6838\n",
            "Epoch 80/100\n",
            "92/92 [==============================] - 0s 3ms/step - loss: 2387625.7500 - root_mean_squared_error: 1545.1945 - val_loss: 2452370.0000 - val_root_mean_squared_error: 1566.0045\n",
            "Epoch 81/100\n",
            "92/92 [==============================] - 0s 3ms/step - loss: 2382117.2500 - root_mean_squared_error: 1543.4109 - val_loss: 2470930.5000 - val_root_mean_squared_error: 1571.9193\n",
            "Epoch 82/100\n",
            "92/92 [==============================] - 0s 3ms/step - loss: 2388643.2500 - root_mean_squared_error: 1545.5236 - val_loss: 2616843.7500 - val_root_mean_squared_error: 1617.6661\n",
            "Epoch 83/100\n",
            "92/92 [==============================] - 0s 3ms/step - loss: 2308144.5000 - root_mean_squared_error: 1519.2579 - val_loss: 2627487.2500 - val_root_mean_squared_error: 1620.9525\n",
            "Epoch 84/100\n",
            "92/92 [==============================] - 0s 3ms/step - loss: 2402601.7500 - root_mean_squared_error: 1550.0328 - val_loss: 2486712.5000 - val_root_mean_squared_error: 1576.9314\n",
            "Epoch 85/100\n",
            "92/92 [==============================] - 0s 3ms/step - loss: 2322222.7500 - root_mean_squared_error: 1523.8842 - val_loss: 2441473.5000 - val_root_mean_squared_error: 1562.5215\n",
            "Epoch 86/100\n",
            "92/92 [==============================] - 0s 3ms/step - loss: 2375844.2500 - root_mean_squared_error: 1541.3774 - val_loss: 2693596.0000 - val_root_mean_squared_error: 1641.2179\n",
            "Epoch 87/100\n",
            "92/92 [==============================] - 0s 3ms/step - loss: 2293142.2500 - root_mean_squared_error: 1514.3125 - val_loss: 2541922.2500 - val_root_mean_squared_error: 1594.3407\n",
            "Epoch 88/100\n",
            "92/92 [==============================] - 0s 3ms/step - loss: 2352689.5000 - root_mean_squared_error: 1533.8479 - val_loss: 2534208.0000 - val_root_mean_squared_error: 1591.9196\n",
            "Epoch 89/100\n",
            "92/92 [==============================] - 0s 3ms/step - loss: 2326910.0000 - root_mean_squared_error: 1525.4213 - val_loss: 2647801.0000 - val_root_mean_squared_error: 1627.2065\n",
            "Epoch 90/100\n",
            "92/92 [==============================] - 0s 3ms/step - loss: 2353967.0000 - root_mean_squared_error: 1534.2643 - val_loss: 2467111.2500 - val_root_mean_squared_error: 1570.7041\n",
            "Epoch 91/100\n",
            "92/92 [==============================] - 0s 3ms/step - loss: 2450587.5000 - root_mean_squared_error: 1565.4353 - val_loss: 2522633.0000 - val_root_mean_squared_error: 1588.2799\n",
            "Epoch 92/100\n",
            "92/92 [==============================] - 0s 5ms/step - loss: 2385417.0000 - root_mean_squared_error: 1544.4795 - val_loss: 2686604.2500 - val_root_mean_squared_error: 1639.0864\n",
            "Epoch 93/100\n",
            "92/92 [==============================] - 0s 5ms/step - loss: 2390125.7500 - root_mean_squared_error: 1546.0032 - val_loss: 2551027.7500 - val_root_mean_squared_error: 1597.1937\n",
            "Epoch 94/100\n",
            "92/92 [==============================] - 1s 6ms/step - loss: 2388735.5000 - root_mean_squared_error: 1545.5535 - val_loss: 2509693.0000 - val_root_mean_squared_error: 1584.2010\n",
            "Epoch 95/100\n",
            "92/92 [==============================] - 1s 5ms/step - loss: 2321822.0000 - root_mean_squared_error: 1523.7526 - val_loss: 2513082.0000 - val_root_mean_squared_error: 1585.2703\n",
            "Epoch 96/100\n",
            "92/92 [==============================] - 0s 5ms/step - loss: 2409420.7500 - root_mean_squared_error: 1552.2308 - val_loss: 2441403.7500 - val_root_mean_squared_error: 1562.4991\n",
            "Epoch 97/100\n",
            "92/92 [==============================] - 1s 6ms/step - loss: 2399576.0000 - root_mean_squared_error: 1549.0565 - val_loss: 2557823.5000 - val_root_mean_squared_error: 1599.3197\n",
            "Epoch 98/100\n",
            "92/92 [==============================] - 0s 4ms/step - loss: 2336747.5000 - root_mean_squared_error: 1528.6423 - val_loss: 2516294.0000 - val_root_mean_squared_error: 1586.2831\n",
            "Epoch 99/100\n",
            "92/92 [==============================] - 0s 3ms/step - loss: 2344545.7500 - root_mean_squared_error: 1531.1909 - val_loss: 2479710.5000 - val_root_mean_squared_error: 1574.7097\n",
            "Epoch 100/100\n",
            "92/92 [==============================] - 0s 3ms/step - loss: 2396124.5000 - root_mean_squared_error: 1547.9420 - val_loss: 2486463.0000 - val_root_mean_squared_error: 1576.8523\n"
          ]
        }
      ],
      "source": [
        "dropout = 0.2 # 0.2 best\n",
        "\n",
        "# Define the architecture of the MLP with L2 regularization\n",
        "model_mlp = Sequential()\n",
        "\n",
        "model_mlp.add(Input(shape=(len(features),)))\n",
        "model_mlp.add(Dense(units=128, activation='relu'))\n",
        "model_mlp.add(Dropout(dropout))\n",
        "model_mlp.add(Dense(units=64, activation='relu'))\n",
        "model_mlp.add(Dropout(dropout))\n",
        "model_mlp.add(Dense(units=1, activation='linear'))  # Output layer with 1 neuron for regression\n",
        "\n",
        "# Compile the model with mean squared error (MSE) loss, and root mean square error (RMSE) as metric\n",
        "# Use Adam optimizer with learning rate\n",
        "optimizer = Adam(learning_rate=0.01)\n",
        "model_mlp.compile(optimizer=optimizer, loss='mse', metrics=[RootMeanSquaredError()])\n",
        "\n",
        "print(model_mlp.summary())\n",
        "\n",
        "# Train the model and save the learning history, use x_dev and y_dev for validation\n",
        "history = model_mlp.fit(X_train_scaled, y_train, epochs=100, batch_size=32, validation_data=(X_dev_scaled, y_dev))"
      ]
    },
    {
      "cell_type": "markdown",
      "source": [
        "all features with cos and sin\n",
        "Epoch 100/100\n",
        "92/92 [==============================] - 0s 3ms/step - loss: 2264314.0000 - root_mean_squared_error: 1504.7638 - val_loss: 2452808.2500 - val_root_mean_squared_error: 1566.1444"
      ],
      "metadata": {
        "id": "60pDB98PVm1I"
      },
      "id": "60pDB98PVm1I"
    },
    {
      "cell_type": "code",
      "execution_count": 53,
      "id": "RhbEPgSPsXCy",
      "metadata": {
        "colab": {
          "base_uri": "https://localhost:8080/",
          "height": 542
        },
        "id": "RhbEPgSPsXCy",
        "outputId": "1b0fc31c-2443-48e2-c2a6-da7de21bad15"
      },
      "outputs": [
        {
          "output_type": "display_data",
          "data": {
            "text/html": [
              "<html>\n",
              "<head><meta charset=\"utf-8\" /></head>\n",
              "<body>\n",
              "    <div>            <script src=\"https://cdnjs.cloudflare.com/ajax/libs/mathjax/2.7.5/MathJax.js?config=TeX-AMS-MML_SVG\"></script><script type=\"text/javascript\">if (window.MathJax && window.MathJax.Hub && window.MathJax.Hub.Config) {window.MathJax.Hub.Config({SVG: {font: \"STIX-Web\"}});}</script>                <script type=\"text/javascript\">window.PlotlyConfig = {MathJaxConfig: 'local'};</script>\n",
              "        <script charset=\"utf-8\" src=\"https://cdn.plot.ly/plotly-2.24.1.min.js\"></script>                <div id=\"2607601a-49d3-4093-84cd-5ca576ee23f6\" class=\"plotly-graph-div\" style=\"height:525px; width:100%;\"></div>            <script type=\"text/javascript\">                                    window.PLOTLYENV=window.PLOTLYENV || {};                                    if (document.getElementById(\"2607601a-49d3-4093-84cd-5ca576ee23f6\")) {                    Plotly.newPlot(                        \"2607601a-49d3-4093-84cd-5ca576ee23f6\",                        [{\"hovertemplate\":\"\\u003cextra\\u003e\\u003c\\u002fextra\\u003e\",\"legendgroup\":\"\",\"line\":{\"color\":\"#636efa\",\"dash\":\"solid\"},\"marker\":{\"symbol\":\"circle\"},\"mode\":\"lines\",\"name\":\"\",\"orientation\":\"v\",\"showlegend\":false,\"xaxis\":\"x\",\"yaxis\":\"y\",\"type\":\"scatter\"},{\"line\":{\"color\":\"red\"},\"mode\":\"lines+markers\",\"name\":\"Train RMSE\",\"x\":[1,2,3,4,5,6,7,8,9,10,11,12,13,14,15,16,17,18,19,20,21,22,23,24,25,26,27,28,29,30,31,32,33,34,35,36,37,38,39,40,41,42,43,44,45,46,47,48,49,50,51,52,53,54,55,56,57,58,59,60,61,62,63,64,65,66,67,68,69,70,71,72,73,74,75,76,77,78,79,80,81,82,83,84,85,86,87,88,89,90,91,92,93,94,95,96,97,98,99,100],\"y\":[4889.05224609375,1924.8603515625,1811.314453125,1740.6796875,1713.8363037109375,1671.5523681640625,1696.7264404296875,1660.9102783203125,1665.2960205078125,1650.1781005859375,1646.50146484375,1633.3455810546875,1647.85693359375,1636.13818359375,1609.04248046875,1634.0582275390625,1611.456787109375,1602.9649658203125,1600.0126953125,1620.9371337890625,1604.374267578125,1609.986328125,1612.342529296875,1592.968994140625,1606.4910888671875,1594.7896728515625,1575.4940185546875,1601.029296875,1626.3902587890625,1601.6533203125,1595.7054443359375,1590.6298828125,1574.2987060546875,1605.9835205078125,1570.4178466796875,1586.4378662109375,1605.440185546875,1592.2435302734375,1561.7298583984375,1568.6982421875,1569.7744140625,1579.2060546875,1573.48388671875,1586.0428466796875,1591.8736572265625,1575.601806640625,1574.7158203125,1579.0006103515625,1565.9984130859375,1550.247314453125,1602.3751220703125,1582.50439453125,1556.22802734375,1589.1605224609375,1562.99462890625,1582.163818359375,1589.119140625,1565.0792236328125,1551.1171875,1559.930908203125,1543.5838623046875,1574.078369140625,1536.7174072265625,1594.677978515625,1566.8389892578125,1567.0233154296875,1562.3795166015625,1530.906494140625,1554.300537109375,1537.2506103515625,1532.7467041015625,1545.3358154296875,1582.3724365234375,1562.6976318359375,1538.5863037109375,1513.5780029296875,1553.4677734375,1541.5562744140625,1560.599609375,1545.1944580078125,1543.410888671875,1545.5235595703125,1519.2579345703125,1550.0328369140625,1523.8841552734375,1541.37744140625,1514.3125,1533.847900390625,1525.4212646484375,1534.2642822265625,1565.435302734375,1544.4794921875,1546.003173828125,1545.553466796875,1523.7525634765625,1552.2308349609375,1549.0565185546875,1528.642333984375,1531.19091796875,1547.9420166015625],\"type\":\"scatter\"},{\"line\":{\"color\":\"blue\"},\"mode\":\"lines+markers\",\"name\":\"Dev RMSE\",\"x\":[1,2,3,4,5,6,7,8,9,10,11,12,13,14,15,16,17,18,19,20,21,22,23,24,25,26,27,28,29,30,31,32,33,34,35,36,37,38,39,40,41,42,43,44,45,46,47,48,49,50,51,52,53,54,55,56,57,58,59,60,61,62,63,64,65,66,67,68,69,70,71,72,73,74,75,76,77,78,79,80,81,82,83,84,85,86,87,88,89,90,91,92,93,94,95,96,97,98,99,100],\"y\":[2168.856201171875,1921.3363037109375,1821.444580078125,1784.9827880859375,1770.9114990234375,1721.6341552734375,1705.22705078125,1713.1790771484375,1675.854248046875,1694.3956298828125,1703.494384765625,1631.0372314453125,1643.5697021484375,1672.57080078125,1633.840087890625,1648.637451171875,1664.3037109375,1617.53857421875,1620.146240234375,1647.9315185546875,1649.2764892578125,1647.4080810546875,1604.8670654296875,1681.0499267578125,1602.8887939453125,1598.6090087890625,1623.307373046875,1627.72412109375,1619.4906005859375,1633.6265869140625,1620.2484130859375,1636.15380859375,1624.5030517578125,1614.516845703125,1625.580810546875,1595.9932861328125,1577.4078369140625,1609.9051513671875,1619.9212646484375,1618.2508544921875,1601.0789794921875,1603.7513427734375,1596.9820556640625,1610.5849609375,1606.0029296875,1653.1424560546875,1608.5146484375,1650.28271484375,1631.5462646484375,1636.325439453125,1594.127197265625,1617.2967529296875,1604.37451171875,1658.6785888671875,1586.3861083984375,1615.0010986328125,1599.7728271484375,1631.97998046875,1616.1275634765625,1621.752197265625,1624.9056396484375,1613.8984375,1605.6119384765625,1604.130126953125,1585.152099609375,1582.3636474609375,1610.6024169921875,1589.3929443359375,1589.7020263671875,1611.0899658203125,1584.55224609375,1569.09765625,1611.8433837890625,1581.78271484375,1629.1494140625,1560.87890625,1606.7828369140625,1563.1253662109375,1576.683837890625,1566.0045166015625,1571.9193115234375,1617.6661376953125,1620.9525146484375,1576.931396484375,1562.521484375,1641.2178955078125,1594.3406982421875,1591.9195556640625,1627.20654296875,1570.7041015625,1588.2799072265625,1639.08642578125,1597.1937255859375,1584.2010498046875,1585.270263671875,1562.4991455078125,1599.3197021484375,1586.2830810546875,1574.709716796875,1576.852294921875],\"type\":\"scatter\"}],                        {\"template\":{\"data\":{\"histogram2dcontour\":[{\"type\":\"histogram2dcontour\",\"colorbar\":{\"outlinewidth\":0,\"ticks\":\"\"},\"colorscale\":[[0.0,\"#0d0887\"],[0.1111111111111111,\"#46039f\"],[0.2222222222222222,\"#7201a8\"],[0.3333333333333333,\"#9c179e\"],[0.4444444444444444,\"#bd3786\"],[0.5555555555555556,\"#d8576b\"],[0.6666666666666666,\"#ed7953\"],[0.7777777777777778,\"#fb9f3a\"],[0.8888888888888888,\"#fdca26\"],[1.0,\"#f0f921\"]]}],\"choropleth\":[{\"type\":\"choropleth\",\"colorbar\":{\"outlinewidth\":0,\"ticks\":\"\"}}],\"histogram2d\":[{\"type\":\"histogram2d\",\"colorbar\":{\"outlinewidth\":0,\"ticks\":\"\"},\"colorscale\":[[0.0,\"#0d0887\"],[0.1111111111111111,\"#46039f\"],[0.2222222222222222,\"#7201a8\"],[0.3333333333333333,\"#9c179e\"],[0.4444444444444444,\"#bd3786\"],[0.5555555555555556,\"#d8576b\"],[0.6666666666666666,\"#ed7953\"],[0.7777777777777778,\"#fb9f3a\"],[0.8888888888888888,\"#fdca26\"],[1.0,\"#f0f921\"]]}],\"heatmap\":[{\"type\":\"heatmap\",\"colorbar\":{\"outlinewidth\":0,\"ticks\":\"\"},\"colorscale\":[[0.0,\"#0d0887\"],[0.1111111111111111,\"#46039f\"],[0.2222222222222222,\"#7201a8\"],[0.3333333333333333,\"#9c179e\"],[0.4444444444444444,\"#bd3786\"],[0.5555555555555556,\"#d8576b\"],[0.6666666666666666,\"#ed7953\"],[0.7777777777777778,\"#fb9f3a\"],[0.8888888888888888,\"#fdca26\"],[1.0,\"#f0f921\"]]}],\"heatmapgl\":[{\"type\":\"heatmapgl\",\"colorbar\":{\"outlinewidth\":0,\"ticks\":\"\"},\"colorscale\":[[0.0,\"#0d0887\"],[0.1111111111111111,\"#46039f\"],[0.2222222222222222,\"#7201a8\"],[0.3333333333333333,\"#9c179e\"],[0.4444444444444444,\"#bd3786\"],[0.5555555555555556,\"#d8576b\"],[0.6666666666666666,\"#ed7953\"],[0.7777777777777778,\"#fb9f3a\"],[0.8888888888888888,\"#fdca26\"],[1.0,\"#f0f921\"]]}],\"contourcarpet\":[{\"type\":\"contourcarpet\",\"colorbar\":{\"outlinewidth\":0,\"ticks\":\"\"}}],\"contour\":[{\"type\":\"contour\",\"colorbar\":{\"outlinewidth\":0,\"ticks\":\"\"},\"colorscale\":[[0.0,\"#0d0887\"],[0.1111111111111111,\"#46039f\"],[0.2222222222222222,\"#7201a8\"],[0.3333333333333333,\"#9c179e\"],[0.4444444444444444,\"#bd3786\"],[0.5555555555555556,\"#d8576b\"],[0.6666666666666666,\"#ed7953\"],[0.7777777777777778,\"#fb9f3a\"],[0.8888888888888888,\"#fdca26\"],[1.0,\"#f0f921\"]]}],\"surface\":[{\"type\":\"surface\",\"colorbar\":{\"outlinewidth\":0,\"ticks\":\"\"},\"colorscale\":[[0.0,\"#0d0887\"],[0.1111111111111111,\"#46039f\"],[0.2222222222222222,\"#7201a8\"],[0.3333333333333333,\"#9c179e\"],[0.4444444444444444,\"#bd3786\"],[0.5555555555555556,\"#d8576b\"],[0.6666666666666666,\"#ed7953\"],[0.7777777777777778,\"#fb9f3a\"],[0.8888888888888888,\"#fdca26\"],[1.0,\"#f0f921\"]]}],\"mesh3d\":[{\"type\":\"mesh3d\",\"colorbar\":{\"outlinewidth\":0,\"ticks\":\"\"}}],\"scatter\":[{\"fillpattern\":{\"fillmode\":\"overlay\",\"size\":10,\"solidity\":0.2},\"type\":\"scatter\"}],\"parcoords\":[{\"type\":\"parcoords\",\"line\":{\"colorbar\":{\"outlinewidth\":0,\"ticks\":\"\"}}}],\"scatterpolargl\":[{\"type\":\"scatterpolargl\",\"marker\":{\"colorbar\":{\"outlinewidth\":0,\"ticks\":\"\"}}}],\"bar\":[{\"error_x\":{\"color\":\"#2a3f5f\"},\"error_y\":{\"color\":\"#2a3f5f\"},\"marker\":{\"line\":{\"color\":\"#E5ECF6\",\"width\":0.5},\"pattern\":{\"fillmode\":\"overlay\",\"size\":10,\"solidity\":0.2}},\"type\":\"bar\"}],\"scattergeo\":[{\"type\":\"scattergeo\",\"marker\":{\"colorbar\":{\"outlinewidth\":0,\"ticks\":\"\"}}}],\"scatterpolar\":[{\"type\":\"scatterpolar\",\"marker\":{\"colorbar\":{\"outlinewidth\":0,\"ticks\":\"\"}}}],\"histogram\":[{\"marker\":{\"pattern\":{\"fillmode\":\"overlay\",\"size\":10,\"solidity\":0.2}},\"type\":\"histogram\"}],\"scattergl\":[{\"type\":\"scattergl\",\"marker\":{\"colorbar\":{\"outlinewidth\":0,\"ticks\":\"\"}}}],\"scatter3d\":[{\"type\":\"scatter3d\",\"line\":{\"colorbar\":{\"outlinewidth\":0,\"ticks\":\"\"}},\"marker\":{\"colorbar\":{\"outlinewidth\":0,\"ticks\":\"\"}}}],\"scattermapbox\":[{\"type\":\"scattermapbox\",\"marker\":{\"colorbar\":{\"outlinewidth\":0,\"ticks\":\"\"}}}],\"scatterternary\":[{\"type\":\"scatterternary\",\"marker\":{\"colorbar\":{\"outlinewidth\":0,\"ticks\":\"\"}}}],\"scattercarpet\":[{\"type\":\"scattercarpet\",\"marker\":{\"colorbar\":{\"outlinewidth\":0,\"ticks\":\"\"}}}],\"carpet\":[{\"aaxis\":{\"endlinecolor\":\"#2a3f5f\",\"gridcolor\":\"white\",\"linecolor\":\"white\",\"minorgridcolor\":\"white\",\"startlinecolor\":\"#2a3f5f\"},\"baxis\":{\"endlinecolor\":\"#2a3f5f\",\"gridcolor\":\"white\",\"linecolor\":\"white\",\"minorgridcolor\":\"white\",\"startlinecolor\":\"#2a3f5f\"},\"type\":\"carpet\"}],\"table\":[{\"cells\":{\"fill\":{\"color\":\"#EBF0F8\"},\"line\":{\"color\":\"white\"}},\"header\":{\"fill\":{\"color\":\"#C8D4E3\"},\"line\":{\"color\":\"white\"}},\"type\":\"table\"}],\"barpolar\":[{\"marker\":{\"line\":{\"color\":\"#E5ECF6\",\"width\":0.5},\"pattern\":{\"fillmode\":\"overlay\",\"size\":10,\"solidity\":0.2}},\"type\":\"barpolar\"}],\"pie\":[{\"automargin\":true,\"type\":\"pie\"}]},\"layout\":{\"autotypenumbers\":\"strict\",\"colorway\":[\"#636efa\",\"#EF553B\",\"#00cc96\",\"#ab63fa\",\"#FFA15A\",\"#19d3f3\",\"#FF6692\",\"#B6E880\",\"#FF97FF\",\"#FECB52\"],\"font\":{\"color\":\"#2a3f5f\"},\"hovermode\":\"closest\",\"hoverlabel\":{\"align\":\"left\"},\"paper_bgcolor\":\"white\",\"plot_bgcolor\":\"#E5ECF6\",\"polar\":{\"bgcolor\":\"#E5ECF6\",\"angularaxis\":{\"gridcolor\":\"white\",\"linecolor\":\"white\",\"ticks\":\"\"},\"radialaxis\":{\"gridcolor\":\"white\",\"linecolor\":\"white\",\"ticks\":\"\"}},\"ternary\":{\"bgcolor\":\"#E5ECF6\",\"aaxis\":{\"gridcolor\":\"white\",\"linecolor\":\"white\",\"ticks\":\"\"},\"baxis\":{\"gridcolor\":\"white\",\"linecolor\":\"white\",\"ticks\":\"\"},\"caxis\":{\"gridcolor\":\"white\",\"linecolor\":\"white\",\"ticks\":\"\"}},\"coloraxis\":{\"colorbar\":{\"outlinewidth\":0,\"ticks\":\"\"}},\"colorscale\":{\"sequential\":[[0.0,\"#0d0887\"],[0.1111111111111111,\"#46039f\"],[0.2222222222222222,\"#7201a8\"],[0.3333333333333333,\"#9c179e\"],[0.4444444444444444,\"#bd3786\"],[0.5555555555555556,\"#d8576b\"],[0.6666666666666666,\"#ed7953\"],[0.7777777777777778,\"#fb9f3a\"],[0.8888888888888888,\"#fdca26\"],[1.0,\"#f0f921\"]],\"sequentialminus\":[[0.0,\"#0d0887\"],[0.1111111111111111,\"#46039f\"],[0.2222222222222222,\"#7201a8\"],[0.3333333333333333,\"#9c179e\"],[0.4444444444444444,\"#bd3786\"],[0.5555555555555556,\"#d8576b\"],[0.6666666666666666,\"#ed7953\"],[0.7777777777777778,\"#fb9f3a\"],[0.8888888888888888,\"#fdca26\"],[1.0,\"#f0f921\"]],\"diverging\":[[0,\"#8e0152\"],[0.1,\"#c51b7d\"],[0.2,\"#de77ae\"],[0.3,\"#f1b6da\"],[0.4,\"#fde0ef\"],[0.5,\"#f7f7f7\"],[0.6,\"#e6f5d0\"],[0.7,\"#b8e186\"],[0.8,\"#7fbc41\"],[0.9,\"#4d9221\"],[1,\"#276419\"]]},\"xaxis\":{\"gridcolor\":\"white\",\"linecolor\":\"white\",\"ticks\":\"\",\"title\":{\"standoff\":15},\"zerolinecolor\":\"white\",\"automargin\":true,\"zerolinewidth\":2},\"yaxis\":{\"gridcolor\":\"white\",\"linecolor\":\"white\",\"ticks\":\"\",\"title\":{\"standoff\":15},\"zerolinecolor\":\"white\",\"automargin\":true,\"zerolinewidth\":2},\"scene\":{\"xaxis\":{\"backgroundcolor\":\"#E5ECF6\",\"gridcolor\":\"white\",\"linecolor\":\"white\",\"showbackground\":true,\"ticks\":\"\",\"zerolinecolor\":\"white\",\"gridwidth\":2},\"yaxis\":{\"backgroundcolor\":\"#E5ECF6\",\"gridcolor\":\"white\",\"linecolor\":\"white\",\"showbackground\":true,\"ticks\":\"\",\"zerolinecolor\":\"white\",\"gridwidth\":2},\"zaxis\":{\"backgroundcolor\":\"#E5ECF6\",\"gridcolor\":\"white\",\"linecolor\":\"white\",\"showbackground\":true,\"ticks\":\"\",\"zerolinecolor\":\"white\",\"gridwidth\":2}},\"shapedefaults\":{\"line\":{\"color\":\"#2a3f5f\"}},\"annotationdefaults\":{\"arrowcolor\":\"#2a3f5f\",\"arrowhead\":0,\"arrowwidth\":1},\"geo\":{\"bgcolor\":\"white\",\"landcolor\":\"#E5ECF6\",\"subunitcolor\":\"white\",\"showland\":true,\"showlakes\":true,\"lakecolor\":\"white\"},\"title\":{\"x\":0.05},\"mapbox\":{\"style\":\"light\"}}},\"xaxis\":{\"anchor\":\"y\",\"domain\":[0.0,1.0],\"title\":{\"text\":\"Epochs\"}},\"yaxis\":{\"anchor\":\"x\",\"domain\":[0.0,1.0],\"title\":{\"text\":\"RMSE\"}},\"legend\":{\"tracegroupgap\":0},\"title\":{\"text\":\"train RMSE vs. dev RMSE\"}},                        {\"responsive\": true}                    ).then(function(){\n",
              "                            \n",
              "var gd = document.getElementById('2607601a-49d3-4093-84cd-5ca576ee23f6');\n",
              "var x = new MutationObserver(function (mutations, observer) {{\n",
              "        var display = window.getComputedStyle(gd).display;\n",
              "        if (!display || display === 'none') {{\n",
              "            console.log([gd, 'removed!']);\n",
              "            Plotly.purge(gd);\n",
              "            observer.disconnect();\n",
              "        }}\n",
              "}});\n",
              "\n",
              "// Listen for the removal of the full notebook cells\n",
              "var notebookContainer = gd.closest('#notebook-container');\n",
              "if (notebookContainer) {{\n",
              "    x.observe(notebookContainer, {childList: true});\n",
              "}}\n",
              "\n",
              "// Listen for the clearing of the current output cell\n",
              "var outputEl = gd.closest('.output');\n",
              "if (outputEl) {{\n",
              "    x.observe(outputEl, {childList: true});\n",
              "}}\n",
              "\n",
              "                        })                };                            </script>        </div>\n",
              "</body>\n",
              "</html>"
            ]
          },
          "metadata": {}
        }
      ],
      "source": [
        "# Create the array for the x axis, starting from 1\n",
        "epochs = np.arange(1, len(history.history[\"root_mean_squared_error\"])+1)\n",
        "train_rmse = history.history[\"root_mean_squared_error\"]\n",
        "dev_rmse = history.history[\"val_root_mean_squared_error\"]\n",
        "\n",
        "# Create a line chart with two lines using Plotly Express\n",
        "fig = px.line(title='train RMSE vs. dev RMSE')\n",
        "fig.add_scatter(x=epochs, y=train_rmse, mode='lines+markers', name='Train RMSE', line=dict(color='red'))\n",
        "fig.add_scatter(x=epochs, y=dev_rmse, mode='lines+markers', name='Dev RMSE', line=dict(color='blue'))\n",
        "\n",
        "\n",
        "# Set chart title and axis labels\n",
        "fig.update_layout(\n",
        "    xaxis_title='Epochs',\n",
        "    yaxis_title='RMSE'\n",
        ")\n",
        "\n",
        "# Show the chart\n",
        "fig.show()"
      ]
    },
    {
      "cell_type": "code",
      "source": [
        "plot_shap(model_mlp, features, shap.DeepExplainer, X_train_scaled)"
      ],
      "metadata": {
        "id": "U_jUnfg3zCLS",
        "outputId": "1586baa9-f80f-4ae3-e13a-151e50c597f8",
        "colab": {
          "base_uri": "https://localhost:8080/",
          "height": 1000
        }
      },
      "id": "U_jUnfg3zCLS",
      "execution_count": 58,
      "outputs": [
        {
          "output_type": "stream",
          "name": "stderr",
          "text": [
            "/usr/local/lib/python3.10/dist-packages/shap/explainers/_deep/deep_tf.py:107: UserWarning:\n",
            "\n",
            "Your TensorFlow version is newer than 2.4.0 and so graph support has been removed in eager mode and some static graphs may not be supported. See PR #1483 for discussion.\n",
            "\n",
            "/usr/local/lib/python3.10/dist-packages/keras/backend.py:452: UserWarning:\n",
            "\n",
            "`tf.keras.backend.set_learning_phase` is deprecated and will be removed after 2020-10-11. To update it, simply pass a True/False value to the `training` argument of the `__call__` method of your layer or model.\n",
            "\n"
          ]
        },
        {
          "output_type": "display_data",
          "data": {
            "text/plain": [
              "<Figure size 800x950 with 1 Axes>"
            ],
            "image/png": "[encoded data removed]"
          },
          "metadata": {}
        }
      ]
    },
    {
      "cell_type": "code",
      "execution_count": null,
      "id": "qg2TMtxJUzVm",
      "metadata": {
        "colab": {
          "base_uri": "https://localhost:8080/"
        },
        "id": "qg2TMtxJUzVm",
        "outputId": "27112e65-201e-42f1-927e-bf8c20614373"
      },
      "outputs": [
        {
          "name": "stderr",
          "output_type": "stream",
          "text": [
            "/usr/local/lib/python3.9/dist-packages/ipykernel/ipkernel.py:283: DeprecationWarning:\n",
            "\n",
            "`should_run_async` will not call `transform_cell` automatically in the future. Please pass the result to `transformed_cell` argument and any exception that happen during thetransform in `preprocessing_exc_tuple` in IPython 7.17 and above.\n",
            "\n"
          ]
        },
        {
          "name": "stdout",
          "output_type": "stream",
          "text": [
            "92/92 [==============================] - 1s 10ms/step\n",
            "Trai RMSE: 2623.097985\n",
            "23/23 [==============================] - 0s 8ms/step\n",
            "Test RMSE: 8387.871121\n"
          ]
        }
      ],
      "source": [
        "preds_train = model.predict(X_train_scaled)\n",
        "\n",
        "# Evaluate the model's performance using RMSE\n",
        "rmse_train = np.sqrt(mean_squared_error(y_train, preds_train))\n",
        "print(\"Trai RMSE: %f\" % (rmse_train))\n",
        "\n",
        "preds_dev = model.predict(x_dev_scaled)\n",
        "\n",
        "# Evaluate the model's performance using RMSE\n",
        "rmse_dev = np.sqrt(mean_squared_error(y_dev, preds_dev))\n",
        "print(\"Dev RMSE: %f\" % (rmse_dev))"
      ]
    },
    {
      "cell_type": "markdown",
      "id": "35YvxR1B1tcY",
      "metadata": {
        "id": "35YvxR1B1tcY"
      },
      "source": [
        "<a name=\"5.4.\"></a>\n",
        "## 5.4. Recurrent Neural Network\n",
        "[Content](#content)"
      ]
    },
    {
      "cell_type": "markdown",
      "source": [
        "Lastly, we train an RNN to compare to the previous two models. A RNN can take in multiple timesteps, to make a prediction (Many-to-One). Specifically, we will feed in 4 timesteps at a time (current day and the 3 previous days) and output the prediction of the current day.\n",
        "\n",
        "Out input shape is therefore (none, 4, 21), where none represents a variable amount of training days (in our case the length of X_train)."
      ],
      "metadata": {
        "id": "sfs0s3ZGC9Wp"
      },
      "id": "sfs0s3ZGC9Wp"
    },
    {
      "cell_type": "code",
      "execution_count": null,
      "id": "J7cPlQdTzEmQ",
      "metadata": {
        "id": "J7cPlQdTzEmQ",
        "colab": {
          "base_uri": "https://localhost:8080/"
        },
        "outputId": "70daad21-ab50-4170-b52d-3b264b8d7c3e"
      },
      "outputs": [
        {
          "output_type": "stream",
          "name": "stdout",
          "text": [
            "['year', 'month', 'day', 'weekday', 'tmax', 'prcp', 'snow', 'wspd', 'pres', 'tsun', 'vacation', 'holiday_1_weihnachtsfeiertag', 'holiday_2_weihnachtsfeiertag', 'holiday_christi_himmelfahrt', 'holiday_karfreitag', 'holiday_neujahr', 'holiday_ostermontag', 'holiday_pfingstmontag', 'holiday_reformationstag', 'holiday_tag_der_arbeit', 'holiday_tag_der_deutschen_einheit']\n",
            "(2921, 21)\n",
            "(2921, 1)\n",
            "(731, 21)\n",
            "(731, 1)\n"
          ]
        },
        {
          "output_type": "stream",
          "name": "stderr",
          "text": [
            "/usr/local/lib/python3.10/dist-packages/ipykernel/ipkernel.py:283: DeprecationWarning: `should_run_async` will not call `transform_cell` automatically in the future. Please pass the result to `transformed_cell` argument and any exception that happen during thetransform in `preprocessing_exc_tuple` in IPython 7.17 and above.\n",
            "  and should_run_async(code)\n"
          ]
        }
      ],
      "source": [
        "\"\"\"\n",
        "# Load the data into a pandas dataframe\n",
        "data = df_transformed_date\n",
        "\n",
        "# Define the features and target\n",
        "# Higly correlated features have been removed (tavg, tmin, wpgt)\n",
        "# Features with no correlation have been removed (wdir)\n",
        "# Only all single couting stations are being removed\n",
        "features = [feature for feature in data.columns if feature not in [\"tavg\", \"tmin\", \"wpgt\", \"wdir\",\n",
        "                                                                    'graf_moltke_straße_ostseite', 'graf_moltke_straße_westseite',\n",
        "                                                                    'hastedter_bruckenstraße', 'langemarckstraße_ostseite',\n",
        "                                                                    'langemarckstraße_westseite', 'osterdeich', 'radweg_kleine_weser',\n",
        "                                                                    'schwachhauser_ring', 'wachmannstraße_auswarts_sud',\n",
        "                                                                    'wachmannstraße_einwarts_nord', 'wilhelm_kaisen_brucke_ost',\n",
        "                                                                    'wilhelm_kaisen_brucke_west', 'total']]\n",
        "target = ['total']\n",
        "\n",
        "print(features)\n",
        "\n",
        "# Split the data into training and dev sets\n",
        "X_train, X_dev, y_train, y_dev = train_test_split(data[features], data[target],\n",
        "                                                    test_size=0.2, shuffle=False, random_state=0)\n",
        "\n",
        "print(X_train.shape)\n",
        "print(y_train.shape)\n",
        "print(X_dev.shape)\n",
        "print(y_dev.shape)\"\"\""
      ]
    },
    {
      "cell_type": "code",
      "source": [
        "from keras.utils import timeseries_dataset_from_array\n",
        "\n",
        "input_data = X_train\n",
        "#targets = y_train[3:]\n",
        "targets = y_train\n",
        "dataset = tf.keras.utils.timeseries_dataset_from_array(\n",
        "    data=input_data, targets=targets, sequence_length=4, batch_size=None, shuffle=False)\n",
        "\n",
        "\n",
        "#print(dataset.take(10))\n",
        "\n",
        "for x,y in dataset.take(1):\n",
        "    print(x, y)\n",
        "\"\"\"\n",
        "\n",
        "#for x, y in dataset.take(10):\n",
        "#    print(x, y)\n",
        "\n",
        "y_trainnnn = tf.keras.utils.timeseries_dataset_from_array(\n",
        "    data=targets, targets=None, sequence_length=4, batch_size=None, shuffle=False)\n",
        "\n",
        "\n",
        "for y in y_trainnnn.take(10):\n",
        "    print(y)\n",
        "\n",
        "x_trainnnn.to_numpy()\"\"\"\n"
      ],
      "metadata": {
        "id": "vzzhZEanaiIt",
        "outputId": "5dd6d8dd-fbb9-483c-f3ce-0a620de43517",
        "colab": {
          "base_uri": "https://localhost:8080/",
          "height": 487
        }
      },
      "id": "vzzhZEanaiIt",
      "execution_count": null,
      "outputs": [
        {
          "output_type": "stream",
          "name": "stdout",
          "text": [
            "tf.Tensor(\n",
            "[[ 7.81831482e-01  6.23489802e-01  2.01298520e-01  9.79529941e-01\n",
            "   1.72133562e-02  9.99851839e-01  9.10000000e+00  6.90000000e+00\n",
            "   0.00000000e+00  1.94000000e+01  1.00180000e+03  0.00000000e+00\n",
            "   0.00000000e+00  0.00000000e+00  0.00000000e+00  0.00000000e+00\n",
            "   1.00000000e+00  0.00000000e+00  0.00000000e+00  0.00000000e+00\n",
            "   0.00000000e+00  0.00000000e+00  1.00000000e+00]\n",
            " [ 9.74927912e-01 -2.22520934e-01  3.94355855e-01  9.18957812e-01\n",
            "   3.44216116e-02  9.99407401e-01  7.10000000e+00  1.80000000e+00\n",
            "   0.00000000e+00  2.02000000e+01  1.01750000e+03  3.00000000e+01\n",
            "   0.00000000e+00  0.00000000e+00  0.00000000e+00  0.00000000e+00\n",
            "   0.00000000e+00  0.00000000e+00  0.00000000e+00  0.00000000e+00\n",
            "   0.00000000e+00  0.00000000e+00  1.00000000e+00]\n",
            " [ 4.33883739e-01 -9.00968868e-01  5.71268215e-01  8.20763441e-01\n",
            "   5.16196672e-02  9.98666816e-01  1.06000000e+01  9.00000000e-01\n",
            "   0.00000000e+00  2.38000000e+01  1.02450000e+03  0.00000000e+00\n",
            "   0.00000000e+00  0.00000000e+00  0.00000000e+00  0.00000000e+00\n",
            "   0.00000000e+00  0.00000000e+00  0.00000000e+00  0.00000000e+00\n",
            "   0.00000000e+00  0.00000000e+00  1.00000000e+00]\n",
            " [-4.33883739e-01 -9.00968868e-01  7.24792787e-01  6.88966919e-01\n",
            "   6.88024268e-02  9.97630305e-01  9.70000000e+00  0.00000000e+00\n",
            "   0.00000000e+00  2.52000000e+01  1.02950000e+03  0.00000000e+00\n",
            "   0.00000000e+00  0.00000000e+00  0.00000000e+00  0.00000000e+00\n",
            "   0.00000000e+00  0.00000000e+00  0.00000000e+00  0.00000000e+00\n",
            "   0.00000000e+00  0.00000000e+00  1.00000000e+00]], shape=(4, 23), dtype=float64) tf.Tensor(1228.0, shape=(), dtype=float64)\n"
          ]
        },
        {
          "output_type": "execute_result",
          "data": {
            "text/plain": [
              "'\\n\\n#for x, y in dataset.take(10):\\n#    print(x, y)\\n\\ny_trainnnn = tf.keras.utils.timeseries_dataset_from_array(\\n    data=targets, targets=None, sequence_length=4, batch_size=None, shuffle=False)\\n\\n\\nfor y in y_trainnnn.take(10):\\n    print(y)\\n\\nx_trainnnn.to_numpy()'"
            ],
            "application/vnd.google.colaboratory.intrinsic+json": {
              "type": "string"
            }
          },
          "metadata": {},
          "execution_count": 201
        }
      ]
    },
    {
      "cell_type": "code",
      "execution_count": null,
      "metadata": {
        "colab": {
          "base_uri": "https://localhost:8080/"
        },
        "outputId": "fbcfecb9-fa5d-448f-b654-204e76c36108",
        "id": "lI1NinnLJ1tc"
      },
      "outputs": [
        {
          "output_type": "stream",
          "name": "stderr",
          "text": [
            "/usr/local/lib/python3.10/dist-packages/ipykernel/ipkernel.py:283: DeprecationWarning: `should_run_async` will not call `transform_cell` automatically in the future. Please pass the result to `transformed_cell` argument and any exception that happen during thetransform in `preprocessing_exc_tuple` in IPython 7.17 and above.\n",
            "  and should_run_async(code)\n"
          ]
        }
      ],
      "source": [
        "# Standardize and fit to the training set only\n",
        "scaler = StandardScaler()\n",
        "X_train_scaled = scaler.fit_transform(X_train)\n",
        "\n",
        "# Apply the same standardization to the dev set\n",
        "X_dev_scaled = scaler.transform(X_dev)\n",
        "\n",
        "#X_train_scaled = X_train\n",
        "#_dev_scaled = X_dev"
      ],
      "id": "lI1NinnLJ1tc"
    },
    {
      "cell_type": "code",
      "source": [
        "# Define the number of timesteps\n",
        "timesteps = 4\n",
        "\n",
        "# Step 1: Create sequences of length 4\n",
        "X_train_scaled_3d, X_dev_scaled_3d = [], []\n",
        "y_train_3d, y_dev_3d = [], []\n",
        "\n",
        "for i in range(len(X_train_scaled) - timesteps + 1):\n",
        "    X_train_scaled_3d.append(X_train_scaled[i : i + timesteps])\n",
        "    y_train_3d.append(y_train[i : i + timesteps])\n",
        "\n",
        "X_train_scaled_3d = np.array(X_train_scaled_3d)\n",
        "#y_train = y_train [timesteps-1:]\n",
        "y_train_3d = np.array(y_train_3d)\n",
        "#y_train_3d = np.expand_dims(y_train_3d, axis=2)\n",
        "\n",
        "for i in range(len(X_dev_scaled) - timesteps + 1):\n",
        "    X_dev_scaled_3d.append(X_dev_scaled[i : i + timesteps])\n",
        "    y_dev_3d.append(y_dev[i : i + timesteps])\n",
        "\n",
        "X_dev_scaled_3d = np.array(X_dev_scaled_3d)\n",
        "#y_dev = y_dev [timesteps-1:]\n",
        "y_dev_3d = np.array(y_dev_3d)\n",
        "#y_dev_3d = np.expand_dims(y_dev_3d, axis=2)\n",
        "\n",
        "print(X_train_scaled_3d.shape)\n",
        "#print(y_train.shape)\n",
        "print(y_train_3d.shape)\n",
        "\n",
        "print(X_dev_scaled_3d.shape)\n",
        "#print(y_dev.shape)\n",
        "print(y_dev_3d.shape)"
      ],
      "metadata": {
        "colab": {
          "base_uri": "https://localhost:8080/"
        },
        "id": "jG3uW6OfVD4n",
        "outputId": "6e4717aa-2ac7-48c0-b498-41d057fb6224"
      },
      "id": "jG3uW6OfVD4n",
      "execution_count": 39,
      "outputs": [
        {
          "output_type": "stream",
          "name": "stdout",
          "text": [
            "(2918, 4, 23)\n",
            "(2918, 4)\n",
            "(728, 4, 23)\n",
            "(728, 4)\n"
          ]
        }
      ]
    },
    {
      "cell_type": "code",
      "source": [
        "print(X_train_scaled_3d.shape)\n",
        "X_train_scaled_3d[0]"
      ],
      "metadata": {
        "id": "rtg30jVKrzsI",
        "outputId": "349eb17a-e89f-4317-df3e-7201455a2ab2",
        "colab": {
          "base_uri": "https://localhost:8080/"
        }
      },
      "id": "rtg30jVKrzsI",
      "execution_count": null,
      "outputs": [
        {
          "output_type": "stream",
          "name": "stdout",
          "text": [
            "(2921, 1, 23)\n"
          ]
        },
        {
          "output_type": "execute_result",
          "data": {
            "text/plain": [
              "array([[ 1.10461413,  0.8817232 ,  0.28024778,  1.42493607,  0.02433919,\n",
              "         1.41327836, -0.71259085,  1.45245197, -0.13112669,  0.67096715,\n",
              "        -1.40081458, -1.06115073, -0.05240524, -0.05240524, -0.05240524,\n",
              "        -0.05240524, 19.08205964, -0.05240524, -0.05240524, -0.03703069,\n",
              "        -0.05240524, -0.05240524,  1.73086569]])"
            ]
          },
          "metadata": {},
          "execution_count": 241
        }
      ]
    },
    {
      "cell_type": "code",
      "source": [
        "print(y_train_3d.shape)\n",
        "y_train_3d[0]"
      ],
      "metadata": {
        "id": "JehbnWBGsArT",
        "outputId": "3e9e4b9e-2383-4753-b1f7-f4957dee28fb",
        "colab": {
          "base_uri": "https://localhost:8080/"
        }
      },
      "id": "JehbnWBGsArT",
      "execution_count": null,
      "outputs": [
        {
          "output_type": "stream",
          "name": "stdout",
          "text": [
            "(2921, 1)\n"
          ]
        },
        {
          "output_type": "execute_result",
          "data": {
            "text/plain": [
              "array([1228.])"
            ]
          },
          "metadata": {},
          "execution_count": 242
        }
      ]
    },
    {
      "cell_type": "code",
      "source": [
        "testing_y = np.expand_dims(y_train_3d,axis=2)\n",
        "print(testing_y.shape)\n",
        "testing_y[0:2]"
      ],
      "metadata": {
        "id": "Gg4umzElpUFh"
      },
      "id": "Gg4umzElpUFh",
      "execution_count": null,
      "outputs": []
    },
    {
      "cell_type": "code",
      "source": [
        "print(X_train_scaled_3d[0:2])\n",
        "print(y_train_3d[0:2])"
      ],
      "metadata": {
        "id": "2tfeCnmzdXW4"
      },
      "id": "2tfeCnmzdXW4",
      "execution_count": null,
      "outputs": []
    },
    {
      "cell_type": "code",
      "execution_count": 40,
      "id": "sOTf5esj1181",
      "metadata": {
        "id": "sOTf5esj1181",
        "colab": {
          "base_uri": "https://localhost:8080/"
        },
        "outputId": "f704f4f2-ec85-4fe3-df1a-ad6b03a0875e"
      },
      "outputs": [
        {
          "output_type": "stream",
          "name": "stdout",
          "text": [
            "Model: \"model\"\n",
            "_________________________________________________________________\n",
            " Layer (type)                Output Shape              Param #   \n",
            "=================================================================\n",
            " input_2 (InputLayer)        [(None, 4, 23)]           0         \n",
            "                                                                 \n",
            " bidirectional (Bidirectiona  (None, 4, 128)           45056     \n",
            " l)                                                              \n",
            "                                                                 \n",
            " bidirectional_1 (Bidirectio  (None, 4, 64)            41216     \n",
            " nal)                                                            \n",
            "                                                                 \n",
            " dense_3 (Dense)             (None, 4, 1)              65        \n",
            "                                                                 \n",
            "=================================================================\n",
            "Total params: 86,337\n",
            "Trainable params: 86,337\n",
            "Non-trainable params: 0\n",
            "_________________________________________________________________\n",
            "None\n",
            "Epoch 1/20\n",
            "92/92 [==============================] - 22s 69ms/step - loss: 33937344.0000 - root_mean_squared_error: 5825.5767 - val_loss: 12538576.0000 - val_root_mean_squared_error: 3540.9851\n",
            "Epoch 2/20\n",
            "92/92 [==============================] - 2s 24ms/step - loss: 8268104.0000 - root_mean_squared_error: 2875.4312 - val_loss: 6814315.5000 - val_root_mean_squared_error: 2610.4243\n",
            "Epoch 3/20\n",
            "92/92 [==============================] - 1s 15ms/step - loss: 4927220.0000 - root_mean_squared_error: 2219.7341 - val_loss: 4942098.0000 - val_root_mean_squared_error: 2223.0828\n",
            "Epoch 4/20\n",
            "92/92 [==============================] - 2s 20ms/step - loss: 4036016.2500 - root_mean_squared_error: 2008.9838 - val_loss: 4573027.0000 - val_root_mean_squared_error: 2138.4636\n",
            "Epoch 5/20\n",
            "92/92 [==============================] - 2s 17ms/step - loss: 3756554.5000 - root_mean_squared_error: 1938.1833 - val_loss: 4310051.0000 - val_root_mean_squared_error: 2076.0662\n",
            "Epoch 6/20\n",
            "92/92 [==============================] - 1s 15ms/step - loss: 3667684.0000 - root_mean_squared_error: 1915.1200 - val_loss: 4204165.5000 - val_root_mean_squared_error: 2050.4062\n",
            "Epoch 7/20\n",
            "92/92 [==============================] - 1s 15ms/step - loss: 3637157.5000 - root_mean_squared_error: 1907.1333 - val_loss: 3971342.7500 - val_root_mean_squared_error: 1992.8228\n",
            "Epoch 8/20\n",
            "92/92 [==============================] - 2s 22ms/step - loss: 3593751.2500 - root_mean_squared_error: 1895.7192 - val_loss: 4203892.5000 - val_root_mean_squared_error: 2050.3394\n",
            "Epoch 9/20\n",
            "92/92 [==============================] - 2s 25ms/step - loss: 3491657.5000 - root_mean_squared_error: 1868.5978 - val_loss: 3980280.2500 - val_root_mean_squared_error: 1995.0641\n",
            "Epoch 10/20\n",
            "92/92 [==============================] - 2s 17ms/step - loss: 3497485.0000 - root_mean_squared_error: 1870.1564 - val_loss: 4011590.7500 - val_root_mean_squared_error: 2002.8956\n",
            "Epoch 11/20\n",
            "92/92 [==============================] - 1s 16ms/step - loss: 3447718.7500 - root_mean_squared_error: 1856.8033 - val_loss: 4282097.0000 - val_root_mean_squared_error: 2069.3228\n",
            "Epoch 12/20\n",
            "92/92 [==============================] - 2s 17ms/step - loss: 3329932.2500 - root_mean_squared_error: 1824.8102 - val_loss: 3729061.2500 - val_root_mean_squared_error: 1931.0776\n",
            "Epoch 13/20\n",
            "92/92 [==============================] - 1s 14ms/step - loss: 3341522.2500 - root_mean_squared_error: 1827.9832 - val_loss: 4125154.0000 - val_root_mean_squared_error: 2031.0475\n",
            "Epoch 14/20\n",
            "92/92 [==============================] - 2s 17ms/step - loss: 3296219.7500 - root_mean_squared_error: 1815.5494 - val_loss: 3612387.7500 - val_root_mean_squared_error: 1900.6283\n",
            "Epoch 15/20\n",
            "92/92 [==============================] - 4s 44ms/step - loss: 3304424.7500 - root_mean_squared_error: 1817.8076 - val_loss: 3841776.5000 - val_root_mean_squared_error: 1960.0450\n",
            "Epoch 16/20\n",
            "92/92 [==============================] - 4s 41ms/step - loss: 3280650.0000 - root_mean_squared_error: 1811.2566 - val_loss: 3262484.0000 - val_root_mean_squared_error: 1806.2347\n",
            "Epoch 17/20\n",
            "92/92 [==============================] - 3s 31ms/step - loss: 3309229.2500 - root_mean_squared_error: 1819.1287 - val_loss: 3478789.2500 - val_root_mean_squared_error: 1865.1512\n",
            "Epoch 18/20\n",
            "92/92 [==============================] - 3s 31ms/step - loss: 3283485.7500 - root_mean_squared_error: 1812.0391 - val_loss: 3632841.5000 - val_root_mean_squared_error: 1906.0015\n",
            "Epoch 19/20\n",
            "92/92 [==============================] - 3s 31ms/step - loss: 3134227.7500 - root_mean_squared_error: 1770.3750 - val_loss: 3525341.2500 - val_root_mean_squared_error: 1877.5892\n",
            "Epoch 20/20\n",
            "92/92 [==============================] - 4s 39ms/step - loss: 3148246.0000 - root_mean_squared_error: 1774.3296 - val_loss: 3678131.0000 - val_root_mean_squared_error: 1917.8455\n"
          ]
        }
      ],
      "source": [
        "\"\"\"\n",
        "Simple bidrectional LSTM model\n",
        "\n",
        "\"\"\"\n",
        "\n",
        "\n",
        "num_sequence = 4\n",
        "# Build the LSTM model\n",
        "\"\"\"\n",
        "model = Sequential()\n",
        "model.add(LSTM(units=256, input_shape=(1, X_train.shape[1]), activation='relu'))\n",
        "# Add a dense output layer with a single unit (for regression) and no activation function\n",
        "model.add(Dense(units=1))\n",
        "\"\"\"\n",
        "\"\"\"\n",
        "model = tf.keras.models.Sequential([\n",
        "    # Shape [batch, time, features] => [batch, time, lstm_units]\n",
        "    tf.keras.layers.LSTM(64),\n",
        "    # Shape => [batch, time, features]\n",
        "    tf.keras.layers.Dense(units=1)\n",
        "])\n",
        "\"\"\"\n",
        "# Build the LSTM model\n",
        "\"\"\"\n",
        "model = Sequential()\n",
        "model.add(Input(shape=(num_sequence, 21)))\n",
        "model.add(LSTM(units=32, activation='relu', dropout=0.1))\n",
        "model.add(Dense(units=1, activation='linear'))\n",
        "\n",
        "model = Sequential([\n",
        "    #Input(shape=(num_sequence, 21)),\n",
        "    # Shape [batch, time, features] => [batch, time, lstm_units]\n",
        "    LSTM(32, activation='relu', dropout=0.1, return_sequences=True),\n",
        "    # Shape => [batch, time, features]\n",
        "    Dense(units=1, activation='linear')\n",
        "])\"\"\"\n",
        "\n",
        "CONV_WIDTH = 3\n",
        "\n",
        "\n",
        "\"\"\"OUT_STEPS = 4\n",
        "model = tf.keras.Sequential(\n",
        "    [\n",
        "        Input(shape=(num_sequence, 23)),\n",
        "        tf.keras.layers.Lambda(lambda x: x[:, -CONV_WIDTH:, :]),\n",
        "        tf.keras.layers.Conv1D(256, activation=\"relu\", kernel_size=(CONV_WIDTH)),\n",
        "        tf.keras.layers.Bidirectional(\n",
        "            tf.keras.layers.LSTM(32, return_sequences=True)\n",
        "        ),\n",
        "        tf.keras.layers.Bidirectional(\n",
        "            tf.keras.layers.LSTM(32, return_sequences=False)\n",
        "        ),\n",
        "        tf.keras.layers.Dense(\n",
        "            OUT_STEPS * 1, kernel_initializer=tf.initializers.zeros()\n",
        "        ),\n",
        "        tf.keras.layers.Reshape([OUT_STEPS, 1]),\n",
        "    ]\n",
        ")\n",
        "\"\"\"\n",
        "\n",
        "inputs = Input(shape=(num_sequence, 23))\n",
        "#x = tf.keras.layers.Lambda(lambda x: x[:, -CONV_WIDTH:, :])(inputs)\n",
        "#x = tf.keras.layers.Conv1D(256, activation=\"relu\", kernel_size=(CONV_WIDTH))(x)\n",
        "x = Bidirectional(LSTM(64, activation='relu', dropout=0.25, return_sequences=True))(inputs)\n",
        "x = Bidirectional(LSTM(32, activation='relu', dropout=0.25, return_sequences=True))(x)\n",
        "#x = LSTM(64, activation='relu', dropout=0.2, return_sequences=True)(inputs)\n",
        "#x = LSTM(32, activation='relu', dropout=0.2, return_sequences=True)(x)\n",
        "#x = LSTM(32, activation='relu', dropout=0.0, return_sequences=True)(x)\n",
        "outputs = Dense(1, activation='linear')(x)\n",
        "#outputs = Reshape([num_sequence, 1])(x)\n",
        "\n",
        "\"\"\"\n",
        "inputs = Input(shape=(num_sequence, 21))\n",
        "x = LSTM(64, activation='relu', dropout=0.1, return_sequences=True)(inputs)\n",
        "outputs = Dense(1, activation='linear', name=\"custom_output\")(x)\n",
        "\"\"\"\n",
        "\n",
        "model = tf.keras.Model(inputs=inputs, outputs=outputs)\n",
        "\n",
        "optimizer = Adam(learning_rate=0.001)\n",
        "model.compile(optimizer=optimizer, loss='mse', metrics=[RootMeanSquaredError()])\n",
        "\n",
        "print(model.summary())\n",
        "\n",
        "\n",
        "\n",
        "\n",
        "#X_train_scaled_3d = np.reshape(X_train_scaled, (num_samples, num_sequence, X_train_scaled.shape[1]))  # Fix variable name\n",
        "\n",
        "#num_samples = X_dev_scaled.shape[0]\n",
        "#X_dev_scaled_3d = np.reshape(X_dev_scaled, (num_samples, num_sequence, X_dev_scaled.shape[1]))\n",
        "\n",
        "# Train the model\n",
        "#X_train_scaled_3d = np.expand_dims(X_train_scaled_3d[0], axis=0)\n",
        "#y_train_3d = np.expand_dims(y_train_3d[0], axis=0)\n",
        "#print(X_train_scaled_3d)\n",
        "#print(y_train_3d)\n",
        "#print(testing_y.shape)\n",
        "\n",
        "#X = X_train_scaled_3d.reshape((X_train_scaled_3d.shape[0], 2, 1, 2, 23))\n",
        "#Xdev = X_dev_scaled_3d.reshape((X_dev_scaled_3d.shape[0], 2, 1, 2, 23))\n",
        "\n",
        "\n",
        "#history = model.fit(X_train_scaled_3d, testing_y, epochs=10, batch_size=32, verbose=2, validation_data=(X_dev_scaled_3d, y_dev_3d))\n",
        "#history = model.fit(X, y_train_3d, epochs=50, batch_size=32, validation_data=(Xdev, y_dev_3d))\n",
        "\n",
        "history = model.fit(X_train_scaled_3d, y_train_3d, epochs=20, batch_size=32, validation_data=(X_dev_scaled_3d, y_dev_3d))\n",
        "#history = model.fit(dataset, epochs=10, batch_size=32, verbose=2, validation_data=(X_dev_scaled_3d, y_dev_3d))\n",
        "#history = model.fit(x_trainnnn, y_trainnnn, epochs=10, batch_size=32, verbose=2)\n",
        "\n",
        "#validation_data=(X_dev_scaled, y_dev)\n",
        "\n",
        "#output = model.predict(X_train_scaled_3d)\n",
        "#output = model.predict(X_train_scaled_3d)\n",
        "#intermediate_model = tf.keras.Model(inputs=model.input, outputs=model.get_layer(\"custom_output\").output)\n",
        "#intermediate_model.predict(X_train_scaled_3d)\n",
        "\n",
        "\n"
      ]
    },
    {
      "cell_type": "code",
      "source": [
        "plot_shap(model, features, shap.DeepExplainer, X_train_scaled)"
      ],
      "metadata": {
        "id": "bknaeYqCzvSj",
        "outputId": "bb50c09e-afc6-4089-9769-9c9f3d35baab",
        "colab": {
          "base_uri": "https://localhost:8080/",
          "height": 339
        }
      },
      "id": "bknaeYqCzvSj",
      "execution_count": 59,
      "outputs": [
        {
          "output_type": "error",
          "ename": "AssertionError",
          "evalue": "ignored",
          "traceback": [
            "\u001b[0;31m---------------------------------------------------------------------------\u001b[0m",
            "\u001b[0;31mAssertionError\u001b[0m                            Traceback (most recent call last)",
            "\u001b[0;32m<ipython-input-59-a856e6ed7443>\u001b[0m in \u001b[0;36m<cell line: 1>\u001b[0;34m()\u001b[0m\n\u001b[0;32m----> 1\u001b[0;31m \u001b[0mplot_shap\u001b[0m\u001b[0;34m(\u001b[0m\u001b[0mmodel\u001b[0m\u001b[0;34m,\u001b[0m \u001b[0mfeatures\u001b[0m\u001b[0;34m,\u001b[0m \u001b[0mshap\u001b[0m\u001b[0;34m.\u001b[0m\u001b[0mDeepExplainer\u001b[0m\u001b[0;34m,\u001b[0m \u001b[0mX_train_scaled\u001b[0m\u001b[0;34m)\u001b[0m\u001b[0;34m\u001b[0m\u001b[0;34m\u001b[0m\u001b[0m\n\u001b[0m",
            "\u001b[0;32m<ipython-input-56-a31633ac9469>\u001b[0m in \u001b[0;36mplot_shap\u001b[0;34m(model, features, explainer_method, df)\u001b[0m\n\u001b[1;32m      4\u001b[0m \u001b[0;34m\u001b[0m\u001b[0m\n\u001b[1;32m      5\u001b[0m     \u001b[0;31m# Explain model predictions using shap library:\u001b[0m\u001b[0;34m\u001b[0m\u001b[0;34m\u001b[0m\u001b[0m\n\u001b[0;32m----> 6\u001b[0;31m     \u001b[0mexplainer\u001b[0m \u001b[0;34m=\u001b[0m \u001b[0mexplainer_method\u001b[0m\u001b[0;34m(\u001b[0m\u001b[0mmodel\u001b[0m\u001b[0;34m,\u001b[0m \u001b[0mdf\u001b[0m\u001b[0;34m)\u001b[0m\u001b[0;34m\u001b[0m\u001b[0;34m\u001b[0m\u001b[0m\n\u001b[0m\u001b[1;32m      7\u001b[0m     \u001b[0mshap_values\u001b[0m \u001b[0;34m=\u001b[0m \u001b[0mexplainer\u001b[0m\u001b[0;34m.\u001b[0m\u001b[0mshap_values\u001b[0m\u001b[0;34m(\u001b[0m\u001b[0mX_importance\u001b[0m\u001b[0;34m)\u001b[0m\u001b[0;34m\u001b[0m\u001b[0;34m\u001b[0m\u001b[0m\n\u001b[1;32m      8\u001b[0m \u001b[0;34m\u001b[0m\u001b[0m\n",
            "\u001b[0;32m/usr/local/lib/python3.10/dist-packages/shap/explainers/_deep/__init__.py\u001b[0m in \u001b[0;36m__init__\u001b[0;34m(self, model, data, session, learning_phase_flags)\u001b[0m\n\u001b[1;32m     82\u001b[0m \u001b[0;34m\u001b[0m\u001b[0m\n\u001b[1;32m     83\u001b[0m         \u001b[0;32mif\u001b[0m \u001b[0mframework\u001b[0m \u001b[0;34m==\u001b[0m \u001b[0;34m'tensorflow'\u001b[0m\u001b[0;34m:\u001b[0m\u001b[0;34m\u001b[0m\u001b[0;34m\u001b[0m\u001b[0m\n\u001b[0;32m---> 84\u001b[0;31m             \u001b[0mself\u001b[0m\u001b[0;34m.\u001b[0m\u001b[0mexplainer\u001b[0m \u001b[0;34m=\u001b[0m \u001b[0mTFDeep\u001b[0m\u001b[0;34m(\u001b[0m\u001b[0mmodel\u001b[0m\u001b[0;34m,\u001b[0m \u001b[0mdata\u001b[0m\u001b[0;34m,\u001b[0m \u001b[0msession\u001b[0m\u001b[0;34m,\u001b[0m \u001b[0mlearning_phase_flags\u001b[0m\u001b[0;34m)\u001b[0m\u001b[0;34m\u001b[0m\u001b[0;34m\u001b[0m\u001b[0m\n\u001b[0m\u001b[1;32m     85\u001b[0m         \u001b[0;32melif\u001b[0m \u001b[0mframework\u001b[0m \u001b[0;34m==\u001b[0m \u001b[0;34m'pytorch'\u001b[0m\u001b[0;34m:\u001b[0m\u001b[0;34m\u001b[0m\u001b[0;34m\u001b[0m\u001b[0m\n\u001b[1;32m     86\u001b[0m             \u001b[0mself\u001b[0m\u001b[0;34m.\u001b[0m\u001b[0mexplainer\u001b[0m \u001b[0;34m=\u001b[0m \u001b[0mPyTorchDeep\u001b[0m\u001b[0;34m(\u001b[0m\u001b[0mmodel\u001b[0m\u001b[0;34m,\u001b[0m \u001b[0mdata\u001b[0m\u001b[0;34m)\u001b[0m\u001b[0;34m\u001b[0m\u001b[0;34m\u001b[0m\u001b[0m\n",
            "\u001b[0;32m/usr/local/lib/python3.10/dist-packages/shap/explainers/_deep/deep_tf.py\u001b[0m in \u001b[0;36m__init__\u001b[0;34m(self, model, data, session, learning_phase_flags)\u001b[0m\n\u001b[1;32m    111\u001b[0m         \u001b[0mself\u001b[0m\u001b[0;34m.\u001b[0m\u001b[0mmodel_output\u001b[0m \u001b[0;34m=\u001b[0m \u001b[0m_get_model_output\u001b[0m\u001b[0;34m(\u001b[0m\u001b[0mmodel\u001b[0m\u001b[0;34m)\u001b[0m\u001b[0;34m\u001b[0m\u001b[0;34m\u001b[0m\u001b[0m\n\u001b[1;32m    112\u001b[0m         \u001b[0;32massert\u001b[0m \u001b[0mtype\u001b[0m\u001b[0;34m(\u001b[0m\u001b[0mself\u001b[0m\u001b[0;34m.\u001b[0m\u001b[0mmodel_output\u001b[0m\u001b[0;34m)\u001b[0m \u001b[0;34m!=\u001b[0m \u001b[0mlist\u001b[0m\u001b[0;34m,\u001b[0m \u001b[0;34m\"The model output to be explained must be a single tensor!\"\u001b[0m\u001b[0;34m\u001b[0m\u001b[0;34m\u001b[0m\u001b[0m\n\u001b[0;32m--> 113\u001b[0;31m         \u001b[0;32massert\u001b[0m \u001b[0mlen\u001b[0m\u001b[0;34m(\u001b[0m\u001b[0mself\u001b[0m\u001b[0;34m.\u001b[0m\u001b[0mmodel_output\u001b[0m\u001b[0;34m.\u001b[0m\u001b[0mshape\u001b[0m\u001b[0;34m)\u001b[0m \u001b[0;34m<\u001b[0m \u001b[0;36m3\u001b[0m\u001b[0;34m,\u001b[0m \u001b[0;34m\"The model output must be a vector or a single value!\"\u001b[0m\u001b[0;34m\u001b[0m\u001b[0;34m\u001b[0m\u001b[0m\n\u001b[0m\u001b[1;32m    114\u001b[0m         \u001b[0mself\u001b[0m\u001b[0;34m.\u001b[0m\u001b[0mmulti_output\u001b[0m \u001b[0;34m=\u001b[0m \u001b[0;32mTrue\u001b[0m\u001b[0;34m\u001b[0m\u001b[0;34m\u001b[0m\u001b[0m\n\u001b[1;32m    115\u001b[0m         \u001b[0;32mif\u001b[0m \u001b[0mlen\u001b[0m\u001b[0;34m(\u001b[0m\u001b[0mself\u001b[0m\u001b[0;34m.\u001b[0m\u001b[0mmodel_output\u001b[0m\u001b[0;34m.\u001b[0m\u001b[0mshape\u001b[0m\u001b[0;34m)\u001b[0m \u001b[0;34m==\u001b[0m \u001b[0;36m1\u001b[0m\u001b[0;34m:\u001b[0m\u001b[0;34m\u001b[0m\u001b[0;34m\u001b[0m\u001b[0m\n",
            "\u001b[0;31mAssertionError\u001b[0m: The model output must be a vector or a single value!"
          ]
        }
      ]
    },
    {
      "cell_type": "code",
      "source": [
        "explainer = shap.DeepExplainer(model, X_train_scaled)"
      ],
      "metadata": {
        "id": "EhzapMEY4Cyy",
        "outputId": "8e9f1899-ddb5-4573-872b-418aea0b5486",
        "colab": {
          "base_uri": "https://localhost:8080/",
          "height": 428
        }
      },
      "id": "EhzapMEY4Cyy",
      "execution_count": 62,
      "outputs": [
        {
          "output_type": "stream",
          "name": "stderr",
          "text": [
            "/usr/local/lib/python3.10/dist-packages/shap/explainers/_deep/deep_tf.py:107: UserWarning:\n",
            "\n",
            "Your TensorFlow version is newer than 2.4.0 and so graph support has been removed in eager mode and some static graphs may not be supported. See PR #1483 for discussion.\n",
            "\n"
          ]
        },
        {
          "output_type": "error",
          "ename": "AssertionError",
          "evalue": "ignored",
          "traceback": [
            "\u001b[0;31m---------------------------------------------------------------------------\u001b[0m",
            "\u001b[0;31mAssertionError\u001b[0m                            Traceback (most recent call last)",
            "\u001b[0;32m<ipython-input-62-7c6275bdb44e>\u001b[0m in \u001b[0;36m<cell line: 1>\u001b[0;34m()\u001b[0m\n\u001b[0;32m----> 1\u001b[0;31m \u001b[0mexplainer\u001b[0m \u001b[0;34m=\u001b[0m \u001b[0mshap\u001b[0m\u001b[0;34m.\u001b[0m\u001b[0mDeepExplainer\u001b[0m\u001b[0;34m(\u001b[0m\u001b[0mmodel\u001b[0m\u001b[0;34m,\u001b[0m \u001b[0mX_train_scaled\u001b[0m\u001b[0;34m)\u001b[0m\u001b[0;34m\u001b[0m\u001b[0;34m\u001b[0m\u001b[0m\n\u001b[0m",
            "\u001b[0;32m/usr/local/lib/python3.10/dist-packages/shap/explainers/_deep/__init__.py\u001b[0m in \u001b[0;36m__init__\u001b[0;34m(self, model, data, session, learning_phase_flags)\u001b[0m\n\u001b[1;32m     82\u001b[0m \u001b[0;34m\u001b[0m\u001b[0m\n\u001b[1;32m     83\u001b[0m         \u001b[0;32mif\u001b[0m \u001b[0mframework\u001b[0m \u001b[0;34m==\u001b[0m \u001b[0;34m'tensorflow'\u001b[0m\u001b[0;34m:\u001b[0m\u001b[0;34m\u001b[0m\u001b[0;34m\u001b[0m\u001b[0m\n\u001b[0;32m---> 84\u001b[0;31m             \u001b[0mself\u001b[0m\u001b[0;34m.\u001b[0m\u001b[0mexplainer\u001b[0m \u001b[0;34m=\u001b[0m \u001b[0mTFDeep\u001b[0m\u001b[0;34m(\u001b[0m\u001b[0mmodel\u001b[0m\u001b[0;34m,\u001b[0m \u001b[0mdata\u001b[0m\u001b[0;34m,\u001b[0m \u001b[0msession\u001b[0m\u001b[0;34m,\u001b[0m \u001b[0mlearning_phase_flags\u001b[0m\u001b[0;34m)\u001b[0m\u001b[0;34m\u001b[0m\u001b[0;34m\u001b[0m\u001b[0m\n\u001b[0m\u001b[1;32m     85\u001b[0m         \u001b[0;32melif\u001b[0m \u001b[0mframework\u001b[0m \u001b[0;34m==\u001b[0m \u001b[0;34m'pytorch'\u001b[0m\u001b[0;34m:\u001b[0m\u001b[0;34m\u001b[0m\u001b[0;34m\u001b[0m\u001b[0m\n\u001b[1;32m     86\u001b[0m             \u001b[0mself\u001b[0m\u001b[0;34m.\u001b[0m\u001b[0mexplainer\u001b[0m \u001b[0;34m=\u001b[0m \u001b[0mPyTorchDeep\u001b[0m\u001b[0;34m(\u001b[0m\u001b[0mmodel\u001b[0m\u001b[0;34m,\u001b[0m \u001b[0mdata\u001b[0m\u001b[0;34m)\u001b[0m\u001b[0;34m\u001b[0m\u001b[0;34m\u001b[0m\u001b[0m\n",
            "\u001b[0;32m/usr/local/lib/python3.10/dist-packages/shap/explainers/_deep/deep_tf.py\u001b[0m in \u001b[0;36m__init__\u001b[0;34m(self, model, data, session, learning_phase_flags)\u001b[0m\n\u001b[1;32m    111\u001b[0m         \u001b[0mself\u001b[0m\u001b[0;34m.\u001b[0m\u001b[0mmodel_output\u001b[0m \u001b[0;34m=\u001b[0m \u001b[0m_get_model_output\u001b[0m\u001b[0;34m(\u001b[0m\u001b[0mmodel\u001b[0m\u001b[0;34m)\u001b[0m\u001b[0;34m\u001b[0m\u001b[0;34m\u001b[0m\u001b[0m\n\u001b[1;32m    112\u001b[0m         \u001b[0;32massert\u001b[0m \u001b[0mtype\u001b[0m\u001b[0;34m(\u001b[0m\u001b[0mself\u001b[0m\u001b[0;34m.\u001b[0m\u001b[0mmodel_output\u001b[0m\u001b[0;34m)\u001b[0m \u001b[0;34m!=\u001b[0m \u001b[0mlist\u001b[0m\u001b[0;34m,\u001b[0m \u001b[0;34m\"The model output to be explained must be a single tensor!\"\u001b[0m\u001b[0;34m\u001b[0m\u001b[0;34m\u001b[0m\u001b[0m\n\u001b[0;32m--> 113\u001b[0;31m         \u001b[0;32massert\u001b[0m \u001b[0mlen\u001b[0m\u001b[0;34m(\u001b[0m\u001b[0mself\u001b[0m\u001b[0;34m.\u001b[0m\u001b[0mmodel_output\u001b[0m\u001b[0;34m.\u001b[0m\u001b[0mshape\u001b[0m\u001b[0;34m)\u001b[0m \u001b[0;34m<\u001b[0m \u001b[0;36m3\u001b[0m\u001b[0;34m,\u001b[0m \u001b[0;34m\"The model output must be a vector or a single value!\"\u001b[0m\u001b[0;34m\u001b[0m\u001b[0;34m\u001b[0m\u001b[0m\n\u001b[0m\u001b[1;32m    114\u001b[0m         \u001b[0mself\u001b[0m\u001b[0;34m.\u001b[0m\u001b[0mmulti_output\u001b[0m \u001b[0;34m=\u001b[0m \u001b[0;32mTrue\u001b[0m\u001b[0;34m\u001b[0m\u001b[0;34m\u001b[0m\u001b[0m\n\u001b[1;32m    115\u001b[0m         \u001b[0;32mif\u001b[0m \u001b[0mlen\u001b[0m\u001b[0;34m(\u001b[0m\u001b[0mself\u001b[0m\u001b[0;34m.\u001b[0m\u001b[0mmodel_output\u001b[0m\u001b[0;34m.\u001b[0m\u001b[0mshape\u001b[0m\u001b[0;34m)\u001b[0m \u001b[0;34m==\u001b[0m \u001b[0;36m1\u001b[0m\u001b[0;34m:\u001b[0m\u001b[0;34m\u001b[0m\u001b[0;34m\u001b[0m\u001b[0m\n",
            "\u001b[0;31mAssertionError\u001b[0m: The model output must be a vector or a single value!"
          ]
        }
      ]
    },
    {
      "cell_type": "code",
      "execution_count": null,
      "metadata": {
        "id": "t-QSP6ba9x2S"
      },
      "outputs": [],
      "source": [
        "\"\"\"\n",
        "Complex model takes very long and val score is not much better. It overfitted\n",
        "Epoch 50/50\n",
        "92/92 [==============================] - 25s 273ms/step - loss: 1557592.7500 - root_mean_squared_error: 1248.0355 - val_loss: 2976063.0000 - val_root_mean_squared_error: 1725.1270\n",
        "\"\"\"\n",
        "\n",
        "\n",
        "#num_samples = len(X_train_scaled_3d)\n",
        "num_sequence = 4\n",
        "# Build the LSTM model\n",
        "\n",
        "CONV_WIDTH = 3\n",
        "\n",
        "model = tf.keras.Sequential(\n",
        "        [\n",
        "            tf.keras.layers.ConvLSTM2D(filters=512, kernel_size=(1,2), activation='relu', dropout=0.2, input_shape=(2, 1, 2, 23)),\n",
        "            tf.keras.layers.Dense(\n",
        "                num_sequence, kernel_initializer=tf.initializers.zeros()\n",
        "            ),\n",
        "            tf.keras.layers.Reshape([num_sequence, 1]),\n",
        "        ]\n",
        "    )\n",
        "\n",
        "optimizer = Adam(learning_rate=0.01)\n",
        "model.compile(optimizer=optimizer, loss='mse', metrics=[RootMeanSquaredError()])\n",
        "\n",
        "print(model.summary())\n",
        "\n",
        "X = X_train_scaled_3d.reshape((X_train_scaled_3d.shape[0], 2, 1, 2, 23))\n",
        "Xdev = X_dev_scaled_3d.reshape((X_dev_scaled_3d.shape[0], 2, 1, 2, 23))\n",
        "\n",
        "history = model.fit(X, y_train_3d, epochs=50, batch_size=32, validation_data=(Xdev, y_dev_3d))"
      ],
      "id": "t-QSP6ba9x2S"
    },
    {
      "cell_type": "code",
      "source": [
        "# Create the array for the x axis, starting from 1\n",
        "epochs = np.arange(1, len(history.history[\"root_mean_squared_error\"])+1)\n",
        "train_rmse = history.history[\"root_mean_squared_error\"]\n",
        "dev_rmse = history.history[\"val_root_mean_squared_error\"]\n",
        "\n",
        "# Create a line chart with two lines using Plotly Express\n",
        "fig = px.line(title='train RMSE vs. dev RMSE')\n",
        "fig.add_scatter(x=epochs, y=train_rmse, mode='lines+markers', name='Train RMSE', line=dict(color='red'))\n",
        "fig.add_scatter(x=epochs, y=dev_rmse, mode='lines+markers', name='Dev RMSE', line=dict(color='blue'))\n",
        "\n",
        "\n",
        "# Set chart title and axis labels\n",
        "fig.update_layout(\n",
        "    xaxis_title='Epochs',\n",
        "    yaxis_title='RMSE'\n",
        ")\n",
        "\n",
        "# Show the chart\n",
        "fig.show()"
      ],
      "metadata": {
        "id": "7i6bKNcPps07",
        "outputId": "d133587b-9b1b-4c9e-d93c-497f20405874",
        "colab": {
          "base_uri": "https://localhost:8080/",
          "height": 542
        }
      },
      "id": "7i6bKNcPps07",
      "execution_count": null,
      "outputs": [
        {
          "output_type": "display_data",
          "data": {
            "text/html": [
              "<html>\n",
              "<head><meta charset=\"utf-8\" /></head>\n",
              "<body>\n",
              "    <div>            <script src=\"https://cdnjs.cloudflare.com/ajax/libs/mathjax/2.7.5/MathJax.js?config=TeX-AMS-MML_SVG\"></script><script type=\"text/javascript\">if (window.MathJax && window.MathJax.Hub && window.MathJax.Hub.Config) {window.MathJax.Hub.Config({SVG: {font: \"STIX-Web\"}});}</script>                <script type=\"text/javascript\">window.PlotlyConfig = {MathJaxConfig: 'local'};</script>\n",
              "        <script charset=\"utf-8\" src=\"https://cdn.plot.ly/plotly-2.24.1.min.js\"></script>                <div id=\"8653c762-4b5a-42d1-b11b-a48cd98a1a0a\" class=\"plotly-graph-div\" style=\"height:525px; width:100%;\"></div>            <script type=\"text/javascript\">                                    window.PLOTLYENV=window.PLOTLYENV || {};                                    if (document.getElementById(\"8653c762-4b5a-42d1-b11b-a48cd98a1a0a\")) {                    Plotly.newPlot(                        \"8653c762-4b5a-42d1-b11b-a48cd98a1a0a\",                        [{\"hovertemplate\":\"\\u003cextra\\u003e\\u003c\\u002fextra\\u003e\",\"legendgroup\":\"\",\"line\":{\"color\":\"#636efa\",\"dash\":\"solid\"},\"marker\":{\"symbol\":\"circle\"},\"mode\":\"lines\",\"name\":\"\",\"orientation\":\"v\",\"showlegend\":false,\"xaxis\":\"x\",\"yaxis\":\"y\",\"type\":\"scatter\"},{\"line\":{\"color\":\"red\"},\"mode\":\"lines+markers\",\"name\":\"Train RMSE\",\"x\":[1,2,3,4,5,6,7,8,9,10,11,12,13,14,15,16,17,18,19,20,21,22,23,24,25,26,27,28,29,30,31,32,33,34,35,36,37,38,39,40,41,42,43,44,45,46,47,48,49,50,51,52,53,54,55,56,57,58,59,60,61,62,63,64,65,66,67,68,69,70,71,72,73,74,75,76,77,78,79,80,81,82,83,84,85,86,87,88,89,90,91,92,93,94,95,96,97,98,99,100,101,102,103,104,105,106,107,108,109,110,111,112,113,114,115,116,117,118,119,120,121,122,123,124,125,126,127,128,129,130,131,132,133,134,135,136,137,138,139,140,141,142,143,144,145,146,147,148,149,150,151,152,153,154,155,156,157,158,159,160,161,162,163,164,165,166,167,168,169,170,171,172,173,174,175,176,177,178,179,180,181,182,183,184,185,186,187,188,189,190,191,192,193,194,195,196,197,198,199,200],\"y\":[5845.23583984375,2867.305419921875,2190.693359375,2005.33056640625,1964.891357421875,1939.4405517578125,1933.3011474609375,1894.2603759765625,1878.0760498046875,1858.5946044921875,1832.86962890625,1844.0064697265625,1835.417236328125,1805.5977783203125,1801.4241943359375,1807.6475830078125,1802.26025390625,1795.325927734375,1780.3377685546875,1770.615234375,1775.298583984375,1762.1474609375,1777.5372314453125,1779.599365234375,1751.7763671875,1748.93310546875,1758.6634521484375,1728.400390625,1735.29248046875,1741.21240234375,1721.7362060546875,1721.2979736328125,1698.3663330078125,1717.3262939453125,1727.51123046875,1714.5684814453125,1711.1954345703125,1698.9285888671875,1688.026611328125,1694.0091552734375,1690.43994140625,1676.152099609375,1668.2757568359375,1685.212158203125,1666.96875,1670.1890869140625,1662.22412109375,1654.9022216796875,1660.4478759765625,1658.5323486328125,1646.0411376953125,1637.3045654296875,1687.06640625,1679.60205078125,1649.2119140625,1650.1063232421875,1647.2427978515625,1638.51318359375,1659.4119873046875,1636.40087890625,1639.2723388671875,1627.773681640625,1629.960205078125,1625.9580078125,1635.8338623046875,1638.005615234375,1632.276123046875,1624.004638671875,1621.728271484375,1604.1385498046875,1600.38623046875,1594.241455078125,1596.082275390625,1582.5782470703125,1578.701416015625,1588.010986328125,1582.5263671875,1553.5916748046875,1577.0291748046875,1575.5843505859375,1573.0555419921875,1556.9564208984375,1551.6119384765625,1536.9007568359375,1541.8536376953125,1557.536376953125,1547.5096435546875,1531.4432373046875,1539.8109130859375,1530.4287109375,1540.091796875,1528.182861328125,1530.79296875,1532.553955078125,1518.0015869140625,1530.0377197265625,1531.5631103515625,1535.6568603515625,1528.4993896484375,1508.1971435546875,1522.1995849609375,1519.0980224609375,1516.383056640625,1523.9449462890625,1512.0599365234375,1504.895751953125,1514.2281494140625,1506.62744140625,1504.7635498046875,1515.29541015625,1496.6524658203125,1499.9837646484375,1512.646484375,1503.2467041015625,1535.634521484375,1505.11572265625,1518.628173828125,1505.220703125,1489.79150390625,1490.892578125,1497.1417236328125,1496.36083984375,1489.7403564453125,1493.0899658203125,1482.89306640625,1478.0482177734375,1468.393798828125,1477.6610107421875,1480.7713623046875,1503.6009521484375,1485.70068359375,1474.0701904296875,1466.347900390625,1468.87255859375,1462.2774658203125,1474.2767333984375,1467.0892333984375,1462.9039306640625,1467.987060546875,1455.551025390625,1465.376708984375,1462.7825927734375,1449.817138671875,1469.9964599609375,1454.5943603515625,1462.521728515625,1454.627197265625,1451.809814453125,1454.521484375,1463.9814453125,1454.170654296875,1442.9547119140625,1441.6103515625,1448.7781982421875,1449.0701904296875,1431.9644775390625,1449.4248046875,1455.63671875,1454.815673828125,1454.1466064453125,1443.756591796875,1443.4322509765625,1430.7357177734375,1440.608154296875,1437.931884765625,1437.08740234375,1428.48388671875,1441.8046875,1433.345703125,1432.3597412109375,1429.4267578125,1428.98193359375,1428.3272705078125,1437.8011474609375,1423.3016357421875,1430.6483154296875,1413.5653076171875,1428.7252197265625,1427.80908203125,1417.6033935546875,1414.5618896484375,1426.7474365234375,1413.1766357421875,1421.835205078125,1414.9573974609375,1416.563720703125,1428.0101318359375,1415.5985107421875,1415.812255859375,1398.9744873046875,1417.8277587890625,1397.1514892578125,1396.3807373046875,1401.98046875,1408.6505126953125,1399.55517578125,1399.9993896484375,1406.8416748046875,1396.1229248046875,1399.3411865234375],\"type\":\"scatter\"},{\"line\":{\"color\":\"blue\"},\"mode\":\"lines+markers\",\"name\":\"Dev RMSE\",\"x\":[1,2,3,4,5,6,7,8,9,10,11,12,13,14,15,16,17,18,19,20,21,22,23,24,25,26,27,28,29,30,31,32,33,34,35,36,37,38,39,40,41,42,43,44,45,46,47,48,49,50,51,52,53,54,55,56,57,58,59,60,61,62,63,64,65,66,67,68,69,70,71,72,73,74,75,76,77,78,79,80,81,82,83,84,85,86,87,88,89,90,91,92,93,94,95,96,97,98,99,100,101,102,103,104,105,106,107,108,109,110,111,112,113,114,115,116,117,118,119,120,121,122,123,124,125,126,127,128,129,130,131,132,133,134,135,136,137,138,139,140,141,142,143,144,145,146,147,148,149,150,151,152,153,154,155,156,157,158,159,160,161,162,163,164,165,166,167,168,169,170,171,172,173,174,175,176,177,178,179,180,181,182,183,184,185,186,187,188,189,190,191,192,193,194,195,196,197,198,199,200],\"y\":[3591.800537109375,2672.457275390625,2306.130859375,2254.775390625,2041.7020263671875,2138.40283203125,2012.271240234375,1972.968994140625,1961.26806640625,2026.1546630859375,1960.11767578125,1934.2418212890625,1915.66064453125,1918.55078125,1876.447265625,1863.63427734375,1908.1190185546875,1922.200927734375,1865.0185546875,1930.636962890625,1857.2689208984375,1864.5634765625,1952.26416015625,1782.43603515625,1860.77880859375,1792.43798828125,1810.8050537109375,1821.8133544921875,1904.99365234375,1792.3419189453125,1807.2689208984375,1840.9102783203125,1808.191162109375,1881.394775390625,1815.2464599609375,1753.40087890625,1853.859130859375,1757.0343017578125,1778.508056640625,1774.7232666015625,1782.933349609375,1855.954345703125,1820.49072265625,1883.61083984375,1795.966552734375,1762.419189453125,1862.1690673828125,1885.86669921875,1729.248779296875,1762.85498046875,1793.7557373046875,1765.5106201171875,1769.7342529296875,1716.63623046875,1746.38134765625,1776.3143310546875,1745.7430419921875,1761.6885986328125,1778.7801513671875,1783.6331787109375,1799.2322998046875,1720.0982666015625,1716.329833984375,1783.96533203125,1779.8892822265625,1852.3924560546875,1755.235595703125,1686.475341796875,1839.865966796875,1704.0255126953125,1799.9044189453125,1715.6856689453125,1772.0789794921875,1688.4886474609375,1748.3277587890625,1687.3831787109375,1689.16552734375,1769.4224853515625,1776.874267578125,1795.7718505859375,1679.994384765625,1767.515380859375,1753.48828125,1703.975830078125,1692.600341796875,1700.185546875,1667.0670166015625,1789.021728515625,1635.3013916015625,1678.176025390625,1728.26953125,1718.7789306640625,1730.8863525390625,1650.76220703125,1636.791015625,1710.0576171875,1657.5648193359375,1751.6455078125,1780.448974609375,1678.8585205078125,1681.9339599609375,1675.4290771484375,1655.0853271484375,1688.888427734375,1726.9849853515625,1693.80029296875,1716.56396484375,1703.5089111328125,1645.036865234375,1671.756591796875,1681.9073486328125,1718.007568359375,1685.5029296875,1672.1458740234375,1827.7891845703125,1701.2310791015625,1757.697265625,1749.792724609375,1652.3809814453125,1676.714111328125,1746.9195556640625,1732.5548095703125,1708.905029296875,1777.546142578125,1768.109619140625,1872.818115234375,1782.8248291015625,1661.439697265625,1766.577392578125,1813.2760009765625,1714.460205078125,1725.4835205078125,1781.175048828125,1795.980224609375,1733.92333984375,1706.70068359375,1718.9154052734375,1843.4251708984375,1682.6121826171875,1737.3944091796875,1815.3341064453125,1769.6806640625,1697.7332763671875,1737.416015625,1825.431396484375,1865.32373046875,1731.7266845703125,1719.7991943359375,1834.1419677734375,1759.738525390625,1798.32421875,1710.773681640625,1751.8626708984375,1784.2794189453125,1766.7529296875,1808.7064208984375,1779.2396240234375,1869.961181640625,1830.3873291015625,1865.8822021484375,1800.091796875,1817.0379638671875,1686.220458984375,1727.7950439453125,1756.1168212890625,1772.218017578125,1723.720703125,1873.092529296875,1922.981201171875,1873.8643798828125,1792.5692138671875,1807.66943359375,1898.4559326171875,1767.24365234375,1822.5888671875,1868.3931884765625,1845.226806640625,1860.5654296875,1830.0516357421875,1724.0311279296875,1790.8568115234375,1829.3924560546875,1879.6075439453125,1911.009033203125,1749.078857421875,1879.2742919921875,1771.2276611328125,1699.8773193359375,1887.4510498046875,1807.477294921875,1767.634521484375,1734.086181640625,1727.5611572265625,1889.928955078125,1807.790771484375,1808.6544189453125,1794.270751953125,1820.470703125,1769.1439208984375,1817.3309326171875],\"type\":\"scatter\"}],                        {\"template\":{\"data\":{\"histogram2dcontour\":[{\"type\":\"histogram2dcontour\",\"colorbar\":{\"outlinewidth\":0,\"ticks\":\"\"},\"colorscale\":[[0.0,\"#0d0887\"],[0.1111111111111111,\"#46039f\"],[0.2222222222222222,\"#7201a8\"],[0.3333333333333333,\"#9c179e\"],[0.4444444444444444,\"#bd3786\"],[0.5555555555555556,\"#d8576b\"],[0.6666666666666666,\"#ed7953\"],[0.7777777777777778,\"#fb9f3a\"],[0.8888888888888888,\"#fdca26\"],[1.0,\"#f0f921\"]]}],\"choropleth\":[{\"type\":\"choropleth\",\"colorbar\":{\"outlinewidth\":0,\"ticks\":\"\"}}],\"histogram2d\":[{\"type\":\"histogram2d\",\"colorbar\":{\"outlinewidth\":0,\"ticks\":\"\"},\"colorscale\":[[0.0,\"#0d0887\"],[0.1111111111111111,\"#46039f\"],[0.2222222222222222,\"#7201a8\"],[0.3333333333333333,\"#9c179e\"],[0.4444444444444444,\"#bd3786\"],[0.5555555555555556,\"#d8576b\"],[0.6666666666666666,\"#ed7953\"],[0.7777777777777778,\"#fb9f3a\"],[0.8888888888888888,\"#fdca26\"],[1.0,\"#f0f921\"]]}],\"heatmap\":[{\"type\":\"heatmap\",\"colorbar\":{\"outlinewidth\":0,\"ticks\":\"\"},\"colorscale\":[[0.0,\"#0d0887\"],[0.1111111111111111,\"#46039f\"],[0.2222222222222222,\"#7201a8\"],[0.3333333333333333,\"#9c179e\"],[0.4444444444444444,\"#bd3786\"],[0.5555555555555556,\"#d8576b\"],[0.6666666666666666,\"#ed7953\"],[0.7777777777777778,\"#fb9f3a\"],[0.8888888888888888,\"#fdca26\"],[1.0,\"#f0f921\"]]}],\"heatmapgl\":[{\"type\":\"heatmapgl\",\"colorbar\":{\"outlinewidth\":0,\"ticks\":\"\"},\"colorscale\":[[0.0,\"#0d0887\"],[0.1111111111111111,\"#46039f\"],[0.2222222222222222,\"#7201a8\"],[0.3333333333333333,\"#9c179e\"],[0.4444444444444444,\"#bd3786\"],[0.5555555555555556,\"#d8576b\"],[0.6666666666666666,\"#ed7953\"],[0.7777777777777778,\"#fb9f3a\"],[0.8888888888888888,\"#fdca26\"],[1.0,\"#f0f921\"]]}],\"contourcarpet\":[{\"type\":\"contourcarpet\",\"colorbar\":{\"outlinewidth\":0,\"ticks\":\"\"}}],\"contour\":[{\"type\":\"contour\",\"colorbar\":{\"outlinewidth\":0,\"ticks\":\"\"},\"colorscale\":[[0.0,\"#0d0887\"],[0.1111111111111111,\"#46039f\"],[0.2222222222222222,\"#7201a8\"],[0.3333333333333333,\"#9c179e\"],[0.4444444444444444,\"#bd3786\"],[0.5555555555555556,\"#d8576b\"],[0.6666666666666666,\"#ed7953\"],[0.7777777777777778,\"#fb9f3a\"],[0.8888888888888888,\"#fdca26\"],[1.0,\"#f0f921\"]]}],\"surface\":[{\"type\":\"surface\",\"colorbar\":{\"outlinewidth\":0,\"ticks\":\"\"},\"colorscale\":[[0.0,\"#0d0887\"],[0.1111111111111111,\"#46039f\"],[0.2222222222222222,\"#7201a8\"],[0.3333333333333333,\"#9c179e\"],[0.4444444444444444,\"#bd3786\"],[0.5555555555555556,\"#d8576b\"],[0.6666666666666666,\"#ed7953\"],[0.7777777777777778,\"#fb9f3a\"],[0.8888888888888888,\"#fdca26\"],[1.0,\"#f0f921\"]]}],\"mesh3d\":[{\"type\":\"mesh3d\",\"colorbar\":{\"outlinewidth\":0,\"ticks\":\"\"}}],\"scatter\":[{\"fillpattern\":{\"fillmode\":\"overlay\",\"size\":10,\"solidity\":0.2},\"type\":\"scatter\"}],\"parcoords\":[{\"type\":\"parcoords\",\"line\":{\"colorbar\":{\"outlinewidth\":0,\"ticks\":\"\"}}}],\"scatterpolargl\":[{\"type\":\"scatterpolargl\",\"marker\":{\"colorbar\":{\"outlinewidth\":0,\"ticks\":\"\"}}}],\"bar\":[{\"error_x\":{\"color\":\"#2a3f5f\"},\"error_y\":{\"color\":\"#2a3f5f\"},\"marker\":{\"line\":{\"color\":\"#E5ECF6\",\"width\":0.5},\"pattern\":{\"fillmode\":\"overlay\",\"size\":10,\"solidity\":0.2}},\"type\":\"bar\"}],\"scattergeo\":[{\"type\":\"scattergeo\",\"marker\":{\"colorbar\":{\"outlinewidth\":0,\"ticks\":\"\"}}}],\"scatterpolar\":[{\"type\":\"scatterpolar\",\"marker\":{\"colorbar\":{\"outlinewidth\":0,\"ticks\":\"\"}}}],\"histogram\":[{\"marker\":{\"pattern\":{\"fillmode\":\"overlay\",\"size\":10,\"solidity\":0.2}},\"type\":\"histogram\"}],\"scattergl\":[{\"type\":\"scattergl\",\"marker\":{\"colorbar\":{\"outlinewidth\":0,\"ticks\":\"\"}}}],\"scatter3d\":[{\"type\":\"scatter3d\",\"line\":{\"colorbar\":{\"outlinewidth\":0,\"ticks\":\"\"}},\"marker\":{\"colorbar\":{\"outlinewidth\":0,\"ticks\":\"\"}}}],\"scattermapbox\":[{\"type\":\"scattermapbox\",\"marker\":{\"colorbar\":{\"outlinewidth\":0,\"ticks\":\"\"}}}],\"scatterternary\":[{\"type\":\"scatterternary\",\"marker\":{\"colorbar\":{\"outlinewidth\":0,\"ticks\":\"\"}}}],\"scattercarpet\":[{\"type\":\"scattercarpet\",\"marker\":{\"colorbar\":{\"outlinewidth\":0,\"ticks\":\"\"}}}],\"carpet\":[{\"aaxis\":{\"endlinecolor\":\"#2a3f5f\",\"gridcolor\":\"white\",\"linecolor\":\"white\",\"minorgridcolor\":\"white\",\"startlinecolor\":\"#2a3f5f\"},\"baxis\":{\"endlinecolor\":\"#2a3f5f\",\"gridcolor\":\"white\",\"linecolor\":\"white\",\"minorgridcolor\":\"white\",\"startlinecolor\":\"#2a3f5f\"},\"type\":\"carpet\"}],\"table\":[{\"cells\":{\"fill\":{\"color\":\"#EBF0F8\"},\"line\":{\"color\":\"white\"}},\"header\":{\"fill\":{\"color\":\"#C8D4E3\"},\"line\":{\"color\":\"white\"}},\"type\":\"table\"}],\"barpolar\":[{\"marker\":{\"line\":{\"color\":\"#E5ECF6\",\"width\":0.5},\"pattern\":{\"fillmode\":\"overlay\",\"size\":10,\"solidity\":0.2}},\"type\":\"barpolar\"}],\"pie\":[{\"automargin\":true,\"type\":\"pie\"}]},\"layout\":{\"autotypenumbers\":\"strict\",\"colorway\":[\"#636efa\",\"#EF553B\",\"#00cc96\",\"#ab63fa\",\"#FFA15A\",\"#19d3f3\",\"#FF6692\",\"#B6E880\",\"#FF97FF\",\"#FECB52\"],\"font\":{\"color\":\"#2a3f5f\"},\"hovermode\":\"closest\",\"hoverlabel\":{\"align\":\"left\"},\"paper_bgcolor\":\"white\",\"plot_bgcolor\":\"#E5ECF6\",\"polar\":{\"bgcolor\":\"#E5ECF6\",\"angularaxis\":{\"gridcolor\":\"white\",\"linecolor\":\"white\",\"ticks\":\"\"},\"radialaxis\":{\"gridcolor\":\"white\",\"linecolor\":\"white\",\"ticks\":\"\"}},\"ternary\":{\"bgcolor\":\"#E5ECF6\",\"aaxis\":{\"gridcolor\":\"white\",\"linecolor\":\"white\",\"ticks\":\"\"},\"baxis\":{\"gridcolor\":\"white\",\"linecolor\":\"white\",\"ticks\":\"\"},\"caxis\":{\"gridcolor\":\"white\",\"linecolor\":\"white\",\"ticks\":\"\"}},\"coloraxis\":{\"colorbar\":{\"outlinewidth\":0,\"ticks\":\"\"}},\"colorscale\":{\"sequential\":[[0.0,\"#0d0887\"],[0.1111111111111111,\"#46039f\"],[0.2222222222222222,\"#7201a8\"],[0.3333333333333333,\"#9c179e\"],[0.4444444444444444,\"#bd3786\"],[0.5555555555555556,\"#d8576b\"],[0.6666666666666666,\"#ed7953\"],[0.7777777777777778,\"#fb9f3a\"],[0.8888888888888888,\"#fdca26\"],[1.0,\"#f0f921\"]],\"sequentialminus\":[[0.0,\"#0d0887\"],[0.1111111111111111,\"#46039f\"],[0.2222222222222222,\"#7201a8\"],[0.3333333333333333,\"#9c179e\"],[0.4444444444444444,\"#bd3786\"],[0.5555555555555556,\"#d8576b\"],[0.6666666666666666,\"#ed7953\"],[0.7777777777777778,\"#fb9f3a\"],[0.8888888888888888,\"#fdca26\"],[1.0,\"#f0f921\"]],\"diverging\":[[0,\"#8e0152\"],[0.1,\"#c51b7d\"],[0.2,\"#de77ae\"],[0.3,\"#f1b6da\"],[0.4,\"#fde0ef\"],[0.5,\"#f7f7f7\"],[0.6,\"#e6f5d0\"],[0.7,\"#b8e186\"],[0.8,\"#7fbc41\"],[0.9,\"#4d9221\"],[1,\"#276419\"]]},\"xaxis\":{\"gridcolor\":\"white\",\"linecolor\":\"white\",\"ticks\":\"\",\"title\":{\"standoff\":15},\"zerolinecolor\":\"white\",\"automargin\":true,\"zerolinewidth\":2},\"yaxis\":{\"gridcolor\":\"white\",\"linecolor\":\"white\",\"ticks\":\"\",\"title\":{\"standoff\":15},\"zerolinecolor\":\"white\",\"automargin\":true,\"zerolinewidth\":2},\"scene\":{\"xaxis\":{\"backgroundcolor\":\"#E5ECF6\",\"gridcolor\":\"white\",\"linecolor\":\"white\",\"showbackground\":true,\"ticks\":\"\",\"zerolinecolor\":\"white\",\"gridwidth\":2},\"yaxis\":{\"backgroundcolor\":\"#E5ECF6\",\"gridcolor\":\"white\",\"linecolor\":\"white\",\"showbackground\":true,\"ticks\":\"\",\"zerolinecolor\":\"white\",\"gridwidth\":2},\"zaxis\":{\"backgroundcolor\":\"#E5ECF6\",\"gridcolor\":\"white\",\"linecolor\":\"white\",\"showbackground\":true,\"ticks\":\"\",\"zerolinecolor\":\"white\",\"gridwidth\":2}},\"shapedefaults\":{\"line\":{\"color\":\"#2a3f5f\"}},\"annotationdefaults\":{\"arrowcolor\":\"#2a3f5f\",\"arrowhead\":0,\"arrowwidth\":1},\"geo\":{\"bgcolor\":\"white\",\"landcolor\":\"#E5ECF6\",\"subunitcolor\":\"white\",\"showland\":true,\"showlakes\":true,\"lakecolor\":\"white\"},\"title\":{\"x\":0.05},\"mapbox\":{\"style\":\"light\"}}},\"xaxis\":{\"anchor\":\"y\",\"domain\":[0.0,1.0],\"title\":{\"text\":\"Epochs\"}},\"yaxis\":{\"anchor\":\"x\",\"domain\":[0.0,1.0],\"title\":{\"text\":\"RMSE\"}},\"legend\":{\"tracegroupgap\":0},\"title\":{\"text\":\"train RMSE vs. dev RMSE\"}},                        {\"responsive\": true}                    ).then(function(){\n",
              "                            \n",
              "var gd = document.getElementById('8653c762-4b5a-42d1-b11b-a48cd98a1a0a');\n",
              "var x = new MutationObserver(function (mutations, observer) {{\n",
              "        var display = window.getComputedStyle(gd).display;\n",
              "        if (!display || display === 'none') {{\n",
              "            console.log([gd, 'removed!']);\n",
              "            Plotly.purge(gd);\n",
              "            observer.disconnect();\n",
              "        }}\n",
              "}});\n",
              "\n",
              "// Listen for the removal of the full notebook cells\n",
              "var notebookContainer = gd.closest('#notebook-container');\n",
              "if (notebookContainer) {{\n",
              "    x.observe(notebookContainer, {childList: true});\n",
              "}}\n",
              "\n",
              "// Listen for the clearing of the current output cell\n",
              "var outputEl = gd.closest('.output');\n",
              "if (outputEl) {{\n",
              "    x.observe(outputEl, {childList: true});\n",
              "}}\n",
              "\n",
              "                        })                };                            </script>        </div>\n",
              "</body>\n",
              "</html>"
            ]
          },
          "metadata": {}
        }
      ]
    },
    {
      "cell_type": "markdown",
      "metadata": {
        "id": "v3FCqONIDCU2"
      },
      "source": [
        "<a name=\"6.\"></a>\n",
        "## 6. Summary and conclusion\n",
        "[Content](#content)"
      ],
      "id": "v3FCqONIDCU2"
    },
    {
      "cell_type": "markdown",
      "source": [
        "We have trained three different models with increasing complexity. For the problem at hand it can be said that the more complex MLP model or LSTM model did not perform better, than the simpler XGBoost model. In fact, the LSTM model performt worse than the two previous ones.\n",
        "\n",
        "While the XGBoost model already did well with standard parameters, it was more difficult to find a good architecture with the more complex model MLP and LSTM which was especially true for the last model.\n",
        "\n",
        "A possible reason, why the LSTM model performed worse could be, that the problem at hand has not a strong sequential nature. The dataset is clearly time series data, but the different data points or not very dependent on the previous data points. An easy ilustration to this is, that the people taking a bycicle today, do not care about the weather of yesterday or how many people took the bicyle one day ago. Much more relevant is the current day of the week and the weather of today. Therefore the sequential LSTM model mostly added complexity without adding much of value."
      ],
      "metadata": {
        "id": "urK_A--4Duuj"
      },
      "id": "urK_A--4Duuj"
    }
  ],
  "metadata": {
    "colab": {
      "provenance": []
    },
    "kernelspec": {
      "display_name": "Python 3 (ipykernel)",
      "language": "python",
      "name": "python3"
    },
    "language_info": {
      "codemirror_mode": {
        "name": "ipython",
        "version": 3
      },
      "file_extension": ".py",
      "mimetype": "text/x-python",
      "name": "python",
      "nbconvert_exporter": "python",
      "pygments_lexer": "ipython3",
      "version": "3.9.2"
    }
  },
  "nbformat": 4,
  "nbformat_minor": 5
}