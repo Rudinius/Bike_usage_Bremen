{
 "cells": [
  {
   "cell_type": "markdown",
   "id": "f73c7815",
   "metadata": {
    "id": "f73c7815"
   },
   "source": [
    "# Notebook"
   ]
  },
  {
   "cell_type": "markdown",
   "id": "eDQ92i99fD-S",
   "metadata": {
    "id": "eDQ92i99fD-S"
   },
   "source": [
    "In this notebook in the data preparation step, the datasets for cyclist and weather data are loaded, column names are adjusted, data types checked and aligned and then exported to be used with the notebook [2_EDA](https://github.com/Rudinius/Bike_usage_Bremen/blob/4f39d66836e0585770c37d1cf261b0c0dd95101f/2_EDA.ipynb).\n",
    "\n",
    "The datasets for geo-locations, vacations and holidays are self created from online scources and therefore do not need any further data preparation."
   ]
  },
  {
   "cell_type": "markdown",
   "id": "0SZjZIlABiCT",
   "metadata": {
    "id": "0SZjZIlABiCT"
   },
   "source": [
    "<a name=\"content\"></a>\n",
    "# Content"
   ]
  },
  {
   "cell_type": "markdown",
   "id": "64f16469",
   "metadata": {
    "id": "64f16469"
   },
   "source": [
    "* [1. Import libraries and mount drive](#1)\n",
    "* [2. Import datasets](#2)\n",
    "    * [2.1 Cyclists dataset](#2.1)\n",
    "        * [2.1.1 Description](#2.1.1)\n",
    "        * [2.1.2 Preparing cyclists dataset](#2.1.2)\n",
    "    * [2.2 Weather dataset](#2.2)\n",
    "        * [2.2.1 Description](#2.2.1)\n",
    "        * [2.2.2 Preparing weather dataset](#2.2.2)\n",
    "    * [2.3 Public holidays](#2.3)\n",
    "        * [2.3.1 Description](#2.3.1)\n",
    "        * [2.3.2 Preparing public holidays dataset](#2.3.2)\n",
    "    * [2.4 School vacations](#2.4)\n",
    "        * [2.4.1 Description](#2.4.1)\n",
    "        * [2.4.2 Preparing school vacations dataset](#2.4.2)\n",
    "    * [2.5 Geolocations](#2.5)\n",
    "        * [2.5.1 Description](#2.5.1)\n",
    "        * [2.5.2 Preparing geolocations dataset](#2.5.2)\n",
    "    * [3.0 Export datasets](#3.0)"
   ]
  },
  {
   "cell_type": "markdown",
   "id": "mNIgXafVB7v-",
   "metadata": {
    "id": "mNIgXafVB7v-"
   },
   "source": [
    "<a name=\"1\"></a>\n",
    "# 1.&nbsp;Import libraries\n",
    "[Content](#content)"
   ]
  },
  {
   "cell_type": "code",
   "execution_count": 5,
   "id": "3731ea33",
   "metadata": {
    "id": "3731ea33"
   },
   "outputs": [],
   "source": [
    "# Import libraries\n",
    "import datetime\n",
    "import numpy as np\n",
    "import pandas as pd"
   ]
  },
  {
   "cell_type": "code",
   "execution_count": 6,
   "id": "bVcA4z1MxUB9",
   "metadata": {
    "colab": {
     "base_uri": "https://localhost:8080/"
    },
    "id": "bVcA4z1MxUB9",
    "outputId": "9ed0c538-85f6-497a-d690-39189db7fd75"
   },
   "outputs": [
    {
     "name": "stdout",
     "output_type": "stream",
     "text": [
      "test\n",
      "Requirement already satisfied: pyjanitor in c:\\users\\mirco rudolph\\onedrive\\dokumente\\ausbildung\\data science\\machine learning\\projects\\bike_usage_bremen\\venv\\lib\\site-packages (0.25.0)"
     ]
    },
    {
     "name": "stderr",
     "output_type": "stream",
     "text": [
      "WARNING: You are using pip version 20.2.3; however, version 23.2.1 is available.\n",
      "You should consider upgrading via the 'c:\\users\\mirco rudolph\\onedrive\\dokumente\\ausbildung\\data science\\machine learning\\projects\\bike_usage_bremen\\venv\\scripts\\python.exe -m pip install --upgrade pip' command.\n"
     ]
    },
    {
     "name": "stdout",
     "output_type": "stream",
     "text": [
      "\n",
      "Requirement already satisfied: multipledispatch in c:\\users\\mirco rudolph\\onedrive\\dokumente\\ausbildung\\data science\\machine learning\\projects\\bike_usage_bremen\\venv\\lib\\site-packages (from pyjanitor) (1.0.0)\n",
      "Requirement already satisfied: pandas-flavor in c:\\users\\mirco rudolph\\onedrive\\dokumente\\ausbildung\\data science\\machine learning\\projects\\bike_usage_bremen\\venv\\lib\\site-packages (from pyjanitor) (0.6.0)\n",
      "Requirement already satisfied: scipy in c:\\users\\mirco rudolph\\onedrive\\dokumente\\ausbildung\\data science\\machine learning\\projects\\bike_usage_bremen\\venv\\lib\\site-packages (from pyjanitor) (1.11.2)\n",
      "Requirement already satisfied: natsort in c:\\users\\mirco rudolph\\onedrive\\dokumente\\ausbildung\\data science\\machine learning\\projects\\bike_usage_bremen\\venv\\lib\\site-packages (from pyjanitor) (8.4.0)\n",
      "Requirement already satisfied: xarray in c:\\users\\mirco rudolph\\onedrive\\dokumente\\ausbildung\\data science\\machine learning\\projects\\bike_usage_bremen\\venv\\lib\\site-packages (from pandas-flavor->pyjanitor) (2023.8.0)\n",
      "Requirement already satisfied: pandas>=0.23 in c:\\users\\mirco rudolph\\onedrive\\dokumente\\ausbildung\\data science\\machine learning\\projects\\bike_usage_bremen\\venv\\lib\\site-packages (from pandas-flavor->pyjanitor) (2.1.0)\n",
      "Requirement already satisfied: numpy<1.28.0,>=1.21.6 in c:\\users\\mirco rudolph\\onedrive\\dokumente\\ausbildung\\data science\\machine learning\\projects\\bike_usage_bremen\\venv\\lib\\site-packages (from scipy->pyjanitor) (1.25.2)\n",
      "Requirement already satisfied: packaging>=21.3 in c:\\users\\mirco rudolph\\onedrive\\dokumente\\ausbildung\\data science\\machine learning\\projects\\bike_usage_bremen\\venv\\lib\\site-packages (from xarray->pandas-flavor->pyjanitor) (23.1)\n",
      "Requirement already satisfied: pytz>=2020.1 in c:\\users\\mirco rudolph\\onedrive\\dokumente\\ausbildung\\data science\\machine learning\\projects\\bike_usage_bremen\\venv\\lib\\site-packages (from pandas>=0.23->pandas-flavor->pyjanitor) (2023.3.post1)\n",
      "Requirement already satisfied: python-dateutil>=2.8.2 in c:\\users\\mirco rudolph\\onedrive\\dokumente\\ausbildung\\data science\\machine learning\\projects\\bike_usage_bremen\\venv\\lib\\site-packages (from pandas>=0.23->pandas-flavor->pyjanitor) (2.8.2)\n",
      "Requirement already satisfied: tzdata>=2022.1 in c:\\users\\mirco rudolph\\onedrive\\dokumente\\ausbildung\\data science\\machine learning\\projects\\bike_usage_bremen\\venv\\lib\\site-packages (from pandas>=0.23->pandas-flavor->pyjanitor) (2023.3)\n",
      "Requirement already satisfied: six>=1.5 in c:\\users\\mirco rudolph\\onedrive\\dokumente\\ausbildung\\data science\\machine learning\\projects\\bike_usage_bremen\\venv\\lib\\site-packages (from python-dateutil>=2.8.2->pandas>=0.23->pandas-flavor->pyjanitor) (1.16.0)\n"
     ]
    }
   ],
   "source": [
    "# Install package pyjanitor since it is not part of the standard packages\n",
    "# of Google Colab.\n",
    "# If code is run in an environment that has pyjanitor installed, it will just\n",
    "# be imported\n",
    "\n",
    "import importlib\n",
    "\n",
    "# Check if package is installed\n",
    "package_name = \"pyjanitor\"\n",
    "spec = importlib.util.find_spec(package_name)\n",
    "if spec is None:\n",
    "    print(\"test\")\n",
    "    # Package is not installed, install it via pip\n",
    "    !pip install pyjanitor\n",
    "else:\n",
    "    print(f\"{package_name} is already installed\")\n",
    "\n",
    "import janitor"
   ]
  },
  {
   "cell_type": "markdown",
   "id": "Be52TLFVCPvY",
   "metadata": {
    "id": "Be52TLFVCPvY"
   },
   "source": [
    "<a name=\"2\"></a>\n",
    "# 2.&nbsp;Import datasets\n",
    "\n",
    "[Content](#content)"
   ]
  },
  {
   "cell_type": "markdown",
   "id": "3edf4064",
   "metadata": {
    "id": "3edf4064"
   },
   "source": [
    "Next, the raw datasets of the projects data folder for the number of cyclists and weather data will be imported.\n",
    "\n",
    "* cyclists_2013-2021_daily.csv Dataset with dailz values of different measuring points in Bremen from 01.01.2013 to 31.12.2022\n",
    "* weather_2013-2020.csv Dataset with daily weather values like min, max temperature, rainfall,... from 01.01.2023 to 31.12.2020\n",
    "* weather_2021-2022.csv Dataset with daily weather values like min, max temperature, rainfall,... from 01.01.2021 to 31.12.2022\n",
    "\n",
    "The data of amount of cyclists for different counting stations has been taken from [VMZ Bremen](https://vmz.bremen.de/rad/radzaehlstationen-abfrage). Each column is the name of a different counting station.\n",
    "\n",
    "The weather data has been imported from [Meteostat](https://meteostat.net/)."
   ]
  },
  {
   "cell_type": "code",
   "execution_count": 7,
   "id": "rZeTtqSp0tAU",
   "metadata": {
    "colab": {
     "base_uri": "https://localhost:8080/"
    },
    "id": "rZeTtqSp0tAU",
    "outputId": "4047b66b-cb44-43f1-c757-3217d01251f5"
   },
   "outputs": [],
   "source": [
    "# Set base url\n",
    "url = \"https://raw.githubusercontent.com/Rudinius/Bike_usage_Bremen/main/data/raw/\""
   ]
  },
  {
   "cell_type": "markdown",
   "id": "_8J29gn8N4vr",
   "metadata": {
    "id": "_8J29gn8N4vr"
   },
   "source": [
    "<a name=\"2.1\"></a>\n",
    "## 2.1 Cyclists dataset\n",
    "\n",
    "[Content](#content)"
   ]
  },
  {
   "cell_type": "markdown",
   "id": "BUGPdVuS2Nb2",
   "metadata": {
    "id": "BUGPdVuS2Nb2"
   },
   "source": [
    "<a name=\"2.1.1\"></a>\n",
    "### 2.1.1 Description\n",
    "\n",
    "[Content](#content)"
   ]
  },
  {
   "cell_type": "markdown",
   "id": "fCBstWPc1dVT",
   "metadata": {
    "id": "fCBstWPc1dVT"
   },
   "source": [
    "The cyclist dataset contains the daily amount of cyclists for different counting stations. Each column is the name of a different counting station and containing the value of counted cyclers for a given day"
   ]
  },
  {
   "cell_type": "markdown",
   "id": "lRIXeZmy1R9i",
   "metadata": {
    "id": "lRIXeZmy1R9i"
   },
   "source": [
    "<a name=\"2.1.2\"></a>\n",
    "### 2.1.2 Preparing cyclists dataset\n",
    "\n",
    "[Content](#content)"
   ]
  },
  {
   "cell_type": "markdown",
   "id": "U90EUUFtPc1W",
   "metadata": {
    "id": "U90EUUFtPc1W"
   },
   "source": [
    "First we will change the names to shorter names and to eliminate spaces and German special characters. For this we will use the `pyjanitor` package.\n",
    "\n",
    "Also we will change the name of the index colum as well from `Zeitpunkt ('Y-m-d H:i:s')` to `date`.\n",
    "\n",
    "Lastly, for the cylist dataset, the rows are not in an ordered way. Therefore before we export the new dataset, we have to sort the index."
   ]
  },
  {
   "cell_type": "code",
   "execution_count": 8,
   "id": "CWzvEyQOzqmJ",
   "metadata": {
    "colab": {
     "base_uri": "https://localhost:8080/"
    },
    "id": "CWzvEyQOzqmJ",
    "outputId": "bcbadd0b-0ad5-4d53-dfe8-1e1eb0167d72"
   },
   "outputs": [],
   "source": [
    "# Import datasets\n",
    "\n",
    "# The original csv file uses ';' as a seperator. We will also parse the date column as datetime64\n",
    "df_cyclist = pd.read_csv(url + \"raw_cyclists_2013-2022.csv\", sep= \";\",\n",
    "                         parse_dates=[0], index_col=[0]).clean_names(strip_underscores=\"both\").sort_index()\n",
    "\n",
    "# Apply new name to index\n",
    "df_cyclist.index.names = ['date']"
   ]
  },
  {
   "cell_type": "code",
   "execution_count": 9,
   "id": "o2LVv_diOnup",
   "metadata": {
    "colab": {
     "base_uri": "https://localhost:8080/"
    },
    "id": "o2LVv_diOnup",
    "outputId": "eeeb0dba-854b-4e1c-d939-9c77d3310fea"
   },
   "outputs": [
    {
     "name": "stdout",
     "output_type": "stream",
     "text": [
      "<class 'pandas.core.frame.DataFrame'>\n",
      "DatetimeIndex: 3652 entries, 2013-01-01 to 2022-12-31\n",
      "Data columns (total 12 columns):\n",
      " #   Column                        Non-Null Count  Dtype  \n",
      "---  ------                        --------------  -----  \n",
      " 0   graf_moltke_straße_ostseite   3622 non-null   float64\n",
      " 1   graf_moltke_straße_westseite  3576 non-null   float64\n",
      " 2   hastedter_bruckenstraße       3636 non-null   float64\n",
      " 3   langemarckstraße_ostseite     3639 non-null   float64\n",
      " 4   langemarckstraße_westseite    3651 non-null   float64\n",
      " 5   osterdeich                    3651 non-null   float64\n",
      " 6   radweg_kleine_weser           3550 non-null   float64\n",
      " 7   schwachhauser_ring            3652 non-null   int64  \n",
      " 8   wachmannstraße_auswarts_sud   3561 non-null   float64\n",
      " 9   wachmannstraße_einwarts_nord  3474 non-null   float64\n",
      " 10  wilhelm_kaisen_brucke_ost     3652 non-null   int64  \n",
      " 11  wilhelm_kaisen_brucke_west    3606 non-null   float64\n",
      "dtypes: float64(10), int64(2)\n",
      "memory usage: 370.9 KB\n"
     ]
    }
   ],
   "source": [
    "df_cyclist.info()"
   ]
  },
  {
   "cell_type": "code",
   "execution_count": 10,
   "id": "vnHDXI2POowz",
   "metadata": {
    "colab": {
     "base_uri": "https://localhost:8080/",
     "height": 379
    },
    "id": "vnHDXI2POowz",
    "outputId": "589775d0-9541-4699-8c61-e27e1591f62e"
   },
   "outputs": [
    {
     "data": {
      "text/html": [
       "<div>\n",
       "<style scoped>\n",
       "    .dataframe tbody tr th:only-of-type {\n",
       "        vertical-align: middle;\n",
       "    }\n",
       "\n",
       "    .dataframe tbody tr th {\n",
       "        vertical-align: top;\n",
       "    }\n",
       "\n",
       "    .dataframe thead th {\n",
       "        text-align: right;\n",
       "    }\n",
       "</style>\n",
       "<table border=\"1\" class=\"dataframe\">\n",
       "  <thead>\n",
       "    <tr style=\"text-align: right;\">\n",
       "      <th></th>\n",
       "      <th>graf_moltke_straße_ostseite</th>\n",
       "      <th>graf_moltke_straße_westseite</th>\n",
       "      <th>hastedter_bruckenstraße</th>\n",
       "      <th>langemarckstraße_ostseite</th>\n",
       "      <th>langemarckstraße_westseite</th>\n",
       "      <th>osterdeich</th>\n",
       "      <th>radweg_kleine_weser</th>\n",
       "      <th>schwachhauser_ring</th>\n",
       "      <th>wachmannstraße_auswarts_sud</th>\n",
       "      <th>wachmannstraße_einwarts_nord</th>\n",
       "      <th>wilhelm_kaisen_brucke_ost</th>\n",
       "      <th>wilhelm_kaisen_brucke_west</th>\n",
       "    </tr>\n",
       "    <tr>\n",
       "      <th>date</th>\n",
       "      <th></th>\n",
       "      <th></th>\n",
       "      <th></th>\n",
       "      <th></th>\n",
       "      <th></th>\n",
       "      <th></th>\n",
       "      <th></th>\n",
       "      <th></th>\n",
       "      <th></th>\n",
       "      <th></th>\n",
       "      <th></th>\n",
       "      <th></th>\n",
       "    </tr>\n",
       "  </thead>\n",
       "  <tbody>\n",
       "    <tr>\n",
       "      <th>2013-01-01</th>\n",
       "      <td>261.0</td>\n",
       "      <td>290.0</td>\n",
       "      <td>381.0</td>\n",
       "      <td>312.0</td>\n",
       "      <td>308.0</td>\n",
       "      <td>870.0</td>\n",
       "      <td>410.0</td>\n",
       "      <td>391</td>\n",
       "      <td>514.0</td>\n",
       "      <td>267.0</td>\n",
       "      <td>1228</td>\n",
       "      <td>563.0</td>\n",
       "    </tr>\n",
       "    <tr>\n",
       "      <th>2013-01-02</th>\n",
       "      <td>750.0</td>\n",
       "      <td>876.0</td>\n",
       "      <td>1109.0</td>\n",
       "      <td>1258.0</td>\n",
       "      <td>1120.0</td>\n",
       "      <td>2169.0</td>\n",
       "      <td>1762.0</td>\n",
       "      <td>829</td>\n",
       "      <td>1786.0</td>\n",
       "      <td>1456.0</td>\n",
       "      <td>4024</td>\n",
       "      <td>2355.0</td>\n",
       "    </tr>\n",
       "    <tr>\n",
       "      <th>2013-01-03</th>\n",
       "      <td>931.0</td>\n",
       "      <td>1015.0</td>\n",
       "      <td>1603.0</td>\n",
       "      <td>1556.0</td>\n",
       "      <td>1480.0</td>\n",
       "      <td>2295.0</td>\n",
       "      <td>2287.0</td>\n",
       "      <td>1196</td>\n",
       "      <td>2412.0</td>\n",
       "      <td>2035.0</td>\n",
       "      <td>5013</td>\n",
       "      <td>3028.0</td>\n",
       "    </tr>\n",
       "    <tr>\n",
       "      <th>2013-01-04</th>\n",
       "      <td>500.0</td>\n",
       "      <td>587.0</td>\n",
       "      <td>1284.0</td>\n",
       "      <td>703.0</td>\n",
       "      <td>626.0</td>\n",
       "      <td>1640.0</td>\n",
       "      <td>1548.0</td>\n",
       "      <td>1418</td>\n",
       "      <td>964.0</td>\n",
       "      <td>702.0</td>\n",
       "      <td>2382</td>\n",
       "      <td>1121.0</td>\n",
       "    </tr>\n",
       "    <tr>\n",
       "      <th>2013-01-05</th>\n",
       "      <td>1013.0</td>\n",
       "      <td>1011.0</td>\n",
       "      <td>0.0</td>\n",
       "      <td>1856.0</td>\n",
       "      <td>1621.0</td>\n",
       "      <td>4128.0</td>\n",
       "      <td>4256.0</td>\n",
       "      <td>3075</td>\n",
       "      <td>2065.0</td>\n",
       "      <td>1377.0</td>\n",
       "      <td>5736</td>\n",
       "      <td>3221.0</td>\n",
       "    </tr>\n",
       "  </tbody>\n",
       "</table>\n",
       "</div>"
      ],
      "text/plain": [
       "            graf_moltke_straße_ostseite  graf_moltke_straße_westseite  \\\n",
       "date                                                                    \n",
       "2013-01-01                        261.0                         290.0   \n",
       "2013-01-02                        750.0                         876.0   \n",
       "2013-01-03                        931.0                        1015.0   \n",
       "2013-01-04                        500.0                         587.0   \n",
       "2013-01-05                       1013.0                        1011.0   \n",
       "\n",
       "            hastedter_bruckenstraße  langemarckstraße_ostseite  \\\n",
       "date                                                             \n",
       "2013-01-01                    381.0                      312.0   \n",
       "2013-01-02                   1109.0                     1258.0   \n",
       "2013-01-03                   1603.0                     1556.0   \n",
       "2013-01-04                   1284.0                      703.0   \n",
       "2013-01-05                      0.0                     1856.0   \n",
       "\n",
       "            langemarckstraße_westseite  osterdeich  radweg_kleine_weser  \\\n",
       "date                                                                      \n",
       "2013-01-01                       308.0       870.0                410.0   \n",
       "2013-01-02                      1120.0      2169.0               1762.0   \n",
       "2013-01-03                      1480.0      2295.0               2287.0   \n",
       "2013-01-04                       626.0      1640.0               1548.0   \n",
       "2013-01-05                      1621.0      4128.0               4256.0   \n",
       "\n",
       "            schwachhauser_ring  wachmannstraße_auswarts_sud  \\\n",
       "date                                                          \n",
       "2013-01-01                 391                        514.0   \n",
       "2013-01-02                 829                       1786.0   \n",
       "2013-01-03                1196                       2412.0   \n",
       "2013-01-04                1418                        964.0   \n",
       "2013-01-05                3075                       2065.0   \n",
       "\n",
       "            wachmannstraße_einwarts_nord  wilhelm_kaisen_brucke_ost  \\\n",
       "date                                                                  \n",
       "2013-01-01                         267.0                       1228   \n",
       "2013-01-02                        1456.0                       4024   \n",
       "2013-01-03                        2035.0                       5013   \n",
       "2013-01-04                         702.0                       2382   \n",
       "2013-01-05                        1377.0                       5736   \n",
       "\n",
       "            wilhelm_kaisen_brucke_west  \n",
       "date                                    \n",
       "2013-01-01                       563.0  \n",
       "2013-01-02                      2355.0  \n",
       "2013-01-03                      3028.0  \n",
       "2013-01-04                      1121.0  \n",
       "2013-01-05                      3221.0  "
      ]
     },
     "execution_count": 10,
     "metadata": {},
     "output_type": "execute_result"
    }
   ],
   "source": [
    "df_cyclist.head()"
   ]
  },
  {
   "cell_type": "markdown",
   "id": "75d276cf",
   "metadata": {
    "id": "75d276cf"
   },
   "source": [
    "<a name=\"2.2\"></a>\n",
    "## 2.2 Weather dataset\n",
    "\n",
    "[Content](#content)"
   ]
  },
  {
   "cell_type": "markdown",
   "id": "N8isW9HY2dPt",
   "metadata": {
    "id": "N8isW9HY2dPt"
   },
   "source": [
    "<a name=\"2.2.1\"></a>\n",
    "### 2.2.1 Description\n",
    "\n",
    "[Content](#content)"
   ]
  },
  {
   "cell_type": "markdown",
   "id": "P6YXP9A-2bSc",
   "metadata": {
    "id": "P6YXP9A-2bSc"
   },
   "source": [
    "The weather dataset contains apart from the date, the daily weather values in the columns. The values are:\n",
    "\n",
    "\n",
    "`tavg`: Avg. Temperature in °C <br>\n",
    "`tmin`: Min. Temperature in °C <br>\n",
    "`tmax`: Max. Temperature in °C <br>\n",
    "`prcp`: Total Precipitation in mm <br>\n",
    "`snow`: Snowheight in mm <br>\n",
    "`wdir`: Wind Direction in ° <br>\n",
    "`wspd`: Wind Speed in km/h ° <br>\n",
    "`wpgt`: Wind Peak Gust in km/h ° <br>\n",
    "`pres`: Air Pressure in hPa ° <br>\n",
    "`tsun`: Sunshine Duration in minutes ° <br>\n",
    "\n",
    "The weather dataset is split into two files. One ranging from 2013 to 2020 and one from 2020 to 2022. Here we will concatenate both files and export as one."
   ]
  },
  {
   "cell_type": "markdown",
   "id": "g8llj4Ea22Bc",
   "metadata": {
    "id": "g8llj4Ea22Bc"
   },
   "source": [
    "<a name=\"2.2.2\"></a>\n",
    "### 2.2.2 Preparing weather dataset\n",
    "\n",
    "[Content](#content)"
   ]
  },
  {
   "cell_type": "code",
   "execution_count": 11,
   "id": "e0f0c9cb",
   "metadata": {
    "colab": {
     "base_uri": "https://localhost:8080/"
    },
    "id": "e0f0c9cb",
    "outputId": "6ce0c23e-935d-49ad-ed71-2096a0bc15d0"
   },
   "outputs": [],
   "source": [
    "# Import datasets\n",
    "\n",
    "# The weather data is splitted among two files. Both files will be read seperately and\n",
    "# concatenated\n",
    "df_weather_a = pd.read_csv(url + \"raw_weather_2013-2020.csv\", parse_dates=[0], index_col=[0])\n",
    "df_weather_b = pd.read_csv(url + \"raw_weather_2021-2022.csv\", parse_dates=[0], index_col=[0])\n",
    "df_weather = pd.concat([df_weather_a, df_weather_b], axis=0)"
   ]
  },
  {
   "cell_type": "code",
   "execution_count": 12,
   "id": "e3be5dcc",
   "metadata": {
    "colab": {
     "base_uri": "https://localhost:8080/"
    },
    "id": "e3be5dcc",
    "outputId": "c6f4fda8-2d72-418b-acae-a37b1a39cdda"
   },
   "outputs": [
    {
     "name": "stdout",
     "output_type": "stream",
     "text": [
      "<class 'pandas.core.frame.DataFrame'>\n",
      "DatetimeIndex: 3652 entries, 2013-01-01 to 2022-12-31\n",
      "Data columns (total 10 columns):\n",
      " #   Column  Non-Null Count  Dtype  \n",
      "---  ------  --------------  -----  \n",
      " 0   tavg    3652 non-null   float64\n",
      " 1   tmin    3652 non-null   float64\n",
      " 2   tmax    3652 non-null   float64\n",
      " 3   prcp    3652 non-null   float64\n",
      " 4   snow    3439 non-null   float64\n",
      " 5   wdir    3642 non-null   float64\n",
      " 6   wspd    3652 non-null   float64\n",
      " 7   wpgt    3651 non-null   float64\n",
      " 8   pres    3652 non-null   float64\n",
      " 9   tsun    3652 non-null   int64  \n",
      "dtypes: float64(9), int64(1)\n",
      "memory usage: 313.8 KB\n"
     ]
    }
   ],
   "source": [
    "df_weather.info()"
   ]
  },
  {
   "cell_type": "code",
   "execution_count": 13,
   "id": "6e9a0543",
   "metadata": {
    "colab": {
     "base_uri": "https://localhost:8080/",
     "height": 292
    },
    "id": "6e9a0543",
    "outputId": "30ee96c3-2d02-423c-880c-3feae168be76"
   },
   "outputs": [
    {
     "data": {
      "text/html": [
       "<div>\n",
       "<style scoped>\n",
       "    .dataframe tbody tr th:only-of-type {\n",
       "        vertical-align: middle;\n",
       "    }\n",
       "\n",
       "    .dataframe tbody tr th {\n",
       "        vertical-align: top;\n",
       "    }\n",
       "\n",
       "    .dataframe thead th {\n",
       "        text-align: right;\n",
       "    }\n",
       "</style>\n",
       "<table border=\"1\" class=\"dataframe\">\n",
       "  <thead>\n",
       "    <tr style=\"text-align: right;\">\n",
       "      <th></th>\n",
       "      <th>tavg</th>\n",
       "      <th>tmin</th>\n",
       "      <th>tmax</th>\n",
       "      <th>prcp</th>\n",
       "      <th>snow</th>\n",
       "      <th>wdir</th>\n",
       "      <th>wspd</th>\n",
       "      <th>wpgt</th>\n",
       "      <th>pres</th>\n",
       "      <th>tsun</th>\n",
       "    </tr>\n",
       "    <tr>\n",
       "      <th>date</th>\n",
       "      <th></th>\n",
       "      <th></th>\n",
       "      <th></th>\n",
       "      <th></th>\n",
       "      <th></th>\n",
       "      <th></th>\n",
       "      <th></th>\n",
       "      <th></th>\n",
       "      <th></th>\n",
       "      <th></th>\n",
       "    </tr>\n",
       "  </thead>\n",
       "  <tbody>\n",
       "    <tr>\n",
       "      <th>2013-01-01</th>\n",
       "      <td>6.9</td>\n",
       "      <td>3.5</td>\n",
       "      <td>9.1</td>\n",
       "      <td>6.9</td>\n",
       "      <td>0.0</td>\n",
       "      <td>233.0</td>\n",
       "      <td>19.4</td>\n",
       "      <td>50.4</td>\n",
       "      <td>1001.8</td>\n",
       "      <td>0</td>\n",
       "    </tr>\n",
       "    <tr>\n",
       "      <th>2013-01-02</th>\n",
       "      <td>5.6</td>\n",
       "      <td>4.2</td>\n",
       "      <td>7.1</td>\n",
       "      <td>1.8</td>\n",
       "      <td>0.0</td>\n",
       "      <td>246.0</td>\n",
       "      <td>20.2</td>\n",
       "      <td>40.0</td>\n",
       "      <td>1017.5</td>\n",
       "      <td>30</td>\n",
       "    </tr>\n",
       "    <tr>\n",
       "      <th>2013-01-03</th>\n",
       "      <td>8.6</td>\n",
       "      <td>6.0</td>\n",
       "      <td>10.6</td>\n",
       "      <td>0.9</td>\n",
       "      <td>0.0</td>\n",
       "      <td>257.0</td>\n",
       "      <td>23.8</td>\n",
       "      <td>45.7</td>\n",
       "      <td>1024.5</td>\n",
       "      <td>0</td>\n",
       "    </tr>\n",
       "    <tr>\n",
       "      <th>2013-01-04</th>\n",
       "      <td>8.8</td>\n",
       "      <td>6.8</td>\n",
       "      <td>9.7</td>\n",
       "      <td>0.0</td>\n",
       "      <td>0.0</td>\n",
       "      <td>276.0</td>\n",
       "      <td>25.2</td>\n",
       "      <td>48.2</td>\n",
       "      <td>1029.5</td>\n",
       "      <td>0</td>\n",
       "    </tr>\n",
       "    <tr>\n",
       "      <th>2013-01-05</th>\n",
       "      <td>7.7</td>\n",
       "      <td>6.5</td>\n",
       "      <td>8.6</td>\n",
       "      <td>0.1</td>\n",
       "      <td>0.0</td>\n",
       "      <td>293.0</td>\n",
       "      <td>20.2</td>\n",
       "      <td>41.0</td>\n",
       "      <td>1029.9</td>\n",
       "      <td>0</td>\n",
       "    </tr>\n",
       "  </tbody>\n",
       "</table>\n",
       "</div>"
      ],
      "text/plain": [
       "            tavg  tmin  tmax  prcp  snow   wdir  wspd  wpgt    pres  tsun\n",
       "date                                                                     \n",
       "2013-01-01   6.9   3.5   9.1   6.9   0.0  233.0  19.4  50.4  1001.8     0\n",
       "2013-01-02   5.6   4.2   7.1   1.8   0.0  246.0  20.2  40.0  1017.5    30\n",
       "2013-01-03   8.6   6.0  10.6   0.9   0.0  257.0  23.8  45.7  1024.5     0\n",
       "2013-01-04   8.8   6.8   9.7   0.0   0.0  276.0  25.2  48.2  1029.5     0\n",
       "2013-01-05   7.7   6.5   8.6   0.1   0.0  293.0  20.2  41.0  1029.9     0"
      ]
     },
     "execution_count": 13,
     "metadata": {},
     "output_type": "execute_result"
    }
   ],
   "source": [
    "df_weather.head()"
   ]
  },
  {
   "cell_type": "markdown",
   "id": "MXHvpQCRnALl",
   "metadata": {
    "id": "MXHvpQCRnALl"
   },
   "source": [
    "<a name=\"2.3\"></a>\n",
    "## 2.3 Public holidays\n",
    "\n",
    "[Content](#content)"
   ]
  },
  {
   "cell_type": "markdown",
   "id": "8u211MUp3vxV",
   "metadata": {
    "id": "8u211MUp3vxV"
   },
   "source": [
    "<a name=\"2.3.1\"></a>\n",
    "### 2.3.1 Description\n",
    "\n",
    "[Content](#content)"
   ]
  },
  {
   "cell_type": "markdown",
   "id": "DcFY_PRF30r2",
   "metadata": {
    "id": "DcFY_PRF30r2"
   },
   "source": [
    "The dataset `Holidays` contains all the public holidays between 2013 and 2022.\n",
    "\n",
    "The coloumn contains the different holidays for each day (rows)."
   ]
  },
  {
   "cell_type": "markdown",
   "id": "qy8ERjWY4BV_",
   "metadata": {
    "id": "qy8ERjWY4BV_"
   },
   "source": [
    "<a name=\"2.3.2\"></a>\n",
    "### 2.3.2 Preparing public holidays dataset\n",
    "\n",
    "[Content](#content)"
   ]
  },
  {
   "cell_type": "code",
   "execution_count": 14,
   "id": "gUkH2XB9nLU_",
   "metadata": {
    "colab": {
     "base_uri": "https://localhost:8080/"
    },
    "id": "gUkH2XB9nLU_",
    "outputId": "10954c61-6c41-4b90-e9a2-b107007c2821"
   },
   "outputs": [],
   "source": [
    "df_holidays = pd.read_csv(url + \"raw_holidays_2013-2022.csv\", parse_dates=[0], index_col=[0], sep=\";\")"
   ]
  },
  {
   "cell_type": "code",
   "execution_count": 15,
   "id": "hyI7waKy45lU",
   "metadata": {
    "colab": {
     "base_uri": "https://localhost:8080/"
    },
    "id": "hyI7waKy45lU",
    "outputId": "835bdf54-4bc7-4e68-953f-85f1c9ee0934"
   },
   "outputs": [
    {
     "name": "stdout",
     "output_type": "stream",
     "text": [
      "<class 'pandas.core.frame.DataFrame'>\n",
      "DatetimeIndex: 96 entries, 2013-01-01 to 2022-12-26\n",
      "Data columns (total 1 columns):\n",
      " #   Column   Non-Null Count  Dtype \n",
      "---  ------   --------------  ----- \n",
      " 0   holiday  96 non-null     object\n",
      "dtypes: object(1)\n",
      "memory usage: 1.5+ KB\n"
     ]
    }
   ],
   "source": [
    "df_holidays.info()"
   ]
  },
  {
   "cell_type": "code",
   "execution_count": 16,
   "id": "WZJcpf8g5_lU",
   "metadata": {
    "colab": {
     "base_uri": "https://localhost:8080/",
     "height": 292
    },
    "id": "WZJcpf8g5_lU",
    "outputId": "266b960c-0a3f-4213-e9bd-7436eb2d9181"
   },
   "outputs": [
    {
     "data": {
      "text/html": [
       "<div>\n",
       "<style scoped>\n",
       "    .dataframe tbody tr th:only-of-type {\n",
       "        vertical-align: middle;\n",
       "    }\n",
       "\n",
       "    .dataframe tbody tr th {\n",
       "        vertical-align: top;\n",
       "    }\n",
       "\n",
       "    .dataframe thead th {\n",
       "        text-align: right;\n",
       "    }\n",
       "</style>\n",
       "<table border=\"1\" class=\"dataframe\">\n",
       "  <thead>\n",
       "    <tr style=\"text-align: right;\">\n",
       "      <th></th>\n",
       "      <th>holiday</th>\n",
       "    </tr>\n",
       "    <tr>\n",
       "      <th>date</th>\n",
       "      <th></th>\n",
       "    </tr>\n",
       "  </thead>\n",
       "  <tbody>\n",
       "    <tr>\n",
       "      <th>2013-01-01</th>\n",
       "      <td>Neujahr</td>\n",
       "    </tr>\n",
       "    <tr>\n",
       "      <th>2013-03-29</th>\n",
       "      <td>Karfreitag</td>\n",
       "    </tr>\n",
       "    <tr>\n",
       "      <th>2013-04-01</th>\n",
       "      <td>Ostermontag</td>\n",
       "    </tr>\n",
       "    <tr>\n",
       "      <th>2013-05-01</th>\n",
       "      <td>Tag der Arbeit</td>\n",
       "    </tr>\n",
       "    <tr>\n",
       "      <th>2013-05-09</th>\n",
       "      <td>Christi Himmelfahrt</td>\n",
       "    </tr>\n",
       "  </tbody>\n",
       "</table>\n",
       "</div>"
      ],
      "text/plain": [
       "                        holiday\n",
       "date                           \n",
       "2013-01-01              Neujahr\n",
       "2013-03-29           Karfreitag\n",
       "2013-04-01          Ostermontag\n",
       "2013-05-01       Tag der Arbeit\n",
       "2013-05-09  Christi Himmelfahrt"
      ]
     },
     "execution_count": 16,
     "metadata": {},
     "output_type": "execute_result"
    }
   ],
   "source": [
    "df_holidays.head()"
   ]
  },
  {
   "cell_type": "markdown",
   "id": "HWoBkF5NqMoU",
   "metadata": {
    "id": "HWoBkF5NqMoU"
   },
   "source": [
    "<a name=\"2.4\"></a>\n",
    "## 2.4 School Vacation\n",
    "\n",
    "[Content](#content)"
   ]
  },
  {
   "cell_type": "markdown",
   "id": "asP_q4oU7cs0",
   "metadata": {
    "id": "asP_q4oU7cs0"
   },
   "source": [
    "<a name=\"2.4.1\"></a>\n",
    "### 2.4.1 Description\n",
    "\n",
    "[Content](#content)"
   ]
  },
  {
   "cell_type": "markdown",
   "id": "W7C8ThFzqVDn",
   "metadata": {
    "id": "W7C8ThFzqVDn"
   },
   "source": [
    "The dataset `School Vacation` contains all the school vacation days in the state of Bremen between 2013 and 2022."
   ]
  },
  {
   "cell_type": "markdown",
   "id": "is6cK0Sk7wED",
   "metadata": {
    "id": "is6cK0Sk7wED"
   },
   "source": [
    "<a name=\"2.5.2\"></a>\n",
    "### 2.4.2 Preparation school vacation dataset\n",
    "\n",
    "[Content](#content)"
   ]
  },
  {
   "cell_type": "code",
   "execution_count": 17,
   "id": "BG4F5ytUqivL",
   "metadata": {
    "colab": {
     "base_uri": "https://localhost:8080/",
     "height": 509
    },
    "id": "BG4F5ytUqivL",
    "outputId": "2e7a17ba-fdb4-4e61-9936-8be49dbc845c"
   },
   "outputs": [
    {
     "data": {
      "text/html": [
       "<div>\n",
       "<style scoped>\n",
       "    .dataframe tbody tr th:only-of-type {\n",
       "        vertical-align: middle;\n",
       "    }\n",
       "\n",
       "    .dataframe tbody tr th {\n",
       "        vertical-align: top;\n",
       "    }\n",
       "\n",
       "    .dataframe thead th {\n",
       "        text-align: right;\n",
       "    }\n",
       "</style>\n",
       "<table border=\"1\" class=\"dataframe\">\n",
       "  <thead>\n",
       "    <tr style=\"text-align: right;\">\n",
       "      <th></th>\n",
       "      <th>vacation</th>\n",
       "    </tr>\n",
       "    <tr>\n",
       "      <th>date</th>\n",
       "      <th></th>\n",
       "    </tr>\n",
       "  </thead>\n",
       "  <tbody>\n",
       "    <tr>\n",
       "      <th>2013-01-01</th>\n",
       "      <td>Weihnachtsferien</td>\n",
       "    </tr>\n",
       "    <tr>\n",
       "      <th>2013-01-02</th>\n",
       "      <td>Weihnachtsferien</td>\n",
       "    </tr>\n",
       "    <tr>\n",
       "      <th>2013-01-03</th>\n",
       "      <td>Weihnachtsferien</td>\n",
       "    </tr>\n",
       "    <tr>\n",
       "      <th>2013-01-04</th>\n",
       "      <td>Weihnachtsferien</td>\n",
       "    </tr>\n",
       "    <tr>\n",
       "      <th>2013-01-05</th>\n",
       "      <td>Weihnachtsferien</td>\n",
       "    </tr>\n",
       "    <tr>\n",
       "      <th>...</th>\n",
       "      <td>...</td>\n",
       "    </tr>\n",
       "    <tr>\n",
       "      <th>2022-12-27</th>\n",
       "      <td>Weihnachtsferien</td>\n",
       "    </tr>\n",
       "    <tr>\n",
       "      <th>2022-12-28</th>\n",
       "      <td>Weihnachtsferien</td>\n",
       "    </tr>\n",
       "    <tr>\n",
       "      <th>2022-12-29</th>\n",
       "      <td>Weihnachtsferien</td>\n",
       "    </tr>\n",
       "    <tr>\n",
       "      <th>2022-12-30</th>\n",
       "      <td>Weihnachtsferien</td>\n",
       "    </tr>\n",
       "    <tr>\n",
       "      <th>2022-12-31</th>\n",
       "      <td>Weihnachtsferien</td>\n",
       "    </tr>\n",
       "  </tbody>\n",
       "</table>\n",
       "<p>915 rows × 1 columns</p>\n",
       "</div>"
      ],
      "text/plain": [
       "                    vacation\n",
       "date                        \n",
       "2013-01-01  Weihnachtsferien\n",
       "2013-01-02  Weihnachtsferien\n",
       "2013-01-03  Weihnachtsferien\n",
       "2013-01-04  Weihnachtsferien\n",
       "2013-01-05  Weihnachtsferien\n",
       "...                      ...\n",
       "2022-12-27  Weihnachtsferien\n",
       "2022-12-28  Weihnachtsferien\n",
       "2022-12-29  Weihnachtsferien\n",
       "2022-12-30  Weihnachtsferien\n",
       "2022-12-31  Weihnachtsferien\n",
       "\n",
       "[915 rows x 1 columns]"
      ]
     },
     "execution_count": 17,
     "metadata": {},
     "output_type": "execute_result"
    }
   ],
   "source": [
    "df_vacation = pd.read_csv(url + \"raw_vacation_2013-2022.csv\", parse_dates=[0], index_col=[0], sep=\";\")\n",
    "df_vacation"
   ]
  },
  {
   "cell_type": "markdown",
   "id": "k6VMGp9YDDsP",
   "metadata": {
    "id": "k6VMGp9YDDsP"
   },
   "source": [
    "<a name=\"2.5\"></a>\n",
    "## 2.5 Geolocations of stations\n",
    "\n",
    "[Content](#content)"
   ]
  },
  {
   "cell_type": "markdown",
   "id": "Y12smp8t3CM6",
   "metadata": {
    "id": "Y12smp8t3CM6"
   },
   "source": [
    "<a name=\"2.5.1\"></a>\n",
    "### 2.5.1 Description\n",
    "\n",
    "[Content](#content)"
   ]
  },
  {
   "cell_type": "markdown",
   "id": "WUNko8pT3iVg",
   "metadata": {
    "id": "WUNko8pT3iVg"
   },
   "source": [
    "For the geo-locations there is no dataset to import and the data is not available in the cyclist dataset. Thefore we added those locations manually from the [VMZ website](https://vmz.bremen.de/radzaehlstationen/).\n",
    "\n",
    "The dataset geolocations contains the longitude and latitude values of the counting stations with the name of individual counting stations as rows and longitude and latitude as columns:"
   ]
  },
  {
   "cell_type": "markdown",
   "id": "LY0pf12x3Hc1",
   "metadata": {
    "id": "LY0pf12x3Hc1"
   },
   "source": [
    "<a name=\"2.5.2\"></a>\n",
    "### 2.5.2 Preparing geolocations dataset\n",
    "\n",
    "[Content](#content)"
   ]
  },
  {
   "cell_type": "code",
   "execution_count": 18,
   "id": "a48f8022",
   "metadata": {
    "colab": {
     "base_uri": "https://localhost:8080/"
    },
    "id": "a48f8022",
    "outputId": "13ec56ca-8579-4f45-adbb-9e37901841a6"
   },
   "outputs": [],
   "source": [
    "geolocations =  {\"graf_moltke_straße_ostseite\": (53.0778, 8.8330),\n",
    "                 \"graf_moltke_straße_westseite\": (53.0781, 8.8328),\n",
    "                 \"hastedter_bruckenstraße\": (53.0612, 8.8528),\n",
    "                 \"langemarckstraße_ostseite\": (53.0764, 8.7974),\n",
    "                 \"langemarckstraße_westseite\": (53.0765, 8.7969),\n",
    "                 \"osterdeich\": (53.0693, 8.8198),\n",
    "                 \"radweg_kleine_weser\": (53.0660, 8.8073),\n",
    "                 \"schwachhauser_ring\": (53.0891, 8.8409),\n",
    "                 \"wachmannstraße_auswarts_sud\": (53.0845, 8.8263),\n",
    "                 \"wachmannstraße_einwarts_nord\": (53.0847, 8.8264),\n",
    "                 \"wilhelm_kaisen_brucke_ost\": (53.0722, 8.8040),\n",
    "                 \"wilhelm_kaisen_brucke_west\": (53.0726, 8.8040)\n",
    "                }"
   ]
  },
  {
   "cell_type": "code",
   "execution_count": 19,
   "id": "6g724vqS1LdH",
   "metadata": {
    "colab": {
     "base_uri": "https://localhost:8080/",
     "height": 292
    },
    "id": "6g724vqS1LdH",
    "outputId": "a2f5af12-ced1-4764-c401-efabb5fd7280"
   },
   "outputs": [
    {
     "data": {
      "text/html": [
       "<div>\n",
       "<style scoped>\n",
       "    .dataframe tbody tr th:only-of-type {\n",
       "        vertical-align: middle;\n",
       "    }\n",
       "\n",
       "    .dataframe tbody tr th {\n",
       "        vertical-align: top;\n",
       "    }\n",
       "\n",
       "    .dataframe thead th {\n",
       "        text-align: right;\n",
       "    }\n",
       "</style>\n",
       "<table border=\"1\" class=\"dataframe\">\n",
       "  <thead>\n",
       "    <tr style=\"text-align: right;\">\n",
       "      <th></th>\n",
       "      <th>latitude</th>\n",
       "      <th>longitude</th>\n",
       "    </tr>\n",
       "    <tr>\n",
       "      <th>name</th>\n",
       "      <th></th>\n",
       "      <th></th>\n",
       "    </tr>\n",
       "  </thead>\n",
       "  <tbody>\n",
       "    <tr>\n",
       "      <th>graf_moltke_straße_ostseite</th>\n",
       "      <td>53.0778</td>\n",
       "      <td>8.8330</td>\n",
       "    </tr>\n",
       "    <tr>\n",
       "      <th>graf_moltke_straße_westseite</th>\n",
       "      <td>53.0781</td>\n",
       "      <td>8.8328</td>\n",
       "    </tr>\n",
       "    <tr>\n",
       "      <th>hastedter_bruckenstraße</th>\n",
       "      <td>53.0612</td>\n",
       "      <td>8.8528</td>\n",
       "    </tr>\n",
       "    <tr>\n",
       "      <th>langemarckstraße_ostseite</th>\n",
       "      <td>53.0764</td>\n",
       "      <td>8.7974</td>\n",
       "    </tr>\n",
       "    <tr>\n",
       "      <th>langemarckstraße_westseite</th>\n",
       "      <td>53.0765</td>\n",
       "      <td>8.7969</td>\n",
       "    </tr>\n",
       "  </tbody>\n",
       "</table>\n",
       "</div>"
      ],
      "text/plain": [
       "                              latitude  longitude\n",
       "name                                             \n",
       "graf_moltke_straße_ostseite    53.0778     8.8330\n",
       "graf_moltke_straße_westseite   53.0781     8.8328\n",
       "hastedter_bruckenstraße        53.0612     8.8528\n",
       "langemarckstraße_ostseite      53.0764     8.7974\n",
       "langemarckstraße_westseite     53.0765     8.7969"
      ]
     },
     "execution_count": 19,
     "metadata": {},
     "output_type": "execute_result"
    }
   ],
   "source": [
    "df_geolocations = pd.DataFrame.from_dict(geolocations, orient=\"index\", columns=[\"latitude\", \"longitude\"])\n",
    "df_geolocations.index.names = [\"name\"]\n",
    "df_geolocations.head()"
   ]
  },
  {
   "cell_type": "markdown",
   "id": "9b431cc1",
   "metadata": {
    "id": "9b431cc1"
   },
   "source": [
    "**Export new dataset**\n",
    "\n",
    "We will also export this newly created dataset for later use."
   ]
  },
  {
   "cell_type": "markdown",
   "id": "-IrD8sqa79qq",
   "metadata": {
    "id": "-IrD8sqa79qq"
   },
   "source": [
    "<a name=\"3.0\"></a>\n",
    "# 3.&nbsp;Export datasets\n",
    "\n",
    "[Content](#content)"
   ]
  },
  {
   "cell_type": "markdown",
   "id": "BKx7kgFG8FsH",
   "metadata": {
    "id": "BKx7kgFG8FsH"
   },
   "source": [
    "For easier handling of the further analysis of the datasets, we combine the cycling, weather, holidays and vacation datasets into one dataset.\n",
    "Because the dataset with the geolocation data is differently formatted (not time series data) that is at the moment not of primary interest, we leave it seperated for now."
   ]
  },
  {
   "cell_type": "code",
   "execution_count": 20,
   "id": "89o83liKc5xp",
   "metadata": {
    "colab": {
     "base_uri": "https://localhost:8080/",
     "height": 408
    },
    "id": "89o83liKc5xp",
    "outputId": "bc82cee7-85da-4763-d9d7-a05cb0f64a9f"
   },
   "outputs": [
    {
     "data": {
      "text/html": [
       "<div>\n",
       "<style scoped>\n",
       "    .dataframe tbody tr th:only-of-type {\n",
       "        vertical-align: middle;\n",
       "    }\n",
       "\n",
       "    .dataframe tbody tr th {\n",
       "        vertical-align: top;\n",
       "    }\n",
       "\n",
       "    .dataframe thead th {\n",
       "        text-align: right;\n",
       "    }\n",
       "</style>\n",
       "<table border=\"1\" class=\"dataframe\">\n",
       "  <thead>\n",
       "    <tr style=\"text-align: right;\">\n",
       "      <th></th>\n",
       "      <th>graf_moltke_straße_ostseite</th>\n",
       "      <th>graf_moltke_straße_westseite</th>\n",
       "      <th>hastedter_bruckenstraße</th>\n",
       "      <th>langemarckstraße_ostseite</th>\n",
       "      <th>langemarckstraße_westseite</th>\n",
       "      <th>osterdeich</th>\n",
       "      <th>radweg_kleine_weser</th>\n",
       "      <th>schwachhauser_ring</th>\n",
       "      <th>wachmannstraße_auswarts_sud</th>\n",
       "      <th>wachmannstraße_einwarts_nord</th>\n",
       "      <th>...</th>\n",
       "      <th>tmax</th>\n",
       "      <th>prcp</th>\n",
       "      <th>snow</th>\n",
       "      <th>wdir</th>\n",
       "      <th>wspd</th>\n",
       "      <th>wpgt</th>\n",
       "      <th>pres</th>\n",
       "      <th>tsun</th>\n",
       "      <th>vacation</th>\n",
       "      <th>holiday</th>\n",
       "    </tr>\n",
       "    <tr>\n",
       "      <th>date</th>\n",
       "      <th></th>\n",
       "      <th></th>\n",
       "      <th></th>\n",
       "      <th></th>\n",
       "      <th></th>\n",
       "      <th></th>\n",
       "      <th></th>\n",
       "      <th></th>\n",
       "      <th></th>\n",
       "      <th></th>\n",
       "      <th></th>\n",
       "      <th></th>\n",
       "      <th></th>\n",
       "      <th></th>\n",
       "      <th></th>\n",
       "      <th></th>\n",
       "      <th></th>\n",
       "      <th></th>\n",
       "      <th></th>\n",
       "      <th></th>\n",
       "      <th></th>\n",
       "    </tr>\n",
       "  </thead>\n",
       "  <tbody>\n",
       "    <tr>\n",
       "      <th>2013-01-01</th>\n",
       "      <td>261.0</td>\n",
       "      <td>290.0</td>\n",
       "      <td>381.0</td>\n",
       "      <td>312.0</td>\n",
       "      <td>308.0</td>\n",
       "      <td>870.0</td>\n",
       "      <td>410.0</td>\n",
       "      <td>391</td>\n",
       "      <td>514.0</td>\n",
       "      <td>267.0</td>\n",
       "      <td>...</td>\n",
       "      <td>9.1</td>\n",
       "      <td>6.9</td>\n",
       "      <td>0.0</td>\n",
       "      <td>233.0</td>\n",
       "      <td>19.4</td>\n",
       "      <td>50.4</td>\n",
       "      <td>1001.8</td>\n",
       "      <td>0</td>\n",
       "      <td>Weihnachtsferien</td>\n",
       "      <td>Neujahr</td>\n",
       "    </tr>\n",
       "    <tr>\n",
       "      <th>2013-01-02</th>\n",
       "      <td>750.0</td>\n",
       "      <td>876.0</td>\n",
       "      <td>1109.0</td>\n",
       "      <td>1258.0</td>\n",
       "      <td>1120.0</td>\n",
       "      <td>2169.0</td>\n",
       "      <td>1762.0</td>\n",
       "      <td>829</td>\n",
       "      <td>1786.0</td>\n",
       "      <td>1456.0</td>\n",
       "      <td>...</td>\n",
       "      <td>7.1</td>\n",
       "      <td>1.8</td>\n",
       "      <td>0.0</td>\n",
       "      <td>246.0</td>\n",
       "      <td>20.2</td>\n",
       "      <td>40.0</td>\n",
       "      <td>1017.5</td>\n",
       "      <td>30</td>\n",
       "      <td>Weihnachtsferien</td>\n",
       "      <td>NaN</td>\n",
       "    </tr>\n",
       "    <tr>\n",
       "      <th>2013-01-03</th>\n",
       "      <td>931.0</td>\n",
       "      <td>1015.0</td>\n",
       "      <td>1603.0</td>\n",
       "      <td>1556.0</td>\n",
       "      <td>1480.0</td>\n",
       "      <td>2295.0</td>\n",
       "      <td>2287.0</td>\n",
       "      <td>1196</td>\n",
       "      <td>2412.0</td>\n",
       "      <td>2035.0</td>\n",
       "      <td>...</td>\n",
       "      <td>10.6</td>\n",
       "      <td>0.9</td>\n",
       "      <td>0.0</td>\n",
       "      <td>257.0</td>\n",
       "      <td>23.8</td>\n",
       "      <td>45.7</td>\n",
       "      <td>1024.5</td>\n",
       "      <td>0</td>\n",
       "      <td>Weihnachtsferien</td>\n",
       "      <td>NaN</td>\n",
       "    </tr>\n",
       "    <tr>\n",
       "      <th>2013-01-04</th>\n",
       "      <td>500.0</td>\n",
       "      <td>587.0</td>\n",
       "      <td>1284.0</td>\n",
       "      <td>703.0</td>\n",
       "      <td>626.0</td>\n",
       "      <td>1640.0</td>\n",
       "      <td>1548.0</td>\n",
       "      <td>1418</td>\n",
       "      <td>964.0</td>\n",
       "      <td>702.0</td>\n",
       "      <td>...</td>\n",
       "      <td>9.7</td>\n",
       "      <td>0.0</td>\n",
       "      <td>0.0</td>\n",
       "      <td>276.0</td>\n",
       "      <td>25.2</td>\n",
       "      <td>48.2</td>\n",
       "      <td>1029.5</td>\n",
       "      <td>0</td>\n",
       "      <td>Weihnachtsferien</td>\n",
       "      <td>NaN</td>\n",
       "    </tr>\n",
       "    <tr>\n",
       "      <th>2013-01-05</th>\n",
       "      <td>1013.0</td>\n",
       "      <td>1011.0</td>\n",
       "      <td>0.0</td>\n",
       "      <td>1856.0</td>\n",
       "      <td>1621.0</td>\n",
       "      <td>4128.0</td>\n",
       "      <td>4256.0</td>\n",
       "      <td>3075</td>\n",
       "      <td>2065.0</td>\n",
       "      <td>1377.0</td>\n",
       "      <td>...</td>\n",
       "      <td>8.6</td>\n",
       "      <td>0.1</td>\n",
       "      <td>0.0</td>\n",
       "      <td>293.0</td>\n",
       "      <td>20.2</td>\n",
       "      <td>41.0</td>\n",
       "      <td>1029.9</td>\n",
       "      <td>0</td>\n",
       "      <td>Weihnachtsferien</td>\n",
       "      <td>NaN</td>\n",
       "    </tr>\n",
       "  </tbody>\n",
       "</table>\n",
       "<p>5 rows × 24 columns</p>\n",
       "</div>"
      ],
      "text/plain": [
       "            graf_moltke_straße_ostseite  graf_moltke_straße_westseite  \\\n",
       "date                                                                    \n",
       "2013-01-01                        261.0                         290.0   \n",
       "2013-01-02                        750.0                         876.0   \n",
       "2013-01-03                        931.0                        1015.0   \n",
       "2013-01-04                        500.0                         587.0   \n",
       "2013-01-05                       1013.0                        1011.0   \n",
       "\n",
       "            hastedter_bruckenstraße  langemarckstraße_ostseite  \\\n",
       "date                                                             \n",
       "2013-01-01                    381.0                      312.0   \n",
       "2013-01-02                   1109.0                     1258.0   \n",
       "2013-01-03                   1603.0                     1556.0   \n",
       "2013-01-04                   1284.0                      703.0   \n",
       "2013-01-05                      0.0                     1856.0   \n",
       "\n",
       "            langemarckstraße_westseite  osterdeich  radweg_kleine_weser  \\\n",
       "date                                                                      \n",
       "2013-01-01                       308.0       870.0                410.0   \n",
       "2013-01-02                      1120.0      2169.0               1762.0   \n",
       "2013-01-03                      1480.0      2295.0               2287.0   \n",
       "2013-01-04                       626.0      1640.0               1548.0   \n",
       "2013-01-05                      1621.0      4128.0               4256.0   \n",
       "\n",
       "            schwachhauser_ring  wachmannstraße_auswarts_sud  \\\n",
       "date                                                          \n",
       "2013-01-01                 391                        514.0   \n",
       "2013-01-02                 829                       1786.0   \n",
       "2013-01-03                1196                       2412.0   \n",
       "2013-01-04                1418                        964.0   \n",
       "2013-01-05                3075                       2065.0   \n",
       "\n",
       "            wachmannstraße_einwarts_nord  ...  tmax  prcp  snow   wdir  wspd  \\\n",
       "date                                      ...                                  \n",
       "2013-01-01                         267.0  ...   9.1   6.9   0.0  233.0  19.4   \n",
       "2013-01-02                        1456.0  ...   7.1   1.8   0.0  246.0  20.2   \n",
       "2013-01-03                        2035.0  ...  10.6   0.9   0.0  257.0  23.8   \n",
       "2013-01-04                         702.0  ...   9.7   0.0   0.0  276.0  25.2   \n",
       "2013-01-05                        1377.0  ...   8.6   0.1   0.0  293.0  20.2   \n",
       "\n",
       "            wpgt    pres  tsun          vacation  holiday  \n",
       "date                                                       \n",
       "2013-01-01  50.4  1001.8     0  Weihnachtsferien  Neujahr  \n",
       "2013-01-02  40.0  1017.5    30  Weihnachtsferien      NaN  \n",
       "2013-01-03  45.7  1024.5     0  Weihnachtsferien      NaN  \n",
       "2013-01-04  48.2  1029.5     0  Weihnachtsferien      NaN  \n",
       "2013-01-05  41.0  1029.9     0  Weihnachtsferien      NaN  \n",
       "\n",
       "[5 rows x 24 columns]"
      ]
     },
     "execution_count": 20,
     "metadata": {},
     "output_type": "execute_result"
    }
   ],
   "source": [
    "df_full = pd.concat([df_cyclist, df_weather, df_vacation, df_holidays], axis=1)\n",
    "df_full.head()"
   ]
  },
  {
   "cell_type": "code",
   "execution_count": 25,
   "id": "aQR6pnrFgzdu",
   "metadata": {
    "colab": {
     "base_uri": "https://localhost:8080/",
     "height": 72
    },
    "id": "aQR6pnrFgzdu",
    "outputId": "e0dffd9f-1baa-4d01-c779-956c4a7b19a6"
   },
   "outputs": [],
   "source": [
    "date = datetime.date.today()\n",
    "\n",
    "path = \"./data/processed/\"\n",
    "\n",
    "# Save the new dataset to csv and download the file\n",
    "file_name = path + f\"{date}\" + \"_processed_\" + \"full.csv\"\n",
    "df_full.to_csv(file_name)\n",
    "\n",
    "# Save the geolocations dataset to csv and download the file\n",
    "file_name = path + f\"{date}\" + \"_processed_\" + \"geolocations.csv\"\n",
    "\n",
    "df_geolocations.to_csv(file_name)"
   ]
  }
 ],
 "metadata": {
  "colab": {
   "provenance": []
  },
  "kernelspec": {
   "display_name": "Python 3 (ipykernel)",
   "language": "python",
   "name": "python3"
  },
  "language_info": {
   "codemirror_mode": {
    "name": "ipython",
    "version": 3
   },
   "file_extension": ".py",
   "mimetype": "text/x-python",
   "name": "python",
   "nbconvert_exporter": "python",
   "pygments_lexer": "ipython3",
   "version": "3.9.2"
  }
 },
 "nbformat": 4,
 "nbformat_minor": 5
}
