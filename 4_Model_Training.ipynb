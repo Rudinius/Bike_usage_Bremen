{
  "cells": [
    {
      "cell_type": "markdown",
      "id": "CBLnLwZIZpWJ",
      "metadata": {
        "id": "CBLnLwZIZpWJ"
      },
      "source": [
        "# Notebook"
      ]
    },
    {
      "cell_type": "markdown",
      "id": "lZXvJFJqZuRE",
      "metadata": {
        "id": "lZXvJFJqZuRE"
      },
      "source": [
        "In the Model learning step, the prepared dataset from [3_Imputing](https://raw.githubusercontent.com/Rudinius/Bike_usage_Bremen/main/3_Imputing.ipynb) is loaded. Then different machine learning algorithms are trained and compared to each other.\n",
        "\n",
        "We will test\n",
        "* XGBoost\n",
        "* Multilayer perceptron (MLP)\n",
        "* Recurrent Neural Network (RNN)"
      ]
    },
    {
      "cell_type": "markdown",
      "id": "0c910711",
      "metadata": {
        "id": "0c910711"
      },
      "source": [
        "<a name=\"content\"></a>\n",
        "# Content\n",
        "\n",
        "* [1. Import libraries](#1.)\n",
        "* [2. Import datasets](#2.)\n",
        "* [3. Select a target station](#3.)\n",
        "* [4. Establish baseline benchmark](#4.)\n",
        "* [5. Selecting features, splitting the data, standardizing](#5.)\n",
        "* [6. Training machine learning algorithms](#6.)\n",
        "    * [6.1. Consideration reagarding sequential data](#6.1.)\n",
        "    * [6.2. XGBoost](#6.2.)\n",
        "        * [6.2.1 Using GridSeachCV to select the optimal parameters](#6.2.1.)\n",
        "        * [6.2.2. Train the model and evaluate](#6.2.2.)\n",
        "        * [6.2.3. Results](#6.2.3.)\n",
        "    * [6.3. Multilayer perceptron](#6.3.)\n",
        "        * [6.3.1. Train the model and evaluate](#6.3.1.)\n",
        "        * [6.3.2. Results](#6.3.2.)\n",
        "    * [6.4. Recurrent Neural Network](#6.4.)\n",
        "        * [6.4.1. Create dataset with sequence](#6.4.1.)\n",
        "        * [6.4.2. Train the model and evaluate](#6.4.2.)\n",
        "        * [6.4.3. Results](#6.4.3.)\n",
        "* [7. Summary and conclusion](#7.)"
      ]
    },
    {
      "cell_type": "markdown",
      "id": "85f76996",
      "metadata": {
        "id": "85f76996"
      },
      "source": [
        "<a name=\"1.\"></a>\n",
        "# 1.&nbsp;Import libraries\n",
        "[Content](#content)"
      ]
    },
    {
      "cell_type": "code",
      "execution_count": 1,
      "id": "xSJzvaLrNPlR",
      "metadata": {
        "id": "xSJzvaLrNPlR"
      },
      "outputs": [],
      "source": [
        "# Only used for suppressing warning due to google colab environment\n",
        "import warnings\n",
        "warnings.filterwarnings(\"ignore\", category=DeprecationWarning)"
      ]
    },
    {
      "cell_type": "code",
      "execution_count": 2,
      "id": "3731ea33",
      "metadata": {
        "id": "3731ea33"
      },
      "outputs": [],
      "source": [
        "# Import libraries\n",
        "import datetime\n",
        "import numpy as np\n",
        "import pandas as pd\n",
        "import plotly.express as px\n",
        "from sklearn.metrics import make_scorer, mean_squared_error\n",
        "from sklearn.model_selection import GridSearchCV, train_test_split, TimeSeriesSplit\n",
        "from sklearn.preprocessing import StandardScaler\n",
        "import xgboost as xgb\n",
        "import tensorflow as tf\n",
        "from tensorflow import keras\n",
        "from keras.models import Sequential\n",
        "from keras.layers import Normalization, Dense, Input, Dropout, BatchNormalization, LSTM, Bidirectional, Reshape\n",
        "from keras.optimizers import Adam\n",
        "from keras.metrics import RootMeanSquaredError\n",
        "from keras.utils import timeseries_dataset_from_array\n",
        "\n",
        "from hyperopt import hp, fmin, tpe, space_eval, STATUS_OK"
      ]
    },
    {
      "cell_type": "code",
      "execution_count": 3,
      "id": "LcKvjPd27cDu",
      "metadata": {
        "colab": {
          "base_uri": "https://localhost:8080/"
        },
        "id": "LcKvjPd27cDu",
        "outputId": "ae9a8676-cd7c-4c35-ee91-ece02b24f54d"
      },
      "outputs": [
        {
          "output_type": "stream",
          "name": "stdout",
          "text": [
            "Collecting shap\n",
            "  Downloading shap-0.42.1-cp310-cp310-manylinux_2_12_x86_64.manylinux2010_x86_64.manylinux_2_17_x86_64.manylinux2014_x86_64.whl (547 kB)\n",
            "\u001b[?25l     \u001b[90m━━━━━━━━━━━━━━━━━━━━━━━━━━━━━━━━━━━━━━━━\u001b[0m \u001b[32m0.0/547.9 kB\u001b[0m \u001b[31m?\u001b[0m eta \u001b[36m-:--:--\u001b[0m\r\u001b[2K     \u001b[91m━━━━━━━━━━━━\u001b[0m\u001b[90m╺\u001b[0m\u001b[90m━━━━━━━━━━━━━━━━━━━━━━━━━━\u001b[0m \u001b[32m174.1/547.9 kB\u001b[0m \u001b[31m5.1 MB/s\u001b[0m eta \u001b[36m0:00:01\u001b[0m\r\u001b[2K     \u001b[90m━━━━━━━━━━━━━━━━━━━━━━━━━━━━━━━━━━━━━━━\u001b[0m \u001b[32m547.9/547.9 kB\u001b[0m \u001b[31m9.7 MB/s\u001b[0m eta \u001b[36m0:00:00\u001b[0m\n",
            "\u001b[?25hRequirement already satisfied: numpy in /usr/local/lib/python3.10/dist-packages (from shap) (1.23.5)\n",
            "Requirement already satisfied: scipy in /usr/local/lib/python3.10/dist-packages (from shap) (1.11.2)\n",
            "Requirement already satisfied: scikit-learn in /usr/local/lib/python3.10/dist-packages (from shap) (1.2.2)\n",
            "Requirement already satisfied: pandas in /usr/local/lib/python3.10/dist-packages (from shap) (1.5.3)\n",
            "Requirement already satisfied: tqdm>=4.27.0 in /usr/local/lib/python3.10/dist-packages (from shap) (4.66.1)\n",
            "Requirement already satisfied: packaging>20.9 in /usr/local/lib/python3.10/dist-packages (from shap) (23.1)\n",
            "Collecting slicer==0.0.7 (from shap)\n",
            "  Downloading slicer-0.0.7-py3-none-any.whl (14 kB)\n",
            "Requirement already satisfied: numba in /usr/local/lib/python3.10/dist-packages (from shap) (0.56.4)\n",
            "Requirement already satisfied: cloudpickle in /usr/local/lib/python3.10/dist-packages (from shap) (2.2.1)\n",
            "Requirement already satisfied: llvmlite<0.40,>=0.39.0dev0 in /usr/local/lib/python3.10/dist-packages (from numba->shap) (0.39.1)\n",
            "Requirement already satisfied: setuptools in /usr/local/lib/python3.10/dist-packages (from numba->shap) (67.7.2)\n",
            "Requirement already satisfied: python-dateutil>=2.8.1 in /usr/local/lib/python3.10/dist-packages (from pandas->shap) (2.8.2)\n",
            "Requirement already satisfied: pytz>=2020.1 in /usr/local/lib/python3.10/dist-packages (from pandas->shap) (2023.3.post1)\n",
            "Requirement already satisfied: joblib>=1.1.1 in /usr/local/lib/python3.10/dist-packages (from scikit-learn->shap) (1.3.2)\n",
            "Requirement already satisfied: threadpoolctl>=2.0.0 in /usr/local/lib/python3.10/dist-packages (from scikit-learn->shap) (3.2.0)\n",
            "Requirement already satisfied: six>=1.5 in /usr/local/lib/python3.10/dist-packages (from python-dateutil>=2.8.1->pandas->shap) (1.16.0)\n",
            "Installing collected packages: slicer, shap\n",
            "Successfully installed shap-0.42.1 slicer-0.0.7\n"
          ]
        },
        {
          "output_type": "stream",
          "name": "stderr",
          "text": [
            "Using `tqdm.autonotebook.tqdm` in notebook mode. Use `tqdm.tqdm` instead to force console mode (e.g. in jupyter console)\n"
          ]
        }
      ],
      "source": [
        "# Following code only relevant when running on Google Colab\n",
        "# Install package ipyleaflet since it is not part of the standard packages\n",
        "# of Google Colab\n",
        "\n",
        "# Uncomment in Google Colab environment\n",
        "!pip install shap\n",
        "\n",
        "import shap"
      ]
    },
    {
      "cell_type": "code",
      "execution_count": 4,
      "id": "FBMlPVNJzgfz",
      "metadata": {
        "id": "FBMlPVNJzgfz"
      },
      "outputs": [],
      "source": [
        "keras.utils.set_random_seed(1)"
      ]
    },
    {
      "cell_type": "markdown",
      "id": "2516jhMiVxrJ",
      "metadata": {
        "id": "2516jhMiVxrJ"
      },
      "source": [
        "<a name=\"2.\"></a>\n",
        "# 2.&nbsp;Import dataset\n",
        "[Content](#content)"
      ]
    },
    {
      "cell_type": "markdown",
      "id": "IF9lS_3ok1tO",
      "metadata": {
        "id": "IF9lS_3ok1tO"
      },
      "source": [
        "Import the processed dataset."
      ]
    },
    {
      "cell_type": "code",
      "execution_count": 5,
      "id": "Xu3OXfHqVxfa",
      "metadata": {
        "id": "Xu3OXfHqVxfa"
      },
      "outputs": [],
      "source": [
        "# Set base url\n",
        "url = \"https://raw.githubusercontent.com/Rudinius/Bike_usage_Bremen/main/data/training/\""
      ]
    },
    {
      "cell_type": "code",
      "execution_count": 6,
      "id": "2etHV6ODVsUV",
      "metadata": {
        "colab": {
          "base_uri": "https://localhost:8080/",
          "height": 374
        },
        "id": "2etHV6ODVsUV",
        "outputId": "8e242b65-388d-43a3-b64c-ac32617694e7"
      },
      "outputs": [
        {
          "output_type": "execute_result",
          "data": {
            "text/plain": [
              "            graf_moltke_straße_ostseite  graf_moltke_straße_westseite  \\\n",
              "date                                                                    \n",
              "2013-01-01                        261.0                         290.0   \n",
              "2013-01-02                        750.0                         876.0   \n",
              "2013-01-03                        931.0                        1015.0   \n",
              "2013-01-04                        500.0                         587.0   \n",
              "2013-01-05                       1013.0                        1011.0   \n",
              "\n",
              "            hastedter_bruckenstraße  langemarckstraße_ostseite  \\\n",
              "date                                                             \n",
              "2013-01-01                    381.0                      312.0   \n",
              "2013-01-02                   1109.0                     1258.0   \n",
              "2013-01-03                   1603.0                     1556.0   \n",
              "2013-01-04                   1284.0                      703.0   \n",
              "2013-01-05                      0.0                     1856.0   \n",
              "\n",
              "            langemarckstraße_westseite  osterdeich  radweg_kleine_weser  \\\n",
              "date                                                                      \n",
              "2013-01-01                       308.0       870.0                410.0   \n",
              "2013-01-02                      1120.0      2169.0               1762.0   \n",
              "2013-01-03                      1480.0      2295.0               2287.0   \n",
              "2013-01-04                       626.0      1640.0               1548.0   \n",
              "2013-01-05                      1621.0      4128.0               4256.0   \n",
              "\n",
              "            schwachhauser_ring  wachmannstraße_auswarts_sud  \\\n",
              "date                                                          \n",
              "2013-01-01                 391                        514.0   \n",
              "2013-01-02                 829                       1786.0   \n",
              "2013-01-03                1196                       2412.0   \n",
              "2013-01-04                1418                        964.0   \n",
              "2013-01-05                3075                       2065.0   \n",
              "\n",
              "            wachmannstraße_einwarts_nord  ...  holiday_2_weihnachtsfeiertag  \\\n",
              "date                                      ...                                 \n",
              "2013-01-01                         267.0  ...                           0.0   \n",
              "2013-01-02                        1456.0  ...                           0.0   \n",
              "2013-01-03                        2035.0  ...                           0.0   \n",
              "2013-01-04                         702.0  ...                           0.0   \n",
              "2013-01-05                        1377.0  ...                           0.0   \n",
              "\n",
              "            holiday_christi_himmelfahrt  holiday_karfreitag  holiday_neujahr  \\\n",
              "date                                                                           \n",
              "2013-01-01                          0.0                 0.0              1.0   \n",
              "2013-01-02                          0.0                 0.0              0.0   \n",
              "2013-01-03                          0.0                 0.0              0.0   \n",
              "2013-01-04                          0.0                 0.0              0.0   \n",
              "2013-01-05                          0.0                 0.0              0.0   \n",
              "\n",
              "            holiday_ostermontag  holiday_pfingstmontag  \\\n",
              "date                                                     \n",
              "2013-01-01                  0.0                    0.0   \n",
              "2013-01-02                  0.0                    0.0   \n",
              "2013-01-03                  0.0                    0.0   \n",
              "2013-01-04                  0.0                    0.0   \n",
              "2013-01-05                  0.0                    0.0   \n",
              "\n",
              "            holiday_reformationstag  holiday_tag_der_arbeit  \\\n",
              "date                                                          \n",
              "2013-01-01                      0.0                     0.0   \n",
              "2013-01-02                      0.0                     0.0   \n",
              "2013-01-03                      0.0                     0.0   \n",
              "2013-01-04                      0.0                     0.0   \n",
              "2013-01-05                      0.0                     0.0   \n",
              "\n",
              "            holiday_tag_der_deutschen_einheit  transformed_vacation  \n",
              "date                                                                 \n",
              "2013-01-01                                0.0                     1  \n",
              "2013-01-02                                0.0                     1  \n",
              "2013-01-03                                0.0                     1  \n",
              "2013-01-04                                0.0                     1  \n",
              "2013-01-05                                0.0                     1  \n",
              "\n",
              "[5 rows x 62 columns]"
            ],
            "text/html": [
              "\n",
              "  <div id=\"df-a8c72e2d-10a4-49ee-b35e-e7732309667b\" class=\"colab-df-container\">\n",
              "    <div>\n",
              "<style scoped>\n",
              "    .dataframe tbody tr th:only-of-type {\n",
              "        vertical-align: middle;\n",
              "    }\n",
              "\n",
              "    .dataframe tbody tr th {\n",
              "        vertical-align: top;\n",
              "    }\n",
              "\n",
              "    .dataframe thead th {\n",
              "        text-align: right;\n",
              "    }\n",
              "</style>\n",
              "<table border=\"1\" class=\"dataframe\">\n",
              "  <thead>\n",
              "    <tr style=\"text-align: right;\">\n",
              "      <th></th>\n",
              "      <th>graf_moltke_straße_ostseite</th>\n",
              "      <th>graf_moltke_straße_westseite</th>\n",
              "      <th>hastedter_bruckenstraße</th>\n",
              "      <th>langemarckstraße_ostseite</th>\n",
              "      <th>langemarckstraße_westseite</th>\n",
              "      <th>osterdeich</th>\n",
              "      <th>radweg_kleine_weser</th>\n",
              "      <th>schwachhauser_ring</th>\n",
              "      <th>wachmannstraße_auswarts_sud</th>\n",
              "      <th>wachmannstraße_einwarts_nord</th>\n",
              "      <th>...</th>\n",
              "      <th>holiday_2_weihnachtsfeiertag</th>\n",
              "      <th>holiday_christi_himmelfahrt</th>\n",
              "      <th>holiday_karfreitag</th>\n",
              "      <th>holiday_neujahr</th>\n",
              "      <th>holiday_ostermontag</th>\n",
              "      <th>holiday_pfingstmontag</th>\n",
              "      <th>holiday_reformationstag</th>\n",
              "      <th>holiday_tag_der_arbeit</th>\n",
              "      <th>holiday_tag_der_deutschen_einheit</th>\n",
              "      <th>transformed_vacation</th>\n",
              "    </tr>\n",
              "    <tr>\n",
              "      <th>date</th>\n",
              "      <th></th>\n",
              "      <th></th>\n",
              "      <th></th>\n",
              "      <th></th>\n",
              "      <th></th>\n",
              "      <th></th>\n",
              "      <th></th>\n",
              "      <th></th>\n",
              "      <th></th>\n",
              "      <th></th>\n",
              "      <th></th>\n",
              "      <th></th>\n",
              "      <th></th>\n",
              "      <th></th>\n",
              "      <th></th>\n",
              "      <th></th>\n",
              "      <th></th>\n",
              "      <th></th>\n",
              "      <th></th>\n",
              "      <th></th>\n",
              "      <th></th>\n",
              "    </tr>\n",
              "  </thead>\n",
              "  <tbody>\n",
              "    <tr>\n",
              "      <th>2013-01-01</th>\n",
              "      <td>261.0</td>\n",
              "      <td>290.0</td>\n",
              "      <td>381.0</td>\n",
              "      <td>312.0</td>\n",
              "      <td>308.0</td>\n",
              "      <td>870.0</td>\n",
              "      <td>410.0</td>\n",
              "      <td>391</td>\n",
              "      <td>514.0</td>\n",
              "      <td>267.0</td>\n",
              "      <td>...</td>\n",
              "      <td>0.0</td>\n",
              "      <td>0.0</td>\n",
              "      <td>0.0</td>\n",
              "      <td>1.0</td>\n",
              "      <td>0.0</td>\n",
              "      <td>0.0</td>\n",
              "      <td>0.0</td>\n",
              "      <td>0.0</td>\n",
              "      <td>0.0</td>\n",
              "      <td>1</td>\n",
              "    </tr>\n",
              "    <tr>\n",
              "      <th>2013-01-02</th>\n",
              "      <td>750.0</td>\n",
              "      <td>876.0</td>\n",
              "      <td>1109.0</td>\n",
              "      <td>1258.0</td>\n",
              "      <td>1120.0</td>\n",
              "      <td>2169.0</td>\n",
              "      <td>1762.0</td>\n",
              "      <td>829</td>\n",
              "      <td>1786.0</td>\n",
              "      <td>1456.0</td>\n",
              "      <td>...</td>\n",
              "      <td>0.0</td>\n",
              "      <td>0.0</td>\n",
              "      <td>0.0</td>\n",
              "      <td>0.0</td>\n",
              "      <td>0.0</td>\n",
              "      <td>0.0</td>\n",
              "      <td>0.0</td>\n",
              "      <td>0.0</td>\n",
              "      <td>0.0</td>\n",
              "      <td>1</td>\n",
              "    </tr>\n",
              "    <tr>\n",
              "      <th>2013-01-03</th>\n",
              "      <td>931.0</td>\n",
              "      <td>1015.0</td>\n",
              "      <td>1603.0</td>\n",
              "      <td>1556.0</td>\n",
              "      <td>1480.0</td>\n",
              "      <td>2295.0</td>\n",
              "      <td>2287.0</td>\n",
              "      <td>1196</td>\n",
              "      <td>2412.0</td>\n",
              "      <td>2035.0</td>\n",
              "      <td>...</td>\n",
              "      <td>0.0</td>\n",
              "      <td>0.0</td>\n",
              "      <td>0.0</td>\n",
              "      <td>0.0</td>\n",
              "      <td>0.0</td>\n",
              "      <td>0.0</td>\n",
              "      <td>0.0</td>\n",
              "      <td>0.0</td>\n",
              "      <td>0.0</td>\n",
              "      <td>1</td>\n",
              "    </tr>\n",
              "    <tr>\n",
              "      <th>2013-01-04</th>\n",
              "      <td>500.0</td>\n",
              "      <td>587.0</td>\n",
              "      <td>1284.0</td>\n",
              "      <td>703.0</td>\n",
              "      <td>626.0</td>\n",
              "      <td>1640.0</td>\n",
              "      <td>1548.0</td>\n",
              "      <td>1418</td>\n",
              "      <td>964.0</td>\n",
              "      <td>702.0</td>\n",
              "      <td>...</td>\n",
              "      <td>0.0</td>\n",
              "      <td>0.0</td>\n",
              "      <td>0.0</td>\n",
              "      <td>0.0</td>\n",
              "      <td>0.0</td>\n",
              "      <td>0.0</td>\n",
              "      <td>0.0</td>\n",
              "      <td>0.0</td>\n",
              "      <td>0.0</td>\n",
              "      <td>1</td>\n",
              "    </tr>\n",
              "    <tr>\n",
              "      <th>2013-01-05</th>\n",
              "      <td>1013.0</td>\n",
              "      <td>1011.0</td>\n",
              "      <td>0.0</td>\n",
              "      <td>1856.0</td>\n",
              "      <td>1621.0</td>\n",
              "      <td>4128.0</td>\n",
              "      <td>4256.0</td>\n",
              "      <td>3075</td>\n",
              "      <td>2065.0</td>\n",
              "      <td>1377.0</td>\n",
              "      <td>...</td>\n",
              "      <td>0.0</td>\n",
              "      <td>0.0</td>\n",
              "      <td>0.0</td>\n",
              "      <td>0.0</td>\n",
              "      <td>0.0</td>\n",
              "      <td>0.0</td>\n",
              "      <td>0.0</td>\n",
              "      <td>0.0</td>\n",
              "      <td>0.0</td>\n",
              "      <td>1</td>\n",
              "    </tr>\n",
              "  </tbody>\n",
              "</table>\n",
              "<p>5 rows × 62 columns</p>\n",
              "</div>\n",
              "    <div class=\"colab-df-buttons\">\n",
              "\n",
              "  <div class=\"colab-df-container\">\n",
              "    <button class=\"colab-df-convert\" onclick=\"convertToInteractive('df-a8c72e2d-10a4-49ee-b35e-e7732309667b')\"\n",
              "            title=\"Convert this dataframe to an interactive table.\"\n",
              "            style=\"display:none;\">\n",
              "\n",
              "  <svg xmlns=\"http://www.w3.org/2000/svg\" height=\"24px\" viewBox=\"0 -960 960 960\">\n",
              "    <path d=\"M120-120v-720h720v720H120Zm60-500h600v-160H180v160Zm220 220h160v-160H400v160Zm0 220h160v-160H400v160ZM180-400h160v-160H180v160Zm440 0h160v-160H620v160ZM180-180h160v-160H180v160Zm440 0h160v-160H620v160Z\"/>\n",
              "  </svg>\n",
              "    </button>\n",
              "\n",
              "  <style>\n",
              "    .colab-df-container {\n",
              "      display:flex;\n",
              "      gap: 12px;\n",
              "    }\n",
              "\n",
              "    .colab-df-convert {\n",
              "      background-color: #E8F0FE;\n",
              "      border: none;\n",
              "      border-radius: 50%;\n",
              "      cursor: pointer;\n",
              "      display: none;\n",
              "      fill: #1967D2;\n",
              "      height: 32px;\n",
              "      padding: 0 0 0 0;\n",
              "      width: 32px;\n",
              "    }\n",
              "\n",
              "    .colab-df-convert:hover {\n",
              "      background-color: #E2EBFA;\n",
              "      box-shadow: 0px 1px 2px rgba(60, 64, 67, 0.3), 0px 1px 3px 1px rgba(60, 64, 67, 0.15);\n",
              "      fill: #174EA6;\n",
              "    }\n",
              "\n",
              "    .colab-df-buttons div {\n",
              "      margin-bottom: 4px;\n",
              "    }\n",
              "\n",
              "    [theme=dark] .colab-df-convert {\n",
              "      background-color: #3B4455;\n",
              "      fill: #D2E3FC;\n",
              "    }\n",
              "\n",
              "    [theme=dark] .colab-df-convert:hover {\n",
              "      background-color: #434B5C;\n",
              "      box-shadow: 0px 1px 3px 1px rgba(0, 0, 0, 0.15);\n",
              "      filter: drop-shadow(0px 1px 2px rgba(0, 0, 0, 0.3));\n",
              "      fill: #FFFFFF;\n",
              "    }\n",
              "  </style>\n",
              "\n",
              "    <script>\n",
              "      const buttonEl =\n",
              "        document.querySelector('#df-a8c72e2d-10a4-49ee-b35e-e7732309667b button.colab-df-convert');\n",
              "      buttonEl.style.display =\n",
              "        google.colab.kernel.accessAllowed ? 'block' : 'none';\n",
              "\n",
              "      async function convertToInteractive(key) {\n",
              "        const element = document.querySelector('#df-a8c72e2d-10a4-49ee-b35e-e7732309667b');\n",
              "        const dataTable =\n",
              "          await google.colab.kernel.invokeFunction('convertToInteractive',\n",
              "                                                    [key], {});\n",
              "        if (!dataTable) return;\n",
              "\n",
              "        const docLinkHtml = 'Like what you see? Visit the ' +\n",
              "          '<a target=\"_blank\" href=https://colab.research.google.com/notebooks/data_table.ipynb>data table notebook</a>'\n",
              "          + ' to learn more about interactive tables.';\n",
              "        element.innerHTML = '';\n",
              "        dataTable['output_type'] = 'display_data';\n",
              "        await google.colab.output.renderOutput(dataTable, element);\n",
              "        const docLink = document.createElement('div');\n",
              "        docLink.innerHTML = docLinkHtml;\n",
              "        element.appendChild(docLink);\n",
              "      }\n",
              "    </script>\n",
              "  </div>\n",
              "\n",
              "\n",
              "<div id=\"df-2547e1bb-480f-404b-89d6-d3d5c829b29c\">\n",
              "  <button class=\"colab-df-quickchart\" onclick=\"quickchart('df-2547e1bb-480f-404b-89d6-d3d5c829b29c')\"\n",
              "            title=\"Suggest charts.\"\n",
              "            style=\"display:none;\">\n",
              "\n",
              "<svg xmlns=\"http://www.w3.org/2000/svg\" height=\"24px\"viewBox=\"0 0 24 24\"\n",
              "     width=\"24px\">\n",
              "    <g>\n",
              "        <path d=\"M19 3H5c-1.1 0-2 .9-2 2v14c0 1.1.9 2 2 2h14c1.1 0 2-.9 2-2V5c0-1.1-.9-2-2-2zM9 17H7v-7h2v7zm4 0h-2V7h2v10zm4 0h-2v-4h2v4z\"/>\n",
              "    </g>\n",
              "</svg>\n",
              "  </button>\n",
              "\n",
              "<style>\n",
              "  .colab-df-quickchart {\n",
              "      --bg-color: #E8F0FE;\n",
              "      --fill-color: #1967D2;\n",
              "      --hover-bg-color: #E2EBFA;\n",
              "      --hover-fill-color: #174EA6;\n",
              "      --disabled-fill-color: #AAA;\n",
              "      --disabled-bg-color: #DDD;\n",
              "  }\n",
              "\n",
              "  [theme=dark] .colab-df-quickchart {\n",
              "      --bg-color: #3B4455;\n",
              "      --fill-color: #D2E3FC;\n",
              "      --hover-bg-color: #434B5C;\n",
              "      --hover-fill-color: #FFFFFF;\n",
              "      --disabled-bg-color: #3B4455;\n",
              "      --disabled-fill-color: #666;\n",
              "  }\n",
              "\n",
              "  .colab-df-quickchart {\n",
              "    background-color: var(--bg-color);\n",
              "    border: none;\n",
              "    border-radius: 50%;\n",
              "    cursor: pointer;\n",
              "    display: none;\n",
              "    fill: var(--fill-color);\n",
              "    height: 32px;\n",
              "    padding: 0;\n",
              "    width: 32px;\n",
              "  }\n",
              "\n",
              "  .colab-df-quickchart:hover {\n",
              "    background-color: var(--hover-bg-color);\n",
              "    box-shadow: 0 1px 2px rgba(60, 64, 67, 0.3), 0 1px 3px 1px rgba(60, 64, 67, 0.15);\n",
              "    fill: var(--button-hover-fill-color);\n",
              "  }\n",
              "\n",
              "  .colab-df-quickchart-complete:disabled,\n",
              "  .colab-df-quickchart-complete:disabled:hover {\n",
              "    background-color: var(--disabled-bg-color);\n",
              "    fill: var(--disabled-fill-color);\n",
              "    box-shadow: none;\n",
              "  }\n",
              "\n",
              "  .colab-df-spinner {\n",
              "    border: 2px solid var(--fill-color);\n",
              "    border-color: transparent;\n",
              "    border-bottom-color: var(--fill-color);\n",
              "    animation:\n",
              "      spin 1s steps(1) infinite;\n",
              "  }\n",
              "\n",
              "  @keyframes spin {\n",
              "    0% {\n",
              "      border-color: transparent;\n",
              "      border-bottom-color: var(--fill-color);\n",
              "      border-left-color: var(--fill-color);\n",
              "    }\n",
              "    20% {\n",
              "      border-color: transparent;\n",
              "      border-left-color: var(--fill-color);\n",
              "      border-top-color: var(--fill-color);\n",
              "    }\n",
              "    30% {\n",
              "      border-color: transparent;\n",
              "      border-left-color: var(--fill-color);\n",
              "      border-top-color: var(--fill-color);\n",
              "      border-right-color: var(--fill-color);\n",
              "    }\n",
              "    40% {\n",
              "      border-color: transparent;\n",
              "      border-right-color: var(--fill-color);\n",
              "      border-top-color: var(--fill-color);\n",
              "    }\n",
              "    60% {\n",
              "      border-color: transparent;\n",
              "      border-right-color: var(--fill-color);\n",
              "    }\n",
              "    80% {\n",
              "      border-color: transparent;\n",
              "      border-right-color: var(--fill-color);\n",
              "      border-bottom-color: var(--fill-color);\n",
              "    }\n",
              "    90% {\n",
              "      border-color: transparent;\n",
              "      border-bottom-color: var(--fill-color);\n",
              "    }\n",
              "  }\n",
              "</style>\n",
              "\n",
              "  <script>\n",
              "    async function quickchart(key) {\n",
              "      const quickchartButtonEl =\n",
              "        document.querySelector('#' + key + ' button');\n",
              "      quickchartButtonEl.disabled = true;  // To prevent multiple clicks.\n",
              "      quickchartButtonEl.classList.add('colab-df-spinner');\n",
              "      try {\n",
              "        const charts = await google.colab.kernel.invokeFunction(\n",
              "            'suggestCharts', [key], {});\n",
              "      } catch (error) {\n",
              "        console.error('Error during call to suggestCharts:', error);\n",
              "      }\n",
              "      quickchartButtonEl.classList.remove('colab-df-spinner');\n",
              "      quickchartButtonEl.classList.add('colab-df-quickchart-complete');\n",
              "    }\n",
              "    (() => {\n",
              "      let quickchartButtonEl =\n",
              "        document.querySelector('#df-2547e1bb-480f-404b-89d6-d3d5c829b29c button');\n",
              "      quickchartButtonEl.style.display =\n",
              "        google.colab.kernel.accessAllowed ? 'block' : 'none';\n",
              "    })();\n",
              "  </script>\n",
              "</div>\n",
              "    </div>\n",
              "  </div>\n"
            ]
          },
          "metadata": {},
          "execution_count": 6
        }
      ],
      "source": [
        "# Import dataset\n",
        "\n",
        "# We will also parse the date column as datetime64 and set it to the index column\n",
        "df = pd.read_csv(url + \"2023-08-24_processed_df.csv\",\n",
        "                         parse_dates=[0], index_col=[0])\n",
        "\n",
        "# Check the correct loading of dataset\n",
        "df.head()"
      ]
    },
    {
      "cell_type": "markdown",
      "id": "jv96sN3croOJ",
      "metadata": {
        "id": "jv96sN3croOJ"
      },
      "source": [
        "<a name=\"3.\"></a>\n",
        "# 3.&nbsp;Select a target station\n",
        "[Content](#content)\n"
      ]
    },
    {
      "cell_type": "markdown",
      "id": "OG06qWVLrl_R",
      "metadata": {
        "id": "OG06qWVLrl_R"
      },
      "source": [
        "There are many stations that we could train our model on. Also we could add up all stations to a column `total` and try to predict the overall number in the city per day. However this approach would average many values which would lead on side to less noisy data as single outliers would be less impactful. On the other side it would also average over indivdual patterns.\n",
        "\n",
        "For this reason, we choose a single station to train our model on. For real-life purposes better results could be expected with one model per station.\n",
        "\n",
        "For the further process, we will work with the station: `wilhelm_kaisen_brucke_ost`\n"
      ]
    },
    {
      "cell_type": "code",
      "execution_count": 7,
      "id": "cdukN1mWtqr5",
      "metadata": {
        "id": "cdukN1mWtqr5"
      },
      "outputs": [],
      "source": [
        "target = \"imputed_wilhelm_kaisen_brucke_ost\""
      ]
    },
    {
      "cell_type": "markdown",
      "id": "gBM3I6LFOHL9",
      "metadata": {
        "id": "gBM3I6LFOHL9"
      },
      "source": [
        "<a name=\"4.\"></a>\n",
        "# 4.&nbsp;Establish baseline benchmark\n",
        "[Content](#content)\n"
      ]
    },
    {
      "cell_type": "markdown",
      "id": "VgkVXhdAx6zB",
      "metadata": {
        "id": "VgkVXhdAx6zB"
      },
      "source": [
        "For our current task of creating model a to predict the amount of cyclers for a given day, we do not have any baseline metric score to measure our model against.\n",
        "For this reason, we will create a naive baseline model. For this, we will simply predict the amount of a day based on the value of previous day."
      ]
    },
    {
      "cell_type": "code",
      "execution_count": 8,
      "id": "hPxJANalKxpN",
      "metadata": {
        "colab": {
          "base_uri": "https://localhost:8080/"
        },
        "id": "hPxJANalKxpN",
        "outputId": "f54944d1-88d1-4816-f5d3-0e9db3e051a5"
      },
      "outputs": [
        {
          "output_type": "stream",
          "name": "stdout",
          "text": [
            "RMSE: 2346.990813\n"
          ]
        }
      ],
      "source": [
        "# Calculate RMSE between two columns shifted by one day\n",
        "rmse = np.sqrt(mean_squared_error(df[target].iloc[:-1], df[target].shift(-1).iloc[:-1]))\n",
        "print(\"RMSE: %f\" % (rmse))"
      ]
    },
    {
      "cell_type": "markdown",
      "id": "f6O5OFAwW9Pm",
      "metadata": {
        "id": "f6O5OFAwW9Pm"
      },
      "source": [
        "If we were naivly predicting the current value with the last value, we get an error over the entire dataset of approximately $2.347$. This is our naive benchmark to compare our model against."
      ]
    },
    {
      "cell_type": "markdown",
      "id": "YHm0GDHUmczY",
      "metadata": {
        "id": "YHm0GDHUmczY"
      },
      "source": [
        "Another method would be to predict the value of a given day by the average of all the other equal days in the dataset (e.g., to predict 18.08.2017, we take the average of all other 18.08. days in the dataset)."
      ]
    },
    {
      "cell_type": "code",
      "execution_count": 9,
      "id": "kOSNaRxAdoCA",
      "metadata": {
        "colab": {
          "base_uri": "https://localhost:8080/"
        },
        "id": "kOSNaRxAdoCA",
        "outputId": "e273ce74-16ca-4f5c-ba93-acb632129de9"
      },
      "outputs": [
        {
          "output_type": "stream",
          "name": "stdout",
          "text": [
            "RMSE: 2033.3351259991568\n"
          ]
        }
      ],
      "source": [
        "# Initialize squared error\n",
        "se = 0\n",
        "\n",
        "# Get the total number of examples\n",
        "m = df.shape[0]\n",
        "\n",
        "for i in df.index:\n",
        "    day = i.day\n",
        "    month = i.month\n",
        "    year = i.year\n",
        "\n",
        "    # create a mask for given day but exclude the day we want to predict\n",
        "    mask = (df.index.day == day) & (df.index.month == month) & (df.index.year != year)\n",
        "\n",
        "    # Get value for current day and mean values of all the other same days in the dataset\n",
        "    y = df.loc[i, target]\n",
        "    y_hat = df.loc[mask, target].mean()\n",
        "\n",
        "    # Calculate the squared error\n",
        "    se += (y - y_hat)**2\n",
        "\n",
        "# Calculate mean squared error\n",
        "mse = se / m\n",
        "\n",
        "# Calcualte root mean squared error\n",
        "rmse = np.sqrt(mse)\n",
        "\n",
        "print(f\"RMSE: {rmse}\")"
      ]
    },
    {
      "cell_type": "markdown",
      "id": "SQ-iEzyHoc8M",
      "metadata": {
        "id": "SQ-iEzyHoc8M"
      },
      "source": [
        "With this second approach, of average all our previous values for the given day and using this as our forecast, we get an error over the entire dataset of approximately $2,033$.\n",
        "\n",
        "The error of this second naive approach is close to the first approach.\n",
        "Both approaches could be seen as human-level as this would be a typical approach of a human, to predict the value of any given day. A domain expert, who also looks at more data and e.g., compares also the temperatures, could come up with better estimates. However humans are typically not very good in accurately predicting complex time-series data. The expected Bayes error (least possible error) should therefore be much lower."
      ]
    },
    {
      "cell_type": "markdown",
      "id": "mO2Xt87cykEf",
      "metadata": {
        "id": "mO2Xt87cykEf"
      },
      "source": [
        "<a name=\"5.\"></a>\n",
        "# 5.&nbsp;Selecting features, splitting the data, standardizing\n",
        "[Content](#content)"
      ]
    },
    {
      "cell_type": "markdown",
      "id": "rryDm2ZBotqN",
      "metadata": {
        "id": "rryDm2ZBotqN"
      },
      "source": [
        "First we select all the features we want to use for our training. During the EDA step, we already decided to exclude some features. However it can always be checked, if some of the features might not add a benefit."
      ]
    },
    {
      "cell_type": "code",
      "execution_count": 10,
      "id": "vZyJeABHuthG",
      "metadata": {
        "id": "vZyJeABHuthG"
      },
      "outputs": [],
      "source": [
        "# Higly correlated features have been removed (tavg, tmin, imputed_wpgt)\n",
        "# Features with no correlation have been removed (imputed_wdir, wdir_sin, wdir_cos)\n",
        "# Only all single couting stations are being removed\n",
        "\n",
        "features_date = [\n",
        "    'year',\n",
        "    'month',\n",
        "    'day',\n",
        "    'weekday',\n",
        "]\n",
        "\n",
        "features_sin_cos_transformation = [\n",
        "    'week_sin', 'week_cos',\n",
        "    'month_sin', 'month_cos',\n",
        "    'year_sin', 'year_cos',\n",
        "]\n",
        "\n",
        "features_weather = [\n",
        "    'tmax',\n",
        "    'prcp',\n",
        "    'imputed_snow',\n",
        "    'wspd',\n",
        "    'pres',\n",
        "    'tsun',\n",
        "    ]\n",
        "\n",
        "features_holidays_vacation = [\n",
        "    'holiday_1_weihnachtsfeiertag', 'holiday_2_weihnachtsfeiertag',\n",
        "    'holiday_christi_himmelfahrt', 'holiday_karfreitag', 'holiday_neujahr',\n",
        "    'holiday_ostermontag', 'holiday_pfingstmontag',\n",
        "    'holiday_reformationstag', 'holiday_tag_der_arbeit',\n",
        "    'holiday_tag_der_deutschen_einheit', 'transformed_vacation'\n",
        "    ]\n",
        "\n",
        "# Target is 'imputed_wilhelm_kaisen_brucke_ost'\n",
        "target = target"
      ]
    },
    {
      "cell_type": "code",
      "execution_count": 11,
      "id": "BiakefxsxJ7e",
      "metadata": {
        "colab": {
          "base_uri": "https://localhost:8080/"
        },
        "id": "BiakefxsxJ7e",
        "outputId": "173366b2-6a22-4839-9bf0-926657842e70"
      },
      "outputs": [
        {
          "output_type": "execute_result",
          "data": {
            "text/plain": [
              "['week_sin',\n",
              " 'week_cos',\n",
              " 'month_sin',\n",
              " 'month_cos',\n",
              " 'year_sin',\n",
              " 'year_cos',\n",
              " 'tmax',\n",
              " 'prcp',\n",
              " 'imputed_snow',\n",
              " 'wspd',\n",
              " 'pres',\n",
              " 'tsun',\n",
              " 'holiday_1_weihnachtsfeiertag',\n",
              " 'holiday_2_weihnachtsfeiertag',\n",
              " 'holiday_christi_himmelfahrt',\n",
              " 'holiday_karfreitag',\n",
              " 'holiday_neujahr',\n",
              " 'holiday_ostermontag',\n",
              " 'holiday_pfingstmontag',\n",
              " 'holiday_reformationstag',\n",
              " 'holiday_tag_der_arbeit',\n",
              " 'holiday_tag_der_deutschen_einheit',\n",
              " 'transformed_vacation']"
            ]
          },
          "metadata": {},
          "execution_count": 11
        }
      ],
      "source": [
        "# Put the features togehter and check if feature vector is correct\n",
        "features = features_sin_cos_transformation + features_weather + features_holidays_vacation\n",
        "features"
      ]
    },
    {
      "cell_type": "markdown",
      "id": "XH_6MbWERL_5",
      "metadata": {
        "id": "XH_6MbWERL_5"
      },
      "source": [
        "Now, we will split the data into a training set, a dev set and a test set.\n",
        "\n",
        "When splitting into train, dev and test set, we will not shuffle the data. This ensures that the validation results are more realistic since they are being evaluated on the data collected after the model was trained. Otherwise we would introduce a \"leakage error\" into our data."
      ]
    },
    {
      "cell_type": "code",
      "execution_count": 12,
      "id": "nxeQ39ojh2Y-",
      "metadata": {
        "colab": {
          "base_uri": "https://localhost:8080/"
        },
        "id": "nxeQ39ojh2Y-",
        "outputId": "7d6ecae1-500f-4de4-a49c-e1dfb477370f"
      },
      "outputs": [
        {
          "output_type": "stream",
          "name": "stdout",
          "text": [
            "X_train:  (2921, 23) y_train:  (2921,)\n",
            "X_train first day:  2013-01-01 and last day:  2020-12-30\n",
            "y_train first day:  2013-01-01 and last day:  2020-12-30\n",
            "X_dev:  (365, 23) y_dev:  (365,)\n",
            "X_dev first day:  2020-12-31 and last day:  2021-12-30\n",
            "y_dev first day:  2020-12-31 and last day:  2021-12-30\n",
            "X_test:  (366, 23) y_test:  (366,)\n",
            "X_test first day:  2021-12-31 and last day:  2022-12-31\n",
            "y_test first day:  2021-12-31 and last day:  2022-12-31\n"
          ]
        }
      ],
      "source": [
        "# Split the data into training and dev sets\n",
        "# We set shuffle to False\n",
        "\n",
        "# Split full dataset 80/20 (~8 years to 2 years)\n",
        "X_train, X_temp, y_train, y_temp = train_test_split(df[features], df[target],\n",
        "                                                    test_size=0.2, shuffle=False, random_state=0)\n",
        "# Split smaller dataset again 50/50 (~1 year each)\n",
        "X_dev, X_test, y_dev, y_test = train_test_split(X_temp, y_temp,\n",
        "                                                    test_size=0.5, shuffle=False, random_state=0)\n",
        "\n",
        "# Check the beginning end of each dataset\n",
        "print(\"X_train: \", X_train[features].shape, \"y_train: \", y_train.shape)\n",
        "print(\"X_train first day: \", X_train.index.date[0], \"and last day: \", X_train.index.date[-1])\n",
        "print(\"y_train first day: \", y_train.index.date[0], \"and last day: \", y_train.index.date[-1])\n",
        "print(\"X_dev: \", X_dev[features].shape, \"y_dev: \", y_dev.shape)\n",
        "print(\"X_dev first day: \", X_dev.index.date[0], \"and last day: \", X_dev.index.date[-1])\n",
        "print(\"y_dev first day: \", y_dev.index.date[0], \"and last day: \", y_dev.index.date[-1])\n",
        "print(\"X_test: \", X_test[features].shape, \"y_test: \", y_test.shape)\n",
        "print(\"X_test first day: \", X_test.index.date[0], \"and last day: \", X_test.index.date[-1])\n",
        "print(\"y_test first day: \", y_test.index.date[0], \"and last day: \", y_test.index.date[-1])"
      ]
    },
    {
      "cell_type": "markdown",
      "id": "a1GVZoPCdit-",
      "metadata": {
        "id": "a1GVZoPCdit-"
      },
      "source": [
        "Finally, we will standardize our dataset. Standarization will generally improve learning speed of the models and can help to improve the accuarcy of the model.\n",
        "\n",
        "The newly created scaled datasets will only be used for XGBoost. For the other two models, we will directly use a `Normalization layer`."
      ]
    },
    {
      "cell_type": "code",
      "execution_count": 13,
      "id": "ZwsuKeAWsUr8",
      "metadata": {
        "id": "ZwsuKeAWsUr8"
      },
      "outputs": [],
      "source": [
        "# Standardize and fit to the training set only\n",
        "scaler = StandardScaler()\n",
        "X_train_scaled = scaler.fit_transform(X_train)\n",
        "\n",
        "# Apply the same standardization to the dev set\n",
        "X_dev_scaled = scaler.transform(X_dev)\n",
        "\n",
        "# Apply the same standardization to the test set\n",
        "X_test_scaled = scaler.transform(X_test)"
      ]
    },
    {
      "cell_type": "markdown",
      "id": "5HqwjOgkxauH",
      "metadata": {
        "id": "5HqwjOgkxauH"
      },
      "source": [
        "<a name=\"6.\"></a>\n",
        "# 6.&nbsp;Training machine learning algorithms\n",
        "[Content](#content)\n",
        "\n",
        "We are going to train 1 shallow machine learning algorithm and 2 deep machine learning algorithms to be able to compare performances. Those are:\n",
        "\n",
        "* XGBoost\n",
        "* Multilayer Perceptron (MLP -- standard NN)\n",
        "* Recurrent Neural Network (RNN)\n",
        "\n",
        "We will not train \"state-of-the-art\" models but rather compare three simple model architectures with each other."
      ]
    },
    {
      "cell_type": "markdown",
      "id": "9b154c25",
      "metadata": {
        "id": "9b154c25"
      },
      "source": [
        "<a name=\"6.1.\"></a>\n",
        "## 6.1. Consideration regarding sequential data\n",
        "\n",
        "[Content](#content)\n",
        "\n",
        "In contrast to RNNs where the algorithm takes the datapoints of previous timesteps into account, XGBoost and MLPs do not have direct access to the sequential data of previous time steps.\n",
        "Those algorithms have only indirect knowledge via the learned model parameters. RNNs however directly include the previous timestep for learning the parameters of the current timestep.\n",
        "\n",
        "Therefore in step of feature engineering, we could add features (e.g., the amount of cyclers of the previous three days) to the dataset. This was tested but only had marginal improvements.\n",
        "\n",
        "The dataset consists of timeseries data but it does not appear to be overly depended on the previous datapoints. This means, that the amount of cyclers on a previous day, has no direct impact on today. E.g., if the previous day was a sunny and warm Sunday which caused many people to go outside and ride bicycle, it has no huge impact on today. Much more relevant would be that today is a Monday following the Sunday (which is already encoded in the features) and what the weather is like today and not what is was yesterday.  \n",
        "\n",
        "Therefore we will not include those features. The function to create those features can be found below nevertheless and can be tested."
      ]
    },
    {
      "cell_type": "code",
      "execution_count": null,
      "id": "a03f3499",
      "metadata": {
        "id": "a03f3499"
      },
      "outputs": [],
      "source": [
        "# utils\n",
        "def create_lag_features(df, feature, num_lag=3):\n",
        "    \"\"\"\n",
        "        Function that takes a dataframe, feature and num_lag and return the\n",
        "        the dataframe with n=num_lag new columns and values shifted by num_lag\n",
        "\n",
        "        Args:\n",
        "            df (pandas.DataFrame): datafrane to be changed\n",
        "            feature (str): name of the feature to be changed\n",
        "            num_lag (int): number of timesteps (lags)\n",
        "\n",
        "    \"\"\"\n",
        "\n",
        "    num_lag = num_lag\n",
        "\n",
        "    for i in range(1, num_lag+1):\n",
        "\n",
        "        name_lag_feature = f\"{i}_lag_{feature}\"\n",
        "        df[name_lag_feature] = df[feature].shift(i)\n",
        "\n",
        "#create_lag_features(df, target, num_lag=3)\n",
        "#df[[target, f\"1_lag_{target}\", f\"2_lag_{target}\", f\"3_lag_{target}\"]].head()"
      ]
    },
    {
      "cell_type": "markdown",
      "id": "foy0LFufoDlk",
      "metadata": {
        "id": "foy0LFufoDlk"
      },
      "source": [
        "<a name=\"6.2.\"></a>\n",
        "## 6.2. XGBoost\n",
        "[Content](#content)"
      ]
    },
    {
      "cell_type": "markdown",
      "id": "amR72D-bg9Ea",
      "metadata": {
        "id": "amR72D-bg9Ea"
      },
      "source": [
        "<a name=\"6.2.1.\"></a>\n",
        "### 6.2.1 Using GridSeachCV to select the optimal parameters\n",
        "[Content](#content)"
      ]
    },
    {
      "cell_type": "markdown",
      "id": "BOk23hijr6Rb",
      "metadata": {
        "id": "BOk23hijr6Rb"
      },
      "source": [
        "We will use `Hyperopt` to select optimal parameters for our model. For this we create a `score` function that takes a set of parameters from the `space` dictionary and returns the `rmse` score. The `fmin` function from hyperopt optimizes against the dev dataset and finds the best hyperparameters."
      ]
    },
    {
      "cell_type": "code",
      "execution_count": 15,
      "id": "TB-c62B8Je2b",
      "metadata": {
        "id": "TB-c62B8Je2b"
      },
      "outputs": [],
      "source": [
        "# Create custom function for evaluating GridSearchCV\n",
        "def custom_rmse(y, y_hat):\n",
        "    return np.sqrt(mean_squared_error(y, y_hat))"
      ]
    },
    {
      "cell_type": "code",
      "source": [
        "def score(params):\n",
        "    #print(\"Training with params: \")\n",
        "    #print(params)\n",
        "\n",
        "    xg_reg = xgb.XGBRegressor(**params)\n",
        "    xg_reg.fit(X_train_scaled, y_train)\n",
        "\n",
        "    y_dev_hat = xg_reg.predict(X_dev_scaled)\n",
        "    rmse = custom_rmse(y_dev, y_dev_hat)\n",
        "\n",
        "    print(\"RMSE: \", rmse)\n",
        "\n",
        "    return {'loss': rmse, 'status': STATUS_OK }\n"
      ],
      "metadata": {
        "id": "qrSgLI5IbV0Y"
      },
      "id": "qrSgLI5IbV0Y",
      "execution_count": 14,
      "outputs": []
    },
    {
      "cell_type": "code",
      "source": [
        "space = {\n",
        "        \"objective\" :'reg:squarederror',\n",
        "        \"learning_rate\": hp.loguniform(\"learning_rate\", -3.0, 0.0),\n",
        "        'n_estimators': hp.uniformint('n_estimators', 100, 1000),\n",
        "        'max_depth':  hp.choice('max_depth', np.arange(1, 14)),\n",
        "        'reg_alpha': hp.quniform(\"reg_alpha\", 1, 15, 1),\n",
        "        'reg_lambda': hp.quniform(\"reg_lambda\", 1, 15, 1),\n",
        "        'subsample': hp.quniform('subsample', 0.8, 1, 0.05),\n",
        "        'colsample_bytree': hp.quniform('colsample_bytree', 0.7, 1, 0.05),\n",
        "        'booster': 'gbtree',\n",
        "        'tree_method': 'exact',\n",
        "    }"
      ],
      "metadata": {
        "id": "FGEGxqcUpi3-"
      },
      "id": "FGEGxqcUpi3-",
      "execution_count": null,
      "outputs": []
    },
    {
      "cell_type": "code",
      "source": [
        "best_params = fmin(score, space, algo=tpe.suggest, max_evals=400)\n",
        "# The next line is necessary to cast estimators to int, so it does not cause errors durign .fit\n",
        "best_params[\"n_estimators\"] = int(best_params[\"n_estimators\"])\n",
        "#best_params\n",
        "\n",
        "# Build the XGBoost regressor model with selected hyper parameters\n",
        "xg_reg = xgb.XGBRegressor(**best_params)\n",
        "\n",
        "# Save model\n",
        "date = datetime.date.today()\n",
        "file_name = f\"{date}\" + \"_xgboost.json\"\n",
        "xg_reg.save_model(file_name)"
      ],
      "metadata": {
        "id": "ICZu5VLOrkZR"
      },
      "id": "ICZu5VLOrkZR",
      "execution_count": null,
      "outputs": []
    },
    {
      "cell_type": "markdown",
      "id": "XgkmuNZ0sCn1",
      "metadata": {
        "id": "XgkmuNZ0sCn1"
      },
      "source": [
        "<a name=\"6.2.2.\"></a>\n",
        "### 6.2.2. Train the model and evaluate\n",
        "[Content](#content)"
      ]
    },
    {
      "cell_type": "code",
      "source": [
        "# Load model\n",
        "# Initialize model\n",
        "xg_reg = xgb.XGBRegressor()\n",
        "xg_reg.load_model('2023-09-29_xgboost.json')"
      ],
      "metadata": {
        "id": "7hacEgqW-JnQ"
      },
      "id": "7hacEgqW-JnQ",
      "execution_count": 49,
      "outputs": []
    },
    {
      "cell_type": "code",
      "execution_count": 50,
      "id": "u9DKLFqkmIRm",
      "metadata": {
        "colab": {
          "base_uri": "https://localhost:8080/"
        },
        "id": "u9DKLFqkmIRm",
        "outputId": "26acfc6b-d034-4437-9110-0d31b93f7183"
      },
      "outputs": [
        {
          "output_type": "stream",
          "name": "stdout",
          "text": [
            "Train RMSE: 998.556508\n",
            "Dev RMSE: 1545.776995\n",
            "Test RMSE: 1388.617196\n"
          ]
        }
      ],
      "source": [
        "# Evaluate the model's performance using RMSE\n",
        "\n",
        "# Training set\n",
        "# Predict on the train set\n",
        "y_train_hat = xg_reg.predict(X_train_scaled)\n",
        "rmse_train = custom_rmse(y_train, y_train_hat)\n",
        "print(\"Train RMSE: %f\" % (rmse_train))\n",
        "\n",
        "# Dev set\n",
        "# Predict on the dev set\n",
        "y_dev_hat = xg_reg.predict(X_dev_scaled)\n",
        "rmse_dev = custom_rmse(y_dev, y_dev_hat)\n",
        "print(\"Dev RMSE: %f\" % (rmse_dev))\n",
        "\n",
        "# Test set\n",
        "# Predict on the test set\n",
        "y_test_hat = xg_reg.predict(X_test_scaled)\n",
        "rmse_test = custom_rmse(y_test, y_test_hat)\n",
        "print(\"Test RMSE: %f\" % (rmse_test))"
      ]
    },
    {
      "cell_type": "code",
      "execution_count": 51,
      "id": "0aU9pLkkWTWj",
      "metadata": {
        "colab": {
          "base_uri": "https://localhost:8080/",
          "height": 542
        },
        "id": "0aU9pLkkWTWj",
        "outputId": "3f808d79-221d-47e7-ad14-cd4dffdf70be"
      },
      "outputs": [
        {
          "output_type": "display_data",
          "data": {
            "text/html": [
              "<html>\n",
              "<head><meta charset=\"utf-8\" /></head>\n",
              "<body>\n",
              "    <div>            <script src=\"https://cdnjs.cloudflare.com/ajax/libs/mathjax/2.7.5/MathJax.js?config=TeX-AMS-MML_SVG\"></script><script type=\"text/javascript\">if (window.MathJax && window.MathJax.Hub && window.MathJax.Hub.Config) {window.MathJax.Hub.Config({SVG: {font: \"STIX-Web\"}});}</script>                <script type=\"text/javascript\">window.PlotlyConfig = {MathJaxConfig: 'local'};</script>\n",
              "        <script charset=\"utf-8\" src=\"https://cdn.plot.ly/plotly-2.24.1.min.js\"></script>                <div id=\"e1d0d94e-3048-4a02-8708-e449da34ccde\" class=\"plotly-graph-div\" style=\"height:525px; width:100%;\"></div>            <script type=\"text/javascript\">                                    window.PLOTLYENV=window.PLOTLYENV || {};                                    if (document.getElementById(\"e1d0d94e-3048-4a02-8708-e449da34ccde\")) {                    Plotly.newPlot(                        \"e1d0d94e-3048-4a02-8708-e449da34ccde\",                        [{\"hovertemplate\":\"\\u003cextra\\u003e\\u003c\\u002fextra\\u003e\",\"legendgroup\":\"\",\"line\":{\"color\":\"#636efa\",\"dash\":\"solid\"},\"marker\":{\"symbol\":\"circle\"},\"mode\":\"lines\",\"name\":\"\",\"orientation\":\"v\",\"showlegend\":false,\"xaxis\":\"x\",\"yaxis\":\"y\",\"type\":\"scatter\"},{\"line\":{\"color\":\"red\"},\"mode\":\"lines+markers\",\"name\":\"Train RMSE\",\"x\":[0,1,2,3,4,5,6,7,8,9,10,11,12,13,14,15,16,17,18,19,20,21,22,23,24,25,26,27,28,29,30,31,32,33,34,35,36,37,38,39,40,41,42,43,44,45,46,47,48,49,50,51,52,53,54,55,56,57,58,59,60,61,62,63,64,65,66,67,68,69,70,71,72,73,74,75,76,77,78,79,80,81,82,83,84,85,86,87,88,89,90,91,92,93,94,95,96,97,98,99,100,101,102,103,104,105,106,107,108,109,110,111,112,113,114,115,116,117,118,119,120,121,122,123,124,125,126,127,128,129,130,131,132,133,134,135,136,137,138,139,140,141,142,143,144,145,146,147,148,149,150,151,152,153,154,155,156,157,158,159,160,161,162,163,164,165,166,167,168,169,170,171,172,173,174,175,176,177,178,179,180,181,182,183,184,185,186,187,188,189,190,191,192,193,194],\"y\":[6011.426453553312,5480.9406642591075,5012.852643961979,4582.6951829444,4196.4683256986,3852.924513920965,3544.1374577623005,3268.5097691086958,3023.267848407714,2811.747710379938,2618.420419109462,2450.02743226918,2300.886622158727,2168.6937107151907,2052.6280839067285,1951.0497109039989,1863.1101654422607,1786.0469371824736,1720.376278423852,1662.6160843833854,1608.7118365598417,1565.8781193572424,1527.5550519956582,1492.1628222720242,1463.5420740133984,1439.5975611222277,1418.3741224406795,1400.059521607396,1382.4336631813117,1366.1273869254549,1354.4775240544154,1342.9399281937597,1330.1322275491464,1319.4871339972851,1312.1606997035378,1306.2612058046775,1299.6854957926896,1293.5934674481973,1288.0847867350178,1283.8321086753253,1280.3608233641419,1276.625745028902,1273.057138188251,1268.7796624265882,1265.7213429224464,1262.8529654043514,1258.8360977029247,1255.9633206089243,1254.4435319034499,1252.904301167878,1250.5951452506504,1245.1540778405683,1243.0911158486354,1238.5061393917233,1234.7887906281626,1232.7509582344974,1231.7784030553487,1230.0496179201364,1227.27277001829,1226.2285341041315,1223.7480851957457,1219.8947358299815,1217.086662453276,1213.6103608415635,1212.2498283420096,1209.2969674885442,1207.3536856865555,1206.538605709562,1202.2682997549464,1200.4826163833277,1198.8772017609015,1195.2349894399367,1193.7950933942986,1192.9294935536234,1191.115006997057,1190.0808235499364,1189.3779903732045,1186.9969408114366,1184.5214623451454,1180.9340053599258,1178.5212248070932,1176.2414364947529,1172.3411127243164,1170.8010800767572,1169.6500167774243,1168.6004495984384,1166.365201444858,1163.7855225168253,1162.629631813276,1160.7690379812782,1158.5138767757608,1156.553388522551,1153.7402201118684,1153.304980678399,1151.018491448387,1148.4793687105068,1146.9859448922562,1145.1285559689497,1144.0654525665263,1142.8845720684992,1141.448912803863,1140.182000877562,1139.3541841091608,1138.6946223487855,1137.777089388213,1136.701772460163,1133.9002663222516,1133.1440722988643,1130.716669285307,1127.9234926261959,1126.7897256167635,1126.1806076566738,1124.535874140711,1122.7747094086164,1121.420877190591,1120.1913357254484,1118.2130987528933,1116.8343339055164,1114.7633538523014,1111.4073385357592,1108.974701277642,1106.8006894341815,1105.5715752033238,1104.7936467776387,1103.5212691700394,1102.372380551977,1100.3871928829728,1097.7140433747406,1095.7274369542715,1093.2054349947664,1091.863575267556,1091.5617645230736,1089.8575072570138,1087.4639367226553,1085.455784257913,1083.7344495046652,1083.2031659950635,1082.7665312097456,1081.4878546709097,1081.1309495225883,1079.9708632851884,1078.7324811417554,1077.4930320805395,1075.759850396192,1073.351063661808,1071.2911176690388,1068.4610059959768,1067.8458498480081,1067.0881150500409,1064.695285665583,1062.5014212426538,1060.0594071243972,1058.8284095712036,1056.05559233222,1054.1451502877264,1053.3714702306368,1050.9916939755735,1050.5619192733564,1049.239682303857,1046.650167627248,1045.616292066085,1045.4155113459167,1044.1562461793715,1043.5191259510877,1042.4958875750456,1040.9714836830892,1040.5729308819784,1039.6711338041832,1039.2010217058553,1036.9281611436497,1034.6132943018613,1032.450401436423,1029.13603985526,1028.4411131406266,1026.7925119632366,1026.2341901228745,1024.7353924074307,1023.3523625567551,1021.7965768955393,1019.4317841208978,1018.1845241972239,1017.4738803020949,1015.7484503600696,1014.3943608427297,1012.3876366709742,1011.7437017828929,1010.3786500180554,1007.9313636550302,1007.2226011457387,1006.558837015906,1005.5670726659195,1003.7059418845574,1003.2510506057528,1001.0639541309341,998.5565085278005],\"type\":\"scatter\"},{\"line\":{\"color\":\"blue\"},\"mode\":\"lines+markers\",\"name\":\"Dev RMSE\",\"x\":[0,1,2,3,4,5,6,7,8,9,10,11,12,13,14,15,16,17,18,19,20,21,22,23,24,25,26,27,28,29,30,31,32,33,34,35,36,37,38,39,40,41,42,43,44,45,46,47,48,49,50,51,52,53,54,55,56,57,58,59,60,61,62,63,64,65,66,67,68,69,70,71,72,73,74,75,76,77,78,79,80,81,82,83,84,85,86,87,88,89,90,91,92,93,94,95,96,97,98,99,100,101,102,103,104,105,106,107,108,109,110,111,112,113,114,115,116,117,118,119,120,121,122,123,124,125,126,127,128,129,130,131,132,133,134,135,136,137,138,139,140,141,142,143,144,145,146,147,148,149,150,151,152,153,154,155,156,157,158,159,160,161,162,163,164,165,166,167,168,169,170,171,172,173,174,175,176,177,178,179,180,181,182,183,184,185,186,187,188,189,190,191,192,193,194],\"y\":[6068.740047371853,5551.549802596335,5094.206654240807,4672.023640406941,4294.926804106761,3957.1378814299383,3657.7312476638876,3392.9327671328165,3150.7083840529594,2948.203613291497,2764.87089141215,2612.0486236078796,2472.5299616512684,2352.6930176871087,2239.56002354631,2148.4648387399684,2069.7285611224215,2001.2272892775165,1940.3396164345377,1894.0032338439814,1846.809171751721,1807.2145542682624,1771.556344643621,1738.1758032881621,1712.7290296341707,1691.7539804943435,1672.8680817122874,1654.6691107990503,1637.800734170281,1622.850606735926,1614.047058147432,1605.3485255083824,1597.3601184567485,1588.7386564425904,1585.3287484435464,1580.1017189703111,1578.1831723969656,1573.3468905511495,1567.5241542638194,1565.811053022186,1564.5292160954768,1561.4425725674264,1558.759859353263,1556.0040436930053,1555.9016673343388,1554.2531974846763,1550.6675683199755,1551.022314929846,1549.9706901295997,1549.6629888112182,1549.1839102877395,1548.9685275468585,1548.1597680354648,1544.3517314929268,1542.5526352086167,1543.046772830861,1542.6983436650555,1542.634746869198,1544.5480582059195,1544.875624464127,1544.2576399007771,1543.7000927025342,1541.6307046389948,1542.14940602037,1542.8222903843869,1543.1482106186113,1543.7306522469949,1543.5726788517215,1541.1171492889328,1540.878486980272,1540.9327007139686,1540.0261590050118,1541.1344411960567,1541.60271460644,1541.43844326642,1540.9902089522702,1540.3840344030384,1539.9052657394063,1542.1936993317486,1541.7745947214432,1539.4057322720291,1539.8402907260527,1541.4321783822265,1539.9216839930486,1540.90494790291,1540.99421126063,1540.6034696471852,1542.0673734259808,1542.434670361443,1541.04384374754,1542.088353133216,1542.3561228150904,1541.385091163184,1541.2398064383322,1541.4534630350825,1540.431609030407,1540.213636485176,1540.206501260608,1540.9028597159702,1540.402875660876,1541.7156569751126,1541.6221592964646,1541.3851347577968,1540.7744867822398,1540.607840078652,1540.2736580410474,1539.8232883622452,1540.4972911211216,1541.117213636243,1540.33037185175,1540.1898605874273,1540.5022395399944,1541.0842310835726,1542.3615601254537,1542.806869969064,1542.2582047756255,1542.2114990136083,1543.781265065078,1540.8063972209316,1539.449585668117,1539.9043786503755,1540.9338112672053,1540.1230768269586,1540.4419177789007,1541.149108546006,1541.4315454413859,1540.43551504622,1541.1909041329473,1540.8112583591292,1539.4969385837794,1537.9501199051167,1537.555379542846,1535.8550159499584,1537.0081650888599,1537.0370827253585,1536.062098021495,1536.1403247129379,1536.2564289909549,1536.1220411969537,1536.4178001457096,1537.776934584653,1538.0476475919875,1539.5453997579234,1540.951085397058,1541.4184671193598,1541.8646404956548,1541.7039027159976,1541.7428408517726,1541.014514260215,1540.8289232099053,1539.310428831188,1540.6291226029723,1540.7753039191916,1540.7820481474337,1541.02845260854,1541.29392962029,1540.8611765570759,1542.043884757246,1541.7426033126264,1541.2220868249678,1540.645426695536,1540.782048038357,1541.2911632940825,1542.3565726166319,1542.122719586407,1542.7651056290665,1543.1363994005578,1543.4060551074635,1541.5515068689333,1542.0562843297364,1541.4677605302913,1541.593128155803,1543.935332334105,1544.3942859280344,1542.7790030786737,1542.5499530841182,1543.145984175972,1542.6757809927258,1542.899050662147,1542.0016341887283,1541.1442216295295,1541.9423213628338,1541.4547284255855,1541.8679336411194,1542.8620582264346,1543.139473210376,1543.13484603134,1545.5331177899764,1544.974856712451,1544.902638670997,1545.3503337037641,1545.2866125196745,1545.1492076469635,1545.4606284723075,1545.7769954872385],\"type\":\"scatter\"}],                        {\"template\":{\"data\":{\"histogram2dcontour\":[{\"type\":\"histogram2dcontour\",\"colorbar\":{\"outlinewidth\":0,\"ticks\":\"\"},\"colorscale\":[[0.0,\"#0d0887\"],[0.1111111111111111,\"#46039f\"],[0.2222222222222222,\"#7201a8\"],[0.3333333333333333,\"#9c179e\"],[0.4444444444444444,\"#bd3786\"],[0.5555555555555556,\"#d8576b\"],[0.6666666666666666,\"#ed7953\"],[0.7777777777777778,\"#fb9f3a\"],[0.8888888888888888,\"#fdca26\"],[1.0,\"#f0f921\"]]}],\"choropleth\":[{\"type\":\"choropleth\",\"colorbar\":{\"outlinewidth\":0,\"ticks\":\"\"}}],\"histogram2d\":[{\"type\":\"histogram2d\",\"colorbar\":{\"outlinewidth\":0,\"ticks\":\"\"},\"colorscale\":[[0.0,\"#0d0887\"],[0.1111111111111111,\"#46039f\"],[0.2222222222222222,\"#7201a8\"],[0.3333333333333333,\"#9c179e\"],[0.4444444444444444,\"#bd3786\"],[0.5555555555555556,\"#d8576b\"],[0.6666666666666666,\"#ed7953\"],[0.7777777777777778,\"#fb9f3a\"],[0.8888888888888888,\"#fdca26\"],[1.0,\"#f0f921\"]]}],\"heatmap\":[{\"type\":\"heatmap\",\"colorbar\":{\"outlinewidth\":0,\"ticks\":\"\"},\"colorscale\":[[0.0,\"#0d0887\"],[0.1111111111111111,\"#46039f\"],[0.2222222222222222,\"#7201a8\"],[0.3333333333333333,\"#9c179e\"],[0.4444444444444444,\"#bd3786\"],[0.5555555555555556,\"#d8576b\"],[0.6666666666666666,\"#ed7953\"],[0.7777777777777778,\"#fb9f3a\"],[0.8888888888888888,\"#fdca26\"],[1.0,\"#f0f921\"]]}],\"heatmapgl\":[{\"type\":\"heatmapgl\",\"colorbar\":{\"outlinewidth\":0,\"ticks\":\"\"},\"colorscale\":[[0.0,\"#0d0887\"],[0.1111111111111111,\"#46039f\"],[0.2222222222222222,\"#7201a8\"],[0.3333333333333333,\"#9c179e\"],[0.4444444444444444,\"#bd3786\"],[0.5555555555555556,\"#d8576b\"],[0.6666666666666666,\"#ed7953\"],[0.7777777777777778,\"#fb9f3a\"],[0.8888888888888888,\"#fdca26\"],[1.0,\"#f0f921\"]]}],\"contourcarpet\":[{\"type\":\"contourcarpet\",\"colorbar\":{\"outlinewidth\":0,\"ticks\":\"\"}}],\"contour\":[{\"type\":\"contour\",\"colorbar\":{\"outlinewidth\":0,\"ticks\":\"\"},\"colorscale\":[[0.0,\"#0d0887\"],[0.1111111111111111,\"#46039f\"],[0.2222222222222222,\"#7201a8\"],[0.3333333333333333,\"#9c179e\"],[0.4444444444444444,\"#bd3786\"],[0.5555555555555556,\"#d8576b\"],[0.6666666666666666,\"#ed7953\"],[0.7777777777777778,\"#fb9f3a\"],[0.8888888888888888,\"#fdca26\"],[1.0,\"#f0f921\"]]}],\"surface\":[{\"type\":\"surface\",\"colorbar\":{\"outlinewidth\":0,\"ticks\":\"\"},\"colorscale\":[[0.0,\"#0d0887\"],[0.1111111111111111,\"#46039f\"],[0.2222222222222222,\"#7201a8\"],[0.3333333333333333,\"#9c179e\"],[0.4444444444444444,\"#bd3786\"],[0.5555555555555556,\"#d8576b\"],[0.6666666666666666,\"#ed7953\"],[0.7777777777777778,\"#fb9f3a\"],[0.8888888888888888,\"#fdca26\"],[1.0,\"#f0f921\"]]}],\"mesh3d\":[{\"type\":\"mesh3d\",\"colorbar\":{\"outlinewidth\":0,\"ticks\":\"\"}}],\"scatter\":[{\"fillpattern\":{\"fillmode\":\"overlay\",\"size\":10,\"solidity\":0.2},\"type\":\"scatter\"}],\"parcoords\":[{\"type\":\"parcoords\",\"line\":{\"colorbar\":{\"outlinewidth\":0,\"ticks\":\"\"}}}],\"scatterpolargl\":[{\"type\":\"scatterpolargl\",\"marker\":{\"colorbar\":{\"outlinewidth\":0,\"ticks\":\"\"}}}],\"bar\":[{\"error_x\":{\"color\":\"#2a3f5f\"},\"error_y\":{\"color\":\"#2a3f5f\"},\"marker\":{\"line\":{\"color\":\"#E5ECF6\",\"width\":0.5},\"pattern\":{\"fillmode\":\"overlay\",\"size\":10,\"solidity\":0.2}},\"type\":\"bar\"}],\"scattergeo\":[{\"type\":\"scattergeo\",\"marker\":{\"colorbar\":{\"outlinewidth\":0,\"ticks\":\"\"}}}],\"scatterpolar\":[{\"type\":\"scatterpolar\",\"marker\":{\"colorbar\":{\"outlinewidth\":0,\"ticks\":\"\"}}}],\"histogram\":[{\"marker\":{\"pattern\":{\"fillmode\":\"overlay\",\"size\":10,\"solidity\":0.2}},\"type\":\"histogram\"}],\"scattergl\":[{\"type\":\"scattergl\",\"marker\":{\"colorbar\":{\"outlinewidth\":0,\"ticks\":\"\"}}}],\"scatter3d\":[{\"type\":\"scatter3d\",\"line\":{\"colorbar\":{\"outlinewidth\":0,\"ticks\":\"\"}},\"marker\":{\"colorbar\":{\"outlinewidth\":0,\"ticks\":\"\"}}}],\"scattermapbox\":[{\"type\":\"scattermapbox\",\"marker\":{\"colorbar\":{\"outlinewidth\":0,\"ticks\":\"\"}}}],\"scatterternary\":[{\"type\":\"scatterternary\",\"marker\":{\"colorbar\":{\"outlinewidth\":0,\"ticks\":\"\"}}}],\"scattercarpet\":[{\"type\":\"scattercarpet\",\"marker\":{\"colorbar\":{\"outlinewidth\":0,\"ticks\":\"\"}}}],\"carpet\":[{\"aaxis\":{\"endlinecolor\":\"#2a3f5f\",\"gridcolor\":\"white\",\"linecolor\":\"white\",\"minorgridcolor\":\"white\",\"startlinecolor\":\"#2a3f5f\"},\"baxis\":{\"endlinecolor\":\"#2a3f5f\",\"gridcolor\":\"white\",\"linecolor\":\"white\",\"minorgridcolor\":\"white\",\"startlinecolor\":\"#2a3f5f\"},\"type\":\"carpet\"}],\"table\":[{\"cells\":{\"fill\":{\"color\":\"#EBF0F8\"},\"line\":{\"color\":\"white\"}},\"header\":{\"fill\":{\"color\":\"#C8D4E3\"},\"line\":{\"color\":\"white\"}},\"type\":\"table\"}],\"barpolar\":[{\"marker\":{\"line\":{\"color\":\"#E5ECF6\",\"width\":0.5},\"pattern\":{\"fillmode\":\"overlay\",\"size\":10,\"solidity\":0.2}},\"type\":\"barpolar\"}],\"pie\":[{\"automargin\":true,\"type\":\"pie\"}]},\"layout\":{\"autotypenumbers\":\"strict\",\"colorway\":[\"#636efa\",\"#EF553B\",\"#00cc96\",\"#ab63fa\",\"#FFA15A\",\"#19d3f3\",\"#FF6692\",\"#B6E880\",\"#FF97FF\",\"#FECB52\"],\"font\":{\"color\":\"#2a3f5f\"},\"hovermode\":\"closest\",\"hoverlabel\":{\"align\":\"left\"},\"paper_bgcolor\":\"white\",\"plot_bgcolor\":\"#E5ECF6\",\"polar\":{\"bgcolor\":\"#E5ECF6\",\"angularaxis\":{\"gridcolor\":\"white\",\"linecolor\":\"white\",\"ticks\":\"\"},\"radialaxis\":{\"gridcolor\":\"white\",\"linecolor\":\"white\",\"ticks\":\"\"}},\"ternary\":{\"bgcolor\":\"#E5ECF6\",\"aaxis\":{\"gridcolor\":\"white\",\"linecolor\":\"white\",\"ticks\":\"\"},\"baxis\":{\"gridcolor\":\"white\",\"linecolor\":\"white\",\"ticks\":\"\"},\"caxis\":{\"gridcolor\":\"white\",\"linecolor\":\"white\",\"ticks\":\"\"}},\"coloraxis\":{\"colorbar\":{\"outlinewidth\":0,\"ticks\":\"\"}},\"colorscale\":{\"sequential\":[[0.0,\"#0d0887\"],[0.1111111111111111,\"#46039f\"],[0.2222222222222222,\"#7201a8\"],[0.3333333333333333,\"#9c179e\"],[0.4444444444444444,\"#bd3786\"],[0.5555555555555556,\"#d8576b\"],[0.6666666666666666,\"#ed7953\"],[0.7777777777777778,\"#fb9f3a\"],[0.8888888888888888,\"#fdca26\"],[1.0,\"#f0f921\"]],\"sequentialminus\":[[0.0,\"#0d0887\"],[0.1111111111111111,\"#46039f\"],[0.2222222222222222,\"#7201a8\"],[0.3333333333333333,\"#9c179e\"],[0.4444444444444444,\"#bd3786\"],[0.5555555555555556,\"#d8576b\"],[0.6666666666666666,\"#ed7953\"],[0.7777777777777778,\"#fb9f3a\"],[0.8888888888888888,\"#fdca26\"],[1.0,\"#f0f921\"]],\"diverging\":[[0,\"#8e0152\"],[0.1,\"#c51b7d\"],[0.2,\"#de77ae\"],[0.3,\"#f1b6da\"],[0.4,\"#fde0ef\"],[0.5,\"#f7f7f7\"],[0.6,\"#e6f5d0\"],[0.7,\"#b8e186\"],[0.8,\"#7fbc41\"],[0.9,\"#4d9221\"],[1,\"#276419\"]]},\"xaxis\":{\"gridcolor\":\"white\",\"linecolor\":\"white\",\"ticks\":\"\",\"title\":{\"standoff\":15},\"zerolinecolor\":\"white\",\"automargin\":true,\"zerolinewidth\":2},\"yaxis\":{\"gridcolor\":\"white\",\"linecolor\":\"white\",\"ticks\":\"\",\"title\":{\"standoff\":15},\"zerolinecolor\":\"white\",\"automargin\":true,\"zerolinewidth\":2},\"scene\":{\"xaxis\":{\"backgroundcolor\":\"#E5ECF6\",\"gridcolor\":\"white\",\"linecolor\":\"white\",\"showbackground\":true,\"ticks\":\"\",\"zerolinecolor\":\"white\",\"gridwidth\":2},\"yaxis\":{\"backgroundcolor\":\"#E5ECF6\",\"gridcolor\":\"white\",\"linecolor\":\"white\",\"showbackground\":true,\"ticks\":\"\",\"zerolinecolor\":\"white\",\"gridwidth\":2},\"zaxis\":{\"backgroundcolor\":\"#E5ECF6\",\"gridcolor\":\"white\",\"linecolor\":\"white\",\"showbackground\":true,\"ticks\":\"\",\"zerolinecolor\":\"white\",\"gridwidth\":2}},\"shapedefaults\":{\"line\":{\"color\":\"#2a3f5f\"}},\"annotationdefaults\":{\"arrowcolor\":\"#2a3f5f\",\"arrowhead\":0,\"arrowwidth\":1},\"geo\":{\"bgcolor\":\"white\",\"landcolor\":\"#E5ECF6\",\"subunitcolor\":\"white\",\"showland\":true,\"showlakes\":true,\"lakecolor\":\"white\"},\"title\":{\"x\":0.05},\"mapbox\":{\"style\":\"light\"}}},\"xaxis\":{\"anchor\":\"y\",\"domain\":[0.0,1.0],\"title\":{\"text\":\"Number of trees\"}},\"yaxis\":{\"anchor\":\"x\",\"domain\":[0.0,1.0],\"title\":{\"text\":\"RMSE\"}},\"legend\":{\"tracegroupgap\":0},\"title\":{\"text\":\"train RMSE vs. dev RMSE\"}},                        {\"responsive\": true}                    ).then(function(){\n",
              "                            \n",
              "var gd = document.getElementById('e1d0d94e-3048-4a02-8708-e449da34ccde');\n",
              "var x = new MutationObserver(function (mutations, observer) {{\n",
              "        var display = window.getComputedStyle(gd).display;\n",
              "        if (!display || display === 'none') {{\n",
              "            console.log([gd, 'removed!']);\n",
              "            Plotly.purge(gd);\n",
              "            observer.disconnect();\n",
              "        }}\n",
              "}});\n",
              "\n",
              "// Listen for the removal of the full notebook cells\n",
              "var notebookContainer = gd.closest('#notebook-container');\n",
              "if (notebookContainer) {{\n",
              "    x.observe(notebookContainer, {childList: true});\n",
              "}}\n",
              "\n",
              "// Listen for the clearing of the current output cell\n",
              "var outputEl = gd.closest('.output');\n",
              "if (outputEl) {{\n",
              "    x.observe(outputEl, {childList: true});\n",
              "}}\n",
              "\n",
              "                        })                };                            </script>        </div>\n",
              "</body>\n",
              "</html>"
            ]
          },
          "metadata": {}
        }
      ],
      "source": [
        "# Retrieve performance metrics\n",
        "results = xg_reg.evals_result()\n",
        "\n",
        "# Create the array for the x axis, starting from 1\n",
        "n_trees = np.arange(0, len(results[\"validation_0\"][\"rmse\"]))\n",
        "train_rmse = results[\"validation_0\"][\"rmse\"]\n",
        "dev_rmse = results[\"validation_1\"][\"rmse\"]\n",
        "\n",
        "# Create a line chart with two lines using Plotly Express\n",
        "fig = px.line(title='train RMSE vs. dev RMSE')\n",
        "fig.add_scatter(x=n_trees, y=train_rmse, mode='lines+markers', name='Train RMSE', line=dict(color='red'))\n",
        "fig.add_scatter(x=n_trees, y=dev_rmse, mode='lines+markers', name='Dev RMSE', line=dict(color='blue'))\n",
        "\n",
        "\n",
        "# Set chart title and axis labels\n",
        "fig.update_layout(\n",
        "    xaxis_title='Number of trees',\n",
        "    yaxis_title='RMSE'\n",
        ")\n",
        "\n",
        "# Show the chart\n",
        "fig.show()"
      ]
    },
    {
      "cell_type": "markdown",
      "id": "3DncApmZuA7q",
      "metadata": {
        "id": "3DncApmZuA7q"
      },
      "source": [
        "To get an understanding of our model and also to check for plausibility (e.g., did the model pick up correct patterns) we plot the feature importance with the `shap` library."
      ]
    },
    {
      "cell_type": "code",
      "execution_count": 52,
      "id": "5Z6rHfVAuAUr",
      "metadata": {
        "colab": {
          "base_uri": "https://localhost:8080/",
          "height": 507
        },
        "id": "5Z6rHfVAuAUr",
        "outputId": "bd71c2bc-6351-46b4-babb-e44aee66e41e"
      },
      "outputs": [
        {
          "output_type": "display_data",
          "data": {
            "text/plain": [
              "<Figure size 1500x500 with 1 Axes>"
            ],
            "image/png": "[encoded data removed]"
          },
          "metadata": {}
        }
      ],
      "source": [
        "# Explain model predictions using shap library:\n",
        "explainer = shap.TreeExplainer(xg_reg)\n",
        "shap_values = explainer.shap_values(X_train_scaled)\n",
        "\n",
        "# Plot summary_plot as barplot:\n",
        "shap.summary_plot(shap_values, X_train_scaled, feature_names=features, plot_type='bar', plot_size=[15,5])"
      ]
    },
    {
      "cell_type": "markdown",
      "id": "ugcPJDRyx7QG",
      "metadata": {
        "id": "ugcPJDRyx7QG"
      },
      "source": [
        "This plot tells us, that the most important features for the model output are `week_sin`, `tmax`, `month_sin`, and `transformed_vacation`. This seems reasonable since we have seen a weekly periodicity and `tmax` having the highest correlation."
      ]
    },
    {
      "cell_type": "markdown",
      "id": "3OdgdY9AaZSh",
      "metadata": {
        "id": "3OdgdY9AaZSh"
      },
      "source": [
        "<a name=\"6.2.3.\"></a>\n",
        "### 6.2.3. Results\n",
        "[Content](#content)"
      ]
    },
    {
      "cell_type": "markdown",
      "id": "oKJz5Ao0afU1",
      "metadata": {
        "id": "oKJz5Ao0afU1"
      },
      "source": [
        "The best RMSE score of our baseline models is $2.033$. With the simple XGBoost model we were able to get a RMSE score of $1.544$ for the dev set and even a RMSE score of $1.400$ for the test set. The better performance for the test set, could be due to a greater similarity of the year 2022 to the training period compared to the year 2021.\n",
        "\n",
        "Our model performs therefore $31\\%$ better than our best baseline model. The most important features for this are the weekly and monthly periodicity and the maximum temperature forecast as well as the label vacation."
      ]
    },
    {
      "cell_type": "markdown",
      "id": "fOFZ5oXgTT7V",
      "metadata": {
        "id": "fOFZ5oXgTT7V"
      },
      "source": [
        "<a name=\"6.3.\"></a>\n",
        "## 6.3. Multilayer Perceptron\n",
        "[Content](#content)"
      ]
    },
    {
      "cell_type": "markdown",
      "id": "M1AusF3lXH7Z",
      "metadata": {
        "id": "M1AusF3lXH7Z"
      },
      "source": [
        "First we create the model. Additionally we create a preprocessing layer to normalize the inputs to the model.\n",
        "We already did this in [chapter 5.](#5.) using the sklearn library. For our deep learning model, we can integrate it conveniently as part of our model with a `Normalization layer`."
      ]
    },
    {
      "cell_type": "code",
      "source": [
        "# Create the Normalization layer, normalizing the last axis (features)\n",
        "preprocessing = Normalization(axis=-1)\n",
        "\n",
        "# Use the .adapt method, to learn the median and variance values of each feature\n",
        "preprocessing.adapt(X_train)"
      ],
      "metadata": {
        "id": "nq-t1rmzXO_X"
      },
      "execution_count": null,
      "outputs": [],
      "id": "nq-t1rmzXO_X"
    },
    {
      "cell_type": "code",
      "execution_count": null,
      "metadata": {
        "colab": {
          "base_uri": "https://localhost:8080/"
        },
        "outputId": "9ad9c24e-477a-49f0-fa40-a01b778337fd",
        "id": "4as5TjtgtQpT"
      },
      "outputs": [
        {
          "output_type": "stream",
          "name": "stdout",
          "text": [
            "Model: \"sequential\"\n",
            "_________________________________________________________________\n",
            " Layer (type)                Output Shape              Param #   \n",
            "=================================================================\n",
            " normalization (Normalizati  (None, 23)                47        \n",
            " on)                                                             \n",
            "                                                                 \n",
            " dense (Dense)               (None, 128)               3072      \n",
            "                                                                 \n",
            " dropout (Dropout)           (None, 128)               0         \n",
            "                                                                 \n",
            " dense_1 (Dense)             (None, 64)                8256      \n",
            "                                                                 \n",
            " dropout_1 (Dropout)         (None, 64)                0         \n",
            "                                                                 \n",
            " dense_2 (Dense)             (None, 1)                 65        \n",
            "                                                                 \n",
            "=================================================================\n",
            "Total params: 11440 (44.69 KB)\n",
            "Trainable params: 11393 (44.50 KB)\n",
            "Non-trainable params: 47 (192.00 Byte)\n",
            "_________________________________________________________________\n",
            "None\n"
          ]
        }
      ],
      "source": [
        "dropout = 0.2\n",
        "\n",
        "# Define the architecture of the MLP\n",
        "model_mlp = Sequential()\n",
        "\n",
        "model_mlp.add(Input(shape=(len(features),)))\n",
        "model_mlp.add(preprocessing)\n",
        "model_mlp.add(Dense(units=128, activation='relu'))\n",
        "model_mlp.add(Dropout(dropout))\n",
        "model_mlp.add(Dense(units=64, activation='relu'))\n",
        "model_mlp.add(Dropout(dropout))\n",
        "model_mlp.add(Dense(units=1, activation='linear'))\n",
        "\n",
        "# Compile the model with mean squared error (MSE) loss, and root mean square error (RMSE) as metric\n",
        "# Use Adam optimizer with learning rate\n",
        "optimizer = Adam(learning_rate=0.001)\n",
        "model_mlp.compile(optimizer=optimizer, loss='mse', metrics=[RootMeanSquaredError()])\n",
        "\n",
        "print(model_mlp.summary())"
      ],
      "id": "4as5TjtgtQpT"
    },
    {
      "cell_type": "markdown",
      "id": "vkE4V2ZgQgzV",
      "metadata": {
        "id": "vkE4V2ZgQgzV"
      },
      "source": [
        "<a name=\"6.3.1.\"></a>\n",
        "### 6.3.1. Train the model and evaluate\n",
        "[Content](#content)"
      ]
    },
    {
      "cell_type": "markdown",
      "id": "X5o8dJEsXMHp",
      "metadata": {
        "id": "X5o8dJEsXMHp"
      },
      "source": [
        "Next we train the model and save the weights into a file. That way we can later use the weights without retraining and/or can continue training. We only save the weights, which means the model architecture is not allowed to change."
      ]
    },
    {
      "cell_type": "code",
      "execution_count": null,
      "id": "niYuivy2WCss",
      "metadata": {
        "id": "niYuivy2WCss"
      },
      "outputs": [],
      "source": [
        "# Uncomment for loading the weights\n",
        "\n",
        "# Select the weights to be loaded\n",
        "#file_name = \"2023-09-21_weights_model_mlp\"\n",
        "\n",
        "#model_mlp.load_weights(file_name)\n",
        "\n",
        "\n",
        "# Train the model and save the learning history, use x_dev and y_dev for validation\n",
        "# Because we included the normalization layer into the model, we can directly pass the X_train, X_dev (or X_test) datasets.\n",
        "history = model_mlp.fit(X_train, y_train, epochs=50, batch_size=32, validation_data=(X_dev, y_dev))\n",
        "\n",
        "# Save the weights\n",
        "#date = datetime.date.today()\n",
        "#file_name = f\"{date}\" + \"_weights_model_mlp\"\n",
        "#model_mlp.save_weights(file_name, save_format=\"h5\")"
      ]
    },
    {
      "cell_type": "code",
      "execution_count": null,
      "id": "RhbEPgSPsXCy",
      "metadata": {
        "colab": {
          "base_uri": "https://localhost:8080/",
          "height": 542
        },
        "id": "RhbEPgSPsXCy",
        "outputId": "ff664ca8-0e5e-45da-8231-a3273332947d"
      },
      "outputs": [
        {
          "output_type": "display_data",
          "data": {
            "text/html": [
              "<html>\n",
              "<head><meta charset=\"utf-8\" /></head>\n",
              "<body>\n",
              "    <div>            <script src=\"https://cdnjs.cloudflare.com/ajax/libs/mathjax/2.7.5/MathJax.js?config=TeX-AMS-MML_SVG\"></script><script type=\"text/javascript\">if (window.MathJax && window.MathJax.Hub && window.MathJax.Hub.Config) {window.MathJax.Hub.Config({SVG: {font: \"STIX-Web\"}});}</script>                <script type=\"text/javascript\">window.PlotlyConfig = {MathJaxConfig: 'local'};</script>\n",
              "        <script charset=\"utf-8\" src=\"https://cdn.plot.ly/plotly-2.24.1.min.js\"></script>                <div id=\"bd0bcde1-63c7-40a4-9c68-9d21332a9840\" class=\"plotly-graph-div\" style=\"height:525px; width:100%;\"></div>            <script type=\"text/javascript\">                                    window.PLOTLYENV=window.PLOTLYENV || {};                                    if (document.getElementById(\"bd0bcde1-63c7-40a4-9c68-9d21332a9840\")) {                    Plotly.newPlot(                        \"bd0bcde1-63c7-40a4-9c68-9d21332a9840\",                        [{\"hovertemplate\":\"\\u003cextra\\u003e\\u003c\\u002fextra\\u003e\",\"legendgroup\":\"\",\"line\":{\"color\":\"#636efa\",\"dash\":\"solid\"},\"marker\":{\"symbol\":\"circle\"},\"mode\":\"lines\",\"name\":\"\",\"orientation\":\"v\",\"showlegend\":false,\"xaxis\":\"x\",\"yaxis\":\"y\",\"type\":\"scatter\"},{\"line\":{\"color\":\"red\"},\"mode\":\"lines+markers\",\"name\":\"Train RMSE\",\"x\":[1,2,3,4,5,6,7,8,9,10,11,12,13,14,15,16,17,18,19,20,21,22,23,24,25,26,27,28,29,30,31,32,33,34,35,36,37,38,39,40,41,42,43,44,45,46,47,48,49,50],\"y\":[6584.70556640625,6452.8583984375,5934.4833984375,4854.203125,3580.3818359375,2699.510009765625,2297.75146484375,2104.64794921875,2025.375,1990.05810546875,1957.5118408203125,1915.642822265625,1914.893798828125,1910.9952392578125,1864.3466796875,1879.633544921875,1877.29296875,1845.844970703125,1818.849609375,1829.1044921875,1809.88525390625,1809.759765625,1807.319580078125,1805.4434814453125,1786.8226318359375,1804.6929931640625,1782.9630126953125,1794.69873046875,1771.2669677734375,1750.104248046875,1740.2066650390625,1752.41943359375,1742.24951171875,1753.22021484375,1727.323486328125,1746.014404296875,1734.9127197265625,1726.872802734375,1719.94140625,1725.0150146484375,1710.83447265625,1716.405517578125,1707.3546142578125,1713.2611083984375,1713.1236572265625,1695.2283935546875,1712.0489501953125,1678.739501953125,1662.6236572265625,1681.868408203125],\"type\":\"scatter\"},{\"line\":{\"color\":\"blue\"},\"mode\":\"lines+markers\",\"name\":\"Dev RMSE\",\"x\":[1,2,3,4,5,6,7,8,9,10,11,12,13,14,15,16,17,18,19,20,21,22,23,24,25,26,27,28,29,30,31,32,33,34,35,36,37,38,39,40,41,42,43,44,45,46,47,48,49,50],\"y\":[6600.29150390625,6325.83056640625,5541.5546875,4290.2998046875,3207.39404296875,2614.04638671875,2338.27392578125,2232.486083984375,2180.675048828125,2153.6474609375,2130.22265625,2112.0986328125,2090.563720703125,2076.082763671875,2062.140625,2053.873779296875,2046.146240234375,2039.1573486328125,2031.4805908203125,2021.1546630859375,2009.7418212890625,2003.8939208984375,1992.6856689453125,1982.2913818359375,1973.426025390625,1969.0999755859375,1963.234619140625,1949.739501953125,1948.533203125,1939.0811767578125,1933.9036865234375,1928.8760986328125,1924.82421875,1916.1968994140625,1907.520751953125,1905.26708984375,1903.55859375,1894.384033203125,1890.404541015625,1882.5811767578125,1876.840087890625,1872.585693359375,1864.08349609375,1867.312744140625,1854.805908203125,1851.26416015625,1844.035400390625,1845.26806640625,1845.9573974609375,1833.899169921875],\"type\":\"scatter\"}],                        {\"template\":{\"data\":{\"histogram2dcontour\":[{\"type\":\"histogram2dcontour\",\"colorbar\":{\"outlinewidth\":0,\"ticks\":\"\"},\"colorscale\":[[0.0,\"#0d0887\"],[0.1111111111111111,\"#46039f\"],[0.2222222222222222,\"#7201a8\"],[0.3333333333333333,\"#9c179e\"],[0.4444444444444444,\"#bd3786\"],[0.5555555555555556,\"#d8576b\"],[0.6666666666666666,\"#ed7953\"],[0.7777777777777778,\"#fb9f3a\"],[0.8888888888888888,\"#fdca26\"],[1.0,\"#f0f921\"]]}],\"choropleth\":[{\"type\":\"choropleth\",\"colorbar\":{\"outlinewidth\":0,\"ticks\":\"\"}}],\"histogram2d\":[{\"type\":\"histogram2d\",\"colorbar\":{\"outlinewidth\":0,\"ticks\":\"\"},\"colorscale\":[[0.0,\"#0d0887\"],[0.1111111111111111,\"#46039f\"],[0.2222222222222222,\"#7201a8\"],[0.3333333333333333,\"#9c179e\"],[0.4444444444444444,\"#bd3786\"],[0.5555555555555556,\"#d8576b\"],[0.6666666666666666,\"#ed7953\"],[0.7777777777777778,\"#fb9f3a\"],[0.8888888888888888,\"#fdca26\"],[1.0,\"#f0f921\"]]}],\"heatmap\":[{\"type\":\"heatmap\",\"colorbar\":{\"outlinewidth\":0,\"ticks\":\"\"},\"colorscale\":[[0.0,\"#0d0887\"],[0.1111111111111111,\"#46039f\"],[0.2222222222222222,\"#7201a8\"],[0.3333333333333333,\"#9c179e\"],[0.4444444444444444,\"#bd3786\"],[0.5555555555555556,\"#d8576b\"],[0.6666666666666666,\"#ed7953\"],[0.7777777777777778,\"#fb9f3a\"],[0.8888888888888888,\"#fdca26\"],[1.0,\"#f0f921\"]]}],\"heatmapgl\":[{\"type\":\"heatmapgl\",\"colorbar\":{\"outlinewidth\":0,\"ticks\":\"\"},\"colorscale\":[[0.0,\"#0d0887\"],[0.1111111111111111,\"#46039f\"],[0.2222222222222222,\"#7201a8\"],[0.3333333333333333,\"#9c179e\"],[0.4444444444444444,\"#bd3786\"],[0.5555555555555556,\"#d8576b\"],[0.6666666666666666,\"#ed7953\"],[0.7777777777777778,\"#fb9f3a\"],[0.8888888888888888,\"#fdca26\"],[1.0,\"#f0f921\"]]}],\"contourcarpet\":[{\"type\":\"contourcarpet\",\"colorbar\":{\"outlinewidth\":0,\"ticks\":\"\"}}],\"contour\":[{\"type\":\"contour\",\"colorbar\":{\"outlinewidth\":0,\"ticks\":\"\"},\"colorscale\":[[0.0,\"#0d0887\"],[0.1111111111111111,\"#46039f\"],[0.2222222222222222,\"#7201a8\"],[0.3333333333333333,\"#9c179e\"],[0.4444444444444444,\"#bd3786\"],[0.5555555555555556,\"#d8576b\"],[0.6666666666666666,\"#ed7953\"],[0.7777777777777778,\"#fb9f3a\"],[0.8888888888888888,\"#fdca26\"],[1.0,\"#f0f921\"]]}],\"surface\":[{\"type\":\"surface\",\"colorbar\":{\"outlinewidth\":0,\"ticks\":\"\"},\"colorscale\":[[0.0,\"#0d0887\"],[0.1111111111111111,\"#46039f\"],[0.2222222222222222,\"#7201a8\"],[0.3333333333333333,\"#9c179e\"],[0.4444444444444444,\"#bd3786\"],[0.5555555555555556,\"#d8576b\"],[0.6666666666666666,\"#ed7953\"],[0.7777777777777778,\"#fb9f3a\"],[0.8888888888888888,\"#fdca26\"],[1.0,\"#f0f921\"]]}],\"mesh3d\":[{\"type\":\"mesh3d\",\"colorbar\":{\"outlinewidth\":0,\"ticks\":\"\"}}],\"scatter\":[{\"fillpattern\":{\"fillmode\":\"overlay\",\"size\":10,\"solidity\":0.2},\"type\":\"scatter\"}],\"parcoords\":[{\"type\":\"parcoords\",\"line\":{\"colorbar\":{\"outlinewidth\":0,\"ticks\":\"\"}}}],\"scatterpolargl\":[{\"type\":\"scatterpolargl\",\"marker\":{\"colorbar\":{\"outlinewidth\":0,\"ticks\":\"\"}}}],\"bar\":[{\"error_x\":{\"color\":\"#2a3f5f\"},\"error_y\":{\"color\":\"#2a3f5f\"},\"marker\":{\"line\":{\"color\":\"#E5ECF6\",\"width\":0.5},\"pattern\":{\"fillmode\":\"overlay\",\"size\":10,\"solidity\":0.2}},\"type\":\"bar\"}],\"scattergeo\":[{\"type\":\"scattergeo\",\"marker\":{\"colorbar\":{\"outlinewidth\":0,\"ticks\":\"\"}}}],\"scatterpolar\":[{\"type\":\"scatterpolar\",\"marker\":{\"colorbar\":{\"outlinewidth\":0,\"ticks\":\"\"}}}],\"histogram\":[{\"marker\":{\"pattern\":{\"fillmode\":\"overlay\",\"size\":10,\"solidity\":0.2}},\"type\":\"histogram\"}],\"scattergl\":[{\"type\":\"scattergl\",\"marker\":{\"colorbar\":{\"outlinewidth\":0,\"ticks\":\"\"}}}],\"scatter3d\":[{\"type\":\"scatter3d\",\"line\":{\"colorbar\":{\"outlinewidth\":0,\"ticks\":\"\"}},\"marker\":{\"colorbar\":{\"outlinewidth\":0,\"ticks\":\"\"}}}],\"scattermapbox\":[{\"type\":\"scattermapbox\",\"marker\":{\"colorbar\":{\"outlinewidth\":0,\"ticks\":\"\"}}}],\"scatterternary\":[{\"type\":\"scatterternary\",\"marker\":{\"colorbar\":{\"outlinewidth\":0,\"ticks\":\"\"}}}],\"scattercarpet\":[{\"type\":\"scattercarpet\",\"marker\":{\"colorbar\":{\"outlinewidth\":0,\"ticks\":\"\"}}}],\"carpet\":[{\"aaxis\":{\"endlinecolor\":\"#2a3f5f\",\"gridcolor\":\"white\",\"linecolor\":\"white\",\"minorgridcolor\":\"white\",\"startlinecolor\":\"#2a3f5f\"},\"baxis\":{\"endlinecolor\":\"#2a3f5f\",\"gridcolor\":\"white\",\"linecolor\":\"white\",\"minorgridcolor\":\"white\",\"startlinecolor\":\"#2a3f5f\"},\"type\":\"carpet\"}],\"table\":[{\"cells\":{\"fill\":{\"color\":\"#EBF0F8\"},\"line\":{\"color\":\"white\"}},\"header\":{\"fill\":{\"color\":\"#C8D4E3\"},\"line\":{\"color\":\"white\"}},\"type\":\"table\"}],\"barpolar\":[{\"marker\":{\"line\":{\"color\":\"#E5ECF6\",\"width\":0.5},\"pattern\":{\"fillmode\":\"overlay\",\"size\":10,\"solidity\":0.2}},\"type\":\"barpolar\"}],\"pie\":[{\"automargin\":true,\"type\":\"pie\"}]},\"layout\":{\"autotypenumbers\":\"strict\",\"colorway\":[\"#636efa\",\"#EF553B\",\"#00cc96\",\"#ab63fa\",\"#FFA15A\",\"#19d3f3\",\"#FF6692\",\"#B6E880\",\"#FF97FF\",\"#FECB52\"],\"font\":{\"color\":\"#2a3f5f\"},\"hovermode\":\"closest\",\"hoverlabel\":{\"align\":\"left\"},\"paper_bgcolor\":\"white\",\"plot_bgcolor\":\"#E5ECF6\",\"polar\":{\"bgcolor\":\"#E5ECF6\",\"angularaxis\":{\"gridcolor\":\"white\",\"linecolor\":\"white\",\"ticks\":\"\"},\"radialaxis\":{\"gridcolor\":\"white\",\"linecolor\":\"white\",\"ticks\":\"\"}},\"ternary\":{\"bgcolor\":\"#E5ECF6\",\"aaxis\":{\"gridcolor\":\"white\",\"linecolor\":\"white\",\"ticks\":\"\"},\"baxis\":{\"gridcolor\":\"white\",\"linecolor\":\"white\",\"ticks\":\"\"},\"caxis\":{\"gridcolor\":\"white\",\"linecolor\":\"white\",\"ticks\":\"\"}},\"coloraxis\":{\"colorbar\":{\"outlinewidth\":0,\"ticks\":\"\"}},\"colorscale\":{\"sequential\":[[0.0,\"#0d0887\"],[0.1111111111111111,\"#46039f\"],[0.2222222222222222,\"#7201a8\"],[0.3333333333333333,\"#9c179e\"],[0.4444444444444444,\"#bd3786\"],[0.5555555555555556,\"#d8576b\"],[0.6666666666666666,\"#ed7953\"],[0.7777777777777778,\"#fb9f3a\"],[0.8888888888888888,\"#fdca26\"],[1.0,\"#f0f921\"]],\"sequentialminus\":[[0.0,\"#0d0887\"],[0.1111111111111111,\"#46039f\"],[0.2222222222222222,\"#7201a8\"],[0.3333333333333333,\"#9c179e\"],[0.4444444444444444,\"#bd3786\"],[0.5555555555555556,\"#d8576b\"],[0.6666666666666666,\"#ed7953\"],[0.7777777777777778,\"#fb9f3a\"],[0.8888888888888888,\"#fdca26\"],[1.0,\"#f0f921\"]],\"diverging\":[[0,\"#8e0152\"],[0.1,\"#c51b7d\"],[0.2,\"#de77ae\"],[0.3,\"#f1b6da\"],[0.4,\"#fde0ef\"],[0.5,\"#f7f7f7\"],[0.6,\"#e6f5d0\"],[0.7,\"#b8e186\"],[0.8,\"#7fbc41\"],[0.9,\"#4d9221\"],[1,\"#276419\"]]},\"xaxis\":{\"gridcolor\":\"white\",\"linecolor\":\"white\",\"ticks\":\"\",\"title\":{\"standoff\":15},\"zerolinecolor\":\"white\",\"automargin\":true,\"zerolinewidth\":2},\"yaxis\":{\"gridcolor\":\"white\",\"linecolor\":\"white\",\"ticks\":\"\",\"title\":{\"standoff\":15},\"zerolinecolor\":\"white\",\"automargin\":true,\"zerolinewidth\":2},\"scene\":{\"xaxis\":{\"backgroundcolor\":\"#E5ECF6\",\"gridcolor\":\"white\",\"linecolor\":\"white\",\"showbackground\":true,\"ticks\":\"\",\"zerolinecolor\":\"white\",\"gridwidth\":2},\"yaxis\":{\"backgroundcolor\":\"#E5ECF6\",\"gridcolor\":\"white\",\"linecolor\":\"white\",\"showbackground\":true,\"ticks\":\"\",\"zerolinecolor\":\"white\",\"gridwidth\":2},\"zaxis\":{\"backgroundcolor\":\"#E5ECF6\",\"gridcolor\":\"white\",\"linecolor\":\"white\",\"showbackground\":true,\"ticks\":\"\",\"zerolinecolor\":\"white\",\"gridwidth\":2}},\"shapedefaults\":{\"line\":{\"color\":\"#2a3f5f\"}},\"annotationdefaults\":{\"arrowcolor\":\"#2a3f5f\",\"arrowhead\":0,\"arrowwidth\":1},\"geo\":{\"bgcolor\":\"white\",\"landcolor\":\"#E5ECF6\",\"subunitcolor\":\"white\",\"showland\":true,\"showlakes\":true,\"lakecolor\":\"white\"},\"title\":{\"x\":0.05},\"mapbox\":{\"style\":\"light\"}}},\"xaxis\":{\"anchor\":\"y\",\"domain\":[0.0,1.0],\"title\":{\"text\":\"Epochs\"}},\"yaxis\":{\"anchor\":\"x\",\"domain\":[0.0,1.0],\"title\":{\"text\":\"RMSE\"}},\"legend\":{\"tracegroupgap\":0},\"title\":{\"text\":\"train RMSE vs. dev RMSE\"}},                        {\"responsive\": true}                    ).then(function(){\n",
              "                            \n",
              "var gd = document.getElementById('bd0bcde1-63c7-40a4-9c68-9d21332a9840');\n",
              "var x = new MutationObserver(function (mutations, observer) {{\n",
              "        var display = window.getComputedStyle(gd).display;\n",
              "        if (!display || display === 'none') {{\n",
              "            console.log([gd, 'removed!']);\n",
              "            Plotly.purge(gd);\n",
              "            observer.disconnect();\n",
              "        }}\n",
              "}});\n",
              "\n",
              "// Listen for the removal of the full notebook cells\n",
              "var notebookContainer = gd.closest('#notebook-container');\n",
              "if (notebookContainer) {{\n",
              "    x.observe(notebookContainer, {childList: true});\n",
              "}}\n",
              "\n",
              "// Listen for the clearing of the current output cell\n",
              "var outputEl = gd.closest('.output');\n",
              "if (outputEl) {{\n",
              "    x.observe(outputEl, {childList: true});\n",
              "}}\n",
              "\n",
              "                        })                };                            </script>        </div>\n",
              "</body>\n",
              "</html>"
            ]
          },
          "metadata": {}
        }
      ],
      "source": [
        "# Create the array for the x axis, starting from 1\n",
        "epochs = np.arange(1, len(history.history[\"root_mean_squared_error\"])+1)\n",
        "train_rmse = history.history[\"root_mean_squared_error\"]\n",
        "dev_rmse = history.history[\"val_root_mean_squared_error\"]\n",
        "\n",
        "# Create a line chart with two lines using Plotly Express\n",
        "fig = px.line(title='train RMSE vs. dev RMSE')\n",
        "fig.add_scatter(x=epochs, y=train_rmse, mode='lines+markers', name='Train RMSE', line=dict(color='red'))\n",
        "fig.add_scatter(x=epochs, y=dev_rmse, mode='lines+markers', name='Dev RMSE', line=dict(color='blue'))\n",
        "\n",
        "\n",
        "# Set chart title and axis labels\n",
        "fig.update_layout(\n",
        "    xaxis_title='Epochs',\n",
        "    yaxis_title='RMSE'\n",
        ")\n",
        "\n",
        "# Show the chart\n",
        "fig.show()"
      ]
    },
    {
      "cell_type": "code",
      "execution_count": null,
      "id": "bamMyHTGoTl1",
      "metadata": {
        "colab": {
          "base_uri": "https://localhost:8080/",
          "height": 624
        },
        "id": "bamMyHTGoTl1",
        "outputId": "91233902-0a8e-4f7d-f1e7-5c2e9b641e30"
      },
      "outputs": [
        {
          "output_type": "stream",
          "name": "stderr",
          "text": [
            "/usr/local/lib/python3.10/dist-packages/shap/explainers/_deep/deep_tf.py:102: UserWarning:\n",
            "\n",
            "keras is no longer supported, please use tf.keras instead.\n",
            "\n",
            "/usr/local/lib/python3.10/dist-packages/shap/explainers/_deep/deep_tf.py:107: UserWarning:\n",
            "\n",
            "Your TensorFlow version is newer than 2.4.0 and so graph support has been removed in eager mode and some static graphs may not be supported. See PR #1483 for discussion.\n",
            "\n",
            "/usr/local/lib/python3.10/dist-packages/keras/src/backend.py:452: UserWarning:\n",
            "\n",
            "`tf.keras.backend.set_learning_phase` is deprecated and will be removed after 2020-10-11. To update it, simply pass a True/False value to the `training` argument of the `__call__` method of your layer or model.\n",
            "\n"
          ]
        },
        {
          "output_type": "display_data",
          "data": {
            "text/plain": [
              "<Figure size 1500x500 with 1 Axes>"
            ],
            "image/png": "[encoded data removed]"
          },
          "metadata": {}
        }
      ],
      "source": [
        "# Explain model predictions using shap library:\n",
        "explainer = shap.DeepExplainer(model_mlp, X_train)\n",
        "shap_values = explainer.shap_values(X_train.to_numpy())\n",
        "\n",
        "# Plot summary_plot as barplot:\n",
        "shap.summary_plot(shap_values, X_train, feature_names=features, plot_type='bar', plot_size=[15,5])"
      ]
    },
    {
      "cell_type": "code",
      "execution_count": null,
      "id": "qg2TMtxJUzVm",
      "metadata": {
        "colab": {
          "base_uri": "https://localhost:8080/"
        },
        "id": "qg2TMtxJUzVm",
        "outputId": "15604f75-e519-4ae3-ded7-75568b9be585"
      },
      "outputs": [
        {
          "output_type": "stream",
          "name": "stdout",
          "text": [
            "92/92 [==============================] - 0s 1ms/step - loss: 2370968.7500 - root_mean_squared_error: 1539.7950\n",
            "Train RMSE: 1539.795044\n",
            "12/12 [==============================] - 0s 2ms/step - loss: 3363186.2500 - root_mean_squared_error: 1833.8992\n",
            "Dev RMSE: 1833.899170\n",
            "12/12 [==============================] - 0s 2ms/step - loss: 2638476.0000 - root_mean_squared_error: 1624.3386\n",
            "Test RMSE: 1624.338623\n"
          ]
        }
      ],
      "source": [
        "rmse_train = model_mlp.evaluate(X_train, y_train)[1]\n",
        "print(\"Train RMSE: %f\" % (rmse_train))\n",
        "\n",
        "rmse_dev = model_mlp.evaluate(X_dev, y_dev)[1]\n",
        "print(\"Dev RMSE: %f\" % (rmse_dev))\n",
        "\n",
        "rmse_test = model_mlp.evaluate(X_test, y_test)[1]\n",
        "print(\"Test RMSE: %f\" % (rmse_test))"
      ]
    },
    {
      "cell_type": "markdown",
      "id": "Fte_pNj3YP1S",
      "metadata": {
        "id": "Fte_pNj3YP1S"
      },
      "source": [
        "<a name=\"6.3.2.\"></a>\n",
        "### 6.3.2. Results\n",
        "[Content](#content)"
      ]
    },
    {
      "cell_type": "markdown",
      "id": "6fVur7T-YP1T",
      "metadata": {
        "id": "6fVur7T-YP1T"
      },
      "source": [
        "The best RMSE score of our baseline models is $2.033$. With the MLP model we were able to get a RMSE score of $1.590$ for the dev set and a RMSE score of $1.417$ for the test set. Same as before, the better performance for the test set, could be due to a greater similarity of the year 2022 to the training period compared to the year 2021.\n",
        "\n",
        "Our model performs therefore $29.9\\%$ better than our best baseline model and a litle worse than the XGBoost model.\n",
        "\n",
        "The most important features according to `shap`-values are the weekly and monthly periodicity and the maximum temperature forecast as well as the label vacation and therefore overall the same as for XGBoost, but with some minor differences."
      ]
    },
    {
      "cell_type": "markdown",
      "id": "35YvxR1B1tcY",
      "metadata": {
        "id": "35YvxR1B1tcY"
      },
      "source": [
        "<a name=\"6.4.\"></a>\n",
        "## 6.4. Recurrent Neural Network\n",
        "[Content](#content)"
      ]
    },
    {
      "cell_type": "markdown",
      "id": "sfs0s3ZGC9Wp",
      "metadata": {
        "id": "sfs0s3ZGC9Wp"
      },
      "source": [
        "Lastly, we train an RNN to compare to the previous two models. A RNN can take in multiple timesteps, to make a prediction (Many-to-One). Specifically, we will feed in a number of timesteps (days) at a time and output the prediction of the last day in that sequence.\n",
        "\n",
        "Our input shape is therefore (None, seq_length, 23), where `None` represents a variable amount of training days (in our case the length of the dataset), `seq_length` is the total amount of days we feed into the RNN at a time and 23 is the number of features (same as before)."
      ]
    },
    {
      "cell_type": "markdown",
      "id": "Gc3KB_CgRhHJ",
      "metadata": {
        "id": "Gc3KB_CgRhHJ"
      },
      "source": [
        "<a name=\"6.4.1.\"></a>\n",
        "### 6.4.1. Create dataset with sequence\n",
        "[Content](#content)"
      ]
    },
    {
      "cell_type": "markdown",
      "id": "Qk3_ea4ERmRz",
      "metadata": {
        "id": "Qk3_ea4ERmRz"
      },
      "source": [
        "So far, the training data consists only of indivdual datapoints with mapping `(features, target)`. For a sequential model we need to restructure the data into `([seq_length, features], target)`."
      ]
    },
    {
      "cell_type": "code",
      "execution_count": null,
      "id": "uVM6gef_m5M1",
      "metadata": {
        "id": "uVM6gef_m5M1"
      },
      "outputs": [],
      "source": [
        "# Create datasets with seq_length and batch_size\n",
        "\n",
        "seq_length = 4\n",
        "batch_size = 32\n",
        "\n",
        "dataset_X_train = tf.keras.utils.timeseries_dataset_from_array(\n",
        "    data=X_train, targets=None, sequence_length=seq_length, batch_size=batch_size, shuffle=False)\n",
        "dataset_y_train = tf.keras.utils.timeseries_dataset_from_array(\n",
        "    data=y_train, targets=None, sequence_length=1, batch_size=batch_size, start_index=seq_length-1, shuffle=False)\n",
        "dataset_train = tf.data.Dataset.zip((dataset_X_train, dataset_y_train))\n",
        "\n",
        "dataset_X_dev = tf.keras.utils.timeseries_dataset_from_array(\n",
        "    data=X_dev, targets=None, sequence_length=seq_length, batch_size=batch_size, shuffle=False)\n",
        "dataset_y_dev = tf.keras.utils.timeseries_dataset_from_array(\n",
        "    data=y_dev, targets=None, sequence_length=1, batch_size=batch_size, start_index=seq_length-1, shuffle=False)\n",
        "dataset_dev = tf.data.Dataset.zip((dataset_X_dev, dataset_y_dev))\n",
        "\n",
        "dataset_X_test = tf.keras.utils.timeseries_dataset_from_array(\n",
        "    data=X_test, targets=None, sequence_length=seq_length, batch_size=batch_size, shuffle=False)\n",
        "dataset_y_test = tf.keras.utils.timeseries_dataset_from_array(\n",
        "    data=y_test, targets=None, sequence_length=1, batch_size=batch_size, start_index=seq_length-1, shuffle=False)\n",
        "dataset_test = tf.data.Dataset.zip((dataset_X_test, dataset_y_test))\n",
        "\n",
        "#for feature, target in dataset_train.take(1):\n",
        "#    print(feature, target)"
      ]
    },
    {
      "cell_type": "markdown",
      "id": "6pR4dcweRHVy",
      "metadata": {
        "id": "6pR4dcweRHVy"
      },
      "source": [
        "<a name=\"6.4.2.\"></a>\n",
        "### 6.4.2. Create and train the model and evaluate\n",
        "[Content](#content)"
      ]
    },
    {
      "cell_type": "markdown",
      "source": [
        "In the sequence model, we use the same preprocessing layer which we have already used for the MLP model and which we have already trained on the training dataset for mean and variance values of the features."
      ],
      "metadata": {
        "id": "DZQMsmbPRycX"
      },
      "id": "DZQMsmbPRycX"
    },
    {
      "cell_type": "code",
      "execution_count": null,
      "id": "d8miFlg-oRpQ",
      "metadata": {
        "colab": {
          "base_uri": "https://localhost:8080/"
        },
        "id": "d8miFlg-oRpQ",
        "outputId": "4974242d-62bb-420d-e192-8b37de315746"
      },
      "outputs": [
        {
          "output_type": "stream",
          "name": "stdout",
          "text": [
            "Model: \"model\"\n",
            "_________________________________________________________________\n",
            " Layer (type)                Output Shape              Param #   \n",
            "=================================================================\n",
            " input_1 (InputLayer)        [(None, 4, 23)]           0         \n",
            "                                                                 \n",
            " normalization (Normalizati  (None, 4, 23)             47        \n",
            " on)                                                             \n",
            "                                                                 \n",
            " bidirectional (Bidirection  (None, 4, 128)            45056     \n",
            " al)                                                             \n",
            "                                                                 \n",
            " bidirectional_1 (Bidirecti  (None, 64)                41216     \n",
            " onal)                                                           \n",
            "                                                                 \n",
            " dropout (Dropout)           (None, 64)                0         \n",
            "                                                                 \n",
            " dense (Dense)               (None, 1)                 65        \n",
            "                                                                 \n",
            "=================================================================\n",
            "Total params: 86384 (337.44 KB)\n",
            "Trainable params: 86337 (337.25 KB)\n",
            "Non-trainable params: 47 (192.00 Byte)\n",
            "_________________________________________________________________\n"
          ]
        }
      ],
      "source": [
        "\"\"\"\n",
        "Simple bidrectional LSTM model\n",
        "Many-to-one\n",
        "\n",
        "\"\"\"\n",
        "dropout = 0.3\n",
        "dropout_lstm = 0.3\n",
        "dropout_rec = 0.1\n",
        "\n",
        "# model wiht functional API\n",
        "inputs = Input(shape=(seq_length, len(features)))\n",
        "x = preprocessing(inputs)\n",
        "x = Bidirectional(LSTM(64, activation='relu', dropout=dropout_lstm, recurrent_dropout=dropout_rec, return_sequences=True))(x)\n",
        "x = Bidirectional(LSTM(32, activation='relu', dropout=dropout_lstm, recurrent_dropout=dropout_rec, return_sequences=False))(x)\n",
        "x = Dropout(dropout)(x)\n",
        "outputs = Dense(1, activation='linear')(x)\n",
        "\n",
        "model_seq = tf.keras.Model(inputs=inputs, outputs=outputs)\n",
        "\n",
        "optimizer = Adam(learning_rate=0.001)\n",
        "model_seq.compile(optimizer=optimizer, loss='mse', metrics=[RootMeanSquaredError()])\n",
        "\n",
        "model_seq.summary()"
      ]
    },
    {
      "cell_type": "code",
      "execution_count": null,
      "id": "XAfSeuLgoRA_",
      "metadata": {
        "id": "XAfSeuLgoRA_",
        "outputId": "cc164176-f6ec-4806-cff9-fee1fd0d615b",
        "colab": {
          "base_uri": "https://localhost:8080/"
        }
      },
      "outputs": [
        {
          "output_type": "stream",
          "name": "stdout",
          "text": [
            "Epoch 1/200\n",
            "92/92 [==============================] - 46s 51ms/step - loss: 31840686.0000 - root_mean_squared_error: 5642.7554 - val_loss: 9058615.0000 - val_root_mean_squared_error: 3009.7534\n",
            "Epoch 2/200\n",
            "92/92 [==============================] - 4s 41ms/step - loss: 6732941.0000 - root_mean_squared_error: 2594.7910 - val_loss: 6092173.5000 - val_root_mean_squared_error: 2468.2329\n",
            "Epoch 3/200\n",
            "92/92 [==============================] - 3s 33ms/step - loss: 4931642.0000 - root_mean_squared_error: 2220.7300 - val_loss: 5754261.5000 - val_root_mean_squared_error: 2398.8042\n",
            "Epoch 4/200\n",
            "92/92 [==============================] - 3s 33ms/step - loss: 4773978.5000 - root_mean_squared_error: 2184.9436 - val_loss: 4268593.5000 - val_root_mean_squared_error: 2066.0574\n",
            "Epoch 5/200\n",
            "92/92 [==============================] - 4s 46ms/step - loss: 4370961.0000 - root_mean_squared_error: 2090.6843 - val_loss: 4456990.0000 - val_root_mean_squared_error: 2111.1584\n",
            "Epoch 6/200\n",
            "92/92 [==============================] - 3s 30ms/step - loss: 4070963.2500 - root_mean_squared_error: 2017.6628 - val_loss: 4770478.5000 - val_root_mean_squared_error: 2184.1426\n",
            "Epoch 7/200\n",
            "92/92 [==============================] - 3s 31ms/step - loss: 4069269.7500 - root_mean_squared_error: 2017.2432 - val_loss: 3898013.2500 - val_root_mean_squared_error: 1974.3387\n",
            "Epoch 8/200\n",
            "92/92 [==============================] - 3s 34ms/step - loss: 4066268.2500 - root_mean_squared_error: 2016.4990 - val_loss: 3985715.0000 - val_root_mean_squared_error: 1996.4255\n",
            "Epoch 9/200\n",
            "92/92 [==============================] - 3s 34ms/step - loss: 4055185.2500 - root_mean_squared_error: 2013.7490 - val_loss: 3564161.7500 - val_root_mean_squared_error: 1887.8988\n",
            "Epoch 10/200\n",
            "92/92 [==============================] - 3s 30ms/step - loss: 4037838.7500 - root_mean_squared_error: 2009.4374 - val_loss: 3608677.5000 - val_root_mean_squared_error: 1899.6520\n",
            "Epoch 11/200\n",
            "92/92 [==============================] - 3s 30ms/step - loss: 3820087.0000 - root_mean_squared_error: 1954.5043 - val_loss: 3309005.7500 - val_root_mean_squared_error: 1819.0673\n",
            "Epoch 12/200\n",
            "92/92 [==============================] - 5s 49ms/step - loss: 3845133.7500 - root_mean_squared_error: 1960.9012 - val_loss: 3396142.7500 - val_root_mean_squared_error: 1842.8627\n",
            "Epoch 13/200\n",
            "92/92 [==============================] - 3s 31ms/step - loss: 3948107.5000 - root_mean_squared_error: 1986.9845 - val_loss: 3431119.2500 - val_root_mean_squared_error: 1852.3280\n",
            "Epoch 14/200\n",
            "92/92 [==============================] - 3s 33ms/step - loss: 3579315.7500 - root_mean_squared_error: 1891.9080 - val_loss: 3450497.5000 - val_root_mean_squared_error: 1857.5515\n",
            "Epoch 15/200\n",
            "92/92 [==============================] - 3s 33ms/step - loss: 3621879.5000 - root_mean_squared_error: 1903.1237 - val_loss: 3256745.0000 - val_root_mean_squared_error: 1804.6454\n",
            "Epoch 16/200\n",
            "92/92 [==============================] - 4s 46ms/step - loss: 3641265.5000 - root_mean_squared_error: 1908.2101 - val_loss: 3340713.0000 - val_root_mean_squared_error: 1827.7617\n",
            "Epoch 17/200\n",
            "92/92 [==============================] - 3s 34ms/step - loss: 3709261.5000 - root_mean_squared_error: 1925.9443 - val_loss: 3215093.0000 - val_root_mean_squared_error: 1793.0680\n",
            "Epoch 18/200\n",
            "92/92 [==============================] - 4s 38ms/step - loss: 3682904.0000 - root_mean_squared_error: 1919.0894 - val_loss: 3291700.2500 - val_root_mean_squared_error: 1814.3043\n",
            "Epoch 19/200\n",
            "92/92 [==============================] - 5s 53ms/step - loss: 3571686.7500 - root_mean_squared_error: 1889.8906 - val_loss: 3241557.2500 - val_root_mean_squared_error: 1800.4325\n",
            "Epoch 20/200\n",
            "92/92 [==============================] - 3s 30ms/step - loss: 3441537.0000 - root_mean_squared_error: 1855.1379 - val_loss: 3326116.7500 - val_root_mean_squared_error: 1823.7644\n",
            "Epoch 21/200\n",
            "92/92 [==============================] - 3s 31ms/step - loss: 3395725.5000 - root_mean_squared_error: 1842.7494 - val_loss: 3350693.7500 - val_root_mean_squared_error: 1830.4900\n",
            "Epoch 22/200\n",
            "92/92 [==============================] - 4s 42ms/step - loss: 3303511.7500 - root_mean_squared_error: 1817.5565 - val_loss: 3257746.7500 - val_root_mean_squared_error: 1804.9230\n",
            "Epoch 23/200\n",
            "92/92 [==============================] - 3s 32ms/step - loss: 3560438.5000 - root_mean_squared_error: 1886.9125 - val_loss: 3094509.2500 - val_root_mean_squared_error: 1759.1217\n",
            "Epoch 24/200\n",
            "92/92 [==============================] - 4s 42ms/step - loss: 3480156.7500 - root_mean_squared_error: 1865.5178 - val_loss: 3165589.2500 - val_root_mean_squared_error: 1779.2103\n",
            "Epoch 25/200\n",
            "92/92 [==============================] - 3s 30ms/step - loss: 3325639.7500 - root_mean_squared_error: 1823.6337 - val_loss: 3090583.2500 - val_root_mean_squared_error: 1758.0055\n",
            "Epoch 26/200\n",
            "92/92 [==============================] - 3s 30ms/step - loss: 3284607.0000 - root_mean_squared_error: 1812.3485 - val_loss: 3278680.0000 - val_root_mean_squared_error: 1810.7125\n",
            "Epoch 27/200\n",
            "92/92 [==============================] - 4s 40ms/step - loss: 3377253.0000 - root_mean_squared_error: 1837.7303 - val_loss: 3313416.5000 - val_root_mean_squared_error: 1820.2793\n",
            "Epoch 28/200\n",
            "92/92 [==============================] - 3s 35ms/step - loss: 3140012.7500 - root_mean_squared_error: 1772.0081 - val_loss: 3153629.2500 - val_root_mean_squared_error: 1775.8461\n",
            "Epoch 29/200\n",
            "92/92 [==============================] - 3s 31ms/step - loss: 3153270.7500 - root_mean_squared_error: 1775.7451 - val_loss: 3185202.5000 - val_root_mean_squared_error: 1784.7136\n",
            "Epoch 30/200\n",
            "92/92 [==============================] - 3s 32ms/step - loss: 3083304.7500 - root_mean_squared_error: 1755.9342 - val_loss: 3315472.2500 - val_root_mean_squared_error: 1820.8439\n",
            "Epoch 31/200\n",
            "92/92 [==============================] - 6s 69ms/step - loss: 3027380.2500 - root_mean_squared_error: 1739.9369 - val_loss: 3052093.2500 - val_root_mean_squared_error: 1747.0242\n",
            "Epoch 32/200\n",
            "92/92 [==============================] - 3s 33ms/step - loss: 3125060.5000 - root_mean_squared_error: 1767.7841 - val_loss: 3061877.0000 - val_root_mean_squared_error: 1749.8220\n",
            "Epoch 33/200\n",
            "92/92 [==============================] - 3s 34ms/step - loss: 3104794.0000 - root_mean_squared_error: 1762.0426 - val_loss: 3190932.5000 - val_root_mean_squared_error: 1786.3181\n",
            "Epoch 34/200\n",
            "92/92 [==============================] - 3s 34ms/step - loss: 3182339.0000 - root_mean_squared_error: 1783.9111 - val_loss: 3020668.0000 - val_root_mean_squared_error: 1738.0070\n",
            "Epoch 35/200\n",
            "92/92 [==============================] - 3s 32ms/step - loss: 3123096.5000 - root_mean_squared_error: 1767.2285 - val_loss: 3538632.7500 - val_root_mean_squared_error: 1881.1254\n",
            "Epoch 36/200\n",
            "92/92 [==============================] - 3s 33ms/step - loss: 3088554.5000 - root_mean_squared_error: 1757.4283 - val_loss: 3061661.0000 - val_root_mean_squared_error: 1749.7603\n",
            "Epoch 37/200\n",
            "92/92 [==============================] - 4s 39ms/step - loss: 3071707.2500 - root_mean_squared_error: 1752.6287 - val_loss: 2957783.0000 - val_root_mean_squared_error: 1719.8207\n",
            "Epoch 38/200\n",
            "92/92 [==============================] - 3s 33ms/step - loss: 3143391.5000 - root_mean_squared_error: 1772.9612 - val_loss: 3044580.0000 - val_root_mean_squared_error: 1744.8724\n",
            "Epoch 39/200\n",
            "92/92 [==============================] - 3s 32ms/step - loss: 3018229.7500 - root_mean_squared_error: 1737.3053 - val_loss: 2970378.5000 - val_root_mean_squared_error: 1723.4786\n",
            "Epoch 40/200\n",
            "92/92 [==============================] - 5s 50ms/step - loss: 3068454.2500 - root_mean_squared_error: 1751.7004 - val_loss: 3208280.0000 - val_root_mean_squared_error: 1791.1672\n",
            "Epoch 41/200\n",
            "92/92 [==============================] - 3s 30ms/step - loss: 2950506.7500 - root_mean_squared_error: 1717.7039 - val_loss: 2915164.7500 - val_root_mean_squared_error: 1707.3854\n",
            "Epoch 42/200\n",
            "92/92 [==============================] - 3s 33ms/step - loss: 2950124.0000 - root_mean_squared_error: 1717.5925 - val_loss: 2973828.5000 - val_root_mean_squared_error: 1724.4792\n",
            "Epoch 43/200\n",
            "92/92 [==============================] - 3s 34ms/step - loss: 2950836.7500 - root_mean_squared_error: 1717.7999 - val_loss: 2886321.0000 - val_root_mean_squared_error: 1698.9176\n",
            "Epoch 44/200\n",
            "92/92 [==============================] - 4s 42ms/step - loss: 3020608.7500 - root_mean_squared_error: 1737.9899 - val_loss: 2988586.5000 - val_root_mean_squared_error: 1728.7529\n",
            "Epoch 45/200\n",
            "92/92 [==============================] - 3s 33ms/step - loss: 2935305.2500 - root_mean_squared_error: 1713.2733 - val_loss: 2908205.0000 - val_root_mean_squared_error: 1705.3459\n",
            "Epoch 46/200\n",
            "92/92 [==============================] - 3s 33ms/step - loss: 3030563.5000 - root_mean_squared_error: 1740.8513 - val_loss: 2922445.5000 - val_root_mean_squared_error: 1709.5161\n",
            "Epoch 47/200\n",
            "92/92 [==============================] - 4s 41ms/step - loss: 2911959.7500 - root_mean_squared_error: 1706.4465 - val_loss: 2918085.7500 - val_root_mean_squared_error: 1708.2406\n",
            "Epoch 48/200\n",
            "92/92 [==============================] - 3s 31ms/step - loss: 2908754.7500 - root_mean_squared_error: 1705.5072 - val_loss: 2918925.0000 - val_root_mean_squared_error: 1708.4862\n",
            "Epoch 49/200\n",
            "92/92 [==============================] - 4s 45ms/step - loss: 2916449.0000 - root_mean_squared_error: 1707.7614 - val_loss: 2997964.7500 - val_root_mean_squared_error: 1731.4631\n",
            "Epoch 50/200\n",
            "92/92 [==============================] - 3s 32ms/step - loss: 2834511.7500 - root_mean_squared_error: 1683.6008 - val_loss: 2973055.2500 - val_root_mean_squared_error: 1724.2550\n",
            "Epoch 51/200\n",
            "92/92 [==============================] - 3s 33ms/step - loss: 2862972.5000 - root_mean_squared_error: 1692.0321 - val_loss: 2844103.5000 - val_root_mean_squared_error: 1686.4470\n",
            "Epoch 52/200\n",
            "92/92 [==============================] - 3s 35ms/step - loss: 2875808.2500 - root_mean_squared_error: 1695.8208 - val_loss: 2824931.0000 - val_root_mean_squared_error: 1680.7531\n",
            "Epoch 53/200\n",
            "92/92 [==============================] - 4s 46ms/step - loss: 3026185.0000 - root_mean_squared_error: 1739.5934 - val_loss: 2983740.5000 - val_root_mean_squared_error: 1727.3507\n",
            "Epoch 54/200\n",
            "92/92 [==============================] - 3s 35ms/step - loss: 2872241.5000 - root_mean_squared_error: 1694.7689 - val_loss: 2782402.2500 - val_root_mean_squared_error: 1668.0535\n",
            "Epoch 55/200\n",
            "92/92 [==============================] - 3s 34ms/step - loss: 2847918.7500 - root_mean_squared_error: 1687.5778 - val_loss: 2855399.2500 - val_root_mean_squared_error: 1689.7927\n",
            "Epoch 56/200\n",
            "92/92 [==============================] - 4s 38ms/step - loss: 2864900.5000 - root_mean_squared_error: 1692.6017 - val_loss: 2731629.2500 - val_root_mean_squared_error: 1652.7642\n",
            "Epoch 57/200\n",
            "92/92 [==============================] - 3s 31ms/step - loss: 2747895.5000 - root_mean_squared_error: 1657.6777 - val_loss: 2941481.7500 - val_root_mean_squared_error: 1715.0748\n",
            "Epoch 58/200\n",
            "92/92 [==============================] - 3s 31ms/step - loss: 2739466.7500 - root_mean_squared_error: 1655.1334 - val_loss: 2852723.7500 - val_root_mean_squared_error: 1689.0009\n",
            "Epoch 59/200\n",
            "92/92 [==============================] - 3s 30ms/step - loss: 2864384.2500 - root_mean_squared_error: 1692.4492 - val_loss: 2892959.7500 - val_root_mean_squared_error: 1700.8702\n",
            "Epoch 60/200\n",
            "92/92 [==============================] - 3s 31ms/step - loss: 2611458.2500 - root_mean_squared_error: 1616.0007 - val_loss: 2739641.0000 - val_root_mean_squared_error: 1655.1860\n",
            "Epoch 61/200\n",
            "92/92 [==============================] - 4s 43ms/step - loss: 2771763.5000 - root_mean_squared_error: 1664.8615 - val_loss: 2933399.0000 - val_root_mean_squared_error: 1712.7168\n",
            "Epoch 62/200\n",
            "92/92 [==============================] - 3s 32ms/step - loss: 2726841.7500 - root_mean_squared_error: 1651.3152 - val_loss: 2879613.0000 - val_root_mean_squared_error: 1696.9423\n",
            "Epoch 63/200\n",
            "92/92 [==============================] - 3s 32ms/step - loss: 2791876.2500 - root_mean_squared_error: 1670.8909 - val_loss: 2720482.7500 - val_root_mean_squared_error: 1649.3885\n",
            "Epoch 64/200\n",
            "92/92 [==============================] - 4s 46ms/step - loss: 2724127.0000 - root_mean_squared_error: 1650.4929 - val_loss: 2776178.7500 - val_root_mean_squared_error: 1666.1869\n",
            "Epoch 65/200\n",
            "92/92 [==============================] - 3s 32ms/step - loss: 2719557.2500 - root_mean_squared_error: 1649.1080 - val_loss: 2787277.5000 - val_root_mean_squared_error: 1669.5142\n",
            "Epoch 66/200\n",
            "92/92 [==============================] - 3s 31ms/step - loss: 2678638.2500 - root_mean_squared_error: 1636.6545 - val_loss: 2780076.0000 - val_root_mean_squared_error: 1667.3560\n",
            "Epoch 67/200\n",
            "92/92 [==============================] - 4s 43ms/step - loss: 2648562.2500 - root_mean_squared_error: 1627.4404 - val_loss: 2680577.7500 - val_root_mean_squared_error: 1637.2469\n",
            "Epoch 68/200\n",
            "92/92 [==============================] - 3s 32ms/step - loss: 2666352.7500 - root_mean_squared_error: 1632.8971 - val_loss: 2949567.2500 - val_root_mean_squared_error: 1717.4304\n",
            "Epoch 69/200\n",
            "92/92 [==============================] - 3s 33ms/step - loss: 2723286.5000 - root_mean_squared_error: 1650.2383 - val_loss: 2783054.7500 - val_root_mean_squared_error: 1668.2490\n",
            "Epoch 70/200\n",
            "92/92 [==============================] - 4s 47ms/step - loss: 2498366.0000 - root_mean_squared_error: 1580.6221 - val_loss: 3134842.2500 - val_root_mean_squared_error: 1770.5486\n",
            "Epoch 71/200\n",
            "92/92 [==============================] - 3s 32ms/step - loss: 2705477.2500 - root_mean_squared_error: 1644.8335 - val_loss: 2725175.7500 - val_root_mean_squared_error: 1650.8107\n",
            "Epoch 72/200\n",
            "92/92 [==============================] - 3s 33ms/step - loss: 2628086.5000 - root_mean_squared_error: 1621.1375 - val_loss: 2769479.5000 - val_root_mean_squared_error: 1664.1753\n",
            "Epoch 73/200\n",
            "92/92 [==============================] - 4s 46ms/step - loss: 2536308.5000 - root_mean_squared_error: 1592.5792 - val_loss: 2710875.2500 - val_root_mean_squared_error: 1646.4736\n",
            "Epoch 74/200\n",
            "92/92 [==============================] - 3s 32ms/step - loss: 2723462.7500 - root_mean_squared_error: 1650.2917 - val_loss: 2945026.0000 - val_root_mean_squared_error: 1716.1078\n",
            "Epoch 75/200\n",
            "92/92 [==============================] - 3s 34ms/step - loss: 2691838.5000 - root_mean_squared_error: 1640.6824 - val_loss: 2958922.2500 - val_root_mean_squared_error: 1720.1519\n",
            "Epoch 76/200\n",
            "92/92 [==============================] - 5s 50ms/step - loss: 2486712.7500 - root_mean_squared_error: 1576.9314 - val_loss: 2835938.5000 - val_root_mean_squared_error: 1684.0245\n",
            "Epoch 77/200\n",
            "92/92 [==============================] - 3s 33ms/step - loss: 2564551.2500 - root_mean_squared_error: 1601.4216 - val_loss: 2760005.2500 - val_root_mean_squared_error: 1661.3263\n",
            "Epoch 78/200\n",
            "92/92 [==============================] - 3s 35ms/step - loss: 2711458.0000 - root_mean_squared_error: 1646.6505 - val_loss: 2729743.2500 - val_root_mean_squared_error: 1652.1935\n",
            "Epoch 79/200\n",
            "92/92 [==============================] - 4s 47ms/step - loss: 2641861.5000 - root_mean_squared_error: 1625.3804 - val_loss: 3308008.2500 - val_root_mean_squared_error: 1818.7931\n",
            "Epoch 80/200\n",
            "92/92 [==============================] - 3s 32ms/step - loss: 2595341.7500 - root_mean_squared_error: 1611.0065 - val_loss: 2797907.0000 - val_root_mean_squared_error: 1672.6946\n",
            "Epoch 81/200\n",
            "92/92 [==============================] - 3s 35ms/step - loss: 2590483.7500 - root_mean_squared_error: 1609.4979 - val_loss: 2754785.5000 - val_root_mean_squared_error: 1659.7546\n",
            "Epoch 82/200\n",
            "92/92 [==============================] - 3s 34ms/step - loss: 2676601.7500 - root_mean_squared_error: 1636.0323 - val_loss: 2747953.2500 - val_root_mean_squared_error: 1657.6952\n",
            "Epoch 83/200\n",
            "92/92 [==============================] - 3s 37ms/step - loss: 2544848.7500 - root_mean_squared_error: 1595.2582 - val_loss: 2764621.5000 - val_root_mean_squared_error: 1662.7151\n",
            "Epoch 84/200\n",
            "92/92 [==============================] - 4s 45ms/step - loss: 2657309.2500 - root_mean_squared_error: 1630.1255 - val_loss: 2879183.5000 - val_root_mean_squared_error: 1696.8157\n",
            "Epoch 85/200\n",
            "92/92 [==============================] - 3s 32ms/step - loss: 2484110.7500 - root_mean_squared_error: 1576.1062 - val_loss: 2707786.5000 - val_root_mean_squared_error: 1645.5353\n",
            "Epoch 86/200\n",
            "92/92 [==============================] - 3s 32ms/step - loss: 2669500.5000 - root_mean_squared_error: 1633.8606 - val_loss: 2741523.0000 - val_root_mean_squared_error: 1655.7545\n",
            "Epoch 87/200\n",
            "92/92 [==============================] - 4s 39ms/step - loss: 2486774.7500 - root_mean_squared_error: 1576.9510 - val_loss: 2750695.7500 - val_root_mean_squared_error: 1658.5222\n",
            "Epoch 88/200\n",
            "92/92 [==============================] - 3s 34ms/step - loss: 2498520.2500 - root_mean_squared_error: 1580.6708 - val_loss: 2725814.2500 - val_root_mean_squared_error: 1651.0040\n",
            "Epoch 89/200\n",
            "92/92 [==============================] - 3s 32ms/step - loss: 2507261.5000 - root_mean_squared_error: 1583.4335 - val_loss: 2726802.0000 - val_root_mean_squared_error: 1651.3031\n",
            "Epoch 90/200\n",
            "92/92 [==============================] - 4s 47ms/step - loss: 2520635.7500 - root_mean_squared_error: 1587.6510 - val_loss: 2745485.5000 - val_root_mean_squared_error: 1656.9507\n",
            "Epoch 91/200\n",
            "92/92 [==============================] - 3s 32ms/step - loss: 2558891.0000 - root_mean_squared_error: 1599.6534 - val_loss: 2693372.7500 - val_root_mean_squared_error: 1641.1498\n",
            "Epoch 92/200\n",
            "92/92 [==============================] - 3s 32ms/step - loss: 2512194.2500 - root_mean_squared_error: 1584.9904 - val_loss: 2755319.2500 - val_root_mean_squared_error: 1659.9154\n",
            "Epoch 93/200\n",
            "92/92 [==============================] - 4s 39ms/step - loss: 2554260.5000 - root_mean_squared_error: 1598.2054 - val_loss: 2619276.7500 - val_root_mean_squared_error: 1618.4180\n",
            "Epoch 94/200\n",
            "92/92 [==============================] - 3s 32ms/step - loss: 2576259.0000 - root_mean_squared_error: 1605.0729 - val_loss: 2759862.7500 - val_root_mean_squared_error: 1661.2834\n",
            "Epoch 95/200\n",
            "92/92 [==============================] - 3s 36ms/step - loss: 2540514.5000 - root_mean_squared_error: 1593.8992 - val_loss: 2732234.7500 - val_root_mean_squared_error: 1652.9473\n",
            "Epoch 96/200\n",
            "92/92 [==============================] - 3s 32ms/step - loss: 2580644.5000 - root_mean_squared_error: 1606.4385 - val_loss: 2757450.5000 - val_root_mean_squared_error: 1660.5573\n",
            "Epoch 97/200\n",
            "92/92 [==============================] - 3s 32ms/step - loss: 2495789.2500 - root_mean_squared_error: 1579.8068 - val_loss: 2817441.0000 - val_root_mean_squared_error: 1678.5234\n",
            "Epoch 98/200\n",
            "92/92 [==============================] - 4s 39ms/step - loss: 2486818.0000 - root_mean_squared_error: 1576.9648 - val_loss: 2703804.7500 - val_root_mean_squared_error: 1644.3251\n",
            "Epoch 99/200\n",
            "92/92 [==============================] - 3s 33ms/step - loss: 2390756.7500 - root_mean_squared_error: 1546.2073 - val_loss: 2606755.7500 - val_root_mean_squared_error: 1614.5450\n",
            "Epoch 100/200\n",
            "92/92 [==============================] - 4s 47ms/step - loss: 2467826.5000 - root_mean_squared_error: 1570.9318 - val_loss: 2714726.0000 - val_root_mean_squared_error: 1647.6426\n",
            "Epoch 101/200\n",
            "92/92 [==============================] - 3s 33ms/step - loss: 2407448.5000 - root_mean_squared_error: 1551.5955 - val_loss: 2922148.5000 - val_root_mean_squared_error: 1709.4293\n",
            "Epoch 102/200\n",
            "92/92 [==============================] - 3s 33ms/step - loss: 2462070.0000 - root_mean_squared_error: 1569.0985 - val_loss: 2785442.5000 - val_root_mean_squared_error: 1668.9645\n",
            "Epoch 103/200\n",
            "92/92 [==============================] - 3s 33ms/step - loss: 2359214.5000 - root_mean_squared_error: 1535.9735 - val_loss: 2952753.7500 - val_root_mean_squared_error: 1718.3579\n",
            "Epoch 104/200\n",
            "92/92 [==============================] - 3s 30ms/step - loss: 2401754.0000 - root_mean_squared_error: 1549.7593 - val_loss: 2920057.5000 - val_root_mean_squared_error: 1708.8176\n",
            "Epoch 105/200\n",
            "92/92 [==============================] - 3s 33ms/step - loss: 2378978.2500 - root_mean_squared_error: 1542.3937 - val_loss: 2737745.7500 - val_root_mean_squared_error: 1654.6135\n",
            "Epoch 106/200\n",
            "92/92 [==============================] - 3s 32ms/step - loss: 2456497.2500 - root_mean_squared_error: 1567.3217 - val_loss: 2943175.0000 - val_root_mean_squared_error: 1715.5684\n",
            "Epoch 107/200\n",
            "92/92 [==============================] - 3s 34ms/step - loss: 2490876.7500 - root_mean_squared_error: 1578.2512 - val_loss: 2739073.0000 - val_root_mean_squared_error: 1655.0145\n",
            "Epoch 108/200\n",
            "92/92 [==============================] - 3s 30ms/step - loss: 2294071.0000 - root_mean_squared_error: 1514.6191 - val_loss: 2627476.7500 - val_root_mean_squared_error: 1620.9493\n",
            "Epoch 109/200\n",
            "92/92 [==============================] - 3s 33ms/step - loss: 2459764.7500 - root_mean_squared_error: 1568.3638 - val_loss: 3044196.5000 - val_root_mean_squared_error: 1744.7626\n",
            "Epoch 110/200\n",
            "92/92 [==============================] - 4s 46ms/step - loss: 2290505.7500 - root_mean_squared_error: 1513.4417 - val_loss: 2851170.7500 - val_root_mean_squared_error: 1688.5410\n",
            "Epoch 111/200\n",
            "92/92 [==============================] - 3s 33ms/step - loss: 2385978.0000 - root_mean_squared_error: 1544.6611 - val_loss: 2711266.2500 - val_root_mean_squared_error: 1646.5923\n",
            "Epoch 112/200\n",
            "92/92 [==============================] - 3s 32ms/step - loss: 2291111.5000 - root_mean_squared_error: 1513.6418 - val_loss: 2823299.2500 - val_root_mean_squared_error: 1680.2676\n",
            "Epoch 113/200\n",
            "92/92 [==============================] - 3s 32ms/step - loss: 2357225.2500 - root_mean_squared_error: 1535.3258 - val_loss: 2619856.7500 - val_root_mean_squared_error: 1618.5972\n",
            "Epoch 114/200\n",
            "92/92 [==============================] - 5s 54ms/step - loss: 2421877.5000 - root_mean_squared_error: 1556.2383 - val_loss: 2715920.0000 - val_root_mean_squared_error: 1648.0049\n",
            "Epoch 115/200\n",
            "92/92 [==============================] - 4s 44ms/step - loss: 2406566.0000 - root_mean_squared_error: 1551.3110 - val_loss: 2625392.5000 - val_root_mean_squared_error: 1620.3063\n",
            "Epoch 116/200\n",
            "92/92 [==============================] - 4s 44ms/step - loss: 2368357.5000 - root_mean_squared_error: 1538.9469 - val_loss: 2672767.7500 - val_root_mean_squared_error: 1634.8601\n",
            "Epoch 117/200\n",
            "92/92 [==============================] - 4s 45ms/step - loss: 2329060.2500 - root_mean_squared_error: 1526.1259 - val_loss: 2701024.5000 - val_root_mean_squared_error: 1643.4794\n",
            "Epoch 118/200\n",
            "92/92 [==============================] - 3s 32ms/step - loss: 2375736.5000 - root_mean_squared_error: 1541.3424 - val_loss: 2834047.2500 - val_root_mean_squared_error: 1683.4629\n",
            "Epoch 119/200\n",
            "92/92 [==============================] - 3s 35ms/step - loss: 2328003.5000 - root_mean_squared_error: 1525.7797 - val_loss: 2853223.0000 - val_root_mean_squared_error: 1689.1486\n",
            "Epoch 120/200\n",
            "92/92 [==============================] - 3s 33ms/step - loss: 2327341.0000 - root_mean_squared_error: 1525.5625 - val_loss: 2698607.2500 - val_root_mean_squared_error: 1642.7438\n",
            "Epoch 121/200\n",
            "92/92 [==============================] - 3s 36ms/step - loss: 2414668.2500 - root_mean_squared_error: 1553.9203 - val_loss: 2794611.5000 - val_root_mean_squared_error: 1671.7091\n",
            "Epoch 122/200\n",
            "92/92 [==============================] - 4s 39ms/step - loss: 2373223.7500 - root_mean_squared_error: 1540.5271 - val_loss: 2644940.2500 - val_root_mean_squared_error: 1626.3273\n",
            "Epoch 123/200\n",
            "92/92 [==============================] - 3s 33ms/step - loss: 2289788.2500 - root_mean_squared_error: 1513.2046 - val_loss: 2761483.5000 - val_root_mean_squared_error: 1661.7712\n",
            "Epoch 124/200\n",
            "92/92 [==============================] - 3s 33ms/step - loss: 2222697.7500 - root_mean_squared_error: 1490.8715 - val_loss: 2749965.2500 - val_root_mean_squared_error: 1658.3019\n",
            "Epoch 125/200\n",
            "92/92 [==============================] - 5s 50ms/step - loss: 2366864.2500 - root_mean_squared_error: 1538.4617 - val_loss: 2549395.0000 - val_root_mean_squared_error: 1596.6825\n",
            "Epoch 126/200\n",
            "92/92 [==============================] - 3s 33ms/step - loss: 2387383.2500 - root_mean_squared_error: 1545.1160 - val_loss: 2649015.2500 - val_root_mean_squared_error: 1627.5796\n",
            "Epoch 127/200\n",
            "92/92 [==============================] - 3s 30ms/step - loss: 2334761.0000 - root_mean_squared_error: 1527.9924 - val_loss: 2870771.0000 - val_root_mean_squared_error: 1694.3350\n",
            "Epoch 128/200\n",
            "92/92 [==============================] - 4s 46ms/step - loss: 2246369.2500 - root_mean_squared_error: 1498.7893 - val_loss: 2994571.2500 - val_root_mean_squared_error: 1730.4829\n",
            "Epoch 129/200\n",
            "92/92 [==============================] - 3s 32ms/step - loss: 2376762.2500 - root_mean_squared_error: 1541.6752 - val_loss: 2630625.5000 - val_root_mean_squared_error: 1621.9203\n",
            "Epoch 130/200\n",
            "92/92 [==============================] - 3s 34ms/step - loss: 2302453.2500 - root_mean_squared_error: 1517.3837 - val_loss: 2766864.2500 - val_root_mean_squared_error: 1663.3894\n",
            "Epoch 131/200\n",
            "92/92 [==============================] - 4s 38ms/step - loss: 2268427.5000 - root_mean_squared_error: 1506.1300 - val_loss: 2755824.0000 - val_root_mean_squared_error: 1660.0675\n",
            "Epoch 132/200\n",
            "92/92 [==============================] - 3s 31ms/step - loss: 2225842.0000 - root_mean_squared_error: 1491.9257 - val_loss: 2762794.7500 - val_root_mean_squared_error: 1662.1656\n",
            "Epoch 133/200\n",
            "92/92 [==============================] - 4s 48ms/step - loss: 2322912.0000 - root_mean_squared_error: 1524.1102 - val_loss: 2612773.7500 - val_root_mean_squared_error: 1616.4077\n",
            "Epoch 134/200\n",
            "92/92 [==============================] - 3s 31ms/step - loss: 2300348.5000 - root_mean_squared_error: 1516.6899 - val_loss: 2819087.0000 - val_root_mean_squared_error: 1679.0137\n",
            "Epoch 135/200\n",
            "92/92 [==============================] - 3s 30ms/step - loss: 2314305.0000 - root_mean_squared_error: 1521.2841 - val_loss: 2699105.5000 - val_root_mean_squared_error: 1642.8955\n",
            "Epoch 136/200\n",
            "92/92 [==============================] - 3s 32ms/step - loss: 2230069.2500 - root_mean_squared_error: 1493.3417 - val_loss: 2777409.0000 - val_root_mean_squared_error: 1666.5560\n",
            "Epoch 137/200\n",
            "92/92 [==============================] - 3s 35ms/step - loss: 2247187.5000 - root_mean_squared_error: 1499.0623 - val_loss: 2807334.0000 - val_root_mean_squared_error: 1675.5101\n",
            "Epoch 138/200\n",
            "92/92 [==============================] - 3s 33ms/step - loss: 2240020.2500 - root_mean_squared_error: 1496.6697 - val_loss: 2689414.5000 - val_root_mean_squared_error: 1639.9435\n",
            "Epoch 139/200\n",
            "92/92 [==============================] - 4s 45ms/step - loss: 2246572.0000 - root_mean_squared_error: 1498.8569 - val_loss: 2674797.5000 - val_root_mean_squared_error: 1635.4808\n",
            "Epoch 140/200\n",
            "92/92 [==============================] - 3s 33ms/step - loss: 2227454.5000 - root_mean_squared_error: 1492.4659 - val_loss: 2765936.0000 - val_root_mean_squared_error: 1663.1104\n",
            "Epoch 141/200\n",
            "92/92 [==============================] - 3s 33ms/step - loss: 2190823.0000 - root_mean_squared_error: 1480.1429 - val_loss: 2719535.7500 - val_root_mean_squared_error: 1649.1014\n",
            "Epoch 142/200\n",
            "92/92 [==============================] - 4s 46ms/step - loss: 2250273.7500 - root_mean_squared_error: 1500.0912 - val_loss: 2717882.2500 - val_root_mean_squared_error: 1648.6001\n",
            "Epoch 143/200\n",
            "92/92 [==============================] - 3s 33ms/step - loss: 2248641.7500 - root_mean_squared_error: 1499.5472 - val_loss: 2821923.2500 - val_root_mean_squared_error: 1679.8582\n",
            "Epoch 144/200\n",
            "92/92 [==============================] - 3s 31ms/step - loss: 2268702.0000 - root_mean_squared_error: 1506.2211 - val_loss: 2634773.2500 - val_root_mean_squared_error: 1623.1985\n",
            "Epoch 145/200\n",
            "92/92 [==============================] - 4s 48ms/step - loss: 2260168.2500 - root_mean_squared_error: 1503.3856 - val_loss: 2653468.5000 - val_root_mean_squared_error: 1628.9470\n",
            "Epoch 146/200\n",
            "92/92 [==============================] - 3s 35ms/step - loss: 2525130.5000 - root_mean_squared_error: 1589.0659 - val_loss: 2734673.7500 - val_root_mean_squared_error: 1653.6849\n",
            "Epoch 147/200\n",
            "92/92 [==============================] - 3s 31ms/step - loss: 2269636.7500 - root_mean_squared_error: 1506.5314 - val_loss: 2660593.5000 - val_root_mean_squared_error: 1631.1326\n",
            "Epoch 148/200\n",
            "92/92 [==============================] - 4s 45ms/step - loss: 2238640.5000 - root_mean_squared_error: 1496.2087 - val_loss: 2737981.5000 - val_root_mean_squared_error: 1654.6847\n",
            "Epoch 149/200\n",
            "92/92 [==============================] - 3s 34ms/step - loss: 2238312.7500 - root_mean_squared_error: 1496.0991 - val_loss: 2917126.2500 - val_root_mean_squared_error: 1707.9597\n",
            "Epoch 150/200\n",
            "92/92 [==============================] - 3s 32ms/step - loss: 2109167.7500 - root_mean_squared_error: 1452.2974 - val_loss: 2793742.7500 - val_root_mean_squared_error: 1671.4493\n",
            "Epoch 151/200\n",
            "92/92 [==============================] - 4s 48ms/step - loss: 2222109.0000 - root_mean_squared_error: 1490.6740 - val_loss: 2826493.2500 - val_root_mean_squared_error: 1681.2178\n",
            "Epoch 152/200\n",
            "92/92 [==============================] - 3s 33ms/step - loss: 2088536.2500 - root_mean_squared_error: 1445.1769 - val_loss: 2618995.0000 - val_root_mean_squared_error: 1618.3309\n",
            "Epoch 153/200\n",
            "92/92 [==============================] - 3s 35ms/step - loss: 2209688.7500 - root_mean_squared_error: 1486.5022 - val_loss: 2684849.7500 - val_root_mean_squared_error: 1638.5511\n",
            "Epoch 154/200\n",
            "92/92 [==============================] - 4s 47ms/step - loss: 2159381.5000 - root_mean_squared_error: 1469.4834 - val_loss: 2577070.2500 - val_root_mean_squared_error: 1605.3256\n",
            "Epoch 155/200\n",
            "92/92 [==============================] - 3s 31ms/step - loss: 2225777.7500 - root_mean_squared_error: 1491.9041 - val_loss: 2777508.2500 - val_root_mean_squared_error: 1666.5858\n",
            "Epoch 156/200\n",
            "92/92 [==============================] - 3s 31ms/step - loss: 2137735.2500 - root_mean_squared_error: 1462.0996 - val_loss: 2703583.0000 - val_root_mean_squared_error: 1644.2576\n",
            "Epoch 157/200\n",
            "92/92 [==============================] - 4s 48ms/step - loss: 2185859.0000 - root_mean_squared_error: 1478.4651 - val_loss: 2757431.2500 - val_root_mean_squared_error: 1660.5515\n",
            "Epoch 158/200\n",
            "92/92 [==============================] - 3s 32ms/step - loss: 2269984.5000 - root_mean_squared_error: 1506.6467 - val_loss: 2580961.5000 - val_root_mean_squared_error: 1606.5371\n",
            "Epoch 159/200\n",
            "92/92 [==============================] - 3s 31ms/step - loss: 2238417.2500 - root_mean_squared_error: 1496.1342 - val_loss: 2855807.0000 - val_root_mean_squared_error: 1689.9133\n",
            "Epoch 160/200\n",
            "92/92 [==============================] - 4s 45ms/step - loss: 2110420.7500 - root_mean_squared_error: 1452.7288 - val_loss: 2968053.7500 - val_root_mean_squared_error: 1722.8041\n",
            "Epoch 161/200\n",
            "92/92 [==============================] - 3s 32ms/step - loss: 2073916.1250 - root_mean_squared_error: 1440.1097 - val_loss: 2682446.5000 - val_root_mean_squared_error: 1637.8176\n",
            "Epoch 162/200\n",
            "92/92 [==============================] - 3s 34ms/step - loss: 2088234.8750 - root_mean_squared_error: 1445.0726 - val_loss: 2780335.5000 - val_root_mean_squared_error: 1667.4338\n",
            "Epoch 163/200\n",
            "92/92 [==============================] - 4s 48ms/step - loss: 2081251.3750 - root_mean_squared_error: 1442.6543 - val_loss: 2721043.5000 - val_root_mean_squared_error: 1649.5586\n",
            "Epoch 164/200\n",
            "92/92 [==============================] - 3s 31ms/step - loss: 2225782.2500 - root_mean_squared_error: 1491.9055 - val_loss: 2609731.2500 - val_root_mean_squared_error: 1615.4663\n",
            "Epoch 165/200\n",
            "92/92 [==============================] - 3s 32ms/step - loss: 2117858.2500 - root_mean_squared_error: 1455.2863 - val_loss: 2740499.0000 - val_root_mean_squared_error: 1655.4453\n",
            "Epoch 166/200\n",
            "92/92 [==============================] - 4s 45ms/step - loss: 2151994.5000 - root_mean_squared_error: 1466.9678 - val_loss: 2658637.2500 - val_root_mean_squared_error: 1630.5328\n",
            "Epoch 167/200\n",
            "92/92 [==============================] - 3s 35ms/step - loss: 2184756.0000 - root_mean_squared_error: 1478.0920 - val_loss: 2799094.7500 - val_root_mean_squared_error: 1673.0496\n",
            "Epoch 168/200\n",
            "92/92 [==============================] - 3s 33ms/step - loss: 2080924.8750 - root_mean_squared_error: 1442.5411 - val_loss: 2518973.7500 - val_root_mean_squared_error: 1587.1276\n",
            "Epoch 169/200\n",
            "92/92 [==============================] - 3s 31ms/step - loss: 2193771.0000 - root_mean_squared_error: 1481.1384 - val_loss: 2691708.2500 - val_root_mean_squared_error: 1640.6426\n",
            "Epoch 170/200\n",
            "92/92 [==============================] - 3s 36ms/step - loss: 2036851.1250 - root_mean_squared_error: 1427.1830 - val_loss: 2685825.7500 - val_root_mean_squared_error: 1638.8489\n",
            "Epoch 171/200\n",
            "92/92 [==============================] - 3s 34ms/step - loss: 2153944.0000 - root_mean_squared_error: 1467.6321 - val_loss: 2607851.2500 - val_root_mean_squared_error: 1614.8843\n",
            "Epoch 172/200\n",
            "92/92 [==============================] - 4s 42ms/step - loss: 2117704.0000 - root_mean_squared_error: 1455.2333 - val_loss: 2844115.0000 - val_root_mean_squared_error: 1686.4504\n",
            "Epoch 173/200\n",
            "92/92 [==============================] - 4s 42ms/step - loss: 2159435.2500 - root_mean_squared_error: 1469.5017 - val_loss: 2786561.7500 - val_root_mean_squared_error: 1669.2998\n",
            "Epoch 174/200\n",
            "92/92 [==============================] - 3s 32ms/step - loss: 2010125.1250 - root_mean_squared_error: 1417.7888 - val_loss: 2680941.0000 - val_root_mean_squared_error: 1637.3579\n",
            "Epoch 175/200\n",
            "92/92 [==============================] - 5s 50ms/step - loss: 2002007.2500 - root_mean_squared_error: 1414.9231 - val_loss: 2641192.7500 - val_root_mean_squared_error: 1625.1747\n",
            "Epoch 176/200\n",
            "92/92 [==============================] - 3s 34ms/step - loss: 2079137.6250 - root_mean_squared_error: 1441.9215 - val_loss: 2848052.2500 - val_root_mean_squared_error: 1687.6173\n",
            "Epoch 177/200\n",
            "92/92 [==============================] - 3s 35ms/step - loss: 2117559.2500 - root_mean_squared_error: 1455.1836 - val_loss: 2661561.7500 - val_root_mean_squared_error: 1631.4293\n",
            "Epoch 178/200\n",
            "92/92 [==============================] - 3s 34ms/step - loss: 2088352.8750 - root_mean_squared_error: 1445.1134 - val_loss: 2769637.5000 - val_root_mean_squared_error: 1664.2228\n",
            "Epoch 179/200\n",
            "92/92 [==============================] - 4s 45ms/step - loss: 1969740.5000 - root_mean_squared_error: 1403.4745 - val_loss: 2861097.2500 - val_root_mean_squared_error: 1691.4778\n",
            "Epoch 180/200\n",
            "92/92 [==============================] - 3s 33ms/step - loss: 2097005.3750 - root_mean_squared_error: 1448.1040 - val_loss: 2551042.7500 - val_root_mean_squared_error: 1597.1984\n",
            "Epoch 181/200\n",
            "92/92 [==============================] - 3s 32ms/step - loss: 2081803.0000 - root_mean_squared_error: 1442.8455 - val_loss: 2674467.2500 - val_root_mean_squared_error: 1635.3799\n",
            "Epoch 182/200\n",
            "92/92 [==============================] - 4s 39ms/step - loss: 2000349.3750 - root_mean_squared_error: 1414.3370 - val_loss: 2582274.7500 - val_root_mean_squared_error: 1606.9458\n",
            "Epoch 183/200\n",
            "92/92 [==============================] - 3s 31ms/step - loss: 2089385.1250 - root_mean_squared_error: 1445.4706 - val_loss: 2735629.5000 - val_root_mean_squared_error: 1653.9739\n",
            "Epoch 184/200\n",
            "92/92 [==============================] - 3s 34ms/step - loss: 2029586.2500 - root_mean_squared_error: 1424.6355 - val_loss: 2765297.7500 - val_root_mean_squared_error: 1662.9185\n",
            "Epoch 185/200\n",
            "92/92 [==============================] - 4s 41ms/step - loss: 2124585.7500 - root_mean_squared_error: 1457.5958 - val_loss: 2550729.0000 - val_root_mean_squared_error: 1597.1002\n",
            "Epoch 186/200\n",
            "92/92 [==============================] - 3s 35ms/step - loss: 2091581.0000 - root_mean_squared_error: 1446.2300 - val_loss: 2550563.2500 - val_root_mean_squared_error: 1597.0483\n",
            "Epoch 187/200\n",
            "92/92 [==============================] - 3s 33ms/step - loss: 2087902.8750 - root_mean_squared_error: 1444.9578 - val_loss: 2712082.5000 - val_root_mean_squared_error: 1646.8402\n",
            "Epoch 188/200\n",
            "92/92 [==============================] - 3s 35ms/step - loss: 2100493.2500 - root_mean_squared_error: 1449.3079 - val_loss: 2591482.2500 - val_root_mean_squared_error: 1609.8081\n",
            "Epoch 189/200\n",
            "92/92 [==============================] - 3s 35ms/step - loss: 2077705.0000 - root_mean_squared_error: 1441.4247 - val_loss: 2743072.5000 - val_root_mean_squared_error: 1656.2224\n",
            "Epoch 190/200\n",
            "92/92 [==============================] - 3s 34ms/step - loss: 2079775.8750 - root_mean_squared_error: 1442.1428 - val_loss: 2648757.5000 - val_root_mean_squared_error: 1627.5004\n",
            "Epoch 191/200\n",
            "92/92 [==============================] - 3s 34ms/step - loss: 2124955.7500 - root_mean_squared_error: 1457.7228 - val_loss: 2593270.2500 - val_root_mean_squared_error: 1610.3634\n",
            "Epoch 192/200\n",
            "92/92 [==============================] - 3s 31ms/step - loss: 2069955.2500 - root_mean_squared_error: 1438.7339 - val_loss: 2684095.7500 - val_root_mean_squared_error: 1638.3210\n",
            "Epoch 193/200\n",
            "92/92 [==============================] - 4s 44ms/step - loss: 2167217.5000 - root_mean_squared_error: 1472.1472 - val_loss: 2594874.5000 - val_root_mean_squared_error: 1610.8615\n",
            "Epoch 194/200\n",
            "92/92 [==============================] - 4s 39ms/step - loss: 2120172.7500 - root_mean_squared_error: 1456.0813 - val_loss: 2573549.0000 - val_root_mean_squared_error: 1604.2285\n",
            "Epoch 195/200\n",
            "92/92 [==============================] - 3s 32ms/step - loss: 2071140.3750 - root_mean_squared_error: 1439.1458 - val_loss: 2664589.0000 - val_root_mean_squared_error: 1632.3569\n",
            "Epoch 196/200\n",
            "92/92 [==============================] - 5s 49ms/step - loss: 2062065.3750 - root_mean_squared_error: 1435.9894 - val_loss: 2668183.5000 - val_root_mean_squared_error: 1633.4575\n",
            "Epoch 197/200\n",
            "92/92 [==============================] - 3s 34ms/step - loss: 2007356.1250 - root_mean_squared_error: 1416.8120 - val_loss: 2575030.7500 - val_root_mean_squared_error: 1604.6902\n",
            "Epoch 198/200\n",
            "92/92 [==============================] - 3s 34ms/step - loss: 2014946.3750 - root_mean_squared_error: 1419.4880 - val_loss: 2675206.2500 - val_root_mean_squared_error: 1635.6058\n",
            "Epoch 199/200\n",
            "92/92 [==============================] - 5s 52ms/step - loss: 1945804.3750 - root_mean_squared_error: 1394.9209 - val_loss: 2659279.5000 - val_root_mean_squared_error: 1630.7297\n",
            "Epoch 200/200\n",
            "92/92 [==============================] - 3s 32ms/step - loss: 2080341.1250 - root_mean_squared_error: 1442.3387 - val_loss: 2647025.7500 - val_root_mean_squared_error: 1626.9683\n"
          ]
        }
      ],
      "source": [
        "# Uncomment for loading the weights\n",
        "# Select the weights to be loaded\n",
        "#file_name = \"2023-08-27_weights_model_seq\"\n",
        "\n",
        "#model_mlp.load_weights(file_name)\n",
        "\n",
        "history = model_seq.fit(dataset_train, epochs=200, batch_size=32, validation_data=(dataset_dev))\n",
        "\n",
        "# Save the weights\n",
        "date = datetime.date.today()\n",
        "file_name = f\"{date}\" + \"_weights_model_seq\"\n",
        "model_seq.save_weights(file_name, save_format=\"h5\")"
      ]
    },
    {
      "cell_type": "code",
      "execution_count": null,
      "id": "7i6bKNcPps07",
      "metadata": {
        "id": "7i6bKNcPps07",
        "colab": {
          "base_uri": "https://localhost:8080/",
          "height": 542
        },
        "outputId": "f7c41672-dcc0-435d-da9d-ff32a0aceed0"
      },
      "outputs": [
        {
          "output_type": "display_data",
          "data": {
            "text/html": [
              "<html>\n",
              "<head><meta charset=\"utf-8\" /></head>\n",
              "<body>\n",
              "    <div>            <script src=\"https://cdnjs.cloudflare.com/ajax/libs/mathjax/2.7.5/MathJax.js?config=TeX-AMS-MML_SVG\"></script><script type=\"text/javascript\">if (window.MathJax && window.MathJax.Hub && window.MathJax.Hub.Config) {window.MathJax.Hub.Config({SVG: {font: \"STIX-Web\"}});}</script>                <script type=\"text/javascript\">window.PlotlyConfig = {MathJaxConfig: 'local'};</script>\n",
              "        <script charset=\"utf-8\" src=\"https://cdn.plot.ly/plotly-2.24.1.min.js\"></script>                <div id=\"ca6a5c29-6a59-4000-b1c7-7f7bc509cfb5\" class=\"plotly-graph-div\" style=\"height:525px; width:100%;\"></div>            <script type=\"text/javascript\">                                    window.PLOTLYENV=window.PLOTLYENV || {};                                    if (document.getElementById(\"ca6a5c29-6a59-4000-b1c7-7f7bc509cfb5\")) {                    Plotly.newPlot(                        \"ca6a5c29-6a59-4000-b1c7-7f7bc509cfb5\",                        [{\"hovertemplate\":\"\\u003cextra\\u003e\\u003c\\u002fextra\\u003e\",\"legendgroup\":\"\",\"line\":{\"color\":\"#636efa\",\"dash\":\"solid\"},\"marker\":{\"symbol\":\"circle\"},\"mode\":\"lines\",\"name\":\"\",\"orientation\":\"v\",\"showlegend\":false,\"xaxis\":\"x\",\"yaxis\":\"y\",\"type\":\"scatter\"},{\"line\":{\"color\":\"red\"},\"mode\":\"lines+markers\",\"name\":\"Train RMSE\",\"x\":[1,2,3,4,5,6,7,8,9,10,11,12,13,14,15,16,17,18,19,20,21,22,23,24,25,26,27,28,29,30,31,32,33,34,35,36,37,38,39,40,41,42,43,44,45,46,47,48,49,50,51,52,53,54,55,56,57,58,59,60,61,62,63,64,65,66,67,68,69,70,71,72,73,74,75,76,77,78,79,80,81,82,83,84,85,86,87,88,89,90,91,92,93,94,95,96,97,98,99,100,101,102,103,104,105,106,107,108,109,110,111,112,113,114,115,116,117,118,119,120,121,122,123,124,125,126,127,128,129,130,131,132,133,134,135,136,137,138,139,140,141,142,143,144,145,146,147,148,149,150,151,152,153,154,155,156,157,158,159,160,161,162,163,164,165,166,167,168,169,170,171,172,173,174,175,176,177,178,179,180,181,182,183,184,185,186,187,188,189,190,191,192,193,194,195,196,197,198,199,200],\"y\":[5642.75537109375,2594.791015625,2220.72998046875,2184.943603515625,2090.684326171875,2017.662841796875,2017.2431640625,2016.4990234375,2013.7490234375,2009.4373779296875,1954.5042724609375,1960.9012451171875,1986.9844970703125,1891.907958984375,1903.1236572265625,1908.2100830078125,1925.9443359375,1919.08935546875,1889.890625,1855.137939453125,1842.7493896484375,1817.5565185546875,1886.9124755859375,1865.517822265625,1823.6336669921875,1812.3485107421875,1837.7303466796875,1772.008056640625,1775.7451171875,1755.9342041015625,1739.9368896484375,1767.7840576171875,1762.0426025390625,1783.9111328125,1767.228515625,1757.4283447265625,1752.628662109375,1772.961181640625,1737.3052978515625,1751.700439453125,1717.703857421875,1717.592529296875,1717.7999267578125,1737.9898681640625,1713.2733154296875,1740.851318359375,1706.446533203125,1705.5072021484375,1707.7613525390625,1683.600830078125,1692.0321044921875,1695.82080078125,1739.5933837890625,1694.7689208984375,1687.5777587890625,1692.6016845703125,1657.677734375,1655.1334228515625,1692.44921875,1616.000732421875,1664.8614501953125,1651.315185546875,1670.890869140625,1650.492919921875,1649.1080322265625,1636.654541015625,1627.4404296875,1632.8970947265625,1650.23828125,1580.6220703125,1644.83349609375,1621.137451171875,1592.5792236328125,1650.291748046875,1640.682373046875,1576.931396484375,1601.421630859375,1646.6505126953125,1625.38037109375,1611.0064697265625,1609.4979248046875,1636.0323486328125,1595.2581787109375,1630.12548828125,1576.106201171875,1633.860595703125,1576.9510498046875,1580.6707763671875,1583.4334716796875,1587.6510009765625,1599.6534423828125,1584.9903564453125,1598.2054443359375,1605.0728759765625,1593.899169921875,1606.4384765625,1579.8067626953125,1576.96484375,1546.207275390625,1570.9317626953125,1551.595458984375,1569.0985107421875,1535.9735107421875,1549.75927734375,1542.3936767578125,1567.3216552734375,1578.251220703125,1514.619140625,1568.36376953125,1513.441650390625,1544.6611328125,1513.641845703125,1535.3258056640625,1556.23828125,1551.31103515625,1538.9468994140625,1526.1258544921875,1541.3424072265625,1525.7796630859375,1525.5625,1553.9202880859375,1540.527099609375,1513.20458984375,1490.8714599609375,1538.461669921875,1545.115966796875,1527.992431640625,1498.789306640625,1541.6751708984375,1517.3836669921875,1506.1300048828125,1491.9256591796875,1524.1102294921875,1516.68994140625,1521.2840576171875,1493.3416748046875,1499.062255859375,1496.669677734375,1498.85693359375,1492.4659423828125,1480.1429443359375,1500.0911865234375,1499.5472412109375,1506.2210693359375,1503.3856201171875,1589.06591796875,1506.5313720703125,1496.208740234375,1496.09912109375,1452.29736328125,1490.6739501953125,1445.1768798828125,1486.502197265625,1469.4833984375,1491.904052734375,1462.099609375,1478.465087890625,1506.646728515625,1496.1341552734375,1452.728759765625,1440.1097412109375,1445.0726318359375,1442.654296875,1491.905517578125,1455.2862548828125,1466.9677734375,1478.092041015625,1442.5411376953125,1481.138427734375,1427.1829833984375,1467.632080078125,1455.2332763671875,1469.501708984375,1417.788818359375,1414.923095703125,1441.9215087890625,1455.18359375,1445.1134033203125,1403.4744873046875,1448.10400390625,1442.845458984375,1414.3370361328125,1445.4705810546875,1424.635498046875,1457.5958251953125,1446.22998046875,1444.957763671875,1449.307861328125,1441.4246826171875,1442.142822265625,1457.7227783203125,1438.73388671875,1472.147216796875,1456.081298828125,1439.145751953125,1435.9893798828125,1416.81201171875,1419.488037109375,1394.9208984375,1442.3387451171875],\"type\":\"scatter\"},{\"line\":{\"color\":\"blue\"},\"mode\":\"lines+markers\",\"name\":\"Dev RMSE\",\"x\":[1,2,3,4,5,6,7,8,9,10,11,12,13,14,15,16,17,18,19,20,21,22,23,24,25,26,27,28,29,30,31,32,33,34,35,36,37,38,39,40,41,42,43,44,45,46,47,48,49,50,51,52,53,54,55,56,57,58,59,60,61,62,63,64,65,66,67,68,69,70,71,72,73,74,75,76,77,78,79,80,81,82,83,84,85,86,87,88,89,90,91,92,93,94,95,96,97,98,99,100,101,102,103,104,105,106,107,108,109,110,111,112,113,114,115,116,117,118,119,120,121,122,123,124,125,126,127,128,129,130,131,132,133,134,135,136,137,138,139,140,141,142,143,144,145,146,147,148,149,150,151,152,153,154,155,156,157,158,159,160,161,162,163,164,165,166,167,168,169,170,171,172,173,174,175,176,177,178,179,180,181,182,183,184,185,186,187,188,189,190,191,192,193,194,195,196,197,198,199,200],\"y\":[3009.75341796875,2468.23291015625,2398.80419921875,2066.057373046875,2111.158447265625,2184.142578125,1974.3387451171875,1996.425537109375,1887.8988037109375,1899.6519775390625,1819.0672607421875,1842.8626708984375,1852.3280029296875,1857.551513671875,1804.6453857421875,1827.76171875,1793.0679931640625,1814.3043212890625,1800.4324951171875,1823.764404296875,1830.489990234375,1804.9229736328125,1759.1217041015625,1779.2103271484375,1758.0054931640625,1810.7125244140625,1820.279296875,1775.8460693359375,1784.713623046875,1820.8438720703125,1747.024169921875,1749.822021484375,1786.318115234375,1738.0069580078125,1881.1253662109375,1749.76025390625,1719.8206787109375,1744.8724365234375,1723.4786376953125,1791.167236328125,1707.3853759765625,1724.479248046875,1698.9176025390625,1728.7529296875,1705.345947265625,1709.51611328125,1708.2406005859375,1708.4862060546875,1731.463134765625,1724.2550048828125,1686.447021484375,1680.7530517578125,1727.3507080078125,1668.053466796875,1689.792724609375,1652.76416015625,1715.0748291015625,1689.0008544921875,1700.8702392578125,1655.18603515625,1712.716796875,1696.9422607421875,1649.3885498046875,1666.1868896484375,1669.51416015625,1667.35595703125,1637.2469482421875,1717.430419921875,1668.2490234375,1770.548583984375,1650.8106689453125,1664.17529296875,1646.4736328125,1716.1077880859375,1720.15185546875,1684.0245361328125,1661.3262939453125,1652.1934814453125,1818.7930908203125,1672.694580078125,1659.754638671875,1657.6951904296875,1662.715087890625,1696.815673828125,1645.5352783203125,1655.7545166015625,1658.522216796875,1651.0040283203125,1651.3031005859375,1656.95068359375,1641.1497802734375,1659.9154052734375,1618.41796875,1661.283447265625,1652.947265625,1660.5572509765625,1678.5234375,1644.3250732421875,1614.5450439453125,1647.642578125,1709.4293212890625,1668.9644775390625,1718.35791015625,1708.817626953125,1654.613525390625,1715.568359375,1655.0145263671875,1620.9493408203125,1744.7625732421875,1688.541015625,1646.59228515625,1680.267578125,1618.59716796875,1648.0048828125,1620.3062744140625,1634.860107421875,1643.4793701171875,1683.462890625,1689.1485595703125,1642.7437744140625,1671.7091064453125,1626.3272705078125,1661.771240234375,1658.3018798828125,1596.6824951171875,1627.57958984375,1694.3349609375,1730.48291015625,1621.9202880859375,1663.389404296875,1660.0675048828125,1662.1656494140625,1616.40771484375,1679.013671875,1642.8955078125,1666.5560302734375,1675.5101318359375,1639.9434814453125,1635.4808349609375,1663.1103515625,1649.1014404296875,1648.60009765625,1679.858154296875,1623.198486328125,1628.947021484375,1653.6849365234375,1631.132568359375,1654.6846923828125,1707.959716796875,1671.4493408203125,1681.2177734375,1618.3309326171875,1638.5511474609375,1605.3255615234375,1666.5858154296875,1644.257568359375,1660.551513671875,1606.537109375,1689.913330078125,1722.8040771484375,1637.817626953125,1667.433837890625,1649.55859375,1615.46630859375,1655.4453125,1630.5328369140625,1673.049560546875,1587.1275634765625,1640.642578125,1638.848876953125,1614.88427734375,1686.450439453125,1669.2998046875,1637.35791015625,1625.1746826171875,1687.6173095703125,1631.4293212890625,1664.2227783203125,1691.477783203125,1597.1983642578125,1635.3798828125,1606.94580078125,1653.973876953125,1662.91845703125,1597.1002197265625,1597.04833984375,1646.8402099609375,1609.80810546875,1656.222412109375,1627.5003662109375,1610.3634033203125,1638.321044921875,1610.8614501953125,1604.228515625,1632.35693359375,1633.45751953125,1604.690185546875,1635.6058349609375,1630.729736328125,1626.96826171875],\"type\":\"scatter\"}],                        {\"template\":{\"data\":{\"histogram2dcontour\":[{\"type\":\"histogram2dcontour\",\"colorbar\":{\"outlinewidth\":0,\"ticks\":\"\"},\"colorscale\":[[0.0,\"#0d0887\"],[0.1111111111111111,\"#46039f\"],[0.2222222222222222,\"#7201a8\"],[0.3333333333333333,\"#9c179e\"],[0.4444444444444444,\"#bd3786\"],[0.5555555555555556,\"#d8576b\"],[0.6666666666666666,\"#ed7953\"],[0.7777777777777778,\"#fb9f3a\"],[0.8888888888888888,\"#fdca26\"],[1.0,\"#f0f921\"]]}],\"choropleth\":[{\"type\":\"choropleth\",\"colorbar\":{\"outlinewidth\":0,\"ticks\":\"\"}}],\"histogram2d\":[{\"type\":\"histogram2d\",\"colorbar\":{\"outlinewidth\":0,\"ticks\":\"\"},\"colorscale\":[[0.0,\"#0d0887\"],[0.1111111111111111,\"#46039f\"],[0.2222222222222222,\"#7201a8\"],[0.3333333333333333,\"#9c179e\"],[0.4444444444444444,\"#bd3786\"],[0.5555555555555556,\"#d8576b\"],[0.6666666666666666,\"#ed7953\"],[0.7777777777777778,\"#fb9f3a\"],[0.8888888888888888,\"#fdca26\"],[1.0,\"#f0f921\"]]}],\"heatmap\":[{\"type\":\"heatmap\",\"colorbar\":{\"outlinewidth\":0,\"ticks\":\"\"},\"colorscale\":[[0.0,\"#0d0887\"],[0.1111111111111111,\"#46039f\"],[0.2222222222222222,\"#7201a8\"],[0.3333333333333333,\"#9c179e\"],[0.4444444444444444,\"#bd3786\"],[0.5555555555555556,\"#d8576b\"],[0.6666666666666666,\"#ed7953\"],[0.7777777777777778,\"#fb9f3a\"],[0.8888888888888888,\"#fdca26\"],[1.0,\"#f0f921\"]]}],\"heatmapgl\":[{\"type\":\"heatmapgl\",\"colorbar\":{\"outlinewidth\":0,\"ticks\":\"\"},\"colorscale\":[[0.0,\"#0d0887\"],[0.1111111111111111,\"#46039f\"],[0.2222222222222222,\"#7201a8\"],[0.3333333333333333,\"#9c179e\"],[0.4444444444444444,\"#bd3786\"],[0.5555555555555556,\"#d8576b\"],[0.6666666666666666,\"#ed7953\"],[0.7777777777777778,\"#fb9f3a\"],[0.8888888888888888,\"#fdca26\"],[1.0,\"#f0f921\"]]}],\"contourcarpet\":[{\"type\":\"contourcarpet\",\"colorbar\":{\"outlinewidth\":0,\"ticks\":\"\"}}],\"contour\":[{\"type\":\"contour\",\"colorbar\":{\"outlinewidth\":0,\"ticks\":\"\"},\"colorscale\":[[0.0,\"#0d0887\"],[0.1111111111111111,\"#46039f\"],[0.2222222222222222,\"#7201a8\"],[0.3333333333333333,\"#9c179e\"],[0.4444444444444444,\"#bd3786\"],[0.5555555555555556,\"#d8576b\"],[0.6666666666666666,\"#ed7953\"],[0.7777777777777778,\"#fb9f3a\"],[0.8888888888888888,\"#fdca26\"],[1.0,\"#f0f921\"]]}],\"surface\":[{\"type\":\"surface\",\"colorbar\":{\"outlinewidth\":0,\"ticks\":\"\"},\"colorscale\":[[0.0,\"#0d0887\"],[0.1111111111111111,\"#46039f\"],[0.2222222222222222,\"#7201a8\"],[0.3333333333333333,\"#9c179e\"],[0.4444444444444444,\"#bd3786\"],[0.5555555555555556,\"#d8576b\"],[0.6666666666666666,\"#ed7953\"],[0.7777777777777778,\"#fb9f3a\"],[0.8888888888888888,\"#fdca26\"],[1.0,\"#f0f921\"]]}],\"mesh3d\":[{\"type\":\"mesh3d\",\"colorbar\":{\"outlinewidth\":0,\"ticks\":\"\"}}],\"scatter\":[{\"fillpattern\":{\"fillmode\":\"overlay\",\"size\":10,\"solidity\":0.2},\"type\":\"scatter\"}],\"parcoords\":[{\"type\":\"parcoords\",\"line\":{\"colorbar\":{\"outlinewidth\":0,\"ticks\":\"\"}}}],\"scatterpolargl\":[{\"type\":\"scatterpolargl\",\"marker\":{\"colorbar\":{\"outlinewidth\":0,\"ticks\":\"\"}}}],\"bar\":[{\"error_x\":{\"color\":\"#2a3f5f\"},\"error_y\":{\"color\":\"#2a3f5f\"},\"marker\":{\"line\":{\"color\":\"#E5ECF6\",\"width\":0.5},\"pattern\":{\"fillmode\":\"overlay\",\"size\":10,\"solidity\":0.2}},\"type\":\"bar\"}],\"scattergeo\":[{\"type\":\"scattergeo\",\"marker\":{\"colorbar\":{\"outlinewidth\":0,\"ticks\":\"\"}}}],\"scatterpolar\":[{\"type\":\"scatterpolar\",\"marker\":{\"colorbar\":{\"outlinewidth\":0,\"ticks\":\"\"}}}],\"histogram\":[{\"marker\":{\"pattern\":{\"fillmode\":\"overlay\",\"size\":10,\"solidity\":0.2}},\"type\":\"histogram\"}],\"scattergl\":[{\"type\":\"scattergl\",\"marker\":{\"colorbar\":{\"outlinewidth\":0,\"ticks\":\"\"}}}],\"scatter3d\":[{\"type\":\"scatter3d\",\"line\":{\"colorbar\":{\"outlinewidth\":0,\"ticks\":\"\"}},\"marker\":{\"colorbar\":{\"outlinewidth\":0,\"ticks\":\"\"}}}],\"scattermapbox\":[{\"type\":\"scattermapbox\",\"marker\":{\"colorbar\":{\"outlinewidth\":0,\"ticks\":\"\"}}}],\"scatterternary\":[{\"type\":\"scatterternary\",\"marker\":{\"colorbar\":{\"outlinewidth\":0,\"ticks\":\"\"}}}],\"scattercarpet\":[{\"type\":\"scattercarpet\",\"marker\":{\"colorbar\":{\"outlinewidth\":0,\"ticks\":\"\"}}}],\"carpet\":[{\"aaxis\":{\"endlinecolor\":\"#2a3f5f\",\"gridcolor\":\"white\",\"linecolor\":\"white\",\"minorgridcolor\":\"white\",\"startlinecolor\":\"#2a3f5f\"},\"baxis\":{\"endlinecolor\":\"#2a3f5f\",\"gridcolor\":\"white\",\"linecolor\":\"white\",\"minorgridcolor\":\"white\",\"startlinecolor\":\"#2a3f5f\"},\"type\":\"carpet\"}],\"table\":[{\"cells\":{\"fill\":{\"color\":\"#EBF0F8\"},\"line\":{\"color\":\"white\"}},\"header\":{\"fill\":{\"color\":\"#C8D4E3\"},\"line\":{\"color\":\"white\"}},\"type\":\"table\"}],\"barpolar\":[{\"marker\":{\"line\":{\"color\":\"#E5ECF6\",\"width\":0.5},\"pattern\":{\"fillmode\":\"overlay\",\"size\":10,\"solidity\":0.2}},\"type\":\"barpolar\"}],\"pie\":[{\"automargin\":true,\"type\":\"pie\"}]},\"layout\":{\"autotypenumbers\":\"strict\",\"colorway\":[\"#636efa\",\"#EF553B\",\"#00cc96\",\"#ab63fa\",\"#FFA15A\",\"#19d3f3\",\"#FF6692\",\"#B6E880\",\"#FF97FF\",\"#FECB52\"],\"font\":{\"color\":\"#2a3f5f\"},\"hovermode\":\"closest\",\"hoverlabel\":{\"align\":\"left\"},\"paper_bgcolor\":\"white\",\"plot_bgcolor\":\"#E5ECF6\",\"polar\":{\"bgcolor\":\"#E5ECF6\",\"angularaxis\":{\"gridcolor\":\"white\",\"linecolor\":\"white\",\"ticks\":\"\"},\"radialaxis\":{\"gridcolor\":\"white\",\"linecolor\":\"white\",\"ticks\":\"\"}},\"ternary\":{\"bgcolor\":\"#E5ECF6\",\"aaxis\":{\"gridcolor\":\"white\",\"linecolor\":\"white\",\"ticks\":\"\"},\"baxis\":{\"gridcolor\":\"white\",\"linecolor\":\"white\",\"ticks\":\"\"},\"caxis\":{\"gridcolor\":\"white\",\"linecolor\":\"white\",\"ticks\":\"\"}},\"coloraxis\":{\"colorbar\":{\"outlinewidth\":0,\"ticks\":\"\"}},\"colorscale\":{\"sequential\":[[0.0,\"#0d0887\"],[0.1111111111111111,\"#46039f\"],[0.2222222222222222,\"#7201a8\"],[0.3333333333333333,\"#9c179e\"],[0.4444444444444444,\"#bd3786\"],[0.5555555555555556,\"#d8576b\"],[0.6666666666666666,\"#ed7953\"],[0.7777777777777778,\"#fb9f3a\"],[0.8888888888888888,\"#fdca26\"],[1.0,\"#f0f921\"]],\"sequentialminus\":[[0.0,\"#0d0887\"],[0.1111111111111111,\"#46039f\"],[0.2222222222222222,\"#7201a8\"],[0.3333333333333333,\"#9c179e\"],[0.4444444444444444,\"#bd3786\"],[0.5555555555555556,\"#d8576b\"],[0.6666666666666666,\"#ed7953\"],[0.7777777777777778,\"#fb9f3a\"],[0.8888888888888888,\"#fdca26\"],[1.0,\"#f0f921\"]],\"diverging\":[[0,\"#8e0152\"],[0.1,\"#c51b7d\"],[0.2,\"#de77ae\"],[0.3,\"#f1b6da\"],[0.4,\"#fde0ef\"],[0.5,\"#f7f7f7\"],[0.6,\"#e6f5d0\"],[0.7,\"#b8e186\"],[0.8,\"#7fbc41\"],[0.9,\"#4d9221\"],[1,\"#276419\"]]},\"xaxis\":{\"gridcolor\":\"white\",\"linecolor\":\"white\",\"ticks\":\"\",\"title\":{\"standoff\":15},\"zerolinecolor\":\"white\",\"automargin\":true,\"zerolinewidth\":2},\"yaxis\":{\"gridcolor\":\"white\",\"linecolor\":\"white\",\"ticks\":\"\",\"title\":{\"standoff\":15},\"zerolinecolor\":\"white\",\"automargin\":true,\"zerolinewidth\":2},\"scene\":{\"xaxis\":{\"backgroundcolor\":\"#E5ECF6\",\"gridcolor\":\"white\",\"linecolor\":\"white\",\"showbackground\":true,\"ticks\":\"\",\"zerolinecolor\":\"white\",\"gridwidth\":2},\"yaxis\":{\"backgroundcolor\":\"#E5ECF6\",\"gridcolor\":\"white\",\"linecolor\":\"white\",\"showbackground\":true,\"ticks\":\"\",\"zerolinecolor\":\"white\",\"gridwidth\":2},\"zaxis\":{\"backgroundcolor\":\"#E5ECF6\",\"gridcolor\":\"white\",\"linecolor\":\"white\",\"showbackground\":true,\"ticks\":\"\",\"zerolinecolor\":\"white\",\"gridwidth\":2}},\"shapedefaults\":{\"line\":{\"color\":\"#2a3f5f\"}},\"annotationdefaults\":{\"arrowcolor\":\"#2a3f5f\",\"arrowhead\":0,\"arrowwidth\":1},\"geo\":{\"bgcolor\":\"white\",\"landcolor\":\"#E5ECF6\",\"subunitcolor\":\"white\",\"showland\":true,\"showlakes\":true,\"lakecolor\":\"white\"},\"title\":{\"x\":0.05},\"mapbox\":{\"style\":\"light\"}}},\"xaxis\":{\"anchor\":\"y\",\"domain\":[0.0,1.0],\"title\":{\"text\":\"Epochs\"}},\"yaxis\":{\"anchor\":\"x\",\"domain\":[0.0,1.0],\"title\":{\"text\":\"RMSE\"}},\"legend\":{\"tracegroupgap\":0},\"title\":{\"text\":\"train RMSE vs. dev RMSE\"}},                        {\"responsive\": true}                    ).then(function(){\n",
              "                            \n",
              "var gd = document.getElementById('ca6a5c29-6a59-4000-b1c7-7f7bc509cfb5');\n",
              "var x = new MutationObserver(function (mutations, observer) {{\n",
              "        var display = window.getComputedStyle(gd).display;\n",
              "        if (!display || display === 'none') {{\n",
              "            console.log([gd, 'removed!']);\n",
              "            Plotly.purge(gd);\n",
              "            observer.disconnect();\n",
              "        }}\n",
              "}});\n",
              "\n",
              "// Listen for the removal of the full notebook cells\n",
              "var notebookContainer = gd.closest('#notebook-container');\n",
              "if (notebookContainer) {{\n",
              "    x.observe(notebookContainer, {childList: true});\n",
              "}}\n",
              "\n",
              "// Listen for the clearing of the current output cell\n",
              "var outputEl = gd.closest('.output');\n",
              "if (outputEl) {{\n",
              "    x.observe(outputEl, {childList: true});\n",
              "}}\n",
              "\n",
              "                        })                };                            </script>        </div>\n",
              "</body>\n",
              "</html>"
            ]
          },
          "metadata": {}
        }
      ],
      "source": [
        "# Create the array for the x axis, starting from 1\n",
        "epochs = np.arange(1, len(history.history[\"root_mean_squared_error\"])+1)\n",
        "train_rmse = history.history[\"root_mean_squared_error\"]\n",
        "dev_rmse = history.history[\"val_root_mean_squared_error\"]\n",
        "\n",
        "# Create a line chart with two lines using Plotly Express\n",
        "fig = px.line(title='train RMSE vs. dev RMSE')\n",
        "fig.add_scatter(x=epochs, y=train_rmse, mode='lines+markers', name='Train RMSE', line=dict(color='red'))\n",
        "fig.add_scatter(x=epochs, y=dev_rmse, mode='lines+markers', name='Dev RMSE', line=dict(color='blue'))\n",
        "\n",
        "\n",
        "# Set chart title and axis labels\n",
        "fig.update_layout(\n",
        "    xaxis_title='Epochs',\n",
        "    yaxis_title='RMSE'\n",
        ")\n",
        "\n",
        "# Show the chart\n",
        "fig.show()"
      ]
    },
    {
      "cell_type": "code",
      "execution_count": null,
      "id": "huPaO6jSzdsC",
      "metadata": {
        "colab": {
          "base_uri": "https://localhost:8080/"
        },
        "id": "huPaO6jSzdsC",
        "outputId": "b8566b70-4f8c-4862-95ae-d37d1d674d9d"
      },
      "outputs": [
        {
          "output_type": "stream",
          "name": "stdout",
          "text": [
            "92/92 [==============================] - 1s 10ms/step - loss: 1316549.2500 - root_mean_squared_error: 1147.4098\n",
            "Train RMSE: 1147.409790\n",
            "12/12 [==============================] - 0s 10ms/step - loss: 2647025.7500 - root_mean_squared_error: 1626.9683\n",
            "Dev RMSE: 1626.968262\n",
            "12/12 [==============================] - 0s 11ms/step - loss: 2269658.2500 - root_mean_squared_error: 1506.5385\n",
            "Test RMSE: 1506.538452\n"
          ]
        }
      ],
      "source": [
        "rmse_train = model_seq.evaluate(dataset_train)[1]\n",
        "print(\"Train RMSE: %f\" % (rmse_train))\n",
        "\n",
        "rmse_dev = model_seq.evaluate(dataset_dev)[1]\n",
        "print(\"Dev RMSE: %f\" % (rmse_dev))\n",
        "\n",
        "rmse_test = model_seq.evaluate(dataset_test)[1]\n",
        "print(\"Test RMSE: %f\" % (rmse_test))"
      ]
    },
    {
      "cell_type": "markdown",
      "id": "Kggn8mzVQ9AJ",
      "metadata": {
        "id": "Kggn8mzVQ9AJ"
      },
      "source": [
        "<a name=\"6.4.3.\"></a>\n",
        "### 6.4.3. Results\n",
        "[Content](#content)"
      ]
    },
    {
      "cell_type": "markdown",
      "id": "KjROzhHtQ9AK",
      "metadata": {
        "id": "KjROzhHtQ9AK"
      },
      "source": [
        "The best RMSE score of our baseline models is $2.033$. With the sequence model we were able to get a RMSE score of $1.627$ for the dev set and a RMSE score of $1.507$ for the test set. Same as before, the better performance for the test set, could be due to a greater similarity of the year 2022 to the training period compared to the year 2021.\n",
        "\n",
        "Our model performs therefore $25.9\\%$ better than our best baseline model and a little worse than the XGBoost model and the MLP model."
      ]
    },
    {
      "cell_type": "markdown",
      "id": "v3FCqONIDCU2",
      "metadata": {
        "id": "v3FCqONIDCU2"
      },
      "source": [
        "<a name=\"7.\"></a>\n",
        "# 7.&nbsp;Summary and conclusion\n",
        "[Content](#content)"
      ]
    },
    {
      "cell_type": "markdown",
      "id": "urK_A--4Duuj",
      "metadata": {
        "id": "urK_A--4Duuj"
      },
      "source": [
        "We have trained three different models with increasing complexity. For the problem at hand it can be said that the more complex MLP model or LSTM model did not perform better, than the simpler XGBoost model. In fact, the LSTM model performed worse than the two previous ones.\n",
        "\n",
        "While the XGBoost model already did well with standard parameters, it was more difficult to find a good architecture with the more complex model MLP and LSTM which was especially true for the last model.\n",
        "\n",
        "A possible reason, why the LSTM model performed worse could be, that the problem at hand has not a strong sequential nature. The dataset is clearly time series data, but the different data points are not very dependent on the previous data points. An easy ilustration to this is, that the people taking a bycicle today, do not care about the weather of yesterday or how many people took the bicyle one day ago. Much more relevant is the current day of the week (cyclical patterns) and the weather of today. Therefore the sequential LSTM model mostly added complexity without adding much of value for the problem. A remedy to this added complexity of the RNN while still incorporating relevant sequential data could be the discussed procedure in [chapter 6.1.](#6.1.) by adding only the target values of the previous days as features."
      ]
    }
  ],
  "metadata": {
    "colab": {
      "provenance": []
    },
    "kernelspec": {
      "display_name": "Python 3 (ipykernel)",
      "language": "python",
      "name": "python3"
    },
    "language_info": {
      "codemirror_mode": {
        "name": "ipython",
        "version": 3
      },
      "file_extension": ".py",
      "mimetype": "text/x-python",
      "name": "python",
      "nbconvert_exporter": "python",
      "pygments_lexer": "ipython3",
      "version": "3.9.2"
    }
  },
  "nbformat": 4,
  "nbformat_minor": 5
}