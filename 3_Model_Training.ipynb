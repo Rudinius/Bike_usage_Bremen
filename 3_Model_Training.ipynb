{
  "cells": [
    {
      "cell_type": "markdown",
      "id": "CBLnLwZIZpWJ",
      "metadata": {
        "id": "CBLnLwZIZpWJ"
      },
      "source": [
        "# Notebook"
      ]
    },
    {
      "cell_type": "markdown",
      "id": "lZXvJFJqZuRE",
      "metadata": {
        "id": "lZXvJFJqZuRE"
      },
      "source": [
        "In the Model learning step, the prepared dataset from [2_EDA](https://github.com/Rudinius/Bike_usage_Bremen/blob/57e21c8dd687aadc1498f82241cf662840c8b871/2_EDA.ipynb) is loaded. Then different machine learning algorithms are trained and compared to each other."
      ]
    },
    {
      "cell_type": "markdown",
      "id": "0c910711",
      "metadata": {
        "id": "0c910711"
      },
      "source": [
        "<a name=\"content\"></a>\n",
        "# Content\n",
        "\n",
        "* [1. Import libraries and mount drive](#1)\n",
        "* [2. Import datasets](#2)\n",
        "* [3. Transform columns](#3)\n",
        "* [4. Establish baseline benchmark](#4)\n",
        "* [5. Training machine learning algorithms](#5)\n",
        "    * [5.2. XGBoost](#5.2.)\n",
        "    * [5.3. Multilayer perceptron](#5.3.)\n",
        "    * [5.4. Recurrent Neural Network](#5.4.)"
      ]
    },
    {
      "cell_type": "markdown",
      "id": "85f76996",
      "metadata": {
        "id": "85f76996"
      },
      "source": [
        "<a name=\"1\"></a>\n",
        "# 1.&nbsp;Import libraries\n",
        "[Content](#content)"
      ]
    },
    {
      "cell_type": "code",
      "execution_count": 2,
      "id": "3731ea33",
      "metadata": {
        "id": "3731ea33"
      },
      "outputs": [],
      "source": [
        "# Import libraries\n",
        "import numpy as np\n",
        "import pandas as pd\n",
        "import plotly.express as px\n",
        "import plotly.graph_objs as go\n",
        "from plotly.subplots import make_subplots\n",
        "import random\n",
        "from sklearn.metrics import mean_squared_error\n",
        "from sklearn.model_selection import cross_val_score, GridSearchCV, train_test_split, TimeSeriesSplit\n",
        "from sklearn.preprocessing import OneHotEncoder\n",
        "from sklearn.preprocessing import StandardScaler\n",
        "import xgboost as xgb\n",
        "import tensorflow as tf\n",
        "from keras.models import Sequential\n",
        "from keras.layers import Dense\n",
        "from keras.layers import Input\n",
        "from keras.layers import Dropout\n",
        "from tensorflow.keras.optimizers import Adam\n",
        "from tensorflow.keras.metrics import RootMeanSquaredError"
      ]
    },
    {
      "cell_type": "code",
      "execution_count": 3,
      "id": "LcKvjPd27cDu",
      "metadata": {
        "colab": {
          "base_uri": "https://localhost:8080/"
        },
        "id": "LcKvjPd27cDu",
        "outputId": "fd1a8b4e-1e40-44b0-8ffe-edee8db503a3"
      },
      "outputs": [
        {
          "output_type": "stream",
          "name": "stdout",
          "text": [
            "Collecting pyjanitor\n",
            "  Downloading pyjanitor-0.24.0-py3-none-any.whl (158 kB)\n",
            "\u001b[?25l     \u001b[90m━━━━━━━━━━━━━━━━━━━━━━━━━━━━━━━━━━━━━━━━\u001b[0m \u001b[32m0.0/158.4 kB\u001b[0m \u001b[31m?\u001b[0m eta \u001b[36m-:--:--\u001b[0m\r\u001b[2K     \u001b[91m━━━━━━━━━━━━━━━━━━━━━━━━━━━\u001b[0m\u001b[91m╸\u001b[0m\u001b[90m━━━━━━━━━━━\u001b[0m \u001b[32m112.6/158.4 kB\u001b[0m \u001b[31m3.3 MB/s\u001b[0m eta \u001b[36m0:00:01\u001b[0m\r\u001b[2K     \u001b[90m━━━━━━━━━━━━━━━━━━━━━━━━━━━━━━━━━━━━━━━\u001b[0m \u001b[32m158.4/158.4 kB\u001b[0m \u001b[31m3.3 MB/s\u001b[0m eta \u001b[36m0:00:00\u001b[0m\n",
            "\u001b[?25hRequirement already satisfied: natsort in /usr/local/lib/python3.10/dist-packages (from pyjanitor) (8.3.1)\n",
            "Collecting pandas-flavor (from pyjanitor)\n",
            "  Downloading pandas_flavor-0.6.0-py3-none-any.whl (7.2 kB)\n",
            "Requirement already satisfied: multipledispatch in /usr/local/lib/python3.10/dist-packages (from pyjanitor) (1.0.0)\n",
            "Requirement already satisfied: scipy in /usr/local/lib/python3.10/dist-packages (from pyjanitor) (1.10.1)\n",
            "Requirement already satisfied: lazy-loader in /usr/local/lib/python3.10/dist-packages (from pyjanitor) (0.3)\n",
            "Requirement already satisfied: pandas>=0.23 in /usr/local/lib/python3.10/dist-packages (from pandas-flavor->pyjanitor) (1.5.3)\n",
            "Requirement already satisfied: xarray in /usr/local/lib/python3.10/dist-packages (from pandas-flavor->pyjanitor) (2022.12.0)\n",
            "Requirement already satisfied: numpy<1.27.0,>=1.19.5 in /usr/local/lib/python3.10/dist-packages (from scipy->pyjanitor) (1.22.4)\n",
            "Requirement already satisfied: python-dateutil>=2.8.1 in /usr/local/lib/python3.10/dist-packages (from pandas>=0.23->pandas-flavor->pyjanitor) (2.8.2)\n",
            "Requirement already satisfied: pytz>=2020.1 in /usr/local/lib/python3.10/dist-packages (from pandas>=0.23->pandas-flavor->pyjanitor) (2022.7.1)\n",
            "Requirement already satisfied: packaging>=21.3 in /usr/local/lib/python3.10/dist-packages (from xarray->pandas-flavor->pyjanitor) (23.1)\n",
            "Requirement already satisfied: six>=1.5 in /usr/local/lib/python3.10/dist-packages (from python-dateutil>=2.8.1->pandas>=0.23->pandas-flavor->pyjanitor) (1.16.0)\n",
            "Installing collected packages: pandas-flavor, pyjanitor\n",
            "Successfully installed pandas-flavor-0.6.0 pyjanitor-0.24.0\n"
          ]
        },
        {
          "output_type": "stream",
          "name": "stderr",
          "text": [
            "/usr/local/lib/python3.10/dist-packages/lazy_loader/__init__.py:185: RuntimeWarning: subpackages can technically be lazily loaded, but it causes the package to be eagerly loaded even if it is already lazily loaded.So, you probably shouldn't use subpackages with this lazy feature.\n",
            "  warnings.warn(msg, RuntimeWarning)\n"
          ]
        }
      ],
      "source": [
        "# Install package pyjanitor since it is not part of the standard packages\n",
        "# of Google Colab\n",
        "\n",
        "import importlib\n",
        "\n",
        "# Check if package is installed\n",
        "package_name = \"pyjanitor\"\n",
        "spec = importlib.util.find_spec(package_name)\n",
        "if spec is None:\n",
        "    # Package is not installed, install it via pip\n",
        "    !pip install pyjanitor\n",
        "else:\n",
        "    print(f\"{package_name} is already installed\")\n",
        "\n",
        "import janitor"
      ]
    },
    {
      "cell_type": "markdown",
      "id": "2516jhMiVxrJ",
      "metadata": {
        "id": "2516jhMiVxrJ"
      },
      "source": [
        "<a name=\"2\"></a>\n",
        "#2.&nbsp;Import dataset\n",
        "[Content](#content)"
      ]
    },
    {
      "cell_type": "markdown",
      "id": "IF9lS_3ok1tO",
      "metadata": {
        "id": "IF9lS_3ok1tO"
      },
      "source": [
        "Next, we will import the processed dataset from [2_EDA](../Bike_usage_Bremen/2_EDA.ipynb)."
      ]
    },
    {
      "cell_type": "code",
      "execution_count": 4,
      "id": "Xu3OXfHqVxfa",
      "metadata": {
        "colab": {
          "base_uri": "https://localhost:8080/"
        },
        "id": "Xu3OXfHqVxfa",
        "outputId": "7c9d9202-a0ca-4b6c-ccda-ab1750151949"
      },
      "outputs": [
        {
          "output_type": "stream",
          "name": "stderr",
          "text": [
            "/usr/local/lib/python3.10/dist-packages/ipykernel/ipkernel.py:283: DeprecationWarning: `should_run_async` will not call `transform_cell` automatically in the future. Please pass the result to `transformed_cell` argument and any exception that happen during thetransform in `preprocessing_exc_tuple` in IPython 7.17 and above.\n",
            "  and should_run_async(code)\n"
          ]
        }
      ],
      "source": [
        "# Set base url\n",
        "url = \"https://raw.githubusercontent.com/Rudinius/Bike_usage_Bremen/main/data/\""
      ]
    },
    {
      "cell_type": "code",
      "execution_count": 5,
      "id": "2etHV6ODVsUV",
      "metadata": {
        "colab": {
          "base_uri": "https://localhost:8080/",
          "height": 452
        },
        "id": "2etHV6ODVsUV",
        "outputId": "3147d596-76c8-48ac-b419-c195c8ba0f7f"
      },
      "outputs": [
        {
          "output_type": "stream",
          "name": "stderr",
          "text": [
            "/usr/local/lib/python3.10/dist-packages/ipykernel/ipkernel.py:283: DeprecationWarning: `should_run_async` will not call `transform_cell` automatically in the future. Please pass the result to `transformed_cell` argument and any exception that happen during thetransform in `preprocessing_exc_tuple` in IPython 7.17 and above.\n",
            "  and should_run_async(code)\n"
          ]
        },
        {
          "output_type": "execute_result",
          "data": {
            "text/plain": [
              "            weekday  graf_moltke_straße_ostseite  \\\n",
              "date                                               \n",
              "2013-01-01        1                        261.0   \n",
              "2013-01-02        2                        750.0   \n",
              "2013-01-03        3                        931.0   \n",
              "2013-01-04        4                        500.0   \n",
              "2013-01-05        5                       1013.0   \n",
              "\n",
              "            graf_moltke_straße_westseite  hastedter_bruckenstraße  \\\n",
              "date                                                                \n",
              "2013-01-01                         290.0                    381.0   \n",
              "2013-01-02                         876.0                   1109.0   \n",
              "2013-01-03                        1015.0                   1603.0   \n",
              "2013-01-04                         587.0                   1284.0   \n",
              "2013-01-05                        1011.0                   1284.0   \n",
              "\n",
              "            langemarckstraße_ostseite  langemarckstraße_westseite  osterdeich  \\\n",
              "date                                                                            \n",
              "2013-01-01                      312.0                       308.0       870.0   \n",
              "2013-01-02                     1258.0                      1120.0      2169.0   \n",
              "2013-01-03                     1556.0                      1480.0      2295.0   \n",
              "2013-01-04                      703.0                       626.0      1640.0   \n",
              "2013-01-05                     1856.0                      1621.0      4128.0   \n",
              "\n",
              "            radweg_kleine_weser  schwachhauser_ring  \\\n",
              "date                                                  \n",
              "2013-01-01                410.0               391.0   \n",
              "2013-01-02               1762.0               829.0   \n",
              "2013-01-03               2287.0              1196.0   \n",
              "2013-01-04               1548.0              1418.0   \n",
              "2013-01-05               4256.0              3075.0   \n",
              "\n",
              "            wachmannstraße_auswarts_sud  ...  tmax  prcp  snow   wdir  wspd  \\\n",
              "date                                     ...                                  \n",
              "2013-01-01                        514.0  ...   9.1   6.9   0.0  233.0  19.4   \n",
              "2013-01-02                       1786.0  ...   7.1   1.8   0.0  246.0  20.2   \n",
              "2013-01-03                       2412.0  ...  10.6   0.9   0.0  257.0  23.8   \n",
              "2013-01-04                        964.0  ...   9.7   0.0   0.0  276.0  25.2   \n",
              "2013-01-05                       2065.0  ...   8.6   0.1   0.0  293.0  20.2   \n",
              "\n",
              "            wpgt    pres  tsun  holiday          vacation  \n",
              "date                                                       \n",
              "2013-01-01  50.4  1001.8     0  Neujahr  Weihnachtsferien  \n",
              "2013-01-02  40.0  1017.5    30      NaN  Weihnachtsferien  \n",
              "2013-01-03  45.7  1024.5     0      NaN  Weihnachtsferien  \n",
              "2013-01-04  48.2  1029.5     0      NaN  Weihnachtsferien  \n",
              "2013-01-05  41.0  1029.9     0      NaN  Weihnachtsferien  \n",
              "\n",
              "[5 rows x 26 columns]"
            ],
            "text/html": [
              "\n",
              "\n",
              "  <div id=\"df-0ba5a225-5eaa-4022-9ee4-a70af9903dab\">\n",
              "    <div class=\"colab-df-container\">\n",
              "      <div>\n",
              "<style scoped>\n",
              "    .dataframe tbody tr th:only-of-type {\n",
              "        vertical-align: middle;\n",
              "    }\n",
              "\n",
              "    .dataframe tbody tr th {\n",
              "        vertical-align: top;\n",
              "    }\n",
              "\n",
              "    .dataframe thead th {\n",
              "        text-align: right;\n",
              "    }\n",
              "</style>\n",
              "<table border=\"1\" class=\"dataframe\">\n",
              "  <thead>\n",
              "    <tr style=\"text-align: right;\">\n",
              "      <th></th>\n",
              "      <th>weekday</th>\n",
              "      <th>graf_moltke_straße_ostseite</th>\n",
              "      <th>graf_moltke_straße_westseite</th>\n",
              "      <th>hastedter_bruckenstraße</th>\n",
              "      <th>langemarckstraße_ostseite</th>\n",
              "      <th>langemarckstraße_westseite</th>\n",
              "      <th>osterdeich</th>\n",
              "      <th>radweg_kleine_weser</th>\n",
              "      <th>schwachhauser_ring</th>\n",
              "      <th>wachmannstraße_auswarts_sud</th>\n",
              "      <th>...</th>\n",
              "      <th>tmax</th>\n",
              "      <th>prcp</th>\n",
              "      <th>snow</th>\n",
              "      <th>wdir</th>\n",
              "      <th>wspd</th>\n",
              "      <th>wpgt</th>\n",
              "      <th>pres</th>\n",
              "      <th>tsun</th>\n",
              "      <th>holiday</th>\n",
              "      <th>vacation</th>\n",
              "    </tr>\n",
              "    <tr>\n",
              "      <th>date</th>\n",
              "      <th></th>\n",
              "      <th></th>\n",
              "      <th></th>\n",
              "      <th></th>\n",
              "      <th></th>\n",
              "      <th></th>\n",
              "      <th></th>\n",
              "      <th></th>\n",
              "      <th></th>\n",
              "      <th></th>\n",
              "      <th></th>\n",
              "      <th></th>\n",
              "      <th></th>\n",
              "      <th></th>\n",
              "      <th></th>\n",
              "      <th></th>\n",
              "      <th></th>\n",
              "      <th></th>\n",
              "      <th></th>\n",
              "      <th></th>\n",
              "      <th></th>\n",
              "    </tr>\n",
              "  </thead>\n",
              "  <tbody>\n",
              "    <tr>\n",
              "      <th>2013-01-01</th>\n",
              "      <td>1</td>\n",
              "      <td>261.0</td>\n",
              "      <td>290.0</td>\n",
              "      <td>381.0</td>\n",
              "      <td>312.0</td>\n",
              "      <td>308.0</td>\n",
              "      <td>870.0</td>\n",
              "      <td>410.0</td>\n",
              "      <td>391.0</td>\n",
              "      <td>514.0</td>\n",
              "      <td>...</td>\n",
              "      <td>9.1</td>\n",
              "      <td>6.9</td>\n",
              "      <td>0.0</td>\n",
              "      <td>233.0</td>\n",
              "      <td>19.4</td>\n",
              "      <td>50.4</td>\n",
              "      <td>1001.8</td>\n",
              "      <td>0</td>\n",
              "      <td>Neujahr</td>\n",
              "      <td>Weihnachtsferien</td>\n",
              "    </tr>\n",
              "    <tr>\n",
              "      <th>2013-01-02</th>\n",
              "      <td>2</td>\n",
              "      <td>750.0</td>\n",
              "      <td>876.0</td>\n",
              "      <td>1109.0</td>\n",
              "      <td>1258.0</td>\n",
              "      <td>1120.0</td>\n",
              "      <td>2169.0</td>\n",
              "      <td>1762.0</td>\n",
              "      <td>829.0</td>\n",
              "      <td>1786.0</td>\n",
              "      <td>...</td>\n",
              "      <td>7.1</td>\n",
              "      <td>1.8</td>\n",
              "      <td>0.0</td>\n",
              "      <td>246.0</td>\n",
              "      <td>20.2</td>\n",
              "      <td>40.0</td>\n",
              "      <td>1017.5</td>\n",
              "      <td>30</td>\n",
              "      <td>NaN</td>\n",
              "      <td>Weihnachtsferien</td>\n",
              "    </tr>\n",
              "    <tr>\n",
              "      <th>2013-01-03</th>\n",
              "      <td>3</td>\n",
              "      <td>931.0</td>\n",
              "      <td>1015.0</td>\n",
              "      <td>1603.0</td>\n",
              "      <td>1556.0</td>\n",
              "      <td>1480.0</td>\n",
              "      <td>2295.0</td>\n",
              "      <td>2287.0</td>\n",
              "      <td>1196.0</td>\n",
              "      <td>2412.0</td>\n",
              "      <td>...</td>\n",
              "      <td>10.6</td>\n",
              "      <td>0.9</td>\n",
              "      <td>0.0</td>\n",
              "      <td>257.0</td>\n",
              "      <td>23.8</td>\n",
              "      <td>45.7</td>\n",
              "      <td>1024.5</td>\n",
              "      <td>0</td>\n",
              "      <td>NaN</td>\n",
              "      <td>Weihnachtsferien</td>\n",
              "    </tr>\n",
              "    <tr>\n",
              "      <th>2013-01-04</th>\n",
              "      <td>4</td>\n",
              "      <td>500.0</td>\n",
              "      <td>587.0</td>\n",
              "      <td>1284.0</td>\n",
              "      <td>703.0</td>\n",
              "      <td>626.0</td>\n",
              "      <td>1640.0</td>\n",
              "      <td>1548.0</td>\n",
              "      <td>1418.0</td>\n",
              "      <td>964.0</td>\n",
              "      <td>...</td>\n",
              "      <td>9.7</td>\n",
              "      <td>0.0</td>\n",
              "      <td>0.0</td>\n",
              "      <td>276.0</td>\n",
              "      <td>25.2</td>\n",
              "      <td>48.2</td>\n",
              "      <td>1029.5</td>\n",
              "      <td>0</td>\n",
              "      <td>NaN</td>\n",
              "      <td>Weihnachtsferien</td>\n",
              "    </tr>\n",
              "    <tr>\n",
              "      <th>2013-01-05</th>\n",
              "      <td>5</td>\n",
              "      <td>1013.0</td>\n",
              "      <td>1011.0</td>\n",
              "      <td>1284.0</td>\n",
              "      <td>1856.0</td>\n",
              "      <td>1621.0</td>\n",
              "      <td>4128.0</td>\n",
              "      <td>4256.0</td>\n",
              "      <td>3075.0</td>\n",
              "      <td>2065.0</td>\n",
              "      <td>...</td>\n",
              "      <td>8.6</td>\n",
              "      <td>0.1</td>\n",
              "      <td>0.0</td>\n",
              "      <td>293.0</td>\n",
              "      <td>20.2</td>\n",
              "      <td>41.0</td>\n",
              "      <td>1029.9</td>\n",
              "      <td>0</td>\n",
              "      <td>NaN</td>\n",
              "      <td>Weihnachtsferien</td>\n",
              "    </tr>\n",
              "  </tbody>\n",
              "</table>\n",
              "<p>5 rows × 26 columns</p>\n",
              "</div>\n",
              "      <button class=\"colab-df-convert\" onclick=\"convertToInteractive('df-0ba5a225-5eaa-4022-9ee4-a70af9903dab')\"\n",
              "              title=\"Convert this dataframe to an interactive table.\"\n",
              "              style=\"display:none;\">\n",
              "\n",
              "  <svg xmlns=\"http://www.w3.org/2000/svg\" height=\"24px\"viewBox=\"0 0 24 24\"\n",
              "       width=\"24px\">\n",
              "    <path d=\"M0 0h24v24H0V0z\" fill=\"none\"/>\n",
              "    <path d=\"M18.56 5.44l.94 2.06.94-2.06 2.06-.94-2.06-.94-.94-2.06-.94 2.06-2.06.94zm-11 1L8.5 8.5l.94-2.06 2.06-.94-2.06-.94L8.5 2.5l-.94 2.06-2.06.94zm10 10l.94 2.06.94-2.06 2.06-.94-2.06-.94-.94-2.06-.94 2.06-2.06.94z\"/><path d=\"M17.41 7.96l-1.37-1.37c-.4-.4-.92-.59-1.43-.59-.52 0-1.04.2-1.43.59L10.3 9.45l-7.72 7.72c-.78.78-.78 2.05 0 2.83L4 21.41c.39.39.9.59 1.41.59.51 0 1.02-.2 1.41-.59l7.78-7.78 2.81-2.81c.8-.78.8-2.07 0-2.86zM5.41 20L4 18.59l7.72-7.72 1.47 1.35L5.41 20z\"/>\n",
              "  </svg>\n",
              "      </button>\n",
              "\n",
              "\n",
              "\n",
              "    <div id=\"df-f1fa5693-3205-4cf9-ba6f-7fb0ea615a3e\">\n",
              "      <button class=\"colab-df-quickchart\" onclick=\"quickchart('df-f1fa5693-3205-4cf9-ba6f-7fb0ea615a3e')\"\n",
              "              title=\"Suggest charts.\"\n",
              "              style=\"display:none;\">\n",
              "\n",
              "<svg xmlns=\"http://www.w3.org/2000/svg\" height=\"24px\"viewBox=\"0 0 24 24\"\n",
              "     width=\"24px\">\n",
              "    <g>\n",
              "        <path d=\"M19 3H5c-1.1 0-2 .9-2 2v14c0 1.1.9 2 2 2h14c1.1 0 2-.9 2-2V5c0-1.1-.9-2-2-2zM9 17H7v-7h2v7zm4 0h-2V7h2v10zm4 0h-2v-4h2v4z\"/>\n",
              "    </g>\n",
              "</svg>\n",
              "      </button>\n",
              "    </div>\n",
              "\n",
              "<style>\n",
              "  .colab-df-quickchart {\n",
              "    background-color: #E8F0FE;\n",
              "    border: none;\n",
              "    border-radius: 50%;\n",
              "    cursor: pointer;\n",
              "    display: none;\n",
              "    fill: #1967D2;\n",
              "    height: 32px;\n",
              "    padding: 0 0 0 0;\n",
              "    width: 32px;\n",
              "  }\n",
              "\n",
              "  .colab-df-quickchart:hover {\n",
              "    background-color: #E2EBFA;\n",
              "    box-shadow: 0px 1px 2px rgba(60, 64, 67, 0.3), 0px 1px 3px 1px rgba(60, 64, 67, 0.15);\n",
              "    fill: #174EA6;\n",
              "  }\n",
              "\n",
              "  [theme=dark] .colab-df-quickchart {\n",
              "    background-color: #3B4455;\n",
              "    fill: #D2E3FC;\n",
              "  }\n",
              "\n",
              "  [theme=dark] .colab-df-quickchart:hover {\n",
              "    background-color: #434B5C;\n",
              "    box-shadow: 0px 1px 3px 1px rgba(0, 0, 0, 0.15);\n",
              "    filter: drop-shadow(0px 1px 2px rgba(0, 0, 0, 0.3));\n",
              "    fill: #FFFFFF;\n",
              "  }\n",
              "</style>\n",
              "\n",
              "    <script>\n",
              "      async function quickchart(key) {\n",
              "        const containerElement = document.querySelector('#' + key);\n",
              "        const charts = await google.colab.kernel.invokeFunction(\n",
              "            'suggestCharts', [key], {});\n",
              "      }\n",
              "    </script>\n",
              "\n",
              "      <script>\n",
              "\n",
              "function displayQuickchartButton(domScope) {\n",
              "  let quickchartButtonEl =\n",
              "    domScope.querySelector('#df-f1fa5693-3205-4cf9-ba6f-7fb0ea615a3e button.colab-df-quickchart');\n",
              "  quickchartButtonEl.style.display =\n",
              "    google.colab.kernel.accessAllowed ? 'block' : 'none';\n",
              "}\n",
              "\n",
              "        displayQuickchartButton(document);\n",
              "      </script>\n",
              "      <style>\n",
              "    .colab-df-container {\n",
              "      display:flex;\n",
              "      flex-wrap:wrap;\n",
              "      gap: 12px;\n",
              "    }\n",
              "\n",
              "    .colab-df-convert {\n",
              "      background-color: #E8F0FE;\n",
              "      border: none;\n",
              "      border-radius: 50%;\n",
              "      cursor: pointer;\n",
              "      display: none;\n",
              "      fill: #1967D2;\n",
              "      height: 32px;\n",
              "      padding: 0 0 0 0;\n",
              "      width: 32px;\n",
              "    }\n",
              "\n",
              "    .colab-df-convert:hover {\n",
              "      background-color: #E2EBFA;\n",
              "      box-shadow: 0px 1px 2px rgba(60, 64, 67, 0.3), 0px 1px 3px 1px rgba(60, 64, 67, 0.15);\n",
              "      fill: #174EA6;\n",
              "    }\n",
              "\n",
              "    [theme=dark] .colab-df-convert {\n",
              "      background-color: #3B4455;\n",
              "      fill: #D2E3FC;\n",
              "    }\n",
              "\n",
              "    [theme=dark] .colab-df-convert:hover {\n",
              "      background-color: #434B5C;\n",
              "      box-shadow: 0px 1px 3px 1px rgba(0, 0, 0, 0.15);\n",
              "      filter: drop-shadow(0px 1px 2px rgba(0, 0, 0, 0.3));\n",
              "      fill: #FFFFFF;\n",
              "    }\n",
              "  </style>\n",
              "\n",
              "      <script>\n",
              "        const buttonEl =\n",
              "          document.querySelector('#df-0ba5a225-5eaa-4022-9ee4-a70af9903dab button.colab-df-convert');\n",
              "        buttonEl.style.display =\n",
              "          google.colab.kernel.accessAllowed ? 'block' : 'none';\n",
              "\n",
              "        async function convertToInteractive(key) {\n",
              "          const element = document.querySelector('#df-0ba5a225-5eaa-4022-9ee4-a70af9903dab');\n",
              "          const dataTable =\n",
              "            await google.colab.kernel.invokeFunction('convertToInteractive',\n",
              "                                                     [key], {});\n",
              "          if (!dataTable) return;\n",
              "\n",
              "          const docLinkHtml = 'Like what you see? Visit the ' +\n",
              "            '<a target=\"_blank\" href=https://colab.research.google.com/notebooks/data_table.ipynb>data table notebook</a>'\n",
              "            + ' to learn more about interactive tables.';\n",
              "          element.innerHTML = '';\n",
              "          dataTable['output_type'] = 'display_data';\n",
              "          await google.colab.output.renderOutput(dataTable, element);\n",
              "          const docLink = document.createElement('div');\n",
              "          docLink.innerHTML = docLinkHtml;\n",
              "          element.appendChild(docLink);\n",
              "        }\n",
              "      </script>\n",
              "    </div>\n",
              "  </div>\n"
            ]
          },
          "metadata": {},
          "execution_count": 5
        }
      ],
      "source": [
        "# Import dataset\n",
        "\n",
        "# We will also parse the date column as datetime64 and set it to the index column\n",
        "df = pd.read_csv(url + \"03_training_data/\" + \"2023-04-21_df_full.csv\",\n",
        "                         parse_dates=[0], index_col=[0])\n",
        "\n",
        "# Check the correct loading of dataset\n",
        "df.head()"
      ]
    },
    {
      "cell_type": "markdown",
      "id": "LIog4gAun3Gh",
      "metadata": {
        "id": "LIog4gAun3Gh"
      },
      "source": [
        "<a name=\"3\"></a>\n",
        "# 3. Transform columns\n",
        "[Content](#content)"
      ]
    },
    {
      "cell_type": "markdown",
      "id": "1KinSwc3oDMj",
      "metadata": {
        "id": "1KinSwc3oDMj"
      },
      "source": [
        "We need to transform the columns `holiday` and `vacation` using `One-Hot-Encoding` and masking to change the categorical columns to numerical columns. Then we need to drop the original columns.\n",
        "\n",
        "We will use `One-Hot-Encoding` for the `holiday` feature. We will use masking (replacing) for the `vacation` feature and thus only having one column for `vacation` with 1 for vacation and 0 for no vcation.\n",
        "\n",
        "The reason for keeping only this reduced information on `vacation` had been explained in [2_EDA](https://github.com/Rudinius/Bike_usage_Bremen/blob/57e21c8dd687aadc1498f82241cf662840c8b871/2_EDA.ipynb) and it turns out, that this actually decreased the train and dev error."
      ]
    },
    {
      "cell_type": "code",
      "source": [
        "# Use One Hot Encoder only for encoding holiday feature\n",
        "OH_encoder = OneHotEncoder()\n",
        "\n",
        "transformed_array = OH_encoder.fit_transform(df[[\"holiday\"]]).toarray()\n",
        "df_holiday_transformed = pd.DataFrame(transformed_array,\n",
        "                              columns=OH_encoder.get_feature_names_out(),\n",
        "                              index = df.index)\n",
        "# Drop the columns with Holiday_nan as this hold no additional value\n",
        "df_holiday_transformed = df_holiday_transformed.drop([\"holiday_nan\"], axis=1)\n",
        "\n",
        "# Drop the old categorical column holiday\n",
        "df_transformed = df.drop([\"holiday\"], axis=1)\n",
        "\n",
        "# Add the new columns from OHE\n",
        "df_transformed = pd.concat([df_transformed, df_holiday_transformed], axis=1)\n",
        "\n",
        "# Create a mask for vacation or no vacation\n",
        "mask = df_transformed[\"vacation\"].isna()\n",
        "\n",
        "# Set the values to `0` or `1` according to mask\n",
        "df_transformed.loc[mask, \"vacation\"] = 0\n",
        "df_transformed.loc[np.invert(mask), \"vacation\"] = 1\n",
        "\n",
        "# Set datatype of column to int\n",
        "df_transformed[\"vacation\"] = df_transformed[\"vacation\"].astype(int)"
      ],
      "metadata": {
        "id": "NFVvATarzRGa",
        "outputId": "1306e47c-c1a2-4a8d-89f1-e69feb74601a",
        "colab": {
          "base_uri": "https://localhost:8080/"
        }
      },
      "id": "NFVvATarzRGa",
      "execution_count": 6,
      "outputs": [
        {
          "output_type": "stream",
          "name": "stderr",
          "text": [
            "/usr/local/lib/python3.10/dist-packages/ipykernel/ipkernel.py:283: DeprecationWarning: `should_run_async` will not call `transform_cell` automatically in the future. Please pass the result to `transformed_cell` argument and any exception that happen during thetransform in `preprocessing_exc_tuple` in IPython 7.17 and above.\n",
            "  and should_run_async(code)\n"
          ]
        }
      ]
    },
    {
      "cell_type": "markdown",
      "id": "Ex0TAxa6xPK6",
      "metadata": {
        "id": "Ex0TAxa6xPK6"
      },
      "source": [
        "We will add the year, month and day as seperate columns to give the algorithm the chance to pick up more granular and seasonal patterns."
      ]
    },
    {
      "cell_type": "code",
      "execution_count": 7,
      "id": "ZFMh5fPazIDm",
      "metadata": {
        "colab": {
          "base_uri": "https://localhost:8080/",
          "height": 421
        },
        "id": "ZFMh5fPazIDm",
        "outputId": "0f50020b-b7a7-42fb-d10a-b6dbd442bacb"
      },
      "outputs": [
        {
          "output_type": "stream",
          "name": "stderr",
          "text": [
            "/usr/local/lib/python3.10/dist-packages/ipykernel/ipkernel.py:283: DeprecationWarning: `should_run_async` will not call `transform_cell` automatically in the future. Please pass the result to `transformed_cell` argument and any exception that happen during thetransform in `preprocessing_exc_tuple` in IPython 7.17 and above.\n",
            "  and should_run_async(code)\n"
          ]
        },
        {
          "output_type": "execute_result",
          "data": {
            "text/plain": [
              "            year  month  day  weekday  graf_moltke_straße_ostseite  \\\n",
              "2013-01-01  2013      1    1        1                        261.0   \n",
              "2013-01-02  2013      1    2        2                        750.0   \n",
              "2013-01-03  2013      1    3        3                        931.0   \n",
              "2013-01-04  2013      1    4        4                        500.0   \n",
              "2013-01-05  2013      1    5        5                       1013.0   \n",
              "\n",
              "            graf_moltke_straße_westseite  hastedter_bruckenstraße  \\\n",
              "2013-01-01                         290.0                    381.0   \n",
              "2013-01-02                         876.0                   1109.0   \n",
              "2013-01-03                        1015.0                   1603.0   \n",
              "2013-01-04                         587.0                   1284.0   \n",
              "2013-01-05                        1011.0                   1284.0   \n",
              "\n",
              "            langemarckstraße_ostseite  langemarckstraße_westseite  osterdeich  \\\n",
              "2013-01-01                      312.0                       308.0       870.0   \n",
              "2013-01-02                     1258.0                      1120.0      2169.0   \n",
              "2013-01-03                     1556.0                      1480.0      2295.0   \n",
              "2013-01-04                      703.0                       626.0      1640.0   \n",
              "2013-01-05                     1856.0                      1621.0      4128.0   \n",
              "\n",
              "            ...  holiday_1_weihnachtsfeiertag  holiday_2_weihnachtsfeiertag  \\\n",
              "2013-01-01  ...                           0.0                           0.0   \n",
              "2013-01-02  ...                           0.0                           0.0   \n",
              "2013-01-03  ...                           0.0                           0.0   \n",
              "2013-01-04  ...                           0.0                           0.0   \n",
              "2013-01-05  ...                           0.0                           0.0   \n",
              "\n",
              "            holiday_christi_himmelfahrt  holiday_karfreitag  holiday_neujahr  \\\n",
              "2013-01-01                          0.0                 0.0              1.0   \n",
              "2013-01-02                          0.0                 0.0              0.0   \n",
              "2013-01-03                          0.0                 0.0              0.0   \n",
              "2013-01-04                          0.0                 0.0              0.0   \n",
              "2013-01-05                          0.0                 0.0              0.0   \n",
              "\n",
              "            holiday_ostermontag  holiday_pfingstmontag  \\\n",
              "2013-01-01                  0.0                    0.0   \n",
              "2013-01-02                  0.0                    0.0   \n",
              "2013-01-03                  0.0                    0.0   \n",
              "2013-01-04                  0.0                    0.0   \n",
              "2013-01-05                  0.0                    0.0   \n",
              "\n",
              "            holiday_reformationstag  holiday_tag_der_arbeit  \\\n",
              "2013-01-01                      0.0                     0.0   \n",
              "2013-01-02                      0.0                     0.0   \n",
              "2013-01-03                      0.0                     0.0   \n",
              "2013-01-04                      0.0                     0.0   \n",
              "2013-01-05                      0.0                     0.0   \n",
              "\n",
              "            holiday_tag_der_deutschen_einheit  \n",
              "2013-01-01                                0.0  \n",
              "2013-01-02                                0.0  \n",
              "2013-01-03                                0.0  \n",
              "2013-01-04                                0.0  \n",
              "2013-01-05                                0.0  \n",
              "\n",
              "[5 rows x 38 columns]"
            ],
            "text/html": [
              "\n",
              "\n",
              "  <div id=\"df-ee46c71f-c30f-405b-a2c9-2fd21e39f673\">\n",
              "    <div class=\"colab-df-container\">\n",
              "      <div>\n",
              "<style scoped>\n",
              "    .dataframe tbody tr th:only-of-type {\n",
              "        vertical-align: middle;\n",
              "    }\n",
              "\n",
              "    .dataframe tbody tr th {\n",
              "        vertical-align: top;\n",
              "    }\n",
              "\n",
              "    .dataframe thead th {\n",
              "        text-align: right;\n",
              "    }\n",
              "</style>\n",
              "<table border=\"1\" class=\"dataframe\">\n",
              "  <thead>\n",
              "    <tr style=\"text-align: right;\">\n",
              "      <th></th>\n",
              "      <th>year</th>\n",
              "      <th>month</th>\n",
              "      <th>day</th>\n",
              "      <th>weekday</th>\n",
              "      <th>graf_moltke_straße_ostseite</th>\n",
              "      <th>graf_moltke_straße_westseite</th>\n",
              "      <th>hastedter_bruckenstraße</th>\n",
              "      <th>langemarckstraße_ostseite</th>\n",
              "      <th>langemarckstraße_westseite</th>\n",
              "      <th>osterdeich</th>\n",
              "      <th>...</th>\n",
              "      <th>holiday_1_weihnachtsfeiertag</th>\n",
              "      <th>holiday_2_weihnachtsfeiertag</th>\n",
              "      <th>holiday_christi_himmelfahrt</th>\n",
              "      <th>holiday_karfreitag</th>\n",
              "      <th>holiday_neujahr</th>\n",
              "      <th>holiday_ostermontag</th>\n",
              "      <th>holiday_pfingstmontag</th>\n",
              "      <th>holiday_reformationstag</th>\n",
              "      <th>holiday_tag_der_arbeit</th>\n",
              "      <th>holiday_tag_der_deutschen_einheit</th>\n",
              "    </tr>\n",
              "  </thead>\n",
              "  <tbody>\n",
              "    <tr>\n",
              "      <th>2013-01-01</th>\n",
              "      <td>2013</td>\n",
              "      <td>1</td>\n",
              "      <td>1</td>\n",
              "      <td>1</td>\n",
              "      <td>261.0</td>\n",
              "      <td>290.0</td>\n",
              "      <td>381.0</td>\n",
              "      <td>312.0</td>\n",
              "      <td>308.0</td>\n",
              "      <td>870.0</td>\n",
              "      <td>...</td>\n",
              "      <td>0.0</td>\n",
              "      <td>0.0</td>\n",
              "      <td>0.0</td>\n",
              "      <td>0.0</td>\n",
              "      <td>1.0</td>\n",
              "      <td>0.0</td>\n",
              "      <td>0.0</td>\n",
              "      <td>0.0</td>\n",
              "      <td>0.0</td>\n",
              "      <td>0.0</td>\n",
              "    </tr>\n",
              "    <tr>\n",
              "      <th>2013-01-02</th>\n",
              "      <td>2013</td>\n",
              "      <td>1</td>\n",
              "      <td>2</td>\n",
              "      <td>2</td>\n",
              "      <td>750.0</td>\n",
              "      <td>876.0</td>\n",
              "      <td>1109.0</td>\n",
              "      <td>1258.0</td>\n",
              "      <td>1120.0</td>\n",
              "      <td>2169.0</td>\n",
              "      <td>...</td>\n",
              "      <td>0.0</td>\n",
              "      <td>0.0</td>\n",
              "      <td>0.0</td>\n",
              "      <td>0.0</td>\n",
              "      <td>0.0</td>\n",
              "      <td>0.0</td>\n",
              "      <td>0.0</td>\n",
              "      <td>0.0</td>\n",
              "      <td>0.0</td>\n",
              "      <td>0.0</td>\n",
              "    </tr>\n",
              "    <tr>\n",
              "      <th>2013-01-03</th>\n",
              "      <td>2013</td>\n",
              "      <td>1</td>\n",
              "      <td>3</td>\n",
              "      <td>3</td>\n",
              "      <td>931.0</td>\n",
              "      <td>1015.0</td>\n",
              "      <td>1603.0</td>\n",
              "      <td>1556.0</td>\n",
              "      <td>1480.0</td>\n",
              "      <td>2295.0</td>\n",
              "      <td>...</td>\n",
              "      <td>0.0</td>\n",
              "      <td>0.0</td>\n",
              "      <td>0.0</td>\n",
              "      <td>0.0</td>\n",
              "      <td>0.0</td>\n",
              "      <td>0.0</td>\n",
              "      <td>0.0</td>\n",
              "      <td>0.0</td>\n",
              "      <td>0.0</td>\n",
              "      <td>0.0</td>\n",
              "    </tr>\n",
              "    <tr>\n",
              "      <th>2013-01-04</th>\n",
              "      <td>2013</td>\n",
              "      <td>1</td>\n",
              "      <td>4</td>\n",
              "      <td>4</td>\n",
              "      <td>500.0</td>\n",
              "      <td>587.0</td>\n",
              "      <td>1284.0</td>\n",
              "      <td>703.0</td>\n",
              "      <td>626.0</td>\n",
              "      <td>1640.0</td>\n",
              "      <td>...</td>\n",
              "      <td>0.0</td>\n",
              "      <td>0.0</td>\n",
              "      <td>0.0</td>\n",
              "      <td>0.0</td>\n",
              "      <td>0.0</td>\n",
              "      <td>0.0</td>\n",
              "      <td>0.0</td>\n",
              "      <td>0.0</td>\n",
              "      <td>0.0</td>\n",
              "      <td>0.0</td>\n",
              "    </tr>\n",
              "    <tr>\n",
              "      <th>2013-01-05</th>\n",
              "      <td>2013</td>\n",
              "      <td>1</td>\n",
              "      <td>5</td>\n",
              "      <td>5</td>\n",
              "      <td>1013.0</td>\n",
              "      <td>1011.0</td>\n",
              "      <td>1284.0</td>\n",
              "      <td>1856.0</td>\n",
              "      <td>1621.0</td>\n",
              "      <td>4128.0</td>\n",
              "      <td>...</td>\n",
              "      <td>0.0</td>\n",
              "      <td>0.0</td>\n",
              "      <td>0.0</td>\n",
              "      <td>0.0</td>\n",
              "      <td>0.0</td>\n",
              "      <td>0.0</td>\n",
              "      <td>0.0</td>\n",
              "      <td>0.0</td>\n",
              "      <td>0.0</td>\n",
              "      <td>0.0</td>\n",
              "    </tr>\n",
              "  </tbody>\n",
              "</table>\n",
              "<p>5 rows × 38 columns</p>\n",
              "</div>\n",
              "      <button class=\"colab-df-convert\" onclick=\"convertToInteractive('df-ee46c71f-c30f-405b-a2c9-2fd21e39f673')\"\n",
              "              title=\"Convert this dataframe to an interactive table.\"\n",
              "              style=\"display:none;\">\n",
              "\n",
              "  <svg xmlns=\"http://www.w3.org/2000/svg\" height=\"24px\"viewBox=\"0 0 24 24\"\n",
              "       width=\"24px\">\n",
              "    <path d=\"M0 0h24v24H0V0z\" fill=\"none\"/>\n",
              "    <path d=\"M18.56 5.44l.94 2.06.94-2.06 2.06-.94-2.06-.94-.94-2.06-.94 2.06-2.06.94zm-11 1L8.5 8.5l.94-2.06 2.06-.94-2.06-.94L8.5 2.5l-.94 2.06-2.06.94zm10 10l.94 2.06.94-2.06 2.06-.94-2.06-.94-.94-2.06-.94 2.06-2.06.94z\"/><path d=\"M17.41 7.96l-1.37-1.37c-.4-.4-.92-.59-1.43-.59-.52 0-1.04.2-1.43.59L10.3 9.45l-7.72 7.72c-.78.78-.78 2.05 0 2.83L4 21.41c.39.39.9.59 1.41.59.51 0 1.02-.2 1.41-.59l7.78-7.78 2.81-2.81c.8-.78.8-2.07 0-2.86zM5.41 20L4 18.59l7.72-7.72 1.47 1.35L5.41 20z\"/>\n",
              "  </svg>\n",
              "      </button>\n",
              "\n",
              "\n",
              "\n",
              "    <div id=\"df-c49328b2-0d63-4699-ba72-89c4d3d66898\">\n",
              "      <button class=\"colab-df-quickchart\" onclick=\"quickchart('df-c49328b2-0d63-4699-ba72-89c4d3d66898')\"\n",
              "              title=\"Suggest charts.\"\n",
              "              style=\"display:none;\">\n",
              "\n",
              "<svg xmlns=\"http://www.w3.org/2000/svg\" height=\"24px\"viewBox=\"0 0 24 24\"\n",
              "     width=\"24px\">\n",
              "    <g>\n",
              "        <path d=\"M19 3H5c-1.1 0-2 .9-2 2v14c0 1.1.9 2 2 2h14c1.1 0 2-.9 2-2V5c0-1.1-.9-2-2-2zM9 17H7v-7h2v7zm4 0h-2V7h2v10zm4 0h-2v-4h2v4z\"/>\n",
              "    </g>\n",
              "</svg>\n",
              "      </button>\n",
              "    </div>\n",
              "\n",
              "<style>\n",
              "  .colab-df-quickchart {\n",
              "    background-color: #E8F0FE;\n",
              "    border: none;\n",
              "    border-radius: 50%;\n",
              "    cursor: pointer;\n",
              "    display: none;\n",
              "    fill: #1967D2;\n",
              "    height: 32px;\n",
              "    padding: 0 0 0 0;\n",
              "    width: 32px;\n",
              "  }\n",
              "\n",
              "  .colab-df-quickchart:hover {\n",
              "    background-color: #E2EBFA;\n",
              "    box-shadow: 0px 1px 2px rgba(60, 64, 67, 0.3), 0px 1px 3px 1px rgba(60, 64, 67, 0.15);\n",
              "    fill: #174EA6;\n",
              "  }\n",
              "\n",
              "  [theme=dark] .colab-df-quickchart {\n",
              "    background-color: #3B4455;\n",
              "    fill: #D2E3FC;\n",
              "  }\n",
              "\n",
              "  [theme=dark] .colab-df-quickchart:hover {\n",
              "    background-color: #434B5C;\n",
              "    box-shadow: 0px 1px 3px 1px rgba(0, 0, 0, 0.15);\n",
              "    filter: drop-shadow(0px 1px 2px rgba(0, 0, 0, 0.3));\n",
              "    fill: #FFFFFF;\n",
              "  }\n",
              "</style>\n",
              "\n",
              "    <script>\n",
              "      async function quickchart(key) {\n",
              "        const containerElement = document.querySelector('#' + key);\n",
              "        const charts = await google.colab.kernel.invokeFunction(\n",
              "            'suggestCharts', [key], {});\n",
              "      }\n",
              "    </script>\n",
              "\n",
              "      <script>\n",
              "\n",
              "function displayQuickchartButton(domScope) {\n",
              "  let quickchartButtonEl =\n",
              "    domScope.querySelector('#df-c49328b2-0d63-4699-ba72-89c4d3d66898 button.colab-df-quickchart');\n",
              "  quickchartButtonEl.style.display =\n",
              "    google.colab.kernel.accessAllowed ? 'block' : 'none';\n",
              "}\n",
              "\n",
              "        displayQuickchartButton(document);\n",
              "      </script>\n",
              "      <style>\n",
              "    .colab-df-container {\n",
              "      display:flex;\n",
              "      flex-wrap:wrap;\n",
              "      gap: 12px;\n",
              "    }\n",
              "\n",
              "    .colab-df-convert {\n",
              "      background-color: #E8F0FE;\n",
              "      border: none;\n",
              "      border-radius: 50%;\n",
              "      cursor: pointer;\n",
              "      display: none;\n",
              "      fill: #1967D2;\n",
              "      height: 32px;\n",
              "      padding: 0 0 0 0;\n",
              "      width: 32px;\n",
              "    }\n",
              "\n",
              "    .colab-df-convert:hover {\n",
              "      background-color: #E2EBFA;\n",
              "      box-shadow: 0px 1px 2px rgba(60, 64, 67, 0.3), 0px 1px 3px 1px rgba(60, 64, 67, 0.15);\n",
              "      fill: #174EA6;\n",
              "    }\n",
              "\n",
              "    [theme=dark] .colab-df-convert {\n",
              "      background-color: #3B4455;\n",
              "      fill: #D2E3FC;\n",
              "    }\n",
              "\n",
              "    [theme=dark] .colab-df-convert:hover {\n",
              "      background-color: #434B5C;\n",
              "      box-shadow: 0px 1px 3px 1px rgba(0, 0, 0, 0.15);\n",
              "      filter: drop-shadow(0px 1px 2px rgba(0, 0, 0, 0.3));\n",
              "      fill: #FFFFFF;\n",
              "    }\n",
              "  </style>\n",
              "\n",
              "      <script>\n",
              "        const buttonEl =\n",
              "          document.querySelector('#df-ee46c71f-c30f-405b-a2c9-2fd21e39f673 button.colab-df-convert');\n",
              "        buttonEl.style.display =\n",
              "          google.colab.kernel.accessAllowed ? 'block' : 'none';\n",
              "\n",
              "        async function convertToInteractive(key) {\n",
              "          const element = document.querySelector('#df-ee46c71f-c30f-405b-a2c9-2fd21e39f673');\n",
              "          const dataTable =\n",
              "            await google.colab.kernel.invokeFunction('convertToInteractive',\n",
              "                                                     [key], {});\n",
              "          if (!dataTable) return;\n",
              "\n",
              "          const docLinkHtml = 'Like what you see? Visit the ' +\n",
              "            '<a target=\"_blank\" href=https://colab.research.google.com/notebooks/data_table.ipynb>data table notebook</a>'\n",
              "            + ' to learn more about interactive tables.';\n",
              "          element.innerHTML = '';\n",
              "          dataTable['output_type'] = 'display_data';\n",
              "          await google.colab.output.renderOutput(dataTable, element);\n",
              "          const docLink = document.createElement('div');\n",
              "          docLink.innerHTML = docLinkHtml;\n",
              "          element.appendChild(docLink);\n",
              "        }\n",
              "      </script>\n",
              "    </div>\n",
              "  </div>\n"
            ]
          },
          "metadata": {},
          "execution_count": 7
        }
      ],
      "source": [
        "df_date = pd.DataFrame(data = {\n",
        "    \"year\": df.index.year,\n",
        "    \"month\": df.index.month,\n",
        "    \"day\": df.index.day\n",
        "}, index=pd.to_datetime(df.index.values))\n",
        "\n",
        "df_transformed_date = (pd.concat([df_date, df_transformed], axis=1)\n",
        "                        .clean_names(strip_underscores=\"both\"))\n",
        "\n",
        "# Check dataframe\n",
        "df_transformed_date.head()"
      ]
    },
    {
      "cell_type": "markdown",
      "id": "cYhxv0nmxmEp",
      "metadata": {
        "id": "cYhxv0nmxmEp"
      },
      "source": [
        "Now, after all those transformations, we have out final dataset, to train our machine learning algorithms on."
      ]
    },
    {
      "cell_type": "markdown",
      "id": "gBM3I6LFOHL9",
      "metadata": {
        "id": "gBM3I6LFOHL9"
      },
      "source": [
        "<a name=\"4\"></a>\n",
        "# 4. Establish baseline benchmark\n",
        "[Content](#content)\n"
      ]
    },
    {
      "cell_type": "markdown",
      "id": "VgkVXhdAx6zB",
      "metadata": {
        "id": "VgkVXhdAx6zB"
      },
      "source": [
        "For our current task of creating model a to predict the amount of cyclers for a given day, we do not have any baseline metric score to measure our model against.\n",
        "For this reason, we will create a naive baseline model. For this, we will simply predict the amount of a day based on the value of previous day."
      ]
    },
    {
      "cell_type": "code",
      "execution_count": 8,
      "id": "6mu5aaMpO42j",
      "metadata": {
        "colab": {
          "base_uri": "https://localhost:8080/"
        },
        "id": "6mu5aaMpO42j",
        "outputId": "8a16c6f3-9461-48e0-ac3a-80db4cf2042b"
      },
      "outputs": [
        {
          "output_type": "stream",
          "name": "stderr",
          "text": [
            "/usr/local/lib/python3.10/dist-packages/ipykernel/ipkernel.py:283: DeprecationWarning: `should_run_async` will not call `transform_cell` automatically in the future. Please pass the result to `transformed_cell` argument and any exception that happen during thetransform in `preprocessing_exc_tuple` in IPython 7.17 and above.\n",
            "  and should_run_async(code)\n"
          ]
        },
        {
          "output_type": "stream",
          "name": "stdout",
          "text": [
            "RMSE: 9083.225418\n"
          ]
        }
      ],
      "source": [
        "# Evaluate the model's performance using RMSE\n",
        "\n",
        "# Select the `Total` column as our y_dev and preds arrays\n",
        "y = y_hat = df.loc[:,\"total\"]\n",
        "\n",
        "rmse = 0\n",
        "length = y.shape[0]\n",
        "\n",
        "# Loop from 0 to second last entry, as we can only use seconds last entry to\n",
        "# predict the last entry of series\n",
        "for i in range(length-1):\n",
        "    # The mean_sqared_error function expects an array as input, therfore we\n",
        "    # concatenate the range from current value to current value + 1 (excluding)\n",
        "    rmse += np.sqrt(mean_squared_error(y[i+1:i+2], y_hat[i:i+1]))\n",
        "\n",
        "# Divide rmse value by number of pairs\n",
        "rmse = rmse / (length-1)\n",
        "print(\"RMSE: %f\" % (rmse))"
      ]
    },
    {
      "cell_type": "markdown",
      "id": "f6O5OFAwW9Pm",
      "metadata": {
        "id": "f6O5OFAwW9Pm"
      },
      "source": [
        "If we were naivly predicting the current value with the last value, we get an error over the entire dataset of approximately $9,100$.\n",
        "\n",
        "This is our naive benchmark to compare our model against."
      ]
    },
    {
      "cell_type": "markdown",
      "id": "YHm0GDHUmczY",
      "metadata": {
        "id": "YHm0GDHUmczY"
      },
      "source": [
        "Another method would be to predict the value of a given day by the average of all the other equal days in the dataset (e.g., to predict 18.08.2017, we take the average of all other 18.08. days in the dataset)."
      ]
    },
    {
      "cell_type": "code",
      "execution_count": 9,
      "id": "kOSNaRxAdoCA",
      "metadata": {
        "colab": {
          "base_uri": "https://localhost:8080/"
        },
        "id": "kOSNaRxAdoCA",
        "outputId": "c6483ac7-37b5-4643-c1c2-5146a22a169a"
      },
      "outputs": [
        {
          "output_type": "stream",
          "name": "stderr",
          "text": [
            "/usr/local/lib/python3.10/dist-packages/ipykernel/ipkernel.py:283: DeprecationWarning: `should_run_async` will not call `transform_cell` automatically in the future. Please pass the result to `transformed_cell` argument and any exception that happen during thetransform in `preprocessing_exc_tuple` in IPython 7.17 and above.\n",
            "  and should_run_async(code)\n"
          ]
        },
        {
          "output_type": "stream",
          "name": "stdout",
          "text": [
            "RMSE: 10282.852522084184\n"
          ]
        }
      ],
      "source": [
        "# Initialize squared error\n",
        "se = 0\n",
        "\n",
        "# Get the total number of examples\n",
        "m = df.shape[0]\n",
        "\n",
        "for i in df.index:\n",
        "    day = i.day\n",
        "    month = i.month\n",
        "    year = i.year\n",
        "\n",
        "    # create a mask for given day but exclude the day we want to predict\n",
        "    mask = (df.index.day == day) & (df.index.month == month) & (df.index.year != year)\n",
        "\n",
        "    # Get value for current day and mean values of all the other same days in the dataset\n",
        "    y = df.loc[i, \"total\"]\n",
        "    y_hat = df.loc[mask,\"total\"].mean()\n",
        "\n",
        "    # Calculate the squared error\n",
        "    se += (y - y_hat)**2\n",
        "\n",
        "# Calculate mean squared error\n",
        "mse = se / m\n",
        "\n",
        "# Calcualte root mean squared error\n",
        "rmse = np.sqrt(mse)\n",
        "\n",
        "print(f\"RMSE: {rmse}\")"
      ]
    },
    {
      "cell_type": "markdown",
      "id": "SQ-iEzyHoc8M",
      "metadata": {
        "id": "SQ-iEzyHoc8M"
      },
      "source": [
        "With this second approach, of average all our previous values for the given day and using this as our forecast, we get an error over the entire dataset of approximately $10,300$.\n",
        "\n",
        "The error of this second naive approach is close to the first approach.\n",
        "Both approaches could be seen as human-level as this would be a typical approach of a human, to predict the value of any given day. A domain expert, who also looks at more data and e.g., compares also the temperatures, could come up with better estimates. However humans are typically not very good in accurately predicting complex time-series data. The expected Bayes error (least possible error) should therefore be much lower."
      ]
    },
    {
      "cell_type": "markdown",
      "id": "5HqwjOgkxauH",
      "metadata": {
        "id": "5HqwjOgkxauH"
      },
      "source": [
        "<a name=\"5\"></a>\n",
        "# 5. Training machine learning algorithms\n",
        "[Content](#content)\n",
        "\n",
        "We are going to train 1 shallow machine learning algorithm and 2 deep machine learning algorithms to be able to compare performances. Those are:\n",
        "\n",
        "* XGBoost\n",
        "* Multilayer Perceptron (MLP -- standard NN)\n",
        "* Recurrent Neural Network (RNN)"
      ]
    },
    {
      "cell_type": "markdown",
      "id": "9b154c25",
      "metadata": {
        "id": "9b154c25"
      },
      "source": [
        "<a name=\"5.1.\"></a>\n",
        "## 5.1. Adding sequential data to our model\n",
        "\n",
        "[Content](#content)\n",
        "\n",
        "In contrast to RNNs where the algorithm takes automically the datapoints of previous timesteps into account, XGBoost and MLPs do not have direct access to the sequential data of previous time steps.\n",
        "Those algorithms have only indirect knowledge via the learned model parameters. RNNs however directly include the previous timestep for learning the parameters of the current timestep.\n",
        "\n",
        "We will add the data points of the previous time steps as features to the feature vector.\n",
        "\n",
        "In this case, we will only add the last 3 values, as the observed improvement of accuracy (RMSE score) is drastically decressing with each further time step added after 3 steps.\n",
        "\n",
        "Improvements:\n",
        "* 1 day 6291 2,8%\n",
        "* 2 day 6157 2,1%\n",
        "* 3 day 6120 0,6%"
      ]
    },
    {
      "cell_type": "markdown",
      "id": "842f23eb",
      "metadata": {
        "id": "842f23eb"
      },
      "source": [
        "The following code creates a dataframe with a variable amount of time:"
      ]
    },
    {
      "cell_type": "code",
      "execution_count": 10,
      "id": "a03f3499",
      "metadata": {
        "id": "a03f3499",
        "outputId": "1003e709-7898-41d6-c20e-2224ca8dcc92",
        "colab": {
          "base_uri": "https://localhost:8080/"
        }
      },
      "outputs": [
        {
          "output_type": "stream",
          "name": "stderr",
          "text": [
            "/usr/local/lib/python3.10/dist-packages/ipykernel/ipkernel.py:283: DeprecationWarning: `should_run_async` will not call `transform_cell` automatically in the future. Please pass the result to `transformed_cell` argument and any exception that happen during thetransform in `preprocessing_exc_tuple` in IPython 7.17 and above.\n",
            "  and should_run_async(code)\n"
          ]
        }
      ],
      "source": [
        "# Create empty new dataframe\n",
        "df_lagged_days = pd.DataFrame({})\n",
        "\n",
        "# Select the number of lagged days\n",
        "go_back_x_days = 3\n",
        "\n",
        "for i in range(go_back_x_days):\n",
        "    # Shift the values in \"Total\" by i and assign to new column prev_Total_i+1\n",
        "    df_lagged_days[f'prev_total_{i+1}'] = df_transformed_date['total'].shift(i+1)"
      ]
    },
    {
      "cell_type": "markdown",
      "id": "mO2Xt87cykEf",
      "metadata": {
        "id": "mO2Xt87cykEf"
      },
      "source": [
        "<a name=\"5.2.\"></a>\n",
        "## 5.2. XGBoost\n",
        "[Content](#content)"
      ]
    },
    {
      "cell_type": "markdown",
      "id": "ZgSdeq3fOxaQ",
      "metadata": {
        "id": "ZgSdeq3fOxaQ"
      },
      "source": [
        "For XGBoost, we will add the dataframe `df_lagged_days` to our dataset. Because we do not have all the information about the previous days for the first `go_back_x_days`, we drop the rows with `na` values. The parameter on how far to go back in time, has therefore an impact on the length of our dataset."
      ]
    },
    {
      "cell_type": "code",
      "execution_count": 11,
      "metadata": {
        "outputId": "cb0e4f00-d76e-4771-a4ca-416c0c5a8fcd",
        "colab": {
          "base_uri": "https://localhost:8080/",
          "height": 696
        },
        "id": "p8e0WfWKj6Gn"
      },
      "outputs": [
        {
          "output_type": "stream",
          "name": "stderr",
          "text": [
            "/usr/local/lib/python3.10/dist-packages/ipykernel/ipkernel.py:283: DeprecationWarning: `should_run_async` will not call `transform_cell` automatically in the future. Please pass the result to `transformed_cell` argument and any exception that happen during thetransform in `preprocessing_exc_tuple` in IPython 7.17 and above.\n",
            "  and should_run_async(code)\n"
          ]
        },
        {
          "output_type": "execute_result",
          "data": {
            "text/plain": [
              "            year  month  day  weekday  graf_moltke_straße_ostseite  \\\n",
              "2013-01-04  2013      1    4        4                        500.0   \n",
              "2013-01-05  2013      1    5        5                       1013.0   \n",
              "2013-01-06  2013      1    6        6                        819.0   \n",
              "2013-01-07  2013      1    7        0                       1123.0   \n",
              "2013-01-08  2013      1    8        1                       1321.0   \n",
              "...          ...    ...  ...      ...                          ...   \n",
              "2022-12-27  2022     12   27        1                        693.0   \n",
              "2022-12-28  2022     12   28        2                        643.0   \n",
              "2022-12-29  2022     12   29        3                        654.0   \n",
              "2022-12-30  2022     12   30        4                        757.0   \n",
              "2022-12-31  2022     12   31        5                        371.0   \n",
              "\n",
              "            graf_moltke_straße_westseite  hastedter_bruckenstraße  \\\n",
              "2013-01-04                         587.0                   1284.0   \n",
              "2013-01-05                        1011.0                   1284.0   \n",
              "2013-01-06                         905.0                   1284.0   \n",
              "2013-01-07                        1318.0                   3070.0   \n",
              "2013-01-08                        1584.0                   4673.0   \n",
              "...                                  ...                      ...   \n",
              "2022-12-27                         612.0                   1495.0   \n",
              "2022-12-28                         585.0                   1076.0   \n",
              "2022-12-29                         648.0                   1076.0   \n",
              "2022-12-30                         665.0                   1076.0   \n",
              "2022-12-31                         367.0                    557.0   \n",
              "\n",
              "            langemarckstraße_ostseite  langemarckstraße_westseite  osterdeich  \\\n",
              "2013-01-04                      703.0                       626.0      1640.0   \n",
              "2013-01-05                     1856.0                      1621.0      4128.0   \n",
              "2013-01-06                     1602.0                      1215.0      4128.0   \n",
              "2013-01-07                     2637.0                      2268.0      3240.0   \n",
              "2013-01-08                     3082.0                      2694.0      4957.0   \n",
              "...                               ...                         ...         ...   \n",
              "2022-12-27                     1062.0                       915.0      2123.0   \n",
              "2022-12-28                      884.0                       820.0      1819.0   \n",
              "2022-12-29                     1014.0                       907.0      2013.0   \n",
              "2022-12-30                     1106.0                       976.0      2088.0   \n",
              "2022-12-31                      656.0                       404.0      1156.0   \n",
              "\n",
              "            ...  holiday_karfreitag  holiday_neujahr  holiday_ostermontag  \\\n",
              "2013-01-04  ...                 0.0              0.0                  0.0   \n",
              "2013-01-05  ...                 0.0              0.0                  0.0   \n",
              "2013-01-06  ...                 0.0              0.0                  0.0   \n",
              "2013-01-07  ...                 0.0              0.0                  0.0   \n",
              "2013-01-08  ...                 0.0              0.0                  0.0   \n",
              "...         ...                 ...              ...                  ...   \n",
              "2022-12-27  ...                 0.0              0.0                  0.0   \n",
              "2022-12-28  ...                 0.0              0.0                  0.0   \n",
              "2022-12-29  ...                 0.0              0.0                  0.0   \n",
              "2022-12-30  ...                 0.0              0.0                  0.0   \n",
              "2022-12-31  ...                 0.0              0.0                  0.0   \n",
              "\n",
              "            holiday_pfingstmontag  holiday_reformationstag  \\\n",
              "2013-01-04                    0.0                      0.0   \n",
              "2013-01-05                    0.0                      0.0   \n",
              "2013-01-06                    0.0                      0.0   \n",
              "2013-01-07                    0.0                      0.0   \n",
              "2013-01-08                    0.0                      0.0   \n",
              "...                           ...                      ...   \n",
              "2022-12-27                    0.0                      0.0   \n",
              "2022-12-28                    0.0                      0.0   \n",
              "2022-12-29                    0.0                      0.0   \n",
              "2022-12-30                    0.0                      0.0   \n",
              "2022-12-31                    0.0                      0.0   \n",
              "\n",
              "            holiday_tag_der_arbeit  holiday_tag_der_deutschen_einheit  \\\n",
              "2013-01-04                     0.0                                0.0   \n",
              "2013-01-05                     0.0                                0.0   \n",
              "2013-01-06                     0.0                                0.0   \n",
              "2013-01-07                     0.0                                0.0   \n",
              "2013-01-08                     0.0                                0.0   \n",
              "...                            ...                                ...   \n",
              "2022-12-27                     0.0                                0.0   \n",
              "2022-12-28                     0.0                                0.0   \n",
              "2022-12-29                     0.0                                0.0   \n",
              "2022-12-30                     0.0                                0.0   \n",
              "2022-12-31                     0.0                                0.0   \n",
              "\n",
              "            prev_total_1  prev_total_2  prev_total_3  \n",
              "2013-01-04       24851.0       19494.0        5795.0  \n",
              "2013-01-05       13475.0       24851.0       19494.0  \n",
              "2013-01-06       30643.0       13475.0       24851.0  \n",
              "2013-01-07       23582.0       30643.0       13475.0  \n",
              "2013-01-08       36246.0       23582.0       30643.0  \n",
              "...                  ...           ...           ...  \n",
              "2022-12-27        9520.0        8067.0       11206.0  \n",
              "2022-12-28       19231.0        9520.0        8067.0  \n",
              "2022-12-29       16241.0       19231.0        9520.0  \n",
              "2022-12-30       18006.0       16241.0       19231.0  \n",
              "2022-12-31       19176.0       18006.0       16241.0  \n",
              "\n",
              "[3649 rows x 41 columns]"
            ],
            "text/html": [
              "\n",
              "\n",
              "  <div id=\"df-3afa360b-1737-4193-9ff8-dae0e4b1e9f3\">\n",
              "    <div class=\"colab-df-container\">\n",
              "      <div>\n",
              "<style scoped>\n",
              "    .dataframe tbody tr th:only-of-type {\n",
              "        vertical-align: middle;\n",
              "    }\n",
              "\n",
              "    .dataframe tbody tr th {\n",
              "        vertical-align: top;\n",
              "    }\n",
              "\n",
              "    .dataframe thead th {\n",
              "        text-align: right;\n",
              "    }\n",
              "</style>\n",
              "<table border=\"1\" class=\"dataframe\">\n",
              "  <thead>\n",
              "    <tr style=\"text-align: right;\">\n",
              "      <th></th>\n",
              "      <th>year</th>\n",
              "      <th>month</th>\n",
              "      <th>day</th>\n",
              "      <th>weekday</th>\n",
              "      <th>graf_moltke_straße_ostseite</th>\n",
              "      <th>graf_moltke_straße_westseite</th>\n",
              "      <th>hastedter_bruckenstraße</th>\n",
              "      <th>langemarckstraße_ostseite</th>\n",
              "      <th>langemarckstraße_westseite</th>\n",
              "      <th>osterdeich</th>\n",
              "      <th>...</th>\n",
              "      <th>holiday_karfreitag</th>\n",
              "      <th>holiday_neujahr</th>\n",
              "      <th>holiday_ostermontag</th>\n",
              "      <th>holiday_pfingstmontag</th>\n",
              "      <th>holiday_reformationstag</th>\n",
              "      <th>holiday_tag_der_arbeit</th>\n",
              "      <th>holiday_tag_der_deutschen_einheit</th>\n",
              "      <th>prev_total_1</th>\n",
              "      <th>prev_total_2</th>\n",
              "      <th>prev_total_3</th>\n",
              "    </tr>\n",
              "  </thead>\n",
              "  <tbody>\n",
              "    <tr>\n",
              "      <th>2013-01-04</th>\n",
              "      <td>2013</td>\n",
              "      <td>1</td>\n",
              "      <td>4</td>\n",
              "      <td>4</td>\n",
              "      <td>500.0</td>\n",
              "      <td>587.0</td>\n",
              "      <td>1284.0</td>\n",
              "      <td>703.0</td>\n",
              "      <td>626.0</td>\n",
              "      <td>1640.0</td>\n",
              "      <td>...</td>\n",
              "      <td>0.0</td>\n",
              "      <td>0.0</td>\n",
              "      <td>0.0</td>\n",
              "      <td>0.0</td>\n",
              "      <td>0.0</td>\n",
              "      <td>0.0</td>\n",
              "      <td>0.0</td>\n",
              "      <td>24851.0</td>\n",
              "      <td>19494.0</td>\n",
              "      <td>5795.0</td>\n",
              "    </tr>\n",
              "    <tr>\n",
              "      <th>2013-01-05</th>\n",
              "      <td>2013</td>\n",
              "      <td>1</td>\n",
              "      <td>5</td>\n",
              "      <td>5</td>\n",
              "      <td>1013.0</td>\n",
              "      <td>1011.0</td>\n",
              "      <td>1284.0</td>\n",
              "      <td>1856.0</td>\n",
              "      <td>1621.0</td>\n",
              "      <td>4128.0</td>\n",
              "      <td>...</td>\n",
              "      <td>0.0</td>\n",
              "      <td>0.0</td>\n",
              "      <td>0.0</td>\n",
              "      <td>0.0</td>\n",
              "      <td>0.0</td>\n",
              "      <td>0.0</td>\n",
              "      <td>0.0</td>\n",
              "      <td>13475.0</td>\n",
              "      <td>24851.0</td>\n",
              "      <td>19494.0</td>\n",
              "    </tr>\n",
              "    <tr>\n",
              "      <th>2013-01-06</th>\n",
              "      <td>2013</td>\n",
              "      <td>1</td>\n",
              "      <td>6</td>\n",
              "      <td>6</td>\n",
              "      <td>819.0</td>\n",
              "      <td>905.0</td>\n",
              "      <td>1284.0</td>\n",
              "      <td>1602.0</td>\n",
              "      <td>1215.0</td>\n",
              "      <td>4128.0</td>\n",
              "      <td>...</td>\n",
              "      <td>0.0</td>\n",
              "      <td>0.0</td>\n",
              "      <td>0.0</td>\n",
              "      <td>0.0</td>\n",
              "      <td>0.0</td>\n",
              "      <td>0.0</td>\n",
              "      <td>0.0</td>\n",
              "      <td>30643.0</td>\n",
              "      <td>13475.0</td>\n",
              "      <td>24851.0</td>\n",
              "    </tr>\n",
              "    <tr>\n",
              "      <th>2013-01-07</th>\n",
              "      <td>2013</td>\n",
              "      <td>1</td>\n",
              "      <td>7</td>\n",
              "      <td>0</td>\n",
              "      <td>1123.0</td>\n",
              "      <td>1318.0</td>\n",
              "      <td>3070.0</td>\n",
              "      <td>2637.0</td>\n",
              "      <td>2268.0</td>\n",
              "      <td>3240.0</td>\n",
              "      <td>...</td>\n",
              "      <td>0.0</td>\n",
              "      <td>0.0</td>\n",
              "      <td>0.0</td>\n",
              "      <td>0.0</td>\n",
              "      <td>0.0</td>\n",
              "      <td>0.0</td>\n",
              "      <td>0.0</td>\n",
              "      <td>23582.0</td>\n",
              "      <td>30643.0</td>\n",
              "      <td>13475.0</td>\n",
              "    </tr>\n",
              "    <tr>\n",
              "      <th>2013-01-08</th>\n",
              "      <td>2013</td>\n",
              "      <td>1</td>\n",
              "      <td>8</td>\n",
              "      <td>1</td>\n",
              "      <td>1321.0</td>\n",
              "      <td>1584.0</td>\n",
              "      <td>4673.0</td>\n",
              "      <td>3082.0</td>\n",
              "      <td>2694.0</td>\n",
              "      <td>4957.0</td>\n",
              "      <td>...</td>\n",
              "      <td>0.0</td>\n",
              "      <td>0.0</td>\n",
              "      <td>0.0</td>\n",
              "      <td>0.0</td>\n",
              "      <td>0.0</td>\n",
              "      <td>0.0</td>\n",
              "      <td>0.0</td>\n",
              "      <td>36246.0</td>\n",
              "      <td>23582.0</td>\n",
              "      <td>30643.0</td>\n",
              "    </tr>\n",
              "    <tr>\n",
              "      <th>...</th>\n",
              "      <td>...</td>\n",
              "      <td>...</td>\n",
              "      <td>...</td>\n",
              "      <td>...</td>\n",
              "      <td>...</td>\n",
              "      <td>...</td>\n",
              "      <td>...</td>\n",
              "      <td>...</td>\n",
              "      <td>...</td>\n",
              "      <td>...</td>\n",
              "      <td>...</td>\n",
              "      <td>...</td>\n",
              "      <td>...</td>\n",
              "      <td>...</td>\n",
              "      <td>...</td>\n",
              "      <td>...</td>\n",
              "      <td>...</td>\n",
              "      <td>...</td>\n",
              "      <td>...</td>\n",
              "      <td>...</td>\n",
              "      <td>...</td>\n",
              "    </tr>\n",
              "    <tr>\n",
              "      <th>2022-12-27</th>\n",
              "      <td>2022</td>\n",
              "      <td>12</td>\n",
              "      <td>27</td>\n",
              "      <td>1</td>\n",
              "      <td>693.0</td>\n",
              "      <td>612.0</td>\n",
              "      <td>1495.0</td>\n",
              "      <td>1062.0</td>\n",
              "      <td>915.0</td>\n",
              "      <td>2123.0</td>\n",
              "      <td>...</td>\n",
              "      <td>0.0</td>\n",
              "      <td>0.0</td>\n",
              "      <td>0.0</td>\n",
              "      <td>0.0</td>\n",
              "      <td>0.0</td>\n",
              "      <td>0.0</td>\n",
              "      <td>0.0</td>\n",
              "      <td>9520.0</td>\n",
              "      <td>8067.0</td>\n",
              "      <td>11206.0</td>\n",
              "    </tr>\n",
              "    <tr>\n",
              "      <th>2022-12-28</th>\n",
              "      <td>2022</td>\n",
              "      <td>12</td>\n",
              "      <td>28</td>\n",
              "      <td>2</td>\n",
              "      <td>643.0</td>\n",
              "      <td>585.0</td>\n",
              "      <td>1076.0</td>\n",
              "      <td>884.0</td>\n",
              "      <td>820.0</td>\n",
              "      <td>1819.0</td>\n",
              "      <td>...</td>\n",
              "      <td>0.0</td>\n",
              "      <td>0.0</td>\n",
              "      <td>0.0</td>\n",
              "      <td>0.0</td>\n",
              "      <td>0.0</td>\n",
              "      <td>0.0</td>\n",
              "      <td>0.0</td>\n",
              "      <td>19231.0</td>\n",
              "      <td>9520.0</td>\n",
              "      <td>8067.0</td>\n",
              "    </tr>\n",
              "    <tr>\n",
              "      <th>2022-12-29</th>\n",
              "      <td>2022</td>\n",
              "      <td>12</td>\n",
              "      <td>29</td>\n",
              "      <td>3</td>\n",
              "      <td>654.0</td>\n",
              "      <td>648.0</td>\n",
              "      <td>1076.0</td>\n",
              "      <td>1014.0</td>\n",
              "      <td>907.0</td>\n",
              "      <td>2013.0</td>\n",
              "      <td>...</td>\n",
              "      <td>0.0</td>\n",
              "      <td>0.0</td>\n",
              "      <td>0.0</td>\n",
              "      <td>0.0</td>\n",
              "      <td>0.0</td>\n",
              "      <td>0.0</td>\n",
              "      <td>0.0</td>\n",
              "      <td>16241.0</td>\n",
              "      <td>19231.0</td>\n",
              "      <td>9520.0</td>\n",
              "    </tr>\n",
              "    <tr>\n",
              "      <th>2022-12-30</th>\n",
              "      <td>2022</td>\n",
              "      <td>12</td>\n",
              "      <td>30</td>\n",
              "      <td>4</td>\n",
              "      <td>757.0</td>\n",
              "      <td>665.0</td>\n",
              "      <td>1076.0</td>\n",
              "      <td>1106.0</td>\n",
              "      <td>976.0</td>\n",
              "      <td>2088.0</td>\n",
              "      <td>...</td>\n",
              "      <td>0.0</td>\n",
              "      <td>0.0</td>\n",
              "      <td>0.0</td>\n",
              "      <td>0.0</td>\n",
              "      <td>0.0</td>\n",
              "      <td>0.0</td>\n",
              "      <td>0.0</td>\n",
              "      <td>18006.0</td>\n",
              "      <td>16241.0</td>\n",
              "      <td>19231.0</td>\n",
              "    </tr>\n",
              "    <tr>\n",
              "      <th>2022-12-31</th>\n",
              "      <td>2022</td>\n",
              "      <td>12</td>\n",
              "      <td>31</td>\n",
              "      <td>5</td>\n",
              "      <td>371.0</td>\n",
              "      <td>367.0</td>\n",
              "      <td>557.0</td>\n",
              "      <td>656.0</td>\n",
              "      <td>404.0</td>\n",
              "      <td>1156.0</td>\n",
              "      <td>...</td>\n",
              "      <td>0.0</td>\n",
              "      <td>0.0</td>\n",
              "      <td>0.0</td>\n",
              "      <td>0.0</td>\n",
              "      <td>0.0</td>\n",
              "      <td>0.0</td>\n",
              "      <td>0.0</td>\n",
              "      <td>19176.0</td>\n",
              "      <td>18006.0</td>\n",
              "      <td>16241.0</td>\n",
              "    </tr>\n",
              "  </tbody>\n",
              "</table>\n",
              "<p>3649 rows × 41 columns</p>\n",
              "</div>\n",
              "      <button class=\"colab-df-convert\" onclick=\"convertToInteractive('df-3afa360b-1737-4193-9ff8-dae0e4b1e9f3')\"\n",
              "              title=\"Convert this dataframe to an interactive table.\"\n",
              "              style=\"display:none;\">\n",
              "\n",
              "  <svg xmlns=\"http://www.w3.org/2000/svg\" height=\"24px\"viewBox=\"0 0 24 24\"\n",
              "       width=\"24px\">\n",
              "    <path d=\"M0 0h24v24H0V0z\" fill=\"none\"/>\n",
              "    <path d=\"M18.56 5.44l.94 2.06.94-2.06 2.06-.94-2.06-.94-.94-2.06-.94 2.06-2.06.94zm-11 1L8.5 8.5l.94-2.06 2.06-.94-2.06-.94L8.5 2.5l-.94 2.06-2.06.94zm10 10l.94 2.06.94-2.06 2.06-.94-2.06-.94-.94-2.06-.94 2.06-2.06.94z\"/><path d=\"M17.41 7.96l-1.37-1.37c-.4-.4-.92-.59-1.43-.59-.52 0-1.04.2-1.43.59L10.3 9.45l-7.72 7.72c-.78.78-.78 2.05 0 2.83L4 21.41c.39.39.9.59 1.41.59.51 0 1.02-.2 1.41-.59l7.78-7.78 2.81-2.81c.8-.78.8-2.07 0-2.86zM5.41 20L4 18.59l7.72-7.72 1.47 1.35L5.41 20z\"/>\n",
              "  </svg>\n",
              "      </button>\n",
              "\n",
              "\n",
              "\n",
              "    <div id=\"df-a1ba3249-5b49-444b-8080-43ce457100ad\">\n",
              "      <button class=\"colab-df-quickchart\" onclick=\"quickchart('df-a1ba3249-5b49-444b-8080-43ce457100ad')\"\n",
              "              title=\"Suggest charts.\"\n",
              "              style=\"display:none;\">\n",
              "\n",
              "<svg xmlns=\"http://www.w3.org/2000/svg\" height=\"24px\"viewBox=\"0 0 24 24\"\n",
              "     width=\"24px\">\n",
              "    <g>\n",
              "        <path d=\"M19 3H5c-1.1 0-2 .9-2 2v14c0 1.1.9 2 2 2h14c1.1 0 2-.9 2-2V5c0-1.1-.9-2-2-2zM9 17H7v-7h2v7zm4 0h-2V7h2v10zm4 0h-2v-4h2v4z\"/>\n",
              "    </g>\n",
              "</svg>\n",
              "      </button>\n",
              "    </div>\n",
              "\n",
              "<style>\n",
              "  .colab-df-quickchart {\n",
              "    background-color: #E8F0FE;\n",
              "    border: none;\n",
              "    border-radius: 50%;\n",
              "    cursor: pointer;\n",
              "    display: none;\n",
              "    fill: #1967D2;\n",
              "    height: 32px;\n",
              "    padding: 0 0 0 0;\n",
              "    width: 32px;\n",
              "  }\n",
              "\n",
              "  .colab-df-quickchart:hover {\n",
              "    background-color: #E2EBFA;\n",
              "    box-shadow: 0px 1px 2px rgba(60, 64, 67, 0.3), 0px 1px 3px 1px rgba(60, 64, 67, 0.15);\n",
              "    fill: #174EA6;\n",
              "  }\n",
              "\n",
              "  [theme=dark] .colab-df-quickchart {\n",
              "    background-color: #3B4455;\n",
              "    fill: #D2E3FC;\n",
              "  }\n",
              "\n",
              "  [theme=dark] .colab-df-quickchart:hover {\n",
              "    background-color: #434B5C;\n",
              "    box-shadow: 0px 1px 3px 1px rgba(0, 0, 0, 0.15);\n",
              "    filter: drop-shadow(0px 1px 2px rgba(0, 0, 0, 0.3));\n",
              "    fill: #FFFFFF;\n",
              "  }\n",
              "</style>\n",
              "\n",
              "    <script>\n",
              "      async function quickchart(key) {\n",
              "        const containerElement = document.querySelector('#' + key);\n",
              "        const charts = await google.colab.kernel.invokeFunction(\n",
              "            'suggestCharts', [key], {});\n",
              "      }\n",
              "    </script>\n",
              "\n",
              "      <script>\n",
              "\n",
              "function displayQuickchartButton(domScope) {\n",
              "  let quickchartButtonEl =\n",
              "    domScope.querySelector('#df-a1ba3249-5b49-444b-8080-43ce457100ad button.colab-df-quickchart');\n",
              "  quickchartButtonEl.style.display =\n",
              "    google.colab.kernel.accessAllowed ? 'block' : 'none';\n",
              "}\n",
              "\n",
              "        displayQuickchartButton(document);\n",
              "      </script>\n",
              "      <style>\n",
              "    .colab-df-container {\n",
              "      display:flex;\n",
              "      flex-wrap:wrap;\n",
              "      gap: 12px;\n",
              "    }\n",
              "\n",
              "    .colab-df-convert {\n",
              "      background-color: #E8F0FE;\n",
              "      border: none;\n",
              "      border-radius: 50%;\n",
              "      cursor: pointer;\n",
              "      display: none;\n",
              "      fill: #1967D2;\n",
              "      height: 32px;\n",
              "      padding: 0 0 0 0;\n",
              "      width: 32px;\n",
              "    }\n",
              "\n",
              "    .colab-df-convert:hover {\n",
              "      background-color: #E2EBFA;\n",
              "      box-shadow: 0px 1px 2px rgba(60, 64, 67, 0.3), 0px 1px 3px 1px rgba(60, 64, 67, 0.15);\n",
              "      fill: #174EA6;\n",
              "    }\n",
              "\n",
              "    [theme=dark] .colab-df-convert {\n",
              "      background-color: #3B4455;\n",
              "      fill: #D2E3FC;\n",
              "    }\n",
              "\n",
              "    [theme=dark] .colab-df-convert:hover {\n",
              "      background-color: #434B5C;\n",
              "      box-shadow: 0px 1px 3px 1px rgba(0, 0, 0, 0.15);\n",
              "      filter: drop-shadow(0px 1px 2px rgba(0, 0, 0, 0.3));\n",
              "      fill: #FFFFFF;\n",
              "    }\n",
              "  </style>\n",
              "\n",
              "      <script>\n",
              "        const buttonEl =\n",
              "          document.querySelector('#df-3afa360b-1737-4193-9ff8-dae0e4b1e9f3 button.colab-df-convert');\n",
              "        buttonEl.style.display =\n",
              "          google.colab.kernel.accessAllowed ? 'block' : 'none';\n",
              "\n",
              "        async function convertToInteractive(key) {\n",
              "          const element = document.querySelector('#df-3afa360b-1737-4193-9ff8-dae0e4b1e9f3');\n",
              "          const dataTable =\n",
              "            await google.colab.kernel.invokeFunction('convertToInteractive',\n",
              "                                                     [key], {});\n",
              "          if (!dataTable) return;\n",
              "\n",
              "          const docLinkHtml = 'Like what you see? Visit the ' +\n",
              "            '<a target=\"_blank\" href=https://colab.research.google.com/notebooks/data_table.ipynb>data table notebook</a>'\n",
              "            + ' to learn more about interactive tables.';\n",
              "          element.innerHTML = '';\n",
              "          dataTable['output_type'] = 'display_data';\n",
              "          await google.colab.output.renderOutput(dataTable, element);\n",
              "          const docLink = document.createElement('div');\n",
              "          docLink.innerHTML = docLinkHtml;\n",
              "          element.appendChild(docLink);\n",
              "        }\n",
              "      </script>\n",
              "    </div>\n",
              "  </div>\n"
            ]
          },
          "metadata": {},
          "execution_count": 11
        }
      ],
      "source": [
        "# Concat new dataframe with old dataframe\n",
        "# Using bfill strategy on dataset since the first few days will have NaN values\n",
        "# Using pyjanitor to clean up names\n",
        "df_transformed_date_lagged = (pd.concat([df_transformed_date, df_lagged_days], axis=1)\n",
        "                              .dropna(axis=0)\n",
        "                              .clean_names(strip_underscores=\"both\"))\n",
        "\n",
        "# Check output\n",
        "df_transformed_date_lagged"
      ],
      "id": "p8e0WfWKj6Gn"
    },
    {
      "cell_type": "markdown",
      "source": [
        "<a name=\"5.2.1\"></a>\n",
        "## 5.2.1 Split data into train and dev set and standardize training data\n",
        "[Content](#content)\n",
        "\n",
        "Now, we will split the data into a training set and into a dev set. Also here we select the final futures, which we want to use to train our model.\n",
        "\n",
        "Highly correlated features `tavg`, `tmin`, `wpgt` will be removed and features with no correlation to our target value will be also removed (`wdir`).\n",
        "\n",
        "When splitting into train and dev set, we will not shuffle the data. This ensures that the validation results are more realistic since they are being evaluated on the data collected after the model was trained. Otherwise we would introduce a \"leakage error\" into our data."
      ],
      "metadata": {
        "id": "XH_6MbWERL_5"
      },
      "id": "XH_6MbWERL_5"
    },
    {
      "cell_type": "code",
      "execution_count": 12,
      "id": "nxeQ39ojh2Y-",
      "metadata": {
        "colab": {
          "base_uri": "https://localhost:8080/"
        },
        "id": "nxeQ39ojh2Y-",
        "outputId": "ee26f6b7-0d77-4302-f9cd-f1b16673125a"
      },
      "outputs": [
        {
          "output_type": "stream",
          "name": "stdout",
          "text": [
            "X_train:  (2919, 24) y_train:  (2919,)\n",
            "X_dev:  (730, 24) y_dev:  (730,)\n"
          ]
        },
        {
          "output_type": "stream",
          "name": "stderr",
          "text": [
            "/usr/local/lib/python3.10/dist-packages/ipykernel/ipkernel.py:283: DeprecationWarning: `should_run_async` will not call `transform_cell` automatically in the future. Please pass the result to `transformed_cell` argument and any exception that happen during thetransform in `preprocessing_exc_tuple` in IPython 7.17 and above.\n",
            "  and should_run_async(code)\n"
          ]
        }
      ],
      "source": [
        "# Load the data into a pandas dataframe\n",
        "data = df_transformed_date_lagged\n",
        "# Define the features and target\n",
        "# Higly correlated features have been removed (tavg, tmin, wpgt)\n",
        "# Features with no correlation have been removed (wdir)\n",
        "\n",
        "# Only vacation\n",
        "features = ['year', 'month', 'day', 'weekday', 'tmax', 'prcp',\n",
        "            'snow', 'wspd', 'pres', 'tsun',\n",
        "            'holiday_1_weihnachtsfeiertag', 'holiday_2_weihnachtsfeiertag',\n",
        "            'holiday_christi_himmelfahrt', 'holiday_karfreitag', 'holiday_neujahr',\n",
        "            'holiday_ostermontag', 'holiday_pfingstmontag', 'holiday_reformationstag',\n",
        "            'holiday_tag_der_arbeit', 'holiday_tag_der_deutschen_einheit',\n",
        "            'vacation', 'prev_total_1', 'prev_total_2', 'prev_total_3']\n",
        "\n",
        "target = 'total'\n",
        "\n",
        "# Split the data into training and dev sets\n",
        "# We set shuffle to False\n",
        "X_train, X_dev, y_train, y_dev = train_test_split(data[features], data[target],\n",
        "                                                    test_size=0.2, shuffle=False, random_state=0)\n",
        "\n",
        "print(\"X_train: \", X_train.shape, \"y_train: \", y_train.shape)\n",
        "print(\"X_dev: \", X_dev.shape, \"y_dev: \", y_dev.shape)"
      ]
    },
    {
      "cell_type": "markdown",
      "id": "a1GVZoPCdit-",
      "metadata": {
        "id": "a1GVZoPCdit-"
      },
      "source": [
        "Finally, we will standardize our dataset. Standarization will generally improve learning speed of the models and can help to improve the accuarcy of the model."
      ]
    },
    {
      "cell_type": "code",
      "execution_count": 13,
      "metadata": {
        "colab": {
          "base_uri": "https://localhost:8080/"
        },
        "outputId": "a70fb9a1-bcea-404c-c0f5-e2d1eb12be44",
        "id": "ZwsuKeAWsUr8"
      },
      "outputs": [
        {
          "output_type": "stream",
          "name": "stderr",
          "text": [
            "/usr/local/lib/python3.10/dist-packages/ipykernel/ipkernel.py:283: DeprecationWarning: `should_run_async` will not call `transform_cell` automatically in the future. Please pass the result to `transformed_cell` argument and any exception that happen during thetransform in `preprocessing_exc_tuple` in IPython 7.17 and above.\n",
            "  and should_run_async(code)\n"
          ]
        }
      ],
      "source": [
        "# Standardize and fit to the training set only\n",
        "scaler = StandardScaler()\n",
        "X_train_scaled = scaler.fit_transform(X_train)\n",
        "\n",
        "# Apply the same standardization to the dev set\n",
        "x_dev_scaled = scaler.transform(X_dev)"
      ],
      "id": "ZwsuKeAWsUr8"
    },
    {
      "cell_type": "code",
      "source": [
        "data.dtypes"
      ],
      "metadata": {
        "id": "7TopQdhc1Ate",
        "outputId": "c51aaf3b-2449-45f9-e036-e44e7f3518c0",
        "colab": {
          "base_uri": "https://localhost:8080/"
        }
      },
      "id": "7TopQdhc1Ate",
      "execution_count": 14,
      "outputs": [
        {
          "output_type": "stream",
          "name": "stderr",
          "text": [
            "/usr/local/lib/python3.10/dist-packages/ipykernel/ipkernel.py:283: DeprecationWarning: `should_run_async` will not call `transform_cell` automatically in the future. Please pass the result to `transformed_cell` argument and any exception that happen during thetransform in `preprocessing_exc_tuple` in IPython 7.17 and above.\n",
            "  and should_run_async(code)\n"
          ]
        },
        {
          "output_type": "execute_result",
          "data": {
            "text/plain": [
              "year                                   int64\n",
              "month                                  int64\n",
              "day                                    int64\n",
              "weekday                                int64\n",
              "graf_moltke_straße_ostseite          float64\n",
              "graf_moltke_straße_westseite         float64\n",
              "hastedter_bruckenstraße              float64\n",
              "langemarckstraße_ostseite            float64\n",
              "langemarckstraße_westseite           float64\n",
              "osterdeich                           float64\n",
              "radweg_kleine_weser                  float64\n",
              "schwachhauser_ring                   float64\n",
              "wachmannstraße_auswarts_sud          float64\n",
              "wachmannstraße_einwarts_nord         float64\n",
              "wilhelm_kaisen_brucke_ost            float64\n",
              "wilhelm_kaisen_brucke_west           float64\n",
              "total                                float64\n",
              "tavg                                 float64\n",
              "tmin                                 float64\n",
              "tmax                                 float64\n",
              "prcp                                 float64\n",
              "snow                                 float64\n",
              "wdir                                 float64\n",
              "wspd                                 float64\n",
              "wpgt                                 float64\n",
              "pres                                 float64\n",
              "tsun                                   int64\n",
              "vacation                               int64\n",
              "holiday_1_weihnachtsfeiertag         float64\n",
              "holiday_2_weihnachtsfeiertag         float64\n",
              "holiday_christi_himmelfahrt          float64\n",
              "holiday_karfreitag                   float64\n",
              "holiday_neujahr                      float64\n",
              "holiday_ostermontag                  float64\n",
              "holiday_pfingstmontag                float64\n",
              "holiday_reformationstag              float64\n",
              "holiday_tag_der_arbeit               float64\n",
              "holiday_tag_der_deutschen_einheit    float64\n",
              "prev_total_1                         float64\n",
              "prev_total_2                         float64\n",
              "prev_total_3                         float64\n",
              "dtype: object"
            ]
          },
          "metadata": {},
          "execution_count": 14
        }
      ]
    },
    {
      "cell_type": "code",
      "source": [
        "def make_split(dataset, n_examples):\n",
        "    m = len(dataset)\n",
        ""
      ],
      "metadata": {
        "id": "Ip7oDar5p21Z",
        "outputId": "de5d2bc4-84ec-45f4-929a-86cf6afb2425",
        "colab": {
          "base_uri": "https://localhost:8080/"
        }
      },
      "id": "Ip7oDar5p21Z",
      "execution_count": 15,
      "outputs": [
        {
          "output_type": "stream",
          "name": "stderr",
          "text": [
            "/usr/local/lib/python3.10/dist-packages/ipykernel/ipkernel.py:283: DeprecationWarning: `should_run_async` will not call `transform_cell` automatically in the future. Please pass the result to `transformed_cell` argument and any exception that happen during thetransform in `preprocessing_exc_tuple` in IPython 7.17 and above.\n",
            "  and should_run_async(code)\n"
          ]
        }
      ]
    },
    {
      "cell_type": "markdown",
      "id": "amR72D-bg9Ea",
      "metadata": {
        "id": "amR72D-bg9Ea"
      },
      "source": [
        "<a name=\"5.2.2\"></a>\n",
        "## 5.2.2 Using GridSeachCV to select the optimal parameters\n",
        "[Content](#content)\n",
        "\n",
        "Using `GridSearchCV` to select optimal parameters among the preselected ranges."
      ]
    },
    {
      "cell_type": "code",
      "execution_count": 17,
      "id": "AaSMrh3bLqsm",
      "metadata": {
        "id": "AaSMrh3bLqsm",
        "outputId": "4841f0d5-ce9d-4220-8da0-077c2059592c",
        "colab": {
          "base_uri": "https://localhost:8080/"
        }
      },
      "outputs": [
        {
          "output_type": "stream",
          "name": "stdout",
          "text": [
            "Fitting 4 folds for each of 648 candidates, totalling 2592 fits\n"
          ]
        },
        {
          "output_type": "stream",
          "name": "stderr",
          "text": [
            "/usr/local/lib/python3.10/dist-packages/ipykernel/ipkernel.py:283: DeprecationWarning: `should_run_async` will not call `transform_cell` automatically in the future. Please pass the result to `transformed_cell` argument and any exception that happen during thetransform in `preprocessing_exc_tuple` in IPython 7.17 and above.\n",
            "  and should_run_async(code)\n"
          ]
        },
        {
          "output_type": "stream",
          "name": "stdout",
          "text": [
            "{'colsample_bytree': 0.8, 'learning_rate': 0.05, 'max_depth': 10, 'min_child_weight': 7, 'n_estimators': 1000, 'reg_alpha': 1.0, 'reg_lambda': 2.0, 'subsample': 1.0}\n"
          ]
        }
      ],
      "source": [
        "\"\"\"\n",
        "params = {\n",
        "    'learning_rate': [0.01, 0.05, 0.1],\n",
        "    'max_depth': [3, 5, 7, 10, 13],\n",
        "    'n_estimators': [700, 1000, 1200],\n",
        "    'subsample': [1.0],\n",
        "    'colsample_bytree': [0.8, 1.0],\n",
        "    'reg_alpha': [0.1, 0.5, 1.0, 2.0],\n",
        "    'reg_lambda': [1.0, 2.0, 4.0],\n",
        "    'min_child_weight': [1, 3, 5, 7, 10, 13]\n",
        "}\"\"\"\n",
        "\n",
        "params = {\n",
        "    'learning_rate': [0.05, 0.1],\n",
        "    'max_depth': [7, 10, 13],\n",
        "    'n_estimators': [1000, 1200],\n",
        "    'subsample': [1.0],\n",
        "    'colsample_bytree': [0.8, 1.0],\n",
        "    'reg_alpha': [0.1, 1.0, 2.0],\n",
        "    'reg_lambda': [1.0, 2.0, 4.0],\n",
        "    'min_child_weight': [7, 10, 13]\n",
        "}\n",
        "\n",
        "xg_reg = xgb.XGBRegressor(objective='reg:squarederror')\n",
        "\n",
        "grid_search = GridSearchCV(xg_reg, param_grid=params, cv=4, n_jobs=-1, verbose=2)\n",
        "\n",
        "grid_search.fit(X_train_scaled, y_train)\n",
        "\n",
        "print(grid_search.best_params_)"
      ]
    },
    {
      "cell_type": "code",
      "execution_count": null,
      "id": "u9DKLFqkmIRm",
      "metadata": {
        "colab": {
          "base_uri": "https://localhost:8080/"
        },
        "id": "u9DKLFqkmIRm",
        "outputId": "b5904b81-89cb-48ec-f65a-24f1d9a464b9"
      },
      "outputs": [
        {
          "output_type": "stream",
          "name": "stderr",
          "text": [
            "/usr/local/lib/python3.10/dist-packages/ipykernel/ipkernel.py:283: DeprecationWarning: `should_run_async` will not call `transform_cell` automatically in the future. Please pass the result to `transformed_cell` argument and any exception that happen during thetransform in `preprocessing_exc_tuple` in IPython 7.17 and above.\n",
            "  and should_run_async(code)\n"
          ]
        },
        {
          "output_type": "stream",
          "name": "stdout",
          "text": [
            "(2921,)\n",
            "[ 6619.2993 19048.5    23550.807  ... 18026.951  17003.97   18126.459 ]\n",
            "Train RMSE: 1259.432620\n",
            "Dev RMSE: 7033.958559\n",
            "CPU times: user 22.6 s, sys: 205 ms, total: 22.8 s\n",
            "Wall time: 16.2 s\n"
          ]
        }
      ],
      "source": [
        "# Build the XGBoost regressor model with selected hyper parameters\n",
        "xg_reg = xgb.XGBRegressor(objective ='reg:squarederror', colsample_bytree = 1.0, learning_rate = 0.01,\n",
        "                          max_depth = 12, n_estimators = 1000, reg_alpha = 0.5, reg_lambda = 5.0,\n",
        "                          subsample = 1.0, min_child_weight=5)\n",
        "#print(X_train_scaled.shape)\n",
        "#print(y_train.shape)\n",
        "xg_reg.fit(X_train_scaled, y_train)\n",
        "\n",
        "\n",
        "\n",
        "# Evaluate the model's performance using RMSE\n",
        "# Predict on the train set\n",
        "y_preds_train = xg_reg.predict(X_train_scaled)\n",
        "print(y_preds_train.shape)\n",
        "print(y_preds_train)\n",
        "\n",
        "# Training set\n",
        "rmse_train = np.sqrt(mean_squared_error(y_train, y_preds_train))\n",
        "print(\"Train RMSE: %f\" % (rmse_train))\n",
        "\n",
        "# Predict on the dev set\n",
        "y_dev_preds = xg_reg.predict(x_dev_scaled)\n",
        "# Dev set\n",
        "rmse_dev = np.sqrt(mean_squared_error(y_dev, y_dev_preds))\n",
        "print(\"Dev RMSE: %f\" % (rmse_dev))"
      ]
    },
    {
      "cell_type": "markdown",
      "source": [
        "with flattened and not shuffled values are:\n",
        "train: 909,82\n",
        "dev:7415,26\n",
        "\n",
        "without flattened and not shuffled values are:\n",
        "Train RMSE: 1932.950531\n",
        "Dev RMSE: 7659.611921\n",
        "\n",
        "without flattened and not shuffled and with prev values only added, values are:\n",
        "Train RMSE: 1212.818233\n",
        "Dev RMSE: 7110.930233\n",
        "\n",
        "without flattened and not shuffled and with prev values only and combined vacation.\n",
        "Train RMSE: 1259.432620\n",
        "Dev RMSE: 7033.958559"
      ],
      "metadata": {
        "id": "XOLfhGHNrFe9"
      },
      "id": "XOLfhGHNrFe9"
    },
    {
      "cell_type": "markdown",
      "id": "Y9ZfwhxDkTUL",
      "metadata": {
        "id": "Y9ZfwhxDkTUL"
      },
      "source": [
        "As an alternative, instead of `train_test_split`, we try `TimeSeriesSplit` and compare the performance."
      ]
    },
    {
      "cell_type": "code",
      "execution_count": null,
      "id": "qvsBo8m7cZXf",
      "metadata": {
        "colab": {
          "base_uri": "https://localhost:8080/"
        },
        "id": "qvsBo8m7cZXf",
        "outputId": "500ad362-b704-404e-c3e4-aaedc358876c"
      },
      "outputs": [
        {
          "name": "stdout",
          "output_type": "stream",
          "text": [
            "RMSE: 7127.157045\n",
            "RMSE: 6843.915770\n",
            "RMSE: 6808.748428\n",
            "RMSE: 7121.689867\n",
            "RMSE: 6898.040513\n"
          ]
        }
      ],
      "source": [
        "# Split the data into training and dev sets\n",
        "tscv = TimeSeriesSplit(n_splits=5)\n",
        "for train_index, dev_index in tscv.split(data):\n",
        "    X_train, x_dev = data.iloc[train_index][features], data.iloc[dev_index][features]\n",
        "    y_train, y_dev = data.iloc[train_index][target], data.iloc[dev_index][target]\n",
        "\n",
        "    xg_reg = xgb.XGBRegressor(objective='reg:squarederror', colsample_bytree=1.0, learning_rate=0.01,\n",
        "                              max_depth=12, n_estimators=1000, reg_alpha=0.1, reg_lambda=1.0,\n",
        "                              subsample=0.8, min_child_weight=5)\n",
        "\n",
        "    xg_reg.fit(X_train, y_train)\n",
        "\n",
        "    # Predict on the dev set\n",
        "    preds = xg_reg.predict(x_dev)\n",
        "\n",
        "    # Evaluate the model's performance using RMSE\n",
        "    rmse = np.sqrt(mean_squared_error(y_dev, preds))\n",
        "    print(\"RMSE: %f\" % (rmse))\n"
      ]
    },
    {
      "cell_type": "markdown",
      "id": "A0-dFnLfnHkG",
      "metadata": {
        "id": "A0-dFnLfnHkG"
      },
      "source": [
        "`train_test_split` has a better performance on the accuracy of the model than `TimeSeriesSplit`."
      ]
    },
    {
      "cell_type": "markdown",
      "id": "2BZuW_UOgc1Q",
      "metadata": {
        "id": "2BZuW_UOgc1Q"
      },
      "source": [
        "Plot random different data points to analyze big differences between prediction and actual value in more detail."
      ]
    },
    {
      "cell_type": "code",
      "execution_count": null,
      "id": "pXPOd1x_ufBG",
      "metadata": {
        "colab": {
          "base_uri": "https://localhost:8080/",
          "height": 599
        },
        "id": "pXPOd1x_ufBG",
        "outputId": "a2a486b6-5ed3-4c0e-a24f-0c087dc911da"
      },
      "outputs": [
        {
          "name": "stderr",
          "output_type": "stream",
          "text": [
            "/usr/local/lib/python3.9/dist-packages/ipykernel/ipkernel.py:283: DeprecationWarning: `should_run_async` will not call `transform_cell` automatically in the future. Please pass the result to `transformed_cell` argument and any exception that happen during thetransform in `preprocessing_exc_tuple` in IPython 7.17 and above.\n",
            "  and should_run_async(code)\n"
          ]
        },
        {
          "data": {
            "text/html": [
              "<html>\n",
              "<head><meta charset=\"utf-8\" /></head>\n",
              "<body>\n",
              "    <div>            <script src=\"https://cdnjs.cloudflare.com/ajax/libs/mathjax/2.7.5/MathJax.js?config=TeX-AMS-MML_SVG\"></script><script type=\"text/javascript\">if (window.MathJax && window.MathJax.Hub && window.MathJax.Hub.Config) {window.MathJax.Hub.Config({SVG: {font: \"STIX-Web\"}});}</script>                <script type=\"text/javascript\">window.PlotlyConfig = {MathJaxConfig: 'local'};</script>\n",
              "        <script src=\"https://cdn.plot.ly/plotly-2.18.2.min.js\"></script>                <div id=\"338b2689-5f94-4edf-9751-e741310dd585\" class=\"plotly-graph-div\" style=\"height:525px; width:100%;\"></div>            <script type=\"text/javascript\">                                    window.PLOTLYENV=window.PLOTLYENV || {};                                    if (document.getElementById(\"338b2689-5f94-4edf-9751-e741310dd585\")) {                    Plotly.newPlot(                        \"338b2689-5f94-4edf-9751-e741310dd585\",                        [{\"hovertemplate\":\"<extra></extra>\",\"legendgroup\":\"\",\"marker\":{\"color\":\"#636efa\",\"symbol\":\"circle\"},\"mode\":\"markers\",\"name\":\"\",\"orientation\":\"v\",\"showlegend\":false,\"xaxis\":\"x\",\"yaxis\":\"y\",\"type\":\"scatter\"},{\"marker\":{\"color\":\"blue\"},\"mode\":\"markers\",\"name\":\"y_test\",\"x\":[\"2013-09-11T00:00:00\",\"2022-10-14T00:00:00\",\"2016-10-12T00:00:00\",\"2013-11-30T00:00:00\",\"2016-01-06T00:00:00\",\"2015-12-02T00:00:00\",\"2015-11-14T00:00:00\",\"2021-04-08T00:00:00\",\"2014-12-15T00:00:00\",\"2019-04-26T00:00:00\",\"2022-01-29T00:00:00\",\"2014-04-09T00:00:00\",\"2022-04-10T00:00:00\",\"2022-12-23T00:00:00\",\"2014-10-17T00:00:00\",\"2015-09-19T00:00:00\",\"2020-09-08T00:00:00\",\"2019-11-29T00:00:00\",\"2019-01-02T00:00:00\",\"2014-02-03T00:00:00\",\"2015-02-04T00:00:00\",\"2019-03-05T00:00:00\",\"2020-05-06T00:00:00\",\"2020-01-04T00:00:00\",\"2019-09-16T00:00:00\",\"2015-04-21T00:00:00\",\"2015-12-05T00:00:00\",\"2017-05-23T00:00:00\",\"2013-01-18T00:00:00\",\"2015-10-21T00:00:00\",\"2017-10-02T00:00:00\",\"2022-11-18T00:00:00\",\"2020-04-21T00:00:00\",\"2019-05-19T00:00:00\",\"2020-10-16T00:00:00\",\"2022-01-01T00:00:00\",\"2015-08-12T00:00:00\",\"2016-01-07T00:00:00\",\"2013-01-02T00:00:00\",\"2019-06-28T00:00:00\",\"2014-07-24T00:00:00\",\"2021-06-28T00:00:00\",\"2019-10-15T00:00:00\",\"2015-11-04T00:00:00\",\"2022-06-21T00:00:00\",\"2022-04-12T00:00:00\",\"2020-12-19T00:00:00\",\"2013-05-19T00:00:00\",\"2014-11-20T00:00:00\",\"2015-09-10T00:00:00\",\"2013-03-30T00:00:00\",\"2020-08-01T00:00:00\",\"2022-12-06T00:00:00\",\"2017-10-31T00:00:00\",\"2022-07-28T00:00:00\",\"2019-07-28T00:00:00\",\"2021-05-01T00:00:00\",\"2022-02-01T00:00:00\",\"2020-02-04T00:00:00\",\"2016-10-20T00:00:00\",\"2016-08-19T00:00:00\",\"2018-09-20T00:00:00\",\"2017-01-07T00:00:00\",\"2019-08-18T00:00:00\",\"2022-11-28T00:00:00\",\"2018-10-02T00:00:00\",\"2014-04-27T00:00:00\",\"2021-06-03T00:00:00\",\"2016-08-06T00:00:00\",\"2022-10-02T00:00:00\",\"2015-01-19T00:00:00\",\"2015-03-06T00:00:00\",\"2021-06-24T00:00:00\",\"2014-10-01T00:00:00\",\"2019-03-21T00:00:00\",\"2020-06-12T00:00:00\",\"2014-06-26T00:00:00\",\"2015-12-15T00:00:00\",\"2018-08-12T00:00:00\",\"2013-01-24T00:00:00\",\"2021-09-13T00:00:00\",\"2013-02-03T00:00:00\",\"2014-08-23T00:00:00\",\"2013-08-08T00:00:00\",\"2021-01-26T00:00:00\",\"2022-01-16T00:00:00\",\"2019-11-06T00:00:00\",\"2021-03-18T00:00:00\",\"2014-07-01T00:00:00\",\"2013-11-23T00:00:00\",\"2021-11-21T00:00:00\",\"2013-08-15T00:00:00\",\"2013-06-19T00:00:00\",\"2018-12-29T00:00:00\",\"2014-06-02T00:00:00\",\"2014-06-05T00:00:00\",\"2021-02-19T00:00:00\",\"2018-07-19T00:00:00\",\"2022-02-04T00:00:00\",\"2020-06-22T00:00:00\"],\"y\":[17215.0,37452.0,17990.0,18635.0,40584.0,29986.0,19665.0,32963.0,24896.0,38379.0,13381.0,44981.0,43057.0,23133.0,39611.0,24740.0,29922.0,36255.0,22794.0,14636.0,18440.0,35698.0,36211.0,21576.0,42289.0,49340.0,43828.0,47145.0,19973.0,33572.0,23522.0,30186.0,36451.0,30461.0,35476.0,11269.0,39579.0,31114.0,19494.0,44819.0,52570.0,50819.0,41265.0,23190.0,52227.0,15453.0,20306.0,19736.0,38228.0,38045.0,11420.0,35569.0,33205.0,15780.0,38119.0,27677.0,22639.0,9468.0,24059.0,36268.0,50807.0,52313.0,17238.0,16713.0,27446.0,14210.0,21889.0,14016.0,46212.0,30196.0,28120.0,43499.0,48415.0,28509.0,38820.0,11494.0,44509.0,36334.0,14855.0,15499.0,45893.0,17244.0,21758.0,40233.0,29611.0,12165.0,34019.0,31513.0,32943.0,19207.0,18462.0,46903.0,47815.0,12692.0,29996.0,41639.0,29607.0,42628.0,19915.0,53078.0],\"type\":\"scatter\"},{\"marker\":{\"color\":\"red\"},\"mode\":\"markers\",\"name\":\"preds\",\"x\":[\"2013-09-11T00:00:00\",\"2022-10-14T00:00:00\",\"2016-10-12T00:00:00\",\"2013-11-30T00:00:00\",\"2016-01-06T00:00:00\",\"2015-12-02T00:00:00\",\"2015-11-14T00:00:00\",\"2021-04-08T00:00:00\",\"2014-12-15T00:00:00\",\"2019-04-26T00:00:00\",\"2022-01-29T00:00:00\",\"2014-04-09T00:00:00\",\"2022-04-10T00:00:00\",\"2022-12-23T00:00:00\",\"2014-10-17T00:00:00\",\"2015-09-19T00:00:00\",\"2020-09-08T00:00:00\",\"2019-11-29T00:00:00\",\"2019-01-02T00:00:00\",\"2014-02-03T00:00:00\",\"2015-02-04T00:00:00\",\"2019-03-05T00:00:00\",\"2020-05-06T00:00:00\",\"2020-01-04T00:00:00\",\"2019-09-16T00:00:00\",\"2015-04-21T00:00:00\",\"2015-12-05T00:00:00\",\"2017-05-23T00:00:00\",\"2013-01-18T00:00:00\",\"2015-10-21T00:00:00\",\"2017-10-02T00:00:00\",\"2022-11-18T00:00:00\",\"2020-04-21T00:00:00\",\"2019-05-19T00:00:00\",\"2020-10-16T00:00:00\",\"2022-01-01T00:00:00\",\"2015-08-12T00:00:00\",\"2016-01-07T00:00:00\",\"2013-01-02T00:00:00\",\"2019-06-28T00:00:00\",\"2014-07-24T00:00:00\",\"2021-06-28T00:00:00\",\"2019-10-15T00:00:00\",\"2015-11-04T00:00:00\",\"2022-06-21T00:00:00\",\"2022-04-12T00:00:00\",\"2020-12-19T00:00:00\",\"2013-05-19T00:00:00\",\"2014-11-20T00:00:00\",\"2015-09-10T00:00:00\",\"2013-03-30T00:00:00\",\"2020-08-01T00:00:00\",\"2022-12-06T00:00:00\",\"2017-10-31T00:00:00\",\"2022-07-28T00:00:00\",\"2019-07-28T00:00:00\",\"2021-05-01T00:00:00\",\"2022-02-01T00:00:00\",\"2020-02-04T00:00:00\",\"2016-10-20T00:00:00\",\"2016-08-19T00:00:00\",\"2018-09-20T00:00:00\",\"2017-01-07T00:00:00\",\"2019-08-18T00:00:00\",\"2022-11-28T00:00:00\",\"2018-10-02T00:00:00\",\"2014-04-27T00:00:00\",\"2021-06-03T00:00:00\",\"2016-08-06T00:00:00\",\"2022-10-02T00:00:00\",\"2015-01-19T00:00:00\",\"2015-03-06T00:00:00\",\"2021-06-24T00:00:00\",\"2014-10-01T00:00:00\",\"2019-03-21T00:00:00\",\"2020-06-12T00:00:00\",\"2014-06-26T00:00:00\",\"2015-12-15T00:00:00\",\"2018-08-12T00:00:00\",\"2013-01-24T00:00:00\",\"2021-09-13T00:00:00\",\"2013-02-03T00:00:00\",\"2014-08-23T00:00:00\",\"2013-08-08T00:00:00\",\"2021-01-26T00:00:00\",\"2022-01-16T00:00:00\",\"2019-11-06T00:00:00\",\"2021-03-18T00:00:00\",\"2014-07-01T00:00:00\",\"2013-11-23T00:00:00\",\"2021-11-21T00:00:00\",\"2013-08-15T00:00:00\",\"2013-06-19T00:00:00\",\"2018-12-29T00:00:00\",\"2014-06-02T00:00:00\",\"2014-06-05T00:00:00\",\"2021-02-19T00:00:00\",\"2018-07-19T00:00:00\",\"2022-02-04T00:00:00\",\"2020-06-22T00:00:00\"],\"y\":[47208.0,33417.0,36093.0,39059.0,20683.0,19649.0,23821.0,13998.0,28896.0,31846.0,23385.0,23454.0,40132.0,38205.0,20215.0,25365.0,19855.0,7812.0,22789.0,52315.0,15726.0,35036.0,14833.0,31477.0,34579.0,35732.0,33185.0,31785.0,34397.0,21241.0,27319.0,37584.0,52262.0,34989.0,32229.0,23317.0,37647.0,17244.0,37211.0,10382.0,8799.0,27369.0,33701.0,31003.0,45202.0,40153.0,44859.0,42499.0,36882.0,17128.0,32372.0,45684.0,32972.0,44800.0,42236.0,17423.0,46482.0,8460.0,19854.0,30247.0,38786.0,11389.0,29683.0,46002.0,46398.0,36008.0,45988.0,22238.0,42465.0,49315.0,19850.0,32457.0,9941.0,10844.0,30920.0,42997.0,32885.0,50446.0,32410.0,18396.0,31816.0,45834.0,46903.0,29796.0,43025.0,8660.0,31609.0,39817.0,56823.0,23582.0,21206.0,39483.0,44509.0,33037.0,45966.0,37734.0,17090.0,50857.0,43663.0,28676.0],\"type\":\"scatter\"}],                        {\"template\":{\"data\":{\"histogram2dcontour\":[{\"type\":\"histogram2dcontour\",\"colorbar\":{\"outlinewidth\":0,\"ticks\":\"\"},\"colorscale\":[[0.0,\"#0d0887\"],[0.1111111111111111,\"#46039f\"],[0.2222222222222222,\"#7201a8\"],[0.3333333333333333,\"#9c179e\"],[0.4444444444444444,\"#bd3786\"],[0.5555555555555556,\"#d8576b\"],[0.6666666666666666,\"#ed7953\"],[0.7777777777777778,\"#fb9f3a\"],[0.8888888888888888,\"#fdca26\"],[1.0,\"#f0f921\"]]}],\"choropleth\":[{\"type\":\"choropleth\",\"colorbar\":{\"outlinewidth\":0,\"ticks\":\"\"}}],\"histogram2d\":[{\"type\":\"histogram2d\",\"colorbar\":{\"outlinewidth\":0,\"ticks\":\"\"},\"colorscale\":[[0.0,\"#0d0887\"],[0.1111111111111111,\"#46039f\"],[0.2222222222222222,\"#7201a8\"],[0.3333333333333333,\"#9c179e\"],[0.4444444444444444,\"#bd3786\"],[0.5555555555555556,\"#d8576b\"],[0.6666666666666666,\"#ed7953\"],[0.7777777777777778,\"#fb9f3a\"],[0.8888888888888888,\"#fdca26\"],[1.0,\"#f0f921\"]]}],\"heatmap\":[{\"type\":\"heatmap\",\"colorbar\":{\"outlinewidth\":0,\"ticks\":\"\"},\"colorscale\":[[0.0,\"#0d0887\"],[0.1111111111111111,\"#46039f\"],[0.2222222222222222,\"#7201a8\"],[0.3333333333333333,\"#9c179e\"],[0.4444444444444444,\"#bd3786\"],[0.5555555555555556,\"#d8576b\"],[0.6666666666666666,\"#ed7953\"],[0.7777777777777778,\"#fb9f3a\"],[0.8888888888888888,\"#fdca26\"],[1.0,\"#f0f921\"]]}],\"heatmapgl\":[{\"type\":\"heatmapgl\",\"colorbar\":{\"outlinewidth\":0,\"ticks\":\"\"},\"colorscale\":[[0.0,\"#0d0887\"],[0.1111111111111111,\"#46039f\"],[0.2222222222222222,\"#7201a8\"],[0.3333333333333333,\"#9c179e\"],[0.4444444444444444,\"#bd3786\"],[0.5555555555555556,\"#d8576b\"],[0.6666666666666666,\"#ed7953\"],[0.7777777777777778,\"#fb9f3a\"],[0.8888888888888888,\"#fdca26\"],[1.0,\"#f0f921\"]]}],\"contourcarpet\":[{\"type\":\"contourcarpet\",\"colorbar\":{\"outlinewidth\":0,\"ticks\":\"\"}}],\"contour\":[{\"type\":\"contour\",\"colorbar\":{\"outlinewidth\":0,\"ticks\":\"\"},\"colorscale\":[[0.0,\"#0d0887\"],[0.1111111111111111,\"#46039f\"],[0.2222222222222222,\"#7201a8\"],[0.3333333333333333,\"#9c179e\"],[0.4444444444444444,\"#bd3786\"],[0.5555555555555556,\"#d8576b\"],[0.6666666666666666,\"#ed7953\"],[0.7777777777777778,\"#fb9f3a\"],[0.8888888888888888,\"#fdca26\"],[1.0,\"#f0f921\"]]}],\"surface\":[{\"type\":\"surface\",\"colorbar\":{\"outlinewidth\":0,\"ticks\":\"\"},\"colorscale\":[[0.0,\"#0d0887\"],[0.1111111111111111,\"#46039f\"],[0.2222222222222222,\"#7201a8\"],[0.3333333333333333,\"#9c179e\"],[0.4444444444444444,\"#bd3786\"],[0.5555555555555556,\"#d8576b\"],[0.6666666666666666,\"#ed7953\"],[0.7777777777777778,\"#fb9f3a\"],[0.8888888888888888,\"#fdca26\"],[1.0,\"#f0f921\"]]}],\"mesh3d\":[{\"type\":\"mesh3d\",\"colorbar\":{\"outlinewidth\":0,\"ticks\":\"\"}}],\"scatter\":[{\"fillpattern\":{\"fillmode\":\"overlay\",\"size\":10,\"solidity\":0.2},\"type\":\"scatter\"}],\"parcoords\":[{\"type\":\"parcoords\",\"line\":{\"colorbar\":{\"outlinewidth\":0,\"ticks\":\"\"}}}],\"scatterpolargl\":[{\"type\":\"scatterpolargl\",\"marker\":{\"colorbar\":{\"outlinewidth\":0,\"ticks\":\"\"}}}],\"bar\":[{\"error_x\":{\"color\":\"#2a3f5f\"},\"error_y\":{\"color\":\"#2a3f5f\"},\"marker\":{\"line\":{\"color\":\"#E5ECF6\",\"width\":0.5},\"pattern\":{\"fillmode\":\"overlay\",\"size\":10,\"solidity\":0.2}},\"type\":\"bar\"}],\"scattergeo\":[{\"type\":\"scattergeo\",\"marker\":{\"colorbar\":{\"outlinewidth\":0,\"ticks\":\"\"}}}],\"scatterpolar\":[{\"type\":\"scatterpolar\",\"marker\":{\"colorbar\":{\"outlinewidth\":0,\"ticks\":\"\"}}}],\"histogram\":[{\"marker\":{\"pattern\":{\"fillmode\":\"overlay\",\"size\":10,\"solidity\":0.2}},\"type\":\"histogram\"}],\"scattergl\":[{\"type\":\"scattergl\",\"marker\":{\"colorbar\":{\"outlinewidth\":0,\"ticks\":\"\"}}}],\"scatter3d\":[{\"type\":\"scatter3d\",\"line\":{\"colorbar\":{\"outlinewidth\":0,\"ticks\":\"\"}},\"marker\":{\"colorbar\":{\"outlinewidth\":0,\"ticks\":\"\"}}}],\"scattermapbox\":[{\"type\":\"scattermapbox\",\"marker\":{\"colorbar\":{\"outlinewidth\":0,\"ticks\":\"\"}}}],\"scatterternary\":[{\"type\":\"scatterternary\",\"marker\":{\"colorbar\":{\"outlinewidth\":0,\"ticks\":\"\"}}}],\"scattercarpet\":[{\"type\":\"scattercarpet\",\"marker\":{\"colorbar\":{\"outlinewidth\":0,\"ticks\":\"\"}}}],\"carpet\":[{\"aaxis\":{\"endlinecolor\":\"#2a3f5f\",\"gridcolor\":\"white\",\"linecolor\":\"white\",\"minorgridcolor\":\"white\",\"startlinecolor\":\"#2a3f5f\"},\"baxis\":{\"endlinecolor\":\"#2a3f5f\",\"gridcolor\":\"white\",\"linecolor\":\"white\",\"minorgridcolor\":\"white\",\"startlinecolor\":\"#2a3f5f\"},\"type\":\"carpet\"}],\"table\":[{\"cells\":{\"fill\":{\"color\":\"#EBF0F8\"},\"line\":{\"color\":\"white\"}},\"header\":{\"fill\":{\"color\":\"#C8D4E3\"},\"line\":{\"color\":\"white\"}},\"type\":\"table\"}],\"barpolar\":[{\"marker\":{\"line\":{\"color\":\"#E5ECF6\",\"width\":0.5},\"pattern\":{\"fillmode\":\"overlay\",\"size\":10,\"solidity\":0.2}},\"type\":\"barpolar\"}],\"pie\":[{\"automargin\":true,\"type\":\"pie\"}]},\"layout\":{\"autotypenumbers\":\"strict\",\"colorway\":[\"#636efa\",\"#EF553B\",\"#00cc96\",\"#ab63fa\",\"#FFA15A\",\"#19d3f3\",\"#FF6692\",\"#B6E880\",\"#FF97FF\",\"#FECB52\"],\"font\":{\"color\":\"#2a3f5f\"},\"hovermode\":\"closest\",\"hoverlabel\":{\"align\":\"left\"},\"paper_bgcolor\":\"white\",\"plot_bgcolor\":\"#E5ECF6\",\"polar\":{\"bgcolor\":\"#E5ECF6\",\"angularaxis\":{\"gridcolor\":\"white\",\"linecolor\":\"white\",\"ticks\":\"\"},\"radialaxis\":{\"gridcolor\":\"white\",\"linecolor\":\"white\",\"ticks\":\"\"}},\"ternary\":{\"bgcolor\":\"#E5ECF6\",\"aaxis\":{\"gridcolor\":\"white\",\"linecolor\":\"white\",\"ticks\":\"\"},\"baxis\":{\"gridcolor\":\"white\",\"linecolor\":\"white\",\"ticks\":\"\"},\"caxis\":{\"gridcolor\":\"white\",\"linecolor\":\"white\",\"ticks\":\"\"}},\"coloraxis\":{\"colorbar\":{\"outlinewidth\":0,\"ticks\":\"\"}},\"colorscale\":{\"sequential\":[[0.0,\"#0d0887\"],[0.1111111111111111,\"#46039f\"],[0.2222222222222222,\"#7201a8\"],[0.3333333333333333,\"#9c179e\"],[0.4444444444444444,\"#bd3786\"],[0.5555555555555556,\"#d8576b\"],[0.6666666666666666,\"#ed7953\"],[0.7777777777777778,\"#fb9f3a\"],[0.8888888888888888,\"#fdca26\"],[1.0,\"#f0f921\"]],\"sequentialminus\":[[0.0,\"#0d0887\"],[0.1111111111111111,\"#46039f\"],[0.2222222222222222,\"#7201a8\"],[0.3333333333333333,\"#9c179e\"],[0.4444444444444444,\"#bd3786\"],[0.5555555555555556,\"#d8576b\"],[0.6666666666666666,\"#ed7953\"],[0.7777777777777778,\"#fb9f3a\"],[0.8888888888888888,\"#fdca26\"],[1.0,\"#f0f921\"]],\"diverging\":[[0,\"#8e0152\"],[0.1,\"#c51b7d\"],[0.2,\"#de77ae\"],[0.3,\"#f1b6da\"],[0.4,\"#fde0ef\"],[0.5,\"#f7f7f7\"],[0.6,\"#e6f5d0\"],[0.7,\"#b8e186\"],[0.8,\"#7fbc41\"],[0.9,\"#4d9221\"],[1,\"#276419\"]]},\"xaxis\":{\"gridcolor\":\"white\",\"linecolor\":\"white\",\"ticks\":\"\",\"title\":{\"standoff\":15},\"zerolinecolor\":\"white\",\"automargin\":true,\"zerolinewidth\":2},\"yaxis\":{\"gridcolor\":\"white\",\"linecolor\":\"white\",\"ticks\":\"\",\"title\":{\"standoff\":15},\"zerolinecolor\":\"white\",\"automargin\":true,\"zerolinewidth\":2},\"scene\":{\"xaxis\":{\"backgroundcolor\":\"#E5ECF6\",\"gridcolor\":\"white\",\"linecolor\":\"white\",\"showbackground\":true,\"ticks\":\"\",\"zerolinecolor\":\"white\",\"gridwidth\":2},\"yaxis\":{\"backgroundcolor\":\"#E5ECF6\",\"gridcolor\":\"white\",\"linecolor\":\"white\",\"showbackground\":true,\"ticks\":\"\",\"zerolinecolor\":\"white\",\"gridwidth\":2},\"zaxis\":{\"backgroundcolor\":\"#E5ECF6\",\"gridcolor\":\"white\",\"linecolor\":\"white\",\"showbackground\":true,\"ticks\":\"\",\"zerolinecolor\":\"white\",\"gridwidth\":2}},\"shapedefaults\":{\"line\":{\"color\":\"#2a3f5f\"}},\"annotationdefaults\":{\"arrowcolor\":\"#2a3f5f\",\"arrowhead\":0,\"arrowwidth\":1},\"geo\":{\"bgcolor\":\"white\",\"landcolor\":\"#E5ECF6\",\"subunitcolor\":\"white\",\"showland\":true,\"showlakes\":true,\"lakecolor\":\"white\"},\"title\":{\"x\":0.05},\"mapbox\":{\"style\":\"light\"}}},\"xaxis\":{\"anchor\":\"y\",\"domain\":[0.0,1.0],\"title\":{\"text\":\"Date\"}},\"yaxis\":{\"anchor\":\"x\",\"domain\":[0.0,1.0],\"title\":{\"text\":\"Values\"}},\"legend\":{\"tracegroupgap\":0},\"margin\":{\"t\":60},\"title\":{\"text\":\"y_test vs. preds, random values\"}},                        {\"responsive\": true}                    ).then(function(){\n",
              "                            \n",
              "var gd = document.getElementById('338b2689-5f94-4edf-9751-e741310dd585');\n",
              "var x = new MutationObserver(function (mutations, observer) {{\n",
              "        var display = window.getComputedStyle(gd).display;\n",
              "        if (!display || display === 'none') {{\n",
              "            console.log([gd, 'removed!']);\n",
              "            Plotly.purge(gd);\n",
              "            observer.disconnect();\n",
              "        }}\n",
              "}});\n",
              "\n",
              "// Listen for the removal of the full notebook cells\n",
              "var notebookContainer = gd.closest('#notebook-container');\n",
              "if (notebookContainer) {{\n",
              "    x.observe(notebookContainer, {childList: true});\n",
              "}}\n",
              "\n",
              "// Listen for the clearing of the current output cell\n",
              "var outputEl = gd.closest('.output');\n",
              "if (outputEl) {{\n",
              "    x.observe(outputEl, {childList: true});\n",
              "}}\n",
              "\n",
              "                        })                };                            </script>        </div>\n",
              "</body>\n",
              "</html>"
            ]
          },
          "metadata": {},
          "output_type": "display_data"
        }
      ],
      "source": [
        "# Select 100 random datapoints from y_dev\n",
        "random_indices = random.sample(range(len(y_dev)), 100)\n",
        "y_dev_sample = y_dev[random_indices]\n",
        "preds_sample = preds[random_indices]\n",
        "\n",
        "# Create plot using plotly express\n",
        "fig = px.scatter()\n",
        "fig.add_scatter(x=y_dev_sample.index, y=y_dev_sample, mode='markers', name='y_dev', marker=dict(color='blue'))\n",
        "fig.add_scatter(x=y_dev_sample.index, y=preds_sample, mode='markers', name='preds', marker=dict(color='red'))\n",
        "fig.update_layout(title='y_dev vs. preds, random values', xaxis_title='Date', yaxis_title='Values')\n",
        "fig.show()"
      ]
    },
    {
      "cell_type": "markdown",
      "id": "fOFZ5oXgTT7V",
      "metadata": {
        "id": "fOFZ5oXgTT7V"
      },
      "source": [
        "<a name=\"5.3.\"></a>\n",
        "## 5.3. Multilayer Perceptron\n",
        "[Content](#content)"
      ]
    },
    {
      "cell_type": "markdown",
      "id": "pWGJlB8pNl7m",
      "metadata": {
        "id": "pWGJlB8pNl7m"
      },
      "source": [
        "TO CHECK: Performance when standardizing/normalizing dataset\n",
        "TO CHECK: When adding the prev_total values, the accuracy becomes less. Check later with optimized MLP again"
      ]
    },
    {
      "cell_type": "code",
      "execution_count": null,
      "id": "CFbCaX6sKhZF",
      "metadata": {
        "id": "CFbCaX6sKhZF"
      },
      "outputs": [],
      "source": [
        "%%time\n",
        "from tensorflow.keras import regularizers\n",
        "from keras.regularizers import l2\n",
        "\n",
        "regl2 = 20\n",
        "dropout = 0.0 # 0.2 best\n",
        "\n",
        "# Define the architecture of the MLP with L2 regularization\n",
        "model = Sequential()\n",
        "model.add(Input(shape=(104,)))\n",
        "#model.add(Input(shape=(29,)))\n",
        "model.add(Dense(units=128, activation='relu', kernel_regularizer=regularizers.L1L2(l1=1e5, l2=1e5)))\n",
        "model.add(Dropout(dropout))\n",
        "model.add(Dense(units=64, activation='relu', kernel_regularizer=regularizers.L1L2(l1=1e5, l2=1e5)))\n",
        "model.add(Dropout(dropout))\n",
        "model.add(Dense(units=32, activation='relu', kernel_regularizer=regularizers.L1L2(l1=1e5, l2=1e5)))\n",
        "model.add(Dropout(dropout))\n",
        "#model.add(Dense(units=512, activation='relu', kernel_regularizer=l2(regl2)))\n",
        "#model.add(Dense(units=512, activation='relu', kernel_regularizer=l2(regl2)))\n",
        "#model.add(Dense(units=512, activation='relu', kernel_regularizer=l2(regl2)))\n",
        "#model.add(Dense(units=512, activation='relu', kernel_regularizer=l2(regl2)))\n",
        "#model.add(Dense(units=512, activation='relu', kernel_regularizer=l2(regl2)))\n",
        "#model.add(Dense(units=512, activation='relu', kernel_regularizer=l2(regl2)))\n",
        "#model.add(Dense(units=512, activation='relu', kernel_regularizer=l2(regl2)))\n",
        "#model.add(Dense(units=512, activation='relu', kernel_regularizer=l2(regl2)))\n",
        "model.add(Dense(units=1, activation='linear', kernel_regularizer=l2(regl2)))  # Output layer with 1 neuron for regression\n",
        "\n",
        "#print(model.summary())\n",
        "\n",
        "# Compile the model with mean squared error (MSE) loss, and root mean square error (RMSE) as metric\n",
        "# Use Adam optimizer with learning rate\n",
        "optimizer = Adam(learning_rate=0.1)\n",
        "model.compile(optimizer=optimizer, loss='mse', metrics=[RootMeanSquaredError()])\n",
        "\n",
        "# Train the model and save the learning history, use x_dev and y_dev for validation\n",
        "history = model.fit(X_train_scaled, y_train, epochs=500, batch_size=256, validation_data=(x_dev_scaled, y_dev))"
      ]
    },
    {
      "cell_type": "markdown",
      "id": "AstK4aH-ED9f",
      "metadata": {
        "id": "AstK4aH-ED9f"
      },
      "source": [
        "With L2 0.0"
      ]
    },
    {
      "cell_type": "markdown",
      "id": "UhB2ixAqEAQu",
      "metadata": {
        "id": "UhB2ixAqEAQu"
      },
      "source": [
        "with L2 5.0"
      ]
    },
    {
      "cell_type": "code",
      "execution_count": null,
      "id": "nH3EF2UCcYy6",
      "metadata": {
        "colab": {
          "base_uri": "https://localhost:8080/"
        },
        "id": "nH3EF2UCcYy6",
        "outputId": "6d4f5598-db08-4cbe-8e63-30b5c5caade6"
      },
      "outputs": [
        {
          "name": "stderr",
          "output_type": "stream",
          "text": [
            "/usr/local/lib/python3.10/dist-packages/ipykernel/ipkernel.py:283: DeprecationWarning: `should_run_async` will not call `transform_cell` automatically in the future. Please pass the result to `transformed_cell` argument and any exception that happen during thetransform in `preprocessing_exc_tuple` in IPython 7.17 and above.\n",
            "  and should_run_async(code)\n"
          ]
        }
      ],
      "source": [
        "history_reg0 = history"
      ]
    },
    {
      "cell_type": "code",
      "execution_count": null,
      "id": "gMEQCWywcatA",
      "metadata": {
        "colab": {
          "base_uri": "https://localhost:8080/"
        },
        "id": "gMEQCWywcatA",
        "outputId": "bcd64c94-b63b-4511-eea9-8b3b1c80a876"
      },
      "outputs": [
        {
          "name": "stderr",
          "output_type": "stream",
          "text": [
            "/usr/local/lib/python3.9/dist-packages/ipykernel/ipkernel.py:283: DeprecationWarning: `should_run_async` will not call `transform_cell` automatically in the future. Please pass the result to `transformed_cell` argument and any exception that happen during thetransform in `preprocessing_exc_tuple` in IPython 7.17 and above.\n",
            "  and should_run_async(code)\n"
          ]
        }
      ],
      "source": [
        "history_reg1000 = history"
      ]
    },
    {
      "cell_type": "code",
      "execution_count": null,
      "id": "LurYAa8ue1at",
      "metadata": {
        "colab": {
          "base_uri": "https://localhost:8080/"
        },
        "id": "LurYAa8ue1at",
        "outputId": "7bec3e49-3d77-4780-efa1-56e882cd0621"
      },
      "outputs": [
        {
          "name": "stderr",
          "output_type": "stream",
          "text": [
            "/usr/local/lib/python3.10/dist-packages/ipykernel/ipkernel.py:283: DeprecationWarning: `should_run_async` will not call `transform_cell` automatically in the future. Please pass the result to `transformed_cell` argument and any exception that happen during thetransform in `preprocessing_exc_tuple` in IPython 7.17 and above.\n",
            "  and should_run_async(code)\n"
          ]
        }
      ],
      "source": [
        "history_reg0_not_scaled = history"
      ]
    },
    {
      "cell_type": "code",
      "execution_count": null,
      "id": "ozrhdiYYFEAz",
      "metadata": {
        "id": "ozrhdiYYFEAz"
      },
      "outputs": [],
      "source": [
        "model.layers[0].get_config()"
      ]
    },
    {
      "cell_type": "markdown",
      "id": "xWmUZ5O0Rvh6",
      "metadata": {
        "id": "xWmUZ5O0Rvh6"
      },
      "source": [
        "Epoch 100/100\n",
        "46/46 [==============================] - 1s 23ms/step - loss: 6617481.5000 - root_mean_squared_error: 2572.4465 - val_loss: 67260184.0000 - val_root_mean_squared_error: 8201.2305\n",
        "CPU times: user 2min 43s, sys: 6.67 s, total: 2min 50s\n",
        "Wall time: 2min 23"
      ]
    },
    {
      "cell_type": "code",
      "execution_count": null,
      "id": "RhbEPgSPsXCy",
      "metadata": {
        "colab": {
          "base_uri": "https://localhost:8080/",
          "height": 598
        },
        "id": "RhbEPgSPsXCy",
        "outputId": "5609e31d-6daf-4066-c720-45ece47bd0ac"
      },
      "outputs": [
        {
          "name": "stderr",
          "output_type": "stream",
          "text": [
            "/usr/local/lib/python3.10/dist-packages/ipykernel/ipkernel.py:283: DeprecationWarning: `should_run_async` will not call `transform_cell` automatically in the future. Please pass the result to `transformed_cell` argument and any exception that happen during thetransform in `preprocessing_exc_tuple` in IPython 7.17 and above.\n",
            "  and should_run_async(code)\n"
          ]
        },
        {
          "data": {
            "text/html": [
              "<html>\n",
              "<head><meta charset=\"utf-8\" /></head>\n",
              "<body>\n",
              "    <div>            <script src=\"https://cdnjs.cloudflare.com/ajax/libs/mathjax/2.7.5/MathJax.js?config=TeX-AMS-MML_SVG\"></script><script type=\"text/javascript\">if (window.MathJax && window.MathJax.Hub && window.MathJax.Hub.Config) {window.MathJax.Hub.Config({SVG: {font: \"STIX-Web\"}});}</script>                <script type=\"text/javascript\">window.PlotlyConfig = {MathJaxConfig: 'local'};</script>\n",
              "        <script src=\"https://cdn.plot.ly/plotly-2.18.2.min.js\"></script>                <div id=\"a2cd6f39-d273-47ee-aaa0-732030972cc3\" class=\"plotly-graph-div\" style=\"height:525px; width:100%;\"></div>            <script type=\"text/javascript\">                                    window.PLOTLYENV=window.PLOTLYENV || {};                                    if (document.getElementById(\"a2cd6f39-d273-47ee-aaa0-732030972cc3\")) {                    Plotly.newPlot(                        \"a2cd6f39-d273-47ee-aaa0-732030972cc3\",                        [{\"hovertemplate\":\"<extra></extra>\",\"legendgroup\":\"\",\"line\":{\"color\":\"#636efa\",\"dash\":\"solid\"},\"marker\":{\"symbol\":\"circle\"},\"mode\":\"lines\",\"name\":\"\",\"orientation\":\"v\",\"showlegend\":false,\"xaxis\":\"x\",\"yaxis\":\"y\",\"type\":\"scatter\"},{\"line\":{\"color\":\"red\"},\"mode\":\"lines+markers\",\"name\":\"Train L2=0\",\"x\":[1,2,3,4,5,6,7,8,9,10,11,12,13,14,15,16,17,18,19,20,21,22,23,24,25,26,27,28,29,30,31,32,33,34,35,36,37,38,39,40,41,42,43,44,45,46,47,48,49,50,51,52,53,54,55,56,57,58,59,60,61,62,63,64,65,66,67,68,69,70,71,72,73,74,75,76,77,78,79,80,81,82,83,84,85,86,87,88,89,90,91,92,93,94,95,96,97,98,99,100],\"y\":[34203.95703125,34194.5703125,34167.9140625,34106.2734375,33989.36328125,33795.60546875,33502.08203125,33089.06640625,32539.818359375,31843.26953125,30999.00390625,30010.216796875,28893.541015625,27665.921875,26357.8984375,25007.380859375,23652.365234375,22333.181640625,21087.62890625,19935.958984375,18889.744140625,17947.833984375,17095.998046875,16315.564453125,15597.0126953125,14928.5146484375,14307.9345703125,13728.6943359375,13196.169921875,12709.8740234375,12271.701171875,11881.779296875,11545.8935546875,11252.1640625,11004.591796875,10793.578125,10616.4814453125,10466.888671875,10341.6083984375,10235.3740234375,10140.763671875,10059.3037109375,9986.50390625,9920.9189453125,9859.810546875,9804.5166015625,9753.3994140625,9703.63671875,9658.357421875,9615.724609375,9574.0693359375,9535.63671875,9499.3896484375,9464.08984375,9431.46484375,9399.2236328125,9368.23828125,9340.1953125,9313.3564453125,9285.5693359375,9261.244140625,9237.9033203125,9212.9716796875,9191.8974609375,9169.4814453125,9149.7470703125,9130.9365234375,9112.0986328125,9096.1181640625,9077.3525390625,9060.8837890625,9047.4248046875,9032.259765625,9016.099609375,9001.73046875,8987.724609375,8975.8515625,8961.1328125,8947.828125,8935.9755859375,8922.8544921875,8912.58984375,8900.625,8890.6708984375,8879.953125,8869.875,8859.466796875,8851.5244140625,8840.4560546875,8831.216796875,8823.0478515625,8813.1318359375,8807.607421875,8797.0107421875,8789.3740234375,8784.0732421875,8774.8828125,8767.484375,8760.0810546875,8753.1328125],\"type\":\"scatter\"},{\"line\":{\"color\":\"blue\"},\"mode\":\"lines+markers\",\"name\":\"Test L2=0\",\"x\":[1,2,3,4,5,6,7,8,9,10,11,12,13,14,15,16,17,18,19,20,21,22,23,24,25,26,27,28,29,30,31,32,33,34,35,36,37,38,39,40,41,42,43,44,45,46,47,48,49,50,51,52,53,54,55,56,57,58,59,60,61,62,63,64,65,66,67,68,69,70,71,72,73,74,75,76,77,78,79,80,81,82,83,84,85,86,87,88,89,90,91,92,93,94,95,96,97,98,99,100],\"y\":[33984.88671875,33968.65625,33926.77734375,33839.2890625,33683.91015625,33440.9765625,33087.7890625,32598.689453125,31966.603515625,31192.572265625,30268.619140625,29195.4140625,27998.26171875,26708.06640625,25359.349609375,23976.4453125,22613.41015625,21306.900390625,20092.2109375,18980.486328125,17971.103515625,17061.48828125,16235.048828125,15482.4208984375,14777.619140625,14135.2275390625,13524.8466796875,12959.6650390625,12446.9140625,11981.1748046875,11561.0380859375,11191.865234375,10868.71484375,10599.5078125,10362.61328125,10163.1083984375,9992.78515625,9851.5283203125,9726.7607421875,9618.1591796875,9526.1943359375,9442.478515625,9370.57421875,9303.0908203125,9241.607421875,9184.4873046875,9129.984375,9082.5361328125,9035.4482421875,8993.47265625,8951.66015625,8911.0146484375,8874.3310546875,8839.4384765625,8805.8369140625,8775.982421875,8747.2734375,8718.02734375,8689.0185546875,8665.05078125,8640.646484375,8618.7978515625,8593.9853515625,8572.0634765625,8554.8857421875,8535.5185546875,8517.26171875,8501.4697265625,8485.306640625,8469.630859375,8454.4755859375,8440.4072265625,8426.7900390625,8412.982421875,8399.818359375,8386.9892578125,8375.0107421875,8362.4150390625,8349.7265625,8341.5595703125,8330.91015625,8320.2998046875,8310.3203125,8301.724609375,8293.4755859375,8284.1728515625,8276.95703125,8268.33984375,8259.0009765625,8253.8212890625,8245.392578125,8237.4150390625,8227.6474609375,8222.8671875,8215.6572265625,8209.9345703125,8203.861328125,8199.6552734375,8193.296875,8187.68994140625],\"type\":\"scatter\"},{\"line\":{\"color\":\"gray\"},\"mode\":\"lines+markers\",\"name\":\"Train L2=0 not scaled\",\"x\":[1,2,3,4,5,6,7,8,9,10,11,12,13,14,15,16,17,18,19,20,21,22,23,24,25,26,27,28,29,30,31,32,33,34,35,36,37,38,39,40,41,42,43,44,45,46,47,48,49,50,51,52,53,54,55,56,57,58,59,60,61,62,63,64,65,66,67,68,69,70,71,72,73,74,75,76,77,78,79,80,81,82,83,84,85,86,87,88,89,90,91,92,93,94,95,96,97,98,99,100],\"y\":[17865.48828125,11055.728515625,10567.78515625,10450.8486328125,10396.0400390625,10349.0380859375,10307.3720703125,10260.080078125,10230.7158203125,10219.41015625,10176.1728515625,10141.5693359375,10085.8232421875,10080.97265625,10059.3173828125,9971.294921875,10011.052734375,9933.5263671875,9901.8935546875,9938.8212890625,9867.5625,9870.4306640625,9825.486328125,9808.0625,9819.6748046875,9828.814453125,9787.275390625,9796.0810546875,9792.70703125,9753.1689453125,9770.2265625,9745.615234375,9783.912109375,9818.6142578125,9744.8369140625,9714.6533203125,9713.314453125,9706.5576171875,9713.8681640625,9731.3212890625,9743.8037109375,9699.357421875,9735.556640625,9731.4033203125,9696.1494140625,9740.9091796875,9712.5341796875,9691.2666015625,9693.8359375,9664.25390625,9659.9091796875,9685.564453125,9664.98046875,9649.7734375,9680.3515625,9677.044921875,9657.8984375,9661.7958984375,9684.740234375,9631.09375,9660.5419921875,9672.04296875,9700.64453125,9651.904296875,9654.681640625,9676.5576171875,9659.578125,9663.99609375,9651.994140625,9750.953125,9654.9541015625,9655.5537109375,9623.2666015625,9673.92578125,9630.5390625,9632.0830078125,9635.9052734375,9616.04296875,9661.3984375,9655.9033203125,9598.6572265625,9631.36328125,9619.8818359375,9623.3701171875,9600.173828125,9624.39453125,9616.724609375,9641.84375,9624.064453125,9598.0732421875,9621.953125,9655.947265625,9639.126953125,9656.37890625,9632.8798828125,9606.576171875,9611.6142578125,9595.775390625,9584.68359375,9625.189453125],\"type\":\"scatter\"},{\"line\":{\"color\":\"black\"},\"mode\":\"lines+markers\",\"name\":\"Test L2=0 not scaled\",\"x\":[1,2,3,4,5,6,7,8,9,10,11,12,13,14,15,16,17,18,19,20,21,22,23,24,25,26,27,28,29,30,31,32,33,34,35,36,37,38,39,40,41,42,43,44,45,46,47,48,49,50,51,52,53,54,55,56,57,58,59,60,61,62,63,64,65,66,67,68,69,70,71,72,73,74,75,76,77,78,79,80,81,82,83,84,85,86,87,88,89,90,91,92,93,94,95,96,97,98,99,100],\"y\":[11312.970703125,10293.421875,10058.052734375,9971.5419921875,10038.4462890625,9863.0322265625,9823.078125,9799.4130859375,9757.2119140625,9748.9453125,9684.9111328125,9794.0576171875,9616.1181640625,9673.0517578125,9483.3330078125,9530.837890625,9433.4638671875,9401.0419921875,9425.1943359375,9489.37109375,9523.296875,9283.630859375,9247.1474609375,9218.515625,9291.8193359375,9196.951171875,9355.28125,9208.5166015625,9216.8896484375,9133.7724609375,9140.5244140625,9208.1640625,9124.138671875,9207.26171875,9088.6572265625,9300.5322265625,9091.0146484375,9101.4208984375,9115.0703125,9309.296875,9076.13671875,9053.0224609375,9038.583984375,9080.337890625,9048.0517578125,9048.791015625,9038.1728515625,9076.0810546875,9016.0234375,9018.3486328125,9211.322265625,8990.599609375,9035.439453125,9048.1279296875,9060.705078125,9027.0244140625,9003.1064453125,9015.0546875,9010.1826171875,9091.9970703125,9060.02734375,8993.580078125,9058.6904296875,9004.51953125,9018.9130859375,8997.6416015625,8971.5888671875,8971.384765625,9061.310546875,9335.5556640625,8968.9990234375,8993.2685546875,9001.2119140625,8957.638671875,8957.7890625,8980.27734375,8947.1953125,9127.990234375,9011.85546875,8998.021484375,8952.791015625,8965.1123046875,9025.8466796875,9060.291015625,8952.15234375,9028.71875,8981.2890625,9023.9951171875,8999.81640625,8939.1171875,8956.326171875,8964.736328125,9165.7998046875,8985.03515625,8938.3994140625,8966.759765625,8993.2255859375,9036.5400390625,8911.0771484375,8938.5263671875],\"type\":\"scatter\"}],                        {\"template\":{\"data\":{\"histogram2dcontour\":[{\"type\":\"histogram2dcontour\",\"colorbar\":{\"outlinewidth\":0,\"ticks\":\"\"},\"colorscale\":[[0.0,\"#0d0887\"],[0.1111111111111111,\"#46039f\"],[0.2222222222222222,\"#7201a8\"],[0.3333333333333333,\"#9c179e\"],[0.4444444444444444,\"#bd3786\"],[0.5555555555555556,\"#d8576b\"],[0.6666666666666666,\"#ed7953\"],[0.7777777777777778,\"#fb9f3a\"],[0.8888888888888888,\"#fdca26\"],[1.0,\"#f0f921\"]]}],\"choropleth\":[{\"type\":\"choropleth\",\"colorbar\":{\"outlinewidth\":0,\"ticks\":\"\"}}],\"histogram2d\":[{\"type\":\"histogram2d\",\"colorbar\":{\"outlinewidth\":0,\"ticks\":\"\"},\"colorscale\":[[0.0,\"#0d0887\"],[0.1111111111111111,\"#46039f\"],[0.2222222222222222,\"#7201a8\"],[0.3333333333333333,\"#9c179e\"],[0.4444444444444444,\"#bd3786\"],[0.5555555555555556,\"#d8576b\"],[0.6666666666666666,\"#ed7953\"],[0.7777777777777778,\"#fb9f3a\"],[0.8888888888888888,\"#fdca26\"],[1.0,\"#f0f921\"]]}],\"heatmap\":[{\"type\":\"heatmap\",\"colorbar\":{\"outlinewidth\":0,\"ticks\":\"\"},\"colorscale\":[[0.0,\"#0d0887\"],[0.1111111111111111,\"#46039f\"],[0.2222222222222222,\"#7201a8\"],[0.3333333333333333,\"#9c179e\"],[0.4444444444444444,\"#bd3786\"],[0.5555555555555556,\"#d8576b\"],[0.6666666666666666,\"#ed7953\"],[0.7777777777777778,\"#fb9f3a\"],[0.8888888888888888,\"#fdca26\"],[1.0,\"#f0f921\"]]}],\"heatmapgl\":[{\"type\":\"heatmapgl\",\"colorbar\":{\"outlinewidth\":0,\"ticks\":\"\"},\"colorscale\":[[0.0,\"#0d0887\"],[0.1111111111111111,\"#46039f\"],[0.2222222222222222,\"#7201a8\"],[0.3333333333333333,\"#9c179e\"],[0.4444444444444444,\"#bd3786\"],[0.5555555555555556,\"#d8576b\"],[0.6666666666666666,\"#ed7953\"],[0.7777777777777778,\"#fb9f3a\"],[0.8888888888888888,\"#fdca26\"],[1.0,\"#f0f921\"]]}],\"contourcarpet\":[{\"type\":\"contourcarpet\",\"colorbar\":{\"outlinewidth\":0,\"ticks\":\"\"}}],\"contour\":[{\"type\":\"contour\",\"colorbar\":{\"outlinewidth\":0,\"ticks\":\"\"},\"colorscale\":[[0.0,\"#0d0887\"],[0.1111111111111111,\"#46039f\"],[0.2222222222222222,\"#7201a8\"],[0.3333333333333333,\"#9c179e\"],[0.4444444444444444,\"#bd3786\"],[0.5555555555555556,\"#d8576b\"],[0.6666666666666666,\"#ed7953\"],[0.7777777777777778,\"#fb9f3a\"],[0.8888888888888888,\"#fdca26\"],[1.0,\"#f0f921\"]]}],\"surface\":[{\"type\":\"surface\",\"colorbar\":{\"outlinewidth\":0,\"ticks\":\"\"},\"colorscale\":[[0.0,\"#0d0887\"],[0.1111111111111111,\"#46039f\"],[0.2222222222222222,\"#7201a8\"],[0.3333333333333333,\"#9c179e\"],[0.4444444444444444,\"#bd3786\"],[0.5555555555555556,\"#d8576b\"],[0.6666666666666666,\"#ed7953\"],[0.7777777777777778,\"#fb9f3a\"],[0.8888888888888888,\"#fdca26\"],[1.0,\"#f0f921\"]]}],\"mesh3d\":[{\"type\":\"mesh3d\",\"colorbar\":{\"outlinewidth\":0,\"ticks\":\"\"}}],\"scatter\":[{\"fillpattern\":{\"fillmode\":\"overlay\",\"size\":10,\"solidity\":0.2},\"type\":\"scatter\"}],\"parcoords\":[{\"type\":\"parcoords\",\"line\":{\"colorbar\":{\"outlinewidth\":0,\"ticks\":\"\"}}}],\"scatterpolargl\":[{\"type\":\"scatterpolargl\",\"marker\":{\"colorbar\":{\"outlinewidth\":0,\"ticks\":\"\"}}}],\"bar\":[{\"error_x\":{\"color\":\"#2a3f5f\"},\"error_y\":{\"color\":\"#2a3f5f\"},\"marker\":{\"line\":{\"color\":\"#E5ECF6\",\"width\":0.5},\"pattern\":{\"fillmode\":\"overlay\",\"size\":10,\"solidity\":0.2}},\"type\":\"bar\"}],\"scattergeo\":[{\"type\":\"scattergeo\",\"marker\":{\"colorbar\":{\"outlinewidth\":0,\"ticks\":\"\"}}}],\"scatterpolar\":[{\"type\":\"scatterpolar\",\"marker\":{\"colorbar\":{\"outlinewidth\":0,\"ticks\":\"\"}}}],\"histogram\":[{\"marker\":{\"pattern\":{\"fillmode\":\"overlay\",\"size\":10,\"solidity\":0.2}},\"type\":\"histogram\"}],\"scattergl\":[{\"type\":\"scattergl\",\"marker\":{\"colorbar\":{\"outlinewidth\":0,\"ticks\":\"\"}}}],\"scatter3d\":[{\"type\":\"scatter3d\",\"line\":{\"colorbar\":{\"outlinewidth\":0,\"ticks\":\"\"}},\"marker\":{\"colorbar\":{\"outlinewidth\":0,\"ticks\":\"\"}}}],\"scattermapbox\":[{\"type\":\"scattermapbox\",\"marker\":{\"colorbar\":{\"outlinewidth\":0,\"ticks\":\"\"}}}],\"scatterternary\":[{\"type\":\"scatterternary\",\"marker\":{\"colorbar\":{\"outlinewidth\":0,\"ticks\":\"\"}}}],\"scattercarpet\":[{\"type\":\"scattercarpet\",\"marker\":{\"colorbar\":{\"outlinewidth\":0,\"ticks\":\"\"}}}],\"carpet\":[{\"aaxis\":{\"endlinecolor\":\"#2a3f5f\",\"gridcolor\":\"white\",\"linecolor\":\"white\",\"minorgridcolor\":\"white\",\"startlinecolor\":\"#2a3f5f\"},\"baxis\":{\"endlinecolor\":\"#2a3f5f\",\"gridcolor\":\"white\",\"linecolor\":\"white\",\"minorgridcolor\":\"white\",\"startlinecolor\":\"#2a3f5f\"},\"type\":\"carpet\"}],\"table\":[{\"cells\":{\"fill\":{\"color\":\"#EBF0F8\"},\"line\":{\"color\":\"white\"}},\"header\":{\"fill\":{\"color\":\"#C8D4E3\"},\"line\":{\"color\":\"white\"}},\"type\":\"table\"}],\"barpolar\":[{\"marker\":{\"line\":{\"color\":\"#E5ECF6\",\"width\":0.5},\"pattern\":{\"fillmode\":\"overlay\",\"size\":10,\"solidity\":0.2}},\"type\":\"barpolar\"}],\"pie\":[{\"automargin\":true,\"type\":\"pie\"}]},\"layout\":{\"autotypenumbers\":\"strict\",\"colorway\":[\"#636efa\",\"#EF553B\",\"#00cc96\",\"#ab63fa\",\"#FFA15A\",\"#19d3f3\",\"#FF6692\",\"#B6E880\",\"#FF97FF\",\"#FECB52\"],\"font\":{\"color\":\"#2a3f5f\"},\"hovermode\":\"closest\",\"hoverlabel\":{\"align\":\"left\"},\"paper_bgcolor\":\"white\",\"plot_bgcolor\":\"#E5ECF6\",\"polar\":{\"bgcolor\":\"#E5ECF6\",\"angularaxis\":{\"gridcolor\":\"white\",\"linecolor\":\"white\",\"ticks\":\"\"},\"radialaxis\":{\"gridcolor\":\"white\",\"linecolor\":\"white\",\"ticks\":\"\"}},\"ternary\":{\"bgcolor\":\"#E5ECF6\",\"aaxis\":{\"gridcolor\":\"white\",\"linecolor\":\"white\",\"ticks\":\"\"},\"baxis\":{\"gridcolor\":\"white\",\"linecolor\":\"white\",\"ticks\":\"\"},\"caxis\":{\"gridcolor\":\"white\",\"linecolor\":\"white\",\"ticks\":\"\"}},\"coloraxis\":{\"colorbar\":{\"outlinewidth\":0,\"ticks\":\"\"}},\"colorscale\":{\"sequential\":[[0.0,\"#0d0887\"],[0.1111111111111111,\"#46039f\"],[0.2222222222222222,\"#7201a8\"],[0.3333333333333333,\"#9c179e\"],[0.4444444444444444,\"#bd3786\"],[0.5555555555555556,\"#d8576b\"],[0.6666666666666666,\"#ed7953\"],[0.7777777777777778,\"#fb9f3a\"],[0.8888888888888888,\"#fdca26\"],[1.0,\"#f0f921\"]],\"sequentialminus\":[[0.0,\"#0d0887\"],[0.1111111111111111,\"#46039f\"],[0.2222222222222222,\"#7201a8\"],[0.3333333333333333,\"#9c179e\"],[0.4444444444444444,\"#bd3786\"],[0.5555555555555556,\"#d8576b\"],[0.6666666666666666,\"#ed7953\"],[0.7777777777777778,\"#fb9f3a\"],[0.8888888888888888,\"#fdca26\"],[1.0,\"#f0f921\"]],\"diverging\":[[0,\"#8e0152\"],[0.1,\"#c51b7d\"],[0.2,\"#de77ae\"],[0.3,\"#f1b6da\"],[0.4,\"#fde0ef\"],[0.5,\"#f7f7f7\"],[0.6,\"#e6f5d0\"],[0.7,\"#b8e186\"],[0.8,\"#7fbc41\"],[0.9,\"#4d9221\"],[1,\"#276419\"]]},\"xaxis\":{\"gridcolor\":\"white\",\"linecolor\":\"white\",\"ticks\":\"\",\"title\":{\"standoff\":15},\"zerolinecolor\":\"white\",\"automargin\":true,\"zerolinewidth\":2},\"yaxis\":{\"gridcolor\":\"white\",\"linecolor\":\"white\",\"ticks\":\"\",\"title\":{\"standoff\":15},\"zerolinecolor\":\"white\",\"automargin\":true,\"zerolinewidth\":2},\"scene\":{\"xaxis\":{\"backgroundcolor\":\"#E5ECF6\",\"gridcolor\":\"white\",\"linecolor\":\"white\",\"showbackground\":true,\"ticks\":\"\",\"zerolinecolor\":\"white\",\"gridwidth\":2},\"yaxis\":{\"backgroundcolor\":\"#E5ECF6\",\"gridcolor\":\"white\",\"linecolor\":\"white\",\"showbackground\":true,\"ticks\":\"\",\"zerolinecolor\":\"white\",\"gridwidth\":2},\"zaxis\":{\"backgroundcolor\":\"#E5ECF6\",\"gridcolor\":\"white\",\"linecolor\":\"white\",\"showbackground\":true,\"ticks\":\"\",\"zerolinecolor\":\"white\",\"gridwidth\":2}},\"shapedefaults\":{\"line\":{\"color\":\"#2a3f5f\"}},\"annotationdefaults\":{\"arrowcolor\":\"#2a3f5f\",\"arrowhead\":0,\"arrowwidth\":1},\"geo\":{\"bgcolor\":\"white\",\"landcolor\":\"#E5ECF6\",\"subunitcolor\":\"white\",\"showland\":true,\"showlakes\":true,\"lakecolor\":\"white\"},\"title\":{\"x\":0.05},\"mapbox\":{\"style\":\"light\"}}},\"xaxis\":{\"anchor\":\"y\",\"domain\":[0.0,1.0],\"title\":{\"text\":\"Epochs\"}},\"yaxis\":{\"anchor\":\"x\",\"domain\":[0.0,1.0],\"title\":{\"text\":\"RMSE\"}},\"legend\":{\"tracegroupgap\":0},\"title\":{\"text\":\"train RMSE vs test RMSE\"}},                        {\"responsive\": true}                    ).then(function(){\n",
              "                            \n",
              "var gd = document.getElementById('a2cd6f39-d273-47ee-aaa0-732030972cc3');\n",
              "var x = new MutationObserver(function (mutations, observer) {{\n",
              "        var display = window.getComputedStyle(gd).display;\n",
              "        if (!display || display === 'none') {{\n",
              "            console.log([gd, 'removed!']);\n",
              "            Plotly.purge(gd);\n",
              "            observer.disconnect();\n",
              "        }}\n",
              "}});\n",
              "\n",
              "// Listen for the removal of the full notebook cells\n",
              "var notebookContainer = gd.closest('#notebook-container');\n",
              "if (notebookContainer) {{\n",
              "    x.observe(notebookContainer, {childList: true});\n",
              "}}\n",
              "\n",
              "// Listen for the clearing of the current output cell\n",
              "var outputEl = gd.closest('.output');\n",
              "if (outputEl) {{\n",
              "    x.observe(outputEl, {childList: true});\n",
              "}}\n",
              "\n",
              "                        })                };                            </script>        </div>\n",
              "</body>\n",
              "</html>"
            ]
          },
          "metadata": {},
          "output_type": "display_data"
        }
      ],
      "source": [
        "hist_train_rmse_reg0 = np.array(history_reg0.history[\"root_mean_squared_error\"])\n",
        "hist_dev_rmse_reg0 = np.array(history_reg0.history[\"val_root_mean_squared_error\"])\n",
        "hist_train_rmse_reg0_not_scaled = np.array(history_reg0_not_scaled.history[\"root_mean_squared_error\"])\n",
        "hist_dev_rmse_reg0_not_scaled = np.array(history_reg0_not_scaled.history[\"val_root_mean_squared_error\"])\n",
        "\n",
        "# Create the array for the x axis, starting from 1\n",
        "x = np.arange(1, len(history_reg0.history[\"root_mean_squared_error\"])+1)\n",
        "\n",
        "# Create a line chart with two lines using Plotly Express\n",
        "fig = px.line(title='train RMSE vs dev RMSE')\n",
        "fig.add_scatter(x=x, y=hist_train_rmse_reg0, mode='lines+markers', name='Train L2=0', line=dict(color='red'))\n",
        "fig.add_scatter(x=x, y=hist_dev_rmse_reg0, mode='lines+markers', name='Dev L2=0', line=dict(color='blue'))\n",
        "fig.add_scatter(x=x, y=hist_train_rmse_reg0_not_scaled, mode='lines+markers', name='Train L2=0 not scaled', line=dict(color='gray'))\n",
        "fig.add_scatter(x=x, y=hist_dev_rmse_reg0_not_scaled, mode='lines+markers', name='Dev L2=0 not scaled', line=dict(color='black'))\n",
        "\n",
        "# Set chart title and axis labels\n",
        "fig.update_layout(\n",
        "    xaxis_title='Epochs',\n",
        "    yaxis_title='RMSE'\n",
        ")\n",
        "\n",
        "# Show the chart\n",
        "fig.show()"
      ]
    },
    {
      "cell_type": "code",
      "execution_count": null,
      "id": "ILDSZFdvZEq7",
      "metadata": {
        "colab": {
          "base_uri": "https://localhost:8080/",
          "height": 634
        },
        "id": "ILDSZFdvZEq7",
        "outputId": "4c4c1ad1-8722-4ab4-ca9f-accbec3b6f27"
      },
      "outputs": [
        {
          "name": "stderr",
          "output_type": "stream",
          "text": [
            "/usr/local/lib/python3.10/dist-packages/ipykernel/ipkernel.py:283: DeprecationWarning:\n",
            "\n",
            "`should_run_async` will not call `transform_cell` automatically in the future. Please pass the result to `transformed_cell` argument and any exception that happen during thetransform in `preprocessing_exc_tuple` in IPython 7.17 and above.\n",
            "\n"
          ]
        },
        {
          "data": {
            "text/html": [
              "<html>\n",
              "<head><meta charset=\"utf-8\" /></head>\n",
              "<body>\n",
              "    <div>            <script src=\"https://cdnjs.cloudflare.com/ajax/libs/mathjax/2.7.5/MathJax.js?config=TeX-AMS-MML_SVG\"></script><script type=\"text/javascript\">if (window.MathJax && window.MathJax.Hub && window.MathJax.Hub.Config) {window.MathJax.Hub.Config({SVG: {font: \"STIX-Web\"}});}</script>                <script type=\"text/javascript\">window.PlotlyConfig = {MathJaxConfig: 'local'};</script>\n",
              "        <script src=\"https://cdn.plot.ly/plotly-2.18.2.min.js\"></script>                <div id=\"0c7d9cf9-a5c0-473c-9894-3899d8e2d005\" class=\"plotly-graph-div\" style=\"height:525px; width:100%;\"></div>            <script type=\"text/javascript\">                                    window.PLOTLYENV=window.PLOTLYENV || {};                                    if (document.getElementById(\"0c7d9cf9-a5c0-473c-9894-3899d8e2d005\")) {                    Plotly.newPlot(                        \"0c7d9cf9-a5c0-473c-9894-3899d8e2d005\",                        [{\"hovertemplate\":\"<extra></extra>\",\"legendgroup\":\"\",\"line\":{\"color\":\"#636efa\",\"dash\":\"solid\"},\"marker\":{\"symbol\":\"circle\"},\"mode\":\"lines\",\"name\":\"\",\"orientation\":\"v\",\"showlegend\":false,\"xaxis\":\"x\",\"yaxis\":\"y\",\"type\":\"scatter\"},{\"line\":{\"color\":\"red\"},\"mode\":\"lines+markers\",\"name\":\"Train\",\"x\":[1,2,3,4,5,6,7,8,9,10,11,12,13,14,15,16,17,18,19,20,21,22,23,24,25,26,27,28,29,30,31,32,33,34,35,36,37,38,39,40,41,42,43,44,45,46,47,48,49,50,51,52,53,54,55,56,57,58,59,60,61,62,63,64,65,66,67,68,69,70,71,72,73,74,75,76,77,78,79,80,81,82,83,84,85,86,87,88,89,90,91,92,93,94,95,96,97,98,99,100,101,102,103,104,105,106,107,108,109,110,111,112,113,114,115,116,117,118,119,120,121,122,123,124,125,126,127,128,129,130,131,132,133,134,135,136,137,138,139,140,141,142,143,144,145,146,147,148,149,150,151,152,153,154,155,156,157,158,159,160,161,162,163,164,165,166,167,168,169,170,171,172,173,174,175,176,177,178,179,180,181,182,183,184,185,186,187,188,189,190,191,192,193,194,195,196,197,198,199,200,201,202,203,204,205,206,207,208,209,210,211,212,213,214,215,216,217,218,219,220,221,222,223,224,225,226,227,228,229,230,231,232,233,234,235,236,237,238,239,240,241,242,243,244,245,246,247,248,249,250,251,252,253,254,255,256,257,258,259,260,261,262,263,264,265,266,267,268,269,270,271,272,273,274,275,276,277,278,279,280,281,282,283,284,285,286,287,288,289,290,291,292,293,294,295,296,297,298,299,300,301,302,303,304,305,306,307,308,309,310,311,312,313,314,315,316,317,318,319,320,321,322,323,324,325,326,327,328,329,330,331,332,333,334,335,336,337,338,339,340,341,342,343,344,345,346,347,348,349,350,351,352,353,354,355,356,357,358,359,360,361,362,363,364,365,366,367,368,369,370,371,372,373,374,375,376,377,378,379,380,381,382,383,384,385,386,387,388,389,390,391,392,393,394,395,396,397,398,399,400,401,402,403,404,405,406,407,408,409,410,411,412,413,414,415,416,417,418,419,420,421,422,423,424,425,426,427,428,429,430,431,432,433,434,435,436,437,438,439,440,441,442,443,444,445,446,447,448,449,450,451,452,453,454,455,456,457,458,459,460,461,462,463,464,465,466,467,468,469,470,471,472,473,474,475,476,477,478,479,480,481,482,483,484,485,486,487,488,489,490,491,492,493,494,495,496,497,498,499,500],\"y\":[33403.5078125,21632.048828125,13360.060546875,10699.1767578125,9304.1875,8992.205078125,8736.7626953125,8650.6513671875,8547.34765625,8525.6875,8489.2900390625,8496.322265625,8386.265625,8380.6357421875,8356.849609375,8351.6328125,8333.6533203125,8290.552734375,8309.9912109375,8265.78125,8279.40234375,8268.462890625,8233.7646484375,8268.5361328125,8210.7294921875,8235.197265625,8211.1962890625,8203.6865234375,8188.8447265625,8196.802734375,8166.0322265625,8172.05859375,8150.9404296875,8218.9677734375,8162.806640625,8122.6357421875,8134.716796875,8144.95947265625,8133.35693359375,8148.35498046875,8106.783203125,8163.01416015625,8134.51220703125,8114.3671875,8085.60205078125,8088.9814453125,8090.03857421875,8100.54296875,8120.33154296875,8091.24951171875,8079.1494140625,8086.04150390625,8080.986328125,8076.275390625,8065.20166015625,8083.06396484375,8046.59423828125,8062.75439453125,8058.18798828125,8061.0498046875,8026.54296875,8066.84716796875,8055.60302734375,8041.287109375,8035.75341796875,8064.9443359375,8046.57763671875,8029.3935546875,8022.1748046875,8041.7158203125,8058.5595703125,8033.0859375,8025.13037109375,8036.8232421875,8056.369140625,8065.58349609375,8189.21435546875,8010.10986328125,8024.19189453125,8015.7001953125,7994.94140625,8000.38916015625,8018.458984375,7978.45556640625,7998.90966796875,8029.66455078125,8022.80224609375,8003.0576171875,7980.6982421875,7994.384765625,7966.71923828125,7980.5849609375,7980.7353515625,8020.21875,8041.6708984375,8025.1181640625,8117.63818359375,7998.970703125,8003.19189453125,8021.0234375,8040.0390625,7990.21044921875,8086.96728515625,8004.99609375,8008.02783203125,8004.12646484375,7966.81591796875,7984.60302734375,7971.74267578125,8004.53662109375,7997.72705078125,8025.0791015625,7995.8837890625,7970.5185546875,7976.39404296875,7970.31005859375,7962.8310546875,8068.7060546875,8017.60595703125,7987.26416015625,7987.953125,7991.8310546875,7978.5693359375,8037.8779296875,8040.90576171875,8047.833984375,7976.23388671875,7955.412109375,7974.08251953125,7944.19140625,7964.2890625,7997.056640625,7962.7470703125,7992.02734375,8019.6279296875,7971.169921875,7961.26025390625,7983.5712890625,8012.2255859375,7955.3701171875,7999.19775390625,8181.576171875,8052.89892578125,7970.515625,8032.88134765625,7936.21435546875,7957.59912109375,7995.49853515625,7976.21728515625,7956.41845703125,7957.68115234375,8012.62939453125,7984.84033203125,7971.03955078125,7956.947265625,7932.3349609375,7935.640625,8000.4921875,7972.2177734375,8033.0107421875,7933.5810546875,7972.3544921875,7939.689453125,7952.14794921875,7992.3828125,7945.60498046875,7955.48046875,8026.68896484375,7948.77783203125,7922.9970703125,7899.9560546875,7885.83154296875,7849.18994140625,7810.7333984375,7751.3740234375,7722.91455078125,7668.1259765625,7606.9794921875,7605.87353515625,7554.6337890625,7512.501953125,7539.55712890625,7485.71337890625,7434.56103515625,7457.29443359375,7415.9013671875,7433.2548828125,7408.0673828125,7417.728515625,7459.373046875,7397.40234375,7380.70849609375,7384.19287109375,7371.9130859375,7368.8720703125,7368.49609375,7338.681640625,7357.9775390625,7395.3564453125,7319.537109375,7380.92822265625,7420.73291015625,7388.55419921875,7352.8466796875,7323.8125,7348.06103515625,7354.7890625,7342.0078125,7376.71484375,7367.61279296875,7327.5537109375,7324.4052734375,7302.3623046875,7294.857421875,7300.8544921875,7297.9384765625,7308.1650390625,7290.16064453125,7310.4814453125,7289.390625,7262.22314453125,7301.4326171875,7259.30322265625,7250.095703125,7220.896484375,7248.373046875,7257.380859375,7282.615234375,7287.9462890625,7304.09375,7278.8466796875,7316.65576171875,7320.3515625,7262.78369140625,7258.380859375,7246.8212890625,7326.21875,7303.7841796875,7294.12451171875,7258.0458984375,7230.5,7245.75732421875,7216.12158203125,7211.87841796875,7238.6328125,7262.10302734375,7256.666015625,7260.52294921875,7299.08837890625,7205.875,7235.67626953125,7302.8798828125,7304.1533203125,7187.32958984375,7220.85986328125,7234.470703125,7217.00927734375,7157.38623046875,7184.990234375,7206.19482421875,7200.94287109375,7167.0693359375,7179.55908203125,7191.2412109375,7160.19970703125,7170.5537109375,7173.4755859375,7176.447265625,7201.69140625,7269.54248046875,7244.79443359375,7188.31396484375,7190.95166015625,7197.94140625,7123.32568359375,7136.83251953125,7119.7568359375,7131.32275390625,7126.5693359375,7067.39794921875,7083.92529296875,7085.068359375,7073.49072265625,7088.9912109375,7129.33251953125,7147.19482421875,7097.06689453125,7096.7509765625,7098.54638671875,7077.416015625,7121.8837890625,7196.2412109375,7168.63818359375,7087.9267578125,7164.4853515625,7113.763671875,7138.2451171875,7082.4482421875,7074.97900390625,7122.8154296875,7064.1904296875,7065.333984375,7087.08837890625,7212.39501953125,7046.8203125,7105.47509765625,7100.943359375,7029.2333984375,7048.904296875,7044.88037109375,7031.7333984375,7029.306640625,7062.1728515625,7078.93505859375,7030.7548828125,7047.46728515625,7162.06591796875,7173.21630859375,7032.44677734375,7041.64892578125,7011.41748046875,6966.14794921875,7054.26513671875,6993.271484375,6975.49072265625,6935.87646484375,6983.28515625,6969.2734375,6917.89404296875,6896.02294921875,6909.63623046875,6917.66259765625,7001.5615234375,6980.99072265625,6985.16357421875,6888.3505859375,6898.4951171875,6959.4853515625,6897.97021484375,6886.189453125,6905.88671875,6834.1572265625,6832.56640625,6838.36279296875,6866.25048828125,6825.10791015625,6781.83544921875,6762.22509765625,6725.40673828125,6755.18212890625,6730.53466796875,6704.64013671875,6703.7529296875,6797.5537109375,6764.2646484375,6622.07568359375,6579.298828125,6608.58984375,6578.31884765625,6541.9716796875,6569.69775390625,6536.7158203125,6517.39892578125,6454.7626953125,6430.7158203125,6470.99853515625,6443.671875,6485.08349609375,6460.869140625,6409.60986328125,6500.17236328125,6570.4873046875,6411.38232421875,6387.69677734375,6323.1015625,6319.2041015625,6329.1455078125,6393.95654296875,6318.19482421875,6266.0244140625,6265.2861328125,6222.23681640625,6331.703125,6273.22314453125,6106.41064453125,6150.8935546875,6102.74169921875,6154.85009765625,6063.9296875,6050.173828125,6034.46875,6013.33203125,6044.63330078125,6063.8544921875,6110.25830078125,6099.6904296875,6053.04150390625,6000.810546875,5935.54296875,5965.267578125,5911.25732421875,5967.39794921875,5886.81103515625,5882.16064453125,5879.69140625,5831.83740234375,5770.7490234375,5737.62255859375,5789.78369140625,5769.0078125,5736.88623046875,5729.93896484375,5740.95166015625,5656.14111328125,5671.4453125,5697.482421875,5665.6298828125,5732.83349609375,5664.4150390625,5807.51806640625,5779.208984375,5695.68359375,5707.111328125,5595.89111328125,5566.7099609375,5535.78271484375,5588.259765625,5645.3994140625,5528.76611328125,5559.19775390625,5533.013671875,5550.87646484375,5457.60888671875,5532.13427734375,5482.42431640625,5403.11865234375,5430.5166015625,5406.63427734375,5412.248046875,5482.51123046875,5574.46875,5445.34033203125,5442.3916015625,5544.8935546875,5392.14404296875,5435.79052734375,5456.13134765625,5477.9248046875,5369.19091796875,5283.9423828125,5302.10302734375,5298.89453125,5296.8916015625,5404.70703125,5435.62255859375,5341.9111328125,5407.9072265625,5327.1044921875,5260.70654296875,5292.572265625,5370.8388671875,5308.98291015625,5275.8798828125,5255.1953125,5339.9619140625,5301.6044921875,5311.0126953125,5152.43994140625,5189.5927734375,5175.7197265625,5143.90087890625,5239.1396484375,5264.38720703125,5267.55078125,5293.8828125,5181.96630859375,5207.64892578125,5123.1259765625,5130.76416015625,5122.64794921875,5109.22412109375,5190.70654296875,5130.16455078125,5099.50537109375,5148.841796875,5145.2001953125,5084.17138671875,5111.64453125,5120.00537109375,5089.412109375,5164.326171875,5163.30517578125,5094.82275390625,5018.4306640625,5076.6328125,4999.23779296875,5000.6806640625,5039.44580078125,5108.29736328125,5021.25],\"type\":\"scatter\"},{\"line\":{\"color\":\"blue\"},\"mode\":\"lines+markers\",\"name\":\"Test\",\"x\":[1,2,3,4,5,6,7,8,9,10,11,12,13,14,15,16,17,18,19,20,21,22,23,24,25,26,27,28,29,30,31,32,33,34,35,36,37,38,39,40,41,42,43,44,45,46,47,48,49,50,51,52,53,54,55,56,57,58,59,60,61,62,63,64,65,66,67,68,69,70,71,72,73,74,75,76,77,78,79,80,81,82,83,84,85,86,87,88,89,90,91,92,93,94,95,96,97,98,99,100,101,102,103,104,105,106,107,108,109,110,111,112,113,114,115,116,117,118,119,120,121,122,123,124,125,126,127,128,129,130,131,132,133,134,135,136,137,138,139,140,141,142,143,144,145,146,147,148,149,150,151,152,153,154,155,156,157,158,159,160,161,162,163,164,165,166,167,168,169,170,171,172,173,174,175,176,177,178,179,180,181,182,183,184,185,186,187,188,189,190,191,192,193,194,195,196,197,198,199,200,201,202,203,204,205,206,207,208,209,210,211,212,213,214,215,216,217,218,219,220,221,222,223,224,225,226,227,228,229,230,231,232,233,234,235,236,237,238,239,240,241,242,243,244,245,246,247,248,249,250,251,252,253,254,255,256,257,258,259,260,261,262,263,264,265,266,267,268,269,270,271,272,273,274,275,276,277,278,279,280,281,282,283,284,285,286,287,288,289,290,291,292,293,294,295,296,297,298,299,300,301,302,303,304,305,306,307,308,309,310,311,312,313,314,315,316,317,318,319,320,321,322,323,324,325,326,327,328,329,330,331,332,333,334,335,336,337,338,339,340,341,342,343,344,345,346,347,348,349,350,351,352,353,354,355,356,357,358,359,360,361,362,363,364,365,366,367,368,369,370,371,372,373,374,375,376,377,378,379,380,381,382,383,384,385,386,387,388,389,390,391,392,393,394,395,396,397,398,399,400,401,402,403,404,405,406,407,408,409,410,411,412,413,414,415,416,417,418,419,420,421,422,423,424,425,426,427,428,429,430,431,432,433,434,435,436,437,438,439,440,441,442,443,444,445,446,447,448,449,450,451,452,453,454,455,456,457,458,459,460,461,462,463,464,465,466,467,468,469,470,471,472,473,474,475,476,477,478,479,480,481,482,483,484,485,486,487,488,489,490,491,492,493,494,495,496,497,498,499,500],\"y\":[29557.52734375,14912.8544921875,10971.693359375,9243.55078125,8639.3994140625,8412.4677734375,8214.091796875,8167.49853515625,8100.75390625,8108.9501953125,8025.1181640625,8066.08544921875,7988.9931640625,8018.4462890625,8006.720703125,7980.712890625,7977.4228515625,7984.54833984375,7974.708984375,7974.51513671875,7943.82275390625,8006.8310546875,7975.43701171875,7973.166015625,8050.99658203125,7944.01513671875,8022.65234375,7963.3876953125,7939.35400390625,7981.5859375,7917.80419921875,7975.98388671875,8047.99755859375,7953.18359375,8008.16259765625,7952.06201171875,7981.97216796875,7998.87890625,8018.5927734375,7962.5693359375,8085.88671875,7992.943359375,8086.3310546875,7984.08056640625,7998.21728515625,7979.0087890625,7990.1328125,7971.314453125,8041.92919921875,7953.9189453125,7937.44677734375,8044.2666015625,7996.5068359375,7955.576171875,8070.5146484375,7963.134765625,7953.8828125,7935.8994140625,7972.59423828125,7946.25439453125,7959.8994140625,7893.38134765625,7939.06201171875,7977.3837890625,8021.4384765625,7938.42919921875,7937.83251953125,7905.234375,7963.87646484375,7940.16748046875,7926.8251953125,7949.5283203125,7923.23291015625,7967.66748046875,7924.5166015625,7970.328125,7968.28125,8017.61181640625,7899.2060546875,7938.5517578125,7932.53125,7952.10107421875,7911.5693359375,7940.1923828125,7902.36181640625,7989.4716796875,7950.12646484375,7918.92724609375,7942.5185546875,7906.6669921875,7973.2880859375,7946.64501953125,7941.59521484375,7896.7431640625,7979.421875,8158.55322265625,7978.62939453125,7970.767578125,7937.07177734375,7930.35693359375,7935.5673828125,7963.1689453125,7952.64501953125,7908.58837890625,7970.44287109375,7908.8505859375,7935.4404296875,7910.623046875,8005.48583984375,8038.7626953125,7971.75830078125,7965.853515625,7937.87451171875,7920.20263671875,7962.50732421875,7928.69287109375,8059.0029296875,8103.25048828125,7939.83642578125,7983.46240234375,7916.326171875,7923.02978515625,8016.06494140625,8039.31494140625,8068.060546875,8079.673828125,7991.38671875,7985.9443359375,7950.94140625,7920.90625,8043.13525390625,8101.65576171875,8062.6728515625,8233.1875,7929.4990234375,7980.06884765625,7947.75390625,8055.86328125,8038.57861328125,7901.63671875,7996.4365234375,8487.4580078125,7938.046875,8130.98193359375,7925.921875,7957.6494140625,8090.70458984375,7939.60302734375,7961.474609375,7974.32275390625,7931.65771484375,7984.74072265625,7912.8466796875,8026.18359375,7978.46728515625,7971.0029296875,8110.53662109375,8102.94189453125,7950.33544921875,7950.9951171875,7963.224609375,8013.7744140625,8074.03076171875,8057.08154296875,7952.0087890625,7969.49609375,8032.01806640625,7984.00439453125,7930.50927734375,7952.43115234375,7924.51318359375,7967.7265625,7880.7431640625,7862.56884765625,7900.86083984375,7855.27197265625,7745.43505859375,7743.80859375,7671.95751953125,7663.0654296875,7702.8203125,7675.75439453125,7649.81982421875,7628.84912109375,7687.68212890625,7735.17822265625,7615.54541015625,7637.63037109375,7828.11083984375,7610.78369140625,7583.1884765625,7680.0908203125,7630.4111328125,7635.98486328125,7762.7939453125,7606.8515625,7614.46337890625,7598.60400390625,7608.40869140625,7643.37890625,7737.0166015625,7676.21533203125,7685.54150390625,7568.85107421875,7623.06982421875,7684.1513671875,7595.13232421875,7674.57763671875,7650.01708984375,7602.93994140625,7579.8173828125,7682.00732421875,7581.3994140625,7570.10888671875,7618.37548828125,7554.53466796875,7593.1416015625,7681.64501953125,7509.09814453125,7625.30078125,7555.357421875,7601.6513671875,7554.0537109375,7576.25439453125,7566.337890625,7621.3818359375,7594.35498046875,7678.12841796875,7610.9130859375,7704.4580078125,7585.416015625,7782.271484375,7630.51171875,7548.9091796875,7596.71142578125,7532.6455078125,7685.21533203125,7569.31396484375,7574.0234375,7539.75732421875,7576.39404296875,7613.24365234375,7551.37255859375,7603.94189453125,7596.34912109375,7577.97705078125,7692.060546875,7601.64794921875,7667.0078125,7550.046875,7636.30078125,7681.34716796875,7573.29052734375,7576.0048828125,7636.9130859375,7589.49072265625,7585.9755859375,7658.57861328125,7631.98779296875,7643.99853515625,7644.1171875,7682.15380859375,7608.7080078125,7608.72998046875,7625.17138671875,7619.29150390625,7608.67138671875,7705.50341796875,7710.7216796875,7768.68310546875,7589.18603515625,7664.904296875,7655.58837890625,7662.31591796875,7729.0439453125,7614.763671875,7671.33203125,7676.05908203125,7605.34521484375,7628.91845703125,7578.751953125,7701.146484375,7605.5712890625,7660.62646484375,7633.484375,7610.048828125,7651.03955078125,7655.13720703125,7620.59765625,7660.93798828125,7784.53271484375,7778.86474609375,7647.8046875,7775.74609375,7617.7734375,7628.638671875,7707.2041015625,7699.6669921875,7753.025390625,7598.74169921875,7760.28955078125,7706.01171875,7743.72265625,7667.873046875,7749.07470703125,7743.61328125,7787.728515625,7714.15478515625,7591.5546875,7680.28857421875,7658.572265625,7694.08837890625,7598.1943359375,7663.0830078125,7688.8720703125,7792.18017578125,7927.50732421875,7707.22607421875,7648.96240234375,7678.02392578125,7614.072265625,7621.71826171875,7648.34716796875,7635.30712890625,7651.55322265625,7760.24072265625,7665.11572265625,7674.2275390625,7641.69091796875,7710.8916015625,7665.3037109375,7734.1083984375,7663.6796875,7660.78955078125,7617.94189453125,7680.90869140625,7703.1259765625,7709.86865234375,7650.787109375,7780.9619140625,7642.70654296875,7699.54248046875,7657.14453125,7713.8818359375,7684.12158203125,7659.9033203125,7591.31494140625,7676.6982421875,7664.43505859375,7760.255859375,7673.62109375,7670.38525390625,7592.50634765625,7669.25,7581.8369140625,7566.48388671875,7620.59228515625,7563.6259765625,7585.05419921875,7574.453125,7618.203125,7616.62841796875,7600.38720703125,7527.68798828125,7649.3818359375,7554.57421875,7545.79150390625,7536.3935546875,7577.5908203125,7706.04833984375,8004.19384765625,7612.0791015625,7478.27490234375,7616.8525390625,7675.86181640625,7709.62744140625,7710.1767578125,7759.0849609375,7542.6953125,7694.2666015625,7557.14794921875,7706.96484375,7751.54248046875,7553.58349609375,7745.78955078125,7617.25439453125,7681.29541015625,7658.22119140625,7636.6474609375,7621.10546875,7678.2158203125,7644.7939453125,7725.8984375,7775.966796875,7763.388671875,7751.36572265625,8012.6884765625,7683.71044921875,7620.9638671875,7672.9931640625,7704.47509765625,7819.4951171875,7754.22509765625,7694.7353515625,7709.9150390625,7833.92724609375,7844.80517578125,7830.46044921875,7922.171875,7920.91943359375,7853.7998046875,7883.70556640625,7809.076171875,7836.76171875,7789.2314453125,7995.3369140625,7909.81884765625,7953.4208984375,8179.4765625,8175.51806640625,7793.814453125,7912.236328125,7931.513671875,7800.7265625,7862.14501953125,7841.15625,7939.23583984375,7794.3916015625,7970.20654296875,7797.81201171875,8141.74267578125,7934.43359375,7977.99365234375,8013.25341796875,7948.61962890625,7985.73974609375,7973.57421875,7982.48291015625,8079.6689453125,8262.7490234375,8057.4560546875,8133.91796875,7924.826171875,7978.7744140625,8068.93701171875,7969.11572265625,7940.08984375,7986.4013671875,7936.60400390625,7956.11669921875,7948.75830078125,7903.5546875,7961.19580078125,8237.0390625,8232.8876953125,8109.77783203125,7951.99365234375,7932.99658203125,8064.43212890625,7960.791015625,7957.28271484375,8025.9130859375,8123.34912109375,8187.5283203125,7981.04736328125,8075.83642578125,8049.455078125,8006.86181640625,8008.7958984375,8052.91650390625,7957.6962890625,8148.15234375,7983.0078125,7983.84765625,8254.2373046875,8078.39111328125,8194.9970703125,8038.607421875,8094.427734375,8000.20166015625,8355.8173828125,8035.24169921875,7989.447265625,8278.0625,8025.78564453125,7937.80029296875,8105.98876953125,8306.388671875,8182.6484375,8088.77099609375,8294.6416015625,8194.2861328125,8063.3515625,8125.25634765625,8206.921875,8292.720703125,8216.4912109375,8129.61328125,8357.2646484375,8138.34375],\"type\":\"scatter\"}],                        {\"template\":{\"data\":{\"histogram2dcontour\":[{\"type\":\"histogram2dcontour\",\"colorbar\":{\"outlinewidth\":0,\"ticks\":\"\"},\"colorscale\":[[0.0,\"#0d0887\"],[0.1111111111111111,\"#46039f\"],[0.2222222222222222,\"#7201a8\"],[0.3333333333333333,\"#9c179e\"],[0.4444444444444444,\"#bd3786\"],[0.5555555555555556,\"#d8576b\"],[0.6666666666666666,\"#ed7953\"],[0.7777777777777778,\"#fb9f3a\"],[0.8888888888888888,\"#fdca26\"],[1.0,\"#f0f921\"]]}],\"choropleth\":[{\"type\":\"choropleth\",\"colorbar\":{\"outlinewidth\":0,\"ticks\":\"\"}}],\"histogram2d\":[{\"type\":\"histogram2d\",\"colorbar\":{\"outlinewidth\":0,\"ticks\":\"\"},\"colorscale\":[[0.0,\"#0d0887\"],[0.1111111111111111,\"#46039f\"],[0.2222222222222222,\"#7201a8\"],[0.3333333333333333,\"#9c179e\"],[0.4444444444444444,\"#bd3786\"],[0.5555555555555556,\"#d8576b\"],[0.6666666666666666,\"#ed7953\"],[0.7777777777777778,\"#fb9f3a\"],[0.8888888888888888,\"#fdca26\"],[1.0,\"#f0f921\"]]}],\"heatmap\":[{\"type\":\"heatmap\",\"colorbar\":{\"outlinewidth\":0,\"ticks\":\"\"},\"colorscale\":[[0.0,\"#0d0887\"],[0.1111111111111111,\"#46039f\"],[0.2222222222222222,\"#7201a8\"],[0.3333333333333333,\"#9c179e\"],[0.4444444444444444,\"#bd3786\"],[0.5555555555555556,\"#d8576b\"],[0.6666666666666666,\"#ed7953\"],[0.7777777777777778,\"#fb9f3a\"],[0.8888888888888888,\"#fdca26\"],[1.0,\"#f0f921\"]]}],\"heatmapgl\":[{\"type\":\"heatmapgl\",\"colorbar\":{\"outlinewidth\":0,\"ticks\":\"\"},\"colorscale\":[[0.0,\"#0d0887\"],[0.1111111111111111,\"#46039f\"],[0.2222222222222222,\"#7201a8\"],[0.3333333333333333,\"#9c179e\"],[0.4444444444444444,\"#bd3786\"],[0.5555555555555556,\"#d8576b\"],[0.6666666666666666,\"#ed7953\"],[0.7777777777777778,\"#fb9f3a\"],[0.8888888888888888,\"#fdca26\"],[1.0,\"#f0f921\"]]}],\"contourcarpet\":[{\"type\":\"contourcarpet\",\"colorbar\":{\"outlinewidth\":0,\"ticks\":\"\"}}],\"contour\":[{\"type\":\"contour\",\"colorbar\":{\"outlinewidth\":0,\"ticks\":\"\"},\"colorscale\":[[0.0,\"#0d0887\"],[0.1111111111111111,\"#46039f\"],[0.2222222222222222,\"#7201a8\"],[0.3333333333333333,\"#9c179e\"],[0.4444444444444444,\"#bd3786\"],[0.5555555555555556,\"#d8576b\"],[0.6666666666666666,\"#ed7953\"],[0.7777777777777778,\"#fb9f3a\"],[0.8888888888888888,\"#fdca26\"],[1.0,\"#f0f921\"]]}],\"surface\":[{\"type\":\"surface\",\"colorbar\":{\"outlinewidth\":0,\"ticks\":\"\"},\"colorscale\":[[0.0,\"#0d0887\"],[0.1111111111111111,\"#46039f\"],[0.2222222222222222,\"#7201a8\"],[0.3333333333333333,\"#9c179e\"],[0.4444444444444444,\"#bd3786\"],[0.5555555555555556,\"#d8576b\"],[0.6666666666666666,\"#ed7953\"],[0.7777777777777778,\"#fb9f3a\"],[0.8888888888888888,\"#fdca26\"],[1.0,\"#f0f921\"]]}],\"mesh3d\":[{\"type\":\"mesh3d\",\"colorbar\":{\"outlinewidth\":0,\"ticks\":\"\"}}],\"scatter\":[{\"fillpattern\":{\"fillmode\":\"overlay\",\"size\":10,\"solidity\":0.2},\"type\":\"scatter\"}],\"parcoords\":[{\"type\":\"parcoords\",\"line\":{\"colorbar\":{\"outlinewidth\":0,\"ticks\":\"\"}}}],\"scatterpolargl\":[{\"type\":\"scatterpolargl\",\"marker\":{\"colorbar\":{\"outlinewidth\":0,\"ticks\":\"\"}}}],\"bar\":[{\"error_x\":{\"color\":\"#2a3f5f\"},\"error_y\":{\"color\":\"#2a3f5f\"},\"marker\":{\"line\":{\"color\":\"#E5ECF6\",\"width\":0.5},\"pattern\":{\"fillmode\":\"overlay\",\"size\":10,\"solidity\":0.2}},\"type\":\"bar\"}],\"scattergeo\":[{\"type\":\"scattergeo\",\"marker\":{\"colorbar\":{\"outlinewidth\":0,\"ticks\":\"\"}}}],\"scatterpolar\":[{\"type\":\"scatterpolar\",\"marker\":{\"colorbar\":{\"outlinewidth\":0,\"ticks\":\"\"}}}],\"histogram\":[{\"marker\":{\"pattern\":{\"fillmode\":\"overlay\",\"size\":10,\"solidity\":0.2}},\"type\":\"histogram\"}],\"scattergl\":[{\"type\":\"scattergl\",\"marker\":{\"colorbar\":{\"outlinewidth\":0,\"ticks\":\"\"}}}],\"scatter3d\":[{\"type\":\"scatter3d\",\"line\":{\"colorbar\":{\"outlinewidth\":0,\"ticks\":\"\"}},\"marker\":{\"colorbar\":{\"outlinewidth\":0,\"ticks\":\"\"}}}],\"scattermapbox\":[{\"type\":\"scattermapbox\",\"marker\":{\"colorbar\":{\"outlinewidth\":0,\"ticks\":\"\"}}}],\"scatterternary\":[{\"type\":\"scatterternary\",\"marker\":{\"colorbar\":{\"outlinewidth\":0,\"ticks\":\"\"}}}],\"scattercarpet\":[{\"type\":\"scattercarpet\",\"marker\":{\"colorbar\":{\"outlinewidth\":0,\"ticks\":\"\"}}}],\"carpet\":[{\"aaxis\":{\"endlinecolor\":\"#2a3f5f\",\"gridcolor\":\"white\",\"linecolor\":\"white\",\"minorgridcolor\":\"white\",\"startlinecolor\":\"#2a3f5f\"},\"baxis\":{\"endlinecolor\":\"#2a3f5f\",\"gridcolor\":\"white\",\"linecolor\":\"white\",\"minorgridcolor\":\"white\",\"startlinecolor\":\"#2a3f5f\"},\"type\":\"carpet\"}],\"table\":[{\"cells\":{\"fill\":{\"color\":\"#EBF0F8\"},\"line\":{\"color\":\"white\"}},\"header\":{\"fill\":{\"color\":\"#C8D4E3\"},\"line\":{\"color\":\"white\"}},\"type\":\"table\"}],\"barpolar\":[{\"marker\":{\"line\":{\"color\":\"#E5ECF6\",\"width\":0.5},\"pattern\":{\"fillmode\":\"overlay\",\"size\":10,\"solidity\":0.2}},\"type\":\"barpolar\"}],\"pie\":[{\"automargin\":true,\"type\":\"pie\"}]},\"layout\":{\"autotypenumbers\":\"strict\",\"colorway\":[\"#636efa\",\"#EF553B\",\"#00cc96\",\"#ab63fa\",\"#FFA15A\",\"#19d3f3\",\"#FF6692\",\"#B6E880\",\"#FF97FF\",\"#FECB52\"],\"font\":{\"color\":\"#2a3f5f\"},\"hovermode\":\"closest\",\"hoverlabel\":{\"align\":\"left\"},\"paper_bgcolor\":\"white\",\"plot_bgcolor\":\"#E5ECF6\",\"polar\":{\"bgcolor\":\"#E5ECF6\",\"angularaxis\":{\"gridcolor\":\"white\",\"linecolor\":\"white\",\"ticks\":\"\"},\"radialaxis\":{\"gridcolor\":\"white\",\"linecolor\":\"white\",\"ticks\":\"\"}},\"ternary\":{\"bgcolor\":\"#E5ECF6\",\"aaxis\":{\"gridcolor\":\"white\",\"linecolor\":\"white\",\"ticks\":\"\"},\"baxis\":{\"gridcolor\":\"white\",\"linecolor\":\"white\",\"ticks\":\"\"},\"caxis\":{\"gridcolor\":\"white\",\"linecolor\":\"white\",\"ticks\":\"\"}},\"coloraxis\":{\"colorbar\":{\"outlinewidth\":0,\"ticks\":\"\"}},\"colorscale\":{\"sequential\":[[0.0,\"#0d0887\"],[0.1111111111111111,\"#46039f\"],[0.2222222222222222,\"#7201a8\"],[0.3333333333333333,\"#9c179e\"],[0.4444444444444444,\"#bd3786\"],[0.5555555555555556,\"#d8576b\"],[0.6666666666666666,\"#ed7953\"],[0.7777777777777778,\"#fb9f3a\"],[0.8888888888888888,\"#fdca26\"],[1.0,\"#f0f921\"]],\"sequentialminus\":[[0.0,\"#0d0887\"],[0.1111111111111111,\"#46039f\"],[0.2222222222222222,\"#7201a8\"],[0.3333333333333333,\"#9c179e\"],[0.4444444444444444,\"#bd3786\"],[0.5555555555555556,\"#d8576b\"],[0.6666666666666666,\"#ed7953\"],[0.7777777777777778,\"#fb9f3a\"],[0.8888888888888888,\"#fdca26\"],[1.0,\"#f0f921\"]],\"diverging\":[[0,\"#8e0152\"],[0.1,\"#c51b7d\"],[0.2,\"#de77ae\"],[0.3,\"#f1b6da\"],[0.4,\"#fde0ef\"],[0.5,\"#f7f7f7\"],[0.6,\"#e6f5d0\"],[0.7,\"#b8e186\"],[0.8,\"#7fbc41\"],[0.9,\"#4d9221\"],[1,\"#276419\"]]},\"xaxis\":{\"gridcolor\":\"white\",\"linecolor\":\"white\",\"ticks\":\"\",\"title\":{\"standoff\":15},\"zerolinecolor\":\"white\",\"automargin\":true,\"zerolinewidth\":2},\"yaxis\":{\"gridcolor\":\"white\",\"linecolor\":\"white\",\"ticks\":\"\",\"title\":{\"standoff\":15},\"zerolinecolor\":\"white\",\"automargin\":true,\"zerolinewidth\":2},\"scene\":{\"xaxis\":{\"backgroundcolor\":\"#E5ECF6\",\"gridcolor\":\"white\",\"linecolor\":\"white\",\"showbackground\":true,\"ticks\":\"\",\"zerolinecolor\":\"white\",\"gridwidth\":2},\"yaxis\":{\"backgroundcolor\":\"#E5ECF6\",\"gridcolor\":\"white\",\"linecolor\":\"white\",\"showbackground\":true,\"ticks\":\"\",\"zerolinecolor\":\"white\",\"gridwidth\":2},\"zaxis\":{\"backgroundcolor\":\"#E5ECF6\",\"gridcolor\":\"white\",\"linecolor\":\"white\",\"showbackground\":true,\"ticks\":\"\",\"zerolinecolor\":\"white\",\"gridwidth\":2}},\"shapedefaults\":{\"line\":{\"color\":\"#2a3f5f\"}},\"annotationdefaults\":{\"arrowcolor\":\"#2a3f5f\",\"arrowhead\":0,\"arrowwidth\":1},\"geo\":{\"bgcolor\":\"white\",\"landcolor\":\"#E5ECF6\",\"subunitcolor\":\"white\",\"showland\":true,\"showlakes\":true,\"lakecolor\":\"white\"},\"title\":{\"x\":0.05},\"mapbox\":{\"style\":\"light\"}}},\"xaxis\":{\"anchor\":\"y\",\"domain\":[0.0,1.0],\"title\":{\"text\":\"Epochs\"}},\"yaxis\":{\"anchor\":\"x\",\"domain\":[0.0,1.0],\"title\":{\"text\":\"RMSE\"}},\"legend\":{\"tracegroupgap\":0},\"title\":{\"text\":\"train RMSE vs test RMSE\"}},                        {\"responsive\": true}                    ).then(function(){\n",
              "                            \n",
              "var gd = document.getElementById('0c7d9cf9-a5c0-473c-9894-3899d8e2d005');\n",
              "var x = new MutationObserver(function (mutations, observer) {{\n",
              "        var display = window.getComputedStyle(gd).display;\n",
              "        if (!display || display === 'none') {{\n",
              "            console.log([gd, 'removed!']);\n",
              "            Plotly.purge(gd);\n",
              "            observer.disconnect();\n",
              "        }}\n",
              "}});\n",
              "\n",
              "// Listen for the removal of the full notebook cells\n",
              "var notebookContainer = gd.closest('#notebook-container');\n",
              "if (notebookContainer) {{\n",
              "    x.observe(notebookContainer, {childList: true});\n",
              "}}\n",
              "\n",
              "// Listen for the clearing of the current output cell\n",
              "var outputEl = gd.closest('.output');\n",
              "if (outputEl) {{\n",
              "    x.observe(outputEl, {childList: true});\n",
              "}}\n",
              "\n",
              "                        })                };                            </script>        </div>\n",
              "</body>\n",
              "</html>"
            ]
          },
          "metadata": {},
          "output_type": "display_data"
        }
      ],
      "source": [
        "hist_train_rmse = np.array(history.history[\"root_mean_squared_error\"])\n",
        "hist_dev_rmse = np.array(history.history[\"val_root_mean_squared_error\"])\n",
        "\n",
        "# Create the array for the x axis, starting from 1\n",
        "x = np.arange(1, len(history.history[\"root_mean_squared_error\"])+1)\n",
        "\n",
        "# Create a line chart with two lines using Plotly Express\n",
        "fig = px.line(title='train RMSE vs dev RMSE')\n",
        "fig.add_scatter(x=x, y=hist_train_rmse, mode='lines+markers', name='Train', line=dict(color='red'))\n",
        "fig.add_scatter(x=x, y=hist_dev_rmse, mode='lines+markers', name='Dev', line=dict(color='blue'))\n",
        "\n",
        "# Set chart title and axis labels\n",
        "fig.update_layout(\n",
        "    xaxis_title='Epochs',\n",
        "    yaxis_title='RMSE'\n",
        ")\n",
        "\n",
        "# Show the chart\n",
        "fig.show()"
      ]
    },
    {
      "cell_type": "code",
      "execution_count": null,
      "id": "qg2TMtxJUzVm",
      "metadata": {
        "colab": {
          "base_uri": "https://localhost:8080/"
        },
        "id": "qg2TMtxJUzVm",
        "outputId": "27112e65-201e-42f1-927e-bf8c20614373"
      },
      "outputs": [
        {
          "name": "stderr",
          "output_type": "stream",
          "text": [
            "/usr/local/lib/python3.9/dist-packages/ipykernel/ipkernel.py:283: DeprecationWarning:\n",
            "\n",
            "`should_run_async` will not call `transform_cell` automatically in the future. Please pass the result to `transformed_cell` argument and any exception that happen during thetransform in `preprocessing_exc_tuple` in IPython 7.17 and above.\n",
            "\n"
          ]
        },
        {
          "name": "stdout",
          "output_type": "stream",
          "text": [
            "92/92 [==============================] - 1s 10ms/step\n",
            "Trai RMSE: 2623.097985\n",
            "23/23 [==============================] - 0s 8ms/step\n",
            "Test RMSE: 8387.871121\n"
          ]
        }
      ],
      "source": [
        "preds_train = model.predict(X_train_scaled)\n",
        "\n",
        "# Evaluate the model's performance using RMSE\n",
        "rmse_train = np.sqrt(mean_squared_error(y_train, preds_train))\n",
        "print(\"Trai RMSE: %f\" % (rmse_train))\n",
        "\n",
        "preds_dev = model.predict(x_dev_scaled)\n",
        "\n",
        "# Evaluate the model's performance using RMSE\n",
        "rmse_dev = np.sqrt(mean_squared_error(y_dev, preds_dev))\n",
        "print(\"Dev RMSE: %f\" % (rmse_dev))"
      ]
    },
    {
      "cell_type": "markdown",
      "id": "35YvxR1B1tcY",
      "metadata": {
        "id": "35YvxR1B1tcY"
      },
      "source": [
        "<a name=\"5.4.\"></a>\n",
        "## 5.4. Recurrent Neural Network\n",
        "[Content](#content)\n",
        "\n",
        "Lastly, we train an RNN to compare to the previous two models. A RNN can take in multiple timesteps, to make a prediction (Many-to-One). Specifically, we will feed in 4 timesteps at a time (current day and the 3 previous days) and output the prediction of the current day.\n",
        "\n",
        "Out input shape is therefore (none, 4, 21), where none represents a variable amount of training days (in our case the length of X_train)."
      ]
    },
    {
      "cell_type": "code",
      "execution_count": null,
      "id": "J7cPlQdTzEmQ",
      "metadata": {
        "id": "J7cPlQdTzEmQ"
      },
      "outputs": [],
      "source": [
        "# Load the data into a pandas dataframe\n",
        "data = df_transformed_date\n",
        "\n",
        "# Define the features and target\n",
        "# Higly correlated features have been removed (tavg, tmax, wpgt)\n",
        "features = ['year', 'month', 'day', 'weekday', 'tmax', 'prcp',\n",
        "            'snow', 'wspd', 'pres', 'tsun',\n",
        "            'holiday_1_weihnachtsfeiertag', 'holiday_2_weihnachtsfeiertag',\n",
        "            'holiday_christi_himmelfahrt', 'holiday_karfreitag', 'holiday_neujahr',\n",
        "            'holiday_ostermontag', 'holiday_pfingstmontag', 'holiday_reformationstag',\n",
        "            'holiday_tag_der_arbeit', 'holiday_tag_der_deutschen_einheit',\n",
        "            'vacation']\n",
        "\n",
        "target = 'total'\n",
        "\n",
        "# Split the data into training and dev sets\n",
        "X_train, X_dev, y_train, y_dev = train_test_split(data[features], data[target],\n",
        "                                                    test_size=0.2, shuffle=False, random_state=0)"
      ]
    },
    {
      "cell_type": "code",
      "execution_count": null,
      "id": "sOTf5esj1181",
      "metadata": {
        "id": "sOTf5esj1181"
      },
      "outputs": [],
      "source": [
        "from keras.models import Sequential\n",
        "from keras.layers import LSTM, Dense\n",
        "from sklearn.metrics import mean_squared_error\n",
        "from sklearn.model_selection import train_test_split\n",
        "from keras.optimizers import Adam\n",
        "\n",
        "# Assuming X_train, x_dev, y_train, y_dev are already defined and contain the appropriate data\n",
        "\n",
        "\n",
        "\n",
        "\n",
        "num_samples = X_train.shape[0]\n",
        "# Build the LSTM model\n",
        "\"\"\"\n",
        "model = Sequential()\n",
        "model.add(LSTM(units=256, input_shape=(1, X_train.shape[1]), activation='relu'))\n",
        "# Add a dense output layer with a single unit (for regression) and no activation function\n",
        "model.add(Dense(units=1))\n",
        "\"\"\"\n",
        "\"\"\"\n",
        "model = tf.keras.models.Sequential([\n",
        "    # Shape [batch, time, features] => [batch, time, lstm_units]\n",
        "    tf.keras.layers.LSTM(64),\n",
        "    # Shape => [batch, time, features]\n",
        "    tf.keras.layers.Dense(units=1)\n",
        "])\n",
        "\"\"\"\n",
        "\n",
        "model.add(LSTM(50, activation='relu', input_shape=(n_steps, n_features)))\n",
        "model.add(Dense(1))\n",
        "\n",
        "\n",
        "# Build the LSTM model\n",
        "model = tf.keras.models.Sequential([\n",
        "    tf.keras.layers.LSTM(256, activation='relu'),\n",
        "    # Shape [batch, time, features] => [batch, time, lstm_units]\n",
        "    tf.keras.layers.LSTM(128, activation='relu'),\n",
        "    # Add another LSTM layer with 128 units and ReLU activation\n",
        "    tf.keras.layers.LSTM(64, activation='relu'),\n",
        "    # Shape => [batch, time, features]\n",
        "    tf.keras.layers.Dense(units=1)\n",
        "])\n",
        "\n",
        "X_train_3d = np.reshape(X_train.to_numpy(), (num_samples, 1, X_train.shape[1]))  # Fix variable name\n",
        "model.compile(loss=tf.keras.losses.MeanSquaredError(),\n",
        "              optimizer=Adam(learning_rate=0.001),\n",
        "              metrics=[tf.keras.metrics.MeanAbsoluteError()])\n",
        "\n",
        "# Train the model\n",
        "model.fit(X_train_3d, y_train, epochs=100, batch_size=64, verbose=1)"
      ]
    },
    {
      "cell_type": "code",
      "execution_count": null,
      "id": "VKXsUKtg3Hf7",
      "metadata": {
        "id": "VKXsUKtg3Hf7"
      },
      "outputs": [],
      "source": [
        "# Predict on the dev set\n",
        "#x_dev_3d = np.reshape(x_dev.to_numpy(), (x_dev.shape[0], 1, x_dev.shape[1]))  # Reshape x_dev\n",
        "\n",
        "num_samples = x_dev.shape[0]\n",
        "x_dev_3d = np.reshape(x_dev.to_numpy(), (num_samples, 1, x_dev.shape[1]))  # Fix variable name\n",
        "preds = model.predict(x_dev_3d)\n",
        "\n",
        "# Evaluate the model's performance using RMSE\n",
        "rmse = np.sqrt(mean_squared_error(y_dev, np.reshape(preds, (y_dev.shape[0]))))\n",
        "print(\"RMSE: %f\" % (rmse))\n"
      ]
    }
  ],
  "metadata": {
    "colab": {
      "provenance": []
    },
    "kernelspec": {
      "display_name": "Python 3 (ipykernel)",
      "language": "python",
      "name": "python3"
    },
    "language_info": {
      "codemirror_mode": {
        "name": "ipython",
        "version": 3
      },
      "file_extension": ".py",
      "mimetype": "text/x-python",
      "name": "python",
      "nbconvert_exporter": "python",
      "pygments_lexer": "ipython3",
      "version": "3.9.2"
    }
  },
  "nbformat": 4,
  "nbformat_minor": 5
}